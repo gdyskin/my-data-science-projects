{
  "cells": [
    {
      "cell_type": "markdown",
      "metadata": {
        "id": "9Wk3mrWkT7SW"
      },
      "source": [
        "# Identify patterns that affect game sales"
      ]
    },
    {
      "cell_type": "markdown",
      "metadata": {
        "id": "ToBTTo_FT7SW"
      },
      "source": [
        "For an online store that sells computer games around the world, it is necessary, based on historical data from open sources on game sales, user and expert ratings, genres and platforms, to identify patterns that determine the success of the game. This will allow to bid on a potentially popular product and plan advertising campaigns."
      ]
    },
    {
      "cell_type": "markdown",
      "metadata": {
        "id": "1wGLHC5BT7SW"
      },
      "source": [
        "## Data preparation"
      ]
    },
    {
      "cell_type": "code",
      "execution_count": 1,
      "metadata": {
        "id": "o0kLrkmGT7SX"
      },
      "outputs": [],
      "source": [
        "import pandas as pd\n",
        "import matplotlib.pyplot as plt\n",
        "import seaborn as sns\n",
        "import numpy as np\n",
        "from scipy import stats as st"
      ]
    },
    {
      "cell_type": "code",
      "execution_count": 2,
      "metadata": {
        "id": "-E5MVE1RT7SY"
      },
      "outputs": [],
      "source": [
        "data = pd.read_csv('/content/games.csv')"
      ]
    },
    {
      "cell_type": "code",
      "execution_count": 3,
      "metadata": {
        "colab": {
          "base_uri": "https://localhost:8080/",
          "height": 340
        },
        "id": "-CE2FpwMT7SZ",
        "outputId": "58e30e42-c1b3-435f-d835-5df026d53d1a"
      },
      "outputs": [
        {
          "output_type": "execute_result",
          "data": {
            "text/plain": [
              "                       Name Platform  Year_of_Release         Genre  NA_sales  \\\n",
              "0                Wii Sports      Wii           2006.0        Sports     41.36   \n",
              "1         Super Mario Bros.      NES           1985.0      Platform     29.08   \n",
              "2            Mario Kart Wii      Wii           2008.0        Racing     15.68   \n",
              "3         Wii Sports Resort      Wii           2009.0        Sports     15.61   \n",
              "4  Pokemon Red/Pokemon Blue       GB           1996.0  Role-Playing     11.27   \n",
              "\n",
              "   EU_sales  JP_sales  Other_sales  Critic_Score User_Score Rating  \n",
              "0     28.96      3.77         8.45          76.0          8      E  \n",
              "1      3.58      6.81         0.77           NaN        NaN    NaN  \n",
              "2     12.76      3.79         3.29          82.0        8.3      E  \n",
              "3     10.93      3.28         2.95          80.0          8      E  \n",
              "4      8.89     10.22         1.00           NaN        NaN    NaN  "
            ],
            "text/html": [
              "\n",
              "  <div id=\"df-a6aaec36-02cb-4af7-9275-005555dd2ef8\">\n",
              "    <div class=\"colab-df-container\">\n",
              "      <div>\n",
              "<style scoped>\n",
              "    .dataframe tbody tr th:only-of-type {\n",
              "        vertical-align: middle;\n",
              "    }\n",
              "\n",
              "    .dataframe tbody tr th {\n",
              "        vertical-align: top;\n",
              "    }\n",
              "\n",
              "    .dataframe thead th {\n",
              "        text-align: right;\n",
              "    }\n",
              "</style>\n",
              "<table border=\"1\" class=\"dataframe\">\n",
              "  <thead>\n",
              "    <tr style=\"text-align: right;\">\n",
              "      <th></th>\n",
              "      <th>Name</th>\n",
              "      <th>Platform</th>\n",
              "      <th>Year_of_Release</th>\n",
              "      <th>Genre</th>\n",
              "      <th>NA_sales</th>\n",
              "      <th>EU_sales</th>\n",
              "      <th>JP_sales</th>\n",
              "      <th>Other_sales</th>\n",
              "      <th>Critic_Score</th>\n",
              "      <th>User_Score</th>\n",
              "      <th>Rating</th>\n",
              "    </tr>\n",
              "  </thead>\n",
              "  <tbody>\n",
              "    <tr>\n",
              "      <th>0</th>\n",
              "      <td>Wii Sports</td>\n",
              "      <td>Wii</td>\n",
              "      <td>2006.0</td>\n",
              "      <td>Sports</td>\n",
              "      <td>41.36</td>\n",
              "      <td>28.96</td>\n",
              "      <td>3.77</td>\n",
              "      <td>8.45</td>\n",
              "      <td>76.0</td>\n",
              "      <td>8</td>\n",
              "      <td>E</td>\n",
              "    </tr>\n",
              "    <tr>\n",
              "      <th>1</th>\n",
              "      <td>Super Mario Bros.</td>\n",
              "      <td>NES</td>\n",
              "      <td>1985.0</td>\n",
              "      <td>Platform</td>\n",
              "      <td>29.08</td>\n",
              "      <td>3.58</td>\n",
              "      <td>6.81</td>\n",
              "      <td>0.77</td>\n",
              "      <td>NaN</td>\n",
              "      <td>NaN</td>\n",
              "      <td>NaN</td>\n",
              "    </tr>\n",
              "    <tr>\n",
              "      <th>2</th>\n",
              "      <td>Mario Kart Wii</td>\n",
              "      <td>Wii</td>\n",
              "      <td>2008.0</td>\n",
              "      <td>Racing</td>\n",
              "      <td>15.68</td>\n",
              "      <td>12.76</td>\n",
              "      <td>3.79</td>\n",
              "      <td>3.29</td>\n",
              "      <td>82.0</td>\n",
              "      <td>8.3</td>\n",
              "      <td>E</td>\n",
              "    </tr>\n",
              "    <tr>\n",
              "      <th>3</th>\n",
              "      <td>Wii Sports Resort</td>\n",
              "      <td>Wii</td>\n",
              "      <td>2009.0</td>\n",
              "      <td>Sports</td>\n",
              "      <td>15.61</td>\n",
              "      <td>10.93</td>\n",
              "      <td>3.28</td>\n",
              "      <td>2.95</td>\n",
              "      <td>80.0</td>\n",
              "      <td>8</td>\n",
              "      <td>E</td>\n",
              "    </tr>\n",
              "    <tr>\n",
              "      <th>4</th>\n",
              "      <td>Pokemon Red/Pokemon Blue</td>\n",
              "      <td>GB</td>\n",
              "      <td>1996.0</td>\n",
              "      <td>Role-Playing</td>\n",
              "      <td>11.27</td>\n",
              "      <td>8.89</td>\n",
              "      <td>10.22</td>\n",
              "      <td>1.00</td>\n",
              "      <td>NaN</td>\n",
              "      <td>NaN</td>\n",
              "      <td>NaN</td>\n",
              "    </tr>\n",
              "  </tbody>\n",
              "</table>\n",
              "</div>\n",
              "      <button class=\"colab-df-convert\" onclick=\"convertToInteractive('df-a6aaec36-02cb-4af7-9275-005555dd2ef8')\"\n",
              "              title=\"Convert this dataframe to an interactive table.\"\n",
              "              style=\"display:none;\">\n",
              "        \n",
              "  <svg xmlns=\"http://www.w3.org/2000/svg\" height=\"24px\"viewBox=\"0 0 24 24\"\n",
              "       width=\"24px\">\n",
              "    <path d=\"M0 0h24v24H0V0z\" fill=\"none\"/>\n",
              "    <path d=\"M18.56 5.44l.94 2.06.94-2.06 2.06-.94-2.06-.94-.94-2.06-.94 2.06-2.06.94zm-11 1L8.5 8.5l.94-2.06 2.06-.94-2.06-.94L8.5 2.5l-.94 2.06-2.06.94zm10 10l.94 2.06.94-2.06 2.06-.94-2.06-.94-.94-2.06-.94 2.06-2.06.94z\"/><path d=\"M17.41 7.96l-1.37-1.37c-.4-.4-.92-.59-1.43-.59-.52 0-1.04.2-1.43.59L10.3 9.45l-7.72 7.72c-.78.78-.78 2.05 0 2.83L4 21.41c.39.39.9.59 1.41.59.51 0 1.02-.2 1.41-.59l7.78-7.78 2.81-2.81c.8-.78.8-2.07 0-2.86zM5.41 20L4 18.59l7.72-7.72 1.47 1.35L5.41 20z\"/>\n",
              "  </svg>\n",
              "      </button>\n",
              "      \n",
              "  <style>\n",
              "    .colab-df-container {\n",
              "      display:flex;\n",
              "      flex-wrap:wrap;\n",
              "      gap: 12px;\n",
              "    }\n",
              "\n",
              "    .colab-df-convert {\n",
              "      background-color: #E8F0FE;\n",
              "      border: none;\n",
              "      border-radius: 50%;\n",
              "      cursor: pointer;\n",
              "      display: none;\n",
              "      fill: #1967D2;\n",
              "      height: 32px;\n",
              "      padding: 0 0 0 0;\n",
              "      width: 32px;\n",
              "    }\n",
              "\n",
              "    .colab-df-convert:hover {\n",
              "      background-color: #E2EBFA;\n",
              "      box-shadow: 0px 1px 2px rgba(60, 64, 67, 0.3), 0px 1px 3px 1px rgba(60, 64, 67, 0.15);\n",
              "      fill: #174EA6;\n",
              "    }\n",
              "\n",
              "    [theme=dark] .colab-df-convert {\n",
              "      background-color: #3B4455;\n",
              "      fill: #D2E3FC;\n",
              "    }\n",
              "\n",
              "    [theme=dark] .colab-df-convert:hover {\n",
              "      background-color: #434B5C;\n",
              "      box-shadow: 0px 1px 3px 1px rgba(0, 0, 0, 0.15);\n",
              "      filter: drop-shadow(0px 1px 2px rgba(0, 0, 0, 0.3));\n",
              "      fill: #FFFFFF;\n",
              "    }\n",
              "  </style>\n",
              "\n",
              "      <script>\n",
              "        const buttonEl =\n",
              "          document.querySelector('#df-a6aaec36-02cb-4af7-9275-005555dd2ef8 button.colab-df-convert');\n",
              "        buttonEl.style.display =\n",
              "          google.colab.kernel.accessAllowed ? 'block' : 'none';\n",
              "\n",
              "        async function convertToInteractive(key) {\n",
              "          const element = document.querySelector('#df-a6aaec36-02cb-4af7-9275-005555dd2ef8');\n",
              "          const dataTable =\n",
              "            await google.colab.kernel.invokeFunction('convertToInteractive',\n",
              "                                                     [key], {});\n",
              "          if (!dataTable) return;\n",
              "\n",
              "          const docLinkHtml = 'Like what you see? Visit the ' +\n",
              "            '<a target=\"_blank\" href=https://colab.research.google.com/notebooks/data_table.ipynb>data table notebook</a>'\n",
              "            + ' to learn more about interactive tables.';\n",
              "          element.innerHTML = '';\n",
              "          dataTable['output_type'] = 'display_data';\n",
              "          await google.colab.output.renderOutput(dataTable, element);\n",
              "          const docLink = document.createElement('div');\n",
              "          docLink.innerHTML = docLinkHtml;\n",
              "          element.appendChild(docLink);\n",
              "        }\n",
              "      </script>\n",
              "    </div>\n",
              "  </div>\n",
              "  "
            ]
          },
          "metadata": {},
          "execution_count": 3
        }
      ],
      "source": [
        "data.head()"
      ]
    },
    {
      "cell_type": "code",
      "execution_count": 4,
      "metadata": {
        "colab": {
          "base_uri": "https://localhost:8080/"
        },
        "id": "ssspRDwHT7Sa",
        "outputId": "f0bcf4b6-3f3e-4576-f51c-fd02c816a85b"
      },
      "outputs": [
        {
          "output_type": "stream",
          "name": "stdout",
          "text": [
            "<class 'pandas.core.frame.DataFrame'>\n",
            "RangeIndex: 16715 entries, 0 to 16714\n",
            "Data columns (total 11 columns):\n",
            " #   Column           Non-Null Count  Dtype  \n",
            "---  ------           --------------  -----  \n",
            " 0   Name             16713 non-null  object \n",
            " 1   Platform         16715 non-null  object \n",
            " 2   Year_of_Release  16446 non-null  float64\n",
            " 3   Genre            16713 non-null  object \n",
            " 4   NA_sales         16715 non-null  float64\n",
            " 5   EU_sales         16715 non-null  float64\n",
            " 6   JP_sales         16715 non-null  float64\n",
            " 7   Other_sales      16715 non-null  float64\n",
            " 8   Critic_Score     8137 non-null   float64\n",
            " 9   User_Score       10014 non-null  object \n",
            " 10  Rating           9949 non-null   object \n",
            "dtypes: float64(6), object(5)\n",
            "memory usage: 1.4+ MB\n"
          ]
        }
      ],
      "source": [
        "data.info()"
      ]
    },
    {
      "cell_type": "code",
      "execution_count": 5,
      "metadata": {
        "id": "QoSNzx5xT7Sb"
      },
      "outputs": [],
      "source": [
        "data.columns = data.columns.str.lower()"
      ]
    },
    {
      "cell_type": "code",
      "execution_count": 6,
      "metadata": {
        "colab": {
          "base_uri": "https://localhost:8080/"
        },
        "id": "AToXmq3wT7Sc",
        "outputId": "b4895f6c-27c3-4bde-b700-97837f9507bc"
      },
      "outputs": [
        {
          "output_type": "execute_result",
          "data": {
            "text/plain": [
              "0"
            ]
          },
          "metadata": {},
          "execution_count": 6
        }
      ],
      "source": [
        "data.duplicated().sum()"
      ]
    },
    {
      "cell_type": "markdown",
      "metadata": {
        "id": "ndwVSf2AT7Sc"
      },
      "source": [
        "Data.info() shows that there are no titles for two games. Let's find them:"
      ]
    },
    {
      "cell_type": "code",
      "execution_count": 7,
      "metadata": {
        "colab": {
          "base_uri": "https://localhost:8080/",
          "height": 156
        },
        "id": "dx8GNrNOT7Sd",
        "outputId": "7417b9d0-a84f-4f98-e6e8-04c8698b48ac"
      },
      "outputs": [
        {
          "output_type": "execute_result",
          "data": {
            "text/plain": [
              "      name platform  year_of_release genre  na_sales  eu_sales  jp_sales  \\\n",
              "659    NaN      GEN           1993.0   NaN      1.78      0.53      0.00   \n",
              "14244  NaN      GEN           1993.0   NaN      0.00      0.00      0.03   \n",
              "\n",
              "       other_sales  critic_score user_score rating  \n",
              "659           0.08           NaN        NaN    NaN  \n",
              "14244         0.00           NaN        NaN    NaN  "
            ],
            "text/html": [
              "\n",
              "  <div id=\"df-50dc4fb3-17c5-4934-bd69-79e904f41fc1\">\n",
              "    <div class=\"colab-df-container\">\n",
              "      <div>\n",
              "<style scoped>\n",
              "    .dataframe tbody tr th:only-of-type {\n",
              "        vertical-align: middle;\n",
              "    }\n",
              "\n",
              "    .dataframe tbody tr th {\n",
              "        vertical-align: top;\n",
              "    }\n",
              "\n",
              "    .dataframe thead th {\n",
              "        text-align: right;\n",
              "    }\n",
              "</style>\n",
              "<table border=\"1\" class=\"dataframe\">\n",
              "  <thead>\n",
              "    <tr style=\"text-align: right;\">\n",
              "      <th></th>\n",
              "      <th>name</th>\n",
              "      <th>platform</th>\n",
              "      <th>year_of_release</th>\n",
              "      <th>genre</th>\n",
              "      <th>na_sales</th>\n",
              "      <th>eu_sales</th>\n",
              "      <th>jp_sales</th>\n",
              "      <th>other_sales</th>\n",
              "      <th>critic_score</th>\n",
              "      <th>user_score</th>\n",
              "      <th>rating</th>\n",
              "    </tr>\n",
              "  </thead>\n",
              "  <tbody>\n",
              "    <tr>\n",
              "      <th>659</th>\n",
              "      <td>NaN</td>\n",
              "      <td>GEN</td>\n",
              "      <td>1993.0</td>\n",
              "      <td>NaN</td>\n",
              "      <td>1.78</td>\n",
              "      <td>0.53</td>\n",
              "      <td>0.00</td>\n",
              "      <td>0.08</td>\n",
              "      <td>NaN</td>\n",
              "      <td>NaN</td>\n",
              "      <td>NaN</td>\n",
              "    </tr>\n",
              "    <tr>\n",
              "      <th>14244</th>\n",
              "      <td>NaN</td>\n",
              "      <td>GEN</td>\n",
              "      <td>1993.0</td>\n",
              "      <td>NaN</td>\n",
              "      <td>0.00</td>\n",
              "      <td>0.00</td>\n",
              "      <td>0.03</td>\n",
              "      <td>0.00</td>\n",
              "      <td>NaN</td>\n",
              "      <td>NaN</td>\n",
              "      <td>NaN</td>\n",
              "    </tr>\n",
              "  </tbody>\n",
              "</table>\n",
              "</div>\n",
              "      <button class=\"colab-df-convert\" onclick=\"convertToInteractive('df-50dc4fb3-17c5-4934-bd69-79e904f41fc1')\"\n",
              "              title=\"Convert this dataframe to an interactive table.\"\n",
              "              style=\"display:none;\">\n",
              "        \n",
              "  <svg xmlns=\"http://www.w3.org/2000/svg\" height=\"24px\"viewBox=\"0 0 24 24\"\n",
              "       width=\"24px\">\n",
              "    <path d=\"M0 0h24v24H0V0z\" fill=\"none\"/>\n",
              "    <path d=\"M18.56 5.44l.94 2.06.94-2.06 2.06-.94-2.06-.94-.94-2.06-.94 2.06-2.06.94zm-11 1L8.5 8.5l.94-2.06 2.06-.94-2.06-.94L8.5 2.5l-.94 2.06-2.06.94zm10 10l.94 2.06.94-2.06 2.06-.94-2.06-.94-.94-2.06-.94 2.06-2.06.94z\"/><path d=\"M17.41 7.96l-1.37-1.37c-.4-.4-.92-.59-1.43-.59-.52 0-1.04.2-1.43.59L10.3 9.45l-7.72 7.72c-.78.78-.78 2.05 0 2.83L4 21.41c.39.39.9.59 1.41.59.51 0 1.02-.2 1.41-.59l7.78-7.78 2.81-2.81c.8-.78.8-2.07 0-2.86zM5.41 20L4 18.59l7.72-7.72 1.47 1.35L5.41 20z\"/>\n",
              "  </svg>\n",
              "      </button>\n",
              "      \n",
              "  <style>\n",
              "    .colab-df-container {\n",
              "      display:flex;\n",
              "      flex-wrap:wrap;\n",
              "      gap: 12px;\n",
              "    }\n",
              "\n",
              "    .colab-df-convert {\n",
              "      background-color: #E8F0FE;\n",
              "      border: none;\n",
              "      border-radius: 50%;\n",
              "      cursor: pointer;\n",
              "      display: none;\n",
              "      fill: #1967D2;\n",
              "      height: 32px;\n",
              "      padding: 0 0 0 0;\n",
              "      width: 32px;\n",
              "    }\n",
              "\n",
              "    .colab-df-convert:hover {\n",
              "      background-color: #E2EBFA;\n",
              "      box-shadow: 0px 1px 2px rgba(60, 64, 67, 0.3), 0px 1px 3px 1px rgba(60, 64, 67, 0.15);\n",
              "      fill: #174EA6;\n",
              "    }\n",
              "\n",
              "    [theme=dark] .colab-df-convert {\n",
              "      background-color: #3B4455;\n",
              "      fill: #D2E3FC;\n",
              "    }\n",
              "\n",
              "    [theme=dark] .colab-df-convert:hover {\n",
              "      background-color: #434B5C;\n",
              "      box-shadow: 0px 1px 3px 1px rgba(0, 0, 0, 0.15);\n",
              "      filter: drop-shadow(0px 1px 2px rgba(0, 0, 0, 0.3));\n",
              "      fill: #FFFFFF;\n",
              "    }\n",
              "  </style>\n",
              "\n",
              "      <script>\n",
              "        const buttonEl =\n",
              "          document.querySelector('#df-50dc4fb3-17c5-4934-bd69-79e904f41fc1 button.colab-df-convert');\n",
              "        buttonEl.style.display =\n",
              "          google.colab.kernel.accessAllowed ? 'block' : 'none';\n",
              "\n",
              "        async function convertToInteractive(key) {\n",
              "          const element = document.querySelector('#df-50dc4fb3-17c5-4934-bd69-79e904f41fc1');\n",
              "          const dataTable =\n",
              "            await google.colab.kernel.invokeFunction('convertToInteractive',\n",
              "                                                     [key], {});\n",
              "          if (!dataTable) return;\n",
              "\n",
              "          const docLinkHtml = 'Like what you see? Visit the ' +\n",
              "            '<a target=\"_blank\" href=https://colab.research.google.com/notebooks/data_table.ipynb>data table notebook</a>'\n",
              "            + ' to learn more about interactive tables.';\n",
              "          element.innerHTML = '';\n",
              "          dataTable['output_type'] = 'display_data';\n",
              "          await google.colab.output.renderOutput(dataTable, element);\n",
              "          const docLink = document.createElement('div');\n",
              "          docLink.innerHTML = docLinkHtml;\n",
              "          element.appendChild(docLink);\n",
              "        }\n",
              "      </script>\n",
              "    </div>\n",
              "  </div>\n",
              "  "
            ]
          },
          "metadata": {},
          "execution_count": 7
        }
      ],
      "source": [
        "data[data['name'].isna()]"
      ]
    },
    {
      "cell_type": "markdown",
      "metadata": {
        "id": "o_997C0-T7Sd"
      },
      "source": [
        "As you can see, these are old games, their consideration does not make sense, let's get rid of these entries:"
      ]
    },
    {
      "cell_type": "code",
      "execution_count": 8,
      "metadata": {
        "id": "rGegrB_ET7Sd"
      },
      "outputs": [],
      "source": [
        "data = data.dropna(subset=['name']).reset_index(drop=True)"
      ]
    },
    {
      "cell_type": "markdown",
      "metadata": {
        "id": "GUydjCzcT7Se"
      },
      "source": [
        "To predict sales for the next year, it makes sense to consider games on the platforms of the current and, possibly, the previous generation as games for some time continue to be released simultaneously on the platforms of two generations. Let's define the platforms of the current generation by the first appearance of games on them:"
      ]
    },
    {
      "cell_type": "code",
      "execution_count": 9,
      "metadata": {
        "colab": {
          "base_uri": "https://localhost:8080/"
        },
        "id": "UuUQhKsxT7Se",
        "outputId": "fe5a6b74-c10d-4523-ea41-d50d6a84ef47"
      },
      "outputs": [
        {
          "output_type": "execute_result",
          "data": {
            "text/plain": [
              "platform\n",
              "XOne    2013.0\n",
              "PS4     2013.0\n",
              "WiiU    2012.0\n",
              "3DS     2011.0\n",
              "PSV     2011.0\n",
              "PS3     2006.0\n",
              "Wii     2006.0\n",
              "X360    2005.0\n",
              "PSP     2004.0\n",
              "GC      2001.0\n",
              "GBA     2000.0\n",
              "PS2     2000.0\n",
              "XB      2000.0\n",
              "WS      1999.0\n",
              "DC      1998.0\n",
              "PCFX    1996.0\n",
              "N64     1996.0\n",
              "TG16    1995.0\n",
              "SAT     1994.0\n",
              "PS      1994.0\n",
              "3DO     1994.0\n",
              "SCD     1993.0\n",
              "NG      1993.0\n",
              "GG      1992.0\n",
              "SNES    1990.0\n",
              "GEN     1990.0\n",
              "GB      1988.0\n",
              "PC      1985.0\n",
              "DS      1985.0\n",
              "NES     1983.0\n",
              "2600    1980.0\n",
              "Name: year_of_release, dtype: float64"
            ]
          },
          "metadata": {},
          "execution_count": 9
        }
      ],
      "source": [
        "data.groupby('platform')['year_of_release'].min().sort_values(ascending=False)"
      ]
    },
    {
      "cell_type": "markdown",
      "metadata": {
        "id": "nBhZRvxjT7Se"
      },
      "source": [
        "In the list received, the first mention of the DS platform (Nintendo DS) is 1985, but this platform was introduced in the middle of the 2000s. Let's check what led to this:"
      ]
    },
    {
      "cell_type": "code",
      "execution_count": 10,
      "metadata": {
        "colab": {
          "base_uri": "https://localhost:8080/"
        },
        "id": "3OkW6OspT7Se",
        "outputId": "69f756b4-c9ff-412d-e26b-71832684cc9b"
      },
      "outputs": [
        {
          "output_type": "execute_result",
          "data": {
            "text/plain": [
              "2008.0    492\n",
              "2009.0    403\n",
              "2007.0    376\n",
              "2010.0    323\n",
              "2006.0    201\n",
              "2011.0    153\n",
              "2005.0    118\n",
              "2004.0     23\n",
              "2012.0     23\n",
              "2013.0      8\n",
              "1985.0      1\n",
              "Name: year_of_release, dtype: int64"
            ]
          },
          "metadata": {},
          "execution_count": 10
        }
      ],
      "source": [
        "data.query('platform == \"DS\"')['year_of_release'].value_counts()"
      ]
    },
    {
      "cell_type": "code",
      "execution_count": 11,
      "metadata": {
        "colab": {
          "base_uri": "https://localhost:8080/",
          "height": 197
        },
        "id": "4qqoev2FT7Sf",
        "outputId": "39993772-ab89-4a46-bee2-be14ecf06726"
      },
      "outputs": [
        {
          "output_type": "execute_result",
          "data": {
            "text/plain": [
              "                                      name platform  year_of_release   genre  \\\n",
              "15955  Strongest Tokyo University Shogi DS       DS           1985.0  Action   \n",
              "\n",
              "       na_sales  eu_sales  jp_sales  other_sales  critic_score user_score  \\\n",
              "15955       0.0       0.0      0.02          0.0           NaN        NaN   \n",
              "\n",
              "      rating  \n",
              "15955    NaN  "
            ],
            "text/html": [
              "\n",
              "  <div id=\"df-5fe4f7fe-3371-4087-81b1-dd946f57ed31\">\n",
              "    <div class=\"colab-df-container\">\n",
              "      <div>\n",
              "<style scoped>\n",
              "    .dataframe tbody tr th:only-of-type {\n",
              "        vertical-align: middle;\n",
              "    }\n",
              "\n",
              "    .dataframe tbody tr th {\n",
              "        vertical-align: top;\n",
              "    }\n",
              "\n",
              "    .dataframe thead th {\n",
              "        text-align: right;\n",
              "    }\n",
              "</style>\n",
              "<table border=\"1\" class=\"dataframe\">\n",
              "  <thead>\n",
              "    <tr style=\"text-align: right;\">\n",
              "      <th></th>\n",
              "      <th>name</th>\n",
              "      <th>platform</th>\n",
              "      <th>year_of_release</th>\n",
              "      <th>genre</th>\n",
              "      <th>na_sales</th>\n",
              "      <th>eu_sales</th>\n",
              "      <th>jp_sales</th>\n",
              "      <th>other_sales</th>\n",
              "      <th>critic_score</th>\n",
              "      <th>user_score</th>\n",
              "      <th>rating</th>\n",
              "    </tr>\n",
              "  </thead>\n",
              "  <tbody>\n",
              "    <tr>\n",
              "      <th>15955</th>\n",
              "      <td>Strongest Tokyo University Shogi DS</td>\n",
              "      <td>DS</td>\n",
              "      <td>1985.0</td>\n",
              "      <td>Action</td>\n",
              "      <td>0.0</td>\n",
              "      <td>0.0</td>\n",
              "      <td>0.02</td>\n",
              "      <td>0.0</td>\n",
              "      <td>NaN</td>\n",
              "      <td>NaN</td>\n",
              "      <td>NaN</td>\n",
              "    </tr>\n",
              "  </tbody>\n",
              "</table>\n",
              "</div>\n",
              "      <button class=\"colab-df-convert\" onclick=\"convertToInteractive('df-5fe4f7fe-3371-4087-81b1-dd946f57ed31')\"\n",
              "              title=\"Convert this dataframe to an interactive table.\"\n",
              "              style=\"display:none;\">\n",
              "        \n",
              "  <svg xmlns=\"http://www.w3.org/2000/svg\" height=\"24px\"viewBox=\"0 0 24 24\"\n",
              "       width=\"24px\">\n",
              "    <path d=\"M0 0h24v24H0V0z\" fill=\"none\"/>\n",
              "    <path d=\"M18.56 5.44l.94 2.06.94-2.06 2.06-.94-2.06-.94-.94-2.06-.94 2.06-2.06.94zm-11 1L8.5 8.5l.94-2.06 2.06-.94-2.06-.94L8.5 2.5l-.94 2.06-2.06.94zm10 10l.94 2.06.94-2.06 2.06-.94-2.06-.94-.94-2.06-.94 2.06-2.06.94z\"/><path d=\"M17.41 7.96l-1.37-1.37c-.4-.4-.92-.59-1.43-.59-.52 0-1.04.2-1.43.59L10.3 9.45l-7.72 7.72c-.78.78-.78 2.05 0 2.83L4 21.41c.39.39.9.59 1.41.59.51 0 1.02-.2 1.41-.59l7.78-7.78 2.81-2.81c.8-.78.8-2.07 0-2.86zM5.41 20L4 18.59l7.72-7.72 1.47 1.35L5.41 20z\"/>\n",
              "  </svg>\n",
              "      </button>\n",
              "      \n",
              "  <style>\n",
              "    .colab-df-container {\n",
              "      display:flex;\n",
              "      flex-wrap:wrap;\n",
              "      gap: 12px;\n",
              "    }\n",
              "\n",
              "    .colab-df-convert {\n",
              "      background-color: #E8F0FE;\n",
              "      border: none;\n",
              "      border-radius: 50%;\n",
              "      cursor: pointer;\n",
              "      display: none;\n",
              "      fill: #1967D2;\n",
              "      height: 32px;\n",
              "      padding: 0 0 0 0;\n",
              "      width: 32px;\n",
              "    }\n",
              "\n",
              "    .colab-df-convert:hover {\n",
              "      background-color: #E2EBFA;\n",
              "      box-shadow: 0px 1px 2px rgba(60, 64, 67, 0.3), 0px 1px 3px 1px rgba(60, 64, 67, 0.15);\n",
              "      fill: #174EA6;\n",
              "    }\n",
              "\n",
              "    [theme=dark] .colab-df-convert {\n",
              "      background-color: #3B4455;\n",
              "      fill: #D2E3FC;\n",
              "    }\n",
              "\n",
              "    [theme=dark] .colab-df-convert:hover {\n",
              "      background-color: #434B5C;\n",
              "      box-shadow: 0px 1px 3px 1px rgba(0, 0, 0, 0.15);\n",
              "      filter: drop-shadow(0px 1px 2px rgba(0, 0, 0, 0.3));\n",
              "      fill: #FFFFFF;\n",
              "    }\n",
              "  </style>\n",
              "\n",
              "      <script>\n",
              "        const buttonEl =\n",
              "          document.querySelector('#df-5fe4f7fe-3371-4087-81b1-dd946f57ed31 button.colab-df-convert');\n",
              "        buttonEl.style.display =\n",
              "          google.colab.kernel.accessAllowed ? 'block' : 'none';\n",
              "\n",
              "        async function convertToInteractive(key) {\n",
              "          const element = document.querySelector('#df-5fe4f7fe-3371-4087-81b1-dd946f57ed31');\n",
              "          const dataTable =\n",
              "            await google.colab.kernel.invokeFunction('convertToInteractive',\n",
              "                                                     [key], {});\n",
              "          if (!dataTable) return;\n",
              "\n",
              "          const docLinkHtml = 'Like what you see? Visit the ' +\n",
              "            '<a target=\"_blank\" href=https://colab.research.google.com/notebooks/data_table.ipynb>data table notebook</a>'\n",
              "            + ' to learn more about interactive tables.';\n",
              "          element.innerHTML = '';\n",
              "          dataTable['output_type'] = 'display_data';\n",
              "          await google.colab.output.renderOutput(dataTable, element);\n",
              "          const docLink = document.createElement('div');\n",
              "          docLink.innerHTML = docLinkHtml;\n",
              "          element.appendChild(docLink);\n",
              "        }\n",
              "      </script>\n",
              "    </div>\n",
              "  </div>\n",
              "  "
            ]
          },
          "metadata": {},
          "execution_count": 11
        }
      ],
      "source": [
        "data.query('platform == \"DS\" & year_of_release == 1985')"
      ]
    },
    {
      "cell_type": "markdown",
      "metadata": {
        "id": "Mb5Y9lFVT7Sf"
      },
      "source": [
        "One entry outlies. As this is a game with modest sales and only for the Japanese market, we will delete this entry."
      ]
    },
    {
      "cell_type": "code",
      "execution_count": 12,
      "metadata": {
        "id": "ApdI6SShT7Sf"
      },
      "outputs": [],
      "source": [
        "data = data.drop(data.index[15955])"
      ]
    },
    {
      "cell_type": "code",
      "execution_count": 13,
      "metadata": {
        "colab": {
          "base_uri": "https://localhost:8080/"
        },
        "id": "FBTctaeUT7Sf",
        "outputId": "91652ef4-8f0f-4425-a8e0-821d2e75512f"
      },
      "outputs": [
        {
          "output_type": "execute_result",
          "data": {
            "text/plain": [
              "platform\n",
              "XOne    2013.0\n",
              "PS4     2013.0\n",
              "WiiU    2012.0\n",
              "3DS     2011.0\n",
              "PSV     2011.0\n",
              "PS3     2006.0\n",
              "Wii     2006.0\n",
              "X360    2005.0\n",
              "PSP     2004.0\n",
              "DS      2004.0\n",
              "GC      2001.0\n",
              "GBA     2000.0\n",
              "XB      2000.0\n",
              "PS2     2000.0\n",
              "WS      1999.0\n",
              "DC      1998.0\n",
              "PCFX    1996.0\n",
              "N64     1996.0\n",
              "TG16    1995.0\n",
              "SAT     1994.0\n",
              "PS      1994.0\n",
              "3DO     1994.0\n",
              "SCD     1993.0\n",
              "NG      1993.0\n",
              "GG      1992.0\n",
              "SNES    1990.0\n",
              "GEN     1990.0\n",
              "GB      1988.0\n",
              "PC      1985.0\n",
              "NES     1983.0\n",
              "2600    1980.0\n",
              "Name: year_of_release, dtype: float64"
            ]
          },
          "metadata": {},
          "execution_count": 13
        }
      ],
      "source": [
        "data.groupby('platform')['year_of_release'].min().sort_values(ascending=False)"
      ]
    },
    {
      "cell_type": "markdown",
      "metadata": {
        "id": "5-5u2-VbT7Sf"
      },
      "source": [
        "Now the chronology of platforms entering the market has been restored."
      ]
    },
    {
      "cell_type": "markdown",
      "metadata": {
        "id": "REp231iKT7Sf"
      },
      "source": [
        "Now let's look at the years of the last releases:"
      ]
    },
    {
      "cell_type": "code",
      "execution_count": 14,
      "metadata": {
        "colab": {
          "base_uri": "https://localhost:8080/"
        },
        "id": "hzltt3xNT7Sf",
        "outputId": "80408947-d24a-4b2b-a5bf-01ad3298c566"
      },
      "outputs": [
        {
          "output_type": "execute_result",
          "data": {
            "text/plain": [
              "platform\n",
              "XOne    2016.0\n",
              "3DS     2016.0\n",
              "X360    2016.0\n",
              "WiiU    2016.0\n",
              "Wii     2016.0\n",
              "PSV     2016.0\n",
              "PC      2016.0\n",
              "PS4     2016.0\n",
              "PS3     2016.0\n",
              "PSP     2015.0\n",
              "DS      2013.0\n",
              "PS2     2011.0\n",
              "DC      2008.0\n",
              "XB      2008.0\n",
              "GBA     2007.0\n",
              "Name: year_of_release, dtype: float64"
            ]
          },
          "metadata": {},
          "execution_count": 14
        }
      ],
      "source": [
        "data.groupby('platform')['year_of_release'].max().sort_values(ascending=False).head(15)"
      ]
    },
    {
      "cell_type": "markdown",
      "metadata": {
        "id": "dQmyyRmDT7Sg"
      },
      "source": [
        "As a result, the current console platforms were determined: XOne, PS4, WiiU, 3DS and PSV, as well as past generation consoles: X360, Wii, PS3. Also, PC is always actual gaming platform."
      ]
    },
    {
      "cell_type": "code",
      "execution_count": 15,
      "metadata": {
        "colab": {
          "base_uri": "https://localhost:8080/"
        },
        "id": "Oz4UIZAGT7Sg",
        "outputId": "f058b376-60d2-4924-a024-80fe5e0592a3"
      },
      "outputs": [
        {
          "output_type": "execute_result",
          "data": {
            "text/plain": [
              "platform\n",
              "3DS      520\n",
              "PC       974\n",
              "PS3     1331\n",
              "PS4      392\n",
              "PSV      430\n",
              "Wii     1320\n",
              "WiiU     147\n",
              "X360    1262\n",
              "XOne     247\n",
              "Name: name, dtype: int64"
            ]
          },
          "metadata": {},
          "execution_count": 15
        }
      ],
      "source": [
        "data.query(\n",
        "    'platform == [\"PSV\",\"XOne\",\"PS4\",\"WiiU\",\"3DS\",\"PC\",\"X360\",\"Wii\",\"PS3\"]').groupby('platform')['name'].count()"
      ]
    },
    {
      "cell_type": "markdown",
      "metadata": {
        "id": "w3S6dglWT7Sg"
      },
      "source": [
        "Let's determine the number of NaNs by the year the game was released relative to the platform on which it was released:"
      ]
    },
    {
      "cell_type": "code",
      "execution_count": 16,
      "metadata": {
        "colab": {
          "base_uri": "https://localhost:8080/"
        },
        "id": "FfhlKPlIT7Sg",
        "outputId": "3f12e22d-cca9-4196-cebc-3588bc3f0b82"
      },
      "outputs": [
        {
          "output_type": "execute_result",
          "data": {
            "text/plain": [
              "platform\n",
              "2600    17\n",
              "3DS      8\n",
              "DS      30\n",
              "GB       1\n",
              "GBA     11\n",
              "GC      14\n",
              "N64      3\n",
              "PC      17\n",
              "PS       7\n",
              "PS2     34\n",
              "PS3     25\n",
              "PSP     16\n",
              "PSV      1\n",
              "Wii     34\n",
              "X360    30\n",
              "XB      21\n",
              "Name: name, dtype: int64"
            ]
          },
          "metadata": {},
          "execution_count": 16
        }
      ],
      "source": [
        "data[data['year_of_release'].isna()].groupby('platform')['name'].count()"
      ]
    },
    {
      "cell_type": "markdown",
      "metadata": {
        "id": "-FQhbK0TT7Sg"
      },
      "source": [
        "Missing release years are not present in the current generation of consoles, present at about 2% for each of the considered past generation consoles and PC. With such a small number of missing values, this data can be discarded."
      ]
    },
    {
      "cell_type": "code",
      "execution_count": 17,
      "metadata": {
        "id": "MRbRy8MIT7Sg"
      },
      "outputs": [],
      "source": [
        "data = data.dropna(subset=['year_of_release']).reset_index(drop=True)"
      ]
    },
    {
      "cell_type": "code",
      "execution_count": 18,
      "metadata": {
        "id": "jeH_O0yST7Sh"
      },
      "outputs": [],
      "source": [
        "data['year_of_release'] = data['year_of_release'].astype(int)"
      ]
    },
    {
      "cell_type": "markdown",
      "metadata": {
        "id": "QvGnS9aGT7Sh"
      },
      "source": [
        "Let's add the value of the total sales of games in all regions to the table:"
      ]
    },
    {
      "cell_type": "code",
      "execution_count": 19,
      "metadata": {
        "id": "PMtaTUNuT7Sh"
      },
      "outputs": [],
      "source": [
        "data['sales_total'] = data[['na_sales','eu_sales','jp_sales', 'other_sales']].sum(axis = 1)\n",
        "#data['na_sales'] + data['eu_sales'] + data['jp_sales'] + data['other_sales']"
      ]
    },
    {
      "cell_type": "code",
      "execution_count": 20,
      "metadata": {
        "colab": {
          "base_uri": "https://localhost:8080/",
          "height": 340
        },
        "id": "GQVxM6-7T7Sh",
        "outputId": "87b939be-482f-4255-a310-4e29f5128914"
      },
      "outputs": [
        {
          "output_type": "execute_result",
          "data": {
            "text/plain": [
              "                       name platform  year_of_release         genre  na_sales  \\\n",
              "0                Wii Sports      Wii             2006        Sports     41.36   \n",
              "1         Super Mario Bros.      NES             1985      Platform     29.08   \n",
              "2            Mario Kart Wii      Wii             2008        Racing     15.68   \n",
              "3         Wii Sports Resort      Wii             2009        Sports     15.61   \n",
              "4  Pokemon Red/Pokemon Blue       GB             1996  Role-Playing     11.27   \n",
              "\n",
              "   eu_sales  jp_sales  other_sales  critic_score user_score rating  \\\n",
              "0     28.96      3.77         8.45          76.0          8      E   \n",
              "1      3.58      6.81         0.77           NaN        NaN    NaN   \n",
              "2     12.76      3.79         3.29          82.0        8.3      E   \n",
              "3     10.93      3.28         2.95          80.0          8      E   \n",
              "4      8.89     10.22         1.00           NaN        NaN    NaN   \n",
              "\n",
              "   sales_total  \n",
              "0        82.54  \n",
              "1        40.24  \n",
              "2        35.52  \n",
              "3        32.77  \n",
              "4        31.38  "
            ],
            "text/html": [
              "\n",
              "  <div id=\"df-9d1e8609-57b7-4183-ac18-a5f7be897d90\">\n",
              "    <div class=\"colab-df-container\">\n",
              "      <div>\n",
              "<style scoped>\n",
              "    .dataframe tbody tr th:only-of-type {\n",
              "        vertical-align: middle;\n",
              "    }\n",
              "\n",
              "    .dataframe tbody tr th {\n",
              "        vertical-align: top;\n",
              "    }\n",
              "\n",
              "    .dataframe thead th {\n",
              "        text-align: right;\n",
              "    }\n",
              "</style>\n",
              "<table border=\"1\" class=\"dataframe\">\n",
              "  <thead>\n",
              "    <tr style=\"text-align: right;\">\n",
              "      <th></th>\n",
              "      <th>name</th>\n",
              "      <th>platform</th>\n",
              "      <th>year_of_release</th>\n",
              "      <th>genre</th>\n",
              "      <th>na_sales</th>\n",
              "      <th>eu_sales</th>\n",
              "      <th>jp_sales</th>\n",
              "      <th>other_sales</th>\n",
              "      <th>critic_score</th>\n",
              "      <th>user_score</th>\n",
              "      <th>rating</th>\n",
              "      <th>sales_total</th>\n",
              "    </tr>\n",
              "  </thead>\n",
              "  <tbody>\n",
              "    <tr>\n",
              "      <th>0</th>\n",
              "      <td>Wii Sports</td>\n",
              "      <td>Wii</td>\n",
              "      <td>2006</td>\n",
              "      <td>Sports</td>\n",
              "      <td>41.36</td>\n",
              "      <td>28.96</td>\n",
              "      <td>3.77</td>\n",
              "      <td>8.45</td>\n",
              "      <td>76.0</td>\n",
              "      <td>8</td>\n",
              "      <td>E</td>\n",
              "      <td>82.54</td>\n",
              "    </tr>\n",
              "    <tr>\n",
              "      <th>1</th>\n",
              "      <td>Super Mario Bros.</td>\n",
              "      <td>NES</td>\n",
              "      <td>1985</td>\n",
              "      <td>Platform</td>\n",
              "      <td>29.08</td>\n",
              "      <td>3.58</td>\n",
              "      <td>6.81</td>\n",
              "      <td>0.77</td>\n",
              "      <td>NaN</td>\n",
              "      <td>NaN</td>\n",
              "      <td>NaN</td>\n",
              "      <td>40.24</td>\n",
              "    </tr>\n",
              "    <tr>\n",
              "      <th>2</th>\n",
              "      <td>Mario Kart Wii</td>\n",
              "      <td>Wii</td>\n",
              "      <td>2008</td>\n",
              "      <td>Racing</td>\n",
              "      <td>15.68</td>\n",
              "      <td>12.76</td>\n",
              "      <td>3.79</td>\n",
              "      <td>3.29</td>\n",
              "      <td>82.0</td>\n",
              "      <td>8.3</td>\n",
              "      <td>E</td>\n",
              "      <td>35.52</td>\n",
              "    </tr>\n",
              "    <tr>\n",
              "      <th>3</th>\n",
              "      <td>Wii Sports Resort</td>\n",
              "      <td>Wii</td>\n",
              "      <td>2009</td>\n",
              "      <td>Sports</td>\n",
              "      <td>15.61</td>\n",
              "      <td>10.93</td>\n",
              "      <td>3.28</td>\n",
              "      <td>2.95</td>\n",
              "      <td>80.0</td>\n",
              "      <td>8</td>\n",
              "      <td>E</td>\n",
              "      <td>32.77</td>\n",
              "    </tr>\n",
              "    <tr>\n",
              "      <th>4</th>\n",
              "      <td>Pokemon Red/Pokemon Blue</td>\n",
              "      <td>GB</td>\n",
              "      <td>1996</td>\n",
              "      <td>Role-Playing</td>\n",
              "      <td>11.27</td>\n",
              "      <td>8.89</td>\n",
              "      <td>10.22</td>\n",
              "      <td>1.00</td>\n",
              "      <td>NaN</td>\n",
              "      <td>NaN</td>\n",
              "      <td>NaN</td>\n",
              "      <td>31.38</td>\n",
              "    </tr>\n",
              "  </tbody>\n",
              "</table>\n",
              "</div>\n",
              "      <button class=\"colab-df-convert\" onclick=\"convertToInteractive('df-9d1e8609-57b7-4183-ac18-a5f7be897d90')\"\n",
              "              title=\"Convert this dataframe to an interactive table.\"\n",
              "              style=\"display:none;\">\n",
              "        \n",
              "  <svg xmlns=\"http://www.w3.org/2000/svg\" height=\"24px\"viewBox=\"0 0 24 24\"\n",
              "       width=\"24px\">\n",
              "    <path d=\"M0 0h24v24H0V0z\" fill=\"none\"/>\n",
              "    <path d=\"M18.56 5.44l.94 2.06.94-2.06 2.06-.94-2.06-.94-.94-2.06-.94 2.06-2.06.94zm-11 1L8.5 8.5l.94-2.06 2.06-.94-2.06-.94L8.5 2.5l-.94 2.06-2.06.94zm10 10l.94 2.06.94-2.06 2.06-.94-2.06-.94-.94-2.06-.94 2.06-2.06.94z\"/><path d=\"M17.41 7.96l-1.37-1.37c-.4-.4-.92-.59-1.43-.59-.52 0-1.04.2-1.43.59L10.3 9.45l-7.72 7.72c-.78.78-.78 2.05 0 2.83L4 21.41c.39.39.9.59 1.41.59.51 0 1.02-.2 1.41-.59l7.78-7.78 2.81-2.81c.8-.78.8-2.07 0-2.86zM5.41 20L4 18.59l7.72-7.72 1.47 1.35L5.41 20z\"/>\n",
              "  </svg>\n",
              "      </button>\n",
              "      \n",
              "  <style>\n",
              "    .colab-df-container {\n",
              "      display:flex;\n",
              "      flex-wrap:wrap;\n",
              "      gap: 12px;\n",
              "    }\n",
              "\n",
              "    .colab-df-convert {\n",
              "      background-color: #E8F0FE;\n",
              "      border: none;\n",
              "      border-radius: 50%;\n",
              "      cursor: pointer;\n",
              "      display: none;\n",
              "      fill: #1967D2;\n",
              "      height: 32px;\n",
              "      padding: 0 0 0 0;\n",
              "      width: 32px;\n",
              "    }\n",
              "\n",
              "    .colab-df-convert:hover {\n",
              "      background-color: #E2EBFA;\n",
              "      box-shadow: 0px 1px 2px rgba(60, 64, 67, 0.3), 0px 1px 3px 1px rgba(60, 64, 67, 0.15);\n",
              "      fill: #174EA6;\n",
              "    }\n",
              "\n",
              "    [theme=dark] .colab-df-convert {\n",
              "      background-color: #3B4455;\n",
              "      fill: #D2E3FC;\n",
              "    }\n",
              "\n",
              "    [theme=dark] .colab-df-convert:hover {\n",
              "      background-color: #434B5C;\n",
              "      box-shadow: 0px 1px 3px 1px rgba(0, 0, 0, 0.15);\n",
              "      filter: drop-shadow(0px 1px 2px rgba(0, 0, 0, 0.3));\n",
              "      fill: #FFFFFF;\n",
              "    }\n",
              "  </style>\n",
              "\n",
              "      <script>\n",
              "        const buttonEl =\n",
              "          document.querySelector('#df-9d1e8609-57b7-4183-ac18-a5f7be897d90 button.colab-df-convert');\n",
              "        buttonEl.style.display =\n",
              "          google.colab.kernel.accessAllowed ? 'block' : 'none';\n",
              "\n",
              "        async function convertToInteractive(key) {\n",
              "          const element = document.querySelector('#df-9d1e8609-57b7-4183-ac18-a5f7be897d90');\n",
              "          const dataTable =\n",
              "            await google.colab.kernel.invokeFunction('convertToInteractive',\n",
              "                                                     [key], {});\n",
              "          if (!dataTable) return;\n",
              "\n",
              "          const docLinkHtml = 'Like what you see? Visit the ' +\n",
              "            '<a target=\"_blank\" href=https://colab.research.google.com/notebooks/data_table.ipynb>data table notebook</a>'\n",
              "            + ' to learn more about interactive tables.';\n",
              "          element.innerHTML = '';\n",
              "          dataTable['output_type'] = 'display_data';\n",
              "          await google.colab.output.renderOutput(dataTable, element);\n",
              "          const docLink = document.createElement('div');\n",
              "          docLink.innerHTML = docLinkHtml;\n",
              "          element.appendChild(docLink);\n",
              "        }\n",
              "      </script>\n",
              "    </div>\n",
              "  </div>\n",
              "  "
            ]
          },
          "metadata": {},
          "execution_count": 20
        }
      ],
      "source": [
        "data.head()"
      ]
    },
    {
      "cell_type": "markdown",
      "metadata": {
        "id": "W1P9dpU4T7Sh"
      },
      "source": [
        "Let's check what values are found in the rating column:"
      ]
    },
    {
      "cell_type": "code",
      "execution_count": 21,
      "metadata": {
        "colab": {
          "base_uri": "https://localhost:8080/"
        },
        "id": "YI7VlRQFT7Sh",
        "outputId": "1efb2aee-2d9e-4f44-d9e9-8d6405fcd2b6"
      },
      "outputs": [
        {
          "output_type": "execute_result",
          "data": {
            "text/plain": [
              "E       3921\n",
              "T       2905\n",
              "M       1536\n",
              "E10+    1393\n",
              "EC         8\n",
              "K-A        3\n",
              "AO         1\n",
              "RP         1\n",
              "Name: rating, dtype: int64"
            ]
          },
          "metadata": {},
          "execution_count": 21
        }
      ],
      "source": [
        "data.rating.value_counts()"
      ]
    },
    {
      "cell_type": "markdown",
      "metadata": {
        "id": "e2GsZ3UIT7Sh"
      },
      "source": [
        "Missing values in the \"critic_score\", \"user_score\", \"rating\" columns may mean that there really is no information about these games, or a technical error occurred during data collection. It is not advisable to fill in these gaps with any calculated values based on the rest of the available data, since even the same game on different platforms can have significantly different ratings, both user and critic."
      ]
    },
    {
      "cell_type": "code",
      "execution_count": 22,
      "metadata": {
        "id": "9u-PICg2T7Si"
      },
      "outputs": [],
      "source": [
        "data.rating = data.rating.fillna('unknown')"
      ]
    },
    {
      "cell_type": "markdown",
      "metadata": {
        "id": "ccTyhnXTT7Si"
      },
      "source": [
        "For some games, the value of the user rating is TBD (to be determined), which means that the rating is not currently calculated, the reason for this may be, for example, a small number of ratings from users. For further work with the data of this column, we will technically replace this value with \"-1\" and change the data type to float."
      ]
    },
    {
      "cell_type": "code",
      "execution_count": 23,
      "metadata": {
        "id": "ySDhAolFT7Si"
      },
      "outputs": [],
      "source": [
        "data['user_score'] = np.where(data['user_score']=='tbd',-1,data['user_score'])\n",
        "data['user_score'] = data['user_score'].astype('float')"
      ]
    },
    {
      "cell_type": "markdown",
      "metadata": {
        "id": "u2LhPMGXT7Si"
      },
      "source": [
        "## EDA"
      ]
    },
    {
      "cell_type": "markdown",
      "metadata": {
        "id": "QfoNw6biT7Si"
      },
      "source": [
        "### Estimation of the number of released games per year for the entire observation period"
      ]
    },
    {
      "cell_type": "code",
      "execution_count": 24,
      "metadata": {
        "colab": {
          "base_uri": "https://localhost:8080/",
          "height": 405
        },
        "id": "LgdyXYpTT7Si",
        "outputId": "dc104fcf-1256-49a4-b8ef-0d372a2dc75d"
      },
      "outputs": [
        {
          "output_type": "display_data",
          "data": {
            "text/plain": [
              "<Figure size 1080x432 with 1 Axes>"
            ],
            "image/png": "[encoded data removed]"
          },
          "metadata": {
            "needs_background": "light"
          }
        }
      ],
      "source": [
        "plt.title('Number of games released per year across all platforms')\n",
        "plt.xlabel('Year')\n",
        "plt.ylabel('Number of released games')\n",
        "data.groupby('year_of_release')['name'].count().plot(figsize=(15,6))\n",
        "plt.show()"
      ]
    },
    {
      "cell_type": "markdown",
      "metadata": {
        "id": "CoFlSRvjT7Sj"
      },
      "source": [
        "The graph shows the development of the gaming industry from 1980 to the present. It can be seen that the beginning of a steady growth in the production of computer games falls on the mid-90s - the time when the Sony PlayStation (PS) console appeared. The maximum figures for the number of released games correspond to the period from 2005 to 2013 - the time of the relevance of the previous generation of gaming platforms (PS3, X360, Wii)."
      ]
    },
    {
      "cell_type": "markdown",
      "metadata": {
        "id": "rvVa5JhYT7Sj"
      },
      "source": [
        "### Estimating sales of games across platforms"
      ]
    },
    {
      "cell_type": "markdown",
      "metadata": {
        "id": "-3Jy5pasT7Sj"
      },
      "source": [
        "Let's see how sales have changed by platform, for this we will select the TOP-10 platforms by the number of games sold:"
      ]
    },
    {
      "cell_type": "code",
      "execution_count": 25,
      "metadata": {
        "id": "aTO85-j5T7Sj"
      },
      "outputs": [],
      "source": [
        "top_10_platforms = data.groupby('platform', as_index=False)[['sales_total']].sum(\n",
        ").sort_values(by='sales_total', ascending=False).head(10)"
      ]
    },
    {
      "cell_type": "code",
      "execution_count": 26,
      "metadata": {
        "colab": {
          "base_uri": "https://localhost:8080/",
          "height": 363
        },
        "id": "4XpNhis_T7Sj",
        "outputId": "e9128650-db1f-495e-a9bb-4b2825a79833"
      },
      "outputs": [
        {
          "output_type": "execute_result",
          "data": {
            "text/plain": [
              "   platform  sales_total\n",
              "16      PS2      1233.56\n",
              "28     X360       961.24\n",
              "17      PS3       931.34\n",
              "26      Wii       891.18\n",
              "4        DS       802.76\n",
              "15       PS       727.58\n",
              "18      PS4       314.14\n",
              "6       GBA       312.88\n",
              "19      PSP       289.53\n",
              "2       3DS       257.81"
            ],
            "text/html": [
              "\n",
              "  <div id=\"df-28293d15-3c22-49d3-ae25-b2b161a6c3fe\">\n",
              "    <div class=\"colab-df-container\">\n",
              "      <div>\n",
              "<style scoped>\n",
              "    .dataframe tbody tr th:only-of-type {\n",
              "        vertical-align: middle;\n",
              "    }\n",
              "\n",
              "    .dataframe tbody tr th {\n",
              "        vertical-align: top;\n",
              "    }\n",
              "\n",
              "    .dataframe thead th {\n",
              "        text-align: right;\n",
              "    }\n",
              "</style>\n",
              "<table border=\"1\" class=\"dataframe\">\n",
              "  <thead>\n",
              "    <tr style=\"text-align: right;\">\n",
              "      <th></th>\n",
              "      <th>platform</th>\n",
              "      <th>sales_total</th>\n",
              "    </tr>\n",
              "  </thead>\n",
              "  <tbody>\n",
              "    <tr>\n",
              "      <th>16</th>\n",
              "      <td>PS2</td>\n",
              "      <td>1233.56</td>\n",
              "    </tr>\n",
              "    <tr>\n",
              "      <th>28</th>\n",
              "      <td>X360</td>\n",
              "      <td>961.24</td>\n",
              "    </tr>\n",
              "    <tr>\n",
              "      <th>17</th>\n",
              "      <td>PS3</td>\n",
              "      <td>931.34</td>\n",
              "    </tr>\n",
              "    <tr>\n",
              "      <th>26</th>\n",
              "      <td>Wii</td>\n",
              "      <td>891.18</td>\n",
              "    </tr>\n",
              "    <tr>\n",
              "      <th>4</th>\n",
              "      <td>DS</td>\n",
              "      <td>802.76</td>\n",
              "    </tr>\n",
              "    <tr>\n",
              "      <th>15</th>\n",
              "      <td>PS</td>\n",
              "      <td>727.58</td>\n",
              "    </tr>\n",
              "    <tr>\n",
              "      <th>18</th>\n",
              "      <td>PS4</td>\n",
              "      <td>314.14</td>\n",
              "    </tr>\n",
              "    <tr>\n",
              "      <th>6</th>\n",
              "      <td>GBA</td>\n",
              "      <td>312.88</td>\n",
              "    </tr>\n",
              "    <tr>\n",
              "      <th>19</th>\n",
              "      <td>PSP</td>\n",
              "      <td>289.53</td>\n",
              "    </tr>\n",
              "    <tr>\n",
              "      <th>2</th>\n",
              "      <td>3DS</td>\n",
              "      <td>257.81</td>\n",
              "    </tr>\n",
              "  </tbody>\n",
              "</table>\n",
              "</div>\n",
              "      <button class=\"colab-df-convert\" onclick=\"convertToInteractive('df-28293d15-3c22-49d3-ae25-b2b161a6c3fe')\"\n",
              "              title=\"Convert this dataframe to an interactive table.\"\n",
              "              style=\"display:none;\">\n",
              "        \n",
              "  <svg xmlns=\"http://www.w3.org/2000/svg\" height=\"24px\"viewBox=\"0 0 24 24\"\n",
              "       width=\"24px\">\n",
              "    <path d=\"M0 0h24v24H0V0z\" fill=\"none\"/>\n",
              "    <path d=\"M18.56 5.44l.94 2.06.94-2.06 2.06-.94-2.06-.94-.94-2.06-.94 2.06-2.06.94zm-11 1L8.5 8.5l.94-2.06 2.06-.94-2.06-.94L8.5 2.5l-.94 2.06-2.06.94zm10 10l.94 2.06.94-2.06 2.06-.94-2.06-.94-.94-2.06-.94 2.06-2.06.94z\"/><path d=\"M17.41 7.96l-1.37-1.37c-.4-.4-.92-.59-1.43-.59-.52 0-1.04.2-1.43.59L10.3 9.45l-7.72 7.72c-.78.78-.78 2.05 0 2.83L4 21.41c.39.39.9.59 1.41.59.51 0 1.02-.2 1.41-.59l7.78-7.78 2.81-2.81c.8-.78.8-2.07 0-2.86zM5.41 20L4 18.59l7.72-7.72 1.47 1.35L5.41 20z\"/>\n",
              "  </svg>\n",
              "      </button>\n",
              "      \n",
              "  <style>\n",
              "    .colab-df-container {\n",
              "      display:flex;\n",
              "      flex-wrap:wrap;\n",
              "      gap: 12px;\n",
              "    }\n",
              "\n",
              "    .colab-df-convert {\n",
              "      background-color: #E8F0FE;\n",
              "      border: none;\n",
              "      border-radius: 50%;\n",
              "      cursor: pointer;\n",
              "      display: none;\n",
              "      fill: #1967D2;\n",
              "      height: 32px;\n",
              "      padding: 0 0 0 0;\n",
              "      width: 32px;\n",
              "    }\n",
              "\n",
              "    .colab-df-convert:hover {\n",
              "      background-color: #E2EBFA;\n",
              "      box-shadow: 0px 1px 2px rgba(60, 64, 67, 0.3), 0px 1px 3px 1px rgba(60, 64, 67, 0.15);\n",
              "      fill: #174EA6;\n",
              "    }\n",
              "\n",
              "    [theme=dark] .colab-df-convert {\n",
              "      background-color: #3B4455;\n",
              "      fill: #D2E3FC;\n",
              "    }\n",
              "\n",
              "    [theme=dark] .colab-df-convert:hover {\n",
              "      background-color: #434B5C;\n",
              "      box-shadow: 0px 1px 3px 1px rgba(0, 0, 0, 0.15);\n",
              "      filter: drop-shadow(0px 1px 2px rgba(0, 0, 0, 0.3));\n",
              "      fill: #FFFFFF;\n",
              "    }\n",
              "  </style>\n",
              "\n",
              "      <script>\n",
              "        const buttonEl =\n",
              "          document.querySelector('#df-28293d15-3c22-49d3-ae25-b2b161a6c3fe button.colab-df-convert');\n",
              "        buttonEl.style.display =\n",
              "          google.colab.kernel.accessAllowed ? 'block' : 'none';\n",
              "\n",
              "        async function convertToInteractive(key) {\n",
              "          const element = document.querySelector('#df-28293d15-3c22-49d3-ae25-b2b161a6c3fe');\n",
              "          const dataTable =\n",
              "            await google.colab.kernel.invokeFunction('convertToInteractive',\n",
              "                                                     [key], {});\n",
              "          if (!dataTable) return;\n",
              "\n",
              "          const docLinkHtml = 'Like what you see? Visit the ' +\n",
              "            '<a target=\"_blank\" href=https://colab.research.google.com/notebooks/data_table.ipynb>data table notebook</a>'\n",
              "            + ' to learn more about interactive tables.';\n",
              "          element.innerHTML = '';\n",
              "          dataTable['output_type'] = 'display_data';\n",
              "          await google.colab.output.renderOutput(dataTable, element);\n",
              "          const docLink = document.createElement('div');\n",
              "          docLink.innerHTML = docLinkHtml;\n",
              "          element.appendChild(docLink);\n",
              "        }\n",
              "      </script>\n",
              "    </div>\n",
              "  </div>\n",
              "  "
            ]
          },
          "metadata": {},
          "execution_count": 26
        }
      ],
      "source": [
        "top_10_platforms"
      ]
    },
    {
      "cell_type": "markdown",
      "metadata": {
        "id": "QYNwZSj5T7Sj"
      },
      "source": [
        "Let's build the distribution by year of the total sales of the previously selected platforms:"
      ]
    },
    {
      "cell_type": "code",
      "execution_count": 27,
      "metadata": {
        "colab": {
          "base_uri": "https://localhost:8080/",
          "height": 474
        },
        "id": "erbXBCkTT7Sj",
        "outputId": "0a08d18c-de27-40d1-fa7c-647871d67dd4"
      },
      "outputs": [
        {
          "output_type": "display_data",
          "data": {
            "text/plain": [
              "<Figure size 1152x504 with 1 Axes>"
            ],
            "image/png": "[encoded data removed]"
          },
          "metadata": {
            "needs_background": "light"
          }
        }
      ],
      "source": [
        "data.query('platform in @top_10_platforms.platform'\n",
        "          ).pivot_table(index='year_of_release', columns='platform', values='sales_total', aggfunc='sum'\n",
        "                       ).plot(figsize=(16,7), kind='bar', width=1.2, rot=45)\n",
        "plt.title('Number of games released per year on selected platforms')\n",
        "plt.xlabel('Year')\n",
        "plt.ylabel('Number of released games')\n",
        "plt.show()"
      ]
    },
    {
      "cell_type": "markdown",
      "metadata": {
        "id": "7e-lqvn-T7Sj"
      },
      "source": [
        "On the graph, the life cycle of the platform is displayed along the horizontal axis. It averages 10 years, with a peak in the middle of this period. It is also clear that with the advent of the next generation of the platform, the previous one remains relevant for some time. Let's look at this using the PlayStation and Xbox generations as an example:"
      ]
    },
    {
      "cell_type": "code",
      "execution_count": 28,
      "metadata": {
        "colab": {
          "base_uri": "https://localhost:8080/",
          "height": 474
        },
        "id": "gfIUE2n1T7Sj",
        "outputId": "65827a1c-d534-41a9-a33d-362009719c28"
      },
      "outputs": [
        {
          "output_type": "display_data",
          "data": {
            "text/plain": [
              "<Figure size 1152x504 with 1 Axes>"
            ],
            "image/png": "[encoded data removed]"
          },
          "metadata": {
            "needs_background": "light"
          }
        }
      ],
      "source": [
        "data.query('platform == [\"PS\", \"PS2\", \"PS3\", \"PS4\"]'\n",
        "          ).pivot_table(index='year_of_release', columns='platform', values='sales_total', aggfunc='sum'\n",
        "                       ).plot(figsize=(16,7), kind='bar', width=1.2, rot=45)\n",
        "plt.title('Number of released games on the PlayStation')\n",
        "plt.xlabel('Year')\n",
        "plt.ylabel('Number of released games')\n",
        "plt.show()"
      ]
    },
    {
      "cell_type": "code",
      "execution_count": 29,
      "metadata": {
        "colab": {
          "base_uri": "https://localhost:8080/",
          "height": 473
        },
        "id": "9NhoRvWTT7Sk",
        "outputId": "db434d7f-d21a-406b-91b8-181f422d474a"
      },
      "outputs": [
        {
          "output_type": "display_data",
          "data": {
            "text/plain": [
              "<Figure size 1152x504 with 1 Axes>"
            ],
            "image/png": "[encoded data removed]"
          },
          "metadata": {
            "needs_background": "light"
          }
        }
      ],
      "source": [
        "data.query('platform == [\"XB\", \"X360\", \"XOne\"]'\n",
        "          ).pivot_table(index='year_of_release', columns='platform', values='sales_total', aggfunc='sum'\n",
        "                       ).plot(figsize=(16,7), kind='bar', width=1.2, rot=45)\n",
        "plt.title('Number of released games on the Xbox')\n",
        "plt.xlabel('Year')\n",
        "plt.ylabel('Number of released games')\n",
        "plt.show()"
      ]
    },
    {
      "cell_type": "markdown",
      "metadata": {
        "id": "cDlIGH_uT7Sk"
      },
      "source": [
        "The examples above show that although the previous generation of consoles continues to remain on the market for the first time after the release of new devices, but its share is so small that it cannot be used to predict sales for the future period. In other words, you should concentrate on studying the market for gaming platforms of the current generation."
      ]
    },
    {
      "cell_type": "markdown",
      "metadata": {
        "id": "se--5s9-T7Sk"
      },
      "source": [
        "Let's make a list of relevant gaming platforms for forecasting for 2017:"
      ]
    },
    {
      "cell_type": "code",
      "execution_count": 30,
      "metadata": {
        "colab": {
          "base_uri": "https://localhost:8080/"
        },
        "id": "IY-C-n9MT7Sk",
        "outputId": "1ad8a83d-f6a4-4bd9-bcd2-e382d47760c8"
      },
      "outputs": [
        {
          "output_type": "execute_result",
          "data": {
            "text/plain": [
              "0    XOne\n",
              "1     PS4\n",
              "2    WiiU\n",
              "3     3DS\n",
              "4     PSV\n",
              "5      PC\n",
              "Name: platform, dtype: object"
            ]
          },
          "metadata": {},
          "execution_count": 30
        }
      ],
      "source": [
        "actual_platforms = data.groupby('platform')['year_of_release'].min(\n",
        ").sort_values(ascending=False).head(5).reset_index()['platform']\n",
        "actual_platforms[len(actual_platforms)] = 'PC'\n",
        "actual_platforms"
      ]
    },
    {
      "cell_type": "markdown",
      "metadata": {
        "id": "CjS495zeT7Sk"
      },
      "source": [
        "Let's determine which platforms are leading in sales. Because the description of the dataset says that the data for 2016 may not be complete, we will not take them into account when determining. Data for the years preceding the emergence of the platforms under consideration are also not considered."
      ]
    },
    {
      "cell_type": "code",
      "execution_count": 31,
      "metadata": {
        "colab": {
          "base_uri": "https://localhost:8080/",
          "height": 480
        },
        "id": "izDrx22PT7Sl",
        "outputId": "95cfde02-a89f-4644-998c-db88ff77ce6b"
      },
      "outputs": [
        {
          "output_type": "display_data",
          "data": {
            "text/plain": [
              "<Figure size 1152x504 with 1 Axes>"
            ],
            "image/png": "[encoded data removed]"
          },
          "metadata": {
            "needs_background": "light"
          }
        }
      ],
      "source": [
        "data.query('platform in @actual_platforms & 2013 <= year_of_release'\n",
        "          ).pivot_table(index='year_of_release', columns='platform', values='sales_total', aggfunc='sum'\n",
        "                       ).plot(figsize=(16,7), rot=45)\n",
        "plt.title('Number of game sales per year by current platforms')\n",
        "plt.xlabel('Year')\n",
        "plt.ylabel('Number of games sold')\n",
        "plt.show()"
      ]
    },
    {
      "cell_type": "markdown",
      "metadata": {
        "id": "5jwmTxFtT7Sl"
      },
      "source": [
        "The graph shows that the PS4 and XOne platforms can become potentially profitable in 2017, demonstrating stable sales growth over the past periods."
      ]
    },
    {
      "cell_type": "markdown",
      "metadata": {
        "id": "iu1kymFDT7Sl"
      },
      "source": [
        "Let's make a box-and-mustache plot of global game sales by platform:"
      ]
    },
    {
      "cell_type": "code",
      "execution_count": 32,
      "metadata": {
        "colab": {
          "base_uri": "https://localhost:8080/",
          "height": 730
        },
        "id": "QC1GcZ24T7Sl",
        "outputId": "5688f556-cb10-4e0d-94e0-d716482c3c6f"
      },
      "outputs": [
        {
          "output_type": "display_data",
          "data": {
            "text/plain": [
              "<Figure size 576x864 with 1 Axes>"
            ],
            "image/png": "[encoded data removed]"
          },
          "metadata": {
            "needs_background": "light"
          }
        }
      ],
      "source": [
        "plt.subplots(figsize=(8,12))\n",
        "sns.boxplot(x=data.query('platform in @actual_platforms & 2013 <= year_of_release'\n",
        "          )['platform'], y=data.query('platform in @actual_platforms & 2013 <= year_of_release'\n",
        "          )['sales_total'])\n",
        "plt.title('Global game sales by platform')\n",
        "plt.xlabel('Platform')\n",
        "plt.ylabel('Number of games sold')\n",
        "plt.show()"
      ]
    },
    {
      "cell_type": "markdown",
      "metadata": {
        "id": "DYxu--evT7Sl"
      },
      "source": [
        "There are too large upshoots, we will limit the scale of the number of sales to improve the visibility of the charts:"
      ]
    },
    {
      "cell_type": "code",
      "execution_count": 33,
      "metadata": {
        "colab": {
          "base_uri": "https://localhost:8080/",
          "height": 730
        },
        "id": "Gntbs-06T7Sl",
        "outputId": "cf665e67-c5a8-48b7-aece-c4abf8eea1a5"
      },
      "outputs": [
        {
          "output_type": "display_data",
          "data": {
            "text/plain": [
              "<Figure size 576x864 with 1 Axes>"
            ],
            "image/png": "[encoded data removed]"
          },
          "metadata": {
            "needs_background": "light"
          }
        }
      ],
      "source": [
        "plt.subplots(figsize=(8,12))\n",
        "plt.ylim(0,2)\n",
        "sns.boxplot(x=data.query('platform in @actual_platforms & 2013 <= year_of_release'\n",
        "          )['platform'], y=data.query('platform in @actual_platforms & 2013 <= year_of_release'\n",
        "          )['sales_total'])\n",
        "plt.title('Global game sales by platform')\n",
        "plt.xlabel('Platform')\n",
        "plt.ylabel('Number of games sold')\n",
        "plt.show()"
      ]
    },
    {
      "cell_type": "markdown",
      "metadata": {
        "id": "ZLa84RBLT7Sl"
      },
      "source": [
        "The distributions of circulation of games sold within the platforms under consideration (PS4 and XOne) are similar, and the distribution of WiiU roughly corresponds to them (but the total sales of games for this platform do not allow us to consider it as potentially profitable). Their parameters Q1, Q2 are approximately equal, and Q3 differ not so significantly as in other platforms. Most of the games in the period under review on all platforms are sold with circulations not exceeding 750,000 copies, but there are also titles with outstanding sales of several million copies on all platforms."
      ]
    },
    {
      "cell_type": "markdown",
      "metadata": {
        "id": "gx7t398TT7Sl"
      },
      "source": [
        "### Evaluation of the impact of reviews on the level of sales of games on the PS4 and XOne platforms"
      ]
    },
    {
      "cell_type": "markdown",
      "metadata": {
        "id": "5E7MxZ-CT7Sm"
      },
      "source": [
        "Let's see how the reviews of users and critics affect sales within the platform:"
      ]
    },
    {
      "cell_type": "code",
      "execution_count": 34,
      "metadata": {
        "id": "P1nuYMoAT7Sm"
      },
      "outputs": [],
      "source": [
        "xone_data = data.query('platform == \"XOne\"')"
      ]
    },
    {
      "cell_type": "code",
      "execution_count": 35,
      "metadata": {
        "colab": {
          "base_uri": "https://localhost:8080/",
          "height": 567
        },
        "id": "NSszNBCVT7Sm",
        "outputId": "417196f7-51fd-41b7-acee-f4c87d0eb4a9"
      },
      "outputs": [
        {
          "output_type": "display_data",
          "data": {
            "text/plain": [
              "<Figure size 648x648 with 1 Axes>"
            ],
            "image/png": "[encoded data removed]"
          },
          "metadata": {
            "needs_background": "light"
          }
        }
      ],
      "source": [
        "xone_data[~xone_data['critic_score'].isna()].plot(\n",
        "    x='critic_score', y='sales_total', kind='scatter', alpha=0.5, figsize=(9,9))\n",
        "plt.title('Dependence of the number of sold copies of the game on the ratings of critics')\n",
        "plt.xlabel('Critics score')\n",
        "plt.ylabel('Total sales')\n",
        "plt.show()"
      ]
    },
    {
      "cell_type": "code",
      "execution_count": 36,
      "metadata": {
        "colab": {
          "base_uri": "https://localhost:8080/",
          "height": 567
        },
        "id": "T7Qk06rET7Sm",
        "outputId": "1eaa7d8f-b0da-4526-e175-e36900a67c19"
      },
      "outputs": [
        {
          "output_type": "display_data",
          "data": {
            "text/plain": [
              "<Figure size 648x648 with 1 Axes>"
            ],
            "image/png": "[encoded data removed]"
          },
          "metadata": {
            "needs_background": "light"
          }
        }
      ],
      "source": [
        "xone_data[~xone_data['user_score'].isna() & xone_data['user_score'] != -1].plot(\n",
        "    x='user_score', y='sales_total', kind='scatter', alpha=0.5, figsize=(9,9))\n",
        "plt.title('The dependence of the number of sold copies of the game on user ratings')\n",
        "plt.xlabel('User score')\n",
        "plt.ylabel('Total sales')\n",
        "plt.show()"
      ]
    },
    {
      "cell_type": "markdown",
      "metadata": {
        "id": "5NbTwlFZT7Sm"
      },
      "source": [
        "Correlation of total sales and critics' ratings:"
      ]
    },
    {
      "cell_type": "code",
      "execution_count": 37,
      "metadata": {
        "colab": {
          "base_uri": "https://localhost:8080/"
        },
        "id": "Y2zZU9ylT7Sm",
        "outputId": "96ed87a7-7fcb-4f77-fdbf-861d3f4772e3"
      },
      "outputs": [
        {
          "output_type": "execute_result",
          "data": {
            "text/plain": [
              "0.4169983280084017"
            ]
          },
          "metadata": {},
          "execution_count": 37
        }
      ],
      "source": [
        "xone_data[~xone_data['critic_score'].isna()]['critic_score'].corr(\n",
        "    xone_data[~xone_data['critic_score'].isna()]['sales_total'])"
      ]
    },
    {
      "cell_type": "markdown",
      "metadata": {
        "id": "PrLMLAUHT7Sm"
      },
      "source": [
        "Correlation of total sales and player ratings:"
      ]
    },
    {
      "cell_type": "code",
      "execution_count": 38,
      "metadata": {
        "colab": {
          "base_uri": "https://localhost:8080/"
        },
        "id": "tvdPI9IZT7Sn",
        "outputId": "1f49c2de-6c91-40a0-f08a-8e17b5a6cb40"
      },
      "outputs": [
        {
          "output_type": "execute_result",
          "data": {
            "text/plain": [
              "0.08525772912713797"
            ]
          },
          "metadata": {},
          "execution_count": 38
        }
      ],
      "source": [
        "xone_data[~xone_data['user_score'].isna() & xone_data['user_score'] != -1]['user_score'].corr(\n",
        "    xone_data[~xone_data['user_score'].isna() & xone_data['user_score'] != -1]['sales_total'])"
      ]
    },
    {
      "cell_type": "code",
      "execution_count": 39,
      "metadata": {
        "id": "Xf3GUT40T7Sn"
      },
      "outputs": [],
      "source": [
        "ps4_data = data.query('platform == \"PS4\"')"
      ]
    },
    {
      "cell_type": "code",
      "execution_count": 40,
      "metadata": {
        "colab": {
          "base_uri": "https://localhost:8080/",
          "height": 567
        },
        "id": "K7FYU11pT7Sn",
        "outputId": "9a22966c-b7d5-4869-ecaf-d9f931b7821f"
      },
      "outputs": [
        {
          "output_type": "display_data",
          "data": {
            "text/plain": [
              "<Figure size 648x648 with 1 Axes>"
            ],
            "image/png": "[encoded data removed]"
          },
          "metadata": {
            "needs_background": "light"
          }
        }
      ],
      "source": [
        "ps4_data[~ps4_data['critic_score'].isna()].plot(\n",
        "    x='critic_score', y='sales_total', kind='scatter', alpha=0.5, figsize=(9,9))\n",
        "plt.title('Dependence of the number of sold copies of the game on the ratings of critics')\n",
        "plt.xlabel('Critics score')\n",
        "plt.ylabel('Total sales')\n",
        "plt.show()"
      ]
    },
    {
      "cell_type": "code",
      "execution_count": 41,
      "metadata": {
        "colab": {
          "base_uri": "https://localhost:8080/",
          "height": 567
        },
        "id": "Ntm-TPIRT7Sn",
        "outputId": "71cfa8bf-c37d-4e2e-ae0e-84832a39812a"
      },
      "outputs": [
        {
          "output_type": "display_data",
          "data": {
            "text/plain": [
              "<Figure size 648x648 with 1 Axes>"
            ],
            "image/png": "[encoded data removed]"
          },
          "metadata": {
            "needs_background": "light"
          }
        }
      ],
      "source": [
        "ps4_data[~ps4_data['user_score'].isna() & ps4_data['user_score'] != -1].plot(\n",
        "    x='user_score', y='sales_total', kind='scatter', alpha=0.5, figsize=(9,9))\n",
        "plt.title('The dependence of the number of sold copies of the game on user ratings')\n",
        "plt.xlabel('User score')\n",
        "plt.ylabel('Total sales')\n",
        "plt.show()"
      ]
    },
    {
      "cell_type": "code",
      "execution_count": 42,
      "metadata": {
        "colab": {
          "base_uri": "https://localhost:8080/"
        },
        "id": "qxMjOU-DT7Sn",
        "outputId": "8db075ae-4052-4c40-fd9d-a5bd926d6728"
      },
      "outputs": [
        {
          "output_type": "execute_result",
          "data": {
            "text/plain": [
              "0.40656790206178095"
            ]
          },
          "metadata": {},
          "execution_count": 42
        }
      ],
      "source": [
        "ps4_data[~ps4_data['critic_score'].isna()]['critic_score'].corr(\n",
        "    ps4_data[~ps4_data['critic_score'].isna()]['sales_total'])"
      ]
    },
    {
      "cell_type": "code",
      "execution_count": 43,
      "metadata": {
        "colab": {
          "base_uri": "https://localhost:8080/"
        },
        "id": "G8e3BOY-T7Sn",
        "outputId": "7e961413-8410-44df-a5da-e9e72f724cef"
      },
      "outputs": [
        {
          "output_type": "execute_result",
          "data": {
            "text/plain": [
              "0.029109559532921808"
            ]
          },
          "metadata": {},
          "execution_count": 43
        }
      ],
      "source": [
        "ps4_data[~ps4_data['user_score'].isna() & ps4_data['user_score'] != -1]['user_score'].corr(\n",
        "    ps4_data[~ps4_data['user_score'].isna() & ps4_data['user_score'] != -1]['sales_total'])"
      ]
    },
    {
      "cell_type": "markdown",
      "metadata": {
        "id": "l9HdpqOzT7So"
      },
      "source": [
        "The graphs do not show any pronounced trends in the dependence of the number of sales on reviews, at least they cannot be used to state that there is a linear relationship between these parameters. This is also confirmed by the calculated correlation coefficients, with values around 0.4 for both platforms."
      ]
    },
    {
      "cell_type": "markdown",
      "metadata": {
        "id": "pokz1W2MT7So"
      },
      "source": [
        "### Definition of popular game genres"
      ]
    },
    {
      "cell_type": "markdown",
      "metadata": {
        "id": "c1IVR1glT7So"
      },
      "source": [
        "Let's build a graph of the distribution of the number of sales of games of different genres:"
      ]
    },
    {
      "cell_type": "code",
      "execution_count": 44,
      "metadata": {
        "colab": {
          "base_uri": "https://localhost:8080/",
          "height": 456
        },
        "id": "S0MxtScqT7So",
        "outputId": "54aa5293-dc45-405e-9126-bd00c77cf234"
      },
      "outputs": [
        {
          "output_type": "display_data",
          "data": {
            "text/plain": [
              "<Figure size 648x432 with 1 Axes>"
            ],
            "image/png": "[encoded data removed]"
          },
          "metadata": {
            "needs_background": "light"
          }
        }
      ],
      "source": [
        "data.query('year_of_release >= 2013').groupby('genre')['sales_total'].sum().plot(kind='bar', figsize=(9,6), grid=True)\n",
        "plt.title('Total sales of games of various genres')\n",
        "plt.xlabel('Genre')\n",
        "plt.ylabel('Number of games sold')\n",
        "plt.show()"
      ]
    },
    {
      "cell_type": "code",
      "execution_count": 45,
      "metadata": {
        "colab": {
          "base_uri": "https://localhost:8080/",
          "height": 456
        },
        "id": "i_wvmMqGT7So",
        "outputId": "0a029bc6-3eb5-4a23-f47b-5184ceaf1448"
      },
      "outputs": [
        {
          "output_type": "display_data",
          "data": {
            "text/plain": [
              "<Figure size 648x432 with 1 Axes>"
            ],
            "image/png": "[encoded data removed]"
          },
          "metadata": {
            "needs_background": "light"
          }
        }
      ],
      "source": [
        "data.query('year_of_release >= 2013'\n",
        "          ).groupby('genre')['sales_total'].mean().plot(kind='bar', figsize=(9,6), grid=True)\n",
        "plt.title('Average game sales by genre')\n",
        "plt.xlabel('Genre')\n",
        "plt.ylabel('Average number of games sold')\n",
        "plt.show()"
      ]
    },
    {
      "cell_type": "code",
      "execution_count": 46,
      "metadata": {
        "colab": {
          "base_uri": "https://localhost:8080/",
          "height": 456
        },
        "id": "z-pRd8aUT7So",
        "outputId": "2de2a5cf-184f-4452-afab-f0e7633cb6af"
      },
      "outputs": [
        {
          "output_type": "display_data",
          "data": {
            "text/plain": [
              "<Figure size 648x432 with 1 Axes>"
            ],
            "image/png": "[encoded data removed]"
          },
          "metadata": {
            "needs_background": "light"
          }
        }
      ],
      "source": [
        "data.query('year_of_release >= 2013'\n",
        "          ).groupby('genre')['sales_total'].count().plot(kind='bar', figsize=(9,6), grid=True)\n",
        "plt.title('Number of games per genre')\n",
        "plt.xlabel('Genre')\n",
        "plt.ylabel('Number of titles sold')\n",
        "plt.show()"
      ]
    },
    {
      "cell_type": "markdown",
      "metadata": {
        "id": "b_8aLqrST7So"
      },
      "source": [
        "Average sales of games are conditionally divided into three groups, in which shooters and sports games are in the lead, adventures, puzzles and strategies are the least bought. The rest of the genres are sold almost equally. At the same time, the number of released games of the action genre significantly exceeds the number of games of all other genres. We conclude that in total sales, the action genre is dominated by quantity, and shooters - by quality."
      ]
    },
    {
      "cell_type": "markdown",
      "metadata": {
        "id": "2N7OiP-VT7Sp"
      },
      "source": [
        "## Drawing up a portrait of the user of each region"
      ]
    },
    {
      "cell_type": "markdown",
      "metadata": {
        "id": "N0xODE9eT7Sp"
      },
      "source": [
        "When comparing the preferred gaming platforms by users from different regions, it makes sense to make a comparison relative to the current gaming era, from 2013 to the present, we will consider the genre preferences of users for the entire observation period."
      ]
    },
    {
      "cell_type": "code",
      "execution_count": 47,
      "metadata": {
        "colab": {
          "base_uri": "https://localhost:8080/",
          "height": 896
        },
        "id": "d93zrSh0T7Sp",
        "outputId": "3defc959-b127-4d72-c358-d590146fd2a2"
      },
      "outputs": [
        {
          "output_type": "display_data",
          "data": {
            "text/plain": [
              "<Figure size 432x288 with 1 Axes>"
            ],
            "image/png": "[encoded data removed]"
          },
          "metadata": {
            "needs_background": "light"
          }
        },
        {
          "output_type": "display_data",
          "data": {
            "text/plain": [
              "<Figure size 432x288 with 1 Axes>"
            ],
            "image/png": "[encoded data removed]"
          },
          "metadata": {
            "needs_background": "light"
          }
        },
        {
          "output_type": "display_data",
          "data": {
            "text/plain": [
              "<Figure size 432x288 with 1 Axes>"
            ],
            "image/png": "[encoded data removed]"
          },
          "metadata": {
            "needs_background": "light"
          }
        }
      ],
      "source": [
        "data.query('na_sales > 0 & year_of_release >= 2013'\n",
        "          ).pivot_table(index='platform', values=['na_sales'], aggfunc=['sum']\n",
        ").sort_values(by=('sum','na_sales'), ascending=False).head().plot(kind='bar', grid=True, rot=45)\n",
        "plt.title('Top 5 gaming platforms in North America')\n",
        "plt.legend(['Total sales, million'])\n",
        "plt.xlabel('Platform')\n",
        "data.query('eu_sales > 0 & year_of_release >= 2013'\n",
        "          ).pivot_table(index='platform', values=['eu_sales'], aggfunc=['sum']\n",
        ").sort_values(by=('sum','eu_sales'), ascending=False).head().plot(kind='bar', grid=True, rot=45)\n",
        "plt.title('Top 5 gaming platforms in Europe')\n",
        "plt.legend(['Total sales, million'])\n",
        "plt.xlabel('Platform')\n",
        "data.query('jp_sales > 0 & year_of_release >= 2013'\n",
        "          ).pivot_table(index='platform', values=['jp_sales'], aggfunc=['sum']\n",
        ").sort_values(by=('sum','jp_sales'), ascending=False).head().plot(kind='bar', grid=True, rot=45)\n",
        "plt.title('Top 5 gaming platforms in Japan')\n",
        "plt.legend(['Total sales, million'])\n",
        "plt.xlabel('Platform')\n",
        "plt.show()"
      ]
    },
    {
      "cell_type": "markdown",
      "metadata": {
        "id": "bD6Aq4rvT7Sp"
      },
      "source": [
        "The comparison shows that the PS4 leads the North American and European markets. The total share of Playstation (PS4 and PS3) in the European market is almost half of all popular platforms, while in America the market is divided approximately in half between Xbox (XOne and X360) and Playstation. The Japanese market lives by its own laws, most of all game sales come from a portable console from Nintendo."
      ]
    },
    {
      "cell_type": "code",
      "execution_count": 48,
      "metadata": {
        "colab": {
          "base_uri": "https://localhost:8080/",
          "height": 974
        },
        "id": "8gUXiznZT7Sp",
        "outputId": "cb85f238-2bc5-4d84-8ef0-49e62e2ec6e6"
      },
      "outputs": [
        {
          "output_type": "display_data",
          "data": {
            "text/plain": [
              "<Figure size 432x288 with 1 Axes>"
            ],
            "image/png": "[encoded data removed]"
          },
          "metadata": {
            "needs_background": "light"
          }
        },
        {
          "output_type": "display_data",
          "data": {
            "text/plain": [
              "<Figure size 432x288 with 1 Axes>"
            ],
            "image/png": "[encoded data removed]"
          },
          "metadata": {
            "needs_background": "light"
          }
        },
        {
          "output_type": "display_data",
          "data": {
            "text/plain": [
              "<Figure size 432x288 with 1 Axes>"
            ],
            "image/png": "[encoded data removed]"
          },
          "metadata": {
            "needs_background": "light"
          }
        }
      ],
      "source": [
        "data.query('na_sales > 0 & year_of_release >= 2013').pivot_table(index='genre', values=['na_sales'], aggfunc=['sum']\n",
        ").sort_values(by=('sum','na_sales'), ascending=False).head().plot(kind='bar', grid=True, rot=45)\n",
        "plt.title('Top 5 game genres in North America')\n",
        "plt.legend(['Total sales, million'])\n",
        "plt.xlabel('Genre')\n",
        "data.query('eu_sales > 0 & year_of_release >= 2013').pivot_table(index='genre', values=['eu_sales'], aggfunc=['sum']\n",
        ").sort_values(by=('sum','eu_sales'), ascending=False).head().plot(kind='bar', grid=True, rot=45)\n",
        "plt.title('Top 5 game genres in Europe')\n",
        "plt.legend(['Total sales, million'])\n",
        "plt.xlabel('Genre')\n",
        "data.query('jp_sales > 0 & year_of_release >= 2013').pivot_table(index='genre', values=['jp_sales'], aggfunc=['sum']\n",
        ").sort_values(by=('sum','jp_sales'), ascending=False).head().plot(kind='bar', grid=True, rot=45)\n",
        "plt.title('Top 5 game genres in Japan')\n",
        "plt.legend(['Total sales, million'])\n",
        "plt.xlabel('Genre')\n",
        "plt.show()"
      ]
    },
    {
      "cell_type": "markdown",
      "metadata": {
        "id": "cIDI2e6uT7Sp"
      },
      "source": [
        "The distribution proportions by genre are similar in America and Europe, the only difference is that in Europe the Racing genre is the fifth most popular genre, instead of RPG in America. In the Japanese market, Role-Playing and Action are the most popular genres, other genres lag behind them in popularity by several times."
      ]
    },
    {
      "cell_type": "code",
      "execution_count": 49,
      "metadata": {
        "colab": {
          "base_uri": "https://localhost:8080/",
          "height": 938
        },
        "id": "mckW8dwjT7Sp",
        "outputId": "4c25fba3-9311-48ab-f46b-413ba06b684b"
      },
      "outputs": [
        {
          "output_type": "display_data",
          "data": {
            "text/plain": [
              "<Figure size 432x288 with 1 Axes>"
            ],
            "image/png": "[encoded data removed]"
          },
          "metadata": {
            "needs_background": "light"
          }
        },
        {
          "output_type": "display_data",
          "data": {
            "text/plain": [
              "<Figure size 432x288 with 1 Axes>"
            ],
            "image/png": "[encoded data removed]"
          },
          "metadata": {
            "needs_background": "light"
          }
        },
        {
          "output_type": "display_data",
          "data": {
            "text/plain": [
              "<Figure size 432x288 with 1 Axes>"
            ],
            "image/png": "[encoded data removed]"
          },
          "metadata": {
            "needs_background": "light"
          }
        }
      ],
      "source": [
        "data.query('na_sales > 0 & year_of_release >= 2013').pivot_table(index='rating', values='na_sales', aggfunc=['sum']\n",
        ").sort_values(by=('sum', 'na_sales'), ascending=False).plot(kind='bar', grid=True, rot=45)\n",
        "plt.legend(['Total sales, million'])\n",
        "plt.xlabel('ESRB rating')\n",
        "plt.title('Top 5 games by age rating in North America')\n",
        "data.query('eu_sales > 0 & year_of_release >= 2013').pivot_table(index='rating', values='eu_sales', aggfunc=['sum']\n",
        ").sort_values(by=('sum', 'eu_sales'), ascending=False).plot(kind='bar', grid=True, rot=45)\n",
        "plt.legend(['Total sales, million'])\n",
        "plt.xlabel('ESRB rating')\n",
        "plt.title('Top 5 games by age rating in Europe')\n",
        "data.query('jp_sales > 0 & year_of_release >= 2013').pivot_table(index='rating', values='jp_sales', aggfunc=['sum']\n",
        ").sort_values(by=('sum', 'jp_sales'), ascending=False).plot(kind='bar', grid=True, rot=45)\n",
        "plt.title('Top 5 games by age rating in Japan')\n",
        "plt.legend(['Total sales, million'])\n",
        "plt.xlabel('ESRB rating')\n",
        "plt.show()"
      ]
    },
    {
      "cell_type": "markdown",
      "metadata": {
        "id": "_gFQ-_gfT7Sq"
      },
      "source": [
        "In all regions there is no fundamental difference in the distribution of the age rating of popular games. Everywhere from known the rating of Mature is in the lead. Teens, Everyone and unknown, as well as E10+ and Teens have similar shares in Europe and America. Japan, by tradition, demonstrates a different distribution by age ratings, but the positions in it are the same as on other continents."
      ]
    },
    {
      "cell_type": "markdown",
      "metadata": {
        "id": "n7JoEWGBT7Sv"
      },
      "source": [
        "## Conclusion"
      ]
    },
    {
      "cell_type": "markdown",
      "metadata": {
        "id": "wI_xuvA2T7Sv"
      },
      "source": [
        "Based on the study, the following conclusions were made:\n",
        "* The most promising in 2017 will be to bet on the sale of games for the PS4 and Xbox One platforms.\n",
        "* Most sales can be expected for Action, Sports, Shooter, RPG games.\n",
        "* User ratings and critic reviews do not significantly affect the level of sales of games, because. they are not always objective.\n",
        "* Most games sold in Europe and America are rated Mature (17+). For a significant proportion of games, the rating is not defined.\n",
        "* The lifetime of a platform generation reaches ten years (PC does not count, because there is continuous evolution), while the peak of platform popularity comes in the middle of its life cycle, which is happening right now (2017) for recommended earlier platforms.\n",
        "* In general, the gaming industry of large platforms is currently going through hard times compared to the period of relevance of the previous generation, this is largely due to the development of mobile gaming, and the transition of a part of the audience to this entertainment segment."
      ]
    }
  ],
  "metadata": {
    "ExecuteTimeLog": [
      {
        "duration": 1013,
        "start_time": "2021-11-22T08:56:06.462Z"
      },
      {
        "duration": 93,
        "start_time": "2021-11-22T08:56:23.226Z"
      },
      {
        "duration": 49,
        "start_time": "2021-11-22T08:56:29.375Z"
      },
      {
        "duration": 40,
        "start_time": "2021-11-22T08:56:34.433Z"
      },
      {
        "duration": 17,
        "start_time": "2021-11-22T08:56:57.951Z"
      },
      {
        "duration": 26,
        "start_time": "2021-11-22T08:57:42.481Z"
      },
      {
        "duration": 22,
        "start_time": "2021-11-22T08:57:50.581Z"
      },
      {
        "duration": 23,
        "start_time": "2021-11-22T08:57:55.785Z"
      },
      {
        "duration": 10,
        "start_time": "2021-11-22T08:58:17.984Z"
      },
      {
        "duration": 139,
        "start_time": "2021-11-22T08:58:59.174Z"
      },
      {
        "duration": 393,
        "start_time": "2021-11-22T08:59:09.666Z"
      },
      {
        "duration": 35,
        "start_time": "2021-11-22T08:59:26.605Z"
      },
      {
        "duration": 430,
        "start_time": "2021-11-22T09:00:10.906Z"
      },
      {
        "duration": 5,
        "start_time": "2021-11-22T09:00:21.902Z"
      },
      {
        "duration": 4,
        "start_time": "2021-11-22T09:01:26.474Z"
      },
      {
        "duration": 29,
        "start_time": "2021-11-22T09:01:30.324Z"
      },
      {
        "duration": 422,
        "start_time": "2021-11-22T09:02:16.638Z"
      },
      {
        "duration": 9,
        "start_time": "2021-11-22T09:03:22.074Z"
      },
      {
        "duration": 23,
        "start_time": "2021-11-22T09:03:45.356Z"
      },
      {
        "duration": 19,
        "start_time": "2021-11-22T09:04:47.057Z"
      },
      {
        "duration": 15,
        "start_time": "2021-11-22T09:04:55.104Z"
      },
      {
        "duration": 11,
        "start_time": "2021-11-22T09:04:58.183Z"
      },
      {
        "duration": 756,
        "start_time": "2021-11-22T09:05:58.636Z"
      },
      {
        "duration": 49,
        "start_time": "2021-11-22T09:05:59.395Z"
      },
      {
        "duration": 50,
        "start_time": "2021-11-22T09:05:59.446Z"
      },
      {
        "duration": 16,
        "start_time": "2021-11-22T09:05:59.499Z"
      },
      {
        "duration": 3,
        "start_time": "2021-11-22T09:05:59.518Z"
      },
      {
        "duration": 58,
        "start_time": "2021-11-22T09:05:59.524Z"
      },
      {
        "duration": 8,
        "start_time": "2021-11-22T09:05:59.585Z"
      },
      {
        "duration": 9,
        "start_time": "2021-11-22T09:05:59.597Z"
      },
      {
        "duration": 763,
        "start_time": "2021-11-22T09:06:21.085Z"
      },
      {
        "duration": 49,
        "start_time": "2021-11-22T09:06:21.851Z"
      },
      {
        "duration": 39,
        "start_time": "2021-11-22T09:06:21.903Z"
      },
      {
        "duration": 39,
        "start_time": "2021-11-22T09:06:21.944Z"
      },
      {
        "duration": 4,
        "start_time": "2021-11-22T09:06:21.985Z"
      },
      {
        "duration": 29,
        "start_time": "2021-11-22T09:06:21.992Z"
      },
      {
        "duration": 8,
        "start_time": "2021-11-22T09:06:22.024Z"
      },
      {
        "duration": 60,
        "start_time": "2021-11-22T09:06:22.035Z"
      },
      {
        "duration": 54,
        "start_time": "2021-11-22T09:07:32.419Z"
      },
      {
        "duration": 28,
        "start_time": "2021-11-22T09:07:32.808Z"
      },
      {
        "duration": 15,
        "start_time": "2021-11-22T09:07:33.576Z"
      },
      {
        "duration": 4,
        "start_time": "2021-11-22T09:07:36.636Z"
      },
      {
        "duration": 22,
        "start_time": "2021-11-22T09:07:39.955Z"
      },
      {
        "duration": 13,
        "start_time": "2021-11-22T09:08:47.000Z"
      },
      {
        "duration": 28,
        "start_time": "2021-11-22T09:08:49.389Z"
      },
      {
        "duration": 13,
        "start_time": "2021-11-22T09:09:09.662Z"
      },
      {
        "duration": 35,
        "start_time": "2021-11-22T09:10:15.610Z"
      },
      {
        "duration": 388,
        "start_time": "2021-11-22T09:11:09.041Z"
      },
      {
        "duration": 384,
        "start_time": "2021-11-22T09:11:43.931Z"
      },
      {
        "duration": 9,
        "start_time": "2021-11-22T09:11:55.304Z"
      },
      {
        "duration": 6,
        "start_time": "2021-11-22T09:12:12.820Z"
      },
      {
        "duration": 5,
        "start_time": "2021-11-22T09:15:22.757Z"
      },
      {
        "duration": 10,
        "start_time": "2021-11-22T09:15:40.352Z"
      },
      {
        "duration": 6,
        "start_time": "2021-11-22T09:17:32.126Z"
      },
      {
        "duration": 281,
        "start_time": "2021-11-22T09:18:55.955Z"
      },
      {
        "duration": 46,
        "start_time": "2021-11-22T09:19:02.776Z"
      },
      {
        "duration": 110,
        "start_time": "2021-11-22T09:19:56.235Z"
      },
      {
        "duration": 36,
        "start_time": "2021-11-22T09:20:06.955Z"
      },
      {
        "duration": 12,
        "start_time": "2021-11-22T09:20:47.416Z"
      },
      {
        "duration": 24,
        "start_time": "2021-11-22T09:20:57.911Z"
      },
      {
        "duration": 109,
        "start_time": "2021-11-22T09:23:37.811Z"
      },
      {
        "duration": 25,
        "start_time": "2021-11-22T09:23:54.806Z"
      },
      {
        "duration": 23,
        "start_time": "2021-11-22T09:24:27.364Z"
      },
      {
        "duration": 23,
        "start_time": "2021-11-22T09:24:37.394Z"
      },
      {
        "duration": 10,
        "start_time": "2021-11-22T09:27:09.553Z"
      },
      {
        "duration": 10,
        "start_time": "2021-11-22T09:28:13.802Z"
      },
      {
        "duration": 12,
        "start_time": "2021-11-22T09:28:36.021Z"
      },
      {
        "duration": 11,
        "start_time": "2021-11-22T09:28:46.306Z"
      },
      {
        "duration": 45,
        "start_time": "2021-11-22T09:31:31.595Z"
      },
      {
        "duration": 32,
        "start_time": "2021-11-22T09:31:32.022Z"
      },
      {
        "duration": 13,
        "start_time": "2021-11-22T09:31:32.831Z"
      },
      {
        "duration": 403,
        "start_time": "2021-11-22T09:35:30.132Z"
      },
      {
        "duration": 31,
        "start_time": "2021-11-22T09:35:51.733Z"
      },
      {
        "duration": 12,
        "start_time": "2021-11-22T09:35:52.434Z"
      },
      {
        "duration": 5,
        "start_time": "2021-11-22T09:35:53.637Z"
      },
      {
        "duration": 32,
        "start_time": "2021-11-22T09:35:54.700Z"
      },
      {
        "duration": 18,
        "start_time": "2021-11-22T09:35:58.088Z"
      },
      {
        "duration": 304,
        "start_time": "2021-11-22T09:36:00.356Z"
      },
      {
        "duration": 280,
        "start_time": "2021-11-22T09:36:14.583Z"
      },
      {
        "duration": 322,
        "start_time": "2021-11-22T09:36:33.688Z"
      },
      {
        "duration": 91,
        "start_time": "2021-11-22T09:36:38.357Z"
      },
      {
        "duration": 284,
        "start_time": "2021-11-22T09:36:44.314Z"
      },
      {
        "duration": 299,
        "start_time": "2021-11-22T09:37:19.058Z"
      },
      {
        "duration": 287,
        "start_time": "2021-11-22T09:37:33.173Z"
      },
      {
        "duration": 326,
        "start_time": "2021-11-22T09:37:43.643Z"
      },
      {
        "duration": 26,
        "start_time": "2021-11-22T09:38:23.125Z"
      },
      {
        "duration": 23,
        "start_time": "2021-11-22T09:38:39.153Z"
      },
      {
        "duration": 16,
        "start_time": "2021-11-22T09:39:39.854Z"
      },
      {
        "duration": 307,
        "start_time": "2021-11-22T09:42:52.288Z"
      },
      {
        "duration": 12,
        "start_time": "2021-11-22T09:42:59.764Z"
      },
      {
        "duration": 13,
        "start_time": "2021-11-22T09:43:07.405Z"
      },
      {
        "duration": 14,
        "start_time": "2021-11-22T09:44:14.912Z"
      },
      {
        "duration": 12,
        "start_time": "2021-11-22T09:45:27.951Z"
      },
      {
        "duration": 16,
        "start_time": "2021-11-22T09:55:51.674Z"
      },
      {
        "duration": 13,
        "start_time": "2021-11-22T09:56:06.151Z"
      },
      {
        "duration": 12,
        "start_time": "2021-11-22T09:56:43.668Z"
      },
      {
        "duration": 2138,
        "start_time": "2021-11-22T09:57:47.739Z"
      },
      {
        "duration": 12,
        "start_time": "2021-11-22T09:57:59.426Z"
      },
      {
        "duration": 16,
        "start_time": "2021-11-22T09:58:30.447Z"
      },
      {
        "duration": 14,
        "start_time": "2021-11-22T09:59:32.187Z"
      },
      {
        "duration": 13,
        "start_time": "2021-11-22T10:01:23.643Z"
      },
      {
        "duration": 754,
        "start_time": "2021-11-22T10:07:46.745Z"
      },
      {
        "duration": 50,
        "start_time": "2021-11-22T10:07:47.503Z"
      },
      {
        "duration": 65,
        "start_time": "2021-11-22T10:07:47.557Z"
      },
      {
        "duration": 21,
        "start_time": "2021-11-22T10:07:47.626Z"
      },
      {
        "duration": 33,
        "start_time": "2021-11-22T10:07:47.650Z"
      },
      {
        "duration": 36,
        "start_time": "2021-11-22T10:07:47.686Z"
      },
      {
        "duration": 14,
        "start_time": "2021-11-22T10:07:47.725Z"
      },
      {
        "duration": 14,
        "start_time": "2021-11-22T10:07:47.743Z"
      },
      {
        "duration": 14,
        "start_time": "2021-11-22T10:07:47.782Z"
      },
      {
        "duration": 16,
        "start_time": "2021-11-22T10:07:47.798Z"
      },
      {
        "duration": 15,
        "start_time": "2021-11-22T10:11:50.351Z"
      },
      {
        "duration": 38,
        "start_time": "2021-11-22T10:12:02.384Z"
      },
      {
        "duration": 13,
        "start_time": "2021-11-22T10:13:05.883Z"
      },
      {
        "duration": 15,
        "start_time": "2021-11-22T10:18:27.050Z"
      },
      {
        "duration": 14,
        "start_time": "2021-11-22T10:24:27.989Z"
      },
      {
        "duration": 14,
        "start_time": "2021-11-22T10:24:42.418Z"
      },
      {
        "duration": 6,
        "start_time": "2021-11-22T10:31:06.635Z"
      },
      {
        "duration": 39,
        "start_time": "2021-11-22T10:31:14.783Z"
      },
      {
        "duration": 25,
        "start_time": "2021-11-22T10:32:20.466Z"
      },
      {
        "duration": 23,
        "start_time": "2021-11-22T10:33:08.782Z"
      },
      {
        "duration": 5,
        "start_time": "2021-11-22T10:36:42.053Z"
      },
      {
        "duration": 16,
        "start_time": "2021-11-22T10:36:44.307Z"
      },
      {
        "duration": 6,
        "start_time": "2021-11-22T10:37:32.986Z"
      },
      {
        "duration": 30,
        "start_time": "2021-11-22T10:37:33.889Z"
      },
      {
        "duration": 13,
        "start_time": "2021-11-22T10:38:35.154Z"
      },
      {
        "duration": 7,
        "start_time": "2021-11-22T10:39:22.880Z"
      },
      {
        "duration": 13,
        "start_time": "2021-11-22T10:41:00.370Z"
      },
      {
        "duration": 26,
        "start_time": "2021-11-22T10:41:37.079Z"
      },
      {
        "duration": 12,
        "start_time": "2021-11-22T10:42:31.723Z"
      },
      {
        "duration": 9,
        "start_time": "2021-11-22T10:42:47.564Z"
      },
      {
        "duration": 11,
        "start_time": "2021-11-22T10:44:27.351Z"
      },
      {
        "duration": 11,
        "start_time": "2021-11-22T10:44:33.172Z"
      },
      {
        "duration": 19,
        "start_time": "2021-11-22T10:44:42.725Z"
      },
      {
        "duration": 4,
        "start_time": "2021-11-22T10:47:56.594Z"
      },
      {
        "duration": 10,
        "start_time": "2021-11-22T11:05:45.932Z"
      },
      {
        "duration": 432,
        "start_time": "2021-11-22T11:05:57.279Z"
      },
      {
        "duration": 644,
        "start_time": "2021-11-22T11:06:22.892Z"
      },
      {
        "duration": 421,
        "start_time": "2021-11-22T11:06:43.776Z"
      },
      {
        "duration": 161,
        "start_time": "2021-11-22T11:07:31.559Z"
      },
      {
        "duration": 278,
        "start_time": "2021-11-22T11:07:35.057Z"
      },
      {
        "duration": 380,
        "start_time": "2021-11-22T11:08:29.902Z"
      },
      {
        "duration": 413,
        "start_time": "2021-11-22T11:08:37.831Z"
      },
      {
        "duration": 396,
        "start_time": "2021-11-22T11:08:42.792Z"
      },
      {
        "duration": 348,
        "start_time": "2021-11-22T11:31:13.841Z"
      },
      {
        "duration": 1491,
        "start_time": "2021-11-22T11:31:24.742Z"
      },
      {
        "duration": 47,
        "start_time": "2021-11-22T11:31:26.235Z"
      },
      {
        "duration": 23,
        "start_time": "2021-11-22T11:31:26.285Z"
      },
      {
        "duration": 15,
        "start_time": "2021-11-22T11:31:26.311Z"
      },
      {
        "duration": 4,
        "start_time": "2021-11-22T11:31:26.328Z"
      },
      {
        "duration": 58,
        "start_time": "2021-11-22T11:31:26.334Z"
      },
      {
        "duration": 24,
        "start_time": "2021-11-22T11:31:26.394Z"
      },
      {
        "duration": 14,
        "start_time": "2021-11-22T11:31:26.423Z"
      },
      {
        "duration": 46,
        "start_time": "2021-11-22T11:31:26.440Z"
      },
      {
        "duration": 14,
        "start_time": "2021-11-22T11:31:26.489Z"
      },
      {
        "duration": 16,
        "start_time": "2021-11-22T11:31:26.505Z"
      },
      {
        "duration": 14,
        "start_time": "2021-11-22T11:31:26.524Z"
      },
      {
        "duration": 59,
        "start_time": "2021-11-22T11:31:26.540Z"
      },
      {
        "duration": 7,
        "start_time": "2021-11-22T11:31:26.602Z"
      },
      {
        "duration": 21,
        "start_time": "2021-11-22T11:31:26.612Z"
      },
      {
        "duration": 7,
        "start_time": "2021-11-22T11:31:26.636Z"
      },
      {
        "duration": 59,
        "start_time": "2021-11-22T11:31:26.646Z"
      },
      {
        "duration": 13,
        "start_time": "2021-11-22T11:31:26.708Z"
      },
      {
        "duration": 16,
        "start_time": "2021-11-22T11:31:26.723Z"
      },
      {
        "duration": 1744,
        "start_time": "2021-11-22T11:31:26.742Z"
      },
      {
        "duration": 4,
        "start_time": "2021-11-22T11:31:47.263Z"
      },
      {
        "duration": 319,
        "start_time": "2021-11-22T11:31:53.002Z"
      },
      {
        "duration": 313,
        "start_time": "2021-11-22T11:32:01.144Z"
      },
      {
        "duration": 4,
        "start_time": "2021-11-22T11:33:31.897Z"
      },
      {
        "duration": 418,
        "start_time": "2021-11-22T11:33:36.922Z"
      },
      {
        "duration": 1048,
        "start_time": "2021-11-22T11:34:30.945Z"
      },
      {
        "duration": 415,
        "start_time": "2021-11-22T11:34:41.113Z"
      },
      {
        "duration": 546,
        "start_time": "2021-11-22T11:35:17.678Z"
      },
      {
        "duration": 558,
        "start_time": "2021-11-22T11:35:36.351Z"
      },
      {
        "duration": 538,
        "start_time": "2021-11-22T11:36:25.244Z"
      },
      {
        "duration": 508,
        "start_time": "2021-11-22T11:36:52.053Z"
      },
      {
        "duration": 451,
        "start_time": "2021-11-22T11:37:09.795Z"
      },
      {
        "duration": 517,
        "start_time": "2021-11-22T11:37:23.135Z"
      },
      {
        "duration": 417,
        "start_time": "2021-11-22T11:37:33.597Z"
      },
      {
        "duration": 27,
        "start_time": "2021-11-22T11:40:11.002Z"
      },
      {
        "duration": 309,
        "start_time": "2021-11-22T11:40:36.305Z"
      },
      {
        "duration": 2046,
        "start_time": "2021-11-22T11:41:07.132Z"
      },
      {
        "duration": 12,
        "start_time": "2021-11-22T11:41:15.138Z"
      },
      {
        "duration": 336,
        "start_time": "2021-11-22T11:41:48.030Z"
      },
      {
        "duration": 24,
        "start_time": "2021-11-22T11:42:02.150Z"
      },
      {
        "duration": 309,
        "start_time": "2021-11-22T11:42:44.129Z"
      },
      {
        "duration": 23,
        "start_time": "2021-11-22T11:42:54.202Z"
      },
      {
        "duration": 12,
        "start_time": "2021-11-22T11:43:52.934Z"
      },
      {
        "duration": 9,
        "start_time": "2021-11-22T11:45:28.824Z"
      },
      {
        "duration": 9,
        "start_time": "2021-11-22T11:45:32.416Z"
      },
      {
        "duration": 10,
        "start_time": "2021-11-22T11:46:23.157Z"
      },
      {
        "duration": 10,
        "start_time": "2021-11-22T11:46:24.626Z"
      },
      {
        "duration": 514,
        "start_time": "2021-11-22T11:48:57.847Z"
      },
      {
        "duration": 444,
        "start_time": "2021-11-22T11:49:12.515Z"
      },
      {
        "duration": 536,
        "start_time": "2021-11-22T11:50:47.472Z"
      },
      {
        "duration": 316,
        "start_time": "2021-11-22T11:52:00.791Z"
      },
      {
        "duration": 321,
        "start_time": "2021-11-22T11:52:17.058Z"
      },
      {
        "duration": 303,
        "start_time": "2021-11-22T11:53:01.520Z"
      },
      {
        "duration": 4,
        "start_time": "2021-11-22T11:53:23.602Z"
      },
      {
        "duration": 347,
        "start_time": "2021-11-22T11:53:33.102Z"
      },
      {
        "duration": 309,
        "start_time": "2021-11-22T11:53:43.718Z"
      },
      {
        "duration": 769,
        "start_time": "2021-11-22T11:54:30.811Z"
      },
      {
        "duration": 332,
        "start_time": "2021-11-22T11:56:09.441Z"
      },
      {
        "duration": 747,
        "start_time": "2021-11-22T11:56:18.911Z"
      },
      {
        "duration": 313,
        "start_time": "2021-11-22T11:56:36.402Z"
      },
      {
        "duration": 1725,
        "start_time": "2021-11-22T11:57:31.608Z"
      },
      {
        "duration": 66,
        "start_time": "2021-11-22T11:57:33.337Z"
      },
      {
        "duration": 37,
        "start_time": "2021-11-22T11:57:33.408Z"
      },
      {
        "duration": 39,
        "start_time": "2021-11-22T11:57:33.449Z"
      },
      {
        "duration": 4,
        "start_time": "2021-11-22T11:57:33.490Z"
      },
      {
        "duration": 35,
        "start_time": "2021-11-22T11:57:33.497Z"
      },
      {
        "duration": 29,
        "start_time": "2021-11-22T11:57:33.534Z"
      },
      {
        "duration": 26,
        "start_time": "2021-11-22T11:57:33.565Z"
      },
      {
        "duration": 11,
        "start_time": "2021-11-22T11:57:33.595Z"
      },
      {
        "duration": 12,
        "start_time": "2021-11-22T11:57:33.609Z"
      },
      {
        "duration": 63,
        "start_time": "2021-11-22T11:57:33.624Z"
      },
      {
        "duration": 17,
        "start_time": "2021-11-22T11:57:33.690Z"
      },
      {
        "duration": 23,
        "start_time": "2021-11-22T11:57:33.710Z"
      },
      {
        "duration": 6,
        "start_time": "2021-11-22T11:57:33.736Z"
      },
      {
        "duration": 45,
        "start_time": "2021-11-22T11:57:33.745Z"
      },
      {
        "duration": 10,
        "start_time": "2021-11-22T11:57:33.794Z"
      },
      {
        "duration": 38,
        "start_time": "2021-11-22T11:57:33.808Z"
      },
      {
        "duration": 35,
        "start_time": "2021-11-22T11:57:33.849Z"
      },
      {
        "duration": 20,
        "start_time": "2021-11-22T11:57:33.886Z"
      },
      {
        "duration": 435,
        "start_time": "2021-11-22T11:57:33.909Z"
      },
      {
        "duration": 15,
        "start_time": "2021-11-22T11:57:34.348Z"
      },
      {
        "duration": 22,
        "start_time": "2021-11-22T11:57:34.366Z"
      },
      {
        "duration": 568,
        "start_time": "2021-11-22T11:57:34.391Z"
      },
      {
        "duration": 315,
        "start_time": "2021-11-22T11:57:47.240Z"
      },
      {
        "duration": 86,
        "start_time": "2021-11-22T11:59:17.558Z"
      },
      {
        "duration": 4611,
        "start_time": "2021-11-22T11:59:30.011Z"
      },
      {
        "duration": 4853,
        "start_time": "2021-11-22T11:59:53.372Z"
      },
      {
        "duration": 552,
        "start_time": "2021-11-22T12:00:57.912Z"
      },
      {
        "duration": 414,
        "start_time": "2021-11-22T12:01:43.152Z"
      },
      {
        "duration": 413,
        "start_time": "2021-11-22T12:02:00.141Z"
      },
      {
        "duration": 563,
        "start_time": "2021-11-22T12:02:17.834Z"
      },
      {
        "duration": 552,
        "start_time": "2021-11-22T12:02:25.260Z"
      },
      {
        "duration": 12,
        "start_time": "2021-11-22T12:03:19.638Z"
      },
      {
        "duration": 22,
        "start_time": "2021-11-22T12:04:07.840Z"
      },
      {
        "duration": 15,
        "start_time": "2021-11-22T12:04:41.365Z"
      },
      {
        "duration": 12,
        "start_time": "2021-11-22T12:05:05.922Z"
      },
      {
        "duration": 37,
        "start_time": "2021-11-22T12:05:12.959Z"
      },
      {
        "duration": 511,
        "start_time": "2021-11-22T12:05:46.036Z"
      },
      {
        "duration": 604,
        "start_time": "2021-11-22T12:05:57.951Z"
      },
      {
        "duration": 11,
        "start_time": "2021-11-22T12:10:27.857Z"
      },
      {
        "duration": 14,
        "start_time": "2021-11-22T12:12:58.773Z"
      },
      {
        "duration": 13,
        "start_time": "2021-11-22T12:14:05.514Z"
      },
      {
        "duration": 22,
        "start_time": "2021-11-22T12:14:06.540Z"
      },
      {
        "duration": 32,
        "start_time": "2021-11-22T12:17:33.809Z"
      },
      {
        "duration": 9,
        "start_time": "2021-11-22T12:18:16.944Z"
      },
      {
        "duration": 14,
        "start_time": "2021-11-22T12:18:44.085Z"
      },
      {
        "duration": 1435,
        "start_time": "2021-11-22T12:23:11.125Z"
      },
      {
        "duration": 48,
        "start_time": "2021-11-22T12:23:12.562Z"
      },
      {
        "duration": 25,
        "start_time": "2021-11-22T12:23:12.613Z"
      },
      {
        "duration": 16,
        "start_time": "2021-11-22T12:23:12.640Z"
      },
      {
        "duration": 25,
        "start_time": "2021-11-22T12:23:12.658Z"
      },
      {
        "duration": 41,
        "start_time": "2021-11-22T12:23:12.686Z"
      },
      {
        "duration": 25,
        "start_time": "2021-11-22T12:23:12.730Z"
      },
      {
        "duration": 12,
        "start_time": "2021-11-22T12:23:12.783Z"
      },
      {
        "duration": 15,
        "start_time": "2021-11-22T12:23:12.798Z"
      },
      {
        "duration": 14,
        "start_time": "2021-11-22T12:23:12.815Z"
      },
      {
        "duration": 60,
        "start_time": "2021-11-22T12:23:12.832Z"
      },
      {
        "duration": 10,
        "start_time": "2021-11-22T12:23:12.894Z"
      },
      {
        "duration": 15,
        "start_time": "2021-11-22T12:23:12.906Z"
      },
      {
        "duration": 10,
        "start_time": "2021-11-22T12:23:12.923Z"
      },
      {
        "duration": 55,
        "start_time": "2021-11-22T12:23:12.935Z"
      },
      {
        "duration": 12,
        "start_time": "2021-11-22T12:23:12.993Z"
      },
      {
        "duration": 13,
        "start_time": "2021-11-22T12:23:13.007Z"
      },
      {
        "duration": 5,
        "start_time": "2021-11-22T12:23:13.022Z"
      },
      {
        "duration": 53,
        "start_time": "2021-11-22T12:23:13.029Z"
      },
      {
        "duration": 7,
        "start_time": "2021-11-22T12:23:13.084Z"
      },
      {
        "duration": 44,
        "start_time": "2021-11-22T12:23:13.093Z"
      },
      {
        "duration": 9,
        "start_time": "2021-11-22T12:23:13.140Z"
      },
      {
        "duration": 11,
        "start_time": "2021-11-22T12:23:13.153Z"
      },
      {
        "duration": 615,
        "start_time": "2021-11-22T12:23:13.182Z"
      },
      {
        "duration": 15,
        "start_time": "2021-11-22T12:23:13.801Z"
      },
      {
        "duration": 11,
        "start_time": "2021-11-22T12:23:13.819Z"
      },
      {
        "duration": 585,
        "start_time": "2021-11-22T12:23:13.832Z"
      },
      {
        "duration": 534,
        "start_time": "2021-11-22T12:26:05.864Z"
      },
      {
        "duration": 8,
        "start_time": "2021-11-22T12:26:34.832Z"
      },
      {
        "duration": 411,
        "start_time": "2021-11-22T12:26:35.972Z"
      },
      {
        "duration": 310,
        "start_time": "2021-11-22T12:26:46.787Z"
      },
      {
        "duration": 1484,
        "start_time": "2021-11-22T12:26:54.172Z"
      },
      {
        "duration": 48,
        "start_time": "2021-11-22T12:26:55.658Z"
      },
      {
        "duration": 25,
        "start_time": "2021-11-22T12:26:55.709Z"
      },
      {
        "duration": 13,
        "start_time": "2021-11-22T12:26:55.738Z"
      },
      {
        "duration": 3,
        "start_time": "2021-11-22T12:26:55.783Z"
      },
      {
        "duration": 28,
        "start_time": "2021-11-22T12:26:55.789Z"
      },
      {
        "duration": 23,
        "start_time": "2021-11-22T12:26:55.819Z"
      },
      {
        "duration": 41,
        "start_time": "2021-11-22T12:26:55.846Z"
      },
      {
        "duration": 12,
        "start_time": "2021-11-22T12:26:55.890Z"
      },
      {
        "duration": 14,
        "start_time": "2021-11-22T12:26:55.905Z"
      },
      {
        "duration": 28,
        "start_time": "2021-11-22T12:26:55.921Z"
      },
      {
        "duration": 8,
        "start_time": "2021-11-22T12:26:55.983Z"
      },
      {
        "duration": 12,
        "start_time": "2021-11-22T12:26:55.993Z"
      },
      {
        "duration": 11,
        "start_time": "2021-11-22T12:26:56.007Z"
      },
      {
        "duration": 15,
        "start_time": "2021-11-22T12:26:56.020Z"
      },
      {
        "duration": 54,
        "start_time": "2021-11-22T12:26:56.037Z"
      },
      {
        "duration": 19,
        "start_time": "2021-11-22T12:26:56.094Z"
      },
      {
        "duration": 6,
        "start_time": "2021-11-22T12:26:56.116Z"
      },
      {
        "duration": 19,
        "start_time": "2021-11-22T12:26:56.124Z"
      },
      {
        "duration": 19,
        "start_time": "2021-11-22T12:26:56.145Z"
      },
      {
        "duration": 36,
        "start_time": "2021-11-22T12:26:56.167Z"
      },
      {
        "duration": 13,
        "start_time": "2021-11-22T12:26:56.206Z"
      },
      {
        "duration": 26,
        "start_time": "2021-11-22T12:26:56.224Z"
      },
      {
        "duration": 438,
        "start_time": "2021-11-22T12:26:56.253Z"
      },
      {
        "duration": 10,
        "start_time": "2021-11-22T12:26:56.694Z"
      },
      {
        "duration": 12,
        "start_time": "2021-11-22T12:26:56.706Z"
      },
      {
        "duration": 588,
        "start_time": "2021-11-22T12:26:56.721Z"
      },
      {
        "duration": 37,
        "start_time": "2021-11-22T12:28:14.134Z"
      },
      {
        "duration": 11,
        "start_time": "2021-11-22T12:28:24.372Z"
      },
      {
        "duration": 10,
        "start_time": "2021-11-22T12:28:26.014Z"
      },
      {
        "duration": 14,
        "start_time": "2021-11-22T12:28:27.077Z"
      },
      {
        "duration": 12,
        "start_time": "2021-11-22T12:28:28.128Z"
      },
      {
        "duration": 13,
        "start_time": "2021-11-22T12:28:41.779Z"
      },
      {
        "duration": 5,
        "start_time": "2021-11-22T12:28:43.360Z"
      },
      {
        "duration": 13,
        "start_time": "2021-11-22T12:28:44.279Z"
      },
      {
        "duration": 7,
        "start_time": "2021-11-22T12:28:46.855Z"
      },
      {
        "duration": 23,
        "start_time": "2021-11-22T12:28:48.209Z"
      },
      {
        "duration": 10,
        "start_time": "2021-11-22T12:28:49.223Z"
      },
      {
        "duration": 10,
        "start_time": "2021-11-22T12:28:50.475Z"
      },
      {
        "duration": 419,
        "start_time": "2021-11-22T12:28:52.719Z"
      },
      {
        "duration": 12,
        "start_time": "2021-11-22T12:28:55.227Z"
      },
      {
        "duration": 10,
        "start_time": "2021-11-22T12:28:55.881Z"
      },
      {
        "duration": 665,
        "start_time": "2021-11-22T12:28:59.036Z"
      },
      {
        "duration": 9,
        "start_time": "2021-11-22T12:32:02.207Z"
      },
      {
        "duration": 48,
        "start_time": "2021-11-22T12:32:09.559Z"
      },
      {
        "duration": 553,
        "start_time": "2021-11-22T12:32:25.836Z"
      },
      {
        "duration": 29,
        "start_time": "2021-11-22T12:32:26.727Z"
      },
      {
        "duration": 1747,
        "start_time": "2021-11-22T12:32:37.110Z"
      },
      {
        "duration": 55,
        "start_time": "2021-11-22T12:32:38.860Z"
      },
      {
        "duration": 25,
        "start_time": "2021-11-22T12:32:38.918Z"
      },
      {
        "duration": 37,
        "start_time": "2021-11-22T12:32:38.946Z"
      },
      {
        "duration": 6,
        "start_time": "2021-11-22T12:32:38.986Z"
      },
      {
        "duration": 34,
        "start_time": "2021-11-22T12:32:38.995Z"
      },
      {
        "duration": 59,
        "start_time": "2021-11-22T12:32:39.032Z"
      },
      {
        "duration": 20,
        "start_time": "2021-11-22T12:32:39.098Z"
      },
      {
        "duration": 15,
        "start_time": "2021-11-22T12:32:39.121Z"
      },
      {
        "duration": 50,
        "start_time": "2021-11-22T12:32:39.138Z"
      },
      {
        "duration": 32,
        "start_time": "2021-11-22T12:32:39.190Z"
      },
      {
        "duration": 9,
        "start_time": "2021-11-22T12:32:39.225Z"
      },
      {
        "duration": 63,
        "start_time": "2021-11-22T12:32:39.238Z"
      },
      {
        "duration": 11,
        "start_time": "2021-11-22T12:32:39.305Z"
      },
      {
        "duration": 15,
        "start_time": "2021-11-22T12:32:39.319Z"
      },
      {
        "duration": 54,
        "start_time": "2021-11-22T12:32:39.336Z"
      },
      {
        "duration": 19,
        "start_time": "2021-11-22T12:32:39.393Z"
      },
      {
        "duration": 13,
        "start_time": "2021-11-22T12:32:39.415Z"
      },
      {
        "duration": 6,
        "start_time": "2021-11-22T12:32:39.431Z"
      },
      {
        "duration": 63,
        "start_time": "2021-11-22T12:32:39.439Z"
      },
      {
        "duration": 7,
        "start_time": "2021-11-22T12:32:39.505Z"
      },
      {
        "duration": 25,
        "start_time": "2021-11-22T12:32:39.514Z"
      },
      {
        "duration": 20,
        "start_time": "2021-11-22T12:32:39.543Z"
      },
      {
        "duration": 32,
        "start_time": "2021-11-22T12:32:39.566Z"
      },
      {
        "duration": 563,
        "start_time": "2021-11-22T12:32:39.607Z"
      },
      {
        "duration": 19,
        "start_time": "2021-11-22T12:32:40.173Z"
      },
      {
        "duration": 25,
        "start_time": "2021-11-22T12:32:40.195Z"
      },
      {
        "duration": 613,
        "start_time": "2021-11-22T12:32:40.223Z"
      },
      {
        "duration": 13,
        "start_time": "2021-11-22T12:34:05.349Z"
      },
      {
        "duration": 585,
        "start_time": "2021-11-22T12:34:27.908Z"
      },
      {
        "duration": 477,
        "start_time": "2021-11-22T12:35:36.878Z"
      },
      {
        "duration": 1455,
        "start_time": "2021-11-22T12:35:44.402Z"
      },
      {
        "duration": 46,
        "start_time": "2021-11-22T12:35:45.860Z"
      },
      {
        "duration": 24,
        "start_time": "2021-11-22T12:35:45.909Z"
      },
      {
        "duration": 18,
        "start_time": "2021-11-22T12:35:45.935Z"
      },
      {
        "duration": 29,
        "start_time": "2021-11-22T12:35:45.956Z"
      },
      {
        "duration": 29,
        "start_time": "2021-11-22T12:35:45.987Z"
      },
      {
        "duration": 24,
        "start_time": "2021-11-22T12:35:46.026Z"
      },
      {
        "duration": 40,
        "start_time": "2021-11-22T12:35:46.052Z"
      },
      {
        "duration": 21,
        "start_time": "2021-11-22T12:35:46.097Z"
      },
      {
        "duration": 16,
        "start_time": "2021-11-22T12:35:46.122Z"
      },
      {
        "duration": 67,
        "start_time": "2021-11-22T12:35:46.141Z"
      },
      {
        "duration": 10,
        "start_time": "2021-11-22T12:35:46.212Z"
      },
      {
        "duration": 57,
        "start_time": "2021-11-22T12:35:46.225Z"
      },
      {
        "duration": 11,
        "start_time": "2021-11-22T12:35:46.284Z"
      },
      {
        "duration": 15,
        "start_time": "2021-11-22T12:35:46.297Z"
      },
      {
        "duration": 15,
        "start_time": "2021-11-22T12:35:46.314Z"
      },
      {
        "duration": 58,
        "start_time": "2021-11-22T12:35:46.331Z"
      },
      {
        "duration": 11,
        "start_time": "2021-11-22T12:35:46.392Z"
      },
      {
        "duration": 6,
        "start_time": "2021-11-22T12:35:46.405Z"
      },
      {
        "duration": 19,
        "start_time": "2021-11-22T12:35:46.414Z"
      },
      {
        "duration": 7,
        "start_time": "2021-11-22T12:35:46.436Z"
      },
      {
        "duration": 25,
        "start_time": "2021-11-22T12:35:46.483Z"
      },
      {
        "duration": 12,
        "start_time": "2021-11-22T12:35:46.511Z"
      },
      {
        "duration": 15,
        "start_time": "2021-11-22T12:35:46.525Z"
      },
      {
        "duration": 472,
        "start_time": "2021-11-22T12:35:46.543Z"
      },
      {
        "duration": 12,
        "start_time": "2021-11-22T12:35:47.018Z"
      },
      {
        "duration": 10,
        "start_time": "2021-11-22T12:35:47.036Z"
      },
      {
        "duration": 44,
        "start_time": "2021-11-22T12:35:47.050Z"
      },
      {
        "duration": 856,
        "start_time": "2021-11-22T12:35:47.097Z"
      },
      {
        "duration": 13,
        "start_time": "2021-11-22T12:38:36.762Z"
      },
      {
        "duration": 32,
        "start_time": "2021-11-22T12:38:38.209Z"
      },
      {
        "duration": 11,
        "start_time": "2021-11-22T12:38:39.606Z"
      },
      {
        "duration": 12,
        "start_time": "2021-11-22T12:38:41.864Z"
      },
      {
        "duration": 17,
        "start_time": "2021-11-22T12:38:43.077Z"
      },
      {
        "duration": 13,
        "start_time": "2021-11-22T12:38:44.187Z"
      },
      {
        "duration": 13,
        "start_time": "2021-11-22T12:38:45.597Z"
      },
      {
        "duration": 4,
        "start_time": "2021-11-22T12:38:47.759Z"
      },
      {
        "duration": 22,
        "start_time": "2021-11-22T12:38:48.495Z"
      },
      {
        "duration": 7,
        "start_time": "2021-11-22T12:38:50.048Z"
      },
      {
        "duration": 19,
        "start_time": "2021-11-22T12:38:50.718Z"
      },
      {
        "duration": 10,
        "start_time": "2021-11-22T12:38:51.412Z"
      },
      {
        "duration": 14,
        "start_time": "2021-11-22T12:38:52.369Z"
      },
      {
        "duration": 601,
        "start_time": "2021-11-22T12:38:54.746Z"
      },
      {
        "duration": 16,
        "start_time": "2021-11-22T12:38:57.096Z"
      },
      {
        "duration": 14,
        "start_time": "2021-11-22T12:38:57.694Z"
      },
      {
        "duration": 12,
        "start_time": "2021-11-22T12:38:58.509Z"
      },
      {
        "duration": 839,
        "start_time": "2021-11-22T12:39:01.379Z"
      },
      {
        "duration": 7,
        "start_time": "2021-11-22T12:40:09.855Z"
      },
      {
        "duration": 32,
        "start_time": "2021-11-22T12:40:10.957Z"
      },
      {
        "duration": 12,
        "start_time": "2021-11-22T12:40:14.441Z"
      },
      {
        "duration": 11,
        "start_time": "2021-11-22T12:40:16.284Z"
      },
      {
        "duration": 15,
        "start_time": "2021-11-22T12:40:18.591Z"
      },
      {
        "duration": 12,
        "start_time": "2021-11-22T12:40:19.922Z"
      },
      {
        "duration": 15,
        "start_time": "2021-11-22T12:40:21.272Z"
      },
      {
        "duration": 4,
        "start_time": "2021-11-22T12:40:22.822Z"
      },
      {
        "duration": 16,
        "start_time": "2021-11-22T12:40:23.652Z"
      },
      {
        "duration": 8,
        "start_time": "2021-11-22T12:40:25.062Z"
      },
      {
        "duration": 29,
        "start_time": "2021-11-22T12:40:25.604Z"
      },
      {
        "duration": 10,
        "start_time": "2021-11-22T12:40:26.210Z"
      },
      {
        "duration": 11,
        "start_time": "2021-11-22T12:40:26.767Z"
      },
      {
        "duration": 418,
        "start_time": "2021-11-22T12:40:28.383Z"
      },
      {
        "duration": 11,
        "start_time": "2021-11-22T12:40:30.821Z"
      },
      {
        "duration": 17,
        "start_time": "2021-11-22T12:40:31.504Z"
      },
      {
        "duration": 18,
        "start_time": "2021-11-22T12:40:32.221Z"
      },
      {
        "duration": 766,
        "start_time": "2021-11-22T12:40:34.982Z"
      },
      {
        "duration": 1649,
        "start_time": "2021-11-22T12:40:46.183Z"
      },
      {
        "duration": 47,
        "start_time": "2021-11-22T12:40:47.835Z"
      },
      {
        "duration": 26,
        "start_time": "2021-11-22T12:40:47.885Z"
      },
      {
        "duration": 17,
        "start_time": "2021-11-22T12:40:47.913Z"
      },
      {
        "duration": 4,
        "start_time": "2021-11-22T12:40:47.934Z"
      },
      {
        "duration": 62,
        "start_time": "2021-11-22T12:40:47.941Z"
      },
      {
        "duration": 26,
        "start_time": "2021-11-22T12:40:48.006Z"
      },
      {
        "duration": 15,
        "start_time": "2021-11-22T12:40:48.037Z"
      },
      {
        "duration": 38,
        "start_time": "2021-11-22T12:40:48.056Z"
      },
      {
        "duration": 15,
        "start_time": "2021-11-22T12:40:48.097Z"
      },
      {
        "duration": 22,
        "start_time": "2021-11-22T12:40:48.116Z"
      },
      {
        "duration": 45,
        "start_time": "2021-11-22T12:40:48.141Z"
      },
      {
        "duration": 29,
        "start_time": "2021-11-22T12:40:48.188Z"
      },
      {
        "duration": 12,
        "start_time": "2021-11-22T12:40:48.219Z"
      },
      {
        "duration": 10,
        "start_time": "2021-11-22T12:40:48.233Z"
      },
      {
        "duration": 48,
        "start_time": "2021-11-22T12:40:48.246Z"
      },
      {
        "duration": 13,
        "start_time": "2021-11-22T12:40:48.297Z"
      },
      {
        "duration": 15,
        "start_time": "2021-11-22T12:40:48.313Z"
      },
      {
        "duration": 6,
        "start_time": "2021-11-22T12:40:48.331Z"
      },
      {
        "duration": 57,
        "start_time": "2021-11-22T12:40:48.341Z"
      },
      {
        "duration": 6,
        "start_time": "2021-11-22T12:40:48.401Z"
      },
      {
        "duration": 25,
        "start_time": "2021-11-22T12:40:48.410Z"
      },
      {
        "duration": 43,
        "start_time": "2021-11-22T12:40:48.441Z"
      },
      {
        "duration": 15,
        "start_time": "2021-11-22T12:40:48.488Z"
      },
      {
        "duration": 601,
        "start_time": "2021-11-22T12:40:48.506Z"
      },
      {
        "duration": 15,
        "start_time": "2021-11-22T12:40:49.111Z"
      },
      {
        "duration": 15,
        "start_time": "2021-11-22T12:40:49.129Z"
      },
      {
        "duration": 45,
        "start_time": "2021-11-22T12:40:49.147Z"
      },
      {
        "duration": 666,
        "start_time": "2021-11-22T12:40:49.195Z"
      },
      {
        "duration": 8,
        "start_time": "2021-11-22T12:44:19.152Z"
      },
      {
        "duration": 32,
        "start_time": "2021-11-22T12:44:20.159Z"
      },
      {
        "duration": 15,
        "start_time": "2021-11-22T12:44:36.895Z"
      },
      {
        "duration": 38,
        "start_time": "2021-11-22T12:44:38.164Z"
      },
      {
        "duration": 12,
        "start_time": "2021-11-22T12:44:58.165Z"
      },
      {
        "duration": 7620,
        "start_time": "2021-11-22T12:45:16.632Z"
      },
      {
        "duration": 9226,
        "start_time": "2021-11-22T12:45:30.084Z"
      },
      {
        "duration": 301,
        "start_time": "2021-11-22T12:45:48.703Z"
      },
      {
        "duration": 101,
        "start_time": "2021-11-22T12:46:00.843Z"
      },
      {
        "duration": 6,
        "start_time": "2021-11-22T12:46:08.264Z"
      },
      {
        "duration": 97,
        "start_time": "2021-11-22T12:46:24.311Z"
      },
      {
        "duration": 310,
        "start_time": "2021-11-22T12:46:30.107Z"
      },
      {
        "duration": 8842,
        "start_time": "2021-11-22T12:46:37.982Z"
      },
      {
        "duration": 12,
        "start_time": "2021-11-22T12:48:16.094Z"
      },
      {
        "duration": 8,
        "start_time": "2021-11-22T12:48:25.418Z"
      },
      {
        "duration": 21,
        "start_time": "2021-11-22T12:48:39.883Z"
      },
      {
        "duration": 30,
        "start_time": "2021-11-22T12:48:41.084Z"
      },
      {
        "duration": 3,
        "start_time": "2021-11-22T12:48:59.121Z"
      },
      {
        "duration": 52,
        "start_time": "2021-11-22T12:48:59.668Z"
      },
      {
        "duration": 19,
        "start_time": "2021-11-22T12:49:00.249Z"
      },
      {
        "duration": 19,
        "start_time": "2021-11-22T12:49:01.205Z"
      },
      {
        "duration": 5,
        "start_time": "2021-11-22T12:49:04.250Z"
      },
      {
        "duration": 32,
        "start_time": "2021-11-22T12:49:04.985Z"
      },
      {
        "duration": 30,
        "start_time": "2021-11-22T12:49:06.482Z"
      },
      {
        "duration": 16,
        "start_time": "2021-11-22T12:49:09.678Z"
      },
      {
        "duration": 16,
        "start_time": "2021-11-22T12:49:11.788Z"
      },
      {
        "duration": 12,
        "start_time": "2021-11-22T12:49:16.562Z"
      },
      {
        "duration": 24,
        "start_time": "2021-11-22T12:49:19.872Z"
      },
      {
        "duration": 8,
        "start_time": "2021-11-22T12:49:34.456Z"
      },
      {
        "duration": 14,
        "start_time": "2021-11-22T12:49:36.922Z"
      },
      {
        "duration": 7,
        "start_time": "2021-11-22T12:49:45.439Z"
      },
      {
        "duration": 12,
        "start_time": "2021-11-22T12:49:59.760Z"
      },
      {
        "duration": 14,
        "start_time": "2021-11-22T12:50:05.987Z"
      },
      {
        "duration": 22,
        "start_time": "2021-11-22T12:50:08.180Z"
      },
      {
        "duration": 18,
        "start_time": "2021-11-22T12:50:10.302Z"
      },
      {
        "duration": 15,
        "start_time": "2021-11-22T12:50:12.188Z"
      },
      {
        "duration": 6,
        "start_time": "2021-11-22T12:50:13.917Z"
      },
      {
        "duration": 20,
        "start_time": "2021-11-22T12:50:15.070Z"
      },
      {
        "duration": 6,
        "start_time": "2021-11-22T12:50:19.080Z"
      },
      {
        "duration": 20,
        "start_time": "2021-11-22T12:50:19.816Z"
      },
      {
        "duration": 10,
        "start_time": "2021-11-22T12:50:21.401Z"
      },
      {
        "duration": 11,
        "start_time": "2021-11-22T12:50:24.005Z"
      },
      {
        "duration": 420,
        "start_time": "2021-11-22T12:50:25.699Z"
      },
      {
        "duration": 11,
        "start_time": "2021-11-22T12:50:28.703Z"
      },
      {
        "duration": 11,
        "start_time": "2021-11-22T12:50:29.475Z"
      },
      {
        "duration": 14,
        "start_time": "2021-11-22T12:50:33.559Z"
      },
      {
        "duration": 674,
        "start_time": "2021-11-22T12:50:36.978Z"
      },
      {
        "duration": 14,
        "start_time": "2021-11-22T12:51:13.208Z"
      },
      {
        "duration": 8,
        "start_time": "2021-11-22T12:51:17.370Z"
      },
      {
        "duration": 9,
        "start_time": "2021-11-22T12:51:26.828Z"
      },
      {
        "duration": 7,
        "start_time": "2021-11-22T12:51:32.115Z"
      },
      {
        "duration": 2075,
        "start_time": "2021-11-22T12:51:46.719Z"
      },
      {
        "duration": 62,
        "start_time": "2021-11-22T12:51:48.797Z"
      },
      {
        "duration": 39,
        "start_time": "2021-11-22T12:51:48.863Z"
      },
      {
        "duration": 21,
        "start_time": "2021-11-22T12:51:48.905Z"
      },
      {
        "duration": 5,
        "start_time": "2021-11-22T12:51:48.929Z"
      },
      {
        "duration": 59,
        "start_time": "2021-11-22T12:51:48.937Z"
      },
      {
        "duration": 36,
        "start_time": "2021-11-22T12:51:48.998Z"
      },
      {
        "duration": 16,
        "start_time": "2021-11-22T12:51:49.039Z"
      },
      {
        "duration": 42,
        "start_time": "2021-11-22T12:51:49.059Z"
      },
      {
        "duration": 13,
        "start_time": "2021-11-22T12:51:49.104Z"
      },
      {
        "duration": 30,
        "start_time": "2021-11-22T12:51:49.119Z"
      },
      {
        "duration": 8,
        "start_time": "2021-11-22T12:51:49.151Z"
      },
      {
        "duration": 35,
        "start_time": "2021-11-22T12:51:49.161Z"
      },
      {
        "duration": 15,
        "start_time": "2021-11-22T12:51:49.199Z"
      },
      {
        "duration": 10,
        "start_time": "2021-11-22T12:51:49.217Z"
      },
      {
        "duration": 13,
        "start_time": "2021-11-22T12:51:49.230Z"
      },
      {
        "duration": 52,
        "start_time": "2021-11-22T12:51:49.246Z"
      },
      {
        "duration": 12,
        "start_time": "2021-11-22T12:51:49.301Z"
      },
      {
        "duration": 6,
        "start_time": "2021-11-22T12:51:49.316Z"
      },
      {
        "duration": 18,
        "start_time": "2021-11-22T12:51:49.324Z"
      },
      {
        "duration": 47,
        "start_time": "2021-11-22T12:51:49.344Z"
      },
      {
        "duration": 22,
        "start_time": "2021-11-22T12:51:49.393Z"
      },
      {
        "duration": 9,
        "start_time": "2021-11-22T12:51:49.420Z"
      },
      {
        "duration": 13,
        "start_time": "2021-11-22T12:51:49.432Z"
      },
      {
        "duration": 485,
        "start_time": "2021-11-22T12:51:49.448Z"
      },
      {
        "duration": 13,
        "start_time": "2021-11-22T12:51:49.935Z"
      },
      {
        "duration": 14,
        "start_time": "2021-11-22T12:51:49.950Z"
      },
      {
        "duration": 29,
        "start_time": "2021-11-22T12:51:49.983Z"
      },
      {
        "duration": 601,
        "start_time": "2021-11-22T12:51:50.016Z"
      },
      {
        "duration": 1475,
        "start_time": "2021-11-22T12:57:34.814Z"
      },
      {
        "duration": 46,
        "start_time": "2021-11-22T12:57:36.292Z"
      },
      {
        "duration": 24,
        "start_time": "2021-11-22T12:57:36.341Z"
      },
      {
        "duration": 14,
        "start_time": "2021-11-22T12:57:36.383Z"
      },
      {
        "duration": 6,
        "start_time": "2021-11-22T12:57:36.399Z"
      },
      {
        "duration": 31,
        "start_time": "2021-11-22T12:57:36.407Z"
      },
      {
        "duration": 52,
        "start_time": "2021-11-22T12:57:36.440Z"
      },
      {
        "duration": 13,
        "start_time": "2021-11-22T12:57:36.495Z"
      },
      {
        "duration": 11,
        "start_time": "2021-11-22T12:57:36.511Z"
      },
      {
        "duration": 15,
        "start_time": "2021-11-22T12:57:36.525Z"
      },
      {
        "duration": 56,
        "start_time": "2021-11-22T12:57:36.542Z"
      },
      {
        "duration": 9,
        "start_time": "2021-11-22T12:57:36.600Z"
      },
      {
        "duration": 12,
        "start_time": "2021-11-22T12:57:36.612Z"
      },
      {
        "duration": 12,
        "start_time": "2021-11-22T12:57:36.627Z"
      },
      {
        "duration": 13,
        "start_time": "2021-11-22T12:57:36.681Z"
      },
      {
        "duration": 16,
        "start_time": "2021-11-22T12:57:36.697Z"
      },
      {
        "duration": 13,
        "start_time": "2021-11-22T12:57:36.715Z"
      },
      {
        "duration": 51,
        "start_time": "2021-11-22T12:57:36.731Z"
      },
      {
        "duration": 5,
        "start_time": "2021-11-22T12:57:36.785Z"
      },
      {
        "duration": 16,
        "start_time": "2021-11-22T12:57:36.793Z"
      },
      {
        "duration": 7,
        "start_time": "2021-11-22T12:57:36.811Z"
      },
      {
        "duration": 21,
        "start_time": "2021-11-22T12:57:36.821Z"
      },
      {
        "duration": 11,
        "start_time": "2021-11-22T12:57:36.885Z"
      },
      {
        "duration": 19,
        "start_time": "2021-11-22T12:57:36.899Z"
      },
      {
        "duration": 452,
        "start_time": "2021-11-22T12:57:36.921Z"
      },
      {
        "duration": 15,
        "start_time": "2021-11-22T12:57:37.375Z"
      },
      {
        "duration": 10,
        "start_time": "2021-11-22T12:57:37.393Z"
      },
      {
        "duration": 15,
        "start_time": "2021-11-22T12:57:37.405Z"
      },
      {
        "duration": 593,
        "start_time": "2021-11-22T12:57:37.423Z"
      },
      {
        "duration": 544,
        "start_time": "2021-11-22T12:58:28.801Z"
      },
      {
        "duration": 571,
        "start_time": "2021-11-22T12:58:36.052Z"
      },
      {
        "duration": 1101,
        "start_time": "2021-11-22T13:02:50.896Z"
      },
      {
        "duration": 964,
        "start_time": "2021-11-22T13:03:03.724Z"
      },
      {
        "duration": 568,
        "start_time": "2021-11-22T13:04:55.724Z"
      },
      {
        "duration": 572,
        "start_time": "2021-11-22T13:05:18.268Z"
      },
      {
        "duration": 9,
        "start_time": "2021-11-22T13:09:38.468Z"
      },
      {
        "duration": 10,
        "start_time": "2021-11-22T13:09:45.273Z"
      },
      {
        "duration": 15,
        "start_time": "2021-11-22T13:10:13.777Z"
      },
      {
        "duration": 14,
        "start_time": "2021-11-22T13:10:47.914Z"
      },
      {
        "duration": 14,
        "start_time": "2021-11-22T13:10:52.014Z"
      },
      {
        "duration": 8902,
        "start_time": "2021-11-22T13:11:17.830Z"
      },
      {
        "duration": 12,
        "start_time": "2021-11-22T13:11:35.821Z"
      },
      {
        "duration": 1556,
        "start_time": "2021-11-23T06:16:44.560Z"
      },
      {
        "duration": 1500,
        "start_time": "2021-11-23T06:16:46.119Z"
      },
      {
        "duration": 25,
        "start_time": "2021-11-23T06:16:47.622Z"
      },
      {
        "duration": 23,
        "start_time": "2021-11-23T06:16:47.650Z"
      },
      {
        "duration": 6,
        "start_time": "2021-11-23T06:16:47.675Z"
      },
      {
        "duration": 31,
        "start_time": "2021-11-23T06:16:47.684Z"
      },
      {
        "duration": 28,
        "start_time": "2021-11-23T06:16:47.717Z"
      },
      {
        "duration": 11,
        "start_time": "2021-11-23T06:16:47.769Z"
      },
      {
        "duration": 12,
        "start_time": "2021-11-23T06:16:47.784Z"
      },
      {
        "duration": 13,
        "start_time": "2021-11-23T06:16:47.798Z"
      },
      {
        "duration": 54,
        "start_time": "2021-11-23T06:16:47.814Z"
      },
      {
        "duration": 8,
        "start_time": "2021-11-23T06:16:47.871Z"
      },
      {
        "duration": 14,
        "start_time": "2021-11-23T06:16:47.881Z"
      },
      {
        "duration": 11,
        "start_time": "2021-11-23T06:16:47.897Z"
      },
      {
        "duration": 10,
        "start_time": "2021-11-23T06:16:47.910Z"
      },
      {
        "duration": 55,
        "start_time": "2021-11-23T06:16:47.923Z"
      },
      {
        "duration": 12,
        "start_time": "2021-11-23T06:16:47.980Z"
      },
      {
        "duration": 14,
        "start_time": "2021-11-23T06:16:47.994Z"
      },
      {
        "duration": 5,
        "start_time": "2021-11-23T06:16:48.011Z"
      },
      {
        "duration": 54,
        "start_time": "2021-11-23T06:16:48.019Z"
      },
      {
        "duration": 7,
        "start_time": "2021-11-23T06:16:48.076Z"
      },
      {
        "duration": 25,
        "start_time": "2021-11-23T06:16:48.085Z"
      },
      {
        "duration": 14,
        "start_time": "2021-11-23T06:16:48.114Z"
      },
      {
        "duration": 45,
        "start_time": "2021-11-23T06:16:48.131Z"
      },
      {
        "duration": 489,
        "start_time": "2021-11-23T06:16:48.178Z"
      },
      {
        "duration": 10,
        "start_time": "2021-11-23T06:16:48.670Z"
      },
      {
        "duration": 11,
        "start_time": "2021-11-23T06:16:48.682Z"
      },
      {
        "duration": 603,
        "start_time": "2021-11-23T06:16:48.696Z"
      },
      {
        "duration": 12,
        "start_time": "2021-11-23T06:16:49.302Z"
      },
      {
        "duration": 520,
        "start_time": "2021-11-23T06:17:26.740Z"
      },
      {
        "duration": 612,
        "start_time": "2021-11-23T06:19:01.059Z"
      },
      {
        "duration": 520,
        "start_time": "2021-11-23T06:19:07.155Z"
      },
      {
        "duration": 1480,
        "start_time": "2021-11-23T06:28:12.461Z"
      },
      {
        "duration": 1412,
        "start_time": "2021-11-23T06:28:36.614Z"
      },
      {
        "duration": 1548,
        "start_time": "2021-11-23T06:29:41.410Z"
      },
      {
        "duration": 1515,
        "start_time": "2021-11-23T06:29:56.402Z"
      },
      {
        "duration": 1417,
        "start_time": "2021-11-23T06:30:07.591Z"
      },
      {
        "duration": 1391,
        "start_time": "2021-11-23T06:31:00.296Z"
      },
      {
        "duration": 1085,
        "start_time": "2021-11-23T06:35:12.555Z"
      },
      {
        "duration": 14,
        "start_time": "2021-11-23T06:37:47.797Z"
      },
      {
        "duration": 13,
        "start_time": "2021-11-23T06:38:37.694Z"
      },
      {
        "duration": 562,
        "start_time": "2021-11-23T06:40:16.590Z"
      },
      {
        "duration": 546,
        "start_time": "2021-11-23T06:40:28.363Z"
      },
      {
        "duration": 496,
        "start_time": "2021-11-23T06:41:18.718Z"
      },
      {
        "duration": 470,
        "start_time": "2021-11-23T06:41:53.706Z"
      },
      {
        "duration": 522,
        "start_time": "2021-11-23T06:42:09.426Z"
      },
      {
        "duration": 15,
        "start_time": "2021-11-23T06:44:11.093Z"
      },
      {
        "duration": 15,
        "start_time": "2021-11-23T06:44:23.660Z"
      },
      {
        "duration": 323,
        "start_time": "2021-11-23T06:44:50.056Z"
      },
      {
        "duration": 305,
        "start_time": "2021-11-23T06:45:06.122Z"
      },
      {
        "duration": 315,
        "start_time": "2021-11-23T06:45:17.353Z"
      },
      {
        "duration": 3921,
        "start_time": "2021-11-23T06:45:47.351Z"
      },
      {
        "duration": 303,
        "start_time": "2021-11-23T06:45:55.925Z"
      },
      {
        "duration": 303,
        "start_time": "2021-11-23T06:46:00.806Z"
      },
      {
        "duration": 314,
        "start_time": "2021-11-23T06:46:15.234Z"
      },
      {
        "duration": 4,
        "start_time": "2021-11-23T06:46:19.677Z"
      },
      {
        "duration": 7,
        "start_time": "2021-11-23T06:46:23.747Z"
      },
      {
        "duration": 519,
        "start_time": "2021-11-23T06:46:43.929Z"
      },
      {
        "duration": 5,
        "start_time": "2021-11-23T06:47:04.687Z"
      },
      {
        "duration": 10,
        "start_time": "2021-11-23T06:50:44.845Z"
      },
      {
        "duration": 13,
        "start_time": "2021-11-23T06:50:49.597Z"
      },
      {
        "duration": 9,
        "start_time": "2021-11-23T06:50:50.392Z"
      },
      {
        "duration": 567,
        "start_time": "2021-11-23T06:51:13.336Z"
      },
      {
        "duration": 558,
        "start_time": "2021-11-23T06:51:32.623Z"
      },
      {
        "duration": 646,
        "start_time": "2021-11-23T06:55:50.081Z"
      },
      {
        "duration": 295,
        "start_time": "2021-11-23T06:57:09.424Z"
      },
      {
        "duration": 24,
        "start_time": "2021-11-23T06:57:20.016Z"
      },
      {
        "duration": 812,
        "start_time": "2021-11-23T06:58:08.080Z"
      },
      {
        "duration": 15,
        "start_time": "2021-11-23T06:58:41.142Z"
      },
      {
        "duration": 12,
        "start_time": "2021-11-23T06:59:25.745Z"
      },
      {
        "duration": 15,
        "start_time": "2021-11-23T06:59:36.328Z"
      },
      {
        "duration": 43,
        "start_time": "2021-11-23T06:59:41.523Z"
      },
      {
        "duration": 708,
        "start_time": "2021-11-23T07:00:57.665Z"
      },
      {
        "duration": 854,
        "start_time": "2021-11-23T07:01:18.018Z"
      },
      {
        "duration": 891,
        "start_time": "2021-11-23T07:02:03.410Z"
      },
      {
        "duration": 680,
        "start_time": "2021-11-23T07:04:08.017Z"
      },
      {
        "duration": 685,
        "start_time": "2021-11-23T07:04:13.660Z"
      },
      {
        "duration": 571,
        "start_time": "2021-11-23T07:04:54.057Z"
      },
      {
        "duration": 399,
        "start_time": "2021-11-23T07:05:37.565Z"
      },
      {
        "duration": 412,
        "start_time": "2021-11-23T07:06:07.258Z"
      },
      {
        "duration": 299,
        "start_time": "2021-11-23T07:07:53.096Z"
      },
      {
        "duration": 528,
        "start_time": "2021-11-23T07:07:59.204Z"
      },
      {
        "duration": 711,
        "start_time": "2021-11-23T07:08:24.568Z"
      },
      {
        "duration": 816,
        "start_time": "2021-11-23T07:08:35.671Z"
      },
      {
        "duration": 603,
        "start_time": "2021-11-23T07:26:30.998Z"
      },
      {
        "duration": 541,
        "start_time": "2021-11-23T07:26:44.903Z"
      },
      {
        "duration": 33,
        "start_time": "2021-11-23T07:27:09.753Z"
      },
      {
        "duration": 609,
        "start_time": "2021-11-23T07:27:51.539Z"
      },
      {
        "duration": 512,
        "start_time": "2021-11-23T07:28:33.722Z"
      },
      {
        "duration": 551,
        "start_time": "2021-11-23T07:28:44.131Z"
      },
      {
        "duration": 544,
        "start_time": "2021-11-23T07:29:12.345Z"
      },
      {
        "duration": 490,
        "start_time": "2021-11-23T07:33:04.503Z"
      },
      {
        "duration": 512,
        "start_time": "2021-11-23T07:33:18.542Z"
      },
      {
        "duration": 514,
        "start_time": "2021-11-23T07:35:04.983Z"
      },
      {
        "duration": 338,
        "start_time": "2021-11-23T07:39:17.924Z"
      },
      {
        "duration": 29,
        "start_time": "2021-11-23T07:39:36.753Z"
      },
      {
        "duration": 15,
        "start_time": "2021-11-23T07:40:17.923Z"
      },
      {
        "duration": 19,
        "start_time": "2021-11-23T07:41:06.376Z"
      },
      {
        "duration": 22,
        "start_time": "2021-11-23T07:41:58.695Z"
      },
      {
        "duration": 7,
        "start_time": "2021-11-23T07:47:20.677Z"
      },
      {
        "duration": 527,
        "start_time": "2021-11-23T07:48:58.876Z"
      },
      {
        "duration": 290,
        "start_time": "2021-11-23T07:49:58.800Z"
      },
      {
        "duration": 320,
        "start_time": "2021-11-23T07:50:18.873Z"
      },
      {
        "duration": 309,
        "start_time": "2021-11-23T07:50:35.114Z"
      },
      {
        "duration": 527,
        "start_time": "2021-11-23T07:50:50.840Z"
      },
      {
        "duration": 569,
        "start_time": "2021-11-23T07:51:03.230Z"
      },
      {
        "duration": 540,
        "start_time": "2021-11-23T07:51:17.165Z"
      },
      {
        "duration": 637,
        "start_time": "2021-11-23T07:52:00.062Z"
      },
      {
        "duration": 341,
        "start_time": "2021-11-23T07:52:57.524Z"
      },
      {
        "duration": 11,
        "start_time": "2021-11-23T07:54:06.964Z"
      },
      {
        "duration": 527,
        "start_time": "2021-11-23T07:54:14.524Z"
      },
      {
        "duration": 42,
        "start_time": "2021-11-23T07:54:22.105Z"
      },
      {
        "duration": 320,
        "start_time": "2021-11-23T07:55:42.042Z"
      },
      {
        "duration": 95,
        "start_time": "2021-11-23T07:56:06.081Z"
      },
      {
        "duration": 1011,
        "start_time": "2021-11-23T07:56:21.926Z"
      },
      {
        "duration": 60,
        "start_time": "2021-11-23T07:56:31.129Z"
      },
      {
        "duration": 59,
        "start_time": "2021-11-23T07:56:44.949Z"
      },
      {
        "duration": 7,
        "start_time": "2021-11-23T07:58:05.348Z"
      },
      {
        "duration": 32,
        "start_time": "2021-11-23T07:59:36.429Z"
      },
      {
        "duration": 496,
        "start_time": "2021-11-23T08:00:02.297Z"
      },
      {
        "duration": 8,
        "start_time": "2021-11-23T08:00:33.960Z"
      },
      {
        "duration": 311,
        "start_time": "2021-11-23T08:01:24.864Z"
      },
      {
        "duration": 31,
        "start_time": "2021-11-23T08:02:09.456Z"
      },
      {
        "duration": 695,
        "start_time": "2021-11-23T08:02:13.860Z"
      },
      {
        "duration": 7,
        "start_time": "2021-11-23T08:02:26.016Z"
      },
      {
        "duration": 563,
        "start_time": "2021-11-23T08:03:50.525Z"
      },
      {
        "duration": 30,
        "start_time": "2021-11-23T08:04:11.102Z"
      },
      {
        "duration": 521,
        "start_time": "2021-11-23T08:04:12.674Z"
      },
      {
        "duration": 317,
        "start_time": "2021-11-23T08:04:40.058Z"
      },
      {
        "duration": 29,
        "start_time": "2021-11-23T08:05:03.213Z"
      },
      {
        "duration": 525,
        "start_time": "2021-11-23T08:05:04.501Z"
      },
      {
        "duration": 12,
        "start_time": "2021-11-23T08:05:53.160Z"
      },
      {
        "duration": 15,
        "start_time": "2021-11-23T08:06:22.086Z"
      },
      {
        "duration": 11,
        "start_time": "2021-11-23T08:07:13.480Z"
      },
      {
        "duration": 11,
        "start_time": "2021-11-23T08:07:27.104Z"
      },
      {
        "duration": 25,
        "start_time": "2021-11-23T08:07:43.672Z"
      },
      {
        "duration": 40,
        "start_time": "2021-11-23T08:09:36.655Z"
      },
      {
        "duration": 309,
        "start_time": "2021-11-23T08:11:31.046Z"
      },
      {
        "duration": 327,
        "start_time": "2021-11-23T08:12:15.458Z"
      },
      {
        "duration": 299,
        "start_time": "2021-11-23T08:12:40.114Z"
      },
      {
        "duration": 1590,
        "start_time": "2021-11-23T08:13:01.836Z"
      },
      {
        "duration": 51,
        "start_time": "2021-11-23T08:13:03.429Z"
      },
      {
        "duration": 24,
        "start_time": "2021-11-23T08:13:03.483Z"
      },
      {
        "duration": 15,
        "start_time": "2021-11-23T08:13:03.510Z"
      },
      {
        "duration": 4,
        "start_time": "2021-11-23T08:13:03.528Z"
      },
      {
        "duration": 57,
        "start_time": "2021-11-23T08:13:03.534Z"
      },
      {
        "duration": 23,
        "start_time": "2021-11-23T08:13:03.594Z"
      },
      {
        "duration": 54,
        "start_time": "2021-11-23T08:13:03.620Z"
      },
      {
        "duration": 12,
        "start_time": "2021-11-23T08:13:03.680Z"
      },
      {
        "duration": 16,
        "start_time": "2021-11-23T08:13:03.696Z"
      },
      {
        "duration": 70,
        "start_time": "2021-11-23T08:13:03.715Z"
      },
      {
        "duration": 10,
        "start_time": "2021-11-23T08:13:03.788Z"
      },
      {
        "duration": 17,
        "start_time": "2021-11-23T08:13:03.801Z"
      },
      {
        "duration": 50,
        "start_time": "2021-11-23T08:13:03.820Z"
      },
      {
        "duration": 15,
        "start_time": "2021-11-23T08:13:03.873Z"
      },
      {
        "duration": 14,
        "start_time": "2021-11-23T08:13:03.891Z"
      },
      {
        "duration": 12,
        "start_time": "2021-11-23T08:13:03.907Z"
      },
      {
        "duration": 54,
        "start_time": "2021-11-23T08:13:03.922Z"
      },
      {
        "duration": 6,
        "start_time": "2021-11-23T08:13:03.979Z"
      },
      {
        "duration": 19,
        "start_time": "2021-11-23T08:13:03.988Z"
      },
      {
        "duration": 7,
        "start_time": "2021-11-23T08:13:04.010Z"
      },
      {
        "duration": 57,
        "start_time": "2021-11-23T08:13:04.020Z"
      },
      {
        "duration": 20,
        "start_time": "2021-11-23T08:13:04.079Z"
      },
      {
        "duration": 37,
        "start_time": "2021-11-23T08:13:04.102Z"
      },
      {
        "duration": 651,
        "start_time": "2021-11-23T08:13:04.141Z"
      },
      {
        "duration": 14,
        "start_time": "2021-11-23T08:13:04.795Z"
      },
      {
        "duration": 13,
        "start_time": "2021-11-23T08:13:04.817Z"
      },
      {
        "duration": 2279,
        "start_time": "2021-11-23T08:13:04.834Z"
      },
      {
        "duration": 910,
        "start_time": "2021-11-23T08:13:07.117Z"
      },
      {
        "duration": 12,
        "start_time": "2021-11-23T08:13:08.029Z"
      },
      {
        "duration": 26,
        "start_time": "2021-11-23T08:13:08.043Z"
      },
      {
        "duration": 670,
        "start_time": "2021-11-23T08:13:08.071Z"
      },
      {
        "duration": 507,
        "start_time": "2021-11-23T08:13:08.744Z"
      },
      {
        "duration": 467,
        "start_time": "2021-11-23T08:13:09.253Z"
      },
      {
        "duration": 31,
        "start_time": "2021-11-23T08:13:09.692Z"
      },
      {
        "duration": 30,
        "start_time": "2021-11-23T08:13:09.694Z"
      },
      {
        "duration": 28,
        "start_time": "2021-11-23T08:13:09.697Z"
      },
      {
        "duration": 27,
        "start_time": "2021-11-23T08:13:09.699Z"
      },
      {
        "duration": 28,
        "start_time": "2021-11-23T08:13:09.700Z"
      },
      {
        "duration": 27,
        "start_time": "2021-11-23T08:13:09.702Z"
      },
      {
        "duration": 23,
        "start_time": "2021-11-23T08:13:09.707Z"
      },
      {
        "duration": 23,
        "start_time": "2021-11-23T08:13:09.709Z"
      },
      {
        "duration": 8,
        "start_time": "2021-11-23T08:13:22.469Z"
      },
      {
        "duration": 545,
        "start_time": "2021-11-23T08:13:24.339Z"
      },
      {
        "duration": 489,
        "start_time": "2021-11-23T08:13:31.482Z"
      },
      {
        "duration": 29,
        "start_time": "2021-11-23T08:13:37.436Z"
      },
      {
        "duration": 374,
        "start_time": "2021-11-23T08:13:46.250Z"
      },
      {
        "duration": 15,
        "start_time": "2021-11-23T08:14:23.483Z"
      },
      {
        "duration": 28,
        "start_time": "2021-11-23T08:16:43.470Z"
      },
      {
        "duration": 11,
        "start_time": "2021-11-23T08:17:02.988Z"
      },
      {
        "duration": 11,
        "start_time": "2021-11-23T08:17:48.084Z"
      },
      {
        "duration": 1688,
        "start_time": "2021-11-23T08:17:58.280Z"
      },
      {
        "duration": 55,
        "start_time": "2021-11-23T08:17:59.971Z"
      },
      {
        "duration": 48,
        "start_time": "2021-11-23T08:18:00.030Z"
      },
      {
        "duration": 16,
        "start_time": "2021-11-23T08:18:00.081Z"
      },
      {
        "duration": 8,
        "start_time": "2021-11-23T08:18:00.100Z"
      },
      {
        "duration": 36,
        "start_time": "2021-11-23T08:18:00.110Z"
      },
      {
        "duration": 27,
        "start_time": "2021-11-23T08:18:00.168Z"
      },
      {
        "duration": 16,
        "start_time": "2021-11-23T08:18:00.201Z"
      },
      {
        "duration": 47,
        "start_time": "2021-11-23T08:18:00.221Z"
      },
      {
        "duration": 21,
        "start_time": "2021-11-23T08:18:00.272Z"
      },
      {
        "duration": 62,
        "start_time": "2021-11-23T08:18:00.296Z"
      },
      {
        "duration": 55,
        "start_time": "2021-11-23T08:18:00.360Z"
      },
      {
        "duration": 25,
        "start_time": "2021-11-23T08:18:00.417Z"
      },
      {
        "duration": 46,
        "start_time": "2021-11-23T08:18:00.444Z"
      },
      {
        "duration": 30,
        "start_time": "2021-11-23T08:18:00.492Z"
      },
      {
        "duration": 27,
        "start_time": "2021-11-23T08:18:00.524Z"
      },
      {
        "duration": 23,
        "start_time": "2021-11-23T08:18:00.553Z"
      },
      {
        "duration": 34,
        "start_time": "2021-11-23T08:18:00.579Z"
      },
      {
        "duration": 9,
        "start_time": "2021-11-23T08:18:00.615Z"
      },
      {
        "duration": 33,
        "start_time": "2021-11-23T08:18:00.626Z"
      },
      {
        "duration": 21,
        "start_time": "2021-11-23T08:18:00.661Z"
      },
      {
        "duration": 41,
        "start_time": "2021-11-23T08:18:00.684Z"
      },
      {
        "duration": 24,
        "start_time": "2021-11-23T08:18:00.731Z"
      },
      {
        "duration": 61,
        "start_time": "2021-11-23T08:18:00.758Z"
      },
      {
        "duration": 20,
        "start_time": "2021-11-23T08:18:00.821Z"
      },
      {
        "duration": 491,
        "start_time": "2021-11-23T08:18:00.843Z"
      },
      {
        "duration": 12,
        "start_time": "2021-11-23T08:18:01.336Z"
      },
      {
        "duration": 25,
        "start_time": "2021-11-23T08:18:01.351Z"
      },
      {
        "duration": 1442,
        "start_time": "2021-11-23T08:18:01.378Z"
      },
      {
        "duration": 975,
        "start_time": "2021-11-23T08:18:02.823Z"
      },
      {
        "duration": 13,
        "start_time": "2021-11-23T08:18:03.801Z"
      },
      {
        "duration": 8,
        "start_time": "2021-11-23T08:18:03.816Z"
      },
      {
        "duration": 791,
        "start_time": "2021-11-23T08:18:03.827Z"
      },
      {
        "duration": 536,
        "start_time": "2021-11-23T08:18:04.621Z"
      },
      {
        "duration": 15,
        "start_time": "2021-11-23T08:18:05.160Z"
      },
      {
        "duration": 549,
        "start_time": "2021-11-23T08:18:05.179Z"
      },
      {
        "duration": 39,
        "start_time": "2021-11-23T08:18:05.730Z"
      },
      {
        "duration": 16,
        "start_time": "2021-11-23T08:18:05.772Z"
      },
      {
        "duration": 591,
        "start_time": "2021-11-23T08:18:05.791Z"
      },
      {
        "duration": -31,
        "start_time": "2021-11-23T08:18:06.415Z"
      },
      {
        "duration": -32,
        "start_time": "2021-11-23T08:18:06.417Z"
      },
      {
        "duration": -31,
        "start_time": "2021-11-23T08:18:06.418Z"
      },
      {
        "duration": -32,
        "start_time": "2021-11-23T08:18:06.420Z"
      },
      {
        "duration": 95,
        "start_time": "2021-11-23T08:20:59.124Z"
      },
      {
        "duration": 2392,
        "start_time": "2021-11-23T08:21:05.235Z"
      },
      {
        "duration": 9,
        "start_time": "2021-11-23T08:21:17.941Z"
      },
      {
        "duration": 28,
        "start_time": "2021-11-23T08:21:37.349Z"
      },
      {
        "duration": 31,
        "start_time": "2021-11-23T08:29:13.317Z"
      },
      {
        "duration": 9,
        "start_time": "2021-11-23T08:29:17.068Z"
      },
      {
        "duration": 28,
        "start_time": "2021-11-23T08:29:18.150Z"
      },
      {
        "duration": 9,
        "start_time": "2021-11-23T08:29:35.475Z"
      },
      {
        "duration": 27,
        "start_time": "2021-11-23T08:29:36.850Z"
      },
      {
        "duration": 10,
        "start_time": "2021-11-23T08:29:59.373Z"
      },
      {
        "duration": 29,
        "start_time": "2021-11-23T08:30:01.042Z"
      },
      {
        "duration": 10,
        "start_time": "2021-11-23T08:30:08.715Z"
      },
      {
        "duration": 350,
        "start_time": "2021-11-23T08:34:14.425Z"
      },
      {
        "duration": 11,
        "start_time": "2021-11-23T08:36:05.616Z"
      },
      {
        "duration": 16,
        "start_time": "2021-11-23T08:36:07.802Z"
      },
      {
        "duration": 7,
        "start_time": "2021-11-23T08:36:26.883Z"
      },
      {
        "duration": 17,
        "start_time": "2021-11-23T08:36:27.932Z"
      },
      {
        "duration": 1991,
        "start_time": "2021-11-23T08:36:41.503Z"
      },
      {
        "duration": 71,
        "start_time": "2021-11-23T08:36:43.497Z"
      },
      {
        "duration": 48,
        "start_time": "2021-11-23T08:36:43.573Z"
      },
      {
        "duration": 45,
        "start_time": "2021-11-23T08:36:43.626Z"
      },
      {
        "duration": 6,
        "start_time": "2021-11-23T08:36:43.674Z"
      },
      {
        "duration": 33,
        "start_time": "2021-11-23T08:36:43.683Z"
      },
      {
        "duration": 61,
        "start_time": "2021-11-23T08:36:43.719Z"
      },
      {
        "duration": 16,
        "start_time": "2021-11-23T08:36:43.785Z"
      },
      {
        "duration": 14,
        "start_time": "2021-11-23T08:36:43.805Z"
      },
      {
        "duration": 49,
        "start_time": "2021-11-23T08:36:43.823Z"
      },
      {
        "duration": 34,
        "start_time": "2021-11-23T08:36:43.875Z"
      },
      {
        "duration": 7,
        "start_time": "2021-11-23T08:36:43.912Z"
      },
      {
        "duration": 54,
        "start_time": "2021-11-23T08:36:43.922Z"
      },
      {
        "duration": 12,
        "start_time": "2021-11-23T08:36:43.978Z"
      },
      {
        "duration": 11,
        "start_time": "2021-11-23T08:36:43.992Z"
      },
      {
        "duration": 17,
        "start_time": "2021-11-23T08:36:44.006Z"
      },
      {
        "duration": 13,
        "start_time": "2021-11-23T08:36:44.067Z"
      },
      {
        "duration": 15,
        "start_time": "2021-11-23T08:36:44.082Z"
      },
      {
        "duration": 5,
        "start_time": "2021-11-23T08:36:44.100Z"
      },
      {
        "duration": 20,
        "start_time": "2021-11-23T08:36:44.108Z"
      },
      {
        "duration": 40,
        "start_time": "2021-11-23T08:36:44.131Z"
      },
      {
        "duration": 29,
        "start_time": "2021-11-23T08:36:44.174Z"
      },
      {
        "duration": 10,
        "start_time": "2021-11-23T08:36:44.210Z"
      },
      {
        "duration": 66,
        "start_time": "2021-11-23T08:36:44.224Z"
      },
      {
        "duration": 12,
        "start_time": "2021-11-23T08:36:44.293Z"
      },
      {
        "duration": 31,
        "start_time": "2021-11-23T08:36:44.308Z"
      },
      {
        "duration": 455,
        "start_time": "2021-11-23T08:36:44.367Z"
      },
      {
        "duration": 11,
        "start_time": "2021-11-23T08:36:44.825Z"
      },
      {
        "duration": 30,
        "start_time": "2021-11-23T08:36:44.838Z"
      },
      {
        "duration": 1502,
        "start_time": "2021-11-23T08:36:44.871Z"
      },
      {
        "duration": 894,
        "start_time": "2021-11-23T08:36:46.376Z"
      },
      {
        "duration": 13,
        "start_time": "2021-11-23T08:36:47.272Z"
      },
      {
        "duration": 10,
        "start_time": "2021-11-23T08:36:47.288Z"
      },
      {
        "duration": 656,
        "start_time": "2021-11-23T08:36:47.300Z"
      },
      {
        "duration": 531,
        "start_time": "2021-11-23T08:36:47.959Z"
      },
      {
        "duration": 7,
        "start_time": "2021-11-23T08:36:48.493Z"
      },
      {
        "duration": 551,
        "start_time": "2021-11-23T08:36:48.504Z"
      },
      {
        "duration": 50,
        "start_time": "2021-11-23T08:36:49.059Z"
      },
      {
        "duration": 27,
        "start_time": "2021-11-23T08:36:49.112Z"
      },
      {
        "duration": 517,
        "start_time": "2021-11-23T08:36:49.142Z"
      },
      {
        "duration": -86,
        "start_time": "2021-11-23T08:36:49.749Z"
      },
      {
        "duration": -86,
        "start_time": "2021-11-23T08:36:49.751Z"
      },
      {
        "duration": -86,
        "start_time": "2021-11-23T08:36:49.753Z"
      },
      {
        "duration": -91,
        "start_time": "2021-11-23T08:36:49.760Z"
      },
      {
        "duration": 9,
        "start_time": "2021-11-23T08:37:16.657Z"
      },
      {
        "duration": 48,
        "start_time": "2021-11-23T08:37:20.917Z"
      },
      {
        "duration": 12,
        "start_time": "2021-11-23T08:41:12.229Z"
      },
      {
        "duration": 18,
        "start_time": "2021-11-23T08:41:14.352Z"
      },
      {
        "duration": 11,
        "start_time": "2021-11-23T08:41:59.141Z"
      },
      {
        "duration": 17,
        "start_time": "2021-11-23T08:42:00.169Z"
      },
      {
        "duration": 1583,
        "start_time": "2021-11-23T08:42:08.588Z"
      },
      {
        "duration": 51,
        "start_time": "2021-11-23T08:42:10.174Z"
      },
      {
        "duration": 39,
        "start_time": "2021-11-23T08:42:10.228Z"
      },
      {
        "duration": 16,
        "start_time": "2021-11-23T08:42:10.270Z"
      },
      {
        "duration": 8,
        "start_time": "2021-11-23T08:42:10.288Z"
      },
      {
        "duration": 31,
        "start_time": "2021-11-23T08:42:10.299Z"
      },
      {
        "duration": 56,
        "start_time": "2021-11-23T08:42:10.333Z"
      },
      {
        "duration": 13,
        "start_time": "2021-11-23T08:42:10.393Z"
      },
      {
        "duration": 16,
        "start_time": "2021-11-23T08:42:10.410Z"
      },
      {
        "duration": 49,
        "start_time": "2021-11-23T08:42:10.429Z"
      },
      {
        "duration": 25,
        "start_time": "2021-11-23T08:42:10.482Z"
      },
      {
        "duration": 12,
        "start_time": "2021-11-23T08:42:10.511Z"
      },
      {
        "duration": 51,
        "start_time": "2021-11-23T08:42:10.526Z"
      },
      {
        "duration": 16,
        "start_time": "2021-11-23T08:42:10.580Z"
      },
      {
        "duration": 15,
        "start_time": "2021-11-23T08:42:10.599Z"
      },
      {
        "duration": 52,
        "start_time": "2021-11-23T08:42:10.617Z"
      },
      {
        "duration": 18,
        "start_time": "2021-11-23T08:42:10.672Z"
      },
      {
        "duration": 22,
        "start_time": "2021-11-23T08:42:10.692Z"
      },
      {
        "duration": 14,
        "start_time": "2021-11-23T08:42:10.717Z"
      },
      {
        "duration": 34,
        "start_time": "2021-11-23T08:42:10.734Z"
      },
      {
        "duration": 10,
        "start_time": "2021-11-23T08:42:10.771Z"
      },
      {
        "duration": 27,
        "start_time": "2021-11-23T08:42:10.783Z"
      },
      {
        "duration": 18,
        "start_time": "2021-11-23T08:42:10.816Z"
      },
      {
        "duration": 56,
        "start_time": "2021-11-23T08:42:10.837Z"
      },
      {
        "duration": 9,
        "start_time": "2021-11-23T08:42:10.895Z"
      },
      {
        "duration": 23,
        "start_time": "2021-11-23T08:42:10.907Z"
      },
      {
        "duration": 493,
        "start_time": "2021-11-23T08:42:10.932Z"
      },
      {
        "duration": 11,
        "start_time": "2021-11-23T08:42:11.427Z"
      },
      {
        "duration": 32,
        "start_time": "2021-11-23T08:42:11.441Z"
      },
      {
        "duration": 1824,
        "start_time": "2021-11-23T08:42:11.476Z"
      },
      {
        "duration": 888,
        "start_time": "2021-11-23T08:42:13.303Z"
      },
      {
        "duration": 13,
        "start_time": "2021-11-23T08:42:14.193Z"
      },
      {
        "duration": 11,
        "start_time": "2021-11-23T08:42:14.209Z"
      },
      {
        "duration": 673,
        "start_time": "2021-11-23T08:42:14.223Z"
      },
      {
        "duration": 576,
        "start_time": "2021-11-23T08:42:14.899Z"
      },
      {
        "duration": 8,
        "start_time": "2021-11-23T08:42:15.477Z"
      },
      {
        "duration": 492,
        "start_time": "2021-11-23T08:42:15.488Z"
      },
      {
        "duration": 17,
        "start_time": "2021-11-23T08:42:15.983Z"
      },
      {
        "duration": 17,
        "start_time": "2021-11-23T08:42:16.004Z"
      },
      {
        "duration": 493,
        "start_time": "2021-11-23T08:42:16.025Z"
      },
      {
        "duration": 35,
        "start_time": "2021-11-23T08:42:16.487Z"
      },
      {
        "duration": 27,
        "start_time": "2021-11-23T08:42:16.497Z"
      },
      {
        "duration": 29,
        "start_time": "2021-11-23T08:42:16.498Z"
      },
      {
        "duration": 29,
        "start_time": "2021-11-23T08:42:16.500Z"
      },
      {
        "duration": 372,
        "start_time": "2021-11-23T08:44:21.919Z"
      },
      {
        "duration": 374,
        "start_time": "2021-11-23T08:46:14.256Z"
      },
      {
        "duration": 344,
        "start_time": "2021-11-23T08:46:30.915Z"
      },
      {
        "duration": 293,
        "start_time": "2021-11-23T08:48:42.506Z"
      },
      {
        "duration": 294,
        "start_time": "2021-11-23T08:48:51.956Z"
      },
      {
        "duration": 319,
        "start_time": "2021-11-23T08:49:13.136Z"
      },
      {
        "duration": 144,
        "start_time": "2021-11-23T08:49:30.847Z"
      },
      {
        "duration": 98,
        "start_time": "2021-11-23T08:49:36.626Z"
      },
      {
        "duration": 87,
        "start_time": "2021-11-23T08:49:41.263Z"
      },
      {
        "duration": 283,
        "start_time": "2021-11-23T08:49:44.533Z"
      },
      {
        "duration": 314,
        "start_time": "2021-11-23T08:51:52.663Z"
      },
      {
        "duration": 307,
        "start_time": "2021-11-23T08:52:18.364Z"
      },
      {
        "duration": 4,
        "start_time": "2021-11-23T08:52:36.061Z"
      },
      {
        "duration": 1551,
        "start_time": "2021-11-23T08:52:45.215Z"
      },
      {
        "duration": 52,
        "start_time": "2021-11-23T08:52:46.769Z"
      },
      {
        "duration": 26,
        "start_time": "2021-11-23T08:52:46.825Z"
      },
      {
        "duration": 17,
        "start_time": "2021-11-23T08:52:46.869Z"
      },
      {
        "duration": 4,
        "start_time": "2021-11-23T08:52:46.889Z"
      },
      {
        "duration": 34,
        "start_time": "2021-11-23T08:52:46.895Z"
      },
      {
        "duration": 55,
        "start_time": "2021-11-23T08:52:46.932Z"
      },
      {
        "duration": 13,
        "start_time": "2021-11-23T08:52:46.989Z"
      },
      {
        "duration": 19,
        "start_time": "2021-11-23T08:52:47.009Z"
      },
      {
        "duration": 24,
        "start_time": "2021-11-23T08:52:47.070Z"
      },
      {
        "duration": 69,
        "start_time": "2021-11-23T08:52:47.098Z"
      },
      {
        "duration": 9,
        "start_time": "2021-11-23T08:52:47.170Z"
      },
      {
        "duration": 20,
        "start_time": "2021-11-23T08:52:47.182Z"
      },
      {
        "duration": 17,
        "start_time": "2021-11-23T08:52:47.205Z"
      },
      {
        "duration": 46,
        "start_time": "2021-11-23T08:52:47.225Z"
      },
      {
        "duration": 15,
        "start_time": "2021-11-23T08:52:47.274Z"
      },
      {
        "duration": 12,
        "start_time": "2021-11-23T08:52:47.292Z"
      },
      {
        "duration": 19,
        "start_time": "2021-11-23T08:52:47.306Z"
      },
      {
        "duration": 6,
        "start_time": "2021-11-23T08:52:47.328Z"
      },
      {
        "duration": 15,
        "start_time": "2021-11-23T08:52:47.368Z"
      },
      {
        "duration": 6,
        "start_time": "2021-11-23T08:52:47.386Z"
      },
      {
        "duration": 23,
        "start_time": "2021-11-23T08:52:47.395Z"
      },
      {
        "duration": 9,
        "start_time": "2021-11-23T08:52:47.421Z"
      },
      {
        "duration": 52,
        "start_time": "2021-11-23T08:52:47.467Z"
      },
      {
        "duration": 7,
        "start_time": "2021-11-23T08:52:47.521Z"
      },
      {
        "duration": 20,
        "start_time": "2021-11-23T08:52:47.531Z"
      },
      {
        "duration": 464,
        "start_time": "2021-11-23T08:52:47.556Z"
      },
      {
        "duration": 11,
        "start_time": "2021-11-23T08:52:48.023Z"
      },
      {
        "duration": 33,
        "start_time": "2021-11-23T08:52:48.036Z"
      },
      {
        "duration": 1580,
        "start_time": "2021-11-23T08:52:48.072Z"
      },
      {
        "duration": 938,
        "start_time": "2021-11-23T08:52:49.654Z"
      },
      {
        "duration": 13,
        "start_time": "2021-11-23T08:52:50.595Z"
      },
      {
        "duration": 7,
        "start_time": "2021-11-23T08:52:50.611Z"
      },
      {
        "duration": 671,
        "start_time": "2021-11-23T08:52:50.621Z"
      },
      {
        "duration": 515,
        "start_time": "2021-11-23T08:52:51.295Z"
      },
      {
        "duration": 9,
        "start_time": "2021-11-23T08:52:51.814Z"
      },
      {
        "duration": 542,
        "start_time": "2021-11-23T08:52:51.825Z"
      },
      {
        "duration": 18,
        "start_time": "2021-11-23T08:52:52.370Z"
      },
      {
        "duration": 17,
        "start_time": "2021-11-23T08:52:52.390Z"
      },
      {
        "duration": 450,
        "start_time": "2021-11-23T08:52:52.410Z"
      },
      {
        "duration": 35,
        "start_time": "2021-11-23T08:52:52.827Z"
      },
      {
        "duration": 34,
        "start_time": "2021-11-23T08:52:52.830Z"
      },
      {
        "duration": 33,
        "start_time": "2021-11-23T08:52:52.832Z"
      },
      {
        "duration": 32,
        "start_time": "2021-11-23T08:52:52.834Z"
      },
      {
        "duration": 28,
        "start_time": "2021-11-23T08:53:21.543Z"
      },
      {
        "duration": 18,
        "start_time": "2021-11-23T08:53:44.934Z"
      },
      {
        "duration": 9,
        "start_time": "2021-11-23T08:54:15.665Z"
      },
      {
        "duration": 17,
        "start_time": "2021-11-23T08:54:26.340Z"
      },
      {
        "duration": 7,
        "start_time": "2021-11-23T08:54:47.345Z"
      },
      {
        "duration": 27,
        "start_time": "2021-11-23T08:54:49.411Z"
      },
      {
        "duration": 306,
        "start_time": "2021-11-23T08:55:06.521Z"
      },
      {
        "duration": 316,
        "start_time": "2021-11-23T08:55:20.929Z"
      },
      {
        "duration": 1990,
        "start_time": "2021-11-23T08:55:34.487Z"
      },
      {
        "duration": 78,
        "start_time": "2021-11-23T08:55:36.481Z"
      },
      {
        "duration": 45,
        "start_time": "2021-11-23T08:55:36.564Z"
      },
      {
        "duration": 23,
        "start_time": "2021-11-23T08:55:36.613Z"
      },
      {
        "duration": 29,
        "start_time": "2021-11-23T08:55:36.638Z"
      },
      {
        "duration": 35,
        "start_time": "2021-11-23T08:55:36.670Z"
      },
      {
        "duration": 28,
        "start_time": "2021-11-23T08:55:36.708Z"
      },
      {
        "duration": 37,
        "start_time": "2021-11-23T08:55:36.740Z"
      },
      {
        "duration": 12,
        "start_time": "2021-11-23T08:55:36.780Z"
      },
      {
        "duration": 13,
        "start_time": "2021-11-23T08:55:36.795Z"
      },
      {
        "duration": 58,
        "start_time": "2021-11-23T08:55:36.811Z"
      },
      {
        "duration": 8,
        "start_time": "2021-11-23T08:55:36.872Z"
      },
      {
        "duration": 16,
        "start_time": "2021-11-23T08:55:36.883Z"
      },
      {
        "duration": 15,
        "start_time": "2021-11-23T08:55:36.902Z"
      },
      {
        "duration": 11,
        "start_time": "2021-11-23T08:55:36.968Z"
      },
      {
        "duration": 17,
        "start_time": "2021-11-23T08:55:36.982Z"
      },
      {
        "duration": 14,
        "start_time": "2021-11-23T08:55:37.002Z"
      },
      {
        "duration": 56,
        "start_time": "2021-11-23T08:55:37.019Z"
      },
      {
        "duration": 6,
        "start_time": "2021-11-23T08:55:37.078Z"
      },
      {
        "duration": 18,
        "start_time": "2021-11-23T08:55:37.087Z"
      },
      {
        "duration": 9,
        "start_time": "2021-11-23T08:55:37.108Z"
      },
      {
        "duration": 57,
        "start_time": "2021-11-23T08:55:37.120Z"
      },
      {
        "duration": 10,
        "start_time": "2021-11-23T08:55:37.182Z"
      },
      {
        "duration": 37,
        "start_time": "2021-11-23T08:55:37.195Z"
      },
      {
        "duration": 33,
        "start_time": "2021-11-23T08:55:37.234Z"
      },
      {
        "duration": 460,
        "start_time": "2021-11-23T08:55:37.269Z"
      },
      {
        "duration": 11,
        "start_time": "2021-11-23T08:55:37.732Z"
      },
      {
        "duration": 24,
        "start_time": "2021-11-23T08:55:37.745Z"
      },
      {
        "duration": 1444,
        "start_time": "2021-11-23T08:55:37.771Z"
      },
      {
        "duration": 905,
        "start_time": "2021-11-23T08:55:39.218Z"
      },
      {
        "duration": 13,
        "start_time": "2021-11-23T08:55:40.126Z"
      },
      {
        "duration": 29,
        "start_time": "2021-11-23T08:55:40.142Z"
      },
      {
        "duration": 651,
        "start_time": "2021-11-23T08:55:40.174Z"
      },
      {
        "duration": 513,
        "start_time": "2021-11-23T08:55:40.827Z"
      },
      {
        "duration": 8,
        "start_time": "2021-11-23T08:55:41.343Z"
      },
      {
        "duration": 505,
        "start_time": "2021-11-23T08:55:41.368Z"
      },
      {
        "duration": 18,
        "start_time": "2021-11-23T08:55:41.876Z"
      },
      {
        "duration": 21,
        "start_time": "2021-11-23T08:55:41.896Z"
      },
      {
        "duration": 444,
        "start_time": "2021-11-23T08:55:41.919Z"
      },
      {
        "duration": -54,
        "start_time": "2021-11-23T08:55:42.419Z"
      },
      {
        "duration": -54,
        "start_time": "2021-11-23T08:55:42.421Z"
      },
      {
        "duration": -55,
        "start_time": "2021-11-23T08:55:42.423Z"
      },
      {
        "duration": -54,
        "start_time": "2021-11-23T08:55:42.424Z"
      },
      {
        "duration": 30,
        "start_time": "2021-11-23T08:55:59.298Z"
      },
      {
        "duration": 326,
        "start_time": "2021-11-23T08:56:26.676Z"
      },
      {
        "duration": 15,
        "start_time": "2021-11-23T08:56:46.695Z"
      },
      {
        "duration": 484,
        "start_time": "2021-11-23T08:57:02.865Z"
      },
      {
        "duration": 13,
        "start_time": "2021-11-23T08:57:51.517Z"
      },
      {
        "duration": 18,
        "start_time": "2021-11-23T08:59:31.323Z"
      },
      {
        "duration": 15,
        "start_time": "2021-11-23T08:59:49.794Z"
      },
      {
        "duration": 18,
        "start_time": "2021-11-23T09:00:14.650Z"
      },
      {
        "duration": 10,
        "start_time": "2021-11-23T09:01:14.977Z"
      },
      {
        "duration": 686,
        "start_time": "2021-11-23T09:02:10.469Z"
      },
      {
        "duration": 806,
        "start_time": "2021-11-23T09:02:14.673Z"
      },
      {
        "duration": 20,
        "start_time": "2021-11-23T09:02:56.292Z"
      },
      {
        "duration": 16,
        "start_time": "2021-11-23T09:02:58.330Z"
      },
      {
        "duration": 15,
        "start_time": "2021-11-23T09:03:07.667Z"
      },
      {
        "duration": 18,
        "start_time": "2021-11-23T09:03:14.446Z"
      },
      {
        "duration": 597,
        "start_time": "2021-11-23T09:04:02.076Z"
      },
      {
        "duration": 574,
        "start_time": "2021-11-23T09:04:03.338Z"
      },
      {
        "duration": 676,
        "start_time": "2021-11-23T09:06:31.304Z"
      },
      {
        "duration": 315,
        "start_time": "2021-11-23T09:07:01.638Z"
      },
      {
        "duration": 21,
        "start_time": "2021-11-23T09:08:19.616Z"
      },
      {
        "duration": 444,
        "start_time": "2021-11-23T09:08:31.946Z"
      },
      {
        "duration": 23,
        "start_time": "2021-11-23T09:08:51.391Z"
      },
      {
        "duration": 24,
        "start_time": "2021-11-23T09:09:07.143Z"
      },
      {
        "duration": 333,
        "start_time": "2021-11-23T09:09:11.903Z"
      },
      {
        "duration": 23,
        "start_time": "2021-11-23T09:09:21.938Z"
      },
      {
        "duration": 302,
        "start_time": "2021-11-23T09:09:44.415Z"
      },
      {
        "duration": 331,
        "start_time": "2021-11-23T09:09:55.230Z"
      },
      {
        "duration": 26,
        "start_time": "2021-11-23T09:10:07.690Z"
      },
      {
        "duration": 375,
        "start_time": "2021-11-23T09:10:24.292Z"
      },
      {
        "duration": 13030,
        "start_time": "2021-11-23T09:10:37.607Z"
      },
      {
        "duration": 352,
        "start_time": "2021-11-23T09:11:01.320Z"
      },
      {
        "duration": 369,
        "start_time": "2021-11-23T09:11:30.167Z"
      },
      {
        "duration": 341,
        "start_time": "2021-11-23T09:12:48.200Z"
      },
      {
        "duration": 322,
        "start_time": "2021-11-23T09:12:56.636Z"
      },
      {
        "duration": 323,
        "start_time": "2021-11-23T09:13:27.722Z"
      },
      {
        "duration": 337,
        "start_time": "2021-11-23T09:48:19.838Z"
      },
      {
        "duration": 493,
        "start_time": "2021-11-23T09:48:31.313Z"
      },
      {
        "duration": 371,
        "start_time": "2021-11-23T09:48:46.407Z"
      },
      {
        "duration": 389,
        "start_time": "2021-11-23T09:49:10.393Z"
      },
      {
        "duration": 15,
        "start_time": "2021-11-23T10:04:57.744Z"
      },
      {
        "duration": 1570,
        "start_time": "2021-11-23T10:17:26.789Z"
      },
      {
        "duration": 52,
        "start_time": "2021-11-23T10:17:28.361Z"
      },
      {
        "duration": 256,
        "start_time": "2021-11-23T10:17:28.416Z"
      },
      {
        "duration": 18,
        "start_time": "2021-11-23T10:17:28.675Z"
      },
      {
        "duration": 5,
        "start_time": "2021-11-23T10:17:28.697Z"
      },
      {
        "duration": 37,
        "start_time": "2021-11-23T10:17:28.705Z"
      },
      {
        "duration": 29,
        "start_time": "2021-11-23T10:17:28.768Z"
      },
      {
        "duration": 12,
        "start_time": "2021-11-23T10:17:28.800Z"
      },
      {
        "duration": 50,
        "start_time": "2021-11-23T10:17:28.818Z"
      },
      {
        "duration": 20,
        "start_time": "2021-11-23T10:17:28.872Z"
      },
      {
        "duration": 79,
        "start_time": "2021-11-23T10:17:28.898Z"
      },
      {
        "duration": 13,
        "start_time": "2021-11-23T10:17:28.981Z"
      },
      {
        "duration": 21,
        "start_time": "2021-11-23T10:17:28.997Z"
      },
      {
        "duration": 15,
        "start_time": "2021-11-23T10:17:29.021Z"
      },
      {
        "duration": 16,
        "start_time": "2021-11-23T10:17:29.068Z"
      },
      {
        "duration": 14,
        "start_time": "2021-11-23T10:17:29.086Z"
      },
      {
        "duration": 18,
        "start_time": "2021-11-23T10:17:29.102Z"
      },
      {
        "duration": 8,
        "start_time": "2021-11-23T10:17:29.122Z"
      },
      {
        "duration": 47,
        "start_time": "2021-11-23T10:17:29.133Z"
      },
      {
        "duration": 7,
        "start_time": "2021-11-23T10:17:29.182Z"
      },
      {
        "duration": 23,
        "start_time": "2021-11-23T10:17:29.191Z"
      },
      {
        "duration": 11,
        "start_time": "2021-11-23T10:17:29.217Z"
      },
      {
        "duration": 26,
        "start_time": "2021-11-23T10:17:29.266Z"
      },
      {
        "duration": 9,
        "start_time": "2021-11-23T10:17:29.295Z"
      },
      {
        "duration": 701,
        "start_time": "2021-11-23T10:17:29.307Z"
      },
      {
        "duration": 15,
        "start_time": "2021-11-23T10:17:30.011Z"
      },
      {
        "duration": 35,
        "start_time": "2021-11-23T10:17:30.034Z"
      },
      {
        "duration": 2394,
        "start_time": "2021-11-23T10:17:30.073Z"
      },
      {
        "duration": 1414,
        "start_time": "2021-11-23T10:17:32.470Z"
      },
      {
        "duration": 19,
        "start_time": "2021-11-23T10:17:33.887Z"
      },
      {
        "duration": 11,
        "start_time": "2021-11-23T10:17:33.909Z"
      },
      {
        "duration": 54,
        "start_time": "2021-11-23T10:17:33.923Z"
      },
      {
        "duration": 654,
        "start_time": "2021-11-23T10:17:33.980Z"
      },
      {
        "duration": 522,
        "start_time": "2021-11-23T10:17:34.636Z"
      },
      {
        "duration": 10,
        "start_time": "2021-11-23T10:17:35.168Z"
      },
      {
        "duration": 706,
        "start_time": "2021-11-23T10:17:35.181Z"
      },
      {
        "duration": 508,
        "start_time": "2021-11-23T10:17:35.890Z"
      },
      {
        "duration": 16,
        "start_time": "2021-11-23T10:17:36.400Z"
      },
      {
        "duration": 25,
        "start_time": "2021-11-23T10:17:36.419Z"
      },
      {
        "duration": 30,
        "start_time": "2021-11-23T10:17:36.447Z"
      },
      {
        "duration": 705,
        "start_time": "2021-11-23T10:17:36.481Z"
      },
      {
        "duration": 509,
        "start_time": "2021-11-23T10:17:37.190Z"
      },
      {
        "duration": 17,
        "start_time": "2021-11-23T10:17:37.703Z"
      },
      {
        "duration": 46,
        "start_time": "2021-11-23T10:17:37.724Z"
      },
      {
        "duration": 405,
        "start_time": "2021-11-23T10:17:37.774Z"
      },
      {
        "duration": 673,
        "start_time": "2021-11-23T10:43:20.014Z"
      },
      {
        "duration": 843,
        "start_time": "2021-11-23T10:43:33.404Z"
      },
      {
        "duration": 21,
        "start_time": "2021-11-23T10:50:49.081Z"
      },
      {
        "duration": 549,
        "start_time": "2021-11-23T10:56:45.564Z"
      },
      {
        "duration": 955,
        "start_time": "2021-11-23T11:03:26.068Z"
      },
      {
        "duration": 798,
        "start_time": "2021-11-23T11:04:13.700Z"
      },
      {
        "duration": 551,
        "start_time": "2021-11-23T11:04:24.610Z"
      },
      {
        "duration": 512,
        "start_time": "2021-11-23T11:11:14.753Z"
      },
      {
        "duration": 501,
        "start_time": "2021-11-23T11:11:35.034Z"
      },
      {
        "duration": 532,
        "start_time": "2021-11-23T11:11:47.841Z"
      },
      {
        "duration": 545,
        "start_time": "2021-11-23T11:29:13.928Z"
      },
      {
        "duration": 786,
        "start_time": "2021-11-23T11:45:10.000Z"
      },
      {
        "duration": 576,
        "start_time": "2021-11-23T11:45:30.131Z"
      },
      {
        "duration": 667,
        "start_time": "2021-11-23T11:45:38.842Z"
      },
      {
        "duration": 505,
        "start_time": "2021-11-23T11:46:05.585Z"
      },
      {
        "duration": 538,
        "start_time": "2021-11-23T11:46:20.198Z"
      },
      {
        "duration": 573,
        "start_time": "2021-11-23T11:46:41.226Z"
      },
      {
        "duration": 406,
        "start_time": "2021-11-23T11:59:09.338Z"
      },
      {
        "duration": 29,
        "start_time": "2021-11-23T12:16:41.534Z"
      },
      {
        "duration": 448,
        "start_time": "2021-11-23T12:19:16.474Z"
      },
      {
        "duration": 305,
        "start_time": "2021-11-23T12:19:35.306Z"
      },
      {
        "duration": 412,
        "start_time": "2021-11-23T12:20:07.396Z"
      },
      {
        "duration": 39,
        "start_time": "2021-11-23T12:23:16.524Z"
      },
      {
        "duration": 340,
        "start_time": "2021-11-23T12:23:49.060Z"
      },
      {
        "duration": 323,
        "start_time": "2021-11-23T12:24:02.826Z"
      },
      {
        "duration": 43,
        "start_time": "2021-11-23T12:24:10.920Z"
      },
      {
        "duration": 348,
        "start_time": "2021-11-23T12:24:45.084Z"
      },
      {
        "duration": 119,
        "start_time": "2021-11-23T12:25:02.030Z"
      },
      {
        "duration": 45,
        "start_time": "2021-11-23T12:25:05.632Z"
      },
      {
        "duration": 42,
        "start_time": "2021-11-23T12:25:21.076Z"
      },
      {
        "duration": 41,
        "start_time": "2021-11-23T12:25:37.208Z"
      },
      {
        "duration": 40,
        "start_time": "2021-11-23T12:26:06.488Z"
      },
      {
        "duration": 40,
        "start_time": "2021-11-23T12:26:51.527Z"
      },
      {
        "duration": 44,
        "start_time": "2021-11-23T12:27:10.894Z"
      },
      {
        "duration": 41,
        "start_time": "2021-11-23T12:28:00.952Z"
      },
      {
        "duration": 37,
        "start_time": "2021-11-23T12:28:22.808Z"
      },
      {
        "duration": 37,
        "start_time": "2021-11-23T12:28:38.771Z"
      },
      {
        "duration": 41,
        "start_time": "2021-11-23T12:29:12.390Z"
      },
      {
        "duration": 40,
        "start_time": "2021-11-23T12:29:22.751Z"
      },
      {
        "duration": 35,
        "start_time": "2021-11-23T12:32:28.757Z"
      },
      {
        "duration": 38,
        "start_time": "2021-11-23T12:33:12.375Z"
      },
      {
        "duration": 37,
        "start_time": "2021-11-23T12:33:30.995Z"
      },
      {
        "duration": 376,
        "start_time": "2021-11-23T13:15:00.314Z"
      },
      {
        "duration": 373,
        "start_time": "2021-11-23T13:15:20.331Z"
      },
      {
        "duration": 337,
        "start_time": "2021-11-23T13:16:33.690Z"
      },
      {
        "duration": 398,
        "start_time": "2021-11-23T13:16:55.620Z"
      },
      {
        "duration": 366,
        "start_time": "2021-11-23T13:18:50.607Z"
      },
      {
        "duration": 381,
        "start_time": "2021-11-23T13:19:32.363Z"
      },
      {
        "duration": 327,
        "start_time": "2021-11-23T13:19:50.440Z"
      },
      {
        "duration": 455,
        "start_time": "2021-11-23T13:19:58.112Z"
      },
      {
        "duration": 382,
        "start_time": "2021-11-23T13:20:55.769Z"
      },
      {
        "duration": 628,
        "start_time": "2021-11-23T13:21:57.828Z"
      },
      {
        "duration": 359,
        "start_time": "2021-11-23T13:22:14.997Z"
      },
      {
        "duration": 336,
        "start_time": "2021-11-23T13:22:52.902Z"
      },
      {
        "duration": 344,
        "start_time": "2021-11-23T13:23:16.664Z"
      },
      {
        "duration": 325,
        "start_time": "2021-11-23T13:23:29.466Z"
      },
      {
        "duration": 343,
        "start_time": "2021-11-23T13:23:34.606Z"
      },
      {
        "duration": 335,
        "start_time": "2021-11-23T13:24:23.210Z"
      },
      {
        "duration": 333,
        "start_time": "2021-11-23T13:24:55.124Z"
      },
      {
        "duration": 348,
        "start_time": "2021-11-23T13:25:59.988Z"
      },
      {
        "duration": 285,
        "start_time": "2021-11-23T13:26:16.535Z"
      },
      {
        "duration": 376,
        "start_time": "2021-11-23T13:26:33.460Z"
      },
      {
        "duration": 1098,
        "start_time": "2021-11-23T13:27:11.875Z"
      },
      {
        "duration": 314,
        "start_time": "2021-11-23T13:28:16.457Z"
      },
      {
        "duration": 287,
        "start_time": "2021-11-23T13:28:52.814Z"
      },
      {
        "duration": 224,
        "start_time": "2021-11-23T13:28:59.241Z"
      },
      {
        "duration": 285,
        "start_time": "2021-11-23T13:29:06.013Z"
      },
      {
        "duration": 321,
        "start_time": "2021-11-23T13:29:24.057Z"
      },
      {
        "duration": 278,
        "start_time": "2021-11-23T13:29:30.095Z"
      },
      {
        "duration": 297,
        "start_time": "2021-11-23T13:29:41.458Z"
      },
      {
        "duration": 335,
        "start_time": "2021-11-23T13:29:48.484Z"
      },
      {
        "duration": 297,
        "start_time": "2021-11-23T13:33:52.524Z"
      },
      {
        "duration": 280,
        "start_time": "2021-11-23T13:34:09.497Z"
      },
      {
        "duration": 315,
        "start_time": "2021-11-23T13:34:17.702Z"
      },
      {
        "duration": 266,
        "start_time": "2021-11-23T13:34:51.454Z"
      },
      {
        "duration": 30,
        "start_time": "2021-11-23T13:35:02.486Z"
      },
      {
        "duration": 334,
        "start_time": "2021-11-23T13:36:00.613Z"
      },
      {
        "duration": 295,
        "start_time": "2021-11-23T13:36:13.152Z"
      },
      {
        "duration": 299,
        "start_time": "2021-11-23T13:36:20.850Z"
      },
      {
        "duration": 439,
        "start_time": "2021-11-23T13:37:34.684Z"
      },
      {
        "duration": 297,
        "start_time": "2021-11-23T13:38:15.935Z"
      },
      {
        "duration": 295,
        "start_time": "2021-11-23T13:38:32.761Z"
      },
      {
        "duration": 295,
        "start_time": "2021-11-23T13:39:06.375Z"
      },
      {
        "duration": 317,
        "start_time": "2021-11-23T13:40:12.953Z"
      },
      {
        "duration": 335,
        "start_time": "2021-11-23T13:41:25.025Z"
      },
      {
        "duration": 329,
        "start_time": "2021-11-23T13:41:44.041Z"
      },
      {
        "duration": 283,
        "start_time": "2021-11-23T13:43:14.615Z"
      },
      {
        "duration": 316,
        "start_time": "2021-11-23T13:43:21.080Z"
      },
      {
        "duration": 293,
        "start_time": "2021-11-23T13:43:53.003Z"
      },
      {
        "duration": 310,
        "start_time": "2021-11-23T13:44:07.872Z"
      },
      {
        "duration": 331,
        "start_time": "2021-11-23T13:44:22.539Z"
      },
      {
        "duration": 626,
        "start_time": "2021-11-23T13:47:49.725Z"
      },
      {
        "duration": 1041,
        "start_time": "2021-11-23T13:48:44.372Z"
      },
      {
        "duration": 901,
        "start_time": "2021-11-23T13:49:11.271Z"
      },
      {
        "duration": 609,
        "start_time": "2021-11-23T13:50:04.858Z"
      },
      {
        "duration": 885,
        "start_time": "2021-11-23T13:50:38.305Z"
      },
      {
        "duration": 654,
        "start_time": "2021-11-23T13:51:05.508Z"
      },
      {
        "duration": 969,
        "start_time": "2021-11-23T13:51:39.577Z"
      },
      {
        "duration": 1045,
        "start_time": "2021-11-23T14:16:49.744Z"
      },
      {
        "duration": 12,
        "start_time": "2021-11-23T14:44:26.496Z"
      },
      {
        "duration": 300,
        "start_time": "2021-11-23T14:44:50.185Z"
      },
      {
        "duration": 302,
        "start_time": "2021-11-23T14:45:13.757Z"
      },
      {
        "duration": 308,
        "start_time": "2021-11-23T14:45:21.824Z"
      },
      {
        "duration": 289,
        "start_time": "2021-11-23T14:45:29.911Z"
      },
      {
        "duration": 295,
        "start_time": "2021-11-23T14:46:08.541Z"
      },
      {
        "duration": 5,
        "start_time": "2021-11-23T14:51:52.865Z"
      },
      {
        "duration": 310,
        "start_time": "2021-11-23T14:52:20.683Z"
      },
      {
        "duration": 364,
        "start_time": "2021-11-23T14:52:32.624Z"
      },
      {
        "duration": 7,
        "start_time": "2021-11-23T14:52:58.029Z"
      },
      {
        "duration": 5,
        "start_time": "2021-11-23T15:10:21.572Z"
      },
      {
        "duration": 8,
        "start_time": "2021-11-23T15:10:40.357Z"
      },
      {
        "duration": 7,
        "start_time": "2021-11-23T15:10:52.734Z"
      },
      {
        "duration": 7,
        "start_time": "2021-11-23T15:13:04.107Z"
      },
      {
        "duration": 471,
        "start_time": "2021-11-23T15:13:16.856Z"
      },
      {
        "duration": 6,
        "start_time": "2021-11-23T15:13:22.816Z"
      },
      {
        "duration": 6,
        "start_time": "2021-11-23T15:15:30.589Z"
      },
      {
        "duration": 6,
        "start_time": "2021-11-23T15:15:52.137Z"
      },
      {
        "duration": 6,
        "start_time": "2021-11-23T15:16:35.421Z"
      },
      {
        "duration": 7,
        "start_time": "2021-11-23T15:16:52.266Z"
      },
      {
        "duration": 330,
        "start_time": "2021-11-23T15:24:44.366Z"
      },
      {
        "duration": 308,
        "start_time": "2021-11-23T15:24:57.502Z"
      },
      {
        "duration": 9,
        "start_time": "2021-11-23T15:25:04.185Z"
      },
      {
        "duration": 10,
        "start_time": "2021-11-23T15:25:08.665Z"
      },
      {
        "duration": 7,
        "start_time": "2021-11-23T15:25:38.925Z"
      },
      {
        "duration": 6,
        "start_time": "2021-11-23T15:25:50.833Z"
      },
      {
        "duration": 21,
        "start_time": "2021-11-23T15:30:23.160Z"
      },
      {
        "duration": 20,
        "start_time": "2021-11-23T15:30:25.817Z"
      },
      {
        "duration": 112,
        "start_time": "2021-11-23T15:37:26.916Z"
      },
      {
        "duration": 18,
        "start_time": "2021-11-23T15:38:52.686Z"
      },
      {
        "duration": 7,
        "start_time": "2021-11-23T15:39:03.862Z"
      },
      {
        "duration": 310,
        "start_time": "2021-11-23T15:39:09.603Z"
      },
      {
        "duration": 291,
        "start_time": "2021-11-23T15:39:18.604Z"
      },
      {
        "duration": 20,
        "start_time": "2021-11-23T15:39:28.250Z"
      },
      {
        "duration": 332,
        "start_time": "2021-11-23T15:39:29.126Z"
      },
      {
        "duration": 7,
        "start_time": "2021-11-23T15:39:48.758Z"
      },
      {
        "duration": 19,
        "start_time": "2021-11-23T15:40:24.186Z"
      },
      {
        "duration": 20,
        "start_time": "2021-11-23T15:40:39.075Z"
      },
      {
        "duration": 6,
        "start_time": "2021-11-23T15:40:41.201Z"
      },
      {
        "duration": 5,
        "start_time": "2021-11-23T15:40:42.194Z"
      },
      {
        "duration": 6,
        "start_time": "2021-11-23T15:40:54.511Z"
      },
      {
        "duration": 21,
        "start_time": "2021-11-23T15:41:21.908Z"
      },
      {
        "duration": 8,
        "start_time": "2021-11-23T15:41:23.545Z"
      },
      {
        "duration": 291,
        "start_time": "2021-11-23T15:41:31.800Z"
      },
      {
        "duration": 283,
        "start_time": "2021-11-23T15:41:50.111Z"
      },
      {
        "duration": 6,
        "start_time": "2021-11-23T15:42:36.177Z"
      },
      {
        "duration": 7,
        "start_time": "2021-11-23T15:42:37.244Z"
      },
      {
        "duration": 8,
        "start_time": "2021-11-23T15:43:21.563Z"
      },
      {
        "duration": 7,
        "start_time": "2021-11-23T15:45:40.935Z"
      },
      {
        "duration": 1868,
        "start_time": "2021-11-23T15:46:18.259Z"
      },
      {
        "duration": 69,
        "start_time": "2021-11-23T15:46:20.130Z"
      },
      {
        "duration": 28,
        "start_time": "2021-11-23T15:46:20.203Z"
      },
      {
        "duration": 15,
        "start_time": "2021-11-23T15:46:20.234Z"
      },
      {
        "duration": 8,
        "start_time": "2021-11-23T15:46:20.271Z"
      },
      {
        "duration": 28,
        "start_time": "2021-11-23T15:46:20.286Z"
      },
      {
        "duration": 33,
        "start_time": "2021-11-23T15:46:20.316Z"
      },
      {
        "duration": 37,
        "start_time": "2021-11-23T15:46:20.353Z"
      },
      {
        "duration": 29,
        "start_time": "2021-11-23T15:46:20.393Z"
      },
      {
        "duration": 14,
        "start_time": "2021-11-23T15:46:20.425Z"
      },
      {
        "duration": 36,
        "start_time": "2021-11-23T15:46:20.441Z"
      },
      {
        "duration": 26,
        "start_time": "2021-11-23T15:46:20.481Z"
      },
      {
        "duration": 12,
        "start_time": "2021-11-23T15:46:20.510Z"
      },
      {
        "duration": 12,
        "start_time": "2021-11-23T15:46:20.524Z"
      },
      {
        "duration": 39,
        "start_time": "2021-11-23T15:46:20.539Z"
      },
      {
        "duration": 13,
        "start_time": "2021-11-23T15:46:20.586Z"
      },
      {
        "duration": 13,
        "start_time": "2021-11-23T15:46:20.602Z"
      },
      {
        "duration": 6,
        "start_time": "2021-11-23T15:46:20.618Z"
      },
      {
        "duration": 8,
        "start_time": "2021-11-23T15:46:20.627Z"
      },
      {
        "duration": 65,
        "start_time": "2021-11-23T15:46:20.637Z"
      },
      {
        "duration": 21,
        "start_time": "2021-11-23T15:46:20.705Z"
      },
      {
        "duration": 17,
        "start_time": "2021-11-23T15:46:20.730Z"
      },
      {
        "duration": 639,
        "start_time": "2021-11-23T15:46:20.755Z"
      },
      {
        "duration": 15,
        "start_time": "2021-11-23T15:46:21.399Z"
      },
      {
        "duration": 14,
        "start_time": "2021-11-23T15:46:21.417Z"
      },
      {
        "duration": 2309,
        "start_time": "2021-11-23T15:46:21.434Z"
      },
      {
        "duration": 1278,
        "start_time": "2021-11-23T15:46:23.746Z"
      },
      {
        "duration": 848,
        "start_time": "2021-11-23T15:46:25.027Z"
      },
      {
        "duration": 19,
        "start_time": "2021-11-23T15:46:25.878Z"
      },
      {
        "duration": 573,
        "start_time": "2021-11-23T15:46:25.900Z"
      },
      {
        "duration": 634,
        "start_time": "2021-11-23T15:46:26.478Z"
      },
      {
        "duration": 528,
        "start_time": "2021-11-23T15:46:27.115Z"
      },
      {
        "duration": 8,
        "start_time": "2021-11-23T15:46:27.645Z"
      },
      {
        "duration": 696,
        "start_time": "2021-11-23T15:46:27.655Z"
      },
      {
        "duration": 535,
        "start_time": "2021-11-23T15:46:28.353Z"
      },
      {
        "duration": 16,
        "start_time": "2021-11-23T15:46:28.891Z"
      },
      {
        "duration": 23,
        "start_time": "2021-11-23T15:46:28.909Z"
      },
      {
        "duration": 36,
        "start_time": "2021-11-23T15:46:28.935Z"
      },
      {
        "duration": 710,
        "start_time": "2021-11-23T15:46:28.980Z"
      },
      {
        "duration": 731,
        "start_time": "2021-11-23T15:46:29.693Z"
      },
      {
        "duration": 20,
        "start_time": "2021-11-23T15:46:30.427Z"
      },
      {
        "duration": 46,
        "start_time": "2021-11-23T15:46:30.450Z"
      },
      {
        "duration": 559,
        "start_time": "2021-11-23T15:46:30.499Z"
      },
      {
        "duration": 1388,
        "start_time": "2021-11-23T15:46:31.066Z"
      },
      {
        "duration": 1290,
        "start_time": "2021-11-23T15:46:32.457Z"
      },
      {
        "duration": 1351,
        "start_time": "2021-11-23T15:46:33.751Z"
      },
      {
        "duration": 25,
        "start_time": "2021-11-23T15:46:35.105Z"
      },
      {
        "duration": 6,
        "start_time": "2021-11-23T15:46:35.132Z"
      },
      {
        "duration": 29,
        "start_time": "2021-11-23T15:46:35.140Z"
      },
      {
        "duration": 20,
        "start_time": "2021-11-23T15:46:35.172Z"
      },
      {
        "duration": 21,
        "start_time": "2021-11-23T15:46:35.195Z"
      },
      {
        "duration": 6,
        "start_time": "2021-11-23T15:46:35.218Z"
      },
      {
        "duration": 44,
        "start_time": "2021-11-23T15:46:35.226Z"
      },
      {
        "duration": 15,
        "start_time": "2021-11-23T15:46:35.273Z"
      },
      {
        "duration": 1153,
        "start_time": "2021-11-24T06:29:27.377Z"
      },
      {
        "duration": 37,
        "start_time": "2021-11-24T06:29:28.532Z"
      },
      {
        "duration": 16,
        "start_time": "2021-11-24T06:29:28.571Z"
      },
      {
        "duration": 10,
        "start_time": "2021-11-24T06:29:28.588Z"
      },
      {
        "duration": 2,
        "start_time": "2021-11-24T06:29:28.600Z"
      },
      {
        "duration": 22,
        "start_time": "2021-11-24T06:29:28.604Z"
      },
      {
        "duration": 16,
        "start_time": "2021-11-24T06:29:28.628Z"
      },
      {
        "duration": 8,
        "start_time": "2021-11-24T06:29:28.646Z"
      },
      {
        "duration": 38,
        "start_time": "2021-11-24T06:29:28.656Z"
      },
      {
        "duration": 11,
        "start_time": "2021-11-24T06:29:28.696Z"
      },
      {
        "duration": 13,
        "start_time": "2021-11-24T06:29:28.708Z"
      },
      {
        "duration": 7,
        "start_time": "2021-11-24T06:29:28.723Z"
      },
      {
        "duration": 7,
        "start_time": "2021-11-24T06:29:28.732Z"
      },
      {
        "duration": 7,
        "start_time": "2021-11-24T06:29:28.740Z"
      },
      {
        "duration": 48,
        "start_time": "2021-11-24T06:29:28.749Z"
      },
      {
        "duration": 14,
        "start_time": "2021-11-24T06:29:28.799Z"
      },
      {
        "duration": 8,
        "start_time": "2021-11-24T06:29:28.814Z"
      },
      {
        "duration": 3,
        "start_time": "2021-11-24T06:29:28.824Z"
      },
      {
        "duration": 8,
        "start_time": "2021-11-24T06:29:28.829Z"
      },
      {
        "duration": 13,
        "start_time": "2021-11-24T06:29:28.839Z"
      },
      {
        "duration": 16,
        "start_time": "2021-11-24T06:29:28.853Z"
      },
      {
        "duration": 26,
        "start_time": "2021-11-24T06:29:28.870Z"
      },
      {
        "duration": 269,
        "start_time": "2021-11-24T06:29:28.900Z"
      },
      {
        "duration": 7,
        "start_time": "2021-11-24T06:29:29.171Z"
      },
      {
        "duration": 14,
        "start_time": "2021-11-24T06:29:29.180Z"
      },
      {
        "duration": 818,
        "start_time": "2021-11-24T06:29:29.195Z"
      },
      {
        "duration": 528,
        "start_time": "2021-11-24T06:29:30.014Z"
      },
      {
        "duration": 483,
        "start_time": "2021-11-24T06:29:30.544Z"
      },
      {
        "duration": 10,
        "start_time": "2021-11-24T06:29:31.029Z"
      },
      {
        "duration": 326,
        "start_time": "2021-11-24T06:29:31.040Z"
      },
      {
        "duration": 308,
        "start_time": "2021-11-24T06:29:31.368Z"
      },
      {
        "duration": 294,
        "start_time": "2021-11-24T06:29:31.678Z"
      },
      {
        "duration": 5,
        "start_time": "2021-11-24T06:29:31.974Z"
      },
      {
        "duration": 378,
        "start_time": "2021-11-24T06:29:31.980Z"
      },
      {
        "duration": 375,
        "start_time": "2021-11-24T06:29:32.360Z"
      },
      {
        "duration": 10,
        "start_time": "2021-11-24T06:29:32.736Z"
      },
      {
        "duration": 12,
        "start_time": "2021-11-24T06:29:32.747Z"
      },
      {
        "duration": 6,
        "start_time": "2021-11-24T06:29:32.761Z"
      },
      {
        "duration": 397,
        "start_time": "2021-11-24T06:29:32.768Z"
      },
      {
        "duration": 385,
        "start_time": "2021-11-24T06:29:33.166Z"
      },
      {
        "duration": 10,
        "start_time": "2021-11-24T06:29:33.552Z"
      },
      {
        "duration": 12,
        "start_time": "2021-11-24T06:29:33.563Z"
      },
      {
        "duration": 227,
        "start_time": "2021-11-24T06:29:33.590Z"
      },
      {
        "duration": 608,
        "start_time": "2021-11-24T06:29:33.819Z"
      },
      {
        "duration": 527,
        "start_time": "2021-11-24T06:29:34.428Z"
      },
      {
        "duration": 631,
        "start_time": "2021-11-24T06:29:34.957Z"
      },
      {
        "duration": 13,
        "start_time": "2021-11-24T06:29:35.589Z"
      },
      {
        "duration": 6,
        "start_time": "2021-11-24T06:29:35.604Z"
      },
      {
        "duration": 6,
        "start_time": "2021-11-24T06:29:35.611Z"
      },
      {
        "duration": 5,
        "start_time": "2021-11-24T06:29:35.619Z"
      },
      {
        "duration": 14,
        "start_time": "2021-11-24T06:29:35.626Z"
      },
      {
        "duration": 4,
        "start_time": "2021-11-24T06:29:35.641Z"
      },
      {
        "duration": 47,
        "start_time": "2021-11-24T06:29:35.647Z"
      },
      {
        "duration": 6,
        "start_time": "2021-11-24T06:29:35.696Z"
      },
      {
        "duration": 290,
        "start_time": "2021-11-24T06:35:39.254Z"
      },
      {
        "duration": 316,
        "start_time": "2021-11-24T06:35:53.568Z"
      },
      {
        "duration": 5,
        "start_time": "2021-11-24T06:42:24.766Z"
      },
      {
        "duration": 5,
        "start_time": "2021-11-24T06:42:33.560Z"
      },
      {
        "duration": 1035,
        "start_time": "2021-11-24T07:05:40.801Z"
      },
      {
        "duration": 36,
        "start_time": "2021-11-24T07:05:41.838Z"
      },
      {
        "duration": 15,
        "start_time": "2021-11-24T07:05:41.878Z"
      },
      {
        "duration": 12,
        "start_time": "2021-11-24T07:05:41.895Z"
      },
      {
        "duration": 3,
        "start_time": "2021-11-24T07:05:41.908Z"
      },
      {
        "duration": 19,
        "start_time": "2021-11-24T07:05:41.912Z"
      },
      {
        "duration": 14,
        "start_time": "2021-11-24T07:05:41.933Z"
      },
      {
        "duration": 8,
        "start_time": "2021-11-24T07:05:41.949Z"
      },
      {
        "duration": 38,
        "start_time": "2021-11-24T07:05:41.958Z"
      },
      {
        "duration": 9,
        "start_time": "2021-11-24T07:05:41.997Z"
      },
      {
        "duration": 14,
        "start_time": "2021-11-24T07:05:42.007Z"
      },
      {
        "duration": 5,
        "start_time": "2021-11-24T07:05:42.022Z"
      },
      {
        "duration": 13,
        "start_time": "2021-11-24T07:05:42.028Z"
      },
      {
        "duration": 8,
        "start_time": "2021-11-24T07:05:42.043Z"
      },
      {
        "duration": 44,
        "start_time": "2021-11-24T07:05:42.053Z"
      },
      {
        "duration": 9,
        "start_time": "2021-11-24T07:05:42.099Z"
      },
      {
        "duration": 9,
        "start_time": "2021-11-24T07:05:42.110Z"
      },
      {
        "duration": 5,
        "start_time": "2021-11-24T07:05:42.120Z"
      },
      {
        "duration": 6,
        "start_time": "2021-11-24T07:05:42.126Z"
      },
      {
        "duration": 13,
        "start_time": "2021-11-24T07:05:42.133Z"
      },
      {
        "duration": 44,
        "start_time": "2021-11-24T07:05:42.148Z"
      },
      {
        "duration": 6,
        "start_time": "2021-11-24T07:05:42.196Z"
      },
      {
        "duration": 278,
        "start_time": "2021-11-24T07:05:42.204Z"
      },
      {
        "duration": 8,
        "start_time": "2021-11-24T07:05:42.491Z"
      },
      {
        "duration": 8,
        "start_time": "2021-11-24T07:05:42.500Z"
      },
      {
        "duration": 828,
        "start_time": "2021-11-24T07:05:42.509Z"
      },
      {
        "duration": 609,
        "start_time": "2021-11-24T07:05:43.338Z"
      },
      {
        "duration": 481,
        "start_time": "2021-11-24T07:05:43.948Z"
      },
      {
        "duration": 9,
        "start_time": "2021-11-24T07:05:44.431Z"
      },
      {
        "duration": 325,
        "start_time": "2021-11-24T07:05:44.442Z"
      },
      {
        "duration": 301,
        "start_time": "2021-11-24T07:05:44.768Z"
      },
      {
        "duration": 324,
        "start_time": "2021-11-24T07:05:45.072Z"
      },
      {
        "duration": 5,
        "start_time": "2021-11-24T07:05:45.398Z"
      },
      {
        "duration": 370,
        "start_time": "2021-11-24T07:05:45.405Z"
      },
      {
        "duration": 378,
        "start_time": "2021-11-24T07:05:45.777Z"
      },
      {
        "duration": 9,
        "start_time": "2021-11-24T07:05:46.157Z"
      },
      {
        "duration": 28,
        "start_time": "2021-11-24T07:05:46.168Z"
      },
      {
        "duration": 22,
        "start_time": "2021-11-24T07:05:46.197Z"
      },
      {
        "duration": 353,
        "start_time": "2021-11-24T07:05:46.221Z"
      },
      {
        "duration": 393,
        "start_time": "2021-11-24T07:05:46.576Z"
      },
      {
        "duration": 11,
        "start_time": "2021-11-24T07:05:46.971Z"
      },
      {
        "duration": 11,
        "start_time": "2021-11-24T07:05:46.992Z"
      },
      {
        "duration": 257,
        "start_time": "2021-11-24T07:05:47.006Z"
      },
      {
        "duration": 608,
        "start_time": "2021-11-24T07:05:47.265Z"
      },
      {
        "duration": 539,
        "start_time": "2021-11-24T07:05:47.875Z"
      },
      {
        "duration": 603,
        "start_time": "2021-11-24T07:05:48.416Z"
      },
      {
        "duration": 17,
        "start_time": "2021-11-24T07:05:49.021Z"
      },
      {
        "duration": 5,
        "start_time": "2021-11-24T07:05:49.040Z"
      },
      {
        "duration": 4,
        "start_time": "2021-11-24T07:05:49.047Z"
      },
      {
        "duration": 6,
        "start_time": "2021-11-24T07:05:49.052Z"
      },
      {
        "duration": 39,
        "start_time": "2021-11-24T07:05:49.059Z"
      },
      {
        "duration": 4,
        "start_time": "2021-11-24T07:05:49.099Z"
      },
      {
        "duration": 10,
        "start_time": "2021-11-24T07:05:49.105Z"
      },
      {
        "duration": 7,
        "start_time": "2021-11-24T07:05:49.116Z"
      },
      {
        "duration": 1112,
        "start_time": "2021-11-24T07:09:59.338Z"
      },
      {
        "duration": 38,
        "start_time": "2021-11-24T07:10:00.452Z"
      },
      {
        "duration": 17,
        "start_time": "2021-11-24T07:10:00.492Z"
      },
      {
        "duration": 18,
        "start_time": "2021-11-24T07:10:00.511Z"
      },
      {
        "duration": 2,
        "start_time": "2021-11-24T07:10:00.531Z"
      },
      {
        "duration": 32,
        "start_time": "2021-11-24T07:10:00.535Z"
      },
      {
        "duration": 24,
        "start_time": "2021-11-24T07:10:00.568Z"
      },
      {
        "duration": 9,
        "start_time": "2021-11-24T07:10:00.595Z"
      },
      {
        "duration": 15,
        "start_time": "2021-11-24T07:10:00.606Z"
      },
      {
        "duration": 11,
        "start_time": "2021-11-24T07:10:00.623Z"
      },
      {
        "duration": 13,
        "start_time": "2021-11-24T07:10:00.635Z"
      },
      {
        "duration": 6,
        "start_time": "2021-11-24T07:10:00.650Z"
      },
      {
        "duration": 34,
        "start_time": "2021-11-24T07:10:00.658Z"
      },
      {
        "duration": 8,
        "start_time": "2021-11-24T07:10:00.694Z"
      },
      {
        "duration": 17,
        "start_time": "2021-11-24T07:10:00.703Z"
      },
      {
        "duration": 13,
        "start_time": "2021-11-24T07:10:00.722Z"
      },
      {
        "duration": 8,
        "start_time": "2021-11-24T07:10:00.737Z"
      },
      {
        "duration": 9,
        "start_time": "2021-11-24T07:10:00.746Z"
      },
      {
        "duration": 7,
        "start_time": "2021-11-24T07:10:00.757Z"
      },
      {
        "duration": 35,
        "start_time": "2021-11-24T07:10:00.766Z"
      },
      {
        "duration": 13,
        "start_time": "2021-11-24T07:10:00.803Z"
      },
      {
        "duration": 16,
        "start_time": "2021-11-24T07:10:00.818Z"
      },
      {
        "duration": 290,
        "start_time": "2021-11-24T07:10:00.838Z"
      },
      {
        "duration": 7,
        "start_time": "2021-11-24T07:10:01.130Z"
      },
      {
        "duration": 15,
        "start_time": "2021-11-24T07:10:01.138Z"
      },
      {
        "duration": 851,
        "start_time": "2021-11-24T07:10:01.154Z"
      },
      {
        "duration": 541,
        "start_time": "2021-11-24T07:10:02.008Z"
      },
      {
        "duration": 508,
        "start_time": "2021-11-24T07:10:02.551Z"
      },
      {
        "duration": 9,
        "start_time": "2021-11-24T07:10:03.061Z"
      },
      {
        "duration": 338,
        "start_time": "2021-11-24T07:10:03.072Z"
      },
      {
        "duration": 315,
        "start_time": "2021-11-24T07:10:03.412Z"
      },
      {
        "duration": 302,
        "start_time": "2021-11-24T07:10:03.729Z"
      },
      {
        "duration": 5,
        "start_time": "2021-11-24T07:10:04.033Z"
      },
      {
        "duration": 361,
        "start_time": "2021-11-24T07:10:04.039Z"
      },
      {
        "duration": 384,
        "start_time": "2021-11-24T07:10:04.402Z"
      },
      {
        "duration": 10,
        "start_time": "2021-11-24T07:10:04.787Z"
      },
      {
        "duration": 12,
        "start_time": "2021-11-24T07:10:04.799Z"
      },
      {
        "duration": 5,
        "start_time": "2021-11-24T07:10:04.813Z"
      },
      {
        "duration": 392,
        "start_time": "2021-11-24T07:10:04.820Z"
      },
      {
        "duration": 364,
        "start_time": "2021-11-24T07:10:05.213Z"
      },
      {
        "duration": 14,
        "start_time": "2021-11-24T07:10:05.579Z"
      },
      {
        "duration": 12,
        "start_time": "2021-11-24T07:10:05.595Z"
      },
      {
        "duration": 236,
        "start_time": "2021-11-24T07:10:05.609Z"
      },
      {
        "duration": 624,
        "start_time": "2021-11-24T07:10:05.847Z"
      },
      {
        "duration": 548,
        "start_time": "2021-11-24T07:10:06.473Z"
      },
      {
        "duration": 605,
        "start_time": "2021-11-24T07:10:07.024Z"
      },
      {
        "duration": 14,
        "start_time": "2021-11-24T07:10:07.631Z"
      },
      {
        "duration": 5,
        "start_time": "2021-11-24T07:10:07.647Z"
      },
      {
        "duration": 5,
        "start_time": "2021-11-24T07:10:07.654Z"
      },
      {
        "duration": 34,
        "start_time": "2021-11-24T07:10:07.660Z"
      },
      {
        "duration": 13,
        "start_time": "2021-11-24T07:10:07.696Z"
      },
      {
        "duration": 5,
        "start_time": "2021-11-24T07:10:07.711Z"
      },
      {
        "duration": 4,
        "start_time": "2021-11-24T07:10:07.718Z"
      },
      {
        "duration": 5,
        "start_time": "2021-11-24T07:10:07.724Z"
      },
      {
        "duration": 1034,
        "start_time": "2021-11-24T11:50:15.280Z"
      },
      {
        "duration": 37,
        "start_time": "2021-11-24T11:50:16.316Z"
      },
      {
        "duration": 14,
        "start_time": "2021-11-24T11:50:16.355Z"
      },
      {
        "duration": 11,
        "start_time": "2021-11-24T11:50:16.371Z"
      },
      {
        "duration": 5,
        "start_time": "2021-11-24T11:50:16.388Z"
      },
      {
        "duration": 17,
        "start_time": "2021-11-24T11:50:16.394Z"
      },
      {
        "duration": 14,
        "start_time": "2021-11-24T11:50:16.412Z"
      },
      {
        "duration": 8,
        "start_time": "2021-11-24T11:50:16.428Z"
      },
      {
        "duration": 8,
        "start_time": "2021-11-24T11:50:16.439Z"
      },
      {
        "duration": 42,
        "start_time": "2021-11-24T11:50:16.449Z"
      },
      {
        "duration": 13,
        "start_time": "2021-11-24T11:50:16.493Z"
      },
      {
        "duration": 5,
        "start_time": "2021-11-24T11:50:16.508Z"
      },
      {
        "duration": 8,
        "start_time": "2021-11-24T11:50:16.515Z"
      },
      {
        "duration": 7,
        "start_time": "2021-11-24T11:50:16.524Z"
      },
      {
        "duration": 11,
        "start_time": "2021-11-24T11:50:16.533Z"
      },
      {
        "duration": 45,
        "start_time": "2021-11-24T11:50:16.545Z"
      },
      {
        "duration": 7,
        "start_time": "2021-11-24T11:50:16.592Z"
      },
      {
        "duration": 6,
        "start_time": "2021-11-24T11:50:16.600Z"
      },
      {
        "duration": 11,
        "start_time": "2021-11-24T11:50:16.607Z"
      },
      {
        "duration": 23,
        "start_time": "2021-11-24T11:50:16.620Z"
      },
      {
        "duration": 5,
        "start_time": "2021-11-24T11:50:16.645Z"
      },
      {
        "duration": 14,
        "start_time": "2021-11-24T11:50:16.651Z"
      },
      {
        "duration": 239,
        "start_time": "2021-11-24T11:50:16.667Z"
      },
      {
        "duration": 7,
        "start_time": "2021-11-24T11:50:16.907Z"
      },
      {
        "duration": 16,
        "start_time": "2021-11-24T11:50:16.915Z"
      },
      {
        "duration": 708,
        "start_time": "2021-11-24T11:50:16.932Z"
      },
      {
        "duration": 458,
        "start_time": "2021-11-24T11:50:17.643Z"
      },
      {
        "duration": 422,
        "start_time": "2021-11-24T11:50:18.103Z"
      },
      {
        "duration": 8,
        "start_time": "2021-11-24T11:50:18.527Z"
      },
      {
        "duration": 291,
        "start_time": "2021-11-24T11:50:18.537Z"
      },
      {
        "duration": 274,
        "start_time": "2021-11-24T11:50:18.830Z"
      },
      {
        "duration": 261,
        "start_time": "2021-11-24T11:50:19.106Z"
      },
      {
        "duration": 5,
        "start_time": "2021-11-24T11:50:19.369Z"
      },
      {
        "duration": 372,
        "start_time": "2021-11-24T11:50:19.375Z"
      },
      {
        "duration": 353,
        "start_time": "2021-11-24T11:50:19.748Z"
      },
      {
        "duration": 9,
        "start_time": "2021-11-24T11:50:20.102Z"
      },
      {
        "duration": 15,
        "start_time": "2021-11-24T11:50:20.113Z"
      },
      {
        "duration": 7,
        "start_time": "2021-11-24T11:50:20.130Z"
      },
      {
        "duration": 343,
        "start_time": "2021-11-24T11:50:20.138Z"
      },
      {
        "duration": 353,
        "start_time": "2021-11-24T11:50:20.483Z"
      },
      {
        "duration": 9,
        "start_time": "2021-11-24T11:50:20.837Z"
      },
      {
        "duration": 15,
        "start_time": "2021-11-24T11:50:20.848Z"
      },
      {
        "duration": 204,
        "start_time": "2021-11-24T11:50:20.864Z"
      },
      {
        "duration": 533,
        "start_time": "2021-11-24T11:50:21.069Z"
      },
      {
        "duration": 469,
        "start_time": "2021-11-24T11:50:21.603Z"
      },
      {
        "duration": 510,
        "start_time": "2021-11-24T11:50:22.074Z"
      },
      {
        "duration": 12,
        "start_time": "2021-11-24T11:50:22.585Z"
      },
      {
        "duration": 6,
        "start_time": "2021-11-24T11:50:22.598Z"
      },
      {
        "duration": 6,
        "start_time": "2021-11-24T11:50:22.605Z"
      },
      {
        "duration": 8,
        "start_time": "2021-11-24T11:50:22.612Z"
      },
      {
        "duration": 16,
        "start_time": "2021-11-24T11:50:22.621Z"
      },
      {
        "duration": 4,
        "start_time": "2021-11-24T11:50:22.638Z"
      },
      {
        "duration": 7,
        "start_time": "2021-11-24T11:50:22.643Z"
      },
      {
        "duration": 6,
        "start_time": "2021-11-24T11:50:22.651Z"
      },
      {
        "duration": 1121,
        "start_time": "2021-11-24T13:09:12.286Z"
      },
      {
        "duration": 37,
        "start_time": "2021-11-24T13:09:13.409Z"
      },
      {
        "duration": 14,
        "start_time": "2021-11-24T13:09:13.448Z"
      },
      {
        "duration": 11,
        "start_time": "2021-11-24T13:09:13.464Z"
      },
      {
        "duration": 2,
        "start_time": "2021-11-24T13:09:13.477Z"
      },
      {
        "duration": 22,
        "start_time": "2021-11-24T13:09:13.481Z"
      },
      {
        "duration": 13,
        "start_time": "2021-11-24T13:09:13.504Z"
      },
      {
        "duration": 14,
        "start_time": "2021-11-24T13:09:13.518Z"
      },
      {
        "duration": 6,
        "start_time": "2021-11-24T13:09:13.535Z"
      },
      {
        "duration": 8,
        "start_time": "2021-11-24T13:09:13.543Z"
      },
      {
        "duration": 13,
        "start_time": "2021-11-24T13:09:13.553Z"
      },
      {
        "duration": 22,
        "start_time": "2021-11-24T13:09:13.568Z"
      },
      {
        "duration": 9,
        "start_time": "2021-11-24T13:09:13.591Z"
      },
      {
        "duration": 6,
        "start_time": "2021-11-24T13:09:13.601Z"
      },
      {
        "duration": 9,
        "start_time": "2021-11-24T13:09:13.609Z"
      },
      {
        "duration": 7,
        "start_time": "2021-11-24T13:09:13.619Z"
      },
      {
        "duration": 7,
        "start_time": "2021-11-24T13:09:13.627Z"
      },
      {
        "duration": 4,
        "start_time": "2021-11-24T13:09:13.635Z"
      },
      {
        "duration": 9,
        "start_time": "2021-11-24T13:09:13.640Z"
      },
      {
        "duration": 42,
        "start_time": "2021-11-24T13:09:13.650Z"
      },
      {
        "duration": 6,
        "start_time": "2021-11-24T13:09:13.693Z"
      },
      {
        "duration": 9,
        "start_time": "2021-11-24T13:09:13.700Z"
      },
      {
        "duration": 246,
        "start_time": "2021-11-24T13:09:13.710Z"
      },
      {
        "duration": 6,
        "start_time": "2021-11-24T13:09:13.958Z"
      },
      {
        "duration": 8,
        "start_time": "2021-11-24T13:09:13.965Z"
      },
      {
        "duration": 736,
        "start_time": "2021-11-24T13:09:13.974Z"
      },
      {
        "duration": 461,
        "start_time": "2021-11-24T13:09:14.713Z"
      },
      {
        "duration": 426,
        "start_time": "2021-11-24T13:09:15.176Z"
      },
      {
        "duration": 9,
        "start_time": "2021-11-24T13:09:15.604Z"
      },
      {
        "duration": 333,
        "start_time": "2021-11-24T13:09:15.615Z"
      },
      {
        "duration": 305,
        "start_time": "2021-11-24T13:09:15.950Z"
      },
      {
        "duration": 300,
        "start_time": "2021-11-24T13:09:16.256Z"
      },
      {
        "duration": 5,
        "start_time": "2021-11-24T13:09:16.558Z"
      },
      {
        "duration": 401,
        "start_time": "2021-11-24T13:09:16.564Z"
      },
      {
        "duration": 405,
        "start_time": "2021-11-24T13:09:16.967Z"
      },
      {
        "duration": 14,
        "start_time": "2021-11-24T13:09:17.374Z"
      },
      {
        "duration": 14,
        "start_time": "2021-11-24T13:09:17.390Z"
      },
      {
        "duration": 7,
        "start_time": "2021-11-24T13:09:17.405Z"
      },
      {
        "duration": 345,
        "start_time": "2021-11-24T13:09:17.414Z"
      },
      {
        "duration": 392,
        "start_time": "2021-11-24T13:09:17.760Z"
      },
      {
        "duration": 10,
        "start_time": "2021-11-24T13:09:18.154Z"
      },
      {
        "duration": 24,
        "start_time": "2021-11-24T13:09:18.165Z"
      },
      {
        "duration": 241,
        "start_time": "2021-11-24T13:09:18.191Z"
      },
      {
        "duration": 601,
        "start_time": "2021-11-24T13:09:18.434Z"
      },
      {
        "duration": 461,
        "start_time": "2021-11-24T13:09:19.037Z"
      },
      {
        "duration": 512,
        "start_time": "2021-11-24T13:09:19.501Z"
      },
      {
        "duration": 13,
        "start_time": "2021-11-24T13:09:20.015Z"
      },
      {
        "duration": 6,
        "start_time": "2021-11-24T13:09:20.029Z"
      },
      {
        "duration": 12,
        "start_time": "2021-11-24T13:09:20.036Z"
      },
      {
        "duration": 19,
        "start_time": "2021-11-24T13:09:20.049Z"
      },
      {
        "duration": 22,
        "start_time": "2021-11-24T13:09:20.069Z"
      },
      {
        "duration": 4,
        "start_time": "2021-11-24T13:09:20.093Z"
      },
      {
        "duration": 8,
        "start_time": "2021-11-24T13:09:20.098Z"
      },
      {
        "duration": 9,
        "start_time": "2021-11-24T13:09:20.107Z"
      },
      {
        "duration": 8,
        "start_time": "2021-11-24T13:10:16.056Z"
      },
      {
        "duration": 294,
        "start_time": "2021-11-24T14:43:37.568Z"
      },
      {
        "duration": 1167,
        "start_time": "2021-11-24T14:43:46.186Z"
      },
      {
        "duration": 39,
        "start_time": "2021-11-24T14:43:47.355Z"
      },
      {
        "duration": 15,
        "start_time": "2021-11-24T14:43:47.396Z"
      },
      {
        "duration": 13,
        "start_time": "2021-11-24T14:43:47.413Z"
      },
      {
        "duration": 6,
        "start_time": "2021-11-24T14:43:47.428Z"
      },
      {
        "duration": 29,
        "start_time": "2021-11-24T14:43:47.435Z"
      },
      {
        "duration": 15,
        "start_time": "2021-11-24T14:43:47.466Z"
      },
      {
        "duration": 9,
        "start_time": "2021-11-24T14:43:47.484Z"
      },
      {
        "duration": 9,
        "start_time": "2021-11-24T14:43:47.496Z"
      },
      {
        "duration": 14,
        "start_time": "2021-11-24T14:43:47.507Z"
      },
      {
        "duration": 52,
        "start_time": "2021-11-24T14:43:47.523Z"
      },
      {
        "duration": 10,
        "start_time": "2021-11-24T14:43:47.578Z"
      },
      {
        "duration": 12,
        "start_time": "2021-11-24T14:43:47.590Z"
      },
      {
        "duration": 8,
        "start_time": "2021-11-24T14:43:47.604Z"
      },
      {
        "duration": 12,
        "start_time": "2021-11-24T14:43:47.614Z"
      },
      {
        "duration": 9,
        "start_time": "2021-11-24T14:43:47.627Z"
      },
      {
        "duration": 34,
        "start_time": "2021-11-24T14:43:47.637Z"
      },
      {
        "duration": 6,
        "start_time": "2021-11-24T14:43:47.674Z"
      },
      {
        "duration": 15,
        "start_time": "2021-11-24T14:43:47.681Z"
      },
      {
        "duration": 15,
        "start_time": "2021-11-24T14:43:47.698Z"
      },
      {
        "duration": 10,
        "start_time": "2021-11-24T14:43:47.715Z"
      },
      {
        "duration": 10,
        "start_time": "2021-11-24T14:43:47.727Z"
      },
      {
        "duration": 292,
        "start_time": "2021-11-24T14:43:47.741Z"
      },
      {
        "duration": 8,
        "start_time": "2021-11-24T14:43:48.035Z"
      },
      {
        "duration": 19,
        "start_time": "2021-11-24T14:43:48.044Z"
      },
      {
        "duration": 807,
        "start_time": "2021-11-24T14:43:48.065Z"
      },
      {
        "duration": 515,
        "start_time": "2021-11-24T14:43:48.874Z"
      },
      {
        "duration": 498,
        "start_time": "2021-11-24T14:43:49.390Z"
      },
      {
        "duration": 11,
        "start_time": "2021-11-24T14:43:49.889Z"
      },
      {
        "duration": 332,
        "start_time": "2021-11-24T14:43:49.901Z"
      },
      {
        "duration": 296,
        "start_time": "2021-11-24T14:43:50.235Z"
      },
      {
        "duration": 293,
        "start_time": "2021-11-24T14:43:50.532Z"
      },
      {
        "duration": 6,
        "start_time": "2021-11-24T14:43:50.827Z"
      },
      {
        "duration": 406,
        "start_time": "2021-11-24T14:43:50.835Z"
      },
      {
        "duration": 396,
        "start_time": "2021-11-24T14:43:51.243Z"
      },
      {
        "duration": 10,
        "start_time": "2021-11-24T14:43:51.641Z"
      },
      {
        "duration": 34,
        "start_time": "2021-11-24T14:43:51.653Z"
      },
      {
        "duration": 63,
        "start_time": "2021-11-24T14:43:51.689Z"
      },
      {
        "duration": 497,
        "start_time": "2021-11-24T14:43:51.754Z"
      },
      {
        "duration": 384,
        "start_time": "2021-11-24T14:43:52.253Z"
      },
      {
        "duration": 11,
        "start_time": "2021-11-24T14:43:52.639Z"
      },
      {
        "duration": 33,
        "start_time": "2021-11-24T14:43:52.651Z"
      },
      {
        "duration": 299,
        "start_time": "2021-11-24T14:43:52.686Z"
      },
      {
        "duration": 608,
        "start_time": "2021-11-24T14:43:52.986Z"
      },
      {
        "duration": 521,
        "start_time": "2021-11-24T14:43:53.596Z"
      },
      {
        "duration": 563,
        "start_time": "2021-11-24T14:43:54.118Z"
      },
      {
        "duration": 15,
        "start_time": "2021-11-24T14:43:54.682Z"
      },
      {
        "duration": 4,
        "start_time": "2021-11-24T14:43:54.699Z"
      },
      {
        "duration": 6,
        "start_time": "2021-11-24T14:43:54.705Z"
      },
      {
        "duration": 7,
        "start_time": "2021-11-24T14:43:54.712Z"
      },
      {
        "duration": 14,
        "start_time": "2021-11-24T14:43:54.721Z"
      },
      {
        "duration": 29,
        "start_time": "2021-11-24T14:43:54.737Z"
      },
      {
        "duration": 7,
        "start_time": "2021-11-24T14:43:54.768Z"
      },
      {
        "duration": 6,
        "start_time": "2021-11-24T14:43:54.777Z"
      },
      {
        "duration": 253,
        "start_time": "2021-11-24T14:44:37.005Z"
      },
      {
        "duration": 284,
        "start_time": "2021-11-24T14:44:58.097Z"
      },
      {
        "duration": 4,
        "start_time": "2021-11-24T14:53:04.931Z"
      },
      {
        "duration": 7,
        "start_time": "2021-11-24T14:53:55.456Z"
      },
      {
        "duration": 5,
        "start_time": "2021-11-24T14:54:05.533Z"
      },
      {
        "duration": 948,
        "start_time": "2021-11-24T14:58:05.779Z"
      },
      {
        "duration": 924,
        "start_time": "2021-11-24T14:58:19.982Z"
      },
      {
        "duration": 505,
        "start_time": "2021-11-24T14:59:13.561Z"
      },
      {
        "duration": 409,
        "start_time": "2021-11-24T14:59:45.660Z"
      },
      {
        "duration": 397,
        "start_time": "2021-11-24T14:59:59.522Z"
      },
      {
        "duration": 8,
        "start_time": "2021-11-24T15:10:17.662Z"
      },
      {
        "duration": 113,
        "start_time": "2021-11-24T15:16:05.522Z"
      },
      {
        "duration": 342,
        "start_time": "2021-11-24T15:21:51.409Z"
      },
      {
        "duration": 342,
        "start_time": "2021-11-24T15:23:14.202Z"
      },
      {
        "duration": 228,
        "start_time": "2021-11-24T15:23:40.995Z"
      },
      {
        "duration": 225,
        "start_time": "2021-11-24T15:26:13.879Z"
      },
      {
        "duration": 227,
        "start_time": "2021-11-24T15:26:28.998Z"
      },
      {
        "duration": 234,
        "start_time": "2021-11-24T15:27:40.645Z"
      },
      {
        "duration": 219,
        "start_time": "2021-11-24T15:30:21.126Z"
      },
      {
        "duration": 257,
        "start_time": "2021-11-24T15:30:50.088Z"
      },
      {
        "duration": 517,
        "start_time": "2021-11-24T15:50:53.164Z"
      },
      {
        "duration": 1159,
        "start_time": "2021-11-24T15:55:15.367Z"
      },
      {
        "duration": 40,
        "start_time": "2021-11-24T15:55:16.528Z"
      },
      {
        "duration": 16,
        "start_time": "2021-11-24T15:55:16.570Z"
      },
      {
        "duration": 16,
        "start_time": "2021-11-24T15:55:16.588Z"
      },
      {
        "duration": 4,
        "start_time": "2021-11-24T15:55:16.606Z"
      },
      {
        "duration": 19,
        "start_time": "2021-11-24T15:55:16.612Z"
      },
      {
        "duration": 41,
        "start_time": "2021-11-24T15:55:16.633Z"
      },
      {
        "duration": 9,
        "start_time": "2021-11-24T15:55:16.678Z"
      },
      {
        "duration": 16,
        "start_time": "2021-11-24T15:55:16.689Z"
      },
      {
        "duration": 16,
        "start_time": "2021-11-24T15:55:16.707Z"
      },
      {
        "duration": 23,
        "start_time": "2021-11-24T15:55:16.724Z"
      },
      {
        "duration": 14,
        "start_time": "2021-11-24T15:55:16.749Z"
      },
      {
        "duration": 7,
        "start_time": "2021-11-24T15:55:16.765Z"
      },
      {
        "duration": 7,
        "start_time": "2021-11-24T15:55:16.774Z"
      },
      {
        "duration": 19,
        "start_time": "2021-11-24T15:55:16.783Z"
      },
      {
        "duration": 9,
        "start_time": "2021-11-24T15:55:16.803Z"
      },
      {
        "duration": 16,
        "start_time": "2021-11-24T15:55:16.814Z"
      },
      {
        "duration": 4,
        "start_time": "2021-11-24T15:55:16.831Z"
      },
      {
        "duration": 26,
        "start_time": "2021-11-24T15:55:16.837Z"
      },
      {
        "duration": 15,
        "start_time": "2021-11-24T15:55:16.865Z"
      },
      {
        "duration": 7,
        "start_time": "2021-11-24T15:55:16.881Z"
      },
      {
        "duration": 11,
        "start_time": "2021-11-24T15:55:16.890Z"
      },
      {
        "duration": 21,
        "start_time": "2021-11-24T15:55:16.905Z"
      },
      {
        "duration": 265,
        "start_time": "2021-11-24T15:55:16.928Z"
      },
      {
        "duration": 7,
        "start_time": "2021-11-24T15:55:17.195Z"
      },
      {
        "duration": 10,
        "start_time": "2021-11-24T15:55:17.204Z"
      },
      {
        "duration": 851,
        "start_time": "2021-11-24T15:55:17.215Z"
      },
      {
        "duration": 545,
        "start_time": "2021-11-24T15:55:18.068Z"
      },
      {
        "duration": 657,
        "start_time": "2021-11-24T15:55:18.615Z"
      },
      {
        "duration": 11,
        "start_time": "2021-11-24T15:55:19.274Z"
      },
      {
        "duration": 357,
        "start_time": "2021-11-24T15:55:19.287Z"
      },
      {
        "duration": 306,
        "start_time": "2021-11-24T15:55:19.646Z"
      },
      {
        "duration": 301,
        "start_time": "2021-11-24T15:55:19.954Z"
      },
      {
        "duration": 8,
        "start_time": "2021-11-24T15:55:20.257Z"
      },
      {
        "duration": 370,
        "start_time": "2021-11-24T15:55:20.266Z"
      },
      {
        "duration": 382,
        "start_time": "2021-11-24T15:55:20.638Z"
      },
      {
        "duration": 11,
        "start_time": "2021-11-24T15:55:21.022Z"
      },
      {
        "duration": 29,
        "start_time": "2021-11-24T15:55:21.035Z"
      },
      {
        "duration": 6,
        "start_time": "2021-11-24T15:55:21.066Z"
      },
      {
        "duration": 387,
        "start_time": "2021-11-24T15:55:21.074Z"
      },
      {
        "duration": 366,
        "start_time": "2021-11-24T15:55:21.463Z"
      },
      {
        "duration": 11,
        "start_time": "2021-11-24T15:55:21.830Z"
      },
      {
        "duration": 26,
        "start_time": "2021-11-24T15:55:21.843Z"
      },
      {
        "duration": 243,
        "start_time": "2021-11-24T15:55:21.871Z"
      },
      {
        "duration": 244,
        "start_time": "2021-11-24T15:55:22.116Z"
      },
      {
        "duration": 351,
        "start_time": "2021-11-24T15:55:22.363Z"
      },
      {
        "duration": 536,
        "start_time": "2021-11-24T15:55:22.716Z"
      },
      {
        "duration": 583,
        "start_time": "2021-11-24T15:55:23.254Z"
      },
      {
        "duration": 600,
        "start_time": "2021-11-24T15:55:23.839Z"
      },
      {
        "duration": 23,
        "start_time": "2021-11-24T15:55:24.440Z"
      },
      {
        "duration": 7,
        "start_time": "2021-11-24T15:55:24.465Z"
      },
      {
        "duration": 14,
        "start_time": "2021-11-24T15:55:24.474Z"
      },
      {
        "duration": 17,
        "start_time": "2021-11-24T15:55:24.490Z"
      },
      {
        "duration": 31,
        "start_time": "2021-11-24T15:55:24.509Z"
      },
      {
        "duration": 5,
        "start_time": "2021-11-24T15:55:24.542Z"
      },
      {
        "duration": 19,
        "start_time": "2021-11-24T15:55:24.549Z"
      },
      {
        "duration": 14,
        "start_time": "2021-11-24T15:55:24.570Z"
      },
      {
        "duration": 605,
        "start_time": "2021-11-24T16:05:21.109Z"
      },
      {
        "duration": 191,
        "start_time": "2021-11-24T16:09:01.233Z"
      },
      {
        "duration": 82,
        "start_time": "2021-11-24T16:09:06.019Z"
      },
      {
        "duration": 120,
        "start_time": "2021-11-24T16:09:12.120Z"
      },
      {
        "duration": 81,
        "start_time": "2021-11-24T16:09:23.325Z"
      },
      {
        "duration": 78,
        "start_time": "2021-11-24T16:09:34.798Z"
      },
      {
        "duration": 83,
        "start_time": "2021-11-24T16:09:38.748Z"
      },
      {
        "duration": 97,
        "start_time": "2021-11-24T16:09:41.941Z"
      },
      {
        "duration": 129,
        "start_time": "2021-11-24T16:09:44.472Z"
      },
      {
        "duration": 17,
        "start_time": "2021-11-24T16:11:20.418Z"
      },
      {
        "duration": 4,
        "start_time": "2021-11-24T16:11:49.079Z"
      },
      {
        "duration": 4,
        "start_time": "2021-11-24T16:11:50.549Z"
      },
      {
        "duration": 5,
        "start_time": "2021-11-24T16:12:20.008Z"
      },
      {
        "duration": 5,
        "start_time": "2021-11-24T16:12:39.806Z"
      },
      {
        "duration": 5,
        "start_time": "2021-11-24T16:12:41.938Z"
      },
      {
        "duration": 14,
        "start_time": "2021-11-24T16:20:39.273Z"
      },
      {
        "duration": 5,
        "start_time": "2021-11-24T16:20:39.996Z"
      },
      {
        "duration": 5,
        "start_time": "2021-11-24T16:20:40.660Z"
      },
      {
        "duration": 5,
        "start_time": "2021-11-24T16:21:11.677Z"
      },
      {
        "duration": 5,
        "start_time": "2021-11-24T16:23:15.082Z"
      },
      {
        "duration": 1212,
        "start_time": "2021-11-24T16:38:11.334Z"
      },
      {
        "duration": 39,
        "start_time": "2021-11-24T16:38:12.548Z"
      },
      {
        "duration": 17,
        "start_time": "2021-11-24T16:38:12.589Z"
      },
      {
        "duration": 11,
        "start_time": "2021-11-24T16:38:12.608Z"
      },
      {
        "duration": 3,
        "start_time": "2021-11-24T16:38:12.621Z"
      },
      {
        "duration": 47,
        "start_time": "2021-11-24T16:38:12.626Z"
      },
      {
        "duration": 20,
        "start_time": "2021-11-24T16:38:12.675Z"
      },
      {
        "duration": 9,
        "start_time": "2021-11-24T16:38:12.698Z"
      },
      {
        "duration": 9,
        "start_time": "2021-11-24T16:38:12.709Z"
      },
      {
        "duration": 11,
        "start_time": "2021-11-24T16:38:12.720Z"
      },
      {
        "duration": 40,
        "start_time": "2021-11-24T16:38:12.732Z"
      },
      {
        "duration": 7,
        "start_time": "2021-11-24T16:38:12.774Z"
      },
      {
        "duration": 12,
        "start_time": "2021-11-24T16:38:12.782Z"
      },
      {
        "duration": 6,
        "start_time": "2021-11-24T16:38:12.796Z"
      },
      {
        "duration": 11,
        "start_time": "2021-11-24T16:38:12.804Z"
      },
      {
        "duration": 9,
        "start_time": "2021-11-24T16:38:12.817Z"
      },
      {
        "duration": 38,
        "start_time": "2021-11-24T16:38:12.828Z"
      },
      {
        "duration": 9,
        "start_time": "2021-11-24T16:38:12.868Z"
      },
      {
        "duration": 10,
        "start_time": "2021-11-24T16:38:12.879Z"
      },
      {
        "duration": 17,
        "start_time": "2021-11-24T16:38:12.891Z"
      },
      {
        "duration": 9,
        "start_time": "2021-11-24T16:38:12.910Z"
      },
      {
        "duration": 13,
        "start_time": "2021-11-24T16:38:12.921Z"
      },
      {
        "duration": 12,
        "start_time": "2021-11-24T16:38:12.938Z"
      },
      {
        "duration": 332,
        "start_time": "2021-11-24T16:38:12.952Z"
      },
      {
        "duration": 7,
        "start_time": "2021-11-24T16:38:13.286Z"
      },
      {
        "duration": 10,
        "start_time": "2021-11-24T16:38:13.295Z"
      },
      {
        "duration": 930,
        "start_time": "2021-11-24T16:38:13.307Z"
      },
      {
        "duration": 629,
        "start_time": "2021-11-24T16:38:14.239Z"
      },
      {
        "duration": 529,
        "start_time": "2021-11-24T16:38:14.870Z"
      },
      {
        "duration": 10,
        "start_time": "2021-11-24T16:38:15.401Z"
      },
      {
        "duration": 345,
        "start_time": "2021-11-24T16:38:15.413Z"
      },
      {
        "duration": 297,
        "start_time": "2021-11-24T16:38:15.763Z"
      },
      {
        "duration": 287,
        "start_time": "2021-11-24T16:38:16.063Z"
      },
      {
        "duration": 12,
        "start_time": "2021-11-24T16:38:16.352Z"
      },
      {
        "duration": 383,
        "start_time": "2021-11-24T16:38:16.365Z"
      },
      {
        "duration": 394,
        "start_time": "2021-11-24T16:38:16.751Z"
      },
      {
        "duration": 18,
        "start_time": "2021-11-24T16:38:17.148Z"
      },
      {
        "duration": 29,
        "start_time": "2021-11-24T16:38:17.168Z"
      },
      {
        "duration": 13,
        "start_time": "2021-11-24T16:38:17.199Z"
      },
      {
        "duration": 380,
        "start_time": "2021-11-24T16:38:17.214Z"
      },
      {
        "duration": 363,
        "start_time": "2021-11-24T16:38:17.596Z"
      },
      {
        "duration": 11,
        "start_time": "2021-11-24T16:38:17.962Z"
      },
      {
        "duration": 38,
        "start_time": "2021-11-24T16:38:17.974Z"
      },
      {
        "duration": 238,
        "start_time": "2021-11-24T16:38:18.014Z"
      },
      {
        "duration": 254,
        "start_time": "2021-11-24T16:38:18.254Z"
      },
      {
        "duration": 352,
        "start_time": "2021-11-24T16:38:18.510Z"
      },
      {
        "duration": 538,
        "start_time": "2021-11-24T16:38:18.864Z"
      },
      {
        "duration": 641,
        "start_time": "2021-11-24T16:38:19.404Z"
      },
      {
        "duration": 568,
        "start_time": "2021-11-24T16:38:20.047Z"
      },
      {
        "duration": 16,
        "start_time": "2021-11-24T16:38:20.617Z"
      },
      {
        "duration": 5,
        "start_time": "2021-11-24T16:38:20.634Z"
      },
      {
        "duration": 24,
        "start_time": "2021-11-24T16:38:20.640Z"
      },
      {
        "duration": 18,
        "start_time": "2021-11-24T16:38:20.666Z"
      },
      {
        "duration": 8,
        "start_time": "2021-11-24T16:38:20.686Z"
      },
      {
        "duration": 26,
        "start_time": "2021-11-24T16:38:20.696Z"
      },
      {
        "duration": 11,
        "start_time": "2021-11-24T16:38:20.723Z"
      },
      {
        "duration": 12,
        "start_time": "2021-11-24T16:38:20.736Z"
      },
      {
        "duration": 35,
        "start_time": "2021-11-24T16:38:20.751Z"
      },
      {
        "duration": 35,
        "start_time": "2021-11-24T16:38:20.788Z"
      },
      {
        "duration": 301,
        "start_time": "2021-11-24T16:42:25.092Z"
      },
      {
        "duration": 315,
        "start_time": "2021-11-24T16:42:30.648Z"
      },
      {
        "duration": 379,
        "start_time": "2021-11-24T16:44:00.119Z"
      },
      {
        "duration": 332,
        "start_time": "2021-11-24T16:44:30.699Z"
      },
      {
        "duration": 469,
        "start_time": "2021-11-24T16:45:08.077Z"
      },
      {
        "duration": 388,
        "start_time": "2021-11-24T16:45:24.232Z"
      },
      {
        "duration": 537,
        "start_time": "2021-11-24T16:47:06.656Z"
      },
      {
        "duration": 559,
        "start_time": "2021-11-24T16:47:31.004Z"
      },
      {
        "duration": 555,
        "start_time": "2021-11-24T16:47:53.099Z"
      },
      {
        "duration": 559,
        "start_time": "2021-11-24T16:48:26.580Z"
      },
      {
        "duration": 1191,
        "start_time": "2021-11-24T16:50:50.212Z"
      },
      {
        "duration": 40,
        "start_time": "2021-11-24T16:50:51.406Z"
      },
      {
        "duration": 16,
        "start_time": "2021-11-24T16:50:51.449Z"
      },
      {
        "duration": 16,
        "start_time": "2021-11-24T16:50:51.466Z"
      },
      {
        "duration": 9,
        "start_time": "2021-11-24T16:50:51.483Z"
      },
      {
        "duration": 27,
        "start_time": "2021-11-24T16:50:51.494Z"
      },
      {
        "duration": 19,
        "start_time": "2021-11-24T16:50:51.523Z"
      },
      {
        "duration": 24,
        "start_time": "2021-11-24T16:50:51.545Z"
      },
      {
        "duration": 9,
        "start_time": "2021-11-24T16:50:51.571Z"
      },
      {
        "duration": 10,
        "start_time": "2021-11-24T16:50:51.581Z"
      },
      {
        "duration": 16,
        "start_time": "2021-11-24T16:50:51.592Z"
      },
      {
        "duration": 6,
        "start_time": "2021-11-24T16:50:51.610Z"
      },
      {
        "duration": 14,
        "start_time": "2021-11-24T16:50:51.618Z"
      },
      {
        "duration": 37,
        "start_time": "2021-11-24T16:50:51.634Z"
      },
      {
        "duration": 16,
        "start_time": "2021-11-24T16:50:51.673Z"
      },
      {
        "duration": 13,
        "start_time": "2021-11-24T16:50:51.691Z"
      },
      {
        "duration": 14,
        "start_time": "2021-11-24T16:50:51.706Z"
      },
      {
        "duration": 12,
        "start_time": "2021-11-24T16:50:51.722Z"
      },
      {
        "duration": 16,
        "start_time": "2021-11-24T16:50:51.736Z"
      },
      {
        "duration": 18,
        "start_time": "2021-11-24T16:50:51.754Z"
      },
      {
        "duration": 34,
        "start_time": "2021-11-24T16:50:51.774Z"
      },
      {
        "duration": 39,
        "start_time": "2021-11-24T16:50:51.809Z"
      },
      {
        "duration": 48,
        "start_time": "2021-11-24T16:50:51.852Z"
      },
      {
        "duration": 284,
        "start_time": "2021-11-24T16:50:51.902Z"
      },
      {
        "duration": 8,
        "start_time": "2021-11-24T16:50:52.188Z"
      },
      {
        "duration": 7,
        "start_time": "2021-11-24T16:50:52.198Z"
      },
      {
        "duration": 859,
        "start_time": "2021-11-24T16:50:52.207Z"
      },
      {
        "duration": 531,
        "start_time": "2021-11-24T16:50:53.068Z"
      },
      {
        "duration": 522,
        "start_time": "2021-11-24T16:50:53.601Z"
      },
      {
        "duration": 11,
        "start_time": "2021-11-24T16:50:54.124Z"
      },
      {
        "duration": 350,
        "start_time": "2021-11-24T16:50:54.136Z"
      },
      {
        "duration": 322,
        "start_time": "2021-11-24T16:50:54.488Z"
      },
      {
        "duration": 574,
        "start_time": "2021-11-24T16:50:54.812Z"
      },
      {
        "duration": 6,
        "start_time": "2021-11-24T16:50:55.388Z"
      },
      {
        "duration": 353,
        "start_time": "2021-11-24T16:50:55.395Z"
      },
      {
        "duration": 382,
        "start_time": "2021-11-24T16:50:55.750Z"
      },
      {
        "duration": 12,
        "start_time": "2021-11-24T16:50:56.133Z"
      },
      {
        "duration": 23,
        "start_time": "2021-11-24T16:50:56.146Z"
      },
      {
        "duration": 12,
        "start_time": "2021-11-24T16:50:56.171Z"
      },
      {
        "duration": 359,
        "start_time": "2021-11-24T16:50:56.184Z"
      },
      {
        "duration": 394,
        "start_time": "2021-11-24T16:50:56.545Z"
      },
      {
        "duration": 10,
        "start_time": "2021-11-24T16:50:56.940Z"
      },
      {
        "duration": 21,
        "start_time": "2021-11-24T16:50:56.952Z"
      },
      {
        "duration": 253,
        "start_time": "2021-11-24T16:50:56.975Z"
      },
      {
        "duration": 256,
        "start_time": "2021-11-24T16:50:57.229Z"
      },
      {
        "duration": 354,
        "start_time": "2021-11-24T16:50:57.487Z"
      },
      {
        "duration": 584,
        "start_time": "2021-11-24T16:50:57.842Z"
      },
      {
        "duration": 570,
        "start_time": "2021-11-24T16:50:58.429Z"
      },
      {
        "duration": 583,
        "start_time": "2021-11-24T16:50:59.002Z"
      },
      {
        "duration": 17,
        "start_time": "2021-11-24T16:50:59.587Z"
      },
      {
        "duration": 4,
        "start_time": "2021-11-24T16:50:59.606Z"
      },
      {
        "duration": 6,
        "start_time": "2021-11-24T16:50:59.612Z"
      },
      {
        "duration": 6,
        "start_time": "2021-11-24T16:50:59.620Z"
      },
      {
        "duration": 37,
        "start_time": "2021-11-24T16:50:59.628Z"
      },
      {
        "duration": 16,
        "start_time": "2021-11-24T16:50:59.667Z"
      },
      {
        "duration": 4,
        "start_time": "2021-11-24T16:50:59.685Z"
      },
      {
        "duration": 9,
        "start_time": "2021-11-24T16:50:59.691Z"
      },
      {
        "duration": 9,
        "start_time": "2021-11-24T16:50:59.701Z"
      },
      {
        "duration": 8,
        "start_time": "2021-11-24T16:50:59.711Z"
      },
      {
        "duration": 1491,
        "start_time": "2021-11-24T20:37:10.439Z"
      },
      {
        "duration": 49,
        "start_time": "2021-11-24T20:37:11.933Z"
      },
      {
        "duration": 24,
        "start_time": "2021-11-24T20:37:11.985Z"
      },
      {
        "duration": 13,
        "start_time": "2021-11-24T20:37:12.011Z"
      },
      {
        "duration": 3,
        "start_time": "2021-11-24T20:37:12.027Z"
      },
      {
        "duration": 47,
        "start_time": "2021-11-24T20:37:12.033Z"
      },
      {
        "duration": 22,
        "start_time": "2021-11-24T20:37:12.082Z"
      },
      {
        "duration": 12,
        "start_time": "2021-11-24T20:37:12.107Z"
      },
      {
        "duration": 11,
        "start_time": "2021-11-24T20:37:12.159Z"
      },
      {
        "duration": 13,
        "start_time": "2021-11-24T20:37:12.173Z"
      },
      {
        "duration": 22,
        "start_time": "2021-11-24T20:37:12.188Z"
      },
      {
        "duration": 7,
        "start_time": "2021-11-24T20:37:12.212Z"
      },
      {
        "duration": 45,
        "start_time": "2021-11-24T20:37:12.221Z"
      },
      {
        "duration": 10,
        "start_time": "2021-11-24T20:37:12.268Z"
      },
      {
        "duration": 15,
        "start_time": "2021-11-24T20:37:12.280Z"
      },
      {
        "duration": 14,
        "start_time": "2021-11-24T20:37:12.297Z"
      },
      {
        "duration": 54,
        "start_time": "2021-11-24T20:37:12.313Z"
      },
      {
        "duration": 5,
        "start_time": "2021-11-24T20:37:12.370Z"
      },
      {
        "duration": 9,
        "start_time": "2021-11-24T20:37:12.377Z"
      },
      {
        "duration": 27,
        "start_time": "2021-11-24T20:37:12.388Z"
      },
      {
        "duration": 19,
        "start_time": "2021-11-24T20:37:12.417Z"
      },
      {
        "duration": 5,
        "start_time": "2021-11-24T20:37:12.459Z"
      },
      {
        "duration": 10,
        "start_time": "2021-11-24T20:37:12.466Z"
      },
      {
        "duration": 442,
        "start_time": "2021-11-24T20:37:12.479Z"
      },
      {
        "duration": 11,
        "start_time": "2021-11-24T20:37:12.923Z"
      },
      {
        "duration": 25,
        "start_time": "2021-11-24T20:37:12.936Z"
      },
      {
        "duration": 1354,
        "start_time": "2021-11-24T20:37:12.967Z"
      },
      {
        "duration": 851,
        "start_time": "2021-11-24T20:37:14.326Z"
      },
      {
        "duration": 752,
        "start_time": "2021-11-24T20:37:15.180Z"
      },
      {
        "duration": 26,
        "start_time": "2021-11-24T20:37:15.935Z"
      },
      {
        "duration": 550,
        "start_time": "2021-11-24T20:37:15.964Z"
      },
      {
        "duration": 495,
        "start_time": "2021-11-24T20:37:16.517Z"
      },
      {
        "duration": 480,
        "start_time": "2021-11-24T20:37:17.015Z"
      },
      {
        "duration": 8,
        "start_time": "2021-11-24T20:37:17.498Z"
      },
      {
        "duration": 568,
        "start_time": "2021-11-24T20:37:17.510Z"
      },
      {
        "duration": 494,
        "start_time": "2021-11-24T20:37:18.080Z"
      },
      {
        "duration": 16,
        "start_time": "2021-11-24T20:37:18.577Z"
      },
      {
        "duration": 18,
        "start_time": "2021-11-24T20:37:18.596Z"
      },
      {
        "duration": 46,
        "start_time": "2021-11-24T20:37:18.617Z"
      },
      {
        "duration": 511,
        "start_time": "2021-11-24T20:37:18.666Z"
      },
      {
        "duration": 507,
        "start_time": "2021-11-24T20:37:19.180Z"
      },
      {
        "duration": 16,
        "start_time": "2021-11-24T20:37:19.690Z"
      },
      {
        "duration": 19,
        "start_time": "2021-11-24T20:37:19.709Z"
      },
      {
        "duration": 403,
        "start_time": "2021-11-24T20:37:19.759Z"
      },
      {
        "duration": 399,
        "start_time": "2021-11-24T20:37:20.165Z"
      },
      {
        "duration": 507,
        "start_time": "2021-11-24T20:37:20.567Z"
      },
      {
        "duration": 848,
        "start_time": "2021-11-24T20:37:21.076Z"
      },
      {
        "duration": 883,
        "start_time": "2021-11-24T20:37:21.927Z"
      },
      {
        "duration": 881,
        "start_time": "2021-11-24T20:37:22.812Z"
      },
      {
        "duration": 22,
        "start_time": "2021-11-24T20:37:23.696Z"
      },
      {
        "duration": 6,
        "start_time": "2021-11-24T20:37:23.720Z"
      },
      {
        "duration": 36,
        "start_time": "2021-11-24T20:37:23.729Z"
      },
      {
        "duration": 8,
        "start_time": "2021-11-24T20:37:23.768Z"
      },
      {
        "duration": 11,
        "start_time": "2021-11-24T20:37:23.779Z"
      },
      {
        "duration": 25,
        "start_time": "2021-11-24T20:37:23.792Z"
      },
      {
        "duration": 5,
        "start_time": "2021-11-24T20:37:23.820Z"
      },
      {
        "duration": 36,
        "start_time": "2021-11-24T20:37:23.827Z"
      },
      {
        "duration": 9,
        "start_time": "2021-11-24T20:37:23.865Z"
      },
      {
        "duration": 8,
        "start_time": "2021-11-24T20:37:23.876Z"
      },
      {
        "duration": 18,
        "start_time": "2021-11-24T20:38:03.946Z"
      },
      {
        "duration": 26,
        "start_time": "2021-11-24T20:38:20.594Z"
      },
      {
        "duration": 17,
        "start_time": "2021-11-24T20:38:39.343Z"
      }
    ],
    "kernelspec": {
      "display_name": "Python 3 (ipykernel)",
      "language": "python",
      "name": "python3"
    },
    "language_info": {
      "codemirror_mode": {
        "name": "ipython",
        "version": 3
      },
      "file_extension": ".py",
      "mimetype": "text/x-python",
      "name": "python",
      "nbconvert_exporter": "python",
      "pygments_lexer": "ipython3",
      "version": "3.9.5"
    },
    "toc": {
      "base_numbering": 1,
      "nav_menu": {},
      "number_sections": true,
      "sideBar": true,
      "skip_h1_title": true,
      "title_cell": "Table of Contents",
      "title_sidebar": "Contents",
      "toc_cell": false,
      "toc_position": {
        "height": "calc(100% - 180px)",
        "left": "10px",
        "top": "150px",
        "width": "165px"
      },
      "toc_section_display": true,
      "toc_window_display": true
    },
    "colab": {
      "name": "project-5-games.ipynb",
      "provenance": [],
      "collapsed_sections": [
        "u2LhPMGXT7Si",
        "QfoNw6biT7Si",
        "rvVa5JhYT7Sj",
        "gx7t398TT7Sl",
        "pokz1W2MT7So",
        "2N7OiP-VT7Sp",
        "yIvNDmlfT7Sq",
        "DVDv2P-JT7Sq",
        "PYGPNW6xT7Su",
        "n7JoEWGBT7Sv"
      ]
    }
  },
  "nbformat": 4,
  "nbformat_minor": 0
}