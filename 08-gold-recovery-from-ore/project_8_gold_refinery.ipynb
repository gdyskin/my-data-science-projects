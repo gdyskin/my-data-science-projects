{
  "cells": [
    {
      "cell_type": "markdown",
      "metadata": {
        "id": "wCQYMrYoxQsU"
      },
      "source": [
        "# Recovery of gold from ore"
      ]
    },
    {
      "cell_type": "markdown",
      "metadata": {
        "id": "HdXNlqEDxQsU"
      },
      "source": [
        "Create a prototype machine learning model for a company that develops solutions for the efficient operation of industrial enterprises.\n",
        "\n",
        "The model should predict the recovery factor for gold from gold ore. Use data with mining and cleaning parameters.\n",
        "\n",
        "The model should help optimize production to avoid creating a company with unprofitable properties.\n",
        "\n",
        "We need:\n",
        "\n",
        "1. prepare data;\n",
        "2. perform an exploratory data analysis;\n",
        "3. create and train the model."
      ]
    },
    {
      "cell_type": "markdown",
      "source": [
        "## Technological process description\n",
        "\n",
        "During the initial processing of the mined ore, a crushed mixture is obtained. It is fed to flotation (enrichment) and two-stage purification.\n",
        "\n",
        "Description of each stage:\n",
        "1. flotation\n",
        "A mixture of gold-bearing ores is fed into the flotation plant. After enrichment, a coarse concentrate and \"dump tails\" are obtained, i.e. product residues with a low concentration of valuable metals.\n",
        "The stability of this process is affected by the unstable and non-optimal physicochemical state of the flotation slurry (a mixture of solid particles and liquid).\n",
        "2. purification\n",
        "The raw concentrate passes through two purification stages. The result is the final concentrate and new final waste.\n",
        "Data description\n",
        "\n",
        "**Technological process**\n",
        "\n",
        "\t* Rougher feed — initial raw material \n",
        "\t* Rougher additions (или reagent additions) — flotation reagents: Xanthate, Sulphate, Depressant\n",
        "\t* Xanthate **— xanthate (promoter, or flotation activator);\n",
        "\t* Sulphate — sulfate (in this production, sodium sulfide);\n",
        "\t* Depressant — depressant (sodium silicate).\n",
        "\t* Rougher process — flotation\n",
        "\t* Rougher tails — dump tailings\n",
        "\t* Float banks — flotation plant\n",
        "\t* Cleaner process — purification\n",
        "\t* Rougher Au — crude gold concentrate\n",
        "\t* Final Au — final gold concentrate\n",
        "\n",
        "**Stage parameters**\n",
        "\n",
        "\t* air amount \n",
        "\t* fluid levels\n",
        "\t* feed size — raw material granule size\n",
        "\t* feed rate\n",
        "\n",
        "**Names of features**\n",
        "\n",
        "The name of the features should be:\n",
        "[stage].[parameter_type].[parameter_name]\n",
        "\n",
        "Example: rougher.input.feed_ag\n",
        "\n",
        "Possible values for the block[stage]:\n",
        "\n",
        "\t* rougher — flotation\n",
        "\t* primary_cleaner — primary cleaning\n",
        "\t* secondary_cleaner — secondary cleaning\n",
        "\t* final — final characteristics\n",
        "Possible values for the block [parameter_type]:\n",
        "\n",
        "\t* input — raw material parameters\n",
        "\t* output — product parameters\n",
        "\t* state — parameters characterizing the current state of the stage\n",
        "\t* calculation — design characteristics\n",
        "**Efficiency calculation**\n",
        "\n",
        "It is necessary to simulate the process of extracting gold from gold ore.\n",
        "The enrichment efficiency is calculated according to the following formula:\n",
        "\n",
        "$$Recovery=\\frac{C\\times(F-T)}{F\\times(C-T)}\\times100\\%$$\n",
        "\n",
        "where:\n",
        "\n",
        "$C$ — percentage of gold in concentrate after flotation/refining;\n",
        "\n",
        "$F$ — share of gold in raw material/concentrate before flotation/refining;\n",
        "\n",
        "$T$ — proportion of gold in waste tailings after flotation/cleaning.\n",
        "\n",
        "To predict the ratio, you need to determine the gold content in concentrates and tailings. Moreover, not only the final product is important, but also the rough concentrate.\n",
        "\n",
        "**Quality metric**\n",
        "\n",
        "To solve the problem, we introduce the quality metric — sMAPE (англ. Symmetric Mean Absolute Percentage Error).\n",
        "It is similar to MAE, but is expressed not in absolute terms, but in relative terms. Why is it symmetrical? It equally takes into account the scale of both the target feature and the prediction.\n",
        "\n",
        "The sMAPE metric is calculated as follows:\n",
        "\n",
        "$$sMAPE=\\frac{1}{N}\\sum_{i=1}^{N}\\frac{|y_i-\\hat{y_i}|}{(|y_i|+|\\hat{y_i}|)/2}\\times100\\%$$\n",
        "\n",
        "Notation:\n",
        "\n",
        "\n",
        "$y_i$ -\tThe value of the target feature for the object with serial number i in the sample on which the quality is measured.\n",
        "\n",
        "$\\hat{y_i}$\t- Prediction value for the object with index i, for example, in the test sample.\n",
        "\n",
        "$N$ - Number of objects in the sample.\n",
        "\n",
        "\n",
        "You need to predict two quantities at once:\n",
        "* crude concentrate enrichment efficiency rougher.output.recovery;\n",
        "* final concentrate enrichment efficiency final.output.recovery.\n",
        "\n",
        "The final metric is made up of two values:\n",
        "\n",
        "$$finalSMAPE=25\\%\\times{sMAPE_{rougher}}+75\\%\\times{sMAPE_{final}}$$"
      ],
      "metadata": {
        "id": "e4oqyo-SNMci"
      }
    },
    {
      "cell_type": "code",
      "execution_count": 1,
      "metadata": {
        "id": "PMaT-QjnxQsV"
      },
      "outputs": [],
      "source": [
        "import pandas as pd\n",
        "from sklearn.linear_model import LinearRegression\n",
        "import matplotlib.pyplot as plt\n",
        "import numpy as np\n",
        "from sklearn.metrics import mean_absolute_error\n",
        "from sklearn.model_selection import cross_val_score\n",
        "from sklearn.ensemble import RandomForestRegressor\n",
        "from tqdm import tqdm\n",
        "from sklearn.preprocessing import StandardScaler\n",
        "from sklearn.metrics import mean_squared_error\n",
        "from sklearn.metrics import make_scorer\n",
        "from scipy import stats"
      ]
    },
    {
      "cell_type": "markdown",
      "metadata": {
        "id": "EfJUlxtvxQsX"
      },
      "source": [
        "## Data preparation"
      ]
    },
    {
      "cell_type": "markdown",
      "metadata": {
        "id": "xlKppStmxQsX"
      },
      "source": [
        "Let's load the records and familiarize ourselves with their contents:"
      ]
    },
    {
      "cell_type": "code",
      "execution_count": 2,
      "metadata": {
        "id": "CFpD3B_FxQsY"
      },
      "outputs": [],
      "source": [
        "df_0 = pd.read_csv('/content/gold_recovery_train_new.csv')\n",
        "df_1 = pd.read_csv('/content/gold_recovery_test_new.csv')\n",
        "df_2 = pd.read_csv('/content/gold_recovery_full_new.csv')"
      ]
    },
    {
      "cell_type": "code",
      "execution_count": 3,
      "metadata": {
        "colab": {
          "base_uri": "https://localhost:8080/"
        },
        "id": "RcK_Er7NxQsY",
        "outputId": "9c89dfa1-caaf-4970-bb8b-13dd3196e9ee"
      },
      "outputs": [
        {
          "output_type": "stream",
          "name": "stdout",
          "text": [
            "<class 'pandas.core.frame.DataFrame'>\n",
            "RangeIndex: 14149 entries, 0 to 14148\n",
            "Data columns (total 87 columns):\n",
            " #   Column                                              Non-Null Count  Dtype  \n",
            "---  ------                                              --------------  -----  \n",
            " 0   date                                                14149 non-null  object \n",
            " 1   final.output.concentrate_ag                         14148 non-null  float64\n",
            " 2   final.output.concentrate_pb                         14148 non-null  float64\n",
            " 3   final.output.concentrate_sol                        13938 non-null  float64\n",
            " 4   final.output.concentrate_au                         14149 non-null  float64\n",
            " 5   final.output.recovery                               14149 non-null  float64\n",
            " 6   final.output.tail_ag                                14149 non-null  float64\n",
            " 7   final.output.tail_pb                                14049 non-null  float64\n",
            " 8   final.output.tail_sol                               14144 non-null  float64\n",
            " 9   final.output.tail_au                                14149 non-null  float64\n",
            " 10  primary_cleaner.input.sulfate                       14129 non-null  float64\n",
            " 11  primary_cleaner.input.depressant                    14117 non-null  float64\n",
            " 12  primary_cleaner.input.feed_size                     14149 non-null  float64\n",
            " 13  primary_cleaner.input.xanthate                      14049 non-null  float64\n",
            " 14  primary_cleaner.output.concentrate_ag               14149 non-null  float64\n",
            " 15  primary_cleaner.output.concentrate_pb               14063 non-null  float64\n",
            " 16  primary_cleaner.output.concentrate_sol              13863 non-null  float64\n",
            " 17  primary_cleaner.output.concentrate_au               14149 non-null  float64\n",
            " 18  primary_cleaner.output.tail_ag                      14148 non-null  float64\n",
            " 19  primary_cleaner.output.tail_pb                      14134 non-null  float64\n",
            " 20  primary_cleaner.output.tail_sol                     14103 non-null  float64\n",
            " 21  primary_cleaner.output.tail_au                      14149 non-null  float64\n",
            " 22  primary_cleaner.state.floatbank8_a_air              14145 non-null  float64\n",
            " 23  primary_cleaner.state.floatbank8_a_level            14148 non-null  float64\n",
            " 24  primary_cleaner.state.floatbank8_b_air              14145 non-null  float64\n",
            " 25  primary_cleaner.state.floatbank8_b_level            14148 non-null  float64\n",
            " 26  primary_cleaner.state.floatbank8_c_air              14147 non-null  float64\n",
            " 27  primary_cleaner.state.floatbank8_c_level            14148 non-null  float64\n",
            " 28  primary_cleaner.state.floatbank8_d_air              14146 non-null  float64\n",
            " 29  primary_cleaner.state.floatbank8_d_level            14148 non-null  float64\n",
            " 30  rougher.calculation.sulfate_to_au_concentrate       14148 non-null  float64\n",
            " 31  rougher.calculation.floatbank10_sulfate_to_au_feed  14148 non-null  float64\n",
            " 32  rougher.calculation.floatbank11_sulfate_to_au_feed  14148 non-null  float64\n",
            " 33  rougher.calculation.au_pb_ratio                     14149 non-null  float64\n",
            " 34  rougher.input.feed_ag                               14149 non-null  float64\n",
            " 35  rougher.input.feed_pb                               14049 non-null  float64\n",
            " 36  rougher.input.feed_rate                             14141 non-null  float64\n",
            " 37  rougher.input.feed_size                             14005 non-null  float64\n",
            " 38  rougher.input.feed_sol                              14071 non-null  float64\n",
            " 39  rougher.input.feed_au                               14149 non-null  float64\n",
            " 40  rougher.input.floatbank10_sulfate                   14120 non-null  float64\n",
            " 41  rougher.input.floatbank10_xanthate                  14141 non-null  float64\n",
            " 42  rougher.input.floatbank11_sulfate                   14113 non-null  float64\n",
            " 43  rougher.input.floatbank11_xanthate                  13721 non-null  float64\n",
            " 44  rougher.output.concentrate_ag                       14149 non-null  float64\n",
            " 45  rougher.output.concentrate_pb                       14149 non-null  float64\n",
            " 46  rougher.output.concentrate_sol                      14127 non-null  float64\n",
            " 47  rougher.output.concentrate_au                       14149 non-null  float64\n",
            " 48  rougher.output.recovery                             14149 non-null  float64\n",
            " 49  rougher.output.tail_ag                              14148 non-null  float64\n",
            " 50  rougher.output.tail_pb                              14149 non-null  float64\n",
            " 51  rougher.output.tail_sol                             14149 non-null  float64\n",
            " 52  rougher.output.tail_au                              14149 non-null  float64\n",
            " 53  rougher.state.floatbank10_a_air                     14148 non-null  float64\n",
            " 54  rougher.state.floatbank10_a_level                   14148 non-null  float64\n",
            " 55  rougher.state.floatbank10_b_air                     14148 non-null  float64\n",
            " 56  rougher.state.floatbank10_b_level                   14148 non-null  float64\n",
            " 57  rougher.state.floatbank10_c_air                     14148 non-null  float64\n",
            " 58  rougher.state.floatbank10_c_level                   14148 non-null  float64\n",
            " 59  rougher.state.floatbank10_d_air                     14149 non-null  float64\n",
            " 60  rougher.state.floatbank10_d_level                   14149 non-null  float64\n",
            " 61  rougher.state.floatbank10_e_air                     13713 non-null  float64\n",
            " 62  rougher.state.floatbank10_e_level                   14149 non-null  float64\n",
            " 63  rougher.state.floatbank10_f_air                     14149 non-null  float64\n",
            " 64  rougher.state.floatbank10_f_level                   14149 non-null  float64\n",
            " 65  secondary_cleaner.output.tail_ag                    14147 non-null  float64\n",
            " 66  secondary_cleaner.output.tail_pb                    14139 non-null  float64\n",
            " 67  secondary_cleaner.output.tail_sol                   12544 non-null  float64\n",
            " 68  secondary_cleaner.output.tail_au                    14149 non-null  float64\n",
            " 69  secondary_cleaner.state.floatbank2_a_air            13932 non-null  float64\n",
            " 70  secondary_cleaner.state.floatbank2_a_level          14148 non-null  float64\n",
            " 71  secondary_cleaner.state.floatbank2_b_air            14128 non-null  float64\n",
            " 72  secondary_cleaner.state.floatbank2_b_level          14148 non-null  float64\n",
            " 73  secondary_cleaner.state.floatbank3_a_air            14145 non-null  float64\n",
            " 74  secondary_cleaner.state.floatbank3_a_level          14148 non-null  float64\n",
            " 75  secondary_cleaner.state.floatbank3_b_air            14148 non-null  float64\n",
            " 76  secondary_cleaner.state.floatbank3_b_level          14148 non-null  float64\n",
            " 77  secondary_cleaner.state.floatbank4_a_air            14143 non-null  float64\n",
            " 78  secondary_cleaner.state.floatbank4_a_level          14148 non-null  float64\n",
            " 79  secondary_cleaner.state.floatbank4_b_air            14148 non-null  float64\n",
            " 80  secondary_cleaner.state.floatbank4_b_level          14148 non-null  float64\n",
            " 81  secondary_cleaner.state.floatbank5_a_air            14148 non-null  float64\n",
            " 82  secondary_cleaner.state.floatbank5_a_level          14148 non-null  float64\n",
            " 83  secondary_cleaner.state.floatbank5_b_air            14148 non-null  float64\n",
            " 84  secondary_cleaner.state.floatbank5_b_level          14148 non-null  float64\n",
            " 85  secondary_cleaner.state.floatbank6_a_air            14147 non-null  float64\n",
            " 86  secondary_cleaner.state.floatbank6_a_level          14148 non-null  float64\n",
            "dtypes: float64(86), object(1)\n",
            "memory usage: 9.4+ MB\n"
          ]
        }
      ],
      "source": [
        "df_0.info()"
      ]
    },
    {
      "cell_type": "code",
      "execution_count": 4,
      "metadata": {
        "colab": {
          "base_uri": "https://localhost:8080/",
          "height": 473
        },
        "id": "7XrrroWixQsZ",
        "outputId": "b8073314-127f-4df3-a799-097dd551ec0e"
      },
      "outputs": [
        {
          "output_type": "execute_result",
          "data": {
            "text/plain": [
              "                  date  final.output.concentrate_ag  \\\n",
              "0  2016-01-15 00:00:00                     6.055403   \n",
              "1  2016-01-15 01:00:00                     6.029369   \n",
              "2  2016-01-15 02:00:00                     6.055926   \n",
              "3  2016-01-15 03:00:00                     6.047977   \n",
              "4  2016-01-15 04:00:00                     6.148599   \n",
              "\n",
              "   final.output.concentrate_pb  final.output.concentrate_sol  \\\n",
              "0                     9.889648                      5.507324   \n",
              "1                     9.968944                      5.257781   \n",
              "2                    10.213995                      5.383759   \n",
              "3                     9.977019                      4.858634   \n",
              "4                    10.142511                      4.939416   \n",
              "\n",
              "   final.output.concentrate_au  final.output.recovery  final.output.tail_ag  \\\n",
              "0                    42.192020              70.541216             10.411962   \n",
              "1                    42.701629              69.266198             10.462676   \n",
              "2                    42.657501              68.116445             10.507046   \n",
              "3                    42.689819              68.347543             10.422762   \n",
              "4                    42.774141              66.927016             10.360302   \n",
              "\n",
              "   final.output.tail_pb  final.output.tail_sol  final.output.tail_au  ...  \\\n",
              "0              0.895447              16.904297              2.143149  ...   \n",
              "1              0.927452              16.634514              2.224930  ...   \n",
              "2              0.953716              16.208849              2.257889  ...   \n",
              "3              0.883763              16.532835              2.146849  ...   \n",
              "4              0.792826              16.525686              2.055292  ...   \n",
              "\n",
              "   secondary_cleaner.state.floatbank4_a_air  \\\n",
              "0                                 14.016835   \n",
              "1                                 13.992281   \n",
              "2                                 14.015015   \n",
              "3                                 14.036510   \n",
              "4                                 14.027298   \n",
              "\n",
              "   secondary_cleaner.state.floatbank4_a_level  \\\n",
              "0                                 -502.488007   \n",
              "1                                 -505.503262   \n",
              "2                                 -502.520901   \n",
              "3                                 -500.857308   \n",
              "4                                 -499.838632   \n",
              "\n",
              "   secondary_cleaner.state.floatbank4_b_air  \\\n",
              "0                                 12.099931   \n",
              "1                                 11.950531   \n",
              "2                                 11.912783   \n",
              "3                                 11.999550   \n",
              "4                                 11.953070   \n",
              "\n",
              "   secondary_cleaner.state.floatbank4_b_level  \\\n",
              "0                                 -504.715942   \n",
              "1                                 -501.331529   \n",
              "2                                 -501.133383   \n",
              "3                                 -501.193686   \n",
              "4                                 -501.053894   \n",
              "\n",
              "   secondary_cleaner.state.floatbank5_a_air  \\\n",
              "0                                  9.925633   \n",
              "1                                 10.039245   \n",
              "2                                 10.070913   \n",
              "3                                  9.970366   \n",
              "4                                  9.925709   \n",
              "\n",
              "   secondary_cleaner.state.floatbank5_a_level  \\\n",
              "0                                 -498.310211   \n",
              "1                                 -500.169983   \n",
              "2                                 -500.129135   \n",
              "3                                 -499.201640   \n",
              "4                                 -501.686727   \n",
              "\n",
              "   secondary_cleaner.state.floatbank5_b_air  \\\n",
              "0                                  8.079666   \n",
              "1                                  7.984757   \n",
              "2                                  8.013877   \n",
              "3                                  7.977324   \n",
              "4                                  7.894242   \n",
              "\n",
              "   secondary_cleaner.state.floatbank5_b_level  \\\n",
              "0                                 -500.470978   \n",
              "1                                 -500.582168   \n",
              "2                                 -500.517572   \n",
              "3                                 -500.255908   \n",
              "4                                 -500.356035   \n",
              "\n",
              "   secondary_cleaner.state.floatbank6_a_air  \\\n",
              "0                                 14.151341   \n",
              "1                                 13.998353   \n",
              "2                                 14.028663   \n",
              "3                                 14.005551   \n",
              "4                                 13.996647   \n",
              "\n",
              "   secondary_cleaner.state.floatbank6_a_level  \n",
              "0                                 -605.841980  \n",
              "1                                 -599.787184  \n",
              "2                                 -601.427363  \n",
              "3                                 -599.996129  \n",
              "4                                 -601.496691  \n",
              "\n",
              "[5 rows x 87 columns]"
            ],
            "text/html": [
              "\n",
              "  <div id=\"df-b2c5fe5c-e9fe-402f-a7cf-7bd807398010\">\n",
              "    <div class=\"colab-df-container\">\n",
              "      <div>\n",
              "<style scoped>\n",
              "    .dataframe tbody tr th:only-of-type {\n",
              "        vertical-align: middle;\n",
              "    }\n",
              "\n",
              "    .dataframe tbody tr th {\n",
              "        vertical-align: top;\n",
              "    }\n",
              "\n",
              "    .dataframe thead th {\n",
              "        text-align: right;\n",
              "    }\n",
              "</style>\n",
              "<table border=\"1\" class=\"dataframe\">\n",
              "  <thead>\n",
              "    <tr style=\"text-align: right;\">\n",
              "      <th></th>\n",
              "      <th>date</th>\n",
              "      <th>final.output.concentrate_ag</th>\n",
              "      <th>final.output.concentrate_pb</th>\n",
              "      <th>final.output.concentrate_sol</th>\n",
              "      <th>final.output.concentrate_au</th>\n",
              "      <th>final.output.recovery</th>\n",
              "      <th>final.output.tail_ag</th>\n",
              "      <th>final.output.tail_pb</th>\n",
              "      <th>final.output.tail_sol</th>\n",
              "      <th>final.output.tail_au</th>\n",
              "      <th>...</th>\n",
              "      <th>secondary_cleaner.state.floatbank4_a_air</th>\n",
              "      <th>secondary_cleaner.state.floatbank4_a_level</th>\n",
              "      <th>secondary_cleaner.state.floatbank4_b_air</th>\n",
              "      <th>secondary_cleaner.state.floatbank4_b_level</th>\n",
              "      <th>secondary_cleaner.state.floatbank5_a_air</th>\n",
              "      <th>secondary_cleaner.state.floatbank5_a_level</th>\n",
              "      <th>secondary_cleaner.state.floatbank5_b_air</th>\n",
              "      <th>secondary_cleaner.state.floatbank5_b_level</th>\n",
              "      <th>secondary_cleaner.state.floatbank6_a_air</th>\n",
              "      <th>secondary_cleaner.state.floatbank6_a_level</th>\n",
              "    </tr>\n",
              "  </thead>\n",
              "  <tbody>\n",
              "    <tr>\n",
              "      <th>0</th>\n",
              "      <td>2016-01-15 00:00:00</td>\n",
              "      <td>6.055403</td>\n",
              "      <td>9.889648</td>\n",
              "      <td>5.507324</td>\n",
              "      <td>42.192020</td>\n",
              "      <td>70.541216</td>\n",
              "      <td>10.411962</td>\n",
              "      <td>0.895447</td>\n",
              "      <td>16.904297</td>\n",
              "      <td>2.143149</td>\n",
              "      <td>...</td>\n",
              "      <td>14.016835</td>\n",
              "      <td>-502.488007</td>\n",
              "      <td>12.099931</td>\n",
              "      <td>-504.715942</td>\n",
              "      <td>9.925633</td>\n",
              "      <td>-498.310211</td>\n",
              "      <td>8.079666</td>\n",
              "      <td>-500.470978</td>\n",
              "      <td>14.151341</td>\n",
              "      <td>-605.841980</td>\n",
              "    </tr>\n",
              "    <tr>\n",
              "      <th>1</th>\n",
              "      <td>2016-01-15 01:00:00</td>\n",
              "      <td>6.029369</td>\n",
              "      <td>9.968944</td>\n",
              "      <td>5.257781</td>\n",
              "      <td>42.701629</td>\n",
              "      <td>69.266198</td>\n",
              "      <td>10.462676</td>\n",
              "      <td>0.927452</td>\n",
              "      <td>16.634514</td>\n",
              "      <td>2.224930</td>\n",
              "      <td>...</td>\n",
              "      <td>13.992281</td>\n",
              "      <td>-505.503262</td>\n",
              "      <td>11.950531</td>\n",
              "      <td>-501.331529</td>\n",
              "      <td>10.039245</td>\n",
              "      <td>-500.169983</td>\n",
              "      <td>7.984757</td>\n",
              "      <td>-500.582168</td>\n",
              "      <td>13.998353</td>\n",
              "      <td>-599.787184</td>\n",
              "    </tr>\n",
              "    <tr>\n",
              "      <th>2</th>\n",
              "      <td>2016-01-15 02:00:00</td>\n",
              "      <td>6.055926</td>\n",
              "      <td>10.213995</td>\n",
              "      <td>5.383759</td>\n",
              "      <td>42.657501</td>\n",
              "      <td>68.116445</td>\n",
              "      <td>10.507046</td>\n",
              "      <td>0.953716</td>\n",
              "      <td>16.208849</td>\n",
              "      <td>2.257889</td>\n",
              "      <td>...</td>\n",
              "      <td>14.015015</td>\n",
              "      <td>-502.520901</td>\n",
              "      <td>11.912783</td>\n",
              "      <td>-501.133383</td>\n",
              "      <td>10.070913</td>\n",
              "      <td>-500.129135</td>\n",
              "      <td>8.013877</td>\n",
              "      <td>-500.517572</td>\n",
              "      <td>14.028663</td>\n",
              "      <td>-601.427363</td>\n",
              "    </tr>\n",
              "    <tr>\n",
              "      <th>3</th>\n",
              "      <td>2016-01-15 03:00:00</td>\n",
              "      <td>6.047977</td>\n",
              "      <td>9.977019</td>\n",
              "      <td>4.858634</td>\n",
              "      <td>42.689819</td>\n",
              "      <td>68.347543</td>\n",
              "      <td>10.422762</td>\n",
              "      <td>0.883763</td>\n",
              "      <td>16.532835</td>\n",
              "      <td>2.146849</td>\n",
              "      <td>...</td>\n",
              "      <td>14.036510</td>\n",
              "      <td>-500.857308</td>\n",
              "      <td>11.999550</td>\n",
              "      <td>-501.193686</td>\n",
              "      <td>9.970366</td>\n",
              "      <td>-499.201640</td>\n",
              "      <td>7.977324</td>\n",
              "      <td>-500.255908</td>\n",
              "      <td>14.005551</td>\n",
              "      <td>-599.996129</td>\n",
              "    </tr>\n",
              "    <tr>\n",
              "      <th>4</th>\n",
              "      <td>2016-01-15 04:00:00</td>\n",
              "      <td>6.148599</td>\n",
              "      <td>10.142511</td>\n",
              "      <td>4.939416</td>\n",
              "      <td>42.774141</td>\n",
              "      <td>66.927016</td>\n",
              "      <td>10.360302</td>\n",
              "      <td>0.792826</td>\n",
              "      <td>16.525686</td>\n",
              "      <td>2.055292</td>\n",
              "      <td>...</td>\n",
              "      <td>14.027298</td>\n",
              "      <td>-499.838632</td>\n",
              "      <td>11.953070</td>\n",
              "      <td>-501.053894</td>\n",
              "      <td>9.925709</td>\n",
              "      <td>-501.686727</td>\n",
              "      <td>7.894242</td>\n",
              "      <td>-500.356035</td>\n",
              "      <td>13.996647</td>\n",
              "      <td>-601.496691</td>\n",
              "    </tr>\n",
              "  </tbody>\n",
              "</table>\n",
              "<p>5 rows × 87 columns</p>\n",
              "</div>\n",
              "      <button class=\"colab-df-convert\" onclick=\"convertToInteractive('df-b2c5fe5c-e9fe-402f-a7cf-7bd807398010')\"\n",
              "              title=\"Convert this dataframe to an interactive table.\"\n",
              "              style=\"display:none;\">\n",
              "        \n",
              "  <svg xmlns=\"http://www.w3.org/2000/svg\" height=\"24px\"viewBox=\"0 0 24 24\"\n",
              "       width=\"24px\">\n",
              "    <path d=\"M0 0h24v24H0V0z\" fill=\"none\"/>\n",
              "    <path d=\"M18.56 5.44l.94 2.06.94-2.06 2.06-.94-2.06-.94-.94-2.06-.94 2.06-2.06.94zm-11 1L8.5 8.5l.94-2.06 2.06-.94-2.06-.94L8.5 2.5l-.94 2.06-2.06.94zm10 10l.94 2.06.94-2.06 2.06-.94-2.06-.94-.94-2.06-.94 2.06-2.06.94z\"/><path d=\"M17.41 7.96l-1.37-1.37c-.4-.4-.92-.59-1.43-.59-.52 0-1.04.2-1.43.59L10.3 9.45l-7.72 7.72c-.78.78-.78 2.05 0 2.83L4 21.41c.39.39.9.59 1.41.59.51 0 1.02-.2 1.41-.59l7.78-7.78 2.81-2.81c.8-.78.8-2.07 0-2.86zM5.41 20L4 18.59l7.72-7.72 1.47 1.35L5.41 20z\"/>\n",
              "  </svg>\n",
              "      </button>\n",
              "      \n",
              "  <style>\n",
              "    .colab-df-container {\n",
              "      display:flex;\n",
              "      flex-wrap:wrap;\n",
              "      gap: 12px;\n",
              "    }\n",
              "\n",
              "    .colab-df-convert {\n",
              "      background-color: #E8F0FE;\n",
              "      border: none;\n",
              "      border-radius: 50%;\n",
              "      cursor: pointer;\n",
              "      display: none;\n",
              "      fill: #1967D2;\n",
              "      height: 32px;\n",
              "      padding: 0 0 0 0;\n",
              "      width: 32px;\n",
              "    }\n",
              "\n",
              "    .colab-df-convert:hover {\n",
              "      background-color: #E2EBFA;\n",
              "      box-shadow: 0px 1px 2px rgba(60, 64, 67, 0.3), 0px 1px 3px 1px rgba(60, 64, 67, 0.15);\n",
              "      fill: #174EA6;\n",
              "    }\n",
              "\n",
              "    [theme=dark] .colab-df-convert {\n",
              "      background-color: #3B4455;\n",
              "      fill: #D2E3FC;\n",
              "    }\n",
              "\n",
              "    [theme=dark] .colab-df-convert:hover {\n",
              "      background-color: #434B5C;\n",
              "      box-shadow: 0px 1px 3px 1px rgba(0, 0, 0, 0.15);\n",
              "      filter: drop-shadow(0px 1px 2px rgba(0, 0, 0, 0.3));\n",
              "      fill: #FFFFFF;\n",
              "    }\n",
              "  </style>\n",
              "\n",
              "      <script>\n",
              "        const buttonEl =\n",
              "          document.querySelector('#df-b2c5fe5c-e9fe-402f-a7cf-7bd807398010 button.colab-df-convert');\n",
              "        buttonEl.style.display =\n",
              "          google.colab.kernel.accessAllowed ? 'block' : 'none';\n",
              "\n",
              "        async function convertToInteractive(key) {\n",
              "          const element = document.querySelector('#df-b2c5fe5c-e9fe-402f-a7cf-7bd807398010');\n",
              "          const dataTable =\n",
              "            await google.colab.kernel.invokeFunction('convertToInteractive',\n",
              "                                                     [key], {});\n",
              "          if (!dataTable) return;\n",
              "\n",
              "          const docLinkHtml = 'Like what you see? Visit the ' +\n",
              "            '<a target=\"_blank\" href=https://colab.research.google.com/notebooks/data_table.ipynb>data table notebook</a>'\n",
              "            + ' to learn more about interactive tables.';\n",
              "          element.innerHTML = '';\n",
              "          dataTable['output_type'] = 'display_data';\n",
              "          await google.colab.output.renderOutput(dataTable, element);\n",
              "          const docLink = document.createElement('div');\n",
              "          docLink.innerHTML = docLinkHtml;\n",
              "          element.appendChild(docLink);\n",
              "        }\n",
              "      </script>\n",
              "    </div>\n",
              "  </div>\n",
              "  "
            ]
          },
          "metadata": {},
          "execution_count": 4
        }
      ],
      "source": [
        "df_0.head()"
      ]
    },
    {
      "cell_type": "code",
      "execution_count": 5,
      "metadata": {
        "colab": {
          "base_uri": "https://localhost:8080/"
        },
        "id": "ciI-iOMyxQsZ",
        "outputId": "52c459af-cee4-481c-b927-3f72dcefe17c"
      },
      "outputs": [
        {
          "output_type": "stream",
          "name": "stdout",
          "text": [
            "<class 'pandas.core.frame.DataFrame'>\n",
            "RangeIndex: 5290 entries, 0 to 5289\n",
            "Data columns (total 53 columns):\n",
            " #   Column                                      Non-Null Count  Dtype  \n",
            "---  ------                                      --------------  -----  \n",
            " 0   date                                        5290 non-null   object \n",
            " 1   primary_cleaner.input.sulfate               5286 non-null   float64\n",
            " 2   primary_cleaner.input.depressant            5285 non-null   float64\n",
            " 3   primary_cleaner.input.feed_size             5290 non-null   float64\n",
            " 4   primary_cleaner.input.xanthate              5286 non-null   float64\n",
            " 5   primary_cleaner.state.floatbank8_a_air      5290 non-null   float64\n",
            " 6   primary_cleaner.state.floatbank8_a_level    5290 non-null   float64\n",
            " 7   primary_cleaner.state.floatbank8_b_air      5290 non-null   float64\n",
            " 8   primary_cleaner.state.floatbank8_b_level    5290 non-null   float64\n",
            " 9   primary_cleaner.state.floatbank8_c_air      5290 non-null   float64\n",
            " 10  primary_cleaner.state.floatbank8_c_level    5290 non-null   float64\n",
            " 11  primary_cleaner.state.floatbank8_d_air      5290 non-null   float64\n",
            " 12  primary_cleaner.state.floatbank8_d_level    5290 non-null   float64\n",
            " 13  rougher.input.feed_ag                       5290 non-null   float64\n",
            " 14  rougher.input.feed_pb                       5290 non-null   float64\n",
            " 15  rougher.input.feed_rate                     5287 non-null   float64\n",
            " 16  rougher.input.feed_size                     5289 non-null   float64\n",
            " 17  rougher.input.feed_sol                      5269 non-null   float64\n",
            " 18  rougher.input.feed_au                       5290 non-null   float64\n",
            " 19  rougher.input.floatbank10_sulfate           5285 non-null   float64\n",
            " 20  rougher.input.floatbank10_xanthate          5290 non-null   float64\n",
            " 21  rougher.input.floatbank11_sulfate           5282 non-null   float64\n",
            " 22  rougher.input.floatbank11_xanthate          5265 non-null   float64\n",
            " 23  rougher.state.floatbank10_a_air             5290 non-null   float64\n",
            " 24  rougher.state.floatbank10_a_level           5290 non-null   float64\n",
            " 25  rougher.state.floatbank10_b_air             5290 non-null   float64\n",
            " 26  rougher.state.floatbank10_b_level           5290 non-null   float64\n",
            " 27  rougher.state.floatbank10_c_air             5290 non-null   float64\n",
            " 28  rougher.state.floatbank10_c_level           5290 non-null   float64\n",
            " 29  rougher.state.floatbank10_d_air             5290 non-null   float64\n",
            " 30  rougher.state.floatbank10_d_level           5290 non-null   float64\n",
            " 31  rougher.state.floatbank10_e_air             5290 non-null   float64\n",
            " 32  rougher.state.floatbank10_e_level           5290 non-null   float64\n",
            " 33  rougher.state.floatbank10_f_air             5290 non-null   float64\n",
            " 34  rougher.state.floatbank10_f_level           5290 non-null   float64\n",
            " 35  secondary_cleaner.state.floatbank2_a_air    5287 non-null   float64\n",
            " 36  secondary_cleaner.state.floatbank2_a_level  5290 non-null   float64\n",
            " 37  secondary_cleaner.state.floatbank2_b_air    5288 non-null   float64\n",
            " 38  secondary_cleaner.state.floatbank2_b_level  5290 non-null   float64\n",
            " 39  secondary_cleaner.state.floatbank3_a_air    5281 non-null   float64\n",
            " 40  secondary_cleaner.state.floatbank3_a_level  5290 non-null   float64\n",
            " 41  secondary_cleaner.state.floatbank3_b_air    5290 non-null   float64\n",
            " 42  secondary_cleaner.state.floatbank3_b_level  5290 non-null   float64\n",
            " 43  secondary_cleaner.state.floatbank4_a_air    5290 non-null   float64\n",
            " 44  secondary_cleaner.state.floatbank4_a_level  5290 non-null   float64\n",
            " 45  secondary_cleaner.state.floatbank4_b_air    5290 non-null   float64\n",
            " 46  secondary_cleaner.state.floatbank4_b_level  5290 non-null   float64\n",
            " 47  secondary_cleaner.state.floatbank5_a_air    5290 non-null   float64\n",
            " 48  secondary_cleaner.state.floatbank5_a_level  5290 non-null   float64\n",
            " 49  secondary_cleaner.state.floatbank5_b_air    5290 non-null   float64\n",
            " 50  secondary_cleaner.state.floatbank5_b_level  5290 non-null   float64\n",
            " 51  secondary_cleaner.state.floatbank6_a_air    5290 non-null   float64\n",
            " 52  secondary_cleaner.state.floatbank6_a_level  5290 non-null   float64\n",
            "dtypes: float64(52), object(1)\n",
            "memory usage: 2.1+ MB\n"
          ]
        }
      ],
      "source": [
        "df_1.info()"
      ]
    },
    {
      "cell_type": "code",
      "execution_count": 6,
      "metadata": {
        "colab": {
          "base_uri": "https://localhost:8080/"
        },
        "id": "IvL4VLJfxQsZ",
        "outputId": "196f85e2-d336-4013-cec0-d90a8bf18c16"
      },
      "outputs": [
        {
          "output_type": "stream",
          "name": "stdout",
          "text": [
            "<class 'pandas.core.frame.DataFrame'>\n",
            "RangeIndex: 19439 entries, 0 to 19438\n",
            "Data columns (total 87 columns):\n",
            " #   Column                                              Non-Null Count  Dtype  \n",
            "---  ------                                              --------------  -----  \n",
            " 0   date                                                19439 non-null  object \n",
            " 1   final.output.concentrate_ag                         19438 non-null  float64\n",
            " 2   final.output.concentrate_pb                         19438 non-null  float64\n",
            " 3   final.output.concentrate_sol                        19228 non-null  float64\n",
            " 4   final.output.concentrate_au                         19439 non-null  float64\n",
            " 5   final.output.recovery                               19439 non-null  float64\n",
            " 6   final.output.tail_ag                                19438 non-null  float64\n",
            " 7   final.output.tail_pb                                19338 non-null  float64\n",
            " 8   final.output.tail_sol                               19433 non-null  float64\n",
            " 9   final.output.tail_au                                19439 non-null  float64\n",
            " 10  primary_cleaner.input.sulfate                       19415 non-null  float64\n",
            " 11  primary_cleaner.input.depressant                    19402 non-null  float64\n",
            " 12  primary_cleaner.input.feed_size                     19439 non-null  float64\n",
            " 13  primary_cleaner.input.xanthate                      19335 non-null  float64\n",
            " 14  primary_cleaner.output.concentrate_ag               19439 non-null  float64\n",
            " 15  primary_cleaner.output.concentrate_pb               19323 non-null  float64\n",
            " 16  primary_cleaner.output.concentrate_sol              19069 non-null  float64\n",
            " 17  primary_cleaner.output.concentrate_au               19439 non-null  float64\n",
            " 18  primary_cleaner.output.tail_ag                      19435 non-null  float64\n",
            " 19  primary_cleaner.output.tail_pb                      19418 non-null  float64\n",
            " 20  primary_cleaner.output.tail_sol                     19377 non-null  float64\n",
            " 21  primary_cleaner.output.tail_au                      19439 non-null  float64\n",
            " 22  primary_cleaner.state.floatbank8_a_air              19435 non-null  float64\n",
            " 23  primary_cleaner.state.floatbank8_a_level            19438 non-null  float64\n",
            " 24  primary_cleaner.state.floatbank8_b_air              19435 non-null  float64\n",
            " 25  primary_cleaner.state.floatbank8_b_level            19438 non-null  float64\n",
            " 26  primary_cleaner.state.floatbank8_c_air              19437 non-null  float64\n",
            " 27  primary_cleaner.state.floatbank8_c_level            19438 non-null  float64\n",
            " 28  primary_cleaner.state.floatbank8_d_air              19436 non-null  float64\n",
            " 29  primary_cleaner.state.floatbank8_d_level            19438 non-null  float64\n",
            " 30  rougher.calculation.sulfate_to_au_concentrate       19437 non-null  float64\n",
            " 31  rougher.calculation.floatbank10_sulfate_to_au_feed  19437 non-null  float64\n",
            " 32  rougher.calculation.floatbank11_sulfate_to_au_feed  19437 non-null  float64\n",
            " 33  rougher.calculation.au_pb_ratio                     19439 non-null  float64\n",
            " 34  rougher.input.feed_ag                               19439 non-null  float64\n",
            " 35  rougher.input.feed_pb                               19339 non-null  float64\n",
            " 36  rougher.input.feed_rate                             19428 non-null  float64\n",
            " 37  rougher.input.feed_size                             19294 non-null  float64\n",
            " 38  rougher.input.feed_sol                              19340 non-null  float64\n",
            " 39  rougher.input.feed_au                               19439 non-null  float64\n",
            " 40  rougher.input.floatbank10_sulfate                   19405 non-null  float64\n",
            " 41  rougher.input.floatbank10_xanthate                  19431 non-null  float64\n",
            " 42  rougher.input.floatbank11_sulfate                   19395 non-null  float64\n",
            " 43  rougher.input.floatbank11_xanthate                  18986 non-null  float64\n",
            " 44  rougher.output.concentrate_ag                       19439 non-null  float64\n",
            " 45  rougher.output.concentrate_pb                       19439 non-null  float64\n",
            " 46  rougher.output.concentrate_sol                      19416 non-null  float64\n",
            " 47  rougher.output.concentrate_au                       19439 non-null  float64\n",
            " 48  rougher.output.recovery                             19439 non-null  float64\n",
            " 49  rougher.output.tail_ag                              19438 non-null  float64\n",
            " 50  rougher.output.tail_pb                              19439 non-null  float64\n",
            " 51  rougher.output.tail_sol                             19439 non-null  float64\n",
            " 52  rougher.output.tail_au                              19439 non-null  float64\n",
            " 53  rougher.state.floatbank10_a_air                     19438 non-null  float64\n",
            " 54  rougher.state.floatbank10_a_level                   19438 non-null  float64\n",
            " 55  rougher.state.floatbank10_b_air                     19438 non-null  float64\n",
            " 56  rougher.state.floatbank10_b_level                   19438 non-null  float64\n",
            " 57  rougher.state.floatbank10_c_air                     19438 non-null  float64\n",
            " 58  rougher.state.floatbank10_c_level                   19438 non-null  float64\n",
            " 59  rougher.state.floatbank10_d_air                     19439 non-null  float64\n",
            " 60  rougher.state.floatbank10_d_level                   19439 non-null  float64\n",
            " 61  rougher.state.floatbank10_e_air                     19003 non-null  float64\n",
            " 62  rougher.state.floatbank10_e_level                   19439 non-null  float64\n",
            " 63  rougher.state.floatbank10_f_air                     19439 non-null  float64\n",
            " 64  rougher.state.floatbank10_f_level                   19439 non-null  float64\n",
            " 65  secondary_cleaner.output.tail_ag                    19437 non-null  float64\n",
            " 66  secondary_cleaner.output.tail_pb                    19427 non-null  float64\n",
            " 67  secondary_cleaner.output.tail_sol                   17691 non-null  float64\n",
            " 68  secondary_cleaner.output.tail_au                    19439 non-null  float64\n",
            " 69  secondary_cleaner.state.floatbank2_a_air            19219 non-null  float64\n",
            " 70  secondary_cleaner.state.floatbank2_a_level          19438 non-null  float64\n",
            " 71  secondary_cleaner.state.floatbank2_b_air            19416 non-null  float64\n",
            " 72  secondary_cleaner.state.floatbank2_b_level          19438 non-null  float64\n",
            " 73  secondary_cleaner.state.floatbank3_a_air            19426 non-null  float64\n",
            " 74  secondary_cleaner.state.floatbank3_a_level          19438 non-null  float64\n",
            " 75  secondary_cleaner.state.floatbank3_b_air            19438 non-null  float64\n",
            " 76  secondary_cleaner.state.floatbank3_b_level          19438 non-null  float64\n",
            " 77  secondary_cleaner.state.floatbank4_a_air            19433 non-null  float64\n",
            " 78  secondary_cleaner.state.floatbank4_a_level          19438 non-null  float64\n",
            " 79  secondary_cleaner.state.floatbank4_b_air            19438 non-null  float64\n",
            " 80  secondary_cleaner.state.floatbank4_b_level          19438 non-null  float64\n",
            " 81  secondary_cleaner.state.floatbank5_a_air            19438 non-null  float64\n",
            " 82  secondary_cleaner.state.floatbank5_a_level          19438 non-null  float64\n",
            " 83  secondary_cleaner.state.floatbank5_b_air            19438 non-null  float64\n",
            " 84  secondary_cleaner.state.floatbank5_b_level          19438 non-null  float64\n",
            " 85  secondary_cleaner.state.floatbank6_a_air            19437 non-null  float64\n",
            " 86  secondary_cleaner.state.floatbank6_a_level          19438 non-null  float64\n",
            "dtypes: float64(86), object(1)\n",
            "memory usage: 12.9+ MB\n"
          ]
        }
      ],
      "source": [
        "df_2.info()"
      ]
    },
    {
      "cell_type": "markdown",
      "metadata": {
        "id": "O2JSLlnSxQsZ"
      },
      "source": [
        "There are gaps in the data. The column \"date\" is in object format, we need to convert the data and fill in the missing values"
      ]
    },
    {
      "cell_type": "code",
      "execution_count": 7,
      "metadata": {
        "id": "eVz3K0eKxQsa"
      },
      "outputs": [],
      "source": [
        "df_0['date'] = pd.to_datetime(df_0['date'], format='%Y-%m-%d %H:%M:%S')"
      ]
    },
    {
      "cell_type": "code",
      "execution_count": 8,
      "metadata": {
        "id": "4nKeASxMxQsa"
      },
      "outputs": [],
      "source": [
        "df_1['date'] = pd.to_datetime(df_1['date'], format='%Y-%m-%d %H:%M:%S')"
      ]
    },
    {
      "cell_type": "code",
      "execution_count": 9,
      "metadata": {
        "id": "5ptVSbwPxQsa"
      },
      "outputs": [],
      "source": [
        "df_2['date'] = pd.to_datetime(df_2['date'], format='%Y-%m-%d %H:%M:%S')"
      ]
    },
    {
      "cell_type": "markdown",
      "metadata": {
        "id": "PaW2CtupxQsa"
      },
      "source": [
        "### Filling gaps in data"
      ]
    },
    {
      "cell_type": "markdown",
      "metadata": {
        "id": "5nmcBVwsxQsb"
      },
      "source": [
        "The largest number of gaps in the training dataset in the secondary_cleaner.output.tail_sol column:"
      ]
    },
    {
      "cell_type": "code",
      "execution_count": 10,
      "metadata": {
        "scrolled": true,
        "colab": {
          "base_uri": "https://localhost:8080/"
        },
        "id": "09Jx7VimxQsb",
        "outputId": "a7581170-b251-4e19-9b33-4d30aa6bd14c"
      },
      "outputs": [
        {
          "output_type": "execute_result",
          "data": {
            "text/plain": [
              "secondary_cleaner.output.tail_sol           0.113436\n",
              "rougher.state.floatbank10_e_air             0.030815\n",
              "rougher.input.floatbank11_xanthate          0.030249\n",
              "primary_cleaner.output.concentrate_sol      0.020213\n",
              "secondary_cleaner.state.floatbank2_a_air    0.015337\n",
              "final.output.concentrate_sol                0.014913\n",
              "rougher.input.feed_size                     0.010177\n",
              "primary_cleaner.input.xanthate              0.007068\n",
              "rougher.input.feed_pb                       0.007068\n",
              "final.output.tail_pb                        0.007068\n",
              "primary_cleaner.output.concentrate_pb       0.006078\n",
              "rougher.input.feed_sol                      0.005513\n",
              "primary_cleaner.output.tail_sol             0.003251\n",
              "rougher.input.floatbank11_sulfate           0.002544\n",
              "primary_cleaner.input.depressant            0.002262\n",
              "dtype: float64"
            ]
          },
          "metadata": {},
          "execution_count": 10
        }
      ],
      "source": [
        "df_0.isna().mean().sort_values(ascending=False).head(15)"
      ]
    },
    {
      "cell_type": "markdown",
      "metadata": {
        "id": "nsjy_6bbxQsb"
      },
      "source": [
        "The data are indexed in time. Depending on the technical method, the parameters change evenly over time, so you can fill the gaps in the data using the interpolation method."
      ]
    },
    {
      "cell_type": "code",
      "execution_count": 11,
      "metadata": {
        "id": "jOWJdfiSxQsb"
      },
      "outputs": [],
      "source": [
        "df_0 = df_0.set_index('date')"
      ]
    },
    {
      "cell_type": "code",
      "execution_count": 12,
      "metadata": {
        "id": "m5XEVZacxQsb"
      },
      "outputs": [],
      "source": [
        "df_0_filled = df_0.interpolate(method='time')"
      ]
    },
    {
      "cell_type": "code",
      "execution_count": 13,
      "metadata": {
        "id": "GAXgi5BTxQsb"
      },
      "outputs": [],
      "source": [
        "df_1 = df_1.set_index('date')"
      ]
    },
    {
      "cell_type": "code",
      "execution_count": 14,
      "metadata": {
        "id": "9WmtzMhMxQsb"
      },
      "outputs": [],
      "source": [
        "df_1_filled = df_1.interpolate(method='time')"
      ]
    },
    {
      "cell_type": "code",
      "execution_count": 15,
      "metadata": {
        "id": "lON2SayXxQsb"
      },
      "outputs": [],
      "source": [
        "df_2 = df_2.set_index('date')"
      ]
    },
    {
      "cell_type": "code",
      "execution_count": 16,
      "metadata": {
        "id": "P75E7hPsxQsb"
      },
      "outputs": [],
      "source": [
        "df_2_filled = df_2.interpolate(method='time')"
      ]
    },
    {
      "cell_type": "markdown",
      "metadata": {
        "id": "ujGKU_g6xQsc"
      },
      "source": [
        "Let's check if the filled-in values led to significant distortions in the distributions of the parameter values that have the largest number of gaps:"
      ]
    },
    {
      "cell_type": "code",
      "execution_count": 17,
      "metadata": {
        "colab": {
          "base_uri": "https://localhost:8080/",
          "height": 444
        },
        "id": "ZeI-8lWhxQsc",
        "outputId": "2c23e31a-85b4-4da2-d3bd-1839cd22a3e2"
      },
      "outputs": [
        {
          "output_type": "display_data",
          "data": {
            "text/plain": [
              "<Figure size 1080x504 with 1 Axes>"
            ],
            "image/png": "[encoded data removed]"
          },
          "metadata": {
            "needs_background": "light"
          }
        }
      ],
      "source": [
        "plt.figure(figsize=(15,7))\n",
        "plt.title('secondary_cleaner.output.tail_sol')\n",
        "plt.hist(df_0_filled['secondary_cleaner.output.tail_sol'], alpha=0.7, bins=20, label='filled')\n",
        "plt.hist(df_0['secondary_cleaner.output.tail_sol'], alpha=0.7, bins=20, label='not filled')\n",
        "plt.legend()\n",
        "plt.show()"
      ]
    },
    {
      "cell_type": "markdown",
      "metadata": {
        "id": "9Bf2QtfLxQsc"
      },
      "source": [
        "There are many gaps in the secondary_cleaner.output.tail_sol column in a row, it is not possible to fill them appropriately without moving the distribution of the parameter. This parameter is an output and is not used for training models."
      ]
    },
    {
      "cell_type": "code",
      "execution_count": 18,
      "metadata": {
        "colab": {
          "base_uri": "https://localhost:8080/",
          "height": 444
        },
        "id": "89lnzhixxQsc",
        "outputId": "31d4d3e6-d867-411c-89a1-d16795e58e7b"
      },
      "outputs": [
        {
          "output_type": "display_data",
          "data": {
            "text/plain": [
              "<Figure size 1080x504 with 1 Axes>"
            ],
            "image/png": "[encoded data removed]"
          },
          "metadata": {
            "needs_background": "light"
          }
        }
      ],
      "source": [
        "plt.figure(figsize=(15,7))\n",
        "plt.title('rougher.state.floatbank10_e_air')\n",
        "plt.hist(df_0_filled['rougher.state.floatbank10_e_air'], bins=20, label='filled')\n",
        "plt.hist(df_0['rougher.state.floatbank10_e_air'], alpha=.7, bins=20, label='not filled')\n",
        "plt.legend()\n",
        "plt.show()"
      ]
    },
    {
      "cell_type": "code",
      "execution_count": 19,
      "metadata": {
        "colab": {
          "base_uri": "https://localhost:8080/",
          "height": 444
        },
        "id": "YrEexycnxQsc",
        "outputId": "ee084959-7f8c-47d7-e678-d7b4893f8847"
      },
      "outputs": [
        {
          "output_type": "display_data",
          "data": {
            "text/plain": [
              "<Figure size 1080x504 with 1 Axes>"
            ],
            "image/png": "[encoded data removed]"
          },
          "metadata": {
            "needs_background": "light"
          }
        }
      ],
      "source": [
        "plt.figure(figsize=(15,7))\n",
        "plt.title('final.output.concentrate_sol')\n",
        "plt.hist(df_0_filled['final.output.concentrate_sol'], alpha=.7, bins=20)\n",
        "plt.hist(df_0['final.output.concentrate_sol'], alpha=.7, bins=20)\n",
        "plt.show()"
      ]
    },
    {
      "cell_type": "markdown",
      "metadata": {
        "id": "KR9Pncw_xQsc"
      },
      "source": [
        "### Analysis of characteristics that are not present in the test sample"
      ]
    },
    {
      "cell_type": "markdown",
      "metadata": {
        "id": "KiVSf2DaxQsc"
      },
      "source": [
        "Columns that are not available in the sample contain the final and calculated parameters that will become available at later stages of the engineering process, and therefore cannot be used as features to build models."
      ]
    },
    {
      "cell_type": "code",
      "execution_count": 20,
      "metadata": {
        "colab": {
          "base_uri": "https://localhost:8080/"
        },
        "id": "s6KIiG4NxQsc",
        "outputId": "296c41f5-b490-4212-aad8-aa0d61461513"
      },
      "outputs": [
        {
          "output_type": "execute_result",
          "data": {
            "text/plain": [
              "['final.output.concentrate_ag',\n",
              " 'final.output.concentrate_au',\n",
              " 'final.output.concentrate_pb',\n",
              " 'final.output.concentrate_sol',\n",
              " 'final.output.recovery',\n",
              " 'final.output.tail_ag',\n",
              " 'final.output.tail_au',\n",
              " 'final.output.tail_pb',\n",
              " 'final.output.tail_sol',\n",
              " 'primary_cleaner.output.concentrate_ag',\n",
              " 'primary_cleaner.output.concentrate_au',\n",
              " 'primary_cleaner.output.concentrate_pb',\n",
              " 'primary_cleaner.output.concentrate_sol',\n",
              " 'primary_cleaner.output.tail_ag',\n",
              " 'primary_cleaner.output.tail_au',\n",
              " 'primary_cleaner.output.tail_pb',\n",
              " 'primary_cleaner.output.tail_sol',\n",
              " 'rougher.calculation.au_pb_ratio',\n",
              " 'rougher.calculation.floatbank10_sulfate_to_au_feed',\n",
              " 'rougher.calculation.floatbank11_sulfate_to_au_feed',\n",
              " 'rougher.calculation.sulfate_to_au_concentrate',\n",
              " 'rougher.output.concentrate_ag',\n",
              " 'rougher.output.concentrate_au',\n",
              " 'rougher.output.concentrate_pb',\n",
              " 'rougher.output.concentrate_sol',\n",
              " 'rougher.output.recovery',\n",
              " 'rougher.output.tail_ag',\n",
              " 'rougher.output.tail_au',\n",
              " 'rougher.output.tail_pb',\n",
              " 'rougher.output.tail_sol',\n",
              " 'secondary_cleaner.output.tail_ag',\n",
              " 'secondary_cleaner.output.tail_au',\n",
              " 'secondary_cleaner.output.tail_pb',\n",
              " 'secondary_cleaner.output.tail_sol']"
            ]
          },
          "metadata": {},
          "execution_count": 20
        }
      ],
      "source": [
        "sorted(list(set(df_0.columns) - set(df_1.columns)))"
      ]
    },
    {
      "cell_type": "markdown",
      "metadata": {
        "id": "vKFk2tUMxQsd"
      },
      "source": [
        "### Verification of the correctness of the calculation of the processing efficiency"
      ]
    },
    {
      "cell_type": "markdown",
      "metadata": {
        "id": "ftXiyJFSxQsd"
      },
      "source": [
        "Calculate the efficiency of ore processing according to the formula from the task:"
      ]
    },
    {
      "cell_type": "code",
      "execution_count": 21,
      "metadata": {
        "id": "6xv4sRdrxQsd"
      },
      "outputs": [],
      "source": [
        "df_0_filled['rougher.calculation.recovery_au'] = ((df_0_filled['rougher.output.concentrate_au'] * \\\n",
        "(df_0_filled['rougher.input.feed_au'] - df_0_filled['rougher.output.tail_au'])) / \\\n",
        "(df_0_filled['rougher.input.feed_au'] * \\\n",
        "(df_0_filled['rougher.output.concentrate_au'] - df_0_filled['rougher.output.tail_au'])) * 100)"
      ]
    },
    {
      "cell_type": "markdown",
      "metadata": {
        "id": "qWnL8TjbxQsd"
      },
      "source": [
        "Let's compare the average values of the calculated and available processing efficiencies:"
      ]
    },
    {
      "cell_type": "code",
      "execution_count": 22,
      "metadata": {
        "colab": {
          "base_uri": "https://localhost:8080/"
        },
        "id": "fXcCHP8bxQsd",
        "outputId": "ed15a0cf-8420-4c3c-afa4-d3acc55452b9"
      },
      "outputs": [
        {
          "output_type": "execute_result",
          "data": {
            "text/plain": [
              "82.70450164550293"
            ]
          },
          "metadata": {},
          "execution_count": 22
        }
      ],
      "source": [
        "df_0_filled['rougher.calculation.recovery_au'].mean()"
      ]
    },
    {
      "cell_type": "code",
      "execution_count": 23,
      "metadata": {
        "colab": {
          "base_uri": "https://localhost:8080/"
        },
        "id": "SQ97FW7GxQsd",
        "outputId": "7e666ce7-e157-4618-a3f3-f15ef92ebd58"
      },
      "outputs": [
        {
          "output_type": "execute_result",
          "data": {
            "text/plain": [
              "82.70450164550293"
            ]
          },
          "metadata": {},
          "execution_count": 23
        }
      ],
      "source": [
        "df_0_filled['rougher.output.recovery'].mean()"
      ]
    },
    {
      "cell_type": "code",
      "execution_count": 24,
      "metadata": {
        "colab": {
          "base_uri": "https://localhost:8080/"
        },
        "id": "FHFnJjsfxQsd",
        "outputId": "08adba09-2680-451f-f1dd-457f910356a3"
      },
      "outputs": [
        {
          "output_type": "execute_result",
          "data": {
            "text/plain": [
              "9.73512347450521e-15"
            ]
          },
          "metadata": {},
          "execution_count": 24
        }
      ],
      "source": [
        "mean_absolute_error(df_0_filled['rougher.output.recovery'], \\\n",
        "                    df_0_filled['rougher.calculation.recovery_au'])"
      ]
    },
    {
      "cell_type": "markdown",
      "metadata": {
        "id": "rSW8HFzPxQsd"
      },
      "source": [
        "MAE between the calculated and the available values of rougher.output.recovery tends to zero, the average values in the columns are the same."
      ]
    },
    {
      "cell_type": "markdown",
      "metadata": {
        "id": "X3FbD8TGxQse"
      },
      "source": [
        "## Data analysis"
      ]
    },
    {
      "cell_type": "markdown",
      "metadata": {
        "id": "XS8PJOckxQse"
      },
      "source": [
        "Find the names of the columns that contain data on the output concentrations of the metals:"
      ]
    },
    {
      "cell_type": "code",
      "execution_count": 25,
      "metadata": {
        "colab": {
          "base_uri": "https://localhost:8080/"
        },
        "id": "CuIJxrS3xQse",
        "outputId": "86aeaafd-38cd-43ec-ef1f-56c28f6f12d6"
      },
      "outputs": [
        {
          "output_type": "execute_result",
          "data": {
            "text/plain": [
              "Index(['final.output.concentrate_ag', 'final.output.concentrate_pb',\n",
              "       'final.output.concentrate_sol', 'final.output.concentrate_au',\n",
              "       'primary_cleaner.output.concentrate_ag',\n",
              "       'primary_cleaner.output.concentrate_pb',\n",
              "       'primary_cleaner.output.concentrate_sol',\n",
              "       'primary_cleaner.output.concentrate_au',\n",
              "       'rougher.output.concentrate_ag', 'rougher.output.concentrate_pb',\n",
              "       'rougher.output.concentrate_sol', 'rougher.output.concentrate_au'],\n",
              "      dtype='object')"
            ]
          },
          "metadata": {},
          "execution_count": 25
        }
      ],
      "source": [
        "df_0_filled.filter(regex='output.concentrate', axis=\"columns\").columns"
      ]
    },
    {
      "cell_type": "markdown",
      "metadata": {
        "id": "4JWgPkhaxQse"
      },
      "source": [
        "### Analysis of the change in the concentration of metals in different purification stages"
      ]
    },
    {
      "cell_type": "markdown",
      "metadata": {
        "id": "K9Fg3AhPxQse"
      },
      "source": [
        "Let's analyze the concentrations at different stages by visually evaluating the distributions of their values"
      ]
    },
    {
      "cell_type": "code",
      "execution_count": 26,
      "metadata": {
        "colab": {
          "base_uri": "https://localhost:8080/",
          "height": 444
        },
        "id": "cxpaxwO3xQse",
        "outputId": "741af710-a169-4aba-d2ff-7eb2bee1f454"
      },
      "outputs": [
        {
          "output_type": "display_data",
          "data": {
            "text/plain": [
              "<Figure size 1080x504 with 1 Axes>"
            ],
            "image/png": "[encoded data removed]"
          },
          "metadata": {
            "needs_background": "light"
          }
        }
      ],
      "source": [
        "bins=20\n",
        "plt.figure(figsize=(15,7))\n",
        "plt.title('Changes of gold concentration at different purification stages')\n",
        "plt.hist(df_0_filled['rougher.output.concentrate_au'], \n",
        "         bins=bins, alpha=0.7, label='Gold concentration after flotation')\n",
        "plt.hist(df_0_filled['primary_cleaner.output.concentrate_au'], \n",
        "         bins=bins, alpha=0.7, label='Gold concentration after first purification')\n",
        "plt.hist(df_0_filled['final.output.concentrate_au'], \n",
        "         bins=bins, alpha=0.7, label='Gold concentration after second purification')\n",
        "plt.legend(loc='upper left')\n",
        "plt.show()"
      ]
    },
    {
      "cell_type": "code",
      "execution_count": 27,
      "metadata": {
        "colab": {
          "base_uri": "https://localhost:8080/"
        },
        "id": "WY5xmShgxQse",
        "outputId": "79cf1f73-1446-4390-fa76-6c85e08db88f"
      },
      "outputs": [
        {
          "output_type": "execute_result",
          "data": {
            "text/plain": [
              "19.43995785143646"
            ]
          },
          "metadata": {},
          "execution_count": 27
        }
      ],
      "source": [
        "df_0_filled['rougher.output.concentrate_au'].mean()"
      ]
    },
    {
      "cell_type": "code",
      "execution_count": 28,
      "metadata": {
        "colab": {
          "base_uri": "https://localhost:8080/"
        },
        "id": "8WlxKSajxQse",
        "outputId": "634f7911-dae7-45a8-d32a-b2f0024db2fd"
      },
      "outputs": [
        {
          "output_type": "execute_result",
          "data": {
            "text/plain": [
              "32.386835978391346"
            ]
          },
          "metadata": {},
          "execution_count": 28
        }
      ],
      "source": [
        "df_0_filled['primary_cleaner.output.concentrate_au'].mean()"
      ]
    },
    {
      "cell_type": "code",
      "execution_count": 29,
      "metadata": {
        "colab": {
          "base_uri": "https://localhost:8080/"
        },
        "id": "0359jY9_xQse",
        "outputId": "848e6438-6bb8-492e-ea58-edb3b3dcd8e5"
      },
      "outputs": [
        {
          "output_type": "execute_result",
          "data": {
            "text/plain": [
              "44.00379162105571"
            ]
          },
          "metadata": {},
          "execution_count": 29
        }
      ],
      "source": [
        "df_0_filled['final.output.concentrate_au'].mean()"
      ]
    },
    {
      "cell_type": "code",
      "execution_count": 30,
      "metadata": {
        "colab": {
          "base_uri": "https://localhost:8080/",
          "height": 444
        },
        "id": "xIW4K-thxQsf",
        "outputId": "a23afa27-402e-4991-ac8e-309fbef972ad"
      },
      "outputs": [
        {
          "output_type": "display_data",
          "data": {
            "text/plain": [
              "<Figure size 1080x504 with 1 Axes>"
            ],
            "image/png": "[encoded data removed]"
          },
          "metadata": {
            "needs_background": "light"
          }
        }
      ],
      "source": [
        "bins=20\n",
        "plt.figure(figsize=(15,7))\n",
        "plt.title('Changes of silver concentration at different purification stages')\n",
        "plt.hist(df_0_filled['rougher.output.concentrate_ag'], \n",
        "         bins=bins, alpha=0.7, label='Silver concentration after flotation')\n",
        "plt.hist(df_0_filled['primary_cleaner.output.concentrate_ag'], \n",
        "         bins=bins, alpha=0.7, label='Silver concentration after first purification')\n",
        "plt.hist(df_0_filled['final.output.concentrate_ag'], \n",
        "         bins=bins, alpha=0.7, label='Silver concentration after second purification')\n",
        "plt.legend(loc='upper left')\n",
        "plt.show()"
      ]
    },
    {
      "cell_type": "code",
      "execution_count": 31,
      "metadata": {
        "colab": {
          "base_uri": "https://localhost:8080/",
          "height": 444
        },
        "id": "eh2g3I-IxQsf",
        "outputId": "582ef8a9-cd17-4bb2-e687-711e328f9dff"
      },
      "outputs": [
        {
          "output_type": "display_data",
          "data": {
            "text/plain": [
              "<Figure size 1080x504 with 1 Axes>"
            ],
            "image/png": "[encoded data removed]"
          },
          "metadata": {
            "needs_background": "light"
          }
        }
      ],
      "source": [
        "bins=20\n",
        "plt.figure(figsize=(15,7))\n",
        "plt.title('Changes of lead (plumbum) concentration at different purification stages')\n",
        "plt.hist(df_0_filled['rougher.output.concentrate_pb'], \n",
        "         bins=bins, alpha=0.7, label='Lead concentration after flotation')\n",
        "plt.hist(df_0_filled['primary_cleaner.output.concentrate_pb'], \n",
        "         bins=bins, alpha=0.7, label='Lead concentration after first purification')\n",
        "plt.hist(df_0_filled['final.output.concentrate_pb'], \n",
        "         bins=bins, alpha=0.7, label='Lead concentration after second purification')\n",
        "plt.legend(loc='upper left')\n",
        "plt.show()"
      ]
    },
    {
      "cell_type": "markdown",
      "metadata": {
        "id": "pVk4lqhbxQsf"
      },
      "source": [
        "The gold concentration increases significantly with the processing stages, the concentrations of the impurities change much less."
      ]
    },
    {
      "cell_type": "markdown",
      "metadata": {
        "id": "iImQRQ--xQsf"
      },
      "source": [
        "### Comparison of granule sizes of raw materials in samples"
      ]
    },
    {
      "cell_type": "markdown",
      "metadata": {
        "id": "F_XtIud6xQsf"
      },
      "source": [
        "Let's compare the sizes of raw material granules in the train and test samples"
      ]
    },
    {
      "cell_type": "code",
      "execution_count": 32,
      "metadata": {
        "colab": {
          "base_uri": "https://localhost:8080/"
        },
        "id": "4cw9pl1zxQsf",
        "outputId": "381b5b87-45f4-4676-d143-dd7522986c1f"
      },
      "outputs": [
        {
          "output_type": "execute_result",
          "data": {
            "text/plain": [
              "Index(['primary_cleaner.input.feed_size', 'rougher.input.feed_size'], dtype='object')"
            ]
          },
          "metadata": {},
          "execution_count": 32
        }
      ],
      "source": [
        "df_0_filled.filter(regex='feed_size', axis=\"columns\").columns"
      ]
    },
    {
      "cell_type": "code",
      "execution_count": 33,
      "metadata": {
        "colab": {
          "base_uri": "https://localhost:8080/",
          "height": 444
        },
        "id": "JLv21iMOxQsf",
        "outputId": "e39e261d-d2c1-459e-ff1d-85bfded63cd0"
      },
      "outputs": [
        {
          "output_type": "display_data",
          "data": {
            "text/plain": [
              "<Figure size 1080x504 with 1 Axes>"
            ],
            "image/png": "[encoded data removed]"
          },
          "metadata": {
            "needs_background": "light"
          }
        }
      ],
      "source": [
        "bins=20\n",
        "plt.figure(figsize=(15,7))\n",
        "plt.title('Comparison of grain sizes of raw materials entering flotation in samples')\n",
        "plt.hist(df_0_filled[df_0_filled['rougher.input.feed_size'] < 300]['rougher.input.feed_size'], \n",
        "         bins=bins, alpha=0.7, \n",
        "         label='The size of the raw material grains entering the flotation in the training sample')\n",
        "plt.hist(df_1_filled[df_1_filled['rougher.input.feed_size'] < 300]['rougher.input.feed_size'], \n",
        "         bins=bins, alpha=0.7, \n",
        "         label='The size of the raw material grains entering the flotation in the test sample')\n",
        "plt.legend(loc='upper right')\n",
        "plt.show()"
      ]
    },
    {
      "cell_type": "code",
      "execution_count": 34,
      "metadata": {
        "colab": {
          "base_uri": "https://localhost:8080/"
        },
        "id": "H8JS1Gq7xQsf",
        "outputId": "fa53e814-b1dd-42c9-d952-cf0ec63795dd"
      },
      "outputs": [
        {
          "output_type": "execute_result",
          "data": {
            "text/plain": [
              "60.033540906765616"
            ]
          },
          "metadata": {},
          "execution_count": 34
        }
      ],
      "source": [
        "df_0_filled['rougher.input.feed_size'].mean()"
      ]
    },
    {
      "cell_type": "code",
      "execution_count": 35,
      "metadata": {
        "colab": {
          "base_uri": "https://localhost:8080/"
        },
        "id": "4vJeVpU8xQsf",
        "outputId": "852d921c-862e-46e6-fe14-e26069bb17a3"
      },
      "outputs": [
        {
          "output_type": "execute_result",
          "data": {
            "text/plain": [
              "55.95283531239522"
            ]
          },
          "metadata": {},
          "execution_count": 35
        }
      ],
      "source": [
        "df_1_filled['rougher.input.feed_size'].mean()"
      ]
    },
    {
      "cell_type": "code",
      "execution_count": 36,
      "metadata": {
        "colab": {
          "base_uri": "https://localhost:8080/"
        },
        "id": "OopVvNsRxQsf",
        "outputId": "d5b14990-38b9-4021-c7d9-eaff220e0d82"
      },
      "outputs": [
        {
          "output_type": "execute_result",
          "data": {
            "text/plain": [
              "1.0729311673231043"
            ]
          },
          "metadata": {},
          "execution_count": 36
        }
      ],
      "source": [
        "df_0_filled['rougher.input.feed_size'].mean() / df_1_filled['rougher.input.feed_size'].mean()"
      ]
    },
    {
      "cell_type": "markdown",
      "metadata": {
        "id": "z3PLJLyCxQsf"
      },
      "source": [
        "The average size of grains entering the first stage of production differs by 7.29% among the samples."
      ]
    },
    {
      "cell_type": "code",
      "execution_count": 37,
      "metadata": {
        "colab": {
          "base_uri": "https://localhost:8080/",
          "height": 499
        },
        "id": "Z4A5iAWExQsg",
        "outputId": "52f76f88-6c2f-4d02-a066-4e4d98d1545f"
      },
      "outputs": [
        {
          "output_type": "display_data",
          "data": {
            "text/plain": [
              "<Figure size 1080x576 with 1 Axes>"
            ],
            "image/png": "[encoded data removed]"
          },
          "metadata": {
            "needs_background": "light"
          }
        }
      ],
      "source": [
        "bins=20\n",
        "plt.figure(figsize=(15,8))\n",
        "plt.title('Comparison of grain sizes of raw materials fed to primary treatment in samples')\n",
        "plt.hist(df_0_filled['primary_cleaner.input.feed_size'], \n",
        "         bins=bins, alpha=0.7, \n",
        "         label='The size of the grains of raw materials entering the primary treatment in the training sample.')\n",
        "plt.hist(df_1_filled['primary_cleaner.input.feed_size'], \n",
        "         bins=bins, alpha=0.7, \n",
        "         label='The size of the grains of raw materials entering the primary treatment in the test sample.')\n",
        "plt.legend(loc='upper left')\n",
        "plt.show()"
      ]
    },
    {
      "cell_type": "code",
      "execution_count": 38,
      "metadata": {
        "colab": {
          "base_uri": "https://localhost:8080/"
        },
        "id": "ZgNbbcTfxQsg",
        "outputId": "7a4e5368-bd98-4ca9-c6c5-ff9ba6ab5eed"
      },
      "outputs": [
        {
          "output_type": "execute_result",
          "data": {
            "text/plain": [
              "7.322309906901314"
            ]
          },
          "metadata": {},
          "execution_count": 38
        }
      ],
      "source": [
        "df_0_filled['primary_cleaner.input.feed_size'].mean()"
      ]
    },
    {
      "cell_type": "code",
      "execution_count": 39,
      "metadata": {
        "colab": {
          "base_uri": "https://localhost:8080/"
        },
        "id": "yDsZMFPdxQsg",
        "outputId": "cb828984-1494-4f9b-e0ef-0a80d31cf177"
      },
      "outputs": [
        {
          "output_type": "execute_result",
          "data": {
            "text/plain": [
              "7.266339191270906"
            ]
          },
          "metadata": {},
          "execution_count": 39
        }
      ],
      "source": [
        "df_1_filled['primary_cleaner.input.feed_size'].mean()"
      ]
    },
    {
      "cell_type": "code",
      "execution_count": 40,
      "metadata": {
        "colab": {
          "base_uri": "https://localhost:8080/"
        },
        "id": "uFvFYFm5xQsg",
        "outputId": "583ec34e-040d-4bbf-cbdd-b161f6b9b7db"
      },
      "outputs": [
        {
          "output_type": "execute_result",
          "data": {
            "text/plain": [
              "1.007702739186418"
            ]
          },
          "metadata": {},
          "execution_count": 40
        }
      ],
      "source": [
        "df_0_filled['primary_cleaner.input.feed_size'].mean(\n",
        ") / df_1_filled['primary_cleaner.input.feed_size'].mean()"
      ]
    },
    {
      "cell_type": "markdown",
      "metadata": {
        "id": "p7OJ8FrgxQsg"
      },
      "source": [
        "The average size of grains entering the second stage of production differs by 0.7% among the samples."
      ]
    },
    {
      "cell_type": "markdown",
      "metadata": {
        "id": "88MitaZ5xQsg"
      },
      "source": [
        "Since the task does not specify how large the allowable difference in the size of the grains in the samples may be, we consider it insignificant."
      ]
    },
    {
      "cell_type": "markdown",
      "metadata": {
        "id": "8zYFp7E0xQsg"
      },
      "source": [
        "### Study of the total concentration of substances at different stages of processing"
      ]
    },
    {
      "cell_type": "markdown",
      "metadata": {
        "id": "prWT9Hh7xQsg"
      },
      "source": [
        "Let's determine the total concentrations of the substances and draw diagrams of their changes according to production stages"
      ]
    },
    {
      "cell_type": "code",
      "execution_count": 41,
      "metadata": {
        "colab": {
          "base_uri": "https://localhost:8080/"
        },
        "id": "huWD0nKOxQsg",
        "outputId": "89c6dd78-3010-4f05-d402-5a49c48dcedb"
      },
      "outputs": [
        {
          "output_type": "execute_result",
          "data": {
            "text/plain": [
              "Index(['final.output.concentrate_ag', 'final.output.concentrate_pb',\n",
              "       'final.output.concentrate_sol', 'final.output.concentrate_au',\n",
              "       'primary_cleaner.output.concentrate_ag',\n",
              "       'primary_cleaner.output.concentrate_pb',\n",
              "       'primary_cleaner.output.concentrate_sol',\n",
              "       'primary_cleaner.output.concentrate_au',\n",
              "       'rougher.calculation.sulfate_to_au_concentrate',\n",
              "       'rougher.output.concentrate_ag', 'rougher.output.concentrate_pb',\n",
              "       'rougher.output.concentrate_sol', 'rougher.output.concentrate_au'],\n",
              "      dtype='object')"
            ]
          },
          "metadata": {},
          "execution_count": 41
        }
      ],
      "source": [
        "df_0_filled.filter(regex='concentrate', axis=\"columns\").columns"
      ]
    },
    {
      "cell_type": "code",
      "execution_count": 42,
      "metadata": {
        "id": "vNajwoh0xQsg"
      },
      "outputs": [],
      "source": [
        "sum_au = df_0_filled[['rougher.output.concentrate_au', \\\n",
        "             'primary_cleaner.output.concentrate_au', \\\n",
        "             'final.output.concentrate_au']].sum()"
      ]
    },
    {
      "cell_type": "code",
      "execution_count": 43,
      "metadata": {
        "id": "YWfcvpFMxQsg"
      },
      "outputs": [],
      "source": [
        "sum_ag = df_0_filled[['rougher.output.concentrate_ag', \\\n",
        "             'primary_cleaner.output.concentrate_ag', \\\n",
        "             'final.output.concentrate_ag']].sum()"
      ]
    },
    {
      "cell_type": "code",
      "execution_count": 44,
      "metadata": {
        "id": "HSOdsBmvxQsg"
      },
      "outputs": [],
      "source": [
        "sum_pb = df_0_filled[['rougher.output.concentrate_pb', \\\n",
        "             'primary_cleaner.output.concentrate_pb', \\\n",
        "             'final.output.concentrate_pb']].sum()"
      ]
    },
    {
      "cell_type": "code",
      "execution_count": 45,
      "metadata": {
        "id": "ZobhUONnxQsg"
      },
      "outputs": [],
      "source": [
        "sum_sol = df_0_filled[['rougher.output.concentrate_sol', \\\n",
        "             'primary_cleaner.output.concentrate_sol', \\\n",
        "             'final.output.concentrate_sol']].sum()"
      ]
    },
    {
      "cell_type": "code",
      "execution_count": 46,
      "metadata": {
        "colab": {
          "base_uri": "https://localhost:8080/",
          "height": 444
        },
        "id": "hygPBt6CxQsh",
        "outputId": "71b249cc-840f-4b60-f4d1-03650aeb1ddb"
      },
      "outputs": [
        {
          "output_type": "display_data",
          "data": {
            "text/plain": [
              "<Figure size 864x504 with 1 Axes>"
            ],
            "image/png": "[encoded data removed]"
          },
          "metadata": {
            "needs_background": "light"
          }
        }
      ],
      "source": [
        "x = np.arange(len(sum_ag))\n",
        "labels = ['Flotation', 'First refining', 'Second refining']\n",
        "width = 0.1 \n",
        "fig, ax = plt.subplots(figsize=(12,7))\n",
        "rects1 = ax.bar(x, sum_au, width, label='Au')\n",
        "rects2 = ax.bar(x + width, sum_ag, width, label='Ag')\n",
        "rects3 = ax.bar(x + 2*width, sum_pb, width, label='Pb')\n",
        "rects4 = ax.bar(x + 3*width, sum_sol, width, label='Sol')\n",
        "ax.set_ylabel('Total concentration')\n",
        "ax.set_title('The total concentration of substances at the various stages of processing')\n",
        "ax.legend()\n",
        "plt.xticks(x, labels)\n",
        "\n",
        "plt.show()"
      ]
    },
    {
      "cell_type": "code",
      "execution_count": 47,
      "metadata": {
        "id": "1NNTtZQ5xQsh"
      },
      "outputs": [],
      "source": [
        "df_2_filled['sum_input'] = df_2_filled[['rougher.input.feed_au', 'rougher.input.feed_ag', \\\n",
        "                         'rougher.input.feed_pb']].sum(axis=1)"
      ]
    },
    {
      "cell_type": "code",
      "execution_count": 48,
      "metadata": {
        "id": "XqosevyRxQsh"
      },
      "outputs": [],
      "source": [
        "df_2_filled['sum_rougher'] = df_2_filled[['rougher.output.concentrate_au', 'rougher.output.concentrate_ag', \\\n",
        "                           'rougher.output.concentrate_pb']].sum(axis=1)"
      ]
    },
    {
      "cell_type": "code",
      "execution_count": 49,
      "metadata": {
        "id": "PLvOak7OxQsh"
      },
      "outputs": [],
      "source": [
        "df_2_filled['sum_primary'] = df_2_filled[['primary_cleaner.output.concentrate_au', 'primary_cleaner.output.concentrate_ag', \\\n",
        "              'primary_cleaner.output.concentrate_pb']].sum(axis=1)"
      ]
    },
    {
      "cell_type": "code",
      "execution_count": 50,
      "metadata": {
        "id": "FpRJ7bUSxQsh"
      },
      "outputs": [],
      "source": [
        "df_2_filled['sum_final'] = df_2_filled[['final.output.concentrate_au', 'final.output.concentrate_ag', \\\n",
        "             'final.output.concentrate_pb']].sum(axis=1)"
      ]
    },
    {
      "cell_type": "code",
      "execution_count": 51,
      "metadata": {
        "colab": {
          "base_uri": "https://localhost:8080/",
          "height": 495
        },
        "id": "eJOY7JhNxQsh",
        "outputId": "16f3efdb-7ff1-44e9-c20e-d4aa9c1e6233"
      },
      "outputs": [
        {
          "output_type": "display_data",
          "data": {
            "text/plain": [
              "<Figure size 1296x576 with 1 Axes>"
            ],
            "image/png": "[encoded data removed]"
          },
          "metadata": {
            "needs_background": "light"
          }
        }
      ],
      "source": [
        "ALPHA = 0.5\n",
        "BINS  = 50\n",
        "COLORS = ['sienna', 'lime', 'blue', 'green']\n",
        "\n",
        "fig, ax1 = plt.subplots(figsize=(18,8))\n",
        "ax1.set_title('Summary concentration of the metals', fontsize=16)\n",
        "plt.hist(df_2_filled['sum_input'], color='sienna', bins=BINS, alpha=ALPHA, label='input')\n",
        "plt.hist(df_2_filled['sum_rougher'], color='lime', bins=BINS, alpha=ALPHA, label='rougher')\n",
        "plt.hist(df_2_filled['sum_primary'], color='blue', bins=BINS, alpha=ALPHA, label='primary')\n",
        "plt.hist(df_2_filled['sum_final'], color='green', bins=BINS, alpha=ALPHA, label='final')\n",
        "\n",
        "plt.grid(True)\n",
        "ax1.set_xlabel('concentration', fontsize=14)\n",
        "ax1.set_ylabel('frequency', fontsize=14)\n",
        "ax1.legend(loc='upper left')\n",
        "plt.show()"
      ]
    },
    {
      "cell_type": "markdown",
      "metadata": {
        "id": "w7urJoVXxQsh"
      },
      "source": [
        "The gold concentration increases categorically, which means that the process is effective. The content of Ag and Sol impurities decreases noticeably, while the Pb concentration increases slightly, possibly due to the peculiarities of the process."
      ]
    },
    {
      "cell_type": "markdown",
      "metadata": {
        "id": "u7cmjsHJxQsh"
      },
      "source": [
        "## ML model"
      ]
    },
    {
      "cell_type": "markdown",
      "metadata": {
        "id": "9Bv8-2qQxQsi"
      },
      "source": [
        "### sMAPE calculation function"
      ]
    },
    {
      "cell_type": "markdown",
      "metadata": {
        "id": "g9ThiCJexQsi"
      },
      "source": [
        "The main task metric is the symmetric mean absolute deviation, which we will calculate using the following functions:"
      ]
    },
    {
      "cell_type": "code",
      "execution_count": 52,
      "metadata": {
        "id": "mcN_j-suxQsi"
      },
      "outputs": [],
      "source": [
        "def smape(y_pred, y_true):\n",
        "    \"\"\"sMAPE calculation\"\"\"\n",
        "    return 100/len(y_pred) * np.sum(2 * np.abs(y_true - y_pred) / (np.abs(y_pred) + np.abs(y_true)))"
      ]
    },
    {
      "cell_type": "code",
      "execution_count": 53,
      "metadata": {
        "id": "x15k0U1wxQsi"
      },
      "outputs": [],
      "source": [
        "def final_smape(y_true_rougher, y_true_final, y_pred_rougher, y_pred_final):\n",
        "    \"\"\"Final sMAPE calculation\"\"\"\n",
        "    return (.25 * smape(y_true_rougher, y_pred_rougher) + .75 * smape(y_true_final, y_pred_final))"
      ]
    },
    {
      "cell_type": "markdown",
      "metadata": {
        "id": "doMhSuEaxQsi"
      },
      "source": [
        "### Preparing data for the models creation"
      ]
    },
    {
      "cell_type": "markdown",
      "metadata": {
        "id": "knNIJzLyxQsi"
      },
      "source": [
        "#### rougher.output.recovery"
      ]
    },
    {
      "cell_type": "markdown",
      "metadata": {
        "id": "oC-TqQB3xQsi"
      },
      "source": [
        "To predict the rougher.output.recovery parameter, we will use the features that are available in the test dataset and correspond to a particular phase of the workflow."
      ]
    },
    {
      "cell_type": "code",
      "execution_count": 54,
      "metadata": {
        "id": "iaY0dtgDxQsi"
      },
      "outputs": [],
      "source": [
        "rougher_columns = []\n",
        "for col in df_0_filled.columns:\n",
        "    if 'rougher.input' in col or 'rougher.state' in col or 'rougher.output.recovery' in col:\n",
        "        rougher_columns.append(col)"
      ]
    },
    {
      "cell_type": "code",
      "execution_count": 55,
      "metadata": {
        "id": "m95gLzOnxQsi"
      },
      "outputs": [],
      "source": [
        "rougher_train = df_0_filled[rougher_columns]"
      ]
    },
    {
      "cell_type": "code",
      "execution_count": 56,
      "metadata": {
        "colab": {
          "base_uri": "https://localhost:8080/"
        },
        "id": "rxCiIg0GxQsi",
        "outputId": "19fb62ea-2cb5-445e-edd9-c2d21fd8005e"
      },
      "outputs": [
        {
          "output_type": "execute_result",
          "data": {
            "text/plain": [
              "(14149, 23)"
            ]
          },
          "metadata": {},
          "execution_count": 56
        }
      ],
      "source": [
        "rougher_train.shape"
      ]
    },
    {
      "cell_type": "markdown",
      "metadata": {
        "id": "wSr4zbhTxQsi"
      },
      "source": [
        "Eliminate outliers in the data by discarding values that exceed three standard deviations"
      ]
    },
    {
      "cell_type": "code",
      "execution_count": 57,
      "metadata": {
        "id": "wOKgVNNuxQsi"
      },
      "outputs": [],
      "source": [
        "rougher_train_cut = rougher_train[(np.abs(stats.zscore(rougher_train)) < 3).all(axis=1)]"
      ]
    },
    {
      "cell_type": "markdown",
      "metadata": {
        "id": "kDGoRVcTxQsi"
      },
      "source": [
        "Split the data into features and target sets"
      ]
    },
    {
      "cell_type": "code",
      "execution_count": 58,
      "metadata": {
        "colab": {
          "base_uri": "https://localhost:8080/"
        },
        "id": "zUHFXaVAxQsi",
        "outputId": "c9cada33-25f2-4602-9868-400e17336ed4"
      },
      "outputs": [
        {
          "output_type": "execute_result",
          "data": {
            "text/plain": [
              "[(12712, 22), (12712,)]"
            ]
          },
          "metadata": {},
          "execution_count": 58
        }
      ],
      "source": [
        "rougher_train_features = rougher_train_cut.drop('rougher.output.recovery', axis=1)\n",
        "rougher_train_target = rougher_train_cut['rougher.output.recovery']\n",
        "[rougher_train_features.shape, rougher_train_target.shape]"
      ]
    },
    {
      "cell_type": "markdown",
      "metadata": {
        "id": "A95bE21RxQsj"
      },
      "source": [
        "To check the model against test data, we need the values of the targets obtained from the full data set (df_2)"
      ]
    },
    {
      "cell_type": "code",
      "execution_count": 59,
      "metadata": {
        "id": "-eiETKNBxQsj"
      },
      "outputs": [],
      "source": [
        "rougher_test_target = df_1_filled.index.map(df_2_filled['rougher.output.recovery'])"
      ]
    },
    {
      "cell_type": "markdown",
      "metadata": {
        "id": "WG05QRdhxQsj"
      },
      "source": [
        "Not all columns in the test set are relevant to this process step. Filter out the ones we need."
      ]
    },
    {
      "cell_type": "code",
      "execution_count": 60,
      "metadata": {
        "id": "9ROpHwaKxQsj"
      },
      "outputs": [],
      "source": [
        "rougher_test_features_columns = []\n",
        "for col in df_0_filled.columns:\n",
        "    if 'rougher.input' in col or 'rougher.state' in col:\n",
        "        rougher_test_features_columns.append(col)"
      ]
    },
    {
      "cell_type": "code",
      "execution_count": 61,
      "metadata": {
        "id": "Tc2GJgHOxQsj"
      },
      "outputs": [],
      "source": [
        "rougher_test_features = df_1_filled[rougher_test_features_columns]"
      ]
    },
    {
      "cell_type": "code",
      "execution_count": 62,
      "metadata": {
        "colab": {
          "base_uri": "https://localhost:8080/"
        },
        "id": "-vJgJ7i2xQsj",
        "outputId": "554f170f-594b-4761-9770-cd15877700b5"
      },
      "outputs": [
        {
          "output_type": "execute_result",
          "data": {
            "text/plain": [
              "[(5290,), (5290, 22)]"
            ]
          },
          "metadata": {},
          "execution_count": 62
        }
      ],
      "source": [
        "[rougher_test_target.shape, rougher_test_features.shape]"
      ]
    },
    {
      "cell_type": "markdown",
      "metadata": {
        "id": "4GBpw00VxQsj"
      },
      "source": [
        "#### final.output.recovery"
      ]
    },
    {
      "cell_type": "markdown",
      "metadata": {
        "id": "oB2wooG3xQsj"
      },
      "source": [
        "For the prediction of the final.output.recovery parameter, we use all features that are present in the test data set. The preparation of the data is analogous to the previous section."
      ]
    },
    {
      "cell_type": "code",
      "execution_count": 63,
      "metadata": {
        "id": "tQpe-Jh_xQsj"
      },
      "outputs": [],
      "source": [
        "final_features_columns = df_1_filled.columns"
      ]
    },
    {
      "cell_type": "code",
      "execution_count": 64,
      "metadata": {
        "colab": {
          "base_uri": "https://localhost:8080/"
        },
        "id": "im2kEQt8xQsj",
        "outputId": "c78545d7-468e-4931-dc9e-e15eec959984"
      },
      "outputs": [
        {
          "output_type": "stream",
          "name": "stderr",
          "text": [
            "/usr/local/lib/python3.7/dist-packages/ipykernel_launcher.py:2: SettingWithCopyWarning: \n",
            "A value is trying to be set on a copy of a slice from a DataFrame.\n",
            "Try using .loc[row_indexer,col_indexer] = value instead\n",
            "\n",
            "See the caveats in the documentation: https://pandas.pydata.org/pandas-docs/stable/user_guide/indexing.html#returning-a-view-versus-a-copy\n",
            "  \n"
          ]
        },
        {
          "output_type": "execute_result",
          "data": {
            "text/plain": [
              "[(10313, 52), (10313,)]"
            ]
          },
          "metadata": {},
          "execution_count": 64
        }
      ],
      "source": [
        "final_train = df_0_filled[final_features_columns]\n",
        "final_train['final.output.recovery'] = final_train.index.map(df_0_filled['final.output.recovery'])\n",
        "final_train_cut = final_train[(np.abs(stats.zscore(final_train)) < 3).all(axis=1)]\n",
        "final_train_features = final_train_cut.drop('final.output.recovery', axis=1)\n",
        "final_train_target = final_train_cut['final.output.recovery']\n",
        "[final_train_features.shape, final_train_target.shape]"
      ]
    },
    {
      "cell_type": "code",
      "execution_count": 65,
      "metadata": {
        "id": "8DJEu8KuxQsj"
      },
      "outputs": [],
      "source": [
        "final_test_features = df_1_filled"
      ]
    },
    {
      "cell_type": "code",
      "execution_count": 66,
      "metadata": {
        "id": "kXlAwEkcxQsj"
      },
      "outputs": [],
      "source": [
        "final_test_target = df_1.index.map(df_2['final.output.recovery'])"
      ]
    },
    {
      "cell_type": "markdown",
      "metadata": {
        "id": "6oYOOV6SxQsk"
      },
      "source": [
        "### Creating and validating models"
      ]
    },
    {
      "cell_type": "markdown",
      "metadata": {
        "id": "vpENT35fxQsk"
      },
      "source": [
        "To evaluate models for cross-validation, we use the previously written function smape"
      ]
    },
    {
      "cell_type": "code",
      "execution_count": 67,
      "metadata": {
        "id": "oyYzN_RNxQsk"
      },
      "outputs": [],
      "source": [
        "scorer = make_scorer(smape)"
      ]
    },
    {
      "cell_type": "markdown",
      "metadata": {
        "id": "jNAu7cO2xQsk"
      },
      "source": [
        "#### rougher.output.recovery"
      ]
    },
    {
      "cell_type": "markdown",
      "metadata": {
        "id": "1xa3AokixQsk"
      },
      "source": [
        "We will use two types of models - LinearRegression and RandomForestRegressor. In linear regression, it is desirable to use feature scaling. Random Forests do not require this."
      ]
    },
    {
      "cell_type": "code",
      "execution_count": 68,
      "metadata": {
        "id": "nucDZ3baxQsk"
      },
      "outputs": [],
      "source": [
        "scaler = StandardScaler()\n",
        "rougher_train_features_scaled = scaler.fit_transform(rougher_train_features)\n",
        "rougher_test_features_scaled = scaler.fit_transform(rougher_test_features)"
      ]
    },
    {
      "cell_type": "code",
      "execution_count": 69,
      "metadata": {
        "id": "wRVyKdzpxQsk"
      },
      "outputs": [],
      "source": [
        "rougher_linear_model = LinearRegression()\n",
        "score = cross_val_score(rougher_linear_model, rougher_train_features_scaled, \n",
        "                        rougher_train_target, scoring=scorer, cv=5)"
      ]
    },
    {
      "cell_type": "code",
      "execution_count": 70,
      "metadata": {
        "colab": {
          "base_uri": "https://localhost:8080/"
        },
        "id": "Gek25Dp6xQsk",
        "outputId": "336ede81-1306-4dd2-cc31-977f3c4dd231"
      },
      "outputs": [
        {
          "output_type": "stream",
          "name": "stdout",
          "text": [
            "smape of a linear model: 6.12\n"
          ]
        }
      ],
      "source": [
        "print(f'smape of a linear model: {score.mean():.2f}')"
      ]
    },
    {
      "cell_type": "markdown",
      "metadata": {
        "id": "ra27ng6AxQsk"
      },
      "source": [
        "Let's check the model on the test data:"
      ]
    },
    {
      "cell_type": "code",
      "execution_count": 71,
      "metadata": {
        "colab": {
          "base_uri": "https://localhost:8080/"
        },
        "id": "UbUV9alTxQsk",
        "outputId": "fde47f4c-9e01-4e16-f7c1-9a2dfd272552"
      },
      "outputs": [
        {
          "output_type": "execute_result",
          "data": {
            "text/plain": [
              "LinearRegression()"
            ]
          },
          "metadata": {},
          "execution_count": 71
        }
      ],
      "source": [
        "rougher_linear_model.fit(rougher_train_features_scaled, rougher_train_target)"
      ]
    },
    {
      "cell_type": "code",
      "execution_count": 72,
      "metadata": {
        "id": "N7MG3N36xQsk"
      },
      "outputs": [],
      "source": [
        "predictions = rougher_linear_model.predict(rougher_test_features_scaled)"
      ]
    },
    {
      "cell_type": "code",
      "source": [
        "rougher_test_target"
      ],
      "metadata": {
        "colab": {
          "base_uri": "https://localhost:8080/"
        },
        "id": "8PXFNkw27mX9",
        "outputId": "504c8292-f8ea-48fd-ef1b-90916df0c33a"
      },
      "execution_count": 73,
      "outputs": [
        {
          "output_type": "execute_result",
          "data": {
            "text/plain": [
              "Float64Index([89.99342112260429, 88.08965689510065, 88.41275561758822,\n",
              "               87.3601333173873, 83.23636747470186, 79.61386666086598,\n",
              "              79.95783870575406, 82.18321716985017, 83.53118369066898,\n",
              "              78.72803511430371,\n",
              "              ...\n",
              "               94.7633765758678,  93.7942367998863,  93.8288655379191,\n",
              "              94.66951796240824,  95.1992498197152, 95.17258530001956,\n",
              "               94.5750361072442, 93.01813838693758,  92.5990422225354,\n",
              "              91.17769479910255],\n",
              "             dtype='float64', name='date', length=5290)"
            ]
          },
          "metadata": {},
          "execution_count": 73
        }
      ]
    },
    {
      "cell_type": "code",
      "execution_count": 74,
      "metadata": {
        "colab": {
          "base_uri": "https://localhost:8080/"
        },
        "id": "eW1zVg6xxQsk",
        "outputId": "a42b4192-4a0f-4648-8bc6-0ed9b7674898"
      },
      "outputs": [
        {
          "output_type": "execute_result",
          "data": {
            "text/plain": [
              "8.583810801835282"
            ]
          },
          "metadata": {},
          "execution_count": 74
        }
      ],
      "source": [
        "smape(predictions, rougher_test_target)"
      ]
    },
    {
      "cell_type": "markdown",
      "metadata": {
        "id": "sp82DETSxQsk"
      },
      "source": [
        "In the test data, the value of the metric is slightly worse."
      ]
    },
    {
      "cell_type": "markdown",
      "metadata": {
        "id": "Xff8AW9LxQsk"
      },
      "source": [
        "To create a RandomForestRegressor model, we will create a function to select hyperparameters by cross-validation (we could also use GridSearchCV)"
      ]
    },
    {
      "cell_type": "code",
      "execution_count": 75,
      "metadata": {
        "id": "8tJ2UBhYxQsk"
      },
      "outputs": [],
      "source": [
        "def find_best_params(X_train, y_train):\n",
        "    \"\"\"Random forest hyperparameter fitting function\"\"\"\n",
        "    best_score = np.inf\n",
        "    best_depth = 0\n",
        "    best_est = 0\n",
        "    for estimators in range(10, 100, 20):\n",
        "        for depth in range(5,16,5):\n",
        "            forest_model = RandomForestRegressor(\n",
        "                n_estimators=estimators, max_depth=depth, random_state=23)\n",
        "            scorer = make_scorer(smape) \n",
        "            score = cross_val_score(forest_model, X_train, y_train, scoring=scorer, cv=5)\n",
        "            if np.mean(score) < best_score:\n",
        "                best_score = np.mean(score)\n",
        "                best_est = estimators\n",
        "                best_depth = depth\n",
        "            print(f'score = {np.mean(score):.2f}, est = {estimators}, depth = {depth}')\n",
        "    model = RandomForestRegressor(\n",
        "                n_estimators=best_est, max_depth=best_depth, random_state=23)\n",
        "    model.fit(X_train, y_train)\n",
        "    print(f'best_score = {best_score:.2f}, best_est = {best_est}, best_depth = {best_depth}')\n",
        "    return model"
      ]
    },
    {
      "cell_type": "code",
      "execution_count": 76,
      "metadata": {
        "colab": {
          "base_uri": "https://localhost:8080/"
        },
        "id": "r2MGJbXqxQsl",
        "outputId": "862b112a-7d21-432e-aaa9-8452cc16e5f2"
      },
      "outputs": [
        {
          "output_type": "stream",
          "name": "stdout",
          "text": [
            "score = 6.69, est = 10, depth = 5\n",
            "score = 6.95, est = 10, depth = 10\n",
            "score = 7.04, est = 10, depth = 15\n",
            "score = 6.52, est = 30, depth = 5\n",
            "score = 6.74, est = 30, depth = 10\n",
            "score = 6.75, est = 30, depth = 15\n",
            "score = 6.55, est = 50, depth = 5\n",
            "score = 6.74, est = 50, depth = 10\n",
            "score = 6.73, est = 50, depth = 15\n",
            "score = 6.54, est = 70, depth = 5\n",
            "score = 6.73, est = 70, depth = 10\n",
            "score = 6.71, est = 70, depth = 15\n",
            "score = 6.57, est = 90, depth = 5\n",
            "score = 6.75, est = 90, depth = 10\n",
            "score = 6.72, est = 90, depth = 15\n",
            "best_score = 6.52, best_est = 30, best_depth = 5\n"
          ]
        }
      ],
      "source": [
        "rougher_forest_model = find_best_params(rougher_train_features, rougher_train_target)"
      ]
    },
    {
      "cell_type": "markdown",
      "metadata": {
        "id": "-OYmvva6xQsl"
      },
      "source": [
        "The result of the selected model in cross-validation is slightly worse than that of the linear model. Let's test it with test data:"
      ]
    },
    {
      "cell_type": "code",
      "execution_count": 77,
      "metadata": {
        "id": "sUWS-3HIxQsl"
      },
      "outputs": [],
      "source": [
        "predictions = rougher_forest_model.predict(rougher_test_features)"
      ]
    },
    {
      "cell_type": "code",
      "execution_count": 78,
      "metadata": {
        "colab": {
          "base_uri": "https://localhost:8080/"
        },
        "id": "JNsusah4xQsl",
        "outputId": "94dbfdf7-06ed-4446-ebe7-04909c9934b2"
      },
      "outputs": [
        {
          "output_type": "execute_result",
          "data": {
            "text/plain": [
              "7.9409977898289785"
            ]
          },
          "metadata": {},
          "execution_count": 78
        }
      ],
      "source": [
        "smape(predictions, rougher_test_target)"
      ]
    },
    {
      "cell_type": "markdown",
      "metadata": {
        "id": "qIFj5izpxQsl"
      },
      "source": [
        "At the same time, the model shows the best result on the test data. We will use it to evaluate the final smape."
      ]
    },
    {
      "cell_type": "markdown",
      "metadata": {
        "id": "fn2aTal8xQsl"
      },
      "source": [
        "### Creation of a model for the prediction of the parameter final.output.recovery"
      ]
    },
    {
      "cell_type": "markdown",
      "metadata": {
        "id": "Sr1yn1fFxQsl"
      },
      "source": [
        "To predict final.output.recovery, we will use the previously prepared data and functions for building models."
      ]
    },
    {
      "cell_type": "code",
      "execution_count": 79,
      "metadata": {
        "id": "pRKcxfZPxQsl"
      },
      "outputs": [],
      "source": [
        "final_train_features_scaled = scaler.fit_transform(final_train_features)\n",
        "final_test_features_scaled = scaler.fit_transform(final_test_features)"
      ]
    },
    {
      "cell_type": "code",
      "execution_count": 80,
      "metadata": {
        "id": "KN0DwBBixQsl"
      },
      "outputs": [],
      "source": [
        "final_linear_model = LinearRegression()\n",
        "score = cross_val_score(final_linear_model, final_train_features_scaled, \n",
        "                        final_train_target, scoring=scorer, cv=5)"
      ]
    },
    {
      "cell_type": "code",
      "execution_count": 81,
      "metadata": {
        "colab": {
          "base_uri": "https://localhost:8080/"
        },
        "id": "q79Vsco4xQsl",
        "outputId": "cd72c7ef-719c-4f09-9f7c-b940bf1ff26c"
      },
      "outputs": [
        {
          "output_type": "stream",
          "name": "stdout",
          "text": [
            "smape of linear model: 9.16\n"
          ]
        }
      ],
      "source": [
        "print(f'smape of linear model: {score.mean():.2f}')"
      ]
    },
    {
      "cell_type": "markdown",
      "metadata": {
        "id": "IimMQ0KExQsl"
      },
      "source": [
        "Let's evaluate the model on the test data:"
      ]
    },
    {
      "cell_type": "code",
      "execution_count": 82,
      "metadata": {
        "colab": {
          "base_uri": "https://localhost:8080/"
        },
        "id": "NWF933MNxQsl",
        "outputId": "6b7b31ee-4065-4b73-cfbd-aaf3e8f0c983"
      },
      "outputs": [
        {
          "output_type": "execute_result",
          "data": {
            "text/plain": [
              "LinearRegression()"
            ]
          },
          "metadata": {},
          "execution_count": 82
        }
      ],
      "source": [
        "final_linear_model.fit(final_train_features_scaled, final_train_target)"
      ]
    },
    {
      "cell_type": "code",
      "execution_count": 83,
      "metadata": {
        "id": "KG0rF5KexQsl"
      },
      "outputs": [],
      "source": [
        "predictions = final_linear_model.predict(final_test_features_scaled)"
      ]
    },
    {
      "cell_type": "code",
      "execution_count": 84,
      "metadata": {
        "colab": {
          "base_uri": "https://localhost:8080/"
        },
        "id": "nZO5AqXvxQsl",
        "outputId": "5e4b12c6-b4fe-4599-a3dd-4516b2eb1d95"
      },
      "outputs": [
        {
          "output_type": "execute_result",
          "data": {
            "text/plain": [
              "10.035191183217508"
            ]
          },
          "metadata": {},
          "execution_count": 84
        }
      ],
      "source": [
        "smape(predictions, final_test_target)"
      ]
    },
    {
      "cell_type": "markdown",
      "metadata": {
        "id": "PkkdAeHJxQsm"
      },
      "source": [
        "To create the RandomForestRegressor model, we use the previously created function to select the hyperparameters by cross-validation"
      ]
    },
    {
      "cell_type": "code",
      "execution_count": 85,
      "metadata": {
        "colab": {
          "base_uri": "https://localhost:8080/"
        },
        "id": "t5vXj887xQsm",
        "outputId": "d33c8624-72fc-4de0-ead0-90d6f2442108"
      },
      "outputs": [
        {
          "output_type": "stream",
          "name": "stdout",
          "text": [
            "score = 9.03, est = 10, depth = 5\n",
            "score = 9.30, est = 10, depth = 10\n",
            "score = 9.37, est = 10, depth = 15\n",
            "score = 8.59, est = 30, depth = 5\n",
            "score = 8.71, est = 30, depth = 10\n",
            "score = 8.80, est = 30, depth = 15\n",
            "score = 8.58, est = 50, depth = 5\n",
            "score = 8.65, est = 50, depth = 10\n",
            "score = 8.71, est = 50, depth = 15\n",
            "score = 8.51, est = 70, depth = 5\n",
            "score = 8.52, est = 70, depth = 10\n",
            "score = 8.58, est = 70, depth = 15\n",
            "score = 8.52, est = 90, depth = 5\n",
            "score = 8.57, est = 90, depth = 10\n",
            "score = 8.68, est = 90, depth = 15\n",
            "best_score = 8.51, best_est = 70, best_depth = 5\n"
          ]
        }
      ],
      "source": [
        "final_forest_model = find_best_params(final_train_features, final_train_target)"
      ]
    },
    {
      "cell_type": "code",
      "execution_count": 86,
      "metadata": {
        "id": "P1ILWPInxQsm"
      },
      "outputs": [],
      "source": [
        "final_predictions = final_forest_model.predict(final_test_features)"
      ]
    },
    {
      "cell_type": "code",
      "execution_count": 87,
      "metadata": {
        "colab": {
          "base_uri": "https://localhost:8080/"
        },
        "id": "P8fqX7KTxQsm",
        "outputId": "6cc12aff-027a-46c5-f6d6-288e80ad5fe7"
      },
      "outputs": [
        {
          "output_type": "execute_result",
          "data": {
            "text/plain": [
              "9.3664629914792"
            ]
          },
          "metadata": {},
          "execution_count": 87
        }
      ],
      "source": [
        "smape(final_predictions, final_test_target)"
      ]
    },
    {
      "cell_type": "code",
      "execution_count": 88,
      "metadata": {
        "id": "xLnhNQ_CxQsm"
      },
      "outputs": [],
      "source": [
        "rougher_predictions = rougher_forest_model.predict(rougher_test_features)"
      ]
    },
    {
      "cell_type": "markdown",
      "metadata": {
        "id": "urRBRHKMxQsm"
      },
      "source": [
        "Calculate the final smape for the selected models:"
      ]
    },
    {
      "cell_type": "code",
      "execution_count": 89,
      "metadata": {
        "colab": {
          "base_uri": "https://localhost:8080/"
        },
        "id": "ahZ0VE0zxQsm",
        "outputId": "6f092c1b-0f7e-4ee7-a7d3-1b6780814d9f"
      },
      "outputs": [
        {
          "output_type": "execute_result",
          "data": {
            "text/plain": [
              "9.010096691066645"
            ]
          },
          "metadata": {},
          "execution_count": 89
        }
      ],
      "source": [
        "final_smape(rougher_test_target, final_test_target, rougher_predictions, final_predictions)"
      ]
    },
    {
      "cell_type": "markdown",
      "metadata": {
        "id": "nGAPzVEpxQsm"
      },
      "source": [
        "## Conclusion"
      ]
    },
    {
      "cell_type": "markdown",
      "metadata": {
        "id": "RyUgOGnaxQsm"
      },
      "source": [
        "The work was carried out to analyze data on the parameters of the technological process of enrichment of gold ore. Machine learning models were created to predict key features describing the economic component of production based on parameters measured on the production line. The value of the final metric based on the predicted enrichment efficiencies of the raw and final concentrates is 9.01."
      ]
    },
    {
      "cell_type": "code",
      "source": [
        ""
      ],
      "metadata": {
        "id": "khkSTtaFM9pB"
      },
      "execution_count": null,
      "outputs": []
    }
  ],
  "metadata": {
    "ExecuteTimeLog": [
      {
        "duration": 548,
        "start_time": "2022-01-26T10:22:36.940Z"
      },
      {
        "duration": 816,
        "start_time": "2022-01-26T10:23:56.914Z"
      },
      {
        "duration": 17,
        "start_time": "2022-01-26T10:24:07.918Z"
      },
      {
        "duration": 28,
        "start_time": "2022-01-26T10:24:52.907Z"
      },
      {
        "duration": 14,
        "start_time": "2022-01-26T10:25:43.126Z"
      },
      {
        "duration": 7,
        "start_time": "2022-01-26T10:26:26.861Z"
      },
      {
        "duration": 10,
        "start_time": "2022-01-26T10:26:53.184Z"
      },
      {
        "duration": 11,
        "start_time": "2022-01-26T10:27:23.532Z"
      },
      {
        "duration": 10,
        "start_time": "2022-01-26T10:27:38.818Z"
      },
      {
        "duration": 21,
        "start_time": "2022-01-26T10:28:02.466Z"
      },
      {
        "duration": 12,
        "start_time": "2022-01-26T10:28:35.822Z"
      },
      {
        "duration": 14,
        "start_time": "2022-01-26T10:28:54.738Z"
      },
      {
        "duration": 472,
        "start_time": "2022-01-26T10:34:47.702Z"
      },
      {
        "duration": 3,
        "start_time": "2022-01-26T10:59:42.037Z"
      },
      {
        "duration": 290,
        "start_time": "2022-01-26T11:00:31.216Z"
      },
      {
        "duration": 283,
        "start_time": "2022-01-26T11:01:10.278Z"
      },
      {
        "duration": 185,
        "start_time": "2022-01-26T11:01:31.155Z"
      },
      {
        "duration": 338,
        "start_time": "2022-01-26T11:01:46.694Z"
      },
      {
        "duration": 329,
        "start_time": "2022-01-26T11:01:56.836Z"
      },
      {
        "duration": 276,
        "start_time": "2022-01-26T11:02:03.183Z"
      },
      {
        "duration": 989,
        "start_time": "2022-01-26T11:04:59.453Z"
      },
      {
        "duration": 803,
        "start_time": "2022-01-26T11:05:00.444Z"
      },
      {
        "duration": 17,
        "start_time": "2022-01-26T11:05:01.249Z"
      },
      {
        "duration": 57,
        "start_time": "2022-01-26T11:05:01.269Z"
      },
      {
        "duration": 22,
        "start_time": "2022-01-26T11:05:01.328Z"
      },
      {
        "duration": 16,
        "start_time": "2022-01-26T11:05:01.353Z"
      },
      {
        "duration": 30,
        "start_time": "2022-01-26T11:05:01.371Z"
      },
      {
        "duration": 40,
        "start_time": "2022-01-26T11:05:01.403Z"
      },
      {
        "duration": 385,
        "start_time": "2022-01-26T11:05:01.445Z"
      },
      {
        "duration": 291,
        "start_time": "2022-01-26T11:05:01.832Z"
      },
      {
        "duration": 210,
        "start_time": "2022-01-26T11:05:41.433Z"
      },
      {
        "duration": 228,
        "start_time": "2022-01-26T11:06:20.749Z"
      },
      {
        "duration": 203,
        "start_time": "2022-01-26T11:06:38.231Z"
      },
      {
        "duration": 303,
        "start_time": "2022-01-26T11:06:56.989Z"
      },
      {
        "duration": 832,
        "start_time": "2022-01-26T11:17:27.738Z"
      },
      {
        "duration": 332,
        "start_time": "2022-01-26T11:17:32.889Z"
      },
      {
        "duration": 11,
        "start_time": "2022-01-26T11:17:48.608Z"
      },
      {
        "duration": 1106,
        "start_time": "2022-01-26T11:18:23.291Z"
      },
      {
        "duration": 759,
        "start_time": "2022-01-26T11:18:24.399Z"
      },
      {
        "duration": 16,
        "start_time": "2022-01-26T11:18:25.160Z"
      },
      {
        "duration": 39,
        "start_time": "2022-01-26T11:18:25.178Z"
      },
      {
        "duration": 11,
        "start_time": "2022-01-26T11:18:25.219Z"
      },
      {
        "duration": 12,
        "start_time": "2022-01-26T11:18:25.232Z"
      },
      {
        "duration": 734,
        "start_time": "2022-01-26T11:18:25.245Z"
      },
      {
        "duration": 17,
        "start_time": "2022-01-26T11:18:25.981Z"
      },
      {
        "duration": 452,
        "start_time": "2022-01-26T11:18:26.001Z"
      },
      {
        "duration": 18,
        "start_time": "2022-01-26T11:18:26.456Z"
      },
      {
        "duration": 23,
        "start_time": "2022-01-26T11:18:26.476Z"
      },
      {
        "duration": 280,
        "start_time": "2022-01-26T11:18:26.501Z"
      },
      {
        "duration": 270,
        "start_time": "2022-01-26T11:18:26.782Z"
      },
      {
        "duration": 240,
        "start_time": "2022-01-26T11:19:34.510Z"
      },
      {
        "duration": 3,
        "start_time": "2022-01-26T11:20:22.789Z"
      },
      {
        "duration": 183,
        "start_time": "2022-01-26T11:20:28.105Z"
      },
      {
        "duration": 218,
        "start_time": "2022-01-26T11:21:05.897Z"
      },
      {
        "duration": 245,
        "start_time": "2022-01-26T11:21:36.495Z"
      },
      {
        "duration": 421,
        "start_time": "2022-01-26T11:21:54.163Z"
      },
      {
        "duration": 361,
        "start_time": "2022-01-26T11:23:04.776Z"
      },
      {
        "duration": 191,
        "start_time": "2022-01-26T11:23:20.602Z"
      },
      {
        "duration": 238,
        "start_time": "2022-01-26T11:23:32.737Z"
      },
      {
        "duration": 348,
        "start_time": "2022-01-26T11:23:54.700Z"
      },
      {
        "duration": 217,
        "start_time": "2022-01-26T11:24:07.854Z"
      },
      {
        "duration": 359,
        "start_time": "2022-01-26T11:24:29.527Z"
      },
      {
        "duration": 344,
        "start_time": "2022-01-26T11:24:34.972Z"
      },
      {
        "duration": 368,
        "start_time": "2022-01-26T11:25:30.063Z"
      },
      {
        "duration": 346,
        "start_time": "2022-01-26T11:27:23.841Z"
      },
      {
        "duration": 354,
        "start_time": "2022-01-26T11:27:34.864Z"
      },
      {
        "duration": 297,
        "start_time": "2022-01-26T11:27:47.497Z"
      },
      {
        "duration": 363,
        "start_time": "2022-01-26T11:27:54.972Z"
      },
      {
        "duration": 781,
        "start_time": "2022-01-26T11:28:38.733Z"
      },
      {
        "duration": 779,
        "start_time": "2022-01-26T11:29:11.789Z"
      },
      {
        "duration": 968,
        "start_time": "2022-01-26T11:29:51.024Z"
      },
      {
        "duration": 2887,
        "start_time": "2022-01-26T11:30:14.491Z"
      },
      {
        "duration": 568,
        "start_time": "2022-01-26T11:31:45.403Z"
      },
      {
        "duration": 1246,
        "start_time": "2022-01-26T11:31:54.416Z"
      },
      {
        "duration": 1381,
        "start_time": "2022-01-26T11:32:35.251Z"
      },
      {
        "duration": 1849,
        "start_time": "2022-01-26T11:32:50.613Z"
      },
      {
        "duration": 3604,
        "start_time": "2022-01-26T11:33:07.093Z"
      },
      {
        "duration": 27,
        "start_time": "2022-01-26T11:34:41.619Z"
      },
      {
        "duration": 11,
        "start_time": "2022-01-26T11:34:48.997Z"
      },
      {
        "duration": 12,
        "start_time": "2022-01-26T11:34:55.475Z"
      },
      {
        "duration": 11,
        "start_time": "2022-01-26T11:35:04.645Z"
      },
      {
        "duration": 11,
        "start_time": "2022-01-26T11:35:19.989Z"
      },
      {
        "duration": 284,
        "start_time": "2022-01-26T11:39:19.665Z"
      },
      {
        "duration": 282,
        "start_time": "2022-01-26T11:39:52.323Z"
      },
      {
        "duration": 540,
        "start_time": "2022-01-26T11:40:52.226Z"
      },
      {
        "duration": 465,
        "start_time": "2022-01-26T11:40:58.356Z"
      },
      {
        "duration": 266,
        "start_time": "2022-01-26T11:42:25.631Z"
      },
      {
        "duration": 268,
        "start_time": "2022-01-26T11:42:44.815Z"
      },
      {
        "duration": 269,
        "start_time": "2022-01-26T11:44:28.537Z"
      },
      {
        "duration": 253,
        "start_time": "2022-01-26T11:44:47.130Z"
      },
      {
        "duration": 357,
        "start_time": "2022-01-26T11:44:50.658Z"
      },
      {
        "duration": 1120,
        "start_time": "2022-01-26T14:58:44.293Z"
      },
      {
        "duration": 850,
        "start_time": "2022-01-26T14:58:45.415Z"
      },
      {
        "duration": 17,
        "start_time": "2022-01-26T14:58:46.267Z"
      },
      {
        "duration": 25,
        "start_time": "2022-01-26T14:58:46.297Z"
      },
      {
        "duration": 17,
        "start_time": "2022-01-26T14:58:46.324Z"
      },
      {
        "duration": 790,
        "start_time": "2022-01-26T14:58:46.342Z"
      },
      {
        "duration": 8,
        "start_time": "2022-01-26T14:58:47.134Z"
      },
      {
        "duration": 273,
        "start_time": "2022-01-26T14:58:47.145Z"
      },
      {
        "duration": 259,
        "start_time": "2022-01-26T14:58:47.420Z"
      },
      {
        "duration": 298,
        "start_time": "2022-01-26T14:58:47.681Z"
      },
      {
        "duration": 257,
        "start_time": "2022-01-26T14:58:47.981Z"
      },
      {
        "duration": 261,
        "start_time": "2022-01-26T14:58:48.239Z"
      },
      {
        "duration": 814,
        "start_time": "2022-01-26T14:58:48.502Z"
      },
      {
        "duration": 11,
        "start_time": "2022-01-26T14:58:49.318Z"
      },
      {
        "duration": 262,
        "start_time": "2022-01-26T14:58:49.331Z"
      },
      {
        "duration": 5,
        "start_time": "2022-01-26T15:10:25.963Z"
      },
      {
        "duration": 66,
        "start_time": "2022-01-26T15:22:05.815Z"
      },
      {
        "duration": 201,
        "start_time": "2022-01-26T15:23:16.575Z"
      },
      {
        "duration": 3,
        "start_time": "2022-01-26T15:23:31.010Z"
      },
      {
        "duration": 4,
        "start_time": "2022-01-26T15:23:42.808Z"
      },
      {
        "duration": 3,
        "start_time": "2022-01-26T15:25:13.164Z"
      },
      {
        "duration": 6,
        "start_time": "2022-01-26T15:25:15.873Z"
      },
      {
        "duration": 3,
        "start_time": "2022-01-26T15:25:33.474Z"
      },
      {
        "duration": 4,
        "start_time": "2022-01-26T15:25:36.535Z"
      },
      {
        "duration": 4,
        "start_time": "2022-01-26T15:26:01.211Z"
      },
      {
        "duration": 4,
        "start_time": "2022-01-26T15:26:04.417Z"
      },
      {
        "duration": 5,
        "start_time": "2022-01-26T15:26:18.160Z"
      },
      {
        "duration": 9,
        "start_time": "2022-01-26T15:26:29.510Z"
      },
      {
        "duration": 4,
        "start_time": "2022-01-26T15:27:29.311Z"
      },
      {
        "duration": 4,
        "start_time": "2022-01-26T15:27:46.297Z"
      },
      {
        "duration": 5,
        "start_time": "2022-01-26T15:28:16.145Z"
      },
      {
        "duration": 6,
        "start_time": "2022-01-26T15:28:19.217Z"
      },
      {
        "duration": 5,
        "start_time": "2022-01-26T15:28:19.801Z"
      },
      {
        "duration": 11,
        "start_time": "2022-01-26T15:28:30.400Z"
      },
      {
        "duration": 210,
        "start_time": "2022-01-26T15:28:59.828Z"
      },
      {
        "duration": 19,
        "start_time": "2022-01-26T15:29:41.621Z"
      },
      {
        "duration": 115,
        "start_time": "2022-01-26T15:39:45.653Z"
      },
      {
        "duration": 6,
        "start_time": "2022-01-26T15:39:58.372Z"
      },
      {
        "duration": 6,
        "start_time": "2022-01-26T15:40:36.482Z"
      },
      {
        "duration": 5,
        "start_time": "2022-01-26T15:41:10.226Z"
      },
      {
        "duration": 5,
        "start_time": "2022-01-26T15:41:22.633Z"
      },
      {
        "duration": 5,
        "start_time": "2022-01-26T15:41:23.407Z"
      },
      {
        "duration": 5,
        "start_time": "2022-01-26T15:41:25.596Z"
      },
      {
        "duration": 6,
        "start_time": "2022-01-26T16:01:31.676Z"
      },
      {
        "duration": 244,
        "start_time": "2022-01-26T16:02:33.299Z"
      },
      {
        "duration": 209,
        "start_time": "2022-01-26T16:02:47.522Z"
      },
      {
        "duration": 220,
        "start_time": "2022-01-26T16:03:15.286Z"
      },
      {
        "duration": 1100,
        "start_time": "2022-01-26T16:03:42.406Z"
      },
      {
        "duration": 772,
        "start_time": "2022-01-26T16:03:43.508Z"
      },
      {
        "duration": 19,
        "start_time": "2022-01-26T16:03:44.282Z"
      },
      {
        "duration": 24,
        "start_time": "2022-01-26T16:03:44.303Z"
      },
      {
        "duration": 9,
        "start_time": "2022-01-26T16:03:44.329Z"
      },
      {
        "duration": 807,
        "start_time": "2022-01-26T16:03:44.339Z"
      },
      {
        "duration": 9,
        "start_time": "2022-01-26T16:03:45.148Z"
      },
      {
        "duration": 286,
        "start_time": "2022-01-26T16:03:45.158Z"
      },
      {
        "duration": 272,
        "start_time": "2022-01-26T16:03:45.447Z"
      },
      {
        "duration": 303,
        "start_time": "2022-01-26T16:03:45.721Z"
      },
      {
        "duration": 271,
        "start_time": "2022-01-26T16:03:46.025Z"
      },
      {
        "duration": 264,
        "start_time": "2022-01-26T16:03:46.298Z"
      },
      {
        "duration": 7,
        "start_time": "2022-01-26T16:03:46.564Z"
      },
      {
        "duration": 5,
        "start_time": "2022-01-26T16:03:46.573Z"
      },
      {
        "duration": 21,
        "start_time": "2022-01-26T16:03:46.579Z"
      },
      {
        "duration": 8,
        "start_time": "2022-01-26T16:03:46.602Z"
      },
      {
        "duration": 4,
        "start_time": "2022-01-26T16:03:46.612Z"
      },
      {
        "duration": 5,
        "start_time": "2022-01-26T16:03:46.618Z"
      },
      {
        "duration": 8,
        "start_time": "2022-01-26T16:03:46.625Z"
      },
      {
        "duration": 5,
        "start_time": "2022-01-26T16:03:46.634Z"
      },
      {
        "duration": 18,
        "start_time": "2022-01-26T16:03:46.640Z"
      },
      {
        "duration": 4,
        "start_time": "2022-01-26T16:03:46.659Z"
      },
      {
        "duration": 39,
        "start_time": "2022-01-26T16:03:46.665Z"
      },
      {
        "duration": 6,
        "start_time": "2022-01-26T16:03:46.706Z"
      },
      {
        "duration": 84,
        "start_time": "2022-01-26T16:03:46.713Z"
      },
      {
        "duration": 321,
        "start_time": "2022-01-26T16:03:46.800Z"
      },
      {
        "duration": 191,
        "start_time": "2022-01-26T16:04:12.802Z"
      },
      {
        "duration": 190,
        "start_time": "2022-01-26T16:04:48.568Z"
      },
      {
        "duration": 59,
        "start_time": "2022-01-26T16:20:16.507Z"
      },
      {
        "duration": 28,
        "start_time": "2022-01-26T16:26:37.337Z"
      },
      {
        "duration": 7,
        "start_time": "2022-01-26T16:27:02.709Z"
      },
      {
        "duration": 7,
        "start_time": "2022-01-26T16:27:59.142Z"
      },
      {
        "duration": 5,
        "start_time": "2022-01-26T16:28:06.417Z"
      },
      {
        "duration": 268,
        "start_time": "2022-01-26T16:28:33.758Z"
      },
      {
        "duration": 7,
        "start_time": "2022-01-26T16:28:54.034Z"
      },
      {
        "duration": 6,
        "start_time": "2022-01-26T16:29:26.895Z"
      },
      {
        "duration": 195,
        "start_time": "2022-01-26T16:30:14.431Z"
      },
      {
        "duration": 4708,
        "start_time": "2022-01-26T16:36:07.741Z"
      },
      {
        "duration": 1140,
        "start_time": "2022-01-26T16:41:10.378Z"
      },
      {
        "duration": 757,
        "start_time": "2022-01-26T16:41:11.520Z"
      },
      {
        "duration": 24,
        "start_time": "2022-01-26T16:41:12.279Z"
      },
      {
        "duration": 24,
        "start_time": "2022-01-26T16:41:12.305Z"
      },
      {
        "duration": 9,
        "start_time": "2022-01-26T16:41:12.331Z"
      },
      {
        "duration": 810,
        "start_time": "2022-01-26T16:41:12.342Z"
      },
      {
        "duration": 9,
        "start_time": "2022-01-26T16:41:13.153Z"
      },
      {
        "duration": 287,
        "start_time": "2022-01-26T16:41:13.164Z"
      },
      {
        "duration": 263,
        "start_time": "2022-01-26T16:41:13.454Z"
      },
      {
        "duration": 309,
        "start_time": "2022-01-26T16:41:13.718Z"
      },
      {
        "duration": 273,
        "start_time": "2022-01-26T16:41:14.029Z"
      },
      {
        "duration": 260,
        "start_time": "2022-01-26T16:41:14.304Z"
      },
      {
        "duration": 6,
        "start_time": "2022-01-26T16:41:14.566Z"
      },
      {
        "duration": 5,
        "start_time": "2022-01-26T16:41:14.574Z"
      },
      {
        "duration": 5,
        "start_time": "2022-01-26T16:41:14.598Z"
      },
      {
        "duration": 13,
        "start_time": "2022-01-26T16:41:14.605Z"
      },
      {
        "duration": 8,
        "start_time": "2022-01-26T16:41:14.620Z"
      },
      {
        "duration": 8,
        "start_time": "2022-01-26T16:41:14.629Z"
      },
      {
        "duration": 19,
        "start_time": "2022-01-26T16:41:14.638Z"
      },
      {
        "duration": 10,
        "start_time": "2022-01-26T16:41:14.658Z"
      },
      {
        "duration": 20,
        "start_time": "2022-01-26T16:41:14.669Z"
      },
      {
        "duration": 7,
        "start_time": "2022-01-26T16:41:14.690Z"
      },
      {
        "duration": 8,
        "start_time": "2022-01-26T16:41:14.699Z"
      },
      {
        "duration": 6,
        "start_time": "2022-01-26T16:41:14.708Z"
      },
      {
        "duration": 16,
        "start_time": "2022-01-26T16:41:14.716Z"
      },
      {
        "duration": 97,
        "start_time": "2022-01-26T16:41:14.801Z"
      },
      {
        "duration": 209,
        "start_time": "2022-01-26T16:41:14.899Z"
      },
      {
        "duration": 201,
        "start_time": "2022-01-26T16:41:15.109Z"
      },
      {
        "duration": 164462,
        "start_time": "2022-01-26T16:41:15.311Z"
      },
      {
        "duration": 84,
        "start_time": "2022-01-26T16:46:24.947Z"
      },
      {
        "duration": 318,
        "start_time": "2022-01-26T16:46:35.135Z"
      },
      {
        "duration": 298,
        "start_time": "2022-01-26T16:46:51.348Z"
      },
      {
        "duration": 317,
        "start_time": "2022-01-26T16:47:45.662Z"
      },
      {
        "duration": 318,
        "start_time": "2022-01-26T16:48:52.252Z"
      },
      {
        "duration": 348,
        "start_time": "2022-01-26T16:49:01.212Z"
      },
      {
        "duration": 363,
        "start_time": "2022-01-26T16:49:17.920Z"
      },
      {
        "duration": 340,
        "start_time": "2022-01-26T16:50:30.641Z"
      },
      {
        "duration": 342,
        "start_time": "2022-01-26T16:51:14.683Z"
      },
      {
        "duration": 392,
        "start_time": "2022-01-26T16:52:02.641Z"
      },
      {
        "duration": 5,
        "start_time": "2022-01-26T16:55:42.545Z"
      },
      {
        "duration": 294,
        "start_time": "2022-01-26T16:56:55.278Z"
      },
      {
        "duration": 318,
        "start_time": "2022-01-26T16:57:26.229Z"
      },
      {
        "duration": 282,
        "start_time": "2022-01-26T16:57:38.043Z"
      },
      {
        "duration": 273,
        "start_time": "2022-01-26T16:57:44.242Z"
      },
      {
        "duration": 300,
        "start_time": "2022-01-26T16:58:07.806Z"
      },
      {
        "duration": 309,
        "start_time": "2022-01-26T16:58:14.270Z"
      },
      {
        "duration": 285,
        "start_time": "2022-01-26T16:58:19.687Z"
      },
      {
        "duration": 225,
        "start_time": "2022-01-26T17:02:13.511Z"
      },
      {
        "duration": 61,
        "start_time": "2022-01-26T17:04:55.480Z"
      },
      {
        "duration": 337,
        "start_time": "2022-01-26T17:05:07.709Z"
      },
      {
        "duration": 341,
        "start_time": "2022-01-26T17:06:13.930Z"
      },
      {
        "duration": 325,
        "start_time": "2022-01-26T17:06:30.461Z"
      },
      {
        "duration": 332,
        "start_time": "2022-01-26T17:06:53.883Z"
      },
      {
        "duration": 336,
        "start_time": "2022-01-26T17:07:33.087Z"
      },
      {
        "duration": 338,
        "start_time": "2022-01-26T17:08:35.845Z"
      },
      {
        "duration": 341,
        "start_time": "2022-01-26T17:08:54.410Z"
      },
      {
        "duration": 7,
        "start_time": "2022-01-26T17:10:56.140Z"
      },
      {
        "duration": 5,
        "start_time": "2022-01-26T17:18:49.683Z"
      },
      {
        "duration": 6,
        "start_time": "2022-01-26T17:19:11.950Z"
      },
      {
        "duration": 9,
        "start_time": "2022-01-26T17:19:52.043Z"
      },
      {
        "duration": 17,
        "start_time": "2022-01-26T17:23:18.410Z"
      },
      {
        "duration": 8,
        "start_time": "2022-01-26T17:24:07.186Z"
      },
      {
        "duration": 7,
        "start_time": "2022-01-26T17:24:55.940Z"
      },
      {
        "duration": 7,
        "start_time": "2022-01-26T17:25:10.829Z"
      },
      {
        "duration": 5,
        "start_time": "2022-01-26T17:27:40.971Z"
      },
      {
        "duration": 5,
        "start_time": "2022-01-26T17:27:49.879Z"
      },
      {
        "duration": 5,
        "start_time": "2022-01-26T17:28:02.088Z"
      },
      {
        "duration": 5,
        "start_time": "2022-01-26T17:28:12.422Z"
      },
      {
        "duration": 408,
        "start_time": "2022-01-26T17:29:39.230Z"
      },
      {
        "duration": 12739,
        "start_time": "2022-01-26T17:29:46.610Z"
      },
      {
        "duration": 427,
        "start_time": "2022-01-26T17:30:24.678Z"
      },
      {
        "duration": 429,
        "start_time": "2022-01-26T17:31:16.414Z"
      },
      {
        "duration": 434,
        "start_time": "2022-01-26T17:32:45.479Z"
      },
      {
        "duration": 423,
        "start_time": "2022-01-26T17:32:51.655Z"
      },
      {
        "duration": 167,
        "start_time": "2022-01-26T17:33:33.717Z"
      },
      {
        "duration": 1194,
        "start_time": "2022-01-27T12:56:14.932Z"
      },
      {
        "duration": 889,
        "start_time": "2022-01-27T12:56:16.128Z"
      },
      {
        "duration": 18,
        "start_time": "2022-01-27T12:56:17.019Z"
      },
      {
        "duration": 29,
        "start_time": "2022-01-27T12:56:17.039Z"
      },
      {
        "duration": 32,
        "start_time": "2022-01-27T12:56:17.070Z"
      },
      {
        "duration": 905,
        "start_time": "2022-01-27T12:56:17.105Z"
      },
      {
        "duration": 10,
        "start_time": "2022-01-27T12:56:18.012Z"
      },
      {
        "duration": 256,
        "start_time": "2022-01-27T12:56:18.026Z"
      },
      {
        "duration": 352,
        "start_time": "2022-01-27T12:56:18.285Z"
      },
      {
        "duration": 353,
        "start_time": "2022-01-27T12:56:18.639Z"
      },
      {
        "duration": 322,
        "start_time": "2022-01-27T12:56:18.998Z"
      },
      {
        "duration": 7,
        "start_time": "2022-01-27T12:56:19.322Z"
      },
      {
        "duration": 4,
        "start_time": "2022-01-27T12:56:19.331Z"
      },
      {
        "duration": 8,
        "start_time": "2022-01-27T12:56:19.337Z"
      },
      {
        "duration": 6,
        "start_time": "2022-01-27T12:56:19.347Z"
      },
      {
        "duration": 5,
        "start_time": "2022-01-27T12:56:19.354Z"
      },
      {
        "duration": 39,
        "start_time": "2022-01-27T12:56:19.360Z"
      },
      {
        "duration": 7,
        "start_time": "2022-01-27T12:56:19.400Z"
      },
      {
        "duration": 6,
        "start_time": "2022-01-27T12:56:19.409Z"
      },
      {
        "duration": 18,
        "start_time": "2022-01-27T12:56:19.416Z"
      },
      {
        "duration": 4,
        "start_time": "2022-01-27T12:56:19.435Z"
      },
      {
        "duration": 11,
        "start_time": "2022-01-27T12:56:19.441Z"
      },
      {
        "duration": 6,
        "start_time": "2022-01-27T12:56:19.456Z"
      },
      {
        "duration": 52,
        "start_time": "2022-01-27T12:56:19.464Z"
      },
      {
        "duration": 84,
        "start_time": "2022-01-27T12:56:19.518Z"
      },
      {
        "duration": 480,
        "start_time": "2022-01-27T12:56:19.604Z"
      },
      {
        "duration": 386,
        "start_time": "2022-01-27T12:56:20.086Z"
      },
      {
        "duration": 400,
        "start_time": "2022-01-27T12:56:20.474Z"
      },
      {
        "duration": 6,
        "start_time": "2022-01-27T12:56:20.876Z"
      },
      {
        "duration": 452,
        "start_time": "2022-01-27T12:56:20.883Z"
      },
      {
        "duration": 387,
        "start_time": "2022-01-27T12:56:21.337Z"
      },
      {
        "duration": 7,
        "start_time": "2022-01-27T12:56:21.726Z"
      },
      {
        "duration": 8,
        "start_time": "2022-01-27T12:56:21.735Z"
      },
      {
        "duration": 7,
        "start_time": "2022-01-27T12:56:21.745Z"
      },
      {
        "duration": 6,
        "start_time": "2022-01-27T12:56:21.754Z"
      },
      {
        "duration": 6,
        "start_time": "2022-01-27T12:56:21.762Z"
      },
      {
        "duration": 213,
        "start_time": "2022-01-27T12:56:21.770Z"
      },
      {
        "duration": 611,
        "start_time": "2022-01-27T12:56:21.986Z"
      },
      {
        "duration": 295,
        "start_time": "2022-01-27T12:57:40.573Z"
      },
      {
        "duration": 312,
        "start_time": "2022-01-27T12:57:53.393Z"
      },
      {
        "duration": 539,
        "start_time": "2022-01-27T12:58:05.836Z"
      },
      {
        "duration": 542,
        "start_time": "2022-01-27T12:58:36.147Z"
      },
      {
        "duration": 545,
        "start_time": "2022-01-27T12:59:37.495Z"
      },
      {
        "duration": 629,
        "start_time": "2022-01-27T12:59:58.099Z"
      },
      {
        "duration": 573,
        "start_time": "2022-01-27T13:00:10.144Z"
      },
      {
        "duration": 293,
        "start_time": "2022-01-27T13:00:15.404Z"
      },
      {
        "duration": 364,
        "start_time": "2022-01-27T13:01:28.352Z"
      },
      {
        "duration": 300,
        "start_time": "2022-01-27T13:01:39.422Z"
      },
      {
        "duration": 282,
        "start_time": "2022-01-27T13:01:58.750Z"
      },
      {
        "duration": 287,
        "start_time": "2022-01-27T13:02:03.840Z"
      },
      {
        "duration": 293,
        "start_time": "2022-01-27T13:02:08.649Z"
      },
      {
        "duration": 257,
        "start_time": "2022-01-27T13:02:45.770Z"
      },
      {
        "duration": 287,
        "start_time": "2022-01-27T13:03:51.723Z"
      },
      {
        "duration": 705,
        "start_time": "2022-01-27T13:04:27.401Z"
      },
      {
        "duration": 500,
        "start_time": "2022-01-27T13:04:39.193Z"
      },
      {
        "duration": 516,
        "start_time": "2022-01-27T13:04:48.121Z"
      },
      {
        "duration": 517,
        "start_time": "2022-01-27T13:04:54.771Z"
      },
      {
        "duration": 87,
        "start_time": "2022-01-27T13:05:09.345Z"
      },
      {
        "duration": 686,
        "start_time": "2022-01-27T13:05:17.064Z"
      },
      {
        "duration": 712,
        "start_time": "2022-01-27T13:05:24.855Z"
      },
      {
        "duration": 671,
        "start_time": "2022-01-27T13:05:39.974Z"
      },
      {
        "duration": 547,
        "start_time": "2022-01-27T13:05:52.297Z"
      },
      {
        "duration": 312,
        "start_time": "2022-01-27T13:06:05.420Z"
      },
      {
        "duration": 314,
        "start_time": "2022-01-27T13:06:30.730Z"
      },
      {
        "duration": 285,
        "start_time": "2022-01-27T13:07:17.876Z"
      },
      {
        "duration": 297,
        "start_time": "2022-01-27T13:07:26.735Z"
      },
      {
        "duration": 306,
        "start_time": "2022-01-27T13:07:55.157Z"
      },
      {
        "duration": 322,
        "start_time": "2022-01-27T13:08:12.221Z"
      },
      {
        "duration": 327,
        "start_time": "2022-01-27T13:09:20.303Z"
      },
      {
        "duration": 325,
        "start_time": "2022-01-27T13:09:44.368Z"
      },
      {
        "duration": 354,
        "start_time": "2022-01-27T13:10:05.007Z"
      },
      {
        "duration": 421,
        "start_time": "2022-01-27T13:10:12.128Z"
      },
      {
        "duration": 501,
        "start_time": "2022-01-27T13:10:32.027Z"
      },
      {
        "duration": 313,
        "start_time": "2022-01-27T13:10:37.327Z"
      },
      {
        "duration": 321,
        "start_time": "2022-01-27T13:10:55.661Z"
      },
      {
        "duration": 1697,
        "start_time": "2022-01-27T13:20:08.208Z"
      },
      {
        "duration": 639,
        "start_time": "2022-01-27T13:21:27.716Z"
      },
      {
        "duration": 292,
        "start_time": "2022-01-27T13:22:08.684Z"
      },
      {
        "duration": 411,
        "start_time": "2022-01-27T13:22:24.129Z"
      },
      {
        "duration": 393,
        "start_time": "2022-01-27T13:22:42.232Z"
      },
      {
        "duration": 395,
        "start_time": "2022-01-27T13:23:06.115Z"
      },
      {
        "duration": 398,
        "start_time": "2022-01-27T13:23:48.330Z"
      },
      {
        "duration": 393,
        "start_time": "2022-01-27T13:24:37.732Z"
      },
      {
        "duration": 284,
        "start_time": "2022-01-27T13:24:45.535Z"
      },
      {
        "duration": 541,
        "start_time": "2022-01-27T13:27:44.195Z"
      },
      {
        "duration": 407,
        "start_time": "2022-01-27T13:28:12.706Z"
      },
      {
        "duration": 506,
        "start_time": "2022-01-27T13:28:27.344Z"
      },
      {
        "duration": 395,
        "start_time": "2022-01-27T13:28:52.107Z"
      },
      {
        "duration": 528,
        "start_time": "2022-01-27T13:29:24.443Z"
      },
      {
        "duration": 549,
        "start_time": "2022-01-27T13:31:08.402Z"
      },
      {
        "duration": 415,
        "start_time": "2022-01-27T13:31:29.229Z"
      },
      {
        "duration": 468,
        "start_time": "2022-01-27T13:31:35.255Z"
      },
      {
        "duration": 382,
        "start_time": "2022-01-27T13:33:27.889Z"
      },
      {
        "duration": 496,
        "start_time": "2022-01-27T13:33:59.937Z"
      },
      {
        "duration": 4252,
        "start_time": "2022-01-27T13:35:11.864Z"
      },
      {
        "duration": 2291,
        "start_time": "2022-01-27T13:35:52.087Z"
      },
      {
        "duration": 397,
        "start_time": "2022-01-27T13:36:03.195Z"
      },
      {
        "duration": 759,
        "start_time": "2022-01-27T13:36:20.593Z"
      },
      {
        "duration": 399,
        "start_time": "2022-01-27T13:38:05.860Z"
      },
      {
        "duration": 3,
        "start_time": "2022-01-27T13:45:18.990Z"
      },
      {
        "duration": 6,
        "start_time": "2022-01-27T13:46:16.455Z"
      },
      {
        "duration": 14,
        "start_time": "2022-01-27T13:47:43.352Z"
      },
      {
        "duration": 14,
        "start_time": "2022-01-27T13:47:59.418Z"
      },
      {
        "duration": 5,
        "start_time": "2022-01-27T13:48:46.437Z"
      },
      {
        "duration": 3,
        "start_time": "2022-01-27T13:48:54.661Z"
      },
      {
        "duration": 4,
        "start_time": "2022-01-27T13:49:00.318Z"
      },
      {
        "duration": 272,
        "start_time": "2022-01-27T13:49:04.324Z"
      },
      {
        "duration": 251,
        "start_time": "2022-01-27T13:49:16.509Z"
      },
      {
        "duration": 303,
        "start_time": "2022-01-27T13:49:20.783Z"
      },
      {
        "duration": 15,
        "start_time": "2022-01-27T13:49:37.089Z"
      },
      {
        "duration": 395,
        "start_time": "2022-01-27T13:50:01.223Z"
      },
      {
        "duration": 289,
        "start_time": "2022-01-27T13:50:47.894Z"
      },
      {
        "duration": 15,
        "start_time": "2022-01-27T13:51:12.261Z"
      },
      {
        "duration": 13,
        "start_time": "2022-01-27T13:52:40.984Z"
      },
      {
        "duration": 14,
        "start_time": "2022-01-27T13:53:16.031Z"
      },
      {
        "duration": 15,
        "start_time": "2022-01-27T13:53:30.237Z"
      },
      {
        "duration": 16,
        "start_time": "2022-01-27T13:53:45.359Z"
      },
      {
        "duration": 15,
        "start_time": "2022-01-27T13:54:05.455Z"
      },
      {
        "duration": 617,
        "start_time": "2022-01-27T13:54:20.382Z"
      },
      {
        "duration": 1135,
        "start_time": "2022-01-27T14:01:16.844Z"
      },
      {
        "duration": 747,
        "start_time": "2022-01-27T14:01:17.981Z"
      },
      {
        "duration": 17,
        "start_time": "2022-01-27T14:01:18.730Z"
      },
      {
        "duration": 24,
        "start_time": "2022-01-27T14:01:18.748Z"
      },
      {
        "duration": 27,
        "start_time": "2022-01-27T14:01:18.774Z"
      },
      {
        "duration": 833,
        "start_time": "2022-01-27T14:01:18.803Z"
      },
      {
        "duration": 8,
        "start_time": "2022-01-27T14:01:19.638Z"
      },
      {
        "duration": 242,
        "start_time": "2022-01-27T14:01:19.649Z"
      },
      {
        "duration": 329,
        "start_time": "2022-01-27T14:01:19.893Z"
      },
      {
        "duration": 323,
        "start_time": "2022-01-27T14:01:20.224Z"
      },
      {
        "duration": 311,
        "start_time": "2022-01-27T14:01:20.549Z"
      },
      {
        "duration": 6,
        "start_time": "2022-01-27T14:01:20.862Z"
      },
      {
        "duration": 15,
        "start_time": "2022-01-27T14:01:20.870Z"
      },
      {
        "duration": 26,
        "start_time": "2022-01-27T14:01:20.887Z"
      },
      {
        "duration": 25,
        "start_time": "2022-01-27T14:01:20.915Z"
      },
      {
        "duration": 19,
        "start_time": "2022-01-27T14:01:20.941Z"
      },
      {
        "duration": 33,
        "start_time": "2022-01-27T14:01:20.961Z"
      },
      {
        "duration": 13,
        "start_time": "2022-01-27T14:01:20.996Z"
      },
      {
        "duration": 11,
        "start_time": "2022-01-27T14:01:21.011Z"
      },
      {
        "duration": 18,
        "start_time": "2022-01-27T14:01:21.024Z"
      },
      {
        "duration": 5,
        "start_time": "2022-01-27T14:01:21.044Z"
      },
      {
        "duration": 14,
        "start_time": "2022-01-27T14:01:21.051Z"
      },
      {
        "duration": 6,
        "start_time": "2022-01-27T14:01:21.069Z"
      },
      {
        "duration": 34,
        "start_time": "2022-01-27T14:01:21.078Z"
      },
      {
        "duration": 95,
        "start_time": "2022-01-27T14:01:21.115Z"
      },
      {
        "duration": 377,
        "start_time": "2022-01-27T14:01:21.298Z"
      },
      {
        "duration": 369,
        "start_time": "2022-01-27T14:01:21.677Z"
      },
      {
        "duration": 400,
        "start_time": "2022-01-27T14:01:22.048Z"
      },
      {
        "duration": 6,
        "start_time": "2022-01-27T14:01:22.450Z"
      },
      {
        "duration": 445,
        "start_time": "2022-01-27T14:01:22.458Z"
      },
      {
        "duration": 364,
        "start_time": "2022-01-27T14:01:22.906Z"
      },
      {
        "duration": 6,
        "start_time": "2022-01-27T14:01:23.273Z"
      },
      {
        "duration": 24,
        "start_time": "2022-01-27T14:01:23.281Z"
      },
      {
        "duration": 8,
        "start_time": "2022-01-27T14:01:23.307Z"
      },
      {
        "duration": 7,
        "start_time": "2022-01-27T14:01:23.317Z"
      },
      {
        "duration": 10,
        "start_time": "2022-01-27T14:01:23.325Z"
      },
      {
        "duration": 18,
        "start_time": "2022-01-27T14:01:23.337Z"
      },
      {
        "duration": 179,
        "start_time": "2022-01-27T14:01:23.357Z"
      },
      {
        "duration": 1236,
        "start_time": "2022-01-27T14:05:47.575Z"
      },
      {
        "duration": 718,
        "start_time": "2022-01-27T14:05:48.813Z"
      },
      {
        "duration": 16,
        "start_time": "2022-01-27T14:05:49.533Z"
      },
      {
        "duration": 26,
        "start_time": "2022-01-27T14:05:49.551Z"
      },
      {
        "duration": 27,
        "start_time": "2022-01-27T14:05:49.579Z"
      },
      {
        "duration": 814,
        "start_time": "2022-01-27T14:05:49.608Z"
      },
      {
        "duration": 8,
        "start_time": "2022-01-27T14:05:50.424Z"
      },
      {
        "duration": 241,
        "start_time": "2022-01-27T14:05:50.434Z"
      },
      {
        "duration": 328,
        "start_time": "2022-01-27T14:05:50.677Z"
      },
      {
        "duration": 351,
        "start_time": "2022-01-27T14:05:51.008Z"
      },
      {
        "duration": 334,
        "start_time": "2022-01-27T14:05:51.361Z"
      },
      {
        "duration": 8,
        "start_time": "2022-01-27T14:05:51.698Z"
      },
      {
        "duration": 6,
        "start_time": "2022-01-27T14:05:51.708Z"
      },
      {
        "duration": 5,
        "start_time": "2022-01-27T14:05:51.717Z"
      },
      {
        "duration": 6,
        "start_time": "2022-01-27T14:05:51.724Z"
      },
      {
        "duration": 5,
        "start_time": "2022-01-27T14:05:51.732Z"
      },
      {
        "duration": 8,
        "start_time": "2022-01-27T14:05:51.738Z"
      },
      {
        "duration": 6,
        "start_time": "2022-01-27T14:05:51.748Z"
      },
      {
        "duration": 5,
        "start_time": "2022-01-27T14:05:51.799Z"
      },
      {
        "duration": 16,
        "start_time": "2022-01-27T14:05:51.806Z"
      },
      {
        "duration": 4,
        "start_time": "2022-01-27T14:05:51.824Z"
      },
      {
        "duration": 11,
        "start_time": "2022-01-27T14:05:51.830Z"
      },
      {
        "duration": 7,
        "start_time": "2022-01-27T14:05:51.844Z"
      },
      {
        "duration": 54,
        "start_time": "2022-01-27T14:05:51.853Z"
      },
      {
        "duration": 92,
        "start_time": "2022-01-27T14:05:51.911Z"
      },
      {
        "duration": 478,
        "start_time": "2022-01-27T14:05:52.006Z"
      },
      {
        "duration": 393,
        "start_time": "2022-01-27T14:05:52.486Z"
      },
      {
        "duration": 402,
        "start_time": "2022-01-27T14:05:52.881Z"
      },
      {
        "duration": 13,
        "start_time": "2022-01-27T14:05:53.285Z"
      },
      {
        "duration": 451,
        "start_time": "2022-01-27T14:05:53.300Z"
      },
      {
        "duration": 386,
        "start_time": "2022-01-27T14:05:53.753Z"
      },
      {
        "duration": 6,
        "start_time": "2022-01-27T14:05:54.141Z"
      },
      {
        "duration": 8,
        "start_time": "2022-01-27T14:05:54.148Z"
      },
      {
        "duration": 5,
        "start_time": "2022-01-27T14:05:54.158Z"
      },
      {
        "duration": 7,
        "start_time": "2022-01-27T14:05:54.165Z"
      },
      {
        "duration": 27,
        "start_time": "2022-01-27T14:05:54.173Z"
      },
      {
        "duration": 18,
        "start_time": "2022-01-27T14:05:54.202Z"
      },
      {
        "duration": 198,
        "start_time": "2022-01-27T14:05:54.222Z"
      },
      {
        "duration": 418,
        "start_time": "2022-01-27T14:05:54.431Z"
      },
      {
        "duration": 595,
        "start_time": "2022-01-27T14:06:07.414Z"
      },
      {
        "duration": 536,
        "start_time": "2022-01-27T14:08:38.051Z"
      },
      {
        "duration": 501,
        "start_time": "2022-01-27T14:09:01.754Z"
      },
      {
        "duration": 514,
        "start_time": "2022-01-27T14:11:06.074Z"
      },
      {
        "duration": 385,
        "start_time": "2022-01-27T14:12:08.544Z"
      },
      {
        "duration": 376,
        "start_time": "2022-01-27T14:12:26.634Z"
      },
      {
        "duration": 217,
        "start_time": "2022-01-27T14:13:11.845Z"
      },
      {
        "duration": 3,
        "start_time": "2022-01-27T14:13:43.374Z"
      },
      {
        "duration": 311,
        "start_time": "2022-01-27T14:14:21.912Z"
      },
      {
        "duration": 519,
        "start_time": "2022-01-27T14:14:41.305Z"
      },
      {
        "duration": 442,
        "start_time": "2022-01-27T14:14:46.488Z"
      },
      {
        "duration": 465,
        "start_time": "2022-01-27T14:14:58.667Z"
      },
      {
        "duration": 212,
        "start_time": "2022-01-27T14:15:39.893Z"
      },
      {
        "duration": 224,
        "start_time": "2022-01-27T14:15:58.350Z"
      },
      {
        "duration": 302,
        "start_time": "2022-01-27T14:16:14.929Z"
      },
      {
        "duration": 266,
        "start_time": "2022-01-27T14:16:21.565Z"
      },
      {
        "duration": 1054,
        "start_time": "2022-01-27T14:17:11.747Z"
      },
      {
        "duration": 717,
        "start_time": "2022-01-27T14:17:12.803Z"
      },
      {
        "duration": 16,
        "start_time": "2022-01-27T14:17:13.522Z"
      },
      {
        "duration": 25,
        "start_time": "2022-01-27T14:17:13.540Z"
      },
      {
        "duration": 9,
        "start_time": "2022-01-27T14:17:13.567Z"
      },
      {
        "duration": 804,
        "start_time": "2022-01-27T14:17:13.578Z"
      },
      {
        "duration": 14,
        "start_time": "2022-01-27T14:17:14.384Z"
      },
      {
        "duration": 229,
        "start_time": "2022-01-27T14:17:14.401Z"
      },
      {
        "duration": 321,
        "start_time": "2022-01-27T14:17:14.632Z"
      },
      {
        "duration": 325,
        "start_time": "2022-01-27T14:17:14.955Z"
      },
      {
        "duration": 320,
        "start_time": "2022-01-27T14:17:15.281Z"
      },
      {
        "duration": 6,
        "start_time": "2022-01-27T14:17:15.603Z"
      },
      {
        "duration": 25,
        "start_time": "2022-01-27T14:17:15.611Z"
      },
      {
        "duration": 43,
        "start_time": "2022-01-27T14:17:15.638Z"
      },
      {
        "duration": 28,
        "start_time": "2022-01-27T14:17:15.682Z"
      },
      {
        "duration": 18,
        "start_time": "2022-01-27T14:17:15.712Z"
      },
      {
        "duration": 31,
        "start_time": "2022-01-27T14:17:15.732Z"
      },
      {
        "duration": 21,
        "start_time": "2022-01-27T14:17:15.764Z"
      },
      {
        "duration": 28,
        "start_time": "2022-01-27T14:17:15.786Z"
      },
      {
        "duration": 28,
        "start_time": "2022-01-27T14:17:15.816Z"
      },
      {
        "duration": 13,
        "start_time": "2022-01-27T14:17:15.846Z"
      },
      {
        "duration": 13,
        "start_time": "2022-01-27T14:17:15.861Z"
      },
      {
        "duration": 30,
        "start_time": "2022-01-27T14:17:15.877Z"
      },
      {
        "duration": 33,
        "start_time": "2022-01-27T14:17:15.909Z"
      },
      {
        "duration": 14,
        "start_time": "2022-01-27T14:17:15.998Z"
      },
      {
        "duration": 458,
        "start_time": "2022-01-27T14:17:16.014Z"
      },
      {
        "duration": 370,
        "start_time": "2022-01-27T14:17:16.474Z"
      },
      {
        "duration": 374,
        "start_time": "2022-01-27T14:17:16.846Z"
      },
      {
        "duration": 5,
        "start_time": "2022-01-27T14:17:17.222Z"
      },
      {
        "duration": 431,
        "start_time": "2022-01-27T14:17:17.229Z"
      },
      {
        "duration": 382,
        "start_time": "2022-01-27T14:17:17.662Z"
      },
      {
        "duration": 6,
        "start_time": "2022-01-27T14:17:18.046Z"
      },
      {
        "duration": 7,
        "start_time": "2022-01-27T14:17:18.054Z"
      },
      {
        "duration": 8,
        "start_time": "2022-01-27T14:17:18.063Z"
      },
      {
        "duration": 8,
        "start_time": "2022-01-27T14:17:18.072Z"
      },
      {
        "duration": 18,
        "start_time": "2022-01-27T14:17:18.082Z"
      },
      {
        "duration": 280,
        "start_time": "2022-01-27T14:17:18.102Z"
      },
      {
        "duration": 425,
        "start_time": "2022-01-27T14:25:01.552Z"
      },
      {
        "duration": 4,
        "start_time": "2022-01-27T14:25:33.035Z"
      },
      {
        "duration": 5,
        "start_time": "2022-01-27T14:38:18.411Z"
      },
      {
        "duration": 5,
        "start_time": "2022-01-27T14:41:38.550Z"
      },
      {
        "duration": 602,
        "start_time": "2022-01-27T14:42:18.731Z"
      },
      {
        "duration": 3,
        "start_time": "2022-01-27T14:42:23.993Z"
      },
      {
        "duration": 5,
        "start_time": "2022-01-27T14:42:46.248Z"
      },
      {
        "duration": 271,
        "start_time": "2022-01-27T14:42:53.454Z"
      },
      {
        "duration": 318,
        "start_time": "2022-01-27T14:43:12.347Z"
      },
      {
        "duration": 5,
        "start_time": "2022-01-27T14:43:20.230Z"
      },
      {
        "duration": 3,
        "start_time": "2022-01-27T14:45:05.303Z"
      },
      {
        "duration": 5,
        "start_time": "2022-01-27T14:45:47.504Z"
      },
      {
        "duration": 3,
        "start_time": "2022-01-27T14:51:31.110Z"
      },
      {
        "duration": 5,
        "start_time": "2022-01-27T14:52:38.143Z"
      },
      {
        "duration": 5,
        "start_time": "2022-01-27T14:54:33.083Z"
      },
      {
        "duration": 4,
        "start_time": "2022-01-28T08:49:02.873Z"
      },
      {
        "duration": 102,
        "start_time": "2022-01-28T08:53:00.423Z"
      },
      {
        "duration": 3,
        "start_time": "2022-01-28T08:53:08.035Z"
      },
      {
        "duration": 664,
        "start_time": "2022-01-28T09:18:27.000Z"
      },
      {
        "duration": 1083,
        "start_time": "2022-01-28T10:12:27.208Z"
      },
      {
        "duration": 5810,
        "start_time": "2022-01-28T10:12:28.293Z"
      },
      {
        "duration": 14,
        "start_time": "2022-01-28T10:12:34.105Z"
      },
      {
        "duration": 22,
        "start_time": "2022-01-28T10:12:34.121Z"
      },
      {
        "duration": 10,
        "start_time": "2022-01-28T10:12:34.145Z"
      },
      {
        "duration": 764,
        "start_time": "2022-01-28T10:12:34.157Z"
      },
      {
        "duration": 7,
        "start_time": "2022-01-28T10:12:34.923Z"
      },
      {
        "duration": 203,
        "start_time": "2022-01-28T10:12:34.933Z"
      },
      {
        "duration": 245,
        "start_time": "2022-01-28T10:12:35.138Z"
      },
      {
        "duration": 262,
        "start_time": "2022-01-28T10:12:35.385Z"
      },
      {
        "duration": 246,
        "start_time": "2022-01-28T10:12:35.649Z"
      },
      {
        "duration": 4,
        "start_time": "2022-01-28T10:12:35.897Z"
      },
      {
        "duration": 11,
        "start_time": "2022-01-28T10:12:35.903Z"
      },
      {
        "duration": 12,
        "start_time": "2022-01-28T10:12:35.916Z"
      },
      {
        "duration": 8,
        "start_time": "2022-01-28T10:12:35.929Z"
      },
      {
        "duration": 6,
        "start_time": "2022-01-28T10:12:35.938Z"
      },
      {
        "duration": 18,
        "start_time": "2022-01-28T10:12:35.945Z"
      },
      {
        "duration": 302,
        "start_time": "2022-01-28T10:12:35.964Z"
      },
      {
        "duration": 293,
        "start_time": "2022-01-28T10:12:36.267Z"
      },
      {
        "duration": 304,
        "start_time": "2022-01-28T10:12:36.561Z"
      },
      {
        "duration": 4,
        "start_time": "2022-01-28T10:12:36.867Z"
      },
      {
        "duration": 351,
        "start_time": "2022-01-28T10:12:36.873Z"
      },
      {
        "duration": 285,
        "start_time": "2022-01-28T10:12:37.229Z"
      },
      {
        "duration": 11,
        "start_time": "2022-01-28T10:12:37.516Z"
      },
      {
        "duration": 6,
        "start_time": "2022-01-28T10:12:37.528Z"
      },
      {
        "duration": 6,
        "start_time": "2022-01-28T10:12:37.535Z"
      },
      {
        "duration": 6,
        "start_time": "2022-01-28T10:12:37.542Z"
      },
      {
        "duration": 8,
        "start_time": "2022-01-28T10:12:37.549Z"
      },
      {
        "duration": 228,
        "start_time": "2022-01-28T10:12:37.558Z"
      },
      {
        "duration": 3,
        "start_time": "2022-01-28T10:12:37.787Z"
      },
      {
        "duration": 21,
        "start_time": "2022-01-28T10:12:37.792Z"
      },
      {
        "duration": 14,
        "start_time": "2022-01-28T10:12:37.814Z"
      },
      {
        "duration": 11,
        "start_time": "2022-01-28T10:12:37.829Z"
      },
      {
        "duration": 23,
        "start_time": "2022-01-28T10:12:37.841Z"
      },
      {
        "duration": 7,
        "start_time": "2022-01-28T10:12:37.865Z"
      },
      {
        "duration": 7,
        "start_time": "2022-01-28T10:12:37.874Z"
      },
      {
        "duration": 14,
        "start_time": "2022-01-28T10:12:37.882Z"
      },
      {
        "duration": 9,
        "start_time": "2022-01-28T10:12:37.898Z"
      },
      {
        "duration": 11,
        "start_time": "2022-01-28T10:12:37.908Z"
      },
      {
        "duration": 15,
        "start_time": "2022-01-28T10:12:37.920Z"
      },
      {
        "duration": 32,
        "start_time": "2022-01-28T10:12:37.936Z"
      },
      {
        "duration": 5,
        "start_time": "2022-01-28T10:13:16.292Z"
      },
      {
        "duration": 4,
        "start_time": "2022-01-28T10:13:36.883Z"
      },
      {
        "duration": 4,
        "start_time": "2022-01-28T10:13:59.385Z"
      },
      {
        "duration": 4,
        "start_time": "2022-01-28T10:14:08.622Z"
      },
      {
        "duration": 4,
        "start_time": "2022-01-28T10:14:28.829Z"
      },
      {
        "duration": 4,
        "start_time": "2022-01-28T10:14:42.350Z"
      },
      {
        "duration": 4,
        "start_time": "2022-01-28T10:14:53.462Z"
      },
      {
        "duration": 533,
        "start_time": "2022-01-28T10:18:54.108Z"
      },
      {
        "duration": 168,
        "start_time": "2022-01-28T10:23:16.809Z"
      },
      {
        "duration": 3251,
        "start_time": "2022-01-28T10:23:45.567Z"
      },
      {
        "duration": 10,
        "start_time": "2022-01-28T10:24:05.888Z"
      },
      {
        "duration": 6,
        "start_time": "2022-01-28T10:24:25.318Z"
      },
      {
        "duration": 14,
        "start_time": "2022-01-28T10:24:36.669Z"
      },
      {
        "duration": 358,
        "start_time": "2022-01-28T10:24:38.761Z"
      },
      {
        "duration": 5,
        "start_time": "2022-01-28T10:25:22.044Z"
      },
      {
        "duration": 4,
        "start_time": "2022-01-28T10:25:22.682Z"
      },
      {
        "duration": 3,
        "start_time": "2022-01-28T10:25:23.881Z"
      },
      {
        "duration": 3,
        "start_time": "2022-01-28T10:25:24.515Z"
      },
      {
        "duration": 4,
        "start_time": "2022-01-28T10:25:25.372Z"
      },
      {
        "duration": 4,
        "start_time": "2022-01-28T10:25:26.262Z"
      },
      {
        "duration": 4,
        "start_time": "2022-01-28T10:25:27.179Z"
      },
      {
        "duration": 4,
        "start_time": "2022-01-28T10:25:28.051Z"
      },
      {
        "duration": 8,
        "start_time": "2022-01-28T10:25:29.117Z"
      },
      {
        "duration": 7,
        "start_time": "2022-01-28T10:25:29.940Z"
      },
      {
        "duration": 15,
        "start_time": "2022-01-28T10:25:33.486Z"
      },
      {
        "duration": 400,
        "start_time": "2022-01-28T10:25:35.055Z"
      },
      {
        "duration": 327,
        "start_time": "2022-01-28T10:26:21.795Z"
      },
      {
        "duration": 6,
        "start_time": "2022-01-28T10:26:35.165Z"
      },
      {
        "duration": 322,
        "start_time": "2022-01-28T10:26:52.068Z"
      },
      {
        "duration": 327,
        "start_time": "2022-01-28T10:27:08.980Z"
      },
      {
        "duration": 1078,
        "start_time": "2022-01-28T10:27:21.804Z"
      },
      {
        "duration": 663,
        "start_time": "2022-01-28T10:27:22.883Z"
      },
      {
        "duration": 14,
        "start_time": "2022-01-28T10:27:23.548Z"
      },
      {
        "duration": 18,
        "start_time": "2022-01-28T10:27:23.564Z"
      },
      {
        "duration": 8,
        "start_time": "2022-01-28T10:27:23.584Z"
      },
      {
        "duration": 711,
        "start_time": "2022-01-28T10:27:23.594Z"
      },
      {
        "duration": 7,
        "start_time": "2022-01-28T10:27:24.306Z"
      },
      {
        "duration": 197,
        "start_time": "2022-01-28T10:27:24.328Z"
      },
      {
        "duration": 257,
        "start_time": "2022-01-28T10:27:24.527Z"
      },
      {
        "duration": 256,
        "start_time": "2022-01-28T10:27:24.785Z"
      },
      {
        "duration": 241,
        "start_time": "2022-01-28T10:27:25.043Z"
      },
      {
        "duration": 5,
        "start_time": "2022-01-28T10:27:25.285Z"
      },
      {
        "duration": 9,
        "start_time": "2022-01-28T10:27:25.291Z"
      },
      {
        "duration": 5,
        "start_time": "2022-01-28T10:27:25.301Z"
      },
      {
        "duration": 24,
        "start_time": "2022-01-28T10:27:25.307Z"
      },
      {
        "duration": 7,
        "start_time": "2022-01-28T10:27:25.333Z"
      },
      {
        "duration": 13,
        "start_time": "2022-01-28T10:27:25.342Z"
      },
      {
        "duration": 285,
        "start_time": "2022-01-28T10:27:25.356Z"
      },
      {
        "duration": 294,
        "start_time": "2022-01-28T10:27:25.643Z"
      },
      {
        "duration": 296,
        "start_time": "2022-01-28T10:27:25.939Z"
      },
      {
        "duration": 5,
        "start_time": "2022-01-28T10:27:26.236Z"
      },
      {
        "duration": 344,
        "start_time": "2022-01-28T10:27:26.243Z"
      },
      {
        "duration": 291,
        "start_time": "2022-01-28T10:27:26.590Z"
      },
      {
        "duration": 6,
        "start_time": "2022-01-28T10:27:26.884Z"
      },
      {
        "duration": 6,
        "start_time": "2022-01-28T10:27:26.892Z"
      },
      {
        "duration": 27,
        "start_time": "2022-01-28T10:27:26.900Z"
      },
      {
        "duration": 6,
        "start_time": "2022-01-28T10:27:26.929Z"
      },
      {
        "duration": 6,
        "start_time": "2022-01-28T10:27:26.937Z"
      },
      {
        "duration": 227,
        "start_time": "2022-01-28T10:27:26.944Z"
      },
      {
        "duration": 4,
        "start_time": "2022-01-28T10:27:27.173Z"
      },
      {
        "duration": 6,
        "start_time": "2022-01-28T10:27:27.179Z"
      },
      {
        "duration": 5,
        "start_time": "2022-01-28T10:27:27.186Z"
      },
      {
        "duration": 9,
        "start_time": "2022-01-28T10:27:27.192Z"
      },
      {
        "duration": 25,
        "start_time": "2022-01-28T10:27:27.202Z"
      },
      {
        "duration": 10,
        "start_time": "2022-01-28T10:27:27.229Z"
      },
      {
        "duration": 6,
        "start_time": "2022-01-28T10:27:27.240Z"
      },
      {
        "duration": 6,
        "start_time": "2022-01-28T10:27:27.247Z"
      },
      {
        "duration": 7,
        "start_time": "2022-01-28T10:27:27.255Z"
      },
      {
        "duration": 5,
        "start_time": "2022-01-28T10:27:27.263Z"
      },
      {
        "duration": 8,
        "start_time": "2022-01-28T10:27:27.269Z"
      },
      {
        "duration": 5,
        "start_time": "2022-01-28T10:27:27.278Z"
      },
      {
        "duration": 8,
        "start_time": "2022-01-28T10:27:27.285Z"
      },
      {
        "duration": 7,
        "start_time": "2022-01-28T10:27:27.294Z"
      },
      {
        "duration": 34,
        "start_time": "2022-01-28T10:27:27.302Z"
      },
      {
        "duration": 750,
        "start_time": "2022-01-28T10:27:27.339Z"
      },
      {
        "duration": 3,
        "start_time": "2022-01-28T10:28:04.593Z"
      },
      {
        "duration": 4,
        "start_time": "2022-01-28T10:28:20.009Z"
      },
      {
        "duration": 4,
        "start_time": "2022-01-28T10:30:00.659Z"
      },
      {
        "duration": 4,
        "start_time": "2022-01-28T10:30:06.944Z"
      },
      {
        "duration": 4,
        "start_time": "2022-01-28T10:30:24.869Z"
      },
      {
        "duration": 103,
        "start_time": "2022-01-28T10:30:52.582Z"
      },
      {
        "duration": 4,
        "start_time": "2022-01-28T10:30:56.399Z"
      },
      {
        "duration": 339,
        "start_time": "2022-01-28T10:31:15.465Z"
      },
      {
        "duration": 21,
        "start_time": "2022-01-28T10:31:21.071Z"
      },
      {
        "duration": 330,
        "start_time": "2022-01-28T10:31:48.065Z"
      },
      {
        "duration": 4,
        "start_time": "2022-01-28T10:32:26.539Z"
      },
      {
        "duration": 1042,
        "start_time": "2022-01-28T10:33:10.448Z"
      },
      {
        "duration": 663,
        "start_time": "2022-01-28T10:33:11.492Z"
      },
      {
        "duration": 15,
        "start_time": "2022-01-28T10:33:12.159Z"
      },
      {
        "duration": 20,
        "start_time": "2022-01-28T10:33:12.175Z"
      },
      {
        "duration": 31,
        "start_time": "2022-01-28T10:33:12.196Z"
      },
      {
        "duration": 689,
        "start_time": "2022-01-28T10:33:12.229Z"
      },
      {
        "duration": 7,
        "start_time": "2022-01-28T10:33:12.920Z"
      },
      {
        "duration": 200,
        "start_time": "2022-01-28T10:33:12.929Z"
      },
      {
        "duration": 250,
        "start_time": "2022-01-28T10:33:13.131Z"
      },
      {
        "duration": 256,
        "start_time": "2022-01-28T10:33:13.382Z"
      },
      {
        "duration": 249,
        "start_time": "2022-01-28T10:33:13.640Z"
      },
      {
        "duration": 4,
        "start_time": "2022-01-28T10:33:13.890Z"
      },
      {
        "duration": 10,
        "start_time": "2022-01-28T10:33:13.895Z"
      },
      {
        "duration": 5,
        "start_time": "2022-01-28T10:33:13.907Z"
      },
      {
        "duration": 4,
        "start_time": "2022-01-28T10:33:13.927Z"
      },
      {
        "duration": 7,
        "start_time": "2022-01-28T10:33:13.933Z"
      },
      {
        "duration": 14,
        "start_time": "2022-01-28T10:33:13.941Z"
      },
      {
        "duration": 298,
        "start_time": "2022-01-28T10:33:13.957Z"
      },
      {
        "duration": 308,
        "start_time": "2022-01-28T10:33:14.256Z"
      },
      {
        "duration": 308,
        "start_time": "2022-01-28T10:33:14.566Z"
      },
      {
        "duration": 5,
        "start_time": "2022-01-28T10:33:14.876Z"
      },
      {
        "duration": 352,
        "start_time": "2022-01-28T10:33:14.884Z"
      },
      {
        "duration": 289,
        "start_time": "2022-01-28T10:33:15.238Z"
      },
      {
        "duration": 5,
        "start_time": "2022-01-28T10:33:15.529Z"
      },
      {
        "duration": 6,
        "start_time": "2022-01-28T10:33:15.535Z"
      },
      {
        "duration": 5,
        "start_time": "2022-01-28T10:33:15.542Z"
      },
      {
        "duration": 7,
        "start_time": "2022-01-28T10:33:15.548Z"
      },
      {
        "duration": 6,
        "start_time": "2022-01-28T10:33:15.556Z"
      },
      {
        "duration": 232,
        "start_time": "2022-01-28T10:33:15.563Z"
      },
      {
        "duration": 4,
        "start_time": "2022-01-28T10:33:15.796Z"
      },
      {
        "duration": 4,
        "start_time": "2022-01-28T10:33:15.802Z"
      },
      {
        "duration": 5,
        "start_time": "2022-01-28T10:33:15.807Z"
      },
      {
        "duration": 17,
        "start_time": "2022-01-28T10:33:15.814Z"
      },
      {
        "duration": 6,
        "start_time": "2022-01-28T10:33:15.833Z"
      },
      {
        "duration": 8,
        "start_time": "2022-01-28T10:33:15.840Z"
      },
      {
        "duration": 5,
        "start_time": "2022-01-28T10:33:15.850Z"
      },
      {
        "duration": 6,
        "start_time": "2022-01-28T10:33:15.857Z"
      },
      {
        "duration": 6,
        "start_time": "2022-01-28T10:33:15.865Z"
      },
      {
        "duration": 8,
        "start_time": "2022-01-28T10:33:15.872Z"
      },
      {
        "duration": 7,
        "start_time": "2022-01-28T10:33:15.881Z"
      },
      {
        "duration": 7,
        "start_time": "2022-01-28T10:33:15.889Z"
      },
      {
        "duration": 10,
        "start_time": "2022-01-28T10:33:15.897Z"
      },
      {
        "duration": 6,
        "start_time": "2022-01-28T10:33:15.908Z"
      },
      {
        "duration": 575,
        "start_time": "2022-01-28T10:33:15.927Z"
      },
      {
        "duration": -37,
        "start_time": "2022-01-28T10:33:16.541Z"
      },
      {
        "duration": -38,
        "start_time": "2022-01-28T10:33:16.543Z"
      },
      {
        "duration": -39,
        "start_time": "2022-01-28T10:33:16.545Z"
      },
      {
        "duration": -39,
        "start_time": "2022-01-28T10:33:16.547Z"
      },
      {
        "duration": -45,
        "start_time": "2022-01-28T10:33:16.554Z"
      },
      {
        "duration": 322,
        "start_time": "2022-01-28T10:33:32.416Z"
      },
      {
        "duration": 18,
        "start_time": "2022-01-28T10:33:40.626Z"
      },
      {
        "duration": 15,
        "start_time": "2022-01-28T10:33:42.336Z"
      },
      {
        "duration": 5,
        "start_time": "2022-01-28T10:34:10.202Z"
      },
      {
        "duration": 6,
        "start_time": "2022-01-28T10:34:51.859Z"
      },
      {
        "duration": 13,
        "start_time": "2022-01-28T10:35:03.830Z"
      },
      {
        "duration": 10,
        "start_time": "2022-01-28T10:36:00.710Z"
      },
      {
        "duration": 9,
        "start_time": "2022-01-28T10:36:15.486Z"
      },
      {
        "duration": 1057,
        "start_time": "2022-01-31T09:04:46.295Z"
      },
      {
        "duration": 698,
        "start_time": "2022-01-31T09:04:47.354Z"
      },
      {
        "duration": 16,
        "start_time": "2022-01-31T09:04:48.054Z"
      },
      {
        "duration": 22,
        "start_time": "2022-01-31T09:04:48.072Z"
      },
      {
        "duration": 9,
        "start_time": "2022-01-31T09:04:48.096Z"
      },
      {
        "duration": 785,
        "start_time": "2022-01-31T09:04:48.106Z"
      },
      {
        "duration": 8,
        "start_time": "2022-01-31T09:04:48.892Z"
      },
      {
        "duration": 216,
        "start_time": "2022-01-31T09:04:48.902Z"
      },
      {
        "duration": 286,
        "start_time": "2022-01-31T09:04:49.121Z"
      },
      {
        "duration": 291,
        "start_time": "2022-01-31T09:04:49.409Z"
      },
      {
        "duration": 273,
        "start_time": "2022-01-31T09:04:49.702Z"
      },
      {
        "duration": 4,
        "start_time": "2022-01-31T09:04:49.977Z"
      },
      {
        "duration": 9,
        "start_time": "2022-01-31T09:04:49.982Z"
      },
      {
        "duration": 4,
        "start_time": "2022-01-31T09:04:49.993Z"
      },
      {
        "duration": 6,
        "start_time": "2022-01-31T09:04:49.999Z"
      },
      {
        "duration": 5,
        "start_time": "2022-01-31T09:04:50.007Z"
      },
      {
        "duration": 46,
        "start_time": "2022-01-31T09:04:50.014Z"
      },
      {
        "duration": 334,
        "start_time": "2022-01-31T09:04:50.062Z"
      },
      {
        "duration": 340,
        "start_time": "2022-01-31T09:04:50.399Z"
      },
      {
        "duration": 348,
        "start_time": "2022-01-31T09:04:50.740Z"
      },
      {
        "duration": 5,
        "start_time": "2022-01-31T09:04:51.089Z"
      },
      {
        "duration": 411,
        "start_time": "2022-01-31T09:04:51.096Z"
      },
      {
        "duration": 334,
        "start_time": "2022-01-31T09:04:51.508Z"
      },
      {
        "duration": 16,
        "start_time": "2022-01-31T09:04:51.844Z"
      },
      {
        "duration": 9,
        "start_time": "2022-01-31T09:04:51.862Z"
      },
      {
        "duration": 9,
        "start_time": "2022-01-31T09:04:51.872Z"
      },
      {
        "duration": 6,
        "start_time": "2022-01-31T09:04:51.884Z"
      },
      {
        "duration": 9,
        "start_time": "2022-01-31T09:04:51.892Z"
      },
      {
        "duration": 262,
        "start_time": "2022-01-31T09:04:51.902Z"
      },
      {
        "duration": 3,
        "start_time": "2022-01-31T09:04:52.166Z"
      },
      {
        "duration": 7,
        "start_time": "2022-01-31T09:04:52.170Z"
      },
      {
        "duration": 18,
        "start_time": "2022-01-31T09:04:52.179Z"
      },
      {
        "duration": 7,
        "start_time": "2022-01-31T09:04:52.199Z"
      },
      {
        "duration": 9,
        "start_time": "2022-01-31T09:04:52.208Z"
      },
      {
        "duration": 19,
        "start_time": "2022-01-31T09:04:52.219Z"
      },
      {
        "duration": 6,
        "start_time": "2022-01-31T09:04:52.239Z"
      },
      {
        "duration": 6,
        "start_time": "2022-01-31T09:04:52.247Z"
      },
      {
        "duration": 8,
        "start_time": "2022-01-31T09:04:52.254Z"
      },
      {
        "duration": 7,
        "start_time": "2022-01-31T09:04:52.263Z"
      },
      {
        "duration": 10,
        "start_time": "2022-01-31T09:04:52.272Z"
      },
      {
        "duration": 9,
        "start_time": "2022-01-31T09:04:52.284Z"
      },
      {
        "duration": 9,
        "start_time": "2022-01-31T09:04:52.295Z"
      },
      {
        "duration": 9,
        "start_time": "2022-01-31T09:04:52.305Z"
      },
      {
        "duration": 51,
        "start_time": "2022-01-31T09:04:52.315Z"
      },
      {
        "duration": 93,
        "start_time": "2022-01-31T09:04:52.369Z"
      },
      {
        "duration": 195,
        "start_time": "2022-01-31T09:04:52.464Z"
      },
      {
        "duration": 15,
        "start_time": "2022-01-31T09:04:52.661Z"
      },
      {
        "duration": 356,
        "start_time": "2022-01-31T09:05:09.252Z"
      },
      {
        "duration": 5,
        "start_time": "2022-01-31T09:06:04.352Z"
      },
      {
        "duration": 5,
        "start_time": "2022-01-31T09:06:16.682Z"
      },
      {
        "duration": 4,
        "start_time": "2022-01-31T09:06:24.008Z"
      },
      {
        "duration": 6,
        "start_time": "2022-01-31T09:06:46.863Z"
      },
      {
        "duration": 5,
        "start_time": "2022-01-31T09:07:26.193Z"
      },
      {
        "duration": 5,
        "start_time": "2022-01-31T09:07:42.975Z"
      },
      {
        "duration": 7,
        "start_time": "2022-01-31T09:08:11.863Z"
      },
      {
        "duration": 315,
        "start_time": "2022-01-31T09:09:44.918Z"
      },
      {
        "duration": 337,
        "start_time": "2022-01-31T09:09:53.309Z"
      },
      {
        "duration": 344,
        "start_time": "2022-01-31T09:09:59.604Z"
      },
      {
        "duration": 4825,
        "start_time": "2022-01-31T09:12:16.216Z"
      },
      {
        "duration": 1352,
        "start_time": "2022-01-31T09:12:55.622Z"
      },
      {
        "duration": 179,
        "start_time": "2022-01-31T09:13:12.365Z"
      },
      {
        "duration": 5565,
        "start_time": "2022-01-31T09:13:29.223Z"
      },
      {
        "duration": 4639,
        "start_time": "2022-01-31T09:13:47.849Z"
      },
      {
        "duration": 4455,
        "start_time": "2022-01-31T09:14:44.348Z"
      },
      {
        "duration": -230,
        "start_time": "2022-01-31T09:15:28.168Z"
      },
      {
        "duration": 4340,
        "start_time": "2022-01-31T09:15:37.132Z"
      },
      {
        "duration": 1062,
        "start_time": "2022-01-31T09:15:55.475Z"
      },
      {
        "duration": 729,
        "start_time": "2022-01-31T09:15:56.539Z"
      },
      {
        "duration": 15,
        "start_time": "2022-01-31T09:15:57.270Z"
      },
      {
        "duration": 21,
        "start_time": "2022-01-31T09:15:57.286Z"
      },
      {
        "duration": 257,
        "start_time": "2022-01-31T09:15:57.309Z"
      },
      {
        "duration": -264,
        "start_time": "2022-01-31T09:15:57.835Z"
      },
      {
        "duration": -265,
        "start_time": "2022-01-31T09:15:57.837Z"
      },
      {
        "duration": -265,
        "start_time": "2022-01-31T09:15:57.838Z"
      },
      {
        "duration": -266,
        "start_time": "2022-01-31T09:15:57.840Z"
      },
      {
        "duration": -268,
        "start_time": "2022-01-31T09:15:57.843Z"
      },
      {
        "duration": -276,
        "start_time": "2022-01-31T09:15:57.852Z"
      },
      {
        "duration": -276,
        "start_time": "2022-01-31T09:15:57.853Z"
      },
      {
        "duration": -277,
        "start_time": "2022-01-31T09:15:57.855Z"
      },
      {
        "duration": -278,
        "start_time": "2022-01-31T09:15:57.857Z"
      },
      {
        "duration": -288,
        "start_time": "2022-01-31T09:15:57.868Z"
      },
      {
        "duration": -288,
        "start_time": "2022-01-31T09:15:57.869Z"
      },
      {
        "duration": -290,
        "start_time": "2022-01-31T09:15:57.871Z"
      },
      {
        "duration": -290,
        "start_time": "2022-01-31T09:15:57.872Z"
      },
      {
        "duration": -291,
        "start_time": "2022-01-31T09:15:57.874Z"
      },
      {
        "duration": -298,
        "start_time": "2022-01-31T09:15:57.883Z"
      },
      {
        "duration": -300,
        "start_time": "2022-01-31T09:15:57.885Z"
      },
      {
        "duration": -299,
        "start_time": "2022-01-31T09:15:57.886Z"
      },
      {
        "duration": -300,
        "start_time": "2022-01-31T09:15:57.888Z"
      },
      {
        "duration": -300,
        "start_time": "2022-01-31T09:15:57.889Z"
      },
      {
        "duration": -300,
        "start_time": "2022-01-31T09:15:57.890Z"
      },
      {
        "duration": -309,
        "start_time": "2022-01-31T09:15:57.900Z"
      },
      {
        "duration": -310,
        "start_time": "2022-01-31T09:15:57.902Z"
      },
      {
        "duration": -311,
        "start_time": "2022-01-31T09:15:57.904Z"
      },
      {
        "duration": -312,
        "start_time": "2022-01-31T09:15:57.906Z"
      },
      {
        "duration": -315,
        "start_time": "2022-01-31T09:15:57.910Z"
      },
      {
        "duration": -317,
        "start_time": "2022-01-31T09:15:57.913Z"
      },
      {
        "duration": -318,
        "start_time": "2022-01-31T09:15:57.915Z"
      },
      {
        "duration": -318,
        "start_time": "2022-01-31T09:15:57.916Z"
      },
      {
        "duration": -319,
        "start_time": "2022-01-31T09:15:57.918Z"
      },
      {
        "duration": -319,
        "start_time": "2022-01-31T09:15:57.919Z"
      },
      {
        "duration": -319,
        "start_time": "2022-01-31T09:15:57.920Z"
      },
      {
        "duration": -321,
        "start_time": "2022-01-31T09:15:57.922Z"
      },
      {
        "duration": -321,
        "start_time": "2022-01-31T09:15:57.923Z"
      },
      {
        "duration": -323,
        "start_time": "2022-01-31T09:15:57.926Z"
      },
      {
        "duration": -324,
        "start_time": "2022-01-31T09:15:57.928Z"
      },
      {
        "duration": -325,
        "start_time": "2022-01-31T09:15:57.930Z"
      },
      {
        "duration": -325,
        "start_time": "2022-01-31T09:15:57.931Z"
      },
      {
        "duration": -273,
        "start_time": "2022-01-31T09:15:57.932Z"
      },
      {
        "duration": -274,
        "start_time": "2022-01-31T09:15:57.934Z"
      },
      {
        "duration": -274,
        "start_time": "2022-01-31T09:15:57.935Z"
      },
      {
        "duration": -275,
        "start_time": "2022-01-31T09:15:57.936Z"
      },
      {
        "duration": -276,
        "start_time": "2022-01-31T09:15:57.938Z"
      },
      {
        "duration": -276,
        "start_time": "2022-01-31T09:15:57.939Z"
      },
      {
        "duration": -276,
        "start_time": "2022-01-31T09:15:57.940Z"
      },
      {
        "duration": -279,
        "start_time": "2022-01-31T09:15:57.944Z"
      },
      {
        "duration": -280,
        "start_time": "2022-01-31T09:15:57.946Z"
      },
      {
        "duration": -280,
        "start_time": "2022-01-31T09:15:57.947Z"
      },
      {
        "duration": -281,
        "start_time": "2022-01-31T09:15:57.949Z"
      },
      {
        "duration": -281,
        "start_time": "2022-01-31T09:15:57.950Z"
      },
      {
        "duration": 301,
        "start_time": "2022-01-31T09:16:17.951Z"
      },
      {
        "duration": 8,
        "start_time": "2022-01-31T09:16:23.937Z"
      },
      {
        "duration": 196,
        "start_time": "2022-01-31T09:16:28.446Z"
      },
      {
        "duration": 293,
        "start_time": "2022-01-31T09:16:33.042Z"
      },
      {
        "duration": 6,
        "start_time": "2022-01-31T09:16:38.451Z"
      },
      {
        "duration": 5,
        "start_time": "2022-01-31T09:16:43.204Z"
      },
      {
        "duration": 171,
        "start_time": "2022-01-31T09:16:53.939Z"
      },
      {
        "duration": 192,
        "start_time": "2022-01-31T09:17:22.122Z"
      },
      {
        "duration": 10,
        "start_time": "2022-01-31T09:18:09.840Z"
      },
      {
        "duration": 215,
        "start_time": "2022-01-31T09:18:20.361Z"
      },
      {
        "duration": 208,
        "start_time": "2022-01-31T09:19:00.737Z"
      },
      {
        "duration": 206,
        "start_time": "2022-01-31T09:19:14.808Z"
      },
      {
        "duration": 216,
        "start_time": "2022-01-31T09:19:23.643Z"
      },
      {
        "duration": 453,
        "start_time": "2022-01-31T09:19:29.896Z"
      },
      {
        "duration": 297,
        "start_time": "2022-01-31T09:20:02.484Z"
      },
      {
        "duration": 366,
        "start_time": "2022-01-31T12:49:38.944Z"
      },
      {
        "duration": 1394,
        "start_time": "2022-01-31T12:49:46.638Z"
      },
      {
        "duration": 908,
        "start_time": "2022-01-31T12:49:48.035Z"
      },
      {
        "duration": 42,
        "start_time": "2022-01-31T12:49:48.948Z"
      },
      {
        "duration": 67,
        "start_time": "2022-01-31T12:49:48.994Z"
      },
      {
        "duration": 15,
        "start_time": "2022-01-31T12:49:49.064Z"
      },
      {
        "duration": 11,
        "start_time": "2022-01-31T12:49:49.083Z"
      },
      {
        "duration": 18,
        "start_time": "2022-01-31T12:49:49.123Z"
      },
      {
        "duration": 475,
        "start_time": "2022-01-31T12:49:49.143Z"
      },
      {
        "duration": 9,
        "start_time": "2022-01-31T12:49:49.615Z"
      },
      {
        "duration": 2,
        "start_time": "2022-01-31T12:49:49.623Z"
      },
      {
        "duration": -2,
        "start_time": "2022-01-31T12:49:49.629Z"
      },
      {
        "duration": -3,
        "start_time": "2022-01-31T12:49:49.631Z"
      },
      {
        "duration": -2,
        "start_time": "2022-01-31T12:49:49.632Z"
      },
      {
        "duration": -5,
        "start_time": "2022-01-31T12:49:49.637Z"
      },
      {
        "duration": -5,
        "start_time": "2022-01-31T12:49:49.638Z"
      },
      {
        "duration": -5,
        "start_time": "2022-01-31T12:49:49.639Z"
      },
      {
        "duration": -4,
        "start_time": "2022-01-31T12:49:49.640Z"
      },
      {
        "duration": -3,
        "start_time": "2022-01-31T12:49:49.641Z"
      },
      {
        "duration": -3,
        "start_time": "2022-01-31T12:49:49.642Z"
      },
      {
        "duration": -2,
        "start_time": "2022-01-31T12:49:49.643Z"
      },
      {
        "duration": -2,
        "start_time": "2022-01-31T12:49:49.644Z"
      },
      {
        "duration": -1,
        "start_time": "2022-01-31T12:49:49.645Z"
      },
      {
        "duration": 0,
        "start_time": "2022-01-31T12:49:49.646Z"
      },
      {
        "duration": -16,
        "start_time": "2022-01-31T12:49:49.663Z"
      },
      {
        "duration": -20,
        "start_time": "2022-01-31T12:49:49.669Z"
      },
      {
        "duration": -20,
        "start_time": "2022-01-31T12:49:49.671Z"
      },
      {
        "duration": -20,
        "start_time": "2022-01-31T12:49:49.673Z"
      },
      {
        "duration": -22,
        "start_time": "2022-01-31T12:49:49.678Z"
      },
      {
        "duration": -28,
        "start_time": "2022-01-31T12:49:49.686Z"
      },
      {
        "duration": 36,
        "start_time": "2022-01-31T12:49:49.687Z"
      },
      {
        "duration": 36,
        "start_time": "2022-01-31T12:49:49.690Z"
      },
      {
        "duration": 34,
        "start_time": "2022-01-31T12:49:49.694Z"
      },
      {
        "duration": 35,
        "start_time": "2022-01-31T12:49:49.695Z"
      },
      {
        "duration": 34,
        "start_time": "2022-01-31T12:49:49.698Z"
      },
      {
        "duration": 32,
        "start_time": "2022-01-31T12:49:49.703Z"
      },
      {
        "duration": 22,
        "start_time": "2022-01-31T12:49:49.715Z"
      },
      {
        "duration": -24,
        "start_time": "2022-01-31T12:49:49.763Z"
      },
      {
        "duration": -27,
        "start_time": "2022-01-31T12:49:49.769Z"
      },
      {
        "duration": -29,
        "start_time": "2022-01-31T12:49:49.773Z"
      },
      {
        "duration": -30,
        "start_time": "2022-01-31T12:49:49.776Z"
      },
      {
        "duration": -28,
        "start_time": "2022-01-31T12:49:49.777Z"
      },
      {
        "duration": -29,
        "start_time": "2022-01-31T12:49:49.780Z"
      },
      {
        "duration": -28,
        "start_time": "2022-01-31T12:49:49.781Z"
      },
      {
        "duration": -30,
        "start_time": "2022-01-31T12:49:49.786Z"
      },
      {
        "duration": -30,
        "start_time": "2022-01-31T12:49:49.788Z"
      },
      {
        "duration": -30,
        "start_time": "2022-01-31T12:49:49.790Z"
      },
      {
        "duration": -30,
        "start_time": "2022-01-31T12:49:49.792Z"
      },
      {
        "duration": 31,
        "start_time": "2022-01-31T12:49:49.793Z"
      },
      {
        "duration": 31,
        "start_time": "2022-01-31T12:49:49.795Z"
      },
      {
        "duration": 32,
        "start_time": "2022-01-31T12:49:49.796Z"
      },
      {
        "duration": 28,
        "start_time": "2022-01-31T12:49:49.803Z"
      },
      {
        "duration": 28,
        "start_time": "2022-01-31T12:49:49.804Z"
      },
      {
        "duration": 29,
        "start_time": "2022-01-31T12:49:49.805Z"
      },
      {
        "duration": 29,
        "start_time": "2022-01-31T12:49:49.806Z"
      },
      {
        "duration": 31,
        "start_time": "2022-01-31T12:49:49.806Z"
      },
      {
        "duration": 334,
        "start_time": "2022-01-31T12:50:24.870Z"
      },
      {
        "duration": 359,
        "start_time": "2022-01-31T12:50:50.671Z"
      },
      {
        "duration": 461,
        "start_time": "2022-01-31T12:51:13.125Z"
      },
      {
        "duration": 311,
        "start_time": "2022-01-31T12:52:46.290Z"
      },
      {
        "duration": 4813,
        "start_time": "2022-01-31T12:53:13.986Z"
      },
      {
        "duration": 92,
        "start_time": "2022-01-31T12:53:31.365Z"
      },
      {
        "duration": 1202,
        "start_time": "2022-01-31T12:54:48.940Z"
      },
      {
        "duration": 902,
        "start_time": "2022-01-31T12:55:19.866Z"
      },
      {
        "duration": 432,
        "start_time": "2022-01-31T12:57:04.721Z"
      },
      {
        "duration": 369,
        "start_time": "2022-01-31T12:57:38.568Z"
      },
      {
        "duration": 454,
        "start_time": "2022-01-31T12:58:34.974Z"
      },
      {
        "duration": 452,
        "start_time": "2022-01-31T12:58:44.080Z"
      },
      {
        "duration": 3463,
        "start_time": "2022-01-31T13:00:07.585Z"
      },
      {
        "duration": 1564,
        "start_time": "2022-01-31T13:00:11.052Z"
      },
      {
        "duration": 855,
        "start_time": "2022-01-31T13:00:12.619Z"
      },
      {
        "duration": 26,
        "start_time": "2022-01-31T13:00:13.477Z"
      },
      {
        "duration": 47,
        "start_time": "2022-01-31T13:00:13.506Z"
      },
      {
        "duration": 9,
        "start_time": "2022-01-31T13:00:13.556Z"
      },
      {
        "duration": 10,
        "start_time": "2022-01-31T13:00:13.567Z"
      },
      {
        "duration": 14,
        "start_time": "2022-01-31T13:00:13.579Z"
      },
      {
        "duration": 501,
        "start_time": "2022-01-31T13:00:13.597Z"
      },
      {
        "duration": 1153,
        "start_time": "2022-01-31T13:00:14.101Z"
      },
      {
        "duration": 921,
        "start_time": "2022-01-31T13:00:15.256Z"
      },
      {
        "duration": 12,
        "start_time": "2022-01-31T13:00:16.179Z"
      },
      {
        "duration": 1313,
        "start_time": "2022-01-31T13:00:16.194Z"
      },
      {
        "duration": 14,
        "start_time": "2022-01-31T13:00:17.510Z"
      },
      {
        "duration": 485,
        "start_time": "2022-01-31T13:00:17.527Z"
      },
      {
        "duration": 559,
        "start_time": "2022-01-31T13:00:18.014Z"
      },
      {
        "duration": 561,
        "start_time": "2022-01-31T13:00:18.575Z"
      },
      {
        "duration": 700,
        "start_time": "2022-01-31T13:00:19.139Z"
      },
      {
        "duration": 7,
        "start_time": "2022-01-31T13:00:19.841Z"
      },
      {
        "duration": 30,
        "start_time": "2022-01-31T13:00:19.850Z"
      },
      {
        "duration": 6,
        "start_time": "2022-01-31T13:00:19.883Z"
      },
      {
        "duration": 9,
        "start_time": "2022-01-31T13:00:19.891Z"
      },
      {
        "duration": 24,
        "start_time": "2022-01-31T13:00:19.902Z"
      },
      {
        "duration": 15,
        "start_time": "2022-01-31T13:00:19.928Z"
      },
      {
        "duration": 557,
        "start_time": "2022-01-31T13:00:19.945Z"
      },
      {
        "duration": 555,
        "start_time": "2022-01-31T13:00:20.505Z"
      },
      {
        "duration": 567,
        "start_time": "2022-01-31T13:00:21.068Z"
      },
      {
        "duration": 7,
        "start_time": "2022-01-31T13:00:21.638Z"
      },
      {
        "duration": 592,
        "start_time": "2022-01-31T13:00:21.648Z"
      },
      {
        "duration": 6,
        "start_time": "2022-01-31T13:00:22.242Z"
      },
      {
        "duration": 8,
        "start_time": "2022-01-31T13:00:22.250Z"
      },
      {
        "duration": 8,
        "start_time": "2022-01-31T13:00:22.260Z"
      },
      {
        "duration": 562,
        "start_time": "2022-01-31T13:00:22.271Z"
      },
      {
        "duration": 6,
        "start_time": "2022-01-31T13:00:22.835Z"
      },
      {
        "duration": 9,
        "start_time": "2022-01-31T13:00:22.843Z"
      },
      {
        "duration": 6,
        "start_time": "2022-01-31T13:00:22.854Z"
      },
      {
        "duration": 9,
        "start_time": "2022-01-31T13:00:22.863Z"
      },
      {
        "duration": 51,
        "start_time": "2022-01-31T13:00:22.874Z"
      },
      {
        "duration": 14,
        "start_time": "2022-01-31T13:00:22.927Z"
      },
      {
        "duration": 9,
        "start_time": "2022-01-31T13:00:22.943Z"
      },
      {
        "duration": 9,
        "start_time": "2022-01-31T13:00:22.955Z"
      },
      {
        "duration": 581,
        "start_time": "2022-01-31T13:00:22.966Z"
      },
      {
        "duration": 5,
        "start_time": "2022-01-31T13:00:23.550Z"
      },
      {
        "duration": 11,
        "start_time": "2022-01-31T13:00:23.558Z"
      },
      {
        "duration": 12,
        "start_time": "2022-01-31T13:00:23.572Z"
      },
      {
        "duration": 14,
        "start_time": "2022-01-31T13:00:23.587Z"
      },
      {
        "duration": 22,
        "start_time": "2022-01-31T13:00:23.603Z"
      },
      {
        "duration": 17,
        "start_time": "2022-01-31T13:00:23.629Z"
      },
      {
        "duration": 9,
        "start_time": "2022-01-31T13:00:23.648Z"
      },
      {
        "duration": 9,
        "start_time": "2022-01-31T13:00:23.660Z"
      },
      {
        "duration": 10,
        "start_time": "2022-01-31T13:00:23.672Z"
      },
      {
        "duration": 9,
        "start_time": "2022-01-31T13:00:23.684Z"
      },
      {
        "duration": 30,
        "start_time": "2022-01-31T13:00:23.696Z"
      },
      {
        "duration": 9,
        "start_time": "2022-01-31T13:00:23.729Z"
      },
      {
        "duration": 98,
        "start_time": "2022-01-31T13:00:23.741Z"
      },
      {
        "duration": 184,
        "start_time": "2022-01-31T13:00:23.843Z"
      },
      {
        "duration": 115,
        "start_time": "2022-01-31T13:00:24.031Z"
      },
      {
        "duration": 25,
        "start_time": "2022-01-31T13:00:24.226Z"
      },
      {
        "duration": 45,
        "start_time": "2022-01-31T13:02:06.765Z"
      },
      {
        "duration": 6,
        "start_time": "2022-01-31T13:02:15.349Z"
      },
      {
        "duration": 99,
        "start_time": "2022-01-31T13:18:51.935Z"
      },
      {
        "duration": 8,
        "start_time": "2022-01-31T13:19:02.365Z"
      },
      {
        "duration": 18,
        "start_time": "2022-01-31T13:19:40.100Z"
      },
      {
        "duration": 5,
        "start_time": "2022-01-31T13:20:42.811Z"
      },
      {
        "duration": 6,
        "start_time": "2022-01-31T13:21:18.846Z"
      },
      {
        "duration": 6,
        "start_time": "2022-01-31T13:22:24.563Z"
      },
      {
        "duration": 787,
        "start_time": "2022-01-31T13:32:07.643Z"
      },
      {
        "duration": 1240,
        "start_time": "2022-01-31T13:32:47.515Z"
      },
      {
        "duration": 8,
        "start_time": "2022-01-31T13:34:00.121Z"
      },
      {
        "duration": 5,
        "start_time": "2022-01-31T13:37:05.814Z"
      },
      {
        "duration": 6,
        "start_time": "2022-01-31T13:38:34.053Z"
      },
      {
        "duration": 5,
        "start_time": "2022-01-31T13:38:34.519Z"
      },
      {
        "duration": 7,
        "start_time": "2022-01-31T13:38:34.910Z"
      },
      {
        "duration": 910,
        "start_time": "2022-01-31T13:38:35.384Z"
      },
      {
        "duration": 6,
        "start_time": "2022-01-31T13:39:16.788Z"
      },
      {
        "duration": 8,
        "start_time": "2022-01-31T13:39:17.144Z"
      },
      {
        "duration": 5,
        "start_time": "2022-01-31T13:39:17.386Z"
      },
      {
        "duration": 6,
        "start_time": "2022-01-31T13:39:17.663Z"
      },
      {
        "duration": 12,
        "start_time": "2022-01-31T13:40:33.777Z"
      },
      {
        "duration": 1717,
        "start_time": "2022-01-31T13:40:35.320Z"
      },
      {
        "duration": 6,
        "start_time": "2022-01-31T13:40:39.801Z"
      },
      {
        "duration": 625,
        "start_time": "2022-01-31T13:44:37.655Z"
      },
      {
        "duration": 5,
        "start_time": "2022-01-31T13:45:30.337Z"
      },
      {
        "duration": 6,
        "start_time": "2022-01-31T13:45:31.443Z"
      },
      {
        "duration": 7,
        "start_time": "2022-01-31T13:45:31.956Z"
      },
      {
        "duration": 14,
        "start_time": "2022-01-31T13:45:33.743Z"
      },
      {
        "duration": 933,
        "start_time": "2022-01-31T13:45:35.191Z"
      },
      {
        "duration": 8,
        "start_time": "2022-01-31T13:45:38.033Z"
      },
      {
        "duration": 6,
        "start_time": "2022-01-31T13:45:59.598Z"
      },
      {
        "duration": 1184,
        "start_time": "2022-01-31T13:46:00.499Z"
      },
      {
        "duration": 10,
        "start_time": "2022-01-31T13:46:34.018Z"
      },
      {
        "duration": 742,
        "start_time": "2022-01-31T13:46:35.040Z"
      },
      {
        "duration": 295,
        "start_time": "2022-01-31T13:47:31.668Z"
      },
      {
        "duration": 14,
        "start_time": "2022-01-31T13:47:36.528Z"
      },
      {
        "duration": 293,
        "start_time": "2022-01-31T13:47:37.620Z"
      },
      {
        "duration": 327,
        "start_time": "2022-01-31T13:47:47.997Z"
      },
      {
        "duration": 6,
        "start_time": "2022-01-31T13:48:20.444Z"
      },
      {
        "duration": 4,
        "start_time": "2022-01-31T13:48:21.952Z"
      },
      {
        "duration": 8,
        "start_time": "2022-01-31T13:48:22.937Z"
      },
      {
        "duration": 6,
        "start_time": "2022-01-31T13:48:24.011Z"
      },
      {
        "duration": 6,
        "start_time": "2022-01-31T13:48:45.808Z"
      },
      {
        "duration": 17,
        "start_time": "2022-01-31T13:48:51.731Z"
      },
      {
        "duration": 362,
        "start_time": "2022-01-31T13:48:54.720Z"
      },
      {
        "duration": 16,
        "start_time": "2022-01-31T13:49:31.368Z"
      },
      {
        "duration": 796,
        "start_time": "2022-01-31T13:49:32.436Z"
      },
      {
        "duration": 5,
        "start_time": "2022-01-31T13:49:34.018Z"
      },
      {
        "duration": 6,
        "start_time": "2022-01-31T13:49:40.995Z"
      },
      {
        "duration": 3,
        "start_time": "2022-01-31T13:49:41.639Z"
      },
      {
        "duration": 6,
        "start_time": "2022-01-31T13:49:42.118Z"
      },
      {
        "duration": 6,
        "start_time": "2022-01-31T13:49:42.587Z"
      },
      {
        "duration": 16,
        "start_time": "2022-01-31T13:49:43.641Z"
      },
      {
        "duration": 781,
        "start_time": "2022-01-31T13:49:44.443Z"
      },
      {
        "duration": 6,
        "start_time": "2022-01-31T13:49:46.462Z"
      },
      {
        "duration": 8,
        "start_time": "2022-01-31T13:49:57.821Z"
      },
      {
        "duration": 6,
        "start_time": "2022-01-31T13:49:58.869Z"
      },
      {
        "duration": 651,
        "start_time": "2022-01-31T13:50:02.097Z"
      },
      {
        "duration": 2374,
        "start_time": "2022-01-31T13:51:00.822Z"
      },
      {
        "duration": 335,
        "start_time": "2022-01-31T13:52:06.381Z"
      },
      {
        "duration": 532,
        "start_time": "2022-01-31T13:52:38.000Z"
      },
      {
        "duration": 9,
        "start_time": "2022-01-31T13:53:14.947Z"
      },
      {
        "duration": 44,
        "start_time": "2022-01-31T13:53:28.631Z"
      },
      {
        "duration": 13,
        "start_time": "2022-01-31T13:53:42.535Z"
      },
      {
        "duration": 624,
        "start_time": "2022-01-31T13:54:00.724Z"
      },
      {
        "duration": 7,
        "start_time": "2022-01-31T13:54:11.937Z"
      },
      {
        "duration": 590,
        "start_time": "2022-01-31T13:55:18.139Z"
      },
      {
        "duration": 6,
        "start_time": "2022-01-31T13:57:17.139Z"
      },
      {
        "duration": 338,
        "start_time": "2022-01-31T13:57:28.843Z"
      },
      {
        "duration": 1321,
        "start_time": "2022-01-31T13:57:38.007Z"
      },
      {
        "duration": 5239,
        "start_time": "2022-01-31T13:57:50.250Z"
      },
      {
        "duration": 51445,
        "start_time": "2022-01-31T13:58:19.661Z"
      },
      {
        "duration": 16,
        "start_time": "2022-01-31T14:02:40.597Z"
      },
      {
        "duration": 2113,
        "start_time": "2022-01-31T14:02:41.314Z"
      },
      {
        "duration": 6,
        "start_time": "2022-01-31T14:02:43.997Z"
      },
      {
        "duration": 5,
        "start_time": "2022-01-31T14:02:55.268Z"
      },
      {
        "duration": 5,
        "start_time": "2022-01-31T14:03:46.938Z"
      },
      {
        "duration": 698,
        "start_time": "2022-01-31T14:11:31.161Z"
      },
      {
        "duration": 6,
        "start_time": "2022-01-31T14:12:02.316Z"
      },
      {
        "duration": 2100,
        "start_time": "2022-01-31T14:12:05.173Z"
      },
      {
        "duration": 6,
        "start_time": "2022-01-31T14:13:54.794Z"
      },
      {
        "duration": 3870,
        "start_time": "2022-01-31T14:24:04.066Z"
      },
      {
        "duration": 1747,
        "start_time": "2022-01-31T14:24:07.939Z"
      },
      {
        "duration": 1129,
        "start_time": "2022-01-31T14:24:09.689Z"
      },
      {
        "duration": 30,
        "start_time": "2022-01-31T14:24:10.821Z"
      },
      {
        "duration": 79,
        "start_time": "2022-01-31T14:24:10.854Z"
      },
      {
        "duration": 16,
        "start_time": "2022-01-31T14:24:10.937Z"
      },
      {
        "duration": 14,
        "start_time": "2022-01-31T14:24:10.956Z"
      },
      {
        "duration": 16,
        "start_time": "2022-01-31T14:24:10.974Z"
      },
      {
        "duration": 548,
        "start_time": "2022-01-31T14:24:10.993Z"
      },
      {
        "duration": 1171,
        "start_time": "2022-01-31T14:24:11.544Z"
      },
      {
        "duration": 893,
        "start_time": "2022-01-31T14:24:12.723Z"
      },
      {
        "duration": 14,
        "start_time": "2022-01-31T14:24:13.619Z"
      },
      {
        "duration": 1281,
        "start_time": "2022-01-31T14:24:13.636Z"
      },
      {
        "duration": 12,
        "start_time": "2022-01-31T14:24:14.919Z"
      },
      {
        "duration": 479,
        "start_time": "2022-01-31T14:24:14.934Z"
      },
      {
        "duration": 480,
        "start_time": "2022-01-31T14:24:15.416Z"
      },
      {
        "duration": 495,
        "start_time": "2022-01-31T14:24:15.898Z"
      },
      {
        "duration": 482,
        "start_time": "2022-01-31T14:24:16.395Z"
      },
      {
        "duration": 7,
        "start_time": "2022-01-31T14:24:16.880Z"
      },
      {
        "duration": 13,
        "start_time": "2022-01-31T14:24:16.889Z"
      },
      {
        "duration": 11,
        "start_time": "2022-01-31T14:24:16.924Z"
      },
      {
        "duration": 15,
        "start_time": "2022-01-31T14:24:16.938Z"
      },
      {
        "duration": 6,
        "start_time": "2022-01-31T14:24:16.959Z"
      },
      {
        "duration": 17,
        "start_time": "2022-01-31T14:24:16.969Z"
      },
      {
        "duration": 581,
        "start_time": "2022-01-31T14:24:16.989Z"
      },
      {
        "duration": 590,
        "start_time": "2022-01-31T14:24:17.572Z"
      },
      {
        "duration": 632,
        "start_time": "2022-01-31T14:24:18.165Z"
      },
      {
        "duration": 7,
        "start_time": "2022-01-31T14:24:18.800Z"
      },
      {
        "duration": 604,
        "start_time": "2022-01-31T14:24:18.826Z"
      },
      {
        "duration": 9,
        "start_time": "2022-01-31T14:24:19.433Z"
      },
      {
        "duration": 17,
        "start_time": "2022-01-31T14:24:19.444Z"
      },
      {
        "duration": 6,
        "start_time": "2022-01-31T14:24:19.464Z"
      },
      {
        "duration": 580,
        "start_time": "2022-01-31T14:24:19.473Z"
      },
      {
        "duration": 6,
        "start_time": "2022-01-31T14:24:20.055Z"
      },
      {
        "duration": 10,
        "start_time": "2022-01-31T14:24:20.063Z"
      },
      {
        "duration": 10,
        "start_time": "2022-01-31T14:24:20.076Z"
      },
      {
        "duration": 46,
        "start_time": "2022-01-31T14:24:20.088Z"
      },
      {
        "duration": 9,
        "start_time": "2022-01-31T14:24:20.137Z"
      },
      {
        "duration": 8,
        "start_time": "2022-01-31T14:24:20.148Z"
      },
      {
        "duration": 7,
        "start_time": "2022-01-31T14:24:20.159Z"
      },
      {
        "duration": 11,
        "start_time": "2022-01-31T14:24:20.169Z"
      },
      {
        "duration": 541,
        "start_time": "2022-01-31T14:24:20.182Z"
      },
      {
        "duration": 6,
        "start_time": "2022-01-31T14:24:20.726Z"
      },
      {
        "duration": 19,
        "start_time": "2022-01-31T14:24:20.734Z"
      },
      {
        "duration": 16,
        "start_time": "2022-01-31T14:24:20.756Z"
      },
      {
        "duration": 7,
        "start_time": "2022-01-31T14:24:20.774Z"
      },
      {
        "duration": 6,
        "start_time": "2022-01-31T14:24:20.784Z"
      },
      {
        "duration": 41,
        "start_time": "2022-01-31T14:24:20.792Z"
      },
      {
        "duration": 17,
        "start_time": "2022-01-31T14:24:20.835Z"
      },
      {
        "duration": 9,
        "start_time": "2022-01-31T14:24:20.855Z"
      },
      {
        "duration": 9,
        "start_time": "2022-01-31T14:24:20.867Z"
      },
      {
        "duration": 12,
        "start_time": "2022-01-31T14:24:20.879Z"
      },
      {
        "duration": 8,
        "start_time": "2022-01-31T14:24:20.894Z"
      },
      {
        "duration": 22,
        "start_time": "2022-01-31T14:24:20.924Z"
      },
      {
        "duration": 1785,
        "start_time": "2022-01-31T14:24:20.949Z"
      },
      {
        "duration": 5,
        "start_time": "2022-01-31T14:24:22.737Z"
      },
      {
        "duration": 10,
        "start_time": "2022-01-31T14:24:22.745Z"
      },
      {
        "duration": 450,
        "start_time": "2022-01-31T14:24:22.758Z"
      },
      {
        "duration": 31,
        "start_time": "2022-01-31T14:24:23.181Z"
      },
      {
        "duration": 30,
        "start_time": "2022-01-31T14:24:23.183Z"
      },
      {
        "duration": 31,
        "start_time": "2022-01-31T14:24:23.185Z"
      },
      {
        "duration": 10,
        "start_time": "2022-01-31T14:24:34.333Z"
      },
      {
        "duration": 3383,
        "start_time": "2022-01-31T14:26:35.746Z"
      },
      {
        "duration": 1537,
        "start_time": "2022-01-31T14:26:39.133Z"
      },
      {
        "duration": 930,
        "start_time": "2022-01-31T14:26:40.673Z"
      },
      {
        "duration": 41,
        "start_time": "2022-01-31T14:26:41.606Z"
      },
      {
        "duration": 35,
        "start_time": "2022-01-31T14:26:41.650Z"
      },
      {
        "duration": 10,
        "start_time": "2022-01-31T14:26:41.688Z"
      },
      {
        "duration": 10,
        "start_time": "2022-01-31T14:26:41.727Z"
      },
      {
        "duration": 12,
        "start_time": "2022-01-31T14:26:41.739Z"
      },
      {
        "duration": 514,
        "start_time": "2022-01-31T14:26:41.755Z"
      },
      {
        "duration": 1170,
        "start_time": "2022-01-31T14:26:42.272Z"
      },
      {
        "duration": 879,
        "start_time": "2022-01-31T14:26:43.444Z"
      },
      {
        "duration": 16,
        "start_time": "2022-01-31T14:26:44.326Z"
      },
      {
        "duration": 1344,
        "start_time": "2022-01-31T14:26:44.344Z"
      },
      {
        "duration": 13,
        "start_time": "2022-01-31T14:26:45.690Z"
      },
      {
        "duration": 486,
        "start_time": "2022-01-31T14:26:45.706Z"
      },
      {
        "duration": 464,
        "start_time": "2022-01-31T14:26:46.195Z"
      },
      {
        "duration": 469,
        "start_time": "2022-01-31T14:26:46.661Z"
      },
      {
        "duration": 464,
        "start_time": "2022-01-31T14:26:47.135Z"
      },
      {
        "duration": 6,
        "start_time": "2022-01-31T14:26:47.602Z"
      },
      {
        "duration": 22,
        "start_time": "2022-01-31T14:26:47.611Z"
      },
      {
        "duration": 12,
        "start_time": "2022-01-31T14:26:47.636Z"
      },
      {
        "duration": 6,
        "start_time": "2022-01-31T14:26:47.651Z"
      },
      {
        "duration": 7,
        "start_time": "2022-01-31T14:26:47.659Z"
      },
      {
        "duration": 16,
        "start_time": "2022-01-31T14:26:47.668Z"
      },
      {
        "duration": 568,
        "start_time": "2022-01-31T14:26:47.723Z"
      },
      {
        "duration": 569,
        "start_time": "2022-01-31T14:26:48.294Z"
      },
      {
        "duration": 543,
        "start_time": "2022-01-31T14:26:48.868Z"
      },
      {
        "duration": 19,
        "start_time": "2022-01-31T14:26:49.414Z"
      },
      {
        "duration": 594,
        "start_time": "2022-01-31T14:26:49.436Z"
      },
      {
        "duration": 8,
        "start_time": "2022-01-31T14:26:50.033Z"
      },
      {
        "duration": 7,
        "start_time": "2022-01-31T14:26:50.044Z"
      },
      {
        "duration": 6,
        "start_time": "2022-01-31T14:26:50.054Z"
      },
      {
        "duration": 548,
        "start_time": "2022-01-31T14:26:50.062Z"
      },
      {
        "duration": 17,
        "start_time": "2022-01-31T14:26:50.612Z"
      },
      {
        "duration": 12,
        "start_time": "2022-01-31T14:26:50.635Z"
      },
      {
        "duration": 11,
        "start_time": "2022-01-31T14:26:50.649Z"
      },
      {
        "duration": 10,
        "start_time": "2022-01-31T14:26:50.662Z"
      },
      {
        "duration": 10,
        "start_time": "2022-01-31T14:26:50.674Z"
      },
      {
        "duration": 44,
        "start_time": "2022-01-31T14:26:50.687Z"
      },
      {
        "duration": 16,
        "start_time": "2022-01-31T14:26:50.734Z"
      },
      {
        "duration": 13,
        "start_time": "2022-01-31T14:26:50.753Z"
      },
      {
        "duration": 536,
        "start_time": "2022-01-31T14:26:50.769Z"
      },
      {
        "duration": 16,
        "start_time": "2022-01-31T14:26:51.307Z"
      },
      {
        "duration": 4,
        "start_time": "2022-01-31T14:26:51.326Z"
      },
      {
        "duration": 24,
        "start_time": "2022-01-31T14:26:51.333Z"
      },
      {
        "duration": 8,
        "start_time": "2022-01-31T14:26:51.359Z"
      },
      {
        "duration": 5,
        "start_time": "2022-01-31T14:26:51.369Z"
      },
      {
        "duration": 7,
        "start_time": "2022-01-31T14:26:51.377Z"
      },
      {
        "duration": 6,
        "start_time": "2022-01-31T14:26:51.387Z"
      },
      {
        "duration": 38,
        "start_time": "2022-01-31T14:26:51.395Z"
      },
      {
        "duration": 5,
        "start_time": "2022-01-31T14:26:51.436Z"
      },
      {
        "duration": 7,
        "start_time": "2022-01-31T14:26:51.444Z"
      },
      {
        "duration": 21,
        "start_time": "2022-01-31T14:26:51.454Z"
      },
      {
        "duration": 65,
        "start_time": "2022-01-31T14:26:51.478Z"
      },
      {
        "duration": 1799,
        "start_time": "2022-01-31T14:26:51.546Z"
      },
      {
        "duration": 90,
        "start_time": "2022-01-31T14:26:53.349Z"
      },
      {
        "duration": 94,
        "start_time": "2022-01-31T14:26:53.442Z"
      },
      {
        "duration": 13,
        "start_time": "2022-01-31T14:26:53.539Z"
      },
      {
        "duration": 1363512,
        "start_time": "2022-01-31T14:26:53.556Z"
      },
      {
        "duration": -55,
        "start_time": "2022-01-31T14:49:37.126Z"
      },
      {
        "duration": -61,
        "start_time": "2022-01-31T14:49:37.134Z"
      },
      {
        "duration": -62,
        "start_time": "2022-01-31T14:49:37.137Z"
      },
      {
        "duration": -60,
        "start_time": "2022-01-31T14:49:37.139Z"
      },
      {
        "duration": 8,
        "start_time": "2022-01-31T14:50:43.474Z"
      },
      {
        "duration": 649,
        "start_time": "2022-01-31T14:50:46.685Z"
      },
      {
        "duration": 6,
        "start_time": "2022-01-31T14:51:03.991Z"
      },
      {
        "duration": 599,
        "start_time": "2022-01-31T14:51:05.617Z"
      },
      {
        "duration": 5,
        "start_time": "2022-01-31T14:52:04.760Z"
      },
      {
        "duration": 8,
        "start_time": "2022-01-31T14:52:17.258Z"
      },
      {
        "duration": 659,
        "start_time": "2022-01-31T14:52:18.406Z"
      },
      {
        "duration": 6,
        "start_time": "2022-01-31T14:55:31.366Z"
      },
      {
        "duration": 1937,
        "start_time": "2022-01-31T14:55:32.497Z"
      },
      {
        "duration": 8,
        "start_time": "2022-01-31T14:55:44.044Z"
      },
      {
        "duration": 429352,
        "start_time": "2022-01-31T14:55:44.740Z"
      },
      {
        "duration": 6,
        "start_time": "2022-01-31T15:17:57.775Z"
      },
      {
        "duration": 381652,
        "start_time": "2022-01-31T15:17:59.639Z"
      },
      {
        "duration": 517,
        "start_time": "2022-01-31T15:27:04.619Z"
      },
      {
        "duration": 84949,
        "start_time": "2022-01-31T15:27:43.947Z"
      },
      {
        "duration": 6,
        "start_time": "2022-01-31T15:29:28.403Z"
      },
      {
        "duration": 4541,
        "start_time": "2022-01-31T15:30:27.888Z"
      },
      {
        "duration": 45,
        "start_time": "2022-01-31T15:30:36.157Z"
      },
      {
        "duration": 152,
        "start_time": "2022-01-31T15:30:57.442Z"
      },
      {
        "duration": 1262,
        "start_time": "2022-01-31T15:31:05.064Z"
      },
      {
        "duration": 3341,
        "start_time": "2022-01-31T15:31:38.521Z"
      },
      {
        "duration": 1543,
        "start_time": "2022-01-31T15:31:41.866Z"
      },
      {
        "duration": 956,
        "start_time": "2022-01-31T15:31:43.412Z"
      },
      {
        "duration": 25,
        "start_time": "2022-01-31T15:31:44.371Z"
      },
      {
        "duration": 62,
        "start_time": "2022-01-31T15:31:44.398Z"
      },
      {
        "duration": 10,
        "start_time": "2022-01-31T15:31:44.462Z"
      },
      {
        "duration": 9,
        "start_time": "2022-01-31T15:31:44.475Z"
      },
      {
        "duration": 39,
        "start_time": "2022-01-31T15:31:44.487Z"
      },
      {
        "duration": 509,
        "start_time": "2022-01-31T15:31:44.530Z"
      },
      {
        "duration": 1169,
        "start_time": "2022-01-31T15:31:45.042Z"
      },
      {
        "duration": 890,
        "start_time": "2022-01-31T15:31:46.215Z"
      },
      {
        "duration": 1424,
        "start_time": "2022-01-31T15:31:47.107Z"
      },
      {
        "duration": 14,
        "start_time": "2022-01-31T15:31:48.534Z"
      },
      {
        "duration": 4290,
        "start_time": "2022-01-31T15:31:48.551Z"
      },
      {
        "duration": 38,
        "start_time": "2022-01-31T15:31:52.844Z"
      },
      {
        "duration": 131,
        "start_time": "2022-01-31T15:31:52.885Z"
      },
      {
        "duration": 1271,
        "start_time": "2022-01-31T15:31:53.022Z"
      },
      {
        "duration": -89,
        "start_time": "2022-01-31T15:31:54.386Z"
      },
      {
        "duration": -95,
        "start_time": "2022-01-31T15:31:54.394Z"
      },
      {
        "duration": -96,
        "start_time": "2022-01-31T15:31:54.396Z"
      },
      {
        "duration": -96,
        "start_time": "2022-01-31T15:31:54.398Z"
      },
      {
        "duration": -97,
        "start_time": "2022-01-31T15:31:54.400Z"
      },
      {
        "duration": -98,
        "start_time": "2022-01-31T15:31:54.402Z"
      },
      {
        "duration": -81,
        "start_time": "2022-01-31T15:31:54.404Z"
      },
      {
        "duration": -87,
        "start_time": "2022-01-31T15:31:54.412Z"
      },
      {
        "duration": -88,
        "start_time": "2022-01-31T15:31:54.414Z"
      },
      {
        "duration": -85,
        "start_time": "2022-01-31T15:31:54.415Z"
      },
      {
        "duration": -85,
        "start_time": "2022-01-31T15:31:54.417Z"
      },
      {
        "duration": -85,
        "start_time": "2022-01-31T15:31:54.418Z"
      },
      {
        "duration": -86,
        "start_time": "2022-01-31T15:31:54.420Z"
      },
      {
        "duration": -87,
        "start_time": "2022-01-31T15:31:54.422Z"
      },
      {
        "duration": -91,
        "start_time": "2022-01-31T15:31:54.428Z"
      },
      {
        "duration": -91,
        "start_time": "2022-01-31T15:31:54.431Z"
      },
      {
        "duration": -91,
        "start_time": "2022-01-31T15:31:54.433Z"
      },
      {
        "duration": -86,
        "start_time": "2022-01-31T15:31:54.434Z"
      },
      {
        "duration": -85,
        "start_time": "2022-01-31T15:31:54.435Z"
      },
      {
        "duration": -83,
        "start_time": "2022-01-31T15:31:54.436Z"
      },
      {
        "duration": -83,
        "start_time": "2022-01-31T15:31:54.438Z"
      },
      {
        "duration": -87,
        "start_time": "2022-01-31T15:31:54.444Z"
      },
      {
        "duration": -86,
        "start_time": "2022-01-31T15:31:54.445Z"
      },
      {
        "duration": -85,
        "start_time": "2022-01-31T15:31:54.446Z"
      },
      {
        "duration": -84,
        "start_time": "2022-01-31T15:31:54.447Z"
      },
      {
        "duration": -84,
        "start_time": "2022-01-31T15:31:54.449Z"
      },
      {
        "duration": -83,
        "start_time": "2022-01-31T15:31:54.450Z"
      },
      {
        "duration": -27,
        "start_time": "2022-01-31T15:31:54.451Z"
      },
      {
        "duration": -34,
        "start_time": "2022-01-31T15:31:54.459Z"
      },
      {
        "duration": -33,
        "start_time": "2022-01-31T15:31:54.460Z"
      },
      {
        "duration": -32,
        "start_time": "2022-01-31T15:31:54.461Z"
      },
      {
        "duration": -31,
        "start_time": "2022-01-31T15:31:54.462Z"
      },
      {
        "duration": -30,
        "start_time": "2022-01-31T15:31:54.463Z"
      },
      {
        "duration": -36,
        "start_time": "2022-01-31T15:31:54.471Z"
      },
      {
        "duration": -34,
        "start_time": "2022-01-31T15:31:54.472Z"
      },
      {
        "duration": -36,
        "start_time": "2022-01-31T15:31:54.477Z"
      },
      {
        "duration": -35,
        "start_time": "2022-01-31T15:31:54.478Z"
      },
      {
        "duration": -34,
        "start_time": "2022-01-31T15:31:54.482Z"
      },
      {
        "duration": -33,
        "start_time": "2022-01-31T15:31:54.483Z"
      },
      {
        "duration": -82,
        "start_time": "2022-01-31T15:31:54.533Z"
      },
      {
        "duration": -83,
        "start_time": "2022-01-31T15:31:54.536Z"
      },
      {
        "duration": -89,
        "start_time": "2022-01-31T15:31:54.544Z"
      },
      {
        "duration": -90,
        "start_time": "2022-01-31T15:31:54.547Z"
      },
      {
        "duration": -91,
        "start_time": "2022-01-31T15:31:54.549Z"
      },
      {
        "duration": -90,
        "start_time": "2022-01-31T15:31:54.550Z"
      },
      {
        "duration": -90,
        "start_time": "2022-01-31T15:31:54.552Z"
      },
      {
        "duration": 313,
        "start_time": "2022-01-31T15:32:40.348Z"
      },
      {
        "duration": 635,
        "start_time": "2022-01-31T15:33:44.778Z"
      },
      {
        "duration": 186,
        "start_time": "2022-01-31T15:33:56.519Z"
      },
      {
        "duration": 534,
        "start_time": "2022-01-31T15:33:58.940Z"
      },
      {
        "duration": 510,
        "start_time": "2022-01-31T15:34:08.101Z"
      },
      {
        "duration": 494,
        "start_time": "2022-01-31T15:34:20.019Z"
      },
      {
        "duration": 7,
        "start_time": "2022-01-31T15:34:24.758Z"
      },
      {
        "duration": 15,
        "start_time": "2022-01-31T15:34:28.838Z"
      },
      {
        "duration": 6,
        "start_time": "2022-01-31T15:34:31.191Z"
      },
      {
        "duration": 7,
        "start_time": "2022-01-31T15:34:32.379Z"
      },
      {
        "duration": 12,
        "start_time": "2022-01-31T15:34:37.418Z"
      },
      {
        "duration": 13,
        "start_time": "2022-01-31T15:34:41.183Z"
      },
      {
        "duration": 672,
        "start_time": "2022-01-31T15:34:44.951Z"
      },
      {
        "duration": 795,
        "start_time": "2022-01-31T15:34:52.853Z"
      },
      {
        "duration": 104,
        "start_time": "2022-01-31T15:34:56.669Z"
      },
      {
        "duration": 7,
        "start_time": "2022-01-31T15:35:33.653Z"
      },
      {
        "duration": 6,
        "start_time": "2022-01-31T15:35:51.417Z"
      },
      {
        "duration": 7,
        "start_time": "2022-01-31T15:36:02.997Z"
      },
      {
        "duration": 667,
        "start_time": "2022-01-31T15:36:21.706Z"
      },
      {
        "duration": 677,
        "start_time": "2022-01-31T15:36:30.136Z"
      },
      {
        "duration": 9,
        "start_time": "2022-01-31T15:36:47.820Z"
      },
      {
        "duration": 609,
        "start_time": "2022-01-31T15:36:49.619Z"
      },
      {
        "duration": 8,
        "start_time": "2022-01-31T15:36:54.375Z"
      },
      {
        "duration": 7,
        "start_time": "2022-01-31T15:36:55.448Z"
      },
      {
        "duration": 7,
        "start_time": "2022-01-31T15:36:56.404Z"
      },
      {
        "duration": 560,
        "start_time": "2022-01-31T15:37:00.095Z"
      },
      {
        "duration": 10,
        "start_time": "2022-01-31T15:37:04.241Z"
      },
      {
        "duration": 8,
        "start_time": "2022-01-31T15:37:05.549Z"
      },
      {
        "duration": 8,
        "start_time": "2022-01-31T15:37:06.396Z"
      },
      {
        "duration": 11,
        "start_time": "2022-01-31T15:37:17.147Z"
      },
      {
        "duration": 7,
        "start_time": "2022-01-31T15:37:19.695Z"
      },
      {
        "duration": 9,
        "start_time": "2022-01-31T15:37:20.833Z"
      },
      {
        "duration": 8,
        "start_time": "2022-01-31T15:37:21.532Z"
      },
      {
        "duration": 7,
        "start_time": "2022-01-31T15:37:22.154Z"
      },
      {
        "duration": 445,
        "start_time": "2022-01-31T15:37:23.108Z"
      },
      {
        "duration": 5,
        "start_time": "2022-01-31T15:37:36.104Z"
      },
      {
        "duration": 5,
        "start_time": "2022-01-31T15:37:36.915Z"
      },
      {
        "duration": 10,
        "start_time": "2022-01-31T15:37:41.972Z"
      },
      {
        "duration": 4,
        "start_time": "2022-01-31T15:37:43.519Z"
      },
      {
        "duration": 5,
        "start_time": "2022-01-31T15:37:44.320Z"
      },
      {
        "duration": 7,
        "start_time": "2022-01-31T15:37:45.089Z"
      },
      {
        "duration": 6,
        "start_time": "2022-01-31T15:37:47.720Z"
      },
      {
        "duration": 7,
        "start_time": "2022-01-31T15:37:51.050Z"
      },
      {
        "duration": 4,
        "start_time": "2022-01-31T15:37:52.417Z"
      },
      {
        "duration": 6,
        "start_time": "2022-01-31T15:37:53.471Z"
      },
      {
        "duration": 6,
        "start_time": "2022-01-31T15:37:54.408Z"
      },
      {
        "duration": 16,
        "start_time": "2022-01-31T15:37:59.063Z"
      },
      {
        "duration": 2209,
        "start_time": "2022-01-31T15:38:00.437Z"
      },
      {
        "duration": 7,
        "start_time": "2022-01-31T15:38:06.725Z"
      },
      {
        "duration": 11,
        "start_time": "2022-01-31T15:38:11.024Z"
      },
      {
        "duration": 6,
        "start_time": "2022-01-31T15:38:19.887Z"
      },
      {
        "duration": 83300,
        "start_time": "2022-01-31T15:38:31.896Z"
      },
      {
        "duration": 6,
        "start_time": "2022-01-31T15:40:46.322Z"
      },
      {
        "duration": 6,
        "start_time": "2022-01-31T15:41:49.409Z"
      },
      {
        "duration": 350531,
        "start_time": "2022-01-31T15:41:53.006Z"
      },
      {
        "duration": 10,
        "start_time": "2022-01-31T15:48:52.924Z"
      },
      {
        "duration": 293,
        "start_time": "2022-01-31T15:55:44.727Z"
      },
      {
        "duration": 4,
        "start_time": "2022-01-31T15:57:42.946Z"
      },
      {
        "duration": 282,
        "start_time": "2022-01-31T15:59:36.600Z"
      },
      {
        "duration": 6246,
        "start_time": "2022-01-31T16:00:00.300Z"
      },
      {
        "duration": 4,
        "start_time": "2022-01-31T16:01:17.401Z"
      },
      {
        "duration": 17,
        "start_time": "2022-01-31T16:01:18.574Z"
      },
      {
        "duration": 5446,
        "start_time": "2022-01-31T16:01:20.147Z"
      },
      {
        "duration": 5,
        "start_time": "2022-01-31T16:02:45.845Z"
      },
      {
        "duration": 4,
        "start_time": "2022-01-31T16:02:53.751Z"
      },
      {
        "duration": 19,
        "start_time": "2022-01-31T16:02:54.701Z"
      },
      {
        "duration": 6091,
        "start_time": "2022-01-31T16:02:55.712Z"
      },
      {
        "duration": 3447,
        "start_time": "2022-02-01T07:53:46.936Z"
      },
      {
        "duration": 1167,
        "start_time": "2022-02-01T07:53:50.385Z"
      },
      {
        "duration": 694,
        "start_time": "2022-02-01T07:53:51.554Z"
      },
      {
        "duration": 16,
        "start_time": "2022-02-01T07:53:52.249Z"
      },
      {
        "duration": 22,
        "start_time": "2022-02-01T07:53:52.266Z"
      },
      {
        "duration": 5,
        "start_time": "2022-02-01T07:53:52.290Z"
      },
      {
        "duration": 6,
        "start_time": "2022-02-01T07:53:52.297Z"
      },
      {
        "duration": 28,
        "start_time": "2022-02-01T07:53:52.305Z"
      },
      {
        "duration": 275,
        "start_time": "2022-02-01T07:53:52.335Z"
      },
      {
        "duration": 716,
        "start_time": "2022-02-01T07:53:52.612Z"
      },
      {
        "duration": 555,
        "start_time": "2022-02-01T07:53:53.330Z"
      },
      {
        "duration": 974,
        "start_time": "2022-02-01T07:53:53.887Z"
      },
      {
        "duration": 8,
        "start_time": "2022-02-01T07:53:54.863Z"
      },
      {
        "duration": 437,
        "start_time": "2022-02-01T07:53:54.873Z"
      },
      {
        "duration": 6,
        "start_time": "2022-02-01T07:53:55.312Z"
      },
      {
        "duration": 113,
        "start_time": "2022-02-01T07:53:55.327Z"
      },
      {
        "duration": 254,
        "start_time": "2022-02-01T07:53:55.442Z"
      },
      {
        "duration": 264,
        "start_time": "2022-02-01T07:53:55.698Z"
      },
      {
        "duration": 246,
        "start_time": "2022-02-01T07:53:55.964Z"
      },
      {
        "duration": 4,
        "start_time": "2022-02-01T07:53:56.212Z"
      },
      {
        "duration": 16,
        "start_time": "2022-02-01T07:53:56.217Z"
      },
      {
        "duration": 4,
        "start_time": "2022-02-01T07:53:56.234Z"
      },
      {
        "duration": 8,
        "start_time": "2022-02-01T07:53:56.239Z"
      },
      {
        "duration": 5,
        "start_time": "2022-02-01T07:53:56.249Z"
      },
      {
        "duration": 11,
        "start_time": "2022-02-01T07:53:56.255Z"
      },
      {
        "duration": 342,
        "start_time": "2022-02-01T07:53:56.268Z"
      },
      {
        "duration": 14,
        "start_time": "2022-02-01T07:53:56.613Z"
      },
      {
        "duration": 5,
        "start_time": "2022-02-01T07:53:56.629Z"
      },
      {
        "duration": 6,
        "start_time": "2022-02-01T07:53:56.635Z"
      },
      {
        "duration": 422,
        "start_time": "2022-02-01T07:53:56.643Z"
      },
      {
        "duration": 348,
        "start_time": "2022-02-01T07:53:57.067Z"
      },
      {
        "duration": 10,
        "start_time": "2022-02-01T07:53:57.417Z"
      },
      {
        "duration": 299,
        "start_time": "2022-02-01T07:53:57.428Z"
      },
      {
        "duration": 4,
        "start_time": "2022-02-01T07:53:57.728Z"
      },
      {
        "duration": 7,
        "start_time": "2022-02-01T07:53:57.734Z"
      },
      {
        "duration": 5,
        "start_time": "2022-02-01T07:53:57.743Z"
      },
      {
        "duration": 302,
        "start_time": "2022-02-01T07:53:57.749Z"
      },
      {
        "duration": 4,
        "start_time": "2022-02-01T07:53:58.052Z"
      },
      {
        "duration": 6,
        "start_time": "2022-02-01T07:53:58.058Z"
      },
      {
        "duration": 6,
        "start_time": "2022-02-01T07:53:58.065Z"
      },
      {
        "duration": 5,
        "start_time": "2022-02-01T07:53:58.073Z"
      },
      {
        "duration": 7,
        "start_time": "2022-02-01T07:53:58.079Z"
      },
      {
        "duration": 8,
        "start_time": "2022-02-01T07:53:58.088Z"
      },
      {
        "duration": 6,
        "start_time": "2022-02-01T07:53:58.097Z"
      },
      {
        "duration": 26,
        "start_time": "2022-02-01T07:53:58.104Z"
      },
      {
        "duration": 230,
        "start_time": "2022-02-01T07:53:58.132Z"
      },
      {
        "duration": 3,
        "start_time": "2022-02-01T07:53:58.364Z"
      },
      {
        "duration": 7,
        "start_time": "2022-02-01T07:53:58.369Z"
      },
      {
        "duration": 9,
        "start_time": "2022-02-01T07:53:58.377Z"
      },
      {
        "duration": 5,
        "start_time": "2022-02-01T07:53:58.388Z"
      },
      {
        "duration": 9,
        "start_time": "2022-02-01T07:53:58.394Z"
      },
      {
        "duration": 9,
        "start_time": "2022-02-01T07:53:58.404Z"
      },
      {
        "duration": 13,
        "start_time": "2022-02-01T07:53:58.415Z"
      },
      {
        "duration": 6,
        "start_time": "2022-02-01T07:53:58.429Z"
      },
      {
        "duration": 4,
        "start_time": "2022-02-01T07:53:58.436Z"
      },
      {
        "duration": 8,
        "start_time": "2022-02-01T07:53:58.441Z"
      },
      {
        "duration": 6,
        "start_time": "2022-02-01T07:53:58.450Z"
      },
      {
        "duration": 4,
        "start_time": "2022-02-01T07:53:58.457Z"
      },
      {
        "duration": 16,
        "start_time": "2022-02-01T07:53:58.462Z"
      },
      {
        "duration": 7507,
        "start_time": "2022-02-01T07:53:58.480Z"
      },
      {
        "duration": -30545,
        "start_time": "2022-02-01T07:54:36.534Z"
      },
      {
        "duration": -30595,
        "start_time": "2022-02-01T07:54:36.584Z"
      },
      {
        "duration": -30636,
        "start_time": "2022-02-01T07:54:36.626Z"
      },
      {
        "duration": -30643,
        "start_time": "2022-02-01T07:54:36.634Z"
      },
      {
        "duration": -30680,
        "start_time": "2022-02-01T07:54:36.672Z"
      },
      {
        "duration": -30681,
        "start_time": "2022-02-01T07:54:36.674Z"
      },
      {
        "duration": 3,
        "start_time": "2022-02-01T07:58:21.157Z"
      },
      {
        "duration": 2,
        "start_time": "2022-02-01T07:58:22.283Z"
      },
      {
        "duration": 12,
        "start_time": "2022-02-01T07:58:23.665Z"
      },
      {
        "duration": 6351,
        "start_time": "2022-02-01T07:58:25.207Z"
      },
      {
        "duration": 4,
        "start_time": "2022-02-01T08:13:54.922Z"
      },
      {
        "duration": 2,
        "start_time": "2022-02-01T08:13:55.884Z"
      },
      {
        "duration": 13,
        "start_time": "2022-02-01T08:13:56.712Z"
      },
      {
        "duration": 7524,
        "start_time": "2022-02-01T08:13:57.648Z"
      },
      {
        "duration": 4,
        "start_time": "2022-02-01T08:22:23.703Z"
      },
      {
        "duration": 3,
        "start_time": "2022-02-01T08:22:24.519Z"
      },
      {
        "duration": 11,
        "start_time": "2022-02-01T08:22:25.195Z"
      },
      {
        "duration": 6518,
        "start_time": "2022-02-01T08:22:26.104Z"
      },
      {
        "duration": 3,
        "start_time": "2022-02-01T08:34:31.759Z"
      },
      {
        "duration": 3,
        "start_time": "2022-02-01T08:34:33.199Z"
      },
      {
        "duration": 11,
        "start_time": "2022-02-01T08:34:34.562Z"
      },
      {
        "duration": 1531,
        "start_time": "2022-02-01T08:34:35.707Z"
      },
      {
        "duration": 4,
        "start_time": "2022-02-01T08:34:40.070Z"
      },
      {
        "duration": 3,
        "start_time": "2022-02-01T08:35:19.395Z"
      },
      {
        "duration": 150,
        "start_time": "2022-02-01T08:36:29.199Z"
      },
      {
        "duration": 5,
        "start_time": "2022-02-01T08:36:36.712Z"
      },
      {
        "duration": 4,
        "start_time": "2022-02-01T08:36:44.129Z"
      },
      {
        "duration": 251063,
        "start_time": "2022-02-01T08:36:49.985Z"
      },
      {
        "duration": 54934,
        "start_time": "2022-02-01T08:45:19.703Z"
      },
      {
        "duration": 4,
        "start_time": "2022-02-01T08:48:37.295Z"
      },
      {
        "duration": 2,
        "start_time": "2022-02-01T08:49:50.998Z"
      },
      {
        "duration": 3,
        "start_time": "2022-02-01T08:49:58.571Z"
      },
      {
        "duration": 12,
        "start_time": "2022-02-01T08:53:08.878Z"
      },
      {
        "duration": 3,
        "start_time": "2022-02-01T08:53:44.336Z"
      },
      {
        "duration": 13,
        "start_time": "2022-02-01T08:53:51.960Z"
      },
      {
        "duration": 6,
        "start_time": "2022-02-01T08:54:10.034Z"
      },
      {
        "duration": 394,
        "start_time": "2022-02-01T09:09:19.067Z"
      },
      {
        "duration": 631,
        "start_time": "2022-02-01T09:09:58.285Z"
      },
      {
        "duration": 8,
        "start_time": "2022-02-01T09:10:11.711Z"
      },
      {
        "duration": 644,
        "start_time": "2022-02-01T09:11:07.035Z"
      },
      {
        "duration": 5,
        "start_time": "2022-02-01T09:11:42.085Z"
      },
      {
        "duration": 9146,
        "start_time": "2022-02-01T09:12:00.227Z"
      },
      {
        "duration": 2314,
        "start_time": "2022-02-01T09:13:53.492Z"
      },
      {
        "duration": 1145,
        "start_time": "2022-02-01T09:13:55.808Z"
      },
      {
        "duration": 650,
        "start_time": "2022-02-01T09:13:56.955Z"
      },
      {
        "duration": 24,
        "start_time": "2022-02-01T09:13:57.607Z"
      },
      {
        "duration": 20,
        "start_time": "2022-02-01T09:13:57.633Z"
      },
      {
        "duration": 7,
        "start_time": "2022-02-01T09:13:57.655Z"
      },
      {
        "duration": 6,
        "start_time": "2022-02-01T09:13:57.664Z"
      },
      {
        "duration": 9,
        "start_time": "2022-02-01T09:13:57.672Z"
      },
      {
        "duration": 288,
        "start_time": "2022-02-01T09:13:57.684Z"
      },
      {
        "duration": 733,
        "start_time": "2022-02-01T09:13:57.974Z"
      },
      {
        "duration": 570,
        "start_time": "2022-02-01T09:13:58.708Z"
      },
      {
        "duration": 810,
        "start_time": "2022-02-01T09:13:59.279Z"
      },
      {
        "duration": 8,
        "start_time": "2022-02-01T09:14:00.091Z"
      },
      {
        "duration": 391,
        "start_time": "2022-02-01T09:14:00.100Z"
      },
      {
        "duration": 6,
        "start_time": "2022-02-01T09:14:00.492Z"
      },
      {
        "duration": 120,
        "start_time": "2022-02-01T09:14:00.500Z"
      },
      {
        "duration": 582,
        "start_time": "2022-02-01T09:14:00.622Z"
      },
      {
        "duration": 258,
        "start_time": "2022-02-01T09:14:01.205Z"
      },
      {
        "duration": 260,
        "start_time": "2022-02-01T09:14:01.464Z"
      },
      {
        "duration": 252,
        "start_time": "2022-02-01T09:14:01.726Z"
      },
      {
        "duration": 4,
        "start_time": "2022-02-01T09:14:01.980Z"
      },
      {
        "duration": 11,
        "start_time": "2022-02-01T09:14:01.985Z"
      },
      {
        "duration": 7,
        "start_time": "2022-02-01T09:14:01.997Z"
      },
      {
        "duration": 6,
        "start_time": "2022-02-01T09:14:02.005Z"
      },
      {
        "duration": 15,
        "start_time": "2022-02-01T09:14:02.013Z"
      },
      {
        "duration": 15,
        "start_time": "2022-02-01T09:14:02.029Z"
      },
      {
        "duration": 399,
        "start_time": "2022-02-01T09:14:02.047Z"
      },
      {
        "duration": 4,
        "start_time": "2022-02-01T09:14:02.448Z"
      },
      {
        "duration": 6,
        "start_time": "2022-02-01T09:14:02.453Z"
      },
      {
        "duration": 5,
        "start_time": "2022-02-01T09:14:02.460Z"
      },
      {
        "duration": 339,
        "start_time": "2022-02-01T09:14:02.467Z"
      },
      {
        "duration": 338,
        "start_time": "2022-02-01T09:14:02.807Z"
      },
      {
        "duration": 5,
        "start_time": "2022-02-01T09:14:03.147Z"
      },
      {
        "duration": 315,
        "start_time": "2022-02-01T09:14:03.153Z"
      },
      {
        "duration": 4,
        "start_time": "2022-02-01T09:14:03.469Z"
      },
      {
        "duration": 6,
        "start_time": "2022-02-01T09:14:03.474Z"
      },
      {
        "duration": 5,
        "start_time": "2022-02-01T09:14:03.481Z"
      },
      {
        "duration": 293,
        "start_time": "2022-02-01T09:14:03.488Z"
      },
      {
        "duration": 4,
        "start_time": "2022-02-01T09:14:03.783Z"
      },
      {
        "duration": 5,
        "start_time": "2022-02-01T09:14:03.788Z"
      },
      {
        "duration": 6,
        "start_time": "2022-02-01T09:14:03.794Z"
      },
      {
        "duration": 8,
        "start_time": "2022-02-01T09:14:03.801Z"
      },
      {
        "duration": 3,
        "start_time": "2022-02-01T09:14:03.828Z"
      },
      {
        "duration": 9,
        "start_time": "2022-02-01T09:14:03.833Z"
      },
      {
        "duration": 6,
        "start_time": "2022-02-01T09:14:03.843Z"
      },
      {
        "duration": 6,
        "start_time": "2022-02-01T09:14:03.850Z"
      },
      {
        "duration": 231,
        "start_time": "2022-02-01T09:14:03.857Z"
      },
      {
        "duration": 3,
        "start_time": "2022-02-01T09:14:04.090Z"
      },
      {
        "duration": 5,
        "start_time": "2022-02-01T09:14:04.094Z"
      },
      {
        "duration": 10,
        "start_time": "2022-02-01T09:14:04.100Z"
      },
      {
        "duration": 9,
        "start_time": "2022-02-01T09:14:04.112Z"
      },
      {
        "duration": 7,
        "start_time": "2022-02-01T09:14:04.123Z"
      },
      {
        "duration": 8,
        "start_time": "2022-02-01T09:14:04.132Z"
      },
      {
        "duration": 6,
        "start_time": "2022-02-01T09:14:04.141Z"
      },
      {
        "duration": 5,
        "start_time": "2022-02-01T09:14:04.149Z"
      },
      {
        "duration": 8,
        "start_time": "2022-02-01T09:14:04.155Z"
      },
      {
        "duration": 9,
        "start_time": "2022-02-01T09:14:04.164Z"
      },
      {
        "duration": 7,
        "start_time": "2022-02-01T09:14:04.175Z"
      },
      {
        "duration": 3,
        "start_time": "2022-02-01T09:14:04.184Z"
      },
      {
        "duration": 5,
        "start_time": "2022-02-01T09:14:04.189Z"
      },
      {
        "duration": 5,
        "start_time": "2022-02-01T09:14:04.196Z"
      },
      {
        "duration": 29,
        "start_time": "2022-02-01T09:14:04.203Z"
      },
      {
        "duration": 1692,
        "start_time": "2022-02-01T09:14:04.235Z"
      },
      {
        "duration": 104,
        "start_time": "2022-02-01T09:14:05.929Z"
      },
      {
        "duration": 193,
        "start_time": "2022-02-01T09:14:06.036Z"
      },
      {
        "duration": 8,
        "start_time": "2022-02-01T09:14:06.230Z"
      },
      {
        "duration": 5,
        "start_time": "2022-02-01T09:14:06.239Z"
      },
      {
        "duration": 6,
        "start_time": "2022-02-01T09:14:06.245Z"
      },
      {
        "duration": 6,
        "start_time": "2022-02-01T09:14:06.252Z"
      },
      {
        "duration": 4,
        "start_time": "2022-02-01T09:14:06.259Z"
      },
      {
        "duration": 65,
        "start_time": "2022-02-01T09:14:06.264Z"
      },
      {
        "duration": 80980,
        "start_time": "2022-02-01T09:14:06.331Z"
      },
      {
        "duration": -1608,
        "start_time": "2022-02-01T09:15:28.921Z"
      },
      {
        "duration": -1614,
        "start_time": "2022-02-01T09:15:28.928Z"
      },
      {
        "duration": -1615,
        "start_time": "2022-02-01T09:15:28.930Z"
      },
      {
        "duration": 4,
        "start_time": "2022-02-01T09:15:32.344Z"
      },
      {
        "duration": 5,
        "start_time": "2022-02-01T09:16:13.946Z"
      },
      {
        "duration": 5,
        "start_time": "2022-02-01T09:29:43.054Z"
      },
      {
        "duration": 5,
        "start_time": "2022-02-01T09:29:57.576Z"
      },
      {
        "duration": 717,
        "start_time": "2022-02-01T09:30:02.287Z"
      },
      {
        "duration": 3,
        "start_time": "2022-02-01T09:30:34.746Z"
      },
      {
        "duration": 8,
        "start_time": "2022-02-01T09:30:35.499Z"
      },
      {
        "duration": 244774,
        "start_time": "2022-02-01T09:30:36.655Z"
      },
      {
        "duration": 5,
        "start_time": "2022-02-01T10:21:52.463Z"
      },
      {
        "duration": 2069,
        "start_time": "2022-02-01T10:24:37.677Z"
      },
      {
        "duration": 1201,
        "start_time": "2022-02-01T10:24:39.747Z"
      },
      {
        "duration": 682,
        "start_time": "2022-02-01T10:24:40.950Z"
      },
      {
        "duration": 14,
        "start_time": "2022-02-01T10:24:41.634Z"
      },
      {
        "duration": 19,
        "start_time": "2022-02-01T10:24:41.649Z"
      },
      {
        "duration": 7,
        "start_time": "2022-02-01T10:24:41.669Z"
      },
      {
        "duration": 6,
        "start_time": "2022-02-01T10:24:41.677Z"
      },
      {
        "duration": 12,
        "start_time": "2022-02-01T10:24:41.684Z"
      },
      {
        "duration": 274,
        "start_time": "2022-02-01T10:24:41.698Z"
      },
      {
        "duration": 708,
        "start_time": "2022-02-01T10:24:41.974Z"
      },
      {
        "duration": 549,
        "start_time": "2022-02-01T10:24:42.683Z"
      },
      {
        "duration": 781,
        "start_time": "2022-02-01T10:24:43.234Z"
      },
      {
        "duration": 13,
        "start_time": "2022-02-01T10:24:44.016Z"
      },
      {
        "duration": 399,
        "start_time": "2022-02-01T10:24:44.031Z"
      },
      {
        "duration": 7,
        "start_time": "2022-02-01T10:24:44.432Z"
      },
      {
        "duration": 104,
        "start_time": "2022-02-01T10:24:44.440Z"
      },
      {
        "duration": 612,
        "start_time": "2022-02-01T10:24:44.545Z"
      },
      {
        "duration": 245,
        "start_time": "2022-02-01T10:24:45.159Z"
      },
      {
        "duration": 256,
        "start_time": "2022-02-01T10:24:45.406Z"
      },
      {
        "duration": 242,
        "start_time": "2022-02-01T10:24:45.664Z"
      },
      {
        "duration": 4,
        "start_time": "2022-02-01T10:24:45.908Z"
      },
      {
        "duration": 14,
        "start_time": "2022-02-01T10:24:45.913Z"
      },
      {
        "duration": 6,
        "start_time": "2022-02-01T10:24:45.928Z"
      },
      {
        "duration": 4,
        "start_time": "2022-02-01T10:24:45.936Z"
      },
      {
        "duration": 6,
        "start_time": "2022-02-01T10:24:45.941Z"
      },
      {
        "duration": 10,
        "start_time": "2022-02-01T10:24:45.949Z"
      },
      {
        "duration": 423,
        "start_time": "2022-02-01T10:24:45.962Z"
      },
      {
        "duration": 4,
        "start_time": "2022-02-01T10:24:46.387Z"
      },
      {
        "duration": 5,
        "start_time": "2022-02-01T10:24:46.393Z"
      },
      {
        "duration": 4,
        "start_time": "2022-02-01T10:24:46.399Z"
      },
      {
        "duration": 345,
        "start_time": "2022-02-01T10:24:46.405Z"
      },
      {
        "duration": 347,
        "start_time": "2022-02-01T10:24:46.752Z"
      },
      {
        "duration": 5,
        "start_time": "2022-02-01T10:24:47.100Z"
      },
      {
        "duration": 316,
        "start_time": "2022-02-01T10:24:47.106Z"
      },
      {
        "duration": 7,
        "start_time": "2022-02-01T10:24:47.423Z"
      },
      {
        "duration": 17,
        "start_time": "2022-02-01T10:24:47.432Z"
      },
      {
        "duration": 6,
        "start_time": "2022-02-01T10:24:47.450Z"
      },
      {
        "duration": 299,
        "start_time": "2022-02-01T10:24:47.457Z"
      },
      {
        "duration": 5,
        "start_time": "2022-02-01T10:24:47.757Z"
      },
      {
        "duration": 4,
        "start_time": "2022-02-01T10:24:47.764Z"
      },
      {
        "duration": 3,
        "start_time": "2022-02-01T10:24:47.770Z"
      },
      {
        "duration": 5,
        "start_time": "2022-02-01T10:24:47.775Z"
      },
      {
        "duration": 6,
        "start_time": "2022-02-01T10:24:47.781Z"
      },
      {
        "duration": 40,
        "start_time": "2022-02-01T10:24:47.788Z"
      },
      {
        "duration": 4,
        "start_time": "2022-02-01T10:24:47.830Z"
      },
      {
        "duration": 6,
        "start_time": "2022-02-01T10:24:47.835Z"
      },
      {
        "duration": 234,
        "start_time": "2022-02-01T10:24:47.842Z"
      },
      {
        "duration": 3,
        "start_time": "2022-02-01T10:24:48.078Z"
      },
      {
        "duration": 5,
        "start_time": "2022-02-01T10:24:48.083Z"
      },
      {
        "duration": 8,
        "start_time": "2022-02-01T10:24:48.090Z"
      },
      {
        "duration": 7,
        "start_time": "2022-02-01T10:24:48.100Z"
      },
      {
        "duration": 4,
        "start_time": "2022-02-01T10:24:48.108Z"
      },
      {
        "duration": 12,
        "start_time": "2022-02-01T10:24:48.114Z"
      },
      {
        "duration": 11,
        "start_time": "2022-02-01T10:24:48.128Z"
      },
      {
        "duration": 13,
        "start_time": "2022-02-01T10:24:48.141Z"
      },
      {
        "duration": 7,
        "start_time": "2022-02-01T10:24:48.156Z"
      },
      {
        "duration": 8,
        "start_time": "2022-02-01T10:24:48.164Z"
      },
      {
        "duration": 9,
        "start_time": "2022-02-01T10:24:48.174Z"
      },
      {
        "duration": 8,
        "start_time": "2022-02-01T10:24:48.184Z"
      },
      {
        "duration": 9,
        "start_time": "2022-02-01T10:24:48.194Z"
      },
      {
        "duration": 4,
        "start_time": "2022-02-01T10:24:48.205Z"
      },
      {
        "duration": 14,
        "start_time": "2022-02-01T10:24:48.210Z"
      },
      {
        "duration": 1513,
        "start_time": "2022-02-01T10:24:48.225Z"
      },
      {
        "duration": 188,
        "start_time": "2022-02-01T10:24:49.739Z"
      },
      {
        "duration": 198,
        "start_time": "2022-02-01T10:24:49.930Z"
      },
      {
        "duration": 7,
        "start_time": "2022-02-01T10:24:50.130Z"
      },
      {
        "duration": 6,
        "start_time": "2022-02-01T10:24:50.139Z"
      },
      {
        "duration": 7,
        "start_time": "2022-02-01T10:24:50.147Z"
      },
      {
        "duration": 8,
        "start_time": "2022-02-01T10:24:50.155Z"
      },
      {
        "duration": 5,
        "start_time": "2022-02-01T10:24:50.226Z"
      },
      {
        "duration": 5,
        "start_time": "2022-02-01T10:24:50.233Z"
      },
      {
        "duration": 3,
        "start_time": "2022-02-01T10:24:50.239Z"
      },
      {
        "duration": 4,
        "start_time": "2022-02-01T10:24:50.244Z"
      },
      {
        "duration": 5,
        "start_time": "2022-02-01T10:24:50.249Z"
      },
      {
        "duration": 243972,
        "start_time": "2022-02-01T10:24:50.256Z"
      },
      {
        "duration": 56203,
        "start_time": "2022-02-01T10:28:54.230Z"
      },
      {
        "duration": 3,
        "start_time": "2022-02-01T10:29:50.435Z"
      },
      {
        "duration": 5,
        "start_time": "2022-02-01T10:29:50.441Z"
      },
      {
        "duration": 6,
        "start_time": "2022-02-01T10:29:59.183Z"
      },
      {
        "duration": 241629,
        "start_time": "2022-02-01T10:30:00.475Z"
      },
      {
        "duration": 5,
        "start_time": "2022-02-01T10:38:24.343Z"
      },
      {
        "duration": 248296,
        "start_time": "2022-02-01T10:38:25.646Z"
      },
      {
        "duration": 5,
        "start_time": "2022-02-01T10:42:58.787Z"
      },
      {
        "duration": 2320,
        "start_time": "2022-02-01T10:43:45.498Z"
      },
      {
        "duration": 1223,
        "start_time": "2022-02-01T10:43:47.820Z"
      },
      {
        "duration": 622,
        "start_time": "2022-02-01T10:43:49.045Z"
      },
      {
        "duration": 13,
        "start_time": "2022-02-01T10:43:49.669Z"
      },
      {
        "duration": 20,
        "start_time": "2022-02-01T10:43:49.684Z"
      },
      {
        "duration": 23,
        "start_time": "2022-02-01T10:43:49.705Z"
      },
      {
        "duration": 6,
        "start_time": "2022-02-01T10:43:49.730Z"
      },
      {
        "duration": 12,
        "start_time": "2022-02-01T10:43:49.737Z"
      },
      {
        "duration": 285,
        "start_time": "2022-02-01T10:43:49.752Z"
      },
      {
        "duration": 740,
        "start_time": "2022-02-01T10:43:50.039Z"
      },
      {
        "duration": 552,
        "start_time": "2022-02-01T10:43:50.780Z"
      },
      {
        "duration": 769,
        "start_time": "2022-02-01T10:43:51.334Z"
      },
      {
        "duration": 8,
        "start_time": "2022-02-01T10:43:52.104Z"
      },
      {
        "duration": 392,
        "start_time": "2022-02-01T10:43:52.114Z"
      },
      {
        "duration": 7,
        "start_time": "2022-02-01T10:43:52.507Z"
      },
      {
        "duration": 98,
        "start_time": "2022-02-01T10:43:52.515Z"
      },
      {
        "duration": 597,
        "start_time": "2022-02-01T10:43:52.615Z"
      },
      {
        "duration": 246,
        "start_time": "2022-02-01T10:43:53.213Z"
      },
      {
        "duration": 259,
        "start_time": "2022-02-01T10:43:53.460Z"
      },
      {
        "duration": 239,
        "start_time": "2022-02-01T10:43:53.720Z"
      },
      {
        "duration": 4,
        "start_time": "2022-02-01T10:43:53.960Z"
      },
      {
        "duration": 21,
        "start_time": "2022-02-01T10:43:53.965Z"
      },
      {
        "duration": 8,
        "start_time": "2022-02-01T10:43:53.987Z"
      },
      {
        "duration": 6,
        "start_time": "2022-02-01T10:43:53.996Z"
      },
      {
        "duration": 6,
        "start_time": "2022-02-01T10:43:54.004Z"
      },
      {
        "duration": 19,
        "start_time": "2022-02-01T10:43:54.012Z"
      },
      {
        "duration": 431,
        "start_time": "2022-02-01T10:43:54.035Z"
      },
      {
        "duration": 4,
        "start_time": "2022-02-01T10:43:54.469Z"
      },
      {
        "duration": 6,
        "start_time": "2022-02-01T10:43:54.475Z"
      },
      {
        "duration": 5,
        "start_time": "2022-02-01T10:43:54.483Z"
      },
      {
        "duration": 361,
        "start_time": "2022-02-01T10:43:54.489Z"
      },
      {
        "duration": 349,
        "start_time": "2022-02-01T10:43:54.852Z"
      },
      {
        "duration": 5,
        "start_time": "2022-02-01T10:43:55.203Z"
      },
      {
        "duration": 320,
        "start_time": "2022-02-01T10:43:55.210Z"
      },
      {
        "duration": 4,
        "start_time": "2022-02-01T10:43:55.531Z"
      },
      {
        "duration": 5,
        "start_time": "2022-02-01T10:43:55.537Z"
      },
      {
        "duration": 5,
        "start_time": "2022-02-01T10:43:55.544Z"
      },
      {
        "duration": 304,
        "start_time": "2022-02-01T10:43:55.550Z"
      },
      {
        "duration": 5,
        "start_time": "2022-02-01T10:43:55.856Z"
      },
      {
        "duration": 6,
        "start_time": "2022-02-01T10:43:55.862Z"
      },
      {
        "duration": 5,
        "start_time": "2022-02-01T10:43:55.869Z"
      },
      {
        "duration": 6,
        "start_time": "2022-02-01T10:43:55.875Z"
      },
      {
        "duration": 5,
        "start_time": "2022-02-01T10:43:55.883Z"
      },
      {
        "duration": 39,
        "start_time": "2022-02-01T10:43:55.890Z"
      },
      {
        "duration": 5,
        "start_time": "2022-02-01T10:43:55.930Z"
      },
      {
        "duration": 6,
        "start_time": "2022-02-01T10:43:55.937Z"
      },
      {
        "duration": 229,
        "start_time": "2022-02-01T10:43:55.945Z"
      },
      {
        "duration": 4,
        "start_time": "2022-02-01T10:43:56.175Z"
      },
      {
        "duration": 6,
        "start_time": "2022-02-01T10:43:56.180Z"
      },
      {
        "duration": 4,
        "start_time": "2022-02-01T10:43:56.187Z"
      },
      {
        "duration": 5,
        "start_time": "2022-02-01T10:43:56.193Z"
      },
      {
        "duration": 5,
        "start_time": "2022-02-01T10:43:56.199Z"
      },
      {
        "duration": 22,
        "start_time": "2022-02-01T10:43:56.205Z"
      },
      {
        "duration": 3,
        "start_time": "2022-02-01T10:43:56.228Z"
      },
      {
        "duration": 6,
        "start_time": "2022-02-01T10:43:56.232Z"
      },
      {
        "duration": 5,
        "start_time": "2022-02-01T10:43:56.239Z"
      },
      {
        "duration": 6,
        "start_time": "2022-02-01T10:43:56.245Z"
      },
      {
        "duration": 6,
        "start_time": "2022-02-01T10:43:56.252Z"
      },
      {
        "duration": 4,
        "start_time": "2022-02-01T10:43:56.260Z"
      },
      {
        "duration": 7,
        "start_time": "2022-02-01T10:43:56.266Z"
      },
      {
        "duration": 5,
        "start_time": "2022-02-01T10:43:56.274Z"
      },
      {
        "duration": 14,
        "start_time": "2022-02-01T10:43:56.280Z"
      },
      {
        "duration": 1737,
        "start_time": "2022-02-01T10:43:56.295Z"
      },
      {
        "duration": 192,
        "start_time": "2022-02-01T10:43:58.035Z"
      },
      {
        "duration": 100,
        "start_time": "2022-02-01T10:43:58.229Z"
      },
      {
        "duration": 99,
        "start_time": "2022-02-01T10:43:58.332Z"
      },
      {
        "duration": 5,
        "start_time": "2022-02-01T10:43:58.432Z"
      },
      {
        "duration": 5,
        "start_time": "2022-02-01T10:43:58.438Z"
      },
      {
        "duration": 7,
        "start_time": "2022-02-01T10:43:58.444Z"
      },
      {
        "duration": 5,
        "start_time": "2022-02-01T10:43:58.452Z"
      },
      {
        "duration": 5,
        "start_time": "2022-02-01T10:43:58.458Z"
      },
      {
        "duration": 4,
        "start_time": "2022-02-01T10:43:58.464Z"
      },
      {
        "duration": 5,
        "start_time": "2022-02-01T10:43:58.470Z"
      },
      {
        "duration": 244846,
        "start_time": "2022-02-01T10:43:58.476Z"
      },
      {
        "duration": 56476,
        "start_time": "2022-02-01T10:48:03.323Z"
      },
      {
        "duration": 3,
        "start_time": "2022-02-01T10:48:59.800Z"
      },
      {
        "duration": 3,
        "start_time": "2022-02-01T10:50:39.271Z"
      },
      {
        "duration": 5,
        "start_time": "2022-02-01T10:50:57.682Z"
      },
      {
        "duration": 57451,
        "start_time": "2022-02-01T10:50:59.234Z"
      },
      {
        "duration": 5,
        "start_time": "2022-02-01T10:51:59.338Z"
      },
      {
        "duration": 261308,
        "start_time": "2022-02-01T10:52:02.109Z"
      },
      {
        "duration": 16,
        "start_time": "2022-02-01T11:00:36.584Z"
      },
      {
        "duration": 7,
        "start_time": "2022-02-01T11:01:05.373Z"
      },
      {
        "duration": 4,
        "start_time": "2022-02-01T11:01:20.614Z"
      },
      {
        "duration": 333,
        "start_time": "2022-02-01T11:01:31.518Z"
      },
      {
        "duration": 393,
        "start_time": "2022-02-01T11:01:41.661Z"
      },
      {
        "duration": 4,
        "start_time": "2022-02-01T11:01:45.825Z"
      },
      {
        "duration": 7,
        "start_time": "2022-02-01T11:02:10.007Z"
      },
      {
        "duration": 3,
        "start_time": "2022-02-01T11:02:49.511Z"
      },
      {
        "duration": 3,
        "start_time": "2022-02-01T11:02:50.832Z"
      },
      {
        "duration": 14,
        "start_time": "2022-02-01T11:02:53.104Z"
      },
      {
        "duration": 967,
        "start_time": "2022-02-01T11:03:00.665Z"
      },
      {
        "duration": 4,
        "start_time": "2022-02-01T11:03:14.137Z"
      },
      {
        "duration": 879,
        "start_time": "2022-02-01T11:03:42.349Z"
      },
      {
        "duration": 4,
        "start_time": "2022-02-01T11:03:44.487Z"
      },
      {
        "duration": 757,
        "start_time": "2022-02-01T11:03:54.475Z"
      },
      {
        "duration": 4,
        "start_time": "2022-02-01T11:03:56.521Z"
      },
      {
        "duration": 335,
        "start_time": "2022-02-01T11:04:31.447Z"
      },
      {
        "duration": 328,
        "start_time": "2022-02-01T11:10:35.732Z"
      },
      {
        "duration": 9,
        "start_time": "2022-02-01T11:10:48.315Z"
      },
      {
        "duration": 7,
        "start_time": "2022-02-01T11:10:49.606Z"
      },
      {
        "duration": 5,
        "start_time": "2022-02-01T11:11:09.487Z"
      },
      {
        "duration": 4,
        "start_time": "2022-02-01T11:11:51.217Z"
      },
      {
        "duration": 3,
        "start_time": "2022-02-01T11:11:51.918Z"
      },
      {
        "duration": 10,
        "start_time": "2022-02-01T11:11:53.215Z"
      },
      {
        "duration": 576,
        "start_time": "2022-02-01T11:11:54.359Z"
      },
      {
        "duration": 5,
        "start_time": "2022-02-01T11:11:56.762Z"
      },
      {
        "duration": 11,
        "start_time": "2022-02-01T11:12:20.876Z"
      },
      {
        "duration": 15,
        "start_time": "2022-02-01T11:12:22.010Z"
      },
      {
        "duration": 8,
        "start_time": "2022-02-01T11:12:24.807Z"
      },
      {
        "duration": 5,
        "start_time": "2022-02-01T11:12:25.443Z"
      },
      {
        "duration": 5,
        "start_time": "2022-02-01T11:14:28.792Z"
      },
      {
        "duration": 252678,
        "start_time": "2022-02-01T11:14:32.043Z"
      },
      {
        "duration": 5,
        "start_time": "2022-02-01T11:25:53.367Z"
      },
      {
        "duration": 259751,
        "start_time": "2022-02-01T11:25:54.551Z"
      },
      {
        "duration": 2,
        "start_time": "2022-02-01T11:36:20.337Z"
      },
      {
        "duration": 11,
        "start_time": "2022-02-01T11:36:21.526Z"
      },
      {
        "duration": 611,
        "start_time": "2022-02-01T11:36:22.416Z"
      },
      {
        "duration": 4,
        "start_time": "2022-02-01T11:36:24.146Z"
      },
      {
        "duration": 5,
        "start_time": "2022-02-01T11:36:37.281Z"
      },
      {
        "duration": 246645,
        "start_time": "2022-02-01T11:36:38.490Z"
      },
      {
        "duration": 809,
        "start_time": "2022-02-01T16:37:46.706Z"
      },
      {
        "duration": 5075,
        "start_time": "2022-02-01T16:37:58.872Z"
      },
      {
        "duration": 1583,
        "start_time": "2022-02-01T16:38:03.950Z"
      },
      {
        "duration": 951,
        "start_time": "2022-02-01T16:38:09.839Z"
      },
      {
        "duration": 48,
        "start_time": "2022-02-01T16:38:10.793Z"
      },
      {
        "duration": 36,
        "start_time": "2022-02-01T16:38:14.115Z"
      },
      {
        "duration": 9,
        "start_time": "2022-02-01T16:38:26.211Z"
      },
      {
        "duration": 8,
        "start_time": "2022-02-01T16:38:26.971Z"
      },
      {
        "duration": 18,
        "start_time": "2022-02-01T16:38:27.652Z"
      },
      {
        "duration": 505,
        "start_time": "2022-02-01T16:38:28.821Z"
      },
      {
        "duration": 1394,
        "start_time": "2022-02-01T16:38:33.479Z"
      },
      {
        "duration": 955,
        "start_time": "2022-02-01T16:38:38.228Z"
      },
      {
        "duration": 1354,
        "start_time": "2022-02-01T16:38:42.212Z"
      },
      {
        "duration": 12,
        "start_time": "2022-02-01T16:38:57.591Z"
      },
      {
        "duration": 648,
        "start_time": "2022-02-01T16:39:01.854Z"
      },
      {
        "duration": 10,
        "start_time": "2022-02-01T16:39:03.172Z"
      },
      {
        "duration": 453,
        "start_time": "2022-02-01T16:39:13.712Z"
      },
      {
        "duration": 468,
        "start_time": "2022-02-01T16:39:28.565Z"
      },
      {
        "duration": 2024,
        "start_time": "2022-02-01T16:40:09.026Z"
      },
      {
        "duration": 502,
        "start_time": "2022-02-01T16:40:14.412Z"
      },
      {
        "duration": 628,
        "start_time": "2022-02-01T16:40:28.106Z"
      },
      {
        "duration": 584,
        "start_time": "2022-02-01T16:40:31.313Z"
      },
      {
        "duration": 613,
        "start_time": "2022-02-01T16:40:52.168Z"
      },
      {
        "duration": 615,
        "start_time": "2022-02-01T16:40:55.511Z"
      },
      {
        "duration": 4340,
        "start_time": "2022-02-01T16:41:55.336Z"
      },
      {
        "duration": 2580,
        "start_time": "2022-02-01T16:41:59.680Z"
      },
      {
        "duration": 966,
        "start_time": "2022-02-01T16:42:02.263Z"
      },
      {
        "duration": 28,
        "start_time": "2022-02-01T16:42:03.232Z"
      },
      {
        "duration": 78,
        "start_time": "2022-02-01T16:42:03.263Z"
      },
      {
        "duration": 11,
        "start_time": "2022-02-01T16:42:03.344Z"
      },
      {
        "duration": 34,
        "start_time": "2022-02-01T16:42:03.358Z"
      },
      {
        "duration": 18,
        "start_time": "2022-02-01T16:42:03.398Z"
      },
      {
        "duration": 549,
        "start_time": "2022-02-01T16:42:03.420Z"
      },
      {
        "duration": 1252,
        "start_time": "2022-02-01T16:42:03.973Z"
      },
      {
        "duration": 882,
        "start_time": "2022-02-01T16:42:05.228Z"
      },
      {
        "duration": 1401,
        "start_time": "2022-02-01T16:42:06.113Z"
      },
      {
        "duration": 15,
        "start_time": "2022-02-01T16:42:07.523Z"
      },
      {
        "duration": 649,
        "start_time": "2022-02-01T16:42:07.541Z"
      },
      {
        "duration": 11,
        "start_time": "2022-02-01T16:42:08.193Z"
      },
      {
        "duration": 12,
        "start_time": "2022-02-01T16:42:08.223Z"
      },
      {
        "duration": 229,
        "start_time": "2022-02-01T16:42:08.238Z"
      },
      {
        "duration": 1084,
        "start_time": "2022-02-01T16:42:08.470Z"
      },
      {
        "duration": 493,
        "start_time": "2022-02-01T16:42:09.556Z"
      },
      {
        "duration": 600,
        "start_time": "2022-02-01T16:42:10.053Z"
      },
      {
        "duration": 693,
        "start_time": "2022-02-01T16:42:10.656Z"
      },
      {
        "duration": 8,
        "start_time": "2022-02-01T16:42:11.352Z"
      },
      {
        "duration": 66,
        "start_time": "2022-02-01T16:42:11.366Z"
      },
      {
        "duration": 8,
        "start_time": "2022-02-01T16:42:11.438Z"
      },
      {
        "duration": 7,
        "start_time": "2022-02-01T16:42:11.450Z"
      },
      {
        "duration": 8,
        "start_time": "2022-02-01T16:42:11.461Z"
      },
      {
        "duration": 16,
        "start_time": "2022-02-01T16:42:11.471Z"
      },
      {
        "duration": 758,
        "start_time": "2022-02-01T16:42:11.524Z"
      },
      {
        "duration": 7,
        "start_time": "2022-02-01T16:42:12.284Z"
      },
      {
        "duration": 31,
        "start_time": "2022-02-01T16:42:12.294Z"
      },
      {
        "duration": 12,
        "start_time": "2022-02-01T16:42:12.328Z"
      },
      {
        "duration": 648,
        "start_time": "2022-02-01T16:42:12.343Z"
      },
      {
        "duration": 723,
        "start_time": "2022-02-01T16:42:12.994Z"
      },
      {
        "duration": 9,
        "start_time": "2022-02-01T16:42:13.723Z"
      },
      {
        "duration": 588,
        "start_time": "2022-02-01T16:42:13.735Z"
      },
      {
        "duration": 6,
        "start_time": "2022-02-01T16:42:14.326Z"
      },
      {
        "duration": 6,
        "start_time": "2022-02-01T16:42:14.334Z"
      },
      {
        "duration": 7,
        "start_time": "2022-02-01T16:42:14.342Z"
      },
      {
        "duration": 571,
        "start_time": "2022-02-01T16:42:14.352Z"
      },
      {
        "duration": 7,
        "start_time": "2022-02-01T16:42:14.925Z"
      },
      {
        "duration": 6,
        "start_time": "2022-02-01T16:42:14.934Z"
      },
      {
        "duration": 7,
        "start_time": "2022-02-01T16:42:14.942Z"
      },
      {
        "duration": 8,
        "start_time": "2022-02-01T16:42:14.951Z"
      },
      {
        "duration": 9,
        "start_time": "2022-02-01T16:42:14.961Z"
      },
      {
        "duration": 7,
        "start_time": "2022-02-01T16:42:15.023Z"
      },
      {
        "duration": 17,
        "start_time": "2022-02-01T16:42:15.032Z"
      },
      {
        "duration": 7,
        "start_time": "2022-02-01T16:42:15.051Z"
      },
      {
        "duration": 446,
        "start_time": "2022-02-01T16:42:15.060Z"
      },
      {
        "duration": 14,
        "start_time": "2022-02-01T16:42:15.509Z"
      },
      {
        "duration": 5,
        "start_time": "2022-02-01T16:42:15.526Z"
      },
      {
        "duration": 7,
        "start_time": "2022-02-01T16:42:15.541Z"
      },
      {
        "duration": 11,
        "start_time": "2022-02-01T16:42:15.550Z"
      },
      {
        "duration": 7,
        "start_time": "2022-02-01T16:42:15.563Z"
      },
      {
        "duration": 5,
        "start_time": "2022-02-01T16:42:15.572Z"
      },
      {
        "duration": 43,
        "start_time": "2022-02-01T16:42:15.580Z"
      },
      {
        "duration": 16,
        "start_time": "2022-02-01T16:42:15.626Z"
      },
      {
        "duration": 4,
        "start_time": "2022-02-01T16:42:15.646Z"
      },
      {
        "duration": 11,
        "start_time": "2022-02-01T16:42:15.653Z"
      },
      {
        "duration": 13,
        "start_time": "2022-02-01T16:42:15.666Z"
      },
      {
        "duration": 48,
        "start_time": "2022-02-01T16:42:15.681Z"
      },
      {
        "duration": 8,
        "start_time": "2022-02-01T16:42:15.732Z"
      },
      {
        "duration": 6,
        "start_time": "2022-02-01T16:42:15.742Z"
      },
      {
        "duration": 9,
        "start_time": "2022-02-01T16:42:15.751Z"
      },
      {
        "duration": 6,
        "start_time": "2022-02-01T16:42:15.762Z"
      },
      {
        "duration": 17,
        "start_time": "2022-02-01T16:42:15.770Z"
      },
      {
        "duration": 847,
        "start_time": "2022-02-01T16:42:15.789Z"
      },
      {
        "duration": 7,
        "start_time": "2022-02-01T16:42:16.826Z"
      },
      {
        "duration": 90,
        "start_time": "2022-02-01T16:42:16.836Z"
      },
      {
        "duration": 106,
        "start_time": "2022-02-01T16:42:16.929Z"
      },
      {
        "duration": 93,
        "start_time": "2022-02-01T16:42:17.038Z"
      },
      {
        "duration": 7,
        "start_time": "2022-02-01T16:42:17.134Z"
      },
      {
        "duration": 9,
        "start_time": "2022-02-01T16:42:17.144Z"
      },
      {
        "duration": 15,
        "start_time": "2022-02-01T16:42:17.156Z"
      },
      {
        "duration": 52,
        "start_time": "2022-02-01T16:42:17.174Z"
      },
      {
        "duration": 7,
        "start_time": "2022-02-01T16:42:17.229Z"
      },
      {
        "duration": 8,
        "start_time": "2022-02-01T16:42:17.238Z"
      },
      {
        "duration": 10,
        "start_time": "2022-02-01T16:42:17.249Z"
      },
      {
        "duration": 352899,
        "start_time": "2022-02-01T16:42:17.261Z"
      },
      {
        "duration": 83243,
        "start_time": "2022-02-01T16:48:10.163Z"
      },
      {
        "duration": 14,
        "start_time": "2022-02-01T16:49:33.409Z"
      },
      {
        "duration": 13,
        "start_time": "2022-02-01T16:49:33.427Z"
      },
      {
        "duration": 23,
        "start_time": "2022-02-01T16:49:33.444Z"
      },
      {
        "duration": 6,
        "start_time": "2022-02-01T16:49:36.466Z"
      },
      {
        "duration": 4,
        "start_time": "2022-02-01T16:50:03.162Z"
      },
      {
        "duration": 941,
        "start_time": "2022-02-01T16:50:17.857Z"
      },
      {
        "duration": 4,
        "start_time": "2022-02-01T16:50:45.560Z"
      },
      {
        "duration": 287356,
        "start_time": "2022-02-01T16:50:47.160Z"
      },
      {
        "duration": 326,
        "start_time": "2022-02-01T19:08:36.417Z"
      },
      {
        "duration": 17,
        "start_time": "2022-02-01T19:10:51.922Z"
      },
      {
        "duration": 6,
        "start_time": "2022-02-01T19:11:25.343Z"
      },
      {
        "duration": 4,
        "start_time": "2022-02-01T19:11:26.138Z"
      },
      {
        "duration": 504153,
        "start_time": "2022-02-01T19:11:28.312Z"
      },
      {
        "duration": 4,
        "start_time": "2022-02-01T19:19:52.469Z"
      },
      {
        "duration": 7,
        "start_time": "2022-02-01T19:19:52.477Z"
      },
      {
        "duration": 8,
        "start_time": "2022-02-01T19:19:52.487Z"
      },
      {
        "duration": 6,
        "start_time": "2022-02-01T19:19:52.524Z"
      },
      {
        "duration": 7,
        "start_time": "2022-02-01T19:19:52.533Z"
      },
      {
        "duration": 6,
        "start_time": "2022-02-01T19:24:15.194Z"
      },
      {
        "duration": 6,
        "start_time": "2022-02-01T19:24:19.431Z"
      },
      {
        "duration": 5,
        "start_time": "2022-02-01T19:24:24.395Z"
      },
      {
        "duration": 6,
        "start_time": "2022-02-01T19:24:32.191Z"
      },
      {
        "duration": 6,
        "start_time": "2022-02-01T19:24:34.443Z"
      },
      {
        "duration": 4,
        "start_time": "2022-02-01T19:24:52.466Z"
      },
      {
        "duration": 4,
        "start_time": "2022-02-01T19:24:58.176Z"
      },
      {
        "duration": 6,
        "start_time": "2022-02-01T19:24:58.884Z"
      },
      {
        "duration": 5,
        "start_time": "2022-02-01T19:25:15.139Z"
      },
      {
        "duration": 3,
        "start_time": "2022-02-01T19:26:04.732Z"
      },
      {
        "duration": 4,
        "start_time": "2022-02-01T19:27:06.300Z"
      },
      {
        "duration": 4,
        "start_time": "2022-02-01T19:27:07.665Z"
      },
      {
        "duration": 6,
        "start_time": "2022-02-01T19:27:08.375Z"
      },
      {
        "duration": 866,
        "start_time": "2022-02-01T19:29:00.172Z"
      },
      {
        "duration": 4,
        "start_time": "2022-02-01T19:29:18.320Z"
      },
      {
        "duration": 6,
        "start_time": "2022-02-01T19:29:20.260Z"
      },
      {
        "duration": 595,
        "start_time": "2022-02-01T19:29:32.715Z"
      },
      {
        "duration": 5,
        "start_time": "2022-02-01T19:30:13.617Z"
      },
      {
        "duration": 4,
        "start_time": "2022-02-01T19:30:17.273Z"
      },
      {
        "duration": 6,
        "start_time": "2022-02-01T19:30:18.292Z"
      },
      {
        "duration": 4,
        "start_time": "2022-02-01T19:30:19.272Z"
      },
      {
        "duration": 4,
        "start_time": "2022-02-01T19:30:28.609Z"
      },
      {
        "duration": 6,
        "start_time": "2022-02-01T19:30:37.548Z"
      },
      {
        "duration": 589099,
        "start_time": "2022-02-01T19:30:40.382Z"
      },
      {
        "duration": 6,
        "start_time": "2022-02-01T19:40:29.484Z"
      },
      {
        "duration": 4,
        "start_time": "2022-02-01T19:42:05.771Z"
      },
      {
        "duration": 5,
        "start_time": "2022-02-01T19:42:06.747Z"
      },
      {
        "duration": 624399,
        "start_time": "2022-02-01T19:42:09.404Z"
      },
      {
        "duration": 5,
        "start_time": "2022-02-01T19:54:42.047Z"
      },
      {
        "duration": 6,
        "start_time": "2022-02-01T19:54:42.822Z"
      },
      {
        "duration": 418,
        "start_time": "2022-02-01T19:54:43.534Z"
      },
      {
        "duration": 6,
        "start_time": "2022-02-01T19:55:40.957Z"
      },
      {
        "duration": 4,
        "start_time": "2022-02-01T20:00:34.425Z"
      },
      {
        "duration": 6,
        "start_time": "2022-02-01T20:01:35.087Z"
      },
      {
        "duration": 8,
        "start_time": "2022-02-01T20:01:58.945Z"
      },
      {
        "duration": 4,
        "start_time": "2022-02-01T20:03:14.197Z"
      },
      {
        "duration": 4,
        "start_time": "2022-02-01T20:03:32.181Z"
      },
      {
        "duration": 3,
        "start_time": "2022-02-01T20:03:33.009Z"
      },
      {
        "duration": 7,
        "start_time": "2022-02-01T20:03:33.899Z"
      },
      {
        "duration": 4,
        "start_time": "2022-02-01T20:03:50.480Z"
      },
      {
        "duration": 6,
        "start_time": "2022-02-01T20:03:50.971Z"
      },
      {
        "duration": 7,
        "start_time": "2022-02-01T20:03:51.472Z"
      },
      {
        "duration": 1150858,
        "start_time": "2022-02-01T20:03:52.899Z"
      },
      {
        "duration": 286,
        "start_time": "2022-02-01T20:25:43.085Z"
      },
      {
        "duration": 3,
        "start_time": "2022-02-01T20:26:20.733Z"
      },
      {
        "duration": 328,
        "start_time": "2022-02-01T20:26:25.327Z"
      },
      {
        "duration": 4,
        "start_time": "2022-02-01T20:27:11.035Z"
      },
      {
        "duration": 7,
        "start_time": "2022-02-01T20:27:15.659Z"
      },
      {
        "duration": 21,
        "start_time": "2022-02-01T20:27:18.124Z"
      },
      {
        "duration": 8,
        "start_time": "2022-02-01T20:27:24.212Z"
      },
      {
        "duration": 11,
        "start_time": "2022-02-01T20:27:26.156Z"
      },
      {
        "duration": 12,
        "start_time": "2022-02-01T20:28:54.060Z"
      },
      {
        "duration": 10,
        "start_time": "2022-02-01T20:29:35.472Z"
      },
      {
        "duration": 5,
        "start_time": "2022-02-01T20:29:50.178Z"
      },
      {
        "duration": 5,
        "start_time": "2022-02-01T20:29:51.427Z"
      },
      {
        "duration": 12,
        "start_time": "2022-02-01T20:29:58.186Z"
      },
      {
        "duration": 5145,
        "start_time": "2022-02-02T09:02:04.990Z"
      },
      {
        "duration": 1757,
        "start_time": "2022-02-02T09:02:10.138Z"
      },
      {
        "duration": 999,
        "start_time": "2022-02-02T09:02:11.897Z"
      },
      {
        "duration": 24,
        "start_time": "2022-02-02T09:02:13.104Z"
      },
      {
        "duration": 55,
        "start_time": "2022-02-02T09:02:14.338Z"
      },
      {
        "duration": 10,
        "start_time": "2022-02-02T09:02:17.213Z"
      },
      {
        "duration": 8,
        "start_time": "2022-02-02T09:02:17.989Z"
      },
      {
        "duration": 20,
        "start_time": "2022-02-02T09:02:18.657Z"
      },
      {
        "duration": 545,
        "start_time": "2022-02-02T09:02:19.749Z"
      },
      {
        "duration": 1219,
        "start_time": "2022-02-02T09:02:23.174Z"
      },
      {
        "duration": 1015,
        "start_time": "2022-02-02T09:02:25.396Z"
      },
      {
        "duration": 1595,
        "start_time": "2022-02-02T09:02:27.343Z"
      },
      {
        "duration": 19,
        "start_time": "2022-02-02T09:02:31.770Z"
      },
      {
        "duration": 687,
        "start_time": "2022-02-02T09:02:34.047Z"
      },
      {
        "duration": 10,
        "start_time": "2022-02-02T09:02:36.812Z"
      },
      {
        "duration": 11,
        "start_time": "2022-02-02T09:02:40.856Z"
      },
      {
        "duration": 206,
        "start_time": "2022-02-02T09:02:43.194Z"
      },
      {
        "duration": 976,
        "start_time": "2022-02-02T09:02:44.453Z"
      },
      {
        "duration": 455,
        "start_time": "2022-02-02T09:02:50.370Z"
      },
      {
        "duration": 462,
        "start_time": "2022-02-02T09:02:52.092Z"
      },
      {
        "duration": 454,
        "start_time": "2022-02-02T09:02:54.236Z"
      },
      {
        "duration": 12,
        "start_time": "2022-02-02T09:03:28.304Z"
      },
      {
        "duration": 628,
        "start_time": "2022-02-02T09:03:44.286Z"
      },
      {
        "duration": 673,
        "start_time": "2022-02-02T09:03:59.575Z"
      },
      {
        "duration": 467,
        "start_time": "2022-02-02T09:04:13.468Z"
      },
      {
        "duration": 459,
        "start_time": "2022-02-02T09:04:14.250Z"
      },
      {
        "duration": 7,
        "start_time": "2022-02-02T09:04:16.937Z"
      },
      {
        "duration": 15,
        "start_time": "2022-02-02T09:04:20.898Z"
      },
      {
        "duration": 9,
        "start_time": "2022-02-02T09:04:26.907Z"
      },
      {
        "duration": 8,
        "start_time": "2022-02-02T09:04:27.993Z"
      },
      {
        "duration": 6,
        "start_time": "2022-02-02T09:04:31.451Z"
      },
      {
        "duration": 13,
        "start_time": "2022-02-02T09:04:38.704Z"
      },
      {
        "duration": 635,
        "start_time": "2022-02-02T09:04:50.597Z"
      },
      {
        "duration": 6,
        "start_time": "2022-02-02T09:04:55.429Z"
      },
      {
        "duration": 7,
        "start_time": "2022-02-02T09:04:56.320Z"
      },
      {
        "duration": 5,
        "start_time": "2022-02-02T09:04:57.088Z"
      },
      {
        "duration": 650,
        "start_time": "2022-02-02T09:04:58.840Z"
      },
      {
        "duration": 655,
        "start_time": "2022-02-02T09:05:01.516Z"
      },
      {
        "duration": 9,
        "start_time": "2022-02-02T09:05:05.888Z"
      },
      {
        "duration": 770,
        "start_time": "2022-02-02T09:05:13.366Z"
      },
      {
        "duration": 7,
        "start_time": "2022-02-02T09:05:14.986Z"
      },
      {
        "duration": 7,
        "start_time": "2022-02-02T09:05:15.942Z"
      },
      {
        "duration": 7,
        "start_time": "2022-02-02T09:05:16.775Z"
      },
      {
        "duration": 535,
        "start_time": "2022-02-02T09:05:18.840Z"
      },
      {
        "duration": 7,
        "start_time": "2022-02-02T09:05:20.385Z"
      },
      {
        "duration": 7,
        "start_time": "2022-02-02T09:05:22.963Z"
      },
      {
        "duration": 7,
        "start_time": "2022-02-02T09:05:23.795Z"
      },
      {
        "duration": 8,
        "start_time": "2022-02-02T09:05:33.156Z"
      },
      {
        "duration": 7,
        "start_time": "2022-02-02T09:05:33.989Z"
      },
      {
        "duration": 6,
        "start_time": "2022-02-02T09:05:34.946Z"
      },
      {
        "duration": 6,
        "start_time": "2022-02-02T09:05:37.631Z"
      },
      {
        "duration": 8,
        "start_time": "2022-02-02T09:05:38.348Z"
      },
      {
        "duration": 670,
        "start_time": "2022-02-02T09:05:40.701Z"
      },
      {
        "duration": 5,
        "start_time": "2022-02-02T09:05:51.353Z"
      },
      {
        "duration": 5,
        "start_time": "2022-02-02T09:05:54.566Z"
      },
      {
        "duration": 32,
        "start_time": "2022-02-02T09:06:23.575Z"
      },
      {
        "duration": 391,
        "start_time": "2022-02-02T09:06:42.751Z"
      },
      {
        "duration": 9,
        "start_time": "2022-02-02T09:07:26.829Z"
      },
      {
        "duration": 5,
        "start_time": "2022-02-02T09:07:27.705Z"
      },
      {
        "duration": 4,
        "start_time": "2022-02-02T09:07:28.557Z"
      },
      {
        "duration": 6,
        "start_time": "2022-02-02T09:07:29.449Z"
      },
      {
        "duration": 5,
        "start_time": "2022-02-02T09:07:32.490Z"
      },
      {
        "duration": 6,
        "start_time": "2022-02-02T09:07:33.749Z"
      },
      {
        "duration": 11,
        "start_time": "2022-02-02T09:07:36.529Z"
      },
      {
        "duration": 116,
        "start_time": "2022-02-02T09:07:54.796Z"
      },
      {
        "duration": 649,
        "start_time": "2022-02-02T09:10:39.984Z"
      },
      {
        "duration": 10,
        "start_time": "2022-02-02T09:10:48.165Z"
      },
      {
        "duration": 4,
        "start_time": "2022-02-02T09:10:51.508Z"
      },
      {
        "duration": 5,
        "start_time": "2022-02-02T09:10:52.726Z"
      },
      {
        "duration": 5,
        "start_time": "2022-02-02T09:10:55.326Z"
      },
      {
        "duration": 109,
        "start_time": "2022-02-02T09:10:56.364Z"
      },
      {
        "duration": 468,
        "start_time": "2022-02-02T09:15:27.716Z"
      },
      {
        "duration": 24,
        "start_time": "2022-02-02T09:15:43.646Z"
      },
      {
        "duration": 120,
        "start_time": "2022-02-02T09:15:59.710Z"
      },
      {
        "duration": 23,
        "start_time": "2022-02-02T09:16:22.782Z"
      },
      {
        "duration": 114,
        "start_time": "2022-02-02T09:16:23.822Z"
      },
      {
        "duration": 392,
        "start_time": "2022-02-02T09:18:51.657Z"
      },
      {
        "duration": 424,
        "start_time": "2022-02-02T09:19:36.522Z"
      },
      {
        "duration": 588,
        "start_time": "2022-02-02T09:21:26.883Z"
      },
      {
        "duration": 546,
        "start_time": "2022-02-02T09:22:08.095Z"
      },
      {
        "duration": 518,
        "start_time": "2022-02-02T09:22:45.900Z"
      },
      {
        "duration": 556,
        "start_time": "2022-02-02T09:23:07.795Z"
      },
      {
        "duration": 6,
        "start_time": "2022-02-02T09:23:31.426Z"
      },
      {
        "duration": 595,
        "start_time": "2022-02-02T09:23:53.114Z"
      },
      {
        "duration": 7,
        "start_time": "2022-02-02T09:24:12.079Z"
      },
      {
        "duration": 465,
        "start_time": "2022-02-02T09:24:19.975Z"
      },
      {
        "duration": 450,
        "start_time": "2022-02-02T09:24:39.850Z"
      },
      {
        "duration": 12,
        "start_time": "2022-02-02T09:36:14.487Z"
      },
      {
        "duration": 117,
        "start_time": "2022-02-02T09:36:28.938Z"
      },
      {
        "duration": 408,
        "start_time": "2022-02-02T09:39:42.074Z"
      },
      {
        "duration": 39,
        "start_time": "2022-02-02T09:40:28.043Z"
      },
      {
        "duration": 6,
        "start_time": "2022-02-02T09:40:36.937Z"
      },
      {
        "duration": 107,
        "start_time": "2022-02-02T09:40:38.699Z"
      },
      {
        "duration": 3,
        "start_time": "2022-02-02T09:41:09.144Z"
      },
      {
        "duration": 6,
        "start_time": "2022-02-02T09:41:10.090Z"
      },
      {
        "duration": 540,
        "start_time": "2022-02-02T09:44:05.091Z"
      },
      {
        "duration": 149,
        "start_time": "2022-02-02T09:44:22.708Z"
      },
      {
        "duration": 10,
        "start_time": "2022-02-02T09:44:28.814Z"
      },
      {
        "duration": 512,
        "start_time": "2022-02-02T09:45:35.821Z"
      },
      {
        "duration": 124,
        "start_time": "2022-02-02T09:45:49.424Z"
      },
      {
        "duration": 337,
        "start_time": "2022-02-02T09:46:30.225Z"
      },
      {
        "duration": 123,
        "start_time": "2022-02-02T09:48:03.392Z"
      },
      {
        "duration": 333,
        "start_time": "2022-02-02T09:48:05.913Z"
      },
      {
        "duration": 126,
        "start_time": "2022-02-02T09:48:15.789Z"
      },
      {
        "duration": 339,
        "start_time": "2022-02-02T09:48:17.788Z"
      },
      {
        "duration": 376,
        "start_time": "2022-02-02T09:50:04.655Z"
      },
      {
        "duration": 5,
        "start_time": "2022-02-02T09:52:27.633Z"
      },
      {
        "duration": 6,
        "start_time": "2022-02-02T09:52:32.111Z"
      },
      {
        "duration": 4,
        "start_time": "2022-02-02T09:53:07.384Z"
      },
      {
        "duration": 6,
        "start_time": "2022-02-02T09:53:10.279Z"
      },
      {
        "duration": 6,
        "start_time": "2022-02-02T09:53:39.942Z"
      },
      {
        "duration": 43,
        "start_time": "2022-02-02T09:54:41.759Z"
      },
      {
        "duration": 116,
        "start_time": "2022-02-02T09:54:49.439Z"
      },
      {
        "duration": 3057,
        "start_time": "2022-02-03T04:52:45.066Z"
      },
      {
        "duration": 1066,
        "start_time": "2022-02-03T04:52:48.125Z"
      },
      {
        "duration": 629,
        "start_time": "2022-02-03T04:52:53.160Z"
      },
      {
        "duration": 13,
        "start_time": "2022-02-03T04:52:54.718Z"
      },
      {
        "duration": 21,
        "start_time": "2022-02-03T04:52:55.627Z"
      },
      {
        "duration": 6,
        "start_time": "2022-02-03T04:52:58.108Z"
      },
      {
        "duration": 5,
        "start_time": "2022-02-03T04:52:59.126Z"
      },
      {
        "duration": 7,
        "start_time": "2022-02-03T04:52:59.896Z"
      },
      {
        "duration": 274,
        "start_time": "2022-02-03T04:53:00.874Z"
      },
      {
        "duration": 691,
        "start_time": "2022-02-03T04:53:04.058Z"
      },
      {
        "duration": 563,
        "start_time": "2022-02-03T04:53:05.467Z"
      },
      {
        "duration": 802,
        "start_time": "2022-02-03T04:53:06.743Z"
      },
      {
        "duration": 8,
        "start_time": "2022-02-03T04:53:09.488Z"
      },
      {
        "duration": 409,
        "start_time": "2022-02-03T04:53:11.530Z"
      },
      {
        "duration": 8,
        "start_time": "2022-02-03T04:53:12.752Z"
      },
      {
        "duration": 8,
        "start_time": "2022-02-03T04:53:13.925Z"
      },
      {
        "duration": 95,
        "start_time": "2022-02-03T04:53:14.787Z"
      },
      {
        "duration": 594,
        "start_time": "2022-02-03T04:53:16.723Z"
      },
      {
        "duration": 240,
        "start_time": "2022-02-03T04:53:19.233Z"
      },
      {
        "duration": 248,
        "start_time": "2022-02-03T04:53:20.212Z"
      },
      {
        "duration": 237,
        "start_time": "2022-02-03T04:53:21.221Z"
      },
      {
        "duration": 5,
        "start_time": "2022-02-03T04:53:23.767Z"
      },
      {
        "duration": 8,
        "start_time": "2022-02-03T04:53:26.200Z"
      },
      {
        "duration": 4,
        "start_time": "2022-02-03T04:53:26.977Z"
      },
      {
        "duration": 5,
        "start_time": "2022-02-03T04:53:27.423Z"
      },
      {
        "duration": 5,
        "start_time": "2022-02-03T04:53:27.979Z"
      },
      {
        "duration": 10,
        "start_time": "2022-02-03T04:53:29.854Z"
      },
      {
        "duration": 388,
        "start_time": "2022-02-03T04:53:31.652Z"
      },
      {
        "duration": 5,
        "start_time": "2022-02-03T04:53:32.643Z"
      },
      {
        "duration": 4,
        "start_time": "2022-02-03T04:53:33.396Z"
      },
      {
        "duration": 4,
        "start_time": "2022-02-03T04:53:34.125Z"
      },
      {
        "duration": 338,
        "start_time": "2022-02-03T04:53:34.811Z"
      },
      {
        "duration": 352,
        "start_time": "2022-02-03T04:53:35.822Z"
      },
      {
        "duration": 5,
        "start_time": "2022-02-03T04:53:38.050Z"
      },
      {
        "duration": 300,
        "start_time": "2022-02-03T04:53:38.791Z"
      },
      {
        "duration": 5,
        "start_time": "2022-02-03T04:53:39.690Z"
      },
      {
        "duration": 4,
        "start_time": "2022-02-03T04:53:40.342Z"
      },
      {
        "duration": 5,
        "start_time": "2022-02-03T04:53:40.838Z"
      },
      {
        "duration": 275,
        "start_time": "2022-02-03T04:53:42.044Z"
      },
      {
        "duration": 4,
        "start_time": "2022-02-03T04:53:43.001Z"
      },
      {
        "duration": 4,
        "start_time": "2022-02-03T04:53:43.600Z"
      },
      {
        "duration": 5,
        "start_time": "2022-02-03T04:53:44.040Z"
      },
      {
        "duration": 6,
        "start_time": "2022-02-03T04:53:47.050Z"
      },
      {
        "duration": 5,
        "start_time": "2022-02-03T04:53:47.597Z"
      },
      {
        "duration": 4,
        "start_time": "2022-02-03T04:53:48.091Z"
      },
      {
        "duration": 5,
        "start_time": "2022-02-03T04:53:48.574Z"
      },
      {
        "duration": 4,
        "start_time": "2022-02-03T04:53:49.129Z"
      },
      {
        "duration": 215,
        "start_time": "2022-02-03T04:53:49.815Z"
      },
      {
        "duration": 4,
        "start_time": "2022-02-03T04:53:52.568Z"
      },
      {
        "duration": 3,
        "start_time": "2022-02-03T04:53:53.082Z"
      },
      {
        "duration": 7,
        "start_time": "2022-02-03T04:53:57.830Z"
      },
      {
        "duration": 2,
        "start_time": "2022-02-03T04:54:09.592Z"
      },
      {
        "duration": 408,
        "start_time": "2022-02-03T04:54:15.304Z"
      },
      {
        "duration": 191,
        "start_time": "2022-02-03T04:54:22.448Z"
      },
      {
        "duration": 199,
        "start_time": "2022-02-03T04:54:40.133Z"
      },
      {
        "duration": 3,
        "start_time": "2022-02-03T04:54:42.084Z"
      },
      {
        "duration": 6,
        "start_time": "2022-02-03T04:54:42.089Z"
      },
      {
        "duration": 4,
        "start_time": "2022-02-03T04:54:42.977Z"
      },
      {
        "duration": 4,
        "start_time": "2022-02-03T04:54:44.164Z"
      },
      {
        "duration": 4,
        "start_time": "2022-02-03T04:54:46.659Z"
      },
      {
        "duration": 25,
        "start_time": "2022-02-03T04:54:48.400Z"
      },
      {
        "duration": 5,
        "start_time": "2022-02-03T04:54:54.297Z"
      },
      {
        "duration": 5,
        "start_time": "2022-02-03T04:56:09.012Z"
      },
      {
        "duration": 25,
        "start_time": "2022-02-03T04:56:44.409Z"
      },
      {
        "duration": 5,
        "start_time": "2022-02-03T04:56:48.263Z"
      },
      {
        "duration": 27,
        "start_time": "2022-02-03T04:57:16.119Z"
      },
      {
        "duration": 68,
        "start_time": "2022-02-03T04:57:32.864Z"
      },
      {
        "duration": 25,
        "start_time": "2022-02-03T04:57:58.495Z"
      },
      {
        "duration": 64,
        "start_time": "2022-02-03T04:57:59.864Z"
      },
      {
        "duration": 25,
        "start_time": "2022-02-03T04:58:25.162Z"
      },
      {
        "duration": 60,
        "start_time": "2022-02-03T04:58:30.486Z"
      },
      {
        "duration": 68,
        "start_time": "2022-02-03T04:58:50.204Z"
      },
      {
        "duration": 4,
        "start_time": "2022-02-03T05:00:02.092Z"
      },
      {
        "duration": 3,
        "start_time": "2022-02-03T05:00:14.897Z"
      },
      {
        "duration": 5,
        "start_time": "2022-02-03T05:00:17.568Z"
      },
      {
        "duration": 309,
        "start_time": "2022-02-03T05:00:46.866Z"
      },
      {
        "duration": 2,
        "start_time": "2022-02-03T05:02:17.490Z"
      },
      {
        "duration": 4,
        "start_time": "2022-02-03T05:02:18.564Z"
      },
      {
        "duration": 62,
        "start_time": "2022-02-03T05:02:20.770Z"
      },
      {
        "duration": 7,
        "start_time": "2022-02-03T05:02:29.047Z"
      },
      {
        "duration": 4,
        "start_time": "2022-02-03T05:02:31.598Z"
      },
      {
        "duration": 2,
        "start_time": "2022-02-03T05:02:35.709Z"
      },
      {
        "duration": 8,
        "start_time": "2022-02-03T05:02:37.244Z"
      },
      {
        "duration": 111,
        "start_time": "2022-02-03T05:02:39.468Z"
      },
      {
        "duration": 4,
        "start_time": "2022-02-03T05:02:42.077Z"
      },
      {
        "duration": 8,
        "start_time": "2022-02-03T05:02:49.607Z"
      },
      {
        "duration": 4,
        "start_time": "2022-02-03T05:03:01.465Z"
      },
      {
        "duration": 7,
        "start_time": "2022-02-03T05:03:04.586Z"
      },
      {
        "duration": 8,
        "start_time": "2022-02-03T05:03:05.387Z"
      },
      {
        "duration": 7252,
        "start_time": "2022-02-03T05:03:24.100Z"
      },
      {
        "duration": 5,
        "start_time": "2022-02-03T05:03:44.052Z"
      },
      {
        "duration": 94207,
        "start_time": "2022-02-03T05:03:48.892Z"
      },
      {
        "duration": 3,
        "start_time": "2022-02-03T05:06:29.088Z"
      },
      {
        "duration": 23,
        "start_time": "2022-02-03T05:07:30.351Z"
      },
      {
        "duration": 4,
        "start_time": "2022-02-03T05:07:48.201Z"
      },
      {
        "duration": 4,
        "start_time": "2022-02-03T05:08:13.414Z"
      },
      {
        "duration": 24,
        "start_time": "2022-02-03T05:08:34.536Z"
      },
      {
        "duration": 62,
        "start_time": "2022-02-03T05:08:35.497Z"
      },
      {
        "duration": 64,
        "start_time": "2022-02-03T05:08:36.489Z"
      },
      {
        "duration": 4,
        "start_time": "2022-02-03T05:08:38.377Z"
      },
      {
        "duration": 313,
        "start_time": "2022-02-03T05:08:42.527Z"
      },
      {
        "duration": 3,
        "start_time": "2022-02-03T05:08:52.271Z"
      },
      {
        "duration": 4,
        "start_time": "2022-02-03T05:08:53.517Z"
      },
      {
        "duration": 3,
        "start_time": "2022-02-03T05:08:55.612Z"
      },
      {
        "duration": 3,
        "start_time": "2022-02-03T05:08:58.069Z"
      },
      {
        "duration": 4,
        "start_time": "2022-02-03T05:08:59.001Z"
      },
      {
        "duration": 3,
        "start_time": "2022-02-03T05:09:05.009Z"
      },
      {
        "duration": 4,
        "start_time": "2022-02-03T05:09:06.056Z"
      },
      {
        "duration": 62,
        "start_time": "2022-02-03T05:09:06.942Z"
      },
      {
        "duration": 8,
        "start_time": "2022-02-03T05:09:08.887Z"
      },
      {
        "duration": 4,
        "start_time": "2022-02-03T05:09:13.297Z"
      },
      {
        "duration": 3,
        "start_time": "2022-02-03T05:09:17.112Z"
      },
      {
        "duration": 10,
        "start_time": "2022-02-03T05:09:18.007Z"
      },
      {
        "duration": 580,
        "start_time": "2022-02-03T05:09:18.792Z"
      },
      {
        "duration": 4,
        "start_time": "2022-02-03T05:09:21.223Z"
      },
      {
        "duration": 3,
        "start_time": "2022-02-03T05:09:40.098Z"
      },
      {
        "duration": 2,
        "start_time": "2022-02-03T05:09:43.589Z"
      },
      {
        "duration": 2,
        "start_time": "2022-02-03T05:09:47.524Z"
      },
      {
        "duration": 3,
        "start_time": "2022-02-03T05:09:51.565Z"
      },
      {
        "duration": 3,
        "start_time": "2022-02-03T05:09:55.264Z"
      },
      {
        "duration": 3,
        "start_time": "2022-02-03T05:09:57.985Z"
      },
      {
        "duration": 5,
        "start_time": "2022-02-03T05:09:59.466Z"
      },
      {
        "duration": 175138,
        "start_time": "2022-02-03T05:10:01.581Z"
      },
      {
        "duration": 178156,
        "start_time": "2022-02-03T05:13:49.262Z"
      },
      {
        "duration": 14,
        "start_time": "2022-02-03T05:17:51.146Z"
      },
      {
        "duration": 3,
        "start_time": "2022-02-03T05:18:39.297Z"
      },
      {
        "duration": 3,
        "start_time": "2022-02-03T05:18:47.112Z"
      },
      {
        "duration": 4,
        "start_time": "2022-02-03T05:20:58.762Z"
      },
      {
        "duration": 4,
        "start_time": "2022-02-03T05:21:00.029Z"
      },
      {
        "duration": 24,
        "start_time": "2022-02-03T05:21:14.561Z"
      },
      {
        "duration": 64,
        "start_time": "2022-02-03T05:21:17.789Z"
      },
      {
        "duration": 67,
        "start_time": "2022-02-03T05:21:26.765Z"
      },
      {
        "duration": 4,
        "start_time": "2022-02-03T05:21:44.920Z"
      },
      {
        "duration": 4,
        "start_time": "2022-02-03T05:21:45.992Z"
      },
      {
        "duration": 3,
        "start_time": "2022-02-03T05:21:47.779Z"
      },
      {
        "duration": 4,
        "start_time": "2022-02-03T05:21:48.529Z"
      },
      {
        "duration": 4,
        "start_time": "2022-02-03T05:22:10.657Z"
      },
      {
        "duration": 5,
        "start_time": "2022-02-03T05:22:31.194Z"
      },
      {
        "duration": 86,
        "start_time": "2022-02-03T05:22:42.096Z"
      },
      {
        "duration": 6,
        "start_time": "2022-02-03T05:23:08.365Z"
      },
      {
        "duration": 5,
        "start_time": "2022-02-03T05:23:17.660Z"
      },
      {
        "duration": 332484,
        "start_time": "2022-02-03T05:24:02.158Z"
      },
      {
        "duration": 78,
        "start_time": "2022-02-03T05:30:31.799Z"
      },
      {
        "duration": 5,
        "start_time": "2022-02-03T05:30:34.390Z"
      },
      {
        "duration": 4,
        "start_time": "2022-02-03T05:30:35.070Z"
      },
      {
        "duration": 146294,
        "start_time": "2022-02-03T05:30:36.796Z"
      },
      {
        "duration": 86,
        "start_time": "2022-02-03T05:33:46.702Z"
      },
      {
        "duration": 14,
        "start_time": "2022-02-03T05:33:49.925Z"
      },
      {
        "duration": 5,
        "start_time": "2022-02-03T05:33:51.343Z"
      },
      {
        "duration": 79,
        "start_time": "2022-02-03T05:33:52.266Z"
      },
      {
        "duration": 5,
        "start_time": "2022-02-03T05:33:56.244Z"
      },
      {
        "duration": 4,
        "start_time": "2022-02-03T05:33:57.248Z"
      },
      {
        "duration": 179447,
        "start_time": "2022-02-03T05:34:01.725Z"
      },
      {
        "duration": 28,
        "start_time": "2022-02-03T05:37:05.142Z"
      },
      {
        "duration": 15,
        "start_time": "2022-02-03T05:39:01.108Z"
      },
      {
        "duration": 30,
        "start_time": "2022-02-03T05:39:06.478Z"
      },
      {
        "duration": 138889,
        "start_time": "2022-02-03T05:39:09.435Z"
      },
      {
        "duration": 6,
        "start_time": "2022-02-03T05:45:56.637Z"
      },
      {
        "duration": 16,
        "start_time": "2022-02-03T05:45:58.476Z"
      },
      {
        "duration": 35,
        "start_time": "2022-02-03T05:46:00.550Z"
      },
      {
        "duration": 3,
        "start_time": "2022-02-03T05:46:02.618Z"
      },
      {
        "duration": 9,
        "start_time": "2022-02-03T05:46:03.731Z"
      },
      {
        "duration": 791,
        "start_time": "2022-02-03T05:46:09.197Z"
      },
      {
        "duration": 4,
        "start_time": "2022-02-03T05:46:12.291Z"
      },
      {
        "duration": 22,
        "start_time": "2022-02-03T05:47:32.215Z"
      },
      {
        "duration": 10,
        "start_time": "2022-02-03T05:47:42.326Z"
      },
      {
        "duration": 8,
        "start_time": "2022-02-03T05:48:00.463Z"
      },
      {
        "duration": 3,
        "start_time": "2022-02-03T05:48:41.888Z"
      },
      {
        "duration": 4,
        "start_time": "2022-02-03T05:49:10.342Z"
      },
      {
        "duration": 9,
        "start_time": "2022-02-03T05:49:44.261Z"
      },
      {
        "duration": 45,
        "start_time": "2022-02-03T05:49:52.627Z"
      },
      {
        "duration": 5,
        "start_time": "2022-02-03T05:49:59.637Z"
      },
      {
        "duration": 6,
        "start_time": "2022-02-03T05:50:09.690Z"
      },
      {
        "duration": 4,
        "start_time": "2022-02-03T05:50:14.336Z"
      },
      {
        "duration": 4,
        "start_time": "2022-02-03T05:50:17.588Z"
      },
      {
        "duration": 4,
        "start_time": "2022-02-03T05:52:43.667Z"
      },
      {
        "duration": 181257,
        "start_time": "2022-02-03T05:52:45.567Z"
      },
      {
        "duration": 341,
        "start_time": "2022-02-03T06:02:16.585Z"
      },
      {
        "duration": 335,
        "start_time": "2022-02-03T06:03:16.825Z"
      },
      {
        "duration": 501,
        "start_time": "2022-02-03T06:03:44.845Z"
      },
      {
        "duration": 3,
        "start_time": "2022-02-03T06:04:59.146Z"
      },
      {
        "duration": 4,
        "start_time": "2022-02-03T06:05:00.271Z"
      },
      {
        "duration": 4,
        "start_time": "2022-02-03T06:05:05.006Z"
      },
      {
        "duration": 27,
        "start_time": "2022-02-03T06:05:12.472Z"
      },
      {
        "duration": 26,
        "start_time": "2022-02-03T06:05:26.906Z"
      },
      {
        "duration": 6,
        "start_time": "2022-02-03T06:06:35.277Z"
      },
      {
        "duration": 1771,
        "start_time": "2022-02-03T15:04:12.679Z"
      },
      {
        "duration": 41,
        "start_time": "2022-02-03T15:04:24.840Z"
      },
      {
        "duration": 395,
        "start_time": "2022-02-03T15:05:58.662Z"
      },
      {
        "duration": 877,
        "start_time": "2022-02-03T15:06:11.277Z"
      },
      {
        "duration": 37,
        "start_time": "2022-02-03T15:06:12.158Z"
      },
      {
        "duration": 37,
        "start_time": "2022-02-03T15:06:13.032Z"
      },
      {
        "duration": 10,
        "start_time": "2022-02-03T15:06:15.425Z"
      },
      {
        "duration": 7,
        "start_time": "2022-02-03T15:06:16.151Z"
      },
      {
        "duration": 11,
        "start_time": "2022-02-03T15:06:16.801Z"
      },
      {
        "duration": 551,
        "start_time": "2022-02-03T15:06:17.914Z"
      },
      {
        "duration": 705,
        "start_time": "2022-02-03T15:07:01.687Z"
      },
      {
        "duration": 16,
        "start_time": "2022-02-03T15:07:10.529Z"
      },
      {
        "duration": 655,
        "start_time": "2022-02-03T15:07:13.977Z"
      },
      {
        "duration": 11,
        "start_time": "2022-02-03T15:07:15.267Z"
      },
      {
        "duration": 11,
        "start_time": "2022-02-03T15:07:16.406Z"
      },
      {
        "duration": 145,
        "start_time": "2022-02-03T15:07:23.894Z"
      },
      {
        "duration": 904,
        "start_time": "2022-02-03T15:07:25.155Z"
      },
      {
        "duration": 430,
        "start_time": "2022-02-03T15:07:27.474Z"
      },
      {
        "duration": 148,
        "start_time": "2022-02-03T15:08:13.315Z"
      },
      {
        "duration": 913,
        "start_time": "2022-02-03T15:08:18.153Z"
      },
      {
        "duration": 433,
        "start_time": "2022-02-03T15:08:24.768Z"
      },
      {
        "duration": 455,
        "start_time": "2022-02-03T15:08:26.872Z"
      },
      {
        "duration": 423,
        "start_time": "2022-02-03T15:08:34.792Z"
      },
      {
        "duration": 859,
        "start_time": "2022-02-03T15:08:46.090Z"
      },
      {
        "duration": 1279,
        "start_time": "2022-02-03T15:08:59.295Z"
      },
      {
        "duration": 514,
        "start_time": "2022-02-03T15:09:04.657Z"
      },
      {
        "duration": 469,
        "start_time": "2022-02-03T15:09:17.672Z"
      },
      {
        "duration": 470,
        "start_time": "2022-02-03T15:09:37.403Z"
      },
      {
        "duration": 734,
        "start_time": "2022-02-03T15:09:49.075Z"
      },
      {
        "duration": 520,
        "start_time": "2022-02-03T15:10:03.663Z"
      },
      {
        "duration": 495,
        "start_time": "2022-02-03T15:10:23.104Z"
      },
      {
        "duration": 469,
        "start_time": "2022-02-03T15:10:38.056Z"
      },
      {
        "duration": 11,
        "start_time": "2022-02-03T15:11:36.490Z"
      },
      {
        "duration": 479,
        "start_time": "2022-02-03T15:11:39.441Z"
      },
      {
        "duration": 13,
        "start_time": "2022-02-03T15:11:49.116Z"
      },
      {
        "duration": 137,
        "start_time": "2022-02-03T15:11:49.981Z"
      },
      {
        "duration": 820,
        "start_time": "2022-02-03T15:11:50.334Z"
      },
      {
        "duration": 487,
        "start_time": "2022-02-03T15:11:51.976Z"
      },
      {
        "duration": 1236,
        "start_time": "2022-02-03T15:16:03.138Z"
      },
      {
        "duration": 488,
        "start_time": "2022-02-03T15:16:10.244Z"
      },
      {
        "duration": 1584,
        "start_time": "2022-02-03T15:16:27.965Z"
      },
      {
        "duration": 8,
        "start_time": "2022-02-03T15:18:03.016Z"
      },
      {
        "duration": 70,
        "start_time": "2022-02-03T15:18:06.938Z"
      },
      {
        "duration": 486,
        "start_time": "2022-02-03T15:18:10.562Z"
      },
      {
        "duration": 585,
        "start_time": "2022-02-03T15:18:20.014Z"
      },
      {
        "duration": 497,
        "start_time": "2022-02-03T15:18:24.555Z"
      },
      {
        "duration": 10,
        "start_time": "2022-02-03T15:19:07.191Z"
      },
      {
        "duration": 18,
        "start_time": "2022-02-03T15:19:19.304Z"
      },
      {
        "duration": 7,
        "start_time": "2022-02-03T15:19:35.785Z"
      },
      {
        "duration": 84,
        "start_time": "2022-02-03T15:19:49.793Z"
      },
      {
        "duration": 494,
        "start_time": "2022-02-03T15:20:14.717Z"
      },
      {
        "duration": 495,
        "start_time": "2022-02-03T15:20:24.327Z"
      },
      {
        "duration": 497,
        "start_time": "2022-02-03T15:20:39.034Z"
      },
      {
        "duration": 7,
        "start_time": "2022-02-03T15:20:55.020Z"
      },
      {
        "duration": 19,
        "start_time": "2022-02-03T15:21:00.402Z"
      },
      {
        "duration": 7,
        "start_time": "2022-02-03T15:21:02.272Z"
      },
      {
        "duration": 6,
        "start_time": "2022-02-03T15:21:02.913Z"
      },
      {
        "duration": 7,
        "start_time": "2022-02-03T15:21:03.463Z"
      },
      {
        "duration": 614,
        "start_time": "2022-02-03T15:22:18.854Z"
      },
      {
        "duration": 7,
        "start_time": "2022-02-03T15:23:05.740Z"
      },
      {
        "duration": 52,
        "start_time": "2022-02-03T15:23:39.013Z"
      },
      {
        "duration": 51,
        "start_time": "2022-02-03T15:23:52.526Z"
      },
      {
        "duration": 7688,
        "start_time": "2022-02-03T15:24:17.506Z"
      },
      {
        "duration": 336,
        "start_time": "2022-02-03T15:24:40.970Z"
      },
      {
        "duration": 455,
        "start_time": "2022-02-03T15:24:52.596Z"
      },
      {
        "duration": 293,
        "start_time": "2022-02-03T15:25:06.748Z"
      },
      {
        "duration": 349,
        "start_time": "2022-02-03T15:25:28.394Z"
      },
      {
        "duration": 31,
        "start_time": "2022-02-03T15:26:41.942Z"
      },
      {
        "duration": 5,
        "start_time": "2022-02-03T15:26:52.651Z"
      },
      {
        "duration": 6,
        "start_time": "2022-02-03T15:27:00.388Z"
      },
      {
        "duration": 26,
        "start_time": "2022-02-03T15:27:01.893Z"
      },
      {
        "duration": 301,
        "start_time": "2022-02-03T15:27:07.109Z"
      },
      {
        "duration": 5,
        "start_time": "2022-02-03T15:27:12.370Z"
      },
      {
        "duration": 5,
        "start_time": "2022-02-03T15:27:12.744Z"
      },
      {
        "duration": 4,
        "start_time": "2022-02-03T15:27:17.050Z"
      },
      {
        "duration": 14,
        "start_time": "2022-02-03T15:27:18.541Z"
      },
      {
        "duration": 900,
        "start_time": "2022-02-03T15:27:23.452Z"
      },
      {
        "duration": 5,
        "start_time": "2022-02-03T15:27:25.671Z"
      },
      {
        "duration": 7,
        "start_time": "2022-02-03T15:27:30.527Z"
      },
      {
        "duration": 49980,
        "start_time": "2022-02-03T15:27:32.436Z"
      },
      {
        "duration": 985,
        "start_time": "2022-02-03T15:29:57.734Z"
      },
      {
        "duration": 12014,
        "start_time": "2022-02-03T15:31:53.724Z"
      },
      {
        "duration": 12093,
        "start_time": "2022-02-03T15:32:47.729Z"
      },
      {
        "duration": 42,
        "start_time": "2022-02-03T15:36:13.537Z"
      },
      {
        "duration": 8,
        "start_time": "2022-02-03T15:36:42.996Z"
      },
      {
        "duration": 118,
        "start_time": "2022-02-03T15:36:56.077Z"
      },
      {
        "duration": 117,
        "start_time": "2022-02-03T15:37:23.506Z"
      },
      {
        "duration": 30,
        "start_time": "2022-02-03T15:37:46.940Z"
      },
      {
        "duration": 5,
        "start_time": "2022-02-03T15:37:47.935Z"
      },
      {
        "duration": 6,
        "start_time": "2022-02-03T15:37:51.104Z"
      },
      {
        "duration": 5,
        "start_time": "2022-02-03T15:37:52.083Z"
      },
      {
        "duration": 4,
        "start_time": "2022-02-03T15:37:54.194Z"
      },
      {
        "duration": 14,
        "start_time": "2022-02-03T15:37:56.008Z"
      },
      {
        "duration": 13,
        "start_time": "2022-02-03T15:38:17.776Z"
      },
      {
        "duration": 10724,
        "start_time": "2022-02-03T15:38:41.538Z"
      },
      {
        "duration": 3,
        "start_time": "2022-02-03T15:39:23.372Z"
      },
      {
        "duration": 15,
        "start_time": "2022-02-03T15:39:24.535Z"
      },
      {
        "duration": 919,
        "start_time": "2022-02-03T15:39:26.037Z"
      },
      {
        "duration": 6,
        "start_time": "2022-02-03T15:39:27.967Z"
      },
      {
        "duration": 9,
        "start_time": "2022-02-03T15:39:32.156Z"
      },
      {
        "duration": 495115,
        "start_time": "2022-02-03T15:39:36.051Z"
      },
      {
        "duration": 13,
        "start_time": "2022-02-03T15:48:31.667Z"
      },
      {
        "duration": 10,
        "start_time": "2022-02-03T15:48:32.963Z"
      },
      {
        "duration": 355,
        "start_time": "2022-02-03T15:50:05.250Z"
      },
      {
        "duration": 515236,
        "start_time": "2022-02-03T15:50:35.203Z"
      },
      {
        "duration": 16,
        "start_time": "2022-02-03T15:59:17.286Z"
      },
      {
        "duration": 9,
        "start_time": "2022-02-03T15:59:18.102Z"
      },
      {
        "duration": 18,
        "start_time": "2022-02-03T15:59:42.141Z"
      },
      {
        "duration": 9,
        "start_time": "2022-02-03T15:59:43.728Z"
      },
      {
        "duration": 551373,
        "start_time": "2022-02-03T16:00:28.402Z"
      },
      {
        "duration": 78,
        "start_time": "2022-02-03T16:09:39.779Z"
      },
      {
        "duration": 19,
        "start_time": "2022-02-03T16:09:50.847Z"
      },
      {
        "duration": 9,
        "start_time": "2022-02-03T16:09:51.563Z"
      },
      {
        "duration": 15,
        "start_time": "2022-02-03T16:09:58.262Z"
      },
      {
        "duration": 14,
        "start_time": "2022-02-03T16:10:28.189Z"
      },
      {
        "duration": 5,
        "start_time": "2022-02-03T16:11:15.375Z"
      },
      {
        "duration": 9,
        "start_time": "2022-02-03T16:11:48.402Z"
      },
      {
        "duration": 4,
        "start_time": "2022-02-03T16:13:21.298Z"
      },
      {
        "duration": 4,
        "start_time": "2022-02-03T16:14:50.713Z"
      },
      {
        "duration": 7,
        "start_time": "2022-02-03T16:15:31.043Z"
      },
      {
        "duration": 4,
        "start_time": "2022-02-03T16:16:09.874Z"
      },
      {
        "duration": 7,
        "start_time": "2022-02-03T16:18:56.432Z"
      },
      {
        "duration": 289,
        "start_time": "2022-02-03T16:19:55.915Z"
      },
      {
        "duration": 6,
        "start_time": "2022-02-03T16:20:17.488Z"
      },
      {
        "duration": 7,
        "start_time": "2022-02-03T16:20:45.512Z"
      },
      {
        "duration": 5,
        "start_time": "2022-02-03T16:20:54.882Z"
      },
      {
        "duration": 310,
        "start_time": "2022-02-03T16:22:07.336Z"
      },
      {
        "duration": 4,
        "start_time": "2022-02-03T16:22:49.328Z"
      },
      {
        "duration": 281,
        "start_time": "2022-02-03T16:22:51.070Z"
      },
      {
        "duration": 4,
        "start_time": "2022-02-03T16:23:28.954Z"
      },
      {
        "duration": 7,
        "start_time": "2022-02-03T16:23:35.777Z"
      },
      {
        "duration": 10,
        "start_time": "2022-02-03T16:24:40.894Z"
      },
      {
        "duration": 6,
        "start_time": "2022-02-03T16:25:07.792Z"
      },
      {
        "duration": 32,
        "start_time": "2022-02-03T16:25:28.217Z"
      },
      {
        "duration": 86,
        "start_time": "2022-02-03T16:28:42.135Z"
      },
      {
        "duration": 370,
        "start_time": "2022-02-03T16:31:31.885Z"
      },
      {
        "duration": 76,
        "start_time": "2022-02-03T16:31:38.909Z"
      },
      {
        "duration": 76,
        "start_time": "2022-02-03T16:32:00.333Z"
      },
      {
        "duration": 32,
        "start_time": "2022-02-03T16:32:09.727Z"
      },
      {
        "duration": 318,
        "start_time": "2022-02-03T16:32:54.563Z"
      },
      {
        "duration": 138,
        "start_time": "2022-02-03T16:33:04.373Z"
      },
      {
        "duration": 34,
        "start_time": "2022-02-03T16:33:07.129Z"
      },
      {
        "duration": 4,
        "start_time": "2022-02-03T16:33:19.961Z"
      },
      {
        "duration": 88,
        "start_time": "2022-02-03T16:34:49.656Z"
      },
      {
        "duration": 941117,
        "start_time": "2022-02-03T16:35:06.234Z"
      },
      {
        "duration": 30,
        "start_time": "2022-02-03T16:50:53.191Z"
      },
      {
        "duration": 280,
        "start_time": "2022-02-03T16:51:20.112Z"
      },
      {
        "duration": 7411,
        "start_time": "2022-02-03T16:51:47.857Z"
      },
      {
        "duration": 32,
        "start_time": "2022-02-03T16:52:09.601Z"
      },
      {
        "duration": 28,
        "start_time": "2022-02-03T16:52:20.596Z"
      },
      {
        "duration": 10,
        "start_time": "2022-02-03T16:52:37.417Z"
      },
      {
        "duration": 11,
        "start_time": "2022-02-03T16:53:02.478Z"
      },
      {
        "duration": 40,
        "start_time": "2022-02-03T16:53:07.483Z"
      },
      {
        "duration": 16,
        "start_time": "2022-02-03T16:53:26.993Z"
      },
      {
        "duration": 12,
        "start_time": "2022-02-03T16:53:32.328Z"
      },
      {
        "duration": 5,
        "start_time": "2022-02-03T16:55:16.501Z"
      },
      {
        "duration": 16,
        "start_time": "2022-02-03T16:57:08.405Z"
      },
      {
        "duration": 32,
        "start_time": "2022-02-03T16:57:15.543Z"
      },
      {
        "duration": 7,
        "start_time": "2022-02-03T16:57:30.493Z"
      },
      {
        "duration": 6,
        "start_time": "2022-02-03T16:57:37.777Z"
      },
      {
        "duration": 6,
        "start_time": "2022-02-03T17:02:22.324Z"
      },
      {
        "duration": 9,
        "start_time": "2022-02-03T17:03:33.317Z"
      },
      {
        "duration": 10,
        "start_time": "2022-02-03T17:03:36.101Z"
      },
      {
        "duration": 4,
        "start_time": "2022-02-03T17:09:31.348Z"
      },
      {
        "duration": 4,
        "start_time": "2022-02-03T17:11:34.376Z"
      },
      {
        "duration": 100,
        "start_time": "2022-02-03T17:11:34.952Z"
      },
      {
        "duration": 4,
        "start_time": "2022-02-03T17:11:59.101Z"
      },
      {
        "duration": 35,
        "start_time": "2022-02-03T17:13:24.179Z"
      },
      {
        "duration": 31,
        "start_time": "2022-02-03T17:14:07.969Z"
      },
      {
        "duration": 29,
        "start_time": "2022-02-03T17:14:56.293Z"
      },
      {
        "duration": 4,
        "start_time": "2022-02-03T17:17:44.088Z"
      },
      {
        "duration": 16,
        "start_time": "2022-02-03T17:20:13.952Z"
      },
      {
        "duration": 1073,
        "start_time": "2022-02-03T17:20:14.577Z"
      },
      {
        "duration": 6,
        "start_time": "2022-02-03T17:20:18.713Z"
      },
      {
        "duration": 230,
        "start_time": "2022-02-03T17:21:44.781Z"
      },
      {
        "duration": 4,
        "start_time": "2022-02-03T17:21:53.308Z"
      },
      {
        "duration": 4,
        "start_time": "2022-02-03T17:22:02.859Z"
      },
      {
        "duration": 5,
        "start_time": "2022-02-03T17:22:34.275Z"
      },
      {
        "duration": 18,
        "start_time": "2022-02-03T17:22:59.937Z"
      },
      {
        "duration": 16,
        "start_time": "2022-02-03T17:23:02.046Z"
      },
      {
        "duration": 11,
        "start_time": "2022-02-03T17:23:03.246Z"
      },
      {
        "duration": 8,
        "start_time": "2022-02-03T17:25:20.035Z"
      },
      {
        "duration": 16,
        "start_time": "2022-02-03T17:25:47.102Z"
      },
      {
        "duration": 169310,
        "start_time": "2022-02-03T17:25:55.628Z"
      },
      {
        "duration": 15,
        "start_time": "2022-02-03T17:33:51.162Z"
      },
      {
        "duration": 1197,
        "start_time": "2022-02-03T17:33:51.952Z"
      },
      {
        "duration": 4,
        "start_time": "2022-02-03T17:33:55.737Z"
      },
      {
        "duration": 16,
        "start_time": "2022-02-03T17:34:06.561Z"
      },
      {
        "duration": 13,
        "start_time": "2022-02-03T17:34:07.326Z"
      },
      {
        "duration": 8,
        "start_time": "2022-02-03T17:34:08.083Z"
      },
      {
        "duration": 16,
        "start_time": "2022-02-03T17:34:44.089Z"
      },
      {
        "duration": 27,
        "start_time": "2022-02-03T17:35:37.104Z"
      },
      {
        "duration": 1690,
        "start_time": "2022-02-03T17:35:56.258Z"
      },
      {
        "duration": 5,
        "start_time": "2022-02-03T17:35:59.614Z"
      },
      {
        "duration": 293,
        "start_time": "2022-02-03T17:37:02.958Z"
      },
      {
        "duration": 4,
        "start_time": "2022-02-03T17:37:16.422Z"
      },
      {
        "duration": 9,
        "start_time": "2022-02-03T17:37:24.600Z"
      },
      {
        "duration": 11,
        "start_time": "2022-02-03T17:40:37.785Z"
      },
      {
        "duration": 12,
        "start_time": "2022-02-03T17:41:12.442Z"
      },
      {
        "duration": 17,
        "start_time": "2022-02-03T17:51:38.929Z"
      },
      {
        "duration": 23,
        "start_time": "2022-02-03T17:51:53.295Z"
      },
      {
        "duration": 516,
        "start_time": "2022-02-03T17:58:09.379Z"
      },
      {
        "duration": 865,
        "start_time": "2022-02-03T17:58:33.793Z"
      },
      {
        "duration": 520,
        "start_time": "2022-02-03T17:59:12.377Z"
      },
      {
        "duration": 2068,
        "start_time": "2022-02-03T18:09:08.430Z"
      },
      {
        "duration": 1125,
        "start_time": "2022-02-03T18:09:10.501Z"
      },
      {
        "duration": 38,
        "start_time": "2022-02-03T18:09:11.630Z"
      },
      {
        "duration": 36,
        "start_time": "2022-02-03T18:09:11.672Z"
      },
      {
        "duration": 46,
        "start_time": "2022-02-03T18:09:11.711Z"
      },
      {
        "duration": 28,
        "start_time": "2022-02-03T18:09:11.763Z"
      },
      {
        "duration": 10,
        "start_time": "2022-02-03T18:09:11.794Z"
      },
      {
        "duration": 41,
        "start_time": "2022-02-03T18:09:11.808Z"
      },
      {
        "duration": 23,
        "start_time": "2022-02-03T18:09:11.853Z"
      },
      {
        "duration": 18,
        "start_time": "2022-02-03T18:09:11.880Z"
      },
      {
        "duration": 14,
        "start_time": "2022-02-03T18:09:11.901Z"
      },
      {
        "duration": 93,
        "start_time": "2022-02-03T18:09:11.918Z"
      },
      {
        "duration": 6,
        "start_time": "2022-02-03T18:09:12.013Z"
      },
      {
        "duration": 43,
        "start_time": "2022-02-03T18:09:12.022Z"
      },
      {
        "duration": 13,
        "start_time": "2022-02-03T18:09:12.068Z"
      },
      {
        "duration": 120,
        "start_time": "2022-02-03T18:09:12.084Z"
      },
      {
        "duration": 583,
        "start_time": "2022-02-03T18:09:12.207Z"
      },
      {
        "duration": 544,
        "start_time": "2022-02-03T18:09:12.793Z"
      },
      {
        "duration": 540,
        "start_time": "2022-02-03T18:09:13.339Z"
      },
      {
        "duration": 6,
        "start_time": "2022-02-03T18:09:13.881Z"
      },
      {
        "duration": 16,
        "start_time": "2022-02-03T18:09:13.890Z"
      },
      {
        "duration": 7,
        "start_time": "2022-02-03T18:09:13.909Z"
      },
      {
        "duration": 7,
        "start_time": "2022-02-03T18:09:13.953Z"
      },
      {
        "duration": 8,
        "start_time": "2022-02-03T18:09:13.966Z"
      },
      {
        "duration": 19,
        "start_time": "2022-02-03T18:09:13.977Z"
      },
      {
        "duration": 909,
        "start_time": "2022-02-03T18:09:13.999Z"
      },
      {
        "duration": 7,
        "start_time": "2022-02-03T18:09:14.911Z"
      },
      {
        "duration": 29,
        "start_time": "2022-02-03T18:09:14.921Z"
      },
      {
        "duration": 10,
        "start_time": "2022-02-03T18:09:14.953Z"
      },
      {
        "duration": 737,
        "start_time": "2022-02-03T18:09:14.966Z"
      },
      {
        "duration": 650,
        "start_time": "2022-02-03T18:09:15.705Z"
      },
      {
        "duration": 9,
        "start_time": "2022-02-03T18:09:16.358Z"
      },
      {
        "duration": 850,
        "start_time": "2022-02-03T18:09:16.370Z"
      },
      {
        "duration": 26,
        "start_time": "2022-02-03T18:09:17.223Z"
      },
      {
        "duration": 7,
        "start_time": "2022-02-03T18:09:17.252Z"
      },
      {
        "duration": 10,
        "start_time": "2022-02-03T18:09:17.262Z"
      },
      {
        "duration": 794,
        "start_time": "2022-02-03T18:09:17.274Z"
      },
      {
        "duration": 8,
        "start_time": "2022-02-03T18:09:18.072Z"
      },
      {
        "duration": 15,
        "start_time": "2022-02-03T18:09:18.083Z"
      },
      {
        "duration": 14,
        "start_time": "2022-02-03T18:09:18.101Z"
      },
      {
        "duration": 34,
        "start_time": "2022-02-03T18:09:18.118Z"
      },
      {
        "duration": 7,
        "start_time": "2022-02-03T18:09:18.154Z"
      },
      {
        "duration": 9,
        "start_time": "2022-02-03T18:09:18.164Z"
      },
      {
        "duration": 8,
        "start_time": "2022-02-03T18:09:18.176Z"
      },
      {
        "duration": 9,
        "start_time": "2022-02-03T18:09:18.187Z"
      },
      {
        "duration": 600,
        "start_time": "2022-02-03T18:09:18.199Z"
      },
      {
        "duration": 6,
        "start_time": "2022-02-03T18:09:18.802Z"
      },
      {
        "duration": 10,
        "start_time": "2022-02-03T18:09:18.812Z"
      },
      {
        "duration": 24,
        "start_time": "2022-02-03T18:09:18.825Z"
      },
      {
        "duration": 22,
        "start_time": "2022-02-03T18:09:18.852Z"
      },
      {
        "duration": 423,
        "start_time": "2022-02-03T18:09:18.878Z"
      },
      {
        "duration": -3,
        "start_time": "2022-02-03T18:09:19.307Z"
      },
      {
        "duration": -4,
        "start_time": "2022-02-03T18:09:19.310Z"
      },
      {
        "duration": -3,
        "start_time": "2022-02-03T18:09:19.311Z"
      },
      {
        "duration": -5,
        "start_time": "2022-02-03T18:09:19.314Z"
      },
      {
        "duration": -5,
        "start_time": "2022-02-03T18:09:19.316Z"
      },
      {
        "duration": -5,
        "start_time": "2022-02-03T18:09:19.318Z"
      },
      {
        "duration": -12,
        "start_time": "2022-02-03T18:09:19.327Z"
      },
      {
        "duration": -14,
        "start_time": "2022-02-03T18:09:19.330Z"
      },
      {
        "duration": -14,
        "start_time": "2022-02-03T18:09:19.332Z"
      },
      {
        "duration": -15,
        "start_time": "2022-02-03T18:09:19.334Z"
      },
      {
        "duration": -15,
        "start_time": "2022-02-03T18:09:19.335Z"
      },
      {
        "duration": -15,
        "start_time": "2022-02-03T18:09:19.337Z"
      },
      {
        "duration": -16,
        "start_time": "2022-02-03T18:09:19.339Z"
      },
      {
        "duration": -16,
        "start_time": "2022-02-03T18:09:19.340Z"
      },
      {
        "duration": -16,
        "start_time": "2022-02-03T18:09:19.342Z"
      },
      {
        "duration": -17,
        "start_time": "2022-02-03T18:09:19.344Z"
      },
      {
        "duration": -16,
        "start_time": "2022-02-03T18:09:19.345Z"
      },
      {
        "duration": -17,
        "start_time": "2022-02-03T18:09:19.347Z"
      },
      {
        "duration": -16,
        "start_time": "2022-02-03T18:09:19.348Z"
      },
      {
        "duration": -17,
        "start_time": "2022-02-03T18:09:19.350Z"
      },
      {
        "duration": -16,
        "start_time": "2022-02-03T18:09:19.351Z"
      },
      {
        "duration": -16,
        "start_time": "2022-02-03T18:09:19.353Z"
      },
      {
        "duration": -15,
        "start_time": "2022-02-03T18:09:19.354Z"
      },
      {
        "duration": -8,
        "start_time": "2022-02-03T18:09:19.355Z"
      },
      {
        "duration": -8,
        "start_time": "2022-02-03T18:09:19.357Z"
      },
      {
        "duration": -8,
        "start_time": "2022-02-03T18:09:19.358Z"
      },
      {
        "duration": -7,
        "start_time": "2022-02-03T18:09:19.359Z"
      },
      {
        "duration": -8,
        "start_time": "2022-02-03T18:09:19.361Z"
      },
      {
        "duration": -8,
        "start_time": "2022-02-03T18:09:19.362Z"
      },
      {
        "duration": -7,
        "start_time": "2022-02-03T18:09:19.363Z"
      },
      {
        "duration": -7,
        "start_time": "2022-02-03T18:09:19.364Z"
      },
      {
        "duration": 283,
        "start_time": "2022-02-03T18:09:56.788Z"
      },
      {
        "duration": 10,
        "start_time": "2022-02-03T18:10:05.917Z"
      },
      {
        "duration": 1850,
        "start_time": "2022-02-03T18:10:14.685Z"
      },
      {
        "duration": 874,
        "start_time": "2022-02-03T18:10:16.538Z"
      },
      {
        "duration": 39,
        "start_time": "2022-02-03T18:10:17.416Z"
      },
      {
        "duration": 37,
        "start_time": "2022-02-03T18:10:17.458Z"
      },
      {
        "duration": 16,
        "start_time": "2022-02-03T18:10:17.498Z"
      },
      {
        "duration": 56,
        "start_time": "2022-02-03T18:10:17.517Z"
      },
      {
        "duration": 10,
        "start_time": "2022-02-03T18:10:17.575Z"
      },
      {
        "duration": 26,
        "start_time": "2022-02-03T18:10:17.589Z"
      },
      {
        "duration": 30,
        "start_time": "2022-02-03T18:10:17.619Z"
      },
      {
        "duration": 16,
        "start_time": "2022-02-03T18:10:17.651Z"
      },
      {
        "duration": 15,
        "start_time": "2022-02-03T18:10:17.670Z"
      },
      {
        "duration": 105,
        "start_time": "2022-02-03T18:10:17.687Z"
      },
      {
        "duration": 6,
        "start_time": "2022-02-03T18:10:17.795Z"
      },
      {
        "duration": 28,
        "start_time": "2022-02-03T18:10:17.803Z"
      },
      {
        "duration": 25,
        "start_time": "2022-02-03T18:10:17.833Z"
      },
      {
        "duration": 99,
        "start_time": "2022-02-03T18:10:17.860Z"
      },
      {
        "duration": 527,
        "start_time": "2022-02-03T18:10:17.962Z"
      },
      {
        "duration": 570,
        "start_time": "2022-02-03T18:10:18.492Z"
      },
      {
        "duration": 778,
        "start_time": "2022-02-03T18:10:19.065Z"
      },
      {
        "duration": 9,
        "start_time": "2022-02-03T18:10:19.849Z"
      },
      {
        "duration": 21,
        "start_time": "2022-02-03T18:10:19.860Z"
      },
      {
        "duration": 6,
        "start_time": "2022-02-03T18:10:19.883Z"
      },
      {
        "duration": 6,
        "start_time": "2022-02-03T18:10:19.894Z"
      },
      {
        "duration": 47,
        "start_time": "2022-02-03T18:10:19.904Z"
      },
      {
        "duration": 21,
        "start_time": "2022-02-03T18:10:19.954Z"
      },
      {
        "duration": 926,
        "start_time": "2022-02-03T18:10:19.977Z"
      },
      {
        "duration": 8,
        "start_time": "2022-02-03T18:10:20.906Z"
      },
      {
        "duration": 31,
        "start_time": "2022-02-03T18:10:20.917Z"
      },
      {
        "duration": 25,
        "start_time": "2022-02-03T18:10:20.951Z"
      },
      {
        "duration": 991,
        "start_time": "2022-02-03T18:10:20.979Z"
      },
      {
        "duration": 1067,
        "start_time": "2022-02-03T18:10:21.973Z"
      },
      {
        "duration": 10,
        "start_time": "2022-02-03T18:10:23.048Z"
      },
      {
        "duration": 829,
        "start_time": "2022-02-03T18:10:23.061Z"
      },
      {
        "duration": 8,
        "start_time": "2022-02-03T18:10:23.893Z"
      },
      {
        "duration": 15,
        "start_time": "2022-02-03T18:10:23.904Z"
      },
      {
        "duration": 32,
        "start_time": "2022-02-03T18:10:23.922Z"
      },
      {
        "duration": 562,
        "start_time": "2022-02-03T18:10:23.957Z"
      },
      {
        "duration": 28,
        "start_time": "2022-02-03T18:10:24.522Z"
      },
      {
        "duration": 10,
        "start_time": "2022-02-03T18:10:24.552Z"
      },
      {
        "duration": 8,
        "start_time": "2022-02-03T18:10:24.564Z"
      },
      {
        "duration": 15,
        "start_time": "2022-02-03T18:10:24.574Z"
      },
      {
        "duration": 16,
        "start_time": "2022-02-03T18:10:24.592Z"
      },
      {
        "duration": 39,
        "start_time": "2022-02-03T18:10:24.611Z"
      },
      {
        "duration": 8,
        "start_time": "2022-02-03T18:10:24.653Z"
      },
      {
        "duration": 13,
        "start_time": "2022-02-03T18:10:24.664Z"
      },
      {
        "duration": 551,
        "start_time": "2022-02-03T18:10:24.680Z"
      },
      {
        "duration": 6,
        "start_time": "2022-02-03T18:10:25.234Z"
      },
      {
        "duration": 15,
        "start_time": "2022-02-03T18:10:25.250Z"
      },
      {
        "duration": 18,
        "start_time": "2022-02-03T18:10:25.268Z"
      },
      {
        "duration": 10,
        "start_time": "2022-02-03T18:10:25.289Z"
      },
      {
        "duration": 16,
        "start_time": "2022-02-03T18:10:25.303Z"
      },
      {
        "duration": 10,
        "start_time": "2022-02-03T18:10:25.322Z"
      },
      {
        "duration": 30,
        "start_time": "2022-02-03T18:10:25.349Z"
      },
      {
        "duration": 8,
        "start_time": "2022-02-03T18:10:25.382Z"
      },
      {
        "duration": 9,
        "start_time": "2022-02-03T18:10:25.393Z"
      },
      {
        "duration": 10,
        "start_time": "2022-02-03T18:10:25.404Z"
      },
      {
        "duration": 38,
        "start_time": "2022-02-03T18:10:25.417Z"
      },
      {
        "duration": 111,
        "start_time": "2022-02-03T18:10:25.457Z"
      },
      {
        "duration": 4,
        "start_time": "2022-02-03T18:10:25.570Z"
      },
      {
        "duration": 33,
        "start_time": "2022-02-03T18:10:25.576Z"
      },
      {
        "duration": 3,
        "start_time": "2022-02-03T18:10:25.612Z"
      },
      {
        "duration": 41,
        "start_time": "2022-02-03T18:10:25.618Z"
      },
      {
        "duration": 991,
        "start_time": "2022-02-03T18:10:25.662Z"
      },
      {
        "duration": 6,
        "start_time": "2022-02-03T18:10:26.656Z"
      },
      {
        "duration": 571,
        "start_time": "2022-02-03T18:10:26.750Z"
      },
      {
        "duration": 52,
        "start_time": "2022-02-03T18:10:27.274Z"
      },
      {
        "duration": 51,
        "start_time": "2022-02-03T18:10:27.277Z"
      },
      {
        "duration": 51,
        "start_time": "2022-02-03T18:10:27.279Z"
      },
      {
        "duration": 39,
        "start_time": "2022-02-03T18:10:27.293Z"
      },
      {
        "duration": 37,
        "start_time": "2022-02-03T18:10:27.296Z"
      },
      {
        "duration": 37,
        "start_time": "2022-02-03T18:10:27.298Z"
      },
      {
        "duration": 37,
        "start_time": "2022-02-03T18:10:27.300Z"
      },
      {
        "duration": 37,
        "start_time": "2022-02-03T18:10:27.302Z"
      },
      {
        "duration": 37,
        "start_time": "2022-02-03T18:10:27.304Z"
      },
      {
        "duration": 37,
        "start_time": "2022-02-03T18:10:27.306Z"
      },
      {
        "duration": 37,
        "start_time": "2022-02-03T18:10:27.308Z"
      },
      {
        "duration": 37,
        "start_time": "2022-02-03T18:10:27.310Z"
      },
      {
        "duration": 37,
        "start_time": "2022-02-03T18:10:27.312Z"
      },
      {
        "duration": 37,
        "start_time": "2022-02-03T18:10:27.314Z"
      },
      {
        "duration": 29,
        "start_time": "2022-02-03T18:10:27.324Z"
      },
      {
        "duration": 29,
        "start_time": "2022-02-03T18:10:27.326Z"
      },
      {
        "duration": 28,
        "start_time": "2022-02-03T18:10:27.328Z"
      },
      {
        "duration": 18,
        "start_time": "2022-02-03T18:11:08.060Z"
      },
      {
        "duration": 279,
        "start_time": "2022-02-03T18:11:09.110Z"
      },
      {
        "duration": 29,
        "start_time": "2022-02-03T18:11:15.344Z"
      },
      {
        "duration": 1948,
        "start_time": "2022-02-03T18:11:28.712Z"
      },
      {
        "duration": 1280,
        "start_time": "2022-02-03T18:11:30.663Z"
      },
      {
        "duration": 27,
        "start_time": "2022-02-03T18:11:31.947Z"
      },
      {
        "duration": 36,
        "start_time": "2022-02-03T18:11:31.978Z"
      },
      {
        "duration": 27,
        "start_time": "2022-02-03T18:11:32.050Z"
      },
      {
        "duration": 39,
        "start_time": "2022-02-03T18:11:32.081Z"
      },
      {
        "duration": 16,
        "start_time": "2022-02-03T18:11:32.149Z"
      },
      {
        "duration": 13,
        "start_time": "2022-02-03T18:11:32.170Z"
      },
      {
        "duration": 18,
        "start_time": "2022-02-03T18:11:32.187Z"
      },
      {
        "duration": 49,
        "start_time": "2022-02-03T18:11:32.208Z"
      },
      {
        "duration": 11,
        "start_time": "2022-02-03T18:11:32.259Z"
      },
      {
        "duration": 147,
        "start_time": "2022-02-03T18:11:32.273Z"
      },
      {
        "duration": 8,
        "start_time": "2022-02-03T18:11:32.423Z"
      },
      {
        "duration": 46,
        "start_time": "2022-02-03T18:11:32.434Z"
      },
      {
        "duration": 15,
        "start_time": "2022-02-03T18:11:32.483Z"
      },
      {
        "duration": 147,
        "start_time": "2022-02-03T18:11:32.501Z"
      },
      {
        "duration": 552,
        "start_time": "2022-02-03T18:11:32.651Z"
      },
      {
        "duration": 528,
        "start_time": "2022-02-03T18:11:33.206Z"
      },
      {
        "duration": 555,
        "start_time": "2022-02-03T18:11:33.737Z"
      },
      {
        "duration": 8,
        "start_time": "2022-02-03T18:11:34.295Z"
      },
      {
        "duration": 21,
        "start_time": "2022-02-03T18:11:34.306Z"
      },
      {
        "duration": 24,
        "start_time": "2022-02-03T18:11:34.330Z"
      },
      {
        "duration": 7,
        "start_time": "2022-02-03T18:11:34.366Z"
      },
      {
        "duration": 9,
        "start_time": "2022-02-03T18:11:34.379Z"
      },
      {
        "duration": 59,
        "start_time": "2022-02-03T18:11:34.391Z"
      },
      {
        "duration": 645,
        "start_time": "2022-02-03T18:11:34.454Z"
      },
      {
        "duration": 8,
        "start_time": "2022-02-03T18:11:35.101Z"
      },
      {
        "duration": 14,
        "start_time": "2022-02-03T18:11:35.111Z"
      },
      {
        "duration": 7,
        "start_time": "2022-02-03T18:11:35.149Z"
      },
      {
        "duration": 727,
        "start_time": "2022-02-03T18:11:35.158Z"
      },
      {
        "duration": 631,
        "start_time": "2022-02-03T18:11:35.887Z"
      },
      {
        "duration": 9,
        "start_time": "2022-02-03T18:11:36.521Z"
      },
      {
        "duration": 593,
        "start_time": "2022-02-03T18:11:36.533Z"
      },
      {
        "duration": 6,
        "start_time": "2022-02-03T18:11:37.129Z"
      },
      {
        "duration": 7,
        "start_time": "2022-02-03T18:11:37.149Z"
      },
      {
        "duration": 15,
        "start_time": "2022-02-03T18:11:37.159Z"
      },
      {
        "duration": 821,
        "start_time": "2022-02-03T18:11:37.177Z"
      },
      {
        "duration": 8,
        "start_time": "2022-02-03T18:11:38.001Z"
      },
      {
        "duration": 13,
        "start_time": "2022-02-03T18:11:38.013Z"
      },
      {
        "duration": 9,
        "start_time": "2022-02-03T18:11:38.048Z"
      },
      {
        "duration": 10,
        "start_time": "2022-02-03T18:11:38.059Z"
      },
      {
        "duration": 9,
        "start_time": "2022-02-03T18:11:38.072Z"
      },
      {
        "duration": 7,
        "start_time": "2022-02-03T18:11:38.084Z"
      },
      {
        "duration": 7,
        "start_time": "2022-02-03T18:11:38.094Z"
      },
      {
        "duration": 51,
        "start_time": "2022-02-03T18:11:38.104Z"
      },
      {
        "duration": 554,
        "start_time": "2022-02-03T18:11:38.158Z"
      },
      {
        "duration": 6,
        "start_time": "2022-02-03T18:11:38.715Z"
      },
      {
        "duration": 27,
        "start_time": "2022-02-03T18:11:38.723Z"
      },
      {
        "duration": 12,
        "start_time": "2022-02-03T18:11:38.752Z"
      },
      {
        "duration": 11,
        "start_time": "2022-02-03T18:11:38.766Z"
      },
      {
        "duration": 11,
        "start_time": "2022-02-03T18:11:38.780Z"
      },
      {
        "duration": 8,
        "start_time": "2022-02-03T18:11:38.794Z"
      },
      {
        "duration": 51,
        "start_time": "2022-02-03T18:11:38.805Z"
      },
      {
        "duration": 6,
        "start_time": "2022-02-03T18:11:38.859Z"
      },
      {
        "duration": 11,
        "start_time": "2022-02-03T18:11:38.867Z"
      },
      {
        "duration": 10,
        "start_time": "2022-02-03T18:11:38.880Z"
      },
      {
        "duration": 9,
        "start_time": "2022-02-03T18:11:38.893Z"
      },
      {
        "duration": 175,
        "start_time": "2022-02-03T18:11:38.904Z"
      },
      {
        "duration": 4,
        "start_time": "2022-02-03T18:11:39.082Z"
      },
      {
        "duration": 34,
        "start_time": "2022-02-03T18:11:39.089Z"
      },
      {
        "duration": 25,
        "start_time": "2022-02-03T18:11:39.125Z"
      },
      {
        "duration": 25,
        "start_time": "2022-02-03T18:11:39.153Z"
      },
      {
        "duration": 476,
        "start_time": "2022-02-03T18:11:39.181Z"
      },
      {
        "duration": 88,
        "start_time": "2022-02-03T18:11:39.664Z"
      },
      {
        "duration": 117,
        "start_time": "2022-02-03T18:11:39.755Z"
      },
      {
        "duration": 78,
        "start_time": "2022-02-03T18:11:39.879Z"
      },
      {
        "duration": 805,
        "start_time": "2022-02-03T18:11:39.961Z"
      },
      {
        "duration": -52,
        "start_time": "2022-02-03T18:11:40.822Z"
      },
      {
        "duration": -52,
        "start_time": "2022-02-03T18:11:40.824Z"
      },
      {
        "duration": -52,
        "start_time": "2022-02-03T18:11:40.826Z"
      },
      {
        "duration": -52,
        "start_time": "2022-02-03T18:11:40.828Z"
      },
      {
        "duration": -53,
        "start_time": "2022-02-03T18:11:40.830Z"
      },
      {
        "duration": -60,
        "start_time": "2022-02-03T18:11:40.839Z"
      },
      {
        "duration": -60,
        "start_time": "2022-02-03T18:11:40.841Z"
      },
      {
        "duration": -60,
        "start_time": "2022-02-03T18:11:40.843Z"
      },
      {
        "duration": -61,
        "start_time": "2022-02-03T18:11:40.845Z"
      },
      {
        "duration": -61,
        "start_time": "2022-02-03T18:11:40.847Z"
      },
      {
        "duration": -61,
        "start_time": "2022-02-03T18:11:40.849Z"
      },
      {
        "duration": -62,
        "start_time": "2022-02-03T18:11:40.851Z"
      },
      {
        "duration": -62,
        "start_time": "2022-02-03T18:11:40.853Z"
      },
      {
        "duration": -62,
        "start_time": "2022-02-03T18:11:40.855Z"
      },
      {
        "duration": -61,
        "start_time": "2022-02-03T18:11:40.856Z"
      },
      {
        "duration": 12,
        "start_time": "2022-02-03T18:11:57.814Z"
      },
      {
        "duration": 10,
        "start_time": "2022-02-03T18:12:05.413Z"
      },
      {
        "duration": 289,
        "start_time": "2022-02-03T18:12:06.359Z"
      },
      {
        "duration": 519293,
        "start_time": "2022-02-03T18:12:20.203Z"
      },
      {
        "duration": 13,
        "start_time": "2022-02-03T18:21:14.888Z"
      },
      {
        "duration": 10,
        "start_time": "2022-02-03T18:21:16.203Z"
      },
      {
        "duration": 22,
        "start_time": "2022-02-03T18:21:30.044Z"
      },
      {
        "duration": 1746,
        "start_time": "2022-02-03T18:21:31.111Z"
      },
      {
        "duration": 5,
        "start_time": "2022-02-03T18:21:34.411Z"
      },
      {
        "duration": 52,
        "start_time": "2022-02-03T18:21:38.403Z"
      },
      {
        "duration": 5,
        "start_time": "2022-02-03T18:21:39.602Z"
      },
      {
        "duration": 11,
        "start_time": "2022-02-03T18:21:41.004Z"
      },
      {
        "duration": 951815,
        "start_time": "2022-02-03T18:21:45.162Z"
      },
      {
        "duration": 30,
        "start_time": "2022-02-03T18:37:40.710Z"
      },
      {
        "duration": 10,
        "start_time": "2022-02-03T18:37:42.369Z"
      },
      {
        "duration": 14,
        "start_time": "2022-02-03T18:37:45.212Z"
      },
      {
        "duration": 17,
        "start_time": "2022-02-03T18:37:49.083Z"
      },
      {
        "duration": 1620,
        "start_time": "2022-02-03T19:28:47.292Z"
      },
      {
        "duration": 960,
        "start_time": "2022-02-03T19:28:48.989Z"
      },
      {
        "duration": 27,
        "start_time": "2022-02-03T19:28:51.002Z"
      },
      {
        "duration": 52,
        "start_time": "2022-02-03T19:28:51.559Z"
      },
      {
        "duration": 16,
        "start_time": "2022-02-03T19:28:52.077Z"
      },
      {
        "duration": 27,
        "start_time": "2022-02-03T19:28:52.606Z"
      },
      {
        "duration": 10,
        "start_time": "2022-02-03T19:28:55.036Z"
      },
      {
        "duration": 7,
        "start_time": "2022-02-03T19:28:55.183Z"
      },
      {
        "duration": 11,
        "start_time": "2022-02-03T19:28:57.369Z"
      },
      {
        "duration": 16,
        "start_time": "2022-02-03T19:29:38.333Z"
      },
      {
        "duration": 10,
        "start_time": "2022-02-03T19:29:39.636Z"
      },
      {
        "duration": 76,
        "start_time": "2022-02-03T19:29:40.175Z"
      },
      {
        "duration": 6,
        "start_time": "2022-02-03T19:29:40.403Z"
      },
      {
        "duration": 21,
        "start_time": "2022-02-03T19:29:42.350Z"
      },
      {
        "duration": 11,
        "start_time": "2022-02-03T19:29:42.531Z"
      },
      {
        "duration": 85,
        "start_time": "2022-02-03T19:29:42.691Z"
      },
      {
        "duration": 592,
        "start_time": "2022-02-03T19:29:43.044Z"
      },
      {
        "duration": 516,
        "start_time": "2022-02-03T19:29:44.056Z"
      },
      {
        "duration": 514,
        "start_time": "2022-02-03T19:29:44.574Z"
      },
      {
        "duration": 7,
        "start_time": "2022-02-03T19:29:46.053Z"
      },
      {
        "duration": 39,
        "start_time": "2022-02-03T19:31:05.924Z"
      },
      {
        "duration": 29,
        "start_time": "2022-02-03T19:31:48.803Z"
      },
      {
        "duration": 7,
        "start_time": "2022-02-03T19:31:49.486Z"
      },
      {
        "duration": 6,
        "start_time": "2022-02-03T19:31:49.655Z"
      },
      {
        "duration": 6,
        "start_time": "2022-02-03T19:31:49.835Z"
      },
      {
        "duration": 17,
        "start_time": "2022-02-03T19:32:11.229Z"
      },
      {
        "duration": 593,
        "start_time": "2022-02-03T19:32:12.530Z"
      },
      {
        "duration": 7,
        "start_time": "2022-02-03T19:32:13.125Z"
      },
      {
        "duration": 6,
        "start_time": "2022-02-03T19:32:13.459Z"
      },
      {
        "duration": 6,
        "start_time": "2022-02-03T19:32:13.651Z"
      },
      {
        "duration": 691,
        "start_time": "2022-02-03T19:32:14.077Z"
      },
      {
        "duration": 635,
        "start_time": "2022-02-03T19:32:14.771Z"
      },
      {
        "duration": 8,
        "start_time": "2022-02-03T19:32:57.111Z"
      },
      {
        "duration": 582,
        "start_time": "2022-02-03T19:32:57.122Z"
      },
      {
        "duration": 5,
        "start_time": "2022-02-03T19:32:57.709Z"
      },
      {
        "duration": 9,
        "start_time": "2022-02-03T19:32:57.725Z"
      },
      {
        "duration": 6,
        "start_time": "2022-02-03T19:32:57.737Z"
      },
      {
        "duration": 622,
        "start_time": "2022-02-03T19:32:59.352Z"
      },
      {
        "duration": 6,
        "start_time": "2022-02-03T19:33:00.159Z"
      },
      {
        "duration": 6,
        "start_time": "2022-02-03T19:33:00.324Z"
      },
      {
        "duration": 6,
        "start_time": "2022-02-03T19:33:00.986Z"
      },
      {
        "duration": 8,
        "start_time": "2022-02-03T19:33:24.433Z"
      },
      {
        "duration": 7,
        "start_time": "2022-02-03T19:33:25.073Z"
      },
      {
        "duration": 6,
        "start_time": "2022-02-03T19:33:25.232Z"
      },
      {
        "duration": 7,
        "start_time": "2022-02-03T19:33:25.381Z"
      },
      {
        "duration": 7,
        "start_time": "2022-02-03T19:33:25.540Z"
      },
      {
        "duration": 390,
        "start_time": "2022-02-03T19:33:25.702Z"
      },
      {
        "duration": 6,
        "start_time": "2022-02-03T19:34:26.500Z"
      },
      {
        "duration": 5,
        "start_time": "2022-02-03T19:34:26.694Z"
      },
      {
        "duration": 6,
        "start_time": "2022-02-03T19:34:56.668Z"
      },
      {
        "duration": 6,
        "start_time": "2022-02-03T19:34:59.063Z"
      },
      {
        "duration": 6,
        "start_time": "2022-02-03T19:35:13.359Z"
      },
      {
        "duration": 8,
        "start_time": "2022-02-03T19:35:51.724Z"
      },
      {
        "duration": 8,
        "start_time": "2022-02-03T19:35:53.683Z"
      },
      {
        "duration": 33,
        "start_time": "2022-02-03T19:36:15.715Z"
      },
      {
        "duration": 6,
        "start_time": "2022-02-03T19:36:23.892Z"
      },
      {
        "duration": 4,
        "start_time": "2022-02-03T19:37:17.902Z"
      },
      {
        "duration": 6,
        "start_time": "2022-02-03T19:37:18.695Z"
      },
      {
        "duration": 6,
        "start_time": "2022-02-03T19:37:19.291Z"
      },
      {
        "duration": 3,
        "start_time": "2022-02-03T19:37:21.441Z"
      },
      {
        "duration": 107,
        "start_time": "2022-02-03T19:37:22.126Z"
      },
      {
        "duration": 3,
        "start_time": "2022-02-03T19:37:24.928Z"
      },
      {
        "duration": 27,
        "start_time": "2022-02-03T19:37:25.100Z"
      },
      {
        "duration": 3,
        "start_time": "2022-02-03T19:37:26.897Z"
      },
      {
        "duration": 16,
        "start_time": "2022-02-03T19:38:21.486Z"
      },
      {
        "duration": 855,
        "start_time": "2022-02-03T19:38:22.568Z"
      },
      {
        "duration": 5,
        "start_time": "2022-02-03T19:38:23.426Z"
      },
      {
        "duration": 15,
        "start_time": "2022-02-03T19:38:26.122Z"
      },
      {
        "duration": 5,
        "start_time": "2022-02-03T19:38:26.367Z"
      },
      {
        "duration": 8,
        "start_time": "2022-02-03T19:38:26.793Z"
      },
      {
        "duration": 7,
        "start_time": "2022-02-03T19:38:33.269Z"
      },
      {
        "duration": 525804,
        "start_time": "2022-02-03T19:38:34.313Z"
      },
      {
        "duration": 15,
        "start_time": "2022-02-03T19:47:20.124Z"
      },
      {
        "duration": 8,
        "start_time": "2022-02-03T19:47:20.142Z"
      },
      {
        "duration": 22,
        "start_time": "2022-02-03T19:47:20.152Z"
      },
      {
        "duration": 1248,
        "start_time": "2022-02-03T19:47:20.176Z"
      },
      {
        "duration": 9,
        "start_time": "2022-02-03T19:47:21.427Z"
      },
      {
        "duration": 104,
        "start_time": "2022-02-03T19:47:21.524Z"
      },
      {
        "duration": 100,
        "start_time": "2022-02-03T19:47:21.632Z"
      },
      {
        "duration": 94,
        "start_time": "2022-02-03T19:47:21.735Z"
      },
      {
        "duration": 974711,
        "start_time": "2022-02-03T19:47:21.832Z"
      },
      {
        "duration": 28,
        "start_time": "2022-02-03T20:03:36.545Z"
      },
      {
        "duration": 8,
        "start_time": "2022-02-03T20:03:36.575Z"
      },
      {
        "duration": 41,
        "start_time": "2022-02-03T20:03:36.585Z"
      },
      {
        "duration": 10,
        "start_time": "2022-02-03T20:03:36.629Z"
      },
      {
        "duration": 299,
        "start_time": "2022-02-04T05:05:59.283Z"
      },
      {
        "duration": 1474,
        "start_time": "2022-02-04T05:06:17.314Z"
      },
      {
        "duration": 4451,
        "start_time": "2022-02-04T05:06:19.220Z"
      },
      {
        "duration": 25,
        "start_time": "2022-02-04T05:06:23.674Z"
      },
      {
        "duration": 36,
        "start_time": "2022-02-04T05:06:25.022Z"
      },
      {
        "duration": 18,
        "start_time": "2022-02-04T05:06:25.808Z"
      },
      {
        "duration": 27,
        "start_time": "2022-02-04T05:06:26.537Z"
      },
      {
        "duration": 12,
        "start_time": "2022-02-04T05:06:30.465Z"
      },
      {
        "duration": 11,
        "start_time": "2022-02-04T05:06:31.166Z"
      },
      {
        "duration": 12,
        "start_time": "2022-02-04T05:06:31.833Z"
      },
      {
        "duration": 13,
        "start_time": "2022-02-04T05:06:35.153Z"
      },
      {
        "duration": 11,
        "start_time": "2022-02-04T05:06:36.631Z"
      },
      {
        "duration": 75,
        "start_time": "2022-02-04T05:06:37.242Z"
      },
      {
        "duration": 6,
        "start_time": "2022-02-04T05:06:37.873Z"
      },
      {
        "duration": 18,
        "start_time": "2022-02-04T05:06:38.450Z"
      },
      {
        "duration": 12,
        "start_time": "2022-02-04T05:06:38.990Z"
      },
      {
        "duration": 87,
        "start_time": "2022-02-04T05:06:39.514Z"
      },
      {
        "duration": 519,
        "start_time": "2022-02-04T05:06:41.685Z"
      },
      {
        "duration": 507,
        "start_time": "2022-02-04T05:06:43.956Z"
      },
      {
        "duration": 494,
        "start_time": "2022-02-04T05:06:44.638Z"
      },
      {
        "duration": 6,
        "start_time": "2022-02-04T05:06:46.863Z"
      },
      {
        "duration": 13,
        "start_time": "2022-02-04T05:06:49.402Z"
      },
      {
        "duration": 6,
        "start_time": "2022-02-04T05:06:50.394Z"
      },
      {
        "duration": 6,
        "start_time": "2022-02-04T05:06:50.852Z"
      },
      {
        "duration": 7,
        "start_time": "2022-02-04T05:06:51.342Z"
      },
      {
        "duration": 21,
        "start_time": "2022-02-04T05:06:53.858Z"
      },
      {
        "duration": 589,
        "start_time": "2022-02-04T05:06:55.571Z"
      },
      {
        "duration": 6,
        "start_time": "2022-02-04T05:06:56.656Z"
      },
      {
        "duration": 6,
        "start_time": "2022-02-04T05:06:57.276Z"
      },
      {
        "duration": 7,
        "start_time": "2022-02-04T05:06:57.867Z"
      },
      {
        "duration": 679,
        "start_time": "2022-02-04T05:06:59.135Z"
      },
      {
        "duration": 624,
        "start_time": "2022-02-04T05:06:59.849Z"
      },
      {
        "duration": 7,
        "start_time": "2022-02-04T05:07:05.114Z"
      },
      {
        "duration": 560,
        "start_time": "2022-02-04T05:07:06.948Z"
      },
      {
        "duration": 7,
        "start_time": "2022-02-04T05:07:08.401Z"
      },
      {
        "duration": 6,
        "start_time": "2022-02-04T05:07:09.844Z"
      },
      {
        "duration": 6,
        "start_time": "2022-02-04T05:07:10.550Z"
      },
      {
        "duration": 531,
        "start_time": "2022-02-04T05:07:12.079Z"
      },
      {
        "duration": 7,
        "start_time": "2022-02-04T05:07:13.294Z"
      },
      {
        "duration": 7,
        "start_time": "2022-02-04T05:07:14.022Z"
      },
      {
        "duration": 7,
        "start_time": "2022-02-04T05:07:14.686Z"
      },
      {
        "duration": 8,
        "start_time": "2022-02-04T05:07:19.367Z"
      },
      {
        "duration": 7,
        "start_time": "2022-02-04T05:07:20.099Z"
      },
      {
        "duration": 7,
        "start_time": "2022-02-04T05:07:20.803Z"
      },
      {
        "duration": 7,
        "start_time": "2022-02-04T05:07:21.287Z"
      },
      {
        "duration": 7,
        "start_time": "2022-02-04T05:07:21.781Z"
      },
      {
        "duration": 388,
        "start_time": "2022-02-04T05:07:22.658Z"
      },
      {
        "duration": 6,
        "start_time": "2022-02-04T05:07:28.392Z"
      },
      {
        "duration": 4,
        "start_time": "2022-02-04T05:07:28.889Z"
      },
      {
        "duration": 5,
        "start_time": "2022-02-04T05:07:34.734Z"
      },
      {
        "duration": 6,
        "start_time": "2022-02-04T05:07:35.296Z"
      },
      {
        "duration": 5,
        "start_time": "2022-02-04T05:07:36.064Z"
      },
      {
        "duration": 9,
        "start_time": "2022-02-04T05:07:37.925Z"
      },
      {
        "duration": 7,
        "start_time": "2022-02-04T05:07:40.508Z"
      },
      {
        "duration": 30,
        "start_time": "2022-02-04T05:07:44.374Z"
      },
      {
        "duration": 6,
        "start_time": "2022-02-04T05:07:45.241Z"
      },
      {
        "duration": 4,
        "start_time": "2022-02-04T05:07:49.077Z"
      },
      {
        "duration": 6,
        "start_time": "2022-02-04T05:07:49.586Z"
      },
      {
        "duration": 5,
        "start_time": "2022-02-04T05:07:50.414Z"
      },
      {
        "duration": 4,
        "start_time": "2022-02-04T05:07:52.742Z"
      },
      {
        "duration": 96,
        "start_time": "2022-02-04T05:07:53.680Z"
      },
      {
        "duration": 3,
        "start_time": "2022-02-04T05:07:56.427Z"
      },
      {
        "duration": 44,
        "start_time": "2022-02-04T05:07:57.040Z"
      },
      {
        "duration": 3,
        "start_time": "2022-02-04T05:07:59.907Z"
      },
      {
        "duration": 17,
        "start_time": "2022-02-04T05:08:04.999Z"
      },
      {
        "duration": 985,
        "start_time": "2022-02-04T05:08:10.148Z"
      },
      {
        "duration": 5,
        "start_time": "2022-02-04T05:08:11.945Z"
      },
      {
        "duration": 18,
        "start_time": "2022-02-04T05:08:14.234Z"
      },
      {
        "duration": 11,
        "start_time": "2022-02-04T05:08:14.869Z"
      },
      {
        "duration": 9,
        "start_time": "2022-02-04T05:08:16.841Z"
      },
      {
        "duration": 9,
        "start_time": "2022-02-04T05:08:22.095Z"
      },
      {
        "duration": 23,
        "start_time": "2022-02-04T05:08:28.660Z"
      },
      {
        "duration": 1476,
        "start_time": "2022-02-04T05:08:29.357Z"
      },
      {
        "duration": 7,
        "start_time": "2022-02-04T05:08:30.837Z"
      },
      {
        "duration": 63,
        "start_time": "2022-02-04T05:08:32.872Z"
      },
      {
        "duration": 6,
        "start_time": "2022-02-04T05:08:35.633Z"
      },
      {
        "duration": 9,
        "start_time": "2022-02-04T05:08:36.904Z"
      },
      {
        "duration": 340,
        "start_time": "2022-02-04T05:08:48.758Z"
      },
      {
        "duration": 236,
        "start_time": "2022-02-04T05:09:03.919Z"
      },
      {
        "duration": 267,
        "start_time": "2022-02-04T05:09:29.994Z"
      },
      {
        "duration": 247,
        "start_time": "2022-02-04T05:09:48.044Z"
      },
      {
        "duration": 5,
        "start_time": "2022-02-04T05:09:58.724Z"
      },
      {
        "duration": 76,
        "start_time": "2022-02-04T05:10:55.215Z"
      },
      {
        "duration": 110,
        "start_time": "2022-02-04T05:11:14.969Z"
      },
      {
        "duration": 137,
        "start_time": "2022-02-04T05:11:28.686Z"
      },
      {
        "duration": 711,
        "start_time": "2022-02-04T05:11:56.302Z"
      },
      {
        "duration": 234,
        "start_time": "2022-02-04T05:12:24.569Z"
      },
      {
        "duration": 234,
        "start_time": "2022-02-04T05:12:27.867Z"
      },
      {
        "duration": 116,
        "start_time": "2022-02-04T05:12:50.053Z"
      },
      {
        "duration": 5,
        "start_time": "2022-02-04T05:12:55.810Z"
      },
      {
        "duration": 10,
        "start_time": "2022-02-04T05:13:58.934Z"
      },
      {
        "duration": 116,
        "start_time": "2022-02-04T05:14:33.997Z"
      },
      {
        "duration": 10,
        "start_time": "2022-02-04T05:14:35.273Z"
      },
      {
        "duration": 541,
        "start_time": "2022-02-04T05:15:29.101Z"
      },
      {
        "duration": 10,
        "start_time": "2022-02-04T05:15:30.716Z"
      },
      {
        "duration": 272,
        "start_time": "2022-02-04T05:22:54.010Z"
      },
      {
        "duration": 5,
        "start_time": "2022-02-04T05:23:04.649Z"
      },
      {
        "duration": 5,
        "start_time": "2022-02-04T05:23:11.291Z"
      },
      {
        "duration": 7,
        "start_time": "2022-02-04T05:34:29.028Z"
      },
      {
        "duration": 6,
        "start_time": "2022-02-04T05:34:29.888Z"
      },
      {
        "duration": 7,
        "start_time": "2022-02-04T05:34:30.645Z"
      },
      {
        "duration": 9,
        "start_time": "2022-02-04T05:34:31.386Z"
      },
      {
        "duration": 918,
        "start_time": "2022-02-04T05:35:03.898Z"
      },
      {
        "duration": -28,
        "start_time": "2022-02-04T05:40:43.294Z"
      },
      {
        "duration": 26,
        "start_time": "2022-02-04T05:41:13.707Z"
      },
      {
        "duration": 305,
        "start_time": "2022-02-04T05:48:17.616Z"
      },
      {
        "duration": 5740,
        "start_time": "2022-02-04T06:18:19.213Z"
      },
      {
        "duration": 288,
        "start_time": "2022-02-04T06:18:34.808Z"
      },
      {
        "duration": 8,
        "start_time": "2022-02-04T06:19:26.704Z"
      },
      {
        "duration": 111,
        "start_time": "2022-02-04T06:19:28.220Z"
      },
      {
        "duration": 117,
        "start_time": "2022-02-04T06:19:28.986Z"
      },
      {
        "duration": 111,
        "start_time": "2022-02-04T06:19:29.727Z"
      },
      {
        "duration": 638,
        "start_time": "2022-02-04T06:19:32.178Z"
      },
      {
        "duration": 681,
        "start_time": "2022-02-04T06:19:52.991Z"
      },
      {
        "duration": 1009,
        "start_time": "2022-02-04T06:21:03.868Z"
      },
      {
        "duration": 205044,
        "start_time": "2022-02-04T06:21:28.708Z"
      },
      {
        "duration": 361,
        "start_time": "2022-02-04T06:26:45.866Z"
      },
      {
        "duration": 1452,
        "start_time": "2022-02-04T06:26:59.141Z"
      },
      {
        "duration": 4436,
        "start_time": "2022-02-04T06:27:00.927Z"
      },
      {
        "duration": 25,
        "start_time": "2022-02-04T06:27:05.365Z"
      },
      {
        "duration": 35,
        "start_time": "2022-02-04T06:27:06.246Z"
      },
      {
        "duration": 17,
        "start_time": "2022-02-04T06:27:07.047Z"
      },
      {
        "duration": 28,
        "start_time": "2022-02-04T06:27:07.798Z"
      },
      {
        "duration": 11,
        "start_time": "2022-02-04T06:27:10.164Z"
      },
      {
        "duration": 7,
        "start_time": "2022-02-04T06:27:11.017Z"
      },
      {
        "duration": 12,
        "start_time": "2022-02-04T06:27:11.882Z"
      },
      {
        "duration": 16,
        "start_time": "2022-02-04T06:27:15.054Z"
      },
      {
        "duration": 10,
        "start_time": "2022-02-04T06:27:16.513Z"
      },
      {
        "duration": 77,
        "start_time": "2022-02-04T06:27:17.276Z"
      },
      {
        "duration": 6,
        "start_time": "2022-02-04T06:27:17.902Z"
      },
      {
        "duration": 21,
        "start_time": "2022-02-04T06:27:18.548Z"
      },
      {
        "duration": 12,
        "start_time": "2022-02-04T06:27:19.075Z"
      },
      {
        "duration": 81,
        "start_time": "2022-02-04T06:27:19.613Z"
      },
      {
        "duration": 511,
        "start_time": "2022-02-04T06:27:21.725Z"
      },
      {
        "duration": 537,
        "start_time": "2022-02-04T06:27:23.495Z"
      },
      {
        "duration": 515,
        "start_time": "2022-02-04T06:27:24.133Z"
      },
      {
        "duration": 7,
        "start_time": "2022-02-04T06:27:26.400Z"
      },
      {
        "duration": 57,
        "start_time": "2022-02-04T06:27:29.753Z"
      },
      {
        "duration": 7,
        "start_time": "2022-02-04T06:27:31.090Z"
      },
      {
        "duration": 6,
        "start_time": "2022-02-04T06:27:31.747Z"
      },
      {
        "duration": 9,
        "start_time": "2022-02-04T06:27:32.376Z"
      },
      {
        "duration": 16,
        "start_time": "2022-02-04T06:27:38.147Z"
      },
      {
        "duration": 614,
        "start_time": "2022-02-04T06:27:40.539Z"
      },
      {
        "duration": 5,
        "start_time": "2022-02-04T06:27:41.156Z"
      },
      {
        "duration": 7,
        "start_time": "2022-02-04T06:27:41.668Z"
      },
      {
        "duration": 6,
        "start_time": "2022-02-04T06:27:42.276Z"
      },
      {
        "duration": 738,
        "start_time": "2022-02-04T06:27:42.864Z"
      },
      {
        "duration": 634,
        "start_time": "2022-02-04T06:27:43.605Z"
      },
      {
        "duration": 8,
        "start_time": "2022-02-04T06:27:47.980Z"
      },
      {
        "duration": 568,
        "start_time": "2022-02-04T06:27:48.780Z"
      },
      {
        "duration": 6,
        "start_time": "2022-02-04T06:27:50.014Z"
      },
      {
        "duration": 6,
        "start_time": "2022-02-04T06:27:50.747Z"
      },
      {
        "duration": 8,
        "start_time": "2022-02-04T06:27:51.386Z"
      },
      {
        "duration": 596,
        "start_time": "2022-02-04T06:27:53.363Z"
      },
      {
        "duration": 6,
        "start_time": "2022-02-04T06:27:54.631Z"
      },
      {
        "duration": 6,
        "start_time": "2022-02-04T06:27:55.245Z"
      },
      {
        "duration": 7,
        "start_time": "2022-02-04T06:27:55.798Z"
      },
      {
        "duration": 8,
        "start_time": "2022-02-04T06:28:09.891Z"
      },
      {
        "duration": 6,
        "start_time": "2022-02-04T06:28:10.848Z"
      },
      {
        "duration": 6,
        "start_time": "2022-02-04T06:28:11.909Z"
      },
      {
        "duration": 7,
        "start_time": "2022-02-04T06:28:12.733Z"
      },
      {
        "duration": 6,
        "start_time": "2022-02-04T06:28:13.333Z"
      },
      {
        "duration": 418,
        "start_time": "2022-02-04T06:28:14.051Z"
      },
      {
        "duration": 9,
        "start_time": "2022-02-04T06:28:18.020Z"
      },
      {
        "duration": 121,
        "start_time": "2022-02-04T06:28:19.140Z"
      },
      {
        "duration": 207,
        "start_time": "2022-02-04T06:28:19.825Z"
      },
      {
        "duration": 111,
        "start_time": "2022-02-04T06:28:20.566Z"
      },
      {
        "duration": 1655,
        "start_time": "2022-02-04T06:28:22.410Z"
      },
      {
        "duration": 24,
        "start_time": "2022-02-04T06:29:20.445Z"
      },
      {
        "duration": 7,
        "start_time": "2022-02-04T06:29:21.082Z"
      },
      {
        "duration": 8,
        "start_time": "2022-02-04T06:29:21.652Z"
      },
      {
        "duration": 9,
        "start_time": "2022-02-04T06:29:22.187Z"
      },
      {
        "duration": 3071,
        "start_time": "2022-02-04T06:29:23.181Z"
      },
      {
        "duration": 2911,
        "start_time": "2022-02-04T06:33:46.941Z"
      },
      {
        "duration": 8,
        "start_time": "2022-02-04T06:34:47.940Z"
      },
      {
        "duration": 7,
        "start_time": "2022-02-04T06:34:48.789Z"
      },
      {
        "duration": 7,
        "start_time": "2022-02-04T06:34:49.701Z"
      },
      {
        "duration": 7,
        "start_time": "2022-02-04T06:34:50.453Z"
      },
      {
        "duration": 2725,
        "start_time": "2022-02-04T06:34:51.295Z"
      },
      {
        "duration": 2854,
        "start_time": "2022-02-04T06:35:53.810Z"
      },
      {
        "duration": 8,
        "start_time": "2022-02-04T06:37:00.631Z"
      },
      {
        "duration": 7,
        "start_time": "2022-02-04T06:37:01.581Z"
      },
      {
        "duration": 7,
        "start_time": "2022-02-04T06:37:02.458Z"
      },
      {
        "duration": 11,
        "start_time": "2022-02-04T06:37:03.494Z"
      },
      {
        "duration": 3504,
        "start_time": "2022-02-04T06:37:04.605Z"
      },
      {
        "duration": 50714,
        "start_time": "2022-02-04T06:37:39.821Z"
      },
      {
        "duration": -61,
        "start_time": "2022-02-04T06:39:44.053Z"
      },
      {
        "duration": -61,
        "start_time": "2022-02-04T06:39:44.057Z"
      },
      {
        "duration": 1512,
        "start_time": "2022-02-04T06:39:56.206Z"
      },
      {
        "duration": 903,
        "start_time": "2022-02-04T06:39:57.720Z"
      },
      {
        "duration": 27,
        "start_time": "2022-02-04T06:39:58.626Z"
      },
      {
        "duration": 35,
        "start_time": "2022-02-04T06:39:58.655Z"
      },
      {
        "duration": 46,
        "start_time": "2022-02-04T06:39:58.692Z"
      },
      {
        "duration": 25,
        "start_time": "2022-02-04T06:39:58.740Z"
      },
      {
        "duration": 9,
        "start_time": "2022-02-04T06:39:58.767Z"
      },
      {
        "duration": 7,
        "start_time": "2022-02-04T06:39:58.780Z"
      },
      {
        "duration": 42,
        "start_time": "2022-02-04T06:39:58.790Z"
      },
      {
        "duration": 16,
        "start_time": "2022-02-04T06:39:58.835Z"
      },
      {
        "duration": 11,
        "start_time": "2022-02-04T06:39:58.854Z"
      },
      {
        "duration": 114,
        "start_time": "2022-02-04T06:39:58.867Z"
      },
      {
        "duration": 8,
        "start_time": "2022-02-04T06:39:58.983Z"
      },
      {
        "duration": 40,
        "start_time": "2022-02-04T06:39:58.994Z"
      },
      {
        "duration": 10,
        "start_time": "2022-02-04T06:39:59.037Z"
      },
      {
        "duration": 104,
        "start_time": "2022-02-04T06:39:59.050Z"
      },
      {
        "duration": 512,
        "start_time": "2022-02-04T06:39:59.157Z"
      },
      {
        "duration": 543,
        "start_time": "2022-02-04T06:39:59.671Z"
      },
      {
        "duration": 521,
        "start_time": "2022-02-04T06:40:00.216Z"
      },
      {
        "duration": 7,
        "start_time": "2022-02-04T06:40:00.740Z"
      },
      {
        "duration": 32,
        "start_time": "2022-02-04T06:40:00.750Z"
      },
      {
        "duration": 8,
        "start_time": "2022-02-04T06:40:00.785Z"
      },
      {
        "duration": 9,
        "start_time": "2022-02-04T06:40:00.800Z"
      },
      {
        "duration": 23,
        "start_time": "2022-02-04T06:40:00.813Z"
      },
      {
        "duration": 33,
        "start_time": "2022-02-04T06:40:00.838Z"
      },
      {
        "duration": 621,
        "start_time": "2022-02-04T06:40:00.873Z"
      },
      {
        "duration": 7,
        "start_time": "2022-02-04T06:40:01.498Z"
      },
      {
        "duration": 26,
        "start_time": "2022-02-04T06:40:01.508Z"
      },
      {
        "duration": 22,
        "start_time": "2022-02-04T06:40:01.537Z"
      },
      {
        "duration": 687,
        "start_time": "2022-02-04T06:40:01.561Z"
      },
      {
        "duration": 635,
        "start_time": "2022-02-04T06:40:02.251Z"
      },
      {
        "duration": 7,
        "start_time": "2022-02-04T06:40:02.889Z"
      },
      {
        "duration": 595,
        "start_time": "2022-02-04T06:40:02.898Z"
      },
      {
        "duration": 6,
        "start_time": "2022-02-04T06:40:03.496Z"
      },
      {
        "duration": 29,
        "start_time": "2022-02-04T06:40:03.504Z"
      },
      {
        "duration": 6,
        "start_time": "2022-02-04T06:40:03.536Z"
      },
      {
        "duration": 1419,
        "start_time": "2022-02-04T06:40:13.942Z"
      },
      {
        "duration": 879,
        "start_time": "2022-02-04T06:40:17.368Z"
      },
      {
        "duration": 25,
        "start_time": "2022-02-04T06:40:19.103Z"
      },
      {
        "duration": 34,
        "start_time": "2022-02-04T06:40:20.038Z"
      },
      {
        "duration": 16,
        "start_time": "2022-02-04T06:40:20.903Z"
      },
      {
        "duration": 27,
        "start_time": "2022-02-04T06:40:21.550Z"
      },
      {
        "duration": 10,
        "start_time": "2022-02-04T06:40:22.775Z"
      },
      {
        "duration": 8,
        "start_time": "2022-02-04T06:40:23.465Z"
      },
      {
        "duration": 13,
        "start_time": "2022-02-04T06:40:24.338Z"
      },
      {
        "duration": 15,
        "start_time": "2022-02-04T06:40:27.876Z"
      },
      {
        "duration": 11,
        "start_time": "2022-02-04T06:40:29.143Z"
      },
      {
        "duration": 75,
        "start_time": "2022-02-04T06:40:29.766Z"
      },
      {
        "duration": 7,
        "start_time": "2022-02-04T06:40:30.331Z"
      },
      {
        "duration": 23,
        "start_time": "2022-02-04T06:40:30.894Z"
      },
      {
        "duration": 11,
        "start_time": "2022-02-04T06:40:31.413Z"
      },
      {
        "duration": 86,
        "start_time": "2022-02-04T06:40:31.910Z"
      },
      {
        "duration": 509,
        "start_time": "2022-02-04T06:40:33.441Z"
      },
      {
        "duration": 540,
        "start_time": "2022-02-04T06:40:35.514Z"
      },
      {
        "duration": 527,
        "start_time": "2022-02-04T06:40:36.520Z"
      },
      {
        "duration": 9,
        "start_time": "2022-02-04T06:40:39.450Z"
      },
      {
        "duration": 20,
        "start_time": "2022-02-04T06:40:42.981Z"
      },
      {
        "duration": 6,
        "start_time": "2022-02-04T06:40:44.533Z"
      },
      {
        "duration": 7,
        "start_time": "2022-02-04T06:40:45.301Z"
      },
      {
        "duration": 7,
        "start_time": "2022-02-04T06:40:46.700Z"
      },
      {
        "duration": 15,
        "start_time": "2022-02-04T06:40:49.682Z"
      },
      {
        "duration": 609,
        "start_time": "2022-02-04T06:40:51.726Z"
      },
      {
        "duration": 6,
        "start_time": "2022-02-04T06:40:53.315Z"
      },
      {
        "duration": 6,
        "start_time": "2022-02-04T06:40:53.967Z"
      },
      {
        "duration": 6,
        "start_time": "2022-02-04T06:40:54.529Z"
      },
      {
        "duration": 699,
        "start_time": "2022-02-04T06:40:55.576Z"
      },
      {
        "duration": 648,
        "start_time": "2022-02-04T06:40:56.451Z"
      },
      {
        "duration": 7,
        "start_time": "2022-02-04T06:41:00.491Z"
      },
      {
        "duration": 568,
        "start_time": "2022-02-04T06:41:01.892Z"
      },
      {
        "duration": 7,
        "start_time": "2022-02-04T06:41:03.311Z"
      },
      {
        "duration": 6,
        "start_time": "2022-02-04T06:41:04.455Z"
      },
      {
        "duration": 6,
        "start_time": "2022-02-04T06:41:05.112Z"
      },
      {
        "duration": 564,
        "start_time": "2022-02-04T06:41:06.528Z"
      },
      {
        "duration": 6,
        "start_time": "2022-02-04T06:41:08.324Z"
      },
      {
        "duration": 6,
        "start_time": "2022-02-04T06:41:09.143Z"
      },
      {
        "duration": 6,
        "start_time": "2022-02-04T06:41:09.655Z"
      },
      {
        "duration": 8,
        "start_time": "2022-02-04T06:41:12.977Z"
      },
      {
        "duration": 6,
        "start_time": "2022-02-04T06:41:13.762Z"
      },
      {
        "duration": 6,
        "start_time": "2022-02-04T06:41:14.736Z"
      },
      {
        "duration": 6,
        "start_time": "2022-02-04T06:41:15.422Z"
      },
      {
        "duration": 6,
        "start_time": "2022-02-04T06:41:15.997Z"
      },
      {
        "duration": 388,
        "start_time": "2022-02-04T06:41:16.834Z"
      },
      {
        "duration": 8,
        "start_time": "2022-02-04T06:41:21.145Z"
      },
      {
        "duration": 22,
        "start_time": "2022-02-04T06:41:21.729Z"
      },
      {
        "duration": 17,
        "start_time": "2022-02-04T06:41:22.144Z"
      },
      {
        "duration": 17,
        "start_time": "2022-02-04T06:41:22.807Z"
      },
      {
        "duration": 716,
        "start_time": "2022-02-04T06:41:27.962Z"
      },
      {
        "duration": 1155,
        "start_time": "2022-02-04T06:41:38.058Z"
      },
      {
        "duration": 1050,
        "start_time": "2022-02-04T06:42:26.186Z"
      },
      {
        "duration": 1049,
        "start_time": "2022-02-04T06:42:41.494Z"
      },
      {
        "duration": 1024,
        "start_time": "2022-02-04T06:42:52.242Z"
      },
      {
        "duration": 1206,
        "start_time": "2022-02-04T06:43:27.436Z"
      },
      {
        "duration": 1048,
        "start_time": "2022-02-04T06:44:03.905Z"
      },
      {
        "duration": 1033,
        "start_time": "2022-02-04T06:44:24.477Z"
      },
      {
        "duration": 1038,
        "start_time": "2022-02-04T06:44:29.990Z"
      },
      {
        "duration": 908,
        "start_time": "2022-02-04T06:45:38.524Z"
      },
      {
        "duration": 1396,
        "start_time": "2022-02-04T06:45:51.592Z"
      },
      {
        "duration": 1068,
        "start_time": "2022-02-04T06:46:02.484Z"
      },
      {
        "duration": 1056,
        "start_time": "2022-02-04T06:46:14.361Z"
      },
      {
        "duration": 1187,
        "start_time": "2022-02-04T06:47:18.011Z"
      },
      {
        "duration": 1442,
        "start_time": "2022-02-04T06:53:27.425Z"
      },
      {
        "duration": 884,
        "start_time": "2022-02-04T06:53:28.870Z"
      },
      {
        "duration": 26,
        "start_time": "2022-02-04T06:53:29.758Z"
      },
      {
        "duration": 55,
        "start_time": "2022-02-04T06:53:29.786Z"
      },
      {
        "duration": 16,
        "start_time": "2022-02-04T06:53:29.844Z"
      },
      {
        "duration": 33,
        "start_time": "2022-02-04T06:53:29.862Z"
      },
      {
        "duration": 39,
        "start_time": "2022-02-04T06:53:29.897Z"
      },
      {
        "duration": 13,
        "start_time": "2022-02-04T06:53:29.939Z"
      },
      {
        "duration": 12,
        "start_time": "2022-02-04T06:53:29.955Z"
      },
      {
        "duration": 16,
        "start_time": "2022-02-04T06:53:29.969Z"
      },
      {
        "duration": 9,
        "start_time": "2022-02-04T06:53:29.987Z"
      },
      {
        "duration": 111,
        "start_time": "2022-02-04T06:53:29.998Z"
      },
      {
        "duration": 7,
        "start_time": "2022-02-04T06:53:30.112Z"
      },
      {
        "duration": 30,
        "start_time": "2022-02-04T06:53:30.121Z"
      },
      {
        "duration": 21,
        "start_time": "2022-02-04T06:53:30.153Z"
      },
      {
        "duration": 112,
        "start_time": "2022-02-04T06:53:30.177Z"
      },
      {
        "duration": 544,
        "start_time": "2022-02-04T06:53:30.291Z"
      },
      {
        "duration": 539,
        "start_time": "2022-02-04T06:53:30.838Z"
      },
      {
        "duration": 507,
        "start_time": "2022-02-04T06:53:31.379Z"
      },
      {
        "duration": 6,
        "start_time": "2022-02-04T06:53:31.889Z"
      },
      {
        "duration": 20,
        "start_time": "2022-02-04T06:53:31.897Z"
      },
      {
        "duration": 16,
        "start_time": "2022-02-04T06:53:31.920Z"
      },
      {
        "duration": 6,
        "start_time": "2022-02-04T06:53:31.945Z"
      },
      {
        "duration": 15,
        "start_time": "2022-02-04T06:53:31.957Z"
      },
      {
        "duration": 24,
        "start_time": "2022-02-04T06:53:31.974Z"
      },
      {
        "duration": 628,
        "start_time": "2022-02-04T06:53:32.000Z"
      },
      {
        "duration": 6,
        "start_time": "2022-02-04T06:53:32.633Z"
      },
      {
        "duration": 10,
        "start_time": "2022-02-04T06:53:32.641Z"
      },
      {
        "duration": 12,
        "start_time": "2022-02-04T06:53:32.653Z"
      },
      {
        "duration": 699,
        "start_time": "2022-02-04T06:53:32.667Z"
      },
      {
        "duration": 637,
        "start_time": "2022-02-04T06:53:33.369Z"
      },
      {
        "duration": 23,
        "start_time": "2022-02-04T06:53:34.009Z"
      },
      {
        "duration": 546,
        "start_time": "2022-02-04T06:53:34.034Z"
      },
      {
        "duration": 6,
        "start_time": "2022-02-04T06:53:34.583Z"
      },
      {
        "duration": 7,
        "start_time": "2022-02-04T06:53:34.591Z"
      },
      {
        "duration": 34,
        "start_time": "2022-02-04T06:53:34.600Z"
      },
      {
        "duration": 544,
        "start_time": "2022-02-04T06:53:34.636Z"
      },
      {
        "duration": 7,
        "start_time": "2022-02-04T06:53:35.183Z"
      },
      {
        "duration": 10,
        "start_time": "2022-02-04T06:53:35.193Z"
      },
      {
        "duration": 33,
        "start_time": "2022-02-04T06:53:35.206Z"
      },
      {
        "duration": 9,
        "start_time": "2022-02-04T06:53:35.242Z"
      },
      {
        "duration": 7,
        "start_time": "2022-02-04T06:53:35.253Z"
      },
      {
        "duration": 6,
        "start_time": "2022-02-04T06:53:35.263Z"
      },
      {
        "duration": 12,
        "start_time": "2022-02-04T06:53:35.272Z"
      },
      {
        "duration": 48,
        "start_time": "2022-02-04T06:53:35.286Z"
      },
      {
        "duration": 403,
        "start_time": "2022-02-04T06:53:35.337Z"
      },
      {
        "duration": 9,
        "start_time": "2022-02-04T06:53:35.742Z"
      },
      {
        "duration": 27,
        "start_time": "2022-02-04T06:53:35.753Z"
      },
      {
        "duration": 18,
        "start_time": "2022-02-04T06:53:35.782Z"
      },
      {
        "duration": 45,
        "start_time": "2022-02-04T06:53:35.802Z"
      },
      {
        "duration": 1075,
        "start_time": "2022-02-04T06:53:35.849Z"
      },
      {
        "duration": 5,
        "start_time": "2022-02-04T06:53:36.931Z"
      },
      {
        "duration": 8,
        "start_time": "2022-02-04T06:53:36.938Z"
      },
      {
        "duration": 5,
        "start_time": "2022-02-04T06:53:36.949Z"
      },
      {
        "duration": 14,
        "start_time": "2022-02-04T06:53:36.957Z"
      },
      {
        "duration": 7,
        "start_time": "2022-02-04T06:53:36.974Z"
      },
      {
        "duration": 48,
        "start_time": "2022-02-04T06:53:36.984Z"
      },
      {
        "duration": 9,
        "start_time": "2022-02-04T06:53:37.035Z"
      },
      {
        "duration": 34,
        "start_time": "2022-02-04T06:53:37.046Z"
      },
      {
        "duration": 5,
        "start_time": "2022-02-04T06:53:37.082Z"
      },
      {
        "duration": 6,
        "start_time": "2022-02-04T06:53:37.090Z"
      },
      {
        "duration": 33,
        "start_time": "2022-02-04T06:53:37.099Z"
      },
      {
        "duration": 5,
        "start_time": "2022-02-04T06:53:37.135Z"
      },
      {
        "duration": 6,
        "start_time": "2022-02-04T06:53:37.142Z"
      },
      {
        "duration": 202,
        "start_time": "2022-02-04T06:53:37.150Z"
      },
      {
        "duration": 5,
        "start_time": "2022-02-04T06:53:37.355Z"
      },
      {
        "duration": 29,
        "start_time": "2022-02-04T06:53:37.363Z"
      },
      {
        "duration": 30,
        "start_time": "2022-02-04T06:53:37.402Z"
      },
      {
        "duration": 21,
        "start_time": "2022-02-04T06:53:37.436Z"
      },
      {
        "duration": 975,
        "start_time": "2022-02-04T06:53:37.460Z"
      },
      {
        "duration": 6,
        "start_time": "2022-02-04T06:53:38.437Z"
      },
      {
        "duration": 89,
        "start_time": "2022-02-04T06:53:38.445Z"
      },
      {
        "duration": 97,
        "start_time": "2022-02-04T06:53:38.537Z"
      },
      {
        "duration": 96,
        "start_time": "2022-02-04T06:53:38.638Z"
      },
      {
        "duration": 9,
        "start_time": "2022-02-04T06:53:38.736Z"
      },
      {
        "duration": 508102,
        "start_time": "2022-02-04T06:53:38.748Z"
      },
      {
        "duration": 13,
        "start_time": "2022-02-04T07:02:06.853Z"
      },
      {
        "duration": 8,
        "start_time": "2022-02-04T07:02:06.868Z"
      },
      {
        "duration": 54,
        "start_time": "2022-02-04T07:02:06.878Z"
      },
      {
        "duration": 1502,
        "start_time": "2022-02-04T07:02:06.935Z"
      },
      {
        "duration": 6,
        "start_time": "2022-02-04T07:02:08.440Z"
      },
      {
        "duration": 190,
        "start_time": "2022-02-04T07:02:08.449Z"
      },
      {
        "duration": 92,
        "start_time": "2022-02-04T07:02:08.642Z"
      },
      {
        "duration": 196,
        "start_time": "2022-02-04T07:02:08.737Z"
      },
      {
        "duration": 974545,
        "start_time": "2022-02-04T07:02:08.935Z"
      },
      {
        "duration": 49,
        "start_time": "2022-02-04T07:18:23.483Z"
      },
      {
        "duration": 10,
        "start_time": "2022-02-04T07:18:23.535Z"
      },
      {
        "duration": 16,
        "start_time": "2022-02-04T07:18:23.548Z"
      },
      {
        "duration": 13,
        "start_time": "2022-02-04T07:18:23.566Z"
      },
      {
        "duration": 625,
        "start_time": "2022-02-04T07:18:23.581Z"
      },
      {
        "duration": 11,
        "start_time": "2022-02-04T07:18:24.209Z"
      },
      {
        "duration": 1087,
        "start_time": "2022-02-04T10:17:25.999Z"
      },
      {
        "duration": 721,
        "start_time": "2022-02-04T10:17:27.088Z"
      },
      {
        "duration": 16,
        "start_time": "2022-02-04T10:17:27.811Z"
      },
      {
        "duration": 35,
        "start_time": "2022-02-04T10:17:27.829Z"
      },
      {
        "duration": 10,
        "start_time": "2022-02-04T10:17:27.866Z"
      },
      {
        "duration": 17,
        "start_time": "2022-02-04T10:17:27.878Z"
      },
      {
        "duration": 8,
        "start_time": "2022-02-04T10:17:28.134Z"
      },
      {
        "duration": 6,
        "start_time": "2022-02-04T10:17:28.279Z"
      },
      {
        "duration": 9,
        "start_time": "2022-02-04T10:17:28.431Z"
      },
      {
        "duration": 12,
        "start_time": "2022-02-04T10:17:29.197Z"
      },
      {
        "duration": 8,
        "start_time": "2022-02-04T10:17:29.528Z"
      },
      {
        "duration": 50,
        "start_time": "2022-02-04T10:17:29.677Z"
      },
      {
        "duration": 5,
        "start_time": "2022-02-04T10:17:29.847Z"
      },
      {
        "duration": 15,
        "start_time": "2022-02-04T10:17:30.004Z"
      },
      {
        "duration": 12,
        "start_time": "2022-02-04T10:17:30.152Z"
      },
      {
        "duration": 58,
        "start_time": "2022-02-04T10:17:30.313Z"
      },
      {
        "duration": 314,
        "start_time": "2022-02-04T10:17:30.764Z"
      },
      {
        "duration": 337,
        "start_time": "2022-02-04T10:17:31.079Z"
      },
      {
        "duration": 323,
        "start_time": "2022-02-04T10:17:31.418Z"
      },
      {
        "duration": 5,
        "start_time": "2022-02-04T10:17:31.743Z"
      },
      {
        "duration": 9,
        "start_time": "2022-02-04T10:17:32.403Z"
      },
      {
        "duration": 5,
        "start_time": "2022-02-04T10:17:32.699Z"
      },
      {
        "duration": 6,
        "start_time": "2022-02-04T10:17:32.889Z"
      },
      {
        "duration": 6,
        "start_time": "2022-02-04T10:17:33.029Z"
      },
      {
        "duration": 15,
        "start_time": "2022-02-04T10:17:33.742Z"
      },
      {
        "duration": 381,
        "start_time": "2022-02-04T10:17:34.186Z"
      },
      {
        "duration": 5,
        "start_time": "2022-02-04T10:17:34.570Z"
      },
      {
        "duration": 7,
        "start_time": "2022-02-04T10:17:34.577Z"
      },
      {
        "duration": 5,
        "start_time": "2022-02-04T10:17:35.159Z"
      },
      {
        "duration": 449,
        "start_time": "2022-02-04T10:17:35.334Z"
      },
      {
        "duration": 389,
        "start_time": "2022-02-04T10:17:35.786Z"
      },
      {
        "duration": 5,
        "start_time": "2022-02-04T10:17:36.488Z"
      },
      {
        "duration": 354,
        "start_time": "2022-02-04T10:17:36.651Z"
      },
      {
        "duration": 4,
        "start_time": "2022-02-04T10:17:37.007Z"
      },
      {
        "duration": 8,
        "start_time": "2022-02-04T10:17:37.013Z"
      },
      {
        "duration": 6,
        "start_time": "2022-02-04T10:17:37.152Z"
      },
      {
        "duration": 352,
        "start_time": "2022-02-04T10:17:37.488Z"
      },
      {
        "duration": 4,
        "start_time": "2022-02-04T10:17:37.842Z"
      },
      {
        "duration": 5,
        "start_time": "2022-02-04T10:17:37.867Z"
      },
      {
        "duration": 6,
        "start_time": "2022-02-04T10:17:38.072Z"
      },
      {
        "duration": 6,
        "start_time": "2022-02-04T10:17:39.955Z"
      },
      {
        "duration": 6,
        "start_time": "2022-02-04T10:17:40.124Z"
      },
      {
        "duration": 5,
        "start_time": "2022-02-04T10:17:40.284Z"
      },
      {
        "duration": 5,
        "start_time": "2022-02-04T10:17:40.489Z"
      },
      {
        "duration": 5,
        "start_time": "2022-02-04T10:17:40.623Z"
      },
      {
        "duration": 240,
        "start_time": "2022-02-04T10:17:40.847Z"
      },
      {
        "duration": 6,
        "start_time": "2022-02-04T10:17:42.403Z"
      },
      {
        "duration": 20,
        "start_time": "2022-02-04T10:17:42.592Z"
      },
      {
        "duration": 16,
        "start_time": "2022-02-04T10:17:42.742Z"
      },
      {
        "duration": 17,
        "start_time": "2022-02-04T10:17:42.921Z"
      },
      {
        "duration": 658,
        "start_time": "2022-02-04T10:17:43.108Z"
      },
      {
        "duration": 3,
        "start_time": "2022-02-04T10:17:44.046Z"
      },
      {
        "duration": 3,
        "start_time": "2022-02-04T10:17:44.469Z"
      },
      {
        "duration": 3,
        "start_time": "2022-02-04T10:17:45.558Z"
      },
      {
        "duration": 4,
        "start_time": "2022-02-04T10:17:46.027Z"
      },
      {
        "duration": 5,
        "start_time": "2022-02-04T10:17:46.493Z"
      },
      {
        "duration": 7,
        "start_time": "2022-02-04T10:17:47.179Z"
      },
      {
        "duration": 6,
        "start_time": "2022-02-04T10:17:47.907Z"
      },
      {
        "duration": 21,
        "start_time": "2022-02-04T10:17:49.693Z"
      },
      {
        "duration": 4,
        "start_time": "2022-02-04T10:17:50.112Z"
      },
      {
        "duration": 3,
        "start_time": "2022-02-04T10:17:51.251Z"
      },
      {
        "duration": 4,
        "start_time": "2022-02-04T10:17:51.425Z"
      },
      {
        "duration": 4,
        "start_time": "2022-02-04T10:17:51.558Z"
      },
      {
        "duration": 2,
        "start_time": "2022-02-04T10:17:58.028Z"
      },
      {
        "duration": 161,
        "start_time": "2022-02-04T10:17:58.219Z"
      },
      {
        "duration": 2,
        "start_time": "2022-02-04T10:17:58.384Z"
      },
      {
        "duration": 19,
        "start_time": "2022-02-04T10:17:58.549Z"
      },
      {
        "duration": 3,
        "start_time": "2022-02-04T10:18:03.511Z"
      },
      {
        "duration": 285,
        "start_time": "2022-02-04T10:18:52.143Z"
      },
      {
        "duration": 8,
        "start_time": "2022-02-04T10:18:52.676Z"
      },
      {
        "duration": 6,
        "start_time": "2022-02-04T10:19:00.414Z"
      },
      {
        "duration": 667,
        "start_time": "2022-02-04T10:20:36.845Z"
      },
      {
        "duration": 777,
        "start_time": "2022-02-04T10:20:38.149Z"
      },
      {
        "duration": 7,
        "start_time": "2022-02-04T10:20:53.455Z"
      },
      {
        "duration": 424,
        "start_time": "2022-02-04T10:31:13.354Z"
      },
      {
        "duration": -20,
        "start_time": "2022-02-04T10:31:13.801Z"
      },
      {
        "duration": 401,
        "start_time": "2022-02-04T10:31:18.875Z"
      }
    ],
    "kernelspec": {
      "display_name": "Python 3 (ipykernel)",
      "language": "python",
      "name": "python3"
    },
    "language_info": {
      "codemirror_mode": {
        "name": "ipython",
        "version": 3
      },
      "file_extension": ".py",
      "mimetype": "text/x-python",
      "name": "python",
      "nbconvert_exporter": "python",
      "pygments_lexer": "ipython3",
      "version": "3.9.5"
    },
    "toc": {
      "base_numbering": 1,
      "nav_menu": {},
      "number_sections": true,
      "sideBar": true,
      "skip_h1_title": true,
      "title_cell": "Содержание",
      "title_sidebar": "Contents",
      "toc_cell": true,
      "toc_position": {
        "height": "calc(100% - 180px)",
        "left": "10px",
        "top": "150px",
        "width": "197.391px"
      },
      "toc_section_display": true,
      "toc_window_display": true
    },
    "colab": {
      "name": "project_9_gold_refinery.ipynb",
      "provenance": [],
      "collapsed_sections": []
    }
  },
  "nbformat": 4,
  "nbformat_minor": 0
}