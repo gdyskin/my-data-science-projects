{
 "cells": [
  {
   "cell_type": "markdown",
   "metadata": {},
   "source": [
    "Привет, меня зовут Артем Хуршудов. Сегодня я проверю твой проект.\n",
    "<br> Дальнейшее общение будет происходить на \"ты\" если это не вызывает никаких проблем.\n",
    "<br> Желательно реагировать на каждый мой комментарий ('исправил', 'не понятно как исправить ошибку', ...)\n",
    "<br> Пожалуйста, не удаляй комментарии ревьюера, так как они повышают качество повторного ревью.\n",
    "\n",
    "Комментарии будут в <font color='green'>зеленой</font>, <font color='blue'>синей</font> или <font color='red'>красной</font> рамках:\n",
    "\n",
    "<div class=\"alert alert-block alert-success\">\n",
    "<b>Успех:</b> Если все сделано отлично\n",
    "</div>\n",
    "\n",
    "<div class=\"alert alert-block alert-info\">\n",
    "<b>Совет: </b> Если можно немного улучшить\n",
    "</div>\n",
    "\n",
    "<div class=\"alert alert-block alert-danger\">\n",
    "<b>Ошибка:</b> Если требуются исправления. Работа не может быть принята с красными комментариями.\n",
    "</div>\n",
    "\n",
    "-------------------\n",
    "\n",
    "Будет очень хорошо, если ты будешь помечать свои действия следующим образом:\n",
    "<div class=\"alert alert-block alert-warning\">\n",
    "<b>Комментарий студента:</b> ...\n",
    "</div>\n",
    "\n",
    "<div class=\"alert alert-block alert-warning\">\n",
    "<b>Изменения:</b> Были внесены следующие изменения ...\n",
    "</div>\n",
    "\n",
    "### <font color='orange'>Общее впечатление</font>\n",
    "* Большое спасибо за проделанную работу. Видно, что приложено много усилий.\n",
    "* Выводы и рассуждения получились содержательными, их было интересно читать.\n",
    "* Отлично, что доверительный интервал и риск убытков посчитаны верно.\n",
    "* Над этим проектом нужно будет еще немного поработать. Однако, изменения не должны занять много времени.\n",
    "* В работе я оставил несколько советов. Буду рад, если ты учтешь их.\n",
    "* С радостью отвечу на твои вопросы, если они есть. Лучше всего их собрать в следующей ячейке. Жду новую версию проекта."
   ]
  },
  {
   "cell_type": "markdown",
   "metadata": {},
   "source": [
    "<div class=\"alert alert-block alert-warning\">\n",
    "<b>Комментарий студента:</b> Привет, Артем. Приятно познакомиться и спасибо за ревью. Замечания учел, поправки сделал, по одному из замечаний у меня есть вопрос, он рядом с самим замечанием.\n",
    "</div>"
   ]
  },
  {
   "cell_type": "markdown",
   "metadata": {},
   "source": [
    "### <font color='orange'>Общее впечатление (ревью 2)</font>\n",
    "* Для удобства все новые комментарии обозначены фразой \"ревью 2\".\n",
    "* Удачи в доработке."
   ]
  },
  {
   "cell_type": "markdown",
   "metadata": {},
   "source": [
    "<div class=\"alert alert-block alert-warning\">\n",
    "<b>Изменения:</b> Привет еще раз. Думаю, что теперь все правильно.\n",
    "</div>"
   ]
  },
  {
   "cell_type": "markdown",
   "metadata": {},
   "source": [
    "### <font color='orange'>Общее впечатление (ревью 3)</font>\n",
    "* После исправлений проект улучшился и теперь он может быть зачтен.\n",
    "* С выбором региона согласен.\n",
    "* Удачи в дальнейшем обучении и следующих работах!"
   ]
  },
  {
   "cell_type": "markdown",
   "metadata": {},
   "source": [
    "# Выбор локации для скважины"
   ]
  },
  {
   "cell_type": "markdown",
   "metadata": {},
   "source": [
    "Допустим, вы работаете в добывающей компании «ГлавРосГосНефть». Нужно решить, где бурить новую скважину.\n",
    "\n",
    "Вам предоставлены пробы нефти в трёх регионах: в каждом 10 000 месторождений, где измерили качество нефти и объём её запасов. Постройте модель машинного обучения, которая поможет определить регион, где добыча принесёт наибольшую прибыль. Проанализируйте возможную прибыль и риски техникой *Bootstrap.*\n",
    "\n",
    "Шаги для выбора локации:\n",
    "\n",
    "- В избранном регионе ищут месторождения, для каждого определяют значения признаков;\n",
    "- Строят модель и оценивают объём запасов;\n",
    "- Выбирают месторождения с самым высокими оценками значений. Количество месторождений зависит от бюджета компании и стоимости разработки одной скважины;\n",
    "- Прибыль равна суммарной прибыли отобранных месторождений."
   ]
  },
  {
   "cell_type": "code",
   "execution_count": 1,
   "metadata": {},
   "outputs": [],
   "source": [
    "import pandas as pd\n",
    "from sklearn.model_selection import train_test_split\n",
    "from sklearn.linear_model import LinearRegression\n",
    "from sklearn.metrics import mean_squared_error\n",
    "from numpy.random import RandomState"
   ]
  },
  {
   "cell_type": "markdown",
   "metadata": {},
   "source": [
    "<div class=\"alert alert-block alert-success\">\n",
    "<b>Успех:</b> Отлично, что все импорты собраны в первой ячейке ноутбука! Если у того, кто будет запускать твой ноутбук будут отсутствовать некоторые библиотеки, то он это увидит сразу, а не в процессе!\n",
    "</div>"
   ]
  },
  {
   "cell_type": "markdown",
   "metadata": {},
   "source": [
    "## Загрузка и подготовка данных"
   ]
  },
  {
   "cell_type": "code",
   "execution_count": 2,
   "metadata": {},
   "outputs": [],
   "source": [
    "df_0 = pd.read_csv('/datasets/geo_data_0.csv')\n",
    "df_1 = pd.read_csv('/datasets/geo_data_1.csv')\n",
    "df_2 = pd.read_csv('/datasets/geo_data_2.csv')"
   ]
  },
  {
   "cell_type": "code",
   "execution_count": 3,
   "metadata": {},
   "outputs": [
    {
     "name": "stdout",
     "output_type": "stream",
     "text": [
      "<class 'pandas.core.frame.DataFrame'>\n",
      "RangeIndex: 100000 entries, 0 to 99999\n",
      "Data columns (total 5 columns):\n",
      "id         100000 non-null object\n",
      "f0         100000 non-null float64\n",
      "f1         100000 non-null float64\n",
      "f2         100000 non-null float64\n",
      "product    100000 non-null float64\n",
      "dtypes: float64(4), object(1)\n",
      "memory usage: 3.8+ MB\n"
     ]
    }
   ],
   "source": [
    "df_0.info()"
   ]
  },
  {
   "cell_type": "code",
   "execution_count": 4,
   "metadata": {},
   "outputs": [
    {
     "name": "stdout",
     "output_type": "stream",
     "text": [
      "<class 'pandas.core.frame.DataFrame'>\n",
      "RangeIndex: 100000 entries, 0 to 99999\n",
      "Data columns (total 5 columns):\n",
      "id         100000 non-null object\n",
      "f0         100000 non-null float64\n",
      "f1         100000 non-null float64\n",
      "f2         100000 non-null float64\n",
      "product    100000 non-null float64\n",
      "dtypes: float64(4), object(1)\n",
      "memory usage: 3.8+ MB\n"
     ]
    }
   ],
   "source": [
    "df_1.info()"
   ]
  },
  {
   "cell_type": "code",
   "execution_count": 5,
   "metadata": {},
   "outputs": [
    {
     "name": "stdout",
     "output_type": "stream",
     "text": [
      "<class 'pandas.core.frame.DataFrame'>\n",
      "RangeIndex: 100000 entries, 0 to 99999\n",
      "Data columns (total 5 columns):\n",
      "id         100000 non-null object\n",
      "f0         100000 non-null float64\n",
      "f1         100000 non-null float64\n",
      "f2         100000 non-null float64\n",
      "product    100000 non-null float64\n",
      "dtypes: float64(4), object(1)\n",
      "memory usage: 3.8+ MB\n"
     ]
    }
   ],
   "source": [
    "df_2.info()"
   ]
  },
  {
   "cell_type": "markdown",
   "metadata": {},
   "source": [
    "Данные загружены корректно, пропусков нет."
   ]
  },
  {
   "cell_type": "markdown",
   "metadata": {},
   "source": [
    "Проверим данные на наличие зависимостей и распределение целевого признака:"
   ]
  },
  {
   "cell_type": "code",
   "execution_count": 6,
   "metadata": {},
   "outputs": [
    {
     "data": {
      "text/html": [
       "<div>\n",
       "<style scoped>\n",
       "    .dataframe tbody tr th:only-of-type {\n",
       "        vertical-align: middle;\n",
       "    }\n",
       "\n",
       "    .dataframe tbody tr th {\n",
       "        vertical-align: top;\n",
       "    }\n",
       "\n",
       "    .dataframe thead th {\n",
       "        text-align: right;\n",
       "    }\n",
       "</style>\n",
       "<table border=\"1\" class=\"dataframe\">\n",
       "  <thead>\n",
       "    <tr style=\"text-align: right;\">\n",
       "      <th></th>\n",
       "      <th>f0</th>\n",
       "      <th>f1</th>\n",
       "      <th>f2</th>\n",
       "      <th>product</th>\n",
       "    </tr>\n",
       "  </thead>\n",
       "  <tbody>\n",
       "    <tr>\n",
       "      <td>f0</td>\n",
       "      <td>1.000000</td>\n",
       "      <td>-0.440723</td>\n",
       "      <td>-0.003153</td>\n",
       "      <td>0.143536</td>\n",
       "    </tr>\n",
       "    <tr>\n",
       "      <td>f1</td>\n",
       "      <td>-0.440723</td>\n",
       "      <td>1.000000</td>\n",
       "      <td>0.001724</td>\n",
       "      <td>-0.192356</td>\n",
       "    </tr>\n",
       "    <tr>\n",
       "      <td>f2</td>\n",
       "      <td>-0.003153</td>\n",
       "      <td>0.001724</td>\n",
       "      <td>1.000000</td>\n",
       "      <td>0.483663</td>\n",
       "    </tr>\n",
       "    <tr>\n",
       "      <td>product</td>\n",
       "      <td>0.143536</td>\n",
       "      <td>-0.192356</td>\n",
       "      <td>0.483663</td>\n",
       "      <td>1.000000</td>\n",
       "    </tr>\n",
       "  </tbody>\n",
       "</table>\n",
       "</div>"
      ],
      "text/plain": [
       "               f0        f1        f2   product\n",
       "f0       1.000000 -0.440723 -0.003153  0.143536\n",
       "f1      -0.440723  1.000000  0.001724 -0.192356\n",
       "f2      -0.003153  0.001724  1.000000  0.483663\n",
       "product  0.143536 -0.192356  0.483663  1.000000"
      ]
     },
     "execution_count": 6,
     "metadata": {},
     "output_type": "execute_result"
    }
   ],
   "source": [
    "df_0.corr()"
   ]
  },
  {
   "cell_type": "code",
   "execution_count": 7,
   "metadata": {},
   "outputs": [
    {
     "data": {
      "text/plain": [
       "<matplotlib.axes._subplots.AxesSubplot at 0x7fb9d9977c90>"
      ]
     },
     "execution_count": 7,
     "metadata": {},
     "output_type": "execute_result"
    },
    {
     "data": {
      "image/png": "[encoded data removed]",
      "text/plain": [
       "<Figure size 432x288 with 1 Axes>"
      ]
     },
     "metadata": {
      "needs_background": "light"
     },
     "output_type": "display_data"
    }
   ],
   "source": [
    "df_0['product'].hist()"
   ]
  },
  {
   "cell_type": "code",
   "execution_count": 8,
   "metadata": {},
   "outputs": [
    {
     "data": {
      "text/html": [
       "<div>\n",
       "<style scoped>\n",
       "    .dataframe tbody tr th:only-of-type {\n",
       "        vertical-align: middle;\n",
       "    }\n",
       "\n",
       "    .dataframe tbody tr th {\n",
       "        vertical-align: top;\n",
       "    }\n",
       "\n",
       "    .dataframe thead th {\n",
       "        text-align: right;\n",
       "    }\n",
       "</style>\n",
       "<table border=\"1\" class=\"dataframe\">\n",
       "  <thead>\n",
       "    <tr style=\"text-align: right;\">\n",
       "      <th></th>\n",
       "      <th>f0</th>\n",
       "      <th>f1</th>\n",
       "      <th>f2</th>\n",
       "      <th>product</th>\n",
       "    </tr>\n",
       "  </thead>\n",
       "  <tbody>\n",
       "    <tr>\n",
       "      <td>f0</td>\n",
       "      <td>1.000000</td>\n",
       "      <td>0.182287</td>\n",
       "      <td>-0.001777</td>\n",
       "      <td>-0.030491</td>\n",
       "    </tr>\n",
       "    <tr>\n",
       "      <td>f1</td>\n",
       "      <td>0.182287</td>\n",
       "      <td>1.000000</td>\n",
       "      <td>-0.002595</td>\n",
       "      <td>-0.010155</td>\n",
       "    </tr>\n",
       "    <tr>\n",
       "      <td>f2</td>\n",
       "      <td>-0.001777</td>\n",
       "      <td>-0.002595</td>\n",
       "      <td>1.000000</td>\n",
       "      <td>0.999397</td>\n",
       "    </tr>\n",
       "    <tr>\n",
       "      <td>product</td>\n",
       "      <td>-0.030491</td>\n",
       "      <td>-0.010155</td>\n",
       "      <td>0.999397</td>\n",
       "      <td>1.000000</td>\n",
       "    </tr>\n",
       "  </tbody>\n",
       "</table>\n",
       "</div>"
      ],
      "text/plain": [
       "               f0        f1        f2   product\n",
       "f0       1.000000  0.182287 -0.001777 -0.030491\n",
       "f1       0.182287  1.000000 -0.002595 -0.010155\n",
       "f2      -0.001777 -0.002595  1.000000  0.999397\n",
       "product -0.030491 -0.010155  0.999397  1.000000"
      ]
     },
     "execution_count": 8,
     "metadata": {},
     "output_type": "execute_result"
    }
   ],
   "source": [
    "df_1.corr()"
   ]
  },
  {
   "cell_type": "code",
   "execution_count": 9,
   "metadata": {},
   "outputs": [
    {
     "data": {
      "text/plain": [
       "<matplotlib.axes._subplots.AxesSubplot at 0x7fb9d0c31e10>"
      ]
     },
     "execution_count": 9,
     "metadata": {},
     "output_type": "execute_result"
    },
    {
     "data": {
      "image/png": "[encoded data removed]",
      "text/plain": [
       "<Figure size 432x288 with 1 Axes>"
      ]
     },
     "metadata": {
      "needs_background": "light"
     },
     "output_type": "display_data"
    }
   ],
   "source": [
    "df_1['product'].hist()"
   ]
  },
  {
   "cell_type": "code",
   "execution_count": 10,
   "metadata": {},
   "outputs": [
    {
     "data": {
      "text/html": [
       "<div>\n",
       "<style scoped>\n",
       "    .dataframe tbody tr th:only-of-type {\n",
       "        vertical-align: middle;\n",
       "    }\n",
       "\n",
       "    .dataframe tbody tr th {\n",
       "        vertical-align: top;\n",
       "    }\n",
       "\n",
       "    .dataframe thead th {\n",
       "        text-align: right;\n",
       "    }\n",
       "</style>\n",
       "<table border=\"1\" class=\"dataframe\">\n",
       "  <thead>\n",
       "    <tr style=\"text-align: right;\">\n",
       "      <th></th>\n",
       "      <th>f0</th>\n",
       "      <th>f1</th>\n",
       "      <th>f2</th>\n",
       "      <th>product</th>\n",
       "    </tr>\n",
       "  </thead>\n",
       "  <tbody>\n",
       "    <tr>\n",
       "      <td>f0</td>\n",
       "      <td>1.000000</td>\n",
       "      <td>0.000528</td>\n",
       "      <td>-0.000448</td>\n",
       "      <td>-0.001987</td>\n",
       "    </tr>\n",
       "    <tr>\n",
       "      <td>f1</td>\n",
       "      <td>0.000528</td>\n",
       "      <td>1.000000</td>\n",
       "      <td>0.000779</td>\n",
       "      <td>-0.001012</td>\n",
       "    </tr>\n",
       "    <tr>\n",
       "      <td>f2</td>\n",
       "      <td>-0.000448</td>\n",
       "      <td>0.000779</td>\n",
       "      <td>1.000000</td>\n",
       "      <td>0.445871</td>\n",
       "    </tr>\n",
       "    <tr>\n",
       "      <td>product</td>\n",
       "      <td>-0.001987</td>\n",
       "      <td>-0.001012</td>\n",
       "      <td>0.445871</td>\n",
       "      <td>1.000000</td>\n",
       "    </tr>\n",
       "  </tbody>\n",
       "</table>\n",
       "</div>"
      ],
      "text/plain": [
       "               f0        f1        f2   product\n",
       "f0       1.000000  0.000528 -0.000448 -0.001987\n",
       "f1       0.000528  1.000000  0.000779 -0.001012\n",
       "f2      -0.000448  0.000779  1.000000  0.445871\n",
       "product -0.001987 -0.001012  0.445871  1.000000"
      ]
     },
     "execution_count": 10,
     "metadata": {},
     "output_type": "execute_result"
    }
   ],
   "source": [
    "df_2.corr()"
   ]
  },
  {
   "cell_type": "code",
   "execution_count": 11,
   "metadata": {},
   "outputs": [
    {
     "data": {
      "text/plain": [
       "<matplotlib.axes._subplots.AxesSubplot at 0x7fb9d99b4810>"
      ]
     },
     "execution_count": 11,
     "metadata": {},
     "output_type": "execute_result"
    },
    {
     "data": {
      "image/png": "[encoded data removed]",
      "text/plain": [
       "<Figure size 432x288 with 1 Axes>"
      ]
     },
     "metadata": {
      "needs_background": "light"
     },
     "output_type": "display_data"
    }
   ],
   "source": [
    "df_2['product'].hist()"
   ]
  },
  {
   "cell_type": "markdown",
   "metadata": {},
   "source": [
    "Распределения отличаются, при этом данные второго региона выглядят странно, но, т.к. данные получены синтетическим путем, и задание не подразумевает масштабных преобразований исходных данных, будем работать с тем, что есть."
   ]
  },
  {
   "cell_type": "code",
   "execution_count": 12,
   "metadata": {},
   "outputs": [
    {
     "data": {
      "text/html": [
       "<div>\n",
       "<style scoped>\n",
       "    .dataframe tbody tr th:only-of-type {\n",
       "        vertical-align: middle;\n",
       "    }\n",
       "\n",
       "    .dataframe tbody tr th {\n",
       "        vertical-align: top;\n",
       "    }\n",
       "\n",
       "    .dataframe thead th {\n",
       "        text-align: right;\n",
       "    }\n",
       "</style>\n",
       "<table border=\"1\" class=\"dataframe\">\n",
       "  <thead>\n",
       "    <tr style=\"text-align: right;\">\n",
       "      <th></th>\n",
       "      <th>id</th>\n",
       "      <th>f0</th>\n",
       "      <th>f1</th>\n",
       "      <th>f2</th>\n",
       "      <th>product</th>\n",
       "    </tr>\n",
       "  </thead>\n",
       "  <tbody>\n",
       "    <tr>\n",
       "      <td>0</td>\n",
       "      <td>fwXo0</td>\n",
       "      <td>-1.146987</td>\n",
       "      <td>0.963328</td>\n",
       "      <td>-0.828965</td>\n",
       "      <td>27.758673</td>\n",
       "    </tr>\n",
       "    <tr>\n",
       "      <td>1</td>\n",
       "      <td>WJtFt</td>\n",
       "      <td>0.262778</td>\n",
       "      <td>0.269839</td>\n",
       "      <td>-2.530187</td>\n",
       "      <td>56.069697</td>\n",
       "    </tr>\n",
       "    <tr>\n",
       "      <td>2</td>\n",
       "      <td>ovLUW</td>\n",
       "      <td>0.194587</td>\n",
       "      <td>0.289035</td>\n",
       "      <td>-5.586433</td>\n",
       "      <td>62.871910</td>\n",
       "    </tr>\n",
       "    <tr>\n",
       "      <td>3</td>\n",
       "      <td>q6cA6</td>\n",
       "      <td>2.236060</td>\n",
       "      <td>-0.553760</td>\n",
       "      <td>0.930038</td>\n",
       "      <td>114.572842</td>\n",
       "    </tr>\n",
       "    <tr>\n",
       "      <td>4</td>\n",
       "      <td>WPMUX</td>\n",
       "      <td>-0.515993</td>\n",
       "      <td>1.716266</td>\n",
       "      <td>5.899011</td>\n",
       "      <td>149.600746</td>\n",
       "    </tr>\n",
       "  </tbody>\n",
       "</table>\n",
       "</div>"
      ],
      "text/plain": [
       "      id        f0        f1        f2     product\n",
       "0  fwXo0 -1.146987  0.963328 -0.828965   27.758673\n",
       "1  WJtFt  0.262778  0.269839 -2.530187   56.069697\n",
       "2  ovLUW  0.194587  0.289035 -5.586433   62.871910\n",
       "3  q6cA6  2.236060 -0.553760  0.930038  114.572842\n",
       "4  WPMUX -0.515993  1.716266  5.899011  149.600746"
      ]
     },
     "execution_count": 12,
     "metadata": {},
     "output_type": "execute_result"
    }
   ],
   "source": [
    "df_2.head()"
   ]
  },
  {
   "cell_type": "markdown",
   "metadata": {},
   "source": [
    "Разделим датасеты на фичи и целевые признаки, при этом в данных содержится информация об id исследованой точки, не несущая смысловой нагрузки для построения моделей, отбросим эту информацию:"
   ]
  },
  {
   "cell_type": "code",
   "execution_count": 13,
   "metadata": {},
   "outputs": [
    {
     "name": "stdout",
     "output_type": "stream",
     "text": [
      "(100000,) (100000, 3)\n"
     ]
    }
   ],
   "source": [
    "target_0 = df_0['product']\n",
    "features_0 = df_0.drop(['product', 'id'], axis=1)\n",
    "print(target_0.shape, features_0.shape)"
   ]
  },
  {
   "cell_type": "code",
   "execution_count": 14,
   "metadata": {},
   "outputs": [
    {
     "name": "stdout",
     "output_type": "stream",
     "text": [
      "(100000,) (100000, 3)\n"
     ]
    }
   ],
   "source": [
    "target_1 = df_1['product']\n",
    "features_1 = df_1.drop(['product', 'id'], axis=1)\n",
    "print(target_1.shape, features_1.shape)"
   ]
  },
  {
   "cell_type": "code",
   "execution_count": 15,
   "metadata": {},
   "outputs": [
    {
     "name": "stdout",
     "output_type": "stream",
     "text": [
      "(100000,) (100000, 3)\n"
     ]
    }
   ],
   "source": [
    "target_2 = df_2['product']\n",
    "features_2 = df_2.drop(['product', 'id'], axis=1)\n",
    "print(target_2.shape, features_2.shape)"
   ]
  },
  {
   "cell_type": "markdown",
   "metadata": {},
   "source": [
    "Данные загружены, проверены и подготовлены для использования в машинном обучении."
   ]
  },
  {
   "cell_type": "markdown",
   "metadata": {},
   "source": [
    "<div class=\"alert alert-block alert-success\">\n",
    "<b>Успех:</b> Данные загружены корректно, первичный осмотр проведен. Согласен, что колонка id нам не нужна.\n",
    "</div>"
   ]
  },
  {
   "cell_type": "markdown",
   "metadata": {},
   "source": [
    "## Обучение и проверка модели"
   ]
  },
  {
   "cell_type": "markdown",
   "metadata": {},
   "source": [
    "### Регион №0"
   ]
  },
  {
   "cell_type": "markdown",
   "metadata": {},
   "source": [
    "Разделяем набор данных на обучающую и тестовую выборки в пропорции 75/25%"
   ]
  },
  {
   "cell_type": "code",
   "execution_count": 16,
   "metadata": {},
   "outputs": [],
   "source": [
    "train_features_0, test_features_0, train_target_0, test_target_0 = train_test_split(\n",
    "features_0, target_0, test_size=0.25, random_state=12345)"
   ]
  },
  {
   "cell_type": "markdown",
   "metadata": {},
   "source": [
    "Модель - линейная регрессия"
   ]
  },
  {
   "cell_type": "code",
   "execution_count": 17,
   "metadata": {},
   "outputs": [
    {
     "data": {
      "text/plain": [
       "LinearRegression(copy_X=True, fit_intercept=True, n_jobs=None, normalize=False)"
      ]
     },
     "execution_count": 17,
     "metadata": {},
     "output_type": "execute_result"
    }
   ],
   "source": [
    "model_0 = LinearRegression()\n",
    "model_0.fit(train_features_0, train_target_0)"
   ]
  },
  {
   "cell_type": "markdown",
   "metadata": {},
   "source": [
    "Предсказания модели на тестовой выборке сохраняем для дальнейшего использования"
   ]
  },
  {
   "cell_type": "code",
   "execution_count": 18,
   "metadata": {},
   "outputs": [],
   "source": [
    "predict_0 = model_0.predict(test_features_0)"
   ]
  },
  {
   "cell_type": "markdown",
   "metadata": {},
   "source": [
    "Посчитаем RMSE модели:"
   ]
  },
  {
   "cell_type": "code",
   "execution_count": 19,
   "metadata": {},
   "outputs": [],
   "source": [
    "mse_0 = mean_squared_error(test_target_0, predict_0)"
   ]
  },
  {
   "cell_type": "code",
   "execution_count": 20,
   "metadata": {},
   "outputs": [
    {
     "data": {
      "text/plain": [
       "37.5794217150813"
      ]
     },
     "execution_count": 20,
     "metadata": {},
     "output_type": "execute_result"
    }
   ],
   "source": [
    "mse_0**0.5"
   ]
  },
  {
   "cell_type": "code",
   "execution_count": 21,
   "metadata": {},
   "outputs": [
    {
     "data": {
      "text/plain": [
       "92.59256778438038"
      ]
     },
     "execution_count": 21,
     "metadata": {},
     "output_type": "execute_result"
    }
   ],
   "source": [
    "pd.Series(predict_0).mean()"
   ]
  },
  {
   "cell_type": "markdown",
   "metadata": {},
   "source": [
    "### Регион №1"
   ]
  },
  {
   "cell_type": "markdown",
   "metadata": {},
   "source": [
    "Аналогично построим и проанализируем модель для второго региона"
   ]
  },
  {
   "cell_type": "code",
   "execution_count": 22,
   "metadata": {},
   "outputs": [],
   "source": [
    "train_features_1, test_features_1, train_target_1, test_target_1 = train_test_split(\n",
    "features_1, target_1, test_size=0.25, random_state=12345)"
   ]
  },
  {
   "cell_type": "code",
   "execution_count": 23,
   "metadata": {},
   "outputs": [
    {
     "data": {
      "text/plain": [
       "LinearRegression(copy_X=True, fit_intercept=True, n_jobs=None, normalize=False)"
      ]
     },
     "execution_count": 23,
     "metadata": {},
     "output_type": "execute_result"
    }
   ],
   "source": [
    "model_1 = LinearRegression()\n",
    "model_1.fit(train_features_1, train_target_1)"
   ]
  },
  {
   "cell_type": "code",
   "execution_count": 24,
   "metadata": {},
   "outputs": [],
   "source": [
    "predict_1 = model_1.predict(test_features_1)"
   ]
  },
  {
   "cell_type": "code",
   "execution_count": 25,
   "metadata": {},
   "outputs": [],
   "source": [
    "mse_1 = mean_squared_error(test_target_1, predict_1)"
   ]
  },
  {
   "cell_type": "code",
   "execution_count": 26,
   "metadata": {},
   "outputs": [
    {
     "data": {
      "text/plain": [
       "0.893099286775616"
      ]
     },
     "execution_count": 26,
     "metadata": {},
     "output_type": "execute_result"
    }
   ],
   "source": [
    "mse_1**0.5"
   ]
  },
  {
   "cell_type": "code",
   "execution_count": 27,
   "metadata": {},
   "outputs": [
    {
     "data": {
      "text/plain": [
       "68.728546895446"
      ]
     },
     "execution_count": 27,
     "metadata": {},
     "output_type": "execute_result"
    }
   ],
   "source": [
    "pd.Series(predict_1).mean()"
   ]
  },
  {
   "cell_type": "markdown",
   "metadata": {},
   "source": [
    "### Регион №2"
   ]
  },
  {
   "cell_type": "markdown",
   "metadata": {},
   "source": [
    "Аналогично построим и проанализируем модель для третьего региона"
   ]
  },
  {
   "cell_type": "code",
   "execution_count": 28,
   "metadata": {},
   "outputs": [],
   "source": [
    "train_features_2, test_features_2, train_target_2, test_target_2 = train_test_split(\n",
    "features_2, target_2, test_size=0.25, random_state=12345)"
   ]
  },
  {
   "cell_type": "code",
   "execution_count": 29,
   "metadata": {},
   "outputs": [
    {
     "data": {
      "text/plain": [
       "LinearRegression(copy_X=True, fit_intercept=True, n_jobs=None, normalize=False)"
      ]
     },
     "execution_count": 29,
     "metadata": {},
     "output_type": "execute_result"
    }
   ],
   "source": [
    "model_2 = LinearRegression()\n",
    "model_2.fit(train_features_2, train_target_2)"
   ]
  },
  {
   "cell_type": "code",
   "execution_count": 30,
   "metadata": {},
   "outputs": [],
   "source": [
    "predict_2 = model_2.predict(test_features_2)"
   ]
  },
  {
   "cell_type": "code",
   "execution_count": 31,
   "metadata": {},
   "outputs": [],
   "source": [
    "mse_2 = mean_squared_error(test_target_2, predict_2)"
   ]
  },
  {
   "cell_type": "code",
   "execution_count": 32,
   "metadata": {},
   "outputs": [
    {
     "data": {
      "text/plain": [
       "40.02970873393434"
      ]
     },
     "execution_count": 32,
     "metadata": {},
     "output_type": "execute_result"
    }
   ],
   "source": [
    "mse_2**0.5"
   ]
  },
  {
   "cell_type": "code",
   "execution_count": 33,
   "metadata": {},
   "outputs": [
    {
     "data": {
      "text/plain": [
       "94.96504596800489"
      ]
     },
     "execution_count": 33,
     "metadata": {},
     "output_type": "execute_result"
    }
   ],
   "source": [
    "pd.Series(predict_2).mean()"
   ]
  },
  {
   "cell_type": "markdown",
   "metadata": {},
   "source": [
    "### Вывод"
   ]
  },
  {
   "cell_type": "markdown",
   "metadata": {},
   "source": [
    "Модели построены, предсказания получены, результаты соответствуют ранее определенным различиям второго и первого с третьим регионов."
   ]
  },
  {
   "cell_type": "markdown",
   "metadata": {},
   "source": [
    "<div class=\"alert alert-block alert-success\">\n",
    "<b>Успех:</b> Модели обучены корректно.\n",
    "</div>\n",
    "\n",
    "<div class=\"alert alert-block alert-info\">\n",
    "<b>Совет: </b> На протяжении всего проекта происходит работа с 3мя одинаковыми таблицами. В связи с этим можно было использовать функции и/или циклы, чтобы избежать копирования кода.\n",
    "<br> Зачем его нужно избегать? Потому что очень часто оно приводит к ошибкам (например, забыл поменять одну из переменных). Впоследствии такие ошибки очень трудно найти.\n",
    "</div>"
   ]
  },
  {
   "cell_type": "markdown",
   "metadata": {},
   "source": [
    "<div class=\"alert alert-block alert-warning\">\n",
    "<b>Комментарий студента:</b> Совет учту на будущее.\n",
    "</div>"
   ]
  },
  {
   "cell_type": "markdown",
   "metadata": {},
   "source": [
    "<div class=\"alert alert-block alert-success\">\n",
    "<b>Успех (ревью 2):</b> ОК.\n",
    "</div>"
   ]
  },
  {
   "cell_type": "markdown",
   "metadata": {},
   "source": [
    "## Подготовка к расчёту прибыли"
   ]
  },
  {
   "cell_type": "markdown",
   "metadata": {},
   "source": [
    "Зададим константы для расчета экономических показателей, budget - бюджет на разработку месторождений в регионе, product_price - стоимость единицы продукции(1000 баррелей), product_amount - необходимые запасы нефти в регионе для обеспечения безубыточной добычи."
   ]
  },
  {
   "cell_type": "code",
   "execution_count": 34,
   "metadata": {},
   "outputs": [],
   "source": [
    "BUDGET = 10000000000\n",
    "PRODUCT_PRICE = 450000"
   ]
  },
  {
   "cell_type": "markdown",
   "metadata": {},
   "source": [
    "<div class=\"alert alert-block alert-info\">\n",
    "\n",
    "<b>Совет: </b> В названиях константных переменных лучше использовать только БОЛЬШИЕ буквы. Это соглашение между программистами: https://pythonworld.ru/osnovy/pep-8-rukovodstvo-po-napisaniyu-koda-na-python.html#id29 .\n",
    "</div>"
   ]
  },
  {
   "cell_type": "markdown",
   "metadata": {},
   "source": [
    "<div class=\"alert alert-block alert-success\">\n",
    "<b>Успех (ревью 2):</b> ОК.\n",
    "</div>"
   ]
  },
  {
   "cell_type": "code",
   "execution_count": 35,
   "metadata": {},
   "outputs": [
    {
     "data": {
      "text/plain": [
       "22222.222222222223"
      ]
     },
     "execution_count": 35,
     "metadata": {},
     "output_type": "execute_result"
    }
   ],
   "source": [
    "product_amount = BUDGET / PRODUCT_PRICE\n",
    "product_amount"
   ]
  },
  {
   "cell_type": "markdown",
   "metadata": {},
   "source": [
    "<div class=\"alert alert-block alert-success\">\n",
    "<b>Успех:</b> Точка безубыточности найдена верно!\n",
    "</div>"
   ]
  },
  {
   "cell_type": "markdown",
   "metadata": {},
   "source": [
    "Средний объем запасов в регионе должен быть выше данной величины. Посчитаем запасы в регионах:"
   ]
  },
  {
   "cell_type": "code",
   "execution_count": 36,
   "metadata": {},
   "outputs": [
    {
     "data": {
      "text/plain": [
       "18066.75717577053"
      ]
     },
     "execution_count": 36,
     "metadata": {},
     "output_type": "execute_result"
    }
   ],
   "source": [
    "pd.Series(predict_0).sample(n=200, random_state=12345).sum()"
   ]
  },
  {
   "cell_type": "code",
   "execution_count": 37,
   "metadata": {},
   "outputs": [
    {
     "data": {
      "text/plain": [
       "14733.595879158143"
      ]
     },
     "execution_count": 37,
     "metadata": {},
     "output_type": "execute_result"
    }
   ],
   "source": [
    "pd.Series(predict_1).sample(n=200, random_state=12345).sum()"
   ]
  },
  {
   "cell_type": "code",
   "execution_count": 38,
   "metadata": {},
   "outputs": [
    {
     "data": {
      "text/plain": [
       "18741.229826615017"
      ]
     },
     "execution_count": 38,
     "metadata": {},
     "output_type": "execute_result"
    }
   ],
   "source": [
    "pd.Series(predict_2).sample(n=200, random_state=12345).sum()"
   ]
  },
  {
   "cell_type": "markdown",
   "metadata": {},
   "source": [
    "<div class=\"alert alert-block alert-danger\">\n",
    "<b>Ошибка:</b> Сравнивать нужно со случайным набором скважин, а не с лучшими.\n",
    "</div>"
   ]
  },
  {
   "cell_type": "markdown",
   "metadata": {},
   "source": [
    "<div class=\"alert alert-block alert-warning\">\n",
    "<b>Изменения:</b> Изменил на случайные скважины.\n",
    "</div>\n",
    "<div class=\"alert alert-block alert-warning\">\n",
    "<b>Комментарий студента:</b> Только не понимаю почему случайные, ведь в любом случае есть данные, и есть возможность выбрать лучшие. Ну и со случайными вывод меняется на противоположный, ни одна скважина не дотягивает до безубыточного объема, что в дальнейшем опровергается бутсртапом. Поясни этот момент, пожалуйста.\n",
    "</div>"
   ]
  },
  {
   "cell_type": "markdown",
   "metadata": {},
   "source": [
    "<div class=\"alert alert-block alert-info\">\n",
    "<b>Совет (ревью 2): </b> Не одна не дотягивает -> значит нужно применять ML. Так как иначе можно было выбирать скважины наугад.\n",
    "    \n",
    "Если ты будешь дальше исследовать регион, то не сможешь измерить реальный объем, у тебя будут только признаки, так что выбрать топ-200 скважин во время реальной разработки никак нельзя.\n",
    "</div>"
   ]
  },
  {
   "cell_type": "markdown",
   "metadata": {},
   "source": [
    "<div class=\"alert alert-block alert-warning\">\n",
    "<b>Комментарий студента:</b> Понял, спасибо. В задании такая логика не прослеживается, вот и возникли непонятки.\n",
    "</div>"
   ]
  },
  {
   "cell_type": "markdown",
   "metadata": {},
   "source": [
    "Все три региона на первый взгляд обладают <b>НЕ</b>достаточным количеством запасов нефти для обеспечения безубыточной разработки месторождений. Поэтому нужно проводить анализ с использованием машинного обучения."
   ]
  },
  {
   "cell_type": "markdown",
   "metadata": {},
   "source": [
    "## Расчёт прибыли и рисков "
   ]
  },
  {
   "cell_type": "markdown",
   "metadata": {},
   "source": [
    "Для расчета экономических перспектив разработки месторождений в регионах напишем функции расчета прибыли, 95% доверительного интервала для средней прибыли и вероятности понесения убытков."
   ]
  },
  {
   "cell_type": "code",
   "execution_count": 39,
   "metadata": {},
   "outputs": [],
   "source": [
    "def profit(sample):\n",
    "    \"\"\"Функция расчета прибыли от добычи нефти по предсказаниям модели\"\"\"\n",
    "    return (sample.sum() * PRODUCT_PRICE - BUDGET)"
   ]
  },
  {
   "cell_type": "markdown",
   "metadata": {},
   "source": [
    "<div class=\"alert alert-block alert-danger\">\n",
    "<b>Ошибка:</b> Для выбора 200 лучших скважин нужно использовать предсказанные значения. А вот для подсчета прибыли должны использоваться настоящие значения соответствующих ячеек.\n",
    "</div>"
   ]
  },
  {
   "cell_type": "markdown",
   "metadata": {},
   "source": [
    "<div class=\"alert alert-block alert-warning\">\n",
    "<b>Изменения:</b> Поправил.\n",
    "</div>"
   ]
  },
  {
   "cell_type": "markdown",
   "metadata": {},
   "source": [
    "<div class=\"alert alert-block alert-danger\">\n",
    "<b>Ошибка (ревью 2):</b> Не совсем. Теперь ты выбираешь топ-200 по реальным и считаешь прибыль по реальным, а нужно выбрать топ-200 по предсказанным и посчитать прибыль по их реальным значениями.\n",
    "</div>"
   ]
  },
  {
   "cell_type": "markdown",
   "metadata": {},
   "source": [
    "<div class=\"alert alert-block alert-warning\">\n",
    "<b>Изменения:</b> Теперь вроде бы правильно, беру топ-200 предсказаний, по их индексам отбираю истинные значения (индексы точек совпадают), по ним уже считается прибыль.\n",
    "</div>"
   ]
  },
  {
   "cell_type": "code",
   "execution_count": 40,
   "metadata": {},
   "outputs": [],
   "source": [
    "state = RandomState(12345)\n",
    "def bootstrap(predicted, true_product, count):\n",
    "    \"\"\"Функция расчета средней прибыли с 95% доверительным интервалом и вероятности убытков с помощью техники bootstrap\"\"\"\n",
    "    values = []\n",
    "    true_product = pd.Series(true_product).reset_index(drop=True)\n",
    "    for i in range(1000):\n",
    "        predicted_subsample = pd.Series(predicted).sample(\n",
    "            n=500, replace=True, random_state=state).sort_values(ascending=False).head(count)\n",
    "        true_subsample = true_product[predicted_subsample.index]\n",
    "        values.append(profit(true_subsample))\n",
    "    values = pd.Series(values)\n",
    "    mean = values.mean()\n",
    "    lower = values.quantile(0.025)\n",
    "    upper = values.quantile(0.975)\n",
    "    print(\"Средняя прибыль, млн.руб.:\", mean / 1000000)\n",
    "    print(\"95% доверительный интервал средней прибыли, млн.руб.: от\", lower / 1000000, \"до\", upper / 1000000)\n",
    "    print(\"Вероятность убытков:\", (values < 0).mean())"
   ]
  },
  {
   "cell_type": "markdown",
   "metadata": {},
   "source": [
    "<div class=\"alert alert-block alert-success\">\n",
    "<b>Успех:</b> Отлично, что для нахождения доверительного интервала использовался метод квантилей!\n",
    "</div>\n",
    "\n",
    "<div class=\"alert alert-block alert-info\">\n",
    "\n",
    "<b>Совет: </b> Риск можно было найти чуть проще: `(values < 0).mean()`, если объект типа pandas Series или numpy array.\n",
    "</div>"
   ]
  },
  {
   "cell_type": "code",
   "execution_count": 41,
   "metadata": {},
   "outputs": [
    {
     "name": "stdout",
     "output_type": "stream",
     "text": [
      "Средняя прибыль, млн.руб.: 396.16498480237107\n",
      "95% доверительный интервал средней прибыли, млн.руб.: от -111.21554589049525 до 909.7669415534225\n",
      "Вероятность убытков: 0.069\n"
     ]
    }
   ],
   "source": [
    "bootstrap(predict_0, test_target_0, 200)"
   ]
  },
  {
   "cell_type": "code",
   "execution_count": 42,
   "metadata": {},
   "outputs": [
    {
     "name": "stdout",
     "output_type": "stream",
     "text": [
      "Средняя прибыль, млн.руб.: 461.15581727723975\n",
      "95% доверительный интервал средней прибыли, млн.руб.: от 78.05081075174171 до 862.9520602637235\n",
      "Вероятность убытков: 0.007\n"
     ]
    }
   ],
   "source": [
    "bootstrap(predict_1, test_target_1, 200)"
   ]
  },
  {
   "cell_type": "code",
   "execution_count": 43,
   "metadata": {},
   "outputs": [
    {
     "name": "stdout",
     "output_type": "stream",
     "text": [
      "Средняя прибыль, млн.руб.: 392.9504751706045\n",
      "95% доверительный интервал средней прибыли, млн.руб.: от -112.22762537857565 до 934.5629145511635\n",
      "Вероятность убытков: 0.065\n"
     ]
    }
   ],
   "source": [
    "bootstrap(predict_2, test_target_2, 200)"
   ]
  },
  {
   "cell_type": "markdown",
   "metadata": {},
   "source": [
    "На основании проведенных расчетов можно выделить регион №1 (отсчет с 0) как наиболее перспективный по совокупности величины предсказанной средней прибыли и вероятности убытков."
   ]
  },
  {
   "cell_type": "markdown",
   "metadata": {},
   "source": [
    "## Чек-лист готовности проекта"
   ]
  },
  {
   "cell_type": "markdown",
   "metadata": {},
   "source": [
    "Поставьте 'x' в выполненных пунктах. Далее нажмите Shift+Enter."
   ]
  },
  {
   "cell_type": "markdown",
   "metadata": {},
   "source": [
    "- [x]  Jupyter Notebook открыт\n",
    "- [x]  Весь код выполняется без ошибок\n",
    "- [x]  Ячейки с кодом расположены в порядке исполнения\n",
    "- [x]  Выполнен шаг 1: данные подготовлены\n",
    "- [x]  Выполнен шаг 2: модели обучены и проверены\n",
    "    - [x]  Данные корректно разбиты на обучающую и валидационную выборки\n",
    "    - [x]  Модели обучены, предсказания сделаны\n",
    "    - [x]  Предсказания и правильные ответы на валидационной выборке сохранены\n",
    "    - [x]  На экране напечатаны результаты\n",
    "    - [x]  Сделаны выводы\n",
    "- [x]  Выполнен шаг 3: проведена подготовка к расчёту прибыли\n",
    "    - [x]  Для всех ключевых значений созданы константы Python\n",
    "    - [x]  Посчитано минимальное среднее количество продукта в месторождениях региона, достаточное для разработки\n",
    "    - [x]  По предыдущему пункту сделаны выводы\n",
    "    - [x]  Написана функция расчёта прибыли\n",
    "- [x]  Выполнен шаг 4: посчитаны риски и прибыль\n",
    "    - [x]  Проведена процедура *Bootstrap*\n",
    "    - [x]  Все параметры бутстрепа соответствуют условию\n",
    "    - [x]  Найдены все нужные величины\n",
    "    - [x]  Предложен регион для разработки месторождения\n",
    "    - [x]  Выбор региона обоснован"
   ]
  },
  {
   "cell_type": "code",
   "execution_count": null,
   "metadata": {},
   "outputs": [],
   "source": []
  }
 ],
 "metadata": {
  "ExecuteTimeLog": [
   {
    "duration": 545,
    "start_time": "2022-01-18T12:46:29.837Z"
   },
   {
    "duration": 742,
    "start_time": "2022-01-18T12:46:54.737Z"
   },
   {
    "duration": 481,
    "start_time": "2022-01-18T12:47:34.203Z"
   },
   {
    "duration": 3,
    "start_time": "2022-01-18T12:56:10.214Z"
   },
   {
    "duration": 393,
    "start_time": "2022-01-18T12:56:11.255Z"
   },
   {
    "duration": 12,
    "start_time": "2022-01-18T12:56:12.334Z"
   },
   {
    "duration": 10,
    "start_time": "2022-01-18T12:56:33.852Z"
   },
   {
    "duration": 10,
    "start_time": "2022-01-18T12:56:46.450Z"
   },
   {
    "duration": 14,
    "start_time": "2022-01-18T12:57:11.148Z"
   },
   {
    "duration": 458,
    "start_time": "2022-01-18T13:16:10.561Z"
   },
   {
    "duration": 9,
    "start_time": "2022-01-18T13:16:20.524Z"
   },
   {
    "duration": 12,
    "start_time": "2022-01-18T13:16:24.892Z"
   },
   {
    "duration": 6,
    "start_time": "2022-01-18T13:19:21.255Z"
   },
   {
    "duration": 8,
    "start_time": "2022-01-18T13:19:46.039Z"
   },
   {
    "duration": 7,
    "start_time": "2022-01-18T13:20:56.156Z"
   },
   {
    "duration": 8,
    "start_time": "2022-01-18T13:21:11.989Z"
   },
   {
    "duration": 3,
    "start_time": "2022-01-18T13:22:00.441Z"
   },
   {
    "duration": 185,
    "start_time": "2022-01-18T13:22:04.976Z"
   },
   {
    "duration": 199,
    "start_time": "2022-01-18T13:23:15.319Z"
   },
   {
    "duration": 6,
    "start_time": "2022-01-18T13:23:45.784Z"
   },
   {
    "duration": 8,
    "start_time": "2022-01-18T13:23:55.882Z"
   },
   {
    "duration": 5,
    "start_time": "2022-01-18T13:24:01.149Z"
   },
   {
    "duration": 14,
    "start_time": "2022-01-18T13:24:05.483Z"
   },
   {
    "duration": 3,
    "start_time": "2022-01-18T13:31:04.456Z"
   },
   {
    "duration": 383,
    "start_time": "2022-01-18T13:31:08.705Z"
   },
   {
    "duration": 10,
    "start_time": "2022-01-18T13:31:09.711Z"
   },
   {
    "duration": 10,
    "start_time": "2022-01-18T13:31:10.334Z"
   },
   {
    "duration": 11,
    "start_time": "2022-01-18T13:31:11.127Z"
   },
   {
    "duration": 9,
    "start_time": "2022-01-18T13:31:11.802Z"
   },
   {
    "duration": 6,
    "start_time": "2022-01-18T13:31:12.481Z"
   },
   {
    "duration": 5,
    "start_time": "2022-01-18T13:31:13.514Z"
   },
   {
    "duration": 6,
    "start_time": "2022-01-18T13:31:14.229Z"
   },
   {
    "duration": 3,
    "start_time": "2022-01-18T13:32:18.406Z"
   },
   {
    "duration": 178,
    "start_time": "2022-01-18T13:32:24.459Z"
   },
   {
    "duration": 20,
    "start_time": "2022-01-18T13:32:38.260Z"
   },
   {
    "duration": 12,
    "start_time": "2022-01-18T13:32:41.357Z"
   },
   {
    "duration": 10,
    "start_time": "2022-01-18T13:34:54.898Z"
   },
   {
    "duration": 4,
    "start_time": "2022-01-18T14:43:04.693Z"
   },
   {
    "duration": 2,
    "start_time": "2022-01-18T14:43:46.079Z"
   },
   {
    "duration": 178,
    "start_time": "2022-01-18T14:44:28.779Z"
   },
   {
    "duration": 4,
    "start_time": "2022-01-18T14:44:51.146Z"
   },
   {
    "duration": 4,
    "start_time": "2022-01-18T14:45:00.726Z"
   },
   {
    "duration": 4,
    "start_time": "2022-01-18T14:46:29.637Z"
   },
   {
    "duration": 13,
    "start_time": "2022-01-18T14:49:00.872Z"
   },
   {
    "duration": 14,
    "start_time": "2022-01-18T14:49:15.798Z"
   },
   {
    "duration": 13,
    "start_time": "2022-01-18T14:49:35.446Z"
   },
   {
    "duration": 9,
    "start_time": "2022-01-18T14:49:47.654Z"
   },
   {
    "duration": 8,
    "start_time": "2022-01-18T14:49:53.677Z"
   },
   {
    "duration": 3,
    "start_time": "2022-01-18T14:49:57.279Z"
   },
   {
    "duration": 4,
    "start_time": "2022-01-18T14:49:58.211Z"
   },
   {
    "duration": 13,
    "start_time": "2022-01-18T14:50:19.517Z"
   },
   {
    "duration": 12,
    "start_time": "2022-01-18T14:50:31.436Z"
   },
   {
    "duration": 13,
    "start_time": "2022-01-18T14:50:38.451Z"
   },
   {
    "duration": 4,
    "start_time": "2022-01-18T14:50:44.906Z"
   },
   {
    "duration": 4,
    "start_time": "2022-01-18T14:50:45.893Z"
   },
   {
    "duration": 178,
    "start_time": "2022-01-18T14:51:49.163Z"
   },
   {
    "duration": 475,
    "start_time": "2022-01-18T14:51:49.594Z"
   },
   {
    "duration": 5,
    "start_time": "2022-01-18T14:52:25.293Z"
   },
   {
    "duration": 16,
    "start_time": "2022-01-18T14:52:34.588Z"
   },
   {
    "duration": 12,
    "start_time": "2022-01-18T14:52:36.067Z"
   },
   {
    "duration": 21,
    "start_time": "2022-01-18T14:52:37.594Z"
   },
   {
    "duration": 3,
    "start_time": "2022-01-18T14:52:38.843Z"
   },
   {
    "duration": 4,
    "start_time": "2022-01-18T14:52:39.764Z"
   },
   {
    "duration": 4,
    "start_time": "2022-01-18T14:55:50.446Z"
   },
   {
    "duration": 5,
    "start_time": "2022-01-18T14:56:04.259Z"
   },
   {
    "duration": 5,
    "start_time": "2022-01-18T14:56:31.969Z"
   },
   {
    "duration": 5,
    "start_time": "2022-01-18T14:56:47.690Z"
   },
   {
    "duration": 5,
    "start_time": "2022-01-18T14:57:08.373Z"
   },
   {
    "duration": 5,
    "start_time": "2022-01-18T14:57:30.348Z"
   },
   {
    "duration": 1347,
    "start_time": "2022-01-19T05:37:02.198Z"
   },
   {
    "duration": 462,
    "start_time": "2022-01-19T05:37:03.547Z"
   },
   {
    "duration": 23,
    "start_time": "2022-01-19T05:37:04.012Z"
   },
   {
    "duration": 22,
    "start_time": "2022-01-19T05:37:04.038Z"
   },
   {
    "duration": 13,
    "start_time": "2022-01-19T05:37:04.062Z"
   },
   {
    "duration": 22,
    "start_time": "2022-01-19T05:37:04.077Z"
   },
   {
    "duration": 32,
    "start_time": "2022-01-19T05:37:04.101Z"
   },
   {
    "duration": 19,
    "start_time": "2022-01-19T05:37:04.137Z"
   },
   {
    "duration": 15,
    "start_time": "2022-01-19T05:37:04.159Z"
   },
   {
    "duration": 9,
    "start_time": "2022-01-19T05:37:04.176Z"
   },
   {
    "duration": 20,
    "start_time": "2022-01-19T05:37:04.188Z"
   },
   {
    "duration": 34,
    "start_time": "2022-01-19T05:37:04.211Z"
   },
   {
    "duration": 9,
    "start_time": "2022-01-19T05:37:04.248Z"
   },
   {
    "duration": 172,
    "start_time": "2022-01-19T05:37:04.260Z"
   },
   {
    "duration": 5,
    "start_time": "2022-01-19T05:37:04.435Z"
   },
   {
    "duration": 8,
    "start_time": "2022-01-19T05:37:04.443Z"
   },
   {
    "duration": 18,
    "start_time": "2022-01-19T05:37:04.453Z"
   },
   {
    "duration": 15,
    "start_time": "2022-01-19T05:37:04.473Z"
   },
   {
    "duration": 44,
    "start_time": "2022-01-19T05:37:04.490Z"
   },
   {
    "duration": 98,
    "start_time": "2022-01-19T05:37:04.537Z"
   },
   {
    "duration": 97,
    "start_time": "2022-01-19T05:37:04.638Z"
   },
   {
    "duration": 9,
    "start_time": "2022-01-19T05:37:04.737Z"
   },
   {
    "duration": 18,
    "start_time": "2022-01-19T05:37:04.750Z"
   },
   {
    "duration": 15,
    "start_time": "2022-01-19T05:37:04.770Z"
   },
   {
    "duration": 46,
    "start_time": "2022-01-19T05:37:04.787Z"
   },
   {
    "duration": 102,
    "start_time": "2022-01-19T05:37:04.836Z"
   },
   {
    "duration": 12,
    "start_time": "2022-01-19T05:37:04.940Z"
   },
   {
    "duration": 8,
    "start_time": "2022-01-19T05:37:04.956Z"
   },
   {
    "duration": 229,
    "start_time": "2022-01-19T12:45:19.144Z"
   },
   {
    "duration": 920,
    "start_time": "2022-01-19T12:45:28.178Z"
   },
   {
    "duration": 311,
    "start_time": "2022-01-19T12:45:29.100Z"
   },
   {
    "duration": 10,
    "start_time": "2022-01-19T12:45:29.413Z"
   },
   {
    "duration": 18,
    "start_time": "2022-01-19T12:45:29.424Z"
   },
   {
    "duration": 9,
    "start_time": "2022-01-19T12:45:29.443Z"
   },
   {
    "duration": 8,
    "start_time": "2022-01-19T12:45:29.453Z"
   },
   {
    "duration": 7,
    "start_time": "2022-01-19T12:45:29.463Z"
   },
   {
    "duration": 6,
    "start_time": "2022-01-19T12:45:29.471Z"
   },
   {
    "duration": 7,
    "start_time": "2022-01-19T12:45:29.511Z"
   },
   {
    "duration": 7,
    "start_time": "2022-01-19T12:45:29.519Z"
   },
   {
    "duration": 12,
    "start_time": "2022-01-19T12:45:29.527Z"
   },
   {
    "duration": 16,
    "start_time": "2022-01-19T12:45:29.540Z"
   },
   {
    "duration": 10,
    "start_time": "2022-01-19T12:45:29.558Z"
   },
   {
    "duration": 4,
    "start_time": "2022-01-19T12:45:29.570Z"
   },
   {
    "duration": 4,
    "start_time": "2022-01-19T12:45:29.612Z"
   },
   {
    "duration": 95,
    "start_time": "2022-01-19T12:45:29.618Z"
   },
   {
    "duration": 4,
    "start_time": "2022-01-19T12:45:29.714Z"
   },
   {
    "duration": 14,
    "start_time": "2022-01-19T12:45:29.719Z"
   },
   {
    "duration": 9,
    "start_time": "2022-01-19T12:45:29.734Z"
   },
   {
    "duration": 3,
    "start_time": "2022-01-19T12:45:29.745Z"
   },
   {
    "duration": 64,
    "start_time": "2022-01-19T12:45:29.750Z"
   },
   {
    "duration": 7,
    "start_time": "2022-01-19T12:45:29.816Z"
   },
   {
    "duration": 88,
    "start_time": "2022-01-19T12:45:29.825Z"
   },
   {
    "duration": 13,
    "start_time": "2022-01-19T12:45:29.914Z"
   },
   {
    "duration": 10,
    "start_time": "2022-01-19T12:45:29.928Z"
   },
   {
    "duration": 2,
    "start_time": "2022-01-19T12:45:29.940Z"
   },
   {
    "duration": 69,
    "start_time": "2022-01-19T12:45:29.945Z"
   },
   {
    "duration": 8,
    "start_time": "2022-01-19T12:45:30.017Z"
   },
   {
    "duration": 90,
    "start_time": "2022-01-19T12:45:30.027Z"
   },
   {
    "duration": 217,
    "start_time": "2022-01-19T12:46:01.982Z"
   },
   {
    "duration": 12,
    "start_time": "2022-01-19T12:46:07.461Z"
   },
   {
    "duration": 11,
    "start_time": "2022-01-19T12:46:40.060Z"
   },
   {
    "duration": 275,
    "start_time": "2022-01-19T12:47:40.025Z"
   },
   {
    "duration": 201,
    "start_time": "2022-01-19T12:47:49.040Z"
   },
   {
    "duration": 228,
    "start_time": "2022-01-19T12:48:11.930Z"
   },
   {
    "duration": 177,
    "start_time": "2022-01-19T12:48:49.749Z"
   },
   {
    "duration": 178,
    "start_time": "2022-01-19T12:49:16.041Z"
   },
   {
    "duration": 170,
    "start_time": "2022-01-19T12:49:42.698Z"
   },
   {
    "duration": 9,
    "start_time": "2022-01-19T12:50:15.349Z"
   },
   {
    "duration": 9,
    "start_time": "2022-01-19T12:50:44.382Z"
   },
   {
    "duration": 2,
    "start_time": "2022-01-19T13:40:21.281Z"
   },
   {
    "duration": 2,
    "start_time": "2022-01-19T13:41:16.684Z"
   },
   {
    "duration": 4,
    "start_time": "2022-01-19T14:29:02.837Z"
   },
   {
    "duration": 4,
    "start_time": "2022-01-19T14:32:46.032Z"
   },
   {
    "duration": 5,
    "start_time": "2022-01-19T14:33:08.484Z"
   },
   {
    "duration": 5,
    "start_time": "2022-01-19T14:33:11.694Z"
   },
   {
    "duration": 9,
    "start_time": "2022-01-19T14:34:20.538Z"
   },
   {
    "duration": 11,
    "start_time": "2022-01-19T14:34:35.316Z"
   },
   {
    "duration": 11,
    "start_time": "2022-01-19T14:34:44.018Z"
   },
   {
    "duration": 3,
    "start_time": "2022-01-19T14:37:12.913Z"
   },
   {
    "duration": 4,
    "start_time": "2022-01-19T14:37:41.429Z"
   },
   {
    "duration": 5,
    "start_time": "2022-01-19T14:37:43.317Z"
   },
   {
    "duration": 4,
    "start_time": "2022-01-19T14:37:45.150Z"
   },
   {
    "duration": 5,
    "start_time": "2022-01-19T14:43:50.065Z"
   },
   {
    "duration": 5,
    "start_time": "2022-01-19T14:43:59.697Z"
   },
   {
    "duration": 5,
    "start_time": "2022-01-19T14:44:11.818Z"
   },
   {
    "duration": 3,
    "start_time": "2022-01-19T15:01:42.876Z"
   },
   {
    "duration": 3,
    "start_time": "2022-01-19T15:04:44.037Z"
   },
   {
    "duration": 1363,
    "start_time": "2022-01-20T11:57:45.325Z"
   },
   {
    "duration": 1303,
    "start_time": "2022-01-20T11:57:46.690Z"
   },
   {
    "duration": 15,
    "start_time": "2022-01-20T11:57:47.999Z"
   },
   {
    "duration": 13,
    "start_time": "2022-01-20T11:57:48.017Z"
   },
   {
    "duration": 40,
    "start_time": "2022-01-20T11:57:48.032Z"
   },
   {
    "duration": 27,
    "start_time": "2022-01-20T11:57:48.074Z"
   },
   {
    "duration": 449,
    "start_time": "2022-01-20T11:57:48.105Z"
   },
   {
    "duration": 25,
    "start_time": "2022-01-20T11:57:48.557Z"
   },
   {
    "duration": 334,
    "start_time": "2022-01-20T11:57:48.585Z"
   },
   {
    "duration": 16,
    "start_time": "2022-01-20T11:57:48.921Z"
   },
   {
    "duration": 347,
    "start_time": "2022-01-20T11:57:48.940Z"
   },
   {
    "duration": 13,
    "start_time": "2022-01-20T11:57:49.290Z"
   },
   {
    "duration": 13,
    "start_time": "2022-01-20T11:57:49.306Z"
   },
   {
    "duration": 17,
    "start_time": "2022-01-20T11:57:49.322Z"
   },
   {
    "duration": 34,
    "start_time": "2022-01-20T11:57:49.342Z"
   },
   {
    "duration": 12,
    "start_time": "2022-01-20T11:57:49.379Z"
   },
   {
    "duration": 29,
    "start_time": "2022-01-20T11:57:49.394Z"
   },
   {
    "duration": 48,
    "start_time": "2022-01-20T11:57:49.426Z"
   },
   {
    "duration": 6,
    "start_time": "2022-01-20T11:57:49.477Z"
   },
   {
    "duration": 89,
    "start_time": "2022-01-20T11:57:49.490Z"
   },
   {
    "duration": 91,
    "start_time": "2022-01-20T11:57:49.582Z"
   },
   {
    "duration": 7,
    "start_time": "2022-01-20T11:57:49.678Z"
   },
   {
    "duration": 20,
    "start_time": "2022-01-20T11:57:49.687Z"
   },
   {
    "duration": 16,
    "start_time": "2022-01-20T11:57:49.709Z"
   },
   {
    "duration": 47,
    "start_time": "2022-01-20T11:57:49.727Z"
   },
   {
    "duration": 200,
    "start_time": "2022-01-20T11:57:49.777Z"
   },
   {
    "duration": 6,
    "start_time": "2022-01-20T11:57:49.979Z"
   },
   {
    "duration": 8,
    "start_time": "2022-01-20T11:57:49.987Z"
   },
   {
    "duration": 18,
    "start_time": "2022-01-20T11:57:49.997Z"
   },
   {
    "duration": 16,
    "start_time": "2022-01-20T11:57:50.018Z"
   },
   {
    "duration": 6,
    "start_time": "2022-01-20T11:57:50.069Z"
   },
   {
    "duration": 94,
    "start_time": "2022-01-20T11:57:50.078Z"
   },
   {
    "duration": 96,
    "start_time": "2022-01-20T11:57:50.176Z"
   },
   {
    "duration": 9,
    "start_time": "2022-01-20T11:57:50.275Z"
   },
   {
    "duration": 11,
    "start_time": "2022-01-20T11:57:50.287Z"
   },
   {
    "duration": 14,
    "start_time": "2022-01-20T11:57:50.301Z"
   },
   {
    "duration": 20,
    "start_time": "2022-01-20T11:57:50.317Z"
   },
   {
    "duration": 7,
    "start_time": "2022-01-20T11:57:50.339Z"
   },
   {
    "duration": 21,
    "start_time": "2022-01-20T11:57:50.349Z"
   },
   {
    "duration": 5,
    "start_time": "2022-01-20T11:57:50.373Z"
   },
   {
    "duration": 11,
    "start_time": "2022-01-20T11:57:50.381Z"
   },
   {
    "duration": 11,
    "start_time": "2022-01-20T11:57:50.395Z"
   },
   {
    "duration": 11,
    "start_time": "2022-01-20T11:57:50.408Z"
   },
   {
    "duration": 4,
    "start_time": "2022-01-20T11:57:50.470Z"
   },
   {
    "duration": 14,
    "start_time": "2022-01-20T11:57:50.476Z"
   },
   {
    "duration": 595,
    "start_time": "2022-01-20T11:59:29.973Z"
   },
   {
    "duration": 516,
    "start_time": "2022-01-20T11:59:47.419Z"
   },
   {
    "duration": 10,
    "start_time": "2022-01-20T12:00:10.111Z"
   },
   {
    "duration": 1529,
    "start_time": "2022-01-20T12:00:11.410Z"
   },
   {
    "duration": 1454,
    "start_time": "2022-01-20T12:00:32.069Z"
   },
   {
    "duration": 1434,
    "start_time": "2022-01-20T12:00:44.007Z"
   },
   {
    "duration": 7,
    "start_time": "2022-01-20T12:08:39.785Z"
   },
   {
    "duration": 1452,
    "start_time": "2022-01-20T12:08:41.571Z"
   },
   {
    "duration": 1444,
    "start_time": "2022-01-20T12:08:45.945Z"
   },
   {
    "duration": 1517,
    "start_time": "2022-01-20T12:08:50.655Z"
   },
   {
    "duration": 7,
    "start_time": "2022-01-20T12:11:42.171Z"
   },
   {
    "duration": 1520,
    "start_time": "2022-01-20T12:11:42.853Z"
   },
   {
    "duration": 1519,
    "start_time": "2022-01-20T12:11:45.986Z"
   },
   {
    "duration": 1890,
    "start_time": "2022-01-20T12:11:49.338Z"
   },
   {
    "duration": 7,
    "start_time": "2022-01-20T12:14:47.368Z"
   },
   {
    "duration": 1985,
    "start_time": "2022-01-20T12:14:49.128Z"
   },
   {
    "duration": 7,
    "start_time": "2022-01-20T12:15:11.226Z"
   },
   {
    "duration": 5366,
    "start_time": "2022-01-20T12:15:12.930Z"
   },
   {
    "duration": 1339,
    "start_time": "2022-01-20T14:04:27.888Z"
   },
   {
    "duration": 1286,
    "start_time": "2022-01-20T14:04:29.230Z"
   },
   {
    "duration": 14,
    "start_time": "2022-01-20T14:04:30.519Z"
   },
   {
    "duration": 24,
    "start_time": "2022-01-20T14:04:30.536Z"
   },
   {
    "duration": 12,
    "start_time": "2022-01-20T14:04:30.563Z"
   },
   {
    "duration": 28,
    "start_time": "2022-01-20T14:04:30.578Z"
   },
   {
    "duration": 426,
    "start_time": "2022-01-20T14:04:30.624Z"
   },
   {
    "duration": 18,
    "start_time": "2022-01-20T14:04:31.054Z"
   },
   {
    "duration": 324,
    "start_time": "2022-01-20T14:04:31.076Z"
   },
   {
    "duration": 24,
    "start_time": "2022-01-20T14:04:31.402Z"
   },
   {
    "duration": 302,
    "start_time": "2022-01-20T14:04:31.428Z"
   },
   {
    "duration": 16,
    "start_time": "2022-01-20T14:04:31.733Z"
   },
   {
    "duration": 13,
    "start_time": "2022-01-20T14:04:31.751Z"
   },
   {
    "duration": 11,
    "start_time": "2022-01-20T14:04:31.767Z"
   },
   {
    "duration": 47,
    "start_time": "2022-01-20T14:04:31.781Z"
   },
   {
    "duration": 4,
    "start_time": "2022-01-20T14:04:31.831Z"
   },
   {
    "duration": 23,
    "start_time": "2022-01-20T14:04:31.838Z"
   },
   {
    "duration": 17,
    "start_time": "2022-01-20T14:04:31.863Z"
   },
   {
    "duration": 143,
    "start_time": "2022-01-20T14:04:31.882Z"
   },
   {
    "duration": 5,
    "start_time": "2022-01-20T14:04:32.028Z"
   },
   {
    "duration": 8,
    "start_time": "2022-01-20T14:04:32.036Z"
   },
   {
    "duration": 7,
    "start_time": "2022-01-20T14:04:32.047Z"
   },
   {
    "duration": 18,
    "start_time": "2022-01-20T14:04:32.124Z"
   },
   {
    "duration": 16,
    "start_time": "2022-01-20T14:04:32.144Z"
   },
   {
    "duration": 62,
    "start_time": "2022-01-20T14:04:32.162Z"
   },
   {
    "duration": 5,
    "start_time": "2022-01-20T14:04:32.227Z"
   },
   {
    "duration": 10,
    "start_time": "2022-01-20T14:04:32.324Z"
   },
   {
    "duration": 10,
    "start_time": "2022-01-20T14:04:32.336Z"
   },
   {
    "duration": 79,
    "start_time": "2022-01-20T14:04:32.349Z"
   },
   {
    "duration": 15,
    "start_time": "2022-01-20T14:04:32.430Z"
   },
   {
    "duration": 13,
    "start_time": "2022-01-20T14:04:32.447Z"
   },
   {
    "duration": 101,
    "start_time": "2022-01-20T14:04:32.524Z"
   },
   {
    "duration": 10,
    "start_time": "2022-01-20T14:04:32.628Z"
   },
   {
    "duration": 7,
    "start_time": "2022-01-20T14:04:32.641Z"
   },
   {
    "duration": 4,
    "start_time": "2022-01-20T14:04:32.651Z"
   },
   {
    "duration": 8,
    "start_time": "2022-01-20T14:04:32.658Z"
   },
   {
    "duration": 5,
    "start_time": "2022-01-20T14:04:32.669Z"
   },
   {
    "duration": 7,
    "start_time": "2022-01-20T14:04:32.724Z"
   },
   {
    "duration": 7,
    "start_time": "2022-01-20T14:04:32.733Z"
   },
   {
    "duration": 6,
    "start_time": "2022-01-20T14:04:32.742Z"
   },
   {
    "duration": 10,
    "start_time": "2022-01-20T14:04:32.750Z"
   },
   {
    "duration": 9,
    "start_time": "2022-01-20T14:04:32.762Z"
   },
   {
    "duration": 55,
    "start_time": "2022-01-20T14:04:32.773Z"
   },
   {
    "duration": 4,
    "start_time": "2022-01-20T14:04:32.830Z"
   },
   {
    "duration": 7,
    "start_time": "2022-01-20T14:04:32.836Z"
   },
   {
    "duration": 1404,
    "start_time": "2022-01-20T14:04:32.845Z"
   },
   {
    "duration": 1373,
    "start_time": "2022-01-20T14:04:34.251Z"
   },
   {
    "duration": 1441,
    "start_time": "2022-01-20T14:04:35.626Z"
   },
   {
    "duration": 7,
    "start_time": "2022-01-20T14:05:57.975Z"
   },
   {
    "duration": 1335,
    "start_time": "2022-01-20T14:05:58.879Z"
   },
   {
    "duration": 1465,
    "start_time": "2022-01-20T14:06:01.787Z"
   },
   {
    "duration": 1347,
    "start_time": "2022-01-20T14:06:04.688Z"
   },
   {
    "duration": 8,
    "start_time": "2022-01-20T14:08:07.307Z"
   },
   {
    "duration": 1452,
    "start_time": "2022-01-20T14:08:08.141Z"
   },
   {
    "duration": 1396,
    "start_time": "2022-01-20T14:08:11.335Z"
   },
   {
    "duration": 1389,
    "start_time": "2022-01-20T14:08:14.507Z"
   },
   {
    "duration": 7,
    "start_time": "2022-01-20T14:11:44.895Z"
   },
   {
    "duration": 1433,
    "start_time": "2022-01-20T14:11:45.920Z"
   },
   {
    "duration": 1463,
    "start_time": "2022-01-20T14:11:53.972Z"
   },
   {
    "duration": 1428,
    "start_time": "2022-01-20T14:11:57.375Z"
   },
   {
    "duration": 107,
    "start_time": "2022-01-20T14:26:36.040Z"
   },
   {
    "duration": 14,
    "start_time": "2022-01-20T14:38:56.889Z"
   },
   {
    "duration": 11,
    "start_time": "2022-01-20T14:42:43.437Z"
   },
   {
    "duration": 11,
    "start_time": "2022-01-20T14:42:48.214Z"
   },
   {
    "duration": 1334,
    "start_time": "2022-01-20T14:56:55.384Z"
   },
   {
    "duration": 440,
    "start_time": "2022-01-20T14:56:56.721Z"
   },
   {
    "duration": 16,
    "start_time": "2022-01-20T14:56:57.165Z"
   },
   {
    "duration": 14,
    "start_time": "2022-01-20T14:56:57.184Z"
   },
   {
    "duration": 13,
    "start_time": "2022-01-20T14:56:57.224Z"
   },
   {
    "duration": 28,
    "start_time": "2022-01-20T14:56:57.239Z"
   },
   {
    "duration": 438,
    "start_time": "2022-01-20T14:56:57.270Z"
   },
   {
    "duration": 24,
    "start_time": "2022-01-20T14:56:57.714Z"
   },
   {
    "duration": 321,
    "start_time": "2022-01-20T14:56:57.741Z"
   },
   {
    "duration": 16,
    "start_time": "2022-01-20T14:56:58.064Z"
   },
   {
    "duration": 340,
    "start_time": "2022-01-20T14:56:58.083Z"
   },
   {
    "duration": 12,
    "start_time": "2022-01-20T14:56:58.425Z"
   },
   {
    "duration": 18,
    "start_time": "2022-01-20T14:56:58.440Z"
   },
   {
    "duration": 10,
    "start_time": "2022-01-20T14:56:58.460Z"
   },
   {
    "duration": 31,
    "start_time": "2022-01-20T14:56:58.473Z"
   },
   {
    "duration": 31,
    "start_time": "2022-01-20T14:56:58.508Z"
   },
   {
    "duration": 28,
    "start_time": "2022-01-20T14:56:58.541Z"
   },
   {
    "duration": 58,
    "start_time": "2022-01-20T14:56:58.571Z"
   },
   {
    "duration": 91,
    "start_time": "2022-01-20T14:56:58.634Z"
   },
   {
    "duration": 14,
    "start_time": "2022-01-20T14:56:58.728Z"
   },
   {
    "duration": 6,
    "start_time": "2022-01-20T14:56:58.744Z"
   },
   {
    "duration": 21,
    "start_time": "2022-01-20T14:56:58.752Z"
   },
   {
    "duration": 15,
    "start_time": "2022-01-20T14:56:58.778Z"
   },
   {
    "duration": 16,
    "start_time": "2022-01-20T14:56:58.824Z"
   },
   {
    "duration": 83,
    "start_time": "2022-01-20T14:56:58.842Z"
   },
   {
    "duration": 99,
    "start_time": "2022-01-20T14:56:58.927Z"
   },
   {
    "duration": 7,
    "start_time": "2022-01-20T14:56:59.029Z"
   },
   {
    "duration": 20,
    "start_time": "2022-01-20T14:56:59.039Z"
   },
   {
    "duration": 15,
    "start_time": "2022-01-20T14:56:59.061Z"
   },
   {
    "duration": 53,
    "start_time": "2022-01-20T14:56:59.078Z"
   },
   {
    "duration": 90,
    "start_time": "2022-01-20T14:56:59.134Z"
   },
   {
    "duration": 6,
    "start_time": "2022-01-20T14:56:59.226Z"
   },
   {
    "duration": 9,
    "start_time": "2022-01-20T14:56:59.234Z"
   },
   {
    "duration": 3,
    "start_time": "2022-01-20T14:56:59.246Z"
   },
   {
    "duration": 17,
    "start_time": "2022-01-20T14:56:59.251Z"
   },
   {
    "duration": 16,
    "start_time": "2022-01-20T14:56:59.271Z"
   },
   {
    "duration": 41,
    "start_time": "2022-01-20T14:56:59.290Z"
   },
   {
    "duration": 24,
    "start_time": "2022-01-20T14:56:59.333Z"
   },
   {
    "duration": 14,
    "start_time": "2022-01-20T14:56:59.360Z"
   },
   {
    "duration": 12,
    "start_time": "2022-01-20T14:56:59.376Z"
   },
   {
    "duration": 1411,
    "start_time": "2022-01-20T14:56:59.391Z"
   },
   {
    "duration": 1489,
    "start_time": "2022-01-20T14:57:00.804Z"
   },
   {
    "duration": 1464,
    "start_time": "2022-01-20T14:57:02.295Z"
   },
   {
    "duration": 330,
    "start_time": "2022-01-20T16:50:11.861Z"
   },
   {
    "duration": 1368,
    "start_time": "2022-01-20T16:50:19.911Z"
   },
   {
    "duration": 4587,
    "start_time": "2022-01-20T16:50:21.281Z"
   },
   {
    "duration": 11,
    "start_time": "2022-01-20T16:50:25.870Z"
   },
   {
    "duration": 22,
    "start_time": "2022-01-20T16:50:25.883Z"
   },
   {
    "duration": 9,
    "start_time": "2022-01-20T16:50:25.906Z"
   },
   {
    "duration": 18,
    "start_time": "2022-01-20T16:50:25.916Z"
   },
   {
    "duration": 299,
    "start_time": "2022-01-20T16:50:25.936Z"
   },
   {
    "duration": 11,
    "start_time": "2022-01-20T16:50:26.237Z"
   },
   {
    "duration": 188,
    "start_time": "2022-01-20T16:50:26.250Z"
   },
   {
    "duration": 12,
    "start_time": "2022-01-20T16:50:26.440Z"
   },
   {
    "duration": 187,
    "start_time": "2022-01-20T16:50:26.454Z"
   },
   {
    "duration": 7,
    "start_time": "2022-01-20T16:50:26.643Z"
   },
   {
    "duration": 20,
    "start_time": "2022-01-20T16:50:26.652Z"
   },
   {
    "duration": 6,
    "start_time": "2022-01-20T16:50:26.673Z"
   },
   {
    "duration": 6,
    "start_time": "2022-01-20T16:50:26.681Z"
   },
   {
    "duration": 19,
    "start_time": "2022-01-20T16:50:26.689Z"
   },
   {
    "duration": 217,
    "start_time": "2022-01-20T16:50:26.709Z"
   },
   {
    "duration": 27,
    "start_time": "2022-01-20T16:50:26.927Z"
   },
   {
    "duration": 18,
    "start_time": "2022-01-20T16:50:26.956Z"
   },
   {
    "duration": 99,
    "start_time": "2022-01-20T16:50:26.976Z"
   },
   {
    "duration": 20,
    "start_time": "2022-01-20T16:50:27.077Z"
   },
   {
    "duration": 27,
    "start_time": "2022-01-20T16:50:27.098Z"
   },
   {
    "duration": 55,
    "start_time": "2022-01-20T16:50:27.128Z"
   },
   {
    "duration": 5,
    "start_time": "2022-01-20T16:50:27.185Z"
   },
   {
    "duration": 181,
    "start_time": "2022-01-20T16:50:27.192Z"
   },
   {
    "duration": 14,
    "start_time": "2022-01-20T16:50:27.375Z"
   },
   {
    "duration": 10,
    "start_time": "2022-01-20T16:50:27.390Z"
   },
   {
    "duration": 20,
    "start_time": "2022-01-20T16:50:27.401Z"
   },
   {
    "duration": 12,
    "start_time": "2022-01-20T16:50:27.422Z"
   },
   {
    "duration": 37,
    "start_time": "2022-01-20T16:50:27.435Z"
   },
   {
    "duration": 4,
    "start_time": "2022-01-20T16:50:27.474Z"
   },
   {
    "duration": 101,
    "start_time": "2022-01-20T16:50:27.481Z"
   },
   {
    "duration": 11,
    "start_time": "2022-01-20T16:50:27.583Z"
   },
   {
    "duration": 21,
    "start_time": "2022-01-20T16:50:27.596Z"
   },
   {
    "duration": 19,
    "start_time": "2022-01-20T16:50:27.618Z"
   },
   {
    "duration": 10,
    "start_time": "2022-01-20T16:50:27.639Z"
   },
   {
    "duration": 26,
    "start_time": "2022-01-20T16:50:27.651Z"
   },
   {
    "duration": 7,
    "start_time": "2022-01-20T16:50:27.678Z"
   },
   {
    "duration": 3,
    "start_time": "2022-01-20T16:50:27.686Z"
   },
   {
    "duration": 9,
    "start_time": "2022-01-20T16:50:27.691Z"
   },
   {
    "duration": 853,
    "start_time": "2022-01-20T16:50:27.701Z"
   },
   {
    "duration": 768,
    "start_time": "2022-01-20T16:50:28.556Z"
   },
   {
    "duration": 793,
    "start_time": "2022-01-20T16:50:29.326Z"
   },
   {
    "duration": 6,
    "start_time": "2022-01-20T16:50:49.152Z"
   },
   {
    "duration": 5,
    "start_time": "2022-01-20T16:51:15.569Z"
   },
   {
    "duration": 6,
    "start_time": "2022-01-20T16:56:04.262Z"
   },
   {
    "duration": 7,
    "start_time": "2022-01-20T16:56:19.151Z"
   },
   {
    "duration": 6,
    "start_time": "2022-01-20T16:56:30.422Z"
   },
   {
    "duration": 3,
    "start_time": "2022-01-20T17:07:09.498Z"
   },
   {
    "duration": 5,
    "start_time": "2022-01-20T17:07:11.310Z"
   },
   {
    "duration": 412,
    "start_time": "2022-01-20T17:07:16.016Z"
   },
   {
    "duration": 900,
    "start_time": "2022-01-20T17:07:38.223Z"
   },
   {
    "duration": 5,
    "start_time": "2022-01-20T17:08:20.385Z"
   },
   {
    "duration": 765,
    "start_time": "2022-01-20T17:08:22.394Z"
   },
   {
    "duration": 5,
    "start_time": "2022-01-20T17:09:06.243Z"
   },
   {
    "duration": 882,
    "start_time": "2022-01-20T17:09:07.937Z"
   },
   {
    "duration": 338,
    "start_time": "2022-01-20T17:10:01.618Z"
   },
   {
    "duration": 4,
    "start_time": "2022-01-20T17:10:09.813Z"
   },
   {
    "duration": 952,
    "start_time": "2022-01-20T17:10:26.243Z"
   },
   {
    "duration": 3,
    "start_time": "2022-01-20T17:10:36.870Z"
   },
   {
    "duration": 5,
    "start_time": "2022-01-20T17:13:33.317Z"
   },
   {
    "duration": 5,
    "start_time": "2022-01-20T17:13:44.957Z"
   },
   {
    "duration": 335,
    "start_time": "2022-01-20T18:31:18.431Z"
   },
   {
    "duration": 1095,
    "start_time": "2022-01-20T18:31:40.681Z"
   },
   {
    "duration": 354,
    "start_time": "2022-01-20T18:31:41.778Z"
   },
   {
    "duration": 11,
    "start_time": "2022-01-20T18:31:42.134Z"
   },
   {
    "duration": 10,
    "start_time": "2022-01-20T18:31:42.147Z"
   },
   {
    "duration": 19,
    "start_time": "2022-01-20T18:31:42.159Z"
   },
   {
    "duration": 17,
    "start_time": "2022-01-20T18:31:42.180Z"
   },
   {
    "duration": 263,
    "start_time": "2022-01-20T18:31:42.199Z"
   },
   {
    "duration": 15,
    "start_time": "2022-01-20T18:31:42.465Z"
   },
   {
    "duration": 183,
    "start_time": "2022-01-20T18:31:42.482Z"
   },
   {
    "duration": 11,
    "start_time": "2022-01-20T18:31:42.671Z"
   },
   {
    "duration": 185,
    "start_time": "2022-01-20T18:31:42.684Z"
   },
   {
    "duration": 8,
    "start_time": "2022-01-20T18:31:42.871Z"
   },
   {
    "duration": 7,
    "start_time": "2022-01-20T18:31:42.880Z"
   },
   {
    "duration": 8,
    "start_time": "2022-01-20T18:31:42.888Z"
   },
   {
    "duration": 7,
    "start_time": "2022-01-20T18:31:42.897Z"
   },
   {
    "duration": 14,
    "start_time": "2022-01-20T18:31:42.906Z"
   },
   {
    "duration": 12,
    "start_time": "2022-01-20T18:31:42.921Z"
   },
   {
    "duration": 41,
    "start_time": "2022-01-20T18:31:42.934Z"
   },
   {
    "duration": 94,
    "start_time": "2022-01-20T18:31:42.981Z"
   },
   {
    "duration": 5,
    "start_time": "2022-01-20T18:31:43.078Z"
   },
   {
    "duration": 5,
    "start_time": "2022-01-20T18:31:43.085Z"
   },
   {
    "duration": 93,
    "start_time": "2022-01-20T18:31:43.092Z"
   },
   {
    "duration": 11,
    "start_time": "2022-01-20T18:31:43.188Z"
   },
   {
    "duration": 73,
    "start_time": "2022-01-20T18:31:43.201Z"
   },
   {
    "duration": 4,
    "start_time": "2022-01-20T18:31:43.276Z"
   },
   {
    "duration": 92,
    "start_time": "2022-01-20T18:31:43.281Z"
   },
   {
    "duration": 4,
    "start_time": "2022-01-20T18:31:43.375Z"
   },
   {
    "duration": 14,
    "start_time": "2022-01-20T18:31:43.381Z"
   },
   {
    "duration": 76,
    "start_time": "2022-01-20T18:31:43.397Z"
   },
   {
    "duration": 104,
    "start_time": "2022-01-20T18:31:43.474Z"
   },
   {
    "duration": 91,
    "start_time": "2022-01-20T18:31:43.581Z"
   },
   {
    "duration": 4,
    "start_time": "2022-01-20T18:31:43.674Z"
   },
   {
    "duration": 6,
    "start_time": "2022-01-20T18:31:43.679Z"
   },
   {
    "duration": 3,
    "start_time": "2022-01-20T18:31:43.686Z"
   },
   {
    "duration": 4,
    "start_time": "2022-01-20T18:31:43.691Z"
   },
   {
    "duration": 6,
    "start_time": "2022-01-20T18:31:43.697Z"
   },
   {
    "duration": 71,
    "start_time": "2022-01-20T18:31:43.705Z"
   },
   {
    "duration": 6,
    "start_time": "2022-01-20T18:31:43.778Z"
   },
   {
    "duration": 3,
    "start_time": "2022-01-20T18:31:43.786Z"
   },
   {
    "duration": 6,
    "start_time": "2022-01-20T18:31:43.791Z"
   },
   {
    "duration": 6,
    "start_time": "2022-01-20T18:31:43.799Z"
   },
   {
    "duration": 7,
    "start_time": "2022-01-20T18:31:43.807Z"
   },
   {
    "duration": 1901,
    "start_time": "2022-01-20T18:31:43.815Z"
   },
   {
    "duration": 380,
    "start_time": "2022-01-20T18:31:45.718Z"
   },
   {
    "duration": -49,
    "start_time": "2022-01-20T18:31:46.149Z"
   },
   {
    "duration": 5,
    "start_time": "2022-01-20T18:32:31.632Z"
   },
   {
    "duration": 1674,
    "start_time": "2022-01-20T18:32:33.620Z"
   },
   {
    "duration": 289,
    "start_time": "2022-01-20T18:32:36.565Z"
   },
   {
    "duration": 1676,
    "start_time": "2022-01-20T18:32:54.123Z"
   },
   {
    "duration": 1704,
    "start_time": "2022-01-20T18:33:04.868Z"
   },
   {
    "duration": 3,
    "start_time": "2022-01-20T18:41:07.738Z"
   },
   {
    "duration": 962,
    "start_time": "2022-01-20T18:41:21.018Z"
   },
   {
    "duration": 470,
    "start_time": "2022-01-20T18:41:21.982Z"
   },
   {
    "duration": 18,
    "start_time": "2022-01-20T18:41:22.454Z"
   },
   {
    "duration": 15,
    "start_time": "2022-01-20T18:41:22.474Z"
   },
   {
    "duration": 9,
    "start_time": "2022-01-20T18:41:22.490Z"
   },
   {
    "duration": 16,
    "start_time": "2022-01-20T18:41:22.501Z"
   },
   {
    "duration": 377,
    "start_time": "2022-01-20T18:41:22.519Z"
   },
   {
    "duration": 11,
    "start_time": "2022-01-20T18:41:22.899Z"
   },
   {
    "duration": 195,
    "start_time": "2022-01-20T18:41:22.912Z"
   },
   {
    "duration": 11,
    "start_time": "2022-01-20T18:41:23.108Z"
   },
   {
    "duration": 209,
    "start_time": "2022-01-20T18:41:23.121Z"
   },
   {
    "duration": 8,
    "start_time": "2022-01-20T18:41:23.332Z"
   },
   {
    "duration": 7,
    "start_time": "2022-01-20T18:41:23.342Z"
   },
   {
    "duration": 24,
    "start_time": "2022-01-20T18:41:23.350Z"
   },
   {
    "duration": 10,
    "start_time": "2022-01-20T18:41:23.375Z"
   },
   {
    "duration": 17,
    "start_time": "2022-01-20T18:41:23.387Z"
   },
   {
    "duration": 14,
    "start_time": "2022-01-20T18:41:23.405Z"
   },
   {
    "duration": 151,
    "start_time": "2022-01-20T18:41:23.421Z"
   },
   {
    "duration": 4,
    "start_time": "2022-01-20T18:41:23.574Z"
   },
   {
    "duration": 5,
    "start_time": "2022-01-20T18:41:23.579Z"
   },
   {
    "duration": 4,
    "start_time": "2022-01-20T18:41:23.586Z"
   },
   {
    "duration": 14,
    "start_time": "2022-01-20T18:41:23.592Z"
   },
   {
    "duration": 11,
    "start_time": "2022-01-20T18:41:23.609Z"
   },
   {
    "duration": 54,
    "start_time": "2022-01-20T18:41:23.622Z"
   },
   {
    "duration": 5,
    "start_time": "2022-01-20T18:41:23.678Z"
   },
   {
    "duration": 89,
    "start_time": "2022-01-20T18:41:23.685Z"
   },
   {
    "duration": 5,
    "start_time": "2022-01-20T18:41:23.776Z"
   },
   {
    "duration": 15,
    "start_time": "2022-01-20T18:41:23.783Z"
   },
   {
    "duration": 13,
    "start_time": "2022-01-20T18:41:23.871Z"
   },
   {
    "duration": 11,
    "start_time": "2022-01-20T18:41:23.886Z"
   },
   {
    "duration": 4,
    "start_time": "2022-01-20T18:41:23.973Z"
   },
   {
    "duration": 92,
    "start_time": "2022-01-20T18:41:23.980Z"
   },
   {
    "duration": 4,
    "start_time": "2022-01-20T18:41:24.074Z"
   },
   {
    "duration": 4,
    "start_time": "2022-01-20T18:41:24.079Z"
   },
   {
    "duration": 8,
    "start_time": "2022-01-20T18:41:24.084Z"
   },
   {
    "duration": 7,
    "start_time": "2022-01-20T18:41:24.093Z"
   },
   {
    "duration": 5,
    "start_time": "2022-01-20T18:41:24.101Z"
   },
   {
    "duration": 7,
    "start_time": "2022-01-20T18:41:24.107Z"
   },
   {
    "duration": 5,
    "start_time": "2022-01-20T18:41:24.116Z"
   },
   {
    "duration": 11,
    "start_time": "2022-01-20T18:41:24.123Z"
   },
   {
    "duration": 2077,
    "start_time": "2022-01-20T18:41:24.135Z"
   },
   {
    "duration": 1923,
    "start_time": "2022-01-20T18:41:26.214Z"
   },
   {
    "duration": 1863,
    "start_time": "2022-01-20T18:41:28.138Z"
   },
   {
    "duration": 5,
    "start_time": "2022-01-21T11:33:55.622Z"
   },
   {
    "duration": 1335,
    "start_time": "2022-01-21T11:34:57.306Z"
   },
   {
    "duration": 1597,
    "start_time": "2022-01-21T11:34:58.644Z"
   },
   {
    "duration": 15,
    "start_time": "2022-01-21T11:35:00.244Z"
   },
   {
    "duration": 17,
    "start_time": "2022-01-21T11:35:00.261Z"
   },
   {
    "duration": 24,
    "start_time": "2022-01-21T11:35:00.280Z"
   },
   {
    "duration": 45,
    "start_time": "2022-01-21T11:35:00.306Z"
   },
   {
    "duration": 458,
    "start_time": "2022-01-21T11:35:00.353Z"
   },
   {
    "duration": 26,
    "start_time": "2022-01-21T11:35:00.814Z"
   },
   {
    "duration": 353,
    "start_time": "2022-01-21T11:35:00.843Z"
   },
   {
    "duration": 35,
    "start_time": "2022-01-21T11:35:01.199Z"
   },
   {
    "duration": 351,
    "start_time": "2022-01-21T11:35:01.236Z"
   },
   {
    "duration": 12,
    "start_time": "2022-01-21T11:35:01.589Z"
   },
   {
    "duration": 31,
    "start_time": "2022-01-21T11:35:01.603Z"
   },
   {
    "duration": 14,
    "start_time": "2022-01-21T11:35:01.636Z"
   },
   {
    "duration": 18,
    "start_time": "2022-01-21T11:35:01.652Z"
   },
   {
    "duration": 35,
    "start_time": "2022-01-21T11:35:01.673Z"
   },
   {
    "duration": 31,
    "start_time": "2022-01-21T11:35:01.710Z"
   },
   {
    "duration": 96,
    "start_time": "2022-01-21T11:35:01.744Z"
   },
   {
    "duration": 89,
    "start_time": "2022-01-21T11:35:01.844Z"
   },
   {
    "duration": 12,
    "start_time": "2022-01-21T11:35:01.935Z"
   },
   {
    "duration": 23,
    "start_time": "2022-01-21T11:35:01.949Z"
   },
   {
    "duration": 27,
    "start_time": "2022-01-21T11:35:01.975Z"
   },
   {
    "duration": 29,
    "start_time": "2022-01-21T11:35:02.009Z"
   },
   {
    "duration": 92,
    "start_time": "2022-01-21T11:35:02.042Z"
   },
   {
    "duration": 99,
    "start_time": "2022-01-21T11:35:02.137Z"
   },
   {
    "duration": 14,
    "start_time": "2022-01-21T11:35:02.239Z"
   },
   {
    "duration": 7,
    "start_time": "2022-01-21T11:35:02.256Z"
   },
   {
    "duration": 75,
    "start_time": "2022-01-21T11:35:02.267Z"
   },
   {
    "duration": 29,
    "start_time": "2022-01-21T11:35:02.345Z"
   },
   {
    "duration": 56,
    "start_time": "2022-01-21T11:35:02.377Z"
   },
   {
    "duration": 101,
    "start_time": "2022-01-21T11:35:02.435Z"
   },
   {
    "duration": 33,
    "start_time": "2022-01-21T11:35:02.543Z"
   },
   {
    "duration": 31,
    "start_time": "2022-01-21T11:35:02.578Z"
   },
   {
    "duration": 21,
    "start_time": "2022-01-21T11:35:02.611Z"
   },
   {
    "duration": 15,
    "start_time": "2022-01-21T11:35:02.635Z"
   },
   {
    "duration": 42,
    "start_time": "2022-01-21T11:35:02.652Z"
   },
   {
    "duration": 36,
    "start_time": "2022-01-21T11:35:02.697Z"
   },
   {
    "duration": 17,
    "start_time": "2022-01-21T11:35:02.735Z"
   },
   {
    "duration": 32,
    "start_time": "2022-01-21T11:35:02.755Z"
   },
   {
    "duration": 10,
    "start_time": "2022-01-21T11:35:02.790Z"
   },
   {
    "duration": 2477,
    "start_time": "2022-01-21T11:35:02.802Z"
   },
   {
    "duration": 2452,
    "start_time": "2022-01-21T11:35:05.281Z"
   },
   {
    "duration": 2432,
    "start_time": "2022-01-21T11:35:07.736Z"
   },
   {
    "duration": 1348,
    "start_time": "2022-01-21T11:46:09.501Z"
   },
   {
    "duration": 450,
    "start_time": "2022-01-21T11:46:10.851Z"
   },
   {
    "duration": 14,
    "start_time": "2022-01-21T11:46:11.303Z"
   },
   {
    "duration": 24,
    "start_time": "2022-01-21T11:46:11.320Z"
   },
   {
    "duration": 15,
    "start_time": "2022-01-21T11:46:11.346Z"
   },
   {
    "duration": 25,
    "start_time": "2022-01-21T11:46:11.364Z"
   },
   {
    "duration": 437,
    "start_time": "2022-01-21T11:46:11.391Z"
   },
   {
    "duration": 18,
    "start_time": "2022-01-21T11:46:11.835Z"
   },
   {
    "duration": 326,
    "start_time": "2022-01-21T11:46:11.856Z"
   },
   {
    "duration": 17,
    "start_time": "2022-01-21T11:46:12.184Z"
   },
   {
    "duration": 333,
    "start_time": "2022-01-21T11:46:12.203Z"
   },
   {
    "duration": 12,
    "start_time": "2022-01-21T11:46:12.538Z"
   },
   {
    "duration": 14,
    "start_time": "2022-01-21T11:46:12.553Z"
   },
   {
    "duration": 10,
    "start_time": "2022-01-21T11:46:12.569Z"
   },
   {
    "duration": 18,
    "start_time": "2022-01-21T11:46:12.582Z"
   },
   {
    "duration": 44,
    "start_time": "2022-01-21T11:46:12.602Z"
   },
   {
    "duration": 15,
    "start_time": "2022-01-21T11:46:12.649Z"
   },
   {
    "duration": 70,
    "start_time": "2022-01-21T11:46:12.667Z"
   },
   {
    "duration": 97,
    "start_time": "2022-01-21T11:46:12.740Z"
   },
   {
    "duration": 8,
    "start_time": "2022-01-21T11:46:12.839Z"
   },
   {
    "duration": 9,
    "start_time": "2022-01-21T11:46:12.850Z"
   },
   {
    "duration": 18,
    "start_time": "2022-01-21T11:46:12.861Z"
   },
   {
    "duration": 54,
    "start_time": "2022-01-21T11:46:12.884Z"
   },
   {
    "duration": 7,
    "start_time": "2022-01-21T11:46:12.941Z"
   },
   {
    "duration": 84,
    "start_time": "2022-01-21T11:46:12.952Z"
   },
   {
    "duration": 101,
    "start_time": "2022-01-21T11:46:13.040Z"
   },
   {
    "duration": 8,
    "start_time": "2022-01-21T11:46:13.143Z"
   },
   {
    "duration": 24,
    "start_time": "2022-01-21T11:46:13.153Z"
   },
   {
    "duration": 17,
    "start_time": "2022-01-21T11:46:13.180Z"
   },
   {
    "duration": 5,
    "start_time": "2022-01-21T11:46:13.232Z"
   },
   {
    "duration": 195,
    "start_time": "2022-01-21T11:46:13.240Z"
   },
   {
    "duration": 10,
    "start_time": "2022-01-21T11:46:13.437Z"
   },
   {
    "duration": 11,
    "start_time": "2022-01-21T11:46:13.449Z"
   },
   {
    "duration": 7,
    "start_time": "2022-01-21T11:46:13.462Z"
   },
   {
    "duration": 10,
    "start_time": "2022-01-21T11:46:13.471Z"
   },
   {
    "duration": 11,
    "start_time": "2022-01-21T11:46:13.483Z"
   },
   {
    "duration": 40,
    "start_time": "2022-01-21T11:46:13.496Z"
   },
   {
    "duration": 8,
    "start_time": "2022-01-21T11:46:13.538Z"
   },
   {
    "duration": 10,
    "start_time": "2022-01-21T11:46:13.549Z"
   },
   {
    "duration": 10,
    "start_time": "2022-01-21T11:46:13.562Z"
   },
   {
    "duration": 2464,
    "start_time": "2022-01-21T11:46:13.574Z"
   },
   {
    "duration": 2527,
    "start_time": "2022-01-21T11:46:16.040Z"
   },
   {
    "duration": 2437,
    "start_time": "2022-01-21T11:46:18.570Z"
   }
  ],
  "kernelspec": {
   "display_name": "Python 3 (ipykernel)",
   "language": "python",
   "name": "python3"
  },
  "language_info": {
   "codemirror_mode": {
    "name": "ipython",
    "version": 3
   },
   "file_extension": ".py",
   "mimetype": "text/x-python",
   "name": "python",
   "nbconvert_exporter": "python",
   "pygments_lexer": "ipython3",
   "version": "3.9.5"
  },
  "toc": {
   "base_numbering": 1,
   "nav_menu": {},
   "number_sections": true,
   "sideBar": true,
   "skip_h1_title": true,
   "title_cell": "Table of Contents",
   "title_sidebar": "Contents",
   "toc_cell": false,
   "toc_position": {},
   "toc_section_display": true,
   "toc_window_display": false
  }
 },
 "nbformat": 4,
 "nbformat_minor": 2
}
