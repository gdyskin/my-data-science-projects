{
  "cells": [
    {
      "cell_type": "markdown",
      "metadata": {
        "id": "7xW1SbPggf0e"
      },
      "source": [
        "# Determination of the most profitable oil production region"
      ]
    },
    {
      "cell_type": "markdown",
      "metadata": {
        "id": "38qdNtHJgf0e"
      },
      "source": [
        "We must decide where to drill a new well.\n",
        "\n",
        "We have been provided with oil samples in three regions: in 10,000 fields each, where we have measured the quality of the oil and the volume of its reserves. We need to create a machine learning model that will help us determine the region where production will bring the greatest profit. Analysis of the possible profits and risks using the *Bootstrap.* technique.\n",
        "\n",
        "Steps to select a site:\n",
        "\n",
        "- Search for deposits in the selected region, determine the values of the signs for each;\n",
        "- Build a model and estimate the volume of reserves;\n",
        "- Select the deposits with the highest value estimates. The number of fields depends on the budget of the company and the cost of developing a well;\n",
        "- The profit is equal to the total profit of the selected deposits."
      ]
    },
    {
      "cell_type": "code",
      "execution_count": 1,
      "metadata": {
        "id": "5e-aqyjQgf0g"
      },
      "outputs": [],
      "source": [
        "import pandas as pd\n",
        "from sklearn.model_selection import train_test_split\n",
        "from sklearn.linear_model import LinearRegression\n",
        "from sklearn.metrics import mean_squared_error\n",
        "from numpy.random import RandomState"
      ]
    },
    {
      "cell_type": "markdown",
      "metadata": {
        "id": "j7xAHxA4gf0h"
      },
      "source": [
        "## Loading and preparing data"
      ]
    },
    {
      "cell_type": "code",
      "execution_count": 2,
      "metadata": {
        "id": "HtJ3LUmMgf0i"
      },
      "outputs": [],
      "source": [
        "df_0 = pd.read_csv('/content/geo_data_0.csv')\n",
        "df_1 = pd.read_csv('/content/geo_data_1.csv')\n",
        "df_2 = pd.read_csv('/content/geo_data_2.csv')"
      ]
    },
    {
      "cell_type": "code",
      "execution_count": 3,
      "metadata": {
        "colab": {
          "base_uri": "https://localhost:8080/"
        },
        "id": "Szk6SMkOgf0i",
        "outputId": "cdedae04-7c4d-4440-e993-6796452162bd"
      },
      "outputs": [
        {
          "output_type": "stream",
          "name": "stdout",
          "text": [
            "<class 'pandas.core.frame.DataFrame'>\n",
            "RangeIndex: 100000 entries, 0 to 99999\n",
            "Data columns (total 5 columns):\n",
            " #   Column   Non-Null Count   Dtype  \n",
            "---  ------   --------------   -----  \n",
            " 0   id       100000 non-null  object \n",
            " 1   f0       100000 non-null  float64\n",
            " 2   f1       100000 non-null  float64\n",
            " 3   f2       100000 non-null  float64\n",
            " 4   product  100000 non-null  float64\n",
            "dtypes: float64(4), object(1)\n",
            "memory usage: 3.8+ MB\n"
          ]
        }
      ],
      "source": [
        "df_0.info()"
      ]
    },
    {
      "cell_type": "code",
      "execution_count": 4,
      "metadata": {
        "colab": {
          "base_uri": "https://localhost:8080/"
        },
        "id": "zdSBnDPogf0j",
        "outputId": "938a3af2-c60f-4bf5-d136-659b3b86341e"
      },
      "outputs": [
        {
          "output_type": "stream",
          "name": "stdout",
          "text": [
            "<class 'pandas.core.frame.DataFrame'>\n",
            "RangeIndex: 100000 entries, 0 to 99999\n",
            "Data columns (total 5 columns):\n",
            " #   Column   Non-Null Count   Dtype  \n",
            "---  ------   --------------   -----  \n",
            " 0   id       100000 non-null  object \n",
            " 1   f0       100000 non-null  float64\n",
            " 2   f1       100000 non-null  float64\n",
            " 3   f2       100000 non-null  float64\n",
            " 4   product  100000 non-null  float64\n",
            "dtypes: float64(4), object(1)\n",
            "memory usage: 3.8+ MB\n"
          ]
        }
      ],
      "source": [
        "df_1.info()"
      ]
    },
    {
      "cell_type": "code",
      "execution_count": 5,
      "metadata": {
        "colab": {
          "base_uri": "https://localhost:8080/"
        },
        "id": "P8MdHKWNgf0j",
        "outputId": "38de507d-8a30-4976-8514-3e1bb23ff278"
      },
      "outputs": [
        {
          "output_type": "stream",
          "name": "stdout",
          "text": [
            "<class 'pandas.core.frame.DataFrame'>\n",
            "RangeIndex: 100000 entries, 0 to 99999\n",
            "Data columns (total 5 columns):\n",
            " #   Column   Non-Null Count   Dtype  \n",
            "---  ------   --------------   -----  \n",
            " 0   id       100000 non-null  object \n",
            " 1   f0       100000 non-null  float64\n",
            " 2   f1       100000 non-null  float64\n",
            " 3   f2       100000 non-null  float64\n",
            " 4   product  100000 non-null  float64\n",
            "dtypes: float64(4), object(1)\n",
            "memory usage: 3.8+ MB\n"
          ]
        }
      ],
      "source": [
        "df_2.info()"
      ]
    },
    {
      "cell_type": "markdown",
      "metadata": {
        "id": "QBl3x_0Jgf0k"
      },
      "source": [
        "The data is loaded correctly, there are no gaps."
      ]
    },
    {
      "cell_type": "markdown",
      "metadata": {
        "id": "5o8fjlOlgf0k"
      },
      "source": [
        "Let's check the data for the presence of dependencies and the distribution of the target feature:"
      ]
    },
    {
      "cell_type": "code",
      "execution_count": 6,
      "metadata": {
        "colab": {
          "base_uri": "https://localhost:8080/",
          "height": 175
        },
        "id": "zHXSPn8Ogf0k",
        "outputId": "435f53d2-ad4b-4593-de5d-274f34de9fbc"
      },
      "outputs": [
        {
          "output_type": "execute_result",
          "data": {
            "text/plain": [
              "               f0        f1        f2   product\n",
              "f0       1.000000 -0.440723 -0.003153  0.143536\n",
              "f1      -0.440723  1.000000  0.001724 -0.192356\n",
              "f2      -0.003153  0.001724  1.000000  0.483663\n",
              "product  0.143536 -0.192356  0.483663  1.000000"
            ],
            "text/html": [
              "\n",
              "  <div id=\"df-dbfecce7-58f4-4f30-a729-4aca67464e73\">\n",
              "    <div class=\"colab-df-container\">\n",
              "      <div>\n",
              "<style scoped>\n",
              "    .dataframe tbody tr th:only-of-type {\n",
              "        vertical-align: middle;\n",
              "    }\n",
              "\n",
              "    .dataframe tbody tr th {\n",
              "        vertical-align: top;\n",
              "    }\n",
              "\n",
              "    .dataframe thead th {\n",
              "        text-align: right;\n",
              "    }\n",
              "</style>\n",
              "<table border=\"1\" class=\"dataframe\">\n",
              "  <thead>\n",
              "    <tr style=\"text-align: right;\">\n",
              "      <th></th>\n",
              "      <th>f0</th>\n",
              "      <th>f1</th>\n",
              "      <th>f2</th>\n",
              "      <th>product</th>\n",
              "    </tr>\n",
              "  </thead>\n",
              "  <tbody>\n",
              "    <tr>\n",
              "      <th>f0</th>\n",
              "      <td>1.000000</td>\n",
              "      <td>-0.440723</td>\n",
              "      <td>-0.003153</td>\n",
              "      <td>0.143536</td>\n",
              "    </tr>\n",
              "    <tr>\n",
              "      <th>f1</th>\n",
              "      <td>-0.440723</td>\n",
              "      <td>1.000000</td>\n",
              "      <td>0.001724</td>\n",
              "      <td>-0.192356</td>\n",
              "    </tr>\n",
              "    <tr>\n",
              "      <th>f2</th>\n",
              "      <td>-0.003153</td>\n",
              "      <td>0.001724</td>\n",
              "      <td>1.000000</td>\n",
              "      <td>0.483663</td>\n",
              "    </tr>\n",
              "    <tr>\n",
              "      <th>product</th>\n",
              "      <td>0.143536</td>\n",
              "      <td>-0.192356</td>\n",
              "      <td>0.483663</td>\n",
              "      <td>1.000000</td>\n",
              "    </tr>\n",
              "  </tbody>\n",
              "</table>\n",
              "</div>\n",
              "      <button class=\"colab-df-convert\" onclick=\"convertToInteractive('df-dbfecce7-58f4-4f30-a729-4aca67464e73')\"\n",
              "              title=\"Convert this dataframe to an interactive table.\"\n",
              "              style=\"display:none;\">\n",
              "        \n",
              "  <svg xmlns=\"http://www.w3.org/2000/svg\" height=\"24px\"viewBox=\"0 0 24 24\"\n",
              "       width=\"24px\">\n",
              "    <path d=\"M0 0h24v24H0V0z\" fill=\"none\"/>\n",
              "    <path d=\"M18.56 5.44l.94 2.06.94-2.06 2.06-.94-2.06-.94-.94-2.06-.94 2.06-2.06.94zm-11 1L8.5 8.5l.94-2.06 2.06-.94-2.06-.94L8.5 2.5l-.94 2.06-2.06.94zm10 10l.94 2.06.94-2.06 2.06-.94-2.06-.94-.94-2.06-.94 2.06-2.06.94z\"/><path d=\"M17.41 7.96l-1.37-1.37c-.4-.4-.92-.59-1.43-.59-.52 0-1.04.2-1.43.59L10.3 9.45l-7.72 7.72c-.78.78-.78 2.05 0 2.83L4 21.41c.39.39.9.59 1.41.59.51 0 1.02-.2 1.41-.59l7.78-7.78 2.81-2.81c.8-.78.8-2.07 0-2.86zM5.41 20L4 18.59l7.72-7.72 1.47 1.35L5.41 20z\"/>\n",
              "  </svg>\n",
              "      </button>\n",
              "      \n",
              "  <style>\n",
              "    .colab-df-container {\n",
              "      display:flex;\n",
              "      flex-wrap:wrap;\n",
              "      gap: 12px;\n",
              "    }\n",
              "\n",
              "    .colab-df-convert {\n",
              "      background-color: #E8F0FE;\n",
              "      border: none;\n",
              "      border-radius: 50%;\n",
              "      cursor: pointer;\n",
              "      display: none;\n",
              "      fill: #1967D2;\n",
              "      height: 32px;\n",
              "      padding: 0 0 0 0;\n",
              "      width: 32px;\n",
              "    }\n",
              "\n",
              "    .colab-df-convert:hover {\n",
              "      background-color: #E2EBFA;\n",
              "      box-shadow: 0px 1px 2px rgba(60, 64, 67, 0.3), 0px 1px 3px 1px rgba(60, 64, 67, 0.15);\n",
              "      fill: #174EA6;\n",
              "    }\n",
              "\n",
              "    [theme=dark] .colab-df-convert {\n",
              "      background-color: #3B4455;\n",
              "      fill: #D2E3FC;\n",
              "    }\n",
              "\n",
              "    [theme=dark] .colab-df-convert:hover {\n",
              "      background-color: #434B5C;\n",
              "      box-shadow: 0px 1px 3px 1px rgba(0, 0, 0, 0.15);\n",
              "      filter: drop-shadow(0px 1px 2px rgba(0, 0, 0, 0.3));\n",
              "      fill: #FFFFFF;\n",
              "    }\n",
              "  </style>\n",
              "\n",
              "      <script>\n",
              "        const buttonEl =\n",
              "          document.querySelector('#df-dbfecce7-58f4-4f30-a729-4aca67464e73 button.colab-df-convert');\n",
              "        buttonEl.style.display =\n",
              "          google.colab.kernel.accessAllowed ? 'block' : 'none';\n",
              "\n",
              "        async function convertToInteractive(key) {\n",
              "          const element = document.querySelector('#df-dbfecce7-58f4-4f30-a729-4aca67464e73');\n",
              "          const dataTable =\n",
              "            await google.colab.kernel.invokeFunction('convertToInteractive',\n",
              "                                                     [key], {});\n",
              "          if (!dataTable) return;\n",
              "\n",
              "          const docLinkHtml = 'Like what you see? Visit the ' +\n",
              "            '<a target=\"_blank\" href=https://colab.research.google.com/notebooks/data_table.ipynb>data table notebook</a>'\n",
              "            + ' to learn more about interactive tables.';\n",
              "          element.innerHTML = '';\n",
              "          dataTable['output_type'] = 'display_data';\n",
              "          await google.colab.output.renderOutput(dataTable, element);\n",
              "          const docLink = document.createElement('div');\n",
              "          docLink.innerHTML = docLinkHtml;\n",
              "          element.appendChild(docLink);\n",
              "        }\n",
              "      </script>\n",
              "    </div>\n",
              "  </div>\n",
              "  "
            ]
          },
          "metadata": {},
          "execution_count": 6
        }
      ],
      "source": [
        "df_0.corr()"
      ]
    },
    {
      "cell_type": "code",
      "execution_count": 7,
      "metadata": {
        "colab": {
          "base_uri": "https://localhost:8080/",
          "height": 285
        },
        "id": "73BJI3Rpgf0k",
        "outputId": "1c40f698-92a7-49e7-f898-e2c0d0c6f0de"
      },
      "outputs": [
        {
          "output_type": "execute_result",
          "data": {
            "text/plain": [
              "<matplotlib.axes._subplots.AxesSubplot at 0x7fce22b1e310>"
            ]
          },
          "metadata": {},
          "execution_count": 7
        },
        {
          "output_type": "display_data",
          "data": {
            "text/plain": [
              "<Figure size 432x288 with 1 Axes>"
            ],
            "image/png": "[encoded data removed]"
          },
          "metadata": {
            "needs_background": "light"
          }
        }
      ],
      "source": [
        "df_0['product'].hist()"
      ]
    },
    {
      "cell_type": "code",
      "execution_count": 8,
      "metadata": {
        "colab": {
          "base_uri": "https://localhost:8080/",
          "height": 175
        },
        "id": "f-_tavgqgf0l",
        "outputId": "d7ea0661-9015-4174-8c27-bbb778243f2e"
      },
      "outputs": [
        {
          "output_type": "execute_result",
          "data": {
            "text/plain": [
              "               f0        f1        f2   product\n",
              "f0       1.000000  0.182287 -0.001777 -0.030491\n",
              "f1       0.182287  1.000000 -0.002595 -0.010155\n",
              "f2      -0.001777 -0.002595  1.000000  0.999397\n",
              "product -0.030491 -0.010155  0.999397  1.000000"
            ],
            "text/html": [
              "\n",
              "  <div id=\"df-cf165b4e-2744-464c-981d-5b1161658332\">\n",
              "    <div class=\"colab-df-container\">\n",
              "      <div>\n",
              "<style scoped>\n",
              "    .dataframe tbody tr th:only-of-type {\n",
              "        vertical-align: middle;\n",
              "    }\n",
              "\n",
              "    .dataframe tbody tr th {\n",
              "        vertical-align: top;\n",
              "    }\n",
              "\n",
              "    .dataframe thead th {\n",
              "        text-align: right;\n",
              "    }\n",
              "</style>\n",
              "<table border=\"1\" class=\"dataframe\">\n",
              "  <thead>\n",
              "    <tr style=\"text-align: right;\">\n",
              "      <th></th>\n",
              "      <th>f0</th>\n",
              "      <th>f1</th>\n",
              "      <th>f2</th>\n",
              "      <th>product</th>\n",
              "    </tr>\n",
              "  </thead>\n",
              "  <tbody>\n",
              "    <tr>\n",
              "      <th>f0</th>\n",
              "      <td>1.000000</td>\n",
              "      <td>0.182287</td>\n",
              "      <td>-0.001777</td>\n",
              "      <td>-0.030491</td>\n",
              "    </tr>\n",
              "    <tr>\n",
              "      <th>f1</th>\n",
              "      <td>0.182287</td>\n",
              "      <td>1.000000</td>\n",
              "      <td>-0.002595</td>\n",
              "      <td>-0.010155</td>\n",
              "    </tr>\n",
              "    <tr>\n",
              "      <th>f2</th>\n",
              "      <td>-0.001777</td>\n",
              "      <td>-0.002595</td>\n",
              "      <td>1.000000</td>\n",
              "      <td>0.999397</td>\n",
              "    </tr>\n",
              "    <tr>\n",
              "      <th>product</th>\n",
              "      <td>-0.030491</td>\n",
              "      <td>-0.010155</td>\n",
              "      <td>0.999397</td>\n",
              "      <td>1.000000</td>\n",
              "    </tr>\n",
              "  </tbody>\n",
              "</table>\n",
              "</div>\n",
              "      <button class=\"colab-df-convert\" onclick=\"convertToInteractive('df-cf165b4e-2744-464c-981d-5b1161658332')\"\n",
              "              title=\"Convert this dataframe to an interactive table.\"\n",
              "              style=\"display:none;\">\n",
              "        \n",
              "  <svg xmlns=\"http://www.w3.org/2000/svg\" height=\"24px\"viewBox=\"0 0 24 24\"\n",
              "       width=\"24px\">\n",
              "    <path d=\"M0 0h24v24H0V0z\" fill=\"none\"/>\n",
              "    <path d=\"M18.56 5.44l.94 2.06.94-2.06 2.06-.94-2.06-.94-.94-2.06-.94 2.06-2.06.94zm-11 1L8.5 8.5l.94-2.06 2.06-.94-2.06-.94L8.5 2.5l-.94 2.06-2.06.94zm10 10l.94 2.06.94-2.06 2.06-.94-2.06-.94-.94-2.06-.94 2.06-2.06.94z\"/><path d=\"M17.41 7.96l-1.37-1.37c-.4-.4-.92-.59-1.43-.59-.52 0-1.04.2-1.43.59L10.3 9.45l-7.72 7.72c-.78.78-.78 2.05 0 2.83L4 21.41c.39.39.9.59 1.41.59.51 0 1.02-.2 1.41-.59l7.78-7.78 2.81-2.81c.8-.78.8-2.07 0-2.86zM5.41 20L4 18.59l7.72-7.72 1.47 1.35L5.41 20z\"/>\n",
              "  </svg>\n",
              "      </button>\n",
              "      \n",
              "  <style>\n",
              "    .colab-df-container {\n",
              "      display:flex;\n",
              "      flex-wrap:wrap;\n",
              "      gap: 12px;\n",
              "    }\n",
              "\n",
              "    .colab-df-convert {\n",
              "      background-color: #E8F0FE;\n",
              "      border: none;\n",
              "      border-radius: 50%;\n",
              "      cursor: pointer;\n",
              "      display: none;\n",
              "      fill: #1967D2;\n",
              "      height: 32px;\n",
              "      padding: 0 0 0 0;\n",
              "      width: 32px;\n",
              "    }\n",
              "\n",
              "    .colab-df-convert:hover {\n",
              "      background-color: #E2EBFA;\n",
              "      box-shadow: 0px 1px 2px rgba(60, 64, 67, 0.3), 0px 1px 3px 1px rgba(60, 64, 67, 0.15);\n",
              "      fill: #174EA6;\n",
              "    }\n",
              "\n",
              "    [theme=dark] .colab-df-convert {\n",
              "      background-color: #3B4455;\n",
              "      fill: #D2E3FC;\n",
              "    }\n",
              "\n",
              "    [theme=dark] .colab-df-convert:hover {\n",
              "      background-color: #434B5C;\n",
              "      box-shadow: 0px 1px 3px 1px rgba(0, 0, 0, 0.15);\n",
              "      filter: drop-shadow(0px 1px 2px rgba(0, 0, 0, 0.3));\n",
              "      fill: #FFFFFF;\n",
              "    }\n",
              "  </style>\n",
              "\n",
              "      <script>\n",
              "        const buttonEl =\n",
              "          document.querySelector('#df-cf165b4e-2744-464c-981d-5b1161658332 button.colab-df-convert');\n",
              "        buttonEl.style.display =\n",
              "          google.colab.kernel.accessAllowed ? 'block' : 'none';\n",
              "\n",
              "        async function convertToInteractive(key) {\n",
              "          const element = document.querySelector('#df-cf165b4e-2744-464c-981d-5b1161658332');\n",
              "          const dataTable =\n",
              "            await google.colab.kernel.invokeFunction('convertToInteractive',\n",
              "                                                     [key], {});\n",
              "          if (!dataTable) return;\n",
              "\n",
              "          const docLinkHtml = 'Like what you see? Visit the ' +\n",
              "            '<a target=\"_blank\" href=https://colab.research.google.com/notebooks/data_table.ipynb>data table notebook</a>'\n",
              "            + ' to learn more about interactive tables.';\n",
              "          element.innerHTML = '';\n",
              "          dataTable['output_type'] = 'display_data';\n",
              "          await google.colab.output.renderOutput(dataTable, element);\n",
              "          const docLink = document.createElement('div');\n",
              "          docLink.innerHTML = docLinkHtml;\n",
              "          element.appendChild(docLink);\n",
              "        }\n",
              "      </script>\n",
              "    </div>\n",
              "  </div>\n",
              "  "
            ]
          },
          "metadata": {},
          "execution_count": 8
        }
      ],
      "source": [
        "df_1.corr()"
      ]
    },
    {
      "cell_type": "code",
      "execution_count": 9,
      "metadata": {
        "colab": {
          "base_uri": "https://localhost:8080/",
          "height": 283
        },
        "id": "QF5Yr89Sgf0l",
        "outputId": "7ea2f933-dc43-40b2-de0c-5010ff6e94cf"
      },
      "outputs": [
        {
          "output_type": "execute_result",
          "data": {
            "text/plain": [
              "<matplotlib.axes._subplots.AxesSubplot at 0x7fce22a19a10>"
            ]
          },
          "metadata": {},
          "execution_count": 9
        },
        {
          "output_type": "display_data",
          "data": {
            "text/plain": [
              "<Figure size 432x288 with 1 Axes>"
            ],
            "image/png": "[encoded data removed]"
          },
          "metadata": {
            "needs_background": "light"
          }
        }
      ],
      "source": [
        "df_1['product'].hist()"
      ]
    },
    {
      "cell_type": "code",
      "execution_count": 10,
      "metadata": {
        "colab": {
          "base_uri": "https://localhost:8080/",
          "height": 175
        },
        "id": "ary9GHTfgf0l",
        "outputId": "3c764fe3-bef3-4fe5-884e-ae04cc5a281a"
      },
      "outputs": [
        {
          "output_type": "execute_result",
          "data": {
            "text/plain": [
              "               f0        f1        f2   product\n",
              "f0       1.000000  0.000528 -0.000448 -0.001987\n",
              "f1       0.000528  1.000000  0.000779 -0.001012\n",
              "f2      -0.000448  0.000779  1.000000  0.445871\n",
              "product -0.001987 -0.001012  0.445871  1.000000"
            ],
            "text/html": [
              "\n",
              "  <div id=\"df-2cd43208-18af-492b-b798-55264019f69b\">\n",
              "    <div class=\"colab-df-container\">\n",
              "      <div>\n",
              "<style scoped>\n",
              "    .dataframe tbody tr th:only-of-type {\n",
              "        vertical-align: middle;\n",
              "    }\n",
              "\n",
              "    .dataframe tbody tr th {\n",
              "        vertical-align: top;\n",
              "    }\n",
              "\n",
              "    .dataframe thead th {\n",
              "        text-align: right;\n",
              "    }\n",
              "</style>\n",
              "<table border=\"1\" class=\"dataframe\">\n",
              "  <thead>\n",
              "    <tr style=\"text-align: right;\">\n",
              "      <th></th>\n",
              "      <th>f0</th>\n",
              "      <th>f1</th>\n",
              "      <th>f2</th>\n",
              "      <th>product</th>\n",
              "    </tr>\n",
              "  </thead>\n",
              "  <tbody>\n",
              "    <tr>\n",
              "      <th>f0</th>\n",
              "      <td>1.000000</td>\n",
              "      <td>0.000528</td>\n",
              "      <td>-0.000448</td>\n",
              "      <td>-0.001987</td>\n",
              "    </tr>\n",
              "    <tr>\n",
              "      <th>f1</th>\n",
              "      <td>0.000528</td>\n",
              "      <td>1.000000</td>\n",
              "      <td>0.000779</td>\n",
              "      <td>-0.001012</td>\n",
              "    </tr>\n",
              "    <tr>\n",
              "      <th>f2</th>\n",
              "      <td>-0.000448</td>\n",
              "      <td>0.000779</td>\n",
              "      <td>1.000000</td>\n",
              "      <td>0.445871</td>\n",
              "    </tr>\n",
              "    <tr>\n",
              "      <th>product</th>\n",
              "      <td>-0.001987</td>\n",
              "      <td>-0.001012</td>\n",
              "      <td>0.445871</td>\n",
              "      <td>1.000000</td>\n",
              "    </tr>\n",
              "  </tbody>\n",
              "</table>\n",
              "</div>\n",
              "      <button class=\"colab-df-convert\" onclick=\"convertToInteractive('df-2cd43208-18af-492b-b798-55264019f69b')\"\n",
              "              title=\"Convert this dataframe to an interactive table.\"\n",
              "              style=\"display:none;\">\n",
              "        \n",
              "  <svg xmlns=\"http://www.w3.org/2000/svg\" height=\"24px\"viewBox=\"0 0 24 24\"\n",
              "       width=\"24px\">\n",
              "    <path d=\"M0 0h24v24H0V0z\" fill=\"none\"/>\n",
              "    <path d=\"M18.56 5.44l.94 2.06.94-2.06 2.06-.94-2.06-.94-.94-2.06-.94 2.06-2.06.94zm-11 1L8.5 8.5l.94-2.06 2.06-.94-2.06-.94L8.5 2.5l-.94 2.06-2.06.94zm10 10l.94 2.06.94-2.06 2.06-.94-2.06-.94-.94-2.06-.94 2.06-2.06.94z\"/><path d=\"M17.41 7.96l-1.37-1.37c-.4-.4-.92-.59-1.43-.59-.52 0-1.04.2-1.43.59L10.3 9.45l-7.72 7.72c-.78.78-.78 2.05 0 2.83L4 21.41c.39.39.9.59 1.41.59.51 0 1.02-.2 1.41-.59l7.78-7.78 2.81-2.81c.8-.78.8-2.07 0-2.86zM5.41 20L4 18.59l7.72-7.72 1.47 1.35L5.41 20z\"/>\n",
              "  </svg>\n",
              "      </button>\n",
              "      \n",
              "  <style>\n",
              "    .colab-df-container {\n",
              "      display:flex;\n",
              "      flex-wrap:wrap;\n",
              "      gap: 12px;\n",
              "    }\n",
              "\n",
              "    .colab-df-convert {\n",
              "      background-color: #E8F0FE;\n",
              "      border: none;\n",
              "      border-radius: 50%;\n",
              "      cursor: pointer;\n",
              "      display: none;\n",
              "      fill: #1967D2;\n",
              "      height: 32px;\n",
              "      padding: 0 0 0 0;\n",
              "      width: 32px;\n",
              "    }\n",
              "\n",
              "    .colab-df-convert:hover {\n",
              "      background-color: #E2EBFA;\n",
              "      box-shadow: 0px 1px 2px rgba(60, 64, 67, 0.3), 0px 1px 3px 1px rgba(60, 64, 67, 0.15);\n",
              "      fill: #174EA6;\n",
              "    }\n",
              "\n",
              "    [theme=dark] .colab-df-convert {\n",
              "      background-color: #3B4455;\n",
              "      fill: #D2E3FC;\n",
              "    }\n",
              "\n",
              "    [theme=dark] .colab-df-convert:hover {\n",
              "      background-color: #434B5C;\n",
              "      box-shadow: 0px 1px 3px 1px rgba(0, 0, 0, 0.15);\n",
              "      filter: drop-shadow(0px 1px 2px rgba(0, 0, 0, 0.3));\n",
              "      fill: #FFFFFF;\n",
              "    }\n",
              "  </style>\n",
              "\n",
              "      <script>\n",
              "        const buttonEl =\n",
              "          document.querySelector('#df-2cd43208-18af-492b-b798-55264019f69b button.colab-df-convert');\n",
              "        buttonEl.style.display =\n",
              "          google.colab.kernel.accessAllowed ? 'block' : 'none';\n",
              "\n",
              "        async function convertToInteractive(key) {\n",
              "          const element = document.querySelector('#df-2cd43208-18af-492b-b798-55264019f69b');\n",
              "          const dataTable =\n",
              "            await google.colab.kernel.invokeFunction('convertToInteractive',\n",
              "                                                     [key], {});\n",
              "          if (!dataTable) return;\n",
              "\n",
              "          const docLinkHtml = 'Like what you see? Visit the ' +\n",
              "            '<a target=\"_blank\" href=https://colab.research.google.com/notebooks/data_table.ipynb>data table notebook</a>'\n",
              "            + ' to learn more about interactive tables.';\n",
              "          element.innerHTML = '';\n",
              "          dataTable['output_type'] = 'display_data';\n",
              "          await google.colab.output.renderOutput(dataTable, element);\n",
              "          const docLink = document.createElement('div');\n",
              "          docLink.innerHTML = docLinkHtml;\n",
              "          element.appendChild(docLink);\n",
              "        }\n",
              "      </script>\n",
              "    </div>\n",
              "  </div>\n",
              "  "
            ]
          },
          "metadata": {},
          "execution_count": 10
        }
      ],
      "source": [
        "df_2.corr()"
      ]
    },
    {
      "cell_type": "code",
      "execution_count": 11,
      "metadata": {
        "colab": {
          "base_uri": "https://localhost:8080/",
          "height": 283
        },
        "id": "6QdmHkPkgf0l",
        "outputId": "1c2fd3fa-e9cf-4706-bc26-945c09aa7491"
      },
      "outputs": [
        {
          "output_type": "execute_result",
          "data": {
            "text/plain": [
              "<matplotlib.axes._subplots.AxesSubplot at 0x7fce22497a90>"
            ]
          },
          "metadata": {},
          "execution_count": 11
        },
        {
          "output_type": "display_data",
          "data": {
            "text/plain": [
              "<Figure size 432x288 with 1 Axes>"
            ],
            "image/png": "[encoded data removed]"
          },
          "metadata": {
            "needs_background": "light"
          }
        }
      ],
      "source": [
        "df_2['product'].hist()"
      ]
    },
    {
      "cell_type": "markdown",
      "metadata": {
        "id": "ywkRQlH0gf0m"
      },
      "source": [
        "The distributions are different, and the data from the second region look strange, but since the data were obtained synthetically and the task does not require large-scale transformations of the original data, we will work with what we have."
      ]
    },
    {
      "cell_type": "code",
      "execution_count": 12,
      "metadata": {
        "colab": {
          "base_uri": "https://localhost:8080/",
          "height": 206
        },
        "id": "9eFlakpRgf0m",
        "outputId": "e37c563a-7036-42f5-b6fa-b603a2639aa3"
      },
      "outputs": [
        {
          "output_type": "execute_result",
          "data": {
            "text/plain": [
              "      id        f0        f1        f2     product\n",
              "0  fwXo0 -1.146987  0.963328 -0.828965   27.758673\n",
              "1  WJtFt  0.262778  0.269839 -2.530187   56.069697\n",
              "2  ovLUW  0.194587  0.289035 -5.586433   62.871910\n",
              "3  q6cA6  2.236060 -0.553760  0.930038  114.572842\n",
              "4  WPMUX -0.515993  1.716266  5.899011  149.600746"
            ],
            "text/html": [
              "\n",
              "  <div id=\"df-75b2bf8c-43ca-4cd8-94e1-53ff32ae9084\">\n",
              "    <div class=\"colab-df-container\">\n",
              "      <div>\n",
              "<style scoped>\n",
              "    .dataframe tbody tr th:only-of-type {\n",
              "        vertical-align: middle;\n",
              "    }\n",
              "\n",
              "    .dataframe tbody tr th {\n",
              "        vertical-align: top;\n",
              "    }\n",
              "\n",
              "    .dataframe thead th {\n",
              "        text-align: right;\n",
              "    }\n",
              "</style>\n",
              "<table border=\"1\" class=\"dataframe\">\n",
              "  <thead>\n",
              "    <tr style=\"text-align: right;\">\n",
              "      <th></th>\n",
              "      <th>id</th>\n",
              "      <th>f0</th>\n",
              "      <th>f1</th>\n",
              "      <th>f2</th>\n",
              "      <th>product</th>\n",
              "    </tr>\n",
              "  </thead>\n",
              "  <tbody>\n",
              "    <tr>\n",
              "      <th>0</th>\n",
              "      <td>fwXo0</td>\n",
              "      <td>-1.146987</td>\n",
              "      <td>0.963328</td>\n",
              "      <td>-0.828965</td>\n",
              "      <td>27.758673</td>\n",
              "    </tr>\n",
              "    <tr>\n",
              "      <th>1</th>\n",
              "      <td>WJtFt</td>\n",
              "      <td>0.262778</td>\n",
              "      <td>0.269839</td>\n",
              "      <td>-2.530187</td>\n",
              "      <td>56.069697</td>\n",
              "    </tr>\n",
              "    <tr>\n",
              "      <th>2</th>\n",
              "      <td>ovLUW</td>\n",
              "      <td>0.194587</td>\n",
              "      <td>0.289035</td>\n",
              "      <td>-5.586433</td>\n",
              "      <td>62.871910</td>\n",
              "    </tr>\n",
              "    <tr>\n",
              "      <th>3</th>\n",
              "      <td>q6cA6</td>\n",
              "      <td>2.236060</td>\n",
              "      <td>-0.553760</td>\n",
              "      <td>0.930038</td>\n",
              "      <td>114.572842</td>\n",
              "    </tr>\n",
              "    <tr>\n",
              "      <th>4</th>\n",
              "      <td>WPMUX</td>\n",
              "      <td>-0.515993</td>\n",
              "      <td>1.716266</td>\n",
              "      <td>5.899011</td>\n",
              "      <td>149.600746</td>\n",
              "    </tr>\n",
              "  </tbody>\n",
              "</table>\n",
              "</div>\n",
              "      <button class=\"colab-df-convert\" onclick=\"convertToInteractive('df-75b2bf8c-43ca-4cd8-94e1-53ff32ae9084')\"\n",
              "              title=\"Convert this dataframe to an interactive table.\"\n",
              "              style=\"display:none;\">\n",
              "        \n",
              "  <svg xmlns=\"http://www.w3.org/2000/svg\" height=\"24px\"viewBox=\"0 0 24 24\"\n",
              "       width=\"24px\">\n",
              "    <path d=\"M0 0h24v24H0V0z\" fill=\"none\"/>\n",
              "    <path d=\"M18.56 5.44l.94 2.06.94-2.06 2.06-.94-2.06-.94-.94-2.06-.94 2.06-2.06.94zm-11 1L8.5 8.5l.94-2.06 2.06-.94-2.06-.94L8.5 2.5l-.94 2.06-2.06.94zm10 10l.94 2.06.94-2.06 2.06-.94-2.06-.94-.94-2.06-.94 2.06-2.06.94z\"/><path d=\"M17.41 7.96l-1.37-1.37c-.4-.4-.92-.59-1.43-.59-.52 0-1.04.2-1.43.59L10.3 9.45l-7.72 7.72c-.78.78-.78 2.05 0 2.83L4 21.41c.39.39.9.59 1.41.59.51 0 1.02-.2 1.41-.59l7.78-7.78 2.81-2.81c.8-.78.8-2.07 0-2.86zM5.41 20L4 18.59l7.72-7.72 1.47 1.35L5.41 20z\"/>\n",
              "  </svg>\n",
              "      </button>\n",
              "      \n",
              "  <style>\n",
              "    .colab-df-container {\n",
              "      display:flex;\n",
              "      flex-wrap:wrap;\n",
              "      gap: 12px;\n",
              "    }\n",
              "\n",
              "    .colab-df-convert {\n",
              "      background-color: #E8F0FE;\n",
              "      border: none;\n",
              "      border-radius: 50%;\n",
              "      cursor: pointer;\n",
              "      display: none;\n",
              "      fill: #1967D2;\n",
              "      height: 32px;\n",
              "      padding: 0 0 0 0;\n",
              "      width: 32px;\n",
              "    }\n",
              "\n",
              "    .colab-df-convert:hover {\n",
              "      background-color: #E2EBFA;\n",
              "      box-shadow: 0px 1px 2px rgba(60, 64, 67, 0.3), 0px 1px 3px 1px rgba(60, 64, 67, 0.15);\n",
              "      fill: #174EA6;\n",
              "    }\n",
              "\n",
              "    [theme=dark] .colab-df-convert {\n",
              "      background-color: #3B4455;\n",
              "      fill: #D2E3FC;\n",
              "    }\n",
              "\n",
              "    [theme=dark] .colab-df-convert:hover {\n",
              "      background-color: #434B5C;\n",
              "      box-shadow: 0px 1px 3px 1px rgba(0, 0, 0, 0.15);\n",
              "      filter: drop-shadow(0px 1px 2px rgba(0, 0, 0, 0.3));\n",
              "      fill: #FFFFFF;\n",
              "    }\n",
              "  </style>\n",
              "\n",
              "      <script>\n",
              "        const buttonEl =\n",
              "          document.querySelector('#df-75b2bf8c-43ca-4cd8-94e1-53ff32ae9084 button.colab-df-convert');\n",
              "        buttonEl.style.display =\n",
              "          google.colab.kernel.accessAllowed ? 'block' : 'none';\n",
              "\n",
              "        async function convertToInteractive(key) {\n",
              "          const element = document.querySelector('#df-75b2bf8c-43ca-4cd8-94e1-53ff32ae9084');\n",
              "          const dataTable =\n",
              "            await google.colab.kernel.invokeFunction('convertToInteractive',\n",
              "                                                     [key], {});\n",
              "          if (!dataTable) return;\n",
              "\n",
              "          const docLinkHtml = 'Like what you see? Visit the ' +\n",
              "            '<a target=\"_blank\" href=https://colab.research.google.com/notebooks/data_table.ipynb>data table notebook</a>'\n",
              "            + ' to learn more about interactive tables.';\n",
              "          element.innerHTML = '';\n",
              "          dataTable['output_type'] = 'display_data';\n",
              "          await google.colab.output.renderOutput(dataTable, element);\n",
              "          const docLink = document.createElement('div');\n",
              "          docLink.innerHTML = docLinkHtml;\n",
              "          element.appendChild(docLink);\n",
              "        }\n",
              "      </script>\n",
              "    </div>\n",
              "  </div>\n",
              "  "
            ]
          },
          "metadata": {},
          "execution_count": 12
        }
      ],
      "source": [
        "df_2.head()"
      ]
    },
    {
      "cell_type": "markdown",
      "metadata": {
        "id": "vZIb2nq8gf0m"
      },
      "source": [
        "Let's divide the data sets into features and target. While the data contains information about the ID of the point under study, which has no semantic meaning for building models, this information is discarded:"
      ]
    },
    {
      "cell_type": "code",
      "execution_count": 13,
      "metadata": {
        "colab": {
          "base_uri": "https://localhost:8080/"
        },
        "id": "uwqQJxragf0m",
        "outputId": "03c25ff5-e29b-4b8b-ec9a-958ca9435457"
      },
      "outputs": [
        {
          "output_type": "stream",
          "name": "stdout",
          "text": [
            "(100000,) (100000, 3)\n"
          ]
        }
      ],
      "source": [
        "target_0 = df_0['product']\n",
        "features_0 = df_0.drop(['product', 'id'], axis=1)\n",
        "print(target_0.shape, features_0.shape)"
      ]
    },
    {
      "cell_type": "code",
      "execution_count": 14,
      "metadata": {
        "colab": {
          "base_uri": "https://localhost:8080/"
        },
        "id": "NSCXjuL9gf0n",
        "outputId": "5596950d-2124-4725-c8c6-98ea2fdd679d"
      },
      "outputs": [
        {
          "output_type": "stream",
          "name": "stdout",
          "text": [
            "(100000,) (100000, 3)\n"
          ]
        }
      ],
      "source": [
        "target_1 = df_1['product']\n",
        "features_1 = df_1.drop(['product', 'id'], axis=1)\n",
        "print(target_1.shape, features_1.shape)"
      ]
    },
    {
      "cell_type": "code",
      "execution_count": 15,
      "metadata": {
        "colab": {
          "base_uri": "https://localhost:8080/"
        },
        "id": "mwQm7lDLgf0n",
        "outputId": "8c757796-911c-4c72-cae2-f1e933b0c793"
      },
      "outputs": [
        {
          "output_type": "stream",
          "name": "stdout",
          "text": [
            "(100000,) (100000, 3)\n"
          ]
        }
      ],
      "source": [
        "target_2 = df_2['product']\n",
        "features_2 = df_2.drop(['product', 'id'], axis=1)\n",
        "print(target_2.shape, features_2.shape)"
      ]
    },
    {
      "cell_type": "markdown",
      "metadata": {
        "id": "EKgbqXargf0n"
      },
      "source": [
        "Data is loaded, validated, and prepared for use in machine learning."
      ]
    },
    {
      "cell_type": "markdown",
      "metadata": {
        "id": "0g0kQ-edgf0n"
      },
      "source": [
        "## Train and validate the model"
      ]
    },
    {
      "cell_type": "markdown",
      "metadata": {
        "id": "TeJrAvhAgf0n"
      },
      "source": [
        "### Region №0"
      ]
    },
    {
      "cell_type": "markdown",
      "metadata": {
        "id": "9iXYNSiggf0n"
      },
      "source": [
        "We split the dataset into training and test samples in the ratio of 75/25%."
      ]
    },
    {
      "cell_type": "code",
      "execution_count": 16,
      "metadata": {
        "id": "haAZtqAagf0n"
      },
      "outputs": [],
      "source": [
        "train_features_0, test_features_0, train_target_0, test_target_0 = train_test_split(\n",
        "features_0, target_0, test_size=0.25, random_state=12345)"
      ]
    },
    {
      "cell_type": "markdown",
      "metadata": {
        "id": "0FHbmuiTgf0o"
      },
      "source": [
        "Model - linear regression"
      ]
    },
    {
      "cell_type": "code",
      "execution_count": 17,
      "metadata": {
        "colab": {
          "base_uri": "https://localhost:8080/"
        },
        "id": "xpyF4_e2gf0o",
        "outputId": "827ca475-9a9e-4f16-dce5-c7326e02fb30"
      },
      "outputs": [
        {
          "output_type": "execute_result",
          "data": {
            "text/plain": [
              "LinearRegression()"
            ]
          },
          "metadata": {},
          "execution_count": 17
        }
      ],
      "source": [
        "model_0 = LinearRegression()\n",
        "model_0.fit(train_features_0, train_target_0)"
      ]
    },
    {
      "cell_type": "markdown",
      "metadata": {
        "id": "xHFH3zSWgf0o"
      },
      "source": [
        "The model predictions for the test set are saved for further use"
      ]
    },
    {
      "cell_type": "code",
      "execution_count": 18,
      "metadata": {
        "id": "ejKmcd20gf0o"
      },
      "outputs": [],
      "source": [
        "predict_0 = model_0.predict(test_features_0)"
      ]
    },
    {
      "cell_type": "markdown",
      "metadata": {
        "id": "AxtI9ZKUgf0o"
      },
      "source": [
        "Model's RMSE:"
      ]
    },
    {
      "cell_type": "code",
      "execution_count": 19,
      "metadata": {
        "id": "86_6rCTQgf0o"
      },
      "outputs": [],
      "source": [
        "mse_0 = mean_squared_error(test_target_0, predict_0)"
      ]
    },
    {
      "cell_type": "code",
      "execution_count": 20,
      "metadata": {
        "colab": {
          "base_uri": "https://localhost:8080/"
        },
        "id": "wTgduVATgf0o",
        "outputId": "b1ec0131-03d0-448c-9ee2-60b0bbe22390"
      },
      "outputs": [
        {
          "output_type": "execute_result",
          "data": {
            "text/plain": [
              "37.5794217150813"
            ]
          },
          "metadata": {},
          "execution_count": 20
        }
      ],
      "source": [
        "mse_0**0.5"
      ]
    },
    {
      "cell_type": "code",
      "execution_count": 21,
      "metadata": {
        "colab": {
          "base_uri": "https://localhost:8080/"
        },
        "id": "LoOG5oLPgf0o",
        "outputId": "e0bddd9c-58db-4fca-da7a-11c36a0c2a2c"
      },
      "outputs": [
        {
          "output_type": "execute_result",
          "data": {
            "text/plain": [
              "92.59256778438035"
            ]
          },
          "metadata": {},
          "execution_count": 21
        }
      ],
      "source": [
        "pd.Series(predict_0).mean()"
      ]
    },
    {
      "cell_type": "markdown",
      "metadata": {
        "id": "WQ-ZM7h0gf0p"
      },
      "source": [
        "### Region №1"
      ]
    },
    {
      "cell_type": "markdown",
      "metadata": {
        "id": "dfVbPbRvgf0p"
      },
      "source": [
        "In a similar way construct and analyze the model for the second region"
      ]
    },
    {
      "cell_type": "code",
      "execution_count": 22,
      "metadata": {
        "id": "RB0TFSmRgf0p"
      },
      "outputs": [],
      "source": [
        "train_features_1, test_features_1, train_target_1, test_target_1 = train_test_split(\n",
        "features_1, target_1, test_size=0.25, random_state=12345)"
      ]
    },
    {
      "cell_type": "code",
      "execution_count": 23,
      "metadata": {
        "colab": {
          "base_uri": "https://localhost:8080/"
        },
        "id": "uPP92KbGgf0p",
        "outputId": "e61f03f0-d456-4b24-b17e-7484f5919f59"
      },
      "outputs": [
        {
          "output_type": "execute_result",
          "data": {
            "text/plain": [
              "LinearRegression()"
            ]
          },
          "metadata": {},
          "execution_count": 23
        }
      ],
      "source": [
        "model_1 = LinearRegression()\n",
        "model_1.fit(train_features_1, train_target_1)"
      ]
    },
    {
      "cell_type": "code",
      "execution_count": 24,
      "metadata": {
        "id": "BG2qb923gf0p"
      },
      "outputs": [],
      "source": [
        "predict_1 = model_1.predict(test_features_1)"
      ]
    },
    {
      "cell_type": "code",
      "execution_count": 25,
      "metadata": {
        "id": "UwDku22Lgf0p"
      },
      "outputs": [],
      "source": [
        "mse_1 = mean_squared_error(test_target_1, predict_1)"
      ]
    },
    {
      "cell_type": "code",
      "execution_count": 26,
      "metadata": {
        "colab": {
          "base_uri": "https://localhost:8080/"
        },
        "id": "DKuEjkL-gf0p",
        "outputId": "435740bf-b817-4761-8618-e058999904f7"
      },
      "outputs": [
        {
          "output_type": "execute_result",
          "data": {
            "text/plain": [
              "0.893099286775617"
            ]
          },
          "metadata": {},
          "execution_count": 26
        }
      ],
      "source": [
        "mse_1**0.5"
      ]
    },
    {
      "cell_type": "code",
      "execution_count": 27,
      "metadata": {
        "colab": {
          "base_uri": "https://localhost:8080/"
        },
        "id": "LEKhagwYgf0p",
        "outputId": "8f882862-433b-4a7e-afbb-d2548ef18786"
      },
      "outputs": [
        {
          "output_type": "execute_result",
          "data": {
            "text/plain": [
              "68.728546895446"
            ]
          },
          "metadata": {},
          "execution_count": 27
        }
      ],
      "source": [
        "pd.Series(predict_1).mean()"
      ]
    },
    {
      "cell_type": "markdown",
      "metadata": {
        "id": "y4NhhLjHgf0p"
      },
      "source": [
        "### Region №2"
      ]
    },
    {
      "cell_type": "markdown",
      "metadata": {
        "id": "19jO3Qucgf0p"
      },
      "source": [
        "\n",
        "In a similar way we construct and analyze the model for the second region"
      ]
    },
    {
      "cell_type": "code",
      "execution_count": 28,
      "metadata": {
        "id": "K0UQst1igf0q"
      },
      "outputs": [],
      "source": [
        "train_features_2, test_features_2, train_target_2, test_target_2 = train_test_split(\n",
        "features_2, target_2, test_size=0.25, random_state=12345)"
      ]
    },
    {
      "cell_type": "code",
      "execution_count": 29,
      "metadata": {
        "colab": {
          "base_uri": "https://localhost:8080/"
        },
        "id": "2dHmzqiDgf0q",
        "outputId": "5ad20bb6-b97e-4292-81f3-1b6adae20d84"
      },
      "outputs": [
        {
          "output_type": "execute_result",
          "data": {
            "text/plain": [
              "LinearRegression()"
            ]
          },
          "metadata": {},
          "execution_count": 29
        }
      ],
      "source": [
        "model_2 = LinearRegression()\n",
        "model_2.fit(train_features_2, train_target_2)"
      ]
    },
    {
      "cell_type": "code",
      "execution_count": 30,
      "metadata": {
        "id": "OZH9H31xgf0q"
      },
      "outputs": [],
      "source": [
        "predict_2 = model_2.predict(test_features_2)"
      ]
    },
    {
      "cell_type": "code",
      "execution_count": 31,
      "metadata": {
        "id": "Qjcsov_pgf0q"
      },
      "outputs": [],
      "source": [
        "mse_2 = mean_squared_error(test_target_2, predict_2)"
      ]
    },
    {
      "cell_type": "code",
      "execution_count": 32,
      "metadata": {
        "colab": {
          "base_uri": "https://localhost:8080/"
        },
        "id": "jn1mnrd7gf0q",
        "outputId": "5a827b3a-8dd2-4c5c-82b3-ab6329151148"
      },
      "outputs": [
        {
          "output_type": "execute_result",
          "data": {
            "text/plain": [
              "40.02970873393434"
            ]
          },
          "metadata": {},
          "execution_count": 32
        }
      ],
      "source": [
        "mse_2**0.5"
      ]
    },
    {
      "cell_type": "code",
      "execution_count": 33,
      "metadata": {
        "colab": {
          "base_uri": "https://localhost:8080/"
        },
        "id": "h_uJyR6Cgf0q",
        "outputId": "21d852c0-3f7a-448e-f695-2e913273fa2f"
      },
      "outputs": [
        {
          "output_type": "execute_result",
          "data": {
            "text/plain": [
              "94.96504596800489"
            ]
          },
          "metadata": {},
          "execution_count": 33
        }
      ],
      "source": [
        "pd.Series(predict_2).mean()"
      ]
    },
    {
      "cell_type": "markdown",
      "metadata": {
        "id": "rTw6dZnwgf0q"
      },
      "source": [
        "### Conclusion"
      ]
    },
    {
      "cell_type": "markdown",
      "metadata": {
        "id": "5ikBpw_igf0q"
      },
      "source": [
        "The models are created, the predictions are obtained, the results correspond to the differences between the second and the first with the third region previously determined."
      ]
    },
    {
      "cell_type": "markdown",
      "metadata": {
        "id": "9KfGlZp7gf0r"
      },
      "source": [
        "## Preparing for Profit Calculation\n"
      ]
    },
    {
      "cell_type": "markdown",
      "metadata": {
        "id": "gfo_bfX5gf0r"
      },
      "source": [
        "Let's use constants for the calculation of economic indicators:\n",
        "* budget - the budget for the development of fields in the region, \n",
        "* product_price - the cost of one unit of production (1000 barrels), \n",
        "* product_amount - the necessary oil reserves in the region to ensure breakeven production."
      ]
    },
    {
      "cell_type": "code",
      "execution_count": 34,
      "metadata": {
        "id": "oGW1mZY2gf0s"
      },
      "outputs": [],
      "source": [
        "BUDGET = 10000000000\n",
        "PRODUCT_PRICE = 450000"
      ]
    },
    {
      "cell_type": "code",
      "execution_count": 35,
      "metadata": {
        "colab": {
          "base_uri": "https://localhost:8080/"
        },
        "id": "H_AvBLtjgf0t",
        "outputId": "9903d43d-c033-4f6c-983a-ad6e75cb1cb0"
      },
      "outputs": [
        {
          "output_type": "execute_result",
          "data": {
            "text/plain": [
              "22222.222222222223"
            ]
          },
          "metadata": {},
          "execution_count": 35
        }
      ],
      "source": [
        "product_amount = BUDGET / PRODUCT_PRICE\n",
        "product_amount"
      ]
    },
    {
      "cell_type": "markdown",
      "metadata": {
        "id": "JsEt4dpGgf0t"
      },
      "source": [
        "The average volume of reserves in the region should be higher than this value. Let's calculate the reserves in the regions:"
      ]
    },
    {
      "cell_type": "code",
      "execution_count": 36,
      "metadata": {
        "colab": {
          "base_uri": "https://localhost:8080/"
        },
        "id": "wX7mR2k8gf0t",
        "outputId": "c0c1de86-995e-45c0-cc07-189debd0d99f"
      },
      "outputs": [
        {
          "output_type": "execute_result",
          "data": {
            "text/plain": [
              "18066.757175770523"
            ]
          },
          "metadata": {},
          "execution_count": 36
        }
      ],
      "source": [
        "pd.Series(predict_0).sample(n=200, random_state=12345).sum()"
      ]
    },
    {
      "cell_type": "code",
      "execution_count": 37,
      "metadata": {
        "colab": {
          "base_uri": "https://localhost:8080/"
        },
        "id": "5uJPlqB3gf0t",
        "outputId": "6775a70c-0486-4079-b8f3-82bf8f3e0aee"
      },
      "outputs": [
        {
          "output_type": "execute_result",
          "data": {
            "text/plain": [
              "14733.595879158143"
            ]
          },
          "metadata": {},
          "execution_count": 37
        }
      ],
      "source": [
        "pd.Series(predict_1).sample(n=200, random_state=12345).sum()"
      ]
    },
    {
      "cell_type": "code",
      "execution_count": 38,
      "metadata": {
        "colab": {
          "base_uri": "https://localhost:8080/"
        },
        "id": "ULn8DJWRgf0t",
        "outputId": "252fa9f8-7791-460f-f3ea-90ea7bfdffef"
      },
      "outputs": [
        {
          "output_type": "execute_result",
          "data": {
            "text/plain": [
              "18741.229826615017"
            ]
          },
          "metadata": {},
          "execution_count": 38
        }
      ],
      "source": [
        "pd.Series(predict_2).sample(n=200, random_state=12345).sum()"
      ]
    },
    {
      "cell_type": "markdown",
      "metadata": {
        "id": "zvvex55wgf0u"
      },
      "source": [
        "At first glance, all three regions do not have sufficient oil reserves to warrant cost-covering development. Therefore, it is necessary to perform an analysis using machine learning."
      ]
    },
    {
      "cell_type": "markdown",
      "metadata": {
        "id": "ALzp6mt2gf0u"
      },
      "source": [
        "## Calculation of profit and risks"
      ]
    },
    {
      "cell_type": "markdown",
      "metadata": {
        "id": "DbpGoK8Ngf0u"
      },
      "source": [
        "To calculate the economic prospects for the development of the fields in the regions, we will write the functions for calculating the profit, the 95% confidence interval for the average profit and the probability of loss."
      ]
    },
    {
      "cell_type": "code",
      "execution_count": 39,
      "metadata": {
        "id": "e6g7GgiTgf0u"
      },
      "outputs": [],
      "source": [
        "def profit(sample):\n",
        "    \"\"\"The function of calculating the profit from oil production according to the model predictions\"\"\"\n",
        "    return (sample.sum() * PRODUCT_PRICE - BUDGET)"
      ]
    },
    {
      "cell_type": "code",
      "execution_count": 40,
      "metadata": {
        "id": "lrNcckfygf0u"
      },
      "outputs": [],
      "source": [
        "state = RandomState(12345)\n",
        "def bootstrap(predicted, true_product, count):\n",
        "    \"\"\"Function to calculate the average profit with 95% confidence interval \n",
        "    and loss probability using the bootstrap technique\"\"\"\n",
        "    values = []\n",
        "    true_product = pd.Series(true_product).reset_index(drop=True)\n",
        "    for i in range(1000):\n",
        "        predicted_subsample = pd.Series(predicted).sample(\n",
        "            n=500, replace=True, random_state=state).sort_values(ascending=False).head(count)\n",
        "        true_subsample = true_product[predicted_subsample.index]\n",
        "        values.append(profit(true_subsample))\n",
        "    values = pd.Series(values)\n",
        "    mean = values.mean()\n",
        "    lower = values.quantile(0.025)\n",
        "    upper = values.quantile(0.975)\n",
        "    print(\"Average profit, million rubles:\", mean / 1000000)\n",
        "    print(\"95% confidence interval of average profit, million rubles: from\", lower / 1000000, \"to\", upper / 1000000)\n",
        "    print(\"Loss probability:\", (values < 0).mean())"
      ]
    },
    {
      "cell_type": "code",
      "execution_count": 41,
      "metadata": {
        "colab": {
          "base_uri": "https://localhost:8080/"
        },
        "id": "M5u2tubjgf0v",
        "outputId": "a455d43d-a534-4618-bbdd-8d870836b208"
      },
      "outputs": [
        {
          "output_type": "stream",
          "name": "stdout",
          "text": [
            "Average profit, million rubles: 396.16498480237107\n",
            "95% confidence interval of average profit, million rubles: from -111.21554589049525 to 909.7669415534226\n",
            "Loss probability: 0.069\n"
          ]
        }
      ],
      "source": [
        "bootstrap(predict_0, test_target_0, 200)"
      ]
    },
    {
      "cell_type": "code",
      "execution_count": 42,
      "metadata": {
        "colab": {
          "base_uri": "https://localhost:8080/"
        },
        "id": "GDJ1-iOogf0v",
        "outputId": "627b93b2-f6c3-4c9b-961b-e9adb08dc360"
      },
      "outputs": [
        {
          "output_type": "stream",
          "name": "stdout",
          "text": [
            "Average profit, million rubles: 461.1558172772397\n",
            "95% confidence interval of average profit, million rubles: from 78.05081075174171 to 862.9520602637234\n",
            "Loss probability: 0.007\n"
          ]
        }
      ],
      "source": [
        "bootstrap(predict_1, test_target_1, 200)"
      ]
    },
    {
      "cell_type": "code",
      "execution_count": 43,
      "metadata": {
        "colab": {
          "base_uri": "https://localhost:8080/"
        },
        "id": "N5iyucNPgf0v",
        "outputId": "da4aa590-96c6-4aa2-a867-9d2fe4db4d4b"
      },
      "outputs": [
        {
          "output_type": "stream",
          "name": "stdout",
          "text": [
            "Average profit, million rubles: 392.9504751706045\n",
            "95% confidence interval of average profit, million rubles: from -112.22762537857565 to 934.5629145511635\n",
            "Loss probability: 0.065\n"
          ]
        }
      ],
      "source": [
        "bootstrap(predict_2, test_target_2, 200)"
      ]
    },
    {
      "cell_type": "markdown",
      "metadata": {
        "id": "2BpKHe_Zgf0v"
      },
      "source": [
        "Based on the calculations, we can highlight region #1 as the most promising in terms of total predicted average profit and loss probability."
      ]
    }
  ],
  "metadata": {
    "ExecuteTimeLog": [
      {
        "duration": 545,
        "start_time": "2022-01-18T12:46:29.837Z"
      },
      {
        "duration": 742,
        "start_time": "2022-01-18T12:46:54.737Z"
      },
      {
        "duration": 481,
        "start_time": "2022-01-18T12:47:34.203Z"
      },
      {
        "duration": 3,
        "start_time": "2022-01-18T12:56:10.214Z"
      },
      {
        "duration": 393,
        "start_time": "2022-01-18T12:56:11.255Z"
      },
      {
        "duration": 12,
        "start_time": "2022-01-18T12:56:12.334Z"
      },
      {
        "duration": 10,
        "start_time": "2022-01-18T12:56:33.852Z"
      },
      {
        "duration": 10,
        "start_time": "2022-01-18T12:56:46.450Z"
      },
      {
        "duration": 14,
        "start_time": "2022-01-18T12:57:11.148Z"
      },
      {
        "duration": 458,
        "start_time": "2022-01-18T13:16:10.561Z"
      },
      {
        "duration": 9,
        "start_time": "2022-01-18T13:16:20.524Z"
      },
      {
        "duration": 12,
        "start_time": "2022-01-18T13:16:24.892Z"
      },
      {
        "duration": 6,
        "start_time": "2022-01-18T13:19:21.255Z"
      },
      {
        "duration": 8,
        "start_time": "2022-01-18T13:19:46.039Z"
      },
      {
        "duration": 7,
        "start_time": "2022-01-18T13:20:56.156Z"
      },
      {
        "duration": 8,
        "start_time": "2022-01-18T13:21:11.989Z"
      },
      {
        "duration": 3,
        "start_time": "2022-01-18T13:22:00.441Z"
      },
      {
        "duration": 185,
        "start_time": "2022-01-18T13:22:04.976Z"
      },
      {
        "duration": 199,
        "start_time": "2022-01-18T13:23:15.319Z"
      },
      {
        "duration": 6,
        "start_time": "2022-01-18T13:23:45.784Z"
      },
      {
        "duration": 8,
        "start_time": "2022-01-18T13:23:55.882Z"
      },
      {
        "duration": 5,
        "start_time": "2022-01-18T13:24:01.149Z"
      },
      {
        "duration": 14,
        "start_time": "2022-01-18T13:24:05.483Z"
      },
      {
        "duration": 3,
        "start_time": "2022-01-18T13:31:04.456Z"
      },
      {
        "duration": 383,
        "start_time": "2022-01-18T13:31:08.705Z"
      },
      {
        "duration": 10,
        "start_time": "2022-01-18T13:31:09.711Z"
      },
      {
        "duration": 10,
        "start_time": "2022-01-18T13:31:10.334Z"
      },
      {
        "duration": 11,
        "start_time": "2022-01-18T13:31:11.127Z"
      },
      {
        "duration": 9,
        "start_time": "2022-01-18T13:31:11.802Z"
      },
      {
        "duration": 6,
        "start_time": "2022-01-18T13:31:12.481Z"
      },
      {
        "duration": 5,
        "start_time": "2022-01-18T13:31:13.514Z"
      },
      {
        "duration": 6,
        "start_time": "2022-01-18T13:31:14.229Z"
      },
      {
        "duration": 3,
        "start_time": "2022-01-18T13:32:18.406Z"
      },
      {
        "duration": 178,
        "start_time": "2022-01-18T13:32:24.459Z"
      },
      {
        "duration": 20,
        "start_time": "2022-01-18T13:32:38.260Z"
      },
      {
        "duration": 12,
        "start_time": "2022-01-18T13:32:41.357Z"
      },
      {
        "duration": 10,
        "start_time": "2022-01-18T13:34:54.898Z"
      },
      {
        "duration": 4,
        "start_time": "2022-01-18T14:43:04.693Z"
      },
      {
        "duration": 2,
        "start_time": "2022-01-18T14:43:46.079Z"
      },
      {
        "duration": 178,
        "start_time": "2022-01-18T14:44:28.779Z"
      },
      {
        "duration": 4,
        "start_time": "2022-01-18T14:44:51.146Z"
      },
      {
        "duration": 4,
        "start_time": "2022-01-18T14:45:00.726Z"
      },
      {
        "duration": 4,
        "start_time": "2022-01-18T14:46:29.637Z"
      },
      {
        "duration": 13,
        "start_time": "2022-01-18T14:49:00.872Z"
      },
      {
        "duration": 14,
        "start_time": "2022-01-18T14:49:15.798Z"
      },
      {
        "duration": 13,
        "start_time": "2022-01-18T14:49:35.446Z"
      },
      {
        "duration": 9,
        "start_time": "2022-01-18T14:49:47.654Z"
      },
      {
        "duration": 8,
        "start_time": "2022-01-18T14:49:53.677Z"
      },
      {
        "duration": 3,
        "start_time": "2022-01-18T14:49:57.279Z"
      },
      {
        "duration": 4,
        "start_time": "2022-01-18T14:49:58.211Z"
      },
      {
        "duration": 13,
        "start_time": "2022-01-18T14:50:19.517Z"
      },
      {
        "duration": 12,
        "start_time": "2022-01-18T14:50:31.436Z"
      },
      {
        "duration": 13,
        "start_time": "2022-01-18T14:50:38.451Z"
      },
      {
        "duration": 4,
        "start_time": "2022-01-18T14:50:44.906Z"
      },
      {
        "duration": 4,
        "start_time": "2022-01-18T14:50:45.893Z"
      },
      {
        "duration": 178,
        "start_time": "2022-01-18T14:51:49.163Z"
      },
      {
        "duration": 475,
        "start_time": "2022-01-18T14:51:49.594Z"
      },
      {
        "duration": 5,
        "start_time": "2022-01-18T14:52:25.293Z"
      },
      {
        "duration": 16,
        "start_time": "2022-01-18T14:52:34.588Z"
      },
      {
        "duration": 12,
        "start_time": "2022-01-18T14:52:36.067Z"
      },
      {
        "duration": 21,
        "start_time": "2022-01-18T14:52:37.594Z"
      },
      {
        "duration": 3,
        "start_time": "2022-01-18T14:52:38.843Z"
      },
      {
        "duration": 4,
        "start_time": "2022-01-18T14:52:39.764Z"
      },
      {
        "duration": 4,
        "start_time": "2022-01-18T14:55:50.446Z"
      },
      {
        "duration": 5,
        "start_time": "2022-01-18T14:56:04.259Z"
      },
      {
        "duration": 5,
        "start_time": "2022-01-18T14:56:31.969Z"
      },
      {
        "duration": 5,
        "start_time": "2022-01-18T14:56:47.690Z"
      },
      {
        "duration": 5,
        "start_time": "2022-01-18T14:57:08.373Z"
      },
      {
        "duration": 5,
        "start_time": "2022-01-18T14:57:30.348Z"
      },
      {
        "duration": 1347,
        "start_time": "2022-01-19T05:37:02.198Z"
      },
      {
        "duration": 462,
        "start_time": "2022-01-19T05:37:03.547Z"
      },
      {
        "duration": 23,
        "start_time": "2022-01-19T05:37:04.012Z"
      },
      {
        "duration": 22,
        "start_time": "2022-01-19T05:37:04.038Z"
      },
      {
        "duration": 13,
        "start_time": "2022-01-19T05:37:04.062Z"
      },
      {
        "duration": 22,
        "start_time": "2022-01-19T05:37:04.077Z"
      },
      {
        "duration": 32,
        "start_time": "2022-01-19T05:37:04.101Z"
      },
      {
        "duration": 19,
        "start_time": "2022-01-19T05:37:04.137Z"
      },
      {
        "duration": 15,
        "start_time": "2022-01-19T05:37:04.159Z"
      },
      {
        "duration": 9,
        "start_time": "2022-01-19T05:37:04.176Z"
      },
      {
        "duration": 20,
        "start_time": "2022-01-19T05:37:04.188Z"
      },
      {
        "duration": 34,
        "start_time": "2022-01-19T05:37:04.211Z"
      },
      {
        "duration": 9,
        "start_time": "2022-01-19T05:37:04.248Z"
      },
      {
        "duration": 172,
        "start_time": "2022-01-19T05:37:04.260Z"
      },
      {
        "duration": 5,
        "start_time": "2022-01-19T05:37:04.435Z"
      },
      {
        "duration": 8,
        "start_time": "2022-01-19T05:37:04.443Z"
      },
      {
        "duration": 18,
        "start_time": "2022-01-19T05:37:04.453Z"
      },
      {
        "duration": 15,
        "start_time": "2022-01-19T05:37:04.473Z"
      },
      {
        "duration": 44,
        "start_time": "2022-01-19T05:37:04.490Z"
      },
      {
        "duration": 98,
        "start_time": "2022-01-19T05:37:04.537Z"
      },
      {
        "duration": 97,
        "start_time": "2022-01-19T05:37:04.638Z"
      },
      {
        "duration": 9,
        "start_time": "2022-01-19T05:37:04.737Z"
      },
      {
        "duration": 18,
        "start_time": "2022-01-19T05:37:04.750Z"
      },
      {
        "duration": 15,
        "start_time": "2022-01-19T05:37:04.770Z"
      },
      {
        "duration": 46,
        "start_time": "2022-01-19T05:37:04.787Z"
      },
      {
        "duration": 102,
        "start_time": "2022-01-19T05:37:04.836Z"
      },
      {
        "duration": 12,
        "start_time": "2022-01-19T05:37:04.940Z"
      },
      {
        "duration": 8,
        "start_time": "2022-01-19T05:37:04.956Z"
      },
      {
        "duration": 229,
        "start_time": "2022-01-19T12:45:19.144Z"
      },
      {
        "duration": 920,
        "start_time": "2022-01-19T12:45:28.178Z"
      },
      {
        "duration": 311,
        "start_time": "2022-01-19T12:45:29.100Z"
      },
      {
        "duration": 10,
        "start_time": "2022-01-19T12:45:29.413Z"
      },
      {
        "duration": 18,
        "start_time": "2022-01-19T12:45:29.424Z"
      },
      {
        "duration": 9,
        "start_time": "2022-01-19T12:45:29.443Z"
      },
      {
        "duration": 8,
        "start_time": "2022-01-19T12:45:29.453Z"
      },
      {
        "duration": 7,
        "start_time": "2022-01-19T12:45:29.463Z"
      },
      {
        "duration": 6,
        "start_time": "2022-01-19T12:45:29.471Z"
      },
      {
        "duration": 7,
        "start_time": "2022-01-19T12:45:29.511Z"
      },
      {
        "duration": 7,
        "start_time": "2022-01-19T12:45:29.519Z"
      },
      {
        "duration": 12,
        "start_time": "2022-01-19T12:45:29.527Z"
      },
      {
        "duration": 16,
        "start_time": "2022-01-19T12:45:29.540Z"
      },
      {
        "duration": 10,
        "start_time": "2022-01-19T12:45:29.558Z"
      },
      {
        "duration": 4,
        "start_time": "2022-01-19T12:45:29.570Z"
      },
      {
        "duration": 4,
        "start_time": "2022-01-19T12:45:29.612Z"
      },
      {
        "duration": 95,
        "start_time": "2022-01-19T12:45:29.618Z"
      },
      {
        "duration": 4,
        "start_time": "2022-01-19T12:45:29.714Z"
      },
      {
        "duration": 14,
        "start_time": "2022-01-19T12:45:29.719Z"
      },
      {
        "duration": 9,
        "start_time": "2022-01-19T12:45:29.734Z"
      },
      {
        "duration": 3,
        "start_time": "2022-01-19T12:45:29.745Z"
      },
      {
        "duration": 64,
        "start_time": "2022-01-19T12:45:29.750Z"
      },
      {
        "duration": 7,
        "start_time": "2022-01-19T12:45:29.816Z"
      },
      {
        "duration": 88,
        "start_time": "2022-01-19T12:45:29.825Z"
      },
      {
        "duration": 13,
        "start_time": "2022-01-19T12:45:29.914Z"
      },
      {
        "duration": 10,
        "start_time": "2022-01-19T12:45:29.928Z"
      },
      {
        "duration": 2,
        "start_time": "2022-01-19T12:45:29.940Z"
      },
      {
        "duration": 69,
        "start_time": "2022-01-19T12:45:29.945Z"
      },
      {
        "duration": 8,
        "start_time": "2022-01-19T12:45:30.017Z"
      },
      {
        "duration": 90,
        "start_time": "2022-01-19T12:45:30.027Z"
      },
      {
        "duration": 217,
        "start_time": "2022-01-19T12:46:01.982Z"
      },
      {
        "duration": 12,
        "start_time": "2022-01-19T12:46:07.461Z"
      },
      {
        "duration": 11,
        "start_time": "2022-01-19T12:46:40.060Z"
      },
      {
        "duration": 275,
        "start_time": "2022-01-19T12:47:40.025Z"
      },
      {
        "duration": 201,
        "start_time": "2022-01-19T12:47:49.040Z"
      },
      {
        "duration": 228,
        "start_time": "2022-01-19T12:48:11.930Z"
      },
      {
        "duration": 177,
        "start_time": "2022-01-19T12:48:49.749Z"
      },
      {
        "duration": 178,
        "start_time": "2022-01-19T12:49:16.041Z"
      },
      {
        "duration": 170,
        "start_time": "2022-01-19T12:49:42.698Z"
      },
      {
        "duration": 9,
        "start_time": "2022-01-19T12:50:15.349Z"
      },
      {
        "duration": 9,
        "start_time": "2022-01-19T12:50:44.382Z"
      },
      {
        "duration": 2,
        "start_time": "2022-01-19T13:40:21.281Z"
      },
      {
        "duration": 2,
        "start_time": "2022-01-19T13:41:16.684Z"
      },
      {
        "duration": 4,
        "start_time": "2022-01-19T14:29:02.837Z"
      },
      {
        "duration": 4,
        "start_time": "2022-01-19T14:32:46.032Z"
      },
      {
        "duration": 5,
        "start_time": "2022-01-19T14:33:08.484Z"
      },
      {
        "duration": 5,
        "start_time": "2022-01-19T14:33:11.694Z"
      },
      {
        "duration": 9,
        "start_time": "2022-01-19T14:34:20.538Z"
      },
      {
        "duration": 11,
        "start_time": "2022-01-19T14:34:35.316Z"
      },
      {
        "duration": 11,
        "start_time": "2022-01-19T14:34:44.018Z"
      },
      {
        "duration": 3,
        "start_time": "2022-01-19T14:37:12.913Z"
      },
      {
        "duration": 4,
        "start_time": "2022-01-19T14:37:41.429Z"
      },
      {
        "duration": 5,
        "start_time": "2022-01-19T14:37:43.317Z"
      },
      {
        "duration": 4,
        "start_time": "2022-01-19T14:37:45.150Z"
      },
      {
        "duration": 5,
        "start_time": "2022-01-19T14:43:50.065Z"
      },
      {
        "duration": 5,
        "start_time": "2022-01-19T14:43:59.697Z"
      },
      {
        "duration": 5,
        "start_time": "2022-01-19T14:44:11.818Z"
      },
      {
        "duration": 3,
        "start_time": "2022-01-19T15:01:42.876Z"
      },
      {
        "duration": 3,
        "start_time": "2022-01-19T15:04:44.037Z"
      },
      {
        "duration": 1363,
        "start_time": "2022-01-20T11:57:45.325Z"
      },
      {
        "duration": 1303,
        "start_time": "2022-01-20T11:57:46.690Z"
      },
      {
        "duration": 15,
        "start_time": "2022-01-20T11:57:47.999Z"
      },
      {
        "duration": 13,
        "start_time": "2022-01-20T11:57:48.017Z"
      },
      {
        "duration": 40,
        "start_time": "2022-01-20T11:57:48.032Z"
      },
      {
        "duration": 27,
        "start_time": "2022-01-20T11:57:48.074Z"
      },
      {
        "duration": 449,
        "start_time": "2022-01-20T11:57:48.105Z"
      },
      {
        "duration": 25,
        "start_time": "2022-01-20T11:57:48.557Z"
      },
      {
        "duration": 334,
        "start_time": "2022-01-20T11:57:48.585Z"
      },
      {
        "duration": 16,
        "start_time": "2022-01-20T11:57:48.921Z"
      },
      {
        "duration": 347,
        "start_time": "2022-01-20T11:57:48.940Z"
      },
      {
        "duration": 13,
        "start_time": "2022-01-20T11:57:49.290Z"
      },
      {
        "duration": 13,
        "start_time": "2022-01-20T11:57:49.306Z"
      },
      {
        "duration": 17,
        "start_time": "2022-01-20T11:57:49.322Z"
      },
      {
        "duration": 34,
        "start_time": "2022-01-20T11:57:49.342Z"
      },
      {
        "duration": 12,
        "start_time": "2022-01-20T11:57:49.379Z"
      },
      {
        "duration": 29,
        "start_time": "2022-01-20T11:57:49.394Z"
      },
      {
        "duration": 48,
        "start_time": "2022-01-20T11:57:49.426Z"
      },
      {
        "duration": 6,
        "start_time": "2022-01-20T11:57:49.477Z"
      },
      {
        "duration": 89,
        "start_time": "2022-01-20T11:57:49.490Z"
      },
      {
        "duration": 91,
        "start_time": "2022-01-20T11:57:49.582Z"
      },
      {
        "duration": 7,
        "start_time": "2022-01-20T11:57:49.678Z"
      },
      {
        "duration": 20,
        "start_time": "2022-01-20T11:57:49.687Z"
      },
      {
        "duration": 16,
        "start_time": "2022-01-20T11:57:49.709Z"
      },
      {
        "duration": 47,
        "start_time": "2022-01-20T11:57:49.727Z"
      },
      {
        "duration": 200,
        "start_time": "2022-01-20T11:57:49.777Z"
      },
      {
        "duration": 6,
        "start_time": "2022-01-20T11:57:49.979Z"
      },
      {
        "duration": 8,
        "start_time": "2022-01-20T11:57:49.987Z"
      },
      {
        "duration": 18,
        "start_time": "2022-01-20T11:57:49.997Z"
      },
      {
        "duration": 16,
        "start_time": "2022-01-20T11:57:50.018Z"
      },
      {
        "duration": 6,
        "start_time": "2022-01-20T11:57:50.069Z"
      },
      {
        "duration": 94,
        "start_time": "2022-01-20T11:57:50.078Z"
      },
      {
        "duration": 96,
        "start_time": "2022-01-20T11:57:50.176Z"
      },
      {
        "duration": 9,
        "start_time": "2022-01-20T11:57:50.275Z"
      },
      {
        "duration": 11,
        "start_time": "2022-01-20T11:57:50.287Z"
      },
      {
        "duration": 14,
        "start_time": "2022-01-20T11:57:50.301Z"
      },
      {
        "duration": 20,
        "start_time": "2022-01-20T11:57:50.317Z"
      },
      {
        "duration": 7,
        "start_time": "2022-01-20T11:57:50.339Z"
      },
      {
        "duration": 21,
        "start_time": "2022-01-20T11:57:50.349Z"
      },
      {
        "duration": 5,
        "start_time": "2022-01-20T11:57:50.373Z"
      },
      {
        "duration": 11,
        "start_time": "2022-01-20T11:57:50.381Z"
      },
      {
        "duration": 11,
        "start_time": "2022-01-20T11:57:50.395Z"
      },
      {
        "duration": 11,
        "start_time": "2022-01-20T11:57:50.408Z"
      },
      {
        "duration": 4,
        "start_time": "2022-01-20T11:57:50.470Z"
      },
      {
        "duration": 14,
        "start_time": "2022-01-20T11:57:50.476Z"
      },
      {
        "duration": 595,
        "start_time": "2022-01-20T11:59:29.973Z"
      },
      {
        "duration": 516,
        "start_time": "2022-01-20T11:59:47.419Z"
      },
      {
        "duration": 10,
        "start_time": "2022-01-20T12:00:10.111Z"
      },
      {
        "duration": 1529,
        "start_time": "2022-01-20T12:00:11.410Z"
      },
      {
        "duration": 1454,
        "start_time": "2022-01-20T12:00:32.069Z"
      },
      {
        "duration": 1434,
        "start_time": "2022-01-20T12:00:44.007Z"
      },
      {
        "duration": 7,
        "start_time": "2022-01-20T12:08:39.785Z"
      },
      {
        "duration": 1452,
        "start_time": "2022-01-20T12:08:41.571Z"
      },
      {
        "duration": 1444,
        "start_time": "2022-01-20T12:08:45.945Z"
      },
      {
        "duration": 1517,
        "start_time": "2022-01-20T12:08:50.655Z"
      },
      {
        "duration": 7,
        "start_time": "2022-01-20T12:11:42.171Z"
      },
      {
        "duration": 1520,
        "start_time": "2022-01-20T12:11:42.853Z"
      },
      {
        "duration": 1519,
        "start_time": "2022-01-20T12:11:45.986Z"
      },
      {
        "duration": 1890,
        "start_time": "2022-01-20T12:11:49.338Z"
      },
      {
        "duration": 7,
        "start_time": "2022-01-20T12:14:47.368Z"
      },
      {
        "duration": 1985,
        "start_time": "2022-01-20T12:14:49.128Z"
      },
      {
        "duration": 7,
        "start_time": "2022-01-20T12:15:11.226Z"
      },
      {
        "duration": 5366,
        "start_time": "2022-01-20T12:15:12.930Z"
      },
      {
        "duration": 1339,
        "start_time": "2022-01-20T14:04:27.888Z"
      },
      {
        "duration": 1286,
        "start_time": "2022-01-20T14:04:29.230Z"
      },
      {
        "duration": 14,
        "start_time": "2022-01-20T14:04:30.519Z"
      },
      {
        "duration": 24,
        "start_time": "2022-01-20T14:04:30.536Z"
      },
      {
        "duration": 12,
        "start_time": "2022-01-20T14:04:30.563Z"
      },
      {
        "duration": 28,
        "start_time": "2022-01-20T14:04:30.578Z"
      },
      {
        "duration": 426,
        "start_time": "2022-01-20T14:04:30.624Z"
      },
      {
        "duration": 18,
        "start_time": "2022-01-20T14:04:31.054Z"
      },
      {
        "duration": 324,
        "start_time": "2022-01-20T14:04:31.076Z"
      },
      {
        "duration": 24,
        "start_time": "2022-01-20T14:04:31.402Z"
      },
      {
        "duration": 302,
        "start_time": "2022-01-20T14:04:31.428Z"
      },
      {
        "duration": 16,
        "start_time": "2022-01-20T14:04:31.733Z"
      },
      {
        "duration": 13,
        "start_time": "2022-01-20T14:04:31.751Z"
      },
      {
        "duration": 11,
        "start_time": "2022-01-20T14:04:31.767Z"
      },
      {
        "duration": 47,
        "start_time": "2022-01-20T14:04:31.781Z"
      },
      {
        "duration": 4,
        "start_time": "2022-01-20T14:04:31.831Z"
      },
      {
        "duration": 23,
        "start_time": "2022-01-20T14:04:31.838Z"
      },
      {
        "duration": 17,
        "start_time": "2022-01-20T14:04:31.863Z"
      },
      {
        "duration": 143,
        "start_time": "2022-01-20T14:04:31.882Z"
      },
      {
        "duration": 5,
        "start_time": "2022-01-20T14:04:32.028Z"
      },
      {
        "duration": 8,
        "start_time": "2022-01-20T14:04:32.036Z"
      },
      {
        "duration": 7,
        "start_time": "2022-01-20T14:04:32.047Z"
      },
      {
        "duration": 18,
        "start_time": "2022-01-20T14:04:32.124Z"
      },
      {
        "duration": 16,
        "start_time": "2022-01-20T14:04:32.144Z"
      },
      {
        "duration": 62,
        "start_time": "2022-01-20T14:04:32.162Z"
      },
      {
        "duration": 5,
        "start_time": "2022-01-20T14:04:32.227Z"
      },
      {
        "duration": 10,
        "start_time": "2022-01-20T14:04:32.324Z"
      },
      {
        "duration": 10,
        "start_time": "2022-01-20T14:04:32.336Z"
      },
      {
        "duration": 79,
        "start_time": "2022-01-20T14:04:32.349Z"
      },
      {
        "duration": 15,
        "start_time": "2022-01-20T14:04:32.430Z"
      },
      {
        "duration": 13,
        "start_time": "2022-01-20T14:04:32.447Z"
      },
      {
        "duration": 101,
        "start_time": "2022-01-20T14:04:32.524Z"
      },
      {
        "duration": 10,
        "start_time": "2022-01-20T14:04:32.628Z"
      },
      {
        "duration": 7,
        "start_time": "2022-01-20T14:04:32.641Z"
      },
      {
        "duration": 4,
        "start_time": "2022-01-20T14:04:32.651Z"
      },
      {
        "duration": 8,
        "start_time": "2022-01-20T14:04:32.658Z"
      },
      {
        "duration": 5,
        "start_time": "2022-01-20T14:04:32.669Z"
      },
      {
        "duration": 7,
        "start_time": "2022-01-20T14:04:32.724Z"
      },
      {
        "duration": 7,
        "start_time": "2022-01-20T14:04:32.733Z"
      },
      {
        "duration": 6,
        "start_time": "2022-01-20T14:04:32.742Z"
      },
      {
        "duration": 10,
        "start_time": "2022-01-20T14:04:32.750Z"
      },
      {
        "duration": 9,
        "start_time": "2022-01-20T14:04:32.762Z"
      },
      {
        "duration": 55,
        "start_time": "2022-01-20T14:04:32.773Z"
      },
      {
        "duration": 4,
        "start_time": "2022-01-20T14:04:32.830Z"
      },
      {
        "duration": 7,
        "start_time": "2022-01-20T14:04:32.836Z"
      },
      {
        "duration": 1404,
        "start_time": "2022-01-20T14:04:32.845Z"
      },
      {
        "duration": 1373,
        "start_time": "2022-01-20T14:04:34.251Z"
      },
      {
        "duration": 1441,
        "start_time": "2022-01-20T14:04:35.626Z"
      },
      {
        "duration": 7,
        "start_time": "2022-01-20T14:05:57.975Z"
      },
      {
        "duration": 1335,
        "start_time": "2022-01-20T14:05:58.879Z"
      },
      {
        "duration": 1465,
        "start_time": "2022-01-20T14:06:01.787Z"
      },
      {
        "duration": 1347,
        "start_time": "2022-01-20T14:06:04.688Z"
      },
      {
        "duration": 8,
        "start_time": "2022-01-20T14:08:07.307Z"
      },
      {
        "duration": 1452,
        "start_time": "2022-01-20T14:08:08.141Z"
      },
      {
        "duration": 1396,
        "start_time": "2022-01-20T14:08:11.335Z"
      },
      {
        "duration": 1389,
        "start_time": "2022-01-20T14:08:14.507Z"
      },
      {
        "duration": 7,
        "start_time": "2022-01-20T14:11:44.895Z"
      },
      {
        "duration": 1433,
        "start_time": "2022-01-20T14:11:45.920Z"
      },
      {
        "duration": 1463,
        "start_time": "2022-01-20T14:11:53.972Z"
      },
      {
        "duration": 1428,
        "start_time": "2022-01-20T14:11:57.375Z"
      },
      {
        "duration": 107,
        "start_time": "2022-01-20T14:26:36.040Z"
      },
      {
        "duration": 14,
        "start_time": "2022-01-20T14:38:56.889Z"
      },
      {
        "duration": 11,
        "start_time": "2022-01-20T14:42:43.437Z"
      },
      {
        "duration": 11,
        "start_time": "2022-01-20T14:42:48.214Z"
      },
      {
        "duration": 1334,
        "start_time": "2022-01-20T14:56:55.384Z"
      },
      {
        "duration": 440,
        "start_time": "2022-01-20T14:56:56.721Z"
      },
      {
        "duration": 16,
        "start_time": "2022-01-20T14:56:57.165Z"
      },
      {
        "duration": 14,
        "start_time": "2022-01-20T14:56:57.184Z"
      },
      {
        "duration": 13,
        "start_time": "2022-01-20T14:56:57.224Z"
      },
      {
        "duration": 28,
        "start_time": "2022-01-20T14:56:57.239Z"
      },
      {
        "duration": 438,
        "start_time": "2022-01-20T14:56:57.270Z"
      },
      {
        "duration": 24,
        "start_time": "2022-01-20T14:56:57.714Z"
      },
      {
        "duration": 321,
        "start_time": "2022-01-20T14:56:57.741Z"
      },
      {
        "duration": 16,
        "start_time": "2022-01-20T14:56:58.064Z"
      },
      {
        "duration": 340,
        "start_time": "2022-01-20T14:56:58.083Z"
      },
      {
        "duration": 12,
        "start_time": "2022-01-20T14:56:58.425Z"
      },
      {
        "duration": 18,
        "start_time": "2022-01-20T14:56:58.440Z"
      },
      {
        "duration": 10,
        "start_time": "2022-01-20T14:56:58.460Z"
      },
      {
        "duration": 31,
        "start_time": "2022-01-20T14:56:58.473Z"
      },
      {
        "duration": 31,
        "start_time": "2022-01-20T14:56:58.508Z"
      },
      {
        "duration": 28,
        "start_time": "2022-01-20T14:56:58.541Z"
      },
      {
        "duration": 58,
        "start_time": "2022-01-20T14:56:58.571Z"
      },
      {
        "duration": 91,
        "start_time": "2022-01-20T14:56:58.634Z"
      },
      {
        "duration": 14,
        "start_time": "2022-01-20T14:56:58.728Z"
      },
      {
        "duration": 6,
        "start_time": "2022-01-20T14:56:58.744Z"
      },
      {
        "duration": 21,
        "start_time": "2022-01-20T14:56:58.752Z"
      },
      {
        "duration": 15,
        "start_time": "2022-01-20T14:56:58.778Z"
      },
      {
        "duration": 16,
        "start_time": "2022-01-20T14:56:58.824Z"
      },
      {
        "duration": 83,
        "start_time": "2022-01-20T14:56:58.842Z"
      },
      {
        "duration": 99,
        "start_time": "2022-01-20T14:56:58.927Z"
      },
      {
        "duration": 7,
        "start_time": "2022-01-20T14:56:59.029Z"
      },
      {
        "duration": 20,
        "start_time": "2022-01-20T14:56:59.039Z"
      },
      {
        "duration": 15,
        "start_time": "2022-01-20T14:56:59.061Z"
      },
      {
        "duration": 53,
        "start_time": "2022-01-20T14:56:59.078Z"
      },
      {
        "duration": 90,
        "start_time": "2022-01-20T14:56:59.134Z"
      },
      {
        "duration": 6,
        "start_time": "2022-01-20T14:56:59.226Z"
      },
      {
        "duration": 9,
        "start_time": "2022-01-20T14:56:59.234Z"
      },
      {
        "duration": 3,
        "start_time": "2022-01-20T14:56:59.246Z"
      },
      {
        "duration": 17,
        "start_time": "2022-01-20T14:56:59.251Z"
      },
      {
        "duration": 16,
        "start_time": "2022-01-20T14:56:59.271Z"
      },
      {
        "duration": 41,
        "start_time": "2022-01-20T14:56:59.290Z"
      },
      {
        "duration": 24,
        "start_time": "2022-01-20T14:56:59.333Z"
      },
      {
        "duration": 14,
        "start_time": "2022-01-20T14:56:59.360Z"
      },
      {
        "duration": 12,
        "start_time": "2022-01-20T14:56:59.376Z"
      },
      {
        "duration": 1411,
        "start_time": "2022-01-20T14:56:59.391Z"
      },
      {
        "duration": 1489,
        "start_time": "2022-01-20T14:57:00.804Z"
      },
      {
        "duration": 1464,
        "start_time": "2022-01-20T14:57:02.295Z"
      },
      {
        "duration": 330,
        "start_time": "2022-01-20T16:50:11.861Z"
      },
      {
        "duration": 1368,
        "start_time": "2022-01-20T16:50:19.911Z"
      },
      {
        "duration": 4587,
        "start_time": "2022-01-20T16:50:21.281Z"
      },
      {
        "duration": 11,
        "start_time": "2022-01-20T16:50:25.870Z"
      },
      {
        "duration": 22,
        "start_time": "2022-01-20T16:50:25.883Z"
      },
      {
        "duration": 9,
        "start_time": "2022-01-20T16:50:25.906Z"
      },
      {
        "duration": 18,
        "start_time": "2022-01-20T16:50:25.916Z"
      },
      {
        "duration": 299,
        "start_time": "2022-01-20T16:50:25.936Z"
      },
      {
        "duration": 11,
        "start_time": "2022-01-20T16:50:26.237Z"
      },
      {
        "duration": 188,
        "start_time": "2022-01-20T16:50:26.250Z"
      },
      {
        "duration": 12,
        "start_time": "2022-01-20T16:50:26.440Z"
      },
      {
        "duration": 187,
        "start_time": "2022-01-20T16:50:26.454Z"
      },
      {
        "duration": 7,
        "start_time": "2022-01-20T16:50:26.643Z"
      },
      {
        "duration": 20,
        "start_time": "2022-01-20T16:50:26.652Z"
      },
      {
        "duration": 6,
        "start_time": "2022-01-20T16:50:26.673Z"
      },
      {
        "duration": 6,
        "start_time": "2022-01-20T16:50:26.681Z"
      },
      {
        "duration": 19,
        "start_time": "2022-01-20T16:50:26.689Z"
      },
      {
        "duration": 217,
        "start_time": "2022-01-20T16:50:26.709Z"
      },
      {
        "duration": 27,
        "start_time": "2022-01-20T16:50:26.927Z"
      },
      {
        "duration": 18,
        "start_time": "2022-01-20T16:50:26.956Z"
      },
      {
        "duration": 99,
        "start_time": "2022-01-20T16:50:26.976Z"
      },
      {
        "duration": 20,
        "start_time": "2022-01-20T16:50:27.077Z"
      },
      {
        "duration": 27,
        "start_time": "2022-01-20T16:50:27.098Z"
      },
      {
        "duration": 55,
        "start_time": "2022-01-20T16:50:27.128Z"
      },
      {
        "duration": 5,
        "start_time": "2022-01-20T16:50:27.185Z"
      },
      {
        "duration": 181,
        "start_time": "2022-01-20T16:50:27.192Z"
      },
      {
        "duration": 14,
        "start_time": "2022-01-20T16:50:27.375Z"
      },
      {
        "duration": 10,
        "start_time": "2022-01-20T16:50:27.390Z"
      },
      {
        "duration": 20,
        "start_time": "2022-01-20T16:50:27.401Z"
      },
      {
        "duration": 12,
        "start_time": "2022-01-20T16:50:27.422Z"
      },
      {
        "duration": 37,
        "start_time": "2022-01-20T16:50:27.435Z"
      },
      {
        "duration": 4,
        "start_time": "2022-01-20T16:50:27.474Z"
      },
      {
        "duration": 101,
        "start_time": "2022-01-20T16:50:27.481Z"
      },
      {
        "duration": 11,
        "start_time": "2022-01-20T16:50:27.583Z"
      },
      {
        "duration": 21,
        "start_time": "2022-01-20T16:50:27.596Z"
      },
      {
        "duration": 19,
        "start_time": "2022-01-20T16:50:27.618Z"
      },
      {
        "duration": 10,
        "start_time": "2022-01-20T16:50:27.639Z"
      },
      {
        "duration": 26,
        "start_time": "2022-01-20T16:50:27.651Z"
      },
      {
        "duration": 7,
        "start_time": "2022-01-20T16:50:27.678Z"
      },
      {
        "duration": 3,
        "start_time": "2022-01-20T16:50:27.686Z"
      },
      {
        "duration": 9,
        "start_time": "2022-01-20T16:50:27.691Z"
      },
      {
        "duration": 853,
        "start_time": "2022-01-20T16:50:27.701Z"
      },
      {
        "duration": 768,
        "start_time": "2022-01-20T16:50:28.556Z"
      },
      {
        "duration": 793,
        "start_time": "2022-01-20T16:50:29.326Z"
      },
      {
        "duration": 6,
        "start_time": "2022-01-20T16:50:49.152Z"
      },
      {
        "duration": 5,
        "start_time": "2022-01-20T16:51:15.569Z"
      },
      {
        "duration": 6,
        "start_time": "2022-01-20T16:56:04.262Z"
      },
      {
        "duration": 7,
        "start_time": "2022-01-20T16:56:19.151Z"
      },
      {
        "duration": 6,
        "start_time": "2022-01-20T16:56:30.422Z"
      },
      {
        "duration": 3,
        "start_time": "2022-01-20T17:07:09.498Z"
      },
      {
        "duration": 5,
        "start_time": "2022-01-20T17:07:11.310Z"
      },
      {
        "duration": 412,
        "start_time": "2022-01-20T17:07:16.016Z"
      },
      {
        "duration": 900,
        "start_time": "2022-01-20T17:07:38.223Z"
      },
      {
        "duration": 5,
        "start_time": "2022-01-20T17:08:20.385Z"
      },
      {
        "duration": 765,
        "start_time": "2022-01-20T17:08:22.394Z"
      },
      {
        "duration": 5,
        "start_time": "2022-01-20T17:09:06.243Z"
      },
      {
        "duration": 882,
        "start_time": "2022-01-20T17:09:07.937Z"
      },
      {
        "duration": 338,
        "start_time": "2022-01-20T17:10:01.618Z"
      },
      {
        "duration": 4,
        "start_time": "2022-01-20T17:10:09.813Z"
      },
      {
        "duration": 952,
        "start_time": "2022-01-20T17:10:26.243Z"
      },
      {
        "duration": 3,
        "start_time": "2022-01-20T17:10:36.870Z"
      },
      {
        "duration": 5,
        "start_time": "2022-01-20T17:13:33.317Z"
      },
      {
        "duration": 5,
        "start_time": "2022-01-20T17:13:44.957Z"
      },
      {
        "duration": 335,
        "start_time": "2022-01-20T18:31:18.431Z"
      },
      {
        "duration": 1095,
        "start_time": "2022-01-20T18:31:40.681Z"
      },
      {
        "duration": 354,
        "start_time": "2022-01-20T18:31:41.778Z"
      },
      {
        "duration": 11,
        "start_time": "2022-01-20T18:31:42.134Z"
      },
      {
        "duration": 10,
        "start_time": "2022-01-20T18:31:42.147Z"
      },
      {
        "duration": 19,
        "start_time": "2022-01-20T18:31:42.159Z"
      },
      {
        "duration": 17,
        "start_time": "2022-01-20T18:31:42.180Z"
      },
      {
        "duration": 263,
        "start_time": "2022-01-20T18:31:42.199Z"
      },
      {
        "duration": 15,
        "start_time": "2022-01-20T18:31:42.465Z"
      },
      {
        "duration": 183,
        "start_time": "2022-01-20T18:31:42.482Z"
      },
      {
        "duration": 11,
        "start_time": "2022-01-20T18:31:42.671Z"
      },
      {
        "duration": 185,
        "start_time": "2022-01-20T18:31:42.684Z"
      },
      {
        "duration": 8,
        "start_time": "2022-01-20T18:31:42.871Z"
      },
      {
        "duration": 7,
        "start_time": "2022-01-20T18:31:42.880Z"
      },
      {
        "duration": 8,
        "start_time": "2022-01-20T18:31:42.888Z"
      },
      {
        "duration": 7,
        "start_time": "2022-01-20T18:31:42.897Z"
      },
      {
        "duration": 14,
        "start_time": "2022-01-20T18:31:42.906Z"
      },
      {
        "duration": 12,
        "start_time": "2022-01-20T18:31:42.921Z"
      },
      {
        "duration": 41,
        "start_time": "2022-01-20T18:31:42.934Z"
      },
      {
        "duration": 94,
        "start_time": "2022-01-20T18:31:42.981Z"
      },
      {
        "duration": 5,
        "start_time": "2022-01-20T18:31:43.078Z"
      },
      {
        "duration": 5,
        "start_time": "2022-01-20T18:31:43.085Z"
      },
      {
        "duration": 93,
        "start_time": "2022-01-20T18:31:43.092Z"
      },
      {
        "duration": 11,
        "start_time": "2022-01-20T18:31:43.188Z"
      },
      {
        "duration": 73,
        "start_time": "2022-01-20T18:31:43.201Z"
      },
      {
        "duration": 4,
        "start_time": "2022-01-20T18:31:43.276Z"
      },
      {
        "duration": 92,
        "start_time": "2022-01-20T18:31:43.281Z"
      },
      {
        "duration": 4,
        "start_time": "2022-01-20T18:31:43.375Z"
      },
      {
        "duration": 14,
        "start_time": "2022-01-20T18:31:43.381Z"
      },
      {
        "duration": 76,
        "start_time": "2022-01-20T18:31:43.397Z"
      },
      {
        "duration": 104,
        "start_time": "2022-01-20T18:31:43.474Z"
      },
      {
        "duration": 91,
        "start_time": "2022-01-20T18:31:43.581Z"
      },
      {
        "duration": 4,
        "start_time": "2022-01-20T18:31:43.674Z"
      },
      {
        "duration": 6,
        "start_time": "2022-01-20T18:31:43.679Z"
      },
      {
        "duration": 3,
        "start_time": "2022-01-20T18:31:43.686Z"
      },
      {
        "duration": 4,
        "start_time": "2022-01-20T18:31:43.691Z"
      },
      {
        "duration": 6,
        "start_time": "2022-01-20T18:31:43.697Z"
      },
      {
        "duration": 71,
        "start_time": "2022-01-20T18:31:43.705Z"
      },
      {
        "duration": 6,
        "start_time": "2022-01-20T18:31:43.778Z"
      },
      {
        "duration": 3,
        "start_time": "2022-01-20T18:31:43.786Z"
      },
      {
        "duration": 6,
        "start_time": "2022-01-20T18:31:43.791Z"
      },
      {
        "duration": 6,
        "start_time": "2022-01-20T18:31:43.799Z"
      },
      {
        "duration": 7,
        "start_time": "2022-01-20T18:31:43.807Z"
      },
      {
        "duration": 1901,
        "start_time": "2022-01-20T18:31:43.815Z"
      },
      {
        "duration": 380,
        "start_time": "2022-01-20T18:31:45.718Z"
      },
      {
        "duration": -49,
        "start_time": "2022-01-20T18:31:46.149Z"
      },
      {
        "duration": 5,
        "start_time": "2022-01-20T18:32:31.632Z"
      },
      {
        "duration": 1674,
        "start_time": "2022-01-20T18:32:33.620Z"
      },
      {
        "duration": 289,
        "start_time": "2022-01-20T18:32:36.565Z"
      },
      {
        "duration": 1676,
        "start_time": "2022-01-20T18:32:54.123Z"
      },
      {
        "duration": 1704,
        "start_time": "2022-01-20T18:33:04.868Z"
      },
      {
        "duration": 3,
        "start_time": "2022-01-20T18:41:07.738Z"
      },
      {
        "duration": 962,
        "start_time": "2022-01-20T18:41:21.018Z"
      },
      {
        "duration": 470,
        "start_time": "2022-01-20T18:41:21.982Z"
      },
      {
        "duration": 18,
        "start_time": "2022-01-20T18:41:22.454Z"
      },
      {
        "duration": 15,
        "start_time": "2022-01-20T18:41:22.474Z"
      },
      {
        "duration": 9,
        "start_time": "2022-01-20T18:41:22.490Z"
      },
      {
        "duration": 16,
        "start_time": "2022-01-20T18:41:22.501Z"
      },
      {
        "duration": 377,
        "start_time": "2022-01-20T18:41:22.519Z"
      },
      {
        "duration": 11,
        "start_time": "2022-01-20T18:41:22.899Z"
      },
      {
        "duration": 195,
        "start_time": "2022-01-20T18:41:22.912Z"
      },
      {
        "duration": 11,
        "start_time": "2022-01-20T18:41:23.108Z"
      },
      {
        "duration": 209,
        "start_time": "2022-01-20T18:41:23.121Z"
      },
      {
        "duration": 8,
        "start_time": "2022-01-20T18:41:23.332Z"
      },
      {
        "duration": 7,
        "start_time": "2022-01-20T18:41:23.342Z"
      },
      {
        "duration": 24,
        "start_time": "2022-01-20T18:41:23.350Z"
      },
      {
        "duration": 10,
        "start_time": "2022-01-20T18:41:23.375Z"
      },
      {
        "duration": 17,
        "start_time": "2022-01-20T18:41:23.387Z"
      },
      {
        "duration": 14,
        "start_time": "2022-01-20T18:41:23.405Z"
      },
      {
        "duration": 151,
        "start_time": "2022-01-20T18:41:23.421Z"
      },
      {
        "duration": 4,
        "start_time": "2022-01-20T18:41:23.574Z"
      },
      {
        "duration": 5,
        "start_time": "2022-01-20T18:41:23.579Z"
      },
      {
        "duration": 4,
        "start_time": "2022-01-20T18:41:23.586Z"
      },
      {
        "duration": 14,
        "start_time": "2022-01-20T18:41:23.592Z"
      },
      {
        "duration": 11,
        "start_time": "2022-01-20T18:41:23.609Z"
      },
      {
        "duration": 54,
        "start_time": "2022-01-20T18:41:23.622Z"
      },
      {
        "duration": 5,
        "start_time": "2022-01-20T18:41:23.678Z"
      },
      {
        "duration": 89,
        "start_time": "2022-01-20T18:41:23.685Z"
      },
      {
        "duration": 5,
        "start_time": "2022-01-20T18:41:23.776Z"
      },
      {
        "duration": 15,
        "start_time": "2022-01-20T18:41:23.783Z"
      },
      {
        "duration": 13,
        "start_time": "2022-01-20T18:41:23.871Z"
      },
      {
        "duration": 11,
        "start_time": "2022-01-20T18:41:23.886Z"
      },
      {
        "duration": 4,
        "start_time": "2022-01-20T18:41:23.973Z"
      },
      {
        "duration": 92,
        "start_time": "2022-01-20T18:41:23.980Z"
      },
      {
        "duration": 4,
        "start_time": "2022-01-20T18:41:24.074Z"
      },
      {
        "duration": 4,
        "start_time": "2022-01-20T18:41:24.079Z"
      },
      {
        "duration": 8,
        "start_time": "2022-01-20T18:41:24.084Z"
      },
      {
        "duration": 7,
        "start_time": "2022-01-20T18:41:24.093Z"
      },
      {
        "duration": 5,
        "start_time": "2022-01-20T18:41:24.101Z"
      },
      {
        "duration": 7,
        "start_time": "2022-01-20T18:41:24.107Z"
      },
      {
        "duration": 5,
        "start_time": "2022-01-20T18:41:24.116Z"
      },
      {
        "duration": 11,
        "start_time": "2022-01-20T18:41:24.123Z"
      },
      {
        "duration": 2077,
        "start_time": "2022-01-20T18:41:24.135Z"
      },
      {
        "duration": 1923,
        "start_time": "2022-01-20T18:41:26.214Z"
      },
      {
        "duration": 1863,
        "start_time": "2022-01-20T18:41:28.138Z"
      },
      {
        "duration": 5,
        "start_time": "2022-01-21T11:33:55.622Z"
      },
      {
        "duration": 1335,
        "start_time": "2022-01-21T11:34:57.306Z"
      },
      {
        "duration": 1597,
        "start_time": "2022-01-21T11:34:58.644Z"
      },
      {
        "duration": 15,
        "start_time": "2022-01-21T11:35:00.244Z"
      },
      {
        "duration": 17,
        "start_time": "2022-01-21T11:35:00.261Z"
      },
      {
        "duration": 24,
        "start_time": "2022-01-21T11:35:00.280Z"
      },
      {
        "duration": 45,
        "start_time": "2022-01-21T11:35:00.306Z"
      },
      {
        "duration": 458,
        "start_time": "2022-01-21T11:35:00.353Z"
      },
      {
        "duration": 26,
        "start_time": "2022-01-21T11:35:00.814Z"
      },
      {
        "duration": 353,
        "start_time": "2022-01-21T11:35:00.843Z"
      },
      {
        "duration": 35,
        "start_time": "2022-01-21T11:35:01.199Z"
      },
      {
        "duration": 351,
        "start_time": "2022-01-21T11:35:01.236Z"
      },
      {
        "duration": 12,
        "start_time": "2022-01-21T11:35:01.589Z"
      },
      {
        "duration": 31,
        "start_time": "2022-01-21T11:35:01.603Z"
      },
      {
        "duration": 14,
        "start_time": "2022-01-21T11:35:01.636Z"
      },
      {
        "duration": 18,
        "start_time": "2022-01-21T11:35:01.652Z"
      },
      {
        "duration": 35,
        "start_time": "2022-01-21T11:35:01.673Z"
      },
      {
        "duration": 31,
        "start_time": "2022-01-21T11:35:01.710Z"
      },
      {
        "duration": 96,
        "start_time": "2022-01-21T11:35:01.744Z"
      },
      {
        "duration": 89,
        "start_time": "2022-01-21T11:35:01.844Z"
      },
      {
        "duration": 12,
        "start_time": "2022-01-21T11:35:01.935Z"
      },
      {
        "duration": 23,
        "start_time": "2022-01-21T11:35:01.949Z"
      },
      {
        "duration": 27,
        "start_time": "2022-01-21T11:35:01.975Z"
      },
      {
        "duration": 29,
        "start_time": "2022-01-21T11:35:02.009Z"
      },
      {
        "duration": 92,
        "start_time": "2022-01-21T11:35:02.042Z"
      },
      {
        "duration": 99,
        "start_time": "2022-01-21T11:35:02.137Z"
      },
      {
        "duration": 14,
        "start_time": "2022-01-21T11:35:02.239Z"
      },
      {
        "duration": 7,
        "start_time": "2022-01-21T11:35:02.256Z"
      },
      {
        "duration": 75,
        "start_time": "2022-01-21T11:35:02.267Z"
      },
      {
        "duration": 29,
        "start_time": "2022-01-21T11:35:02.345Z"
      },
      {
        "duration": 56,
        "start_time": "2022-01-21T11:35:02.377Z"
      },
      {
        "duration": 101,
        "start_time": "2022-01-21T11:35:02.435Z"
      },
      {
        "duration": 33,
        "start_time": "2022-01-21T11:35:02.543Z"
      },
      {
        "duration": 31,
        "start_time": "2022-01-21T11:35:02.578Z"
      },
      {
        "duration": 21,
        "start_time": "2022-01-21T11:35:02.611Z"
      },
      {
        "duration": 15,
        "start_time": "2022-01-21T11:35:02.635Z"
      },
      {
        "duration": 42,
        "start_time": "2022-01-21T11:35:02.652Z"
      },
      {
        "duration": 36,
        "start_time": "2022-01-21T11:35:02.697Z"
      },
      {
        "duration": 17,
        "start_time": "2022-01-21T11:35:02.735Z"
      },
      {
        "duration": 32,
        "start_time": "2022-01-21T11:35:02.755Z"
      },
      {
        "duration": 10,
        "start_time": "2022-01-21T11:35:02.790Z"
      },
      {
        "duration": 2477,
        "start_time": "2022-01-21T11:35:02.802Z"
      },
      {
        "duration": 2452,
        "start_time": "2022-01-21T11:35:05.281Z"
      },
      {
        "duration": 2432,
        "start_time": "2022-01-21T11:35:07.736Z"
      },
      {
        "duration": 1348,
        "start_time": "2022-01-21T11:46:09.501Z"
      },
      {
        "duration": 450,
        "start_time": "2022-01-21T11:46:10.851Z"
      },
      {
        "duration": 14,
        "start_time": "2022-01-21T11:46:11.303Z"
      },
      {
        "duration": 24,
        "start_time": "2022-01-21T11:46:11.320Z"
      },
      {
        "duration": 15,
        "start_time": "2022-01-21T11:46:11.346Z"
      },
      {
        "duration": 25,
        "start_time": "2022-01-21T11:46:11.364Z"
      },
      {
        "duration": 437,
        "start_time": "2022-01-21T11:46:11.391Z"
      },
      {
        "duration": 18,
        "start_time": "2022-01-21T11:46:11.835Z"
      },
      {
        "duration": 326,
        "start_time": "2022-01-21T11:46:11.856Z"
      },
      {
        "duration": 17,
        "start_time": "2022-01-21T11:46:12.184Z"
      },
      {
        "duration": 333,
        "start_time": "2022-01-21T11:46:12.203Z"
      },
      {
        "duration": 12,
        "start_time": "2022-01-21T11:46:12.538Z"
      },
      {
        "duration": 14,
        "start_time": "2022-01-21T11:46:12.553Z"
      },
      {
        "duration": 10,
        "start_time": "2022-01-21T11:46:12.569Z"
      },
      {
        "duration": 18,
        "start_time": "2022-01-21T11:46:12.582Z"
      },
      {
        "duration": 44,
        "start_time": "2022-01-21T11:46:12.602Z"
      },
      {
        "duration": 15,
        "start_time": "2022-01-21T11:46:12.649Z"
      },
      {
        "duration": 70,
        "start_time": "2022-01-21T11:46:12.667Z"
      },
      {
        "duration": 97,
        "start_time": "2022-01-21T11:46:12.740Z"
      },
      {
        "duration": 8,
        "start_time": "2022-01-21T11:46:12.839Z"
      },
      {
        "duration": 9,
        "start_time": "2022-01-21T11:46:12.850Z"
      },
      {
        "duration": 18,
        "start_time": "2022-01-21T11:46:12.861Z"
      },
      {
        "duration": 54,
        "start_time": "2022-01-21T11:46:12.884Z"
      },
      {
        "duration": 7,
        "start_time": "2022-01-21T11:46:12.941Z"
      },
      {
        "duration": 84,
        "start_time": "2022-01-21T11:46:12.952Z"
      },
      {
        "duration": 101,
        "start_time": "2022-01-21T11:46:13.040Z"
      },
      {
        "duration": 8,
        "start_time": "2022-01-21T11:46:13.143Z"
      },
      {
        "duration": 24,
        "start_time": "2022-01-21T11:46:13.153Z"
      },
      {
        "duration": 17,
        "start_time": "2022-01-21T11:46:13.180Z"
      },
      {
        "duration": 5,
        "start_time": "2022-01-21T11:46:13.232Z"
      },
      {
        "duration": 195,
        "start_time": "2022-01-21T11:46:13.240Z"
      },
      {
        "duration": 10,
        "start_time": "2022-01-21T11:46:13.437Z"
      },
      {
        "duration": 11,
        "start_time": "2022-01-21T11:46:13.449Z"
      },
      {
        "duration": 7,
        "start_time": "2022-01-21T11:46:13.462Z"
      },
      {
        "duration": 10,
        "start_time": "2022-01-21T11:46:13.471Z"
      },
      {
        "duration": 11,
        "start_time": "2022-01-21T11:46:13.483Z"
      },
      {
        "duration": 40,
        "start_time": "2022-01-21T11:46:13.496Z"
      },
      {
        "duration": 8,
        "start_time": "2022-01-21T11:46:13.538Z"
      },
      {
        "duration": 10,
        "start_time": "2022-01-21T11:46:13.549Z"
      },
      {
        "duration": 10,
        "start_time": "2022-01-21T11:46:13.562Z"
      },
      {
        "duration": 2464,
        "start_time": "2022-01-21T11:46:13.574Z"
      },
      {
        "duration": 2527,
        "start_time": "2022-01-21T11:46:16.040Z"
      },
      {
        "duration": 2437,
        "start_time": "2022-01-21T11:46:18.570Z"
      }
    ],
    "kernelspec": {
      "display_name": "Python 3 (ipykernel)",
      "language": "python",
      "name": "python3"
    },
    "language_info": {
      "codemirror_mode": {
        "name": "ipython",
        "version": 3
      },
      "file_extension": ".py",
      "mimetype": "text/x-python",
      "name": "python",
      "nbconvert_exporter": "python",
      "pygments_lexer": "ipython3",
      "version": "3.9.5"
    },
    "toc": {
      "base_numbering": 1,
      "nav_menu": {},
      "number_sections": true,
      "sideBar": true,
      "skip_h1_title": true,
      "title_cell": "Table of Contents",
      "title_sidebar": "Contents",
      "toc_cell": false,
      "toc_position": {},
      "toc_section_display": true,
      "toc_window_display": false
    },
    "colab": {
      "name": "project_8_best_oil_production_region.ipynb",
      "provenance": [],
      "collapsed_sections": []
    }
  },
  "nbformat": 4,
  "nbformat_minor": 0
}