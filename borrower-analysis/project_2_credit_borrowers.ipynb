{
  "cells": [
    {
      "cell_type": "markdown",
      "metadata": {
        "id": "6hY59o4GVrJJ"
      },
      "source": [
        "# Borrower Reliability Study\n",
        "\n",
        "This research is relevant to the credit department of the bank. It is necessary to find out whether the marital status and the number of children of the client affect the fact of repaying the loan on time. Input data from the bank - statistics on the solvency of customers.\n",
        "\n",
        "The results of the study could be taken into account when building a credit scoring model - a special system that assesses the ability of a potential borrower to repay a loan to a bank."
      ]
    },
    {
      "cell_type": "markdown",
      "metadata": {
        "id": "cz__GowUVrJK"
      },
      "source": [
        "## Importing and familiarization with the data"
      ]
    },
    {
      "cell_type": "code",
      "source": [
        "!wget http://download.cdn.yandex.net/mystem/mystem-3.0-linux3.1-64bit.tar.gz\n",
        "!tar -xvf mystem-3.0-linux3.1-64bit.tar.gz\n",
        "!cp mystem /root/.local/bin/mystem"
      ],
      "metadata": {
        "colab": {
          "base_uri": "https://localhost:8080/"
        },
        "id": "MgvsYu8Wy0zx",
        "outputId": "73d7b77c-02ab-4cf1-c3d8-7eda34c375c1"
      },
      "execution_count": 1,
      "outputs": [
        {
          "output_type": "stream",
          "name": "stdout",
          "text": [
            "--2022-06-22 19:04:21--  http://download.cdn.yandex.net/mystem/mystem-3.0-linux3.1-64bit.tar.gz\n",
            "Resolving download.cdn.yandex.net (download.cdn.yandex.net)... 5.45.205.245, 5.45.205.241, 5.45.205.242, ...\n",
            "Connecting to download.cdn.yandex.net (download.cdn.yandex.net)|5.45.205.245|:80... connected.\n",
            "HTTP request sent, awaiting response... 302 Found\n",
            "Location: https://cachev2-spb02.cdn.yandex.net/download.cdn.yandex.net/mystem/mystem-3.0-linux3.1-64bit.tar.gz?lid=122 [following]\n",
            "--2022-06-22 19:04:21--  https://cachev2-spb02.cdn.yandex.net/download.cdn.yandex.net/mystem/mystem-3.0-linux3.1-64bit.tar.gz?lid=122\n",
            "Resolving cachev2-spb02.cdn.yandex.net (cachev2-spb02.cdn.yandex.net)... 37.140.137.4, 2a02:6b8:0:2221::304\n",
            "Connecting to cachev2-spb02.cdn.yandex.net (cachev2-spb02.cdn.yandex.net)|37.140.137.4|:443... connected.\n",
            "HTTP request sent, awaiting response... 200 OK\n",
            "Length: 16457938 (16M) [application/octet-stream]\n",
            "Saving to: ‘mystem-3.0-linux3.1-64bit.tar.gz.1’\n",
            "\n",
            "mystem-3.0-linux3.1 100%[===================>]  15.70M  39.7MB/s    in 0.4s    \n",
            "\n",
            "2022-06-22 19:04:22 (39.7 MB/s) - ‘mystem-3.0-linux3.1-64bit.tar.gz.1’ saved [16457938/16457938]\n",
            "\n",
            "mystem\n"
          ]
        }
      ]
    },
    {
      "cell_type": "code",
      "execution_count": 2,
      "metadata": {
        "id": "yoPt9r3FVrJK"
      },
      "outputs": [],
      "source": [
        "from pymystem3 import Mystem\n",
        "m = Mystem()"
      ]
    },
    {
      "cell_type": "code",
      "execution_count": 3,
      "metadata": {
        "id": "m0yZXpmcVrJL",
        "colab": {
          "base_uri": "https://localhost:8080/",
          "height": 642
        },
        "outputId": "867591a8-cfec-4751-8f33-2696a3f8c100"
      },
      "outputs": [
        {
          "output_type": "stream",
          "name": "stdout",
          "text": [
            "<class 'pandas.core.frame.DataFrame'>\n",
            "RangeIndex: 21525 entries, 0 to 21524\n",
            "Data columns (total 12 columns):\n",
            " #   Column            Non-Null Count  Dtype  \n",
            "---  ------            --------------  -----  \n",
            " 0   children          21525 non-null  int64  \n",
            " 1   days_employed     19351 non-null  float64\n",
            " 2   dob_years         21525 non-null  int64  \n",
            " 3   education         21525 non-null  object \n",
            " 4   education_id      21525 non-null  int64  \n",
            " 5   family_status     21525 non-null  object \n",
            " 6   family_status_id  21525 non-null  int64  \n",
            " 7   gender            21525 non-null  object \n",
            " 8   income_type       21525 non-null  object \n",
            " 9   debt              21525 non-null  int64  \n",
            " 10  total_income      19351 non-null  float64\n",
            " 11  purpose           21525 non-null  object \n",
            "dtypes: float64(2), int64(5), object(5)\n",
            "memory usage: 2.0+ MB\n"
          ]
        },
        {
          "output_type": "execute_result",
          "data": {
            "text/plain": [
              "   children  days_employed  dob_years education  education_id  \\\n",
              "0         1   -8437.673028         42    высшее             0   \n",
              "1         1   -4024.803754         36   среднее             1   \n",
              "2         0   -5623.422610         33   Среднее             1   \n",
              "3         3   -4124.747207         32   среднее             1   \n",
              "4         0  340266.072047         53   среднее             1   \n",
              "\n",
              "      family_status  family_status_id gender income_type  debt   total_income  \\\n",
              "0   женат / замужем                 0      F   сотрудник     0  253875.639453   \n",
              "1   женат / замужем                 0      F   сотрудник     0  112080.014102   \n",
              "2   женат / замужем                 0      M   сотрудник     0  145885.952297   \n",
              "3   женат / замужем                 0      M   сотрудник     0  267628.550329   \n",
              "4  гражданский брак                 1      F   пенсионер     0  158616.077870   \n",
              "\n",
              "                      purpose  \n",
              "0               покупка жилья  \n",
              "1     приобретение автомобиля  \n",
              "2               покупка жилья  \n",
              "3  дополнительное образование  \n",
              "4             сыграть свадьбу  "
            ],
            "text/html": [
              "\n",
              "  <div id=\"df-446b15cb-ebcf-4efb-951b-68edee6f70c3\">\n",
              "    <div class=\"colab-df-container\">\n",
              "      <div>\n",
              "<style scoped>\n",
              "    .dataframe tbody tr th:only-of-type {\n",
              "        vertical-align: middle;\n",
              "    }\n",
              "\n",
              "    .dataframe tbody tr th {\n",
              "        vertical-align: top;\n",
              "    }\n",
              "\n",
              "    .dataframe thead th {\n",
              "        text-align: right;\n",
              "    }\n",
              "</style>\n",
              "<table border=\"1\" class=\"dataframe\">\n",
              "  <thead>\n",
              "    <tr style=\"text-align: right;\">\n",
              "      <th></th>\n",
              "      <th>children</th>\n",
              "      <th>days_employed</th>\n",
              "      <th>dob_years</th>\n",
              "      <th>education</th>\n",
              "      <th>education_id</th>\n",
              "      <th>family_status</th>\n",
              "      <th>family_status_id</th>\n",
              "      <th>gender</th>\n",
              "      <th>income_type</th>\n",
              "      <th>debt</th>\n",
              "      <th>total_income</th>\n",
              "      <th>purpose</th>\n",
              "    </tr>\n",
              "  </thead>\n",
              "  <tbody>\n",
              "    <tr>\n",
              "      <th>0</th>\n",
              "      <td>1</td>\n",
              "      <td>-8437.673028</td>\n",
              "      <td>42</td>\n",
              "      <td>высшее</td>\n",
              "      <td>0</td>\n",
              "      <td>женат / замужем</td>\n",
              "      <td>0</td>\n",
              "      <td>F</td>\n",
              "      <td>сотрудник</td>\n",
              "      <td>0</td>\n",
              "      <td>253875.639453</td>\n",
              "      <td>покупка жилья</td>\n",
              "    </tr>\n",
              "    <tr>\n",
              "      <th>1</th>\n",
              "      <td>1</td>\n",
              "      <td>-4024.803754</td>\n",
              "      <td>36</td>\n",
              "      <td>среднее</td>\n",
              "      <td>1</td>\n",
              "      <td>женат / замужем</td>\n",
              "      <td>0</td>\n",
              "      <td>F</td>\n",
              "      <td>сотрудник</td>\n",
              "      <td>0</td>\n",
              "      <td>112080.014102</td>\n",
              "      <td>приобретение автомобиля</td>\n",
              "    </tr>\n",
              "    <tr>\n",
              "      <th>2</th>\n",
              "      <td>0</td>\n",
              "      <td>-5623.422610</td>\n",
              "      <td>33</td>\n",
              "      <td>Среднее</td>\n",
              "      <td>1</td>\n",
              "      <td>женат / замужем</td>\n",
              "      <td>0</td>\n",
              "      <td>M</td>\n",
              "      <td>сотрудник</td>\n",
              "      <td>0</td>\n",
              "      <td>145885.952297</td>\n",
              "      <td>покупка жилья</td>\n",
              "    </tr>\n",
              "    <tr>\n",
              "      <th>3</th>\n",
              "      <td>3</td>\n",
              "      <td>-4124.747207</td>\n",
              "      <td>32</td>\n",
              "      <td>среднее</td>\n",
              "      <td>1</td>\n",
              "      <td>женат / замужем</td>\n",
              "      <td>0</td>\n",
              "      <td>M</td>\n",
              "      <td>сотрудник</td>\n",
              "      <td>0</td>\n",
              "      <td>267628.550329</td>\n",
              "      <td>дополнительное образование</td>\n",
              "    </tr>\n",
              "    <tr>\n",
              "      <th>4</th>\n",
              "      <td>0</td>\n",
              "      <td>340266.072047</td>\n",
              "      <td>53</td>\n",
              "      <td>среднее</td>\n",
              "      <td>1</td>\n",
              "      <td>гражданский брак</td>\n",
              "      <td>1</td>\n",
              "      <td>F</td>\n",
              "      <td>пенсионер</td>\n",
              "      <td>0</td>\n",
              "      <td>158616.077870</td>\n",
              "      <td>сыграть свадьбу</td>\n",
              "    </tr>\n",
              "  </tbody>\n",
              "</table>\n",
              "</div>\n",
              "      <button class=\"colab-df-convert\" onclick=\"convertToInteractive('df-446b15cb-ebcf-4efb-951b-68edee6f70c3')\"\n",
              "              title=\"Convert this dataframe to an interactive table.\"\n",
              "              style=\"display:none;\">\n",
              "        \n",
              "  <svg xmlns=\"http://www.w3.org/2000/svg\" height=\"24px\"viewBox=\"0 0 24 24\"\n",
              "       width=\"24px\">\n",
              "    <path d=\"M0 0h24v24H0V0z\" fill=\"none\"/>\n",
              "    <path d=\"M18.56 5.44l.94 2.06.94-2.06 2.06-.94-2.06-.94-.94-2.06-.94 2.06-2.06.94zm-11 1L8.5 8.5l.94-2.06 2.06-.94-2.06-.94L8.5 2.5l-.94 2.06-2.06.94zm10 10l.94 2.06.94-2.06 2.06-.94-2.06-.94-.94-2.06-.94 2.06-2.06.94z\"/><path d=\"M17.41 7.96l-1.37-1.37c-.4-.4-.92-.59-1.43-.59-.52 0-1.04.2-1.43.59L10.3 9.45l-7.72 7.72c-.78.78-.78 2.05 0 2.83L4 21.41c.39.39.9.59 1.41.59.51 0 1.02-.2 1.41-.59l7.78-7.78 2.81-2.81c.8-.78.8-2.07 0-2.86zM5.41 20L4 18.59l7.72-7.72 1.47 1.35L5.41 20z\"/>\n",
              "  </svg>\n",
              "      </button>\n",
              "      \n",
              "  <style>\n",
              "    .colab-df-container {\n",
              "      display:flex;\n",
              "      flex-wrap:wrap;\n",
              "      gap: 12px;\n",
              "    }\n",
              "\n",
              "    .colab-df-convert {\n",
              "      background-color: #E8F0FE;\n",
              "      border: none;\n",
              "      border-radius: 50%;\n",
              "      cursor: pointer;\n",
              "      display: none;\n",
              "      fill: #1967D2;\n",
              "      height: 32px;\n",
              "      padding: 0 0 0 0;\n",
              "      width: 32px;\n",
              "    }\n",
              "\n",
              "    .colab-df-convert:hover {\n",
              "      background-color: #E2EBFA;\n",
              "      box-shadow: 0px 1px 2px rgba(60, 64, 67, 0.3), 0px 1px 3px 1px rgba(60, 64, 67, 0.15);\n",
              "      fill: #174EA6;\n",
              "    }\n",
              "\n",
              "    [theme=dark] .colab-df-convert {\n",
              "      background-color: #3B4455;\n",
              "      fill: #D2E3FC;\n",
              "    }\n",
              "\n",
              "    [theme=dark] .colab-df-convert:hover {\n",
              "      background-color: #434B5C;\n",
              "      box-shadow: 0px 1px 3px 1px rgba(0, 0, 0, 0.15);\n",
              "      filter: drop-shadow(0px 1px 2px rgba(0, 0, 0, 0.3));\n",
              "      fill: #FFFFFF;\n",
              "    }\n",
              "  </style>\n",
              "\n",
              "      <script>\n",
              "        const buttonEl =\n",
              "          document.querySelector('#df-446b15cb-ebcf-4efb-951b-68edee6f70c3 button.colab-df-convert');\n",
              "        buttonEl.style.display =\n",
              "          google.colab.kernel.accessAllowed ? 'block' : 'none';\n",
              "\n",
              "        async function convertToInteractive(key) {\n",
              "          const element = document.querySelector('#df-446b15cb-ebcf-4efb-951b-68edee6f70c3');\n",
              "          const dataTable =\n",
              "            await google.colab.kernel.invokeFunction('convertToInteractive',\n",
              "                                                     [key], {});\n",
              "          if (!dataTable) return;\n",
              "\n",
              "          const docLinkHtml = 'Like what you see? Visit the ' +\n",
              "            '<a target=\"_blank\" href=https://colab.research.google.com/notebooks/data_table.ipynb>data table notebook</a>'\n",
              "            + ' to learn more about interactive tables.';\n",
              "          element.innerHTML = '';\n",
              "          dataTable['output_type'] = 'display_data';\n",
              "          await google.colab.output.renderOutput(dataTable, element);\n",
              "          const docLink = document.createElement('div');\n",
              "          docLink.innerHTML = docLinkHtml;\n",
              "          element.appendChild(docLink);\n",
              "        }\n",
              "      </script>\n",
              "    </div>\n",
              "  </div>\n",
              "  "
            ]
          },
          "metadata": {},
          "execution_count": 3
        }
      ],
      "source": [
        "import pandas as pd\n",
        "data = pd.read_csv('/content/project-2-data.csv')\n",
        "data.info()\n",
        "data.head()"
      ]
    },
    {
      "cell_type": "code",
      "execution_count": 4,
      "metadata": {
        "id": "NLtjKlgKVrJN",
        "colab": {
          "base_uri": "https://localhost:8080/"
        },
        "outputId": "66504c15-97fe-4f68-c4cd-8324e101d194"
      },
      "outputs": [
        {
          "output_type": "execute_result",
          "data": {
            "text/plain": [
              "children               0\n",
              "days_employed       2174\n",
              "dob_years              0\n",
              "education              0\n",
              "education_id           0\n",
              "family_status          0\n",
              "family_status_id       0\n",
              "gender                 0\n",
              "income_type            0\n",
              "debt                   0\n",
              "total_income        2174\n",
              "purpose                0\n",
              "dtype: int64"
            ]
          },
          "metadata": {},
          "execution_count": 4
        }
      ],
      "source": [
        "data.isna().sum()"
      ]
    },
    {
      "cell_type": "code",
      "execution_count": 5,
      "metadata": {
        "id": "y31lv65tVrJN",
        "colab": {
          "base_uri": "https://localhost:8080/"
        },
        "outputId": "db66f24e-9c29-41b2-f1f1-1c864fad4d73"
      },
      "outputs": [
        {
          "output_type": "execute_result",
          "data": {
            "text/plain": [
              "2174"
            ]
          },
          "metadata": {},
          "execution_count": 5
        }
      ],
      "source": [
        "data[data['total_income'].isna()]['days_employed'].isna().count()"
      ]
    },
    {
      "cell_type": "markdown",
      "metadata": {
        "id": "I4JOM8rHVrJP"
      },
      "source": [
        "Gaps are present in both columns at the same time."
      ]
    },
    {
      "cell_type": "markdown",
      "metadata": {
        "id": "GB2yPbHUVrJP"
      },
      "source": [
        "Let's check the content of the columns with categorical data and fix the detected problems:"
      ]
    },
    {
      "cell_type": "code",
      "execution_count": 6,
      "metadata": {
        "id": "C_WpPMjCVrJQ",
        "colab": {
          "base_uri": "https://localhost:8080/"
        },
        "outputId": "25565212-ba5d-4577-e11d-1851dfdec5e0"
      },
      "outputs": [
        {
          "output_type": "execute_result",
          "data": {
            "text/plain": [
              "array(['высшее', 'среднее', 'Среднее', 'СРЕДНЕЕ', 'ВЫСШЕЕ',\n",
              "       'неоконченное высшее', 'начальное', 'Высшее',\n",
              "       'НЕОКОНЧЕННОЕ ВЫСШЕЕ', 'Неоконченное высшее', 'НАЧАЛЬНОЕ',\n",
              "       'Начальное', 'Ученая степень', 'УЧЕНАЯ СТЕПЕНЬ', 'ученая степень'],\n",
              "      dtype=object)"
            ]
          },
          "metadata": {},
          "execution_count": 6
        }
      ],
      "source": [
        "data['education'].unique()"
      ]
    },
    {
      "cell_type": "code",
      "execution_count": 7,
      "metadata": {
        "id": "bkTYitmRVrJQ",
        "colab": {
          "base_uri": "https://localhost:8080/"
        },
        "outputId": "97e0e57c-9d68-406d-e70a-9bf18cbc51ae"
      },
      "outputs": [
        {
          "output_type": "execute_result",
          "data": {
            "text/plain": [
              "array(['высшее', 'среднее', 'неоконченное высшее', 'начальное',\n",
              "       'ученая степень'], dtype=object)"
            ]
          },
          "metadata": {},
          "execution_count": 7
        }
      ],
      "source": [
        "data['education'] = data['education'].str.lower()\n",
        "data['education'].unique()"
      ]
    },
    {
      "cell_type": "code",
      "execution_count": 8,
      "metadata": {
        "id": "aMZJgNb8VrJQ",
        "colab": {
          "base_uri": "https://localhost:8080/"
        },
        "outputId": "1f3e94ea-1d52-43ca-c1d4-615a7d0a43c8"
      },
      "outputs": [
        {
          "output_type": "execute_result",
          "data": {
            "text/plain": [
              "array(['женат / замужем', 'гражданский брак', 'вдовец / вдова',\n",
              "       'в разводе', 'Не женат / не замужем'], dtype=object)"
            ]
          },
          "metadata": {},
          "execution_count": 8
        }
      ],
      "source": [
        "data['family_status'].unique()"
      ]
    },
    {
      "cell_type": "code",
      "execution_count": 9,
      "metadata": {
        "id": "7QsCKvxxVrJR",
        "colab": {
          "base_uri": "https://localhost:8080/"
        },
        "outputId": "faa95b78-58ec-45b5-88f4-2f154980f9e4"
      },
      "outputs": [
        {
          "output_type": "execute_result",
          "data": {
            "text/plain": [
              "array(['женат / замужем', 'гражданский брак', 'вдовец / вдова',\n",
              "       'в разводе', 'не женат / не замужем'], dtype=object)"
            ]
          },
          "metadata": {},
          "execution_count": 9
        }
      ],
      "source": [
        "data['family_status'] = data['family_status'].str.lower()\n",
        "data['family_status'].unique()"
      ]
    },
    {
      "cell_type": "code",
      "execution_count": 10,
      "metadata": {
        "id": "fm5WQeh3VrJR",
        "colab": {
          "base_uri": "https://localhost:8080/"
        },
        "outputId": "e926b1a4-4c50-46a8-f407-412593e59c5a"
      },
      "outputs": [
        {
          "output_type": "execute_result",
          "data": {
            "text/plain": [
              "array(['сотрудник', 'пенсионер', 'компаньон', 'госслужащий',\n",
              "       'безработный', 'предприниматель', 'студент', 'в декрете'],\n",
              "      dtype=object)"
            ]
          },
          "metadata": {},
          "execution_count": 10
        }
      ],
      "source": [
        "data['income_type'].unique()"
      ]
    },
    {
      "cell_type": "code",
      "execution_count": 11,
      "metadata": {
        "id": "2clNZAnIVrJR",
        "colab": {
          "base_uri": "https://localhost:8080/"
        },
        "outputId": "b0ac0349-c6ed-49be-a0e6-1f10f2a70049"
      },
      "outputs": [
        {
          "output_type": "execute_result",
          "data": {
            "text/plain": [
              "array(['покупка жилья', 'приобретение автомобиля',\n",
              "       'дополнительное образование', 'сыграть свадьбу',\n",
              "       'операции с жильем', 'образование', 'на проведение свадьбы',\n",
              "       'покупка жилья для семьи', 'покупка недвижимости',\n",
              "       'покупка коммерческой недвижимости', 'покупка жилой недвижимости',\n",
              "       'строительство собственной недвижимости', 'недвижимость',\n",
              "       'строительство недвижимости', 'на покупку подержанного автомобиля',\n",
              "       'на покупку своего автомобиля',\n",
              "       'операции с коммерческой недвижимостью',\n",
              "       'строительство жилой недвижимости', 'жилье',\n",
              "       'операции со своей недвижимостью', 'автомобили',\n",
              "       'заняться образованием', 'сделка с подержанным автомобилем',\n",
              "       'получение образования', 'автомобиль', 'свадьба',\n",
              "       'получение дополнительного образования', 'покупка своего жилья',\n",
              "       'операции с недвижимостью', 'получение высшего образования',\n",
              "       'свой автомобиль', 'сделка с автомобилем',\n",
              "       'профильное образование', 'высшее образование',\n",
              "       'покупка жилья для сдачи', 'на покупку автомобиля', 'ремонт жилью',\n",
              "       'заняться высшим образованием'], dtype=object)"
            ]
          },
          "metadata": {},
          "execution_count": 11
        }
      ],
      "source": [
        "data['purpose'].unique()"
      ]
    },
    {
      "cell_type": "code",
      "execution_count": 12,
      "metadata": {
        "id": "JzuRmnqBVrJR",
        "colab": {
          "base_uri": "https://localhost:8080/"
        },
        "outputId": "3eb6df48-dde5-45c0-8eb0-496e8e8d4b47"
      },
      "outputs": [
        {
          "output_type": "execute_result",
          "data": {
            "text/plain": [
              "array(['F', 'M', 'XNA'], dtype=object)"
            ]
          },
          "metadata": {},
          "execution_count": 12
        }
      ],
      "source": [
        "data['gender'].unique()"
      ]
    },
    {
      "cell_type": "code",
      "execution_count": 13,
      "metadata": {
        "id": "WBsz7ksJVrJS",
        "colab": {
          "base_uri": "https://localhost:8080/",
          "height": 142
        },
        "outputId": "68fa3962-4390-4281-ba88-0e08ff33b105"
      },
      "outputs": [
        {
          "output_type": "execute_result",
          "data": {
            "text/plain": [
              "       children  days_employed  dob_years            education  education_id  \\\n",
              "10701         0   -2358.600502         24  неоконченное высшее             2   \n",
              "\n",
              "          family_status  family_status_id gender income_type  debt  \\\n",
              "10701  гражданский брак                 1    XNA   компаньон     0   \n",
              "\n",
              "        total_income               purpose  \n",
              "10701  203905.157261  покупка недвижимости  "
            ],
            "text/html": [
              "\n",
              "  <div id=\"df-54282bc7-0fa0-487d-ab20-357e99866acc\">\n",
              "    <div class=\"colab-df-container\">\n",
              "      <div>\n",
              "<style scoped>\n",
              "    .dataframe tbody tr th:only-of-type {\n",
              "        vertical-align: middle;\n",
              "    }\n",
              "\n",
              "    .dataframe tbody tr th {\n",
              "        vertical-align: top;\n",
              "    }\n",
              "\n",
              "    .dataframe thead th {\n",
              "        text-align: right;\n",
              "    }\n",
              "</style>\n",
              "<table border=\"1\" class=\"dataframe\">\n",
              "  <thead>\n",
              "    <tr style=\"text-align: right;\">\n",
              "      <th></th>\n",
              "      <th>children</th>\n",
              "      <th>days_employed</th>\n",
              "      <th>dob_years</th>\n",
              "      <th>education</th>\n",
              "      <th>education_id</th>\n",
              "      <th>family_status</th>\n",
              "      <th>family_status_id</th>\n",
              "      <th>gender</th>\n",
              "      <th>income_type</th>\n",
              "      <th>debt</th>\n",
              "      <th>total_income</th>\n",
              "      <th>purpose</th>\n",
              "    </tr>\n",
              "  </thead>\n",
              "  <tbody>\n",
              "    <tr>\n",
              "      <th>10701</th>\n",
              "      <td>0</td>\n",
              "      <td>-2358.600502</td>\n",
              "      <td>24</td>\n",
              "      <td>неоконченное высшее</td>\n",
              "      <td>2</td>\n",
              "      <td>гражданский брак</td>\n",
              "      <td>1</td>\n",
              "      <td>XNA</td>\n",
              "      <td>компаньон</td>\n",
              "      <td>0</td>\n",
              "      <td>203905.157261</td>\n",
              "      <td>покупка недвижимости</td>\n",
              "    </tr>\n",
              "  </tbody>\n",
              "</table>\n",
              "</div>\n",
              "      <button class=\"colab-df-convert\" onclick=\"convertToInteractive('df-54282bc7-0fa0-487d-ab20-357e99866acc')\"\n",
              "              title=\"Convert this dataframe to an interactive table.\"\n",
              "              style=\"display:none;\">\n",
              "        \n",
              "  <svg xmlns=\"http://www.w3.org/2000/svg\" height=\"24px\"viewBox=\"0 0 24 24\"\n",
              "       width=\"24px\">\n",
              "    <path d=\"M0 0h24v24H0V0z\" fill=\"none\"/>\n",
              "    <path d=\"M18.56 5.44l.94 2.06.94-2.06 2.06-.94-2.06-.94-.94-2.06-.94 2.06-2.06.94zm-11 1L8.5 8.5l.94-2.06 2.06-.94-2.06-.94L8.5 2.5l-.94 2.06-2.06.94zm10 10l.94 2.06.94-2.06 2.06-.94-2.06-.94-.94-2.06-.94 2.06-2.06.94z\"/><path d=\"M17.41 7.96l-1.37-1.37c-.4-.4-.92-.59-1.43-.59-.52 0-1.04.2-1.43.59L10.3 9.45l-7.72 7.72c-.78.78-.78 2.05 0 2.83L4 21.41c.39.39.9.59 1.41.59.51 0 1.02-.2 1.41-.59l7.78-7.78 2.81-2.81c.8-.78.8-2.07 0-2.86zM5.41 20L4 18.59l7.72-7.72 1.47 1.35L5.41 20z\"/>\n",
              "  </svg>\n",
              "      </button>\n",
              "      \n",
              "  <style>\n",
              "    .colab-df-container {\n",
              "      display:flex;\n",
              "      flex-wrap:wrap;\n",
              "      gap: 12px;\n",
              "    }\n",
              "\n",
              "    .colab-df-convert {\n",
              "      background-color: #E8F0FE;\n",
              "      border: none;\n",
              "      border-radius: 50%;\n",
              "      cursor: pointer;\n",
              "      display: none;\n",
              "      fill: #1967D2;\n",
              "      height: 32px;\n",
              "      padding: 0 0 0 0;\n",
              "      width: 32px;\n",
              "    }\n",
              "\n",
              "    .colab-df-convert:hover {\n",
              "      background-color: #E2EBFA;\n",
              "      box-shadow: 0px 1px 2px rgba(60, 64, 67, 0.3), 0px 1px 3px 1px rgba(60, 64, 67, 0.15);\n",
              "      fill: #174EA6;\n",
              "    }\n",
              "\n",
              "    [theme=dark] .colab-df-convert {\n",
              "      background-color: #3B4455;\n",
              "      fill: #D2E3FC;\n",
              "    }\n",
              "\n",
              "    [theme=dark] .colab-df-convert:hover {\n",
              "      background-color: #434B5C;\n",
              "      box-shadow: 0px 1px 3px 1px rgba(0, 0, 0, 0.15);\n",
              "      filter: drop-shadow(0px 1px 2px rgba(0, 0, 0, 0.3));\n",
              "      fill: #FFFFFF;\n",
              "    }\n",
              "  </style>\n",
              "\n",
              "      <script>\n",
              "        const buttonEl =\n",
              "          document.querySelector('#df-54282bc7-0fa0-487d-ab20-357e99866acc button.colab-df-convert');\n",
              "        buttonEl.style.display =\n",
              "          google.colab.kernel.accessAllowed ? 'block' : 'none';\n",
              "\n",
              "        async function convertToInteractive(key) {\n",
              "          const element = document.querySelector('#df-54282bc7-0fa0-487d-ab20-357e99866acc');\n",
              "          const dataTable =\n",
              "            await google.colab.kernel.invokeFunction('convertToInteractive',\n",
              "                                                     [key], {});\n",
              "          if (!dataTable) return;\n",
              "\n",
              "          const docLinkHtml = 'Like what you see? Visit the ' +\n",
              "            '<a target=\"_blank\" href=https://colab.research.google.com/notebooks/data_table.ipynb>data table notebook</a>'\n",
              "            + ' to learn more about interactive tables.';\n",
              "          element.innerHTML = '';\n",
              "          dataTable['output_type'] = 'display_data';\n",
              "          await google.colab.output.renderOutput(dataTable, element);\n",
              "          const docLink = document.createElement('div');\n",
              "          docLink.innerHTML = docLinkHtml;\n",
              "          element.appendChild(docLink);\n",
              "        }\n",
              "      </script>\n",
              "    </div>\n",
              "  </div>\n",
              "  "
            ]
          },
          "metadata": {},
          "execution_count": 13
        }
      ],
      "source": [
        "data[data['gender'] == 'XNA']"
      ]
    },
    {
      "cell_type": "code",
      "execution_count": 14,
      "metadata": {
        "id": "aYxHBusSVrJS",
        "colab": {
          "base_uri": "https://localhost:8080/"
        },
        "outputId": "0ca55c30-d5dd-4e40-aed9-9b9e2933df7f"
      },
      "outputs": [
        {
          "output_type": "execute_result",
          "data": {
            "text/plain": [
              "array([42, 36, 33, 32, 53, 27, 43, 50, 35, 41, 40, 65, 54, 56, 26, 48, 24,\n",
              "       21, 57, 67, 28, 63, 62, 47, 34, 68, 25, 31, 30, 20, 49, 37, 45, 61,\n",
              "       64, 44, 52, 46, 23, 38, 39, 51,  0, 59, 29, 60, 55, 58, 71, 22, 73,\n",
              "       66, 69, 19, 72, 70, 74, 75])"
            ]
          },
          "metadata": {},
          "execution_count": 14
        }
      ],
      "source": [
        "data['dob_years'].unique()"
      ]
    },
    {
      "cell_type": "code",
      "execution_count": 15,
      "metadata": {
        "id": "fM7iwJRZVrJS",
        "colab": {
          "base_uri": "https://localhost:8080/"
        },
        "outputId": "7906b57f-aadb-4359-839a-e45e902fc451"
      },
      "outputs": [
        {
          "output_type": "execute_result",
          "data": {
            "text/plain": [
              "101"
            ]
          },
          "metadata": {},
          "execution_count": 15
        }
      ],
      "source": [
        "data[data['dob_years'] == 0]['dob_years'].count()"
      ]
    },
    {
      "cell_type": "code",
      "execution_count": 16,
      "metadata": {
        "id": "q5r7CrWRVrJS",
        "colab": {
          "base_uri": "https://localhost:8080/"
        },
        "outputId": "af7541be-8faf-482b-e7c5-7cf43fc7c074"
      },
      "outputs": [
        {
          "output_type": "execute_result",
          "data": {
            "text/plain": [
              "array([ 1,  0,  3,  2, -1,  4, 20,  5])"
            ]
          },
          "metadata": {},
          "execution_count": 16
        }
      ],
      "source": [
        "data['children'].unique()"
      ]
    },
    {
      "cell_type": "code",
      "execution_count": 17,
      "metadata": {
        "id": "d-GuqF7hVrJS",
        "colab": {
          "base_uri": "https://localhost:8080/"
        },
        "outputId": "4b906aae-e68e-4b72-e88f-30150666daca"
      },
      "outputs": [
        {
          "output_type": "execute_result",
          "data": {
            "text/plain": [
              "47"
            ]
          },
          "metadata": {},
          "execution_count": 17
        }
      ],
      "source": [
        "data[data['children'] == -1]['children'].count()"
      ]
    },
    {
      "cell_type": "code",
      "execution_count": 18,
      "metadata": {
        "id": "4-x0wEPNVrJT",
        "colab": {
          "base_uri": "https://localhost:8080/"
        },
        "outputId": "39a6cd21-0fe0-408c-a95c-938c70b7d466"
      },
      "outputs": [
        {
          "output_type": "execute_result",
          "data": {
            "text/plain": [
              "array([0, 1, 2, 3, 4])"
            ]
          },
          "metadata": {},
          "execution_count": 18
        }
      ],
      "source": [
        "data['education_id'].unique()"
      ]
    },
    {
      "cell_type": "code",
      "execution_count": 19,
      "metadata": {
        "id": "gevpBJhUVrJT",
        "colab": {
          "base_uri": "https://localhost:8080/"
        },
        "outputId": "d8ee6d9f-c671-4708-8e1f-a64f1261e684"
      },
      "outputs": [
        {
          "output_type": "execute_result",
          "data": {
            "text/plain": [
              "array([0, 1, 2, 3, 4])"
            ]
          },
          "metadata": {},
          "execution_count": 19
        }
      ],
      "source": [
        "data['family_status_id'].unique()"
      ]
    },
    {
      "cell_type": "code",
      "execution_count": 20,
      "metadata": {
        "id": "mLhH0jFnVrJT",
        "colab": {
          "base_uri": "https://localhost:8080/"
        },
        "outputId": "635468ab-c885-4a6c-f35e-20145579c26f"
      },
      "outputs": [
        {
          "output_type": "execute_result",
          "data": {
            "text/plain": [
              "array([0, 1])"
            ]
          },
          "metadata": {},
          "execution_count": 20
        }
      ],
      "source": [
        "data['debt'].unique()"
      ]
    },
    {
      "cell_type": "markdown",
      "metadata": {
        "id": "g6fwIq8oVrJT"
      },
      "source": [
        "##Data preprocessing"
      ]
    },
    {
      "cell_type": "markdown",
      "metadata": {
        "id": "Dn_P4e8bVrJT"
      },
      "source": [
        "### Processing of missing values"
      ]
    },
    {
      "cell_type": "code",
      "execution_count": 21,
      "metadata": {
        "id": "5uWTEeafVrJU",
        "colab": {
          "base_uri": "https://localhost:8080/"
        },
        "outputId": "bffb68f3-2744-4c45-c122-9fbbad154b4d"
      },
      "outputs": [
        {
          "output_type": "execute_result",
          "data": {
            "text/plain": [
              "сотрудник          0.508280\n",
              "компаньон          0.233671\n",
              "пенсионер          0.189972\n",
              "госслужащий        0.067617\n",
              "предприниматель    0.000460\n",
              "Name: income_type, dtype: float64"
            ]
          },
          "metadata": {},
          "execution_count": 21
        }
      ],
      "source": [
        "data[data['total_income'].isna()]['income_type'].value_counts(normalize=True)"
      ]
    },
    {
      "cell_type": "code",
      "execution_count": 22,
      "metadata": {
        "id": "mHADEE8HVrJU",
        "colab": {
          "base_uri": "https://localhost:8080/"
        },
        "outputId": "b3298b07-1598-4dd0-ed41-7bee62531e7b"
      },
      "outputs": [
        {
          "output_type": "execute_result",
          "data": {
            "text/plain": [
              "сотрудник          0.517493\n",
              "компаньон          0.236525\n",
              "пенсионер          0.177924\n",
              "госслужащий        0.067800\n",
              "безработный        0.000103\n",
              "студент            0.000052\n",
              "предприниматель    0.000052\n",
              "в декрете          0.000052\n",
              "Name: income_type, dtype: float64"
            ]
          },
          "metadata": {},
          "execution_count": 22
        }
      ],
      "source": [
        "data[~data['total_income'].isna()]['income_type'].value_counts(normalize=True)"
      ]
    },
    {
      "cell_type": "code",
      "execution_count": 23,
      "metadata": {
        "id": "PlMZzMC7VrJU",
        "colab": {
          "base_uri": "https://localhost:8080/"
        },
        "outputId": "df4c6485-8862-4e48-dffc-515726d6d8b1"
      },
      "outputs": [
        {
          "output_type": "execute_result",
          "data": {
            "text/plain": [
              "income_type\n",
              "безработный        131339.751676\n",
              "в декрете           53829.130729\n",
              "госслужащий        150447.935283\n",
              "компаньон          172357.950966\n",
              "пенсионер          118514.486412\n",
              "предприниматель    499163.144947\n",
              "сотрудник          142594.396847\n",
              "студент             98201.625314\n",
              "Name: total_income, dtype: float64"
            ]
          },
          "metadata": {},
          "execution_count": 23
        }
      ],
      "source": [
        "data.groupby('income_type')['total_income'].median()"
      ]
    },
    {
      "cell_type": "code",
      "execution_count": 24,
      "metadata": {
        "id": "pVoAWDd_VrJU",
        "colab": {
          "base_uri": "https://localhost:8080/"
        },
        "outputId": "15b232a6-8e3a-4c3c-a496-954e6e94cb2b"
      },
      "outputs": [
        {
          "output_type": "execute_result",
          "data": {
            "text/plain": [
              "сотрудник          1105\n",
              "компаньон           508\n",
              "пенсионер           413\n",
              "госслужащий         147\n",
              "предприниматель       1\n",
              "Name: income_type, dtype: int64"
            ]
          },
          "metadata": {},
          "execution_count": 24
        }
      ],
      "source": [
        "data[data['total_income'].isna()]['income_type'].value_counts()"
      ]
    },
    {
      "cell_type": "code",
      "execution_count": 25,
      "metadata": {
        "id": "O-zM9IISVrJU"
      },
      "outputs": [],
      "source": [
        "data['total_income'] = data.groupby('income_type')['total_income'].transform(lambda x: x.fillna(x.median()))"
      ]
    },
    {
      "cell_type": "code",
      "execution_count": 26,
      "metadata": {
        "id": "-OvfqBXgVrJU",
        "colab": {
          "base_uri": "https://localhost:8080/"
        },
        "outputId": "7b28b687-b8a5-4987-8d57-5c70626a8541"
      },
      "outputs": [
        {
          "output_type": "stream",
          "name": "stderr",
          "text": [
            "/usr/local/lib/python3.7/dist-packages/ipykernel_launcher.py:2: SettingWithCopyWarning: \n",
            "A value is trying to be set on a copy of a slice from a DataFrame.\n",
            "Try using .loc[row_indexer,col_indexer] = value instead\n",
            "\n",
            "See the caveats in the documentation: https://pandas.pydata.org/pandas-docs/stable/user_guide/indexing.html#returning-a-view-versus-a-copy\n",
            "  \n"
          ]
        },
        {
          "output_type": "execute_result",
          "data": {
            "text/plain": [
              "children            0\n",
              "days_employed       0\n",
              "dob_years           0\n",
              "education           0\n",
              "education_id        0\n",
              "family_status       0\n",
              "family_status_id    0\n",
              "gender              0\n",
              "income_type         0\n",
              "debt                0\n",
              "total_income        0\n",
              "purpose             0\n",
              "dtype: int64"
            ]
          },
          "metadata": {},
          "execution_count": 26
        }
      ],
      "source": [
        "data = data[data['children'] != -1]\n",
        "data['days_employed'] = data['days_employed'].fillna(0)\n",
        "data.isna().sum()"
      ]
    },
    {
      "cell_type": "markdown",
      "metadata": {
        "id": "QMzI5M1mVrJV"
      },
      "source": [
        "We got rid of lines with an unspecified number of children. Gaps in the length of service and income are replaced by zeros for the possibility of further transformation of the data type in these columns."
      ]
    },
    {
      "cell_type": "markdown",
      "metadata": {
        "id": "nuPuzPasVrJV"
      },
      "source": [
        "### Changing the data type"
      ]
    },
    {
      "cell_type": "code",
      "execution_count": 27,
      "metadata": {
        "id": "V2-YSHRfVrJV",
        "colab": {
          "base_uri": "https://localhost:8080/",
          "height": 517
        },
        "outputId": "fa6ba7e5-1bf1-4d4b-db88-7e0c9caa3e32"
      },
      "outputs": [
        {
          "output_type": "stream",
          "name": "stderr",
          "text": [
            "/usr/local/lib/python3.7/dist-packages/ipykernel_launcher.py:1: SettingWithCopyWarning: \n",
            "A value is trying to be set on a copy of a slice from a DataFrame.\n",
            "Try using .loc[row_indexer,col_indexer] = value instead\n",
            "\n",
            "See the caveats in the documentation: https://pandas.pydata.org/pandas-docs/stable/user_guide/indexing.html#returning-a-view-versus-a-copy\n",
            "  \"\"\"Entry point for launching an IPython kernel.\n",
            "/usr/local/lib/python3.7/dist-packages/ipykernel_launcher.py:2: SettingWithCopyWarning: \n",
            "A value is trying to be set on a copy of a slice from a DataFrame.\n",
            "Try using .loc[row_indexer,col_indexer] = value instead\n",
            "\n",
            "See the caveats in the documentation: https://pandas.pydata.org/pandas-docs/stable/user_guide/indexing.html#returning-a-view-versus-a-copy\n",
            "  \n"
          ]
        },
        {
          "output_type": "execute_result",
          "data": {
            "text/plain": [
              "   children  days_employed  dob_years education  education_id  \\\n",
              "0         1           8437         42    высшее             0   \n",
              "1         1           4024         36   среднее             1   \n",
              "2         0           5623         33   среднее             1   \n",
              "3         3           4124         32   среднее             1   \n",
              "4         0         340266         53   среднее             1   \n",
              "\n",
              "      family_status  family_status_id gender income_type  debt  total_income  \\\n",
              "0   женат / замужем                 0      F   сотрудник     0        253875   \n",
              "1   женат / замужем                 0      F   сотрудник     0        112080   \n",
              "2   женат / замужем                 0      M   сотрудник     0        145885   \n",
              "3   женат / замужем                 0      M   сотрудник     0        267628   \n",
              "4  гражданский брак                 1      F   пенсионер     0        158616   \n",
              "\n",
              "                      purpose  \n",
              "0               покупка жилья  \n",
              "1     приобретение автомобиля  \n",
              "2               покупка жилья  \n",
              "3  дополнительное образование  \n",
              "4             сыграть свадьбу  "
            ],
            "text/html": [
              "\n",
              "  <div id=\"df-996ed512-b1e9-405e-9c07-cb428f07ffd6\">\n",
              "    <div class=\"colab-df-container\">\n",
              "      <div>\n",
              "<style scoped>\n",
              "    .dataframe tbody tr th:only-of-type {\n",
              "        vertical-align: middle;\n",
              "    }\n",
              "\n",
              "    .dataframe tbody tr th {\n",
              "        vertical-align: top;\n",
              "    }\n",
              "\n",
              "    .dataframe thead th {\n",
              "        text-align: right;\n",
              "    }\n",
              "</style>\n",
              "<table border=\"1\" class=\"dataframe\">\n",
              "  <thead>\n",
              "    <tr style=\"text-align: right;\">\n",
              "      <th></th>\n",
              "      <th>children</th>\n",
              "      <th>days_employed</th>\n",
              "      <th>dob_years</th>\n",
              "      <th>education</th>\n",
              "      <th>education_id</th>\n",
              "      <th>family_status</th>\n",
              "      <th>family_status_id</th>\n",
              "      <th>gender</th>\n",
              "      <th>income_type</th>\n",
              "      <th>debt</th>\n",
              "      <th>total_income</th>\n",
              "      <th>purpose</th>\n",
              "    </tr>\n",
              "  </thead>\n",
              "  <tbody>\n",
              "    <tr>\n",
              "      <th>0</th>\n",
              "      <td>1</td>\n",
              "      <td>8437</td>\n",
              "      <td>42</td>\n",
              "      <td>высшее</td>\n",
              "      <td>0</td>\n",
              "      <td>женат / замужем</td>\n",
              "      <td>0</td>\n",
              "      <td>F</td>\n",
              "      <td>сотрудник</td>\n",
              "      <td>0</td>\n",
              "      <td>253875</td>\n",
              "      <td>покупка жилья</td>\n",
              "    </tr>\n",
              "    <tr>\n",
              "      <th>1</th>\n",
              "      <td>1</td>\n",
              "      <td>4024</td>\n",
              "      <td>36</td>\n",
              "      <td>среднее</td>\n",
              "      <td>1</td>\n",
              "      <td>женат / замужем</td>\n",
              "      <td>0</td>\n",
              "      <td>F</td>\n",
              "      <td>сотрудник</td>\n",
              "      <td>0</td>\n",
              "      <td>112080</td>\n",
              "      <td>приобретение автомобиля</td>\n",
              "    </tr>\n",
              "    <tr>\n",
              "      <th>2</th>\n",
              "      <td>0</td>\n",
              "      <td>5623</td>\n",
              "      <td>33</td>\n",
              "      <td>среднее</td>\n",
              "      <td>1</td>\n",
              "      <td>женат / замужем</td>\n",
              "      <td>0</td>\n",
              "      <td>M</td>\n",
              "      <td>сотрудник</td>\n",
              "      <td>0</td>\n",
              "      <td>145885</td>\n",
              "      <td>покупка жилья</td>\n",
              "    </tr>\n",
              "    <tr>\n",
              "      <th>3</th>\n",
              "      <td>3</td>\n",
              "      <td>4124</td>\n",
              "      <td>32</td>\n",
              "      <td>среднее</td>\n",
              "      <td>1</td>\n",
              "      <td>женат / замужем</td>\n",
              "      <td>0</td>\n",
              "      <td>M</td>\n",
              "      <td>сотрудник</td>\n",
              "      <td>0</td>\n",
              "      <td>267628</td>\n",
              "      <td>дополнительное образование</td>\n",
              "    </tr>\n",
              "    <tr>\n",
              "      <th>4</th>\n",
              "      <td>0</td>\n",
              "      <td>340266</td>\n",
              "      <td>53</td>\n",
              "      <td>среднее</td>\n",
              "      <td>1</td>\n",
              "      <td>гражданский брак</td>\n",
              "      <td>1</td>\n",
              "      <td>F</td>\n",
              "      <td>пенсионер</td>\n",
              "      <td>0</td>\n",
              "      <td>158616</td>\n",
              "      <td>сыграть свадьбу</td>\n",
              "    </tr>\n",
              "  </tbody>\n",
              "</table>\n",
              "</div>\n",
              "      <button class=\"colab-df-convert\" onclick=\"convertToInteractive('df-996ed512-b1e9-405e-9c07-cb428f07ffd6')\"\n",
              "              title=\"Convert this dataframe to an interactive table.\"\n",
              "              style=\"display:none;\">\n",
              "        \n",
              "  <svg xmlns=\"http://www.w3.org/2000/svg\" height=\"24px\"viewBox=\"0 0 24 24\"\n",
              "       width=\"24px\">\n",
              "    <path d=\"M0 0h24v24H0V0z\" fill=\"none\"/>\n",
              "    <path d=\"M18.56 5.44l.94 2.06.94-2.06 2.06-.94-2.06-.94-.94-2.06-.94 2.06-2.06.94zm-11 1L8.5 8.5l.94-2.06 2.06-.94-2.06-.94L8.5 2.5l-.94 2.06-2.06.94zm10 10l.94 2.06.94-2.06 2.06-.94-2.06-.94-.94-2.06-.94 2.06-2.06.94z\"/><path d=\"M17.41 7.96l-1.37-1.37c-.4-.4-.92-.59-1.43-.59-.52 0-1.04.2-1.43.59L10.3 9.45l-7.72 7.72c-.78.78-.78 2.05 0 2.83L4 21.41c.39.39.9.59 1.41.59.51 0 1.02-.2 1.41-.59l7.78-7.78 2.81-2.81c.8-.78.8-2.07 0-2.86zM5.41 20L4 18.59l7.72-7.72 1.47 1.35L5.41 20z\"/>\n",
              "  </svg>\n",
              "      </button>\n",
              "      \n",
              "  <style>\n",
              "    .colab-df-container {\n",
              "      display:flex;\n",
              "      flex-wrap:wrap;\n",
              "      gap: 12px;\n",
              "    }\n",
              "\n",
              "    .colab-df-convert {\n",
              "      background-color: #E8F0FE;\n",
              "      border: none;\n",
              "      border-radius: 50%;\n",
              "      cursor: pointer;\n",
              "      display: none;\n",
              "      fill: #1967D2;\n",
              "      height: 32px;\n",
              "      padding: 0 0 0 0;\n",
              "      width: 32px;\n",
              "    }\n",
              "\n",
              "    .colab-df-convert:hover {\n",
              "      background-color: #E2EBFA;\n",
              "      box-shadow: 0px 1px 2px rgba(60, 64, 67, 0.3), 0px 1px 3px 1px rgba(60, 64, 67, 0.15);\n",
              "      fill: #174EA6;\n",
              "    }\n",
              "\n",
              "    [theme=dark] .colab-df-convert {\n",
              "      background-color: #3B4455;\n",
              "      fill: #D2E3FC;\n",
              "    }\n",
              "\n",
              "    [theme=dark] .colab-df-convert:hover {\n",
              "      background-color: #434B5C;\n",
              "      box-shadow: 0px 1px 3px 1px rgba(0, 0, 0, 0.15);\n",
              "      filter: drop-shadow(0px 1px 2px rgba(0, 0, 0, 0.3));\n",
              "      fill: #FFFFFF;\n",
              "    }\n",
              "  </style>\n",
              "\n",
              "      <script>\n",
              "        const buttonEl =\n",
              "          document.querySelector('#df-996ed512-b1e9-405e-9c07-cb428f07ffd6 button.colab-df-convert');\n",
              "        buttonEl.style.display =\n",
              "          google.colab.kernel.accessAllowed ? 'block' : 'none';\n",
              "\n",
              "        async function convertToInteractive(key) {\n",
              "          const element = document.querySelector('#df-996ed512-b1e9-405e-9c07-cb428f07ffd6');\n",
              "          const dataTable =\n",
              "            await google.colab.kernel.invokeFunction('convertToInteractive',\n",
              "                                                     [key], {});\n",
              "          if (!dataTable) return;\n",
              "\n",
              "          const docLinkHtml = 'Like what you see? Visit the ' +\n",
              "            '<a target=\"_blank\" href=https://colab.research.google.com/notebooks/data_table.ipynb>data table notebook</a>'\n",
              "            + ' to learn more about interactive tables.';\n",
              "          element.innerHTML = '';\n",
              "          dataTable['output_type'] = 'display_data';\n",
              "          await google.colab.output.renderOutput(dataTable, element);\n",
              "          const docLink = document.createElement('div');\n",
              "          docLink.innerHTML = docLinkHtml;\n",
              "          element.appendChild(docLink);\n",
              "        }\n",
              "      </script>\n",
              "    </div>\n",
              "  </div>\n",
              "  "
            ]
          },
          "metadata": {},
          "execution_count": 27
        }
      ],
      "source": [
        "data['days_employed'] = data['days_employed'].astype('int').abs()\n",
        "data['total_income'] = data['total_income'].astype('int').abs()\n",
        "data.head()"
      ]
    },
    {
      "cell_type": "code",
      "execution_count": 28,
      "metadata": {
        "id": "vEKvtJXUVrJV",
        "colab": {
          "base_uri": "https://localhost:8080/"
        },
        "outputId": "39e6751a-a21c-4321-9778-dd1fb47662a7"
      },
      "outputs": [
        {
          "output_type": "execute_result",
          "data": {
            "text/plain": [
              "3512"
            ]
          },
          "metadata": {},
          "execution_count": 28
        }
      ],
      "source": [
        "data.loc[(data['dob_years'] - data['days_employed'] / 365) < 0]['days_employed'].count()"
      ]
    },
    {
      "cell_type": "markdown",
      "metadata": {
        "id": "TzpK35PiVrJV"
      },
      "source": [
        "We brought the columns with data on experience and income to a digestible form. It is noteworthy: it was found that the experience in 3512 cases is greater than the age of the borrowers. Thus, another error in the data was discovered. But the experience in our case can be neglected, because it is not within the scope of the study."
      ]
    },
    {
      "cell_type": "markdown",
      "metadata": {
        "id": "5oVFIsfDVrJV"
      },
      "source": [
        "### Processing duplicated entries"
      ]
    },
    {
      "cell_type": "code",
      "execution_count": 29,
      "metadata": {
        "id": "cUfQ6unTVrJV",
        "colab": {
          "base_uri": "https://localhost:8080/"
        },
        "outputId": "95ccc4eb-3db3-450b-cb9d-71165a6cd3ca"
      },
      "outputs": [
        {
          "output_type": "execute_result",
          "data": {
            "text/plain": [
              "71"
            ]
          },
          "metadata": {},
          "execution_count": 29
        }
      ],
      "source": [
        "data.duplicated().sum()"
      ]
    },
    {
      "cell_type": "code",
      "execution_count": 30,
      "metadata": {
        "id": "AIBxBNyOVrJW"
      },
      "outputs": [],
      "source": [
        "data = data.drop_duplicates().reset_index(drop=True)"
      ]
    },
    {
      "cell_type": "code",
      "execution_count": 31,
      "metadata": {
        "id": "oNRwvfCBVrJW",
        "colab": {
          "base_uri": "https://localhost:8080/"
        },
        "outputId": "171167d1-a0ff-450d-cf23-ab2f3d7a81d8"
      },
      "outputs": [
        {
          "output_type": "stream",
          "name": "stdout",
          "text": [
            "<class 'pandas.core.frame.DataFrame'>\n",
            "RangeIndex: 21407 entries, 0 to 21406\n",
            "Data columns (total 12 columns):\n",
            " #   Column            Non-Null Count  Dtype \n",
            "---  ------            --------------  ----- \n",
            " 0   children          21407 non-null  int64 \n",
            " 1   days_employed     21407 non-null  int64 \n",
            " 2   dob_years         21407 non-null  int64 \n",
            " 3   education         21407 non-null  object\n",
            " 4   education_id      21407 non-null  int64 \n",
            " 5   family_status     21407 non-null  object\n",
            " 6   family_status_id  21407 non-null  int64 \n",
            " 7   gender            21407 non-null  object\n",
            " 8   income_type       21407 non-null  object\n",
            " 9   debt              21407 non-null  int64 \n",
            " 10  total_income      21407 non-null  int64 \n",
            " 11  purpose           21407 non-null  object\n",
            "dtypes: int64(7), object(5)\n",
            "memory usage: 2.0+ MB\n"
          ]
        }
      ],
      "source": [
        "data.info()"
      ]
    },
    {
      "cell_type": "markdown",
      "metadata": {
        "id": "pfCgY-WuVrJW"
      },
      "source": [
        "### Lemmatization"
      ]
    },
    {
      "cell_type": "code",
      "execution_count": 32,
      "metadata": {
        "id": "JprAXmt-VrJW"
      },
      "outputs": [],
      "source": [
        "def credit_purpose(purpose):\n",
        "    '''The function categorizes the purpose of obtaining a loan \n",
        "    based on the lemmatization of the values of the \"purpose\" column'''\n",
        "    lemm_purpose = m.lemmatize(purpose)\n",
        "    if 'коммерческий' in lemm_purpose:\n",
        "        return 'коммерческая недвижимость'\n",
        "    if 'жилье' in lemm_purpose:\n",
        "        return 'жилая недвижимость'\n",
        "    if 'недвижимость' in lemm_purpose:\n",
        "        return 'жилая недвижимость'\n",
        "    if 'автомобиль' in lemm_purpose:\n",
        "        return 'автомобиль'\n",
        "    if 'свадьба' in lemm_purpose:\n",
        "        return 'свадьба'\n",
        "    if 'образование' in lemm_purpose:\n",
        "        return 'образование'"
      ]
    },
    {
      "cell_type": "code",
      "execution_count": 33,
      "metadata": {
        "id": "0uQczsn5VrJX"
      },
      "outputs": [],
      "source": [
        "data['purpose_category'] = data['purpose'].apply(credit_purpose)"
      ]
    },
    {
      "cell_type": "code",
      "execution_count": 34,
      "metadata": {
        "id": "H8MOoTVjVrJX",
        "colab": {
          "base_uri": "https://localhost:8080/"
        },
        "outputId": "f144624e-dbe1-4600-a4d7-f07d3809a92e"
      },
      "outputs": [
        {
          "output_type": "execute_result",
          "data": {
            "text/plain": [
              "purpose_category\n",
              "автомобиль                   4295\n",
              "жилая недвижимость           9477\n",
              "коммерческая недвижимость    1310\n",
              "образование                  4003\n",
              "свадьба                      2322\n",
              "Name: purpose_category, dtype: int64"
            ]
          },
          "metadata": {},
          "execution_count": 34
        }
      ],
      "source": [
        "data.groupby('purpose_category')['purpose_category'].count()"
      ]
    },
    {
      "cell_type": "code",
      "execution_count": 35,
      "metadata": {
        "id": "2Q3bnF70VrJX",
        "colab": {
          "base_uri": "https://localhost:8080/",
          "height": 357
        },
        "outputId": "090d23df-6537-447c-b0b2-70ae82edf488"
      },
      "outputs": [
        {
          "output_type": "execute_result",
          "data": {
            "text/plain": [
              "   children  days_employed  dob_years education  education_id  \\\n",
              "0         1           8437         42    высшее             0   \n",
              "1         1           4024         36   среднее             1   \n",
              "2         0           5623         33   среднее             1   \n",
              "3         3           4124         32   среднее             1   \n",
              "4         0         340266         53   среднее             1   \n",
              "\n",
              "      family_status  family_status_id gender income_type  debt  total_income  \\\n",
              "0   женат / замужем                 0      F   сотрудник     0        253875   \n",
              "1   женат / замужем                 0      F   сотрудник     0        112080   \n",
              "2   женат / замужем                 0      M   сотрудник     0        145885   \n",
              "3   женат / замужем                 0      M   сотрудник     0        267628   \n",
              "4  гражданский брак                 1      F   пенсионер     0        158616   \n",
              "\n",
              "                      purpose    purpose_category  \n",
              "0               покупка жилья  жилая недвижимость  \n",
              "1     приобретение автомобиля          автомобиль  \n",
              "2               покупка жилья  жилая недвижимость  \n",
              "3  дополнительное образование         образование  \n",
              "4             сыграть свадьбу             свадьба  "
            ],
            "text/html": [
              "\n",
              "  <div id=\"df-159f012e-cfdb-49c8-8428-2ae1841bd6dd\">\n",
              "    <div class=\"colab-df-container\">\n",
              "      <div>\n",
              "<style scoped>\n",
              "    .dataframe tbody tr th:only-of-type {\n",
              "        vertical-align: middle;\n",
              "    }\n",
              "\n",
              "    .dataframe tbody tr th {\n",
              "        vertical-align: top;\n",
              "    }\n",
              "\n",
              "    .dataframe thead th {\n",
              "        text-align: right;\n",
              "    }\n",
              "</style>\n",
              "<table border=\"1\" class=\"dataframe\">\n",
              "  <thead>\n",
              "    <tr style=\"text-align: right;\">\n",
              "      <th></th>\n",
              "      <th>children</th>\n",
              "      <th>days_employed</th>\n",
              "      <th>dob_years</th>\n",
              "      <th>education</th>\n",
              "      <th>education_id</th>\n",
              "      <th>family_status</th>\n",
              "      <th>family_status_id</th>\n",
              "      <th>gender</th>\n",
              "      <th>income_type</th>\n",
              "      <th>debt</th>\n",
              "      <th>total_income</th>\n",
              "      <th>purpose</th>\n",
              "      <th>purpose_category</th>\n",
              "    </tr>\n",
              "  </thead>\n",
              "  <tbody>\n",
              "    <tr>\n",
              "      <th>0</th>\n",
              "      <td>1</td>\n",
              "      <td>8437</td>\n",
              "      <td>42</td>\n",
              "      <td>высшее</td>\n",
              "      <td>0</td>\n",
              "      <td>женат / замужем</td>\n",
              "      <td>0</td>\n",
              "      <td>F</td>\n",
              "      <td>сотрудник</td>\n",
              "      <td>0</td>\n",
              "      <td>253875</td>\n",
              "      <td>покупка жилья</td>\n",
              "      <td>жилая недвижимость</td>\n",
              "    </tr>\n",
              "    <tr>\n",
              "      <th>1</th>\n",
              "      <td>1</td>\n",
              "      <td>4024</td>\n",
              "      <td>36</td>\n",
              "      <td>среднее</td>\n",
              "      <td>1</td>\n",
              "      <td>женат / замужем</td>\n",
              "      <td>0</td>\n",
              "      <td>F</td>\n",
              "      <td>сотрудник</td>\n",
              "      <td>0</td>\n",
              "      <td>112080</td>\n",
              "      <td>приобретение автомобиля</td>\n",
              "      <td>автомобиль</td>\n",
              "    </tr>\n",
              "    <tr>\n",
              "      <th>2</th>\n",
              "      <td>0</td>\n",
              "      <td>5623</td>\n",
              "      <td>33</td>\n",
              "      <td>среднее</td>\n",
              "      <td>1</td>\n",
              "      <td>женат / замужем</td>\n",
              "      <td>0</td>\n",
              "      <td>M</td>\n",
              "      <td>сотрудник</td>\n",
              "      <td>0</td>\n",
              "      <td>145885</td>\n",
              "      <td>покупка жилья</td>\n",
              "      <td>жилая недвижимость</td>\n",
              "    </tr>\n",
              "    <tr>\n",
              "      <th>3</th>\n",
              "      <td>3</td>\n",
              "      <td>4124</td>\n",
              "      <td>32</td>\n",
              "      <td>среднее</td>\n",
              "      <td>1</td>\n",
              "      <td>женат / замужем</td>\n",
              "      <td>0</td>\n",
              "      <td>M</td>\n",
              "      <td>сотрудник</td>\n",
              "      <td>0</td>\n",
              "      <td>267628</td>\n",
              "      <td>дополнительное образование</td>\n",
              "      <td>образование</td>\n",
              "    </tr>\n",
              "    <tr>\n",
              "      <th>4</th>\n",
              "      <td>0</td>\n",
              "      <td>340266</td>\n",
              "      <td>53</td>\n",
              "      <td>среднее</td>\n",
              "      <td>1</td>\n",
              "      <td>гражданский брак</td>\n",
              "      <td>1</td>\n",
              "      <td>F</td>\n",
              "      <td>пенсионер</td>\n",
              "      <td>0</td>\n",
              "      <td>158616</td>\n",
              "      <td>сыграть свадьбу</td>\n",
              "      <td>свадьба</td>\n",
              "    </tr>\n",
              "  </tbody>\n",
              "</table>\n",
              "</div>\n",
              "      <button class=\"colab-df-convert\" onclick=\"convertToInteractive('df-159f012e-cfdb-49c8-8428-2ae1841bd6dd')\"\n",
              "              title=\"Convert this dataframe to an interactive table.\"\n",
              "              style=\"display:none;\">\n",
              "        \n",
              "  <svg xmlns=\"http://www.w3.org/2000/svg\" height=\"24px\"viewBox=\"0 0 24 24\"\n",
              "       width=\"24px\">\n",
              "    <path d=\"M0 0h24v24H0V0z\" fill=\"none\"/>\n",
              "    <path d=\"M18.56 5.44l.94 2.06.94-2.06 2.06-.94-2.06-.94-.94-2.06-.94 2.06-2.06.94zm-11 1L8.5 8.5l.94-2.06 2.06-.94-2.06-.94L8.5 2.5l-.94 2.06-2.06.94zm10 10l.94 2.06.94-2.06 2.06-.94-2.06-.94-.94-2.06-.94 2.06-2.06.94z\"/><path d=\"M17.41 7.96l-1.37-1.37c-.4-.4-.92-.59-1.43-.59-.52 0-1.04.2-1.43.59L10.3 9.45l-7.72 7.72c-.78.78-.78 2.05 0 2.83L4 21.41c.39.39.9.59 1.41.59.51 0 1.02-.2 1.41-.59l7.78-7.78 2.81-2.81c.8-.78.8-2.07 0-2.86zM5.41 20L4 18.59l7.72-7.72 1.47 1.35L5.41 20z\"/>\n",
              "  </svg>\n",
              "      </button>\n",
              "      \n",
              "  <style>\n",
              "    .colab-df-container {\n",
              "      display:flex;\n",
              "      flex-wrap:wrap;\n",
              "      gap: 12px;\n",
              "    }\n",
              "\n",
              "    .colab-df-convert {\n",
              "      background-color: #E8F0FE;\n",
              "      border: none;\n",
              "      border-radius: 50%;\n",
              "      cursor: pointer;\n",
              "      display: none;\n",
              "      fill: #1967D2;\n",
              "      height: 32px;\n",
              "      padding: 0 0 0 0;\n",
              "      width: 32px;\n",
              "    }\n",
              "\n",
              "    .colab-df-convert:hover {\n",
              "      background-color: #E2EBFA;\n",
              "      box-shadow: 0px 1px 2px rgba(60, 64, 67, 0.3), 0px 1px 3px 1px rgba(60, 64, 67, 0.15);\n",
              "      fill: #174EA6;\n",
              "    }\n",
              "\n",
              "    [theme=dark] .colab-df-convert {\n",
              "      background-color: #3B4455;\n",
              "      fill: #D2E3FC;\n",
              "    }\n",
              "\n",
              "    [theme=dark] .colab-df-convert:hover {\n",
              "      background-color: #434B5C;\n",
              "      box-shadow: 0px 1px 3px 1px rgba(0, 0, 0, 0.15);\n",
              "      filter: drop-shadow(0px 1px 2px rgba(0, 0, 0, 0.3));\n",
              "      fill: #FFFFFF;\n",
              "    }\n",
              "  </style>\n",
              "\n",
              "      <script>\n",
              "        const buttonEl =\n",
              "          document.querySelector('#df-159f012e-cfdb-49c8-8428-2ae1841bd6dd button.colab-df-convert');\n",
              "        buttonEl.style.display =\n",
              "          google.colab.kernel.accessAllowed ? 'block' : 'none';\n",
              "\n",
              "        async function convertToInteractive(key) {\n",
              "          const element = document.querySelector('#df-159f012e-cfdb-49c8-8428-2ae1841bd6dd');\n",
              "          const dataTable =\n",
              "            await google.colab.kernel.invokeFunction('convertToInteractive',\n",
              "                                                     [key], {});\n",
              "          if (!dataTable) return;\n",
              "\n",
              "          const docLinkHtml = 'Like what you see? Visit the ' +\n",
              "            '<a target=\"_blank\" href=https://colab.research.google.com/notebooks/data_table.ipynb>data table notebook</a>'\n",
              "            + ' to learn more about interactive tables.';\n",
              "          element.innerHTML = '';\n",
              "          dataTable['output_type'] = 'display_data';\n",
              "          await google.colab.output.renderOutput(dataTable, element);\n",
              "          const docLink = document.createElement('div');\n",
              "          docLink.innerHTML = docLinkHtml;\n",
              "          element.appendChild(docLink);\n",
              "        }\n",
              "      </script>\n",
              "    </div>\n",
              "  </div>\n",
              "  "
            ]
          },
          "metadata": {},
          "execution_count": 35
        }
      ],
      "source": [
        "data.head()"
      ]
    },
    {
      "cell_type": "markdown",
      "metadata": {
        "id": "527sOWYmVrJX"
      },
      "source": [
        "The function of lemmatization of the values of the column of goals for obtaining a loan has been created for further categorization of data by this attribute. A column with categories of purposes for obtaining a loan has been added to the table."
      ]
    },
    {
      "cell_type": "markdown",
      "metadata": {
        "id": "hezike7HVrJX"
      },
      "source": [
        "### Data categorization"
      ]
    },
    {
      "cell_type": "markdown",
      "metadata": {
        "id": "_KLL3yGCVrJX"
      },
      "source": [
        "Breakdown by categories of purpose of the loan:"
      ]
    },
    {
      "cell_type": "code",
      "execution_count": 36,
      "metadata": {
        "id": "mCt5LVroVrJX",
        "colab": {
          "base_uri": "https://localhost:8080/"
        },
        "outputId": "680977dc-5279-4068-c893-504612c6217f"
      },
      "outputs": [
        {
          "output_type": "execute_result",
          "data": {
            "text/plain": [
              "жилая недвижимость           9477\n",
              "автомобиль                   4295\n",
              "образование                  4003\n",
              "свадьба                      2322\n",
              "коммерческая недвижимость    1310\n",
              "Name: purpose_category, dtype: int64"
            ]
          },
          "metadata": {},
          "execution_count": 36
        }
      ],
      "source": [
        "data['purpose_category'].value_counts()"
      ]
    },
    {
      "cell_type": "markdown",
      "metadata": {
        "id": "MvrHKF5QVrJX"
      },
      "source": [
        "Because income values is a numeric attribute, it is necessary to enter income level categories for further analysis."
      ]
    },
    {
      "cell_type": "markdown",
      "metadata": {
        "id": "8OS9RZ6WVrJX"
      },
      "source": [
        "Let's look at the distribution of the values in the income column to determine the categorization intervals:"
      ]
    },
    {
      "cell_type": "code",
      "execution_count": 37,
      "metadata": {
        "id": "eQ-MMNnjVrJX",
        "colab": {
          "base_uri": "https://localhost:8080/"
        },
        "outputId": "0147a64c-6618-4351-9beb-f84d106120f3"
      },
      "outputs": [
        {
          "output_type": "execute_result",
          "data": {
            "text/plain": [
              "count    2.140700e+04\n",
              "mean     1.653460e+05\n",
              "std      9.824362e+04\n",
              "min      2.066700e+04\n",
              "25%      1.075550e+05\n",
              "50%      1.425940e+05\n",
              "75%      1.958685e+05\n",
              "max      2.265604e+06\n",
              "Name: total_income, dtype: float64"
            ]
          },
          "metadata": {},
          "execution_count": 37
        }
      ],
      "source": [
        "data[data['total_income'] != 0]['total_income'].describe()"
      ]
    },
    {
      "cell_type": "code",
      "execution_count": 38,
      "metadata": {
        "id": "mZjqZt6dVrJY"
      },
      "outputs": [],
      "source": [
        "data['income_category'] = pd.qcut(data['total_income'], 6)"
      ]
    },
    {
      "cell_type": "code",
      "execution_count": 39,
      "metadata": {
        "id": "A5WhRzJSVrJY",
        "colab": {
          "base_uri": "https://localhost:8080/"
        },
        "outputId": "ebbd68da-6f7e-43a1-eb63-9bc27cc4adc4"
      },
      "outputs": [
        {
          "output_type": "execute_result",
          "data": {
            "text/plain": [
              "income_category\n",
              "(20666.999, 92116.333]     3568\n",
              "(92116.333, 119257.333]    3568\n",
              "(119257.333, 142594.0]     3684\n",
              "(142594.0, 172357.0]       3580\n",
              "(172357.0, 228922.333]     3439\n",
              "(228922.333, 2265604.0]    3568\n",
              "Name: total_income, dtype: int64"
            ]
          },
          "metadata": {},
          "execution_count": 39
        }
      ],
      "source": [
        "data.groupby('income_category')['total_income'].count()"
      ]
    },
    {
      "cell_type": "markdown",
      "metadata": {
        "id": "7Yt_I4iKVrJY"
      },
      "source": [
        "The categorization of data was carried out according to the purpose of obtaining a loan and the level of income of the borrower."
      ]
    },
    {
      "cell_type": "markdown",
      "metadata": {
        "id": "5Amug9zGVrJY"
      },
      "source": [
        "## Answering questions"
      ]
    },
    {
      "cell_type": "markdown",
      "metadata": {
        "id": "IOOrL2JjVrJY"
      },
      "source": [
        "- Is there a relationship between having children and repaying a loan on time?"
      ]
    },
    {
      "cell_type": "code",
      "execution_count": 40,
      "metadata": {
        "id": "tsb1JvuoVrJY",
        "colab": {
          "base_uri": "https://localhost:8080/",
          "height": 300
        },
        "outputId": "9673425e-b9e8-4ee4-e0cb-ab31daae2c03"
      },
      "outputs": [
        {
          "output_type": "execute_result",
          "data": {
            "text/plain": [
              "          count    mean\n",
              "children               \n",
              "0         14091   7.54%\n",
              "1          4808   9.23%\n",
              "2          2052   9.45%\n",
              "3           330   8.18%\n",
              "4            41   9.76%\n",
              "5             9   0.00%\n",
              "20           76  10.53%"
            ],
            "text/html": [
              "\n",
              "  <div id=\"df-daa446bf-2d75-450b-98f1-ccf8ebd492bb\">\n",
              "    <div class=\"colab-df-container\">\n",
              "      <div>\n",
              "<style scoped>\n",
              "    .dataframe tbody tr th:only-of-type {\n",
              "        vertical-align: middle;\n",
              "    }\n",
              "\n",
              "    .dataframe tbody tr th {\n",
              "        vertical-align: top;\n",
              "    }\n",
              "\n",
              "    .dataframe thead th {\n",
              "        text-align: right;\n",
              "    }\n",
              "</style>\n",
              "<table border=\"1\" class=\"dataframe\">\n",
              "  <thead>\n",
              "    <tr style=\"text-align: right;\">\n",
              "      <th></th>\n",
              "      <th>count</th>\n",
              "      <th>mean</th>\n",
              "    </tr>\n",
              "    <tr>\n",
              "      <th>children</th>\n",
              "      <th></th>\n",
              "      <th></th>\n",
              "    </tr>\n",
              "  </thead>\n",
              "  <tbody>\n",
              "    <tr>\n",
              "      <th>0</th>\n",
              "      <td>14091</td>\n",
              "      <td>7.54%</td>\n",
              "    </tr>\n",
              "    <tr>\n",
              "      <th>1</th>\n",
              "      <td>4808</td>\n",
              "      <td>9.23%</td>\n",
              "    </tr>\n",
              "    <tr>\n",
              "      <th>2</th>\n",
              "      <td>2052</td>\n",
              "      <td>9.45%</td>\n",
              "    </tr>\n",
              "    <tr>\n",
              "      <th>3</th>\n",
              "      <td>330</td>\n",
              "      <td>8.18%</td>\n",
              "    </tr>\n",
              "    <tr>\n",
              "      <th>4</th>\n",
              "      <td>41</td>\n",
              "      <td>9.76%</td>\n",
              "    </tr>\n",
              "    <tr>\n",
              "      <th>5</th>\n",
              "      <td>9</td>\n",
              "      <td>0.00%</td>\n",
              "    </tr>\n",
              "    <tr>\n",
              "      <th>20</th>\n",
              "      <td>76</td>\n",
              "      <td>10.53%</td>\n",
              "    </tr>\n",
              "  </tbody>\n",
              "</table>\n",
              "</div>\n",
              "      <button class=\"colab-df-convert\" onclick=\"convertToInteractive('df-daa446bf-2d75-450b-98f1-ccf8ebd492bb')\"\n",
              "              title=\"Convert this dataframe to an interactive table.\"\n",
              "              style=\"display:none;\">\n",
              "        \n",
              "  <svg xmlns=\"http://www.w3.org/2000/svg\" height=\"24px\"viewBox=\"0 0 24 24\"\n",
              "       width=\"24px\">\n",
              "    <path d=\"M0 0h24v24H0V0z\" fill=\"none\"/>\n",
              "    <path d=\"M18.56 5.44l.94 2.06.94-2.06 2.06-.94-2.06-.94-.94-2.06-.94 2.06-2.06.94zm-11 1L8.5 8.5l.94-2.06 2.06-.94-2.06-.94L8.5 2.5l-.94 2.06-2.06.94zm10 10l.94 2.06.94-2.06 2.06-.94-2.06-.94-.94-2.06-.94 2.06-2.06.94z\"/><path d=\"M17.41 7.96l-1.37-1.37c-.4-.4-.92-.59-1.43-.59-.52 0-1.04.2-1.43.59L10.3 9.45l-7.72 7.72c-.78.78-.78 2.05 0 2.83L4 21.41c.39.39.9.59 1.41.59.51 0 1.02-.2 1.41-.59l7.78-7.78 2.81-2.81c.8-.78.8-2.07 0-2.86zM5.41 20L4 18.59l7.72-7.72 1.47 1.35L5.41 20z\"/>\n",
              "  </svg>\n",
              "      </button>\n",
              "      \n",
              "  <style>\n",
              "    .colab-df-container {\n",
              "      display:flex;\n",
              "      flex-wrap:wrap;\n",
              "      gap: 12px;\n",
              "    }\n",
              "\n",
              "    .colab-df-convert {\n",
              "      background-color: #E8F0FE;\n",
              "      border: none;\n",
              "      border-radius: 50%;\n",
              "      cursor: pointer;\n",
              "      display: none;\n",
              "      fill: #1967D2;\n",
              "      height: 32px;\n",
              "      padding: 0 0 0 0;\n",
              "      width: 32px;\n",
              "    }\n",
              "\n",
              "    .colab-df-convert:hover {\n",
              "      background-color: #E2EBFA;\n",
              "      box-shadow: 0px 1px 2px rgba(60, 64, 67, 0.3), 0px 1px 3px 1px rgba(60, 64, 67, 0.15);\n",
              "      fill: #174EA6;\n",
              "    }\n",
              "\n",
              "    [theme=dark] .colab-df-convert {\n",
              "      background-color: #3B4455;\n",
              "      fill: #D2E3FC;\n",
              "    }\n",
              "\n",
              "    [theme=dark] .colab-df-convert:hover {\n",
              "      background-color: #434B5C;\n",
              "      box-shadow: 0px 1px 3px 1px rgba(0, 0, 0, 0.15);\n",
              "      filter: drop-shadow(0px 1px 2px rgba(0, 0, 0, 0.3));\n",
              "      fill: #FFFFFF;\n",
              "    }\n",
              "  </style>\n",
              "\n",
              "      <script>\n",
              "        const buttonEl =\n",
              "          document.querySelector('#df-daa446bf-2d75-450b-98f1-ccf8ebd492bb button.colab-df-convert');\n",
              "        buttonEl.style.display =\n",
              "          google.colab.kernel.accessAllowed ? 'block' : 'none';\n",
              "\n",
              "        async function convertToInteractive(key) {\n",
              "          const element = document.querySelector('#df-daa446bf-2d75-450b-98f1-ccf8ebd492bb');\n",
              "          const dataTable =\n",
              "            await google.colab.kernel.invokeFunction('convertToInteractive',\n",
              "                                                     [key], {});\n",
              "          if (!dataTable) return;\n",
              "\n",
              "          const docLinkHtml = 'Like what you see? Visit the ' +\n",
              "            '<a target=\"_blank\" href=https://colab.research.google.com/notebooks/data_table.ipynb>data table notebook</a>'\n",
              "            + ' to learn more about interactive tables.';\n",
              "          element.innerHTML = '';\n",
              "          dataTable['output_type'] = 'display_data';\n",
              "          await google.colab.output.renderOutput(dataTable, element);\n",
              "          const docLink = document.createElement('div');\n",
              "          docLink.innerHTML = docLinkHtml;\n",
              "          element.appendChild(docLink);\n",
              "        }\n",
              "      </script>\n",
              "    </div>\n",
              "  </div>\n",
              "  "
            ]
          },
          "metadata": {},
          "execution_count": 40
        }
      ],
      "source": [
        "children_data = data.groupby('children')['debt'].agg(['count', 'mean'])\n",
        "make_percent = lambda x: \"{:,.2%}\".format(x)\n",
        "children_data['mean'] = children_data['mean'].apply(make_percent)\n",
        "children_data"
      ]
    },
    {
      "cell_type": "markdown",
      "metadata": {
        "id": "hrvPogg5VrJZ"
      },
      "source": [
        "The data shows that the presence of children increases the share of non-performing loans from 7.5% to 8-10%, depending on the number of children. However, the amount of data for cases with four or more children is too small to be representative."
      ]
    },
    {
      "cell_type": "markdown",
      "metadata": {
        "id": "o111-W3eVrJZ"
      },
      "source": [
        "- Is there a relationship between marital status and loan repayment on time?"
      ]
    },
    {
      "cell_type": "code",
      "execution_count": 41,
      "metadata": {
        "id": "STCX_czwVrJZ",
        "colab": {
          "base_uri": "https://localhost:8080/",
          "height": 238
        },
        "outputId": "b8d533e7-e7bf-4e64-cd3a-d930d3d56e0e"
      },
      "outputs": [
        {
          "output_type": "execute_result",
          "data": {
            "text/plain": [
              "                       count   mean\n",
              "family_status                      \n",
              "не женат / не замужем   2805  9.77%\n",
              "гражданский брак        4146  9.36%\n",
              "женат / замужем        12310  7.55%\n",
              "в разводе               1191  7.14%\n",
              "вдовец / вдова           955  6.60%"
            ],
            "text/html": [
              "\n",
              "  <div id=\"df-51681a5d-0d50-40fd-af4c-39d8b5cad455\">\n",
              "    <div class=\"colab-df-container\">\n",
              "      <div>\n",
              "<style scoped>\n",
              "    .dataframe tbody tr th:only-of-type {\n",
              "        vertical-align: middle;\n",
              "    }\n",
              "\n",
              "    .dataframe tbody tr th {\n",
              "        vertical-align: top;\n",
              "    }\n",
              "\n",
              "    .dataframe thead th {\n",
              "        text-align: right;\n",
              "    }\n",
              "</style>\n",
              "<table border=\"1\" class=\"dataframe\">\n",
              "  <thead>\n",
              "    <tr style=\"text-align: right;\">\n",
              "      <th></th>\n",
              "      <th>count</th>\n",
              "      <th>mean</th>\n",
              "    </tr>\n",
              "    <tr>\n",
              "      <th>family_status</th>\n",
              "      <th></th>\n",
              "      <th></th>\n",
              "    </tr>\n",
              "  </thead>\n",
              "  <tbody>\n",
              "    <tr>\n",
              "      <th>не женат / не замужем</th>\n",
              "      <td>2805</td>\n",
              "      <td>9.77%</td>\n",
              "    </tr>\n",
              "    <tr>\n",
              "      <th>гражданский брак</th>\n",
              "      <td>4146</td>\n",
              "      <td>9.36%</td>\n",
              "    </tr>\n",
              "    <tr>\n",
              "      <th>женат / замужем</th>\n",
              "      <td>12310</td>\n",
              "      <td>7.55%</td>\n",
              "    </tr>\n",
              "    <tr>\n",
              "      <th>в разводе</th>\n",
              "      <td>1191</td>\n",
              "      <td>7.14%</td>\n",
              "    </tr>\n",
              "    <tr>\n",
              "      <th>вдовец / вдова</th>\n",
              "      <td>955</td>\n",
              "      <td>6.60%</td>\n",
              "    </tr>\n",
              "  </tbody>\n",
              "</table>\n",
              "</div>\n",
              "      <button class=\"colab-df-convert\" onclick=\"convertToInteractive('df-51681a5d-0d50-40fd-af4c-39d8b5cad455')\"\n",
              "              title=\"Convert this dataframe to an interactive table.\"\n",
              "              style=\"display:none;\">\n",
              "        \n",
              "  <svg xmlns=\"http://www.w3.org/2000/svg\" height=\"24px\"viewBox=\"0 0 24 24\"\n",
              "       width=\"24px\">\n",
              "    <path d=\"M0 0h24v24H0V0z\" fill=\"none\"/>\n",
              "    <path d=\"M18.56 5.44l.94 2.06.94-2.06 2.06-.94-2.06-.94-.94-2.06-.94 2.06-2.06.94zm-11 1L8.5 8.5l.94-2.06 2.06-.94-2.06-.94L8.5 2.5l-.94 2.06-2.06.94zm10 10l.94 2.06.94-2.06 2.06-.94-2.06-.94-.94-2.06-.94 2.06-2.06.94z\"/><path d=\"M17.41 7.96l-1.37-1.37c-.4-.4-.92-.59-1.43-.59-.52 0-1.04.2-1.43.59L10.3 9.45l-7.72 7.72c-.78.78-.78 2.05 0 2.83L4 21.41c.39.39.9.59 1.41.59.51 0 1.02-.2 1.41-.59l7.78-7.78 2.81-2.81c.8-.78.8-2.07 0-2.86zM5.41 20L4 18.59l7.72-7.72 1.47 1.35L5.41 20z\"/>\n",
              "  </svg>\n",
              "      </button>\n",
              "      \n",
              "  <style>\n",
              "    .colab-df-container {\n",
              "      display:flex;\n",
              "      flex-wrap:wrap;\n",
              "      gap: 12px;\n",
              "    }\n",
              "\n",
              "    .colab-df-convert {\n",
              "      background-color: #E8F0FE;\n",
              "      border: none;\n",
              "      border-radius: 50%;\n",
              "      cursor: pointer;\n",
              "      display: none;\n",
              "      fill: #1967D2;\n",
              "      height: 32px;\n",
              "      padding: 0 0 0 0;\n",
              "      width: 32px;\n",
              "    }\n",
              "\n",
              "    .colab-df-convert:hover {\n",
              "      background-color: #E2EBFA;\n",
              "      box-shadow: 0px 1px 2px rgba(60, 64, 67, 0.3), 0px 1px 3px 1px rgba(60, 64, 67, 0.15);\n",
              "      fill: #174EA6;\n",
              "    }\n",
              "\n",
              "    [theme=dark] .colab-df-convert {\n",
              "      background-color: #3B4455;\n",
              "      fill: #D2E3FC;\n",
              "    }\n",
              "\n",
              "    [theme=dark] .colab-df-convert:hover {\n",
              "      background-color: #434B5C;\n",
              "      box-shadow: 0px 1px 3px 1px rgba(0, 0, 0, 0.15);\n",
              "      filter: drop-shadow(0px 1px 2px rgba(0, 0, 0, 0.3));\n",
              "      fill: #FFFFFF;\n",
              "    }\n",
              "  </style>\n",
              "\n",
              "      <script>\n",
              "        const buttonEl =\n",
              "          document.querySelector('#df-51681a5d-0d50-40fd-af4c-39d8b5cad455 button.colab-df-convert');\n",
              "        buttonEl.style.display =\n",
              "          google.colab.kernel.accessAllowed ? 'block' : 'none';\n",
              "\n",
              "        async function convertToInteractive(key) {\n",
              "          const element = document.querySelector('#df-51681a5d-0d50-40fd-af4c-39d8b5cad455');\n",
              "          const dataTable =\n",
              "            await google.colab.kernel.invokeFunction('convertToInteractive',\n",
              "                                                     [key], {});\n",
              "          if (!dataTable) return;\n",
              "\n",
              "          const docLinkHtml = 'Like what you see? Visit the ' +\n",
              "            '<a target=\"_blank\" href=https://colab.research.google.com/notebooks/data_table.ipynb>data table notebook</a>'\n",
              "            + ' to learn more about interactive tables.';\n",
              "          element.innerHTML = '';\n",
              "          dataTable['output_type'] = 'display_data';\n",
              "          await google.colab.output.renderOutput(dataTable, element);\n",
              "          const docLink = document.createElement('div');\n",
              "          docLink.innerHTML = docLinkHtml;\n",
              "          element.appendChild(docLink);\n",
              "        }\n",
              "      </script>\n",
              "    </div>\n",
              "  </div>\n",
              "  "
            ]
          },
          "metadata": {},
          "execution_count": 41
        }
      ],
      "source": [
        "family_status_data = (data.groupby('family_status')['debt'].\n",
        "                      agg(['count', 'mean']).\n",
        "                      sort_values(by='mean', ascending=False))\n",
        "family_status_data['mean'] = family_status_data['mean'].map('{:,.2%}'.format)\n",
        "family_status_data"
      ]
    },
    {
      "cell_type": "markdown",
      "metadata": {
        "id": "0eSwQ7nSVrJZ"
      },
      "source": [
        "Conduct an additional check of the age distribution of borrowers in the categories of marital status:"
      ]
    },
    {
      "cell_type": "code",
      "execution_count": 42,
      "metadata": {
        "id": "P1J1qgPYVrJZ",
        "colab": {
          "base_uri": "https://localhost:8080/",
          "height": 325
        },
        "outputId": "86d2c935-3db6-4919-f3f6-8e235783acce"
      },
      "outputs": [
        {
          "output_type": "stream",
          "name": "stderr",
          "text": [
            "/usr/local/lib/python3.7/dist-packages/ipykernel_launcher.py:1: FutureWarning: Indexing with multiple keys (implicitly converted to a tuple of keys) will be deprecated, use a list instead.\n",
            "  \"\"\"Entry point for launching an IPython kernel.\n"
          ]
        },
        {
          "output_type": "execute_result",
          "data": {
            "text/plain": [
              "                           debt  dob_years\n",
              "                           mean       mean\n",
              "family_status                             \n",
              "не женат / не замужем  0.097683  38.346168\n",
              "гражданский брак       0.093584  42.078389\n",
              "женат / замужем        0.075548  43.548985\n",
              "в разводе              0.071369  45.555835\n",
              "вдовец / вдова         0.065969  56.520419"
            ],
            "text/html": [
              "\n",
              "  <div id=\"df-11492d07-6626-4958-8c89-b2cfc0c61bc7\">\n",
              "    <div class=\"colab-df-container\">\n",
              "      <div>\n",
              "<style scoped>\n",
              "    .dataframe tbody tr th:only-of-type {\n",
              "        vertical-align: middle;\n",
              "    }\n",
              "\n",
              "    .dataframe tbody tr th {\n",
              "        vertical-align: top;\n",
              "    }\n",
              "\n",
              "    .dataframe thead tr th {\n",
              "        text-align: left;\n",
              "    }\n",
              "\n",
              "    .dataframe thead tr:last-of-type th {\n",
              "        text-align: right;\n",
              "    }\n",
              "</style>\n",
              "<table border=\"1\" class=\"dataframe\">\n",
              "  <thead>\n",
              "    <tr>\n",
              "      <th></th>\n",
              "      <th>debt</th>\n",
              "      <th>dob_years</th>\n",
              "    </tr>\n",
              "    <tr>\n",
              "      <th></th>\n",
              "      <th>mean</th>\n",
              "      <th>mean</th>\n",
              "    </tr>\n",
              "    <tr>\n",
              "      <th>family_status</th>\n",
              "      <th></th>\n",
              "      <th></th>\n",
              "    </tr>\n",
              "  </thead>\n",
              "  <tbody>\n",
              "    <tr>\n",
              "      <th>не женат / не замужем</th>\n",
              "      <td>0.097683</td>\n",
              "      <td>38.346168</td>\n",
              "    </tr>\n",
              "    <tr>\n",
              "      <th>гражданский брак</th>\n",
              "      <td>0.093584</td>\n",
              "      <td>42.078389</td>\n",
              "    </tr>\n",
              "    <tr>\n",
              "      <th>женат / замужем</th>\n",
              "      <td>0.075548</td>\n",
              "      <td>43.548985</td>\n",
              "    </tr>\n",
              "    <tr>\n",
              "      <th>в разводе</th>\n",
              "      <td>0.071369</td>\n",
              "      <td>45.555835</td>\n",
              "    </tr>\n",
              "    <tr>\n",
              "      <th>вдовец / вдова</th>\n",
              "      <td>0.065969</td>\n",
              "      <td>56.520419</td>\n",
              "    </tr>\n",
              "  </tbody>\n",
              "</table>\n",
              "</div>\n",
              "      <button class=\"colab-df-convert\" onclick=\"convertToInteractive('df-11492d07-6626-4958-8c89-b2cfc0c61bc7')\"\n",
              "              title=\"Convert this dataframe to an interactive table.\"\n",
              "              style=\"display:none;\">\n",
              "        \n",
              "  <svg xmlns=\"http://www.w3.org/2000/svg\" height=\"24px\"viewBox=\"0 0 24 24\"\n",
              "       width=\"24px\">\n",
              "    <path d=\"M0 0h24v24H0V0z\" fill=\"none\"/>\n",
              "    <path d=\"M18.56 5.44l.94 2.06.94-2.06 2.06-.94-2.06-.94-.94-2.06-.94 2.06-2.06.94zm-11 1L8.5 8.5l.94-2.06 2.06-.94-2.06-.94L8.5 2.5l-.94 2.06-2.06.94zm10 10l.94 2.06.94-2.06 2.06-.94-2.06-.94-.94-2.06-.94 2.06-2.06.94z\"/><path d=\"M17.41 7.96l-1.37-1.37c-.4-.4-.92-.59-1.43-.59-.52 0-1.04.2-1.43.59L10.3 9.45l-7.72 7.72c-.78.78-.78 2.05 0 2.83L4 21.41c.39.39.9.59 1.41.59.51 0 1.02-.2 1.41-.59l7.78-7.78 2.81-2.81c.8-.78.8-2.07 0-2.86zM5.41 20L4 18.59l7.72-7.72 1.47 1.35L5.41 20z\"/>\n",
              "  </svg>\n",
              "      </button>\n",
              "      \n",
              "  <style>\n",
              "    .colab-df-container {\n",
              "      display:flex;\n",
              "      flex-wrap:wrap;\n",
              "      gap: 12px;\n",
              "    }\n",
              "\n",
              "    .colab-df-convert {\n",
              "      background-color: #E8F0FE;\n",
              "      border: none;\n",
              "      border-radius: 50%;\n",
              "      cursor: pointer;\n",
              "      display: none;\n",
              "      fill: #1967D2;\n",
              "      height: 32px;\n",
              "      padding: 0 0 0 0;\n",
              "      width: 32px;\n",
              "    }\n",
              "\n",
              "    .colab-df-convert:hover {\n",
              "      background-color: #E2EBFA;\n",
              "      box-shadow: 0px 1px 2px rgba(60, 64, 67, 0.3), 0px 1px 3px 1px rgba(60, 64, 67, 0.15);\n",
              "      fill: #174EA6;\n",
              "    }\n",
              "\n",
              "    [theme=dark] .colab-df-convert {\n",
              "      background-color: #3B4455;\n",
              "      fill: #D2E3FC;\n",
              "    }\n",
              "\n",
              "    [theme=dark] .colab-df-convert:hover {\n",
              "      background-color: #434B5C;\n",
              "      box-shadow: 0px 1px 3px 1px rgba(0, 0, 0, 0.15);\n",
              "      filter: drop-shadow(0px 1px 2px rgba(0, 0, 0, 0.3));\n",
              "      fill: #FFFFFF;\n",
              "    }\n",
              "  </style>\n",
              "\n",
              "      <script>\n",
              "        const buttonEl =\n",
              "          document.querySelector('#df-11492d07-6626-4958-8c89-b2cfc0c61bc7 button.colab-df-convert');\n",
              "        buttonEl.style.display =\n",
              "          google.colab.kernel.accessAllowed ? 'block' : 'none';\n",
              "\n",
              "        async function convertToInteractive(key) {\n",
              "          const element = document.querySelector('#df-11492d07-6626-4958-8c89-b2cfc0c61bc7');\n",
              "          const dataTable =\n",
              "            await google.colab.kernel.invokeFunction('convertToInteractive',\n",
              "                                                     [key], {});\n",
              "          if (!dataTable) return;\n",
              "\n",
              "          const docLinkHtml = 'Like what you see? Visit the ' +\n",
              "            '<a target=\"_blank\" href=https://colab.research.google.com/notebooks/data_table.ipynb>data table notebook</a>'\n",
              "            + ' to learn more about interactive tables.';\n",
              "          element.innerHTML = '';\n",
              "          dataTable['output_type'] = 'display_data';\n",
              "          await google.colab.output.renderOutput(dataTable, element);\n",
              "          const docLink = document.createElement('div');\n",
              "          docLink.innerHTML = docLinkHtml;\n",
              "          element.appendChild(docLink);\n",
              "        }\n",
              "      </script>\n",
              "    </div>\n",
              "  </div>\n",
              "  "
            ]
          },
          "metadata": {},
          "execution_count": 42
        }
      ],
      "source": [
        "(data.groupby('family_status')['debt', 'dob_years'].\n",
        " agg(['mean']).sort_values(by=('debt','mean'), ascending=False))"
      ]
    },
    {
      "cell_type": "markdown",
      "metadata": {
        "id": "2xI5dclGVrJZ"
      },
      "source": [
        "The share of non-performing loans decreases along with the decrease in the \"degree of freedom\" of the borrower. In this case, there is also a dependence on the age of borrowers in these categories."
      ]
    },
    {
      "cell_type": "markdown",
      "metadata": {
        "id": "BMRh0DqjVrJZ"
      },
      "source": [
        "- Is there a relationship between income level and loan repayment on time?"
      ]
    },
    {
      "cell_type": "code",
      "execution_count": 43,
      "metadata": {
        "id": "RjZ7xgNGVrJa",
        "colab": {
          "base_uri": "https://localhost:8080/",
          "height": 269
        },
        "outputId": "b7c28f55-42fe-40dc-b78f-67bf3e7c31f1"
      },
      "outputs": [
        {
          "output_type": "execute_result",
          "data": {
            "text/plain": [
              "                         count   mean\n",
              "income_category                      \n",
              "(20666.999, 92116.333]    3568  7.99%\n",
              "(92116.333, 119257.333]   3568  8.30%\n",
              "(119257.333, 142594.0]    3684  8.93%\n",
              "(142594.0, 172357.0]      3580  8.44%\n",
              "(172357.0, 228922.333]    3439  8.08%\n",
              "(228922.333, 2265604.0]   3568  7.01%"
            ],
            "text/html": [
              "\n",
              "  <div id=\"df-34fa93f6-086a-4438-aa0c-2d7db7c36d4c\">\n",
              "    <div class=\"colab-df-container\">\n",
              "      <div>\n",
              "<style scoped>\n",
              "    .dataframe tbody tr th:only-of-type {\n",
              "        vertical-align: middle;\n",
              "    }\n",
              "\n",
              "    .dataframe tbody tr th {\n",
              "        vertical-align: top;\n",
              "    }\n",
              "\n",
              "    .dataframe thead th {\n",
              "        text-align: right;\n",
              "    }\n",
              "</style>\n",
              "<table border=\"1\" class=\"dataframe\">\n",
              "  <thead>\n",
              "    <tr style=\"text-align: right;\">\n",
              "      <th></th>\n",
              "      <th>count</th>\n",
              "      <th>mean</th>\n",
              "    </tr>\n",
              "    <tr>\n",
              "      <th>income_category</th>\n",
              "      <th></th>\n",
              "      <th></th>\n",
              "    </tr>\n",
              "  </thead>\n",
              "  <tbody>\n",
              "    <tr>\n",
              "      <th>(20666.999, 92116.333]</th>\n",
              "      <td>3568</td>\n",
              "      <td>7.99%</td>\n",
              "    </tr>\n",
              "    <tr>\n",
              "      <th>(92116.333, 119257.333]</th>\n",
              "      <td>3568</td>\n",
              "      <td>8.30%</td>\n",
              "    </tr>\n",
              "    <tr>\n",
              "      <th>(119257.333, 142594.0]</th>\n",
              "      <td>3684</td>\n",
              "      <td>8.93%</td>\n",
              "    </tr>\n",
              "    <tr>\n",
              "      <th>(142594.0, 172357.0]</th>\n",
              "      <td>3580</td>\n",
              "      <td>8.44%</td>\n",
              "    </tr>\n",
              "    <tr>\n",
              "      <th>(172357.0, 228922.333]</th>\n",
              "      <td>3439</td>\n",
              "      <td>8.08%</td>\n",
              "    </tr>\n",
              "    <tr>\n",
              "      <th>(228922.333, 2265604.0]</th>\n",
              "      <td>3568</td>\n",
              "      <td>7.01%</td>\n",
              "    </tr>\n",
              "  </tbody>\n",
              "</table>\n",
              "</div>\n",
              "      <button class=\"colab-df-convert\" onclick=\"convertToInteractive('df-34fa93f6-086a-4438-aa0c-2d7db7c36d4c')\"\n",
              "              title=\"Convert this dataframe to an interactive table.\"\n",
              "              style=\"display:none;\">\n",
              "        \n",
              "  <svg xmlns=\"http://www.w3.org/2000/svg\" height=\"24px\"viewBox=\"0 0 24 24\"\n",
              "       width=\"24px\">\n",
              "    <path d=\"M0 0h24v24H0V0z\" fill=\"none\"/>\n",
              "    <path d=\"M18.56 5.44l.94 2.06.94-2.06 2.06-.94-2.06-.94-.94-2.06-.94 2.06-2.06.94zm-11 1L8.5 8.5l.94-2.06 2.06-.94-2.06-.94L8.5 2.5l-.94 2.06-2.06.94zm10 10l.94 2.06.94-2.06 2.06-.94-2.06-.94-.94-2.06-.94 2.06-2.06.94z\"/><path d=\"M17.41 7.96l-1.37-1.37c-.4-.4-.92-.59-1.43-.59-.52 0-1.04.2-1.43.59L10.3 9.45l-7.72 7.72c-.78.78-.78 2.05 0 2.83L4 21.41c.39.39.9.59 1.41.59.51 0 1.02-.2 1.41-.59l7.78-7.78 2.81-2.81c.8-.78.8-2.07 0-2.86zM5.41 20L4 18.59l7.72-7.72 1.47 1.35L5.41 20z\"/>\n",
              "  </svg>\n",
              "      </button>\n",
              "      \n",
              "  <style>\n",
              "    .colab-df-container {\n",
              "      display:flex;\n",
              "      flex-wrap:wrap;\n",
              "      gap: 12px;\n",
              "    }\n",
              "\n",
              "    .colab-df-convert {\n",
              "      background-color: #E8F0FE;\n",
              "      border: none;\n",
              "      border-radius: 50%;\n",
              "      cursor: pointer;\n",
              "      display: none;\n",
              "      fill: #1967D2;\n",
              "      height: 32px;\n",
              "      padding: 0 0 0 0;\n",
              "      width: 32px;\n",
              "    }\n",
              "\n",
              "    .colab-df-convert:hover {\n",
              "      background-color: #E2EBFA;\n",
              "      box-shadow: 0px 1px 2px rgba(60, 64, 67, 0.3), 0px 1px 3px 1px rgba(60, 64, 67, 0.15);\n",
              "      fill: #174EA6;\n",
              "    }\n",
              "\n",
              "    [theme=dark] .colab-df-convert {\n",
              "      background-color: #3B4455;\n",
              "      fill: #D2E3FC;\n",
              "    }\n",
              "\n",
              "    [theme=dark] .colab-df-convert:hover {\n",
              "      background-color: #434B5C;\n",
              "      box-shadow: 0px 1px 3px 1px rgba(0, 0, 0, 0.15);\n",
              "      filter: drop-shadow(0px 1px 2px rgba(0, 0, 0, 0.3));\n",
              "      fill: #FFFFFF;\n",
              "    }\n",
              "  </style>\n",
              "\n",
              "      <script>\n",
              "        const buttonEl =\n",
              "          document.querySelector('#df-34fa93f6-086a-4438-aa0c-2d7db7c36d4c button.colab-df-convert');\n",
              "        buttonEl.style.display =\n",
              "          google.colab.kernel.accessAllowed ? 'block' : 'none';\n",
              "\n",
              "        async function convertToInteractive(key) {\n",
              "          const element = document.querySelector('#df-34fa93f6-086a-4438-aa0c-2d7db7c36d4c');\n",
              "          const dataTable =\n",
              "            await google.colab.kernel.invokeFunction('convertToInteractive',\n",
              "                                                     [key], {});\n",
              "          if (!dataTable) return;\n",
              "\n",
              "          const docLinkHtml = 'Like what you see? Visit the ' +\n",
              "            '<a target=\"_blank\" href=https://colab.research.google.com/notebooks/data_table.ipynb>data table notebook</a>'\n",
              "            + ' to learn more about interactive tables.';\n",
              "          element.innerHTML = '';\n",
              "          dataTable['output_type'] = 'display_data';\n",
              "          await google.colab.output.renderOutput(dataTable, element);\n",
              "          const docLink = document.createElement('div');\n",
              "          docLink.innerHTML = docLinkHtml;\n",
              "          element.appendChild(docLink);\n",
              "        }\n",
              "      </script>\n",
              "    </div>\n",
              "  </div>\n",
              "  "
            ]
          },
          "metadata": {},
          "execution_count": 43
        }
      ],
      "source": [
        "income_category_data = data.groupby('income_category')['debt'].agg(['count', 'mean'])\n",
        "income_category_data['mean'] = income_category_data['mean'].map('{:,.2%}'.format)\n",
        "income_category_data"
      ]
    },
    {
      "cell_type": "markdown",
      "metadata": {
        "id": "8uV4uPh6VrJa"
      },
      "source": [
        "A larger number of debts is shown by borrowers with an average income level, relative to the sample. With the achievement of an income level of more than 173 thousand, the share of non-performing loans begins to decline. Low-income borrowers (Group 1) demonstrate a more responsible attitude towards loan repayment."
      ]
    },
    {
      "cell_type": "markdown",
      "metadata": {
        "id": "VZn7nGiXVrJa"
      },
      "source": [
        "- How do different purposes of a loan affect its repayment on time?"
      ]
    },
    {
      "cell_type": "code",
      "execution_count": 44,
      "metadata": {
        "id": "cn9sB6ybVrJa",
        "colab": {
          "base_uri": "https://localhost:8080/",
          "height": 238
        },
        "outputId": "aead6937-f0e6-41fa-eeab-a35279d5c7fe"
      },
      "outputs": [
        {
          "output_type": "execute_result",
          "data": {
            "text/plain": [
              "                           count   mean\n",
              "purpose_category                       \n",
              "автомобиль                  4295  9.36%\n",
              "образование                 4003  9.24%\n",
              "свадьба                     2322  8.01%\n",
              "коммерческая недвижимость   1310  7.56%\n",
              "жилая недвижимость          9477  7.21%"
            ],
            "text/html": [
              "\n",
              "  <div id=\"df-160ac8d2-260c-4402-8139-1acd03928adb\">\n",
              "    <div class=\"colab-df-container\">\n",
              "      <div>\n",
              "<style scoped>\n",
              "    .dataframe tbody tr th:only-of-type {\n",
              "        vertical-align: middle;\n",
              "    }\n",
              "\n",
              "    .dataframe tbody tr th {\n",
              "        vertical-align: top;\n",
              "    }\n",
              "\n",
              "    .dataframe thead th {\n",
              "        text-align: right;\n",
              "    }\n",
              "</style>\n",
              "<table border=\"1\" class=\"dataframe\">\n",
              "  <thead>\n",
              "    <tr style=\"text-align: right;\">\n",
              "      <th></th>\n",
              "      <th>count</th>\n",
              "      <th>mean</th>\n",
              "    </tr>\n",
              "    <tr>\n",
              "      <th>purpose_category</th>\n",
              "      <th></th>\n",
              "      <th></th>\n",
              "    </tr>\n",
              "  </thead>\n",
              "  <tbody>\n",
              "    <tr>\n",
              "      <th>автомобиль</th>\n",
              "      <td>4295</td>\n",
              "      <td>9.36%</td>\n",
              "    </tr>\n",
              "    <tr>\n",
              "      <th>образование</th>\n",
              "      <td>4003</td>\n",
              "      <td>9.24%</td>\n",
              "    </tr>\n",
              "    <tr>\n",
              "      <th>свадьба</th>\n",
              "      <td>2322</td>\n",
              "      <td>8.01%</td>\n",
              "    </tr>\n",
              "    <tr>\n",
              "      <th>коммерческая недвижимость</th>\n",
              "      <td>1310</td>\n",
              "      <td>7.56%</td>\n",
              "    </tr>\n",
              "    <tr>\n",
              "      <th>жилая недвижимость</th>\n",
              "      <td>9477</td>\n",
              "      <td>7.21%</td>\n",
              "    </tr>\n",
              "  </tbody>\n",
              "</table>\n",
              "</div>\n",
              "      <button class=\"colab-df-convert\" onclick=\"convertToInteractive('df-160ac8d2-260c-4402-8139-1acd03928adb')\"\n",
              "              title=\"Convert this dataframe to an interactive table.\"\n",
              "              style=\"display:none;\">\n",
              "        \n",
              "  <svg xmlns=\"http://www.w3.org/2000/svg\" height=\"24px\"viewBox=\"0 0 24 24\"\n",
              "       width=\"24px\">\n",
              "    <path d=\"M0 0h24v24H0V0z\" fill=\"none\"/>\n",
              "    <path d=\"M18.56 5.44l.94 2.06.94-2.06 2.06-.94-2.06-.94-.94-2.06-.94 2.06-2.06.94zm-11 1L8.5 8.5l.94-2.06 2.06-.94-2.06-.94L8.5 2.5l-.94 2.06-2.06.94zm10 10l.94 2.06.94-2.06 2.06-.94-2.06-.94-.94-2.06-.94 2.06-2.06.94z\"/><path d=\"M17.41 7.96l-1.37-1.37c-.4-.4-.92-.59-1.43-.59-.52 0-1.04.2-1.43.59L10.3 9.45l-7.72 7.72c-.78.78-.78 2.05 0 2.83L4 21.41c.39.39.9.59 1.41.59.51 0 1.02-.2 1.41-.59l7.78-7.78 2.81-2.81c.8-.78.8-2.07 0-2.86zM5.41 20L4 18.59l7.72-7.72 1.47 1.35L5.41 20z\"/>\n",
              "  </svg>\n",
              "      </button>\n",
              "      \n",
              "  <style>\n",
              "    .colab-df-container {\n",
              "      display:flex;\n",
              "      flex-wrap:wrap;\n",
              "      gap: 12px;\n",
              "    }\n",
              "\n",
              "    .colab-df-convert {\n",
              "      background-color: #E8F0FE;\n",
              "      border: none;\n",
              "      border-radius: 50%;\n",
              "      cursor: pointer;\n",
              "      display: none;\n",
              "      fill: #1967D2;\n",
              "      height: 32px;\n",
              "      padding: 0 0 0 0;\n",
              "      width: 32px;\n",
              "    }\n",
              "\n",
              "    .colab-df-convert:hover {\n",
              "      background-color: #E2EBFA;\n",
              "      box-shadow: 0px 1px 2px rgba(60, 64, 67, 0.3), 0px 1px 3px 1px rgba(60, 64, 67, 0.15);\n",
              "      fill: #174EA6;\n",
              "    }\n",
              "\n",
              "    [theme=dark] .colab-df-convert {\n",
              "      background-color: #3B4455;\n",
              "      fill: #D2E3FC;\n",
              "    }\n",
              "\n",
              "    [theme=dark] .colab-df-convert:hover {\n",
              "      background-color: #434B5C;\n",
              "      box-shadow: 0px 1px 3px 1px rgba(0, 0, 0, 0.15);\n",
              "      filter: drop-shadow(0px 1px 2px rgba(0, 0, 0, 0.3));\n",
              "      fill: #FFFFFF;\n",
              "    }\n",
              "  </style>\n",
              "\n",
              "      <script>\n",
              "        const buttonEl =\n",
              "          document.querySelector('#df-160ac8d2-260c-4402-8139-1acd03928adb button.colab-df-convert');\n",
              "        buttonEl.style.display =\n",
              "          google.colab.kernel.accessAllowed ? 'block' : 'none';\n",
              "\n",
              "        async function convertToInteractive(key) {\n",
              "          const element = document.querySelector('#df-160ac8d2-260c-4402-8139-1acd03928adb');\n",
              "          const dataTable =\n",
              "            await google.colab.kernel.invokeFunction('convertToInteractive',\n",
              "                                                     [key], {});\n",
              "          if (!dataTable) return;\n",
              "\n",
              "          const docLinkHtml = 'Like what you see? Visit the ' +\n",
              "            '<a target=\"_blank\" href=https://colab.research.google.com/notebooks/data_table.ipynb>data table notebook</a>'\n",
              "            + ' to learn more about interactive tables.';\n",
              "          element.innerHTML = '';\n",
              "          dataTable['output_type'] = 'display_data';\n",
              "          await google.colab.output.renderOutput(dataTable, element);\n",
              "          const docLink = document.createElement('div');\n",
              "          docLink.innerHTML = docLinkHtml;\n",
              "          element.appendChild(docLink);\n",
              "        }\n",
              "      </script>\n",
              "    </div>\n",
              "  </div>\n",
              "  "
            ]
          },
          "metadata": {},
          "execution_count": 44
        }
      ],
      "source": [
        "purpose_data = (data.groupby('purpose_category')['debt'].\n",
        "                agg(['count', 'mean']).sort_values(by='mean', ascending=False))\n",
        "purpose_data['mean'] = purpose_data['mean'].map('{:,.2%}'.format)\n",
        "purpose_data"
      ]
    },
    {
      "cell_type": "markdown",
      "metadata": {
        "id": "__Pnk4M5VrJa"
      },
      "source": [
        "The purpose of the loan has a significant impact on the percentage of debts. The most responsible borrowers are real estate buyers, and the purpose of the property is not significant. Buying a car and getting an education are the most risky categories in terms of timely loan repayment."
      ]
    },
    {
      "cell_type": "markdown",
      "metadata": {
        "id": "eWMwpZveVrJa"
      },
      "source": [
        "## Final conclusion"
      ]
    },
    {
      "cell_type": "markdown",
      "metadata": {
        "id": "DYeqneN2VrJa"
      },
      "source": [
        "A study was made of the influence of various factors on the share of loans not returned on time. Loading, preprocessing and categorization of data was performed in accordance with the requirements of the task. Answers to the questions posed were received and conclusions were formulated regarding each subsection of the study. The study showed the presence of dependencies in all situations under consideration."
      ]
    }
  ],
  "metadata": {
    "ExecuteTimeLog": [
      {
        "duration": 899,
        "start_time": "2021-10-15T12:30:53.419Z"
      },
      {
        "duration": 871,
        "start_time": "2021-10-18T10:24:57.654Z"
      },
      {
        "duration": 7,
        "start_time": "2021-10-18T10:26:31.384Z"
      },
      {
        "duration": 14,
        "start_time": "2021-10-18T10:28:03.834Z"
      },
      {
        "duration": 14,
        "start_time": "2021-10-18T10:28:35.016Z"
      },
      {
        "duration": 13,
        "start_time": "2021-10-18T10:29:01.329Z"
      },
      {
        "duration": 6,
        "start_time": "2021-10-18T10:30:07.612Z"
      },
      {
        "duration": 7,
        "start_time": "2021-10-18T10:30:10.393Z"
      },
      {
        "duration": 6,
        "start_time": "2021-10-18T10:30:12.607Z"
      },
      {
        "duration": 8,
        "start_time": "2021-10-18T10:30:14.495Z"
      },
      {
        "duration": 9,
        "start_time": "2021-10-18T10:35:34.887Z"
      },
      {
        "duration": 3167,
        "start_time": "2021-10-18T10:36:01.577Z"
      },
      {
        "duration": 3069,
        "start_time": "2021-10-18T10:36:04.865Z"
      },
      {
        "duration": 6830,
        "start_time": "2021-10-18T10:36:24.093Z"
      },
      {
        "duration": 7049,
        "start_time": "2021-10-18T10:37:16.562Z"
      },
      {
        "duration": 904,
        "start_time": "2021-10-18T10:38:02.549Z"
      },
      {
        "duration": 6106,
        "start_time": "2021-10-18T10:38:03.456Z"
      },
      {
        "duration": 63,
        "start_time": "2021-10-18T10:38:09.501Z"
      },
      {
        "duration": 63,
        "start_time": "2021-10-18T10:38:09.503Z"
      },
      {
        "duration": 62,
        "start_time": "2021-10-18T10:38:09.505Z"
      },
      {
        "duration": 63,
        "start_time": "2021-10-18T10:38:09.506Z"
      },
      {
        "duration": 11,
        "start_time": "2021-10-18T10:38:20.959Z"
      },
      {
        "duration": 10,
        "start_time": "2021-10-18T10:38:53.875Z"
      },
      {
        "duration": 10,
        "start_time": "2021-10-18T10:39:20.587Z"
      },
      {
        "duration": 9,
        "start_time": "2021-10-18T10:39:29.131Z"
      },
      {
        "duration": 8,
        "start_time": "2021-10-18T10:40:02.027Z"
      },
      {
        "duration": 5,
        "start_time": "2021-10-18T10:40:25.572Z"
      },
      {
        "duration": 6,
        "start_time": "2021-10-18T10:43:41.344Z"
      },
      {
        "duration": 7,
        "start_time": "2021-10-18T10:43:43.860Z"
      },
      {
        "duration": 7,
        "start_time": "2021-10-18T10:43:45.688Z"
      },
      {
        "duration": 9,
        "start_time": "2021-10-18T10:43:48.193Z"
      },
      {
        "duration": 6,
        "start_time": "2021-10-18T10:48:36.014Z"
      },
      {
        "duration": 19,
        "start_time": "2021-10-18T10:49:20.040Z"
      },
      {
        "duration": 11,
        "start_time": "2021-10-18T10:49:40.290Z"
      },
      {
        "duration": 9,
        "start_time": "2021-10-18T10:49:53.262Z"
      },
      {
        "duration": 16,
        "start_time": "2021-10-18T10:58:48.516Z"
      },
      {
        "duration": 22,
        "start_time": "2021-10-18T10:58:58.649Z"
      },
      {
        "duration": 26,
        "start_time": "2021-10-18T11:02:42.114Z"
      },
      {
        "duration": 21,
        "start_time": "2021-10-18T11:05:38.013Z"
      },
      {
        "duration": 18,
        "start_time": "2021-10-18T11:06:24.924Z"
      },
      {
        "duration": 305,
        "start_time": "2021-10-18T11:46:29.018Z"
      },
      {
        "duration": 6,
        "start_time": "2021-10-18T11:46:40.852Z"
      },
      {
        "duration": 11,
        "start_time": "2021-10-18T11:47:19.417Z"
      },
      {
        "duration": 12,
        "start_time": "2021-10-18T11:47:37.373Z"
      },
      {
        "duration": 8,
        "start_time": "2021-10-18T11:52:30.893Z"
      },
      {
        "duration": 7,
        "start_time": "2021-10-18T11:53:05.201Z"
      },
      {
        "duration": 8,
        "start_time": "2021-10-18T11:55:26.368Z"
      },
      {
        "duration": 8,
        "start_time": "2021-10-18T11:55:56.001Z"
      },
      {
        "duration": 57,
        "start_time": "2021-10-18T11:56:47.660Z"
      },
      {
        "duration": 8,
        "start_time": "2021-10-18T11:58:34.098Z"
      },
      {
        "duration": 7,
        "start_time": "2021-10-18T11:58:57.949Z"
      },
      {
        "duration": 18,
        "start_time": "2021-10-18T12:08:53.066Z"
      },
      {
        "duration": 19,
        "start_time": "2021-10-18T12:11:22.881Z"
      },
      {
        "duration": 16,
        "start_time": "2021-10-18T12:11:27.973Z"
      },
      {
        "duration": 288,
        "start_time": "2021-10-18T12:12:07.705Z"
      },
      {
        "duration": 11,
        "start_time": "2021-10-18T12:12:16.705Z"
      },
      {
        "duration": 923,
        "start_time": "2021-10-18T12:18:40.364Z"
      },
      {
        "duration": 10,
        "start_time": "2021-10-18T12:18:41.292Z"
      },
      {
        "duration": 8,
        "start_time": "2021-10-18T12:18:41.305Z"
      },
      {
        "duration": 23,
        "start_time": "2021-10-18T12:18:41.315Z"
      },
      {
        "duration": 15,
        "start_time": "2021-10-18T12:18:41.368Z"
      },
      {
        "duration": 28,
        "start_time": "2021-10-18T12:18:41.387Z"
      },
      {
        "duration": 13,
        "start_time": "2021-10-18T12:18:41.417Z"
      },
      {
        "duration": 40,
        "start_time": "2021-10-18T12:18:41.434Z"
      },
      {
        "duration": 22,
        "start_time": "2021-10-18T12:18:41.477Z"
      },
      {
        "duration": 20,
        "start_time": "2021-10-18T12:18:41.502Z"
      },
      {
        "duration": 8,
        "start_time": "2021-10-18T12:18:41.525Z"
      },
      {
        "duration": 11,
        "start_time": "2021-10-18T12:18:41.535Z"
      },
      {
        "duration": 25,
        "start_time": "2021-10-18T12:18:41.548Z"
      },
      {
        "duration": 11,
        "start_time": "2021-10-18T12:18:41.576Z"
      },
      {
        "duration": 10,
        "start_time": "2021-10-18T12:18:41.590Z"
      },
      {
        "duration": 15,
        "start_time": "2021-10-18T12:18:41.602Z"
      },
      {
        "duration": 392,
        "start_time": "2021-10-18T12:23:48.923Z"
      },
      {
        "duration": 274,
        "start_time": "2021-10-18T12:24:13.809Z"
      },
      {
        "duration": 8,
        "start_time": "2021-10-18T12:24:41.588Z"
      },
      {
        "duration": 6,
        "start_time": "2021-10-18T12:24:51.010Z"
      },
      {
        "duration": 7,
        "start_time": "2021-10-18T12:24:58.346Z"
      },
      {
        "duration": 27,
        "start_time": "2021-10-18T12:26:19.617Z"
      },
      {
        "duration": 12,
        "start_time": "2021-10-18T12:26:32.674Z"
      },
      {
        "duration": 5,
        "start_time": "2021-10-18T12:28:51.096Z"
      },
      {
        "duration": 20,
        "start_time": "2021-10-18T12:29:13.420Z"
      },
      {
        "duration": 20,
        "start_time": "2021-10-18T12:29:59.481Z"
      },
      {
        "duration": 5,
        "start_time": "2021-10-18T12:31:05.131Z"
      },
      {
        "duration": 503,
        "start_time": "2021-10-18T12:32:00.081Z"
      },
      {
        "duration": 292,
        "start_time": "2021-10-18T12:37:01.607Z"
      },
      {
        "duration": 11,
        "start_time": "2021-10-18T12:37:35.921Z"
      },
      {
        "duration": 32,
        "start_time": "2021-10-18T12:38:32.391Z"
      },
      {
        "duration": 43,
        "start_time": "2021-10-18T12:39:01.961Z"
      },
      {
        "duration": 44,
        "start_time": "2021-10-18T12:41:41.694Z"
      },
      {
        "duration": 363,
        "start_time": "2021-10-18T12:45:32.199Z"
      },
      {
        "duration": 1872,
        "start_time": "2021-10-18T12:48:01.887Z"
      },
      {
        "duration": 17,
        "start_time": "2021-10-18T12:48:03.771Z"
      },
      {
        "duration": 7,
        "start_time": "2021-10-18T12:48:03.794Z"
      },
      {
        "duration": 26,
        "start_time": "2021-10-18T12:48:03.804Z"
      },
      {
        "duration": 45,
        "start_time": "2021-10-18T12:48:03.833Z"
      },
      {
        "duration": 30,
        "start_time": "2021-10-18T12:48:03.888Z"
      },
      {
        "duration": 7,
        "start_time": "2021-10-18T12:48:03.920Z"
      },
      {
        "duration": 8,
        "start_time": "2021-10-18T12:48:03.930Z"
      },
      {
        "duration": 32,
        "start_time": "2021-10-18T12:48:03.941Z"
      },
      {
        "duration": 29,
        "start_time": "2021-10-18T12:48:03.976Z"
      },
      {
        "duration": 7,
        "start_time": "2021-10-18T12:48:04.007Z"
      },
      {
        "duration": 12,
        "start_time": "2021-10-18T12:48:04.017Z"
      },
      {
        "duration": 41,
        "start_time": "2021-10-18T12:48:04.031Z"
      },
      {
        "duration": 12,
        "start_time": "2021-10-18T12:48:04.076Z"
      },
      {
        "duration": 16,
        "start_time": "2021-10-18T12:48:04.092Z"
      },
      {
        "duration": 28,
        "start_time": "2021-10-18T12:48:04.111Z"
      },
      {
        "duration": 48,
        "start_time": "2021-10-18T12:48:04.141Z"
      },
      {
        "duration": 503,
        "start_time": "2021-10-18T12:48:04.196Z"
      },
      {
        "duration": 843,
        "start_time": "2021-10-18T12:52:02.534Z"
      },
      {
        "duration": 18,
        "start_time": "2021-10-18T12:52:03.381Z"
      },
      {
        "duration": 7,
        "start_time": "2021-10-18T12:52:03.407Z"
      },
      {
        "duration": 73,
        "start_time": "2021-10-18T12:52:03.417Z"
      },
      {
        "duration": 9,
        "start_time": "2021-10-18T12:52:03.492Z"
      },
      {
        "duration": 27,
        "start_time": "2021-10-18T12:52:03.505Z"
      },
      {
        "duration": 44,
        "start_time": "2021-10-18T12:52:03.535Z"
      },
      {
        "duration": 14,
        "start_time": "2021-10-18T12:52:03.590Z"
      },
      {
        "duration": 9,
        "start_time": "2021-10-18T12:52:03.607Z"
      },
      {
        "duration": 62,
        "start_time": "2021-10-18T12:52:03.618Z"
      },
      {
        "duration": 20,
        "start_time": "2021-10-18T12:52:03.683Z"
      },
      {
        "duration": 16,
        "start_time": "2021-10-18T12:52:03.705Z"
      },
      {
        "duration": 19,
        "start_time": "2021-10-18T12:52:03.723Z"
      },
      {
        "duration": 16,
        "start_time": "2021-10-18T12:52:03.744Z"
      },
      {
        "duration": 21,
        "start_time": "2021-10-18T12:52:03.763Z"
      },
      {
        "duration": 40,
        "start_time": "2021-10-18T12:52:03.787Z"
      },
      {
        "duration": 20,
        "start_time": "2021-10-18T12:52:03.829Z"
      },
      {
        "duration": 524,
        "start_time": "2021-10-18T12:52:03.851Z"
      },
      {
        "duration": 18,
        "start_time": "2021-10-18T12:56:26.591Z"
      },
      {
        "duration": 14,
        "start_time": "2021-10-18T12:56:47.482Z"
      },
      {
        "duration": 13,
        "start_time": "2021-10-18T12:57:20.037Z"
      },
      {
        "duration": 6,
        "start_time": "2021-10-18T13:02:43.059Z"
      },
      {
        "duration": 24,
        "start_time": "2021-10-18T13:03:03.841Z"
      },
      {
        "duration": 29,
        "start_time": "2021-10-18T13:03:09.928Z"
      },
      {
        "duration": 20,
        "start_time": "2021-10-18T13:03:16.842Z"
      },
      {
        "duration": 27,
        "start_time": "2021-10-18T13:03:22.799Z"
      },
      {
        "duration": 27,
        "start_time": "2021-10-18T13:08:20.591Z"
      },
      {
        "duration": 24,
        "start_time": "2021-10-18T13:08:28.087Z"
      },
      {
        "duration": 19,
        "start_time": "2021-10-18T13:08:39.495Z"
      },
      {
        "duration": 27,
        "start_time": "2021-10-18T13:08:44.958Z"
      },
      {
        "duration": 49,
        "start_time": "2021-10-18T13:09:22.594Z"
      },
      {
        "duration": 30,
        "start_time": "2021-10-18T13:09:31.976Z"
      },
      {
        "duration": 23,
        "start_time": "2021-10-18T13:09:45.409Z"
      },
      {
        "duration": 15,
        "start_time": "2021-10-18T13:10:57.491Z"
      },
      {
        "duration": 10,
        "start_time": "2021-10-18T13:12:32.634Z"
      },
      {
        "duration": 28,
        "start_time": "2021-10-18T13:12:50.673Z"
      },
      {
        "duration": 13,
        "start_time": "2021-10-18T13:12:51.983Z"
      },
      {
        "duration": 34,
        "start_time": "2021-10-18T13:14:00.705Z"
      },
      {
        "duration": 15,
        "start_time": "2021-10-18T13:14:09.806Z"
      },
      {
        "duration": 13,
        "start_time": "2021-10-18T13:14:49.128Z"
      },
      {
        "duration": 916,
        "start_time": "2021-10-18T13:15:01.285Z"
      },
      {
        "duration": 15,
        "start_time": "2021-10-18T13:15:02.205Z"
      },
      {
        "duration": 9,
        "start_time": "2021-10-18T13:15:02.225Z"
      },
      {
        "duration": 43,
        "start_time": "2021-10-18T13:15:02.237Z"
      },
      {
        "duration": 28,
        "start_time": "2021-10-18T13:15:02.284Z"
      },
      {
        "duration": 6,
        "start_time": "2021-10-18T13:15:02.314Z"
      },
      {
        "duration": 61,
        "start_time": "2021-10-18T13:15:02.323Z"
      },
      {
        "duration": 9,
        "start_time": "2021-10-18T13:15:02.387Z"
      },
      {
        "duration": 16,
        "start_time": "2021-10-18T13:15:02.403Z"
      },
      {
        "duration": 14,
        "start_time": "2021-10-18T13:15:02.422Z"
      },
      {
        "duration": 45,
        "start_time": "2021-10-18T13:15:02.439Z"
      },
      {
        "duration": 9,
        "start_time": "2021-10-18T13:15:02.487Z"
      },
      {
        "duration": 12,
        "start_time": "2021-10-18T13:15:02.499Z"
      },
      {
        "duration": 16,
        "start_time": "2021-10-18T13:15:02.514Z"
      },
      {
        "duration": 50,
        "start_time": "2021-10-18T13:15:02.533Z"
      },
      {
        "duration": 14,
        "start_time": "2021-10-18T13:15:02.586Z"
      },
      {
        "duration": 6,
        "start_time": "2021-10-18T13:15:02.602Z"
      },
      {
        "duration": 29,
        "start_time": "2021-10-18T13:15:02.610Z"
      },
      {
        "duration": 46,
        "start_time": "2021-10-18T13:15:02.642Z"
      },
      {
        "duration": 17,
        "start_time": "2021-10-18T13:15:02.692Z"
      },
      {
        "duration": 29,
        "start_time": "2021-10-18T13:15:02.711Z"
      },
      {
        "duration": 53,
        "start_time": "2021-10-18T13:15:02.742Z"
      },
      {
        "duration": 16,
        "start_time": "2021-10-18T13:15:02.798Z"
      },
      {
        "duration": 12,
        "start_time": "2021-10-18T13:15:02.819Z"
      },
      {
        "duration": 32,
        "start_time": "2021-10-18T13:18:25.694Z"
      },
      {
        "duration": 925,
        "start_time": "2021-10-18T13:18:33.118Z"
      },
      {
        "duration": 27,
        "start_time": "2021-10-18T13:18:34.045Z"
      },
      {
        "duration": 19,
        "start_time": "2021-10-18T13:18:34.076Z"
      },
      {
        "duration": 7,
        "start_time": "2021-10-18T13:18:34.097Z"
      },
      {
        "duration": 25,
        "start_time": "2021-10-18T13:18:34.106Z"
      },
      {
        "duration": 42,
        "start_time": "2021-10-18T13:18:34.134Z"
      },
      {
        "duration": 32,
        "start_time": "2021-10-18T13:18:34.181Z"
      },
      {
        "duration": 6,
        "start_time": "2021-10-18T13:18:34.218Z"
      },
      {
        "duration": 48,
        "start_time": "2021-10-18T13:18:34.227Z"
      },
      {
        "duration": 12,
        "start_time": "2021-10-18T13:18:34.278Z"
      },
      {
        "duration": 22,
        "start_time": "2021-10-18T13:18:34.294Z"
      },
      {
        "duration": 8,
        "start_time": "2021-10-18T13:18:34.319Z"
      },
      {
        "duration": 46,
        "start_time": "2021-10-18T13:18:34.330Z"
      },
      {
        "duration": 12,
        "start_time": "2021-10-18T13:18:34.379Z"
      },
      {
        "duration": 10,
        "start_time": "2021-10-18T13:18:34.395Z"
      },
      {
        "duration": 7,
        "start_time": "2021-10-18T13:18:34.407Z"
      },
      {
        "duration": 10,
        "start_time": "2021-10-18T13:18:34.417Z"
      },
      {
        "duration": 41,
        "start_time": "2021-10-18T13:18:34.467Z"
      },
      {
        "duration": 21,
        "start_time": "2021-10-18T13:18:34.510Z"
      },
      {
        "duration": 44,
        "start_time": "2021-10-18T13:18:34.534Z"
      },
      {
        "duration": 27,
        "start_time": "2021-10-18T13:18:34.583Z"
      },
      {
        "duration": 23,
        "start_time": "2021-10-18T13:18:34.612Z"
      },
      {
        "duration": 50,
        "start_time": "2021-10-18T13:18:34.640Z"
      },
      {
        "duration": 13,
        "start_time": "2021-10-18T13:18:34.693Z"
      },
      {
        "duration": 98,
        "start_time": "2021-10-18T13:19:06.906Z"
      },
      {
        "duration": 13,
        "start_time": "2021-10-18T13:19:11.997Z"
      },
      {
        "duration": 13,
        "start_time": "2021-10-18T13:19:14.464Z"
      },
      {
        "duration": 7,
        "start_time": "2021-10-18T13:19:17.783Z"
      },
      {
        "duration": 25,
        "start_time": "2021-10-18T13:19:18.572Z"
      },
      {
        "duration": 7,
        "start_time": "2021-10-18T13:19:19.321Z"
      },
      {
        "duration": 29,
        "start_time": "2021-10-18T13:19:21.285Z"
      },
      {
        "duration": 8,
        "start_time": "2021-10-18T13:19:21.895Z"
      },
      {
        "duration": 10,
        "start_time": "2021-10-18T13:19:23.806Z"
      },
      {
        "duration": 8,
        "start_time": "2021-10-18T13:19:24.882Z"
      },
      {
        "duration": 19,
        "start_time": "2021-10-18T13:19:27.234Z"
      },
      {
        "duration": 6,
        "start_time": "2021-10-18T13:19:29.663Z"
      },
      {
        "duration": 8,
        "start_time": "2021-10-18T13:19:32.218Z"
      },
      {
        "duration": 6,
        "start_time": "2021-10-18T13:19:32.994Z"
      },
      {
        "duration": 10,
        "start_time": "2021-10-18T13:19:33.593Z"
      },
      {
        "duration": 7,
        "start_time": "2021-10-18T13:19:34.217Z"
      },
      {
        "duration": 7,
        "start_time": "2021-10-18T13:19:36.402Z"
      },
      {
        "duration": 34,
        "start_time": "2021-10-18T13:19:45.135Z"
      },
      {
        "duration": 46,
        "start_time": "2021-10-18T13:19:59.479Z"
      },
      {
        "duration": 43,
        "start_time": "2021-10-18T13:20:17.588Z"
      },
      {
        "duration": 34,
        "start_time": "2021-10-18T13:20:27.323Z"
      },
      {
        "duration": 39,
        "start_time": "2021-10-18T13:20:41.415Z"
      },
      {
        "duration": 81,
        "start_time": "2021-10-18T13:21:05.270Z"
      },
      {
        "duration": 41,
        "start_time": "2021-10-18T13:21:12.524Z"
      },
      {
        "duration": 33,
        "start_time": "2021-10-18T13:21:27.339Z"
      },
      {
        "duration": 21,
        "start_time": "2021-10-18T13:21:44.220Z"
      },
      {
        "duration": 31,
        "start_time": "2021-10-18T13:22:08.462Z"
      },
      {
        "duration": 45,
        "start_time": "2021-10-18T13:22:55.860Z"
      },
      {
        "duration": 829,
        "start_time": "2021-10-18T13:23:10.620Z"
      },
      {
        "duration": 24,
        "start_time": "2021-10-18T13:23:11.452Z"
      },
      {
        "duration": 22,
        "start_time": "2021-10-18T13:23:11.480Z"
      },
      {
        "duration": 7,
        "start_time": "2021-10-18T13:23:11.505Z"
      },
      {
        "duration": 24,
        "start_time": "2021-10-18T13:23:11.514Z"
      },
      {
        "duration": 47,
        "start_time": "2021-10-18T13:23:11.540Z"
      },
      {
        "duration": 27,
        "start_time": "2021-10-18T13:23:11.590Z"
      },
      {
        "duration": 9,
        "start_time": "2021-10-18T13:23:11.619Z"
      },
      {
        "duration": 42,
        "start_time": "2021-10-18T13:23:11.632Z"
      },
      {
        "duration": 13,
        "start_time": "2021-10-18T13:23:11.680Z"
      },
      {
        "duration": 19,
        "start_time": "2021-10-18T13:23:11.696Z"
      },
      {
        "duration": 7,
        "start_time": "2021-10-18T13:23:11.718Z"
      },
      {
        "duration": 51,
        "start_time": "2021-10-18T13:23:11.727Z"
      },
      {
        "duration": 5,
        "start_time": "2021-10-18T13:23:11.781Z"
      },
      {
        "duration": 11,
        "start_time": "2021-10-18T13:23:11.789Z"
      },
      {
        "duration": 15,
        "start_time": "2021-10-18T13:23:11.802Z"
      },
      {
        "duration": 7,
        "start_time": "2021-10-18T13:23:11.820Z"
      },
      {
        "duration": 74,
        "start_time": "2021-10-18T13:23:11.830Z"
      },
      {
        "duration": 311,
        "start_time": "2021-10-18T13:23:11.906Z"
      },
      {
        "duration": 25,
        "start_time": "2021-10-18T13:23:12.195Z"
      },
      {
        "duration": 24,
        "start_time": "2021-10-18T13:23:12.197Z"
      },
      {
        "duration": 24,
        "start_time": "2021-10-18T13:23:12.199Z"
      },
      {
        "duration": 24,
        "start_time": "2021-10-18T13:23:12.200Z"
      },
      {
        "duration": 24,
        "start_time": "2021-10-18T13:23:12.202Z"
      },
      {
        "duration": 29,
        "start_time": "2021-10-18T13:23:50.180Z"
      },
      {
        "duration": 39,
        "start_time": "2021-10-18T13:23:58.364Z"
      },
      {
        "duration": 281,
        "start_time": "2021-10-18T13:24:28.817Z"
      },
      {
        "duration": 53,
        "start_time": "2021-10-18T13:25:04.851Z"
      },
      {
        "duration": 21,
        "start_time": "2021-10-18T13:25:46.116Z"
      },
      {
        "duration": 21,
        "start_time": "2021-10-18T13:26:18.605Z"
      },
      {
        "duration": 23,
        "start_time": "2021-10-18T13:27:18.956Z"
      },
      {
        "duration": 20,
        "start_time": "2021-10-18T13:27:31.309Z"
      },
      {
        "duration": 21,
        "start_time": "2021-10-18T13:27:51.082Z"
      },
      {
        "duration": 18,
        "start_time": "2021-10-18T13:28:08.048Z"
      },
      {
        "duration": 20,
        "start_time": "2021-10-18T13:28:30.334Z"
      },
      {
        "duration": 22,
        "start_time": "2021-10-18T13:28:37.220Z"
      },
      {
        "duration": 957,
        "start_time": "2021-10-18T13:28:46.748Z"
      },
      {
        "duration": 13,
        "start_time": "2021-10-18T13:28:47.708Z"
      },
      {
        "duration": 10,
        "start_time": "2021-10-18T13:28:47.724Z"
      },
      {
        "duration": 42,
        "start_time": "2021-10-18T13:28:47.737Z"
      },
      {
        "duration": 26,
        "start_time": "2021-10-18T13:28:47.782Z"
      },
      {
        "duration": 7,
        "start_time": "2021-10-18T13:28:47.810Z"
      },
      {
        "duration": 52,
        "start_time": "2021-10-18T13:28:47.819Z"
      },
      {
        "duration": 9,
        "start_time": "2021-10-18T13:28:47.878Z"
      },
      {
        "duration": 11,
        "start_time": "2021-10-18T13:28:47.892Z"
      },
      {
        "duration": 7,
        "start_time": "2021-10-18T13:28:47.905Z"
      },
      {
        "duration": 57,
        "start_time": "2021-10-18T13:28:47.914Z"
      },
      {
        "duration": 11,
        "start_time": "2021-10-18T13:28:47.974Z"
      },
      {
        "duration": 8,
        "start_time": "2021-10-18T13:28:47.987Z"
      },
      {
        "duration": 8,
        "start_time": "2021-10-18T13:28:47.998Z"
      },
      {
        "duration": 12,
        "start_time": "2021-10-18T13:28:48.009Z"
      },
      {
        "duration": 54,
        "start_time": "2021-10-18T13:28:48.023Z"
      },
      {
        "duration": 11,
        "start_time": "2021-10-18T13:28:48.081Z"
      },
      {
        "duration": 20,
        "start_time": "2021-10-18T13:28:48.096Z"
      },
      {
        "duration": 59,
        "start_time": "2021-10-18T13:28:48.118Z"
      },
      {
        "duration": 18,
        "start_time": "2021-10-18T13:28:48.179Z"
      },
      {
        "duration": 24,
        "start_time": "2021-10-18T13:28:48.200Z"
      },
      {
        "duration": 59,
        "start_time": "2021-10-18T13:28:48.226Z"
      },
      {
        "duration": 20,
        "start_time": "2021-10-18T13:28:48.288Z"
      },
      {
        "duration": 13,
        "start_time": "2021-10-18T13:28:48.310Z"
      },
      {
        "duration": 13,
        "start_time": "2021-10-18T13:30:26.152Z"
      },
      {
        "duration": 28,
        "start_time": "2021-10-18T13:31:30.018Z"
      },
      {
        "duration": 38,
        "start_time": "2021-10-18T13:31:37.259Z"
      },
      {
        "duration": 1949,
        "start_time": "2021-10-18T13:31:44.280Z"
      },
      {
        "duration": 17,
        "start_time": "2021-10-18T13:31:46.233Z"
      },
      {
        "duration": 19,
        "start_time": "2021-10-18T13:31:46.273Z"
      },
      {
        "duration": 13,
        "start_time": "2021-10-18T13:31:46.297Z"
      },
      {
        "duration": 27,
        "start_time": "2021-10-18T13:31:46.313Z"
      },
      {
        "duration": 33,
        "start_time": "2021-10-18T13:31:46.343Z"
      },
      {
        "duration": 28,
        "start_time": "2021-10-18T13:31:46.379Z"
      },
      {
        "duration": 8,
        "start_time": "2021-10-18T13:31:46.412Z"
      },
      {
        "duration": 48,
        "start_time": "2021-10-18T13:31:46.425Z"
      },
      {
        "duration": 11,
        "start_time": "2021-10-18T13:31:46.476Z"
      },
      {
        "duration": 19,
        "start_time": "2021-10-18T13:31:46.490Z"
      },
      {
        "duration": 9,
        "start_time": "2021-10-18T13:31:46.511Z"
      },
      {
        "duration": 12,
        "start_time": "2021-10-18T13:31:46.522Z"
      },
      {
        "duration": 41,
        "start_time": "2021-10-18T13:31:46.536Z"
      },
      {
        "duration": 8,
        "start_time": "2021-10-18T13:31:46.580Z"
      },
      {
        "duration": 14,
        "start_time": "2021-10-18T13:31:46.590Z"
      },
      {
        "duration": 14,
        "start_time": "2021-10-18T13:31:46.606Z"
      },
      {
        "duration": 23,
        "start_time": "2021-10-18T13:31:46.622Z"
      },
      {
        "duration": 47,
        "start_time": "2021-10-18T13:31:46.647Z"
      },
      {
        "duration": 13,
        "start_time": "2021-10-18T13:31:46.697Z"
      },
      {
        "duration": 80,
        "start_time": "2021-10-18T13:31:46.712Z"
      },
      {
        "duration": 27,
        "start_time": "2021-10-18T13:31:46.794Z"
      },
      {
        "duration": 16,
        "start_time": "2021-10-18T13:31:46.825Z"
      },
      {
        "duration": 46,
        "start_time": "2021-10-18T13:31:46.844Z"
      },
      {
        "duration": 24,
        "start_time": "2021-10-18T13:35:29.040Z"
      },
      {
        "duration": 877,
        "start_time": "2021-10-18T13:35:36.580Z"
      },
      {
        "duration": 114,
        "start_time": "2021-10-18T13:35:37.459Z"
      },
      {
        "duration": 11,
        "start_time": "2021-10-18T13:35:37.581Z"
      },
      {
        "duration": 9,
        "start_time": "2021-10-18T13:35:37.594Z"
      },
      {
        "duration": 82,
        "start_time": "2021-10-18T13:35:37.606Z"
      },
      {
        "duration": 8,
        "start_time": "2021-10-18T13:35:37.691Z"
      },
      {
        "duration": 26,
        "start_time": "2021-10-18T13:35:37.704Z"
      },
      {
        "duration": 44,
        "start_time": "2021-10-18T13:35:37.733Z"
      },
      {
        "duration": 10,
        "start_time": "2021-10-18T13:35:37.779Z"
      },
      {
        "duration": 9,
        "start_time": "2021-10-18T13:35:37.792Z"
      },
      {
        "duration": 30,
        "start_time": "2021-10-18T13:35:37.804Z"
      },
      {
        "duration": 10,
        "start_time": "2021-10-18T13:35:37.867Z"
      },
      {
        "duration": 15,
        "start_time": "2021-10-18T13:35:37.880Z"
      },
      {
        "duration": 6,
        "start_time": "2021-10-18T13:35:37.897Z"
      },
      {
        "duration": 8,
        "start_time": "2021-10-18T13:35:37.905Z"
      },
      {
        "duration": 8,
        "start_time": "2021-10-18T13:35:37.915Z"
      },
      {
        "duration": 7,
        "start_time": "2021-10-18T13:35:37.975Z"
      },
      {
        "duration": 21,
        "start_time": "2021-10-18T13:35:37.988Z"
      },
      {
        "duration": 21,
        "start_time": "2021-10-18T13:35:38.011Z"
      },
      {
        "duration": 52,
        "start_time": "2021-10-18T13:35:38.034Z"
      },
      {
        "duration": 25,
        "start_time": "2021-10-18T13:35:38.088Z"
      },
      {
        "duration": 26,
        "start_time": "2021-10-18T13:35:38.117Z"
      },
      {
        "duration": 20,
        "start_time": "2021-10-18T13:35:38.167Z"
      },
      {
        "duration": 16,
        "start_time": "2021-10-18T13:35:38.191Z"
      },
      {
        "duration": 373,
        "start_time": "2021-10-18T14:03:34.617Z"
      },
      {
        "duration": 20,
        "start_time": "2021-10-18T14:03:41.128Z"
      },
      {
        "duration": 120,
        "start_time": "2021-10-18T14:08:33.636Z"
      },
      {
        "duration": 80,
        "start_time": "2021-10-18T14:08:57.589Z"
      },
      {
        "duration": 4,
        "start_time": "2021-10-18T14:09:19.771Z"
      },
      {
        "duration": 4934,
        "start_time": "2021-10-18T14:12:59.277Z"
      },
      {
        "duration": 866,
        "start_time": "2021-10-18T14:13:07.909Z"
      },
      {
        "duration": 23,
        "start_time": "2021-10-18T14:13:08.778Z"
      },
      {
        "duration": 8,
        "start_time": "2021-10-18T14:13:08.804Z"
      },
      {
        "duration": 9,
        "start_time": "2021-10-18T14:13:08.815Z"
      },
      {
        "duration": 68,
        "start_time": "2021-10-18T14:13:08.826Z"
      },
      {
        "duration": 7,
        "start_time": "2021-10-18T14:13:08.897Z"
      },
      {
        "duration": 26,
        "start_time": "2021-10-18T14:13:08.906Z"
      },
      {
        "duration": 7,
        "start_time": "2021-10-18T14:13:08.936Z"
      },
      {
        "duration": 39,
        "start_time": "2021-10-18T14:13:08.945Z"
      },
      {
        "duration": 20,
        "start_time": "2021-10-18T14:13:08.986Z"
      },
      {
        "duration": 26,
        "start_time": "2021-10-18T14:13:09.009Z"
      },
      {
        "duration": 17,
        "start_time": "2021-10-18T14:13:09.038Z"
      },
      {
        "duration": 24,
        "start_time": "2021-10-18T14:13:09.059Z"
      },
      {
        "duration": 10,
        "start_time": "2021-10-18T14:13:09.086Z"
      },
      {
        "duration": 8,
        "start_time": "2021-10-18T14:13:09.100Z"
      },
      {
        "duration": 8,
        "start_time": "2021-10-18T14:13:09.110Z"
      },
      {
        "duration": 6,
        "start_time": "2021-10-18T14:13:09.120Z"
      },
      {
        "duration": 70,
        "start_time": "2021-10-18T14:13:09.129Z"
      },
      {
        "duration": 22,
        "start_time": "2021-10-18T14:13:09.202Z"
      },
      {
        "duration": 46,
        "start_time": "2021-10-18T14:13:09.227Z"
      },
      {
        "duration": 30,
        "start_time": "2021-10-18T14:13:09.280Z"
      },
      {
        "duration": 26,
        "start_time": "2021-10-18T14:13:09.313Z"
      },
      {
        "duration": 35,
        "start_time": "2021-10-18T14:13:09.343Z"
      },
      {
        "duration": 9,
        "start_time": "2021-10-18T14:13:09.381Z"
      },
      {
        "duration": 5,
        "start_time": "2021-10-18T14:13:09.393Z"
      },
      {
        "duration": 4946,
        "start_time": "2021-10-18T14:13:09.400Z"
      },
      {
        "duration": 22,
        "start_time": "2021-10-18T14:13:27.141Z"
      },
      {
        "duration": 6,
        "start_time": "2021-10-18T14:19:12.572Z"
      },
      {
        "duration": 4332,
        "start_time": "2021-10-18T14:19:14.262Z"
      },
      {
        "duration": 22,
        "start_time": "2021-10-18T14:19:18.597Z"
      },
      {
        "duration": 4449,
        "start_time": "2021-10-18T14:19:56.464Z"
      },
      {
        "duration": 21,
        "start_time": "2021-10-18T14:20:00.916Z"
      },
      {
        "duration": 1088,
        "start_time": "2021-10-18T14:20:19.331Z"
      },
      {
        "duration": 18,
        "start_time": "2021-10-18T14:20:20.423Z"
      },
      {
        "duration": 37,
        "start_time": "2021-10-18T14:20:20.444Z"
      },
      {
        "duration": 17,
        "start_time": "2021-10-18T14:20:20.483Z"
      },
      {
        "duration": 23,
        "start_time": "2021-10-18T14:20:20.503Z"
      },
      {
        "duration": 10,
        "start_time": "2021-10-18T14:20:20.529Z"
      },
      {
        "duration": 63,
        "start_time": "2021-10-18T14:20:20.541Z"
      },
      {
        "duration": 7,
        "start_time": "2021-10-18T14:20:20.608Z"
      },
      {
        "duration": 9,
        "start_time": "2021-10-18T14:20:20.618Z"
      },
      {
        "duration": 9,
        "start_time": "2021-10-18T14:20:20.629Z"
      },
      {
        "duration": 35,
        "start_time": "2021-10-18T14:20:20.668Z"
      },
      {
        "duration": 7,
        "start_time": "2021-10-18T14:20:20.705Z"
      },
      {
        "duration": 9,
        "start_time": "2021-10-18T14:20:20.714Z"
      },
      {
        "duration": 6,
        "start_time": "2021-10-18T14:20:20.726Z"
      },
      {
        "duration": 11,
        "start_time": "2021-10-18T14:20:20.767Z"
      },
      {
        "duration": 14,
        "start_time": "2021-10-18T14:20:20.787Z"
      },
      {
        "duration": 7,
        "start_time": "2021-10-18T14:20:20.804Z"
      },
      {
        "duration": 23,
        "start_time": "2021-10-18T14:20:20.813Z"
      },
      {
        "duration": 62,
        "start_time": "2021-10-18T14:20:20.838Z"
      },
      {
        "duration": 13,
        "start_time": "2021-10-18T14:20:20.902Z"
      },
      {
        "duration": 24,
        "start_time": "2021-10-18T14:20:20.918Z"
      },
      {
        "duration": 54,
        "start_time": "2021-10-18T14:20:20.944Z"
      },
      {
        "duration": 19,
        "start_time": "2021-10-18T14:20:21.002Z"
      },
      {
        "duration": 9,
        "start_time": "2021-10-18T14:20:21.025Z"
      },
      {
        "duration": 35,
        "start_time": "2021-10-18T14:20:21.036Z"
      },
      {
        "duration": 5142,
        "start_time": "2021-10-18T14:20:21.076Z"
      },
      {
        "duration": 20,
        "start_time": "2021-10-18T14:20:26.221Z"
      },
      {
        "duration": 5,
        "start_time": "2021-10-18T14:23:42.324Z"
      },
      {
        "duration": 4351,
        "start_time": "2021-10-18T14:23:44.391Z"
      },
      {
        "duration": 33,
        "start_time": "2021-10-18T14:23:48.745Z"
      },
      {
        "duration": 865,
        "start_time": "2021-10-18T14:27:43.017Z"
      },
      {
        "duration": 21,
        "start_time": "2021-10-18T14:27:43.884Z"
      },
      {
        "duration": 10,
        "start_time": "2021-10-18T14:27:43.908Z"
      },
      {
        "duration": 12,
        "start_time": "2021-10-18T14:27:43.921Z"
      },
      {
        "duration": 55,
        "start_time": "2021-10-18T14:27:43.936Z"
      },
      {
        "duration": 14,
        "start_time": "2021-10-18T14:27:43.993Z"
      },
      {
        "duration": 26,
        "start_time": "2021-10-18T14:27:44.010Z"
      },
      {
        "duration": 38,
        "start_time": "2021-10-18T14:27:44.039Z"
      },
      {
        "duration": 19,
        "start_time": "2021-10-18T14:27:44.082Z"
      },
      {
        "duration": 11,
        "start_time": "2021-10-18T14:27:44.104Z"
      },
      {
        "duration": 20,
        "start_time": "2021-10-18T14:27:44.117Z"
      },
      {
        "duration": 41,
        "start_time": "2021-10-18T14:27:44.140Z"
      },
      {
        "duration": 9,
        "start_time": "2021-10-18T14:27:44.183Z"
      },
      {
        "duration": 12,
        "start_time": "2021-10-18T14:27:44.194Z"
      },
      {
        "duration": 8,
        "start_time": "2021-10-18T14:27:44.209Z"
      },
      {
        "duration": 6,
        "start_time": "2021-10-18T14:27:44.220Z"
      },
      {
        "duration": 52,
        "start_time": "2021-10-18T14:27:44.228Z"
      },
      {
        "duration": 27,
        "start_time": "2021-10-18T14:27:44.285Z"
      },
      {
        "duration": 21,
        "start_time": "2021-10-18T14:27:44.314Z"
      },
      {
        "duration": 46,
        "start_time": "2021-10-18T14:27:44.338Z"
      },
      {
        "duration": 34,
        "start_time": "2021-10-18T14:27:44.389Z"
      },
      {
        "duration": 50,
        "start_time": "2021-10-18T14:27:44.426Z"
      },
      {
        "duration": 22,
        "start_time": "2021-10-18T14:27:44.483Z"
      },
      {
        "duration": 6,
        "start_time": "2021-10-18T14:27:44.508Z"
      },
      {
        "duration": 6,
        "start_time": "2021-10-18T14:27:44.516Z"
      },
      {
        "duration": 5161,
        "start_time": "2021-10-18T14:27:44.524Z"
      },
      {
        "duration": 24,
        "start_time": "2021-10-18T14:27:49.691Z"
      },
      {
        "duration": 10,
        "start_time": "2021-10-18T14:33:36.534Z"
      },
      {
        "duration": 947,
        "start_time": "2021-10-18T14:35:28.960Z"
      },
      {
        "duration": 13,
        "start_time": "2021-10-18T14:35:29.911Z"
      },
      {
        "duration": 10,
        "start_time": "2021-10-18T14:35:29.929Z"
      },
      {
        "duration": 10,
        "start_time": "2021-10-18T14:35:29.967Z"
      },
      {
        "duration": 31,
        "start_time": "2021-10-18T14:35:29.980Z"
      },
      {
        "duration": 10,
        "start_time": "2021-10-18T14:35:30.015Z"
      },
      {
        "duration": 66,
        "start_time": "2021-10-18T14:35:30.027Z"
      },
      {
        "duration": 9,
        "start_time": "2021-10-18T14:35:30.099Z"
      },
      {
        "duration": 20,
        "start_time": "2021-10-18T14:35:30.112Z"
      },
      {
        "duration": 38,
        "start_time": "2021-10-18T14:35:30.136Z"
      },
      {
        "duration": 46,
        "start_time": "2021-10-18T14:35:30.178Z"
      },
      {
        "duration": 25,
        "start_time": "2021-10-18T14:35:30.227Z"
      },
      {
        "duration": 31,
        "start_time": "2021-10-18T14:35:30.255Z"
      },
      {
        "duration": 16,
        "start_time": "2021-10-18T14:35:30.289Z"
      },
      {
        "duration": 9,
        "start_time": "2021-10-18T14:35:30.308Z"
      },
      {
        "duration": 8,
        "start_time": "2021-10-18T14:35:30.320Z"
      },
      {
        "duration": 15,
        "start_time": "2021-10-18T14:35:30.331Z"
      },
      {
        "duration": 41,
        "start_time": "2021-10-18T14:35:30.348Z"
      },
      {
        "duration": 21,
        "start_time": "2021-10-18T14:35:30.392Z"
      },
      {
        "duration": 17,
        "start_time": "2021-10-18T14:35:30.416Z"
      },
      {
        "duration": 62,
        "start_time": "2021-10-18T14:35:30.436Z"
      },
      {
        "duration": 30,
        "start_time": "2021-10-18T14:35:30.500Z"
      },
      {
        "duration": 20,
        "start_time": "2021-10-18T14:35:30.567Z"
      },
      {
        "duration": 8,
        "start_time": "2021-10-18T14:35:30.591Z"
      },
      {
        "duration": 9,
        "start_time": "2021-10-18T14:35:30.602Z"
      },
      {
        "duration": 5687,
        "start_time": "2021-10-18T14:35:30.613Z"
      },
      {
        "duration": 20,
        "start_time": "2021-10-18T14:35:36.303Z"
      },
      {
        "duration": 14,
        "start_time": "2021-10-18T14:35:36.326Z"
      },
      {
        "duration": 18,
        "start_time": "2021-10-18T14:40:59.139Z"
      },
      {
        "duration": 15,
        "start_time": "2021-10-18T14:44:46.777Z"
      },
      {
        "duration": 12,
        "start_time": "2021-10-18T14:45:08.858Z"
      },
      {
        "duration": 11,
        "start_time": "2021-10-18T14:45:37.767Z"
      },
      {
        "duration": 7,
        "start_time": "2021-10-18T14:46:27.111Z"
      },
      {
        "duration": 22,
        "start_time": "2021-10-18T14:48:09.857Z"
      },
      {
        "duration": 13,
        "start_time": "2021-10-18T14:48:40.135Z"
      },
      {
        "duration": 20,
        "start_time": "2021-10-18T14:48:48.872Z"
      },
      {
        "duration": 421,
        "start_time": "2021-10-18T14:49:01.403Z"
      },
      {
        "duration": 18,
        "start_time": "2021-10-18T14:54:18.714Z"
      },
      {
        "duration": 61,
        "start_time": "2021-10-18T14:56:45.376Z"
      },
      {
        "duration": 31,
        "start_time": "2021-10-18T14:57:03.678Z"
      },
      {
        "duration": 16,
        "start_time": "2021-10-18T14:57:32.233Z"
      },
      {
        "duration": 19,
        "start_time": "2021-10-18T14:57:42.690Z"
      },
      {
        "duration": 14,
        "start_time": "2021-10-18T14:58:04.405Z"
      },
      {
        "duration": 16,
        "start_time": "2021-10-18T14:58:21.628Z"
      },
      {
        "duration": 982,
        "start_time": "2021-10-18T14:58:31.071Z"
      },
      {
        "duration": 24,
        "start_time": "2021-10-18T14:58:32.055Z"
      },
      {
        "duration": 12,
        "start_time": "2021-10-18T14:58:32.086Z"
      },
      {
        "duration": 13,
        "start_time": "2021-10-18T14:58:32.105Z"
      },
      {
        "duration": 71,
        "start_time": "2021-10-18T14:58:32.121Z"
      },
      {
        "duration": 13,
        "start_time": "2021-10-18T14:58:32.194Z"
      },
      {
        "duration": 27,
        "start_time": "2021-10-18T14:58:32.210Z"
      },
      {
        "duration": 30,
        "start_time": "2021-10-18T14:58:32.241Z"
      },
      {
        "duration": 14,
        "start_time": "2021-10-18T14:58:32.276Z"
      },
      {
        "duration": 14,
        "start_time": "2021-10-18T14:58:32.293Z"
      },
      {
        "duration": 65,
        "start_time": "2021-10-18T14:58:32.310Z"
      },
      {
        "duration": 18,
        "start_time": "2021-10-18T14:58:32.378Z"
      },
      {
        "duration": 18,
        "start_time": "2021-10-18T14:58:32.401Z"
      },
      {
        "duration": 8,
        "start_time": "2021-10-18T14:58:32.422Z"
      },
      {
        "duration": 38,
        "start_time": "2021-10-18T14:58:32.433Z"
      },
      {
        "duration": 12,
        "start_time": "2021-10-18T14:58:32.475Z"
      },
      {
        "duration": 8,
        "start_time": "2021-10-18T14:58:32.492Z"
      },
      {
        "duration": 8,
        "start_time": "2021-10-18T14:58:32.503Z"
      },
      {
        "duration": 75,
        "start_time": "2021-10-18T14:58:32.514Z"
      },
      {
        "duration": 25,
        "start_time": "2021-10-18T14:58:32.592Z"
      },
      {
        "duration": 22,
        "start_time": "2021-10-18T14:58:32.621Z"
      },
      {
        "duration": 67,
        "start_time": "2021-10-18T14:58:32.646Z"
      },
      {
        "duration": 30,
        "start_time": "2021-10-18T14:58:32.719Z"
      },
      {
        "duration": 30,
        "start_time": "2021-10-18T14:58:32.752Z"
      },
      {
        "duration": 8,
        "start_time": "2021-10-18T14:58:32.785Z"
      },
      {
        "duration": 10,
        "start_time": "2021-10-18T14:58:32.796Z"
      },
      {
        "duration": 5807,
        "start_time": "2021-10-18T14:58:32.809Z"
      },
      {
        "duration": 22,
        "start_time": "2021-10-18T14:58:38.619Z"
      },
      {
        "duration": 25,
        "start_time": "2021-10-18T14:58:38.644Z"
      },
      {
        "duration": 24,
        "start_time": "2021-10-18T14:58:38.672Z"
      },
      {
        "duration": 20,
        "start_time": "2021-10-18T14:58:38.702Z"
      },
      {
        "duration": 11,
        "start_time": "2021-10-18T14:58:38.724Z"
      },
      {
        "duration": 594,
        "start_time": "2021-10-18T14:58:38.738Z"
      },
      {
        "duration": 682,
        "start_time": "2021-10-18T15:00:30.485Z"
      },
      {
        "duration": 905,
        "start_time": "2021-10-18T15:00:54.972Z"
      },
      {
        "duration": 31,
        "start_time": "2021-10-18T15:01:37.918Z"
      },
      {
        "duration": 32,
        "start_time": "2021-10-18T15:01:53.775Z"
      },
      {
        "duration": 28,
        "start_time": "2021-10-18T15:02:33.187Z"
      },
      {
        "duration": 22,
        "start_time": "2021-10-18T15:02:56.980Z"
      },
      {
        "duration": 920,
        "start_time": "2021-10-18T15:03:07.444Z"
      },
      {
        "duration": 25,
        "start_time": "2021-10-18T15:03:08.367Z"
      },
      {
        "duration": 9,
        "start_time": "2021-10-18T15:03:08.396Z"
      },
      {
        "duration": 9,
        "start_time": "2021-10-18T15:03:08.407Z"
      },
      {
        "duration": 74,
        "start_time": "2021-10-18T15:03:08.419Z"
      },
      {
        "duration": 9,
        "start_time": "2021-10-18T15:03:08.496Z"
      },
      {
        "duration": 26,
        "start_time": "2021-10-18T15:03:08.508Z"
      },
      {
        "duration": 40,
        "start_time": "2021-10-18T15:03:08.537Z"
      },
      {
        "duration": 13,
        "start_time": "2021-10-18T15:03:08.582Z"
      },
      {
        "duration": 6,
        "start_time": "2021-10-18T15:03:08.598Z"
      },
      {
        "duration": 19,
        "start_time": "2021-10-18T15:03:08.606Z"
      },
      {
        "duration": 10,
        "start_time": "2021-10-18T15:03:08.627Z"
      },
      {
        "duration": 47,
        "start_time": "2021-10-18T15:03:08.639Z"
      },
      {
        "duration": 7,
        "start_time": "2021-10-18T15:03:08.689Z"
      },
      {
        "duration": 11,
        "start_time": "2021-10-18T15:03:08.698Z"
      },
      {
        "duration": 7,
        "start_time": "2021-10-18T15:03:08.711Z"
      },
      {
        "duration": 18,
        "start_time": "2021-10-18T15:03:08.721Z"
      },
      {
        "duration": 35,
        "start_time": "2021-10-18T15:03:08.742Z"
      },
      {
        "duration": 26,
        "start_time": "2021-10-18T15:03:08.780Z"
      },
      {
        "duration": 27,
        "start_time": "2021-10-18T15:03:08.809Z"
      },
      {
        "duration": 50,
        "start_time": "2021-10-18T15:03:08.838Z"
      },
      {
        "duration": 25,
        "start_time": "2021-10-18T15:03:08.892Z"
      },
      {
        "duration": 26,
        "start_time": "2021-10-18T15:03:08.919Z"
      },
      {
        "duration": 24,
        "start_time": "2021-10-18T15:03:08.979Z"
      },
      {
        "duration": 6,
        "start_time": "2021-10-18T15:03:09.006Z"
      },
      {
        "duration": 5,
        "start_time": "2021-10-18T15:03:09.015Z"
      },
      {
        "duration": 4998,
        "start_time": "2021-10-18T15:03:09.025Z"
      },
      {
        "duration": 20,
        "start_time": "2021-10-18T15:03:14.027Z"
      },
      {
        "duration": 29,
        "start_time": "2021-10-18T15:03:14.049Z"
      },
      {
        "duration": 16,
        "start_time": "2021-10-18T15:03:14.082Z"
      },
      {
        "duration": 16,
        "start_time": "2021-10-18T15:03:14.101Z"
      },
      {
        "duration": 11,
        "start_time": "2021-10-18T15:03:14.119Z"
      },
      {
        "duration": 445,
        "start_time": "2021-10-18T15:03:14.170Z"
      },
      {
        "duration": 392,
        "start_time": "2021-10-18T15:03:26.065Z"
      },
      {
        "duration": 26,
        "start_time": "2021-10-18T15:04:12.411Z"
      },
      {
        "duration": 849,
        "start_time": "2021-10-18T15:04:19.629Z"
      },
      {
        "duration": 19,
        "start_time": "2021-10-18T15:04:20.481Z"
      },
      {
        "duration": 12,
        "start_time": "2021-10-18T15:04:20.504Z"
      },
      {
        "duration": 14,
        "start_time": "2021-10-18T15:04:20.519Z"
      },
      {
        "duration": 63,
        "start_time": "2021-10-18T15:04:20.535Z"
      },
      {
        "duration": 7,
        "start_time": "2021-10-18T15:04:20.601Z"
      },
      {
        "duration": 28,
        "start_time": "2021-10-18T15:04:20.611Z"
      },
      {
        "duration": 34,
        "start_time": "2021-10-18T15:04:20.643Z"
      },
      {
        "duration": 11,
        "start_time": "2021-10-18T15:04:20.685Z"
      },
      {
        "duration": 7,
        "start_time": "2021-10-18T15:04:20.699Z"
      },
      {
        "duration": 20,
        "start_time": "2021-10-18T15:04:20.709Z"
      },
      {
        "duration": 46,
        "start_time": "2021-10-18T15:04:20.732Z"
      },
      {
        "duration": 17,
        "start_time": "2021-10-18T15:04:20.781Z"
      },
      {
        "duration": 13,
        "start_time": "2021-10-18T15:04:20.800Z"
      },
      {
        "duration": 14,
        "start_time": "2021-10-18T15:04:20.816Z"
      },
      {
        "duration": 14,
        "start_time": "2021-10-18T15:04:20.832Z"
      },
      {
        "duration": 27,
        "start_time": "2021-10-18T15:04:20.848Z"
      },
      {
        "duration": 8,
        "start_time": "2021-10-18T15:04:20.886Z"
      },
      {
        "duration": 30,
        "start_time": "2021-10-18T15:04:20.897Z"
      },
      {
        "duration": 40,
        "start_time": "2021-10-18T15:04:20.929Z"
      },
      {
        "duration": 21,
        "start_time": "2021-10-18T15:04:20.975Z"
      },
      {
        "duration": 30,
        "start_time": "2021-10-18T15:04:20.999Z"
      },
      {
        "duration": 49,
        "start_time": "2021-10-18T15:04:21.033Z"
      },
      {
        "duration": 17,
        "start_time": "2021-10-18T15:04:21.085Z"
      },
      {
        "duration": 6,
        "start_time": "2021-10-18T15:04:21.105Z"
      },
      {
        "duration": 12,
        "start_time": "2021-10-18T15:04:21.113Z"
      },
      {
        "duration": 4993,
        "start_time": "2021-10-18T15:04:21.128Z"
      },
      {
        "duration": 20,
        "start_time": "2021-10-18T15:04:26.124Z"
      },
      {
        "duration": 26,
        "start_time": "2021-10-18T15:04:26.147Z"
      },
      {
        "duration": 31,
        "start_time": "2021-10-18T15:04:26.176Z"
      },
      {
        "duration": 17,
        "start_time": "2021-10-18T15:04:26.210Z"
      },
      {
        "duration": 11,
        "start_time": "2021-10-18T15:04:26.230Z"
      },
      {
        "duration": 457,
        "start_time": "2021-10-18T15:04:26.244Z"
      },
      {
        "duration": 19,
        "start_time": "2021-10-18T15:05:07.765Z"
      },
      {
        "duration": 29,
        "start_time": "2021-10-18T15:05:40.411Z"
      },
      {
        "duration": 35,
        "start_time": "2021-10-18T15:06:59.645Z"
      },
      {
        "duration": 26,
        "start_time": "2021-10-18T15:07:29.852Z"
      },
      {
        "duration": 880,
        "start_time": "2021-10-18T15:07:44.997Z"
      },
      {
        "duration": 22,
        "start_time": "2021-10-18T15:07:45.879Z"
      },
      {
        "duration": 10,
        "start_time": "2021-10-18T15:07:45.904Z"
      },
      {
        "duration": 6,
        "start_time": "2021-10-18T15:07:45.917Z"
      },
      {
        "duration": 67,
        "start_time": "2021-10-18T15:07:45.925Z"
      },
      {
        "duration": 8,
        "start_time": "2021-10-18T15:07:45.995Z"
      },
      {
        "duration": 27,
        "start_time": "2021-10-18T15:07:46.005Z"
      },
      {
        "duration": 6,
        "start_time": "2021-10-18T15:07:46.036Z"
      },
      {
        "duration": 31,
        "start_time": "2021-10-18T15:07:46.071Z"
      },
      {
        "duration": 7,
        "start_time": "2021-10-18T15:07:46.105Z"
      },
      {
        "duration": 20,
        "start_time": "2021-10-18T15:07:46.115Z"
      },
      {
        "duration": 32,
        "start_time": "2021-10-18T15:07:46.137Z"
      },
      {
        "duration": 15,
        "start_time": "2021-10-18T15:07:46.177Z"
      },
      {
        "duration": 7,
        "start_time": "2021-10-18T15:07:46.194Z"
      },
      {
        "duration": 10,
        "start_time": "2021-10-18T15:07:46.204Z"
      },
      {
        "duration": 9,
        "start_time": "2021-10-18T15:07:46.216Z"
      },
      {
        "duration": 7,
        "start_time": "2021-10-18T15:07:46.227Z"
      },
      {
        "duration": 9,
        "start_time": "2021-10-18T15:07:46.270Z"
      },
      {
        "duration": 26,
        "start_time": "2021-10-18T15:07:46.282Z"
      },
      {
        "duration": 23,
        "start_time": "2021-10-18T15:07:46.310Z"
      },
      {
        "duration": 47,
        "start_time": "2021-10-18T15:07:46.335Z"
      },
      {
        "duration": 31,
        "start_time": "2021-10-18T15:07:46.384Z"
      },
      {
        "duration": 51,
        "start_time": "2021-10-18T15:07:46.420Z"
      },
      {
        "duration": 23,
        "start_time": "2021-10-18T15:07:46.474Z"
      },
      {
        "duration": 7,
        "start_time": "2021-10-18T15:07:46.500Z"
      },
      {
        "duration": 5,
        "start_time": "2021-10-18T15:07:46.509Z"
      },
      {
        "duration": 5029,
        "start_time": "2021-10-18T15:07:46.517Z"
      },
      {
        "duration": 34,
        "start_time": "2021-10-18T15:07:51.548Z"
      },
      {
        "duration": 12,
        "start_time": "2021-10-18T15:07:51.585Z"
      },
      {
        "duration": 15,
        "start_time": "2021-10-18T15:07:51.599Z"
      },
      {
        "duration": 16,
        "start_time": "2021-10-18T15:07:51.617Z"
      },
      {
        "duration": 51,
        "start_time": "2021-10-18T15:07:51.635Z"
      },
      {
        "duration": 440,
        "start_time": "2021-10-18T15:07:51.688Z"
      },
      {
        "duration": 65,
        "start_time": "2021-10-18T15:12:18.336Z"
      },
      {
        "duration": 844,
        "start_time": "2021-10-18T15:16:11.626Z"
      },
      {
        "duration": 16,
        "start_time": "2021-10-18T15:16:12.476Z"
      },
      {
        "duration": 10,
        "start_time": "2021-10-18T15:16:12.495Z"
      },
      {
        "duration": 9,
        "start_time": "2021-10-18T15:16:12.508Z"
      },
      {
        "duration": 72,
        "start_time": "2021-10-18T15:16:12.520Z"
      },
      {
        "duration": 11,
        "start_time": "2021-10-18T15:16:12.595Z"
      },
      {
        "duration": 62,
        "start_time": "2021-10-18T15:16:12.610Z"
      },
      {
        "duration": 7,
        "start_time": "2021-10-18T15:16:12.676Z"
      },
      {
        "duration": 11,
        "start_time": "2021-10-18T15:16:12.686Z"
      },
      {
        "duration": 10,
        "start_time": "2021-10-18T15:16:12.700Z"
      },
      {
        "duration": 72,
        "start_time": "2021-10-18T15:16:12.713Z"
      },
      {
        "duration": 7,
        "start_time": "2021-10-18T15:16:12.788Z"
      },
      {
        "duration": 13,
        "start_time": "2021-10-18T15:16:12.798Z"
      },
      {
        "duration": 10,
        "start_time": "2021-10-18T15:16:12.814Z"
      },
      {
        "duration": 48,
        "start_time": "2021-10-18T15:16:12.827Z"
      },
      {
        "duration": 9,
        "start_time": "2021-10-18T15:16:12.879Z"
      },
      {
        "duration": 7,
        "start_time": "2021-10-18T15:16:12.890Z"
      },
      {
        "duration": 6,
        "start_time": "2021-10-18T15:16:12.900Z"
      },
      {
        "duration": 57,
        "start_time": "2021-10-18T15:16:12.909Z"
      },
      {
        "duration": 22,
        "start_time": "2021-10-18T15:16:12.976Z"
      },
      {
        "duration": 17,
        "start_time": "2021-10-18T15:16:13.001Z"
      },
      {
        "duration": 52,
        "start_time": "2021-10-18T15:16:13.020Z"
      },
      {
        "duration": 31,
        "start_time": "2021-10-18T15:16:13.077Z"
      },
      {
        "duration": 15,
        "start_time": "2021-10-18T15:16:13.111Z"
      },
      {
        "duration": 42,
        "start_time": "2021-10-18T15:16:13.129Z"
      },
      {
        "duration": 9,
        "start_time": "2021-10-18T15:16:13.173Z"
      },
      {
        "duration": 5108,
        "start_time": "2021-10-18T15:16:13.185Z"
      },
      {
        "duration": 32,
        "start_time": "2021-10-18T15:16:18.297Z"
      },
      {
        "duration": 14,
        "start_time": "2021-10-18T15:16:18.332Z"
      },
      {
        "duration": 17,
        "start_time": "2021-10-18T15:16:18.370Z"
      },
      {
        "duration": 16,
        "start_time": "2021-10-18T15:16:18.389Z"
      },
      {
        "duration": 12,
        "start_time": "2021-10-18T15:16:18.408Z"
      },
      {
        "duration": 717,
        "start_time": "2021-10-18T15:16:18.423Z"
      },
      {
        "duration": 731,
        "start_time": "2021-10-19T13:22:25.776Z"
      },
      {
        "duration": 9,
        "start_time": "2021-10-19T13:22:26.509Z"
      },
      {
        "duration": 7,
        "start_time": "2021-10-19T13:22:26.520Z"
      },
      {
        "duration": 4,
        "start_time": "2021-10-19T13:22:26.529Z"
      },
      {
        "duration": 41,
        "start_time": "2021-10-19T13:22:26.535Z"
      },
      {
        "duration": 8,
        "start_time": "2021-10-19T13:22:26.578Z"
      },
      {
        "duration": 18,
        "start_time": "2021-10-19T13:22:26.588Z"
      },
      {
        "duration": 5,
        "start_time": "2021-10-19T13:22:26.609Z"
      },
      {
        "duration": 6,
        "start_time": "2021-10-19T13:22:26.616Z"
      },
      {
        "duration": 45,
        "start_time": "2021-10-19T13:22:26.624Z"
      },
      {
        "duration": 24,
        "start_time": "2021-10-19T13:22:26.672Z"
      },
      {
        "duration": 8,
        "start_time": "2021-10-19T13:22:26.697Z"
      },
      {
        "duration": 5,
        "start_time": "2021-10-19T13:22:26.707Z"
      },
      {
        "duration": 11,
        "start_time": "2021-10-19T13:22:26.714Z"
      },
      {
        "duration": 8,
        "start_time": "2021-10-19T13:22:26.727Z"
      },
      {
        "duration": 15,
        "start_time": "2021-10-19T13:22:26.736Z"
      },
      {
        "duration": 7,
        "start_time": "2021-10-19T13:22:26.764Z"
      },
      {
        "duration": 9,
        "start_time": "2021-10-19T13:22:26.773Z"
      },
      {
        "duration": 19,
        "start_time": "2021-10-19T13:22:26.785Z"
      },
      {
        "duration": 15,
        "start_time": "2021-10-19T13:22:26.806Z"
      },
      {
        "duration": 52,
        "start_time": "2021-10-19T13:22:26.823Z"
      },
      {
        "duration": 19,
        "start_time": "2021-10-19T13:22:26.877Z"
      },
      {
        "duration": 21,
        "start_time": "2021-10-19T13:22:26.899Z"
      },
      {
        "duration": 11,
        "start_time": "2021-10-19T13:22:26.922Z"
      },
      {
        "duration": 34,
        "start_time": "2021-10-19T13:22:26.935Z"
      },
      {
        "duration": 10,
        "start_time": "2021-10-19T13:22:26.971Z"
      },
      {
        "duration": 3798,
        "start_time": "2021-10-19T13:22:26.983Z"
      },
      {
        "duration": 13,
        "start_time": "2021-10-19T13:22:30.783Z"
      },
      {
        "duration": 23,
        "start_time": "2021-10-19T13:22:30.798Z"
      },
      {
        "duration": 22,
        "start_time": "2021-10-19T13:22:30.823Z"
      },
      {
        "duration": 16,
        "start_time": "2021-10-19T13:22:30.848Z"
      },
      {
        "duration": 15,
        "start_time": "2021-10-19T13:22:30.867Z"
      },
      {
        "duration": 299,
        "start_time": "2021-10-19T13:22:30.884Z"
      },
      {
        "duration": 40,
        "start_time": "2021-10-19T13:24:15.044Z"
      },
      {
        "duration": 13,
        "start_time": "2021-10-19T13:24:33.412Z"
      },
      {
        "duration": 10,
        "start_time": "2021-10-19T13:42:43.685Z"
      },
      {
        "duration": 24,
        "start_time": "2021-10-19T13:43:00.272Z"
      },
      {
        "duration": 8,
        "start_time": "2021-10-19T13:45:34.343Z"
      },
      {
        "duration": 9,
        "start_time": "2021-10-19T13:45:53.816Z"
      },
      {
        "duration": 20,
        "start_time": "2021-10-19T13:47:15.771Z"
      },
      {
        "duration": 8,
        "start_time": "2021-10-19T13:47:21.041Z"
      },
      {
        "duration": 23,
        "start_time": "2021-10-19T13:48:00.736Z"
      },
      {
        "duration": 8,
        "start_time": "2021-10-19T13:48:06.399Z"
      },
      {
        "duration": 335,
        "start_time": "2021-10-19T13:52:38.858Z"
      },
      {
        "duration": 7,
        "start_time": "2021-10-19T13:53:31.960Z"
      },
      {
        "duration": 4,
        "start_time": "2021-10-19T13:53:44.758Z"
      },
      {
        "duration": 7,
        "start_time": "2021-10-19T13:53:53.399Z"
      },
      {
        "duration": 5,
        "start_time": "2021-10-19T13:54:12.279Z"
      },
      {
        "duration": 8,
        "start_time": "2021-10-19T13:54:19.526Z"
      },
      {
        "duration": 264,
        "start_time": "2021-10-19T13:55:09.686Z"
      },
      {
        "duration": 7,
        "start_time": "2021-10-19T13:55:26.505Z"
      },
      {
        "duration": 749,
        "start_time": "2021-10-19T13:57:58.031Z"
      },
      {
        "duration": 10,
        "start_time": "2021-10-19T13:57:58.782Z"
      },
      {
        "duration": 10,
        "start_time": "2021-10-19T13:57:58.797Z"
      },
      {
        "duration": 7,
        "start_time": "2021-10-19T13:57:58.809Z"
      },
      {
        "duration": 26,
        "start_time": "2021-10-19T13:57:58.817Z"
      },
      {
        "duration": 23,
        "start_time": "2021-10-19T13:57:58.845Z"
      },
      {
        "duration": 23,
        "start_time": "2021-10-19T13:57:58.870Z"
      },
      {
        "duration": 10,
        "start_time": "2021-10-19T13:57:58.895Z"
      },
      {
        "duration": 11,
        "start_time": "2021-10-19T13:57:58.907Z"
      },
      {
        "duration": 28,
        "start_time": "2021-10-19T13:57:58.920Z"
      },
      {
        "duration": 22,
        "start_time": "2021-10-19T13:57:58.950Z"
      },
      {
        "duration": 27,
        "start_time": "2021-10-19T13:57:58.973Z"
      },
      {
        "duration": 20,
        "start_time": "2021-10-19T13:57:59.002Z"
      },
      {
        "duration": 19,
        "start_time": "2021-10-19T13:57:59.025Z"
      },
      {
        "duration": 26,
        "start_time": "2021-10-19T13:57:59.046Z"
      },
      {
        "duration": 19,
        "start_time": "2021-10-19T13:57:59.074Z"
      },
      {
        "duration": 24,
        "start_time": "2021-10-19T13:57:59.095Z"
      },
      {
        "duration": 12,
        "start_time": "2021-10-19T13:57:59.122Z"
      },
      {
        "duration": 27,
        "start_time": "2021-10-19T13:57:59.136Z"
      },
      {
        "duration": 22,
        "start_time": "2021-10-19T13:57:59.165Z"
      },
      {
        "duration": 14,
        "start_time": "2021-10-19T13:57:59.189Z"
      },
      {
        "duration": 18,
        "start_time": "2021-10-19T13:57:59.208Z"
      },
      {
        "duration": 38,
        "start_time": "2021-10-19T13:57:59.228Z"
      },
      {
        "duration": 13,
        "start_time": "2021-10-19T13:57:59.268Z"
      },
      {
        "duration": 19,
        "start_time": "2021-10-19T13:57:59.283Z"
      },
      {
        "duration": 15,
        "start_time": "2021-10-19T13:57:59.304Z"
      },
      {
        "duration": 8,
        "start_time": "2021-10-19T13:57:59.322Z"
      },
      {
        "duration": 3617,
        "start_time": "2021-10-19T13:57:59.331Z"
      },
      {
        "duration": 23,
        "start_time": "2021-10-19T13:58:02.950Z"
      },
      {
        "duration": 25,
        "start_time": "2021-10-19T13:58:02.974Z"
      },
      {
        "duration": 23,
        "start_time": "2021-10-19T13:58:03.001Z"
      },
      {
        "duration": 24,
        "start_time": "2021-10-19T13:58:03.026Z"
      },
      {
        "duration": 16,
        "start_time": "2021-10-19T13:58:03.052Z"
      },
      {
        "duration": 6,
        "start_time": "2021-10-19T13:58:03.070Z"
      },
      {
        "duration": 9,
        "start_time": "2021-10-19T13:58:03.078Z"
      },
      {
        "duration": 366,
        "start_time": "2021-10-19T13:58:03.089Z"
      },
      {
        "duration": 5,
        "start_time": "2021-10-19T13:59:02.528Z"
      },
      {
        "duration": 3028,
        "start_time": "2021-10-19T13:59:04.592Z"
      },
      {
        "duration": 14,
        "start_time": "2021-10-19T13:59:07.622Z"
      },
      {
        "duration": 9,
        "start_time": "2021-10-19T13:59:14.430Z"
      },
      {
        "duration": 14,
        "start_time": "2021-10-19T13:59:20.218Z"
      },
      {
        "duration": 23,
        "start_time": "2021-10-19T13:59:22.593Z"
      },
      {
        "duration": 9,
        "start_time": "2021-10-19T14:01:10.438Z"
      },
      {
        "duration": 14,
        "start_time": "2021-10-19T14:01:13.241Z"
      },
      {
        "duration": 23,
        "start_time": "2021-10-19T14:01:21.957Z"
      },
      {
        "duration": 4,
        "start_time": "2021-10-19T14:12:22.749Z"
      },
      {
        "duration": 13,
        "start_time": "2021-10-19T14:13:22.144Z"
      },
      {
        "duration": 31,
        "start_time": "2021-10-19T14:13:35.735Z"
      },
      {
        "duration": 4,
        "start_time": "2021-10-19T14:14:36.326Z"
      },
      {
        "duration": 28,
        "start_time": "2021-10-19T14:14:38.421Z"
      },
      {
        "duration": 756,
        "start_time": "2021-10-19T14:14:48.238Z"
      },
      {
        "duration": 10,
        "start_time": "2021-10-19T14:14:48.996Z"
      },
      {
        "duration": 8,
        "start_time": "2021-10-19T14:14:49.008Z"
      },
      {
        "duration": 7,
        "start_time": "2021-10-19T14:14:49.017Z"
      },
      {
        "duration": 40,
        "start_time": "2021-10-19T14:14:49.026Z"
      },
      {
        "duration": 13,
        "start_time": "2021-10-19T14:14:49.069Z"
      },
      {
        "duration": 18,
        "start_time": "2021-10-19T14:14:49.086Z"
      },
      {
        "duration": 12,
        "start_time": "2021-10-19T14:14:49.107Z"
      },
      {
        "duration": 11,
        "start_time": "2021-10-19T14:14:49.121Z"
      },
      {
        "duration": 31,
        "start_time": "2021-10-19T14:14:49.134Z"
      },
      {
        "duration": 17,
        "start_time": "2021-10-19T14:14:49.168Z"
      },
      {
        "duration": 5,
        "start_time": "2021-10-19T14:14:49.187Z"
      },
      {
        "duration": 10,
        "start_time": "2021-10-19T14:14:49.195Z"
      },
      {
        "duration": 9,
        "start_time": "2021-10-19T14:14:49.207Z"
      },
      {
        "duration": 14,
        "start_time": "2021-10-19T14:14:49.218Z"
      },
      {
        "duration": 33,
        "start_time": "2021-10-19T14:14:49.235Z"
      },
      {
        "duration": 20,
        "start_time": "2021-10-19T14:14:49.270Z"
      },
      {
        "duration": 5,
        "start_time": "2021-10-19T14:14:49.292Z"
      },
      {
        "duration": 22,
        "start_time": "2021-10-19T14:14:49.299Z"
      },
      {
        "duration": 14,
        "start_time": "2021-10-19T14:14:49.323Z"
      },
      {
        "duration": 42,
        "start_time": "2021-10-19T14:14:49.339Z"
      },
      {
        "duration": 21,
        "start_time": "2021-10-19T14:14:49.383Z"
      },
      {
        "duration": 22,
        "start_time": "2021-10-19T14:14:49.407Z"
      },
      {
        "duration": 36,
        "start_time": "2021-10-19T14:14:49.431Z"
      },
      {
        "duration": 6,
        "start_time": "2021-10-19T14:14:49.470Z"
      },
      {
        "duration": 9,
        "start_time": "2021-10-19T14:14:49.479Z"
      },
      {
        "duration": 4386,
        "start_time": "2021-10-19T14:14:49.490Z"
      },
      {
        "duration": 14,
        "start_time": "2021-10-19T14:14:53.878Z"
      },
      {
        "duration": 11,
        "start_time": "2021-10-19T14:14:53.894Z"
      },
      {
        "duration": 29,
        "start_time": "2021-10-19T14:14:53.907Z"
      },
      {
        "duration": 28,
        "start_time": "2021-10-19T14:14:53.938Z"
      },
      {
        "duration": 45,
        "start_time": "2021-10-19T14:14:53.968Z"
      },
      {
        "duration": 7,
        "start_time": "2021-10-19T14:14:54.016Z"
      },
      {
        "duration": 11,
        "start_time": "2021-10-19T14:14:54.025Z"
      },
      {
        "duration": 314,
        "start_time": "2021-10-19T14:14:54.038Z"
      },
      {
        "duration": 354,
        "start_time": "2021-10-19T14:15:20.611Z"
      },
      {
        "duration": 276,
        "start_time": "2021-10-19T14:15:36.472Z"
      },
      {
        "duration": 43,
        "start_time": "2021-10-19T14:15:49.565Z"
      },
      {
        "duration": 360,
        "start_time": "2021-10-19T14:16:21.423Z"
      },
      {
        "duration": 84,
        "start_time": "2021-10-19T14:17:16.787Z"
      },
      {
        "duration": 362,
        "start_time": "2021-10-19T14:17:18.117Z"
      },
      {
        "duration": 731,
        "start_time": "2021-10-19T14:17:35.040Z"
      },
      {
        "duration": 13,
        "start_time": "2021-10-19T14:17:35.773Z"
      },
      {
        "duration": 7,
        "start_time": "2021-10-19T14:17:35.789Z"
      },
      {
        "duration": 20,
        "start_time": "2021-10-19T14:17:35.799Z"
      },
      {
        "duration": 49,
        "start_time": "2021-10-19T14:17:35.821Z"
      },
      {
        "duration": 12,
        "start_time": "2021-10-19T14:17:35.872Z"
      },
      {
        "duration": 22,
        "start_time": "2021-10-19T14:17:35.887Z"
      },
      {
        "duration": 10,
        "start_time": "2021-10-19T14:17:35.911Z"
      },
      {
        "duration": 10,
        "start_time": "2021-10-19T14:17:35.923Z"
      },
      {
        "duration": 17,
        "start_time": "2021-10-19T14:17:35.936Z"
      },
      {
        "duration": 19,
        "start_time": "2021-10-19T14:17:35.954Z"
      },
      {
        "duration": 16,
        "start_time": "2021-10-19T14:17:35.975Z"
      },
      {
        "duration": 12,
        "start_time": "2021-10-19T14:17:35.993Z"
      },
      {
        "duration": 15,
        "start_time": "2021-10-19T14:17:36.007Z"
      },
      {
        "duration": 12,
        "start_time": "2021-10-19T14:17:36.023Z"
      },
      {
        "duration": 9,
        "start_time": "2021-10-19T14:17:36.037Z"
      },
      {
        "duration": 16,
        "start_time": "2021-10-19T14:17:36.047Z"
      },
      {
        "duration": 18,
        "start_time": "2021-10-19T14:17:36.065Z"
      },
      {
        "duration": 23,
        "start_time": "2021-10-19T14:17:36.086Z"
      },
      {
        "duration": 13,
        "start_time": "2021-10-19T14:17:36.111Z"
      },
      {
        "duration": 12,
        "start_time": "2021-10-19T14:17:36.126Z"
      },
      {
        "duration": 35,
        "start_time": "2021-10-19T14:17:36.140Z"
      },
      {
        "duration": 21,
        "start_time": "2021-10-19T14:17:36.177Z"
      },
      {
        "duration": 11,
        "start_time": "2021-10-19T14:17:36.200Z"
      },
      {
        "duration": 6,
        "start_time": "2021-10-19T14:17:36.212Z"
      },
      {
        "duration": 12,
        "start_time": "2021-10-19T14:17:36.220Z"
      },
      {
        "duration": 3855,
        "start_time": "2021-10-19T14:17:36.235Z"
      },
      {
        "duration": 13,
        "start_time": "2021-10-19T14:17:40.093Z"
      },
      {
        "duration": 30,
        "start_time": "2021-10-19T14:17:40.109Z"
      },
      {
        "duration": 32,
        "start_time": "2021-10-19T14:17:40.142Z"
      },
      {
        "duration": 84,
        "start_time": "2021-10-19T14:17:40.176Z"
      },
      {
        "duration": 131,
        "start_time": "2021-10-19T14:17:40.131Z"
      },
      {
        "duration": 132,
        "start_time": "2021-10-19T14:17:40.132Z"
      },
      {
        "duration": 133,
        "start_time": "2021-10-19T14:17:40.133Z"
      },
      {
        "duration": 132,
        "start_time": "2021-10-19T14:17:40.135Z"
      },
      {
        "duration": 5,
        "start_time": "2021-10-19T14:17:55.865Z"
      },
      {
        "duration": 30,
        "start_time": "2021-10-19T14:17:57.309Z"
      },
      {
        "duration": 27,
        "start_time": "2021-10-19T14:18:06.131Z"
      },
      {
        "duration": 7,
        "start_time": "2021-10-19T14:18:23.072Z"
      },
      {
        "duration": 4,
        "start_time": "2021-10-19T14:18:28.561Z"
      },
      {
        "duration": 29,
        "start_time": "2021-10-19T14:18:31.290Z"
      },
      {
        "duration": 3,
        "start_time": "2021-10-19T14:19:05.824Z"
      },
      {
        "duration": 33,
        "start_time": "2021-10-19T14:19:07.243Z"
      },
      {
        "duration": 677,
        "start_time": "2021-10-19T14:19:15.505Z"
      },
      {
        "duration": 11,
        "start_time": "2021-10-19T14:19:16.184Z"
      },
      {
        "duration": 6,
        "start_time": "2021-10-19T14:19:16.197Z"
      },
      {
        "duration": 5,
        "start_time": "2021-10-19T14:19:16.205Z"
      },
      {
        "duration": 19,
        "start_time": "2021-10-19T14:19:16.212Z"
      },
      {
        "duration": 39,
        "start_time": "2021-10-19T14:19:16.233Z"
      },
      {
        "duration": 21,
        "start_time": "2021-10-19T14:19:16.274Z"
      },
      {
        "duration": 5,
        "start_time": "2021-10-19T14:19:16.297Z"
      },
      {
        "duration": 6,
        "start_time": "2021-10-19T14:19:16.304Z"
      },
      {
        "duration": 5,
        "start_time": "2021-10-19T14:19:16.312Z"
      },
      {
        "duration": 48,
        "start_time": "2021-10-19T14:19:16.318Z"
      },
      {
        "duration": 9,
        "start_time": "2021-10-19T14:19:16.368Z"
      },
      {
        "duration": 13,
        "start_time": "2021-10-19T14:19:16.379Z"
      },
      {
        "duration": 8,
        "start_time": "2021-10-19T14:19:16.394Z"
      },
      {
        "duration": 7,
        "start_time": "2021-10-19T14:19:16.404Z"
      },
      {
        "duration": 14,
        "start_time": "2021-10-19T14:19:16.413Z"
      },
      {
        "duration": 15,
        "start_time": "2021-10-19T14:19:16.428Z"
      },
      {
        "duration": 21,
        "start_time": "2021-10-19T14:19:16.445Z"
      },
      {
        "duration": 26,
        "start_time": "2021-10-19T14:19:16.469Z"
      },
      {
        "duration": 14,
        "start_time": "2021-10-19T14:19:16.497Z"
      },
      {
        "duration": 14,
        "start_time": "2021-10-19T14:19:16.513Z"
      },
      {
        "duration": 46,
        "start_time": "2021-10-19T14:19:16.529Z"
      },
      {
        "duration": 22,
        "start_time": "2021-10-19T14:19:16.577Z"
      },
      {
        "duration": 12,
        "start_time": "2021-10-19T14:19:16.601Z"
      },
      {
        "duration": 4,
        "start_time": "2021-10-19T14:19:16.615Z"
      },
      {
        "duration": 5,
        "start_time": "2021-10-19T14:19:16.621Z"
      },
      {
        "duration": 4073,
        "start_time": "2021-10-19T14:19:16.629Z"
      },
      {
        "duration": 14,
        "start_time": "2021-10-19T14:19:20.705Z"
      },
      {
        "duration": 10,
        "start_time": "2021-10-19T14:19:20.721Z"
      },
      {
        "duration": 45,
        "start_time": "2021-10-19T14:19:20.733Z"
      },
      {
        "duration": 4,
        "start_time": "2021-10-19T14:19:20.780Z"
      },
      {
        "duration": 30,
        "start_time": "2021-10-19T14:19:20.786Z"
      },
      {
        "duration": 8,
        "start_time": "2021-10-19T14:19:20.817Z"
      },
      {
        "duration": 8,
        "start_time": "2021-10-19T14:19:20.827Z"
      },
      {
        "duration": 310,
        "start_time": "2021-10-19T14:19:20.837Z"
      },
      {
        "duration": 7,
        "start_time": "2021-10-19T14:24:16.076Z"
      },
      {
        "duration": 8,
        "start_time": "2021-10-19T14:24:34.587Z"
      },
      {
        "duration": 7,
        "start_time": "2021-10-19T14:24:41.402Z"
      },
      {
        "duration": 27,
        "start_time": "2021-10-19T14:25:13.087Z"
      },
      {
        "duration": 14,
        "start_time": "2021-10-19T14:25:19.303Z"
      },
      {
        "duration": 8,
        "start_time": "2021-10-19T14:25:20.086Z"
      },
      {
        "duration": 199,
        "start_time": "2021-10-19T14:26:38.200Z"
      },
      {
        "duration": 8,
        "start_time": "2021-10-19T14:26:47.497Z"
      },
      {
        "duration": 201,
        "start_time": "2021-10-19T14:27:23.749Z"
      },
      {
        "duration": 8,
        "start_time": "2021-10-19T14:27:50.119Z"
      },
      {
        "duration": 247,
        "start_time": "2021-10-19T14:28:03.151Z"
      },
      {
        "duration": 8,
        "start_time": "2021-10-19T14:28:37.649Z"
      },
      {
        "duration": 9,
        "start_time": "2021-10-19T14:29:27.133Z"
      },
      {
        "duration": 6,
        "start_time": "2021-10-19T14:29:42.979Z"
      },
      {
        "duration": 6,
        "start_time": "2021-10-19T14:29:50.797Z"
      },
      {
        "duration": 8,
        "start_time": "2021-10-19T14:30:00.500Z"
      },
      {
        "duration": 8,
        "start_time": "2021-10-19T14:30:55.132Z"
      },
      {
        "duration": 9,
        "start_time": "2021-10-19T14:31:01.470Z"
      },
      {
        "duration": 7,
        "start_time": "2021-10-19T14:31:08.818Z"
      },
      {
        "duration": 7,
        "start_time": "2021-10-19T14:33:41.631Z"
      },
      {
        "duration": 188,
        "start_time": "2021-10-19T14:39:40.385Z"
      },
      {
        "duration": 11,
        "start_time": "2021-10-19T14:39:58.740Z"
      },
      {
        "duration": 8,
        "start_time": "2021-10-19T14:42:47.774Z"
      },
      {
        "duration": 11,
        "start_time": "2021-10-19T14:43:00.541Z"
      },
      {
        "duration": 10,
        "start_time": "2021-10-19T14:47:58.957Z"
      },
      {
        "duration": 370,
        "start_time": "2021-10-19T14:48:14.698Z"
      },
      {
        "duration": 7,
        "start_time": "2021-10-19T14:48:18.767Z"
      },
      {
        "duration": 255,
        "start_time": "2021-10-19T14:49:31.746Z"
      },
      {
        "duration": 7,
        "start_time": "2021-10-19T14:49:36.808Z"
      },
      {
        "duration": 13,
        "start_time": "2021-10-19T14:56:30.057Z"
      },
      {
        "duration": 13,
        "start_time": "2021-10-19T14:57:48.802Z"
      },
      {
        "duration": 14,
        "start_time": "2021-10-19T14:58:18.483Z"
      },
      {
        "duration": 14,
        "start_time": "2021-10-19T14:58:33.983Z"
      },
      {
        "duration": 14,
        "start_time": "2021-10-19T14:58:45.518Z"
      },
      {
        "duration": 272,
        "start_time": "2021-10-19T15:03:27.078Z"
      },
      {
        "duration": 274,
        "start_time": "2021-10-19T15:03:49.854Z"
      },
      {
        "duration": 21,
        "start_time": "2021-10-19T15:04:02.335Z"
      },
      {
        "duration": 14,
        "start_time": "2021-10-19T15:05:19.800Z"
      },
      {
        "duration": 17,
        "start_time": "2021-10-19T15:05:40.032Z"
      },
      {
        "duration": 257,
        "start_time": "2021-10-19T15:06:07.327Z"
      },
      {
        "duration": 370,
        "start_time": "2021-10-19T15:06:12.539Z"
      },
      {
        "duration": 19,
        "start_time": "2021-10-19T15:06:18.991Z"
      },
      {
        "duration": 105,
        "start_time": "2021-10-19T15:07:14.182Z"
      },
      {
        "duration": 315,
        "start_time": "2021-10-19T15:07:20.437Z"
      },
      {
        "duration": 19,
        "start_time": "2021-10-19T15:07:44.287Z"
      },
      {
        "duration": 187,
        "start_time": "2021-10-19T15:08:31.160Z"
      },
      {
        "duration": 18,
        "start_time": "2021-10-19T15:08:53.378Z"
      },
      {
        "duration": 26,
        "start_time": "2021-10-19T15:11:18.294Z"
      },
      {
        "duration": 24,
        "start_time": "2021-10-19T15:12:10.939Z"
      },
      {
        "duration": 1253,
        "start_time": "2021-10-19T15:14:14.901Z"
      },
      {
        "duration": 18,
        "start_time": "2021-10-19T15:14:52.250Z"
      },
      {
        "duration": 18,
        "start_time": "2021-10-19T15:15:44.874Z"
      },
      {
        "duration": 269,
        "start_time": "2021-10-19T15:17:54.496Z"
      },
      {
        "duration": 265,
        "start_time": "2021-10-19T15:18:12.413Z"
      },
      {
        "duration": 19,
        "start_time": "2021-10-19T15:18:30.631Z"
      },
      {
        "duration": 20,
        "start_time": "2021-10-19T15:18:42.314Z"
      },
      {
        "duration": 663,
        "start_time": "2021-10-19T15:20:37.397Z"
      },
      {
        "duration": 10,
        "start_time": "2021-10-19T15:20:38.062Z"
      },
      {
        "duration": 23,
        "start_time": "2021-10-19T15:20:38.074Z"
      },
      {
        "duration": 18,
        "start_time": "2021-10-19T15:20:38.099Z"
      },
      {
        "duration": 32,
        "start_time": "2021-10-19T15:20:38.118Z"
      },
      {
        "duration": 11,
        "start_time": "2021-10-19T15:20:38.152Z"
      },
      {
        "duration": 44,
        "start_time": "2021-10-19T15:20:38.165Z"
      },
      {
        "duration": 6,
        "start_time": "2021-10-19T15:20:38.212Z"
      },
      {
        "duration": 6,
        "start_time": "2021-10-19T15:20:38.222Z"
      },
      {
        "duration": 6,
        "start_time": "2021-10-19T15:20:38.230Z"
      },
      {
        "duration": 13,
        "start_time": "2021-10-19T15:20:38.238Z"
      },
      {
        "duration": 11,
        "start_time": "2021-10-19T15:20:38.253Z"
      },
      {
        "duration": 12,
        "start_time": "2021-10-19T15:20:38.265Z"
      },
      {
        "duration": 7,
        "start_time": "2021-10-19T15:20:38.279Z"
      },
      {
        "duration": 12,
        "start_time": "2021-10-19T15:20:38.288Z"
      },
      {
        "duration": 9,
        "start_time": "2021-10-19T15:20:38.302Z"
      },
      {
        "duration": 9,
        "start_time": "2021-10-19T15:20:38.312Z"
      },
      {
        "duration": 7,
        "start_time": "2021-10-19T15:20:38.323Z"
      },
      {
        "duration": 33,
        "start_time": "2021-10-19T15:20:38.332Z"
      },
      {
        "duration": 16,
        "start_time": "2021-10-19T15:20:38.367Z"
      },
      {
        "duration": 11,
        "start_time": "2021-10-19T15:20:38.385Z"
      },
      {
        "duration": 18,
        "start_time": "2021-10-19T15:20:38.399Z"
      },
      {
        "duration": 58,
        "start_time": "2021-10-19T15:20:38.421Z"
      },
      {
        "duration": 13,
        "start_time": "2021-10-19T15:20:38.481Z"
      },
      {
        "duration": 5,
        "start_time": "2021-10-19T15:20:38.496Z"
      },
      {
        "duration": 5,
        "start_time": "2021-10-19T15:20:38.503Z"
      },
      {
        "duration": 3596,
        "start_time": "2021-10-19T15:20:38.510Z"
      },
      {
        "duration": 14,
        "start_time": "2021-10-19T15:20:42.108Z"
      },
      {
        "duration": 15,
        "start_time": "2021-10-19T15:20:42.123Z"
      },
      {
        "duration": 31,
        "start_time": "2021-10-19T15:20:42.140Z"
      },
      {
        "duration": 4,
        "start_time": "2021-10-19T15:20:42.173Z"
      },
      {
        "duration": 26,
        "start_time": "2021-10-19T15:20:42.179Z"
      },
      {
        "duration": 7,
        "start_time": "2021-10-19T15:20:42.207Z"
      },
      {
        "duration": 14,
        "start_time": "2021-10-19T15:20:42.216Z"
      },
      {
        "duration": 35,
        "start_time": "2021-10-19T15:20:42.231Z"
      },
      {
        "duration": 20,
        "start_time": "2021-10-19T15:20:42.268Z"
      },
      {
        "duration": 282,
        "start_time": "2021-10-19T15:20:42.290Z"
      },
      {
        "duration": 11,
        "start_time": "2021-10-19T15:43:19.714Z"
      },
      {
        "duration": 14,
        "start_time": "2021-10-19T15:43:51.816Z"
      },
      {
        "duration": 14,
        "start_time": "2021-10-19T15:58:23.988Z"
      },
      {
        "duration": 14,
        "start_time": "2021-10-19T15:59:11.650Z"
      },
      {
        "duration": 74,
        "start_time": "2021-10-19T16:08:15.717Z"
      },
      {
        "duration": 68,
        "start_time": "2021-10-19T16:09:09.383Z"
      },
      {
        "duration": 12,
        "start_time": "2021-10-19T16:10:19.283Z"
      },
      {
        "duration": 9,
        "start_time": "2021-10-19T16:11:15.898Z"
      },
      {
        "duration": 17,
        "start_time": "2021-10-19T16:12:26.055Z"
      },
      {
        "duration": 19,
        "start_time": "2021-10-19T16:12:32.345Z"
      },
      {
        "duration": 17,
        "start_time": "2021-10-19T16:13:55.851Z"
      },
      {
        "duration": 7,
        "start_time": "2021-10-19T16:13:57.397Z"
      },
      {
        "duration": 20,
        "start_time": "2021-10-19T16:13:57.941Z"
      },
      {
        "duration": 13,
        "start_time": "2021-10-19T16:14:49.543Z"
      },
      {
        "duration": 8,
        "start_time": "2021-10-19T16:15:52.869Z"
      },
      {
        "duration": 7,
        "start_time": "2021-10-19T16:16:27.094Z"
      },
      {
        "duration": 8,
        "start_time": "2021-10-19T16:16:56.064Z"
      },
      {
        "duration": 17,
        "start_time": "2021-10-19T16:23:26.643Z"
      },
      {
        "duration": 15,
        "start_time": "2021-10-19T16:24:44.493Z"
      },
      {
        "duration": 21,
        "start_time": "2021-10-19T16:27:43.596Z"
      },
      {
        "duration": 31,
        "start_time": "2021-10-19T16:28:04.240Z"
      },
      {
        "duration": 4079,
        "start_time": "2021-10-19T16:30:26.205Z"
      },
      {
        "duration": 6,
        "start_time": "2021-10-19T16:34:52.161Z"
      },
      {
        "duration": 3319,
        "start_time": "2021-10-19T16:34:52.696Z"
      },
      {
        "duration": 13,
        "start_time": "2021-10-19T16:34:56.018Z"
      },
      {
        "duration": 702,
        "start_time": "2021-10-19T16:35:13.892Z"
      },
      {
        "duration": 10,
        "start_time": "2021-10-19T16:35:14.596Z"
      },
      {
        "duration": 7,
        "start_time": "2021-10-19T16:35:14.608Z"
      },
      {
        "duration": 5,
        "start_time": "2021-10-19T16:35:14.618Z"
      },
      {
        "duration": 40,
        "start_time": "2021-10-19T16:35:14.625Z"
      },
      {
        "duration": 5,
        "start_time": "2021-10-19T16:35:14.667Z"
      },
      {
        "duration": 19,
        "start_time": "2021-10-19T16:35:14.674Z"
      },
      {
        "duration": 7,
        "start_time": "2021-10-19T16:35:14.696Z"
      },
      {
        "duration": 8,
        "start_time": "2021-10-19T16:35:14.705Z"
      },
      {
        "duration": 9,
        "start_time": "2021-10-19T16:35:14.715Z"
      },
      {
        "duration": 46,
        "start_time": "2021-10-19T16:35:14.726Z"
      },
      {
        "duration": 16,
        "start_time": "2021-10-19T16:35:14.774Z"
      },
      {
        "duration": 8,
        "start_time": "2021-10-19T16:35:14.792Z"
      },
      {
        "duration": 15,
        "start_time": "2021-10-19T16:35:14.802Z"
      },
      {
        "duration": 19,
        "start_time": "2021-10-19T16:35:14.819Z"
      },
      {
        "duration": 11,
        "start_time": "2021-10-19T16:35:14.840Z"
      },
      {
        "duration": 16,
        "start_time": "2021-10-19T16:35:14.853Z"
      },
      {
        "duration": 18,
        "start_time": "2021-10-19T16:35:14.871Z"
      },
      {
        "duration": 31,
        "start_time": "2021-10-19T16:35:14.891Z"
      },
      {
        "duration": 15,
        "start_time": "2021-10-19T16:35:14.924Z"
      },
      {
        "duration": 15,
        "start_time": "2021-10-19T16:35:14.941Z"
      },
      {
        "duration": 20,
        "start_time": "2021-10-19T16:35:14.958Z"
      },
      {
        "duration": 22,
        "start_time": "2021-10-19T16:35:14.982Z"
      },
      {
        "duration": 14,
        "start_time": "2021-10-19T16:35:15.006Z"
      },
      {
        "duration": 5,
        "start_time": "2021-10-19T16:35:15.023Z"
      },
      {
        "duration": 35,
        "start_time": "2021-10-19T16:35:15.030Z"
      },
      {
        "duration": 3956,
        "start_time": "2021-10-19T16:35:15.067Z"
      },
      {
        "duration": 15,
        "start_time": "2021-10-19T16:35:19.026Z"
      },
      {
        "duration": 26,
        "start_time": "2021-10-19T16:35:19.043Z"
      },
      {
        "duration": 19,
        "start_time": "2021-10-19T16:35:19.071Z"
      },
      {
        "duration": 5,
        "start_time": "2021-10-19T16:35:19.092Z"
      },
      {
        "duration": 16,
        "start_time": "2021-10-19T16:35:19.099Z"
      },
      {
        "duration": 11,
        "start_time": "2021-10-19T16:35:19.117Z"
      },
      {
        "duration": 43,
        "start_time": "2021-10-19T16:35:19.130Z"
      },
      {
        "duration": 14,
        "start_time": "2021-10-19T16:35:19.174Z"
      },
      {
        "duration": 20,
        "start_time": "2021-10-19T16:35:19.190Z"
      },
      {
        "duration": 11,
        "start_time": "2021-10-19T16:35:19.212Z"
      },
      {
        "duration": 48,
        "start_time": "2021-10-19T16:35:19.225Z"
      },
      {
        "duration": 104,
        "start_time": "2021-10-19T16:36:04.171Z"
      },
      {
        "duration": 8,
        "start_time": "2021-10-19T16:36:09.118Z"
      },
      {
        "duration": 4,
        "start_time": "2021-10-19T16:36:39.304Z"
      },
      {
        "duration": 4,
        "start_time": "2021-10-19T16:36:45.311Z"
      },
      {
        "duration": 3435,
        "start_time": "2021-10-19T16:36:46.979Z"
      },
      {
        "duration": 11,
        "start_time": "2021-10-19T16:36:50.417Z"
      },
      {
        "duration": 752,
        "start_time": "2021-10-19T16:36:58.949Z"
      },
      {
        "duration": 10,
        "start_time": "2021-10-19T16:36:59.703Z"
      },
      {
        "duration": 7,
        "start_time": "2021-10-19T16:36:59.715Z"
      },
      {
        "duration": 9,
        "start_time": "2021-10-19T16:36:59.724Z"
      },
      {
        "duration": 38,
        "start_time": "2021-10-19T16:36:59.735Z"
      },
      {
        "duration": 6,
        "start_time": "2021-10-19T16:36:59.775Z"
      },
      {
        "duration": 19,
        "start_time": "2021-10-19T16:36:59.783Z"
      },
      {
        "duration": 6,
        "start_time": "2021-10-19T16:36:59.804Z"
      },
      {
        "duration": 6,
        "start_time": "2021-10-19T16:36:59.813Z"
      },
      {
        "duration": 44,
        "start_time": "2021-10-19T16:36:59.821Z"
      },
      {
        "duration": 15,
        "start_time": "2021-10-19T16:36:59.867Z"
      },
      {
        "duration": 7,
        "start_time": "2021-10-19T16:36:59.884Z"
      },
      {
        "duration": 8,
        "start_time": "2021-10-19T16:36:59.892Z"
      },
      {
        "duration": 9,
        "start_time": "2021-10-19T16:36:59.901Z"
      },
      {
        "duration": 10,
        "start_time": "2021-10-19T16:36:59.912Z"
      },
      {
        "duration": 8,
        "start_time": "2021-10-19T16:36:59.924Z"
      },
      {
        "duration": 32,
        "start_time": "2021-10-19T16:36:59.934Z"
      },
      {
        "duration": 8,
        "start_time": "2021-10-19T16:36:59.968Z"
      },
      {
        "duration": 20,
        "start_time": "2021-10-19T16:36:59.978Z"
      },
      {
        "duration": 20,
        "start_time": "2021-10-19T16:37:00.000Z"
      },
      {
        "duration": 54,
        "start_time": "2021-10-19T16:37:00.022Z"
      },
      {
        "duration": 19,
        "start_time": "2021-10-19T16:37:00.078Z"
      },
      {
        "duration": 23,
        "start_time": "2021-10-19T16:37:00.099Z"
      },
      {
        "duration": 40,
        "start_time": "2021-10-19T16:37:00.124Z"
      },
      {
        "duration": 4,
        "start_time": "2021-10-19T16:37:00.166Z"
      },
      {
        "duration": 7,
        "start_time": "2021-10-19T16:37:00.172Z"
      },
      {
        "duration": 4121,
        "start_time": "2021-10-19T16:37:00.182Z"
      },
      {
        "duration": 22,
        "start_time": "2021-10-19T16:37:04.307Z"
      },
      {
        "duration": 37,
        "start_time": "2021-10-19T16:37:04.332Z"
      },
      {
        "duration": 24,
        "start_time": "2021-10-19T16:37:04.372Z"
      },
      {
        "duration": 21,
        "start_time": "2021-10-19T16:37:04.398Z"
      },
      {
        "duration": 4,
        "start_time": "2021-10-19T16:37:04.422Z"
      },
      {
        "duration": 28,
        "start_time": "2021-10-19T16:37:04.427Z"
      },
      {
        "duration": 21,
        "start_time": "2021-10-19T16:37:04.458Z"
      },
      {
        "duration": 30,
        "start_time": "2021-10-19T16:37:04.481Z"
      },
      {
        "duration": 20,
        "start_time": "2021-10-19T16:37:04.513Z"
      },
      {
        "duration": 23,
        "start_time": "2021-10-19T16:37:04.535Z"
      },
      {
        "duration": 25,
        "start_time": "2021-10-19T16:37:04.560Z"
      },
      {
        "duration": 29,
        "start_time": "2021-10-19T16:37:04.588Z"
      },
      {
        "duration": 4,
        "start_time": "2021-10-19T16:37:36.171Z"
      },
      {
        "duration": 3393,
        "start_time": "2021-10-19T16:37:36.931Z"
      },
      {
        "duration": 13,
        "start_time": "2021-10-19T16:37:40.327Z"
      },
      {
        "duration": 8,
        "start_time": "2021-10-19T16:38:28.503Z"
      },
      {
        "duration": 739,
        "start_time": "2021-10-19T16:39:01.036Z"
      },
      {
        "duration": 11,
        "start_time": "2021-10-19T16:39:01.777Z"
      },
      {
        "duration": 11,
        "start_time": "2021-10-19T16:39:01.791Z"
      },
      {
        "duration": 9,
        "start_time": "2021-10-19T16:39:01.804Z"
      },
      {
        "duration": 27,
        "start_time": "2021-10-19T16:39:01.816Z"
      },
      {
        "duration": 8,
        "start_time": "2021-10-19T16:39:01.865Z"
      },
      {
        "duration": 45,
        "start_time": "2021-10-19T16:39:01.875Z"
      },
      {
        "duration": 6,
        "start_time": "2021-10-19T16:39:01.924Z"
      },
      {
        "duration": 13,
        "start_time": "2021-10-19T16:39:01.932Z"
      },
      {
        "duration": 31,
        "start_time": "2021-10-19T16:39:01.947Z"
      },
      {
        "duration": 26,
        "start_time": "2021-10-19T16:39:01.980Z"
      },
      {
        "duration": 14,
        "start_time": "2021-10-19T16:39:02.008Z"
      },
      {
        "duration": 25,
        "start_time": "2021-10-19T16:39:02.024Z"
      },
      {
        "duration": 23,
        "start_time": "2021-10-19T16:39:02.051Z"
      },
      {
        "duration": 16,
        "start_time": "2021-10-19T16:39:02.076Z"
      },
      {
        "duration": 13,
        "start_time": "2021-10-19T16:39:02.094Z"
      },
      {
        "duration": 16,
        "start_time": "2021-10-19T16:39:02.109Z"
      },
      {
        "duration": 25,
        "start_time": "2021-10-19T16:39:02.126Z"
      },
      {
        "duration": 20,
        "start_time": "2021-10-19T16:39:02.153Z"
      },
      {
        "duration": 14,
        "start_time": "2021-10-19T16:39:02.176Z"
      },
      {
        "duration": 13,
        "start_time": "2021-10-19T16:39:02.192Z"
      },
      {
        "duration": 18,
        "start_time": "2021-10-19T16:39:02.207Z"
      },
      {
        "duration": 54,
        "start_time": "2021-10-19T16:39:02.229Z"
      },
      {
        "duration": 13,
        "start_time": "2021-10-19T16:39:02.285Z"
      },
      {
        "duration": 6,
        "start_time": "2021-10-19T16:39:02.300Z"
      },
      {
        "duration": 13,
        "start_time": "2021-10-19T16:39:02.308Z"
      },
      {
        "duration": 4119,
        "start_time": "2021-10-19T16:39:02.324Z"
      },
      {
        "duration": 23,
        "start_time": "2021-10-19T16:39:06.446Z"
      },
      {
        "duration": 12,
        "start_time": "2021-10-19T16:39:06.471Z"
      },
      {
        "duration": 10,
        "start_time": "2021-10-19T16:39:06.485Z"
      },
      {
        "duration": 16,
        "start_time": "2021-10-19T16:39:06.497Z"
      },
      {
        "duration": 4,
        "start_time": "2021-10-19T16:39:06.515Z"
      },
      {
        "duration": 52,
        "start_time": "2021-10-19T16:39:06.521Z"
      },
      {
        "duration": 16,
        "start_time": "2021-10-19T16:39:06.576Z"
      },
      {
        "duration": 14,
        "start_time": "2021-10-19T16:39:06.595Z"
      },
      {
        "duration": 15,
        "start_time": "2021-10-19T16:39:06.612Z"
      },
      {
        "duration": 49,
        "start_time": "2021-10-19T16:39:06.630Z"
      },
      {
        "duration": 12,
        "start_time": "2021-10-19T16:39:06.681Z"
      },
      {
        "duration": 15,
        "start_time": "2021-10-19T16:39:06.695Z"
      },
      {
        "duration": 4,
        "start_time": "2021-10-19T16:40:20.819Z"
      },
      {
        "duration": 984,
        "start_time": "2021-10-19T16:40:27.042Z"
      },
      {
        "duration": 16,
        "start_time": "2021-10-19T16:40:28.028Z"
      },
      {
        "duration": 22,
        "start_time": "2021-10-19T16:40:28.047Z"
      },
      {
        "duration": 5,
        "start_time": "2021-10-19T16:40:28.071Z"
      },
      {
        "duration": 23,
        "start_time": "2021-10-19T16:40:28.078Z"
      },
      {
        "duration": 11,
        "start_time": "2021-10-19T16:40:28.103Z"
      },
      {
        "duration": 55,
        "start_time": "2021-10-19T16:40:28.116Z"
      },
      {
        "duration": 5,
        "start_time": "2021-10-19T16:40:28.174Z"
      },
      {
        "duration": 11,
        "start_time": "2021-10-19T16:40:28.181Z"
      },
      {
        "duration": 6,
        "start_time": "2021-10-19T16:40:28.194Z"
      },
      {
        "duration": 16,
        "start_time": "2021-10-19T16:40:28.202Z"
      },
      {
        "duration": 10,
        "start_time": "2021-10-19T16:40:28.219Z"
      },
      {
        "duration": 36,
        "start_time": "2021-10-19T16:40:28.231Z"
      },
      {
        "duration": 11,
        "start_time": "2021-10-19T16:40:28.269Z"
      },
      {
        "duration": 6,
        "start_time": "2021-10-19T16:40:28.282Z"
      },
      {
        "duration": 9,
        "start_time": "2021-10-19T16:40:28.290Z"
      },
      {
        "duration": 9,
        "start_time": "2021-10-19T16:40:28.301Z"
      },
      {
        "duration": 11,
        "start_time": "2021-10-19T16:40:28.311Z"
      },
      {
        "duration": 42,
        "start_time": "2021-10-19T16:40:28.324Z"
      },
      {
        "duration": 14,
        "start_time": "2021-10-19T16:40:28.367Z"
      },
      {
        "duration": 15,
        "start_time": "2021-10-19T16:40:28.382Z"
      },
      {
        "duration": 18,
        "start_time": "2021-10-19T16:40:28.399Z"
      },
      {
        "duration": 55,
        "start_time": "2021-10-19T16:40:28.420Z"
      },
      {
        "duration": 12,
        "start_time": "2021-10-19T16:40:28.477Z"
      },
      {
        "duration": 4,
        "start_time": "2021-10-19T16:40:28.491Z"
      },
      {
        "duration": 4,
        "start_time": "2021-10-19T16:40:28.497Z"
      },
      {
        "duration": 4026,
        "start_time": "2021-10-19T16:40:28.503Z"
      },
      {
        "duration": 18,
        "start_time": "2021-10-19T16:40:32.531Z"
      },
      {
        "duration": 14,
        "start_time": "2021-10-19T16:40:32.564Z"
      },
      {
        "duration": 13,
        "start_time": "2021-10-19T16:40:32.580Z"
      },
      {
        "duration": 38,
        "start_time": "2021-10-19T16:40:32.595Z"
      },
      {
        "duration": 5,
        "start_time": "2021-10-19T16:40:32.636Z"
      },
      {
        "duration": 42,
        "start_time": "2021-10-19T16:40:32.643Z"
      },
      {
        "duration": 24,
        "start_time": "2021-10-19T16:40:32.688Z"
      },
      {
        "duration": 18,
        "start_time": "2021-10-19T16:40:32.714Z"
      },
      {
        "duration": 22,
        "start_time": "2021-10-19T16:40:32.734Z"
      },
      {
        "duration": 34,
        "start_time": "2021-10-19T16:40:32.759Z"
      },
      {
        "duration": 11,
        "start_time": "2021-10-19T16:40:32.796Z"
      },
      {
        "duration": 18,
        "start_time": "2021-10-19T16:40:32.808Z"
      },
      {
        "duration": 26,
        "start_time": "2021-10-19T16:41:18.527Z"
      },
      {
        "duration": 10,
        "start_time": "2021-10-19T16:41:54.670Z"
      },
      {
        "duration": 3,
        "start_time": "2021-10-19T16:42:19.607Z"
      },
      {
        "duration": 756,
        "start_time": "2021-10-19T16:42:25.110Z"
      },
      {
        "duration": 9,
        "start_time": "2021-10-19T16:42:25.868Z"
      },
      {
        "duration": 8,
        "start_time": "2021-10-19T16:42:25.880Z"
      },
      {
        "duration": 7,
        "start_time": "2021-10-19T16:42:25.891Z"
      },
      {
        "duration": 22,
        "start_time": "2021-10-19T16:42:25.900Z"
      },
      {
        "duration": 9,
        "start_time": "2021-10-19T16:42:25.924Z"
      },
      {
        "duration": 45,
        "start_time": "2021-10-19T16:42:25.935Z"
      },
      {
        "duration": 15,
        "start_time": "2021-10-19T16:42:25.982Z"
      },
      {
        "duration": 11,
        "start_time": "2021-10-19T16:42:26.000Z"
      },
      {
        "duration": 14,
        "start_time": "2021-10-19T16:42:26.013Z"
      },
      {
        "duration": 26,
        "start_time": "2021-10-19T16:42:26.029Z"
      },
      {
        "duration": 9,
        "start_time": "2021-10-19T16:42:26.056Z"
      },
      {
        "duration": 8,
        "start_time": "2021-10-19T16:42:26.067Z"
      },
      {
        "duration": 16,
        "start_time": "2021-10-19T16:42:26.076Z"
      },
      {
        "duration": 14,
        "start_time": "2021-10-19T16:42:26.094Z"
      },
      {
        "duration": 9,
        "start_time": "2021-10-19T16:42:26.109Z"
      },
      {
        "duration": 10,
        "start_time": "2021-10-19T16:42:26.120Z"
      },
      {
        "duration": 24,
        "start_time": "2021-10-19T16:42:26.131Z"
      },
      {
        "duration": 30,
        "start_time": "2021-10-19T16:42:26.157Z"
      },
      {
        "duration": 14,
        "start_time": "2021-10-19T16:42:26.189Z"
      },
      {
        "duration": 16,
        "start_time": "2021-10-19T16:42:26.205Z"
      },
      {
        "duration": 19,
        "start_time": "2021-10-19T16:42:26.223Z"
      },
      {
        "duration": 34,
        "start_time": "2021-10-19T16:42:26.244Z"
      },
      {
        "duration": 11,
        "start_time": "2021-10-19T16:42:26.280Z"
      },
      {
        "duration": 7,
        "start_time": "2021-10-19T16:42:26.293Z"
      },
      {
        "duration": 16,
        "start_time": "2021-10-19T16:42:26.301Z"
      },
      {
        "duration": 4012,
        "start_time": "2021-10-19T16:42:26.321Z"
      },
      {
        "duration": 29,
        "start_time": "2021-10-19T16:42:30.335Z"
      },
      {
        "duration": 11,
        "start_time": "2021-10-19T16:42:30.366Z"
      },
      {
        "duration": 22,
        "start_time": "2021-10-19T16:42:30.379Z"
      },
      {
        "duration": 19,
        "start_time": "2021-10-19T16:42:30.403Z"
      },
      {
        "duration": 4,
        "start_time": "2021-10-19T16:42:30.424Z"
      },
      {
        "duration": 29,
        "start_time": "2021-10-19T16:42:30.429Z"
      },
      {
        "duration": 18,
        "start_time": "2021-10-19T16:42:30.460Z"
      },
      {
        "duration": 18,
        "start_time": "2021-10-19T16:42:30.480Z"
      },
      {
        "duration": 21,
        "start_time": "2021-10-19T16:42:30.500Z"
      },
      {
        "duration": 19,
        "start_time": "2021-10-19T16:42:30.523Z"
      },
      {
        "duration": 20,
        "start_time": "2021-10-19T16:42:30.544Z"
      },
      {
        "duration": 23,
        "start_time": "2021-10-19T16:42:30.566Z"
      },
      {
        "duration": 8,
        "start_time": "2021-10-19T16:45:32.508Z"
      },
      {
        "duration": 14,
        "start_time": "2021-10-19T16:47:20.595Z"
      },
      {
        "duration": 7,
        "start_time": "2021-10-19T16:47:53.306Z"
      },
      {
        "duration": 11,
        "start_time": "2021-10-19T16:48:34.776Z"
      },
      {
        "duration": 4,
        "start_time": "2021-10-19T17:13:54.790Z"
      },
      {
        "duration": 813,
        "start_time": "2021-10-19T17:14:02.005Z"
      },
      {
        "duration": 14,
        "start_time": "2021-10-19T17:14:02.821Z"
      },
      {
        "duration": 7,
        "start_time": "2021-10-19T17:14:02.838Z"
      },
      {
        "duration": 5,
        "start_time": "2021-10-19T17:14:02.864Z"
      },
      {
        "duration": 23,
        "start_time": "2021-10-19T17:14:02.870Z"
      },
      {
        "duration": 5,
        "start_time": "2021-10-19T17:14:02.894Z"
      },
      {
        "duration": 17,
        "start_time": "2021-10-19T17:14:02.901Z"
      },
      {
        "duration": 5,
        "start_time": "2021-10-19T17:14:02.921Z"
      },
      {
        "duration": 36,
        "start_time": "2021-10-19T17:14:02.928Z"
      },
      {
        "duration": 6,
        "start_time": "2021-10-19T17:14:02.966Z"
      },
      {
        "duration": 16,
        "start_time": "2021-10-19T17:14:02.973Z"
      },
      {
        "duration": 11,
        "start_time": "2021-10-19T17:14:02.991Z"
      },
      {
        "duration": 22,
        "start_time": "2021-10-19T17:14:03.004Z"
      },
      {
        "duration": 21,
        "start_time": "2021-10-19T17:14:03.028Z"
      },
      {
        "duration": 17,
        "start_time": "2021-10-19T17:14:03.052Z"
      },
      {
        "duration": 11,
        "start_time": "2021-10-19T17:14:03.071Z"
      },
      {
        "duration": 8,
        "start_time": "2021-10-19T17:14:03.084Z"
      },
      {
        "duration": 7,
        "start_time": "2021-10-19T17:14:03.095Z"
      },
      {
        "duration": 19,
        "start_time": "2021-10-19T17:14:03.104Z"
      },
      {
        "duration": 14,
        "start_time": "2021-10-19T17:14:03.125Z"
      },
      {
        "duration": 33,
        "start_time": "2021-10-19T17:14:03.141Z"
      },
      {
        "duration": 16,
        "start_time": "2021-10-19T17:14:03.176Z"
      },
      {
        "duration": 21,
        "start_time": "2021-10-19T17:14:03.197Z"
      },
      {
        "duration": 14,
        "start_time": "2021-10-19T17:14:03.220Z"
      },
      {
        "duration": 28,
        "start_time": "2021-10-19T17:14:03.236Z"
      },
      {
        "duration": 8,
        "start_time": "2021-10-19T17:14:03.266Z"
      },
      {
        "duration": 3926,
        "start_time": "2021-10-19T17:14:03.275Z"
      },
      {
        "duration": 16,
        "start_time": "2021-10-19T17:14:07.203Z"
      },
      {
        "duration": 12,
        "start_time": "2021-10-19T17:14:07.221Z"
      },
      {
        "duration": 13,
        "start_time": "2021-10-19T17:14:07.235Z"
      },
      {
        "duration": 20,
        "start_time": "2021-10-19T17:14:07.250Z"
      },
      {
        "duration": 3,
        "start_time": "2021-10-19T17:14:07.272Z"
      },
      {
        "duration": 19,
        "start_time": "2021-10-19T17:14:07.277Z"
      },
      {
        "duration": 9,
        "start_time": "2021-10-19T17:14:07.298Z"
      },
      {
        "duration": 11,
        "start_time": "2021-10-19T17:14:07.309Z"
      },
      {
        "duration": 13,
        "start_time": "2021-10-19T17:14:07.321Z"
      },
      {
        "duration": 19,
        "start_time": "2021-10-19T17:14:07.336Z"
      },
      {
        "duration": 12,
        "start_time": "2021-10-19T17:14:07.363Z"
      },
      {
        "duration": 12,
        "start_time": "2021-10-19T17:14:07.376Z"
      },
      {
        "duration": 701,
        "start_time": "2021-10-19T17:15:46.876Z"
      },
      {
        "duration": 10,
        "start_time": "2021-10-19T17:15:47.579Z"
      },
      {
        "duration": 9,
        "start_time": "2021-10-19T17:15:47.591Z"
      },
      {
        "duration": 7,
        "start_time": "2021-10-19T17:15:47.602Z"
      },
      {
        "duration": 24,
        "start_time": "2021-10-19T17:15:47.610Z"
      },
      {
        "duration": 29,
        "start_time": "2021-10-19T17:15:47.636Z"
      },
      {
        "duration": 19,
        "start_time": "2021-10-19T17:15:47.667Z"
      },
      {
        "duration": 17,
        "start_time": "2021-10-19T17:15:47.688Z"
      },
      {
        "duration": 14,
        "start_time": "2021-10-19T17:15:47.708Z"
      },
      {
        "duration": 20,
        "start_time": "2021-10-19T17:15:47.724Z"
      },
      {
        "duration": 27,
        "start_time": "2021-10-19T17:15:47.746Z"
      },
      {
        "duration": 22,
        "start_time": "2021-10-19T17:15:47.775Z"
      },
      {
        "duration": 22,
        "start_time": "2021-10-19T17:15:47.799Z"
      },
      {
        "duration": 15,
        "start_time": "2021-10-19T17:15:47.823Z"
      },
      {
        "duration": 25,
        "start_time": "2021-10-19T17:15:47.840Z"
      },
      {
        "duration": 25,
        "start_time": "2021-10-19T17:15:47.867Z"
      },
      {
        "duration": 19,
        "start_time": "2021-10-19T17:15:47.894Z"
      },
      {
        "duration": 13,
        "start_time": "2021-10-19T17:15:47.915Z"
      },
      {
        "duration": 24,
        "start_time": "2021-10-19T17:15:47.930Z"
      },
      {
        "duration": 19,
        "start_time": "2021-10-19T17:15:47.956Z"
      },
      {
        "duration": 18,
        "start_time": "2021-10-19T17:15:47.977Z"
      },
      {
        "duration": 38,
        "start_time": "2021-10-19T17:15:47.997Z"
      },
      {
        "duration": 20,
        "start_time": "2021-10-19T17:15:48.039Z"
      },
      {
        "duration": 12,
        "start_time": "2021-10-19T17:15:48.061Z"
      },
      {
        "duration": 17,
        "start_time": "2021-10-19T17:15:48.075Z"
      },
      {
        "duration": 19,
        "start_time": "2021-10-19T17:15:48.093Z"
      },
      {
        "duration": 3451,
        "start_time": "2021-10-19T17:15:48.113Z"
      },
      {
        "duration": 16,
        "start_time": "2021-10-19T17:15:51.566Z"
      },
      {
        "duration": 23,
        "start_time": "2021-10-19T17:15:51.584Z"
      },
      {
        "duration": 11,
        "start_time": "2021-10-19T17:15:51.609Z"
      },
      {
        "duration": 21,
        "start_time": "2021-10-19T17:15:51.622Z"
      },
      {
        "duration": 3,
        "start_time": "2021-10-19T17:15:51.645Z"
      },
      {
        "duration": 26,
        "start_time": "2021-10-19T17:15:51.663Z"
      },
      {
        "duration": 17,
        "start_time": "2021-10-19T17:15:51.691Z"
      },
      {
        "duration": 21,
        "start_time": "2021-10-19T17:15:51.710Z"
      },
      {
        "duration": 14,
        "start_time": "2021-10-19T17:15:51.733Z"
      },
      {
        "duration": 26,
        "start_time": "2021-10-19T17:15:51.749Z"
      },
      {
        "duration": 12,
        "start_time": "2021-10-19T17:15:51.777Z"
      },
      {
        "duration": 13,
        "start_time": "2021-10-19T17:15:51.791Z"
      },
      {
        "duration": 214,
        "start_time": "2021-10-21T06:14:39.782Z"
      },
      {
        "duration": 570,
        "start_time": "2021-10-21T06:14:52.151Z"
      },
      {
        "duration": 9,
        "start_time": "2021-10-21T06:14:52.723Z"
      },
      {
        "duration": 7,
        "start_time": "2021-10-21T06:14:52.734Z"
      },
      {
        "duration": 5,
        "start_time": "2021-10-21T06:14:52.743Z"
      },
      {
        "duration": 15,
        "start_time": "2021-10-21T06:14:52.749Z"
      },
      {
        "duration": 30,
        "start_time": "2021-10-21T06:14:52.766Z"
      },
      {
        "duration": 18,
        "start_time": "2021-10-21T06:14:52.797Z"
      },
      {
        "duration": 4,
        "start_time": "2021-10-21T06:14:52.818Z"
      },
      {
        "duration": 6,
        "start_time": "2021-10-21T06:14:52.824Z"
      },
      {
        "duration": 4,
        "start_time": "2021-10-21T06:14:52.832Z"
      },
      {
        "duration": 13,
        "start_time": "2021-10-21T06:14:52.838Z"
      },
      {
        "duration": 38,
        "start_time": "2021-10-21T06:14:52.853Z"
      },
      {
        "duration": 8,
        "start_time": "2021-10-21T06:14:52.893Z"
      },
      {
        "duration": 6,
        "start_time": "2021-10-21T06:14:52.903Z"
      },
      {
        "duration": 6,
        "start_time": "2021-10-21T06:14:52.910Z"
      },
      {
        "duration": 6,
        "start_time": "2021-10-21T06:14:52.918Z"
      },
      {
        "duration": 11,
        "start_time": "2021-10-21T06:14:52.926Z"
      },
      {
        "duration": 10,
        "start_time": "2021-10-21T06:14:52.938Z"
      },
      {
        "duration": 15,
        "start_time": "2021-10-21T06:14:52.950Z"
      },
      {
        "duration": 37,
        "start_time": "2021-10-21T06:14:52.966Z"
      },
      {
        "duration": 11,
        "start_time": "2021-10-21T06:14:53.005Z"
      },
      {
        "duration": 15,
        "start_time": "2021-10-21T06:14:53.018Z"
      },
      {
        "duration": 18,
        "start_time": "2021-10-21T06:14:53.037Z"
      },
      {
        "duration": 36,
        "start_time": "2021-10-21T06:14:53.057Z"
      },
      {
        "duration": 8,
        "start_time": "2021-10-21T06:14:53.095Z"
      },
      {
        "duration": 5,
        "start_time": "2021-10-21T06:14:53.105Z"
      },
      {
        "duration": 3230,
        "start_time": "2021-10-21T06:14:53.112Z"
      },
      {
        "duration": 14,
        "start_time": "2021-10-21T06:14:56.344Z"
      },
      {
        "duration": 10,
        "start_time": "2021-10-21T06:14:56.360Z"
      },
      {
        "duration": 24,
        "start_time": "2021-10-21T06:14:56.372Z"
      },
      {
        "duration": 17,
        "start_time": "2021-10-21T06:14:56.398Z"
      },
      {
        "duration": 3,
        "start_time": "2021-10-21T06:14:56.416Z"
      },
      {
        "duration": 15,
        "start_time": "2021-10-21T06:14:56.421Z"
      },
      {
        "duration": 8,
        "start_time": "2021-10-21T06:14:56.437Z"
      },
      {
        "duration": 9,
        "start_time": "2021-10-21T06:14:56.447Z"
      },
      {
        "duration": 35,
        "start_time": "2021-10-21T06:14:56.457Z"
      },
      {
        "duration": 18,
        "start_time": "2021-10-21T06:14:56.494Z"
      },
      {
        "duration": 9,
        "start_time": "2021-10-21T06:14:56.513Z"
      },
      {
        "duration": 10,
        "start_time": "2021-10-21T06:14:56.524Z"
      },
      {
        "duration": 71,
        "start_time": "2021-10-21T06:26:41.140Z"
      },
      {
        "duration": 9,
        "start_time": "2021-10-21T06:29:01.596Z"
      },
      {
        "duration": 17,
        "start_time": "2021-10-21T06:30:08.849Z"
      },
      {
        "duration": 4,
        "start_time": "2021-10-21T06:30:34.295Z"
      },
      {
        "duration": 15,
        "start_time": "2021-10-21T06:30:45.766Z"
      },
      {
        "duration": 241,
        "start_time": "2021-10-21T06:30:57.450Z"
      },
      {
        "duration": 10,
        "start_time": "2021-10-21T06:31:47.174Z"
      },
      {
        "duration": 9,
        "start_time": "2021-10-21T06:32:02.111Z"
      },
      {
        "duration": 12,
        "start_time": "2021-10-21T06:33:07.359Z"
      },
      {
        "duration": 8,
        "start_time": "2021-10-21T06:37:45.848Z"
      },
      {
        "duration": 14,
        "start_time": "2021-10-21T07:17:22.874Z"
      },
      {
        "duration": 8,
        "start_time": "2021-10-21T07:17:47.898Z"
      },
      {
        "duration": 9,
        "start_time": "2021-10-21T07:18:35.499Z"
      },
      {
        "duration": 9,
        "start_time": "2021-10-21T07:18:56.294Z"
      },
      {
        "duration": 80,
        "start_time": "2021-10-21T07:19:14.364Z"
      },
      {
        "duration": 7,
        "start_time": "2021-10-21T07:19:16.389Z"
      },
      {
        "duration": 8,
        "start_time": "2021-10-21T07:19:18.045Z"
      },
      {
        "duration": 598,
        "start_time": "2021-10-21T07:19:54.529Z"
      },
      {
        "duration": 9,
        "start_time": "2021-10-21T07:19:55.129Z"
      },
      {
        "duration": 6,
        "start_time": "2021-10-21T07:19:55.140Z"
      },
      {
        "duration": 6,
        "start_time": "2021-10-21T07:19:55.148Z"
      },
      {
        "duration": 37,
        "start_time": "2021-10-21T07:19:55.156Z"
      },
      {
        "duration": 6,
        "start_time": "2021-10-21T07:19:55.195Z"
      },
      {
        "duration": 18,
        "start_time": "2021-10-21T07:19:55.203Z"
      },
      {
        "duration": 6,
        "start_time": "2021-10-21T07:19:55.223Z"
      },
      {
        "duration": 6,
        "start_time": "2021-10-21T07:19:55.233Z"
      },
      {
        "duration": 5,
        "start_time": "2021-10-21T07:19:55.242Z"
      },
      {
        "duration": 12,
        "start_time": "2021-10-21T07:19:55.291Z"
      },
      {
        "duration": 6,
        "start_time": "2021-10-21T07:19:55.305Z"
      },
      {
        "duration": 6,
        "start_time": "2021-10-21T07:19:55.313Z"
      },
      {
        "duration": 7,
        "start_time": "2021-10-21T07:19:55.320Z"
      },
      {
        "duration": 6,
        "start_time": "2021-10-21T07:19:55.329Z"
      },
      {
        "duration": 4,
        "start_time": "2021-10-21T07:19:55.337Z"
      },
      {
        "duration": 5,
        "start_time": "2021-10-21T07:19:55.343Z"
      },
      {
        "duration": 5,
        "start_time": "2021-10-21T07:19:55.392Z"
      },
      {
        "duration": 9,
        "start_time": "2021-10-21T07:19:55.399Z"
      },
      {
        "duration": 12,
        "start_time": "2021-10-21T07:19:55.409Z"
      },
      {
        "duration": 8,
        "start_time": "2021-10-21T07:19:55.422Z"
      },
      {
        "duration": 106,
        "start_time": "2021-10-21T07:19:55.432Z"
      },
      {
        "duration": 8,
        "start_time": "2021-10-21T07:19:55.540Z"
      },
      {
        "duration": 7,
        "start_time": "2021-10-21T07:19:55.549Z"
      },
      {
        "duration": 33,
        "start_time": "2021-10-21T07:19:55.558Z"
      },
      {
        "duration": 13,
        "start_time": "2021-10-21T07:19:55.592Z"
      },
      {
        "duration": 8,
        "start_time": "2021-10-21T07:19:55.607Z"
      },
      {
        "duration": 15,
        "start_time": "2021-10-21T07:19:55.617Z"
      },
      {
        "duration": 18,
        "start_time": "2021-10-21T07:19:55.633Z"
      },
      {
        "duration": 39,
        "start_time": "2021-10-21T07:19:55.652Z"
      },
      {
        "duration": 4,
        "start_time": "2021-10-21T07:19:55.693Z"
      },
      {
        "duration": 4,
        "start_time": "2021-10-21T07:19:55.698Z"
      },
      {
        "duration": 3202,
        "start_time": "2021-10-21T07:19:55.704Z"
      },
      {
        "duration": 12,
        "start_time": "2021-10-21T07:19:58.908Z"
      },
      {
        "duration": 11,
        "start_time": "2021-10-21T07:19:58.922Z"
      },
      {
        "duration": 11,
        "start_time": "2021-10-21T07:19:58.934Z"
      },
      {
        "duration": 15,
        "start_time": "2021-10-21T07:19:58.946Z"
      },
      {
        "duration": 3,
        "start_time": "2021-10-21T07:19:58.963Z"
      },
      {
        "duration": 35,
        "start_time": "2021-10-21T07:19:58.967Z"
      },
      {
        "duration": 9,
        "start_time": "2021-10-21T07:19:59.003Z"
      },
      {
        "duration": 11,
        "start_time": "2021-10-21T07:19:59.013Z"
      },
      {
        "duration": 11,
        "start_time": "2021-10-21T07:19:59.026Z"
      },
      {
        "duration": 18,
        "start_time": "2021-10-21T07:19:59.039Z"
      },
      {
        "duration": 11,
        "start_time": "2021-10-21T07:19:59.090Z"
      },
      {
        "duration": 12,
        "start_time": "2021-10-21T07:19:59.103Z"
      },
      {
        "duration": 7,
        "start_time": "2021-10-21T07:20:39.919Z"
      },
      {
        "duration": 13,
        "start_time": "2021-10-21T07:20:43.609Z"
      },
      {
        "duration": 588,
        "start_time": "2021-10-21T07:22:03.147Z"
      },
      {
        "duration": 9,
        "start_time": "2021-10-21T07:22:03.737Z"
      },
      {
        "duration": 9,
        "start_time": "2021-10-21T07:22:03.748Z"
      },
      {
        "duration": 5,
        "start_time": "2021-10-21T07:22:03.759Z"
      },
      {
        "duration": 33,
        "start_time": "2021-10-21T07:22:03.765Z"
      },
      {
        "duration": 7,
        "start_time": "2021-10-21T07:22:03.799Z"
      },
      {
        "duration": 20,
        "start_time": "2021-10-21T07:22:03.808Z"
      },
      {
        "duration": 6,
        "start_time": "2021-10-21T07:22:03.830Z"
      },
      {
        "duration": 6,
        "start_time": "2021-10-21T07:22:03.838Z"
      },
      {
        "duration": 5,
        "start_time": "2021-10-21T07:22:03.846Z"
      },
      {
        "duration": 42,
        "start_time": "2021-10-21T07:22:03.852Z"
      },
      {
        "duration": 8,
        "start_time": "2021-10-21T07:22:03.896Z"
      },
      {
        "duration": 6,
        "start_time": "2021-10-21T07:22:03.906Z"
      },
      {
        "duration": 8,
        "start_time": "2021-10-21T07:22:03.913Z"
      },
      {
        "duration": 9,
        "start_time": "2021-10-21T07:22:03.922Z"
      },
      {
        "duration": 10,
        "start_time": "2021-10-21T07:22:03.932Z"
      },
      {
        "duration": 10,
        "start_time": "2021-10-21T07:22:03.943Z"
      },
      {
        "duration": 7,
        "start_time": "2021-10-21T07:22:03.955Z"
      },
      {
        "duration": 15,
        "start_time": "2021-10-21T07:22:03.963Z"
      },
      {
        "duration": 15,
        "start_time": "2021-10-21T07:22:03.980Z"
      },
      {
        "duration": 9,
        "start_time": "2021-10-21T07:22:03.997Z"
      },
      {
        "duration": 83,
        "start_time": "2021-10-21T07:22:04.008Z"
      },
      {
        "duration": 7,
        "start_time": "2021-10-21T07:22:04.094Z"
      },
      {
        "duration": 5,
        "start_time": "2021-10-21T07:22:04.103Z"
      },
      {
        "duration": 14,
        "start_time": "2021-10-21T07:22:04.110Z"
      },
      {
        "duration": 12,
        "start_time": "2021-10-21T07:22:04.125Z"
      },
      {
        "duration": 7,
        "start_time": "2021-10-21T07:22:04.138Z"
      },
      {
        "duration": 46,
        "start_time": "2021-10-21T07:22:04.147Z"
      },
      {
        "duration": 18,
        "start_time": "2021-10-21T07:22:04.194Z"
      },
      {
        "duration": 10,
        "start_time": "2021-10-21T07:22:04.214Z"
      },
      {
        "duration": 6,
        "start_time": "2021-10-21T07:22:04.225Z"
      },
      {
        "duration": 4,
        "start_time": "2021-10-21T07:22:04.232Z"
      },
      {
        "duration": 3312,
        "start_time": "2021-10-21T07:22:04.237Z"
      },
      {
        "duration": 13,
        "start_time": "2021-10-21T07:22:07.551Z"
      },
      {
        "duration": 27,
        "start_time": "2021-10-21T07:22:07.565Z"
      },
      {
        "duration": 6,
        "start_time": "2021-10-21T07:22:07.594Z"
      },
      {
        "duration": 17,
        "start_time": "2021-10-21T07:22:07.601Z"
      },
      {
        "duration": 4,
        "start_time": "2021-10-21T07:22:07.620Z"
      },
      {
        "duration": 19,
        "start_time": "2021-10-21T07:22:07.625Z"
      },
      {
        "duration": 11,
        "start_time": "2021-10-21T07:22:07.645Z"
      },
      {
        "duration": 11,
        "start_time": "2021-10-21T07:22:07.657Z"
      },
      {
        "duration": 31,
        "start_time": "2021-10-21T07:22:07.669Z"
      },
      {
        "duration": 16,
        "start_time": "2021-10-21T07:22:07.701Z"
      },
      {
        "duration": 9,
        "start_time": "2021-10-21T07:22:07.719Z"
      },
      {
        "duration": 9,
        "start_time": "2021-10-21T07:22:07.729Z"
      },
      {
        "duration": 7,
        "start_time": "2021-10-21T07:22:57.005Z"
      },
      {
        "duration": 636,
        "start_time": "2021-10-21T07:23:42.375Z"
      },
      {
        "duration": 8,
        "start_time": "2021-10-21T07:23:43.013Z"
      },
      {
        "duration": 8,
        "start_time": "2021-10-21T07:23:43.023Z"
      },
      {
        "duration": 6,
        "start_time": "2021-10-21T07:23:43.032Z"
      },
      {
        "duration": 15,
        "start_time": "2021-10-21T07:23:43.039Z"
      },
      {
        "duration": 4,
        "start_time": "2021-10-21T07:23:43.056Z"
      },
      {
        "duration": 42,
        "start_time": "2021-10-21T07:23:43.061Z"
      },
      {
        "duration": 6,
        "start_time": "2021-10-21T07:23:43.106Z"
      },
      {
        "duration": 7,
        "start_time": "2021-10-21T07:23:43.114Z"
      },
      {
        "duration": 6,
        "start_time": "2021-10-21T07:23:43.123Z"
      },
      {
        "duration": 12,
        "start_time": "2021-10-21T07:23:43.131Z"
      },
      {
        "duration": 9,
        "start_time": "2021-10-21T07:23:43.144Z"
      },
      {
        "duration": 42,
        "start_time": "2021-10-21T07:23:43.154Z"
      },
      {
        "duration": 6,
        "start_time": "2021-10-21T07:23:43.198Z"
      },
      {
        "duration": 6,
        "start_time": "2021-10-21T07:23:43.205Z"
      },
      {
        "duration": 6,
        "start_time": "2021-10-21T07:23:43.212Z"
      },
      {
        "duration": 5,
        "start_time": "2021-10-21T07:23:43.219Z"
      },
      {
        "duration": 5,
        "start_time": "2021-10-21T07:23:43.225Z"
      },
      {
        "duration": 9,
        "start_time": "2021-10-21T07:23:43.231Z"
      },
      {
        "duration": 12,
        "start_time": "2021-10-21T07:23:43.241Z"
      },
      {
        "duration": 41,
        "start_time": "2021-10-21T07:23:43.255Z"
      },
      {
        "duration": 68,
        "start_time": "2021-10-21T07:23:43.297Z"
      },
      {
        "duration": 6,
        "start_time": "2021-10-21T07:23:43.368Z"
      },
      {
        "duration": 6,
        "start_time": "2021-10-21T07:23:43.392Z"
      },
      {
        "duration": 14,
        "start_time": "2021-10-21T07:23:43.400Z"
      },
      {
        "duration": 11,
        "start_time": "2021-10-21T07:23:43.416Z"
      },
      {
        "duration": 7,
        "start_time": "2021-10-21T07:23:43.429Z"
      },
      {
        "duration": 14,
        "start_time": "2021-10-21T07:23:43.437Z"
      },
      {
        "duration": 54,
        "start_time": "2021-10-21T07:23:43.452Z"
      },
      {
        "duration": 9,
        "start_time": "2021-10-21T07:23:43.508Z"
      },
      {
        "duration": 4,
        "start_time": "2021-10-21T07:23:43.518Z"
      },
      {
        "duration": 7,
        "start_time": "2021-10-21T07:23:43.523Z"
      },
      {
        "duration": 3394,
        "start_time": "2021-10-21T07:23:43.531Z"
      },
      {
        "duration": 14,
        "start_time": "2021-10-21T07:23:46.927Z"
      },
      {
        "duration": 10,
        "start_time": "2021-10-21T07:23:46.943Z"
      },
      {
        "duration": 8,
        "start_time": "2021-10-21T07:23:46.955Z"
      },
      {
        "duration": 34,
        "start_time": "2021-10-21T07:23:46.964Z"
      },
      {
        "duration": 8,
        "start_time": "2021-10-21T07:23:47.000Z"
      },
      {
        "duration": 17,
        "start_time": "2021-10-21T07:23:47.010Z"
      },
      {
        "duration": 10,
        "start_time": "2021-10-21T07:23:47.028Z"
      },
      {
        "duration": 11,
        "start_time": "2021-10-21T07:23:47.040Z"
      },
      {
        "duration": 11,
        "start_time": "2021-10-21T07:23:47.053Z"
      },
      {
        "duration": 25,
        "start_time": "2021-10-21T07:23:47.092Z"
      },
      {
        "duration": 9,
        "start_time": "2021-10-21T07:23:47.119Z"
      },
      {
        "duration": 11,
        "start_time": "2021-10-21T07:23:47.130Z"
      },
      {
        "duration": 60,
        "start_time": "2021-10-21T07:26:06.022Z"
      },
      {
        "duration": 1309,
        "start_time": "2021-10-21T07:26:48.131Z"
      },
      {
        "duration": 9,
        "start_time": "2021-10-21T07:26:49.442Z"
      },
      {
        "duration": 7,
        "start_time": "2021-10-21T07:26:49.453Z"
      },
      {
        "duration": 4,
        "start_time": "2021-10-21T07:26:49.462Z"
      },
      {
        "duration": 36,
        "start_time": "2021-10-21T07:26:49.468Z"
      },
      {
        "duration": 5,
        "start_time": "2021-10-21T07:26:49.506Z"
      },
      {
        "duration": 21,
        "start_time": "2021-10-21T07:26:49.513Z"
      },
      {
        "duration": 6,
        "start_time": "2021-10-21T07:26:49.536Z"
      },
      {
        "duration": 6,
        "start_time": "2021-10-21T07:26:49.544Z"
      },
      {
        "duration": 5,
        "start_time": "2021-10-21T07:26:49.552Z"
      },
      {
        "duration": 45,
        "start_time": "2021-10-21T07:26:49.558Z"
      },
      {
        "duration": 6,
        "start_time": "2021-10-21T07:26:49.605Z"
      },
      {
        "duration": 5,
        "start_time": "2021-10-21T07:26:49.613Z"
      },
      {
        "duration": 8,
        "start_time": "2021-10-21T07:26:49.620Z"
      },
      {
        "duration": 5,
        "start_time": "2021-10-21T07:26:49.629Z"
      },
      {
        "duration": 7,
        "start_time": "2021-10-21T07:26:49.636Z"
      },
      {
        "duration": 8,
        "start_time": "2021-10-21T07:26:49.645Z"
      },
      {
        "duration": 6,
        "start_time": "2021-10-21T07:26:49.654Z"
      },
      {
        "duration": 9,
        "start_time": "2021-10-21T07:26:49.692Z"
      },
      {
        "duration": 11,
        "start_time": "2021-10-21T07:26:49.702Z"
      },
      {
        "duration": 7,
        "start_time": "2021-10-21T07:26:49.714Z"
      },
      {
        "duration": 14,
        "start_time": "2021-10-21T07:26:49.722Z"
      },
      {
        "duration": 5,
        "start_time": "2021-10-21T07:26:49.738Z"
      },
      {
        "duration": 50,
        "start_time": "2021-10-21T07:26:49.745Z"
      },
      {
        "duration": 13,
        "start_time": "2021-10-21T07:26:49.796Z"
      },
      {
        "duration": 8,
        "start_time": "2021-10-21T07:26:49.810Z"
      },
      {
        "duration": 14,
        "start_time": "2021-10-21T07:26:49.821Z"
      },
      {
        "duration": 17,
        "start_time": "2021-10-21T07:26:49.836Z"
      },
      {
        "duration": 37,
        "start_time": "2021-10-21T07:26:49.855Z"
      },
      {
        "duration": 4,
        "start_time": "2021-10-21T07:26:49.893Z"
      },
      {
        "duration": 6,
        "start_time": "2021-10-21T07:26:49.899Z"
      },
      {
        "duration": 3141,
        "start_time": "2021-10-21T07:26:49.907Z"
      },
      {
        "duration": 12,
        "start_time": "2021-10-21T07:26:53.050Z"
      },
      {
        "duration": 10,
        "start_time": "2021-10-21T07:26:53.064Z"
      },
      {
        "duration": 7,
        "start_time": "2021-10-21T07:26:53.091Z"
      },
      {
        "duration": 15,
        "start_time": "2021-10-21T07:26:53.099Z"
      },
      {
        "duration": 3,
        "start_time": "2021-10-21T07:26:53.116Z"
      },
      {
        "duration": 15,
        "start_time": "2021-10-21T07:26:53.120Z"
      },
      {
        "duration": 9,
        "start_time": "2021-10-21T07:26:53.137Z"
      },
      {
        "duration": 10,
        "start_time": "2021-10-21T07:26:53.148Z"
      },
      {
        "duration": 41,
        "start_time": "2021-10-21T07:26:53.159Z"
      },
      {
        "duration": 16,
        "start_time": "2021-10-21T07:26:53.202Z"
      },
      {
        "duration": 9,
        "start_time": "2021-10-21T07:26:53.220Z"
      },
      {
        "duration": 11,
        "start_time": "2021-10-21T07:26:53.230Z"
      },
      {
        "duration": 15,
        "start_time": "2021-10-21T07:30:32.675Z"
      },
      {
        "duration": 22,
        "start_time": "2021-10-21T07:33:04.639Z"
      },
      {
        "duration": 5,
        "start_time": "2021-10-21T07:33:09.703Z"
      },
      {
        "duration": 612,
        "start_time": "2021-10-21T07:33:09.709Z"
      },
      {
        "duration": 9,
        "start_time": "2021-10-21T07:33:10.323Z"
      },
      {
        "duration": 6,
        "start_time": "2021-10-21T07:33:10.333Z"
      },
      {
        "duration": 4,
        "start_time": "2021-10-21T07:33:10.341Z"
      },
      {
        "duration": 16,
        "start_time": "2021-10-21T07:33:10.347Z"
      },
      {
        "duration": 29,
        "start_time": "2021-10-21T07:33:10.365Z"
      },
      {
        "duration": 25,
        "start_time": "2021-10-21T07:33:10.395Z"
      },
      {
        "duration": 5,
        "start_time": "2021-10-21T07:33:10.422Z"
      },
      {
        "duration": 5,
        "start_time": "2021-10-21T07:33:10.429Z"
      },
      {
        "duration": 4,
        "start_time": "2021-10-21T07:33:10.436Z"
      },
      {
        "duration": 13,
        "start_time": "2021-10-21T07:33:10.441Z"
      },
      {
        "duration": 3,
        "start_time": "2021-10-21T07:33:10.456Z"
      },
      {
        "duration": 5,
        "start_time": "2021-10-21T07:33:10.491Z"
      },
      {
        "duration": 5,
        "start_time": "2021-10-21T07:33:10.498Z"
      },
      {
        "duration": 8,
        "start_time": "2021-10-21T07:33:10.504Z"
      },
      {
        "duration": 5,
        "start_time": "2021-10-21T07:33:10.514Z"
      },
      {
        "duration": 7,
        "start_time": "2021-10-21T07:33:10.520Z"
      },
      {
        "duration": 5,
        "start_time": "2021-10-21T07:33:10.528Z"
      },
      {
        "duration": 11,
        "start_time": "2021-10-21T07:33:10.534Z"
      },
      {
        "duration": 45,
        "start_time": "2021-10-21T07:33:10.546Z"
      },
      {
        "duration": 9,
        "start_time": "2021-10-21T07:33:10.593Z"
      },
      {
        "duration": 13,
        "start_time": "2021-10-21T07:33:10.603Z"
      },
      {
        "duration": 5,
        "start_time": "2021-10-21T07:33:10.618Z"
      },
      {
        "duration": 16,
        "start_time": "2021-10-21T07:33:10.624Z"
      },
      {
        "duration": 12,
        "start_time": "2021-10-21T07:33:10.641Z"
      },
      {
        "duration": 36,
        "start_time": "2021-10-21T07:33:10.656Z"
      },
      {
        "duration": 16,
        "start_time": "2021-10-21T07:33:10.694Z"
      },
      {
        "duration": 18,
        "start_time": "2021-10-21T07:33:10.711Z"
      },
      {
        "duration": 10,
        "start_time": "2021-10-21T07:33:10.730Z"
      },
      {
        "duration": 4,
        "start_time": "2021-10-21T07:33:10.741Z"
      },
      {
        "duration": 3211,
        "start_time": "2021-10-21T07:33:10.746Z"
      },
      {
        "duration": 14,
        "start_time": "2021-10-21T07:33:13.959Z"
      },
      {
        "duration": 25,
        "start_time": "2021-10-21T07:33:13.975Z"
      },
      {
        "duration": 9,
        "start_time": "2021-10-21T07:33:14.001Z"
      },
      {
        "duration": 14,
        "start_time": "2021-10-21T07:33:14.012Z"
      },
      {
        "duration": 4,
        "start_time": "2021-10-21T07:33:14.027Z"
      },
      {
        "duration": 17,
        "start_time": "2021-10-21T07:33:14.032Z"
      },
      {
        "duration": 8,
        "start_time": "2021-10-21T07:33:14.051Z"
      },
      {
        "duration": 34,
        "start_time": "2021-10-21T07:33:14.061Z"
      },
      {
        "duration": 12,
        "start_time": "2021-10-21T07:33:14.096Z"
      },
      {
        "duration": 17,
        "start_time": "2021-10-21T07:33:14.109Z"
      },
      {
        "duration": 9,
        "start_time": "2021-10-21T07:33:14.128Z"
      },
      {
        "duration": 11,
        "start_time": "2021-10-21T07:33:14.138Z"
      },
      {
        "duration": 56,
        "start_time": "2021-10-21T07:36:53.400Z"
      },
      {
        "duration": 3,
        "start_time": "2021-10-21T07:38:05.831Z"
      },
      {
        "duration": 499,
        "start_time": "2021-10-21T07:40:50.251Z"
      },
      {
        "duration": 467,
        "start_time": "2021-10-21T07:41:08.485Z"
      },
      {
        "duration": 239,
        "start_time": "2021-10-21T07:41:21.531Z"
      },
      {
        "duration": 8,
        "start_time": "2021-10-21T07:41:35.845Z"
      },
      {
        "duration": 7,
        "start_time": "2021-10-21T07:41:56.726Z"
      },
      {
        "duration": 5,
        "start_time": "2021-10-21T07:42:06.374Z"
      },
      {
        "duration": 644,
        "start_time": "2021-10-21T07:42:06.380Z"
      },
      {
        "duration": 9,
        "start_time": "2021-10-21T07:42:07.026Z"
      },
      {
        "duration": 19,
        "start_time": "2021-10-21T07:42:07.037Z"
      },
      {
        "duration": 23,
        "start_time": "2021-10-21T07:42:07.057Z"
      },
      {
        "duration": 31,
        "start_time": "2021-10-21T07:42:07.082Z"
      },
      {
        "duration": 21,
        "start_time": "2021-10-21T07:42:07.114Z"
      },
      {
        "duration": 33,
        "start_time": "2021-10-21T07:42:07.138Z"
      },
      {
        "duration": 23,
        "start_time": "2021-10-21T07:42:07.173Z"
      },
      {
        "duration": 26,
        "start_time": "2021-10-21T07:42:07.198Z"
      },
      {
        "duration": 21,
        "start_time": "2021-10-21T07:42:07.225Z"
      },
      {
        "duration": 25,
        "start_time": "2021-10-21T07:42:07.247Z"
      },
      {
        "duration": 18,
        "start_time": "2021-10-21T07:42:07.273Z"
      },
      {
        "duration": 21,
        "start_time": "2021-10-21T07:42:07.293Z"
      },
      {
        "duration": 21,
        "start_time": "2021-10-21T07:42:07.316Z"
      },
      {
        "duration": 15,
        "start_time": "2021-10-21T07:42:07.339Z"
      },
      {
        "duration": 15,
        "start_time": "2021-10-21T07:42:07.355Z"
      },
      {
        "duration": 20,
        "start_time": "2021-10-21T07:42:07.371Z"
      },
      {
        "duration": 21,
        "start_time": "2021-10-21T07:42:07.392Z"
      },
      {
        "duration": 25,
        "start_time": "2021-10-21T07:42:07.415Z"
      },
      {
        "duration": 22,
        "start_time": "2021-10-21T07:42:07.441Z"
      },
      {
        "duration": 15,
        "start_time": "2021-10-21T07:42:07.464Z"
      },
      {
        "duration": 25,
        "start_time": "2021-10-21T07:42:07.482Z"
      },
      {
        "duration": 17,
        "start_time": "2021-10-21T07:42:07.509Z"
      },
      {
        "duration": 25,
        "start_time": "2021-10-21T07:42:07.527Z"
      },
      {
        "duration": 17,
        "start_time": "2021-10-21T07:42:07.554Z"
      },
      {
        "duration": 14,
        "start_time": "2021-10-21T07:42:07.572Z"
      },
      {
        "duration": 22,
        "start_time": "2021-10-21T07:42:07.588Z"
      },
      {
        "duration": 18,
        "start_time": "2021-10-21T07:42:07.611Z"
      },
      {
        "duration": 9,
        "start_time": "2021-10-21T07:42:07.631Z"
      },
      {
        "duration": 25,
        "start_time": "2021-10-21T07:42:07.641Z"
      },
      {
        "duration": 3253,
        "start_time": "2021-10-21T07:42:07.668Z"
      },
      {
        "duration": 14,
        "start_time": "2021-10-21T07:42:10.923Z"
      },
      {
        "duration": 11,
        "start_time": "2021-10-21T07:42:10.939Z"
      },
      {
        "duration": 10,
        "start_time": "2021-10-21T07:42:10.952Z"
      },
      {
        "duration": 36,
        "start_time": "2021-10-21T07:42:10.963Z"
      },
      {
        "duration": 2,
        "start_time": "2021-10-21T07:42:11.001Z"
      },
      {
        "duration": 13,
        "start_time": "2021-10-21T07:42:11.005Z"
      },
      {
        "duration": 2,
        "start_time": "2021-10-21T07:42:11.020Z"
      },
      {
        "duration": 12,
        "start_time": "2021-10-21T07:42:11.024Z"
      },
      {
        "duration": 17,
        "start_time": "2021-10-21T07:42:11.038Z"
      },
      {
        "duration": 11,
        "start_time": "2021-10-21T07:42:11.057Z"
      },
      {
        "duration": 38,
        "start_time": "2021-10-21T07:42:11.069Z"
      },
      {
        "duration": 9,
        "start_time": "2021-10-21T07:42:11.109Z"
      },
      {
        "duration": 11,
        "start_time": "2021-10-21T07:42:11.119Z"
      },
      {
        "duration": 7,
        "start_time": "2021-10-21T07:44:25.420Z"
      },
      {
        "duration": 5,
        "start_time": "2021-10-21T07:45:08.658Z"
      },
      {
        "duration": 656,
        "start_time": "2021-10-21T07:45:08.665Z"
      },
      {
        "duration": 9,
        "start_time": "2021-10-21T07:45:09.323Z"
      },
      {
        "duration": 5,
        "start_time": "2021-10-21T07:45:09.334Z"
      },
      {
        "duration": 5,
        "start_time": "2021-10-21T07:45:09.341Z"
      },
      {
        "duration": 16,
        "start_time": "2021-10-21T07:45:09.348Z"
      },
      {
        "duration": 26,
        "start_time": "2021-10-21T07:45:09.366Z"
      },
      {
        "duration": 17,
        "start_time": "2021-10-21T07:45:09.394Z"
      },
      {
        "duration": 7,
        "start_time": "2021-10-21T07:45:09.413Z"
      },
      {
        "duration": 7,
        "start_time": "2021-10-21T07:45:09.421Z"
      },
      {
        "duration": 5,
        "start_time": "2021-10-21T07:45:09.429Z"
      },
      {
        "duration": 12,
        "start_time": "2021-10-21T07:45:09.435Z"
      },
      {
        "duration": 4,
        "start_time": "2021-10-21T07:45:09.449Z"
      },
      {
        "duration": 44,
        "start_time": "2021-10-21T07:45:09.455Z"
      },
      {
        "duration": 10,
        "start_time": "2021-10-21T07:45:09.501Z"
      },
      {
        "duration": 9,
        "start_time": "2021-10-21T07:45:09.512Z"
      },
      {
        "duration": 12,
        "start_time": "2021-10-21T07:45:09.522Z"
      },
      {
        "duration": 6,
        "start_time": "2021-10-21T07:45:09.536Z"
      },
      {
        "duration": 5,
        "start_time": "2021-10-21T07:45:09.544Z"
      },
      {
        "duration": 11,
        "start_time": "2021-10-21T07:45:09.551Z"
      },
      {
        "duration": 35,
        "start_time": "2021-10-21T07:45:09.563Z"
      },
      {
        "duration": 6,
        "start_time": "2021-10-21T07:45:09.600Z"
      },
      {
        "duration": 13,
        "start_time": "2021-10-21T07:45:09.608Z"
      },
      {
        "duration": 6,
        "start_time": "2021-10-21T07:45:09.622Z"
      },
      {
        "duration": 14,
        "start_time": "2021-10-21T07:45:09.631Z"
      },
      {
        "duration": 45,
        "start_time": "2021-10-21T07:45:09.647Z"
      },
      {
        "duration": 9,
        "start_time": "2021-10-21T07:45:09.694Z"
      },
      {
        "duration": 16,
        "start_time": "2021-10-21T07:45:09.705Z"
      },
      {
        "duration": 18,
        "start_time": "2021-10-21T07:45:09.722Z"
      },
      {
        "duration": 10,
        "start_time": "2021-10-21T07:45:09.742Z"
      },
      {
        "duration": 3,
        "start_time": "2021-10-21T07:45:09.754Z"
      },
      {
        "duration": 3167,
        "start_time": "2021-10-21T07:45:09.791Z"
      },
      {
        "duration": 13,
        "start_time": "2021-10-21T07:45:12.960Z"
      },
      {
        "duration": 27,
        "start_time": "2021-10-21T07:45:12.974Z"
      },
      {
        "duration": 9,
        "start_time": "2021-10-21T07:45:13.002Z"
      },
      {
        "duration": 15,
        "start_time": "2021-10-21T07:45:13.013Z"
      },
      {
        "duration": 2,
        "start_time": "2021-10-21T07:45:13.029Z"
      },
      {
        "duration": 12,
        "start_time": "2021-10-21T07:45:13.032Z"
      },
      {
        "duration": 2,
        "start_time": "2021-10-21T07:45:13.045Z"
      },
      {
        "duration": 13,
        "start_time": "2021-10-21T07:45:13.048Z"
      },
      {
        "duration": 34,
        "start_time": "2021-10-21T07:45:13.063Z"
      },
      {
        "duration": 11,
        "start_time": "2021-10-21T07:45:13.099Z"
      },
      {
        "duration": 15,
        "start_time": "2021-10-21T07:45:13.112Z"
      },
      {
        "duration": 11,
        "start_time": "2021-10-21T07:45:13.129Z"
      },
      {
        "duration": 11,
        "start_time": "2021-10-21T07:45:13.141Z"
      },
      {
        "duration": 13,
        "start_time": "2021-10-21T07:45:32.527Z"
      },
      {
        "duration": 3,
        "start_time": "2021-10-21T07:45:57.669Z"
      },
      {
        "duration": 269,
        "start_time": "2021-10-21T07:47:14.726Z"
      },
      {
        "duration": 7,
        "start_time": "2021-10-21T07:47:39.027Z"
      },
      {
        "duration": 9,
        "start_time": "2021-10-21T07:48:01.376Z"
      },
      {
        "duration": 4,
        "start_time": "2021-10-21T07:48:09.087Z"
      },
      {
        "duration": 631,
        "start_time": "2021-10-21T07:48:09.093Z"
      },
      {
        "duration": 8,
        "start_time": "2021-10-21T07:48:09.727Z"
      },
      {
        "duration": 8,
        "start_time": "2021-10-21T07:48:09.737Z"
      },
      {
        "duration": 5,
        "start_time": "2021-10-21T07:48:09.747Z"
      },
      {
        "duration": 17,
        "start_time": "2021-10-21T07:48:09.753Z"
      },
      {
        "duration": 5,
        "start_time": "2021-10-21T07:48:09.791Z"
      },
      {
        "duration": 17,
        "start_time": "2021-10-21T07:48:09.798Z"
      },
      {
        "duration": 4,
        "start_time": "2021-10-21T07:48:09.818Z"
      },
      {
        "duration": 8,
        "start_time": "2021-10-21T07:48:09.824Z"
      },
      {
        "duration": 4,
        "start_time": "2021-10-21T07:48:09.833Z"
      },
      {
        "duration": 13,
        "start_time": "2021-10-21T07:48:09.839Z"
      },
      {
        "duration": 39,
        "start_time": "2021-10-21T07:48:09.853Z"
      },
      {
        "duration": 7,
        "start_time": "2021-10-21T07:48:09.894Z"
      },
      {
        "duration": 5,
        "start_time": "2021-10-21T07:48:09.903Z"
      },
      {
        "duration": 6,
        "start_time": "2021-10-21T07:48:09.910Z"
      },
      {
        "duration": 9,
        "start_time": "2021-10-21T07:48:09.917Z"
      },
      {
        "duration": 5,
        "start_time": "2021-10-21T07:48:09.927Z"
      },
      {
        "duration": 9,
        "start_time": "2021-10-21T07:48:09.934Z"
      },
      {
        "duration": 12,
        "start_time": "2021-10-21T07:48:09.944Z"
      },
      {
        "duration": 35,
        "start_time": "2021-10-21T07:48:09.957Z"
      },
      {
        "duration": 7,
        "start_time": "2021-10-21T07:48:09.994Z"
      },
      {
        "duration": 16,
        "start_time": "2021-10-21T07:48:10.003Z"
      },
      {
        "duration": 7,
        "start_time": "2021-10-21T07:48:10.020Z"
      },
      {
        "duration": 22,
        "start_time": "2021-10-21T07:48:10.028Z"
      },
      {
        "duration": 40,
        "start_time": "2021-10-21T07:48:10.052Z"
      },
      {
        "duration": 8,
        "start_time": "2021-10-21T07:48:10.096Z"
      },
      {
        "duration": 15,
        "start_time": "2021-10-21T07:48:10.106Z"
      },
      {
        "duration": 19,
        "start_time": "2021-10-21T07:48:10.123Z"
      },
      {
        "duration": 9,
        "start_time": "2021-10-21T07:48:10.144Z"
      },
      {
        "duration": 4,
        "start_time": "2021-10-21T07:48:10.155Z"
      },
      {
        "duration": 3474,
        "start_time": "2021-10-21T07:48:10.191Z"
      },
      {
        "duration": 32,
        "start_time": "2021-10-21T07:48:13.667Z"
      },
      {
        "duration": 12,
        "start_time": "2021-10-21T07:48:13.701Z"
      },
      {
        "duration": 11,
        "start_time": "2021-10-21T07:48:13.715Z"
      },
      {
        "duration": 19,
        "start_time": "2021-10-21T07:48:13.728Z"
      },
      {
        "duration": 3,
        "start_time": "2021-10-21T07:48:13.748Z"
      },
      {
        "duration": 12,
        "start_time": "2021-10-21T07:48:13.754Z"
      },
      {
        "duration": 2,
        "start_time": "2021-10-21T07:48:13.791Z"
      },
      {
        "duration": 12,
        "start_time": "2021-10-21T07:48:13.796Z"
      },
      {
        "duration": 12,
        "start_time": "2021-10-21T07:48:13.810Z"
      },
      {
        "duration": 133,
        "start_time": "2021-10-21T07:48:13.825Z"
      },
      {
        "duration": 17,
        "start_time": "2021-10-21T07:48:13.961Z"
      },
      {
        "duration": 11,
        "start_time": "2021-10-21T07:48:13.980Z"
      },
      {
        "duration": 12,
        "start_time": "2021-10-21T07:48:13.993Z"
      },
      {
        "duration": 8,
        "start_time": "2021-10-21T07:48:38.471Z"
      },
      {
        "duration": 6,
        "start_time": "2021-10-21T07:49:06.371Z"
      },
      {
        "duration": 7,
        "start_time": "2021-10-21T07:49:52.039Z"
      },
      {
        "duration": 240,
        "start_time": "2021-10-21T07:50:23.766Z"
      },
      {
        "duration": 8,
        "start_time": "2021-10-21T07:52:22.203Z"
      },
      {
        "duration": 174,
        "start_time": "2021-10-21T07:52:51.207Z"
      },
      {
        "duration": 184,
        "start_time": "2021-10-21T07:53:08.959Z"
      },
      {
        "duration": 239,
        "start_time": "2021-10-21T07:53:22.286Z"
      },
      {
        "duration": 7,
        "start_time": "2021-10-21T07:53:35.992Z"
      },
      {
        "duration": 2,
        "start_time": "2021-10-21T07:54:09.187Z"
      },
      {
        "duration": 9,
        "start_time": "2021-10-21T07:57:00.607Z"
      },
      {
        "duration": 4,
        "start_time": "2021-10-21T08:03:11.436Z"
      },
      {
        "duration": 6,
        "start_time": "2021-10-21T08:03:47.216Z"
      },
      {
        "duration": 11,
        "start_time": "2021-10-21T08:04:38.970Z"
      },
      {
        "duration": 5,
        "start_time": "2021-10-21T08:05:20.529Z"
      },
      {
        "duration": 6,
        "start_time": "2021-10-21T08:06:23.538Z"
      },
      {
        "duration": 6,
        "start_time": "2021-10-21T08:06:24.150Z"
      },
      {
        "duration": 5,
        "start_time": "2021-10-21T08:06:24.977Z"
      },
      {
        "duration": 3,
        "start_time": "2021-10-21T08:07:30.084Z"
      },
      {
        "duration": 5,
        "start_time": "2021-10-21T08:07:30.926Z"
      },
      {
        "duration": 6,
        "start_time": "2021-10-21T08:07:31.461Z"
      },
      {
        "duration": 258,
        "start_time": "2021-10-21T08:07:59.998Z"
      },
      {
        "duration": 189,
        "start_time": "2021-10-21T08:08:13.140Z"
      },
      {
        "duration": 184,
        "start_time": "2021-10-21T08:08:30.442Z"
      },
      {
        "duration": 12,
        "start_time": "2021-10-21T08:09:00.425Z"
      },
      {
        "duration": 5,
        "start_time": "2021-10-21T08:13:14.291Z"
      },
      {
        "duration": 7,
        "start_time": "2021-10-21T08:13:24.774Z"
      },
      {
        "duration": 6,
        "start_time": "2021-10-21T08:13:26.981Z"
      },
      {
        "duration": 8,
        "start_time": "2021-10-21T08:14:03.407Z"
      },
      {
        "duration": 183,
        "start_time": "2021-10-21T08:14:33.261Z"
      },
      {
        "duration": 44,
        "start_time": "2021-10-21T08:14:54.494Z"
      },
      {
        "duration": 191,
        "start_time": "2021-10-21T08:15:38.426Z"
      },
      {
        "duration": 4668,
        "start_time": "2021-10-21T08:16:28.719Z"
      },
      {
        "duration": 183,
        "start_time": "2021-10-21T08:16:50.704Z"
      },
      {
        "duration": 4565,
        "start_time": "2021-10-21T08:17:02.108Z"
      },
      {
        "duration": 6,
        "start_time": "2021-10-21T08:17:27.631Z"
      },
      {
        "duration": 44,
        "start_time": "2021-10-21T08:17:51.282Z"
      },
      {
        "duration": 5,
        "start_time": "2021-10-21T08:17:56.012Z"
      },
      {
        "duration": 20,
        "start_time": "2021-10-21T08:18:23.650Z"
      },
      {
        "duration": 242,
        "start_time": "2021-10-21T08:23:06.201Z"
      },
      {
        "duration": 186,
        "start_time": "2021-10-21T08:23:25.770Z"
      },
      {
        "duration": 63,
        "start_time": "2021-10-21T08:27:01.644Z"
      },
      {
        "duration": 7,
        "start_time": "2021-10-21T08:27:05.846Z"
      },
      {
        "duration": 9,
        "start_time": "2021-10-21T08:27:18.913Z"
      },
      {
        "duration": 13,
        "start_time": "2021-10-21T08:29:19.112Z"
      },
      {
        "duration": 19,
        "start_time": "2021-10-21T08:29:26.711Z"
      },
      {
        "duration": 729,
        "start_time": "2021-10-21T08:29:39.197Z"
      },
      {
        "duration": 14,
        "start_time": "2021-10-21T08:29:46.985Z"
      },
      {
        "duration": 12,
        "start_time": "2021-10-21T08:29:52.819Z"
      },
      {
        "duration": 203,
        "start_time": "2021-10-21T08:30:48.444Z"
      },
      {
        "duration": 3307,
        "start_time": "2021-10-21T08:31:04.346Z"
      },
      {
        "duration": 208,
        "start_time": "2021-10-21T08:32:28.195Z"
      },
      {
        "duration": 235,
        "start_time": "2021-10-21T08:32:54.290Z"
      },
      {
        "duration": 189,
        "start_time": "2021-10-21T08:33:22.846Z"
      },
      {
        "duration": 12,
        "start_time": "2021-10-21T08:35:51.671Z"
      },
      {
        "duration": 8,
        "start_time": "2021-10-21T08:39:05.137Z"
      },
      {
        "duration": 12,
        "start_time": "2021-10-21T08:41:00.476Z"
      },
      {
        "duration": 13,
        "start_time": "2021-10-21T08:41:43.650Z"
      },
      {
        "duration": 16,
        "start_time": "2021-10-21T08:43:40.663Z"
      },
      {
        "duration": 12,
        "start_time": "2021-10-21T08:44:37.480Z"
      },
      {
        "duration": 58,
        "start_time": "2021-10-21T08:46:00.395Z"
      },
      {
        "duration": 6,
        "start_time": "2021-10-21T08:47:10.419Z"
      },
      {
        "duration": 587,
        "start_time": "2021-10-21T08:47:10.426Z"
      },
      {
        "duration": 9,
        "start_time": "2021-10-21T08:47:11.015Z"
      },
      {
        "duration": 5,
        "start_time": "2021-10-21T08:47:11.028Z"
      },
      {
        "duration": 8,
        "start_time": "2021-10-21T08:47:11.034Z"
      },
      {
        "duration": 16,
        "start_time": "2021-10-21T08:47:11.043Z"
      },
      {
        "duration": 32,
        "start_time": "2021-10-21T08:47:11.061Z"
      },
      {
        "duration": 17,
        "start_time": "2021-10-21T08:47:11.095Z"
      },
      {
        "duration": 7,
        "start_time": "2021-10-21T08:47:11.113Z"
      },
      {
        "duration": 8,
        "start_time": "2021-10-21T08:47:11.122Z"
      },
      {
        "duration": 4,
        "start_time": "2021-10-21T08:47:11.131Z"
      },
      {
        "duration": 12,
        "start_time": "2021-10-21T08:47:11.137Z"
      },
      {
        "duration": 6,
        "start_time": "2021-10-21T08:47:11.151Z"
      },
      {
        "duration": 34,
        "start_time": "2021-10-21T08:47:11.158Z"
      },
      {
        "duration": 4,
        "start_time": "2021-10-21T08:47:11.194Z"
      },
      {
        "duration": 8,
        "start_time": "2021-10-21T08:47:11.199Z"
      },
      {
        "duration": 7,
        "start_time": "2021-10-21T08:47:11.208Z"
      },
      {
        "duration": 5,
        "start_time": "2021-10-21T08:47:11.216Z"
      },
      {
        "duration": 6,
        "start_time": "2021-10-21T08:47:11.223Z"
      },
      {
        "duration": 10,
        "start_time": "2021-10-21T08:47:11.230Z"
      },
      {
        "duration": 9,
        "start_time": "2021-10-21T08:47:11.241Z"
      },
      {
        "duration": 39,
        "start_time": "2021-10-21T08:47:11.253Z"
      },
      {
        "duration": 14,
        "start_time": "2021-10-21T08:47:11.294Z"
      },
      {
        "duration": 5,
        "start_time": "2021-10-21T08:47:11.310Z"
      },
      {
        "duration": 15,
        "start_time": "2021-10-21T08:47:11.317Z"
      },
      {
        "duration": 13,
        "start_time": "2021-10-21T08:47:11.333Z"
      },
      {
        "duration": 9,
        "start_time": "2021-10-21T08:47:11.347Z"
      },
      {
        "duration": 48,
        "start_time": "2021-10-21T08:47:11.357Z"
      },
      {
        "duration": 17,
        "start_time": "2021-10-21T08:47:11.407Z"
      },
      {
        "duration": 10,
        "start_time": "2021-10-21T08:47:11.426Z"
      },
      {
        "duration": 4,
        "start_time": "2021-10-21T08:47:11.437Z"
      },
      {
        "duration": 3379,
        "start_time": "2021-10-21T08:47:11.443Z"
      },
      {
        "duration": 14,
        "start_time": "2021-10-21T08:47:14.824Z"
      },
      {
        "duration": 10,
        "start_time": "2021-10-21T08:47:14.840Z"
      },
      {
        "duration": 8,
        "start_time": "2021-10-21T08:47:14.852Z"
      },
      {
        "duration": 40,
        "start_time": "2021-10-21T08:47:14.862Z"
      },
      {
        "duration": 2,
        "start_time": "2021-10-21T08:47:14.904Z"
      },
      {
        "duration": 12,
        "start_time": "2021-10-21T08:47:14.908Z"
      },
      {
        "duration": 2,
        "start_time": "2021-10-21T08:47:14.922Z"
      },
      {
        "duration": 12,
        "start_time": "2021-10-21T08:47:14.925Z"
      },
      {
        "duration": 11,
        "start_time": "2021-10-21T08:47:14.939Z"
      },
      {
        "duration": 12,
        "start_time": "2021-10-21T08:47:14.951Z"
      },
      {
        "duration": 18,
        "start_time": "2021-10-21T08:47:14.992Z"
      },
      {
        "duration": 12,
        "start_time": "2021-10-21T08:47:15.012Z"
      },
      {
        "duration": 13,
        "start_time": "2021-10-21T08:47:15.026Z"
      },
      {
        "duration": 4,
        "start_time": "2021-10-21T08:48:57.980Z"
      },
      {
        "duration": 631,
        "start_time": "2021-10-21T08:48:57.986Z"
      },
      {
        "duration": 8,
        "start_time": "2021-10-21T08:48:58.619Z"
      },
      {
        "duration": 7,
        "start_time": "2021-10-21T08:48:58.629Z"
      },
      {
        "duration": 5,
        "start_time": "2021-10-21T08:48:58.637Z"
      },
      {
        "duration": 15,
        "start_time": "2021-10-21T08:48:58.643Z"
      },
      {
        "duration": 31,
        "start_time": "2021-10-21T08:48:58.660Z"
      },
      {
        "duration": 16,
        "start_time": "2021-10-21T08:48:58.694Z"
      },
      {
        "duration": 7,
        "start_time": "2021-10-21T08:48:58.712Z"
      },
      {
        "duration": 8,
        "start_time": "2021-10-21T08:48:58.720Z"
      },
      {
        "duration": 13,
        "start_time": "2021-10-21T08:48:58.729Z"
      },
      {
        "duration": 13,
        "start_time": "2021-10-21T08:48:58.744Z"
      },
      {
        "duration": 7,
        "start_time": "2021-10-21T08:48:58.758Z"
      },
      {
        "duration": 26,
        "start_time": "2021-10-21T08:48:58.766Z"
      },
      {
        "duration": 5,
        "start_time": "2021-10-21T08:48:58.793Z"
      },
      {
        "duration": 6,
        "start_time": "2021-10-21T08:48:58.800Z"
      },
      {
        "duration": 4,
        "start_time": "2021-10-21T08:48:58.808Z"
      },
      {
        "duration": 5,
        "start_time": "2021-10-21T08:48:58.814Z"
      },
      {
        "duration": 6,
        "start_time": "2021-10-21T08:48:58.820Z"
      },
      {
        "duration": 10,
        "start_time": "2021-10-21T08:48:58.827Z"
      },
      {
        "duration": 9,
        "start_time": "2021-10-21T08:48:58.839Z"
      },
      {
        "duration": 42,
        "start_time": "2021-10-21T08:48:58.850Z"
      },
      {
        "duration": 14,
        "start_time": "2021-10-21T08:48:58.895Z"
      },
      {
        "duration": 5,
        "start_time": "2021-10-21T08:48:58.911Z"
      },
      {
        "duration": 18,
        "start_time": "2021-10-21T08:48:58.918Z"
      },
      {
        "duration": 14,
        "start_time": "2021-10-21T08:48:58.938Z"
      },
      {
        "duration": 8,
        "start_time": "2021-10-21T08:48:58.953Z"
      },
      {
        "duration": 39,
        "start_time": "2021-10-21T08:48:58.962Z"
      },
      {
        "duration": 17,
        "start_time": "2021-10-21T08:48:59.003Z"
      },
      {
        "duration": 10,
        "start_time": "2021-10-21T08:48:59.021Z"
      },
      {
        "duration": 4,
        "start_time": "2021-10-21T08:48:59.032Z"
      },
      {
        "duration": 3293,
        "start_time": "2021-10-21T08:48:59.037Z"
      },
      {
        "duration": 14,
        "start_time": "2021-10-21T08:49:02.332Z"
      },
      {
        "duration": 11,
        "start_time": "2021-10-21T08:49:02.348Z"
      },
      {
        "duration": 13,
        "start_time": "2021-10-21T08:49:02.361Z"
      },
      {
        "duration": 14,
        "start_time": "2021-10-21T08:49:02.392Z"
      },
      {
        "duration": 2,
        "start_time": "2021-10-21T08:49:02.408Z"
      },
      {
        "duration": 19,
        "start_time": "2021-10-21T08:49:02.411Z"
      },
      {
        "duration": 2,
        "start_time": "2021-10-21T08:49:02.432Z"
      },
      {
        "duration": 34,
        "start_time": "2021-10-21T08:49:02.435Z"
      },
      {
        "duration": 18,
        "start_time": "2021-10-21T08:49:02.471Z"
      },
      {
        "duration": 12,
        "start_time": "2021-10-21T08:49:02.491Z"
      },
      {
        "duration": 18,
        "start_time": "2021-10-21T08:49:02.504Z"
      },
      {
        "duration": 11,
        "start_time": "2021-10-21T08:49:02.524Z"
      },
      {
        "duration": 12,
        "start_time": "2021-10-21T08:49:02.536Z"
      },
      {
        "duration": 9,
        "start_time": "2022-06-21T14:37:57.548Z"
      },
      {
        "duration": 581,
        "start_time": "2022-06-21T14:37:57.559Z"
      },
      {
        "duration": 13,
        "start_time": "2022-06-21T14:37:58.141Z"
      },
      {
        "duration": 8,
        "start_time": "2022-06-21T14:37:58.157Z"
      },
      {
        "duration": 25,
        "start_time": "2022-06-21T14:37:58.167Z"
      },
      {
        "duration": 27,
        "start_time": "2022-06-21T14:37:58.194Z"
      },
      {
        "duration": 10,
        "start_time": "2022-06-21T14:37:58.223Z"
      },
      {
        "duration": 40,
        "start_time": "2022-06-21T14:37:58.235Z"
      },
      {
        "duration": 15,
        "start_time": "2022-06-21T14:37:58.277Z"
      },
      {
        "duration": 9,
        "start_time": "2022-06-21T14:37:58.296Z"
      },
      {
        "duration": 14,
        "start_time": "2022-06-21T14:37:58.308Z"
      },
      {
        "duration": 30,
        "start_time": "2022-06-21T14:37:58.324Z"
      },
      {
        "duration": 13,
        "start_time": "2022-06-21T14:37:58.357Z"
      },
      {
        "duration": 14,
        "start_time": "2022-06-21T14:37:58.372Z"
      },
      {
        "duration": 10,
        "start_time": "2022-06-21T14:37:58.388Z"
      },
      {
        "duration": 10,
        "start_time": "2022-06-21T14:37:58.399Z"
      },
      {
        "duration": 7,
        "start_time": "2022-06-21T14:37:58.410Z"
      },
      {
        "duration": 6,
        "start_time": "2022-06-21T14:37:58.419Z"
      },
      {
        "duration": 28,
        "start_time": "2022-06-21T14:37:58.427Z"
      },
      {
        "duration": 9,
        "start_time": "2022-06-21T14:37:58.457Z"
      },
      {
        "duration": 12,
        "start_time": "2022-06-21T14:37:58.468Z"
      },
      {
        "duration": 9,
        "start_time": "2022-06-21T14:37:58.481Z"
      },
      {
        "duration": 15,
        "start_time": "2022-06-21T14:37:58.492Z"
      },
      {
        "duration": 8,
        "start_time": "2022-06-21T14:37:58.509Z"
      },
      {
        "duration": 47,
        "start_time": "2022-06-21T14:37:58.519Z"
      },
      {
        "duration": 12,
        "start_time": "2022-06-21T14:37:58.568Z"
      },
      {
        "duration": 8,
        "start_time": "2022-06-21T14:37:58.582Z"
      },
      {
        "duration": 18,
        "start_time": "2022-06-21T14:37:58.593Z"
      },
      {
        "duration": 53,
        "start_time": "2022-06-21T14:37:58.613Z"
      },
      {
        "duration": 14,
        "start_time": "2022-06-21T14:37:58.668Z"
      },
      {
        "duration": 5,
        "start_time": "2022-06-21T14:37:58.684Z"
      },
      {
        "duration": 3732,
        "start_time": "2022-06-21T14:37:58.690Z"
      },
      {
        "duration": 10,
        "start_time": "2022-06-21T14:38:02.424Z"
      },
      {
        "duration": 29,
        "start_time": "2022-06-21T14:38:02.436Z"
      },
      {
        "duration": 8,
        "start_time": "2022-06-21T14:38:02.467Z"
      },
      {
        "duration": 17,
        "start_time": "2022-06-21T14:38:02.477Z"
      },
      {
        "duration": 2,
        "start_time": "2022-06-21T14:38:02.496Z"
      },
      {
        "duration": 15,
        "start_time": "2022-06-21T14:38:02.500Z"
      },
      {
        "duration": 2,
        "start_time": "2022-06-21T14:38:02.517Z"
      },
      {
        "duration": 10,
        "start_time": "2022-06-21T14:38:02.552Z"
      },
      {
        "duration": 12,
        "start_time": "2022-06-21T14:38:02.564Z"
      },
      {
        "duration": 12,
        "start_time": "2022-06-21T14:38:02.578Z"
      },
      {
        "duration": 19,
        "start_time": "2022-06-21T14:38:02.591Z"
      },
      {
        "duration": 50,
        "start_time": "2022-06-21T14:38:02.612Z"
      },
      {
        "duration": 13,
        "start_time": "2022-06-21T14:38:02.664Z"
      }
    ],
    "kernelspec": {
      "display_name": "Python 3 (ipykernel)",
      "language": "python",
      "name": "python3"
    },
    "language_info": {
      "codemirror_mode": {
        "name": "ipython",
        "version": 3
      },
      "file_extension": ".py",
      "mimetype": "text/x-python",
      "name": "python",
      "nbconvert_exporter": "python",
      "pygments_lexer": "ipython3",
      "version": "3.9.5"
    },
    "toc": {
      "base_numbering": 1,
      "nav_menu": {},
      "number_sections": true,
      "sideBar": true,
      "skip_h1_title": true,
      "title_cell": "Table of Contents",
      "title_sidebar": "Contents",
      "toc_cell": false,
      "toc_position": {},
      "toc_section_display": true,
      "toc_window_display": true
    },
    "colab": {
      "name": "project-2-credit.ipynb",
      "provenance": []
    }
  },
  "nbformat": 4,
  "nbformat_minor": 0
}