{
  "cells": [
    {
      "cell_type": "markdown",
      "metadata": {
        "id": "3Xe0OEpWPy0M"
      },
      "source": [
        "# Bank customer churn prediction"
      ]
    },
    {
      "cell_type": "markdown",
      "metadata": {
        "id": "zDDC20E8Py0M"
      },
      "source": [
        "Clients started leaving the bank. Every month. A little, but noticeable.\n",
        "\n",
        "It is necessary to predict whether the client will leave the bank in the near future or not. We have been provided with historical data on customer behavior and termination of agreements with the bank.\n",
        "\n",
        "It is necessary to build a model with *F1*-measure value not less than 0.59.\n",
        "\n",
        "Data Source: [https://www.kaggle.com/barelydedicated/bank-customer-churn-modeling](https://www.kaggle.com/barelydedicated/bank-customer-churn-modeling)"
      ]
    },
    {
      "cell_type": "markdown",
      "metadata": {
        "id": "vPfYr1ZEPy0M"
      },
      "source": [
        "## Data preparation"
      ]
    },
    {
      "cell_type": "code",
      "execution_count": 1,
      "metadata": {
        "id": "U0csHOXlPy0M"
      },
      "outputs": [],
      "source": [
        "import pandas as pd\n",
        "import matplotlib.pyplot as plt\n",
        "from tqdm import tqdm\n",
        "from sklearn.model_selection import train_test_split\n",
        "from sklearn.tree import DecisionTreeClassifier\n",
        "from sklearn.ensemble import RandomForestClassifier\n",
        "from sklearn.linear_model import LogisticRegression\n",
        "from sklearn.preprocessing import StandardScaler\n",
        "from sklearn.metrics import f1_score\n",
        "from sklearn.utils import shuffle\n",
        "from collections import Counter\n",
        "from sklearn.metrics import roc_curve\n",
        "from sklearn.metrics import roc_auc_score\n",
        "from sklearn.metrics import confusion_matrix"
      ]
    },
    {
      "cell_type": "code",
      "execution_count": 2,
      "metadata": {
        "colab": {
          "base_uri": "https://localhost:8080/",
          "height": 270
        },
        "id": "lpsPXuSdPy0N",
        "outputId": "58184885-e8e9-450d-9545-da4b6e5b2ccc"
      },
      "outputs": [
        {
          "output_type": "execute_result",
          "data": {
            "text/plain": [
              "   RowNumber  CustomerId   Surname  CreditScore Geography  Gender  Age  \\\n",
              "0          1    15634602  Hargrave          619    France  Female   42   \n",
              "1          2    15647311      Hill          608     Spain  Female   41   \n",
              "2          3    15619304      Onio          502    France  Female   42   \n",
              "3          4    15701354      Boni          699    France  Female   39   \n",
              "4          5    15737888  Mitchell          850     Spain  Female   43   \n",
              "\n",
              "   Tenure    Balance  NumOfProducts  HasCrCard  IsActiveMember  \\\n",
              "0     2.0       0.00              1          1               1   \n",
              "1     1.0   83807.86              1          0               1   \n",
              "2     8.0  159660.80              3          1               0   \n",
              "3     1.0       0.00              2          0               0   \n",
              "4     2.0  125510.82              1          1               1   \n",
              "\n",
              "   EstimatedSalary  Exited  \n",
              "0        101348.88       1  \n",
              "1        112542.58       0  \n",
              "2        113931.57       1  \n",
              "3         93826.63       0  \n",
              "4         79084.10       0  "
            ],
            "text/html": [
              "\n",
              "  <div id=\"df-68218442-180b-413e-8e59-4d97987414de\">\n",
              "    <div class=\"colab-df-container\">\n",
              "      <div>\n",
              "<style scoped>\n",
              "    .dataframe tbody tr th:only-of-type {\n",
              "        vertical-align: middle;\n",
              "    }\n",
              "\n",
              "    .dataframe tbody tr th {\n",
              "        vertical-align: top;\n",
              "    }\n",
              "\n",
              "    .dataframe thead th {\n",
              "        text-align: right;\n",
              "    }\n",
              "</style>\n",
              "<table border=\"1\" class=\"dataframe\">\n",
              "  <thead>\n",
              "    <tr style=\"text-align: right;\">\n",
              "      <th></th>\n",
              "      <th>RowNumber</th>\n",
              "      <th>CustomerId</th>\n",
              "      <th>Surname</th>\n",
              "      <th>CreditScore</th>\n",
              "      <th>Geography</th>\n",
              "      <th>Gender</th>\n",
              "      <th>Age</th>\n",
              "      <th>Tenure</th>\n",
              "      <th>Balance</th>\n",
              "      <th>NumOfProducts</th>\n",
              "      <th>HasCrCard</th>\n",
              "      <th>IsActiveMember</th>\n",
              "      <th>EstimatedSalary</th>\n",
              "      <th>Exited</th>\n",
              "    </tr>\n",
              "  </thead>\n",
              "  <tbody>\n",
              "    <tr>\n",
              "      <th>0</th>\n",
              "      <td>1</td>\n",
              "      <td>15634602</td>\n",
              "      <td>Hargrave</td>\n",
              "      <td>619</td>\n",
              "      <td>France</td>\n",
              "      <td>Female</td>\n",
              "      <td>42</td>\n",
              "      <td>2.0</td>\n",
              "      <td>0.00</td>\n",
              "      <td>1</td>\n",
              "      <td>1</td>\n",
              "      <td>1</td>\n",
              "      <td>101348.88</td>\n",
              "      <td>1</td>\n",
              "    </tr>\n",
              "    <tr>\n",
              "      <th>1</th>\n",
              "      <td>2</td>\n",
              "      <td>15647311</td>\n",
              "      <td>Hill</td>\n",
              "      <td>608</td>\n",
              "      <td>Spain</td>\n",
              "      <td>Female</td>\n",
              "      <td>41</td>\n",
              "      <td>1.0</td>\n",
              "      <td>83807.86</td>\n",
              "      <td>1</td>\n",
              "      <td>0</td>\n",
              "      <td>1</td>\n",
              "      <td>112542.58</td>\n",
              "      <td>0</td>\n",
              "    </tr>\n",
              "    <tr>\n",
              "      <th>2</th>\n",
              "      <td>3</td>\n",
              "      <td>15619304</td>\n",
              "      <td>Onio</td>\n",
              "      <td>502</td>\n",
              "      <td>France</td>\n",
              "      <td>Female</td>\n",
              "      <td>42</td>\n",
              "      <td>8.0</td>\n",
              "      <td>159660.80</td>\n",
              "      <td>3</td>\n",
              "      <td>1</td>\n",
              "      <td>0</td>\n",
              "      <td>113931.57</td>\n",
              "      <td>1</td>\n",
              "    </tr>\n",
              "    <tr>\n",
              "      <th>3</th>\n",
              "      <td>4</td>\n",
              "      <td>15701354</td>\n",
              "      <td>Boni</td>\n",
              "      <td>699</td>\n",
              "      <td>France</td>\n",
              "      <td>Female</td>\n",
              "      <td>39</td>\n",
              "      <td>1.0</td>\n",
              "      <td>0.00</td>\n",
              "      <td>2</td>\n",
              "      <td>0</td>\n",
              "      <td>0</td>\n",
              "      <td>93826.63</td>\n",
              "      <td>0</td>\n",
              "    </tr>\n",
              "    <tr>\n",
              "      <th>4</th>\n",
              "      <td>5</td>\n",
              "      <td>15737888</td>\n",
              "      <td>Mitchell</td>\n",
              "      <td>850</td>\n",
              "      <td>Spain</td>\n",
              "      <td>Female</td>\n",
              "      <td>43</td>\n",
              "      <td>2.0</td>\n",
              "      <td>125510.82</td>\n",
              "      <td>1</td>\n",
              "      <td>1</td>\n",
              "      <td>1</td>\n",
              "      <td>79084.10</td>\n",
              "      <td>0</td>\n",
              "    </tr>\n",
              "  </tbody>\n",
              "</table>\n",
              "</div>\n",
              "      <button class=\"colab-df-convert\" onclick=\"convertToInteractive('df-68218442-180b-413e-8e59-4d97987414de')\"\n",
              "              title=\"Convert this dataframe to an interactive table.\"\n",
              "              style=\"display:none;\">\n",
              "        \n",
              "  <svg xmlns=\"http://www.w3.org/2000/svg\" height=\"24px\"viewBox=\"0 0 24 24\"\n",
              "       width=\"24px\">\n",
              "    <path d=\"M0 0h24v24H0V0z\" fill=\"none\"/>\n",
              "    <path d=\"M18.56 5.44l.94 2.06.94-2.06 2.06-.94-2.06-.94-.94-2.06-.94 2.06-2.06.94zm-11 1L8.5 8.5l.94-2.06 2.06-.94-2.06-.94L8.5 2.5l-.94 2.06-2.06.94zm10 10l.94 2.06.94-2.06 2.06-.94-2.06-.94-.94-2.06-.94 2.06-2.06.94z\"/><path d=\"M17.41 7.96l-1.37-1.37c-.4-.4-.92-.59-1.43-.59-.52 0-1.04.2-1.43.59L10.3 9.45l-7.72 7.72c-.78.78-.78 2.05 0 2.83L4 21.41c.39.39.9.59 1.41.59.51 0 1.02-.2 1.41-.59l7.78-7.78 2.81-2.81c.8-.78.8-2.07 0-2.86zM5.41 20L4 18.59l7.72-7.72 1.47 1.35L5.41 20z\"/>\n",
              "  </svg>\n",
              "      </button>\n",
              "      \n",
              "  <style>\n",
              "    .colab-df-container {\n",
              "      display:flex;\n",
              "      flex-wrap:wrap;\n",
              "      gap: 12px;\n",
              "    }\n",
              "\n",
              "    .colab-df-convert {\n",
              "      background-color: #E8F0FE;\n",
              "      border: none;\n",
              "      border-radius: 50%;\n",
              "      cursor: pointer;\n",
              "      display: none;\n",
              "      fill: #1967D2;\n",
              "      height: 32px;\n",
              "      padding: 0 0 0 0;\n",
              "      width: 32px;\n",
              "    }\n",
              "\n",
              "    .colab-df-convert:hover {\n",
              "      background-color: #E2EBFA;\n",
              "      box-shadow: 0px 1px 2px rgba(60, 64, 67, 0.3), 0px 1px 3px 1px rgba(60, 64, 67, 0.15);\n",
              "      fill: #174EA6;\n",
              "    }\n",
              "\n",
              "    [theme=dark] .colab-df-convert {\n",
              "      background-color: #3B4455;\n",
              "      fill: #D2E3FC;\n",
              "    }\n",
              "\n",
              "    [theme=dark] .colab-df-convert:hover {\n",
              "      background-color: #434B5C;\n",
              "      box-shadow: 0px 1px 3px 1px rgba(0, 0, 0, 0.15);\n",
              "      filter: drop-shadow(0px 1px 2px rgba(0, 0, 0, 0.3));\n",
              "      fill: #FFFFFF;\n",
              "    }\n",
              "  </style>\n",
              "\n",
              "      <script>\n",
              "        const buttonEl =\n",
              "          document.querySelector('#df-68218442-180b-413e-8e59-4d97987414de button.colab-df-convert');\n",
              "        buttonEl.style.display =\n",
              "          google.colab.kernel.accessAllowed ? 'block' : 'none';\n",
              "\n",
              "        async function convertToInteractive(key) {\n",
              "          const element = document.querySelector('#df-68218442-180b-413e-8e59-4d97987414de');\n",
              "          const dataTable =\n",
              "            await google.colab.kernel.invokeFunction('convertToInteractive',\n",
              "                                                     [key], {});\n",
              "          if (!dataTable) return;\n",
              "\n",
              "          const docLinkHtml = 'Like what you see? Visit the ' +\n",
              "            '<a target=\"_blank\" href=https://colab.research.google.com/notebooks/data_table.ipynb>data table notebook</a>'\n",
              "            + ' to learn more about interactive tables.';\n",
              "          element.innerHTML = '';\n",
              "          dataTable['output_type'] = 'display_data';\n",
              "          await google.colab.output.renderOutput(dataTable, element);\n",
              "          const docLink = document.createElement('div');\n",
              "          docLink.innerHTML = docLinkHtml;\n",
              "          element.appendChild(docLink);\n",
              "        }\n",
              "      </script>\n",
              "    </div>\n",
              "  </div>\n",
              "  "
            ]
          },
          "metadata": {},
          "execution_count": 2
        }
      ],
      "source": [
        "data = pd.read_csv('/content/Churn.csv')\n",
        "data.head()"
      ]
    },
    {
      "cell_type": "code",
      "execution_count": 3,
      "metadata": {
        "colab": {
          "base_uri": "https://localhost:8080/"
        },
        "id": "NstGyOiuPy0N",
        "outputId": "678be699-26ad-4560-bc81-5951f64465e1"
      },
      "outputs": [
        {
          "output_type": "stream",
          "name": "stdout",
          "text": [
            "<class 'pandas.core.frame.DataFrame'>\n",
            "RangeIndex: 10000 entries, 0 to 9999\n",
            "Data columns (total 14 columns):\n",
            " #   Column           Non-Null Count  Dtype  \n",
            "---  ------           --------------  -----  \n",
            " 0   RowNumber        10000 non-null  int64  \n",
            " 1   CustomerId       10000 non-null  int64  \n",
            " 2   Surname          10000 non-null  object \n",
            " 3   CreditScore      10000 non-null  int64  \n",
            " 4   Geography        10000 non-null  object \n",
            " 5   Gender           10000 non-null  object \n",
            " 6   Age              10000 non-null  int64  \n",
            " 7   Tenure           9091 non-null   float64\n",
            " 8   Balance          10000 non-null  float64\n",
            " 9   NumOfProducts    10000 non-null  int64  \n",
            " 10  HasCrCard        10000 non-null  int64  \n",
            " 11  IsActiveMember   10000 non-null  int64  \n",
            " 12  EstimatedSalary  10000 non-null  float64\n",
            " 13  Exited           10000 non-null  int64  \n",
            "dtypes: float64(3), int64(8), object(3)\n",
            "memory usage: 1.1+ MB\n"
          ]
        }
      ],
      "source": [
        "data.info()"
      ]
    },
    {
      "cell_type": "code",
      "execution_count": 4,
      "metadata": {
        "colab": {
          "base_uri": "https://localhost:8080/"
        },
        "id": "8kN5110pPy0N",
        "outputId": "4ab2dc2f-6c30-4c5c-e0ce-b90501e24c08"
      },
      "outputs": [
        {
          "output_type": "execute_result",
          "data": {
            "text/plain": [
              "0"
            ]
          },
          "metadata": {},
          "execution_count": 4
        }
      ],
      "source": [
        "data.duplicated().sum()"
      ]
    },
    {
      "cell_type": "markdown",
      "metadata": {
        "id": "wbRIvB_QPy0N"
      },
      "source": [
        "The data is loaded, there are a small number of gaps in one column.\n",
        "Let's check the ratio of classes in the target variable:"
      ]
    },
    {
      "cell_type": "code",
      "execution_count": 5,
      "metadata": {
        "colab": {
          "base_uri": "https://localhost:8080/"
        },
        "id": "LbjtfVA3Py0O",
        "outputId": "9e8de827-e87e-4d3b-93bb-60faeb0c2d95"
      },
      "outputs": [
        {
          "output_type": "execute_result",
          "data": {
            "text/plain": [
              "0    0.7963\n",
              "1    0.2037\n",
              "Name: Exited, dtype: float64"
            ]
          },
          "metadata": {},
          "execution_count": 5
        }
      ],
      "source": [
        "data['Exited'].value_counts(normalize=True)"
      ]
    },
    {
      "cell_type": "markdown",
      "metadata": {
        "id": "hdNaMxsjPy0O"
      },
      "source": [
        "There is a significant imbalance between the classes.\n",
        "Let's take care of the gaps:"
      ]
    },
    {
      "cell_type": "code",
      "execution_count": 6,
      "metadata": {
        "colab": {
          "base_uri": "https://localhost:8080/"
        },
        "id": "4TVPS7t3Py0O",
        "outputId": "4d195dc8-fc75-4603-c6d3-42e0c930e8a7"
      },
      "outputs": [
        {
          "output_type": "execute_result",
          "data": {
            "text/plain": [
              "909"
            ]
          },
          "metadata": {},
          "execution_count": 6
        }
      ],
      "source": [
        "data['Tenure'].isna().sum()"
      ]
    },
    {
      "cell_type": "code",
      "execution_count": 7,
      "metadata": {
        "colab": {
          "base_uri": "https://localhost:8080/"
        },
        "id": "lKf28S2DPy0O",
        "outputId": "3140beb2-ad36-4be2-e560-e550572adfce"
      },
      "outputs": [
        {
          "output_type": "execute_result",
          "data": {
            "text/plain": [
              "0    0.79868\n",
              "1    0.20132\n",
              "Name: Exited, dtype: float64"
            ]
          },
          "metadata": {},
          "execution_count": 7
        }
      ],
      "source": [
        "data[data['Tenure'].isna()]['Exited'].value_counts(normalize=True)"
      ]
    },
    {
      "cell_type": "markdown",
      "metadata": {
        "id": "AIULpJP6Py0O"
      },
      "source": [
        "The proportions of records with gaps match the values of the key parameter and the distribution of the entire record.\n",
        "Since this column contains information about how many years a person has been a customer of the bank, you can assume that records with gaps correspond to the value \"less than one year\" and fill them with zeros."
      ]
    },
    {
      "cell_type": "code",
      "execution_count": 8,
      "metadata": {
        "id": "sQqs7YJuPy0O"
      },
      "outputs": [],
      "source": [
        "data = data.fillna(0)"
      ]
    },
    {
      "cell_type": "markdown",
      "metadata": {
        "id": "T-xxi_EdPy0O"
      },
      "source": [
        "The table contains data that have no semantic meaning in relation to the problem under consideration. It is data about the last name and ID of the client, as well as the row number with the record. These data interfere with the training of the models, we discard them."
      ]
    },
    {
      "cell_type": "code",
      "execution_count": 9,
      "metadata": {
        "id": "wbJlfNagPy0P"
      },
      "outputs": [],
      "source": [
        "data = data.drop(['Surname', 'CustomerId', 'RowNumber'], axis=1)"
      ]
    },
    {
      "cell_type": "markdown",
      "metadata": {
        "id": "gs19b5v5Py0P"
      },
      "source": [
        "Converting variables (Geography and Gender) with One Hot Encoder"
      ]
    },
    {
      "cell_type": "code",
      "execution_count": 10,
      "metadata": {
        "id": "TnnaMKiUPy0P"
      },
      "outputs": [],
      "source": [
        "data_ohe = pd.get_dummies(data, drop_first=True)"
      ]
    },
    {
      "cell_type": "markdown",
      "metadata": {
        "id": "yZVWMj3JPy0P"
      },
      "source": [
        "Data prepared for splitting into training and validation sets."
      ]
    },
    {
      "cell_type": "code",
      "execution_count": 11,
      "metadata": {
        "colab": {
          "base_uri": "https://localhost:8080/",
          "height": 270
        },
        "id": "0HH0jlTdPy0P",
        "outputId": "7e77d8d2-cbf2-49b8-8885-d0b10aa95539"
      },
      "outputs": [
        {
          "output_type": "execute_result",
          "data": {
            "text/plain": [
              "   CreditScore  Age  Tenure    Balance  NumOfProducts  HasCrCard  \\\n",
              "0          619   42     2.0       0.00              1          1   \n",
              "1          608   41     1.0   83807.86              1          0   \n",
              "2          502   42     8.0  159660.80              3          1   \n",
              "3          699   39     1.0       0.00              2          0   \n",
              "4          850   43     2.0  125510.82              1          1   \n",
              "\n",
              "   IsActiveMember  EstimatedSalary  Exited  Geography_Germany  \\\n",
              "0               1        101348.88       1                  0   \n",
              "1               1        112542.58       0                  0   \n",
              "2               0        113931.57       1                  0   \n",
              "3               0         93826.63       0                  0   \n",
              "4               1         79084.10       0                  0   \n",
              "\n",
              "   Geography_Spain  Gender_Male  \n",
              "0                0            0  \n",
              "1                1            0  \n",
              "2                0            0  \n",
              "3                0            0  \n",
              "4                1            0  "
            ],
            "text/html": [
              "\n",
              "  <div id=\"df-32be7585-d9af-43e9-b4b6-ce60b49da967\">\n",
              "    <div class=\"colab-df-container\">\n",
              "      <div>\n",
              "<style scoped>\n",
              "    .dataframe tbody tr th:only-of-type {\n",
              "        vertical-align: middle;\n",
              "    }\n",
              "\n",
              "    .dataframe tbody tr th {\n",
              "        vertical-align: top;\n",
              "    }\n",
              "\n",
              "    .dataframe thead th {\n",
              "        text-align: right;\n",
              "    }\n",
              "</style>\n",
              "<table border=\"1\" class=\"dataframe\">\n",
              "  <thead>\n",
              "    <tr style=\"text-align: right;\">\n",
              "      <th></th>\n",
              "      <th>CreditScore</th>\n",
              "      <th>Age</th>\n",
              "      <th>Tenure</th>\n",
              "      <th>Balance</th>\n",
              "      <th>NumOfProducts</th>\n",
              "      <th>HasCrCard</th>\n",
              "      <th>IsActiveMember</th>\n",
              "      <th>EstimatedSalary</th>\n",
              "      <th>Exited</th>\n",
              "      <th>Geography_Germany</th>\n",
              "      <th>Geography_Spain</th>\n",
              "      <th>Gender_Male</th>\n",
              "    </tr>\n",
              "  </thead>\n",
              "  <tbody>\n",
              "    <tr>\n",
              "      <th>0</th>\n",
              "      <td>619</td>\n",
              "      <td>42</td>\n",
              "      <td>2.0</td>\n",
              "      <td>0.00</td>\n",
              "      <td>1</td>\n",
              "      <td>1</td>\n",
              "      <td>1</td>\n",
              "      <td>101348.88</td>\n",
              "      <td>1</td>\n",
              "      <td>0</td>\n",
              "      <td>0</td>\n",
              "      <td>0</td>\n",
              "    </tr>\n",
              "    <tr>\n",
              "      <th>1</th>\n",
              "      <td>608</td>\n",
              "      <td>41</td>\n",
              "      <td>1.0</td>\n",
              "      <td>83807.86</td>\n",
              "      <td>1</td>\n",
              "      <td>0</td>\n",
              "      <td>1</td>\n",
              "      <td>112542.58</td>\n",
              "      <td>0</td>\n",
              "      <td>0</td>\n",
              "      <td>1</td>\n",
              "      <td>0</td>\n",
              "    </tr>\n",
              "    <tr>\n",
              "      <th>2</th>\n",
              "      <td>502</td>\n",
              "      <td>42</td>\n",
              "      <td>8.0</td>\n",
              "      <td>159660.80</td>\n",
              "      <td>3</td>\n",
              "      <td>1</td>\n",
              "      <td>0</td>\n",
              "      <td>113931.57</td>\n",
              "      <td>1</td>\n",
              "      <td>0</td>\n",
              "      <td>0</td>\n",
              "      <td>0</td>\n",
              "    </tr>\n",
              "    <tr>\n",
              "      <th>3</th>\n",
              "      <td>699</td>\n",
              "      <td>39</td>\n",
              "      <td>1.0</td>\n",
              "      <td>0.00</td>\n",
              "      <td>2</td>\n",
              "      <td>0</td>\n",
              "      <td>0</td>\n",
              "      <td>93826.63</td>\n",
              "      <td>0</td>\n",
              "      <td>0</td>\n",
              "      <td>0</td>\n",
              "      <td>0</td>\n",
              "    </tr>\n",
              "    <tr>\n",
              "      <th>4</th>\n",
              "      <td>850</td>\n",
              "      <td>43</td>\n",
              "      <td>2.0</td>\n",
              "      <td>125510.82</td>\n",
              "      <td>1</td>\n",
              "      <td>1</td>\n",
              "      <td>1</td>\n",
              "      <td>79084.10</td>\n",
              "      <td>0</td>\n",
              "      <td>0</td>\n",
              "      <td>1</td>\n",
              "      <td>0</td>\n",
              "    </tr>\n",
              "  </tbody>\n",
              "</table>\n",
              "</div>\n",
              "      <button class=\"colab-df-convert\" onclick=\"convertToInteractive('df-32be7585-d9af-43e9-b4b6-ce60b49da967')\"\n",
              "              title=\"Convert this dataframe to an interactive table.\"\n",
              "              style=\"display:none;\">\n",
              "        \n",
              "  <svg xmlns=\"http://www.w3.org/2000/svg\" height=\"24px\"viewBox=\"0 0 24 24\"\n",
              "       width=\"24px\">\n",
              "    <path d=\"M0 0h24v24H0V0z\" fill=\"none\"/>\n",
              "    <path d=\"M18.56 5.44l.94 2.06.94-2.06 2.06-.94-2.06-.94-.94-2.06-.94 2.06-2.06.94zm-11 1L8.5 8.5l.94-2.06 2.06-.94-2.06-.94L8.5 2.5l-.94 2.06-2.06.94zm10 10l.94 2.06.94-2.06 2.06-.94-2.06-.94-.94-2.06-.94 2.06-2.06.94z\"/><path d=\"M17.41 7.96l-1.37-1.37c-.4-.4-.92-.59-1.43-.59-.52 0-1.04.2-1.43.59L10.3 9.45l-7.72 7.72c-.78.78-.78 2.05 0 2.83L4 21.41c.39.39.9.59 1.41.59.51 0 1.02-.2 1.41-.59l7.78-7.78 2.81-2.81c.8-.78.8-2.07 0-2.86zM5.41 20L4 18.59l7.72-7.72 1.47 1.35L5.41 20z\"/>\n",
              "  </svg>\n",
              "      </button>\n",
              "      \n",
              "  <style>\n",
              "    .colab-df-container {\n",
              "      display:flex;\n",
              "      flex-wrap:wrap;\n",
              "      gap: 12px;\n",
              "    }\n",
              "\n",
              "    .colab-df-convert {\n",
              "      background-color: #E8F0FE;\n",
              "      border: none;\n",
              "      border-radius: 50%;\n",
              "      cursor: pointer;\n",
              "      display: none;\n",
              "      fill: #1967D2;\n",
              "      height: 32px;\n",
              "      padding: 0 0 0 0;\n",
              "      width: 32px;\n",
              "    }\n",
              "\n",
              "    .colab-df-convert:hover {\n",
              "      background-color: #E2EBFA;\n",
              "      box-shadow: 0px 1px 2px rgba(60, 64, 67, 0.3), 0px 1px 3px 1px rgba(60, 64, 67, 0.15);\n",
              "      fill: #174EA6;\n",
              "    }\n",
              "\n",
              "    [theme=dark] .colab-df-convert {\n",
              "      background-color: #3B4455;\n",
              "      fill: #D2E3FC;\n",
              "    }\n",
              "\n",
              "    [theme=dark] .colab-df-convert:hover {\n",
              "      background-color: #434B5C;\n",
              "      box-shadow: 0px 1px 3px 1px rgba(0, 0, 0, 0.15);\n",
              "      filter: drop-shadow(0px 1px 2px rgba(0, 0, 0, 0.3));\n",
              "      fill: #FFFFFF;\n",
              "    }\n",
              "  </style>\n",
              "\n",
              "      <script>\n",
              "        const buttonEl =\n",
              "          document.querySelector('#df-32be7585-d9af-43e9-b4b6-ce60b49da967 button.colab-df-convert');\n",
              "        buttonEl.style.display =\n",
              "          google.colab.kernel.accessAllowed ? 'block' : 'none';\n",
              "\n",
              "        async function convertToInteractive(key) {\n",
              "          const element = document.querySelector('#df-32be7585-d9af-43e9-b4b6-ce60b49da967');\n",
              "          const dataTable =\n",
              "            await google.colab.kernel.invokeFunction('convertToInteractive',\n",
              "                                                     [key], {});\n",
              "          if (!dataTable) return;\n",
              "\n",
              "          const docLinkHtml = 'Like what you see? Visit the ' +\n",
              "            '<a target=\"_blank\" href=https://colab.research.google.com/notebooks/data_table.ipynb>data table notebook</a>'\n",
              "            + ' to learn more about interactive tables.';\n",
              "          element.innerHTML = '';\n",
              "          dataTable['output_type'] = 'display_data';\n",
              "          await google.colab.output.renderOutput(dataTable, element);\n",
              "          const docLink = document.createElement('div');\n",
              "          docLink.innerHTML = docLinkHtml;\n",
              "          element.appendChild(docLink);\n",
              "        }\n",
              "      </script>\n",
              "    </div>\n",
              "  </div>\n",
              "  "
            ]
          },
          "metadata": {},
          "execution_count": 11
        }
      ],
      "source": [
        "data_ohe.head()"
      ]
    },
    {
      "cell_type": "code",
      "execution_count": 12,
      "metadata": {
        "id": "vepJtcZ9Py0P"
      },
      "outputs": [],
      "source": [
        "features = data_ohe.drop('Exited', axis=1)\n",
        "target = data_ohe['Exited']"
      ]
    },
    {
      "cell_type": "markdown",
      "metadata": {
        "id": "pAdK1cm9Py0P"
      },
      "source": [
        "\n",
        "Let's divide it into three samples in the ratio 60/20/20:"
      ]
    },
    {
      "cell_type": "code",
      "execution_count": 13,
      "metadata": {
        "colab": {
          "base_uri": "https://localhost:8080/"
        },
        "id": "-pUGDzewPy0P",
        "outputId": "f8d73924-c8e3-40d1-b62e-69f9571339ba"
      },
      "outputs": [
        {
          "output_type": "stream",
          "name": "stdout",
          "text": [
            "(6000, 11)\n",
            "(4000, 11)\n"
          ]
        }
      ],
      "source": [
        "features_train, features_split, target_train, target_split = train_test_split(\n",
        "    features, target, test_size=.40, random_state=12345)\n",
        "print(features_train.shape)\n",
        "print(features_split.shape)"
      ]
    },
    {
      "cell_type": "code",
      "execution_count": 14,
      "metadata": {
        "colab": {
          "base_uri": "https://localhost:8080/"
        },
        "id": "FlWl13yXPy0P",
        "outputId": "6c48536a-af96-4faa-b4c1-d7747bfa0390"
      },
      "outputs": [
        {
          "output_type": "stream",
          "name": "stdout",
          "text": [
            "(2000, 11)\n",
            "(2000, 11)\n"
          ]
        }
      ],
      "source": [
        "features_test, features_valid, target_test, target_valid = train_test_split(\n",
        "    features_split, target_split, test_size=.50, random_state=12345)\n",
        "print(features_test.shape)\n",
        "print(features_valid.shape)"
      ]
    },
    {
      "cell_type": "code",
      "execution_count": 15,
      "metadata": {
        "colab": {
          "base_uri": "https://localhost:8080/"
        },
        "id": "nbabYOlEPy0P",
        "outputId": "2ab9e164-9120-436b-80e3-ba8b27a6b60b"
      },
      "outputs": [
        {
          "output_type": "execute_result",
          "data": {
            "text/plain": [
              "0    1577\n",
              "1     423\n",
              "Name: Exited, dtype: int64"
            ]
          },
          "metadata": {},
          "execution_count": 15
        }
      ],
      "source": [
        "target_valid.value_counts()"
      ]
    },
    {
      "cell_type": "markdown",
      "metadata": {
        "id": "EZmu6zFgPy0Q"
      },
      "source": [
        "## Problem Research"
      ]
    },
    {
      "cell_type": "markdown",
      "metadata": {
        "id": "Q7uOe-BjPy0Q"
      },
      "source": [
        "Let's choose the best model that's the highest value of F1 metric in unbalanced data:"
      ]
    },
    {
      "cell_type": "code",
      "execution_count": 16,
      "metadata": {
        "colab": {
          "base_uri": "https://localhost:8080/"
        },
        "id": "d8EQF0EuPy0Q",
        "outputId": "9b82bdf6-235a-47a7-cae8-e7aafacdf27e"
      },
      "outputs": [
        {
          "output_type": "stream",
          "name": "stdout",
          "text": [
            "Best value F1 = 0.5398601398601399 corresponds to max_depth=9\n"
          ]
        }
      ],
      "source": [
        "best_depth = 0\n",
        "f1_value = 0\n",
        "for depth in range(2,16,1):\n",
        "    model = DecisionTreeClassifier(max_depth=depth, random_state=12345)\n",
        "    model.fit(features_train, target_train)\n",
        "    predictions = model.predict(features_valid)\n",
        "    f1 = f1_score(target_valid, predictions)\n",
        "    if f1 > f1_value:\n",
        "        f1_value = f1\n",
        "        best_depth = depth\n",
        "print(f'Best value F1 = {f1_value} corresponds to max_depth={best_depth}')"
      ]
    },
    {
      "cell_type": "code",
      "execution_count": 17,
      "metadata": {
        "colab": {
          "base_uri": "https://localhost:8080/"
        },
        "id": "RV3M86nfPy0Q",
        "outputId": "08d23de5-fc20-4958-9edd-801d36b44ee6"
      },
      "outputs": [
        {
          "output_type": "stream",
          "name": "stderr",
          "text": [
            "100%|██████████| 10/10 [01:02<00:00,  6.21s/it]"
          ]
        },
        {
          "output_type": "stream",
          "name": "stdout",
          "text": [
            "Best value F1=0.5446293494704993 corresponds to n_estimators=30 and max_depth=15\n"
          ]
        },
        {
          "output_type": "stream",
          "name": "stderr",
          "text": [
            "\n"
          ]
        }
      ],
      "source": [
        "best_n_estimators = 0\n",
        "f1_value = 0\n",
        "best_depth = 0\n",
        "for estimators in tqdm(range(10,110,10)):\n",
        "    for depth in range(2,16,1):\n",
        "        model = RandomForestClassifier(n_estimators=estimators, max_depth=depth, random_state=12345)\n",
        "        model.fit(features_train, target_train)\n",
        "        predictions = model.predict(features_valid)\n",
        "        f1 = f1_score(target_valid, predictions)\n",
        "        if f1 > f1_value:\n",
        "            f1_value = f1\n",
        "            best_n_estimators = estimators\n",
        "            best_depth = depth\n",
        "print(f'Best value F1={f1_value} corresponds to n_estimators={best_n_estimators} and max_depth={best_depth}')\n",
        "    "
      ]
    },
    {
      "cell_type": "code",
      "execution_count": 18,
      "metadata": {
        "colab": {
          "base_uri": "https://localhost:8080/"
        },
        "id": "f1sS9lXAPy0Q",
        "outputId": "a35f993a-93ad-4d16-9104-e3c36d9c4136"
      },
      "outputs": [
        {
          "output_type": "execute_result",
          "data": {
            "text/plain": [
              "0.08869179600886917"
            ]
          },
          "metadata": {},
          "execution_count": 18
        }
      ],
      "source": [
        "model = LogisticRegression(solver='liblinear', random_state=12345)\n",
        "model.fit(features_train, target_train)\n",
        "predictions = model.predict(features_train)\n",
        "f1_score(target_train, predictions)"
      ]
    },
    {
      "cell_type": "markdown",
      "metadata": {
        "id": "aZ8mnUIhPy0Q"
      },
      "source": [
        "Conclusion: the best f1 value on unbalanced data was obtained by RandomForestClassifier with parameters n_estimators=30 and max_depth=12. We will continue to use it."
      ]
    },
    {
      "cell_type": "markdown",
      "metadata": {
        "id": "9_-DrobGPy0Q"
      },
      "source": [
        "## Dealing with imbalance"
      ]
    },
    {
      "cell_type": "markdown",
      "metadata": {
        "id": "gdwWhxZLPy0Q"
      },
      "source": [
        "The simplest way to deal with imbalances is to include a class weighting in the model:"
      ]
    },
    {
      "cell_type": "code",
      "execution_count": 19,
      "metadata": {
        "colab": {
          "base_uri": "https://localhost:8080/"
        },
        "id": "RXflWPvBPy0Q",
        "outputId": "957b094f-2aea-4eb4-d559-119e007aecf0"
      },
      "outputs": [
        {
          "output_type": "execute_result",
          "data": {
            "text/plain": [
              "0.5607476635514019"
            ]
          },
          "metadata": {},
          "execution_count": 19
        }
      ],
      "source": [
        "model = RandomForestClassifier(\n",
        "    n_estimators=30, max_depth=12, random_state=12345, class_weight='balanced')\n",
        "model.fit(features_train, target_train)\n",
        "predictions = model.predict(features_valid)\n",
        "f1_score(target_valid, predictions)"
      ]
    },
    {
      "cell_type": "markdown",
      "metadata": {
        "id": "Hyc8nlm0Py0Q"
      },
      "source": [
        "Upsampling method - increasing the number of observations of the target class in the sample by copying existing records:"
      ]
    },
    {
      "cell_type": "code",
      "execution_count": 20,
      "metadata": {
        "id": "R5KvtGezPy0Q"
      },
      "outputs": [],
      "source": [
        "def upsample(features, target, repeat):\n",
        "    \"\"\"The function increases the number of records of the target class by N=repeat times\"\"\"\n",
        "    features_zeros = features[target == 0] \n",
        "    features_ones = features[target == 1] \n",
        "    target_zeros = target[target == 0] \n",
        "    target_ones = target[target == 1]\n",
        "    features_upsampled = pd.concat([features_zeros] + [features_ones] * repeat) \n",
        "    target_upsampled = pd.concat([target_zeros] + [target_ones] * repeat)\n",
        "    features_upsampled, target_upsampled = shuffle(\n",
        "        features_upsampled, target_upsampled, random_state=12345)\n",
        "    return features_upsampled, target_upsampled"
      ]
    },
    {
      "cell_type": "code",
      "execution_count": 21,
      "metadata": {
        "id": "k4ZZmfmjPy0R"
      },
      "outputs": [],
      "source": [
        "features_upsampled, target_upsampled = upsample(features_train, target_train, 4)"
      ]
    },
    {
      "cell_type": "code",
      "execution_count": 22,
      "metadata": {
        "colab": {
          "base_uri": "https://localhost:8080/"
        },
        "id": "e7haLk1tPy0R",
        "outputId": "048c369f-d3db-4ad2-a17a-21449896d9a9"
      },
      "outputs": [
        {
          "output_type": "execute_result",
          "data": {
            "text/plain": [
              "Counter({0: 4804, 1: 4784})"
            ]
          },
          "metadata": {},
          "execution_count": 22
        }
      ],
      "source": [
        "Counter(target_upsampled)"
      ]
    },
    {
      "cell_type": "code",
      "execution_count": 23,
      "metadata": {
        "colab": {
          "base_uri": "https://localhost:8080/"
        },
        "id": "wKICU5h6Py0R",
        "outputId": "2d51e3c6-be3f-4513-87cb-4f9882881044"
      },
      "outputs": [
        {
          "output_type": "execute_result",
          "data": {
            "text/plain": [
              "0.6088992974238876"
            ]
          },
          "metadata": {},
          "execution_count": 23
        }
      ],
      "source": [
        "model = RandomForestClassifier(\n",
        "    n_estimators=30, max_depth=12, random_state=12345)\n",
        "model.fit(features_upsampled, target_upsampled)\n",
        "predictions = model.predict(features_valid)\n",
        "f1_score(target_valid, predictions)"
      ]
    },
    {
      "cell_type": "markdown",
      "metadata": {
        "id": "WAQ-NlHjPy0R"
      },
      "source": [
        "Downsampling method - reducing the number of observations of a non-target class in the sample by removing a portion of the available records."
      ]
    },
    {
      "cell_type": "code",
      "execution_count": 24,
      "metadata": {
        "id": "Gw1ZCmmqPy0R"
      },
      "outputs": [],
      "source": [
        "def downsample(features, target, fraction):\n",
        "    \"\"\"The function reduces the number of records of a non-target class, leaving their fraction equal to fraction\"\"\"\n",
        "    features_zeros = features[target == 0] \n",
        "    features_ones = features[target == 1] \n",
        "    target_zeros = target[target == 0] \n",
        "    target_ones = target[target == 1]\n",
        "    features_downsampled = pd.concat(\n",
        "        [features_zeros.sample(frac=fraction, random_state=12345)] + [features_ones])\n",
        "    target_downsampled = pd.concat(\n",
        "        [target_zeros.sample(frac=fraction, random_state=12345)] + [target_ones])\n",
        "    features_downsampled, target_downsampled = shuffle(\n",
        "        features_downsampled, target_downsampled, random_state=12345)\n",
        "    return features_downsampled, target_downsampled"
      ]
    },
    {
      "cell_type": "code",
      "execution_count": 25,
      "metadata": {
        "id": "BMlO040ZPy0R"
      },
      "outputs": [],
      "source": [
        "features_downsampled, target_downsampled = downsample(features_train, target_train, .25)"
      ]
    },
    {
      "cell_type": "code",
      "execution_count": 26,
      "metadata": {
        "colab": {
          "base_uri": "https://localhost:8080/"
        },
        "id": "lquMOkfAPy0R",
        "outputId": "5ab1bcef-0bb8-4ed8-aafc-2000da1f424a"
      },
      "outputs": [
        {
          "output_type": "execute_result",
          "data": {
            "text/plain": [
              "Counter({0: 1201, 1: 1196})"
            ]
          },
          "metadata": {},
          "execution_count": 26
        }
      ],
      "source": [
        "Counter(target_downsampled)"
      ]
    },
    {
      "cell_type": "code",
      "execution_count": 27,
      "metadata": {
        "colab": {
          "base_uri": "https://localhost:8080/"
        },
        "id": "5vhlOa4cPy0R",
        "outputId": "1b939ddb-12ca-4561-9168-1a9a5e6f2925"
      },
      "outputs": [
        {
          "output_type": "execute_result",
          "data": {
            "text/plain": [
              "0.5740740740740742"
            ]
          },
          "metadata": {},
          "execution_count": 27
        }
      ],
      "source": [
        "model.fit(features_downsampled, target_downsampled)\n",
        "predictions = model.predict(features_valid)\n",
        "f1_score(target_valid, predictions)"
      ]
    },
    {
      "cell_type": "markdown",
      "metadata": {
        "id": "QUKHf9K7Py0R"
      },
      "source": [
        "Conclusion: of the three methods considered for dealing with imbalances, upsampling showed the largest increase in the target metric. The required value f1=0.59 was exceeded (f1=0.6088992974238876)."
      ]
    },
    {
      "cell_type": "markdown",
      "metadata": {
        "id": "G17b29irPy0R"
      },
      "source": [
        "## Model testing"
      ]
    },
    {
      "cell_type": "markdown",
      "metadata": {
        "id": "S-Z9iFymPy0R"
      },
      "source": [
        "We will test the model trained on data compensated by upsampling"
      ]
    },
    {
      "cell_type": "code",
      "execution_count": 28,
      "metadata": {
        "id": "eW8Q7klDPy0R"
      },
      "outputs": [],
      "source": [
        "model.fit(features_upsampled, target_upsampled)\n",
        "predictions = model.predict(features_test)"
      ]
    },
    {
      "cell_type": "code",
      "execution_count": 29,
      "metadata": {
        "colab": {
          "base_uri": "https://localhost:8080/"
        },
        "id": "KOJoCf-jPy0R",
        "outputId": "f31ef33d-e41c-4eb4-be84-3370e6dd6c3a"
      },
      "outputs": [
        {
          "output_type": "execute_result",
          "data": {
            "text/plain": [
              "Counter({0: 1582, 1: 418})"
            ]
          },
          "metadata": {},
          "execution_count": 29
        }
      ],
      "source": [
        "Counter(target_test)"
      ]
    },
    {
      "cell_type": "markdown",
      "metadata": {
        "id": "mdrFf2ohPy0R"
      },
      "source": [
        "To represent the quality of the model, we will create a confusion matrix:"
      ]
    },
    {
      "cell_type": "code",
      "execution_count": 30,
      "metadata": {
        "colab": {
          "base_uri": "https://localhost:8080/"
        },
        "id": "gTH7Ntp0Py0S",
        "outputId": "26acbc92-0427-4f8f-e705-a901567380e5"
      },
      "outputs": [
        {
          "output_type": "execute_result",
          "data": {
            "text/plain": [
              "array([[1403,  179],\n",
              "       [ 152,  266]])"
            ]
          },
          "metadata": {},
          "execution_count": 30
        }
      ],
      "source": [
        "confusion_matrix(target_test, predictions)"
      ]
    },
    {
      "cell_type": "markdown",
      "metadata": {
        "id": "RVQpE66SPy0S"
      },
      "source": [
        "Let's create a ROC curve and calculate the value of the roc_auc_score metric:"
      ]
    },
    {
      "cell_type": "code",
      "execution_count": 31,
      "metadata": {
        "id": "gam7PxQOPy0S"
      },
      "outputs": [],
      "source": [
        "probabilities_test = model.predict_proba(features_test)\n",
        "probabilities_one_test = probabilities_test[:, 1]"
      ]
    },
    {
      "cell_type": "code",
      "execution_count": 32,
      "metadata": {
        "colab": {
          "base_uri": "https://localhost:8080/",
          "height": 295
        },
        "id": "gGbJoaw-Py0S",
        "outputId": "43b44c1d-ebd0-497c-f6fa-b121a5abd2b9"
      },
      "outputs": [
        {
          "output_type": "display_data",
          "data": {
            "text/plain": [
              "<Figure size 432x288 with 1 Axes>"
            ],
            "image/png": "[encoded data removed]"
          },
          "metadata": {
            "needs_background": "light"
          }
        }
      ],
      "source": [
        "fpr, tpr, thresholds = roc_curve(target_test, probabilities_one_test)\n",
        "plt.figure()\n",
        "plt.plot(fpr, tpr)\n",
        "plt.plot([0, 1], [0, 1], linestyle='--')\n",
        "plt.ylim([0.0, 1.0])\n",
        "plt.xlim([0.0, 1.0])\n",
        "plt.xlabel('False Positive Rate')\n",
        "plt.ylabel('True Positive Rate')\n",
        "plt.title('ROC-curve')\n",
        "plt.show()"
      ]
    },
    {
      "cell_type": "code",
      "execution_count": 33,
      "metadata": {
        "colab": {
          "base_uri": "https://localhost:8080/"
        },
        "id": "d1eVRsVGPy0S",
        "outputId": "57d79b39-1166-47d5-f3ca-345769194de0"
      },
      "outputs": [
        {
          "output_type": "execute_result",
          "data": {
            "text/plain": [
              "0.842706373738046"
            ]
          },
          "metadata": {},
          "execution_count": 33
        }
      ],
      "source": [
        "roc_auc_score(target_test, probabilities_one_test)"
      ]
    },
    {
      "cell_type": "markdown",
      "metadata": {
        "id": "pfiLfGxxPy0S"
      },
      "source": [
        "Conclusions: The constructed model has a rather high value of ROC-AUC, as well as the value f1=0.6088992974238876, which exceeds the required threshold, therefore the model meets the set quality requirements."
      ]
    }
  ],
  "metadata": {
    "ExecuteTimeLog": [
      {
        "duration": 883,
        "start_time": "2021-12-23T14:38:38.282Z"
      },
      {
        "duration": 100,
        "start_time": "2021-12-23T14:39:30.881Z"
      },
      {
        "duration": 13,
        "start_time": "2021-12-23T14:40:02.813Z"
      },
      {
        "duration": 9,
        "start_time": "2021-12-23T14:40:53.721Z"
      },
      {
        "duration": 9,
        "start_time": "2021-12-23T14:41:19.200Z"
      },
      {
        "duration": 8,
        "start_time": "2021-12-23T14:41:27.326Z"
      },
      {
        "duration": 772,
        "start_time": "2021-12-23T14:42:54.799Z"
      },
      {
        "duration": 10,
        "start_time": "2021-12-23T14:43:36.889Z"
      },
      {
        "duration": 10,
        "start_time": "2021-12-23T14:44:19.068Z"
      },
      {
        "duration": 11,
        "start_time": "2021-12-23T14:44:44.204Z"
      },
      {
        "duration": 553,
        "start_time": "2021-12-23T14:47:08.227Z"
      },
      {
        "duration": 302,
        "start_time": "2021-12-23T14:52:18.383Z"
      },
      {
        "duration": 38,
        "start_time": "2021-12-23T14:52:29.268Z"
      },
      {
        "duration": 426,
        "start_time": "2021-12-23T14:53:42.351Z"
      },
      {
        "duration": 410,
        "start_time": "2021-12-23T14:53:51.359Z"
      },
      {
        "duration": 7,
        "start_time": "2021-12-23T14:54:03.200Z"
      },
      {
        "duration": 21,
        "start_time": "2021-12-23T14:54:05.428Z"
      },
      {
        "duration": 28,
        "start_time": "2021-12-23T14:54:08.212Z"
      },
      {
        "duration": 518,
        "start_time": "2021-12-23T14:58:01.568Z"
      },
      {
        "duration": 8,
        "start_time": "2021-12-23T14:58:12.343Z"
      },
      {
        "duration": 866,
        "start_time": "2021-12-23T14:58:21.707Z"
      },
      {
        "duration": 1385,
        "start_time": "2021-12-23T14:58:31.422Z"
      },
      {
        "duration": 63,
        "start_time": "2021-12-23T14:58:32.810Z"
      },
      {
        "duration": 12,
        "start_time": "2021-12-23T14:58:32.876Z"
      },
      {
        "duration": 12,
        "start_time": "2021-12-23T14:58:32.892Z"
      },
      {
        "duration": 6,
        "start_time": "2021-12-23T14:58:32.907Z"
      },
      {
        "duration": 53,
        "start_time": "2021-12-23T14:58:32.917Z"
      },
      {
        "duration": 9,
        "start_time": "2021-12-23T14:58:32.972Z"
      },
      {
        "duration": 22,
        "start_time": "2021-12-23T14:58:32.985Z"
      },
      {
        "duration": 57,
        "start_time": "2021-12-23T14:58:33.010Z"
      },
      {
        "duration": 10,
        "start_time": "2021-12-23T14:58:33.069Z"
      },
      {
        "duration": 10,
        "start_time": "2021-12-23T15:00:20.378Z"
      },
      {
        "duration": 12,
        "start_time": "2021-12-23T15:01:05.384Z"
      },
      {
        "duration": 4,
        "start_time": "2021-12-23T15:05:46.797Z"
      },
      {
        "duration": 4,
        "start_time": "2021-12-23T15:07:32.544Z"
      },
      {
        "duration": 606,
        "start_time": "2021-12-23T15:08:30.526Z"
      },
      {
        "duration": 32,
        "start_time": "2021-12-23T15:09:06.281Z"
      },
      {
        "duration": 1477,
        "start_time": "2021-12-23T15:09:15.316Z"
      },
      {
        "duration": 61,
        "start_time": "2021-12-23T15:09:16.795Z"
      },
      {
        "duration": 13,
        "start_time": "2021-12-23T15:09:16.860Z"
      },
      {
        "duration": 11,
        "start_time": "2021-12-23T15:09:16.876Z"
      },
      {
        "duration": 5,
        "start_time": "2021-12-23T15:09:16.890Z"
      },
      {
        "duration": 11,
        "start_time": "2021-12-23T15:09:16.897Z"
      },
      {
        "duration": 80,
        "start_time": "2021-12-23T15:09:16.911Z"
      },
      {
        "duration": 6,
        "start_time": "2021-12-23T15:09:16.994Z"
      },
      {
        "duration": 23,
        "start_time": "2021-12-23T15:09:17.004Z"
      },
      {
        "duration": 56,
        "start_time": "2021-12-23T15:09:17.030Z"
      },
      {
        "duration": 7,
        "start_time": "2021-12-23T15:09:17.089Z"
      },
      {
        "duration": 9,
        "start_time": "2021-12-23T15:09:17.098Z"
      },
      {
        "duration": 565,
        "start_time": "2021-12-23T15:09:17.110Z"
      },
      {
        "duration": 8,
        "start_time": "2021-12-23T15:09:29.507Z"
      },
      {
        "duration": 2320,
        "start_time": "2021-12-23T15:09:44.440Z"
      },
      {
        "duration": 62,
        "start_time": "2021-12-23T15:09:46.764Z"
      },
      {
        "duration": 32,
        "start_time": "2021-12-23T15:09:46.834Z"
      },
      {
        "duration": 11,
        "start_time": "2021-12-23T15:09:46.868Z"
      },
      {
        "duration": 6,
        "start_time": "2021-12-23T15:09:46.882Z"
      },
      {
        "duration": 10,
        "start_time": "2021-12-23T15:09:46.890Z"
      },
      {
        "duration": 8,
        "start_time": "2021-12-23T15:09:46.903Z"
      },
      {
        "duration": 7,
        "start_time": "2021-12-23T15:09:46.960Z"
      },
      {
        "duration": 24,
        "start_time": "2021-12-23T15:09:46.970Z"
      },
      {
        "duration": 29,
        "start_time": "2021-12-23T15:09:46.996Z"
      },
      {
        "duration": 37,
        "start_time": "2021-12-23T15:09:47.027Z"
      },
      {
        "duration": 10,
        "start_time": "2021-12-23T15:09:47.067Z"
      },
      {
        "duration": 99,
        "start_time": "2021-12-23T15:09:47.080Z"
      },
      {
        "duration": 83,
        "start_time": "2021-12-23T15:11:27.766Z"
      },
      {
        "duration": 167,
        "start_time": "2021-12-23T15:12:04.109Z"
      },
      {
        "duration": 1176,
        "start_time": "2021-12-23T15:17:46.472Z"
      },
      {
        "duration": 1125,
        "start_time": "2021-12-23T15:18:01.789Z"
      },
      {
        "duration": 1213,
        "start_time": "2021-12-23T15:18:29.665Z"
      },
      {
        "duration": 710,
        "start_time": "2021-12-23T15:19:09.114Z"
      },
      {
        "duration": 715,
        "start_time": "2021-12-23T15:19:17.332Z"
      },
      {
        "duration": 715,
        "start_time": "2021-12-23T15:19:57.344Z"
      },
      {
        "duration": 720,
        "start_time": "2021-12-23T15:20:14.339Z"
      },
      {
        "duration": 20,
        "start_time": "2021-12-23T15:21:24.122Z"
      },
      {
        "duration": 26,
        "start_time": "2021-12-23T15:21:34.875Z"
      },
      {
        "duration": 806,
        "start_time": "2021-12-23T15:21:48.208Z"
      },
      {
        "duration": 718,
        "start_time": "2021-12-23T15:21:55.482Z"
      },
      {
        "duration": 706,
        "start_time": "2021-12-23T15:22:20.484Z"
      },
      {
        "duration": 1742,
        "start_time": "2021-12-23T15:27:45.130Z"
      },
      {
        "duration": 8280,
        "start_time": "2021-12-23T15:28:06.981Z"
      },
      {
        "duration": 4794,
        "start_time": "2021-12-23T15:28:38.412Z"
      },
      {
        "duration": 27,
        "start_time": "2021-12-23T15:31:19.077Z"
      },
      {
        "duration": 653,
        "start_time": "2021-12-23T15:31:22.882Z"
      },
      {
        "duration": 73103,
        "start_time": "2021-12-23T15:31:46.817Z"
      },
      {
        "duration": 83370,
        "start_time": "2021-12-23T15:39:50.458Z"
      },
      {
        "duration": 70,
        "start_time": "2021-12-23T15:41:13.831Z"
      },
      {
        "duration": 445,
        "start_time": "2021-12-23T15:41:31.329Z"
      },
      {
        "duration": 60,
        "start_time": "2021-12-23T15:41:39.594Z"
      },
      {
        "duration": 4,
        "start_time": "2021-12-23T15:45:53.889Z"
      },
      {
        "duration": 142,
        "start_time": "2021-12-23T15:47:03.141Z"
      },
      {
        "duration": 1534,
        "start_time": "2021-12-23T15:47:38.004Z"
      },
      {
        "duration": 66,
        "start_time": "2021-12-23T15:47:39.540Z"
      },
      {
        "duration": 13,
        "start_time": "2021-12-23T15:47:39.609Z"
      },
      {
        "duration": 44,
        "start_time": "2021-12-23T15:47:39.626Z"
      },
      {
        "duration": 7,
        "start_time": "2021-12-23T15:47:39.673Z"
      },
      {
        "duration": 13,
        "start_time": "2021-12-23T15:47:39.683Z"
      },
      {
        "duration": 9,
        "start_time": "2021-12-23T15:47:39.699Z"
      },
      {
        "duration": 6,
        "start_time": "2021-12-23T15:47:39.713Z"
      },
      {
        "duration": 24,
        "start_time": "2021-12-23T15:47:39.760Z"
      },
      {
        "duration": 31,
        "start_time": "2021-12-23T15:47:39.787Z"
      },
      {
        "duration": 46,
        "start_time": "2021-12-23T15:47:39.820Z"
      },
      {
        "duration": 12,
        "start_time": "2021-12-23T15:47:39.868Z"
      },
      {
        "duration": 541,
        "start_time": "2021-12-23T15:47:39.883Z"
      },
      {
        "duration": -79,
        "start_time": "2021-12-23T15:47:40.505Z"
      },
      {
        "duration": -78,
        "start_time": "2021-12-23T15:47:40.506Z"
      },
      {
        "duration": 1153,
        "start_time": "2021-12-23T15:48:09.482Z"
      },
      {
        "duration": 851,
        "start_time": "2021-12-23T15:48:18.254Z"
      },
      {
        "duration": 82952,
        "start_time": "2021-12-23T15:48:23.896Z"
      },
      {
        "duration": 51,
        "start_time": "2021-12-23T15:49:51.411Z"
      },
      {
        "duration": 55,
        "start_time": "2021-12-23T15:50:10.649Z"
      },
      {
        "duration": 143,
        "start_time": "2021-12-23T15:50:54.820Z"
      },
      {
        "duration": 128,
        "start_time": "2021-12-23T15:51:09.443Z"
      },
      {
        "duration": 68,
        "start_time": "2021-12-23T15:51:45.894Z"
      },
      {
        "duration": 90,
        "start_time": "2021-12-23T15:51:55.378Z"
      },
      {
        "duration": 54,
        "start_time": "2021-12-23T15:52:20.608Z"
      },
      {
        "duration": 49,
        "start_time": "2021-12-23T15:52:28.742Z"
      },
      {
        "duration": 82,
        "start_time": "2021-12-23T15:52:32.382Z"
      },
      {
        "duration": 58,
        "start_time": "2021-12-23T15:52:34.513Z"
      },
      {
        "duration": 47,
        "start_time": "2021-12-23T15:52:37.021Z"
      },
      {
        "duration": 1315,
        "start_time": "2021-12-24T07:10:08.568Z"
      },
      {
        "duration": 60,
        "start_time": "2021-12-24T07:10:09.885Z"
      },
      {
        "duration": 11,
        "start_time": "2021-12-24T07:10:09.948Z"
      },
      {
        "duration": 20,
        "start_time": "2021-12-24T07:10:09.963Z"
      },
      {
        "duration": 21,
        "start_time": "2021-12-24T07:10:09.985Z"
      },
      {
        "duration": 25,
        "start_time": "2021-12-24T07:10:10.009Z"
      },
      {
        "duration": 11,
        "start_time": "2021-12-24T07:10:10.036Z"
      },
      {
        "duration": 15,
        "start_time": "2021-12-24T07:10:10.052Z"
      },
      {
        "duration": 38,
        "start_time": "2021-12-24T07:10:10.070Z"
      },
      {
        "duration": 57,
        "start_time": "2021-12-24T07:10:10.110Z"
      },
      {
        "duration": 9,
        "start_time": "2021-12-24T07:10:10.170Z"
      },
      {
        "duration": 23,
        "start_time": "2021-12-24T07:10:10.182Z"
      },
      {
        "duration": 674,
        "start_time": "2021-12-24T07:10:10.208Z"
      },
      {
        "duration": 70582,
        "start_time": "2021-12-24T07:10:10.885Z"
      },
      {
        "duration": 160,
        "start_time": "2021-12-24T07:11:21.469Z"
      },
      {
        "duration": 7,
        "start_time": "2021-12-24T07:18:46.990Z"
      },
      {
        "duration": 9,
        "start_time": "2021-12-24T07:19:00.773Z"
      },
      {
        "duration": 10,
        "start_time": "2021-12-24T07:19:12.168Z"
      },
      {
        "duration": 5,
        "start_time": "2021-12-24T07:21:16.309Z"
      },
      {
        "duration": 7,
        "start_time": "2021-12-24T07:24:37.044Z"
      },
      {
        "duration": 8,
        "start_time": "2021-12-24T07:24:56.033Z"
      },
      {
        "duration": 58,
        "start_time": "2021-12-24T07:27:38.868Z"
      },
      {
        "duration": 129,
        "start_time": "2021-12-24T07:28:01.196Z"
      },
      {
        "duration": 458,
        "start_time": "2021-12-24T07:28:32.066Z"
      },
      {
        "duration": 688,
        "start_time": "2021-12-24T07:29:25.446Z"
      },
      {
        "duration": 652,
        "start_time": "2021-12-24T07:31:56.908Z"
      },
      {
        "duration": 69335,
        "start_time": "2021-12-24T07:33:52.472Z"
      },
      {
        "duration": 16,
        "start_time": "2021-12-24T07:35:01.809Z"
      },
      {
        "duration": 306,
        "start_time": "2021-12-24T11:51:20.754Z"
      },
      {
        "duration": 976,
        "start_time": "2021-12-24T11:51:29.193Z"
      },
      {
        "duration": 50,
        "start_time": "2021-12-24T11:51:30.171Z"
      },
      {
        "duration": 19,
        "start_time": "2021-12-24T11:51:30.224Z"
      },
      {
        "duration": 23,
        "start_time": "2021-12-24T11:51:30.247Z"
      },
      {
        "duration": 5,
        "start_time": "2021-12-24T11:51:30.272Z"
      },
      {
        "duration": 16,
        "start_time": "2021-12-24T11:51:30.279Z"
      },
      {
        "duration": 14,
        "start_time": "2021-12-24T11:51:30.296Z"
      },
      {
        "duration": 19,
        "start_time": "2021-12-24T11:51:30.313Z"
      },
      {
        "duration": 37,
        "start_time": "2021-12-24T11:51:30.334Z"
      },
      {
        "duration": 28,
        "start_time": "2021-12-24T11:51:30.373Z"
      },
      {
        "duration": 5,
        "start_time": "2021-12-24T11:51:30.403Z"
      },
      {
        "duration": 10,
        "start_time": "2021-12-24T11:51:30.409Z"
      },
      {
        "duration": 11,
        "start_time": "2021-12-24T11:51:30.421Z"
      },
      {
        "duration": 392,
        "start_time": "2021-12-24T11:51:30.434Z"
      },
      {
        "duration": 40947,
        "start_time": "2021-12-24T11:51:30.828Z"
      },
      {
        "duration": 1277,
        "start_time": "2021-12-24T11:52:11.777Z"
      },
      {
        "duration": 3,
        "start_time": "2021-12-24T11:52:13.056Z"
      },
      {
        "duration": 107,
        "start_time": "2021-12-24T11:52:13.060Z"
      },
      {
        "duration": 79,
        "start_time": "2021-12-24T11:52:13.169Z"
      },
      {
        "duration": 344,
        "start_time": "2021-12-24T11:53:39.486Z"
      },
      {
        "duration": 45366,
        "start_time": "2021-12-24T11:54:29.865Z"
      },
      {
        "duration": 918,
        "start_time": "2021-12-24T11:55:27.132Z"
      },
      {
        "duration": 3,
        "start_time": "2021-12-24T11:58:29.089Z"
      },
      {
        "duration": 7,
        "start_time": "2021-12-24T12:00:28.112Z"
      },
      {
        "duration": 8,
        "start_time": "2021-12-24T12:01:11.197Z"
      },
      {
        "duration": 346,
        "start_time": "2021-12-24T12:01:28.205Z"
      },
      {
        "duration": 6,
        "start_time": "2021-12-24T12:01:35.654Z"
      },
      {
        "duration": 281,
        "start_time": "2021-12-24T12:01:54.154Z"
      },
      {
        "duration": 4,
        "start_time": "2021-12-24T12:17:16.223Z"
      },
      {
        "duration": 226,
        "start_time": "2021-12-24T12:21:19.259Z"
      },
      {
        "duration": 1206,
        "start_time": "2021-12-24T12:21:30.414Z"
      },
      {
        "duration": 52,
        "start_time": "2021-12-24T12:21:31.622Z"
      },
      {
        "duration": 9,
        "start_time": "2021-12-24T12:21:31.676Z"
      },
      {
        "duration": 8,
        "start_time": "2021-12-24T12:21:31.687Z"
      },
      {
        "duration": 15,
        "start_time": "2021-12-24T12:21:31.697Z"
      },
      {
        "duration": 13,
        "start_time": "2021-12-24T12:21:31.714Z"
      },
      {
        "duration": 28,
        "start_time": "2021-12-24T12:21:31.728Z"
      },
      {
        "duration": 6,
        "start_time": "2021-12-24T12:21:31.758Z"
      },
      {
        "duration": 27,
        "start_time": "2021-12-24T12:21:31.766Z"
      },
      {
        "duration": 22,
        "start_time": "2021-12-24T12:21:31.794Z"
      },
      {
        "duration": 6,
        "start_time": "2021-12-24T12:21:31.817Z"
      },
      {
        "duration": 31,
        "start_time": "2021-12-24T12:21:31.825Z"
      },
      {
        "duration": 36,
        "start_time": "2021-12-24T12:21:31.858Z"
      },
      {
        "duration": 385,
        "start_time": "2021-12-24T12:21:31.896Z"
      },
      {
        "duration": 43510,
        "start_time": "2021-12-24T12:21:32.283Z"
      },
      {
        "duration": 545,
        "start_time": "2021-12-24T12:22:15.795Z"
      },
      {
        "duration": 14,
        "start_time": "2021-12-24T12:22:16.343Z"
      },
      {
        "duration": 328,
        "start_time": "2021-12-24T12:22:16.359Z"
      },
      {
        "duration": 258,
        "start_time": "2021-12-24T12:23:35.357Z"
      },
      {
        "duration": 4,
        "start_time": "2021-12-24T12:29:19.838Z"
      },
      {
        "duration": 643,
        "start_time": "2021-12-24T12:30:20.465Z"
      },
      {
        "duration": 3,
        "start_time": "2021-12-24T12:31:05.523Z"
      },
      {
        "duration": 17,
        "start_time": "2021-12-24T12:31:12.631Z"
      },
      {
        "duration": 4,
        "start_time": "2021-12-24T12:31:37.055Z"
      },
      {
        "duration": 6,
        "start_time": "2021-12-24T12:32:02.181Z"
      },
      {
        "duration": 7,
        "start_time": "2021-12-24T12:34:40.778Z"
      },
      {
        "duration": 354,
        "start_time": "2021-12-24T12:35:41.204Z"
      },
      {
        "duration": 10,
        "start_time": "2021-12-24T12:36:40.354Z"
      },
      {
        "duration": 3,
        "start_time": "2021-12-24T12:37:02.922Z"
      },
      {
        "duration": 287,
        "start_time": "2021-12-24T12:37:08.535Z"
      },
      {
        "duration": 269,
        "start_time": "2021-12-24T12:37:37.602Z"
      },
      {
        "duration": 486,
        "start_time": "2021-12-24T12:38:08.087Z"
      },
      {
        "duration": 259,
        "start_time": "2021-12-24T12:38:13.780Z"
      },
      {
        "duration": 3,
        "start_time": "2021-12-24T12:38:19.454Z"
      },
      {
        "duration": 481,
        "start_time": "2021-12-24T12:38:23.854Z"
      },
      {
        "duration": 14,
        "start_time": "2021-12-24T12:38:55.164Z"
      },
      {
        "duration": 5,
        "start_time": "2021-12-24T12:38:56.568Z"
      },
      {
        "duration": 7,
        "start_time": "2021-12-24T12:38:57.931Z"
      },
      {
        "duration": 3,
        "start_time": "2021-12-24T12:38:59.784Z"
      },
      {
        "duration": 274,
        "start_time": "2021-12-24T12:39:06.524Z"
      },
      {
        "duration": 5,
        "start_time": "2021-12-24T12:43:22.852Z"
      },
      {
        "duration": 9,
        "start_time": "2021-12-24T12:44:10.945Z"
      },
      {
        "duration": 4,
        "start_time": "2021-12-24T12:44:14.261Z"
      },
      {
        "duration": 14,
        "start_time": "2021-12-24T12:44:24.372Z"
      },
      {
        "duration": 5,
        "start_time": "2021-12-24T12:44:25.485Z"
      },
      {
        "duration": 7,
        "start_time": "2021-12-24T12:44:26.217Z"
      },
      {
        "duration": 5,
        "start_time": "2021-12-24T12:44:26.952Z"
      },
      {
        "duration": 307,
        "start_time": "2021-12-24T12:44:38.280Z"
      },
      {
        "duration": 325,
        "start_time": "2021-12-24T12:44:44.663Z"
      },
      {
        "duration": 342,
        "start_time": "2021-12-24T12:45:15.395Z"
      },
      {
        "duration": 327,
        "start_time": "2021-12-24T12:45:28.738Z"
      },
      {
        "duration": 325,
        "start_time": "2021-12-24T12:45:39.163Z"
      },
      {
        "duration": 217,
        "start_time": "2021-12-24T12:45:55.361Z"
      },
      {
        "duration": 320,
        "start_time": "2021-12-24T12:45:59.613Z"
      },
      {
        "duration": 4,
        "start_time": "2021-12-24T12:48:45.010Z"
      },
      {
        "duration": 18,
        "start_time": "2021-12-24T12:49:37.526Z"
      },
      {
        "duration": 4,
        "start_time": "2021-12-24T12:49:53.272Z"
      },
      {
        "duration": 6,
        "start_time": "2021-12-24T12:50:14.245Z"
      },
      {
        "duration": 7,
        "start_time": "2021-12-24T12:54:45.948Z"
      },
      {
        "duration": 329,
        "start_time": "2021-12-24T12:55:03.268Z"
      },
      {
        "duration": 119,
        "start_time": "2021-12-24T12:55:35.197Z"
      },
      {
        "duration": 3,
        "start_time": "2021-12-24T13:16:22.182Z"
      },
      {
        "duration": 20,
        "start_time": "2021-12-24T13:17:01.338Z"
      },
      {
        "duration": 6,
        "start_time": "2021-12-24T13:17:28.269Z"
      },
      {
        "duration": 4,
        "start_time": "2021-12-24T13:18:20.756Z"
      },
      {
        "duration": 348,
        "start_time": "2021-12-24T13:19:37.802Z"
      },
      {
        "duration": 8,
        "start_time": "2021-12-24T13:19:56.156Z"
      },
      {
        "duration": 272,
        "start_time": "2021-12-24T13:26:53.465Z"
      },
      {
        "duration": 79,
        "start_time": "2021-12-24T13:27:19.630Z"
      },
      {
        "duration": 162,
        "start_time": "2021-12-24T13:27:24.716Z"
      },
      {
        "duration": 278,
        "start_time": "2021-12-24T13:27:55.409Z"
      },
      {
        "duration": 8,
        "start_time": "2021-12-24T13:28:01.555Z"
      },
      {
        "duration": 15,
        "start_time": "2021-12-24T13:30:46.038Z"
      },
      {
        "duration": 5,
        "start_time": "2021-12-24T13:30:47.465Z"
      },
      {
        "duration": 7,
        "start_time": "2021-12-24T13:30:52.728Z"
      },
      {
        "duration": 13,
        "start_time": "2021-12-24T13:31:25.876Z"
      },
      {
        "duration": 360,
        "start_time": "2021-12-24T13:31:49.904Z"
      },
      {
        "duration": 19,
        "start_time": "2021-12-24T13:32:24.130Z"
      },
      {
        "duration": 6,
        "start_time": "2021-12-24T13:32:26.692Z"
      },
      {
        "duration": 5,
        "start_time": "2021-12-24T13:32:44.686Z"
      },
      {
        "duration": 114,
        "start_time": "2021-12-24T13:33:10.416Z"
      },
      {
        "duration": 295,
        "start_time": "2021-12-24T13:33:39.054Z"
      },
      {
        "duration": 256,
        "start_time": "2021-12-24T13:33:40.797Z"
      },
      {
        "duration": 8,
        "start_time": "2021-12-24T13:33:47.719Z"
      },
      {
        "duration": 19,
        "start_time": "2021-12-24T13:34:07.025Z"
      },
      {
        "duration": 6,
        "start_time": "2021-12-24T13:34:09.534Z"
      },
      {
        "duration": 148,
        "start_time": "2021-12-24T13:34:14.564Z"
      },
      {
        "duration": 4,
        "start_time": "2021-12-24T13:34:46.634Z"
      },
      {
        "duration": 334,
        "start_time": "2021-12-24T13:38:45.627Z"
      },
      {
        "duration": 1073,
        "start_time": "2021-12-24T13:40:36.589Z"
      },
      {
        "duration": 43,
        "start_time": "2021-12-24T13:40:37.664Z"
      },
      {
        "duration": 8,
        "start_time": "2021-12-24T13:40:37.709Z"
      },
      {
        "duration": 7,
        "start_time": "2021-12-24T13:40:37.719Z"
      },
      {
        "duration": 18,
        "start_time": "2021-12-24T13:40:37.728Z"
      },
      {
        "duration": 16,
        "start_time": "2021-12-24T13:40:37.748Z"
      },
      {
        "duration": 7,
        "start_time": "2021-12-24T13:40:37.766Z"
      },
      {
        "duration": 8,
        "start_time": "2021-12-24T13:40:37.774Z"
      },
      {
        "duration": 15,
        "start_time": "2021-12-24T13:40:37.784Z"
      },
      {
        "duration": 15,
        "start_time": "2021-12-24T13:40:37.801Z"
      },
      {
        "duration": 5,
        "start_time": "2021-12-24T13:40:37.817Z"
      },
      {
        "duration": 27,
        "start_time": "2021-12-24T13:40:37.823Z"
      },
      {
        "duration": 6,
        "start_time": "2021-12-24T13:40:37.852Z"
      },
      {
        "duration": 346,
        "start_time": "2021-12-24T13:40:37.859Z"
      },
      {
        "duration": 44137,
        "start_time": "2021-12-24T13:40:38.206Z"
      },
      {
        "duration": 1213,
        "start_time": "2021-12-24T13:41:22.345Z"
      },
      {
        "duration": 400,
        "start_time": "2021-12-24T13:41:23.560Z"
      },
      {
        "duration": 4,
        "start_time": "2021-12-24T13:41:23.961Z"
      },
      {
        "duration": 16,
        "start_time": "2021-12-24T13:41:23.967Z"
      },
      {
        "duration": 5,
        "start_time": "2021-12-24T13:41:23.985Z"
      },
      {
        "duration": 322,
        "start_time": "2021-12-24T13:41:23.992Z"
      },
      {
        "duration": 5,
        "start_time": "2021-12-24T13:41:24.315Z"
      },
      {
        "duration": 19,
        "start_time": "2021-12-24T13:41:24.322Z"
      },
      {
        "duration": 5,
        "start_time": "2021-12-24T13:41:24.350Z"
      },
      {
        "duration": 121,
        "start_time": "2021-12-24T13:41:24.356Z"
      },
      {
        "duration": 326,
        "start_time": "2021-12-24T13:41:24.479Z"
      },
      {
        "duration": 5,
        "start_time": "2021-12-24T13:41:24.809Z"
      },
      {
        "duration": 20,
        "start_time": "2021-12-24T13:41:24.815Z"
      },
      {
        "duration": 24,
        "start_time": "2021-12-24T13:41:24.836Z"
      },
      {
        "duration": 174,
        "start_time": "2021-12-24T13:41:24.862Z"
      },
      {
        "duration": 11,
        "start_time": "2021-12-24T13:41:25.037Z"
      },
      {
        "duration": 315,
        "start_time": "2021-12-24T13:42:26.935Z"
      },
      {
        "duration": 302,
        "start_time": "2021-12-24T13:42:36.419Z"
      },
      {
        "duration": 309,
        "start_time": "2021-12-24T13:42:43.245Z"
      },
      {
        "duration": 4,
        "start_time": "2021-12-24T13:42:53.954Z"
      },
      {
        "duration": 11,
        "start_time": "2021-12-24T13:42:55.270Z"
      },
      {
        "duration": 4,
        "start_time": "2021-12-24T13:42:56.672Z"
      },
      {
        "duration": 115,
        "start_time": "2021-12-24T13:42:58.728Z"
      },
      {
        "duration": 119,
        "start_time": "2021-12-24T13:43:11.577Z"
      },
      {
        "duration": 321,
        "start_time": "2021-12-24T13:43:22.283Z"
      },
      {
        "duration": 4,
        "start_time": "2021-12-24T13:43:23.835Z"
      },
      {
        "duration": 6,
        "start_time": "2021-12-24T13:43:26.508Z"
      },
      {
        "duration": 16,
        "start_time": "2021-12-24T13:43:34.924Z"
      },
      {
        "duration": 150,
        "start_time": "2021-12-24T13:43:38.390Z"
      },
      {
        "duration": 6,
        "start_time": "2021-12-24T13:43:40.894Z"
      },
      {
        "duration": 4,
        "start_time": "2021-12-24T13:44:12.533Z"
      },
      {
        "duration": 341,
        "start_time": "2021-12-24T14:02:08.778Z"
      },
      {
        "duration": 358,
        "start_time": "2021-12-24T14:02:15.396Z"
      },
      {
        "duration": 48,
        "start_time": "2021-12-24T14:08:00.982Z"
      },
      {
        "duration": 4,
        "start_time": "2021-12-24T14:13:40.216Z"
      },
      {
        "duration": 4,
        "start_time": "2021-12-24T14:16:49.594Z"
      },
      {
        "duration": 95,
        "start_time": "2021-12-24T14:20:14.911Z"
      },
      {
        "duration": 92,
        "start_time": "2021-12-24T14:22:32.942Z"
      },
      {
        "duration": 1145,
        "start_time": "2021-12-24T14:28:26.383Z"
      },
      {
        "duration": 50,
        "start_time": "2021-12-24T14:28:27.530Z"
      },
      {
        "duration": 8,
        "start_time": "2021-12-24T14:28:27.582Z"
      },
      {
        "duration": 35,
        "start_time": "2021-12-24T14:28:27.592Z"
      },
      {
        "duration": 6,
        "start_time": "2021-12-24T14:28:27.629Z"
      },
      {
        "duration": 23,
        "start_time": "2021-12-24T14:28:27.637Z"
      },
      {
        "duration": 11,
        "start_time": "2021-12-24T14:28:27.662Z"
      },
      {
        "duration": 10,
        "start_time": "2021-12-24T14:28:27.675Z"
      },
      {
        "duration": 24,
        "start_time": "2021-12-24T14:28:27.686Z"
      },
      {
        "duration": 35,
        "start_time": "2021-12-24T14:28:27.712Z"
      },
      {
        "duration": 26,
        "start_time": "2021-12-24T14:28:27.753Z"
      },
      {
        "duration": 29,
        "start_time": "2021-12-24T14:28:27.781Z"
      },
      {
        "duration": 10,
        "start_time": "2021-12-24T14:28:27.812Z"
      },
      {
        "duration": 366,
        "start_time": "2021-12-24T14:28:27.823Z"
      },
      {
        "duration": 44571,
        "start_time": "2021-12-24T14:28:28.191Z"
      },
      {
        "duration": 84,
        "start_time": "2021-12-24T14:29:12.764Z"
      },
      {
        "duration": 338,
        "start_time": "2021-12-24T14:29:12.850Z"
      },
      {
        "duration": 4,
        "start_time": "2021-12-24T14:29:13.190Z"
      },
      {
        "duration": 19,
        "start_time": "2021-12-24T14:29:13.195Z"
      },
      {
        "duration": 5,
        "start_time": "2021-12-24T14:29:13.217Z"
      },
      {
        "duration": 406,
        "start_time": "2021-12-24T14:29:13.225Z"
      },
      {
        "duration": 12,
        "start_time": "2021-12-24T14:29:13.633Z"
      },
      {
        "duration": 31,
        "start_time": "2021-12-24T14:29:13.654Z"
      },
      {
        "duration": 19,
        "start_time": "2021-12-24T14:29:13.687Z"
      },
      {
        "duration": 131,
        "start_time": "2021-12-24T14:29:13.707Z"
      },
      {
        "duration": 327,
        "start_time": "2021-12-24T14:29:13.840Z"
      },
      {
        "duration": 5,
        "start_time": "2021-12-24T14:29:14.169Z"
      },
      {
        "duration": 16,
        "start_time": "2021-12-24T14:29:14.176Z"
      },
      {
        "duration": 22,
        "start_time": "2021-12-24T14:29:14.194Z"
      },
      {
        "duration": 191,
        "start_time": "2021-12-24T14:29:14.218Z"
      },
      {
        "duration": 5,
        "start_time": "2021-12-24T14:29:14.411Z"
      },
      {
        "duration": 11,
        "start_time": "2021-12-24T14:31:57.497Z"
      },
      {
        "duration": 1226,
        "start_time": "2021-12-24T14:32:20.867Z"
      },
      {
        "duration": 43,
        "start_time": "2021-12-24T14:32:22.095Z"
      },
      {
        "duration": 11,
        "start_time": "2021-12-24T14:32:22.140Z"
      },
      {
        "duration": 22,
        "start_time": "2021-12-24T14:32:22.155Z"
      },
      {
        "duration": 10,
        "start_time": "2021-12-24T14:32:22.179Z"
      },
      {
        "duration": 5,
        "start_time": "2021-12-24T14:32:22.191Z"
      },
      {
        "duration": 16,
        "start_time": "2021-12-24T14:32:22.197Z"
      },
      {
        "duration": 5,
        "start_time": "2021-12-24T14:32:22.215Z"
      },
      {
        "duration": 24,
        "start_time": "2021-12-24T14:32:22.222Z"
      },
      {
        "duration": 23,
        "start_time": "2021-12-24T14:32:22.249Z"
      },
      {
        "duration": 18,
        "start_time": "2021-12-24T14:32:22.274Z"
      },
      {
        "duration": 12,
        "start_time": "2021-12-24T14:32:22.294Z"
      },
      {
        "duration": 10,
        "start_time": "2021-12-24T14:32:22.307Z"
      },
      {
        "duration": 11,
        "start_time": "2021-12-24T14:32:22.319Z"
      },
      {
        "duration": 375,
        "start_time": "2021-12-24T14:32:22.332Z"
      },
      {
        "duration": 44217,
        "start_time": "2021-12-24T14:32:22.709Z"
      },
      {
        "duration": 132,
        "start_time": "2021-12-24T14:33:06.928Z"
      },
      {
        "duration": 315,
        "start_time": "2021-12-24T14:33:07.062Z"
      },
      {
        "duration": 4,
        "start_time": "2021-12-24T14:33:07.379Z"
      },
      {
        "duration": 43,
        "start_time": "2021-12-24T14:33:07.385Z"
      },
      {
        "duration": 8,
        "start_time": "2021-12-24T14:33:07.430Z"
      },
      {
        "duration": 358,
        "start_time": "2021-12-24T14:33:07.439Z"
      },
      {
        "duration": 4,
        "start_time": "2021-12-24T14:33:07.799Z"
      },
      {
        "duration": 35,
        "start_time": "2021-12-24T14:33:07.804Z"
      },
      {
        "duration": 25,
        "start_time": "2021-12-24T14:33:07.841Z"
      },
      {
        "duration": 131,
        "start_time": "2021-12-24T14:33:07.868Z"
      },
      {
        "duration": 412,
        "start_time": "2021-12-24T14:33:08.002Z"
      },
      {
        "duration": 5,
        "start_time": "2021-12-24T14:33:08.416Z"
      },
      {
        "duration": 53,
        "start_time": "2021-12-24T14:33:08.423Z"
      },
      {
        "duration": 20,
        "start_time": "2021-12-24T14:33:08.477Z"
      },
      {
        "duration": 161,
        "start_time": "2021-12-24T14:33:08.498Z"
      },
      {
        "duration": 5,
        "start_time": "2021-12-24T14:33:08.661Z"
      },
      {
        "duration": 11,
        "start_time": "2021-12-24T14:33:17.875Z"
      },
      {
        "duration": 1120,
        "start_time": "2021-12-24T14:33:46.261Z"
      },
      {
        "duration": 42,
        "start_time": "2021-12-24T14:33:47.383Z"
      },
      {
        "duration": 9,
        "start_time": "2021-12-24T14:33:47.427Z"
      },
      {
        "duration": 17,
        "start_time": "2021-12-24T14:33:47.441Z"
      },
      {
        "duration": 10,
        "start_time": "2021-12-24T14:33:47.460Z"
      },
      {
        "duration": 5,
        "start_time": "2021-12-24T14:33:47.472Z"
      },
      {
        "duration": 12,
        "start_time": "2021-12-24T14:33:47.478Z"
      },
      {
        "duration": 6,
        "start_time": "2021-12-24T14:33:47.492Z"
      },
      {
        "duration": 6,
        "start_time": "2021-12-24T14:33:47.500Z"
      },
      {
        "duration": 55,
        "start_time": "2021-12-24T14:33:47.508Z"
      },
      {
        "duration": 22,
        "start_time": "2021-12-24T14:33:47.565Z"
      },
      {
        "duration": 6,
        "start_time": "2021-12-24T14:33:47.589Z"
      },
      {
        "duration": 8,
        "start_time": "2021-12-24T14:33:47.597Z"
      },
      {
        "duration": 7,
        "start_time": "2021-12-24T14:33:47.607Z"
      },
      {
        "duration": 360,
        "start_time": "2021-12-24T14:33:47.616Z"
      },
      {
        "duration": 43882,
        "start_time": "2021-12-24T14:33:47.978Z"
      },
      {
        "duration": 102,
        "start_time": "2021-12-24T14:34:31.862Z"
      },
      {
        "duration": 251,
        "start_time": "2021-12-24T14:34:32.042Z"
      },
      {
        "duration": 4,
        "start_time": "2021-12-24T14:34:32.295Z"
      },
      {
        "duration": 17,
        "start_time": "2021-12-24T14:34:32.301Z"
      },
      {
        "duration": 6,
        "start_time": "2021-12-24T14:34:32.319Z"
      },
      {
        "duration": 348,
        "start_time": "2021-12-24T14:34:32.327Z"
      },
      {
        "duration": 3,
        "start_time": "2021-12-24T14:34:32.678Z"
      },
      {
        "duration": 15,
        "start_time": "2021-12-24T14:34:32.683Z"
      },
      {
        "duration": 4,
        "start_time": "2021-12-24T14:34:32.699Z"
      },
      {
        "duration": 132,
        "start_time": "2021-12-24T14:34:32.704Z"
      },
      {
        "duration": 347,
        "start_time": "2021-12-24T14:34:32.841Z"
      },
      {
        "duration": 4,
        "start_time": "2021-12-24T14:34:33.189Z"
      },
      {
        "duration": 13,
        "start_time": "2021-12-24T14:34:33.195Z"
      },
      {
        "duration": 17,
        "start_time": "2021-12-24T14:34:33.210Z"
      },
      {
        "duration": 191,
        "start_time": "2021-12-24T14:34:33.228Z"
      },
      {
        "duration": 6,
        "start_time": "2021-12-24T14:34:33.421Z"
      },
      {
        "duration": 1211,
        "start_time": "2021-12-24T14:35:58.371Z"
      },
      {
        "duration": 42,
        "start_time": "2021-12-24T14:35:59.584Z"
      },
      {
        "duration": 13,
        "start_time": "2021-12-24T14:35:59.628Z"
      },
      {
        "duration": 13,
        "start_time": "2021-12-24T14:35:59.643Z"
      },
      {
        "duration": 13,
        "start_time": "2021-12-24T14:35:59.658Z"
      },
      {
        "duration": 4,
        "start_time": "2021-12-24T14:35:59.672Z"
      },
      {
        "duration": 12,
        "start_time": "2021-12-24T14:35:59.680Z"
      },
      {
        "duration": 5,
        "start_time": "2021-12-24T14:35:59.694Z"
      },
      {
        "duration": 4,
        "start_time": "2021-12-24T14:35:59.702Z"
      },
      {
        "duration": 38,
        "start_time": "2021-12-24T14:35:59.708Z"
      },
      {
        "duration": 13,
        "start_time": "2021-12-24T14:35:59.748Z"
      },
      {
        "duration": 7,
        "start_time": "2021-12-24T14:35:59.762Z"
      },
      {
        "duration": 9,
        "start_time": "2021-12-24T14:35:59.770Z"
      },
      {
        "duration": 9,
        "start_time": "2021-12-24T14:35:59.780Z"
      },
      {
        "duration": 358,
        "start_time": "2021-12-24T14:35:59.791Z"
      },
      {
        "duration": 46019,
        "start_time": "2021-12-24T14:36:00.151Z"
      },
      {
        "duration": 82,
        "start_time": "2021-12-24T14:36:46.172Z"
      },
      {
        "duration": 310,
        "start_time": "2021-12-24T14:36:46.256Z"
      },
      {
        "duration": 4,
        "start_time": "2021-12-24T14:36:46.568Z"
      },
      {
        "duration": 16,
        "start_time": "2021-12-24T14:36:46.573Z"
      },
      {
        "duration": 5,
        "start_time": "2021-12-24T14:36:46.590Z"
      },
      {
        "duration": 322,
        "start_time": "2021-12-24T14:36:46.597Z"
      },
      {
        "duration": 4,
        "start_time": "2021-12-24T14:36:46.922Z"
      },
      {
        "duration": 40,
        "start_time": "2021-12-24T14:36:46.928Z"
      },
      {
        "duration": 4,
        "start_time": "2021-12-24T14:36:46.970Z"
      },
      {
        "duration": 119,
        "start_time": "2021-12-24T14:36:46.975Z"
      },
      {
        "duration": 331,
        "start_time": "2021-12-24T14:36:47.096Z"
      },
      {
        "duration": 12,
        "start_time": "2021-12-24T14:36:47.429Z"
      },
      {
        "duration": 7,
        "start_time": "2021-12-24T14:36:47.443Z"
      },
      {
        "duration": 25,
        "start_time": "2021-12-24T14:36:47.452Z"
      },
      {
        "duration": 181,
        "start_time": "2021-12-24T14:36:47.479Z"
      },
      {
        "duration": 5,
        "start_time": "2021-12-24T14:36:47.662Z"
      },
      {
        "duration": 1552,
        "start_time": "2021-12-24T16:06:45.413Z"
      },
      {
        "duration": 53,
        "start_time": "2021-12-24T16:06:46.968Z"
      },
      {
        "duration": 18,
        "start_time": "2021-12-24T16:06:47.023Z"
      },
      {
        "duration": 15,
        "start_time": "2021-12-24T16:06:51.509Z"
      },
      {
        "duration": 14,
        "start_time": "2021-12-24T16:11:49.231Z"
      },
      {
        "duration": 6,
        "start_time": "2021-12-24T16:11:50.086Z"
      },
      {
        "duration": 10,
        "start_time": "2021-12-24T16:11:50.261Z"
      },
      {
        "duration": 9,
        "start_time": "2021-12-24T16:11:50.845Z"
      },
      {
        "duration": 7,
        "start_time": "2021-12-24T16:11:53.471Z"
      },
      {
        "duration": 20,
        "start_time": "2021-12-24T16:11:53.886Z"
      },
      {
        "duration": 18,
        "start_time": "2021-12-24T16:11:54.341Z"
      },
      {
        "duration": 8,
        "start_time": "2021-12-24T16:11:54.517Z"
      },
      {
        "duration": 10,
        "start_time": "2021-12-24T16:11:54.681Z"
      },
      {
        "duration": 8,
        "start_time": "2021-12-24T16:11:54.837Z"
      },
      {
        "duration": 487,
        "start_time": "2021-12-24T16:14:01.387Z"
      },
      {
        "duration": 66867,
        "start_time": "2021-12-24T16:14:02.008Z"
      },
      {
        "duration": 143,
        "start_time": "2021-12-24T16:15:08.877Z"
      },
      {
        "duration": 429,
        "start_time": "2021-12-27T07:00:41.205Z"
      },
      {
        "duration": 1520,
        "start_time": "2021-12-27T07:00:51.870Z"
      },
      {
        "duration": 57,
        "start_time": "2021-12-27T07:00:53.393Z"
      },
      {
        "duration": 12,
        "start_time": "2021-12-27T07:00:53.452Z"
      },
      {
        "duration": 17,
        "start_time": "2021-12-27T07:00:54.164Z"
      },
      {
        "duration": 15,
        "start_time": "2021-12-27T07:00:56.272Z"
      },
      {
        "duration": 6,
        "start_time": "2021-12-27T07:00:57.911Z"
      },
      {
        "duration": 12,
        "start_time": "2021-12-27T07:00:58.657Z"
      },
      {
        "duration": 8,
        "start_time": "2021-12-27T07:01:00.311Z"
      },
      {
        "duration": 7,
        "start_time": "2021-12-27T07:01:04.108Z"
      },
      {
        "duration": 26,
        "start_time": "2021-12-27T07:01:06.379Z"
      },
      {
        "duration": 16,
        "start_time": "2021-12-27T07:01:07.989Z"
      },
      {
        "duration": 7,
        "start_time": "2021-12-27T07:01:11.578Z"
      },
      {
        "duration": 10,
        "start_time": "2021-12-27T07:01:13.237Z"
      },
      {
        "duration": 11,
        "start_time": "2021-12-27T07:02:07.385Z"
      },
      {
        "duration": 5,
        "start_time": "2021-12-27T07:02:45.331Z"
      },
      {
        "duration": 10,
        "start_time": "2021-12-27T07:02:47.156Z"
      },
      {
        "duration": 9,
        "start_time": "2021-12-27T07:02:47.935Z"
      },
      {
        "duration": 7,
        "start_time": "2021-12-27T07:03:42.785Z"
      },
      {
        "duration": 10,
        "start_time": "2021-12-27T07:03:43.683Z"
      },
      {
        "duration": 9,
        "start_time": "2021-12-27T07:03:44.287Z"
      },
      {
        "duration": 11,
        "start_time": "2021-12-27T07:03:47.949Z"
      },
      {
        "duration": 387,
        "start_time": "2021-12-27T07:04:49.930Z"
      },
      {
        "duration": 55457,
        "start_time": "2021-12-27T07:04:51.509Z"
      },
      {
        "duration": 85,
        "start_time": "2021-12-27T07:05:49.078Z"
      },
      {
        "duration": 273,
        "start_time": "2021-12-27T07:05:56.640Z"
      },
      {
        "duration": 6,
        "start_time": "2021-12-27T07:06:01.564Z"
      },
      {
        "duration": 17,
        "start_time": "2021-12-27T07:06:04.847Z"
      },
      {
        "duration": 7,
        "start_time": "2021-12-27T07:06:09.819Z"
      },
      {
        "duration": 394,
        "start_time": "2021-12-27T07:06:12.269Z"
      },
      {
        "duration": 6,
        "start_time": "2021-12-27T07:06:19.290Z"
      },
      {
        "duration": 16,
        "start_time": "2021-12-27T07:06:20.817Z"
      },
      {
        "duration": 6,
        "start_time": "2021-12-27T07:06:23.474Z"
      },
      {
        "duration": 148,
        "start_time": "2021-12-27T07:06:25.107Z"
      },
      {
        "duration": 384,
        "start_time": "2021-12-27T07:07:14.411Z"
      },
      {
        "duration": 14,
        "start_time": "2021-12-27T07:07:21.872Z"
      },
      {
        "duration": 9,
        "start_time": "2021-12-27T07:08:52.732Z"
      },
      {
        "duration": 21,
        "start_time": "2021-12-27T07:09:43.407Z"
      },
      {
        "duration": 279,
        "start_time": "2021-12-27T07:09:44.884Z"
      },
      {
        "duration": 8,
        "start_time": "2021-12-27T07:10:07.484Z"
      },
      {
        "duration": 612,
        "start_time": "2021-12-27T07:14:27.125Z"
      },
      {
        "duration": 5,
        "start_time": "2021-12-27T07:14:55.452Z"
      },
      {
        "duration": 9,
        "start_time": "2021-12-27T07:15:11.157Z"
      },
      {
        "duration": 6,
        "start_time": "2021-12-27T07:16:47.200Z"
      },
      {
        "duration": 1467,
        "start_time": "2021-12-27T07:16:54.996Z"
      },
      {
        "duration": 54,
        "start_time": "2021-12-27T07:16:56.466Z"
      },
      {
        "duration": 13,
        "start_time": "2021-12-27T07:16:56.523Z"
      },
      {
        "duration": 30,
        "start_time": "2021-12-27T07:16:56.539Z"
      },
      {
        "duration": 10,
        "start_time": "2021-12-27T07:16:56.571Z"
      },
      {
        "duration": 6,
        "start_time": "2021-12-27T07:16:56.583Z"
      },
      {
        "duration": 13,
        "start_time": "2021-12-27T07:16:56.591Z"
      },
      {
        "duration": 51,
        "start_time": "2021-12-27T07:16:56.608Z"
      },
      {
        "duration": 6,
        "start_time": "2021-12-27T07:16:56.662Z"
      },
      {
        "duration": 23,
        "start_time": "2021-12-27T07:16:56.671Z"
      },
      {
        "duration": 17,
        "start_time": "2021-12-27T07:16:56.696Z"
      },
      {
        "duration": 48,
        "start_time": "2021-12-27T07:16:56.715Z"
      },
      {
        "duration": 9,
        "start_time": "2021-12-27T07:16:56.765Z"
      },
      {
        "duration": 8,
        "start_time": "2021-12-27T07:16:56.776Z"
      },
      {
        "duration": 6,
        "start_time": "2021-12-27T07:16:56.787Z"
      },
      {
        "duration": 442,
        "start_time": "2021-12-27T07:16:56.795Z"
      },
      {
        "duration": 55080,
        "start_time": "2021-12-27T07:16:57.240Z"
      },
      {
        "duration": 138,
        "start_time": "2021-12-27T07:17:52.322Z"
      },
      {
        "duration": 378,
        "start_time": "2021-12-27T07:17:52.463Z"
      },
      {
        "duration": 6,
        "start_time": "2021-12-27T07:17:52.844Z"
      },
      {
        "duration": 21,
        "start_time": "2021-12-27T07:17:52.859Z"
      },
      {
        "duration": 8,
        "start_time": "2021-12-27T07:17:52.882Z"
      },
      {
        "duration": 426,
        "start_time": "2021-12-27T07:17:52.897Z"
      },
      {
        "duration": 6,
        "start_time": "2021-12-27T07:17:53.327Z"
      },
      {
        "duration": 34,
        "start_time": "2021-12-27T07:17:53.336Z"
      },
      {
        "duration": 7,
        "start_time": "2021-12-27T07:17:53.372Z"
      },
      {
        "duration": 168,
        "start_time": "2021-12-27T07:17:53.381Z"
      },
      {
        "duration": 392,
        "start_time": "2021-12-27T07:17:53.552Z"
      },
      {
        "duration": 13,
        "start_time": "2021-12-27T07:17:53.946Z"
      },
      {
        "duration": 12,
        "start_time": "2021-12-27T07:17:53.962Z"
      },
      {
        "duration": 21,
        "start_time": "2021-12-27T07:17:53.977Z"
      },
      {
        "duration": 295,
        "start_time": "2021-12-27T07:17:54.000Z"
      },
      {
        "duration": 8,
        "start_time": "2021-12-27T07:17:54.297Z"
      },
      {
        "duration": 1803,
        "start_time": "2021-12-27T07:19:02.184Z"
      },
      {
        "duration": 57,
        "start_time": "2021-12-27T07:19:03.990Z"
      },
      {
        "duration": 17,
        "start_time": "2021-12-27T07:19:04.050Z"
      },
      {
        "duration": 17,
        "start_time": "2021-12-27T07:19:04.069Z"
      },
      {
        "duration": 11,
        "start_time": "2021-12-27T07:19:04.088Z"
      },
      {
        "duration": 8,
        "start_time": "2021-12-27T07:19:04.101Z"
      },
      {
        "duration": 55,
        "start_time": "2021-12-27T07:19:04.112Z"
      },
      {
        "duration": 7,
        "start_time": "2021-12-27T07:19:04.171Z"
      },
      {
        "duration": 7,
        "start_time": "2021-12-27T07:19:04.181Z"
      },
      {
        "duration": 21,
        "start_time": "2021-12-27T07:19:04.191Z"
      },
      {
        "duration": 55,
        "start_time": "2021-12-27T07:19:04.215Z"
      },
      {
        "duration": 7,
        "start_time": "2021-12-27T07:19:04.272Z"
      },
      {
        "duration": 12,
        "start_time": "2021-12-27T07:19:04.282Z"
      },
      {
        "duration": 9,
        "start_time": "2021-12-27T07:19:04.297Z"
      },
      {
        "duration": 53,
        "start_time": "2021-12-27T07:19:04.309Z"
      },
      {
        "duration": 459,
        "start_time": "2021-12-27T07:19:04.365Z"
      },
      {
        "duration": 59741,
        "start_time": "2021-12-27T07:19:04.827Z"
      },
      {
        "duration": 92,
        "start_time": "2021-12-27T07:20:04.570Z"
      },
      {
        "duration": 364,
        "start_time": "2021-12-27T07:20:04.665Z"
      },
      {
        "duration": 6,
        "start_time": "2021-12-27T07:20:05.031Z"
      },
      {
        "duration": 41,
        "start_time": "2021-12-27T07:20:05.039Z"
      },
      {
        "duration": 8,
        "start_time": "2021-12-27T07:20:05.082Z"
      },
      {
        "duration": 389,
        "start_time": "2021-12-27T07:20:05.095Z"
      },
      {
        "duration": 6,
        "start_time": "2021-12-27T07:20:05.487Z"
      },
      {
        "duration": 16,
        "start_time": "2021-12-27T07:20:05.495Z"
      },
      {
        "duration": 5,
        "start_time": "2021-12-27T07:20:05.514Z"
      },
      {
        "duration": 179,
        "start_time": "2021-12-27T07:20:05.521Z"
      },
      {
        "duration": 391,
        "start_time": "2021-12-27T07:20:05.702Z"
      },
      {
        "duration": 6,
        "start_time": "2021-12-27T07:20:06.095Z"
      },
      {
        "duration": 9,
        "start_time": "2021-12-27T07:20:06.104Z"
      },
      {
        "duration": 49,
        "start_time": "2021-12-27T07:20:06.115Z"
      },
      {
        "duration": 269,
        "start_time": "2021-12-27T07:20:06.167Z"
      },
      {
        "duration": 22,
        "start_time": "2021-12-27T07:20:06.439Z"
      }
    ],
    "kernelspec": {
      "display_name": "Python 3 (ipykernel)",
      "language": "python",
      "name": "python3"
    },
    "language_info": {
      "codemirror_mode": {
        "name": "ipython",
        "version": 3
      },
      "file_extension": ".py",
      "mimetype": "text/x-python",
      "name": "python",
      "nbconvert_exporter": "python",
      "pygments_lexer": "ipython3",
      "version": "3.9.5"
    },
    "toc": {
      "base_numbering": 1,
      "nav_menu": {},
      "number_sections": true,
      "sideBar": true,
      "skip_h1_title": true,
      "title_cell": "Содержание",
      "title_sidebar": "Contents",
      "toc_cell": true,
      "toc_position": {
        "height": "calc(100% - 180px)",
        "left": "10px",
        "top": "150px",
        "width": "363.458px"
      },
      "toc_section_display": true,
      "toc_window_display": true
    },
    "colab": {
      "name": "project-7-bank-churn.ipynb",
      "provenance": []
    }
  },
  "nbformat": 4,
  "nbformat_minor": 0
}