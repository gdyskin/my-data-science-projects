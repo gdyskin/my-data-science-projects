{
  "cells": [
    {
      "cell_type": "markdown",
      "metadata": {
        "id": "aFnvrAgbNJmX"
      },
      "source": [
        "# Tariff recommendation"
      ]
    },
    {
      "cell_type": "markdown",
      "metadata": {
        "id": "RxsjTYmSNJmX"
      },
      "source": [
        "We have the data on the behavior of customers who have already switched to these tariffs. Need to build a model for the classification problem that will select the appropriate tariff.\n",
        "\n",
        "Need to build the model with the largest possible *accuracy* value. The model need to demonstrate the percentage of correct answers (accuracy) to at least 0.75."
      ]
    },
    {
      "cell_type": "markdown",
      "metadata": {
        "id": "i_p1NF93NJmX"
      },
      "source": [
        "## Open and explore the file"
      ]
    },
    {
      "cell_type": "code",
      "execution_count": 1,
      "metadata": {
        "id": "6PEA_YYyNJmY"
      },
      "outputs": [],
      "source": [
        "import pandas as pd\n",
        "from tqdm import tqdm\n",
        "from sklearn.tree import DecisionTreeClassifier\n",
        "from sklearn.linear_model import LogisticRegression\n",
        "from sklearn.ensemble import RandomForestClassifier\n",
        "from sklearn.metrics import accuracy_score\n",
        "from sklearn.dummy import DummyClassifier\n",
        "from sklearn.model_selection import train_test_split\n",
        "from sklearn.metrics import confusion_matrix\n",
        "import numpy as np\n",
        "import matplotlib.pyplot as plt\n",
        "from sklearn.metrics import precision_recall_fscore_support"
      ]
    },
    {
      "cell_type": "code",
      "execution_count": 2,
      "metadata": {
        "id": "N_aQ72HmNJmb"
      },
      "outputs": [],
      "source": [
        "df = pd.read_csv('/content/users_behavior.csv')"
      ]
    },
    {
      "cell_type": "code",
      "execution_count": 3,
      "metadata": {
        "colab": {
          "base_uri": "https://localhost:8080/",
          "height": 424
        },
        "id": "7Ke_VwK-NJmb",
        "outputId": "7f9ade83-decb-4d33-8b7c-1e7a07675108"
      },
      "outputs": [
        {
          "output_type": "execute_result",
          "data": {
            "text/plain": [
              "      calls  minutes  messages   mb_used  is_ultra\n",
              "0      40.0   311.90      83.0  19915.42         0\n",
              "1      85.0   516.75      56.0  22696.96         0\n",
              "2      77.0   467.66      86.0  21060.45         0\n",
              "3     106.0   745.53      81.0   8437.39         1\n",
              "4      66.0   418.74       1.0  14502.75         0\n",
              "...     ...      ...       ...       ...       ...\n",
              "3209  122.0   910.98      20.0  35124.90         1\n",
              "3210   25.0   190.36       0.0   3275.61         0\n",
              "3211   97.0   634.44      70.0  13974.06         0\n",
              "3212   64.0   462.32      90.0  31239.78         0\n",
              "3213   80.0   566.09       6.0  29480.52         1\n",
              "\n",
              "[3214 rows x 5 columns]"
            ],
            "text/html": [
              "\n",
              "  <div id=\"df-4302b08a-0fdb-442f-ab0e-a0e9b7152da5\">\n",
              "    <div class=\"colab-df-container\">\n",
              "      <div>\n",
              "<style scoped>\n",
              "    .dataframe tbody tr th:only-of-type {\n",
              "        vertical-align: middle;\n",
              "    }\n",
              "\n",
              "    .dataframe tbody tr th {\n",
              "        vertical-align: top;\n",
              "    }\n",
              "\n",
              "    .dataframe thead th {\n",
              "        text-align: right;\n",
              "    }\n",
              "</style>\n",
              "<table border=\"1\" class=\"dataframe\">\n",
              "  <thead>\n",
              "    <tr style=\"text-align: right;\">\n",
              "      <th></th>\n",
              "      <th>calls</th>\n",
              "      <th>minutes</th>\n",
              "      <th>messages</th>\n",
              "      <th>mb_used</th>\n",
              "      <th>is_ultra</th>\n",
              "    </tr>\n",
              "  </thead>\n",
              "  <tbody>\n",
              "    <tr>\n",
              "      <th>0</th>\n",
              "      <td>40.0</td>\n",
              "      <td>311.90</td>\n",
              "      <td>83.0</td>\n",
              "      <td>19915.42</td>\n",
              "      <td>0</td>\n",
              "    </tr>\n",
              "    <tr>\n",
              "      <th>1</th>\n",
              "      <td>85.0</td>\n",
              "      <td>516.75</td>\n",
              "      <td>56.0</td>\n",
              "      <td>22696.96</td>\n",
              "      <td>0</td>\n",
              "    </tr>\n",
              "    <tr>\n",
              "      <th>2</th>\n",
              "      <td>77.0</td>\n",
              "      <td>467.66</td>\n",
              "      <td>86.0</td>\n",
              "      <td>21060.45</td>\n",
              "      <td>0</td>\n",
              "    </tr>\n",
              "    <tr>\n",
              "      <th>3</th>\n",
              "      <td>106.0</td>\n",
              "      <td>745.53</td>\n",
              "      <td>81.0</td>\n",
              "      <td>8437.39</td>\n",
              "      <td>1</td>\n",
              "    </tr>\n",
              "    <tr>\n",
              "      <th>4</th>\n",
              "      <td>66.0</td>\n",
              "      <td>418.74</td>\n",
              "      <td>1.0</td>\n",
              "      <td>14502.75</td>\n",
              "      <td>0</td>\n",
              "    </tr>\n",
              "    <tr>\n",
              "      <th>...</th>\n",
              "      <td>...</td>\n",
              "      <td>...</td>\n",
              "      <td>...</td>\n",
              "      <td>...</td>\n",
              "      <td>...</td>\n",
              "    </tr>\n",
              "    <tr>\n",
              "      <th>3209</th>\n",
              "      <td>122.0</td>\n",
              "      <td>910.98</td>\n",
              "      <td>20.0</td>\n",
              "      <td>35124.90</td>\n",
              "      <td>1</td>\n",
              "    </tr>\n",
              "    <tr>\n",
              "      <th>3210</th>\n",
              "      <td>25.0</td>\n",
              "      <td>190.36</td>\n",
              "      <td>0.0</td>\n",
              "      <td>3275.61</td>\n",
              "      <td>0</td>\n",
              "    </tr>\n",
              "    <tr>\n",
              "      <th>3211</th>\n",
              "      <td>97.0</td>\n",
              "      <td>634.44</td>\n",
              "      <td>70.0</td>\n",
              "      <td>13974.06</td>\n",
              "      <td>0</td>\n",
              "    </tr>\n",
              "    <tr>\n",
              "      <th>3212</th>\n",
              "      <td>64.0</td>\n",
              "      <td>462.32</td>\n",
              "      <td>90.0</td>\n",
              "      <td>31239.78</td>\n",
              "      <td>0</td>\n",
              "    </tr>\n",
              "    <tr>\n",
              "      <th>3213</th>\n",
              "      <td>80.0</td>\n",
              "      <td>566.09</td>\n",
              "      <td>6.0</td>\n",
              "      <td>29480.52</td>\n",
              "      <td>1</td>\n",
              "    </tr>\n",
              "  </tbody>\n",
              "</table>\n",
              "<p>3214 rows × 5 columns</p>\n",
              "</div>\n",
              "      <button class=\"colab-df-convert\" onclick=\"convertToInteractive('df-4302b08a-0fdb-442f-ab0e-a0e9b7152da5')\"\n",
              "              title=\"Convert this dataframe to an interactive table.\"\n",
              "              style=\"display:none;\">\n",
              "        \n",
              "  <svg xmlns=\"http://www.w3.org/2000/svg\" height=\"24px\"viewBox=\"0 0 24 24\"\n",
              "       width=\"24px\">\n",
              "    <path d=\"M0 0h24v24H0V0z\" fill=\"none\"/>\n",
              "    <path d=\"M18.56 5.44l.94 2.06.94-2.06 2.06-.94-2.06-.94-.94-2.06-.94 2.06-2.06.94zm-11 1L8.5 8.5l.94-2.06 2.06-.94-2.06-.94L8.5 2.5l-.94 2.06-2.06.94zm10 10l.94 2.06.94-2.06 2.06-.94-2.06-.94-.94-2.06-.94 2.06-2.06.94z\"/><path d=\"M17.41 7.96l-1.37-1.37c-.4-.4-.92-.59-1.43-.59-.52 0-1.04.2-1.43.59L10.3 9.45l-7.72 7.72c-.78.78-.78 2.05 0 2.83L4 21.41c.39.39.9.59 1.41.59.51 0 1.02-.2 1.41-.59l7.78-7.78 2.81-2.81c.8-.78.8-2.07 0-2.86zM5.41 20L4 18.59l7.72-7.72 1.47 1.35L5.41 20z\"/>\n",
              "  </svg>\n",
              "      </button>\n",
              "      \n",
              "  <style>\n",
              "    .colab-df-container {\n",
              "      display:flex;\n",
              "      flex-wrap:wrap;\n",
              "      gap: 12px;\n",
              "    }\n",
              "\n",
              "    .colab-df-convert {\n",
              "      background-color: #E8F0FE;\n",
              "      border: none;\n",
              "      border-radius: 50%;\n",
              "      cursor: pointer;\n",
              "      display: none;\n",
              "      fill: #1967D2;\n",
              "      height: 32px;\n",
              "      padding: 0 0 0 0;\n",
              "      width: 32px;\n",
              "    }\n",
              "\n",
              "    .colab-df-convert:hover {\n",
              "      background-color: #E2EBFA;\n",
              "      box-shadow: 0px 1px 2px rgba(60, 64, 67, 0.3), 0px 1px 3px 1px rgba(60, 64, 67, 0.15);\n",
              "      fill: #174EA6;\n",
              "    }\n",
              "\n",
              "    [theme=dark] .colab-df-convert {\n",
              "      background-color: #3B4455;\n",
              "      fill: #D2E3FC;\n",
              "    }\n",
              "\n",
              "    [theme=dark] .colab-df-convert:hover {\n",
              "      background-color: #434B5C;\n",
              "      box-shadow: 0px 1px 3px 1px rgba(0, 0, 0, 0.15);\n",
              "      filter: drop-shadow(0px 1px 2px rgba(0, 0, 0, 0.3));\n",
              "      fill: #FFFFFF;\n",
              "    }\n",
              "  </style>\n",
              "\n",
              "      <script>\n",
              "        const buttonEl =\n",
              "          document.querySelector('#df-4302b08a-0fdb-442f-ab0e-a0e9b7152da5 button.colab-df-convert');\n",
              "        buttonEl.style.display =\n",
              "          google.colab.kernel.accessAllowed ? 'block' : 'none';\n",
              "\n",
              "        async function convertToInteractive(key) {\n",
              "          const element = document.querySelector('#df-4302b08a-0fdb-442f-ab0e-a0e9b7152da5');\n",
              "          const dataTable =\n",
              "            await google.colab.kernel.invokeFunction('convertToInteractive',\n",
              "                                                     [key], {});\n",
              "          if (!dataTable) return;\n",
              "\n",
              "          const docLinkHtml = 'Like what you see? Visit the ' +\n",
              "            '<a target=\"_blank\" href=https://colab.research.google.com/notebooks/data_table.ipynb>data table notebook</a>'\n",
              "            + ' to learn more about interactive tables.';\n",
              "          element.innerHTML = '';\n",
              "          dataTable['output_type'] = 'display_data';\n",
              "          await google.colab.output.renderOutput(dataTable, element);\n",
              "          const docLink = document.createElement('div');\n",
              "          docLink.innerHTML = docLinkHtml;\n",
              "          element.appendChild(docLink);\n",
              "        }\n",
              "      </script>\n",
              "    </div>\n",
              "  </div>\n",
              "  "
            ]
          },
          "metadata": {},
          "execution_count": 3
        }
      ],
      "source": [
        "df"
      ]
    },
    {
      "cell_type": "code",
      "execution_count": 4,
      "metadata": {
        "colab": {
          "base_uri": "https://localhost:8080/"
        },
        "id": "rVEGiqlANJmc",
        "outputId": "87a5aebd-545a-44a9-ced9-61c5bb4e7169"
      },
      "outputs": [
        {
          "output_type": "stream",
          "name": "stdout",
          "text": [
            "<class 'pandas.core.frame.DataFrame'>\n",
            "RangeIndex: 3214 entries, 0 to 3213\n",
            "Data columns (total 5 columns):\n",
            " #   Column    Non-Null Count  Dtype  \n",
            "---  ------    --------------  -----  \n",
            " 0   calls     3214 non-null   float64\n",
            " 1   minutes   3214 non-null   float64\n",
            " 2   messages  3214 non-null   float64\n",
            " 3   mb_used   3214 non-null   float64\n",
            " 4   is_ultra  3214 non-null   int64  \n",
            "dtypes: float64(4), int64(1)\n",
            "memory usage: 125.7 KB\n"
          ]
        }
      ],
      "source": [
        "df.info()"
      ]
    },
    {
      "cell_type": "markdown",
      "metadata": {
        "id": "PZvKbBfpNJmd"
      },
      "source": [
        "The data according to the task condition is initially preprocessed, there are no gaps, we can proceed to building models."
      ]
    },
    {
      "cell_type": "markdown",
      "metadata": {
        "id": "_te5RmGhNJmd"
      },
      "source": [
        "## Split the data into samples"
      ]
    },
    {
      "cell_type": "markdown",
      "metadata": {
        "id": "8KIMTvkhNJmd"
      },
      "source": [
        "It is necessary to divide the sample into three parts - training, validation and test. We will split in the ratio 3/1/1 by successively applying 'train_test_split':"
      ]
    },
    {
      "cell_type": "code",
      "execution_count": 5,
      "metadata": {
        "id": "Tx4SuYDwNJme"
      },
      "outputs": [],
      "source": [
        "features = df.drop(['is_ultra'], axis=1)\n",
        "target = df['is_ultra']"
      ]
    },
    {
      "cell_type": "code",
      "execution_count": 6,
      "metadata": {
        "id": "R2MKaDHsNJme"
      },
      "outputs": [],
      "source": [
        "train_features, test_features, train_target, test_target = train_test_split(\n",
        "features, target, test_size=0.4, random_state=12345)"
      ]
    },
    {
      "cell_type": "code",
      "execution_count": 7,
      "metadata": {
        "id": "hNXU637XNJme"
      },
      "outputs": [],
      "source": [
        "valid_features, test_features, valid_target, test_target = train_test_split(\n",
        "test_features, test_target, test_size=0.5, random_state=12345)"
      ]
    },
    {
      "cell_type": "markdown",
      "metadata": {
        "id": "1wioExlINJme"
      },
      "source": [
        "We have three sets of data:"
      ]
    },
    {
      "cell_type": "code",
      "execution_count": 8,
      "metadata": {
        "id": "7oRe5id7NJme",
        "outputId": "2457b28b-f1a9-4114-d14a-184ba83bb404",
        "colab": {
          "base_uri": "https://localhost:8080/"
        }
      },
      "outputs": [
        {
          "output_type": "execute_result",
          "data": {
            "text/plain": [
              "[[(1928, 4), (1928,)], [(643, 4), (643,)], [(643, 4), (643,)]]"
            ]
          },
          "metadata": {},
          "execution_count": 8
        }
      ],
      "source": [
        "[[train_features.shape, train_target.shape], [valid_features.shape, valid_target.shape], \\\n",
        " [test_features.shape, test_target.shape]]"
      ]
    },
    {
      "cell_type": "markdown",
      "metadata": {
        "id": "dF5N1MqiNJmf"
      },
      "source": [
        "## Model research"
      ]
    },
    {
      "cell_type": "markdown",
      "metadata": {
        "id": "roH3iDAVNJmf"
      },
      "source": [
        "We will choose the model type from three options: DecisionTree, RandomForest, LogisticRegression. We will also find the optimal hyperparameters for tree models:"
      ]
    },
    {
      "cell_type": "code",
      "execution_count": 9,
      "metadata": {
        "id": "y-MK2sj8NJmf",
        "outputId": "fe25990c-e419-49db-bbb0-bfb0b429468d",
        "colab": {
          "base_uri": "https://localhost:8080/"
        }
      },
      "outputs": [
        {
          "output_type": "stream",
          "name": "stdout",
          "text": [
            "DecisionTreeClassifier(max_depth=3, random_state=12345)\n",
            "0.7853810264385692\n"
          ]
        }
      ],
      "source": [
        "best_model = None\n",
        "best_result = 0\n",
        "for depth in range(1, 6):\n",
        "    model = DecisionTreeClassifier(random_state=12345, max_depth=depth)\n",
        "    model.fit(train_features, train_target)\n",
        "    predictions = model.predict(valid_features)\n",
        "    result = accuracy_score(valid_target, predictions)\n",
        "    if result > best_result:\n",
        "        best_model = model\n",
        "        best_result = result\n",
        "print(best_model)\n",
        "print(best_result)"
      ]
    },
    {
      "cell_type": "code",
      "execution_count": 10,
      "metadata": {
        "id": "yCbnpYnsNJmf",
        "outputId": "8565e46a-ad0a-47f9-8b87-58286c05d366",
        "colab": {
          "base_uri": "https://localhost:8080/"
        }
      },
      "outputs": [
        {
          "output_type": "stream",
          "name": "stderr",
          "text": [
            "100%|██████████| 60/60 [00:37<00:00,  1.61it/s]"
          ]
        },
        {
          "output_type": "stream",
          "name": "stdout",
          "text": [
            "0.7947122861586314\n",
            "RandomForestClassifier(max_depth=5, n_estimators=40, random_state=12345)\n"
          ]
        },
        {
          "output_type": "stream",
          "name": "stderr",
          "text": [
            "\n"
          ]
        }
      ],
      "source": [
        "best_model = None\n",
        "best_result = 0\n",
        "for est in tqdm(range(1, 61)):\n",
        "    for depth in range(1, 6):\n",
        "        model = RandomForestClassifier(random_state=12345, n_estimators=est, max_depth=depth)\n",
        "        model.fit(train_features, train_target)\n",
        "        result = model.score(valid_features, valid_target)\n",
        "        if result > best_result:\n",
        "            best_model = model\n",
        "            best_result = result\n",
        "\n",
        "print(best_result)\n",
        "print(best_model)"
      ]
    },
    {
      "cell_type": "code",
      "execution_count": 11,
      "metadata": {
        "id": "moqANknuNJmf",
        "outputId": "e28925d7-a423-4e29-8be5-f2515f21a779",
        "colab": {
          "base_uri": "https://localhost:8080/"
        }
      },
      "outputs": [
        {
          "output_type": "execute_result",
          "data": {
            "text/plain": [
              "0.7589424572317263"
            ]
          },
          "metadata": {},
          "execution_count": 11
        }
      ],
      "source": [
        "model = LogisticRegression(random_state=12345, solver='liblinear')\n",
        "model.fit(train_features, train_target)\n",
        "model.score(valid_features, valid_target)"
      ]
    },
    {
      "cell_type": "markdown",
      "metadata": {
        "id": "7_vyEhMnNJmg"
      },
      "source": [
        "All types of models showed accuracy > 0.75. The best result was shown by the RandomForestClassifier model with max_depth=5 and n_estimators=40."
      ]
    },
    {
      "cell_type": "markdown",
      "metadata": {
        "id": "zJLtDiPTNJmg"
      },
      "source": [
        "## Let's check the model on the test set"
      ]
    },
    {
      "cell_type": "markdown",
      "metadata": {
        "id": "K0tMWpYWNJmg"
      },
      "source": [
        "Let's check the best of the considered models on a test sample:"
      ]
    },
    {
      "cell_type": "code",
      "execution_count": 12,
      "metadata": {
        "id": "D4B_chnQNJmg"
      },
      "outputs": [],
      "source": [
        "model = RandomForestClassifier(bootstrap=True, class_weight=None, criterion='gini',\n",
        "                       max_depth=5, max_features='auto', max_leaf_nodes=None,\n",
        "                       min_impurity_decrease=0.0,\n",
        "                       min_samples_leaf=1, min_samples_split=2,\n",
        "                       min_weight_fraction_leaf=0.0, n_estimators=40,\n",
        "                       n_jobs=None, oob_score=False, random_state=12345,\n",
        "                       verbose=0, warm_start=False)"
      ]
    },
    {
      "cell_type": "code",
      "execution_count": 13,
      "metadata": {
        "id": "xTA8lNaFNJmg",
        "outputId": "1adc9ee0-0465-4808-9026-3c0711396c82",
        "colab": {
          "base_uri": "https://localhost:8080/"
        }
      },
      "outputs": [
        {
          "output_type": "execute_result",
          "data": {
            "text/plain": [
              "0.7838258164852255"
            ]
          },
          "metadata": {},
          "execution_count": 13
        }
      ],
      "source": [
        "model.fit(train_features, train_target)\n",
        "model.score(test_features, test_target)"
      ]
    },
    {
      "cell_type": "markdown",
      "metadata": {
        "id": "Osu0YH_9NJmg"
      },
      "source": [
        "The accuracy of the model on the test set approximately corresponds to the accuracy obtained earlier, which means that the model has trained normally and is suitable for use."
      ]
    },
    {
      "cell_type": "markdown",
      "metadata": {
        "id": "edf3c1eeNJmh"
      },
      "source": [
        "## Checking the model for adequacy"
      ]
    },
    {
      "cell_type": "markdown",
      "metadata": {
        "id": "NNfwnJXVNJmh"
      },
      "source": [
        "Let's determine the shares of classes in the available data:"
      ]
    },
    {
      "cell_type": "code",
      "execution_count": 14,
      "metadata": {
        "id": "waKEDT9FNJmh",
        "outputId": "4df5cb8d-9a22-4a93-d2d5-a948847092d5",
        "colab": {
          "base_uri": "https://localhost:8080/"
        }
      },
      "outputs": [
        {
          "output_type": "execute_result",
          "data": {
            "text/plain": [
              "0    0.693528\n",
              "1    0.306472\n",
              "Name: is_ultra, dtype: float64"
            ]
          },
          "metadata": {},
          "execution_count": 14
        }
      ],
      "source": [
        "df['is_ultra'].value_counts(normalize=True)"
      ]
    },
    {
      "cell_type": "code",
      "execution_count": 15,
      "metadata": {
        "id": "IARw0Dv-NJmh",
        "outputId": "3d62d611-3152-44ce-afe8-b9477195b622",
        "colab": {
          "base_uri": "https://localhost:8080/"
        }
      },
      "outputs": [
        {
          "output_type": "execute_result",
          "data": {
            "text/plain": [
              "0    0.692427\n",
              "1    0.307573\n",
              "Name: is_ultra, dtype: float64"
            ]
          },
          "metadata": {},
          "execution_count": 15
        }
      ],
      "source": [
        "train_target.value_counts(normalize=True)"
      ]
    },
    {
      "cell_type": "code",
      "execution_count": 16,
      "metadata": {
        "id": "pfyy9tQmNJmh",
        "outputId": "8f155439-59c7-4cac-edd3-776007bfae7b",
        "colab": {
          "base_uri": "https://localhost:8080/"
        }
      },
      "outputs": [
        {
          "output_type": "execute_result",
          "data": {
            "text/plain": [
              "0    0.684292\n",
              "1    0.315708\n",
              "Name: is_ultra, dtype: float64"
            ]
          },
          "metadata": {},
          "execution_count": 16
        }
      ],
      "source": [
        "test_target.value_counts(normalize=True)"
      ]
    },
    {
      "cell_type": "markdown",
      "metadata": {
        "id": "xR9MbnBXNJmh"
      },
      "source": [
        "Fill in Dummy with the value of interest (in our case, 1, because we are interested in offering the Ultra tariff)"
      ]
    },
    {
      "cell_type": "code",
      "execution_count": 17,
      "metadata": {
        "id": "hu6FB4otNJmh"
      },
      "outputs": [],
      "source": [
        "dummy_clf = DummyClassifier(random_state=12345, strategy='constant', constant=1)"
      ]
    },
    {
      "cell_type": "code",
      "execution_count": 18,
      "metadata": {
        "id": "0l3pSOrQNJmi",
        "outputId": "65d60866-0e25-4032-ab28-66454468e3c2",
        "colab": {
          "base_uri": "https://localhost:8080/"
        }
      },
      "outputs": [
        {
          "output_type": "execute_result",
          "data": {
            "text/plain": [
              "DummyClassifier(constant=1, random_state=12345, strategy='constant')"
            ]
          },
          "metadata": {},
          "execution_count": 18
        }
      ],
      "source": [
        "dummy_clf.fit(train_features, train_target)"
      ]
    },
    {
      "cell_type": "code",
      "execution_count": 19,
      "metadata": {
        "id": "Y6DDMhICNJmi"
      },
      "outputs": [],
      "source": [
        "d_predict = dummy_clf.predict(test_features)"
      ]
    },
    {
      "cell_type": "code",
      "execution_count": 20,
      "metadata": {
        "id": "RYrUfq3qNJmi"
      },
      "outputs": [],
      "source": [
        "prediction = model.predict(test_features)"
      ]
    },
    {
      "cell_type": "code",
      "execution_count": 21,
      "metadata": {
        "id": "HO6x0jawNJmi"
      },
      "outputs": [],
      "source": [
        "cm = confusion_matrix(test_target, prediction, normalize='all')"
      ]
    },
    {
      "cell_type": "code",
      "execution_count": 22,
      "metadata": {
        "id": "8JbUVZsFNJmi",
        "outputId": "df443414-c1f4-4d69-d837-8c9d45ab98dc",
        "colab": {
          "base_uri": "https://localhost:8080/",
          "height": 289
        }
      },
      "outputs": [
        {
          "output_type": "display_data",
          "data": {
            "text/plain": [
              "<Figure size 432x288 with 1 Axes>"
            ],
            "image/png": "[encoded data removed]"
          },
          "metadata": {
            "needs_background": "light"
          }
        }
      ],
      "source": [
        "fig, ax = plt.subplots()\n",
        "ax.matshow(cm, cmap='Spectral')\n",
        "plt.title('Working Model Confusion Matrix')\n",
        "plt.xlabel('Predicted value')\n",
        "plt.ylabel('Target value')\n",
        "for (i, j), z in np.ndenumerate(cm):\n",
        "    ax.text(j, i, '{:0.2f}'.format(z), ha='center', va='center')\n",
        "\n",
        "plt.show()"
      ]
    },
    {
      "cell_type": "markdown",
      "metadata": {
        "id": "IpnyvGftNJmj"
      },
      "source": [
        "Now let's look at 'precision', 'recall' and 'f-score' for both models:"
      ]
    },
    {
      "cell_type": "code",
      "execution_count": 23,
      "metadata": {
        "id": "TL-T7EaINJmj",
        "outputId": "ef235d94-ef87-4265-fe5f-28b2a2b7efbf",
        "colab": {
          "base_uri": "https://localhost:8080/"
        }
      },
      "outputs": [
        {
          "output_type": "execute_result",
          "data": {
            "text/plain": [
              "(0.75, 0.4729064039408867, 0.5800604229607251, None)"
            ]
          },
          "metadata": {},
          "execution_count": 23
        }
      ],
      "source": [
        "precision_recall_fscore_support(test_target, prediction, average='binary')"
      ]
    },
    {
      "cell_type": "code",
      "execution_count": 24,
      "metadata": {
        "id": "WDAw4Ke7NJmj",
        "outputId": "db13defb-eb08-4113-e907-166ecb447e89",
        "colab": {
          "base_uri": "https://localhost:8080/"
        }
      },
      "outputs": [
        {
          "output_type": "execute_result",
          "data": {
            "text/plain": [
              "(0.3157076205287714, 1.0, 0.47990543735224583, None)"
            ]
          },
          "metadata": {},
          "execution_count": 24
        }
      ],
      "source": [
        "precision_recall_fscore_support(test_target, d_predict, average='binary')"
      ]
    },
    {
      "cell_type": "code",
      "execution_count": 25,
      "metadata": {
        "id": "yc9xT1v1NJmj",
        "outputId": "6d9d535a-b3ac-4571-9d0d-3fe824eafc01",
        "colab": {
          "base_uri": "https://localhost:8080/"
        }
      },
      "outputs": [
        {
          "output_type": "execute_result",
          "data": {
            "text/plain": [
              "0.3157076205287714"
            ]
          },
          "metadata": {},
          "execution_count": 25
        }
      ],
      "source": [
        "dummy_clf.score(test_features, test_target)"
      ]
    },
    {
      "cell_type": "code",
      "execution_count": 26,
      "metadata": {
        "id": "7aRmB8kzNJmj",
        "outputId": "fb0fccf9-9018-4f8c-bcda-05c0d3df2ef5",
        "colab": {
          "base_uri": "https://localhost:8080/"
        }
      },
      "outputs": [
        {
          "output_type": "execute_result",
          "data": {
            "text/plain": [
              "0.7838258164852255"
            ]
          },
          "metadata": {},
          "execution_count": 26
        }
      ],
      "source": [
        "model.score(test_features, test_target)"
      ]
    },
    {
      "cell_type": "markdown",
      "metadata": {
        "id": "GsFDRzr8NJmj"
      },
      "source": [
        "As a result, we see that the model, in principle, works normally. The relatively low 'recall' is due to class imbalance in the training data."
      ]
    }
  ],
  "metadata": {
    "ExecuteTimeLog": [
      {
        "duration": 826,
        "start_time": "2021-12-08T12:17:51.845Z"
      },
      {
        "duration": 28,
        "start_time": "2021-12-08T12:18:20.583Z"
      },
      {
        "duration": 27,
        "start_time": "2021-12-08T12:18:26.730Z"
      },
      {
        "duration": 13,
        "start_time": "2021-12-08T12:18:46.353Z"
      },
      {
        "duration": 797,
        "start_time": "2021-12-08T12:20:14.520Z"
      },
      {
        "duration": 4,
        "start_time": "2021-12-08T12:34:24.285Z"
      },
      {
        "duration": 22,
        "start_time": "2021-12-08T12:34:24.748Z"
      },
      {
        "duration": 17,
        "start_time": "2021-12-08T12:34:25.468Z"
      },
      {
        "duration": 8,
        "start_time": "2021-12-08T12:34:31.713Z"
      },
      {
        "duration": 5,
        "start_time": "2021-12-08T12:35:05.623Z"
      },
      {
        "duration": 799,
        "start_time": "2021-12-08T16:20:55.857Z"
      },
      {
        "duration": 21,
        "start_time": "2021-12-08T16:20:56.659Z"
      },
      {
        "duration": 25,
        "start_time": "2021-12-08T16:20:56.686Z"
      },
      {
        "duration": 8,
        "start_time": "2021-12-08T16:20:56.713Z"
      },
      {
        "duration": 603,
        "start_time": "2021-12-08T16:20:56.723Z"
      },
      {
        "duration": 5,
        "start_time": "2021-12-08T16:20:57.328Z"
      },
      {
        "duration": 9,
        "start_time": "2021-12-08T16:24:51.837Z"
      },
      {
        "duration": 917,
        "start_time": "2021-12-08T16:36:34.731Z"
      },
      {
        "duration": 26,
        "start_time": "2021-12-08T16:36:35.650Z"
      },
      {
        "duration": 31,
        "start_time": "2021-12-08T16:36:35.679Z"
      },
      {
        "duration": 9,
        "start_time": "2021-12-08T16:36:35.713Z"
      },
      {
        "duration": 651,
        "start_time": "2021-12-08T16:36:35.724Z"
      },
      {
        "duration": 7,
        "start_time": "2021-12-08T16:36:36.377Z"
      },
      {
        "duration": 9,
        "start_time": "2021-12-08T16:36:36.387Z"
      },
      {
        "duration": 8,
        "start_time": "2021-12-08T16:36:36.398Z"
      },
      {
        "duration": 44,
        "start_time": "2021-12-08T16:36:55.576Z"
      },
      {
        "duration": 670,
        "start_time": "2021-12-08T16:39:00.557Z"
      },
      {
        "duration": 12,
        "start_time": "2021-12-08T16:39:15.107Z"
      },
      {
        "duration": 16,
        "start_time": "2021-12-08T16:39:21.893Z"
      },
      {
        "duration": 183,
        "start_time": "2021-12-08T16:43:18.341Z"
      },
      {
        "duration": 500,
        "start_time": "2021-12-08T16:43:26.713Z"
      },
      {
        "duration": 13,
        "start_time": "2021-12-08T16:43:36.463Z"
      },
      {
        "duration": 35,
        "start_time": "2021-12-08T16:43:37.977Z"
      },
      {
        "duration": 35,
        "start_time": "2021-12-08T16:43:56.202Z"
      },
      {
        "duration": 357,
        "start_time": "2021-12-08T16:46:42.351Z"
      },
      {
        "duration": 4149,
        "start_time": "2021-12-08T16:47:49.826Z"
      },
      {
        "duration": 798,
        "start_time": "2021-12-08T16:50:18.792Z"
      },
      {
        "duration": 67,
        "start_time": "2021-12-08T16:50:50.929Z"
      },
      {
        "duration": 6731,
        "start_time": "2021-12-08T16:51:02.346Z"
      },
      {
        "duration": 1089,
        "start_time": "2021-12-08T16:51:19.899Z"
      },
      {
        "duration": 2900,
        "start_time": "2021-12-08T16:51:34.777Z"
      },
      {
        "duration": 24853,
        "start_time": "2021-12-08T16:51:54.398Z"
      },
      {
        "duration": 25822,
        "start_time": "2021-12-08T16:52:38.765Z"
      },
      {
        "duration": 14,
        "start_time": "2021-12-08T16:53:30.991Z"
      },
      {
        "duration": 25552,
        "start_time": "2021-12-08T16:53:48.106Z"
      },
      {
        "duration": 27,
        "start_time": "2021-12-08T16:55:49.698Z"
      },
      {
        "duration": 27,
        "start_time": "2021-12-08T16:57:56.963Z"
      },
      {
        "duration": 113,
        "start_time": "2021-12-08T17:00:09.441Z"
      },
      {
        "duration": 104,
        "start_time": "2021-12-08T17:00:39.664Z"
      },
      {
        "duration": 78,
        "start_time": "2021-12-08T17:00:45.160Z"
      },
      {
        "duration": 47,
        "start_time": "2021-12-08T17:00:52.341Z"
      },
      {
        "duration": 106,
        "start_time": "2021-12-08T17:01:57.166Z"
      },
      {
        "duration": 5,
        "start_time": "2021-12-08T17:06:01.557Z"
      },
      {
        "duration": 123,
        "start_time": "2021-12-08T17:06:29.827Z"
      },
      {
        "duration": 700,
        "start_time": "2021-12-08T17:07:01.484Z"
      },
      {
        "duration": 15,
        "start_time": "2021-12-08T17:07:12.683Z"
      },
      {
        "duration": 17,
        "start_time": "2021-12-08T17:09:10.900Z"
      },
      {
        "duration": 830,
        "start_time": "2021-12-10T08:03:41.922Z"
      },
      {
        "duration": 21,
        "start_time": "2021-12-10T08:03:42.755Z"
      },
      {
        "duration": 38,
        "start_time": "2021-12-10T08:03:42.779Z"
      },
      {
        "duration": 9,
        "start_time": "2021-12-10T08:03:42.820Z"
      },
      {
        "duration": 585,
        "start_time": "2021-12-10T08:03:42.831Z"
      },
      {
        "duration": 5,
        "start_time": "2021-12-10T08:03:43.419Z"
      },
      {
        "duration": 9,
        "start_time": "2021-12-10T08:03:43.427Z"
      },
      {
        "duration": 7,
        "start_time": "2021-12-10T08:03:43.439Z"
      },
      {
        "duration": 75,
        "start_time": "2021-12-10T08:03:43.449Z"
      },
      {
        "duration": 36,
        "start_time": "2021-12-10T08:03:43.526Z"
      },
      {
        "duration": 27044,
        "start_time": "2021-12-10T08:03:43.564Z"
      },
      {
        "duration": 119,
        "start_time": "2021-12-10T08:04:10.617Z"
      },
      {
        "duration": 5,
        "start_time": "2021-12-10T08:04:10.739Z"
      },
      {
        "duration": 150,
        "start_time": "2021-12-10T08:04:10.748Z"
      },
      {
        "duration": 24,
        "start_time": "2021-12-10T08:04:10.900Z"
      },
      {
        "duration": 38,
        "start_time": "2021-12-10T08:06:10.772Z"
      },
      {
        "duration": 457,
        "start_time": "2021-12-10T08:06:21.055Z"
      },
      {
        "duration": 27,
        "start_time": "2021-12-10T08:06:31.182Z"
      },
      {
        "duration": 26,
        "start_time": "2021-12-10T08:06:47.001Z"
      },
      {
        "duration": 25,
        "start_time": "2021-12-10T08:07:09.595Z"
      },
      {
        "duration": 5,
        "start_time": "2021-12-10T08:07:17.911Z"
      },
      {
        "duration": 138,
        "start_time": "2021-12-10T08:07:18.494Z"
      },
      {
        "duration": 783,
        "start_time": "2021-12-10T08:09:06.324Z"
      },
      {
        "duration": 19,
        "start_time": "2021-12-10T08:09:07.110Z"
      },
      {
        "duration": 28,
        "start_time": "2021-12-10T08:09:07.132Z"
      },
      {
        "duration": 20,
        "start_time": "2021-12-10T08:09:07.163Z"
      },
      {
        "duration": 606,
        "start_time": "2021-12-10T08:09:07.186Z"
      },
      {
        "duration": 5,
        "start_time": "2021-12-10T08:09:07.794Z"
      },
      {
        "duration": 18,
        "start_time": "2021-12-10T08:09:07.802Z"
      },
      {
        "duration": 6,
        "start_time": "2021-12-10T08:09:07.822Z"
      },
      {
        "duration": 45,
        "start_time": "2021-12-10T08:09:07.831Z"
      },
      {
        "duration": 63,
        "start_time": "2021-12-10T08:09:07.878Z"
      },
      {
        "duration": 25920,
        "start_time": "2021-12-10T08:09:07.943Z"
      },
      {
        "duration": 26,
        "start_time": "2021-12-10T08:09:33.865Z"
      },
      {
        "duration": 25,
        "start_time": "2021-12-10T08:09:33.893Z"
      },
      {
        "duration": 147,
        "start_time": "2021-12-10T08:09:33.920Z"
      },
      {
        "duration": 17,
        "start_time": "2021-12-10T08:25:33.798Z"
      },
      {
        "duration": 14,
        "start_time": "2021-12-10T08:25:45.748Z"
      },
      {
        "duration": 15,
        "start_time": "2021-12-10T08:25:50.721Z"
      },
      {
        "duration": 441,
        "start_time": "2021-12-10T08:28:32.782Z"
      },
      {
        "duration": 7,
        "start_time": "2021-12-10T08:28:51.920Z"
      },
      {
        "duration": 2223,
        "start_time": "2021-12-10T08:29:01.709Z"
      },
      {
        "duration": 8,
        "start_time": "2021-12-10T08:29:09.890Z"
      },
      {
        "duration": 7,
        "start_time": "2021-12-10T08:29:28.684Z"
      },
      {
        "duration": 7,
        "start_time": "2021-12-10T08:29:38.498Z"
      },
      {
        "duration": 7,
        "start_time": "2021-12-10T08:29:52.201Z"
      },
      {
        "duration": 14,
        "start_time": "2021-12-10T08:30:58.227Z"
      },
      {
        "duration": 3,
        "start_time": "2021-12-10T08:31:16.917Z"
      },
      {
        "duration": 7,
        "start_time": "2021-12-10T08:31:42.880Z"
      },
      {
        "duration": 4,
        "start_time": "2021-12-10T08:31:48.609Z"
      },
      {
        "duration": 6,
        "start_time": "2021-12-10T08:31:50.071Z"
      },
      {
        "duration": 4,
        "start_time": "2021-12-10T08:31:52.799Z"
      },
      {
        "duration": 6,
        "start_time": "2021-12-10T08:31:53.459Z"
      },
      {
        "duration": 141,
        "start_time": "2021-12-10T08:34:15.372Z"
      },
      {
        "duration": 211,
        "start_time": "2021-12-10T08:34:23.883Z"
      },
      {
        "duration": 874,
        "start_time": "2021-12-10T08:34:27.918Z"
      },
      {
        "duration": 868,
        "start_time": "2021-12-10T08:35:18.809Z"
      },
      {
        "duration": 1146,
        "start_time": "2021-12-10T08:35:43.663Z"
      },
      {
        "duration": 1169,
        "start_time": "2021-12-10T08:35:56.973Z"
      },
      {
        "duration": 843,
        "start_time": "2021-12-10T08:36:04.291Z"
      },
      {
        "duration": 873,
        "start_time": "2021-12-10T08:36:40.618Z"
      },
      {
        "duration": 855,
        "start_time": "2021-12-10T08:36:47.522Z"
      },
      {
        "duration": 870,
        "start_time": "2021-12-10T08:37:28.569Z"
      },
      {
        "duration": 907,
        "start_time": "2021-12-10T08:38:51.308Z"
      },
      {
        "duration": 862,
        "start_time": "2021-12-10T08:39:03.467Z"
      },
      {
        "duration": 850,
        "start_time": "2021-12-10T08:39:07.602Z"
      },
      {
        "duration": 835,
        "start_time": "2021-12-10T08:39:12.801Z"
      },
      {
        "duration": 937,
        "start_time": "2021-12-10T08:39:17.021Z"
      },
      {
        "duration": 853,
        "start_time": "2021-12-10T08:39:19.649Z"
      },
      {
        "duration": 861,
        "start_time": "2021-12-10T08:39:22.260Z"
      },
      {
        "duration": 840,
        "start_time": "2021-12-10T08:39:25.256Z"
      },
      {
        "duration": 846,
        "start_time": "2021-12-10T08:40:24.533Z"
      },
      {
        "duration": 907,
        "start_time": "2021-12-10T08:40:27.937Z"
      },
      {
        "duration": 846,
        "start_time": "2021-12-10T08:40:30.172Z"
      },
      {
        "duration": 869,
        "start_time": "2021-12-10T08:40:32.481Z"
      },
      {
        "duration": 827,
        "start_time": "2021-12-10T08:40:34.538Z"
      },
      {
        "duration": 869,
        "start_time": "2021-12-10T08:40:36.549Z"
      },
      {
        "duration": 5,
        "start_time": "2021-12-10T08:41:13.582Z"
      },
      {
        "duration": 1342,
        "start_time": "2021-12-10T08:41:27.594Z"
      },
      {
        "duration": 1259,
        "start_time": "2021-12-10T08:41:32.547Z"
      },
      {
        "duration": 1306,
        "start_time": "2021-12-10T08:41:35.412Z"
      },
      {
        "duration": 1342,
        "start_time": "2021-12-10T08:41:38.320Z"
      },
      {
        "duration": 1347,
        "start_time": "2021-12-10T08:41:44.377Z"
      },
      {
        "duration": 873,
        "start_time": "2021-12-10T08:41:57.277Z"
      },
      {
        "duration": 904,
        "start_time": "2021-12-10T08:42:00.888Z"
      },
      {
        "duration": 832,
        "start_time": "2021-12-10T08:42:51.068Z"
      },
      {
        "duration": 12,
        "start_time": "2021-12-10T08:50:41.659Z"
      },
      {
        "duration": 6,
        "start_time": "2021-12-10T08:50:57.118Z"
      },
      {
        "duration": 14,
        "start_time": "2021-12-10T08:51:36.169Z"
      },
      {
        "duration": 6,
        "start_time": "2021-12-10T08:51:54.424Z"
      },
      {
        "duration": 104,
        "start_time": "2021-12-10T08:52:00.185Z"
      },
      {
        "duration": 6,
        "start_time": "2021-12-10T08:52:04.199Z"
      },
      {
        "duration": 6,
        "start_time": "2021-12-10T08:53:37.381Z"
      },
      {
        "duration": 102,
        "start_time": "2021-12-10T08:53:58.326Z"
      },
      {
        "duration": 7,
        "start_time": "2021-12-10T08:54:01.641Z"
      },
      {
        "duration": 115,
        "start_time": "2021-12-10T09:06:26.763Z"
      },
      {
        "duration": 126,
        "start_time": "2021-12-10T09:07:07.448Z"
      },
      {
        "duration": 123,
        "start_time": "2021-12-10T09:07:26.873Z"
      },
      {
        "duration": 770,
        "start_time": "2021-12-10T09:07:35.266Z"
      },
      {
        "duration": 20,
        "start_time": "2021-12-10T09:07:36.038Z"
      },
      {
        "duration": 32,
        "start_time": "2021-12-10T09:07:36.061Z"
      },
      {
        "duration": 24,
        "start_time": "2021-12-10T09:07:36.096Z"
      },
      {
        "duration": 594,
        "start_time": "2021-12-10T09:07:36.123Z"
      },
      {
        "duration": 6,
        "start_time": "2021-12-10T09:07:36.720Z"
      },
      {
        "duration": 9,
        "start_time": "2021-12-10T09:07:36.729Z"
      },
      {
        "duration": 8,
        "start_time": "2021-12-10T09:07:36.744Z"
      },
      {
        "duration": 7,
        "start_time": "2021-12-10T09:07:36.755Z"
      },
      {
        "duration": 95,
        "start_time": "2021-12-10T09:07:36.765Z"
      },
      {
        "duration": 39,
        "start_time": "2021-12-10T09:07:36.862Z"
      },
      {
        "duration": 26137,
        "start_time": "2021-12-10T09:07:36.903Z"
      },
      {
        "duration": 27,
        "start_time": "2021-12-10T09:08:03.043Z"
      },
      {
        "duration": 5,
        "start_time": "2021-12-10T09:08:03.072Z"
      },
      {
        "duration": 174,
        "start_time": "2021-12-10T09:08:03.080Z"
      },
      {
        "duration": 111,
        "start_time": "2021-12-10T09:08:03.257Z"
      },
      {
        "duration": -5,
        "start_time": "2021-12-10T09:08:03.376Z"
      },
      {
        "duration": -4,
        "start_time": "2021-12-10T09:08:03.377Z"
      },
      {
        "duration": 105,
        "start_time": "2021-12-10T09:08:19.319Z"
      },
      {
        "duration": 114,
        "start_time": "2021-12-10T09:08:44.690Z"
      },
      {
        "duration": 2159,
        "start_time": "2021-12-10T09:09:02.983Z"
      },
      {
        "duration": 1794,
        "start_time": "2021-12-10T09:09:09.230Z"
      },
      {
        "duration": 1758,
        "start_time": "2021-12-10T09:09:14.989Z"
      },
      {
        "duration": 1646,
        "start_time": "2021-12-10T09:09:18.774Z"
      },
      {
        "duration": 1657,
        "start_time": "2021-12-10T09:09:22.127Z"
      },
      {
        "duration": 820,
        "start_time": "2021-12-10T09:09:48.124Z"
      },
      {
        "duration": 865,
        "start_time": "2021-12-10T09:09:51.077Z"
      },
      {
        "duration": 4,
        "start_time": "2021-12-10T09:16:41.580Z"
      },
      {
        "duration": 11,
        "start_time": "2021-12-10T09:16:58.262Z"
      },
      {
        "duration": 134,
        "start_time": "2021-12-10T09:17:10.326Z"
      },
      {
        "duration": 12,
        "start_time": "2021-12-10T09:17:14.402Z"
      },
      {
        "duration": 134,
        "start_time": "2021-12-10T09:17:17.215Z"
      },
      {
        "duration": 23,
        "start_time": "2021-12-10T09:19:49.417Z"
      },
      {
        "duration": 5,
        "start_time": "2021-12-10T09:23:08.936Z"
      },
      {
        "duration": 23,
        "start_time": "2021-12-10T09:23:21.323Z"
      },
      {
        "duration": 5,
        "start_time": "2021-12-10T09:23:25.833Z"
      },
      {
        "duration": 23,
        "start_time": "2021-12-10T09:23:28.409Z"
      },
      {
        "duration": 5,
        "start_time": "2021-12-10T09:23:32.245Z"
      },
      {
        "duration": 24,
        "start_time": "2021-12-10T09:23:34.995Z"
      },
      {
        "duration": 16,
        "start_time": "2021-12-10T09:23:50.479Z"
      },
      {
        "duration": 761,
        "start_time": "2021-12-10T09:24:48.740Z"
      },
      {
        "duration": 20,
        "start_time": "2021-12-10T09:24:49.503Z"
      },
      {
        "duration": 29,
        "start_time": "2021-12-10T09:24:49.526Z"
      },
      {
        "duration": 11,
        "start_time": "2021-12-10T09:24:49.558Z"
      },
      {
        "duration": 645,
        "start_time": "2021-12-10T09:24:49.572Z"
      },
      {
        "duration": 6,
        "start_time": "2021-12-10T09:24:50.219Z"
      },
      {
        "duration": 9,
        "start_time": "2021-12-10T09:24:50.227Z"
      },
      {
        "duration": 7,
        "start_time": "2021-12-10T09:24:50.238Z"
      },
      {
        "duration": 6,
        "start_time": "2021-12-10T09:24:50.249Z"
      },
      {
        "duration": 80,
        "start_time": "2021-12-10T09:24:50.257Z"
      },
      {
        "duration": 37,
        "start_time": "2021-12-10T09:24:50.339Z"
      },
      {
        "duration": 25697,
        "start_time": "2021-12-10T09:24:50.378Z"
      },
      {
        "duration": 48,
        "start_time": "2021-12-10T09:25:16.078Z"
      },
      {
        "duration": 6,
        "start_time": "2021-12-10T09:25:16.129Z"
      },
      {
        "duration": 163,
        "start_time": "2021-12-10T09:25:16.138Z"
      },
      {
        "duration": 1049,
        "start_time": "2021-12-11T04:29:25.288Z"
      },
      {
        "duration": 21,
        "start_time": "2021-12-11T04:29:26.339Z"
      },
      {
        "duration": 18,
        "start_time": "2021-12-11T04:29:26.362Z"
      },
      {
        "duration": 6,
        "start_time": "2021-12-11T04:29:26.382Z"
      },
      {
        "duration": 4,
        "start_time": "2021-12-11T04:29:26.390Z"
      },
      {
        "duration": 7,
        "start_time": "2021-12-11T04:29:26.395Z"
      },
      {
        "duration": 7,
        "start_time": "2021-12-11T04:29:26.403Z"
      },
      {
        "duration": 5,
        "start_time": "2021-12-11T04:29:26.411Z"
      },
      {
        "duration": 4,
        "start_time": "2021-12-11T04:29:26.418Z"
      },
      {
        "duration": 26,
        "start_time": "2021-12-11T04:29:26.424Z"
      },
      {
        "duration": 16071,
        "start_time": "2021-12-11T04:29:26.452Z"
      },
      {
        "duration": 14,
        "start_time": "2021-12-11T04:29:42.524Z"
      },
      {
        "duration": 3,
        "start_time": "2021-12-11T04:29:42.540Z"
      },
      {
        "duration": 107,
        "start_time": "2021-12-11T04:29:42.545Z"
      },
      {
        "duration": 9,
        "start_time": "2021-12-11T04:31:05.532Z"
      },
      {
        "duration": 2,
        "start_time": "2021-12-11T04:31:57.602Z"
      },
      {
        "duration": 359,
        "start_time": "2021-12-11T04:33:10.318Z"
      },
      {
        "duration": 5,
        "start_time": "2021-12-11T04:33:19.114Z"
      },
      {
        "duration": 5,
        "start_time": "2021-12-11T04:33:20.937Z"
      },
      {
        "duration": 58,
        "start_time": "2021-12-11T04:57:41.592Z"
      },
      {
        "duration": 101,
        "start_time": "2021-12-11T04:58:00.439Z"
      },
      {
        "duration": 193,
        "start_time": "2021-12-11T04:58:17.461Z"
      },
      {
        "duration": 173,
        "start_time": "2021-12-11T05:00:23.613Z"
      },
      {
        "duration": 187,
        "start_time": "2021-12-11T05:01:45.117Z"
      },
      {
        "duration": 212,
        "start_time": "2021-12-11T05:02:00.252Z"
      },
      {
        "duration": 178,
        "start_time": "2021-12-11T05:02:08.732Z"
      },
      {
        "duration": 2,
        "start_time": "2021-12-11T05:02:18.923Z"
      },
      {
        "duration": 236,
        "start_time": "2021-12-11T05:02:21.418Z"
      },
      {
        "duration": 2,
        "start_time": "2021-12-11T05:03:03.799Z"
      },
      {
        "duration": 183,
        "start_time": "2021-12-11T05:22:43.810Z"
      },
      {
        "duration": 263,
        "start_time": "2021-12-11T05:24:55.852Z"
      },
      {
        "duration": 175,
        "start_time": "2021-12-11T05:31:38.427Z"
      },
      {
        "duration": 2,
        "start_time": "2021-12-11T05:31:48.001Z"
      },
      {
        "duration": 9,
        "start_time": "2021-12-11T05:33:56.619Z"
      },
      {
        "duration": 184,
        "start_time": "2021-12-11T05:34:14.497Z"
      },
      {
        "duration": 5,
        "start_time": "2021-12-11T05:37:05.173Z"
      },
      {
        "duration": 184,
        "start_time": "2021-12-11T05:39:41.828Z"
      },
      {
        "duration": 180,
        "start_time": "2021-12-11T05:40:12.889Z"
      },
      {
        "duration": 187,
        "start_time": "2021-12-11T05:40:33.121Z"
      },
      {
        "duration": 195,
        "start_time": "2021-12-11T05:40:51.237Z"
      },
      {
        "duration": 181,
        "start_time": "2021-12-11T05:51:51.792Z"
      },
      {
        "duration": 3,
        "start_time": "2021-12-11T05:59:21.856Z"
      },
      {
        "duration": 1007,
        "start_time": "2021-12-11T06:27:27.435Z"
      },
      {
        "duration": 21,
        "start_time": "2021-12-11T06:27:28.444Z"
      },
      {
        "duration": 23,
        "start_time": "2021-12-11T06:27:28.469Z"
      },
      {
        "duration": 7,
        "start_time": "2021-12-11T06:27:28.493Z"
      },
      {
        "duration": 5,
        "start_time": "2021-12-11T06:27:28.502Z"
      },
      {
        "duration": 8,
        "start_time": "2021-12-11T06:27:28.509Z"
      },
      {
        "duration": 6,
        "start_time": "2021-12-11T06:27:28.518Z"
      },
      {
        "duration": 5,
        "start_time": "2021-12-11T06:27:28.527Z"
      },
      {
        "duration": 61,
        "start_time": "2021-12-11T06:27:28.534Z"
      },
      {
        "duration": 15939,
        "start_time": "2021-12-11T06:27:28.597Z"
      },
      {
        "duration": 14,
        "start_time": "2021-12-11T06:27:44.538Z"
      },
      {
        "duration": 4,
        "start_time": "2021-12-11T06:27:44.553Z"
      },
      {
        "duration": 109,
        "start_time": "2021-12-11T06:27:44.559Z"
      },
      {
        "duration": 7,
        "start_time": "2021-12-11T06:27:44.670Z"
      },
      {
        "duration": 13,
        "start_time": "2021-12-11T06:27:44.679Z"
      },
      {
        "duration": 25,
        "start_time": "2021-12-11T06:27:44.693Z"
      },
      {
        "duration": 14,
        "start_time": "2021-12-11T06:27:44.719Z"
      },
      {
        "duration": 20,
        "start_time": "2021-12-11T06:27:44.734Z"
      },
      {
        "duration": 26,
        "start_time": "2021-12-11T06:27:44.756Z"
      },
      {
        "duration": 264,
        "start_time": "2021-12-11T06:27:44.784Z"
      },
      {
        "duration": -8,
        "start_time": "2021-12-11T06:27:45.058Z"
      },
      {
        "duration": 175,
        "start_time": "2021-12-11T06:28:02.928Z"
      },
      {
        "duration": 3,
        "start_time": "2021-12-11T06:38:10.040Z"
      },
      {
        "duration": 4,
        "start_time": "2021-12-11T06:38:37.035Z"
      },
      {
        "duration": 179,
        "start_time": "2021-12-11T06:44:09.113Z"
      },
      {
        "duration": 132,
        "start_time": "2021-12-11T06:45:57.780Z"
      },
      {
        "duration": 192,
        "start_time": "2021-12-11T06:46:11.673Z"
      },
      {
        "duration": 3,
        "start_time": "2021-12-11T06:46:51.654Z"
      },
      {
        "duration": 195,
        "start_time": "2021-12-11T06:47:51.765Z"
      },
      {
        "duration": 2,
        "start_time": "2021-12-11T06:55:47.304Z"
      },
      {
        "duration": 6,
        "start_time": "2021-12-11T06:56:04.918Z"
      },
      {
        "duration": 232,
        "start_time": "2021-12-11T06:56:20.009Z"
      },
      {
        "duration": 4,
        "start_time": "2021-12-11T07:01:01.735Z"
      },
      {
        "duration": 3,
        "start_time": "2021-12-11T07:01:16.994Z"
      },
      {
        "duration": 4,
        "start_time": "2021-12-11T07:01:22.032Z"
      },
      {
        "duration": 5,
        "start_time": "2021-12-11T07:01:56.078Z"
      },
      {
        "duration": 3,
        "start_time": "2021-12-11T07:02:20.431Z"
      },
      {
        "duration": 5,
        "start_time": "2021-12-11T07:02:39.919Z"
      },
      {
        "duration": 4,
        "start_time": "2021-12-11T07:02:54.118Z"
      },
      {
        "duration": 4,
        "start_time": "2021-12-11T07:03:01.765Z"
      },
      {
        "duration": 5,
        "start_time": "2021-12-11T07:03:04.784Z"
      },
      {
        "duration": 4,
        "start_time": "2021-12-11T07:03:10.280Z"
      },
      {
        "duration": 5,
        "start_time": "2021-12-11T07:03:11.628Z"
      },
      {
        "duration": 5,
        "start_time": "2021-12-11T07:03:54.067Z"
      },
      {
        "duration": 5,
        "start_time": "2021-12-11T07:03:57.233Z"
      },
      {
        "duration": 5,
        "start_time": "2021-12-11T07:03:58.060Z"
      },
      {
        "duration": 6,
        "start_time": "2021-12-11T07:05:25.440Z"
      },
      {
        "duration": 204,
        "start_time": "2021-12-11T07:06:30.628Z"
      },
      {
        "duration": 3,
        "start_time": "2021-12-11T07:06:55.406Z"
      },
      {
        "duration": 180,
        "start_time": "2021-12-11T07:06:56.041Z"
      },
      {
        "duration": 5,
        "start_time": "2021-12-11T07:07:10.358Z"
      },
      {
        "duration": 175,
        "start_time": "2021-12-11T07:07:21.775Z"
      },
      {
        "duration": 4,
        "start_time": "2021-12-11T07:08:03.224Z"
      },
      {
        "duration": 5,
        "start_time": "2021-12-11T07:08:23.500Z"
      },
      {
        "duration": 4,
        "start_time": "2021-12-11T07:08:49.919Z"
      },
      {
        "duration": 4,
        "start_time": "2021-12-11T07:09:14.867Z"
      },
      {
        "duration": 6,
        "start_time": "2021-12-11T07:09:23.527Z"
      },
      {
        "duration": 2,
        "start_time": "2021-12-11T07:09:24.917Z"
      },
      {
        "duration": 4,
        "start_time": "2021-12-11T07:09:26.605Z"
      },
      {
        "duration": 4,
        "start_time": "2021-12-11T07:10:13.208Z"
      },
      {
        "duration": 191,
        "start_time": "2021-12-11T07:10:28.608Z"
      },
      {
        "duration": 5,
        "start_time": "2021-12-11T07:10:34.669Z"
      },
      {
        "duration": 3,
        "start_time": "2021-12-11T07:10:58.236Z"
      },
      {
        "duration": 5,
        "start_time": "2021-12-11T07:11:01.930Z"
      },
      {
        "duration": 183,
        "start_time": "2021-12-11T07:11:06.983Z"
      },
      {
        "duration": 172,
        "start_time": "2021-12-11T07:11:19.448Z"
      },
      {
        "duration": 177,
        "start_time": "2021-12-11T07:11:39.683Z"
      },
      {
        "duration": 3,
        "start_time": "2021-12-11T07:11:55.888Z"
      },
      {
        "duration": 201,
        "start_time": "2021-12-11T07:11:59.248Z"
      },
      {
        "duration": 172,
        "start_time": "2021-12-11T07:12:03.181Z"
      },
      {
        "duration": 223,
        "start_time": "2021-12-11T07:12:13.542Z"
      },
      {
        "duration": 3,
        "start_time": "2021-12-11T07:12:28.200Z"
      },
      {
        "duration": 225,
        "start_time": "2021-12-11T07:12:32.224Z"
      },
      {
        "duration": 154,
        "start_time": "2021-12-11T07:13:33.098Z"
      },
      {
        "duration": 89,
        "start_time": "2021-12-11T07:14:38.236Z"
      },
      {
        "duration": 87,
        "start_time": "2021-12-11T07:14:43.663Z"
      },
      {
        "duration": 192,
        "start_time": "2021-12-11T07:14:48.827Z"
      },
      {
        "duration": 88,
        "start_time": "2021-12-11T07:15:00.337Z"
      },
      {
        "duration": 83,
        "start_time": "2021-12-11T07:15:48.346Z"
      },
      {
        "duration": 310,
        "start_time": "2021-12-11T07:23:40.026Z"
      },
      {
        "duration": 260,
        "start_time": "2021-12-11T07:31:35.745Z"
      },
      {
        "duration": 240,
        "start_time": "2021-12-11T07:32:04.688Z"
      },
      {
        "duration": 105,
        "start_time": "2021-12-11T07:32:32.615Z"
      },
      {
        "duration": 271,
        "start_time": "2021-12-11T07:32:55.180Z"
      },
      {
        "duration": 4,
        "start_time": "2021-12-11T07:34:14.886Z"
      },
      {
        "duration": 3,
        "start_time": "2021-12-11T07:34:25.156Z"
      },
      {
        "duration": 169,
        "start_time": "2021-12-11T07:34:38.273Z"
      },
      {
        "duration": 185,
        "start_time": "2021-12-11T07:34:50.071Z"
      },
      {
        "duration": 99,
        "start_time": "2021-12-11T07:36:01.267Z"
      },
      {
        "duration": 308,
        "start_time": "2021-12-11T07:36:23.225Z"
      },
      {
        "duration": 96,
        "start_time": "2021-12-11T07:37:18.461Z"
      },
      {
        "duration": 305,
        "start_time": "2021-12-11T07:40:30.764Z"
      },
      {
        "duration": 98,
        "start_time": "2021-12-11T07:40:39.016Z"
      },
      {
        "duration": 103,
        "start_time": "2021-12-11T07:40:47.290Z"
      },
      {
        "duration": 3,
        "start_time": "2021-12-11T07:41:18.482Z"
      },
      {
        "duration": 168,
        "start_time": "2021-12-11T07:41:19.452Z"
      },
      {
        "duration": 4,
        "start_time": "2021-12-11T07:41:24.629Z"
      },
      {
        "duration": 5,
        "start_time": "2021-12-11T07:41:27.862Z"
      },
      {
        "duration": 7,
        "start_time": "2021-12-11T07:41:36.666Z"
      },
      {
        "duration": 5,
        "start_time": "2021-12-11T07:41:39.083Z"
      },
      {
        "duration": 91,
        "start_time": "2021-12-11T07:41:40.457Z"
      },
      {
        "duration": 6,
        "start_time": "2021-12-11T07:42:17.110Z"
      },
      {
        "duration": 96,
        "start_time": "2021-12-11T07:43:42.818Z"
      },
      {
        "duration": 116,
        "start_time": "2021-12-11T07:45:28.183Z"
      },
      {
        "duration": 334,
        "start_time": "2021-12-11T07:46:07.394Z"
      },
      {
        "duration": 266,
        "start_time": "2021-12-11T07:46:17.404Z"
      },
      {
        "duration": 281,
        "start_time": "2021-12-11T07:46:22.629Z"
      },
      {
        "duration": 101,
        "start_time": "2021-12-11T07:46:30.282Z"
      },
      {
        "duration": 103,
        "start_time": "2021-12-11T07:46:58.518Z"
      },
      {
        "duration": 98,
        "start_time": "2021-12-11T07:47:15.811Z"
      },
      {
        "duration": 3,
        "start_time": "2021-12-11T07:48:30.750Z"
      },
      {
        "duration": 4,
        "start_time": "2021-12-11T07:49:43.622Z"
      },
      {
        "duration": 5,
        "start_time": "2021-12-11T07:50:31.484Z"
      },
      {
        "duration": 7,
        "start_time": "2021-12-11T07:51:00.994Z"
      },
      {
        "duration": 3,
        "start_time": "2021-12-11T07:51:08.907Z"
      },
      {
        "duration": 5,
        "start_time": "2021-12-11T07:51:12.422Z"
      },
      {
        "duration": 7,
        "start_time": "2021-12-11T07:51:15.997Z"
      },
      {
        "duration": 109,
        "start_time": "2021-12-11T07:52:10.650Z"
      },
      {
        "duration": 101,
        "start_time": "2021-12-11T07:52:21.785Z"
      },
      {
        "duration": 101,
        "start_time": "2021-12-11T07:52:42.436Z"
      },
      {
        "duration": 3,
        "start_time": "2021-12-11T07:53:47.494Z"
      },
      {
        "duration": 5,
        "start_time": "2021-12-11T07:53:49.094Z"
      },
      {
        "duration": 3,
        "start_time": "2021-12-11T07:53:50.392Z"
      },
      {
        "duration": 5,
        "start_time": "2021-12-11T07:53:51.756Z"
      },
      {
        "duration": 7,
        "start_time": "2021-12-11T07:53:54.603Z"
      },
      {
        "duration": 104,
        "start_time": "2021-12-11T07:54:06.593Z"
      },
      {
        "duration": 1457,
        "start_time": "2021-12-13T08:15:47.961Z"
      },
      {
        "duration": 91,
        "start_time": "2021-12-13T08:15:49.421Z"
      },
      {
        "duration": 32,
        "start_time": "2021-12-13T08:15:49.515Z"
      },
      {
        "duration": 13,
        "start_time": "2021-12-13T08:15:49.550Z"
      },
      {
        "duration": 18,
        "start_time": "2021-12-13T08:15:49.566Z"
      },
      {
        "duration": 21,
        "start_time": "2021-12-13T08:15:49.587Z"
      },
      {
        "duration": 8,
        "start_time": "2021-12-13T08:15:49.612Z"
      },
      {
        "duration": 10,
        "start_time": "2021-12-13T08:15:49.625Z"
      },
      {
        "duration": 54,
        "start_time": "2021-12-13T08:15:49.639Z"
      },
      {
        "duration": 26883,
        "start_time": "2021-12-13T08:15:49.696Z"
      },
      {
        "duration": 25,
        "start_time": "2021-12-13T08:16:16.581Z"
      },
      {
        "duration": 4,
        "start_time": "2021-12-13T08:16:16.609Z"
      },
      {
        "duration": 178,
        "start_time": "2021-12-13T08:16:16.616Z"
      },
      {
        "duration": 15,
        "start_time": "2021-12-13T08:16:16.797Z"
      },
      {
        "duration": 3,
        "start_time": "2021-12-13T08:16:16.815Z"
      },
      {
        "duration": 10,
        "start_time": "2021-12-13T08:16:16.820Z"
      },
      {
        "duration": 36,
        "start_time": "2021-12-13T08:16:16.832Z"
      },
      {
        "duration": 417,
        "start_time": "2021-12-13T08:16:16.870Z"
      },
      {
        "duration": -25,
        "start_time": "2021-12-13T08:16:17.316Z"
      },
      {
        "duration": -47,
        "start_time": "2021-12-13T08:16:17.339Z"
      },
      {
        "duration": -48,
        "start_time": "2021-12-13T08:16:17.342Z"
      },
      {
        "duration": -49,
        "start_time": "2021-12-13T08:16:17.345Z"
      },
      {
        "duration": -51,
        "start_time": "2021-12-13T08:16:17.349Z"
      },
      {
        "duration": -52,
        "start_time": "2021-12-13T08:16:17.352Z"
      },
      {
        "duration": -53,
        "start_time": "2021-12-13T08:16:17.355Z"
      },
      {
        "duration": -53,
        "start_time": "2021-12-13T08:16:17.357Z"
      },
      {
        "duration": -80,
        "start_time": "2021-12-13T08:16:17.386Z"
      },
      {
        "duration": -80,
        "start_time": "2021-12-13T08:16:17.388Z"
      },
      {
        "duration": 3,
        "start_time": "2021-12-13T08:17:03.367Z"
      },
      {
        "duration": 10,
        "start_time": "2021-12-13T08:17:04.527Z"
      },
      {
        "duration": 282,
        "start_time": "2021-12-13T08:17:06.300Z"
      },
      {
        "duration": 199,
        "start_time": "2021-12-13T08:17:20.470Z"
      },
      {
        "duration": 9,
        "start_time": "2021-12-13T08:17:21.969Z"
      },
      {
        "duration": 9,
        "start_time": "2021-12-13T08:17:22.933Z"
      },
      {
        "duration": 13,
        "start_time": "2021-12-13T08:17:29.908Z"
      },
      {
        "duration": 10,
        "start_time": "2021-12-13T08:17:31.225Z"
      },
      {
        "duration": 10,
        "start_time": "2021-12-13T08:17:32.573Z"
      },
      {
        "duration": 176,
        "start_time": "2021-12-13T08:17:39.904Z"
      },
      {
        "duration": 164,
        "start_time": "2021-12-13T08:17:42.338Z"
      },
      {
        "duration": 4,
        "start_time": "2021-12-13T08:17:58.180Z"
      },
      {
        "duration": 4,
        "start_time": "2021-12-13T08:17:58.986Z"
      },
      {
        "duration": 8,
        "start_time": "2021-12-13T08:18:53.213Z"
      },
      {
        "duration": 9,
        "start_time": "2021-12-13T08:19:12.070Z"
      },
      {
        "duration": 4,
        "start_time": "2021-12-13T08:35:40.495Z"
      },
      {
        "duration": 9,
        "start_time": "2021-12-13T08:36:25.223Z"
      },
      {
        "duration": 9,
        "start_time": "2021-12-13T08:38:09.750Z"
      },
      {
        "duration": 9,
        "start_time": "2021-12-13T08:40:15.313Z"
      },
      {
        "duration": 9,
        "start_time": "2021-12-13T08:40:32.257Z"
      },
      {
        "duration": 4,
        "start_time": "2021-12-13T08:43:26.777Z"
      },
      {
        "duration": 284,
        "start_time": "2021-12-13T08:43:31.651Z"
      },
      {
        "duration": 4,
        "start_time": "2021-12-13T08:43:44.297Z"
      },
      {
        "duration": 347,
        "start_time": "2021-12-13T08:43:45.825Z"
      },
      {
        "duration": 268,
        "start_time": "2021-12-13T08:44:05.680Z"
      },
      {
        "duration": 4,
        "start_time": "2021-12-13T08:44:59.759Z"
      },
      {
        "duration": 7,
        "start_time": "2021-12-13T08:45:01.232Z"
      },
      {
        "duration": 4,
        "start_time": "2021-12-13T08:45:06.402Z"
      },
      {
        "duration": 7,
        "start_time": "2021-12-13T08:45:11.546Z"
      },
      {
        "duration": 8,
        "start_time": "2021-12-13T08:45:15.497Z"
      },
      {
        "duration": 7,
        "start_time": "2021-12-13T08:45:25.671Z"
      },
      {
        "duration": 8,
        "start_time": "2021-12-13T08:45:26.911Z"
      },
      {
        "duration": 3,
        "start_time": "2021-12-13T08:48:35.716Z"
      },
      {
        "duration": 7,
        "start_time": "2021-12-13T08:48:36.326Z"
      },
      {
        "duration": 5,
        "start_time": "2021-12-13T08:49:11.655Z"
      },
      {
        "duration": 172,
        "start_time": "2021-12-13T08:51:44.279Z"
      },
      {
        "duration": 174,
        "start_time": "2021-12-13T08:56:15.191Z"
      },
      {
        "duration": 250,
        "start_time": "2021-12-13T08:56:37.884Z"
      },
      {
        "duration": 5,
        "start_time": "2021-12-13T08:57:59.964Z"
      },
      {
        "duration": 6,
        "start_time": "2021-12-13T09:04:55.101Z"
      },
      {
        "duration": 1430,
        "start_time": "2021-12-13T09:09:57.897Z"
      },
      {
        "duration": 21,
        "start_time": "2021-12-13T09:09:59.329Z"
      },
      {
        "duration": 26,
        "start_time": "2021-12-13T09:09:59.353Z"
      },
      {
        "duration": 9,
        "start_time": "2021-12-13T09:09:59.382Z"
      },
      {
        "duration": 8,
        "start_time": "2021-12-13T09:09:59.394Z"
      },
      {
        "duration": 9,
        "start_time": "2021-12-13T09:09:59.404Z"
      },
      {
        "duration": 7,
        "start_time": "2021-12-13T09:09:59.415Z"
      },
      {
        "duration": 41,
        "start_time": "2021-12-13T09:09:59.426Z"
      },
      {
        "duration": 36,
        "start_time": "2021-12-13T09:09:59.470Z"
      },
      {
        "duration": 27768,
        "start_time": "2021-12-13T09:09:59.508Z"
      },
      {
        "duration": 27,
        "start_time": "2021-12-13T09:10:27.278Z"
      },
      {
        "duration": 7,
        "start_time": "2021-12-13T09:10:27.308Z"
      },
      {
        "duration": 173,
        "start_time": "2021-12-13T09:10:27.317Z"
      },
      {
        "duration": 13,
        "start_time": "2021-12-13T09:10:27.492Z"
      },
      {
        "duration": 8,
        "start_time": "2021-12-13T09:10:27.507Z"
      },
      {
        "duration": 9,
        "start_time": "2021-12-13T09:10:27.517Z"
      },
      {
        "duration": 38,
        "start_time": "2021-12-13T09:10:27.528Z"
      },
      {
        "duration": 17,
        "start_time": "2021-12-13T09:10:27.569Z"
      },
      {
        "duration": 7,
        "start_time": "2021-12-13T09:10:27.588Z"
      },
      {
        "duration": 17,
        "start_time": "2021-12-13T09:10:27.597Z"
      },
      {
        "duration": 9,
        "start_time": "2021-12-13T09:10:27.616Z"
      },
      {
        "duration": 10,
        "start_time": "2021-12-13T09:10:27.628Z"
      },
      {
        "duration": 29,
        "start_time": "2021-12-13T09:10:27.642Z"
      },
      {
        "duration": 198,
        "start_time": "2021-12-13T09:10:27.674Z"
      },
      {
        "duration": 8,
        "start_time": "2021-12-13T09:10:27.874Z"
      },
      {
        "duration": 15,
        "start_time": "2021-12-13T09:10:27.885Z"
      },
      {
        "duration": 1521,
        "start_time": "2021-12-13T09:13:03.927Z"
      },
      {
        "duration": 21,
        "start_time": "2021-12-13T09:13:05.451Z"
      },
      {
        "duration": 25,
        "start_time": "2021-12-13T09:13:05.476Z"
      },
      {
        "duration": 20,
        "start_time": "2021-12-13T09:13:05.504Z"
      },
      {
        "duration": 31,
        "start_time": "2021-12-13T09:13:05.526Z"
      },
      {
        "duration": 29,
        "start_time": "2021-12-13T09:13:05.560Z"
      },
      {
        "duration": 24,
        "start_time": "2021-12-13T09:13:05.591Z"
      },
      {
        "duration": 19,
        "start_time": "2021-12-13T09:13:05.619Z"
      },
      {
        "duration": 58,
        "start_time": "2021-12-13T09:13:05.641Z"
      },
      {
        "duration": 27533,
        "start_time": "2021-12-13T09:13:05.701Z"
      },
      {
        "duration": 43,
        "start_time": "2021-12-13T09:13:33.238Z"
      },
      {
        "duration": 4,
        "start_time": "2021-12-13T09:13:33.284Z"
      },
      {
        "duration": 158,
        "start_time": "2021-12-13T09:13:33.290Z"
      },
      {
        "duration": 17,
        "start_time": "2021-12-13T09:13:33.451Z"
      },
      {
        "duration": 8,
        "start_time": "2021-12-13T09:13:33.470Z"
      },
      {
        "duration": 11,
        "start_time": "2021-12-13T09:13:33.481Z"
      },
      {
        "duration": 11,
        "start_time": "2021-12-13T09:13:33.494Z"
      },
      {
        "duration": 20,
        "start_time": "2021-12-13T09:13:33.507Z"
      },
      {
        "duration": 18,
        "start_time": "2021-12-13T09:13:33.529Z"
      },
      {
        "duration": 27,
        "start_time": "2021-12-13T09:13:33.549Z"
      },
      {
        "duration": 8,
        "start_time": "2021-12-13T09:13:33.578Z"
      },
      {
        "duration": 9,
        "start_time": "2021-12-13T09:13:33.588Z"
      },
      {
        "duration": 217,
        "start_time": "2021-12-13T09:13:33.601Z"
      },
      {
        "duration": 8,
        "start_time": "2021-12-13T09:13:33.820Z"
      },
      {
        "duration": 9,
        "start_time": "2021-12-13T09:13:33.831Z"
      },
      {
        "duration": 1122,
        "start_time": "2021-12-14T04:15:47.045Z"
      },
      {
        "duration": 19,
        "start_time": "2021-12-14T04:15:48.169Z"
      },
      {
        "duration": 13,
        "start_time": "2021-12-14T04:15:48.191Z"
      },
      {
        "duration": 6,
        "start_time": "2021-12-14T04:15:48.206Z"
      },
      {
        "duration": 6,
        "start_time": "2021-12-14T04:15:48.214Z"
      },
      {
        "duration": 6,
        "start_time": "2021-12-14T04:15:48.222Z"
      },
      {
        "duration": 4,
        "start_time": "2021-12-14T04:15:48.230Z"
      },
      {
        "duration": 4,
        "start_time": "2021-12-14T04:15:48.236Z"
      },
      {
        "duration": 39,
        "start_time": "2021-12-14T04:15:48.242Z"
      },
      {
        "duration": 15654,
        "start_time": "2021-12-14T04:15:48.283Z"
      },
      {
        "duration": 27,
        "start_time": "2021-12-14T04:16:03.939Z"
      },
      {
        "duration": 3,
        "start_time": "2021-12-14T04:16:03.968Z"
      },
      {
        "duration": 96,
        "start_time": "2021-12-14T04:16:03.972Z"
      },
      {
        "duration": 11,
        "start_time": "2021-12-14T04:16:04.069Z"
      },
      {
        "duration": 7,
        "start_time": "2021-12-14T04:16:04.081Z"
      },
      {
        "duration": 9,
        "start_time": "2021-12-14T04:16:04.089Z"
      },
      {
        "duration": 4,
        "start_time": "2021-12-14T04:16:04.099Z"
      },
      {
        "duration": 7,
        "start_time": "2021-12-14T04:16:04.104Z"
      },
      {
        "duration": 2,
        "start_time": "2021-12-14T04:16:04.113Z"
      },
      {
        "duration": 11,
        "start_time": "2021-12-14T04:16:04.117Z"
      },
      {
        "duration": 6,
        "start_time": "2021-12-14T04:16:04.129Z"
      },
      {
        "duration": 5,
        "start_time": "2021-12-14T04:16:04.164Z"
      },
      {
        "duration": 115,
        "start_time": "2021-12-14T04:16:04.171Z"
      },
      {
        "duration": 5,
        "start_time": "2021-12-14T04:16:04.287Z"
      },
      {
        "duration": 6,
        "start_time": "2021-12-14T04:16:04.294Z"
      },
      {
        "duration": 5,
        "start_time": "2021-12-14T04:16:22.147Z"
      },
      {
        "duration": 6,
        "start_time": "2021-12-14T04:16:44.521Z"
      },
      {
        "duration": 11,
        "start_time": "2021-12-14T04:16:59.249Z"
      },
      {
        "duration": 6,
        "start_time": "2021-12-14T04:17:04.636Z"
      },
      {
        "duration": 11,
        "start_time": "2021-12-14T04:17:05.113Z"
      }
    ],
    "colab": {
      "collapsed_sections": [],
      "name": "ml-tariff-recommendation.ipynb",
      "provenance": []
    },
    "kernelspec": {
      "display_name": "Python 3 (ipykernel)",
      "language": "python",
      "name": "python3"
    },
    "language_info": {
      "codemirror_mode": {
        "name": "ipython",
        "version": 3
      },
      "file_extension": ".py",
      "mimetype": "text/x-python",
      "name": "python",
      "nbconvert_exporter": "python",
      "pygments_lexer": "ipython3",
      "version": "3.9.5"
    },
    "toc": {
      "base_numbering": 1,
      "nav_menu": {},
      "number_sections": true,
      "sideBar": true,
      "skip_h1_title": true,
      "title_cell": "Table of Contents",
      "title_sidebar": "Contents",
      "toc_cell": false,
      "toc_position": {},
      "toc_section_display": true,
      "toc_window_display": false
    }
  },
  "nbformat": 4,
  "nbformat_minor": 0
}