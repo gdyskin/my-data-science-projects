{
  "cells": [
    {
      "cell_type": "markdown",
      "metadata": {
        "id": "aghb01TfwK2P"
      },
      "source": [
        "# Exploration of advertisements for the sale of apartments\n",
        "\n",
        "Project based on the data of the Yandex.Realty service - an archive of ads for the sale of apartments in St. Petersburg and neighboring settlements for several years. The goal of the project is to learn how to determine the market value of real estate based on existing data. Eventually this would allow to build an automated system which will track anomalies and fraudulent activity. "
      ]
    },
    {
      "cell_type": "markdown",
      "metadata": {
        "id": "gCVynfNHwK2Q"
      },
      "source": [
        "## Examining data from a file"
      ]
    },
    {
      "cell_type": "code",
      "execution_count": 1,
      "metadata": {
        "colab": {
          "base_uri": "https://localhost:8080/"
        },
        "id": "UOeFOMuVwK2R",
        "outputId": "30afef9c-cb75-42eb-ee9c-90ada1b7711a"
      },
      "outputs": [
        {
          "output_type": "stream",
          "name": "stdout",
          "text": [
            "<class 'pandas.core.frame.DataFrame'>\n",
            "RangeIndex: 23699 entries, 0 to 23698\n",
            "Data columns (total 22 columns):\n",
            " #   Column                Non-Null Count  Dtype  \n",
            "---  ------                --------------  -----  \n",
            " 0   total_images          23699 non-null  int64  \n",
            " 1   last_price            23699 non-null  float64\n",
            " 2   total_area            23699 non-null  float64\n",
            " 3   first_day_exposition  23699 non-null  object \n",
            " 4   rooms                 23699 non-null  int64  \n",
            " 5   ceiling_height        14504 non-null  float64\n",
            " 6   floors_total          23613 non-null  float64\n",
            " 7   living_area           21796 non-null  float64\n",
            " 8   floor                 23699 non-null  int64  \n",
            " 9   is_apartment          2775 non-null   object \n",
            " 10  studio                23699 non-null  bool   \n",
            " 11  open_plan             23699 non-null  bool   \n",
            " 12  kitchen_area          21421 non-null  float64\n",
            " 13  balcony               12180 non-null  float64\n",
            " 14  locality_name         23650 non-null  object \n",
            " 15  airports_nearest      18157 non-null  float64\n",
            " 16  cityCenters_nearest   18180 non-null  float64\n",
            " 17  parks_around3000      18181 non-null  float64\n",
            " 18  parks_nearest         8079 non-null   float64\n",
            " 19  ponds_around3000      18181 non-null  float64\n",
            " 20  ponds_nearest         9110 non-null   float64\n",
            " 21  days_exposition       20518 non-null  float64\n",
            "dtypes: bool(2), float64(14), int64(3), object(3)\n",
            "memory usage: 3.7+ MB\n"
          ]
        }
      ],
      "source": [
        "import pandas as pd\n",
        "import matplotlib.pyplot as plt\n",
        "pd.set_option('display.max_columns', None)\n",
        "pd.set_option('display.float_format', lambda x: '%.2f' % x)\n",
        "data = pd.read_csv('/content/project-3-real-estate-data.csv', sep='\\t')\n",
        "data.info()"
      ]
    },
    {
      "cell_type": "code",
      "execution_count": 2,
      "metadata": {
        "colab": {
          "base_uri": "https://localhost:8080/",
          "height": 357
        },
        "id": "YomjtYpSwK2S",
        "outputId": "90a4db6b-f7c5-42cc-ec6c-32ac81a8d35b"
      },
      "outputs": [
        {
          "output_type": "execute_result",
          "data": {
            "text/plain": [
              "   total_images  last_price  total_area first_day_exposition  rooms  \\\n",
              "0            20 13000000.00      108.00  2019-03-07T00:00:00      3   \n",
              "1             7  3350000.00       40.40  2018-12-04T00:00:00      1   \n",
              "2            10  5196000.00       56.00  2015-08-20T00:00:00      2   \n",
              "3             0 64900000.00      159.00  2015-07-24T00:00:00      3   \n",
              "4             2 10000000.00      100.00  2018-06-19T00:00:00      2   \n",
              "\n",
              "   ceiling_height  floors_total  living_area  floor is_apartment  studio  \\\n",
              "0            2.70         16.00        51.00      8          NaN   False   \n",
              "1             NaN         11.00        18.60      1          NaN   False   \n",
              "2             NaN          5.00        34.30      4          NaN   False   \n",
              "3             NaN         14.00          NaN      9          NaN   False   \n",
              "4            3.03         14.00        32.00     13          NaN   False   \n",
              "\n",
              "   open_plan  kitchen_area  balcony    locality_name  airports_nearest  \\\n",
              "0      False         25.00      NaN  Санкт-Петербург          18863.00   \n",
              "1      False         11.00     2.00   посёлок Шушары          12817.00   \n",
              "2      False          8.30     0.00  Санкт-Петербург          21741.00   \n",
              "3      False           NaN     0.00  Санкт-Петербург          28098.00   \n",
              "4      False         41.00      NaN  Санкт-Петербург          31856.00   \n",
              "\n",
              "   cityCenters_nearest  parks_around3000  parks_nearest  ponds_around3000  \\\n",
              "0             16028.00              1.00         482.00              2.00   \n",
              "1             18603.00              0.00            NaN              0.00   \n",
              "2             13933.00              1.00          90.00              2.00   \n",
              "3              6800.00              2.00          84.00              3.00   \n",
              "4              8098.00              2.00         112.00              1.00   \n",
              "\n",
              "   ponds_nearest  days_exposition  \n",
              "0         755.00              NaN  \n",
              "1            NaN            81.00  \n",
              "2         574.00           558.00  \n",
              "3         234.00           424.00  \n",
              "4          48.00           121.00  "
            ],
            "text/html": [
              "\n",
              "  <div id=\"df-0f973905-5da7-4432-bf12-608d5d62638f\">\n",
              "    <div class=\"colab-df-container\">\n",
              "      <div>\n",
              "<style scoped>\n",
              "    .dataframe tbody tr th:only-of-type {\n",
              "        vertical-align: middle;\n",
              "    }\n",
              "\n",
              "    .dataframe tbody tr th {\n",
              "        vertical-align: top;\n",
              "    }\n",
              "\n",
              "    .dataframe thead th {\n",
              "        text-align: right;\n",
              "    }\n",
              "</style>\n",
              "<table border=\"1\" class=\"dataframe\">\n",
              "  <thead>\n",
              "    <tr style=\"text-align: right;\">\n",
              "      <th></th>\n",
              "      <th>total_images</th>\n",
              "      <th>last_price</th>\n",
              "      <th>total_area</th>\n",
              "      <th>first_day_exposition</th>\n",
              "      <th>rooms</th>\n",
              "      <th>ceiling_height</th>\n",
              "      <th>floors_total</th>\n",
              "      <th>living_area</th>\n",
              "      <th>floor</th>\n",
              "      <th>is_apartment</th>\n",
              "      <th>studio</th>\n",
              "      <th>open_plan</th>\n",
              "      <th>kitchen_area</th>\n",
              "      <th>balcony</th>\n",
              "      <th>locality_name</th>\n",
              "      <th>airports_nearest</th>\n",
              "      <th>cityCenters_nearest</th>\n",
              "      <th>parks_around3000</th>\n",
              "      <th>parks_nearest</th>\n",
              "      <th>ponds_around3000</th>\n",
              "      <th>ponds_nearest</th>\n",
              "      <th>days_exposition</th>\n",
              "    </tr>\n",
              "  </thead>\n",
              "  <tbody>\n",
              "    <tr>\n",
              "      <th>0</th>\n",
              "      <td>20</td>\n",
              "      <td>13000000.00</td>\n",
              "      <td>108.00</td>\n",
              "      <td>2019-03-07T00:00:00</td>\n",
              "      <td>3</td>\n",
              "      <td>2.70</td>\n",
              "      <td>16.00</td>\n",
              "      <td>51.00</td>\n",
              "      <td>8</td>\n",
              "      <td>NaN</td>\n",
              "      <td>False</td>\n",
              "      <td>False</td>\n",
              "      <td>25.00</td>\n",
              "      <td>NaN</td>\n",
              "      <td>Санкт-Петербург</td>\n",
              "      <td>18863.00</td>\n",
              "      <td>16028.00</td>\n",
              "      <td>1.00</td>\n",
              "      <td>482.00</td>\n",
              "      <td>2.00</td>\n",
              "      <td>755.00</td>\n",
              "      <td>NaN</td>\n",
              "    </tr>\n",
              "    <tr>\n",
              "      <th>1</th>\n",
              "      <td>7</td>\n",
              "      <td>3350000.00</td>\n",
              "      <td>40.40</td>\n",
              "      <td>2018-12-04T00:00:00</td>\n",
              "      <td>1</td>\n",
              "      <td>NaN</td>\n",
              "      <td>11.00</td>\n",
              "      <td>18.60</td>\n",
              "      <td>1</td>\n",
              "      <td>NaN</td>\n",
              "      <td>False</td>\n",
              "      <td>False</td>\n",
              "      <td>11.00</td>\n",
              "      <td>2.00</td>\n",
              "      <td>посёлок Шушары</td>\n",
              "      <td>12817.00</td>\n",
              "      <td>18603.00</td>\n",
              "      <td>0.00</td>\n",
              "      <td>NaN</td>\n",
              "      <td>0.00</td>\n",
              "      <td>NaN</td>\n",
              "      <td>81.00</td>\n",
              "    </tr>\n",
              "    <tr>\n",
              "      <th>2</th>\n",
              "      <td>10</td>\n",
              "      <td>5196000.00</td>\n",
              "      <td>56.00</td>\n",
              "      <td>2015-08-20T00:00:00</td>\n",
              "      <td>2</td>\n",
              "      <td>NaN</td>\n",
              "      <td>5.00</td>\n",
              "      <td>34.30</td>\n",
              "      <td>4</td>\n",
              "      <td>NaN</td>\n",
              "      <td>False</td>\n",
              "      <td>False</td>\n",
              "      <td>8.30</td>\n",
              "      <td>0.00</td>\n",
              "      <td>Санкт-Петербург</td>\n",
              "      <td>21741.00</td>\n",
              "      <td>13933.00</td>\n",
              "      <td>1.00</td>\n",
              "      <td>90.00</td>\n",
              "      <td>2.00</td>\n",
              "      <td>574.00</td>\n",
              "      <td>558.00</td>\n",
              "    </tr>\n",
              "    <tr>\n",
              "      <th>3</th>\n",
              "      <td>0</td>\n",
              "      <td>64900000.00</td>\n",
              "      <td>159.00</td>\n",
              "      <td>2015-07-24T00:00:00</td>\n",
              "      <td>3</td>\n",
              "      <td>NaN</td>\n",
              "      <td>14.00</td>\n",
              "      <td>NaN</td>\n",
              "      <td>9</td>\n",
              "      <td>NaN</td>\n",
              "      <td>False</td>\n",
              "      <td>False</td>\n",
              "      <td>NaN</td>\n",
              "      <td>0.00</td>\n",
              "      <td>Санкт-Петербург</td>\n",
              "      <td>28098.00</td>\n",
              "      <td>6800.00</td>\n",
              "      <td>2.00</td>\n",
              "      <td>84.00</td>\n",
              "      <td>3.00</td>\n",
              "      <td>234.00</td>\n",
              "      <td>424.00</td>\n",
              "    </tr>\n",
              "    <tr>\n",
              "      <th>4</th>\n",
              "      <td>2</td>\n",
              "      <td>10000000.00</td>\n",
              "      <td>100.00</td>\n",
              "      <td>2018-06-19T00:00:00</td>\n",
              "      <td>2</td>\n",
              "      <td>3.03</td>\n",
              "      <td>14.00</td>\n",
              "      <td>32.00</td>\n",
              "      <td>13</td>\n",
              "      <td>NaN</td>\n",
              "      <td>False</td>\n",
              "      <td>False</td>\n",
              "      <td>41.00</td>\n",
              "      <td>NaN</td>\n",
              "      <td>Санкт-Петербург</td>\n",
              "      <td>31856.00</td>\n",
              "      <td>8098.00</td>\n",
              "      <td>2.00</td>\n",
              "      <td>112.00</td>\n",
              "      <td>1.00</td>\n",
              "      <td>48.00</td>\n",
              "      <td>121.00</td>\n",
              "    </tr>\n",
              "  </tbody>\n",
              "</table>\n",
              "</div>\n",
              "      <button class=\"colab-df-convert\" onclick=\"convertToInteractive('df-0f973905-5da7-4432-bf12-608d5d62638f')\"\n",
              "              title=\"Convert this dataframe to an interactive table.\"\n",
              "              style=\"display:none;\">\n",
              "        \n",
              "  <svg xmlns=\"http://www.w3.org/2000/svg\" height=\"24px\"viewBox=\"0 0 24 24\"\n",
              "       width=\"24px\">\n",
              "    <path d=\"M0 0h24v24H0V0z\" fill=\"none\"/>\n",
              "    <path d=\"M18.56 5.44l.94 2.06.94-2.06 2.06-.94-2.06-.94-.94-2.06-.94 2.06-2.06.94zm-11 1L8.5 8.5l.94-2.06 2.06-.94-2.06-.94L8.5 2.5l-.94 2.06-2.06.94zm10 10l.94 2.06.94-2.06 2.06-.94-2.06-.94-.94-2.06-.94 2.06-2.06.94z\"/><path d=\"M17.41 7.96l-1.37-1.37c-.4-.4-.92-.59-1.43-.59-.52 0-1.04.2-1.43.59L10.3 9.45l-7.72 7.72c-.78.78-.78 2.05 0 2.83L4 21.41c.39.39.9.59 1.41.59.51 0 1.02-.2 1.41-.59l7.78-7.78 2.81-2.81c.8-.78.8-2.07 0-2.86zM5.41 20L4 18.59l7.72-7.72 1.47 1.35L5.41 20z\"/>\n",
              "  </svg>\n",
              "      </button>\n",
              "      \n",
              "  <style>\n",
              "    .colab-df-container {\n",
              "      display:flex;\n",
              "      flex-wrap:wrap;\n",
              "      gap: 12px;\n",
              "    }\n",
              "\n",
              "    .colab-df-convert {\n",
              "      background-color: #E8F0FE;\n",
              "      border: none;\n",
              "      border-radius: 50%;\n",
              "      cursor: pointer;\n",
              "      display: none;\n",
              "      fill: #1967D2;\n",
              "      height: 32px;\n",
              "      padding: 0 0 0 0;\n",
              "      width: 32px;\n",
              "    }\n",
              "\n",
              "    .colab-df-convert:hover {\n",
              "      background-color: #E2EBFA;\n",
              "      box-shadow: 0px 1px 2px rgba(60, 64, 67, 0.3), 0px 1px 3px 1px rgba(60, 64, 67, 0.15);\n",
              "      fill: #174EA6;\n",
              "    }\n",
              "\n",
              "    [theme=dark] .colab-df-convert {\n",
              "      background-color: #3B4455;\n",
              "      fill: #D2E3FC;\n",
              "    }\n",
              "\n",
              "    [theme=dark] .colab-df-convert:hover {\n",
              "      background-color: #434B5C;\n",
              "      box-shadow: 0px 1px 3px 1px rgba(0, 0, 0, 0.15);\n",
              "      filter: drop-shadow(0px 1px 2px rgba(0, 0, 0, 0.3));\n",
              "      fill: #FFFFFF;\n",
              "    }\n",
              "  </style>\n",
              "\n",
              "      <script>\n",
              "        const buttonEl =\n",
              "          document.querySelector('#df-0f973905-5da7-4432-bf12-608d5d62638f button.colab-df-convert');\n",
              "        buttonEl.style.display =\n",
              "          google.colab.kernel.accessAllowed ? 'block' : 'none';\n",
              "\n",
              "        async function convertToInteractive(key) {\n",
              "          const element = document.querySelector('#df-0f973905-5da7-4432-bf12-608d5d62638f');\n",
              "          const dataTable =\n",
              "            await google.colab.kernel.invokeFunction('convertToInteractive',\n",
              "                                                     [key], {});\n",
              "          if (!dataTable) return;\n",
              "\n",
              "          const docLinkHtml = 'Like what you see? Visit the ' +\n",
              "            '<a target=\"_blank\" href=https://colab.research.google.com/notebooks/data_table.ipynb>data table notebook</a>'\n",
              "            + ' to learn more about interactive tables.';\n",
              "          element.innerHTML = '';\n",
              "          dataTable['output_type'] = 'display_data';\n",
              "          await google.colab.output.renderOutput(dataTable, element);\n",
              "          const docLink = document.createElement('div');\n",
              "          docLink.innerHTML = docLinkHtml;\n",
              "          element.appendChild(docLink);\n",
              "        }\n",
              "      </script>\n",
              "    </div>\n",
              "  </div>\n",
              "  "
            ]
          },
          "metadata": {},
          "execution_count": 2
        }
      ],
      "source": [
        "data.head()"
      ]
    },
    {
      "cell_type": "markdown",
      "metadata": {
        "id": "db41Vkr1wK2T"
      },
      "source": [
        "### Conclusion"
      ]
    },
    {
      "cell_type": "markdown",
      "metadata": {
        "id": "bTD_vH81wK2T"
      },
      "source": [
        "The table contains 23699 entries. There are gaps in the data, some of them may affect the course and results of the analysis, they will have to be filled in or dropped. Omissions could be caused by various reasons, depending on the type of data in the columns, and may indicate the absence of a given parameter in a row, possibly a value of 0 in categorical data, etc. Further the data will be preprocessed in order to bring it into a form suitable for analysis."
      ]
    },
    {
      "cell_type": "markdown",
      "metadata": {
        "id": "kDeJ4f1uwK2U"
      },
      "source": [
        "## Data preprocessing"
      ]
    },
    {
      "cell_type": "markdown",
      "metadata": {
        "id": "y32_t9pAwK2U"
      },
      "source": [
        "There are quite a lot of missing values ​​in the existing dataset, the ways to fill in which are not obvious. Moreover, gaps are present both in the data entered manually by the authors of the ads, and in the values which are calculated automatically according to the cartographic data. In the second case, there are much more gaps, perhaps this is due to problems with indicating the coordinates of housing, or with the absence of the desired objects (POI) in reasonable proximity.\n",
        "\n",
        "In order not to introduce distortions, for example by filling in with the average values, it is better to leave these gaps as is, and conduct analysis according to the available data.\n",
        "\n",
        "In the case of the number of balconies, it is logical to assume that if the user did not specify its value, then this indicates of their absence, therefore, we will fill in the gaps in this column with zeros."
      ]
    },
    {
      "cell_type": "code",
      "execution_count": 3,
      "metadata": {
        "id": "mrHL9DMTwK2U"
      },
      "outputs": [],
      "source": [
        "data['balcony'] = data['balcony'].fillna(0)"
      ]
    },
    {
      "cell_type": "markdown",
      "metadata": {
        "id": "2wM-yG7awK2U"
      },
      "source": [
        "For gaps in the column of the number of days the ad was placed, we apply the technical replacement of gaps with the value -1. This will allow further conversion of the data type of the column, and combine rows with gaps into a separate category and not consider them when analyzing this parameter."
      ]
    },
    {
      "cell_type": "code",
      "execution_count": 4,
      "metadata": {
        "id": "5QPKF87wwK2V"
      },
      "outputs": [],
      "source": [
        "data['days_exposition'] = data['days_exposition'].fillna(-1)"
      ]
    },
    {
      "cell_type": "markdown",
      "metadata": {
        "id": "t20rAe0UwK2V"
      },
      "source": [
        "The number of gaps in the column locality_name and floors_total is not significant. Considering that these parameters are important for further research, and it is not possible to fill in the gaps in these records, we will drop lines with such gaps."
      ]
    },
    {
      "cell_type": "code",
      "execution_count": 5,
      "metadata": {
        "id": "oSN0QYPcwK2V"
      },
      "outputs": [],
      "source": [
        "data = data.dropna(subset=['locality_name']).reset_index(drop=True)\n",
        "data = data.dropna(subset=['floors_total']).reset_index(drop=True)"
      ]
    },
    {
      "cell_type": "markdown",
      "metadata": {
        "id": "Gp_AUVtCwK2V"
      },
      "source": [
        "Let's convert data types in some columns:"
      ]
    },
    {
      "cell_type": "code",
      "execution_count": 6,
      "metadata": {
        "colab": {
          "base_uri": "https://localhost:8080/"
        },
        "id": "sXkjPmVbwK2W",
        "outputId": "56209863-3a3c-4a29-f9e9-202a4080b6c5"
      },
      "outputs": [
        {
          "output_type": "stream",
          "name": "stdout",
          "text": [
            "<class 'pandas.core.frame.DataFrame'>\n",
            "RangeIndex: 23565 entries, 0 to 23564\n",
            "Data columns (total 22 columns):\n",
            " #   Column                Non-Null Count  Dtype  \n",
            "---  ------                --------------  -----  \n",
            " 0   total_images          23565 non-null  int64  \n",
            " 1   last_price            23565 non-null  float64\n",
            " 2   total_area            23565 non-null  float64\n",
            " 3   first_day_exposition  23565 non-null  object \n",
            " 4   rooms                 23565 non-null  int64  \n",
            " 5   ceiling_height        14481 non-null  float64\n",
            " 6   floors_total          23565 non-null  float64\n",
            " 7   living_area           21700 non-null  float64\n",
            " 8   floor                 23565 non-null  int64  \n",
            " 9   is_apartment          2760 non-null   object \n",
            " 10  studio                23565 non-null  bool   \n",
            " 11  open_plan             23565 non-null  bool   \n",
            " 12  kitchen_area          21343 non-null  float64\n",
            " 13  balcony               23565 non-null  float64\n",
            " 14  locality_name         23565 non-null  object \n",
            " 15  airports_nearest      18041 non-null  float64\n",
            " 16  cityCenters_nearest   18064 non-null  float64\n",
            " 17  parks_around3000      18065 non-null  float64\n",
            " 18  parks_nearest         8030 non-null   float64\n",
            " 19  ponds_around3000      18065 non-null  float64\n",
            " 20  ponds_nearest         9036 non-null   float64\n",
            " 21  days_exposition       23565 non-null  float64\n",
            "dtypes: bool(2), float64(14), int64(3), object(3)\n",
            "memory usage: 3.6+ MB\n"
          ]
        }
      ],
      "source": [
        "data.info()"
      ]
    },
    {
      "cell_type": "code",
      "execution_count": 7,
      "metadata": {
        "colab": {
          "base_uri": "https://localhost:8080/",
          "height": 357
        },
        "id": "beoLSN0DwK2W",
        "outputId": "b51f1611-c609-4201-8d8a-df93013131b3"
      },
      "outputs": [
        {
          "output_type": "execute_result",
          "data": {
            "text/plain": [
              "   total_images  last_price  total_area first_day_exposition  rooms  \\\n",
              "0            20 13000000.00      108.00           2019-03-07      3   \n",
              "1             7  3350000.00       40.40           2018-12-04      1   \n",
              "2            10  5196000.00       56.00           2015-08-20      2   \n",
              "3             0 64900000.00      159.00           2015-07-24      3   \n",
              "4             2 10000000.00      100.00           2018-06-19      2   \n",
              "\n",
              "   ceiling_height  floors_total  living_area  floor is_apartment  studio  \\\n",
              "0            2.70            16        51.00      8          NaN   False   \n",
              "1             NaN            11        18.60      1          NaN   False   \n",
              "2             NaN             5        34.30      4          NaN   False   \n",
              "3             NaN            14          NaN      9          NaN   False   \n",
              "4            3.03            14        32.00     13          NaN   False   \n",
              "\n",
              "   open_plan  kitchen_area  balcony    locality_name  airports_nearest  \\\n",
              "0      False         25.00        0  Санкт-Петербург          18863.00   \n",
              "1      False         11.00        2   посёлок Шушары          12817.00   \n",
              "2      False          8.30        0  Санкт-Петербург          21741.00   \n",
              "3      False           NaN        0  Санкт-Петербург          28098.00   \n",
              "4      False         41.00        0  Санкт-Петербург          31856.00   \n",
              "\n",
              "   cityCenters_nearest  parks_around3000  parks_nearest  ponds_around3000  \\\n",
              "0             16028.00              1.00         482.00              2.00   \n",
              "1             18603.00              0.00            NaN              0.00   \n",
              "2             13933.00              1.00          90.00              2.00   \n",
              "3              6800.00              2.00          84.00              3.00   \n",
              "4              8098.00              2.00         112.00              1.00   \n",
              "\n",
              "   ponds_nearest  days_exposition  \n",
              "0         755.00               -1  \n",
              "1            NaN               81  \n",
              "2         574.00              558  \n",
              "3         234.00              424  \n",
              "4          48.00              121  "
            ],
            "text/html": [
              "\n",
              "  <div id=\"df-941b1eac-39cc-4891-9f56-9b7505c96f8a\">\n",
              "    <div class=\"colab-df-container\">\n",
              "      <div>\n",
              "<style scoped>\n",
              "    .dataframe tbody tr th:only-of-type {\n",
              "        vertical-align: middle;\n",
              "    }\n",
              "\n",
              "    .dataframe tbody tr th {\n",
              "        vertical-align: top;\n",
              "    }\n",
              "\n",
              "    .dataframe thead th {\n",
              "        text-align: right;\n",
              "    }\n",
              "</style>\n",
              "<table border=\"1\" class=\"dataframe\">\n",
              "  <thead>\n",
              "    <tr style=\"text-align: right;\">\n",
              "      <th></th>\n",
              "      <th>total_images</th>\n",
              "      <th>last_price</th>\n",
              "      <th>total_area</th>\n",
              "      <th>first_day_exposition</th>\n",
              "      <th>rooms</th>\n",
              "      <th>ceiling_height</th>\n",
              "      <th>floors_total</th>\n",
              "      <th>living_area</th>\n",
              "      <th>floor</th>\n",
              "      <th>is_apartment</th>\n",
              "      <th>studio</th>\n",
              "      <th>open_plan</th>\n",
              "      <th>kitchen_area</th>\n",
              "      <th>balcony</th>\n",
              "      <th>locality_name</th>\n",
              "      <th>airports_nearest</th>\n",
              "      <th>cityCenters_nearest</th>\n",
              "      <th>parks_around3000</th>\n",
              "      <th>parks_nearest</th>\n",
              "      <th>ponds_around3000</th>\n",
              "      <th>ponds_nearest</th>\n",
              "      <th>days_exposition</th>\n",
              "    </tr>\n",
              "  </thead>\n",
              "  <tbody>\n",
              "    <tr>\n",
              "      <th>0</th>\n",
              "      <td>20</td>\n",
              "      <td>13000000.00</td>\n",
              "      <td>108.00</td>\n",
              "      <td>2019-03-07</td>\n",
              "      <td>3</td>\n",
              "      <td>2.70</td>\n",
              "      <td>16</td>\n",
              "      <td>51.00</td>\n",
              "      <td>8</td>\n",
              "      <td>NaN</td>\n",
              "      <td>False</td>\n",
              "      <td>False</td>\n",
              "      <td>25.00</td>\n",
              "      <td>0</td>\n",
              "      <td>Санкт-Петербург</td>\n",
              "      <td>18863.00</td>\n",
              "      <td>16028.00</td>\n",
              "      <td>1.00</td>\n",
              "      <td>482.00</td>\n",
              "      <td>2.00</td>\n",
              "      <td>755.00</td>\n",
              "      <td>-1</td>\n",
              "    </tr>\n",
              "    <tr>\n",
              "      <th>1</th>\n",
              "      <td>7</td>\n",
              "      <td>3350000.00</td>\n",
              "      <td>40.40</td>\n",
              "      <td>2018-12-04</td>\n",
              "      <td>1</td>\n",
              "      <td>NaN</td>\n",
              "      <td>11</td>\n",
              "      <td>18.60</td>\n",
              "      <td>1</td>\n",
              "      <td>NaN</td>\n",
              "      <td>False</td>\n",
              "      <td>False</td>\n",
              "      <td>11.00</td>\n",
              "      <td>2</td>\n",
              "      <td>посёлок Шушары</td>\n",
              "      <td>12817.00</td>\n",
              "      <td>18603.00</td>\n",
              "      <td>0.00</td>\n",
              "      <td>NaN</td>\n",
              "      <td>0.00</td>\n",
              "      <td>NaN</td>\n",
              "      <td>81</td>\n",
              "    </tr>\n",
              "    <tr>\n",
              "      <th>2</th>\n",
              "      <td>10</td>\n",
              "      <td>5196000.00</td>\n",
              "      <td>56.00</td>\n",
              "      <td>2015-08-20</td>\n",
              "      <td>2</td>\n",
              "      <td>NaN</td>\n",
              "      <td>5</td>\n",
              "      <td>34.30</td>\n",
              "      <td>4</td>\n",
              "      <td>NaN</td>\n",
              "      <td>False</td>\n",
              "      <td>False</td>\n",
              "      <td>8.30</td>\n",
              "      <td>0</td>\n",
              "      <td>Санкт-Петербург</td>\n",
              "      <td>21741.00</td>\n",
              "      <td>13933.00</td>\n",
              "      <td>1.00</td>\n",
              "      <td>90.00</td>\n",
              "      <td>2.00</td>\n",
              "      <td>574.00</td>\n",
              "      <td>558</td>\n",
              "    </tr>\n",
              "    <tr>\n",
              "      <th>3</th>\n",
              "      <td>0</td>\n",
              "      <td>64900000.00</td>\n",
              "      <td>159.00</td>\n",
              "      <td>2015-07-24</td>\n",
              "      <td>3</td>\n",
              "      <td>NaN</td>\n",
              "      <td>14</td>\n",
              "      <td>NaN</td>\n",
              "      <td>9</td>\n",
              "      <td>NaN</td>\n",
              "      <td>False</td>\n",
              "      <td>False</td>\n",
              "      <td>NaN</td>\n",
              "      <td>0</td>\n",
              "      <td>Санкт-Петербург</td>\n",
              "      <td>28098.00</td>\n",
              "      <td>6800.00</td>\n",
              "      <td>2.00</td>\n",
              "      <td>84.00</td>\n",
              "      <td>3.00</td>\n",
              "      <td>234.00</td>\n",
              "      <td>424</td>\n",
              "    </tr>\n",
              "    <tr>\n",
              "      <th>4</th>\n",
              "      <td>2</td>\n",
              "      <td>10000000.00</td>\n",
              "      <td>100.00</td>\n",
              "      <td>2018-06-19</td>\n",
              "      <td>2</td>\n",
              "      <td>3.03</td>\n",
              "      <td>14</td>\n",
              "      <td>32.00</td>\n",
              "      <td>13</td>\n",
              "      <td>NaN</td>\n",
              "      <td>False</td>\n",
              "      <td>False</td>\n",
              "      <td>41.00</td>\n",
              "      <td>0</td>\n",
              "      <td>Санкт-Петербург</td>\n",
              "      <td>31856.00</td>\n",
              "      <td>8098.00</td>\n",
              "      <td>2.00</td>\n",
              "      <td>112.00</td>\n",
              "      <td>1.00</td>\n",
              "      <td>48.00</td>\n",
              "      <td>121</td>\n",
              "    </tr>\n",
              "  </tbody>\n",
              "</table>\n",
              "</div>\n",
              "      <button class=\"colab-df-convert\" onclick=\"convertToInteractive('df-941b1eac-39cc-4891-9f56-9b7505c96f8a')\"\n",
              "              title=\"Convert this dataframe to an interactive table.\"\n",
              "              style=\"display:none;\">\n",
              "        \n",
              "  <svg xmlns=\"http://www.w3.org/2000/svg\" height=\"24px\"viewBox=\"0 0 24 24\"\n",
              "       width=\"24px\">\n",
              "    <path d=\"M0 0h24v24H0V0z\" fill=\"none\"/>\n",
              "    <path d=\"M18.56 5.44l.94 2.06.94-2.06 2.06-.94-2.06-.94-.94-2.06-.94 2.06-2.06.94zm-11 1L8.5 8.5l.94-2.06 2.06-.94-2.06-.94L8.5 2.5l-.94 2.06-2.06.94zm10 10l.94 2.06.94-2.06 2.06-.94-2.06-.94-.94-2.06-.94 2.06-2.06.94z\"/><path d=\"M17.41 7.96l-1.37-1.37c-.4-.4-.92-.59-1.43-.59-.52 0-1.04.2-1.43.59L10.3 9.45l-7.72 7.72c-.78.78-.78 2.05 0 2.83L4 21.41c.39.39.9.59 1.41.59.51 0 1.02-.2 1.41-.59l7.78-7.78 2.81-2.81c.8-.78.8-2.07 0-2.86zM5.41 20L4 18.59l7.72-7.72 1.47 1.35L5.41 20z\"/>\n",
              "  </svg>\n",
              "      </button>\n",
              "      \n",
              "  <style>\n",
              "    .colab-df-container {\n",
              "      display:flex;\n",
              "      flex-wrap:wrap;\n",
              "      gap: 12px;\n",
              "    }\n",
              "\n",
              "    .colab-df-convert {\n",
              "      background-color: #E8F0FE;\n",
              "      border: none;\n",
              "      border-radius: 50%;\n",
              "      cursor: pointer;\n",
              "      display: none;\n",
              "      fill: #1967D2;\n",
              "      height: 32px;\n",
              "      padding: 0 0 0 0;\n",
              "      width: 32px;\n",
              "    }\n",
              "\n",
              "    .colab-df-convert:hover {\n",
              "      background-color: #E2EBFA;\n",
              "      box-shadow: 0px 1px 2px rgba(60, 64, 67, 0.3), 0px 1px 3px 1px rgba(60, 64, 67, 0.15);\n",
              "      fill: #174EA6;\n",
              "    }\n",
              "\n",
              "    [theme=dark] .colab-df-convert {\n",
              "      background-color: #3B4455;\n",
              "      fill: #D2E3FC;\n",
              "    }\n",
              "\n",
              "    [theme=dark] .colab-df-convert:hover {\n",
              "      background-color: #434B5C;\n",
              "      box-shadow: 0px 1px 3px 1px rgba(0, 0, 0, 0.15);\n",
              "      filter: drop-shadow(0px 1px 2px rgba(0, 0, 0, 0.3));\n",
              "      fill: #FFFFFF;\n",
              "    }\n",
              "  </style>\n",
              "\n",
              "      <script>\n",
              "        const buttonEl =\n",
              "          document.querySelector('#df-941b1eac-39cc-4891-9f56-9b7505c96f8a button.colab-df-convert');\n",
              "        buttonEl.style.display =\n",
              "          google.colab.kernel.accessAllowed ? 'block' : 'none';\n",
              "\n",
              "        async function convertToInteractive(key) {\n",
              "          const element = document.querySelector('#df-941b1eac-39cc-4891-9f56-9b7505c96f8a');\n",
              "          const dataTable =\n",
              "            await google.colab.kernel.invokeFunction('convertToInteractive',\n",
              "                                                     [key], {});\n",
              "          if (!dataTable) return;\n",
              "\n",
              "          const docLinkHtml = 'Like what you see? Visit the ' +\n",
              "            '<a target=\"_blank\" href=https://colab.research.google.com/notebooks/data_table.ipynb>data table notebook</a>'\n",
              "            + ' to learn more about interactive tables.';\n",
              "          element.innerHTML = '';\n",
              "          dataTable['output_type'] = 'display_data';\n",
              "          await google.colab.output.renderOutput(dataTable, element);\n",
              "          const docLink = document.createElement('div');\n",
              "          docLink.innerHTML = docLinkHtml;\n",
              "          element.appendChild(docLink);\n",
              "        }\n",
              "      </script>\n",
              "    </div>\n",
              "  </div>\n",
              "  "
            ]
          },
          "metadata": {},
          "execution_count": 7
        }
      ],
      "source": [
        "data['first_day_exposition'] = pd.to_datetime(data['first_day_exposition'], format='%Y-%m-%dT%H:%M:%S')\n",
        "data['floors_total'] = data['floors_total'].astype('int')\n",
        "data['balcony'] = data['balcony'].astype('int')\n",
        "data['days_exposition'] = data['days_exposition'].astype('int')\n",
        "data.head()"
      ]
    },
    {
      "cell_type": "markdown",
      "metadata": {
        "id": "FeH303HnwK2W"
      },
      "source": [
        "Obviously \"is_apartment\" must be of data type \"bool\". To convert the type, we need to fill in the missing values. This parameter is not the key to the study, we will assume that NaN most likely means \"False\"."
      ]
    },
    {
      "cell_type": "code",
      "execution_count": 8,
      "metadata": {
        "colab": {
          "base_uri": "https://localhost:8080/"
        },
        "id": "OLutQ70EwK2W",
        "outputId": "048ee1d4-6803-4218-c641-a50c869d736e"
      },
      "outputs": [
        {
          "output_type": "execute_result",
          "data": {
            "text/plain": [
              "False    23515\n",
              "True        50\n",
              "Name: is_apartment, dtype: int64"
            ]
          },
          "metadata": {},
          "execution_count": 8
        }
      ],
      "source": [
        "data['is_apartment'] = data['is_apartment'].fillna(0)\n",
        "data['is_apartment'] = data['is_apartment'].astype('bool')\n",
        "data['is_apartment'].value_counts()"
      ]
    },
    {
      "cell_type": "markdown",
      "metadata": {
        "id": "q_MUHi0fwK2W"
      },
      "source": [
        "Let's look at the ceiling height data:"
      ]
    },
    {
      "cell_type": "code",
      "execution_count": 9,
      "metadata": {
        "colab": {
          "base_uri": "https://localhost:8080/"
        },
        "id": "_nItcyEDwK2W",
        "outputId": "05c2253d-880b-4107-d37a-ab25e8e317b1"
      },
      "outputs": [
        {
          "output_type": "execute_result",
          "data": {
            "text/plain": [
              "count   14481.00\n",
              "mean        2.77\n",
              "std         1.26\n",
              "min         1.00\n",
              "25%         2.51\n",
              "50%         2.65\n",
              "75%         2.80\n",
              "max       100.00\n",
              "Name: ceiling_height, dtype: float64"
            ]
          },
          "metadata": {},
          "execution_count": 9
        }
      ],
      "source": [
        "data['ceiling_height'].describe()"
      ]
    },
    {
      "cell_type": "markdown",
      "metadata": {
        "id": "8vICkqeHwK2X"
      },
      "source": [
        "Let's try to look for the relationship between the height of the ceilings and the cost or area of the housing, as the most obvious possible factors, potentially related. We will limit the range of ceiling heights to values ​​close to reality, at the same time we will get rid of NaNs in this way:"
      ]
    },
    {
      "cell_type": "code",
      "execution_count": 10,
      "metadata": {
        "id": "IlzKykDLwK2X"
      },
      "outputs": [],
      "source": [
        "data_ceiling = data[data['ceiling_height'] >= 2.3]\n",
        "data_ceiling = data[data['ceiling_height'] <= 5]"
      ]
    },
    {
      "cell_type": "code",
      "execution_count": 11,
      "metadata": {
        "colab": {
          "base_uri": "https://localhost:8080/"
        },
        "id": "XwJGGTZvwK2X",
        "outputId": "52eb6840-3864-4cd6-8348-4661476fa9f8"
      },
      "outputs": [
        {
          "output_type": "execute_result",
          "data": {
            "text/plain": [
              "0.3861433524718728"
            ]
          },
          "metadata": {},
          "execution_count": 11
        }
      ],
      "source": [
        "data_ceiling['ceiling_height'].corr(data_ceiling['last_price'])"
      ]
    },
    {
      "cell_type": "code",
      "execution_count": 12,
      "metadata": {
        "colab": {
          "base_uri": "https://localhost:8080/"
        },
        "id": "zU1x-2eSwK2X",
        "outputId": "b2bf1211-ab17-4ffb-896e-55f704dbe44b"
      },
      "outputs": [
        {
          "output_type": "execute_result",
          "data": {
            "text/plain": [
              "0.47811518406391834"
            ]
          },
          "metadata": {},
          "execution_count": 12
        }
      ],
      "source": [
        "data_ceiling['ceiling_height'].corr(data_ceiling['total_area'])"
      ]
    },
    {
      "cell_type": "markdown",
      "metadata": {
        "id": "5Hr3dlBnwK2X"
      },
      "source": [
        "In both cases, the correlation is less than 0.5, so the dependence is weak, and one cannot rely on data with similar \"last_price\" and \"total_area\" parameters to fill gaps in \"ceiling_height\". We leave the gaps untouched, in the future we will keep this in mind when assessing the influence of the height of the ceilings."
      ]
    },
    {
      "cell_type": "markdown",
      "metadata": {
        "id": "DudHZNVHwK2X"
      },
      "source": [
        "It is not possible to fill in the gaps in the \"living_area\" and \"kitchen_area\" columns reliably, because there are no dependencies of this parameter on other available ones, the areas can be distributed in any proportions. We can only determine how many records have gaps in both columns at the same time:"
      ]
    },
    {
      "cell_type": "code",
      "execution_count": 13,
      "metadata": {
        "colab": {
          "base_uri": "https://localhost:8080/"
        },
        "id": "agOeopYXwK2X",
        "outputId": "e72263a6-087b-496b-f47f-f92b56016ecc"
      },
      "outputs": [
        {
          "output_type": "execute_result",
          "data": {
            "text/plain": [
              "1427"
            ]
          },
          "metadata": {},
          "execution_count": 13
        }
      ],
      "source": [
        "data[data['living_area'].isna() & data['kitchen_area'].isna()]['total_area'].count()"
      ]
    },
    {
      "cell_type": "markdown",
      "metadata": {
        "id": "YkUc4-gLwK2X"
      },
      "source": [
        "## Calculations and adding results to the table"
      ]
    },
    {
      "cell_type": "markdown",
      "metadata": {
        "id": "5QRQwFmCwK2X"
      },
      "source": [
        "Add the cost per square meter to the table:"
      ]
    },
    {
      "cell_type": "code",
      "execution_count": 14,
      "metadata": {
        "id": "Q_wfqsudwK2Y"
      },
      "outputs": [],
      "source": [
        "data['price_m2'] = data['last_price'] / data['total_area']"
      ]
    },
    {
      "cell_type": "markdown",
      "metadata": {
        "id": "eI6Tgg6zwK2Y"
      },
      "source": [
        "Let's decompose the information about the date of the announcement into the day of the week, month and year of the announcement:"
      ]
    },
    {
      "cell_type": "code",
      "execution_count": 15,
      "metadata": {
        "id": "LigmjGnOwK2Y"
      },
      "outputs": [],
      "source": [
        "data['day'] = data['first_day_exposition'].dt.weekday"
      ]
    },
    {
      "cell_type": "code",
      "execution_count": 16,
      "metadata": {
        "id": "B-VNgAkhwK2Y"
      },
      "outputs": [],
      "source": [
        "data['month'] = data['first_day_exposition'].dt.month"
      ]
    },
    {
      "cell_type": "code",
      "execution_count": 17,
      "metadata": {
        "id": "DAvdsmiAwK2Y"
      },
      "outputs": [],
      "source": [
        "data['year'] = data['first_day_exposition'].dt.year"
      ]
    },
    {
      "cell_type": "markdown",
      "metadata": {
        "id": "RY-eZPb-wK2Y"
      },
      "source": [
        "Divide the records into categories, depending on the floor on which the housing is located:"
      ]
    },
    {
      "cell_type": "code",
      "execution_count": 18,
      "metadata": {
        "id": "VIbqVVb6wK2Y"
      },
      "outputs": [],
      "source": [
        "def floor_type(data):\n",
        "    '''The function divides the floor of the apartment into categories: first, last, other'''\n",
        "    if data['floor'] == 1:\n",
        "        return 'first'\n",
        "    if data['floor'] == data['floors_total']:\n",
        "        return 'last'\n",
        "    return 'other'"
      ]
    },
    {
      "cell_type": "code",
      "execution_count": 19,
      "metadata": {
        "id": "WvguqYrbwK2Y"
      },
      "outputs": [],
      "source": [
        "data['floor_type'] = data.apply(floor_type, axis=1)"
      ]
    },
    {
      "cell_type": "code",
      "execution_count": 20,
      "metadata": {
        "colab": {
          "base_uri": "https://localhost:8080/",
          "height": 644
        },
        "id": "PdMCLttywK2Y",
        "outputId": "aa5c8628-6097-489e-a06f-e26d8509192e"
      },
      "outputs": [
        {
          "output_type": "execute_result",
          "data": {
            "text/plain": [
              "       total_images  last_price  total_area first_day_exposition  rooms  \\\n",
              "0                20 13000000.00      108.00           2019-03-07      3   \n",
              "1                 7  3350000.00       40.40           2018-12-04      1   \n",
              "2                10  5196000.00       56.00           2015-08-20      2   \n",
              "3                 0 64900000.00      159.00           2015-07-24      3   \n",
              "4                 2 10000000.00      100.00           2018-06-19      2   \n",
              "...             ...         ...         ...                  ...    ...   \n",
              "23560             9  9700000.00      133.81           2017-03-21      3   \n",
              "23561            14  3100000.00       59.00           2018-01-15      3   \n",
              "23562            18  2500000.00       56.70           2018-02-11      2   \n",
              "23563            13 11475000.00       76.75           2017-03-28      2   \n",
              "23564             4  1350000.00       32.30           2017-07-21      1   \n",
              "\n",
              "       ceiling_height  floors_total  living_area  floor  is_apartment  studio  \\\n",
              "0                2.70            16        51.00      8         False   False   \n",
              "1                 NaN            11        18.60      1         False   False   \n",
              "2                 NaN             5        34.30      4         False   False   \n",
              "3                 NaN            14          NaN      9         False   False   \n",
              "4                3.03            14        32.00     13         False   False   \n",
              "...               ...           ...          ...    ...           ...     ...   \n",
              "23560            3.70             5        73.30      3         False   False   \n",
              "23561             NaN             5        38.00      4         False   False   \n",
              "23562             NaN             3        29.70      1         False   False   \n",
              "23563            3.00            17          NaN     12         False   False   \n",
              "23564            2.50             5        12.30      1         False   False   \n",
              "\n",
              "       open_plan  kitchen_area  balcony        locality_name  \\\n",
              "0          False         25.00        0      Санкт-Петербург   \n",
              "1          False         11.00        2       посёлок Шушары   \n",
              "2          False          8.30        0      Санкт-Петербург   \n",
              "3          False           NaN        0      Санкт-Петербург   \n",
              "4          False         41.00        0      Санкт-Петербург   \n",
              "...          ...           ...      ...                  ...   \n",
              "23560      False         13.83        0      Санкт-Петербург   \n",
              "23561      False          8.50        0                Тосно   \n",
              "23562      False           NaN        0     село Рождествено   \n",
              "23563      False         23.30        2      Санкт-Петербург   \n",
              "23564      False          9.00        0  поселок Новый Учхоз   \n",
              "\n",
              "       airports_nearest  cityCenters_nearest  parks_around3000  parks_nearest  \\\n",
              "0              18863.00             16028.00              1.00         482.00   \n",
              "1              12817.00             18603.00              0.00            NaN   \n",
              "2              21741.00             13933.00              1.00          90.00   \n",
              "3              28098.00              6800.00              2.00          84.00   \n",
              "4              31856.00              8098.00              2.00         112.00   \n",
              "...                 ...                  ...               ...            ...   \n",
              "23560          24665.00              4232.00              1.00         796.00   \n",
              "23561               NaN                  NaN               NaN            NaN   \n",
              "23562               NaN                  NaN               NaN            NaN   \n",
              "23563          39140.00             10364.00              2.00         173.00   \n",
              "23564               NaN                  NaN               NaN            NaN   \n",
              "\n",
              "       ponds_around3000  ponds_nearest  days_exposition  price_m2  day  month  \\\n",
              "0                  2.00         755.00               -1 120370.37    3      3   \n",
              "1                  0.00            NaN               81  82920.79    1     12   \n",
              "2                  2.00         574.00              558  92785.71    3      8   \n",
              "3                  3.00         234.00              424 408176.10    4      7   \n",
              "4                  1.00          48.00              121 100000.00    1      6   \n",
              "...                 ...            ...              ...       ...  ...    ...   \n",
              "23560              3.00         381.00               -1  72490.85    1      3   \n",
              "23561               NaN            NaN               45  52542.37    0      1   \n",
              "23562               NaN            NaN               -1  44091.71    6      2   \n",
              "23563              3.00         196.00              602 149511.40    1      3   \n",
              "23564               NaN            NaN               -1  41795.67    4      7   \n",
              "\n",
              "       year floor_type  \n",
              "0      2019      other  \n",
              "1      2018      first  \n",
              "2      2015      other  \n",
              "3      2015      other  \n",
              "4      2018      other  \n",
              "...     ...        ...  \n",
              "23560  2017      other  \n",
              "23561  2018      other  \n",
              "23562  2018      first  \n",
              "23563  2017      other  \n",
              "23564  2017      first  \n",
              "\n",
              "[23565 rows x 27 columns]"
            ],
            "text/html": [
              "\n",
              "  <div id=\"df-f4b30098-f0bb-46c8-87db-524f0ef15818\">\n",
              "    <div class=\"colab-df-container\">\n",
              "      <div>\n",
              "<style scoped>\n",
              "    .dataframe tbody tr th:only-of-type {\n",
              "        vertical-align: middle;\n",
              "    }\n",
              "\n",
              "    .dataframe tbody tr th {\n",
              "        vertical-align: top;\n",
              "    }\n",
              "\n",
              "    .dataframe thead th {\n",
              "        text-align: right;\n",
              "    }\n",
              "</style>\n",
              "<table border=\"1\" class=\"dataframe\">\n",
              "  <thead>\n",
              "    <tr style=\"text-align: right;\">\n",
              "      <th></th>\n",
              "      <th>total_images</th>\n",
              "      <th>last_price</th>\n",
              "      <th>total_area</th>\n",
              "      <th>first_day_exposition</th>\n",
              "      <th>rooms</th>\n",
              "      <th>ceiling_height</th>\n",
              "      <th>floors_total</th>\n",
              "      <th>living_area</th>\n",
              "      <th>floor</th>\n",
              "      <th>is_apartment</th>\n",
              "      <th>studio</th>\n",
              "      <th>open_plan</th>\n",
              "      <th>kitchen_area</th>\n",
              "      <th>balcony</th>\n",
              "      <th>locality_name</th>\n",
              "      <th>airports_nearest</th>\n",
              "      <th>cityCenters_nearest</th>\n",
              "      <th>parks_around3000</th>\n",
              "      <th>parks_nearest</th>\n",
              "      <th>ponds_around3000</th>\n",
              "      <th>ponds_nearest</th>\n",
              "      <th>days_exposition</th>\n",
              "      <th>price_m2</th>\n",
              "      <th>day</th>\n",
              "      <th>month</th>\n",
              "      <th>year</th>\n",
              "      <th>floor_type</th>\n",
              "    </tr>\n",
              "  </thead>\n",
              "  <tbody>\n",
              "    <tr>\n",
              "      <th>0</th>\n",
              "      <td>20</td>\n",
              "      <td>13000000.00</td>\n",
              "      <td>108.00</td>\n",
              "      <td>2019-03-07</td>\n",
              "      <td>3</td>\n",
              "      <td>2.70</td>\n",
              "      <td>16</td>\n",
              "      <td>51.00</td>\n",
              "      <td>8</td>\n",
              "      <td>False</td>\n",
              "      <td>False</td>\n",
              "      <td>False</td>\n",
              "      <td>25.00</td>\n",
              "      <td>0</td>\n",
              "      <td>Санкт-Петербург</td>\n",
              "      <td>18863.00</td>\n",
              "      <td>16028.00</td>\n",
              "      <td>1.00</td>\n",
              "      <td>482.00</td>\n",
              "      <td>2.00</td>\n",
              "      <td>755.00</td>\n",
              "      <td>-1</td>\n",
              "      <td>120370.37</td>\n",
              "      <td>3</td>\n",
              "      <td>3</td>\n",
              "      <td>2019</td>\n",
              "      <td>other</td>\n",
              "    </tr>\n",
              "    <tr>\n",
              "      <th>1</th>\n",
              "      <td>7</td>\n",
              "      <td>3350000.00</td>\n",
              "      <td>40.40</td>\n",
              "      <td>2018-12-04</td>\n",
              "      <td>1</td>\n",
              "      <td>NaN</td>\n",
              "      <td>11</td>\n",
              "      <td>18.60</td>\n",
              "      <td>1</td>\n",
              "      <td>False</td>\n",
              "      <td>False</td>\n",
              "      <td>False</td>\n",
              "      <td>11.00</td>\n",
              "      <td>2</td>\n",
              "      <td>посёлок Шушары</td>\n",
              "      <td>12817.00</td>\n",
              "      <td>18603.00</td>\n",
              "      <td>0.00</td>\n",
              "      <td>NaN</td>\n",
              "      <td>0.00</td>\n",
              "      <td>NaN</td>\n",
              "      <td>81</td>\n",
              "      <td>82920.79</td>\n",
              "      <td>1</td>\n",
              "      <td>12</td>\n",
              "      <td>2018</td>\n",
              "      <td>first</td>\n",
              "    </tr>\n",
              "    <tr>\n",
              "      <th>2</th>\n",
              "      <td>10</td>\n",
              "      <td>5196000.00</td>\n",
              "      <td>56.00</td>\n",
              "      <td>2015-08-20</td>\n",
              "      <td>2</td>\n",
              "      <td>NaN</td>\n",
              "      <td>5</td>\n",
              "      <td>34.30</td>\n",
              "      <td>4</td>\n",
              "      <td>False</td>\n",
              "      <td>False</td>\n",
              "      <td>False</td>\n",
              "      <td>8.30</td>\n",
              "      <td>0</td>\n",
              "      <td>Санкт-Петербург</td>\n",
              "      <td>21741.00</td>\n",
              "      <td>13933.00</td>\n",
              "      <td>1.00</td>\n",
              "      <td>90.00</td>\n",
              "      <td>2.00</td>\n",
              "      <td>574.00</td>\n",
              "      <td>558</td>\n",
              "      <td>92785.71</td>\n",
              "      <td>3</td>\n",
              "      <td>8</td>\n",
              "      <td>2015</td>\n",
              "      <td>other</td>\n",
              "    </tr>\n",
              "    <tr>\n",
              "      <th>3</th>\n",
              "      <td>0</td>\n",
              "      <td>64900000.00</td>\n",
              "      <td>159.00</td>\n",
              "      <td>2015-07-24</td>\n",
              "      <td>3</td>\n",
              "      <td>NaN</td>\n",
              "      <td>14</td>\n",
              "      <td>NaN</td>\n",
              "      <td>9</td>\n",
              "      <td>False</td>\n",
              "      <td>False</td>\n",
              "      <td>False</td>\n",
              "      <td>NaN</td>\n",
              "      <td>0</td>\n",
              "      <td>Санкт-Петербург</td>\n",
              "      <td>28098.00</td>\n",
              "      <td>6800.00</td>\n",
              "      <td>2.00</td>\n",
              "      <td>84.00</td>\n",
              "      <td>3.00</td>\n",
              "      <td>234.00</td>\n",
              "      <td>424</td>\n",
              "      <td>408176.10</td>\n",
              "      <td>4</td>\n",
              "      <td>7</td>\n",
              "      <td>2015</td>\n",
              "      <td>other</td>\n",
              "    </tr>\n",
              "    <tr>\n",
              "      <th>4</th>\n",
              "      <td>2</td>\n",
              "      <td>10000000.00</td>\n",
              "      <td>100.00</td>\n",
              "      <td>2018-06-19</td>\n",
              "      <td>2</td>\n",
              "      <td>3.03</td>\n",
              "      <td>14</td>\n",
              "      <td>32.00</td>\n",
              "      <td>13</td>\n",
              "      <td>False</td>\n",
              "      <td>False</td>\n",
              "      <td>False</td>\n",
              "      <td>41.00</td>\n",
              "      <td>0</td>\n",
              "      <td>Санкт-Петербург</td>\n",
              "      <td>31856.00</td>\n",
              "      <td>8098.00</td>\n",
              "      <td>2.00</td>\n",
              "      <td>112.00</td>\n",
              "      <td>1.00</td>\n",
              "      <td>48.00</td>\n",
              "      <td>121</td>\n",
              "      <td>100000.00</td>\n",
              "      <td>1</td>\n",
              "      <td>6</td>\n",
              "      <td>2018</td>\n",
              "      <td>other</td>\n",
              "    </tr>\n",
              "    <tr>\n",
              "      <th>...</th>\n",
              "      <td>...</td>\n",
              "      <td>...</td>\n",
              "      <td>...</td>\n",
              "      <td>...</td>\n",
              "      <td>...</td>\n",
              "      <td>...</td>\n",
              "      <td>...</td>\n",
              "      <td>...</td>\n",
              "      <td>...</td>\n",
              "      <td>...</td>\n",
              "      <td>...</td>\n",
              "      <td>...</td>\n",
              "      <td>...</td>\n",
              "      <td>...</td>\n",
              "      <td>...</td>\n",
              "      <td>...</td>\n",
              "      <td>...</td>\n",
              "      <td>...</td>\n",
              "      <td>...</td>\n",
              "      <td>...</td>\n",
              "      <td>...</td>\n",
              "      <td>...</td>\n",
              "      <td>...</td>\n",
              "      <td>...</td>\n",
              "      <td>...</td>\n",
              "      <td>...</td>\n",
              "      <td>...</td>\n",
              "    </tr>\n",
              "    <tr>\n",
              "      <th>23560</th>\n",
              "      <td>9</td>\n",
              "      <td>9700000.00</td>\n",
              "      <td>133.81</td>\n",
              "      <td>2017-03-21</td>\n",
              "      <td>3</td>\n",
              "      <td>3.70</td>\n",
              "      <td>5</td>\n",
              "      <td>73.30</td>\n",
              "      <td>3</td>\n",
              "      <td>False</td>\n",
              "      <td>False</td>\n",
              "      <td>False</td>\n",
              "      <td>13.83</td>\n",
              "      <td>0</td>\n",
              "      <td>Санкт-Петербург</td>\n",
              "      <td>24665.00</td>\n",
              "      <td>4232.00</td>\n",
              "      <td>1.00</td>\n",
              "      <td>796.00</td>\n",
              "      <td>3.00</td>\n",
              "      <td>381.00</td>\n",
              "      <td>-1</td>\n",
              "      <td>72490.85</td>\n",
              "      <td>1</td>\n",
              "      <td>3</td>\n",
              "      <td>2017</td>\n",
              "      <td>other</td>\n",
              "    </tr>\n",
              "    <tr>\n",
              "      <th>23561</th>\n",
              "      <td>14</td>\n",
              "      <td>3100000.00</td>\n",
              "      <td>59.00</td>\n",
              "      <td>2018-01-15</td>\n",
              "      <td>3</td>\n",
              "      <td>NaN</td>\n",
              "      <td>5</td>\n",
              "      <td>38.00</td>\n",
              "      <td>4</td>\n",
              "      <td>False</td>\n",
              "      <td>False</td>\n",
              "      <td>False</td>\n",
              "      <td>8.50</td>\n",
              "      <td>0</td>\n",
              "      <td>Тосно</td>\n",
              "      <td>NaN</td>\n",
              "      <td>NaN</td>\n",
              "      <td>NaN</td>\n",
              "      <td>NaN</td>\n",
              "      <td>NaN</td>\n",
              "      <td>NaN</td>\n",
              "      <td>45</td>\n",
              "      <td>52542.37</td>\n",
              "      <td>0</td>\n",
              "      <td>1</td>\n",
              "      <td>2018</td>\n",
              "      <td>other</td>\n",
              "    </tr>\n",
              "    <tr>\n",
              "      <th>23562</th>\n",
              "      <td>18</td>\n",
              "      <td>2500000.00</td>\n",
              "      <td>56.70</td>\n",
              "      <td>2018-02-11</td>\n",
              "      <td>2</td>\n",
              "      <td>NaN</td>\n",
              "      <td>3</td>\n",
              "      <td>29.70</td>\n",
              "      <td>1</td>\n",
              "      <td>False</td>\n",
              "      <td>False</td>\n",
              "      <td>False</td>\n",
              "      <td>NaN</td>\n",
              "      <td>0</td>\n",
              "      <td>село Рождествено</td>\n",
              "      <td>NaN</td>\n",
              "      <td>NaN</td>\n",
              "      <td>NaN</td>\n",
              "      <td>NaN</td>\n",
              "      <td>NaN</td>\n",
              "      <td>NaN</td>\n",
              "      <td>-1</td>\n",
              "      <td>44091.71</td>\n",
              "      <td>6</td>\n",
              "      <td>2</td>\n",
              "      <td>2018</td>\n",
              "      <td>first</td>\n",
              "    </tr>\n",
              "    <tr>\n",
              "      <th>23563</th>\n",
              "      <td>13</td>\n",
              "      <td>11475000.00</td>\n",
              "      <td>76.75</td>\n",
              "      <td>2017-03-28</td>\n",
              "      <td>2</td>\n",
              "      <td>3.00</td>\n",
              "      <td>17</td>\n",
              "      <td>NaN</td>\n",
              "      <td>12</td>\n",
              "      <td>False</td>\n",
              "      <td>False</td>\n",
              "      <td>False</td>\n",
              "      <td>23.30</td>\n",
              "      <td>2</td>\n",
              "      <td>Санкт-Петербург</td>\n",
              "      <td>39140.00</td>\n",
              "      <td>10364.00</td>\n",
              "      <td>2.00</td>\n",
              "      <td>173.00</td>\n",
              "      <td>3.00</td>\n",
              "      <td>196.00</td>\n",
              "      <td>602</td>\n",
              "      <td>149511.40</td>\n",
              "      <td>1</td>\n",
              "      <td>3</td>\n",
              "      <td>2017</td>\n",
              "      <td>other</td>\n",
              "    </tr>\n",
              "    <tr>\n",
              "      <th>23564</th>\n",
              "      <td>4</td>\n",
              "      <td>1350000.00</td>\n",
              "      <td>32.30</td>\n",
              "      <td>2017-07-21</td>\n",
              "      <td>1</td>\n",
              "      <td>2.50</td>\n",
              "      <td>5</td>\n",
              "      <td>12.30</td>\n",
              "      <td>1</td>\n",
              "      <td>False</td>\n",
              "      <td>False</td>\n",
              "      <td>False</td>\n",
              "      <td>9.00</td>\n",
              "      <td>0</td>\n",
              "      <td>поселок Новый Учхоз</td>\n",
              "      <td>NaN</td>\n",
              "      <td>NaN</td>\n",
              "      <td>NaN</td>\n",
              "      <td>NaN</td>\n",
              "      <td>NaN</td>\n",
              "      <td>NaN</td>\n",
              "      <td>-1</td>\n",
              "      <td>41795.67</td>\n",
              "      <td>4</td>\n",
              "      <td>7</td>\n",
              "      <td>2017</td>\n",
              "      <td>first</td>\n",
              "    </tr>\n",
              "  </tbody>\n",
              "</table>\n",
              "<p>23565 rows × 27 columns</p>\n",
              "</div>\n",
              "      <button class=\"colab-df-convert\" onclick=\"convertToInteractive('df-f4b30098-f0bb-46c8-87db-524f0ef15818')\"\n",
              "              title=\"Convert this dataframe to an interactive table.\"\n",
              "              style=\"display:none;\">\n",
              "        \n",
              "  <svg xmlns=\"http://www.w3.org/2000/svg\" height=\"24px\"viewBox=\"0 0 24 24\"\n",
              "       width=\"24px\">\n",
              "    <path d=\"M0 0h24v24H0V0z\" fill=\"none\"/>\n",
              "    <path d=\"M18.56 5.44l.94 2.06.94-2.06 2.06-.94-2.06-.94-.94-2.06-.94 2.06-2.06.94zm-11 1L8.5 8.5l.94-2.06 2.06-.94-2.06-.94L8.5 2.5l-.94 2.06-2.06.94zm10 10l.94 2.06.94-2.06 2.06-.94-2.06-.94-.94-2.06-.94 2.06-2.06.94z\"/><path d=\"M17.41 7.96l-1.37-1.37c-.4-.4-.92-.59-1.43-.59-.52 0-1.04.2-1.43.59L10.3 9.45l-7.72 7.72c-.78.78-.78 2.05 0 2.83L4 21.41c.39.39.9.59 1.41.59.51 0 1.02-.2 1.41-.59l7.78-7.78 2.81-2.81c.8-.78.8-2.07 0-2.86zM5.41 20L4 18.59l7.72-7.72 1.47 1.35L5.41 20z\"/>\n",
              "  </svg>\n",
              "      </button>\n",
              "      \n",
              "  <style>\n",
              "    .colab-df-container {\n",
              "      display:flex;\n",
              "      flex-wrap:wrap;\n",
              "      gap: 12px;\n",
              "    }\n",
              "\n",
              "    .colab-df-convert {\n",
              "      background-color: #E8F0FE;\n",
              "      border: none;\n",
              "      border-radius: 50%;\n",
              "      cursor: pointer;\n",
              "      display: none;\n",
              "      fill: #1967D2;\n",
              "      height: 32px;\n",
              "      padding: 0 0 0 0;\n",
              "      width: 32px;\n",
              "    }\n",
              "\n",
              "    .colab-df-convert:hover {\n",
              "      background-color: #E2EBFA;\n",
              "      box-shadow: 0px 1px 2px rgba(60, 64, 67, 0.3), 0px 1px 3px 1px rgba(60, 64, 67, 0.15);\n",
              "      fill: #174EA6;\n",
              "    }\n",
              "\n",
              "    [theme=dark] .colab-df-convert {\n",
              "      background-color: #3B4455;\n",
              "      fill: #D2E3FC;\n",
              "    }\n",
              "\n",
              "    [theme=dark] .colab-df-convert:hover {\n",
              "      background-color: #434B5C;\n",
              "      box-shadow: 0px 1px 3px 1px rgba(0, 0, 0, 0.15);\n",
              "      filter: drop-shadow(0px 1px 2px rgba(0, 0, 0, 0.3));\n",
              "      fill: #FFFFFF;\n",
              "    }\n",
              "  </style>\n",
              "\n",
              "      <script>\n",
              "        const buttonEl =\n",
              "          document.querySelector('#df-f4b30098-f0bb-46c8-87db-524f0ef15818 button.colab-df-convert');\n",
              "        buttonEl.style.display =\n",
              "          google.colab.kernel.accessAllowed ? 'block' : 'none';\n",
              "\n",
              "        async function convertToInteractive(key) {\n",
              "          const element = document.querySelector('#df-f4b30098-f0bb-46c8-87db-524f0ef15818');\n",
              "          const dataTable =\n",
              "            await google.colab.kernel.invokeFunction('convertToInteractive',\n",
              "                                                     [key], {});\n",
              "          if (!dataTable) return;\n",
              "\n",
              "          const docLinkHtml = 'Like what you see? Visit the ' +\n",
              "            '<a target=\"_blank\" href=https://colab.research.google.com/notebooks/data_table.ipynb>data table notebook</a>'\n",
              "            + ' to learn more about interactive tables.';\n",
              "          element.innerHTML = '';\n",
              "          dataTable['output_type'] = 'display_data';\n",
              "          await google.colab.output.renderOutput(dataTable, element);\n",
              "          const docLink = document.createElement('div');\n",
              "          docLink.innerHTML = docLinkHtml;\n",
              "          element.appendChild(docLink);\n",
              "        }\n",
              "      </script>\n",
              "    </div>\n",
              "  </div>\n",
              "  "
            ]
          },
          "metadata": {},
          "execution_count": 20
        }
      ],
      "source": [
        "data"
      ]
    },
    {
      "cell_type": "markdown",
      "metadata": {
        "id": "NQyN3ShNwK2Y"
      },
      "source": [
        "Calculate the ratio of living area and kitchen area to the total area of the apartment, add the appropriate columns to the table. Because there are gaps in the data on the area of the kitchen and living area, we will indicate the values of the ratios for these rows as 0."
      ]
    },
    {
      "cell_type": "code",
      "execution_count": 21,
      "metadata": {
        "id": "n4vqfM4PwK2Z"
      },
      "outputs": [],
      "source": [
        "def living_total_ratio(data):\n",
        "    '''The function calculates the ratio of living and total area'''\n",
        "    if pd.isna(data['living_area']) == False:\n",
        "        living_total_ratio = data['living_area'] / data['total_area'] \n",
        "    else:\n",
        "        living_total_ratio = 0\n",
        "    return living_total_ratio"
      ]
    },
    {
      "cell_type": "code",
      "execution_count": 22,
      "metadata": {
        "id": "t-O638zKwK2Z"
      },
      "outputs": [],
      "source": [
        "data['living_total_ratio'] = data.apply(living_total_ratio, axis=1)"
      ]
    },
    {
      "cell_type": "code",
      "execution_count": 23,
      "metadata": {
        "id": "pXCt1VR5wK2Z"
      },
      "outputs": [],
      "source": [
        "def kitchen_total_ratio(data):\n",
        "    '''The function calculates the ratio of the kitchen area and the total area'''\n",
        "    if pd.isna(data['kitchen_area']) == False:\n",
        "        living_total_ratio = data['kitchen_area'] / data['total_area'] \n",
        "    else:\n",
        "        living_total_ratio = 0\n",
        "    return living_total_ratio"
      ]
    },
    {
      "cell_type": "code",
      "execution_count": 24,
      "metadata": {
        "id": "TsEW9xW_wK2Z"
      },
      "outputs": [],
      "source": [
        "data['kitchen_total_ratio'] = data.apply(kitchen_total_ratio, axis=1)"
      ]
    },
    {
      "cell_type": "markdown",
      "metadata": {
        "id": "_lyNNMBRwK2Z"
      },
      "source": [
        "Final table:"
      ]
    },
    {
      "cell_type": "code",
      "execution_count": 25,
      "metadata": {
        "colab": {
          "base_uri": "https://localhost:8080/",
          "height": 357
        },
        "id": "AKbzO3QQwK2Z",
        "outputId": "e9f793f9-e44d-4a3c-f822-8092513fa1c5"
      },
      "outputs": [
        {
          "output_type": "execute_result",
          "data": {
            "text/plain": [
              "   total_images  last_price  total_area first_day_exposition  rooms  \\\n",
              "0            20 13000000.00      108.00           2019-03-07      3   \n",
              "1             7  3350000.00       40.40           2018-12-04      1   \n",
              "2            10  5196000.00       56.00           2015-08-20      2   \n",
              "3             0 64900000.00      159.00           2015-07-24      3   \n",
              "4             2 10000000.00      100.00           2018-06-19      2   \n",
              "\n",
              "   ceiling_height  floors_total  living_area  floor  is_apartment  studio  \\\n",
              "0            2.70            16        51.00      8         False   False   \n",
              "1             NaN            11        18.60      1         False   False   \n",
              "2             NaN             5        34.30      4         False   False   \n",
              "3             NaN            14          NaN      9         False   False   \n",
              "4            3.03            14        32.00     13         False   False   \n",
              "\n",
              "   open_plan  kitchen_area  balcony    locality_name  airports_nearest  \\\n",
              "0      False         25.00        0  Санкт-Петербург          18863.00   \n",
              "1      False         11.00        2   посёлок Шушары          12817.00   \n",
              "2      False          8.30        0  Санкт-Петербург          21741.00   \n",
              "3      False           NaN        0  Санкт-Петербург          28098.00   \n",
              "4      False         41.00        0  Санкт-Петербург          31856.00   \n",
              "\n",
              "   cityCenters_nearest  parks_around3000  parks_nearest  ponds_around3000  \\\n",
              "0             16028.00              1.00         482.00              2.00   \n",
              "1             18603.00              0.00            NaN              0.00   \n",
              "2             13933.00              1.00          90.00              2.00   \n",
              "3              6800.00              2.00          84.00              3.00   \n",
              "4              8098.00              2.00         112.00              1.00   \n",
              "\n",
              "   ponds_nearest  days_exposition  price_m2  day  month  year floor_type  \\\n",
              "0         755.00               -1 120370.37    3      3  2019      other   \n",
              "1            NaN               81  82920.79    1     12  2018      first   \n",
              "2         574.00              558  92785.71    3      8  2015      other   \n",
              "3         234.00              424 408176.10    4      7  2015      other   \n",
              "4          48.00              121 100000.00    1      6  2018      other   \n",
              "\n",
              "   living_total_ratio  kitchen_total_ratio  \n",
              "0                0.47                 0.23  \n",
              "1                0.46                 0.27  \n",
              "2                0.61                 0.15  \n",
              "3                0.00                 0.00  \n",
              "4                0.32                 0.41  "
            ],
            "text/html": [
              "\n",
              "  <div id=\"df-81e9c581-7eec-494a-8bd7-4715e7f740f5\">\n",
              "    <div class=\"colab-df-container\">\n",
              "      <div>\n",
              "<style scoped>\n",
              "    .dataframe tbody tr th:only-of-type {\n",
              "        vertical-align: middle;\n",
              "    }\n",
              "\n",
              "    .dataframe tbody tr th {\n",
              "        vertical-align: top;\n",
              "    }\n",
              "\n",
              "    .dataframe thead th {\n",
              "        text-align: right;\n",
              "    }\n",
              "</style>\n",
              "<table border=\"1\" class=\"dataframe\">\n",
              "  <thead>\n",
              "    <tr style=\"text-align: right;\">\n",
              "      <th></th>\n",
              "      <th>total_images</th>\n",
              "      <th>last_price</th>\n",
              "      <th>total_area</th>\n",
              "      <th>first_day_exposition</th>\n",
              "      <th>rooms</th>\n",
              "      <th>ceiling_height</th>\n",
              "      <th>floors_total</th>\n",
              "      <th>living_area</th>\n",
              "      <th>floor</th>\n",
              "      <th>is_apartment</th>\n",
              "      <th>studio</th>\n",
              "      <th>open_plan</th>\n",
              "      <th>kitchen_area</th>\n",
              "      <th>balcony</th>\n",
              "      <th>locality_name</th>\n",
              "      <th>airports_nearest</th>\n",
              "      <th>cityCenters_nearest</th>\n",
              "      <th>parks_around3000</th>\n",
              "      <th>parks_nearest</th>\n",
              "      <th>ponds_around3000</th>\n",
              "      <th>ponds_nearest</th>\n",
              "      <th>days_exposition</th>\n",
              "      <th>price_m2</th>\n",
              "      <th>day</th>\n",
              "      <th>month</th>\n",
              "      <th>year</th>\n",
              "      <th>floor_type</th>\n",
              "      <th>living_total_ratio</th>\n",
              "      <th>kitchen_total_ratio</th>\n",
              "    </tr>\n",
              "  </thead>\n",
              "  <tbody>\n",
              "    <tr>\n",
              "      <th>0</th>\n",
              "      <td>20</td>\n",
              "      <td>13000000.00</td>\n",
              "      <td>108.00</td>\n",
              "      <td>2019-03-07</td>\n",
              "      <td>3</td>\n",
              "      <td>2.70</td>\n",
              "      <td>16</td>\n",
              "      <td>51.00</td>\n",
              "      <td>8</td>\n",
              "      <td>False</td>\n",
              "      <td>False</td>\n",
              "      <td>False</td>\n",
              "      <td>25.00</td>\n",
              "      <td>0</td>\n",
              "      <td>Санкт-Петербург</td>\n",
              "      <td>18863.00</td>\n",
              "      <td>16028.00</td>\n",
              "      <td>1.00</td>\n",
              "      <td>482.00</td>\n",
              "      <td>2.00</td>\n",
              "      <td>755.00</td>\n",
              "      <td>-1</td>\n",
              "      <td>120370.37</td>\n",
              "      <td>3</td>\n",
              "      <td>3</td>\n",
              "      <td>2019</td>\n",
              "      <td>other</td>\n",
              "      <td>0.47</td>\n",
              "      <td>0.23</td>\n",
              "    </tr>\n",
              "    <tr>\n",
              "      <th>1</th>\n",
              "      <td>7</td>\n",
              "      <td>3350000.00</td>\n",
              "      <td>40.40</td>\n",
              "      <td>2018-12-04</td>\n",
              "      <td>1</td>\n",
              "      <td>NaN</td>\n",
              "      <td>11</td>\n",
              "      <td>18.60</td>\n",
              "      <td>1</td>\n",
              "      <td>False</td>\n",
              "      <td>False</td>\n",
              "      <td>False</td>\n",
              "      <td>11.00</td>\n",
              "      <td>2</td>\n",
              "      <td>посёлок Шушары</td>\n",
              "      <td>12817.00</td>\n",
              "      <td>18603.00</td>\n",
              "      <td>0.00</td>\n",
              "      <td>NaN</td>\n",
              "      <td>0.00</td>\n",
              "      <td>NaN</td>\n",
              "      <td>81</td>\n",
              "      <td>82920.79</td>\n",
              "      <td>1</td>\n",
              "      <td>12</td>\n",
              "      <td>2018</td>\n",
              "      <td>first</td>\n",
              "      <td>0.46</td>\n",
              "      <td>0.27</td>\n",
              "    </tr>\n",
              "    <tr>\n",
              "      <th>2</th>\n",
              "      <td>10</td>\n",
              "      <td>5196000.00</td>\n",
              "      <td>56.00</td>\n",
              "      <td>2015-08-20</td>\n",
              "      <td>2</td>\n",
              "      <td>NaN</td>\n",
              "      <td>5</td>\n",
              "      <td>34.30</td>\n",
              "      <td>4</td>\n",
              "      <td>False</td>\n",
              "      <td>False</td>\n",
              "      <td>False</td>\n",
              "      <td>8.30</td>\n",
              "      <td>0</td>\n",
              "      <td>Санкт-Петербург</td>\n",
              "      <td>21741.00</td>\n",
              "      <td>13933.00</td>\n",
              "      <td>1.00</td>\n",
              "      <td>90.00</td>\n",
              "      <td>2.00</td>\n",
              "      <td>574.00</td>\n",
              "      <td>558</td>\n",
              "      <td>92785.71</td>\n",
              "      <td>3</td>\n",
              "      <td>8</td>\n",
              "      <td>2015</td>\n",
              "      <td>other</td>\n",
              "      <td>0.61</td>\n",
              "      <td>0.15</td>\n",
              "    </tr>\n",
              "    <tr>\n",
              "      <th>3</th>\n",
              "      <td>0</td>\n",
              "      <td>64900000.00</td>\n",
              "      <td>159.00</td>\n",
              "      <td>2015-07-24</td>\n",
              "      <td>3</td>\n",
              "      <td>NaN</td>\n",
              "      <td>14</td>\n",
              "      <td>NaN</td>\n",
              "      <td>9</td>\n",
              "      <td>False</td>\n",
              "      <td>False</td>\n",
              "      <td>False</td>\n",
              "      <td>NaN</td>\n",
              "      <td>0</td>\n",
              "      <td>Санкт-Петербург</td>\n",
              "      <td>28098.00</td>\n",
              "      <td>6800.00</td>\n",
              "      <td>2.00</td>\n",
              "      <td>84.00</td>\n",
              "      <td>3.00</td>\n",
              "      <td>234.00</td>\n",
              "      <td>424</td>\n",
              "      <td>408176.10</td>\n",
              "      <td>4</td>\n",
              "      <td>7</td>\n",
              "      <td>2015</td>\n",
              "      <td>other</td>\n",
              "      <td>0.00</td>\n",
              "      <td>0.00</td>\n",
              "    </tr>\n",
              "    <tr>\n",
              "      <th>4</th>\n",
              "      <td>2</td>\n",
              "      <td>10000000.00</td>\n",
              "      <td>100.00</td>\n",
              "      <td>2018-06-19</td>\n",
              "      <td>2</td>\n",
              "      <td>3.03</td>\n",
              "      <td>14</td>\n",
              "      <td>32.00</td>\n",
              "      <td>13</td>\n",
              "      <td>False</td>\n",
              "      <td>False</td>\n",
              "      <td>False</td>\n",
              "      <td>41.00</td>\n",
              "      <td>0</td>\n",
              "      <td>Санкт-Петербург</td>\n",
              "      <td>31856.00</td>\n",
              "      <td>8098.00</td>\n",
              "      <td>2.00</td>\n",
              "      <td>112.00</td>\n",
              "      <td>1.00</td>\n",
              "      <td>48.00</td>\n",
              "      <td>121</td>\n",
              "      <td>100000.00</td>\n",
              "      <td>1</td>\n",
              "      <td>6</td>\n",
              "      <td>2018</td>\n",
              "      <td>other</td>\n",
              "      <td>0.32</td>\n",
              "      <td>0.41</td>\n",
              "    </tr>\n",
              "  </tbody>\n",
              "</table>\n",
              "</div>\n",
              "      <button class=\"colab-df-convert\" onclick=\"convertToInteractive('df-81e9c581-7eec-494a-8bd7-4715e7f740f5')\"\n",
              "              title=\"Convert this dataframe to an interactive table.\"\n",
              "              style=\"display:none;\">\n",
              "        \n",
              "  <svg xmlns=\"http://www.w3.org/2000/svg\" height=\"24px\"viewBox=\"0 0 24 24\"\n",
              "       width=\"24px\">\n",
              "    <path d=\"M0 0h24v24H0V0z\" fill=\"none\"/>\n",
              "    <path d=\"M18.56 5.44l.94 2.06.94-2.06 2.06-.94-2.06-.94-.94-2.06-.94 2.06-2.06.94zm-11 1L8.5 8.5l.94-2.06 2.06-.94-2.06-.94L8.5 2.5l-.94 2.06-2.06.94zm10 10l.94 2.06.94-2.06 2.06-.94-2.06-.94-.94-2.06-.94 2.06-2.06.94z\"/><path d=\"M17.41 7.96l-1.37-1.37c-.4-.4-.92-.59-1.43-.59-.52 0-1.04.2-1.43.59L10.3 9.45l-7.72 7.72c-.78.78-.78 2.05 0 2.83L4 21.41c.39.39.9.59 1.41.59.51 0 1.02-.2 1.41-.59l7.78-7.78 2.81-2.81c.8-.78.8-2.07 0-2.86zM5.41 20L4 18.59l7.72-7.72 1.47 1.35L5.41 20z\"/>\n",
              "  </svg>\n",
              "      </button>\n",
              "      \n",
              "  <style>\n",
              "    .colab-df-container {\n",
              "      display:flex;\n",
              "      flex-wrap:wrap;\n",
              "      gap: 12px;\n",
              "    }\n",
              "\n",
              "    .colab-df-convert {\n",
              "      background-color: #E8F0FE;\n",
              "      border: none;\n",
              "      border-radius: 50%;\n",
              "      cursor: pointer;\n",
              "      display: none;\n",
              "      fill: #1967D2;\n",
              "      height: 32px;\n",
              "      padding: 0 0 0 0;\n",
              "      width: 32px;\n",
              "    }\n",
              "\n",
              "    .colab-df-convert:hover {\n",
              "      background-color: #E2EBFA;\n",
              "      box-shadow: 0px 1px 2px rgba(60, 64, 67, 0.3), 0px 1px 3px 1px rgba(60, 64, 67, 0.15);\n",
              "      fill: #174EA6;\n",
              "    }\n",
              "\n",
              "    [theme=dark] .colab-df-convert {\n",
              "      background-color: #3B4455;\n",
              "      fill: #D2E3FC;\n",
              "    }\n",
              "\n",
              "    [theme=dark] .colab-df-convert:hover {\n",
              "      background-color: #434B5C;\n",
              "      box-shadow: 0px 1px 3px 1px rgba(0, 0, 0, 0.15);\n",
              "      filter: drop-shadow(0px 1px 2px rgba(0, 0, 0, 0.3));\n",
              "      fill: #FFFFFF;\n",
              "    }\n",
              "  </style>\n",
              "\n",
              "      <script>\n",
              "        const buttonEl =\n",
              "          document.querySelector('#df-81e9c581-7eec-494a-8bd7-4715e7f740f5 button.colab-df-convert');\n",
              "        buttonEl.style.display =\n",
              "          google.colab.kernel.accessAllowed ? 'block' : 'none';\n",
              "\n",
              "        async function convertToInteractive(key) {\n",
              "          const element = document.querySelector('#df-81e9c581-7eec-494a-8bd7-4715e7f740f5');\n",
              "          const dataTable =\n",
              "            await google.colab.kernel.invokeFunction('convertToInteractive',\n",
              "                                                     [key], {});\n",
              "          if (!dataTable) return;\n",
              "\n",
              "          const docLinkHtml = 'Like what you see? Visit the ' +\n",
              "            '<a target=\"_blank\" href=https://colab.research.google.com/notebooks/data_table.ipynb>data table notebook</a>'\n",
              "            + ' to learn more about interactive tables.';\n",
              "          element.innerHTML = '';\n",
              "          dataTable['output_type'] = 'display_data';\n",
              "          await google.colab.output.renderOutput(dataTable, element);\n",
              "          const docLink = document.createElement('div');\n",
              "          docLink.innerHTML = docLinkHtml;\n",
              "          element.appendChild(docLink);\n",
              "        }\n",
              "      </script>\n",
              "    </div>\n",
              "  </div>\n",
              "  "
            ]
          },
          "metadata": {},
          "execution_count": 25
        }
      ],
      "source": [
        "data.head()"
      ]
    },
    {
      "cell_type": "markdown",
      "metadata": {
        "id": "T38kVEWlwK2Z"
      },
      "source": [
        "## Exploratory data analysis"
      ]
    },
    {
      "cell_type": "markdown",
      "metadata": {
        "id": "R20hc80JwK2Z"
      },
      "source": [
        "### Exploring the parameters of the total area, sale price, number of rooms and ceiling heights"
      ]
    },
    {
      "cell_type": "code",
      "execution_count": 26,
      "metadata": {
        "colab": {
          "base_uri": "https://localhost:8080/"
        },
        "id": "fpNJJJ7JwK2Z",
        "outputId": "952cc68c-4205-4742-d897-eab6b4f755a3"
      },
      "outputs": [
        {
          "output_type": "execute_result",
          "data": {
            "text/plain": [
              "count   23565.00\n",
              "mean       60.32\n",
              "std        35.66\n",
              "min        12.00\n",
              "25%        40.00\n",
              "50%        52.00\n",
              "75%        69.70\n",
              "max       900.00\n",
              "Name: total_area, dtype: float64"
            ]
          },
          "metadata": {},
          "execution_count": 26
        }
      ],
      "source": [
        "data['total_area'].describe()"
      ]
    },
    {
      "cell_type": "code",
      "execution_count": 27,
      "metadata": {
        "colab": {
          "base_uri": "https://localhost:8080/"
        },
        "id": "pWZV-Kc3wK2Z",
        "outputId": "adfc9b7f-dd4f-4b02-b1b7-266563a5eb47"
      },
      "outputs": [
        {
          "output_type": "execute_result",
          "data": {
            "text/plain": [
              "61"
            ]
          },
          "metadata": {},
          "execution_count": 27
        }
      ],
      "source": [
        "data.loc[data['total_area'] > 300]['total_area'].count()"
      ]
    },
    {
      "cell_type": "markdown",
      "metadata": {
        "id": "WGF324GEwK2Z"
      },
      "source": [
        "There are not many objects with an area of ​​more than 300 sq.m., we will not display them on a histogram so that it is clearer. At the same time, such objects are quite real and are not considered outliers."
      ]
    },
    {
      "cell_type": "code",
      "execution_count": 28,
      "metadata": {
        "colab": {
          "base_uri": "https://localhost:8080/",
          "height": 422
        },
        "id": "z3TNx-EcwK2a",
        "outputId": "caacb081-8827-417d-9d70-21736c72f89b"
      },
      "outputs": [
        {
          "output_type": "execute_result",
          "data": {
            "text/plain": [
              "<matplotlib.axes._subplots.AxesSubplot at 0x7f743e6d5f90>"
            ]
          },
          "metadata": {},
          "execution_count": 28
        },
        {
          "output_type": "display_data",
          "data": {
            "text/plain": [
              "<Figure size 864x432 with 1 Axes>"
            ],
            "image/png": "[encoded data removed]"
          },
          "metadata": {
            "needs_background": "light"
          }
        }
      ],
      "source": [
        "plt.xlabel('Area')\n",
        "plt.title('Area distribution')\n",
        "data['total_area'].hist(\n",
        "    bins=100, range=(10,300), figsize=(12,6))"
      ]
    },
    {
      "cell_type": "markdown",
      "metadata": {
        "id": "5f2FWa_RwK2a"
      },
      "source": [
        "The distribution shows that the most frequently sold apartments are small ones."
      ]
    },
    {
      "cell_type": "code",
      "execution_count": 29,
      "metadata": {
        "colab": {
          "base_uri": "https://localhost:8080/"
        },
        "id": "JSM_R2T8wK2a",
        "outputId": "65ba1c54-23fa-4c4e-f543-b9e7e5cbfe08"
      },
      "outputs": [
        {
          "output_type": "execute_result",
          "data": {
            "text/plain": [
              "count       23565.00\n",
              "mean      6540058.26\n",
              "std      10910934.72\n",
              "min         12190.00\n",
              "25%       3400000.00\n",
              "50%       4646000.00\n",
              "75%       6790000.00\n",
              "max     763000000.00\n",
              "Name: last_price, dtype: float64"
            ]
          },
          "metadata": {},
          "execution_count": 29
        }
      ],
      "source": [
        "data['last_price'].describe()"
      ]
    },
    {
      "cell_type": "code",
      "execution_count": 30,
      "metadata": {
        "colab": {
          "base_uri": "https://localhost:8080/"
        },
        "id": "y9UCDCkpwK2a",
        "outputId": "9e3f7c38-7bd0-46a7-ce18-30b74d9ad5f9"
      },
      "outputs": [
        {
          "output_type": "execute_result",
          "data": {
            "text/plain": [
              "246"
            ]
          },
          "metadata": {},
          "execution_count": 30
        }
      ],
      "source": [
        "data[data['last_price'] > 35000000]['last_price'].count()"
      ]
    },
    {
      "cell_type": "code",
      "execution_count": 31,
      "metadata": {
        "colab": {
          "base_uri": "https://localhost:8080/"
        },
        "id": "ia3WV0htwK2a",
        "outputId": "3bce09ec-ac26-4f69-ba62-87ae23fed348"
      },
      "outputs": [
        {
          "output_type": "execute_result",
          "data": {
            "text/plain": [
              "225"
            ]
          },
          "metadata": {},
          "execution_count": 31
        }
      ],
      "source": [
        "data[data['last_price'] < 1000000]['last_price'].count()"
      ]
    },
    {
      "cell_type": "code",
      "execution_count": 32,
      "metadata": {
        "colab": {
          "base_uri": "https://localhost:8080/",
          "height": 422
        },
        "id": "EAaMLwsBwK2a",
        "outputId": "633d229c-06e3-42fd-d0d7-73b118493472"
      },
      "outputs": [
        {
          "output_type": "execute_result",
          "data": {
            "text/plain": [
              "<matplotlib.axes._subplots.AxesSubplot at 0x7f743e6a7a90>"
            ]
          },
          "metadata": {},
          "execution_count": 32
        },
        {
          "output_type": "display_data",
          "data": {
            "text/plain": [
              "<Figure size 864x432 with 1 Axes>"
            ],
            "image/png": "[encoded data removed]"
          },
          "metadata": {
            "needs_background": "light"
          }
        }
      ],
      "source": [
        "plt.xlabel('Sale price')\n",
        "plt.title('Sale price distribution')\n",
        "data['last_price'].hist(bins=100, range=(1000000, 35000000), figsize=(12, 6))"
      ]
    },
    {
      "cell_type": "markdown",
      "metadata": {
        "id": "G0Y8yvtUwK2a"
      },
      "source": [
        "As in the previous case, the data shows that affordable housing dominates the market, which is true."
      ]
    },
    {
      "cell_type": "code",
      "execution_count": 33,
      "metadata": {
        "colab": {
          "base_uri": "https://localhost:8080/"
        },
        "id": "e5634Vy-wK2a",
        "outputId": "b9cb4e37-bd89-4a04-bba7-5a50efe1c7f4"
      },
      "outputs": [
        {
          "output_type": "execute_result",
          "data": {
            "text/plain": [
              "count   23565.00\n",
              "mean        2.07\n",
              "std         1.08\n",
              "min         0.00\n",
              "25%         1.00\n",
              "50%         2.00\n",
              "75%         3.00\n",
              "max        19.00\n",
              "Name: rooms, dtype: float64"
            ]
          },
          "metadata": {},
          "execution_count": 33
        }
      ],
      "source": [
        "data['rooms'].describe()"
      ]
    },
    {
      "cell_type": "code",
      "execution_count": 34,
      "metadata": {
        "colab": {
          "base_uri": "https://localhost:8080/",
          "height": 143
        },
        "id": "PICS6_5wwK2a",
        "outputId": "ef9ea738-eb90-4023-eb6e-a6a2d6963d5c"
      },
      "outputs": [
        {
          "output_type": "execute_result",
          "data": {
            "text/plain": [
              "            sum            count       \n",
              "      open_plan studio open_plan studio\n",
              "rooms                                  \n",
              "0            59    135       194    194"
            ],
            "text/html": [
              "\n",
              "  <div id=\"df-da7c2ca6-c6b7-4499-9b76-c4c3e057dd15\">\n",
              "    <div class=\"colab-df-container\">\n",
              "      <div>\n",
              "<style scoped>\n",
              "    .dataframe tbody tr th:only-of-type {\n",
              "        vertical-align: middle;\n",
              "    }\n",
              "\n",
              "    .dataframe tbody tr th {\n",
              "        vertical-align: top;\n",
              "    }\n",
              "\n",
              "    .dataframe thead tr th {\n",
              "        text-align: left;\n",
              "    }\n",
              "\n",
              "    .dataframe thead tr:last-of-type th {\n",
              "        text-align: right;\n",
              "    }\n",
              "</style>\n",
              "<table border=\"1\" class=\"dataframe\">\n",
              "  <thead>\n",
              "    <tr>\n",
              "      <th></th>\n",
              "      <th colspan=\"2\" halign=\"left\">sum</th>\n",
              "      <th colspan=\"2\" halign=\"left\">count</th>\n",
              "    </tr>\n",
              "    <tr>\n",
              "      <th></th>\n",
              "      <th>open_plan</th>\n",
              "      <th>studio</th>\n",
              "      <th>open_plan</th>\n",
              "      <th>studio</th>\n",
              "    </tr>\n",
              "    <tr>\n",
              "      <th>rooms</th>\n",
              "      <th></th>\n",
              "      <th></th>\n",
              "      <th></th>\n",
              "      <th></th>\n",
              "    </tr>\n",
              "  </thead>\n",
              "  <tbody>\n",
              "    <tr>\n",
              "      <th>0</th>\n",
              "      <td>59</td>\n",
              "      <td>135</td>\n",
              "      <td>194</td>\n",
              "      <td>194</td>\n",
              "    </tr>\n",
              "  </tbody>\n",
              "</table>\n",
              "</div>\n",
              "      <button class=\"colab-df-convert\" onclick=\"convertToInteractive('df-da7c2ca6-c6b7-4499-9b76-c4c3e057dd15')\"\n",
              "              title=\"Convert this dataframe to an interactive table.\"\n",
              "              style=\"display:none;\">\n",
              "        \n",
              "  <svg xmlns=\"http://www.w3.org/2000/svg\" height=\"24px\"viewBox=\"0 0 24 24\"\n",
              "       width=\"24px\">\n",
              "    <path d=\"M0 0h24v24H0V0z\" fill=\"none\"/>\n",
              "    <path d=\"M18.56 5.44l.94 2.06.94-2.06 2.06-.94-2.06-.94-.94-2.06-.94 2.06-2.06.94zm-11 1L8.5 8.5l.94-2.06 2.06-.94-2.06-.94L8.5 2.5l-.94 2.06-2.06.94zm10 10l.94 2.06.94-2.06 2.06-.94-2.06-.94-.94-2.06-.94 2.06-2.06.94z\"/><path d=\"M17.41 7.96l-1.37-1.37c-.4-.4-.92-.59-1.43-.59-.52 0-1.04.2-1.43.59L10.3 9.45l-7.72 7.72c-.78.78-.78 2.05 0 2.83L4 21.41c.39.39.9.59 1.41.59.51 0 1.02-.2 1.41-.59l7.78-7.78 2.81-2.81c.8-.78.8-2.07 0-2.86zM5.41 20L4 18.59l7.72-7.72 1.47 1.35L5.41 20z\"/>\n",
              "  </svg>\n",
              "      </button>\n",
              "      \n",
              "  <style>\n",
              "    .colab-df-container {\n",
              "      display:flex;\n",
              "      flex-wrap:wrap;\n",
              "      gap: 12px;\n",
              "    }\n",
              "\n",
              "    .colab-df-convert {\n",
              "      background-color: #E8F0FE;\n",
              "      border: none;\n",
              "      border-radius: 50%;\n",
              "      cursor: pointer;\n",
              "      display: none;\n",
              "      fill: #1967D2;\n",
              "      height: 32px;\n",
              "      padding: 0 0 0 0;\n",
              "      width: 32px;\n",
              "    }\n",
              "\n",
              "    .colab-df-convert:hover {\n",
              "      background-color: #E2EBFA;\n",
              "      box-shadow: 0px 1px 2px rgba(60, 64, 67, 0.3), 0px 1px 3px 1px rgba(60, 64, 67, 0.15);\n",
              "      fill: #174EA6;\n",
              "    }\n",
              "\n",
              "    [theme=dark] .colab-df-convert {\n",
              "      background-color: #3B4455;\n",
              "      fill: #D2E3FC;\n",
              "    }\n",
              "\n",
              "    [theme=dark] .colab-df-convert:hover {\n",
              "      background-color: #434B5C;\n",
              "      box-shadow: 0px 1px 3px 1px rgba(0, 0, 0, 0.15);\n",
              "      filter: drop-shadow(0px 1px 2px rgba(0, 0, 0, 0.3));\n",
              "      fill: #FFFFFF;\n",
              "    }\n",
              "  </style>\n",
              "\n",
              "      <script>\n",
              "        const buttonEl =\n",
              "          document.querySelector('#df-da7c2ca6-c6b7-4499-9b76-c4c3e057dd15 button.colab-df-convert');\n",
              "        buttonEl.style.display =\n",
              "          google.colab.kernel.accessAllowed ? 'block' : 'none';\n",
              "\n",
              "        async function convertToInteractive(key) {\n",
              "          const element = document.querySelector('#df-da7c2ca6-c6b7-4499-9b76-c4c3e057dd15');\n",
              "          const dataTable =\n",
              "            await google.colab.kernel.invokeFunction('convertToInteractive',\n",
              "                                                     [key], {});\n",
              "          if (!dataTable) return;\n",
              "\n",
              "          const docLinkHtml = 'Like what you see? Visit the ' +\n",
              "            '<a target=\"_blank\" href=https://colab.research.google.com/notebooks/data_table.ipynb>data table notebook</a>'\n",
              "            + ' to learn more about interactive tables.';\n",
              "          element.innerHTML = '';\n",
              "          dataTable['output_type'] = 'display_data';\n",
              "          await google.colab.output.renderOutput(dataTable, element);\n",
              "          const docLink = document.createElement('div');\n",
              "          docLink.innerHTML = docLinkHtml;\n",
              "          element.appendChild(docLink);\n",
              "        }\n",
              "      </script>\n",
              "    </div>\n",
              "  </div>\n",
              "  "
            ]
          },
          "metadata": {},
          "execution_count": 34
        }
      ],
      "source": [
        "data.query('rooms == 0').pivot_table(index='rooms', values=['open_plan', 'studio'], aggfunc=['sum', 'count'])"
      ]
    },
    {
      "cell_type": "markdown",
      "metadata": {
        "id": "SZSmAzrTwK2a"
      },
      "source": [
        "0 rooms is not a mistake, but a free layout or studio."
      ]
    },
    {
      "cell_type": "code",
      "execution_count": 35,
      "metadata": {
        "colab": {
          "base_uri": "https://localhost:8080/"
        },
        "id": "w62Eb0WIwK2a",
        "outputId": "e2fd96a1-309d-46cc-ae08-d5f97a91735b"
      },
      "outputs": [
        {
          "output_type": "execute_result",
          "data": {
            "text/plain": [
              "519"
            ]
          },
          "metadata": {},
          "execution_count": 35
        }
      ],
      "source": [
        "data[data['rooms'] >= 5]['rooms'].count()"
      ]
    },
    {
      "cell_type": "code",
      "execution_count": 36,
      "metadata": {
        "colab": {
          "base_uri": "https://localhost:8080/",
          "height": 422
        },
        "id": "uPczAu7awK2a",
        "outputId": "4c726e44-a357-4f20-a285-e22d6b0eba74"
      },
      "outputs": [
        {
          "output_type": "execute_result",
          "data": {
            "text/plain": [
              "<matplotlib.axes._subplots.AxesSubplot at 0x7f743e4539d0>"
            ]
          },
          "metadata": {},
          "execution_count": 36
        },
        {
          "output_type": "display_data",
          "data": {
            "text/plain": [
              "<Figure size 864x432 with 1 Axes>"
            ],
            "image/png": "[encoded data removed]"
          },
          "metadata": {
            "needs_background": "light"
          }
        }
      ],
      "source": [
        "plt.xlabel('Number of rooms')\n",
        "plt.title('Distribution by number of rooms')\n",
        "data['rooms'].hist(bins=10, range=(0,10), figsize=(12, 6))"
      ]
    },
    {
      "cell_type": "markdown",
      "metadata": {
        "id": "PQYC8pE7wK2b"
      },
      "source": [
        "Most popular on market are apartments with one and two rooms, lesser extent three-room. Multi-room apartments and studios are sold much less frequently."
      ]
    },
    {
      "cell_type": "code",
      "execution_count": 37,
      "metadata": {
        "colab": {
          "base_uri": "https://localhost:8080/"
        },
        "id": "PzVxxWQVwK2b",
        "outputId": "9dd7b6b3-00ca-4518-f9ef-f3f556cb39d0"
      },
      "outputs": [
        {
          "output_type": "execute_result",
          "data": {
            "text/plain": [
              "count   14481.00\n",
              "mean        2.77\n",
              "std         1.26\n",
              "min         1.00\n",
              "25%         2.51\n",
              "50%         2.65\n",
              "75%         2.80\n",
              "max       100.00\n",
              "Name: ceiling_height, dtype: float64"
            ]
          },
          "metadata": {},
          "execution_count": 37
        }
      ],
      "source": [
        "data['ceiling_height'].describe()"
      ]
    },
    {
      "cell_type": "markdown",
      "metadata": {
        "id": "V4m42JhWwK2b"
      },
      "source": [
        "Ceiling heights have clear spikes on both sides. In accordance with codes, the minimum ceiling height in a residential area should be at least 2.5 meters and not more than 3 meters. Since housing could have been built before the introduction of these rules, we will limit the minimum ceiling height to a level of 2.3 meters. We will limit the maximum height to 5 meters, as it is quite possible for elite apartments."
      ]
    },
    {
      "cell_type": "code",
      "execution_count": 38,
      "metadata": {
        "colab": {
          "base_uri": "https://localhost:8080/",
          "height": 422
        },
        "id": "pU4gV_6XwK2b",
        "outputId": "d611d35c-1731-4114-a24c-be2e4157a7bc"
      },
      "outputs": [
        {
          "output_type": "execute_result",
          "data": {
            "text/plain": [
              "<matplotlib.axes._subplots.AxesSubplot at 0x7f743df28b50>"
            ]
          },
          "metadata": {},
          "execution_count": 38
        },
        {
          "output_type": "display_data",
          "data": {
            "text/plain": [
              "<Figure size 864x432 with 1 Axes>"
            ],
            "image/png": "[encoded data removed]"
          },
          "metadata": {
            "needs_background": "light"
          }
        }
      ],
      "source": [
        "plt.xlabel('Ceiling height')\n",
        "plt.title('Distribution by ceiling height')\n",
        "data['ceiling_height'].hist(bins=50, range=(2.3,5), figsize=(12, 6))"
      ]
    },
    {
      "cell_type": "markdown",
      "metadata": {
        "id": "ztOvsZP8wK2b"
      },
      "source": [
        "The vast majority of apartments comply with codes in terms of ceiling height."
      ]
    },
    {
      "cell_type": "markdown",
      "metadata": {
        "id": "-BzqhqLxwK2b"
      },
      "source": [
        "### Exploration of the apartment sale time"
      ]
    },
    {
      "cell_type": "markdown",
      "metadata": {
        "id": "j2xRYNm9wK2b"
      },
      "source": [
        "The apartment sale time is stored in the \"days_exposition\" column and is the number of days from publication to removal of the announcement."
      ]
    },
    {
      "cell_type": "code",
      "execution_count": 39,
      "metadata": {
        "colab": {
          "base_uri": "https://localhost:8080/"
        },
        "id": "vqBlG18xwK2b",
        "outputId": "e0607fd1-8663-4786-c668-a9d7c210c21f"
      },
      "outputs": [
        {
          "output_type": "execute_result",
          "data": {
            "text/plain": [
              "count   20394.00\n",
              "mean      180.74\n",
              "std       219.73\n",
              "min         1.00\n",
              "25%        45.00\n",
              "50%        95.00\n",
              "75%       231.00\n",
              "max      1580.00\n",
              "Name: days_exposition, dtype: float64"
            ]
          },
          "metadata": {},
          "execution_count": 39
        }
      ],
      "source": [
        "data[data['days_exposition'] != -1]['days_exposition'].describe()"
      ]
    },
    {
      "cell_type": "markdown",
      "metadata": {
        "id": "o5p4SHBZwK2b"
      },
      "source": [
        "This value is not present for all records, we will not consider them.\n",
        "\n",
        "Average time to sell is 180 days, median is 95.\n",
        "\n",
        "The maximum sale time is much higher than the value of the third quartile. Let's discard some of the maximum values at the level of ~5% of the total number of records. Let's define the maximum number of days that we will consider.\n",
        "\n",
        "Let's look at the distribution of sales over time on the histogram:"
      ]
    },
    {
      "cell_type": "code",
      "execution_count": 40,
      "metadata": {
        "colab": {
          "base_uri": "https://localhost:8080/"
        },
        "id": "pLEo4XWswK2b",
        "outputId": "dd4d29b5-8a01-409c-bc1f-64a650dc5a5d"
      },
      "outputs": [
        {
          "output_type": "execute_result",
          "data": {
            "text/plain": [
              "0.05062592828347125"
            ]
          },
          "metadata": {},
          "execution_count": 40
        }
      ],
      "source": [
        "len(data.query('days_exposition > 600')) / len(data)"
      ]
    },
    {
      "cell_type": "code",
      "execution_count": 41,
      "metadata": {
        "colab": {
          "base_uri": "https://localhost:8080/",
          "height": 422
        },
        "id": "HEdKaUg2wK2b",
        "outputId": "f6998650-e84a-4d21-a09e-9b65a96fc0b7"
      },
      "outputs": [
        {
          "output_type": "execute_result",
          "data": {
            "text/plain": [
              "<matplotlib.axes._subplots.AxesSubplot at 0x7f743ddfd990>"
            ]
          },
          "metadata": {},
          "execution_count": 41
        },
        {
          "output_type": "display_data",
          "data": {
            "text/plain": [
              "<Figure size 864x432 with 1 Axes>"
            ],
            "image/png": "[encoded data removed]"
          },
          "metadata": {
            "needs_background": "light"
          }
        }
      ],
      "source": [
        "plt.xlabel('Days')\n",
        "plt.ylabel('Number of records')\n",
        "plt.title('Number of days')\n",
        "data[data['days_exposition'] != -1]['days_exposition'].hist(bins=600, range=(0, 600), figsize=(12, 6))"
      ]
    },
    {
      "cell_type": "code",
      "execution_count": 42,
      "metadata": {
        "colab": {
          "base_uri": "https://localhost:8080/"
        },
        "id": "xQvUmcnVwK2b",
        "outputId": "a3e3c82a-daaa-4f2e-d77e-8a3ce48e890a"
      },
      "outputs": [
        {
          "output_type": "execute_result",
          "data": {
            "text/plain": [
              "-1     3171\n",
              " 45     879\n",
              " 60     538\n",
              " 7      234\n",
              " 30     208\n",
              " 90     200\n",
              " 4      174\n",
              " 3      157\n",
              " 5      152\n",
              " 14     147\n",
              "Name: days_exposition, dtype: int64"
            ]
          },
          "metadata": {},
          "execution_count": 42
        }
      ],
      "source": [
        "data['days_exposition'].value_counts().head(10)"
      ]
    },
    {
      "cell_type": "markdown",
      "metadata": {
        "id": "-MG_w1kbwK2b"
      },
      "source": [
        "Two outstanding peaks were found - 45 and 60 days. Otherwise, the histogram shows nothing out of the ordinary.\n",
        "\n",
        "Let's look at the distribution of peak sales depending on the number of rooms and the cost of the apartment:"
      ]
    },
    {
      "cell_type": "code",
      "execution_count": 43,
      "metadata": {
        "colab": {
          "base_uri": "https://localhost:8080/",
          "height": 332
        },
        "id": "BUJPakZQwK2b",
        "outputId": "27fdff66-1d59-4e68-d7d9-695cf05c2e50"
      },
      "outputs": [
        {
          "output_type": "execute_result",
          "data": {
            "text/plain": [
              "           count     median       mean\n",
              "      last_price last_price last_price\n",
              "rooms                                 \n",
              "0             15 2730000.00 2896593.33\n",
              "1            556 3450000.00 3514832.32\n",
              "2            516 4200000.00 4343459.33\n",
              "3            287 5250000.00 5320525.11\n",
              "4             39 6300000.00 9118846.15\n",
              "5              3 8000000.00 9266666.67\n",
              "6              1 9000000.00 9000000.00"
            ],
            "text/html": [
              "\n",
              "  <div id=\"df-8046a2c5-9389-453f-a6ef-e62b7dc88868\">\n",
              "    <div class=\"colab-df-container\">\n",
              "      <div>\n",
              "<style scoped>\n",
              "    .dataframe tbody tr th:only-of-type {\n",
              "        vertical-align: middle;\n",
              "    }\n",
              "\n",
              "    .dataframe tbody tr th {\n",
              "        vertical-align: top;\n",
              "    }\n",
              "\n",
              "    .dataframe thead tr th {\n",
              "        text-align: left;\n",
              "    }\n",
              "\n",
              "    .dataframe thead tr:last-of-type th {\n",
              "        text-align: right;\n",
              "    }\n",
              "</style>\n",
              "<table border=\"1\" class=\"dataframe\">\n",
              "  <thead>\n",
              "    <tr>\n",
              "      <th></th>\n",
              "      <th>count</th>\n",
              "      <th>median</th>\n",
              "      <th>mean</th>\n",
              "    </tr>\n",
              "    <tr>\n",
              "      <th></th>\n",
              "      <th>last_price</th>\n",
              "      <th>last_price</th>\n",
              "      <th>last_price</th>\n",
              "    </tr>\n",
              "    <tr>\n",
              "      <th>rooms</th>\n",
              "      <th></th>\n",
              "      <th></th>\n",
              "      <th></th>\n",
              "    </tr>\n",
              "  </thead>\n",
              "  <tbody>\n",
              "    <tr>\n",
              "      <th>0</th>\n",
              "      <td>15</td>\n",
              "      <td>2730000.00</td>\n",
              "      <td>2896593.33</td>\n",
              "    </tr>\n",
              "    <tr>\n",
              "      <th>1</th>\n",
              "      <td>556</td>\n",
              "      <td>3450000.00</td>\n",
              "      <td>3514832.32</td>\n",
              "    </tr>\n",
              "    <tr>\n",
              "      <th>2</th>\n",
              "      <td>516</td>\n",
              "      <td>4200000.00</td>\n",
              "      <td>4343459.33</td>\n",
              "    </tr>\n",
              "    <tr>\n",
              "      <th>3</th>\n",
              "      <td>287</td>\n",
              "      <td>5250000.00</td>\n",
              "      <td>5320525.11</td>\n",
              "    </tr>\n",
              "    <tr>\n",
              "      <th>4</th>\n",
              "      <td>39</td>\n",
              "      <td>6300000.00</td>\n",
              "      <td>9118846.15</td>\n",
              "    </tr>\n",
              "    <tr>\n",
              "      <th>5</th>\n",
              "      <td>3</td>\n",
              "      <td>8000000.00</td>\n",
              "      <td>9266666.67</td>\n",
              "    </tr>\n",
              "    <tr>\n",
              "      <th>6</th>\n",
              "      <td>1</td>\n",
              "      <td>9000000.00</td>\n",
              "      <td>9000000.00</td>\n",
              "    </tr>\n",
              "  </tbody>\n",
              "</table>\n",
              "</div>\n",
              "      <button class=\"colab-df-convert\" onclick=\"convertToInteractive('df-8046a2c5-9389-453f-a6ef-e62b7dc88868')\"\n",
              "              title=\"Convert this dataframe to an interactive table.\"\n",
              "              style=\"display:none;\">\n",
              "        \n",
              "  <svg xmlns=\"http://www.w3.org/2000/svg\" height=\"24px\"viewBox=\"0 0 24 24\"\n",
              "       width=\"24px\">\n",
              "    <path d=\"M0 0h24v24H0V0z\" fill=\"none\"/>\n",
              "    <path d=\"M18.56 5.44l.94 2.06.94-2.06 2.06-.94-2.06-.94-.94-2.06-.94 2.06-2.06.94zm-11 1L8.5 8.5l.94-2.06 2.06-.94-2.06-.94L8.5 2.5l-.94 2.06-2.06.94zm10 10l.94 2.06.94-2.06 2.06-.94-2.06-.94-.94-2.06-.94 2.06-2.06.94z\"/><path d=\"M17.41 7.96l-1.37-1.37c-.4-.4-.92-.59-1.43-.59-.52 0-1.04.2-1.43.59L10.3 9.45l-7.72 7.72c-.78.78-.78 2.05 0 2.83L4 21.41c.39.39.9.59 1.41.59.51 0 1.02-.2 1.41-.59l7.78-7.78 2.81-2.81c.8-.78.8-2.07 0-2.86zM5.41 20L4 18.59l7.72-7.72 1.47 1.35L5.41 20z\"/>\n",
              "  </svg>\n",
              "      </button>\n",
              "      \n",
              "  <style>\n",
              "    .colab-df-container {\n",
              "      display:flex;\n",
              "      flex-wrap:wrap;\n",
              "      gap: 12px;\n",
              "    }\n",
              "\n",
              "    .colab-df-convert {\n",
              "      background-color: #E8F0FE;\n",
              "      border: none;\n",
              "      border-radius: 50%;\n",
              "      cursor: pointer;\n",
              "      display: none;\n",
              "      fill: #1967D2;\n",
              "      height: 32px;\n",
              "      padding: 0 0 0 0;\n",
              "      width: 32px;\n",
              "    }\n",
              "\n",
              "    .colab-df-convert:hover {\n",
              "      background-color: #E2EBFA;\n",
              "      box-shadow: 0px 1px 2px rgba(60, 64, 67, 0.3), 0px 1px 3px 1px rgba(60, 64, 67, 0.15);\n",
              "      fill: #174EA6;\n",
              "    }\n",
              "\n",
              "    [theme=dark] .colab-df-convert {\n",
              "      background-color: #3B4455;\n",
              "      fill: #D2E3FC;\n",
              "    }\n",
              "\n",
              "    [theme=dark] .colab-df-convert:hover {\n",
              "      background-color: #434B5C;\n",
              "      box-shadow: 0px 1px 3px 1px rgba(0, 0, 0, 0.15);\n",
              "      filter: drop-shadow(0px 1px 2px rgba(0, 0, 0, 0.3));\n",
              "      fill: #FFFFFF;\n",
              "    }\n",
              "  </style>\n",
              "\n",
              "      <script>\n",
              "        const buttonEl =\n",
              "          document.querySelector('#df-8046a2c5-9389-453f-a6ef-e62b7dc88868 button.colab-df-convert');\n",
              "        buttonEl.style.display =\n",
              "          google.colab.kernel.accessAllowed ? 'block' : 'none';\n",
              "\n",
              "        async function convertToInteractive(key) {\n",
              "          const element = document.querySelector('#df-8046a2c5-9389-453f-a6ef-e62b7dc88868');\n",
              "          const dataTable =\n",
              "            await google.colab.kernel.invokeFunction('convertToInteractive',\n",
              "                                                     [key], {});\n",
              "          if (!dataTable) return;\n",
              "\n",
              "          const docLinkHtml = 'Like what you see? Visit the ' +\n",
              "            '<a target=\"_blank\" href=https://colab.research.google.com/notebooks/data_table.ipynb>data table notebook</a>'\n",
              "            + ' to learn more about interactive tables.';\n",
              "          element.innerHTML = '';\n",
              "          dataTable['output_type'] = 'display_data';\n",
              "          await google.colab.output.renderOutput(dataTable, element);\n",
              "          const docLink = document.createElement('div');\n",
              "          docLink.innerHTML = docLinkHtml;\n",
              "          element.appendChild(docLink);\n",
              "        }\n",
              "      </script>\n",
              "    </div>\n",
              "  </div>\n",
              "  "
            ]
          },
          "metadata": {},
          "execution_count": 43
        }
      ],
      "source": [
        "data.query('days_exposition == 60 | days_exposition == 45').pivot_table(\n",
        "    index='rooms', values='last_price', aggfunc=['count', 'median', 'mean'])"
      ]
    },
    {
      "cell_type": "markdown",
      "metadata": {
        "id": "9EiVar21wK2b"
      },
      "source": [
        "The results are consistent with previous findings on the number of rooms and the cost of top-selling apartments. Thus, it can be concluded that these peak values are not outliers."
      ]
    },
    {
      "cell_type": "markdown",
      "metadata": {
        "id": "oOf1nWxwwK2c"
      },
      "source": [
        "In general, most apartments are sold within 100 days."
      ]
    },
    {
      "cell_type": "code",
      "execution_count": 44,
      "metadata": {
        "colab": {
          "base_uri": "https://localhost:8080/",
          "height": 288
        },
        "id": "Jh5L7iPOwK2c",
        "outputId": "78172266-2631-4399-eae6-74a8b18fbd51"
      },
      "outputs": [
        {
          "output_type": "execute_result",
          "data": {
            "text/plain": [
              "<matplotlib.axes._subplots.AxesSubplot at 0x7f743ddee3d0>"
            ]
          },
          "metadata": {},
          "execution_count": 44
        },
        {
          "output_type": "display_data",
          "data": {
            "text/plain": [
              "<Figure size 432x288 with 1 Axes>"
            ],
            "image/png": "[encoded data removed]"
          },
          "metadata": {
            "needs_background": "light"
          }
        }
      ],
      "source": [
        "plt.ylim(-50,600)\n",
        "data[data['days_exposition'] != -1].boxplot(column='days_exposition', figsize=(6,12))"
      ]
    },
    {
      "cell_type": "markdown",
      "metadata": {
        "id": "TK1NtBICwK2c"
      },
      "source": [
        "Too fast can be considered sales faster than Q1 = 45 days, and too long - more than Q3 = 231 days."
      ]
    },
    {
      "cell_type": "markdown",
      "metadata": {
        "id": "uF1fYE1NwK2c"
      },
      "source": [
        "### What factors most affect the value of an apartment?"
      ]
    },
    {
      "cell_type": "markdown",
      "metadata": {
        "id": "VChScQGDwK2c"
      },
      "source": [
        "#### Apartment area"
      ]
    },
    {
      "cell_type": "markdown",
      "metadata": {
        "id": "0ZWabKgkwK2c"
      },
      "source": [
        "Let's build a scatter plot of the dependence of the price on the area of ​​the apartment"
      ]
    },
    {
      "cell_type": "code",
      "execution_count": 45,
      "metadata": {
        "colab": {
          "base_uri": "https://localhost:8080/",
          "height": 581
        },
        "id": "NMhFpfUnwK2c",
        "outputId": "c6d29b3b-2be6-4827-ff92-014662505904"
      },
      "outputs": [
        {
          "output_type": "execute_result",
          "data": {
            "text/plain": [
              "<matplotlib.axes._subplots.AxesSubplot at 0x7f744a496cd0>"
            ]
          },
          "metadata": {},
          "execution_count": 45
        },
        {
          "output_type": "display_data",
          "data": {
            "text/plain": [
              "<Figure size 648x648 with 1 Axes>"
            ],
            "image/png": "[encoded data removed]"
          },
          "metadata": {
            "needs_background": "light"
          }
        }
      ],
      "source": [
        "data.plot(x='total_area', y='last_price', kind='scatter', alpha=0.3, figsize=(9,9))"
      ]
    },
    {
      "cell_type": "markdown",
      "metadata": {
        "id": "BTd3oCLrwK2c"
      },
      "source": [
        "Outliers are visible, which interfere with the reading of the graph and will affect the calculated correlation value.\n",
        "\n",
        "To exclude this influence, we limit the ranges of the considered values and calculate the correlation coefficient:"
      ]
    },
    {
      "cell_type": "code",
      "execution_count": 46,
      "metadata": {
        "colab": {
          "base_uri": "https://localhost:8080/",
          "height": 581
        },
        "id": "KhTlnvC3wK2d",
        "outputId": "40873f4d-feac-4b01-d183-a0c3c7a3508c"
      },
      "outputs": [
        {
          "output_type": "execute_result",
          "data": {
            "text/plain": [
              "<matplotlib.axes._subplots.AxesSubplot at 0x7f743d3cc110>"
            ]
          },
          "metadata": {},
          "execution_count": 46
        },
        {
          "output_type": "display_data",
          "data": {
            "text/plain": [
              "<Figure size 648x648 with 1 Axes>"
            ],
            "image/png": "[encoded data removed]"
          },
          "metadata": {
            "needs_background": "light"
          }
        }
      ],
      "source": [
        "data.query('last_price <= 50000000 & total_area <= 400').plot(\n",
        "    x='total_area', y='last_price', kind='scatter', alpha=0.3, figsize=(9,9))"
      ]
    },
    {
      "cell_type": "code",
      "execution_count": 47,
      "metadata": {
        "colab": {
          "base_uri": "https://localhost:8080/"
        },
        "id": "cAEsY-bIwK2d",
        "outputId": "42ad01c2-e9a1-40c3-cc0e-cf753f80573b"
      },
      "outputs": [
        {
          "output_type": "execute_result",
          "data": {
            "text/plain": [
              "0.781543016898459"
            ]
          },
          "metadata": {},
          "execution_count": 47
        }
      ],
      "source": [
        "data.query('1000000 <= last_price <= 50000000 & total_area <= 400')['last_price'].corr(data['total_area'])"
      ]
    },
    {
      "cell_type": "markdown",
      "metadata": {
        "id": "Vd6nLGdywK2d"
      },
      "source": [
        "The correlation coefficient value of 0.78 indicates a significant linear relationship between the \"total_area\" and \"last_price\" parameters."
      ]
    },
    {
      "cell_type": "markdown",
      "metadata": {
        "id": "K4J_r8AhwK2d"
      },
      "source": [
        "#### Number of rooms"
      ]
    },
    {
      "cell_type": "code",
      "execution_count": 48,
      "metadata": {
        "colab": {
          "base_uri": "https://localhost:8080/",
          "height": 417
        },
        "id": "qHwfmU8AwK2d",
        "outputId": "2c1bde6b-d6bf-4ead-8173-3849c066b15b"
      },
      "outputs": [
        {
          "output_type": "execute_result",
          "data": {
            "text/plain": [
              "<matplotlib.axes._subplots.AxesSubplot at 0x7f743d331d50>"
            ]
          },
          "metadata": {},
          "execution_count": 48
        },
        {
          "output_type": "display_data",
          "data": {
            "text/plain": [
              "<Figure size 648x432 with 1 Axes>"
            ],
            "image/png": "[encoded data removed]"
          },
          "metadata": {
            "needs_background": "light"
          }
        }
      ],
      "source": [
        "data.query('last_price <= 50000000 & rooms <= 10').groupby('rooms')['last_price'].median().plot(ylim=0, figsize=(9,6))"
      ]
    },
    {
      "cell_type": "markdown",
      "metadata": {
        "id": "W9cWvVREwK2d"
      },
      "source": [
        "We see that the more rooms, the higher the price."
      ]
    },
    {
      "cell_type": "markdown",
      "metadata": {
        "id": "fEEV5yQ0wK2e"
      },
      "source": [
        "#### Floor"
      ]
    },
    {
      "cell_type": "code",
      "execution_count": 49,
      "metadata": {
        "colab": {
          "base_uri": "https://localhost:8080/",
          "height": 206
        },
        "id": "1dXuqAYLwK2e",
        "outputId": "e6f022ee-7efc-4fd0-b643-021e5ffd8897"
      },
      "outputs": [
        {
          "output_type": "execute_result",
          "data": {
            "text/plain": [
              "                 mean     median\n",
              "           last_price last_price\n",
              "floor_type                      \n",
              "first      4802603.99 3900000.00\n",
              "last       7359137.80 4300000.00\n",
              "other      6674348.90 4848500.00"
            ],
            "text/html": [
              "\n",
              "  <div id=\"df-0b1e73b2-a87f-4296-9d2d-f02119141186\">\n",
              "    <div class=\"colab-df-container\">\n",
              "      <div>\n",
              "<style scoped>\n",
              "    .dataframe tbody tr th:only-of-type {\n",
              "        vertical-align: middle;\n",
              "    }\n",
              "\n",
              "    .dataframe tbody tr th {\n",
              "        vertical-align: top;\n",
              "    }\n",
              "\n",
              "    .dataframe thead tr th {\n",
              "        text-align: left;\n",
              "    }\n",
              "\n",
              "    .dataframe thead tr:last-of-type th {\n",
              "        text-align: right;\n",
              "    }\n",
              "</style>\n",
              "<table border=\"1\" class=\"dataframe\">\n",
              "  <thead>\n",
              "    <tr>\n",
              "      <th></th>\n",
              "      <th>mean</th>\n",
              "      <th>median</th>\n",
              "    </tr>\n",
              "    <tr>\n",
              "      <th></th>\n",
              "      <th>last_price</th>\n",
              "      <th>last_price</th>\n",
              "    </tr>\n",
              "    <tr>\n",
              "      <th>floor_type</th>\n",
              "      <th></th>\n",
              "      <th></th>\n",
              "    </tr>\n",
              "  </thead>\n",
              "  <tbody>\n",
              "    <tr>\n",
              "      <th>first</th>\n",
              "      <td>4802603.99</td>\n",
              "      <td>3900000.00</td>\n",
              "    </tr>\n",
              "    <tr>\n",
              "      <th>last</th>\n",
              "      <td>7359137.80</td>\n",
              "      <td>4300000.00</td>\n",
              "    </tr>\n",
              "    <tr>\n",
              "      <th>other</th>\n",
              "      <td>6674348.90</td>\n",
              "      <td>4848500.00</td>\n",
              "    </tr>\n",
              "  </tbody>\n",
              "</table>\n",
              "</div>\n",
              "      <button class=\"colab-df-convert\" onclick=\"convertToInteractive('df-0b1e73b2-a87f-4296-9d2d-f02119141186')\"\n",
              "              title=\"Convert this dataframe to an interactive table.\"\n",
              "              style=\"display:none;\">\n",
              "        \n",
              "  <svg xmlns=\"http://www.w3.org/2000/svg\" height=\"24px\"viewBox=\"0 0 24 24\"\n",
              "       width=\"24px\">\n",
              "    <path d=\"M0 0h24v24H0V0z\" fill=\"none\"/>\n",
              "    <path d=\"M18.56 5.44l.94 2.06.94-2.06 2.06-.94-2.06-.94-.94-2.06-.94 2.06-2.06.94zm-11 1L8.5 8.5l.94-2.06 2.06-.94-2.06-.94L8.5 2.5l-.94 2.06-2.06.94zm10 10l.94 2.06.94-2.06 2.06-.94-2.06-.94-.94-2.06-.94 2.06-2.06.94z\"/><path d=\"M17.41 7.96l-1.37-1.37c-.4-.4-.92-.59-1.43-.59-.52 0-1.04.2-1.43.59L10.3 9.45l-7.72 7.72c-.78.78-.78 2.05 0 2.83L4 21.41c.39.39.9.59 1.41.59.51 0 1.02-.2 1.41-.59l7.78-7.78 2.81-2.81c.8-.78.8-2.07 0-2.86zM5.41 20L4 18.59l7.72-7.72 1.47 1.35L5.41 20z\"/>\n",
              "  </svg>\n",
              "      </button>\n",
              "      \n",
              "  <style>\n",
              "    .colab-df-container {\n",
              "      display:flex;\n",
              "      flex-wrap:wrap;\n",
              "      gap: 12px;\n",
              "    }\n",
              "\n",
              "    .colab-df-convert {\n",
              "      background-color: #E8F0FE;\n",
              "      border: none;\n",
              "      border-radius: 50%;\n",
              "      cursor: pointer;\n",
              "      display: none;\n",
              "      fill: #1967D2;\n",
              "      height: 32px;\n",
              "      padding: 0 0 0 0;\n",
              "      width: 32px;\n",
              "    }\n",
              "\n",
              "    .colab-df-convert:hover {\n",
              "      background-color: #E2EBFA;\n",
              "      box-shadow: 0px 1px 2px rgba(60, 64, 67, 0.3), 0px 1px 3px 1px rgba(60, 64, 67, 0.15);\n",
              "      fill: #174EA6;\n",
              "    }\n",
              "\n",
              "    [theme=dark] .colab-df-convert {\n",
              "      background-color: #3B4455;\n",
              "      fill: #D2E3FC;\n",
              "    }\n",
              "\n",
              "    [theme=dark] .colab-df-convert:hover {\n",
              "      background-color: #434B5C;\n",
              "      box-shadow: 0px 1px 3px 1px rgba(0, 0, 0, 0.15);\n",
              "      filter: drop-shadow(0px 1px 2px rgba(0, 0, 0, 0.3));\n",
              "      fill: #FFFFFF;\n",
              "    }\n",
              "  </style>\n",
              "\n",
              "      <script>\n",
              "        const buttonEl =\n",
              "          document.querySelector('#df-0b1e73b2-a87f-4296-9d2d-f02119141186 button.colab-df-convert');\n",
              "        buttonEl.style.display =\n",
              "          google.colab.kernel.accessAllowed ? 'block' : 'none';\n",
              "\n",
              "        async function convertToInteractive(key) {\n",
              "          const element = document.querySelector('#df-0b1e73b2-a87f-4296-9d2d-f02119141186');\n",
              "          const dataTable =\n",
              "            await google.colab.kernel.invokeFunction('convertToInteractive',\n",
              "                                                     [key], {});\n",
              "          if (!dataTable) return;\n",
              "\n",
              "          const docLinkHtml = 'Like what you see? Visit the ' +\n",
              "            '<a target=\"_blank\" href=https://colab.research.google.com/notebooks/data_table.ipynb>data table notebook</a>'\n",
              "            + ' to learn more about interactive tables.';\n",
              "          element.innerHTML = '';\n",
              "          dataTable['output_type'] = 'display_data';\n",
              "          await google.colab.output.renderOutput(dataTable, element);\n",
              "          const docLink = document.createElement('div');\n",
              "          docLink.innerHTML = docLinkHtml;\n",
              "          element.appendChild(docLink);\n",
              "        }\n",
              "      </script>\n",
              "    </div>\n",
              "  </div>\n",
              "  "
            ]
          },
          "metadata": {},
          "execution_count": 49
        }
      ],
      "source": [
        "data.pivot_table(\n",
        "    index='floor_type', values='last_price', aggfunc=['mean', 'median']).sort_values(by=('median','last_price'))"
      ]
    },
    {
      "cell_type": "markdown",
      "metadata": {
        "id": "h4gQAXxAwK2e"
      },
      "source": [
        "The first and last floors are the cheapest, the demand for them is lower due to less comfort of living due to external factors."
      ]
    },
    {
      "cell_type": "markdown",
      "metadata": {
        "id": "s_QpjgtmwK2e"
      },
      "source": [
        "#### Distance from the city center"
      ]
    },
    {
      "cell_type": "code",
      "execution_count": 50,
      "metadata": {
        "colab": {
          "base_uri": "https://localhost:8080/",
          "height": 581
        },
        "id": "V3hQabDswK2e",
        "outputId": "6c63c514-3cc4-4a93-fb1e-0896c189b1bc"
      },
      "outputs": [
        {
          "output_type": "execute_result",
          "data": {
            "text/plain": [
              "<matplotlib.axes._subplots.AxesSubplot at 0x7f743d499ad0>"
            ]
          },
          "metadata": {},
          "execution_count": 50
        },
        {
          "output_type": "display_data",
          "data": {
            "text/plain": [
              "<Figure size 648x648 with 1 Axes>"
            ],
            "image/png": "[encoded data removed]"
          },
          "metadata": {
            "needs_background": "light"
          }
        }
      ],
      "source": [
        "data.plot(x='cityCenters_nearest', y='last_price', kind='scatter', alpha=0.3, figsize=(9,9))"
      ]
    },
    {
      "cell_type": "code",
      "execution_count": 51,
      "metadata": {
        "colab": {
          "base_uri": "https://localhost:8080/",
          "height": 581
        },
        "id": "kFmNFs1vwK2e",
        "outputId": "006a19a8-6f52-4bdb-c1ab-e0572d66bebd"
      },
      "outputs": [
        {
          "output_type": "execute_result",
          "data": {
            "text/plain": [
              "<matplotlib.axes._subplots.AxesSubplot at 0x7f743ba93690>"
            ]
          },
          "metadata": {},
          "execution_count": 51
        },
        {
          "output_type": "display_data",
          "data": {
            "text/plain": [
              "<Figure size 648x648 with 1 Axes>"
            ],
            "image/png": "[encoded data removed]"
          },
          "metadata": {
            "needs_background": "light"
          }
        }
      ],
      "source": [
        "data.query('last_price <= 50000000 & cityCenters_nearest <= 45000').plot(\n",
        "    x='cityCenters_nearest', y='last_price', kind='scatter', alpha=0.3, figsize=(9,9))"
      ]
    },
    {
      "cell_type": "markdown",
      "metadata": {
        "id": "tZmy_CHwwK2e"
      },
      "source": [
        "According to the graph, the dependence can be traced, the closer to the center, the more expensive apartments, but other factors also influence this, for example, the area and number of rooms, the category and age of housing, etc."
      ]
    },
    {
      "cell_type": "markdown",
      "metadata": {
        "id": "0WhSeMaMwK2f"
      },
      "source": [
        "### Top 10 settlements by number of ads"
      ]
    },
    {
      "cell_type": "markdown",
      "metadata": {
        "id": "ldY4iRLnwK2f"
      },
      "source": [
        "Let's define 10 settlements with the largest number of ads, calculate the average cost per square meter in them, sort them in descending order of the average cost per square meter:"
      ]
    },
    {
      "cell_type": "code",
      "execution_count": 52,
      "metadata": {
        "id": "wM_3orpowK2f"
      },
      "outputs": [],
      "source": [
        "top_10_locations = data.groupby('locality_name')['price_m2'].count().sort_values(ascending=False).head(10)"
      ]
    },
    {
      "cell_type": "code",
      "execution_count": 53,
      "metadata": {
        "colab": {
          "base_uri": "https://localhost:8080/"
        },
        "id": "GZteBaQIwK2g",
        "outputId": "ae95c02d-c46f-4259-84b9-9a9ba93dd472"
      },
      "outputs": [
        {
          "output_type": "execute_result",
          "data": {
            "text/plain": [
              "locality_name\n",
              "Санкт-Петербург      15651\n",
              "посёлок Мурино         520\n",
              "посёлок Шушары         439\n",
              "Всеволожск             398\n",
              "Пушкин                 369\n",
              "Колпино                338\n",
              "посёлок Парголово      327\n",
              "Гатчина                307\n",
              "деревня Кудрово        299\n",
              "Выборг                 237\n",
              "Name: price_m2, dtype: int64"
            ]
          },
          "metadata": {},
          "execution_count": 53
        }
      ],
      "source": [
        "top_10_locations"
      ]
    },
    {
      "cell_type": "code",
      "execution_count": 54,
      "metadata": {
        "colab": {
          "base_uri": "https://localhost:8080/",
          "height": 394
        },
        "id": "qZJi3fFMwK2g",
        "outputId": "5a42c6fe-224c-4510-cee9-b0b2c3018acd"
      },
      "outputs": [
        {
          "output_type": "execute_result",
          "data": {
            "text/plain": [
              "                   price_m2\n",
              "locality_name              \n",
              "Санкт-Петербург   114868.88\n",
              "Пушкин            103125.82\n",
              "деревня Кудрово    92473.55\n",
              "посёлок Парголово  90175.91\n",
              "посёлок Мурино     85673.26\n",
              "посёлок Шушары     78551.34\n",
              "Колпино            75424.58\n",
              "Гатчина            68746.15\n",
              "Всеволожск         68654.47\n",
              "Выборг             58141.91"
            ],
            "text/html": [
              "\n",
              "  <div id=\"df-e2f39eb6-a11b-45e4-98e9-4ca976f06f70\">\n",
              "    <div class=\"colab-df-container\">\n",
              "      <div>\n",
              "<style scoped>\n",
              "    .dataframe tbody tr th:only-of-type {\n",
              "        vertical-align: middle;\n",
              "    }\n",
              "\n",
              "    .dataframe tbody tr th {\n",
              "        vertical-align: top;\n",
              "    }\n",
              "\n",
              "    .dataframe thead th {\n",
              "        text-align: right;\n",
              "    }\n",
              "</style>\n",
              "<table border=\"1\" class=\"dataframe\">\n",
              "  <thead>\n",
              "    <tr style=\"text-align: right;\">\n",
              "      <th></th>\n",
              "      <th>price_m2</th>\n",
              "    </tr>\n",
              "    <tr>\n",
              "      <th>locality_name</th>\n",
              "      <th></th>\n",
              "    </tr>\n",
              "  </thead>\n",
              "  <tbody>\n",
              "    <tr>\n",
              "      <th>Санкт-Петербург</th>\n",
              "      <td>114868.88</td>\n",
              "    </tr>\n",
              "    <tr>\n",
              "      <th>Пушкин</th>\n",
              "      <td>103125.82</td>\n",
              "    </tr>\n",
              "    <tr>\n",
              "      <th>деревня Кудрово</th>\n",
              "      <td>92473.55</td>\n",
              "    </tr>\n",
              "    <tr>\n",
              "      <th>посёлок Парголово</th>\n",
              "      <td>90175.91</td>\n",
              "    </tr>\n",
              "    <tr>\n",
              "      <th>посёлок Мурино</th>\n",
              "      <td>85673.26</td>\n",
              "    </tr>\n",
              "    <tr>\n",
              "      <th>посёлок Шушары</th>\n",
              "      <td>78551.34</td>\n",
              "    </tr>\n",
              "    <tr>\n",
              "      <th>Колпино</th>\n",
              "      <td>75424.58</td>\n",
              "    </tr>\n",
              "    <tr>\n",
              "      <th>Гатчина</th>\n",
              "      <td>68746.15</td>\n",
              "    </tr>\n",
              "    <tr>\n",
              "      <th>Всеволожск</th>\n",
              "      <td>68654.47</td>\n",
              "    </tr>\n",
              "    <tr>\n",
              "      <th>Выборг</th>\n",
              "      <td>58141.91</td>\n",
              "    </tr>\n",
              "  </tbody>\n",
              "</table>\n",
              "</div>\n",
              "      <button class=\"colab-df-convert\" onclick=\"convertToInteractive('df-e2f39eb6-a11b-45e4-98e9-4ca976f06f70')\"\n",
              "              title=\"Convert this dataframe to an interactive table.\"\n",
              "              style=\"display:none;\">\n",
              "        \n",
              "  <svg xmlns=\"http://www.w3.org/2000/svg\" height=\"24px\"viewBox=\"0 0 24 24\"\n",
              "       width=\"24px\">\n",
              "    <path d=\"M0 0h24v24H0V0z\" fill=\"none\"/>\n",
              "    <path d=\"M18.56 5.44l.94 2.06.94-2.06 2.06-.94-2.06-.94-.94-2.06-.94 2.06-2.06.94zm-11 1L8.5 8.5l.94-2.06 2.06-.94-2.06-.94L8.5 2.5l-.94 2.06-2.06.94zm10 10l.94 2.06.94-2.06 2.06-.94-2.06-.94-.94-2.06-.94 2.06-2.06.94z\"/><path d=\"M17.41 7.96l-1.37-1.37c-.4-.4-.92-.59-1.43-.59-.52 0-1.04.2-1.43.59L10.3 9.45l-7.72 7.72c-.78.78-.78 2.05 0 2.83L4 21.41c.39.39.9.59 1.41.59.51 0 1.02-.2 1.41-.59l7.78-7.78 2.81-2.81c.8-.78.8-2.07 0-2.86zM5.41 20L4 18.59l7.72-7.72 1.47 1.35L5.41 20z\"/>\n",
              "  </svg>\n",
              "      </button>\n",
              "      \n",
              "  <style>\n",
              "    .colab-df-container {\n",
              "      display:flex;\n",
              "      flex-wrap:wrap;\n",
              "      gap: 12px;\n",
              "    }\n",
              "\n",
              "    .colab-df-convert {\n",
              "      background-color: #E8F0FE;\n",
              "      border: none;\n",
              "      border-radius: 50%;\n",
              "      cursor: pointer;\n",
              "      display: none;\n",
              "      fill: #1967D2;\n",
              "      height: 32px;\n",
              "      padding: 0 0 0 0;\n",
              "      width: 32px;\n",
              "    }\n",
              "\n",
              "    .colab-df-convert:hover {\n",
              "      background-color: #E2EBFA;\n",
              "      box-shadow: 0px 1px 2px rgba(60, 64, 67, 0.3), 0px 1px 3px 1px rgba(60, 64, 67, 0.15);\n",
              "      fill: #174EA6;\n",
              "    }\n",
              "\n",
              "    [theme=dark] .colab-df-convert {\n",
              "      background-color: #3B4455;\n",
              "      fill: #D2E3FC;\n",
              "    }\n",
              "\n",
              "    [theme=dark] .colab-df-convert:hover {\n",
              "      background-color: #434B5C;\n",
              "      box-shadow: 0px 1px 3px 1px rgba(0, 0, 0, 0.15);\n",
              "      filter: drop-shadow(0px 1px 2px rgba(0, 0, 0, 0.3));\n",
              "      fill: #FFFFFF;\n",
              "    }\n",
              "  </style>\n",
              "\n",
              "      <script>\n",
              "        const buttonEl =\n",
              "          document.querySelector('#df-e2f39eb6-a11b-45e4-98e9-4ca976f06f70 button.colab-df-convert');\n",
              "        buttonEl.style.display =\n",
              "          google.colab.kernel.accessAllowed ? 'block' : 'none';\n",
              "\n",
              "        async function convertToInteractive(key) {\n",
              "          const element = document.querySelector('#df-e2f39eb6-a11b-45e4-98e9-4ca976f06f70');\n",
              "          const dataTable =\n",
              "            await google.colab.kernel.invokeFunction('convertToInteractive',\n",
              "                                                     [key], {});\n",
              "          if (!dataTable) return;\n",
              "\n",
              "          const docLinkHtml = 'Like what you see? Visit the ' +\n",
              "            '<a target=\"_blank\" href=https://colab.research.google.com/notebooks/data_table.ipynb>data table notebook</a>'\n",
              "            + ' to learn more about interactive tables.';\n",
              "          element.innerHTML = '';\n",
              "          dataTable['output_type'] = 'display_data';\n",
              "          await google.colab.output.renderOutput(dataTable, element);\n",
              "          const docLink = document.createElement('div');\n",
              "          docLink.innerHTML = docLinkHtml;\n",
              "          element.appendChild(docLink);\n",
              "        }\n",
              "      </script>\n",
              "    </div>\n",
              "  </div>\n",
              "  "
            ]
          },
          "metadata": {},
          "execution_count": 54
        }
      ],
      "source": [
        "data.query('locality_name in @top_10_locations.index').pivot_table(\n",
        "    index='locality_name', values='price_m2').sort_values(by='price_m2', ascending=False)"
      ]
    },
    {
      "cell_type": "markdown",
      "metadata": {
        "id": "ckg4whR8wK2g"
      },
      "source": [
        "The highest cost per square meter of housing among 10 settlements with the maximum number of ads in St. Petersburg - almost 115 thousand rubles, the lowest - in Vyborg, a little over 58 thousand."
      ]
    },
    {
      "cell_type": "markdown",
      "metadata": {
        "id": "IppO6Q6zwK2g"
      },
      "source": [
        "### We find out which area is considered the center of the city"
      ]
    },
    {
      "cell_type": "markdown",
      "metadata": {
        "id": "tk-cbsEpwK2g"
      },
      "source": [
        "Let's save the announcement for the city of St. Petersburg in a separate dataframe, discard the gaps in the \"cityCenters_nearest\" column, and create a column in it with the distance to the city center in kilometers:"
      ]
    },
    {
      "cell_type": "code",
      "execution_count": 55,
      "metadata": {
        "id": "Nt-oSTYTwK2g"
      },
      "outputs": [],
      "source": [
        "data_spb = data.query('locality_name == \"Санкт-Петербург\"')"
      ]
    },
    {
      "cell_type": "code",
      "execution_count": 56,
      "metadata": {
        "id": "TvMjtCUUwK2g"
      },
      "outputs": [],
      "source": [
        "data_spb = data_spb.dropna(subset=['cityCenters_nearest']).reset_index(drop=True)"
      ]
    },
    {
      "cell_type": "code",
      "execution_count": 57,
      "metadata": {
        "id": "X_NidM99wK2g"
      },
      "outputs": [],
      "source": [
        "data_spb['km_to_center'] = data_spb['cityCenters_nearest'] / 1000\n",
        "data_spb['km_to_center'] = data_spb['km_to_center'].astype('int')"
      ]
    },
    {
      "cell_type": "code",
      "execution_count": 58,
      "metadata": {
        "colab": {
          "base_uri": "https://localhost:8080/",
          "height": 357
        },
        "id": "5IuLdzlhwK2h",
        "outputId": "009bb8b5-689b-46dc-9816-69e16e2b74e4"
      },
      "outputs": [
        {
          "output_type": "execute_result",
          "data": {
            "text/plain": [
              "   total_images  last_price  total_area first_day_exposition  rooms  \\\n",
              "0            20 13000000.00      108.00           2019-03-07      3   \n",
              "1            10  5196000.00       56.00           2015-08-20      2   \n",
              "2             0 64900000.00      159.00           2015-07-24      3   \n",
              "3             2 10000000.00      100.00           2018-06-19      2   \n",
              "4             5  7915000.00       71.60           2019-04-18      2   \n",
              "\n",
              "   ceiling_height  floors_total  living_area  floor  is_apartment  studio  \\\n",
              "0            2.70            16        51.00      8         False   False   \n",
              "1             NaN             5        34.30      4         False   False   \n",
              "2             NaN            14          NaN      9         False   False   \n",
              "3            3.03            14        32.00     13         False   False   \n",
              "4             NaN            24          NaN     22         False   False   \n",
              "\n",
              "   open_plan  kitchen_area  balcony    locality_name  airports_nearest  \\\n",
              "0      False         25.00        0  Санкт-Петербург          18863.00   \n",
              "1      False          8.30        0  Санкт-Петербург          21741.00   \n",
              "2      False           NaN        0  Санкт-Петербург          28098.00   \n",
              "3      False         41.00        0  Санкт-Петербург          31856.00   \n",
              "4      False         18.90        2  Санкт-Петербург          23982.00   \n",
              "\n",
              "   cityCenters_nearest  parks_around3000  parks_nearest  ponds_around3000  \\\n",
              "0             16028.00              1.00         482.00              2.00   \n",
              "1             13933.00              1.00          90.00              2.00   \n",
              "2              6800.00              2.00          84.00              3.00   \n",
              "3              8098.00              2.00         112.00              1.00   \n",
              "4             11634.00              0.00            NaN              0.00   \n",
              "\n",
              "   ponds_nearest  days_exposition  price_m2  day  month  year floor_type  \\\n",
              "0         755.00               -1 120370.37    3      3  2019      other   \n",
              "1         574.00              558  92785.71    3      8  2015      other   \n",
              "2         234.00              424 408176.10    4      7  2015      other   \n",
              "3          48.00              121 100000.00    1      6  2018      other   \n",
              "4            NaN               -1 110544.69    3      4  2019      other   \n",
              "\n",
              "   living_total_ratio  kitchen_total_ratio  km_to_center  \n",
              "0                0.47                 0.23            16  \n",
              "1                0.61                 0.15            13  \n",
              "2                0.00                 0.00             6  \n",
              "3                0.32                 0.41             8  \n",
              "4                0.00                 0.26            11  "
            ],
            "text/html": [
              "\n",
              "  <div id=\"df-b56224ea-f4f2-41a0-b86f-13939aeb1a50\">\n",
              "    <div class=\"colab-df-container\">\n",
              "      <div>\n",
              "<style scoped>\n",
              "    .dataframe tbody tr th:only-of-type {\n",
              "        vertical-align: middle;\n",
              "    }\n",
              "\n",
              "    .dataframe tbody tr th {\n",
              "        vertical-align: top;\n",
              "    }\n",
              "\n",
              "    .dataframe thead th {\n",
              "        text-align: right;\n",
              "    }\n",
              "</style>\n",
              "<table border=\"1\" class=\"dataframe\">\n",
              "  <thead>\n",
              "    <tr style=\"text-align: right;\">\n",
              "      <th></th>\n",
              "      <th>total_images</th>\n",
              "      <th>last_price</th>\n",
              "      <th>total_area</th>\n",
              "      <th>first_day_exposition</th>\n",
              "      <th>rooms</th>\n",
              "      <th>ceiling_height</th>\n",
              "      <th>floors_total</th>\n",
              "      <th>living_area</th>\n",
              "      <th>floor</th>\n",
              "      <th>is_apartment</th>\n",
              "      <th>studio</th>\n",
              "      <th>open_plan</th>\n",
              "      <th>kitchen_area</th>\n",
              "      <th>balcony</th>\n",
              "      <th>locality_name</th>\n",
              "      <th>airports_nearest</th>\n",
              "      <th>cityCenters_nearest</th>\n",
              "      <th>parks_around3000</th>\n",
              "      <th>parks_nearest</th>\n",
              "      <th>ponds_around3000</th>\n",
              "      <th>ponds_nearest</th>\n",
              "      <th>days_exposition</th>\n",
              "      <th>price_m2</th>\n",
              "      <th>day</th>\n",
              "      <th>month</th>\n",
              "      <th>year</th>\n",
              "      <th>floor_type</th>\n",
              "      <th>living_total_ratio</th>\n",
              "      <th>kitchen_total_ratio</th>\n",
              "      <th>km_to_center</th>\n",
              "    </tr>\n",
              "  </thead>\n",
              "  <tbody>\n",
              "    <tr>\n",
              "      <th>0</th>\n",
              "      <td>20</td>\n",
              "      <td>13000000.00</td>\n",
              "      <td>108.00</td>\n",
              "      <td>2019-03-07</td>\n",
              "      <td>3</td>\n",
              "      <td>2.70</td>\n",
              "      <td>16</td>\n",
              "      <td>51.00</td>\n",
              "      <td>8</td>\n",
              "      <td>False</td>\n",
              "      <td>False</td>\n",
              "      <td>False</td>\n",
              "      <td>25.00</td>\n",
              "      <td>0</td>\n",
              "      <td>Санкт-Петербург</td>\n",
              "      <td>18863.00</td>\n",
              "      <td>16028.00</td>\n",
              "      <td>1.00</td>\n",
              "      <td>482.00</td>\n",
              "      <td>2.00</td>\n",
              "      <td>755.00</td>\n",
              "      <td>-1</td>\n",
              "      <td>120370.37</td>\n",
              "      <td>3</td>\n",
              "      <td>3</td>\n",
              "      <td>2019</td>\n",
              "      <td>other</td>\n",
              "      <td>0.47</td>\n",
              "      <td>0.23</td>\n",
              "      <td>16</td>\n",
              "    </tr>\n",
              "    <tr>\n",
              "      <th>1</th>\n",
              "      <td>10</td>\n",
              "      <td>5196000.00</td>\n",
              "      <td>56.00</td>\n",
              "      <td>2015-08-20</td>\n",
              "      <td>2</td>\n",
              "      <td>NaN</td>\n",
              "      <td>5</td>\n",
              "      <td>34.30</td>\n",
              "      <td>4</td>\n",
              "      <td>False</td>\n",
              "      <td>False</td>\n",
              "      <td>False</td>\n",
              "      <td>8.30</td>\n",
              "      <td>0</td>\n",
              "      <td>Санкт-Петербург</td>\n",
              "      <td>21741.00</td>\n",
              "      <td>13933.00</td>\n",
              "      <td>1.00</td>\n",
              "      <td>90.00</td>\n",
              "      <td>2.00</td>\n",
              "      <td>574.00</td>\n",
              "      <td>558</td>\n",
              "      <td>92785.71</td>\n",
              "      <td>3</td>\n",
              "      <td>8</td>\n",
              "      <td>2015</td>\n",
              "      <td>other</td>\n",
              "      <td>0.61</td>\n",
              "      <td>0.15</td>\n",
              "      <td>13</td>\n",
              "    </tr>\n",
              "    <tr>\n",
              "      <th>2</th>\n",
              "      <td>0</td>\n",
              "      <td>64900000.00</td>\n",
              "      <td>159.00</td>\n",
              "      <td>2015-07-24</td>\n",
              "      <td>3</td>\n",
              "      <td>NaN</td>\n",
              "      <td>14</td>\n",
              "      <td>NaN</td>\n",
              "      <td>9</td>\n",
              "      <td>False</td>\n",
              "      <td>False</td>\n",
              "      <td>False</td>\n",
              "      <td>NaN</td>\n",
              "      <td>0</td>\n",
              "      <td>Санкт-Петербург</td>\n",
              "      <td>28098.00</td>\n",
              "      <td>6800.00</td>\n",
              "      <td>2.00</td>\n",
              "      <td>84.00</td>\n",
              "      <td>3.00</td>\n",
              "      <td>234.00</td>\n",
              "      <td>424</td>\n",
              "      <td>408176.10</td>\n",
              "      <td>4</td>\n",
              "      <td>7</td>\n",
              "      <td>2015</td>\n",
              "      <td>other</td>\n",
              "      <td>0.00</td>\n",
              "      <td>0.00</td>\n",
              "      <td>6</td>\n",
              "    </tr>\n",
              "    <tr>\n",
              "      <th>3</th>\n",
              "      <td>2</td>\n",
              "      <td>10000000.00</td>\n",
              "      <td>100.00</td>\n",
              "      <td>2018-06-19</td>\n",
              "      <td>2</td>\n",
              "      <td>3.03</td>\n",
              "      <td>14</td>\n",
              "      <td>32.00</td>\n",
              "      <td>13</td>\n",
              "      <td>False</td>\n",
              "      <td>False</td>\n",
              "      <td>False</td>\n",
              "      <td>41.00</td>\n",
              "      <td>0</td>\n",
              "      <td>Санкт-Петербург</td>\n",
              "      <td>31856.00</td>\n",
              "      <td>8098.00</td>\n",
              "      <td>2.00</td>\n",
              "      <td>112.00</td>\n",
              "      <td>1.00</td>\n",
              "      <td>48.00</td>\n",
              "      <td>121</td>\n",
              "      <td>100000.00</td>\n",
              "      <td>1</td>\n",
              "      <td>6</td>\n",
              "      <td>2018</td>\n",
              "      <td>other</td>\n",
              "      <td>0.32</td>\n",
              "      <td>0.41</td>\n",
              "      <td>8</td>\n",
              "    </tr>\n",
              "    <tr>\n",
              "      <th>4</th>\n",
              "      <td>5</td>\n",
              "      <td>7915000.00</td>\n",
              "      <td>71.60</td>\n",
              "      <td>2019-04-18</td>\n",
              "      <td>2</td>\n",
              "      <td>NaN</td>\n",
              "      <td>24</td>\n",
              "      <td>NaN</td>\n",
              "      <td>22</td>\n",
              "      <td>False</td>\n",
              "      <td>False</td>\n",
              "      <td>False</td>\n",
              "      <td>18.90</td>\n",
              "      <td>2</td>\n",
              "      <td>Санкт-Петербург</td>\n",
              "      <td>23982.00</td>\n",
              "      <td>11634.00</td>\n",
              "      <td>0.00</td>\n",
              "      <td>NaN</td>\n",
              "      <td>0.00</td>\n",
              "      <td>NaN</td>\n",
              "      <td>-1</td>\n",
              "      <td>110544.69</td>\n",
              "      <td>3</td>\n",
              "      <td>4</td>\n",
              "      <td>2019</td>\n",
              "      <td>other</td>\n",
              "      <td>0.00</td>\n",
              "      <td>0.26</td>\n",
              "      <td>11</td>\n",
              "    </tr>\n",
              "  </tbody>\n",
              "</table>\n",
              "</div>\n",
              "      <button class=\"colab-df-convert\" onclick=\"convertToInteractive('df-b56224ea-f4f2-41a0-b86f-13939aeb1a50')\"\n",
              "              title=\"Convert this dataframe to an interactive table.\"\n",
              "              style=\"display:none;\">\n",
              "        \n",
              "  <svg xmlns=\"http://www.w3.org/2000/svg\" height=\"24px\"viewBox=\"0 0 24 24\"\n",
              "       width=\"24px\">\n",
              "    <path d=\"M0 0h24v24H0V0z\" fill=\"none\"/>\n",
              "    <path d=\"M18.56 5.44l.94 2.06.94-2.06 2.06-.94-2.06-.94-.94-2.06-.94 2.06-2.06.94zm-11 1L8.5 8.5l.94-2.06 2.06-.94-2.06-.94L8.5 2.5l-.94 2.06-2.06.94zm10 10l.94 2.06.94-2.06 2.06-.94-2.06-.94-.94-2.06-.94 2.06-2.06.94z\"/><path d=\"M17.41 7.96l-1.37-1.37c-.4-.4-.92-.59-1.43-.59-.52 0-1.04.2-1.43.59L10.3 9.45l-7.72 7.72c-.78.78-.78 2.05 0 2.83L4 21.41c.39.39.9.59 1.41.59.51 0 1.02-.2 1.41-.59l7.78-7.78 2.81-2.81c.8-.78.8-2.07 0-2.86zM5.41 20L4 18.59l7.72-7.72 1.47 1.35L5.41 20z\"/>\n",
              "  </svg>\n",
              "      </button>\n",
              "      \n",
              "  <style>\n",
              "    .colab-df-container {\n",
              "      display:flex;\n",
              "      flex-wrap:wrap;\n",
              "      gap: 12px;\n",
              "    }\n",
              "\n",
              "    .colab-df-convert {\n",
              "      background-color: #E8F0FE;\n",
              "      border: none;\n",
              "      border-radius: 50%;\n",
              "      cursor: pointer;\n",
              "      display: none;\n",
              "      fill: #1967D2;\n",
              "      height: 32px;\n",
              "      padding: 0 0 0 0;\n",
              "      width: 32px;\n",
              "    }\n",
              "\n",
              "    .colab-df-convert:hover {\n",
              "      background-color: #E2EBFA;\n",
              "      box-shadow: 0px 1px 2px rgba(60, 64, 67, 0.3), 0px 1px 3px 1px rgba(60, 64, 67, 0.15);\n",
              "      fill: #174EA6;\n",
              "    }\n",
              "\n",
              "    [theme=dark] .colab-df-convert {\n",
              "      background-color: #3B4455;\n",
              "      fill: #D2E3FC;\n",
              "    }\n",
              "\n",
              "    [theme=dark] .colab-df-convert:hover {\n",
              "      background-color: #434B5C;\n",
              "      box-shadow: 0px 1px 3px 1px rgba(0, 0, 0, 0.15);\n",
              "      filter: drop-shadow(0px 1px 2px rgba(0, 0, 0, 0.3));\n",
              "      fill: #FFFFFF;\n",
              "    }\n",
              "  </style>\n",
              "\n",
              "      <script>\n",
              "        const buttonEl =\n",
              "          document.querySelector('#df-b56224ea-f4f2-41a0-b86f-13939aeb1a50 button.colab-df-convert');\n",
              "        buttonEl.style.display =\n",
              "          google.colab.kernel.accessAllowed ? 'block' : 'none';\n",
              "\n",
              "        async function convertToInteractive(key) {\n",
              "          const element = document.querySelector('#df-b56224ea-f4f2-41a0-b86f-13939aeb1a50');\n",
              "          const dataTable =\n",
              "            await google.colab.kernel.invokeFunction('convertToInteractive',\n",
              "                                                     [key], {});\n",
              "          if (!dataTable) return;\n",
              "\n",
              "          const docLinkHtml = 'Like what you see? Visit the ' +\n",
              "            '<a target=\"_blank\" href=https://colab.research.google.com/notebooks/data_table.ipynb>data table notebook</a>'\n",
              "            + ' to learn more about interactive tables.';\n",
              "          element.innerHTML = '';\n",
              "          dataTable['output_type'] = 'display_data';\n",
              "          await google.colab.output.renderOutput(dataTable, element);\n",
              "          const docLink = document.createElement('div');\n",
              "          docLink.innerHTML = docLinkHtml;\n",
              "          element.appendChild(docLink);\n",
              "        }\n",
              "      </script>\n",
              "    </div>\n",
              "  </div>\n",
              "  "
            ]
          },
          "metadata": {},
          "execution_count": 58
        }
      ],
      "source": [
        "data_spb.head()"
      ]
    },
    {
      "cell_type": "code",
      "execution_count": 59,
      "metadata": {
        "colab": {
          "base_uri": "https://localhost:8080/",
          "height": 298
        },
        "id": "sxaVGvLGwK2h",
        "outputId": "6676bc9d-2266-4a0f-e372-91cfebf748c6"
      },
      "outputs": [
        {
          "output_type": "execute_result",
          "data": {
            "text/plain": [
              "<matplotlib.axes._subplots.AxesSubplot at 0x7f743ba161d0>"
            ]
          },
          "metadata": {},
          "execution_count": 59
        },
        {
          "output_type": "display_data",
          "data": {
            "text/plain": [
              "<Figure size 432x288 with 1 Axes>"
            ],
            "image/png": "[encoded data removed]"
          },
          "metadata": {
            "needs_background": "light"
          }
        }
      ],
      "source": [
        "data_spb.pivot_table(index='km_to_center', values='price_m2').plot()"
      ]
    },
    {
      "cell_type": "markdown",
      "metadata": {
        "id": "Z-qnZQzowK2h"
      },
      "source": [
        "Distance from the center begins to noticeably affect the cost per square meter of housing at a distance of more than three kilometers."
      ]
    },
    {
      "cell_type": "markdown",
      "metadata": {
        "id": "kOBEKpPpwK2h"
      },
      "source": [
        "### Let's analyze apartments in the center"
      ]
    },
    {
      "cell_type": "code",
      "execution_count": 60,
      "metadata": {
        "id": "OdXK7qkSwK2h"
      },
      "outputs": [],
      "source": [
        "data_spb_center = data_spb.query('km_to_center <= 3').reset_index(drop=True)"
      ]
    },
    {
      "cell_type": "code",
      "execution_count": 61,
      "metadata": {
        "colab": {
          "base_uri": "https://localhost:8080/",
          "height": 357
        },
        "id": "OGubaA5PwK2h",
        "outputId": "0ef77d8e-539f-4310-a855-1c658ade5b58"
      },
      "outputs": [
        {
          "output_type": "execute_result",
          "data": {
            "text/plain": [
              "   total_images  last_price  total_area first_day_exposition  rooms  \\\n",
              "0             8  6500000.00       97.20           2015-10-31      2   \n",
              "1             6 15500000.00      149.00           2017-06-26      5   \n",
              "2            32  9600000.00       90.00           2017-09-26      4   \n",
              "3            16  6500000.00       51.80           2018-08-01      2   \n",
              "4             8  4800000.00       40.00           2017-11-18      2   \n",
              "\n",
              "   ceiling_height  floors_total  living_area  floor  is_apartment  studio  \\\n",
              "0             NaN             3        46.50      1         False   False   \n",
              "1             NaN             5       104.00      4         False   False   \n",
              "2             NaN             5        67.00      2         False   False   \n",
              "3            3.45             6        25.60      2         False   False   \n",
              "4             NaN             3        29.00      2         False   False   \n",
              "\n",
              "   open_plan  kitchen_area  balcony    locality_name  airports_nearest  \\\n",
              "0      False         19.60        0  Санкт-Петербург          20052.00   \n",
              "1      False         17.00        0  Санкт-Петербург          23670.00   \n",
              "2      False          8.00        0  Санкт-Петербург          23277.00   \n",
              "3      False          7.30        1  Санкт-Петербург          20502.00   \n",
              "4      False          6.00        0  Санкт-Петербург          23371.00   \n",
              "\n",
              "   cityCenters_nearest  parks_around3000  parks_nearest  ponds_around3000  \\\n",
              "0              2336.00              3.00         411.00              3.00   \n",
              "1              3502.00              0.00            NaN              1.00   \n",
              "2              2818.00              0.00            NaN              0.00   \n",
              "3              3618.00              2.00         533.00              1.00   \n",
              "4              2913.00              0.00            NaN              2.00   \n",
              "\n",
              "   ponds_nearest  days_exposition  price_m2  day  month  year floor_type  \\\n",
              "0         124.00              265  66872.43    5     10  2015      first   \n",
              "1         779.00              644 104026.85    0      6  2017      other   \n",
              "2            NaN              104 106666.67    1      9  2017      other   \n",
              "3         812.00              163 125482.63    2      8  2018      other   \n",
              "4         729.00               80 120000.00    5     11  2017      other   \n",
              "\n",
              "   living_total_ratio  kitchen_total_ratio  km_to_center  \n",
              "0                0.48                 0.20             2  \n",
              "1                0.70                 0.11             3  \n",
              "2                0.74                 0.09             2  \n",
              "3                0.49                 0.14             3  \n",
              "4                0.72                 0.15             2  "
            ],
            "text/html": [
              "\n",
              "  <div id=\"df-dc4225cf-fc4a-4225-bc47-aed827ef9213\">\n",
              "    <div class=\"colab-df-container\">\n",
              "      <div>\n",
              "<style scoped>\n",
              "    .dataframe tbody tr th:only-of-type {\n",
              "        vertical-align: middle;\n",
              "    }\n",
              "\n",
              "    .dataframe tbody tr th {\n",
              "        vertical-align: top;\n",
              "    }\n",
              "\n",
              "    .dataframe thead th {\n",
              "        text-align: right;\n",
              "    }\n",
              "</style>\n",
              "<table border=\"1\" class=\"dataframe\">\n",
              "  <thead>\n",
              "    <tr style=\"text-align: right;\">\n",
              "      <th></th>\n",
              "      <th>total_images</th>\n",
              "      <th>last_price</th>\n",
              "      <th>total_area</th>\n",
              "      <th>first_day_exposition</th>\n",
              "      <th>rooms</th>\n",
              "      <th>ceiling_height</th>\n",
              "      <th>floors_total</th>\n",
              "      <th>living_area</th>\n",
              "      <th>floor</th>\n",
              "      <th>is_apartment</th>\n",
              "      <th>studio</th>\n",
              "      <th>open_plan</th>\n",
              "      <th>kitchen_area</th>\n",
              "      <th>balcony</th>\n",
              "      <th>locality_name</th>\n",
              "      <th>airports_nearest</th>\n",
              "      <th>cityCenters_nearest</th>\n",
              "      <th>parks_around3000</th>\n",
              "      <th>parks_nearest</th>\n",
              "      <th>ponds_around3000</th>\n",
              "      <th>ponds_nearest</th>\n",
              "      <th>days_exposition</th>\n",
              "      <th>price_m2</th>\n",
              "      <th>day</th>\n",
              "      <th>month</th>\n",
              "      <th>year</th>\n",
              "      <th>floor_type</th>\n",
              "      <th>living_total_ratio</th>\n",
              "      <th>kitchen_total_ratio</th>\n",
              "      <th>km_to_center</th>\n",
              "    </tr>\n",
              "  </thead>\n",
              "  <tbody>\n",
              "    <tr>\n",
              "      <th>0</th>\n",
              "      <td>8</td>\n",
              "      <td>6500000.00</td>\n",
              "      <td>97.20</td>\n",
              "      <td>2015-10-31</td>\n",
              "      <td>2</td>\n",
              "      <td>NaN</td>\n",
              "      <td>3</td>\n",
              "      <td>46.50</td>\n",
              "      <td>1</td>\n",
              "      <td>False</td>\n",
              "      <td>False</td>\n",
              "      <td>False</td>\n",
              "      <td>19.60</td>\n",
              "      <td>0</td>\n",
              "      <td>Санкт-Петербург</td>\n",
              "      <td>20052.00</td>\n",
              "      <td>2336.00</td>\n",
              "      <td>3.00</td>\n",
              "      <td>411.00</td>\n",
              "      <td>3.00</td>\n",
              "      <td>124.00</td>\n",
              "      <td>265</td>\n",
              "      <td>66872.43</td>\n",
              "      <td>5</td>\n",
              "      <td>10</td>\n",
              "      <td>2015</td>\n",
              "      <td>first</td>\n",
              "      <td>0.48</td>\n",
              "      <td>0.20</td>\n",
              "      <td>2</td>\n",
              "    </tr>\n",
              "    <tr>\n",
              "      <th>1</th>\n",
              "      <td>6</td>\n",
              "      <td>15500000.00</td>\n",
              "      <td>149.00</td>\n",
              "      <td>2017-06-26</td>\n",
              "      <td>5</td>\n",
              "      <td>NaN</td>\n",
              "      <td>5</td>\n",
              "      <td>104.00</td>\n",
              "      <td>4</td>\n",
              "      <td>False</td>\n",
              "      <td>False</td>\n",
              "      <td>False</td>\n",
              "      <td>17.00</td>\n",
              "      <td>0</td>\n",
              "      <td>Санкт-Петербург</td>\n",
              "      <td>23670.00</td>\n",
              "      <td>3502.00</td>\n",
              "      <td>0.00</td>\n",
              "      <td>NaN</td>\n",
              "      <td>1.00</td>\n",
              "      <td>779.00</td>\n",
              "      <td>644</td>\n",
              "      <td>104026.85</td>\n",
              "      <td>0</td>\n",
              "      <td>6</td>\n",
              "      <td>2017</td>\n",
              "      <td>other</td>\n",
              "      <td>0.70</td>\n",
              "      <td>0.11</td>\n",
              "      <td>3</td>\n",
              "    </tr>\n",
              "    <tr>\n",
              "      <th>2</th>\n",
              "      <td>32</td>\n",
              "      <td>9600000.00</td>\n",
              "      <td>90.00</td>\n",
              "      <td>2017-09-26</td>\n",
              "      <td>4</td>\n",
              "      <td>NaN</td>\n",
              "      <td>5</td>\n",
              "      <td>67.00</td>\n",
              "      <td>2</td>\n",
              "      <td>False</td>\n",
              "      <td>False</td>\n",
              "      <td>False</td>\n",
              "      <td>8.00</td>\n",
              "      <td>0</td>\n",
              "      <td>Санкт-Петербург</td>\n",
              "      <td>23277.00</td>\n",
              "      <td>2818.00</td>\n",
              "      <td>0.00</td>\n",
              "      <td>NaN</td>\n",
              "      <td>0.00</td>\n",
              "      <td>NaN</td>\n",
              "      <td>104</td>\n",
              "      <td>106666.67</td>\n",
              "      <td>1</td>\n",
              "      <td>9</td>\n",
              "      <td>2017</td>\n",
              "      <td>other</td>\n",
              "      <td>0.74</td>\n",
              "      <td>0.09</td>\n",
              "      <td>2</td>\n",
              "    </tr>\n",
              "    <tr>\n",
              "      <th>3</th>\n",
              "      <td>16</td>\n",
              "      <td>6500000.00</td>\n",
              "      <td>51.80</td>\n",
              "      <td>2018-08-01</td>\n",
              "      <td>2</td>\n",
              "      <td>3.45</td>\n",
              "      <td>6</td>\n",
              "      <td>25.60</td>\n",
              "      <td>2</td>\n",
              "      <td>False</td>\n",
              "      <td>False</td>\n",
              "      <td>False</td>\n",
              "      <td>7.30</td>\n",
              "      <td>1</td>\n",
              "      <td>Санкт-Петербург</td>\n",
              "      <td>20502.00</td>\n",
              "      <td>3618.00</td>\n",
              "      <td>2.00</td>\n",
              "      <td>533.00</td>\n",
              "      <td>1.00</td>\n",
              "      <td>812.00</td>\n",
              "      <td>163</td>\n",
              "      <td>125482.63</td>\n",
              "      <td>2</td>\n",
              "      <td>8</td>\n",
              "      <td>2018</td>\n",
              "      <td>other</td>\n",
              "      <td>0.49</td>\n",
              "      <td>0.14</td>\n",
              "      <td>3</td>\n",
              "    </tr>\n",
              "    <tr>\n",
              "      <th>4</th>\n",
              "      <td>8</td>\n",
              "      <td>4800000.00</td>\n",
              "      <td>40.00</td>\n",
              "      <td>2017-11-18</td>\n",
              "      <td>2</td>\n",
              "      <td>NaN</td>\n",
              "      <td>3</td>\n",
              "      <td>29.00</td>\n",
              "      <td>2</td>\n",
              "      <td>False</td>\n",
              "      <td>False</td>\n",
              "      <td>False</td>\n",
              "      <td>6.00</td>\n",
              "      <td>0</td>\n",
              "      <td>Санкт-Петербург</td>\n",
              "      <td>23371.00</td>\n",
              "      <td>2913.00</td>\n",
              "      <td>0.00</td>\n",
              "      <td>NaN</td>\n",
              "      <td>2.00</td>\n",
              "      <td>729.00</td>\n",
              "      <td>80</td>\n",
              "      <td>120000.00</td>\n",
              "      <td>5</td>\n",
              "      <td>11</td>\n",
              "      <td>2017</td>\n",
              "      <td>other</td>\n",
              "      <td>0.72</td>\n",
              "      <td>0.15</td>\n",
              "      <td>2</td>\n",
              "    </tr>\n",
              "  </tbody>\n",
              "</table>\n",
              "</div>\n",
              "      <button class=\"colab-df-convert\" onclick=\"convertToInteractive('df-dc4225cf-fc4a-4225-bc47-aed827ef9213')\"\n",
              "              title=\"Convert this dataframe to an interactive table.\"\n",
              "              style=\"display:none;\">\n",
              "        \n",
              "  <svg xmlns=\"http://www.w3.org/2000/svg\" height=\"24px\"viewBox=\"0 0 24 24\"\n",
              "       width=\"24px\">\n",
              "    <path d=\"M0 0h24v24H0V0z\" fill=\"none\"/>\n",
              "    <path d=\"M18.56 5.44l.94 2.06.94-2.06 2.06-.94-2.06-.94-.94-2.06-.94 2.06-2.06.94zm-11 1L8.5 8.5l.94-2.06 2.06-.94-2.06-.94L8.5 2.5l-.94 2.06-2.06.94zm10 10l.94 2.06.94-2.06 2.06-.94-2.06-.94-.94-2.06-.94 2.06-2.06.94z\"/><path d=\"M17.41 7.96l-1.37-1.37c-.4-.4-.92-.59-1.43-.59-.52 0-1.04.2-1.43.59L10.3 9.45l-7.72 7.72c-.78.78-.78 2.05 0 2.83L4 21.41c.39.39.9.59 1.41.59.51 0 1.02-.2 1.41-.59l7.78-7.78 2.81-2.81c.8-.78.8-2.07 0-2.86zM5.41 20L4 18.59l7.72-7.72 1.47 1.35L5.41 20z\"/>\n",
              "  </svg>\n",
              "      </button>\n",
              "      \n",
              "  <style>\n",
              "    .colab-df-container {\n",
              "      display:flex;\n",
              "      flex-wrap:wrap;\n",
              "      gap: 12px;\n",
              "    }\n",
              "\n",
              "    .colab-df-convert {\n",
              "      background-color: #E8F0FE;\n",
              "      border: none;\n",
              "      border-radius: 50%;\n",
              "      cursor: pointer;\n",
              "      display: none;\n",
              "      fill: #1967D2;\n",
              "      height: 32px;\n",
              "      padding: 0 0 0 0;\n",
              "      width: 32px;\n",
              "    }\n",
              "\n",
              "    .colab-df-convert:hover {\n",
              "      background-color: #E2EBFA;\n",
              "      box-shadow: 0px 1px 2px rgba(60, 64, 67, 0.3), 0px 1px 3px 1px rgba(60, 64, 67, 0.15);\n",
              "      fill: #174EA6;\n",
              "    }\n",
              "\n",
              "    [theme=dark] .colab-df-convert {\n",
              "      background-color: #3B4455;\n",
              "      fill: #D2E3FC;\n",
              "    }\n",
              "\n",
              "    [theme=dark] .colab-df-convert:hover {\n",
              "      background-color: #434B5C;\n",
              "      box-shadow: 0px 1px 3px 1px rgba(0, 0, 0, 0.15);\n",
              "      filter: drop-shadow(0px 1px 2px rgba(0, 0, 0, 0.3));\n",
              "      fill: #FFFFFF;\n",
              "    }\n",
              "  </style>\n",
              "\n",
              "      <script>\n",
              "        const buttonEl =\n",
              "          document.querySelector('#df-dc4225cf-fc4a-4225-bc47-aed827ef9213 button.colab-df-convert');\n",
              "        buttonEl.style.display =\n",
              "          google.colab.kernel.accessAllowed ? 'block' : 'none';\n",
              "\n",
              "        async function convertToInteractive(key) {\n",
              "          const element = document.querySelector('#df-dc4225cf-fc4a-4225-bc47-aed827ef9213');\n",
              "          const dataTable =\n",
              "            await google.colab.kernel.invokeFunction('convertToInteractive',\n",
              "                                                     [key], {});\n",
              "          if (!dataTable) return;\n",
              "\n",
              "          const docLinkHtml = 'Like what you see? Visit the ' +\n",
              "            '<a target=\"_blank\" href=https://colab.research.google.com/notebooks/data_table.ipynb>data table notebook</a>'\n",
              "            + ' to learn more about interactive tables.';\n",
              "          element.innerHTML = '';\n",
              "          dataTable['output_type'] = 'display_data';\n",
              "          await google.colab.output.renderOutput(dataTable, element);\n",
              "          const docLink = document.createElement('div');\n",
              "          docLink.innerHTML = docLinkHtml;\n",
              "          element.appendChild(docLink);\n",
              "        }\n",
              "      </script>\n",
              "    </div>\n",
              "  </div>\n",
              "  "
            ]
          },
          "metadata": {},
          "execution_count": 61
        }
      ],
      "source": [
        "data_spb_center.head()"
      ]
    },
    {
      "cell_type": "markdown",
      "metadata": {
        "id": "AVZ9CpMlwK2h"
      },
      "source": [
        "#### Exploring the parameters of the total area, sale price, number of rooms and ceiling heights of apartments in the city center"
      ]
    },
    {
      "cell_type": "code",
      "execution_count": 62,
      "metadata": {
        "colab": {
          "base_uri": "https://localhost:8080/"
        },
        "id": "NmNads9cwK2h",
        "outputId": "4a9da24f-dbc8-44d2-e71c-9f43d386c266"
      },
      "outputs": [
        {
          "output_type": "execute_result",
          "data": {
            "text/plain": [
              "count   1157.00\n",
              "mean      97.39\n",
              "std       55.79\n",
              "min       12.00\n",
              "25%       62.00\n",
              "50%       84.10\n",
              "75%      115.20\n",
              "max      517.00\n",
              "Name: total_area, dtype: float64"
            ]
          },
          "metadata": {},
          "execution_count": 62
        }
      ],
      "source": [
        "data_spb_center['total_area'].describe()"
      ]
    },
    {
      "cell_type": "code",
      "execution_count": 63,
      "metadata": {
        "colab": {
          "base_uri": "https://localhost:8080/"
        },
        "id": "7Az_BlJfwK2h",
        "outputId": "85bf5d30-68c0-4ff9-8620-78a9e474c1ad"
      },
      "outputs": [
        {
          "output_type": "execute_result",
          "data": {
            "text/plain": [
              "7"
            ]
          },
          "metadata": {},
          "execution_count": 63
        }
      ],
      "source": [
        "data_spb_center.loc[data['total_area'] > 300]['total_area'].count()"
      ]
    },
    {
      "cell_type": "markdown",
      "metadata": {
        "id": "8pnNKl6lwK2i"
      },
      "source": [
        "There are not many objects with an area of ​​more than 300 sq.m., we will not display them on a histogram so that it is clearer. At the same time, such objects are quite real and are not considered outliers."
      ]
    },
    {
      "cell_type": "code",
      "execution_count": 64,
      "metadata": {
        "colab": {
          "base_uri": "https://localhost:8080/",
          "height": 393
        },
        "id": "SYEkTw4-wK2k",
        "outputId": "2b0cd5aa-313d-4afa-a892-3b30fd5c8a1f"
      },
      "outputs": [
        {
          "output_type": "execute_result",
          "data": {
            "text/plain": [
              "<matplotlib.axes._subplots.AxesSubplot at 0x7f743b980390>"
            ]
          },
          "metadata": {},
          "execution_count": 64
        },
        {
          "output_type": "display_data",
          "data": {
            "text/plain": [
              "<Figure size 864x432 with 1 Axes>"
            ],
            "image/png": "[encoded data removed]"
          },
          "metadata": {
            "needs_background": "light"
          }
        }
      ],
      "source": [
        "data_spb_center['total_area'].hist(bins=100, range=(0,300), figsize=(12,6))"
      ]
    },
    {
      "cell_type": "markdown",
      "metadata": {
        "id": "K3zykHTUwK2k"
      },
      "source": [
        "The distribution shows that the most frequently sold apartments in the city center are apartments from 40 to 100 square meters, that is, there is a shift in the area of apartments for sale in the center relative to the entire city to a larger side."
      ]
    },
    {
      "cell_type": "code",
      "execution_count": 65,
      "metadata": {
        "colab": {
          "base_uri": "https://localhost:8080/"
        },
        "id": "OiLDpJUDwK2l",
        "outputId": "9c704cba-33c9-4b86-b327-04304ac32035"
      },
      "outputs": [
        {
          "output_type": "execute_result",
          "data": {
            "text/plain": [
              "count        1157.00\n",
              "mean     16034281.48\n",
              "std      32948225.45\n",
              "min       2100000.00\n",
              "25%       7000000.00\n",
              "50%       9500000.00\n",
              "75%      14490000.00\n",
              "max     763000000.00\n",
              "Name: last_price, dtype: float64"
            ]
          },
          "metadata": {},
          "execution_count": 65
        }
      ],
      "source": [
        "data_spb_center['last_price'].describe()"
      ]
    },
    {
      "cell_type": "code",
      "execution_count": 66,
      "metadata": {
        "colab": {
          "base_uri": "https://localhost:8080/"
        },
        "id": "BcHe8I8XwK2l",
        "outputId": "0549eeb6-f109-45e3-aa5f-33be110a3655"
      },
      "outputs": [
        {
          "output_type": "execute_result",
          "data": {
            "text/plain": [
              "41"
            ]
          },
          "metadata": {},
          "execution_count": 66
        }
      ],
      "source": [
        "data_spb_center[data_spb_center['last_price'] > 60000000]['last_price'].count()"
      ]
    },
    {
      "cell_type": "code",
      "execution_count": 67,
      "metadata": {
        "colab": {
          "base_uri": "https://localhost:8080/",
          "height": 405
        },
        "id": "ATAHXRFXwK2l",
        "outputId": "0b95c5f7-a800-4005-b8cd-ce6a6847ae92"
      },
      "outputs": [
        {
          "output_type": "execute_result",
          "data": {
            "text/plain": [
              "<matplotlib.axes._subplots.AxesSubplot at 0x7f743b7b5b10>"
            ]
          },
          "metadata": {},
          "execution_count": 67
        },
        {
          "output_type": "display_data",
          "data": {
            "text/plain": [
              "<Figure size 864x432 with 1 Axes>"
            ],
            "image/png": "[encoded data removed]"
          },
          "metadata": {
            "needs_background": "light"
          }
        }
      ],
      "source": [
        "data_spb_center['last_price'].hist(bins=100, range=(0, 60000000), figsize=(12, 6))"
      ]
    },
    {
      "cell_type": "markdown",
      "metadata": {
        "id": "XgxRA0ITwK2l"
      },
      "source": [
        "As in the previous case, data from the central area show that low-cost housing dominates the market, but low-cost housing relative to the center is significantly more expensive than in the region as a whole."
      ]
    },
    {
      "cell_type": "code",
      "execution_count": 68,
      "metadata": {
        "colab": {
          "base_uri": "https://localhost:8080/"
        },
        "id": "kWq-9gd2wK2l",
        "outputId": "b6159523-9129-4c23-b90c-c4c968e1489b"
      },
      "outputs": [
        {
          "output_type": "execute_result",
          "data": {
            "text/plain": [
              "count   1157.00\n",
              "mean       3.10\n",
              "std        1.56\n",
              "min        0.00\n",
              "25%        2.00\n",
              "50%        3.00\n",
              "75%        4.00\n",
              "max       19.00\n",
              "Name: rooms, dtype: float64"
            ]
          },
          "metadata": {},
          "execution_count": 68
        }
      ],
      "source": [
        "data_spb_center['rooms'].describe()"
      ]
    },
    {
      "cell_type": "code",
      "execution_count": 69,
      "metadata": {
        "colab": {
          "base_uri": "https://localhost:8080/"
        },
        "id": "ihP-Oj44wK2l",
        "outputId": "c9c9566e-be47-43f3-f0a1-943d7eaf4ff6"
      },
      "outputs": [
        {
          "output_type": "execute_result",
          "data": {
            "text/plain": [
              "4"
            ]
          },
          "metadata": {},
          "execution_count": 69
        }
      ],
      "source": [
        "data_spb_center[data_spb_center['rooms'] >= 10]['rooms'].count()"
      ]
    },
    {
      "cell_type": "code",
      "execution_count": 70,
      "metadata": {
        "colab": {
          "base_uri": "https://localhost:8080/",
          "height": 392
        },
        "id": "x7Y3SayzwK2l",
        "outputId": "20b5620e-b550-4b50-d4e3-442b6f289ecb"
      },
      "outputs": [
        {
          "output_type": "execute_result",
          "data": {
            "text/plain": [
              "<matplotlib.axes._subplots.AxesSubplot at 0x7f743b699250>"
            ]
          },
          "metadata": {},
          "execution_count": 70
        },
        {
          "output_type": "display_data",
          "data": {
            "text/plain": [
              "<Figure size 864x432 with 1 Axes>"
            ],
            "image/png": "[encoded data removed]"
          },
          "metadata": {
            "needs_background": "light"
          }
        }
      ],
      "source": [
        "data_spb_center['rooms'].hist(bins=10, range=(0,10), figsize=(12, 6))"
      ]
    },
    {
      "cell_type": "markdown",
      "metadata": {
        "id": "XSDsIctGwK2l"
      },
      "source": [
        "Most apartments have 2-3 rooms, 4-room apartments are almost half the size, one-room and five-room apartments are equally popular. There is a significant difference from values across the region."
      ]
    },
    {
      "cell_type": "code",
      "execution_count": 71,
      "metadata": {
        "colab": {
          "base_uri": "https://localhost:8080/"
        },
        "id": "CW-tTfhPwK2l",
        "outputId": "9eaec8fb-dc89-4e25-a7f5-60a95b2f380c"
      },
      "outputs": [
        {
          "output_type": "execute_result",
          "data": {
            "text/plain": [
              "count   795.00\n",
              "mean      3.26\n",
              "std       1.38\n",
              "min       2.45\n",
              "25%       3.00\n",
              "50%       3.17\n",
              "75%       3.40\n",
              "max      32.00\n",
              "Name: ceiling_height, dtype: float64"
            ]
          },
          "metadata": {},
          "execution_count": 71
        }
      ],
      "source": [
        "data_spb_center['ceiling_height'].describe()"
      ]
    },
    {
      "cell_type": "code",
      "execution_count": 72,
      "metadata": {
        "colab": {
          "base_uri": "https://localhost:8080/",
          "height": 392
        },
        "id": "6ulcfamywK2l",
        "outputId": "2cd00116-0544-411e-acd2-b212ecfb7090"
      },
      "outputs": [
        {
          "output_type": "execute_result",
          "data": {
            "text/plain": [
              "<matplotlib.axes._subplots.AxesSubplot at 0x7f743b5d6d90>"
            ]
          },
          "metadata": {},
          "execution_count": 72
        },
        {
          "output_type": "display_data",
          "data": {
            "text/plain": [
              "<Figure size 864x432 with 1 Axes>"
            ],
            "image/png": "[encoded data removed]"
          },
          "metadata": {
            "needs_background": "light"
          }
        }
      ],
      "source": [
        "data_spb_center['ceiling_height'].hist(bins=20, range=(2.4, 5), figsize=(12, 6))"
      ]
    },
    {
      "cell_type": "markdown",
      "metadata": {
        "id": "rCo8PTdLwK2l"
      },
      "source": [
        "The height of the ceilings in the center is generally higher than the average for the region."
      ]
    },
    {
      "cell_type": "markdown",
      "metadata": {
        "id": "roF9HjfIwK2l"
      },
      "source": [
        "### What factors affect the cost of apartments in the center"
      ]
    },
    {
      "cell_type": "markdown",
      "metadata": {
        "id": "dd-gQczKwK2m"
      },
      "source": [
        "#### Number of apartment rooms in the center"
      ]
    },
    {
      "cell_type": "code",
      "execution_count": 73,
      "metadata": {
        "colab": {
          "base_uri": "https://localhost:8080/",
          "height": 580
        },
        "id": "5KicvNdEwK2m",
        "outputId": "3094e64e-37a7-48dd-9508-09e843cac3c2"
      },
      "outputs": [
        {
          "output_type": "execute_result",
          "data": {
            "text/plain": [
              "<matplotlib.axes._subplots.AxesSubplot at 0x7f743b511310>"
            ]
          },
          "metadata": {},
          "execution_count": 73
        },
        {
          "output_type": "display_data",
          "data": {
            "text/plain": [
              "<Figure size 648x648 with 1 Axes>"
            ],
            "image/png": "[encoded data removed]"
          },
          "metadata": {
            "needs_background": "light"
          }
        }
      ],
      "source": [
        "data_spb_center.query('last_price <= 100000000 & rooms <= 10').plot(\n",
        "    x='rooms', y='last_price', kind='scatter', alpha=0.3, figsize=(9,9))"
      ]
    },
    {
      "cell_type": "markdown",
      "metadata": {
        "id": "Y2QZHeQ0wK2m"
      },
      "source": [
        "The graph shows that the relationship between the considered parameters for the center is not significant, as in the case of the mutual influence of these parameters in the entire sample."
      ]
    },
    {
      "cell_type": "markdown",
      "metadata": {
        "id": "j7BVtkGtwK2m"
      },
      "source": [
        "#### Floor of apartments in the center"
      ]
    },
    {
      "cell_type": "code",
      "execution_count": 74,
      "metadata": {
        "colab": {
          "base_uri": "https://localhost:8080/",
          "height": 206
        },
        "id": "aTNBmufSwK2m",
        "outputId": "52e171eb-3d26-465e-8059-20273274fefb"
      },
      "outputs": [
        {
          "output_type": "execute_result",
          "data": {
            "text/plain": [
              "                  mean      median\n",
              "            last_price  last_price\n",
              "floor_type                        \n",
              "first       9586389.63  7125000.00\n",
              "last       19109971.62  9400000.00\n",
              "other      16355894.33 10000000.00"
            ],
            "text/html": [
              "\n",
              "  <div id=\"df-2df8f6a1-fb74-4d61-ad68-ed017b2f2736\">\n",
              "    <div class=\"colab-df-container\">\n",
              "      <div>\n",
              "<style scoped>\n",
              "    .dataframe tbody tr th:only-of-type {\n",
              "        vertical-align: middle;\n",
              "    }\n",
              "\n",
              "    .dataframe tbody tr th {\n",
              "        vertical-align: top;\n",
              "    }\n",
              "\n",
              "    .dataframe thead tr th {\n",
              "        text-align: left;\n",
              "    }\n",
              "\n",
              "    .dataframe thead tr:last-of-type th {\n",
              "        text-align: right;\n",
              "    }\n",
              "</style>\n",
              "<table border=\"1\" class=\"dataframe\">\n",
              "  <thead>\n",
              "    <tr>\n",
              "      <th></th>\n",
              "      <th>mean</th>\n",
              "      <th>median</th>\n",
              "    </tr>\n",
              "    <tr>\n",
              "      <th></th>\n",
              "      <th>last_price</th>\n",
              "      <th>last_price</th>\n",
              "    </tr>\n",
              "    <tr>\n",
              "      <th>floor_type</th>\n",
              "      <th></th>\n",
              "      <th></th>\n",
              "    </tr>\n",
              "  </thead>\n",
              "  <tbody>\n",
              "    <tr>\n",
              "      <th>first</th>\n",
              "      <td>9586389.63</td>\n",
              "      <td>7125000.00</td>\n",
              "    </tr>\n",
              "    <tr>\n",
              "      <th>last</th>\n",
              "      <td>19109971.62</td>\n",
              "      <td>9400000.00</td>\n",
              "    </tr>\n",
              "    <tr>\n",
              "      <th>other</th>\n",
              "      <td>16355894.33</td>\n",
              "      <td>10000000.00</td>\n",
              "    </tr>\n",
              "  </tbody>\n",
              "</table>\n",
              "</div>\n",
              "      <button class=\"colab-df-convert\" onclick=\"convertToInteractive('df-2df8f6a1-fb74-4d61-ad68-ed017b2f2736')\"\n",
              "              title=\"Convert this dataframe to an interactive table.\"\n",
              "              style=\"display:none;\">\n",
              "        \n",
              "  <svg xmlns=\"http://www.w3.org/2000/svg\" height=\"24px\"viewBox=\"0 0 24 24\"\n",
              "       width=\"24px\">\n",
              "    <path d=\"M0 0h24v24H0V0z\" fill=\"none\"/>\n",
              "    <path d=\"M18.56 5.44l.94 2.06.94-2.06 2.06-.94-2.06-.94-.94-2.06-.94 2.06-2.06.94zm-11 1L8.5 8.5l.94-2.06 2.06-.94-2.06-.94L8.5 2.5l-.94 2.06-2.06.94zm10 10l.94 2.06.94-2.06 2.06-.94-2.06-.94-.94-2.06-.94 2.06-2.06.94z\"/><path d=\"M17.41 7.96l-1.37-1.37c-.4-.4-.92-.59-1.43-.59-.52 0-1.04.2-1.43.59L10.3 9.45l-7.72 7.72c-.78.78-.78 2.05 0 2.83L4 21.41c.39.39.9.59 1.41.59.51 0 1.02-.2 1.41-.59l7.78-7.78 2.81-2.81c.8-.78.8-2.07 0-2.86zM5.41 20L4 18.59l7.72-7.72 1.47 1.35L5.41 20z\"/>\n",
              "  </svg>\n",
              "      </button>\n",
              "      \n",
              "  <style>\n",
              "    .colab-df-container {\n",
              "      display:flex;\n",
              "      flex-wrap:wrap;\n",
              "      gap: 12px;\n",
              "    }\n",
              "\n",
              "    .colab-df-convert {\n",
              "      background-color: #E8F0FE;\n",
              "      border: none;\n",
              "      border-radius: 50%;\n",
              "      cursor: pointer;\n",
              "      display: none;\n",
              "      fill: #1967D2;\n",
              "      height: 32px;\n",
              "      padding: 0 0 0 0;\n",
              "      width: 32px;\n",
              "    }\n",
              "\n",
              "    .colab-df-convert:hover {\n",
              "      background-color: #E2EBFA;\n",
              "      box-shadow: 0px 1px 2px rgba(60, 64, 67, 0.3), 0px 1px 3px 1px rgba(60, 64, 67, 0.15);\n",
              "      fill: #174EA6;\n",
              "    }\n",
              "\n",
              "    [theme=dark] .colab-df-convert {\n",
              "      background-color: #3B4455;\n",
              "      fill: #D2E3FC;\n",
              "    }\n",
              "\n",
              "    [theme=dark] .colab-df-convert:hover {\n",
              "      background-color: #434B5C;\n",
              "      box-shadow: 0px 1px 3px 1px rgba(0, 0, 0, 0.15);\n",
              "      filter: drop-shadow(0px 1px 2px rgba(0, 0, 0, 0.3));\n",
              "      fill: #FFFFFF;\n",
              "    }\n",
              "  </style>\n",
              "\n",
              "      <script>\n",
              "        const buttonEl =\n",
              "          document.querySelector('#df-2df8f6a1-fb74-4d61-ad68-ed017b2f2736 button.colab-df-convert');\n",
              "        buttonEl.style.display =\n",
              "          google.colab.kernel.accessAllowed ? 'block' : 'none';\n",
              "\n",
              "        async function convertToInteractive(key) {\n",
              "          const element = document.querySelector('#df-2df8f6a1-fb74-4d61-ad68-ed017b2f2736');\n",
              "          const dataTable =\n",
              "            await google.colab.kernel.invokeFunction('convertToInteractive',\n",
              "                                                     [key], {});\n",
              "          if (!dataTable) return;\n",
              "\n",
              "          const docLinkHtml = 'Like what you see? Visit the ' +\n",
              "            '<a target=\"_blank\" href=https://colab.research.google.com/notebooks/data_table.ipynb>data table notebook</a>'\n",
              "            + ' to learn more about interactive tables.';\n",
              "          element.innerHTML = '';\n",
              "          dataTable['output_type'] = 'display_data';\n",
              "          await google.colab.output.renderOutput(dataTable, element);\n",
              "          const docLink = document.createElement('div');\n",
              "          docLink.innerHTML = docLinkHtml;\n",
              "          element.appendChild(docLink);\n",
              "        }\n",
              "      </script>\n",
              "    </div>\n",
              "  </div>\n",
              "  "
            ]
          },
          "metadata": {},
          "execution_count": 74
        }
      ],
      "source": [
        "data_spb_center.pivot_table(\n",
        "    index='floor_type', values='last_price', aggfunc=['mean', 'median']).sort_values(by=('median','last_price'))"
      ]
    },
    {
      "cell_type": "markdown",
      "metadata": {
        "id": "swzp1uFbwK2m"
      },
      "source": [
        "The first and last floors are the cheapest, as in the whole region."
      ]
    },
    {
      "cell_type": "markdown",
      "metadata": {
        "id": "VibvDSEgwK2n"
      },
      "source": [
        "As a result of the analysis of data for the center of St. Petersburg, we can conclude that, despite the high cost, area, and height of ceilings, the dependences of the distribution of these values correspond to their distributions in the general sample."
      ]
    },
    {
      "cell_type": "markdown",
      "metadata": {
        "id": "EtIMJunJwK2n"
      },
      "source": [
        "We collect a summary table of key parameters for the entire region and for the center in order to add it to the general output."
      ]
    },
    {
      "cell_type": "code",
      "execution_count": 75,
      "metadata": {
        "id": "bXjeKvPuwK2n"
      },
      "outputs": [],
      "source": [
        "region_summary = pd.DataFrame(data[[\n",
        "    'last_price', 'price_m2', 'total_area','rooms', 'ceiling_height' ]].median())\n",
        "spb_center_summary = pd.DataFrame(data_spb_center[[\n",
        "    'last_price', 'price_m2', 'total_area','rooms', 'ceiling_height' ]].median())\n",
        "total_summary = region_summary.join(spb_center_summary, lsuffix='Общий', rsuffix='Центр').reset_index()\n",
        "total_summary.columns = ['Parameter', 'In region', 'In center']"
      ]
    },
    {
      "cell_type": "markdown",
      "metadata": {
        "id": "FK6EbIQvwK2n"
      },
      "source": [
        "## Final conclusion"
      ]
    },
    {
      "cell_type": "markdown",
      "metadata": {
        "id": "lgmQg1wiwK2o"
      },
      "source": [
        "A study was made of the distribution of parameters in advertisements for the sale of apartments over the past few years, as well as the impact of these parameters on the cost of housing in St. Petersburg and its region, a comparison of sales of the segment of apartments in the city center with all settlements. The data was loaded and preprocessed, additional parameters were calculated in accordance with the requirements of the task. Answers to the questions posed were received and conclusions were formulated regarding each subsection of the study:\n",
        "* often sold are apartments of small area and from the lower price range, because these two characteristics are closely interconnected, which is confirmed by calculations\n",
        "* in general, sales of one and two-room apartments with a standard ceiling height prevail, but in the city center the bulk of sales are 2-3 room apartments with an increased ceiling height\n",
        "* in most cases, the term for the sale of an apartment reaches one hundred days, often - 45 and 60 days\n",
        "* the first and last floors are cheapest\n",
        "* the closer to the center, the more expensive apartments, but other factors also influence this\n",
        "* of the 10 settlements with the maximum number of ads, St. Petersburg is the leader in terms of the average cost per square meter, with almost 115 thousand rubles, and Vyborg closes the top ten, with a price slightly higher than 58 thousand\n",
        "* distance from the center begins to noticeably affect the cost per square meter of housing outside a circle with a radius of about three kilometers"
      ]
    },
    {
      "cell_type": "code",
      "execution_count": 76,
      "metadata": {
        "colab": {
          "base_uri": "https://localhost:8080/",
          "height": 206
        },
        "id": "qc_tFxGlwK2o",
        "outputId": "15dfa5fe-ea3e-4a23-ec00-b8492116bc35"
      },
      "outputs": [
        {
          "output_type": "execute_result",
          "data": {
            "text/plain": [
              "        Parameter  In region  In center\n",
              "0      last_price 4646000.00 9500000.00\n",
              "1        price_m2   95000.00  116150.00\n",
              "2      total_area      52.00      84.10\n",
              "3           rooms       2.00       3.00\n",
              "4  ceiling_height       2.65       3.17"
            ],
            "text/html": [
              "\n",
              "  <div id=\"df-7ecf88f2-12c6-4940-9441-32248de3e150\">\n",
              "    <div class=\"colab-df-container\">\n",
              "      <div>\n",
              "<style scoped>\n",
              "    .dataframe tbody tr th:only-of-type {\n",
              "        vertical-align: middle;\n",
              "    }\n",
              "\n",
              "    .dataframe tbody tr th {\n",
              "        vertical-align: top;\n",
              "    }\n",
              "\n",
              "    .dataframe thead th {\n",
              "        text-align: right;\n",
              "    }\n",
              "</style>\n",
              "<table border=\"1\" class=\"dataframe\">\n",
              "  <thead>\n",
              "    <tr style=\"text-align: right;\">\n",
              "      <th></th>\n",
              "      <th>Parameter</th>\n",
              "      <th>In region</th>\n",
              "      <th>In center</th>\n",
              "    </tr>\n",
              "  </thead>\n",
              "  <tbody>\n",
              "    <tr>\n",
              "      <th>0</th>\n",
              "      <td>last_price</td>\n",
              "      <td>4646000.00</td>\n",
              "      <td>9500000.00</td>\n",
              "    </tr>\n",
              "    <tr>\n",
              "      <th>1</th>\n",
              "      <td>price_m2</td>\n",
              "      <td>95000.00</td>\n",
              "      <td>116150.00</td>\n",
              "    </tr>\n",
              "    <tr>\n",
              "      <th>2</th>\n",
              "      <td>total_area</td>\n",
              "      <td>52.00</td>\n",
              "      <td>84.10</td>\n",
              "    </tr>\n",
              "    <tr>\n",
              "      <th>3</th>\n",
              "      <td>rooms</td>\n",
              "      <td>2.00</td>\n",
              "      <td>3.00</td>\n",
              "    </tr>\n",
              "    <tr>\n",
              "      <th>4</th>\n",
              "      <td>ceiling_height</td>\n",
              "      <td>2.65</td>\n",
              "      <td>3.17</td>\n",
              "    </tr>\n",
              "  </tbody>\n",
              "</table>\n",
              "</div>\n",
              "      <button class=\"colab-df-convert\" onclick=\"convertToInteractive('df-7ecf88f2-12c6-4940-9441-32248de3e150')\"\n",
              "              title=\"Convert this dataframe to an interactive table.\"\n",
              "              style=\"display:none;\">\n",
              "        \n",
              "  <svg xmlns=\"http://www.w3.org/2000/svg\" height=\"24px\"viewBox=\"0 0 24 24\"\n",
              "       width=\"24px\">\n",
              "    <path d=\"M0 0h24v24H0V0z\" fill=\"none\"/>\n",
              "    <path d=\"M18.56 5.44l.94 2.06.94-2.06 2.06-.94-2.06-.94-.94-2.06-.94 2.06-2.06.94zm-11 1L8.5 8.5l.94-2.06 2.06-.94-2.06-.94L8.5 2.5l-.94 2.06-2.06.94zm10 10l.94 2.06.94-2.06 2.06-.94-2.06-.94-.94-2.06-.94 2.06-2.06.94z\"/><path d=\"M17.41 7.96l-1.37-1.37c-.4-.4-.92-.59-1.43-.59-.52 0-1.04.2-1.43.59L10.3 9.45l-7.72 7.72c-.78.78-.78 2.05 0 2.83L4 21.41c.39.39.9.59 1.41.59.51 0 1.02-.2 1.41-.59l7.78-7.78 2.81-2.81c.8-.78.8-2.07 0-2.86zM5.41 20L4 18.59l7.72-7.72 1.47 1.35L5.41 20z\"/>\n",
              "  </svg>\n",
              "      </button>\n",
              "      \n",
              "  <style>\n",
              "    .colab-df-container {\n",
              "      display:flex;\n",
              "      flex-wrap:wrap;\n",
              "      gap: 12px;\n",
              "    }\n",
              "\n",
              "    .colab-df-convert {\n",
              "      background-color: #E8F0FE;\n",
              "      border: none;\n",
              "      border-radius: 50%;\n",
              "      cursor: pointer;\n",
              "      display: none;\n",
              "      fill: #1967D2;\n",
              "      height: 32px;\n",
              "      padding: 0 0 0 0;\n",
              "      width: 32px;\n",
              "    }\n",
              "\n",
              "    .colab-df-convert:hover {\n",
              "      background-color: #E2EBFA;\n",
              "      box-shadow: 0px 1px 2px rgba(60, 64, 67, 0.3), 0px 1px 3px 1px rgba(60, 64, 67, 0.15);\n",
              "      fill: #174EA6;\n",
              "    }\n",
              "\n",
              "    [theme=dark] .colab-df-convert {\n",
              "      background-color: #3B4455;\n",
              "      fill: #D2E3FC;\n",
              "    }\n",
              "\n",
              "    [theme=dark] .colab-df-convert:hover {\n",
              "      background-color: #434B5C;\n",
              "      box-shadow: 0px 1px 3px 1px rgba(0, 0, 0, 0.15);\n",
              "      filter: drop-shadow(0px 1px 2px rgba(0, 0, 0, 0.3));\n",
              "      fill: #FFFFFF;\n",
              "    }\n",
              "  </style>\n",
              "\n",
              "      <script>\n",
              "        const buttonEl =\n",
              "          document.querySelector('#df-7ecf88f2-12c6-4940-9441-32248de3e150 button.colab-df-convert');\n",
              "        buttonEl.style.display =\n",
              "          google.colab.kernel.accessAllowed ? 'block' : 'none';\n",
              "\n",
              "        async function convertToInteractive(key) {\n",
              "          const element = document.querySelector('#df-7ecf88f2-12c6-4940-9441-32248de3e150');\n",
              "          const dataTable =\n",
              "            await google.colab.kernel.invokeFunction('convertToInteractive',\n",
              "                                                     [key], {});\n",
              "          if (!dataTable) return;\n",
              "\n",
              "          const docLinkHtml = 'Like what you see? Visit the ' +\n",
              "            '<a target=\"_blank\" href=https://colab.research.google.com/notebooks/data_table.ipynb>data table notebook</a>'\n",
              "            + ' to learn more about interactive tables.';\n",
              "          element.innerHTML = '';\n",
              "          dataTable['output_type'] = 'display_data';\n",
              "          await google.colab.output.renderOutput(dataTable, element);\n",
              "          const docLink = document.createElement('div');\n",
              "          docLink.innerHTML = docLinkHtml;\n",
              "          element.appendChild(docLink);\n",
              "        }\n",
              "      </script>\n",
              "    </div>\n",
              "  </div>\n",
              "  "
            ]
          },
          "metadata": {},
          "execution_count": 76
        }
      ],
      "source": [
        "total_summary"
      ]
    }
  ],
  "metadata": {
    "ExecuteTimeLog": [
      {
        "duration": 693,
        "start_time": "2021-11-01T16:39:43.699Z"
      },
      {
        "duration": 60,
        "start_time": "2021-11-01T16:40:07.288Z"
      },
      {
        "duration": 8,
        "start_time": "2021-11-01T16:40:14.545Z"
      },
      {
        "duration": 13,
        "start_time": "2021-11-01T16:40:27.998Z"
      },
      {
        "duration": 8,
        "start_time": "2021-11-01T16:40:36.054Z"
      },
      {
        "duration": 8,
        "start_time": "2021-11-01T16:41:15.109Z"
      },
      {
        "duration": 73,
        "start_time": "2021-11-01T16:41:58.418Z"
      },
      {
        "duration": 23,
        "start_time": "2021-11-01T16:41:59.774Z"
      },
      {
        "duration": 75,
        "start_time": "2021-11-01T16:42:09.868Z"
      },
      {
        "duration": 661,
        "start_time": "2021-11-02T10:02:42.873Z"
      },
      {
        "duration": 35,
        "start_time": "2021-11-02T10:02:43.536Z"
      },
      {
        "duration": 28,
        "start_time": "2021-11-02T10:03:09.448Z"
      },
      {
        "duration": 82,
        "start_time": "2021-11-02T10:05:06.337Z"
      },
      {
        "duration": 20,
        "start_time": "2021-11-02T10:05:07.203Z"
      },
      {
        "duration": 12,
        "start_time": "2021-11-02T10:12:35.852Z"
      },
      {
        "duration": 6,
        "start_time": "2021-11-02T10:13:13.427Z"
      },
      {
        "duration": 349,
        "start_time": "2021-11-02T10:13:42.267Z"
      },
      {
        "duration": 4,
        "start_time": "2021-11-02T10:13:50.510Z"
      },
      {
        "duration": 5,
        "start_time": "2021-11-02T10:14:05.477Z"
      },
      {
        "duration": 7,
        "start_time": "2021-11-02T10:14:25.527Z"
      },
      {
        "duration": 312,
        "start_time": "2021-11-02T10:14:41.115Z"
      },
      {
        "duration": 7,
        "start_time": "2021-11-02T10:15:42.975Z"
      },
      {
        "duration": 9,
        "start_time": "2021-11-02T10:17:33.515Z"
      },
      {
        "duration": 10,
        "start_time": "2021-11-02T10:18:20.338Z"
      },
      {
        "duration": 9,
        "start_time": "2021-11-02T10:18:34.049Z"
      },
      {
        "duration": 9,
        "start_time": "2021-11-02T10:18:54.295Z"
      },
      {
        "duration": 9,
        "start_time": "2021-11-02T10:19:18.444Z"
      },
      {
        "duration": 6,
        "start_time": "2021-11-02T10:20:31.534Z"
      },
      {
        "duration": 6,
        "start_time": "2021-11-02T10:20:42.452Z"
      },
      {
        "duration": 9,
        "start_time": "2021-11-02T10:21:11.247Z"
      },
      {
        "duration": 6,
        "start_time": "2021-11-02T10:25:55.493Z"
      },
      {
        "duration": 7,
        "start_time": "2021-11-02T10:26:03.455Z"
      },
      {
        "duration": 6,
        "start_time": "2021-11-02T10:26:12.638Z"
      },
      {
        "duration": 6,
        "start_time": "2021-11-02T10:30:57.173Z"
      },
      {
        "duration": 6,
        "start_time": "2021-11-02T10:33:18.410Z"
      },
      {
        "duration": 11,
        "start_time": "2021-11-02T10:33:45.392Z"
      },
      {
        "duration": 11,
        "start_time": "2021-11-02T10:33:57.670Z"
      },
      {
        "duration": 294,
        "start_time": "2021-11-02T10:34:07.196Z"
      },
      {
        "duration": 3549,
        "start_time": "2021-11-02T10:34:20.640Z"
      },
      {
        "duration": 3498,
        "start_time": "2021-11-02T10:34:25.592Z"
      },
      {
        "duration": 3822,
        "start_time": "2021-11-02T10:35:02.254Z"
      },
      {
        "duration": 284,
        "start_time": "2021-11-02T10:39:57.001Z"
      },
      {
        "duration": 713,
        "start_time": "2021-11-02T10:40:12.466Z"
      },
      {
        "duration": 23,
        "start_time": "2021-11-02T10:40:13.181Z"
      },
      {
        "duration": 16,
        "start_time": "2021-11-02T10:40:13.206Z"
      },
      {
        "duration": 4,
        "start_time": "2021-11-02T10:40:13.224Z"
      },
      {
        "duration": 14,
        "start_time": "2021-11-02T10:40:13.246Z"
      },
      {
        "duration": 7,
        "start_time": "2021-11-02T10:40:13.263Z"
      },
      {
        "duration": 13,
        "start_time": "2021-11-02T10:40:13.272Z"
      },
      {
        "duration": 26,
        "start_time": "2021-11-02T10:40:37.640Z"
      },
      {
        "duration": 14,
        "start_time": "2021-11-02T10:41:15.789Z"
      },
      {
        "duration": 763,
        "start_time": "2021-11-02T10:41:58.033Z"
      },
      {
        "duration": 25,
        "start_time": "2021-11-02T10:41:58.798Z"
      },
      {
        "duration": 7,
        "start_time": "2021-11-02T10:41:58.825Z"
      },
      {
        "duration": 7,
        "start_time": "2021-11-02T10:41:58.845Z"
      },
      {
        "duration": 16,
        "start_time": "2021-11-02T10:41:58.855Z"
      },
      {
        "duration": 8,
        "start_time": "2021-11-02T10:41:58.873Z"
      },
      {
        "duration": 8,
        "start_time": "2021-11-02T10:41:58.883Z"
      },
      {
        "duration": 16,
        "start_time": "2021-11-02T10:54:44.167Z"
      },
      {
        "duration": 979,
        "start_time": "2021-11-02T10:55:13.612Z"
      },
      {
        "duration": 25,
        "start_time": "2021-11-02T10:55:14.593Z"
      },
      {
        "duration": 24,
        "start_time": "2021-11-02T10:55:14.621Z"
      },
      {
        "duration": 345,
        "start_time": "2021-11-02T10:58:10.565Z"
      },
      {
        "duration": 10,
        "start_time": "2021-11-02T10:59:08.556Z"
      },
      {
        "duration": 9,
        "start_time": "2021-11-02T11:02:39.087Z"
      },
      {
        "duration": 4,
        "start_time": "2021-11-02T11:05:18.618Z"
      },
      {
        "duration": 12,
        "start_time": "2021-11-02T11:05:31.135Z"
      },
      {
        "duration": 314,
        "start_time": "2021-11-02T11:28:27.767Z"
      },
      {
        "duration": 8,
        "start_time": "2021-11-02T11:28:50.726Z"
      },
      {
        "duration": 26,
        "start_time": "2021-11-02T11:28:59.642Z"
      },
      {
        "duration": 19,
        "start_time": "2021-11-02T11:29:21.459Z"
      },
      {
        "duration": 278,
        "start_time": "2021-11-02T11:29:30.815Z"
      },
      {
        "duration": 3910,
        "start_time": "2021-11-02T11:29:47.106Z"
      },
      {
        "duration": 4785,
        "start_time": "2021-11-02T11:33:38.494Z"
      },
      {
        "duration": 759,
        "start_time": "2021-11-02T11:33:53.074Z"
      },
      {
        "duration": 35,
        "start_time": "2021-11-02T11:33:53.834Z"
      },
      {
        "duration": 42,
        "start_time": "2021-11-02T11:33:53.872Z"
      },
      {
        "duration": 410,
        "start_time": "2021-11-02T11:33:53.916Z"
      },
      {
        "duration": 330,
        "start_time": "2021-11-02T11:34:13.765Z"
      },
      {
        "duration": 13,
        "start_time": "2021-11-02T11:34:39.422Z"
      },
      {
        "duration": 26,
        "start_time": "2021-11-02T11:35:15.959Z"
      },
      {
        "duration": 314,
        "start_time": "2021-11-02T11:35:24.516Z"
      },
      {
        "duration": 3611,
        "start_time": "2021-11-02T11:35:40.255Z"
      },
      {
        "duration": 3790,
        "start_time": "2021-11-02T11:35:56.802Z"
      },
      {
        "duration": 748,
        "start_time": "2021-11-02T11:36:07.345Z"
      },
      {
        "duration": 25,
        "start_time": "2021-11-02T11:36:08.094Z"
      },
      {
        "duration": 4,
        "start_time": "2021-11-02T11:36:08.121Z"
      },
      {
        "duration": 37,
        "start_time": "2021-11-02T11:36:08.126Z"
      },
      {
        "duration": 332,
        "start_time": "2021-11-02T11:36:20.191Z"
      },
      {
        "duration": 96,
        "start_time": "2021-11-02T11:40:43.989Z"
      },
      {
        "duration": 331,
        "start_time": "2021-11-02T11:40:49.296Z"
      },
      {
        "duration": 704,
        "start_time": "2021-11-02T11:41:03.117Z"
      },
      {
        "duration": 30,
        "start_time": "2021-11-02T11:41:03.823Z"
      },
      {
        "duration": 5,
        "start_time": "2021-11-02T11:41:03.858Z"
      },
      {
        "duration": 353,
        "start_time": "2021-11-02T11:41:03.866Z"
      },
      {
        "duration": 734,
        "start_time": "2021-11-02T11:41:20.567Z"
      },
      {
        "duration": 26,
        "start_time": "2021-11-02T11:41:21.303Z"
      },
      {
        "duration": 22,
        "start_time": "2021-11-02T11:41:21.331Z"
      },
      {
        "duration": 47,
        "start_time": "2021-11-02T11:41:21.356Z"
      },
      {
        "duration": 351,
        "start_time": "2021-11-02T11:41:35.308Z"
      },
      {
        "duration": 734,
        "start_time": "2021-11-02T11:42:22.970Z"
      },
      {
        "duration": 24,
        "start_time": "2021-11-02T11:42:23.706Z"
      },
      {
        "duration": 14,
        "start_time": "2021-11-02T11:42:23.733Z"
      },
      {
        "duration": 33,
        "start_time": "2021-11-02T11:42:23.750Z"
      },
      {
        "duration": 19,
        "start_time": "2021-11-02T11:42:51.510Z"
      },
      {
        "duration": 360,
        "start_time": "2021-11-02T11:43:15.936Z"
      },
      {
        "duration": 22,
        "start_time": "2021-11-02T11:43:25.000Z"
      },
      {
        "duration": 751,
        "start_time": "2021-11-02T11:43:30.938Z"
      },
      {
        "duration": 25,
        "start_time": "2021-11-02T11:43:31.693Z"
      },
      {
        "duration": 26,
        "start_time": "2021-11-02T11:43:31.719Z"
      },
      {
        "duration": 36,
        "start_time": "2021-11-02T11:43:31.748Z"
      },
      {
        "duration": 16,
        "start_time": "2021-11-02T11:43:41.436Z"
      },
      {
        "duration": 11,
        "start_time": "2021-11-02T11:45:36.713Z"
      },
      {
        "duration": 12,
        "start_time": "2021-11-02T11:50:06.836Z"
      },
      {
        "duration": 9,
        "start_time": "2021-11-02T11:50:37.623Z"
      },
      {
        "duration": 21,
        "start_time": "2021-11-02T11:50:47.786Z"
      },
      {
        "duration": 1353,
        "start_time": "2021-11-02T11:51:54.641Z"
      },
      {
        "duration": 291,
        "start_time": "2021-11-02T11:52:25.391Z"
      },
      {
        "duration": 288,
        "start_time": "2021-11-02T11:52:42.892Z"
      },
      {
        "duration": 273,
        "start_time": "2021-11-02T11:52:58.572Z"
      },
      {
        "duration": 752,
        "start_time": "2021-11-02T11:53:17.815Z"
      },
      {
        "duration": 28,
        "start_time": "2021-11-02T11:53:18.570Z"
      },
      {
        "duration": 4,
        "start_time": "2021-11-02T11:53:18.601Z"
      },
      {
        "duration": 12,
        "start_time": "2021-11-02T11:53:18.607Z"
      },
      {
        "duration": 41,
        "start_time": "2021-11-02T11:53:18.621Z"
      },
      {
        "duration": 455,
        "start_time": "2021-11-02T11:53:18.665Z"
      },
      {
        "duration": 273,
        "start_time": "2021-11-02T11:53:37.157Z"
      },
      {
        "duration": 270,
        "start_time": "2021-11-02T11:54:12.426Z"
      },
      {
        "duration": 25,
        "start_time": "2021-11-02T11:56:27.561Z"
      },
      {
        "duration": 12,
        "start_time": "2021-11-02T11:56:29.381Z"
      },
      {
        "duration": 730,
        "start_time": "2021-11-02T11:56:35.802Z"
      },
      {
        "duration": 34,
        "start_time": "2021-11-02T11:56:36.534Z"
      },
      {
        "duration": 4,
        "start_time": "2021-11-02T11:56:36.571Z"
      },
      {
        "duration": 28,
        "start_time": "2021-11-02T11:56:36.577Z"
      },
      {
        "duration": 10,
        "start_time": "2021-11-02T11:56:36.607Z"
      },
      {
        "duration": 65,
        "start_time": "2021-11-02T11:56:36.619Z"
      },
      {
        "duration": 36,
        "start_time": "2021-11-02T11:56:57.542Z"
      },
      {
        "duration": 22,
        "start_time": "2021-11-02T11:57:46.587Z"
      },
      {
        "duration": 32,
        "start_time": "2021-11-02T11:58:36.257Z"
      },
      {
        "duration": 8,
        "start_time": "2021-11-02T11:59:05.437Z"
      },
      {
        "duration": 9,
        "start_time": "2021-11-02T12:06:05.328Z"
      },
      {
        "duration": 8,
        "start_time": "2021-11-02T12:06:14.491Z"
      },
      {
        "duration": 12,
        "start_time": "2021-11-02T12:06:32.446Z"
      },
      {
        "duration": 753,
        "start_time": "2021-11-02T12:06:38.774Z"
      },
      {
        "duration": 39,
        "start_time": "2021-11-02T12:06:39.529Z"
      },
      {
        "duration": 4,
        "start_time": "2021-11-02T12:06:39.571Z"
      },
      {
        "duration": 28,
        "start_time": "2021-11-02T12:06:39.578Z"
      },
      {
        "duration": 11,
        "start_time": "2021-11-02T12:06:39.608Z"
      },
      {
        "duration": 67,
        "start_time": "2021-11-02T12:06:39.621Z"
      },
      {
        "duration": 15,
        "start_time": "2021-11-02T12:06:39.690Z"
      },
      {
        "duration": 749,
        "start_time": "2021-11-02T12:07:03.337Z"
      },
      {
        "duration": 23,
        "start_time": "2021-11-02T12:07:04.088Z"
      },
      {
        "duration": 5,
        "start_time": "2021-11-02T12:07:04.113Z"
      },
      {
        "duration": 31,
        "start_time": "2021-11-02T12:07:04.120Z"
      },
      {
        "duration": 18,
        "start_time": "2021-11-02T12:07:04.154Z"
      },
      {
        "duration": 27,
        "start_time": "2021-11-02T12:07:04.174Z"
      },
      {
        "duration": 15,
        "start_time": "2021-11-02T12:07:04.202Z"
      },
      {
        "duration": 17,
        "start_time": "2021-11-02T12:07:25.105Z"
      },
      {
        "duration": 17,
        "start_time": "2021-11-02T12:07:29.808Z"
      },
      {
        "duration": 10,
        "start_time": "2021-11-02T12:10:08.906Z"
      },
      {
        "duration": 30,
        "start_time": "2021-11-02T12:10:22.322Z"
      },
      {
        "duration": 9,
        "start_time": "2021-11-02T12:10:32.276Z"
      },
      {
        "duration": 423,
        "start_time": "2021-11-02T13:54:07.061Z"
      },
      {
        "duration": 773,
        "start_time": "2021-11-02T13:54:15.833Z"
      },
      {
        "duration": 27,
        "start_time": "2021-11-02T13:54:16.608Z"
      },
      {
        "duration": 6,
        "start_time": "2021-11-02T13:54:16.637Z"
      },
      {
        "duration": 26,
        "start_time": "2021-11-02T13:54:16.644Z"
      },
      {
        "duration": 10,
        "start_time": "2021-11-02T13:54:16.672Z"
      },
      {
        "duration": 47,
        "start_time": "2021-11-02T13:54:16.684Z"
      },
      {
        "duration": 16,
        "start_time": "2021-11-02T13:54:16.733Z"
      },
      {
        "duration": 18,
        "start_time": "2021-11-02T13:54:16.751Z"
      },
      {
        "duration": 507,
        "start_time": "2021-11-02T13:54:16.771Z"
      },
      {
        "duration": 725,
        "start_time": "2021-11-02T13:55:54.434Z"
      },
      {
        "duration": 25,
        "start_time": "2021-11-02T13:55:55.161Z"
      },
      {
        "duration": 20,
        "start_time": "2021-11-02T13:55:55.188Z"
      },
      {
        "duration": 24,
        "start_time": "2021-11-02T13:55:55.210Z"
      },
      {
        "duration": 10,
        "start_time": "2021-11-02T13:55:55.236Z"
      },
      {
        "duration": 29,
        "start_time": "2021-11-02T13:55:55.248Z"
      },
      {
        "duration": 42,
        "start_time": "2021-11-02T13:55:55.279Z"
      },
      {
        "duration": 9,
        "start_time": "2021-11-02T13:55:55.323Z"
      },
      {
        "duration": 4675,
        "start_time": "2021-11-02T13:55:55.334Z"
      },
      {
        "duration": 373,
        "start_time": "2021-11-02T13:57:04.026Z"
      },
      {
        "duration": 205,
        "start_time": "2021-11-02T13:57:29.945Z"
      },
      {
        "duration": 4703,
        "start_time": "2021-11-02T13:57:51.690Z"
      },
      {
        "duration": 331,
        "start_time": "2021-11-02T14:04:00.371Z"
      },
      {
        "duration": 334,
        "start_time": "2021-11-02T14:04:10.080Z"
      },
      {
        "duration": 350,
        "start_time": "2021-11-02T14:04:26.680Z"
      },
      {
        "duration": 364,
        "start_time": "2021-11-02T14:05:10.061Z"
      },
      {
        "duration": 10,
        "start_time": "2021-11-02T14:05:42.240Z"
      },
      {
        "duration": 345,
        "start_time": "2021-11-02T14:05:43.232Z"
      },
      {
        "duration": 427,
        "start_time": "2021-11-02T14:09:48.159Z"
      },
      {
        "duration": 343,
        "start_time": "2021-11-02T14:10:48.432Z"
      },
      {
        "duration": 635,
        "start_time": "2021-11-02T14:21:50.926Z"
      },
      {
        "duration": 9,
        "start_time": "2021-11-02T14:21:58.607Z"
      },
      {
        "duration": 355,
        "start_time": "2021-11-02T14:23:38.294Z"
      },
      {
        "duration": 892,
        "start_time": "2021-11-02T14:24:44.754Z"
      },
      {
        "duration": 440,
        "start_time": "2021-11-02T14:25:00.253Z"
      },
      {
        "duration": 354,
        "start_time": "2021-11-02T14:25:15.400Z"
      },
      {
        "duration": 20,
        "start_time": "2021-11-02T14:25:40.586Z"
      },
      {
        "duration": 163,
        "start_time": "2021-11-02T14:26:46.044Z"
      },
      {
        "duration": 404,
        "start_time": "2021-11-02T14:26:51.791Z"
      },
      {
        "duration": 352,
        "start_time": "2021-11-02T14:27:13.526Z"
      },
      {
        "duration": 366,
        "start_time": "2021-11-02T14:27:27.767Z"
      },
      {
        "duration": 8,
        "start_time": "2021-11-02T14:28:10.093Z"
      },
      {
        "duration": 10,
        "start_time": "2021-11-02T14:28:26.239Z"
      },
      {
        "duration": 10,
        "start_time": "2021-11-02T14:29:39.505Z"
      },
      {
        "duration": 344,
        "start_time": "2021-11-02T14:30:15.504Z"
      },
      {
        "duration": 346,
        "start_time": "2021-11-02T14:30:33.235Z"
      },
      {
        "duration": 387,
        "start_time": "2021-11-02T14:30:56.647Z"
      },
      {
        "duration": 9,
        "start_time": "2021-11-02T14:36:51.608Z"
      },
      {
        "duration": 7,
        "start_time": "2021-11-02T14:37:00.937Z"
      },
      {
        "duration": 6,
        "start_time": "2021-11-02T14:37:08.018Z"
      },
      {
        "duration": 7,
        "start_time": "2021-11-02T14:37:12.830Z"
      },
      {
        "duration": 7,
        "start_time": "2021-11-02T14:37:21.230Z"
      },
      {
        "duration": 6,
        "start_time": "2021-11-02T14:37:59.276Z"
      },
      {
        "duration": 6,
        "start_time": "2021-11-02T14:38:08.821Z"
      },
      {
        "duration": 6,
        "start_time": "2021-11-02T14:38:15.101Z"
      },
      {
        "duration": 351,
        "start_time": "2021-11-02T14:38:24.704Z"
      },
      {
        "duration": 340,
        "start_time": "2021-11-02T14:38:31.650Z"
      },
      {
        "duration": 7,
        "start_time": "2021-11-02T14:39:26.125Z"
      },
      {
        "duration": 353,
        "start_time": "2021-11-02T14:39:52.042Z"
      },
      {
        "duration": 6,
        "start_time": "2021-11-02T14:40:09.050Z"
      },
      {
        "duration": 688,
        "start_time": "2021-11-02T14:40:19.243Z"
      },
      {
        "duration": 25,
        "start_time": "2021-11-02T14:40:19.934Z"
      },
      {
        "duration": 7,
        "start_time": "2021-11-02T14:40:19.961Z"
      },
      {
        "duration": 36,
        "start_time": "2021-11-02T14:40:19.970Z"
      },
      {
        "duration": 11,
        "start_time": "2021-11-02T14:40:20.008Z"
      },
      {
        "duration": 35,
        "start_time": "2021-11-02T14:40:20.021Z"
      },
      {
        "duration": 17,
        "start_time": "2021-11-02T14:40:20.058Z"
      },
      {
        "duration": 34,
        "start_time": "2021-11-02T14:40:20.077Z"
      },
      {
        "duration": 9,
        "start_time": "2021-11-02T14:40:20.113Z"
      },
      {
        "duration": 426,
        "start_time": "2021-11-02T14:40:20.124Z"
      },
      {
        "duration": 6,
        "start_time": "2021-11-02T14:40:20.552Z"
      },
      {
        "duration": 12,
        "start_time": "2021-11-02T14:40:20.559Z"
      },
      {
        "duration": 10,
        "start_time": "2021-11-02T14:40:33.560Z"
      },
      {
        "duration": 8,
        "start_time": "2021-11-02T14:40:43.712Z"
      },
      {
        "duration": 695,
        "start_time": "2021-11-02T14:42:37.959Z"
      },
      {
        "duration": 27,
        "start_time": "2021-11-02T14:42:38.657Z"
      },
      {
        "duration": 14,
        "start_time": "2021-11-02T14:42:38.686Z"
      },
      {
        "duration": 30,
        "start_time": "2021-11-02T14:42:38.707Z"
      },
      {
        "duration": 10,
        "start_time": "2021-11-02T14:42:38.738Z"
      },
      {
        "duration": 38,
        "start_time": "2021-11-02T14:42:38.750Z"
      },
      {
        "duration": 21,
        "start_time": "2021-11-02T14:42:38.790Z"
      },
      {
        "duration": 12,
        "start_time": "2021-11-02T14:42:38.813Z"
      },
      {
        "duration": 21,
        "start_time": "2021-11-02T14:42:38.827Z"
      },
      {
        "duration": 433,
        "start_time": "2021-11-02T14:42:38.850Z"
      },
      {
        "duration": 9,
        "start_time": "2021-11-02T14:42:39.284Z"
      },
      {
        "duration": 21,
        "start_time": "2021-11-02T14:42:39.295Z"
      },
      {
        "duration": 711,
        "start_time": "2021-11-02T14:43:39.913Z"
      },
      {
        "duration": 25,
        "start_time": "2021-11-02T14:43:40.626Z"
      },
      {
        "duration": 3,
        "start_time": "2021-11-02T14:43:40.653Z"
      },
      {
        "duration": 32,
        "start_time": "2021-11-02T14:43:40.659Z"
      },
      {
        "duration": 20,
        "start_time": "2021-11-02T14:43:40.693Z"
      },
      {
        "duration": 29,
        "start_time": "2021-11-02T14:43:40.715Z"
      },
      {
        "duration": 17,
        "start_time": "2021-11-02T14:43:40.746Z"
      },
      {
        "duration": 16,
        "start_time": "2021-11-02T14:43:40.765Z"
      },
      {
        "duration": 26,
        "start_time": "2021-11-02T14:43:40.783Z"
      },
      {
        "duration": 428,
        "start_time": "2021-11-02T14:43:40.811Z"
      },
      {
        "duration": 11,
        "start_time": "2021-11-02T14:43:41.240Z"
      },
      {
        "duration": 28,
        "start_time": "2021-11-02T14:43:41.252Z"
      },
      {
        "duration": 9,
        "start_time": "2021-11-02T14:43:51.974Z"
      },
      {
        "duration": 5,
        "start_time": "2021-11-02T14:44:53.598Z"
      },
      {
        "duration": 416,
        "start_time": "2021-11-02T14:46:03.521Z"
      },
      {
        "duration": 6,
        "start_time": "2021-11-02T14:46:17.384Z"
      },
      {
        "duration": 541,
        "start_time": "2021-11-02T14:46:29.224Z"
      },
      {
        "duration": 355,
        "start_time": "2021-11-02T14:49:20.462Z"
      },
      {
        "duration": 9,
        "start_time": "2021-11-02T14:49:33.581Z"
      },
      {
        "duration": 5,
        "start_time": "2021-11-02T14:49:35.220Z"
      },
      {
        "duration": 5,
        "start_time": "2021-11-02T14:50:07.554Z"
      },
      {
        "duration": 25,
        "start_time": "2021-11-02T15:04:17.198Z"
      },
      {
        "duration": 10,
        "start_time": "2021-11-02T15:04:27.472Z"
      },
      {
        "duration": 7,
        "start_time": "2021-11-02T15:04:51.994Z"
      },
      {
        "duration": 7,
        "start_time": "2021-11-02T15:05:17.666Z"
      },
      {
        "duration": 8,
        "start_time": "2021-11-02T15:08:16.427Z"
      },
      {
        "duration": 9,
        "start_time": "2021-11-02T15:09:41.139Z"
      },
      {
        "duration": 355,
        "start_time": "2021-11-02T15:18:45.751Z"
      },
      {
        "duration": 9,
        "start_time": "2021-11-02T15:21:55.430Z"
      },
      {
        "duration": 21,
        "start_time": "2021-11-02T15:22:08.110Z"
      },
      {
        "duration": 6,
        "start_time": "2021-11-02T15:26:56.864Z"
      },
      {
        "duration": 7,
        "start_time": "2021-11-02T15:27:09.747Z"
      },
      {
        "duration": 21,
        "start_time": "2021-11-02T15:27:23.600Z"
      },
      {
        "duration": 6,
        "start_time": "2021-11-02T15:27:35.754Z"
      },
      {
        "duration": 6,
        "start_time": "2021-11-02T15:27:36.489Z"
      },
      {
        "duration": 6,
        "start_time": "2021-11-02T15:27:36.844Z"
      },
      {
        "duration": 20,
        "start_time": "2021-11-02T15:27:37.347Z"
      },
      {
        "duration": 4,
        "start_time": "2021-11-02T15:39:26.060Z"
      },
      {
        "duration": 5636,
        "start_time": "2021-11-02T15:39:26.807Z"
      },
      {
        "duration": 1071,
        "start_time": "2021-11-02T15:40:01.287Z"
      },
      {
        "duration": 23,
        "start_time": "2021-11-02T15:40:06.554Z"
      },
      {
        "duration": 109,
        "start_time": "2021-11-02T15:47:59.255Z"
      },
      {
        "duration": 3,
        "start_time": "2021-11-02T15:48:32.270Z"
      },
      {
        "duration": 8058,
        "start_time": "2021-11-02T15:49:00.938Z"
      },
      {
        "duration": 28,
        "start_time": "2021-11-02T15:49:08.998Z"
      },
      {
        "duration": 5,
        "start_time": "2021-11-02T15:49:54.339Z"
      },
      {
        "duration": 9222,
        "start_time": "2021-11-02T15:49:56.248Z"
      },
      {
        "duration": 24,
        "start_time": "2021-11-02T15:50:05.472Z"
      },
      {
        "duration": 3,
        "start_time": "2021-11-02T15:50:22.543Z"
      },
      {
        "duration": 8183,
        "start_time": "2021-11-02T15:50:23.573Z"
      },
      {
        "duration": 23,
        "start_time": "2021-11-02T15:50:31.758Z"
      },
      {
        "duration": 3,
        "start_time": "2021-11-02T15:51:13.445Z"
      },
      {
        "duration": 13376,
        "start_time": "2021-11-02T15:51:14.995Z"
      },
      {
        "duration": 31,
        "start_time": "2021-11-02T15:51:29.545Z"
      },
      {
        "duration": 4,
        "start_time": "2021-11-02T15:55:04.801Z"
      },
      {
        "duration": 8439,
        "start_time": "2021-11-02T15:55:05.664Z"
      },
      {
        "duration": 705,
        "start_time": "2021-11-02T15:55:21.930Z"
      },
      {
        "duration": 24,
        "start_time": "2021-11-02T15:55:22.638Z"
      },
      {
        "duration": 4,
        "start_time": "2021-11-02T15:55:22.667Z"
      },
      {
        "duration": 38,
        "start_time": "2021-11-02T15:55:22.672Z"
      },
      {
        "duration": 10,
        "start_time": "2021-11-02T15:55:22.712Z"
      },
      {
        "duration": 30,
        "start_time": "2021-11-02T15:55:22.724Z"
      },
      {
        "duration": 16,
        "start_time": "2021-11-02T15:55:22.756Z"
      },
      {
        "duration": 39,
        "start_time": "2021-11-02T15:55:22.775Z"
      },
      {
        "duration": 17,
        "start_time": "2021-11-02T15:55:22.815Z"
      },
      {
        "duration": 529,
        "start_time": "2021-11-02T15:55:22.834Z"
      },
      {
        "duration": 10,
        "start_time": "2021-11-02T15:55:23.365Z"
      },
      {
        "duration": 5,
        "start_time": "2021-11-02T15:55:23.377Z"
      },
      {
        "duration": 24,
        "start_time": "2021-11-02T15:55:23.384Z"
      },
      {
        "duration": 11,
        "start_time": "2021-11-02T15:55:23.410Z"
      },
      {
        "duration": 413,
        "start_time": "2021-11-02T15:55:23.423Z"
      },
      {
        "duration": 9,
        "start_time": "2021-11-02T15:55:23.838Z"
      },
      {
        "duration": 26,
        "start_time": "2021-11-02T15:55:23.849Z"
      },
      {
        "duration": 29,
        "start_time": "2021-11-02T15:55:23.877Z"
      },
      {
        "duration": 6,
        "start_time": "2021-11-02T15:55:23.908Z"
      },
      {
        "duration": 7,
        "start_time": "2021-11-02T15:55:23.916Z"
      },
      {
        "duration": 4,
        "start_time": "2021-11-02T15:55:23.925Z"
      },
      {
        "duration": 820,
        "start_time": "2021-11-02T15:55:23.932Z"
      },
      {
        "duration": 3,
        "start_time": "2021-11-02T15:55:24.754Z"
      },
      {
        "duration": 8666,
        "start_time": "2021-11-02T15:55:24.759Z"
      },
      {
        "duration": 33,
        "start_time": "2021-11-02T15:55:33.427Z"
      },
      {
        "duration": 4,
        "start_time": "2021-11-02T15:56:07.941Z"
      },
      {
        "duration": 8241,
        "start_time": "2021-11-02T15:56:08.675Z"
      },
      {
        "duration": 21,
        "start_time": "2021-11-02T15:56:17.852Z"
      },
      {
        "duration": 3,
        "start_time": "2021-11-02T15:59:35.620Z"
      },
      {
        "duration": 996,
        "start_time": "2021-11-02T15:59:38.156Z"
      },
      {
        "duration": 114,
        "start_time": "2021-11-02T16:00:08.357Z"
      },
      {
        "duration": 124,
        "start_time": "2021-11-02T16:02:41.124Z"
      },
      {
        "duration": 3,
        "start_time": "2021-11-02T16:02:48.014Z"
      },
      {
        "duration": 5056,
        "start_time": "2021-11-02T16:02:51.673Z"
      },
      {
        "duration": 21,
        "start_time": "2021-11-02T16:03:00.776Z"
      },
      {
        "duration": 3,
        "start_time": "2021-11-02T16:03:18.800Z"
      },
      {
        "duration": 12283,
        "start_time": "2021-11-02T16:03:20.923Z"
      },
      {
        "duration": 23,
        "start_time": "2021-11-02T16:03:34.076Z"
      },
      {
        "duration": 3,
        "start_time": "2021-11-02T16:05:22.170Z"
      },
      {
        "duration": 11431,
        "start_time": "2021-11-02T16:05:50.133Z"
      },
      {
        "duration": 22,
        "start_time": "2021-11-02T16:06:01.566Z"
      },
      {
        "duration": 118,
        "start_time": "2021-11-02T16:07:50.112Z"
      },
      {
        "duration": 4,
        "start_time": "2021-11-02T16:08:05.891Z"
      },
      {
        "duration": 23,
        "start_time": "2021-11-02T16:20:13.277Z"
      },
      {
        "duration": 6,
        "start_time": "2021-11-02T16:20:37.808Z"
      },
      {
        "duration": 10,
        "start_time": "2021-11-02T16:25:14.868Z"
      },
      {
        "duration": 355,
        "start_time": "2021-11-02T16:25:33.274Z"
      },
      {
        "duration": 326,
        "start_time": "2021-11-02T16:27:20.116Z"
      },
      {
        "duration": 19,
        "start_time": "2021-11-02T16:27:28.313Z"
      },
      {
        "duration": 261,
        "start_time": "2021-11-02T16:29:19.943Z"
      },
      {
        "duration": 184,
        "start_time": "2021-11-02T16:29:31.340Z"
      },
      {
        "duration": 336,
        "start_time": "2021-11-02T16:29:40.603Z"
      },
      {
        "duration": 15,
        "start_time": "2021-11-02T16:30:17.470Z"
      },
      {
        "duration": 4043,
        "start_time": "2021-11-02T16:31:04.783Z"
      },
      {
        "duration": 530,
        "start_time": "2021-11-02T16:31:30.621Z"
      },
      {
        "duration": 518,
        "start_time": "2021-11-02T16:32:10.180Z"
      },
      {
        "duration": 16,
        "start_time": "2021-11-02T16:32:15.848Z"
      },
      {
        "duration": 383,
        "start_time": "2021-11-02T16:33:00.172Z"
      },
      {
        "duration": 10129,
        "start_time": "2021-11-02T16:35:14.041Z"
      },
      {
        "duration": 366,
        "start_time": "2021-11-02T16:35:44.330Z"
      },
      {
        "duration": 9525,
        "start_time": "2021-11-02T16:35:51.598Z"
      },
      {
        "duration": 8696,
        "start_time": "2021-11-02T16:36:43.654Z"
      },
      {
        "duration": 8645,
        "start_time": "2021-11-02T16:37:03.353Z"
      },
      {
        "duration": 9407,
        "start_time": "2021-11-02T16:37:28.830Z"
      },
      {
        "duration": 373,
        "start_time": "2021-11-02T16:38:02.793Z"
      },
      {
        "duration": 220,
        "start_time": "2021-11-02T16:41:10.619Z"
      },
      {
        "duration": 8485,
        "start_time": "2021-11-02T16:41:15.941Z"
      },
      {
        "duration": 16,
        "start_time": "2021-11-02T16:41:41.698Z"
      },
      {
        "duration": 9316,
        "start_time": "2021-11-02T16:42:02.245Z"
      },
      {
        "duration": 106,
        "start_time": "2021-11-02T16:42:40.363Z"
      },
      {
        "duration": 340,
        "start_time": "2021-11-02T16:42:45.760Z"
      },
      {
        "duration": 6536,
        "start_time": "2021-11-02T16:43:18.650Z"
      },
      {
        "duration": 3,
        "start_time": "2021-11-02T16:44:23.930Z"
      },
      {
        "duration": 852,
        "start_time": "2021-11-02T16:44:58.723Z"
      },
      {
        "duration": 30,
        "start_time": "2021-11-02T16:44:59.577Z"
      },
      {
        "duration": 4,
        "start_time": "2021-11-02T16:44:59.611Z"
      },
      {
        "duration": 32,
        "start_time": "2021-11-02T16:44:59.617Z"
      },
      {
        "duration": 14,
        "start_time": "2021-11-02T16:44:59.651Z"
      },
      {
        "duration": 46,
        "start_time": "2021-11-02T16:44:59.667Z"
      },
      {
        "duration": 16,
        "start_time": "2021-11-02T16:44:59.716Z"
      },
      {
        "duration": 19,
        "start_time": "2021-11-02T16:44:59.734Z"
      },
      {
        "duration": 430,
        "start_time": "2021-11-02T16:44:59.754Z"
      },
      {
        "duration": 19,
        "start_time": "2021-11-02T16:45:00.187Z"
      },
      {
        "duration": 8,
        "start_time": "2021-11-02T16:45:00.208Z"
      },
      {
        "duration": 25,
        "start_time": "2021-11-02T16:45:00.218Z"
      },
      {
        "duration": 29,
        "start_time": "2021-11-02T16:45:00.245Z"
      },
      {
        "duration": 403,
        "start_time": "2021-11-02T16:45:00.276Z"
      },
      {
        "duration": 9,
        "start_time": "2021-11-02T16:45:00.681Z"
      },
      {
        "duration": 20,
        "start_time": "2021-11-02T16:45:00.691Z"
      },
      {
        "duration": 347,
        "start_time": "2021-11-02T16:45:00.713Z"
      },
      {
        "duration": 8,
        "start_time": "2021-11-02T16:45:01.062Z"
      },
      {
        "duration": 28,
        "start_time": "2021-11-02T16:45:01.072Z"
      },
      {
        "duration": 12,
        "start_time": "2021-11-02T16:45:01.101Z"
      },
      {
        "duration": 14,
        "start_time": "2021-11-02T16:45:01.115Z"
      },
      {
        "duration": 10,
        "start_time": "2021-11-02T16:45:01.132Z"
      },
      {
        "duration": 10,
        "start_time": "2021-11-02T16:45:01.144Z"
      },
      {
        "duration": 814,
        "start_time": "2021-11-02T16:45:01.155Z"
      },
      {
        "duration": 4,
        "start_time": "2021-11-02T16:45:01.970Z"
      },
      {
        "duration": 10964,
        "start_time": "2021-11-02T16:45:01.975Z"
      },
      {
        "duration": 4,
        "start_time": "2021-11-02T16:45:12.940Z"
      },
      {
        "duration": 11561,
        "start_time": "2021-11-02T16:45:12.945Z"
      },
      {
        "duration": 24,
        "start_time": "2021-11-02T16:45:24.508Z"
      },
      {
        "duration": 7,
        "start_time": "2021-11-02T16:50:22.167Z"
      },
      {
        "duration": 9,
        "start_time": "2021-11-02T16:50:47.968Z"
      },
      {
        "duration": 10,
        "start_time": "2021-11-02T16:50:51.315Z"
      },
      {
        "duration": 9,
        "start_time": "2021-11-02T16:50:55.963Z"
      },
      {
        "duration": 9,
        "start_time": "2021-11-02T16:50:59.839Z"
      },
      {
        "duration": 187,
        "start_time": "2021-11-02T16:51:57.697Z"
      },
      {
        "duration": 190,
        "start_time": "2021-11-02T16:52:10.469Z"
      },
      {
        "duration": 182,
        "start_time": "2021-11-02T16:52:24.618Z"
      },
      {
        "duration": 167,
        "start_time": "2021-11-02T16:52:43.434Z"
      },
      {
        "duration": 312,
        "start_time": "2021-11-02T16:53:05.380Z"
      },
      {
        "duration": 353,
        "start_time": "2021-11-02T16:53:11.567Z"
      },
      {
        "duration": 346,
        "start_time": "2021-11-02T16:53:17.293Z"
      },
      {
        "duration": 200,
        "start_time": "2021-11-02T16:53:25.834Z"
      },
      {
        "duration": 292,
        "start_time": "2021-11-02T16:53:36.741Z"
      },
      {
        "duration": 273,
        "start_time": "2021-11-02T16:53:41.873Z"
      },
      {
        "duration": 343,
        "start_time": "2021-11-02T16:53:52.082Z"
      },
      {
        "duration": 192,
        "start_time": "2021-11-02T16:54:29.140Z"
      },
      {
        "duration": 254,
        "start_time": "2021-11-02T16:54:38.387Z"
      },
      {
        "duration": 341,
        "start_time": "2021-11-03T05:50:48.301Z"
      },
      {
        "duration": 818,
        "start_time": "2021-11-03T05:50:58.137Z"
      },
      {
        "duration": 38,
        "start_time": "2021-11-03T05:50:58.957Z"
      },
      {
        "duration": 5,
        "start_time": "2021-11-03T05:50:59.000Z"
      },
      {
        "duration": 29,
        "start_time": "2021-11-03T05:50:59.007Z"
      },
      {
        "duration": 47,
        "start_time": "2021-11-03T05:50:59.038Z"
      },
      {
        "duration": 39,
        "start_time": "2021-11-03T05:50:59.087Z"
      },
      {
        "duration": 21,
        "start_time": "2021-11-03T05:50:59.130Z"
      },
      {
        "duration": 37,
        "start_time": "2021-11-03T05:50:59.154Z"
      },
      {
        "duration": 661,
        "start_time": "2021-11-03T05:50:59.193Z"
      },
      {
        "duration": 25,
        "start_time": "2021-11-03T05:50:59.857Z"
      },
      {
        "duration": 6,
        "start_time": "2021-11-03T05:50:59.884Z"
      },
      {
        "duration": 6,
        "start_time": "2021-11-03T05:50:59.893Z"
      },
      {
        "duration": 11,
        "start_time": "2021-11-03T05:50:59.902Z"
      },
      {
        "duration": 631,
        "start_time": "2021-11-03T05:50:59.916Z"
      },
      {
        "duration": 13,
        "start_time": "2021-11-03T05:51:00.549Z"
      },
      {
        "duration": 22,
        "start_time": "2021-11-03T05:51:00.564Z"
      },
      {
        "duration": 537,
        "start_time": "2021-11-03T05:51:00.588Z"
      },
      {
        "duration": 10,
        "start_time": "2021-11-03T05:51:01.127Z"
      },
      {
        "duration": 20,
        "start_time": "2021-11-03T05:51:01.140Z"
      },
      {
        "duration": 21,
        "start_time": "2021-11-03T05:51:01.163Z"
      },
      {
        "duration": 8,
        "start_time": "2021-11-03T05:51:01.186Z"
      },
      {
        "duration": 35,
        "start_time": "2021-11-03T05:51:01.198Z"
      },
      {
        "duration": 13,
        "start_time": "2021-11-03T05:51:01.236Z"
      },
      {
        "duration": 1389,
        "start_time": "2021-11-03T05:51:01.252Z"
      },
      {
        "duration": 6,
        "start_time": "2021-11-03T05:51:02.644Z"
      },
      {
        "duration": 17855,
        "start_time": "2021-11-03T05:51:02.653Z"
      },
      {
        "duration": 6,
        "start_time": "2021-11-03T05:51:20.510Z"
      },
      {
        "duration": 18518,
        "start_time": "2021-11-03T05:51:20.519Z"
      },
      {
        "duration": 44,
        "start_time": "2021-11-03T05:51:39.039Z"
      },
      {
        "duration": 11,
        "start_time": "2021-11-03T05:51:39.085Z"
      },
      {
        "duration": 536,
        "start_time": "2021-11-03T05:51:39.099Z"
      },
      {
        "duration": 11,
        "start_time": "2021-11-03T05:51:39.637Z"
      },
      {
        "duration": 572,
        "start_time": "2021-11-03T05:51:39.651Z"
      },
      {
        "duration": 12,
        "start_time": "2021-11-03T05:51:40.225Z"
      },
      {
        "duration": 438,
        "start_time": "2021-11-03T05:51:40.239Z"
      },
      {
        "duration": 12,
        "start_time": "2021-11-03T05:51:40.682Z"
      },
      {
        "duration": 443,
        "start_time": "2021-11-03T05:51:40.697Z"
      },
      {
        "duration": 20,
        "start_time": "2021-11-03T05:51:43.096Z"
      },
      {
        "duration": 5,
        "start_time": "2021-11-03T06:00:09.720Z"
      },
      {
        "duration": 90,
        "start_time": "2021-11-03T06:04:03.422Z"
      },
      {
        "duration": 102,
        "start_time": "2021-11-03T06:04:13.018Z"
      },
      {
        "duration": 434,
        "start_time": "2021-11-03T06:04:17.890Z"
      },
      {
        "duration": 321,
        "start_time": "2021-11-03T06:04:51.776Z"
      },
      {
        "duration": 299,
        "start_time": "2021-11-03T06:05:05.762Z"
      },
      {
        "duration": 257,
        "start_time": "2021-11-03T06:05:17.048Z"
      },
      {
        "duration": 320,
        "start_time": "2021-11-03T06:05:23.120Z"
      },
      {
        "duration": 10,
        "start_time": "2021-11-03T06:05:49.472Z"
      },
      {
        "duration": 9,
        "start_time": "2021-11-03T06:05:56.257Z"
      },
      {
        "duration": 9,
        "start_time": "2021-11-03T06:06:14.718Z"
      },
      {
        "duration": 99,
        "start_time": "2021-11-03T06:06:20.940Z"
      },
      {
        "duration": 540,
        "start_time": "2021-11-03T06:06:26.495Z"
      },
      {
        "duration": 741,
        "start_time": "2021-11-03T06:07:23.170Z"
      },
      {
        "duration": 752,
        "start_time": "2021-11-03T06:07:34.701Z"
      },
      {
        "duration": 655,
        "start_time": "2021-11-03T06:07:45.338Z"
      },
      {
        "duration": 670,
        "start_time": "2021-11-03T06:07:51.267Z"
      },
      {
        "duration": 722,
        "start_time": "2021-11-03T06:08:00.836Z"
      },
      {
        "duration": 650,
        "start_time": "2021-11-03T06:08:09.868Z"
      },
      {
        "duration": 12,
        "start_time": "2021-11-03T06:19:42.369Z"
      },
      {
        "duration": 9,
        "start_time": "2021-11-03T06:19:51.692Z"
      },
      {
        "duration": 9,
        "start_time": "2021-11-03T06:19:58.432Z"
      },
      {
        "duration": 10,
        "start_time": "2021-11-03T06:20:03.617Z"
      },
      {
        "duration": 9,
        "start_time": "2021-11-03T06:20:08.514Z"
      },
      {
        "duration": 10,
        "start_time": "2021-11-03T06:20:13.687Z"
      },
      {
        "duration": 9,
        "start_time": "2021-11-03T06:20:24.286Z"
      },
      {
        "duration": 9,
        "start_time": "2021-11-03T06:20:30.302Z"
      },
      {
        "duration": 9,
        "start_time": "2021-11-03T06:20:37.979Z"
      },
      {
        "duration": 9,
        "start_time": "2021-11-03T06:20:44.143Z"
      },
      {
        "duration": 9,
        "start_time": "2021-11-03T06:20:57.696Z"
      },
      {
        "duration": 8,
        "start_time": "2021-11-03T06:21:03.934Z"
      },
      {
        "duration": 9,
        "start_time": "2021-11-03T06:21:08.692Z"
      },
      {
        "duration": 9,
        "start_time": "2021-11-03T06:21:45.975Z"
      },
      {
        "duration": 551,
        "start_time": "2021-11-03T06:22:02.193Z"
      },
      {
        "duration": 740,
        "start_time": "2021-11-03T06:22:33.035Z"
      },
      {
        "duration": 3119,
        "start_time": "2021-11-03T06:24:17.825Z"
      },
      {
        "duration": 837,
        "start_time": "2021-11-03T06:24:34.886Z"
      },
      {
        "duration": 637,
        "start_time": "2021-11-03T06:25:51.177Z"
      },
      {
        "duration": 333,
        "start_time": "2021-11-03T06:30:18.175Z"
      },
      {
        "duration": 374,
        "start_time": "2021-11-03T06:30:28.215Z"
      },
      {
        "duration": 9,
        "start_time": "2021-11-03T06:31:16.108Z"
      },
      {
        "duration": 10,
        "start_time": "2021-11-03T06:32:16.751Z"
      },
      {
        "duration": 302,
        "start_time": "2021-11-03T06:32:42.743Z"
      },
      {
        "duration": 374,
        "start_time": "2021-11-03T06:33:30.884Z"
      },
      {
        "duration": 477,
        "start_time": "2021-11-03T06:44:24.515Z"
      },
      {
        "duration": 414,
        "start_time": "2021-11-03T06:47:08.491Z"
      },
      {
        "duration": 497,
        "start_time": "2021-11-03T06:47:17.873Z"
      },
      {
        "duration": 16,
        "start_time": "2021-11-03T06:51:59.204Z"
      },
      {
        "duration": 12,
        "start_time": "2021-11-03T06:55:12.081Z"
      },
      {
        "duration": 472,
        "start_time": "2021-11-03T06:59:50.940Z"
      },
      {
        "duration": 387,
        "start_time": "2021-11-03T07:00:47.773Z"
      },
      {
        "duration": 614,
        "start_time": "2021-11-03T07:01:00.770Z"
      },
      {
        "duration": 1140,
        "start_time": "2021-11-03T07:11:30.570Z"
      },
      {
        "duration": 96,
        "start_time": "2021-11-03T07:16:47.366Z"
      },
      {
        "duration": 116,
        "start_time": "2021-11-03T07:17:08.254Z"
      },
      {
        "duration": 95,
        "start_time": "2021-11-03T07:18:56.974Z"
      },
      {
        "duration": 915,
        "start_time": "2021-11-03T07:19:12.878Z"
      },
      {
        "duration": 44,
        "start_time": "2021-11-03T07:19:13.796Z"
      },
      {
        "duration": 6,
        "start_time": "2021-11-03T07:19:13.845Z"
      },
      {
        "duration": 52,
        "start_time": "2021-11-03T07:19:13.854Z"
      },
      {
        "duration": 17,
        "start_time": "2021-11-03T07:19:13.908Z"
      },
      {
        "duration": 76,
        "start_time": "2021-11-03T07:19:13.928Z"
      },
      {
        "duration": 22,
        "start_time": "2021-11-03T07:19:14.007Z"
      },
      {
        "duration": 13,
        "start_time": "2021-11-03T07:19:14.032Z"
      },
      {
        "duration": 36,
        "start_time": "2021-11-03T07:19:14.048Z"
      },
      {
        "duration": 7,
        "start_time": "2021-11-03T07:19:14.087Z"
      },
      {
        "duration": 6,
        "start_time": "2021-11-03T07:19:14.097Z"
      },
      {
        "duration": 11,
        "start_time": "2021-11-03T07:19:14.106Z"
      },
      {
        "duration": 7,
        "start_time": "2021-11-03T07:19:14.119Z"
      },
      {
        "duration": 60,
        "start_time": "2021-11-03T07:19:14.128Z"
      },
      {
        "duration": 8,
        "start_time": "2021-11-03T07:19:14.191Z"
      },
      {
        "duration": 12,
        "start_time": "2021-11-03T07:19:14.201Z"
      },
      {
        "duration": 6,
        "start_time": "2021-11-03T07:19:14.215Z"
      },
      {
        "duration": 1331,
        "start_time": "2021-11-03T07:19:14.223Z"
      },
      {
        "duration": 4,
        "start_time": "2021-11-03T07:19:15.557Z"
      },
      {
        "duration": 18561,
        "start_time": "2021-11-03T07:19:15.564Z"
      },
      {
        "duration": 5,
        "start_time": "2021-11-03T07:19:34.127Z"
      },
      {
        "duration": 18825,
        "start_time": "2021-11-03T07:19:34.134Z"
      },
      {
        "duration": 38,
        "start_time": "2021-11-03T07:19:52.964Z"
      },
      {
        "duration": 11,
        "start_time": "2021-11-03T07:19:53.005Z"
      },
      {
        "duration": 11,
        "start_time": "2021-11-03T07:19:53.019Z"
      },
      {
        "duration": 755,
        "start_time": "2021-11-03T07:19:53.032Z"
      },
      {
        "duration": 13,
        "start_time": "2021-11-03T07:19:53.790Z"
      },
      {
        "duration": 10,
        "start_time": "2021-11-03T07:19:53.805Z"
      },
      {
        "duration": 10,
        "start_time": "2021-11-03T07:19:53.817Z"
      },
      {
        "duration": 689,
        "start_time": "2021-11-03T07:19:53.829Z"
      },
      {
        "duration": 11,
        "start_time": "2021-11-03T07:19:54.520Z"
      },
      {
        "duration": 9,
        "start_time": "2021-11-03T07:19:54.534Z"
      },
      {
        "duration": 402,
        "start_time": "2021-11-03T07:19:54.545Z"
      },
      {
        "duration": 11,
        "start_time": "2021-11-03T07:19:54.950Z"
      },
      {
        "duration": 502,
        "start_time": "2021-11-03T07:19:54.963Z"
      },
      {
        "duration": 21,
        "start_time": "2021-11-03T07:19:55.467Z"
      },
      {
        "duration": 1256,
        "start_time": "2021-11-03T07:19:55.490Z"
      },
      {
        "duration": 117,
        "start_time": "2021-11-03T07:19:56.749Z"
      },
      {
        "duration": 120,
        "start_time": "2021-11-03T07:20:26.928Z"
      },
      {
        "duration": 389,
        "start_time": "2021-11-03T07:21:00.711Z"
      },
      {
        "duration": 331,
        "start_time": "2021-11-03T07:21:27.409Z"
      },
      {
        "duration": 286,
        "start_time": "2021-11-03T07:22:28.193Z"
      },
      {
        "duration": 191,
        "start_time": "2021-11-03T07:22:43.378Z"
      },
      {
        "duration": 4065,
        "start_time": "2021-11-03T07:23:55.698Z"
      },
      {
        "duration": 184,
        "start_time": "2021-11-03T07:24:29.933Z"
      },
      {
        "duration": 193,
        "start_time": "2021-11-03T07:25:05.291Z"
      },
      {
        "duration": 24,
        "start_time": "2021-11-03T07:25:54.375Z"
      },
      {
        "duration": 297,
        "start_time": "2021-11-03T07:26:02.914Z"
      },
      {
        "duration": 303,
        "start_time": "2021-11-03T07:26:18.841Z"
      },
      {
        "duration": 296,
        "start_time": "2021-11-03T07:26:30.919Z"
      },
      {
        "duration": 29,
        "start_time": "2021-11-03T07:26:48.706Z"
      },
      {
        "duration": 9,
        "start_time": "2021-11-03T07:29:46.309Z"
      },
      {
        "duration": 9,
        "start_time": "2021-11-03T07:29:59.769Z"
      },
      {
        "duration": 10,
        "start_time": "2021-11-03T07:30:08.023Z"
      },
      {
        "duration": 11,
        "start_time": "2021-11-03T07:30:13.894Z"
      },
      {
        "duration": 12,
        "start_time": "2021-11-03T07:30:17.989Z"
      },
      {
        "duration": 1211,
        "start_time": "2021-11-03T07:31:04.687Z"
      },
      {
        "duration": 10,
        "start_time": "2021-11-03T07:32:28.780Z"
      },
      {
        "duration": 1163,
        "start_time": "2021-11-03T07:32:41.709Z"
      },
      {
        "duration": 1704,
        "start_time": "2021-11-03T07:32:57.163Z"
      },
      {
        "duration": 626,
        "start_time": "2021-11-03T07:33:19.456Z"
      },
      {
        "duration": 1430,
        "start_time": "2021-11-03T07:33:33.466Z"
      },
      {
        "duration": 2553,
        "start_time": "2021-11-03T07:33:47.211Z"
      },
      {
        "duration": 1218,
        "start_time": "2021-11-03T07:34:17.506Z"
      },
      {
        "duration": 11,
        "start_time": "2021-11-03T07:35:02.237Z"
      },
      {
        "duration": 11,
        "start_time": "2021-11-03T07:35:19.429Z"
      },
      {
        "duration": 956,
        "start_time": "2021-11-03T07:37:09.631Z"
      },
      {
        "duration": 740,
        "start_time": "2021-11-03T07:37:27.527Z"
      },
      {
        "duration": 297,
        "start_time": "2021-11-03T07:37:52.533Z"
      },
      {
        "duration": 313,
        "start_time": "2021-11-03T07:38:33.061Z"
      },
      {
        "duration": 320,
        "start_time": "2021-11-03T07:39:06.897Z"
      },
      {
        "duration": 367,
        "start_time": "2021-11-03T07:39:27.825Z"
      },
      {
        "duration": 855,
        "start_time": "2021-11-03T07:40:07.695Z"
      },
      {
        "duration": 40,
        "start_time": "2021-11-03T07:40:08.553Z"
      },
      {
        "duration": 4,
        "start_time": "2021-11-03T07:40:08.596Z"
      },
      {
        "duration": 27,
        "start_time": "2021-11-03T07:40:08.603Z"
      },
      {
        "duration": 15,
        "start_time": "2021-11-03T07:40:08.632Z"
      },
      {
        "duration": 41,
        "start_time": "2021-11-03T07:40:08.682Z"
      },
      {
        "duration": 23,
        "start_time": "2021-11-03T07:40:08.725Z"
      },
      {
        "duration": 39,
        "start_time": "2021-11-03T07:40:08.752Z"
      },
      {
        "duration": 12,
        "start_time": "2021-11-03T07:40:08.794Z"
      },
      {
        "duration": 6,
        "start_time": "2021-11-03T07:40:08.809Z"
      },
      {
        "duration": 22,
        "start_time": "2021-11-03T07:40:08.817Z"
      },
      {
        "duration": 10,
        "start_time": "2021-11-03T07:40:08.842Z"
      },
      {
        "duration": 12,
        "start_time": "2021-11-03T07:40:08.882Z"
      },
      {
        "duration": 10,
        "start_time": "2021-11-03T07:40:08.897Z"
      },
      {
        "duration": 9,
        "start_time": "2021-11-03T07:40:08.910Z"
      },
      {
        "duration": 8,
        "start_time": "2021-11-03T07:40:08.921Z"
      },
      {
        "duration": 5,
        "start_time": "2021-11-03T07:40:08.932Z"
      },
      {
        "duration": 1347,
        "start_time": "2021-11-03T07:40:08.939Z"
      },
      {
        "duration": 4,
        "start_time": "2021-11-03T07:40:10.289Z"
      },
      {
        "duration": 18539,
        "start_time": "2021-11-03T07:40:10.295Z"
      },
      {
        "duration": 5,
        "start_time": "2021-11-03T07:40:28.836Z"
      },
      {
        "duration": 19703,
        "start_time": "2021-11-03T07:40:28.843Z"
      },
      {
        "duration": 38,
        "start_time": "2021-11-03T07:40:48.550Z"
      },
      {
        "duration": 60,
        "start_time": "2021-11-03T07:40:48.591Z"
      },
      {
        "duration": 12,
        "start_time": "2021-11-03T07:40:48.653Z"
      },
      {
        "duration": 718,
        "start_time": "2021-11-03T07:40:48.667Z"
      },
      {
        "duration": 12,
        "start_time": "2021-11-03T07:40:49.387Z"
      },
      {
        "duration": 8,
        "start_time": "2021-11-03T07:40:49.401Z"
      },
      {
        "duration": 11,
        "start_time": "2021-11-03T07:40:49.411Z"
      },
      {
        "duration": 670,
        "start_time": "2021-11-03T07:40:49.425Z"
      },
      {
        "duration": 11,
        "start_time": "2021-11-03T07:40:50.098Z"
      },
      {
        "duration": 9,
        "start_time": "2021-11-03T07:40:50.111Z"
      },
      {
        "duration": 396,
        "start_time": "2021-11-03T07:40:50.123Z"
      },
      {
        "duration": 13,
        "start_time": "2021-11-03T07:40:50.522Z"
      },
      {
        "duration": 493,
        "start_time": "2021-11-03T07:40:50.537Z"
      },
      {
        "duration": 13,
        "start_time": "2021-11-03T07:40:51.033Z"
      },
      {
        "duration": 1344,
        "start_time": "2021-11-03T07:40:51.048Z"
      },
      {
        "duration": 10,
        "start_time": "2021-11-03T07:40:52.395Z"
      },
      {
        "duration": 1159,
        "start_time": "2021-11-03T07:40:52.408Z"
      },
      {
        "duration": 17,
        "start_time": "2021-11-03T07:40:53.569Z"
      },
      {
        "duration": 442,
        "start_time": "2021-11-03T07:49:39.470Z"
      },
      {
        "duration": 10,
        "start_time": "2021-11-03T07:49:47.940Z"
      },
      {
        "duration": 10,
        "start_time": "2021-11-03T09:41:06.971Z"
      },
      {
        "duration": 8,
        "start_time": "2021-11-03T09:41:17.586Z"
      },
      {
        "duration": 6,
        "start_time": "2021-11-03T09:41:39.492Z"
      },
      {
        "duration": 9,
        "start_time": "2021-11-03T09:42:09.000Z"
      },
      {
        "duration": 826,
        "start_time": "2021-11-03T09:43:11.510Z"
      },
      {
        "duration": 43,
        "start_time": "2021-11-03T09:43:12.339Z"
      },
      {
        "duration": 6,
        "start_time": "2021-11-03T09:43:12.385Z"
      },
      {
        "duration": 28,
        "start_time": "2021-11-03T09:43:12.394Z"
      },
      {
        "duration": 15,
        "start_time": "2021-11-03T09:43:12.425Z"
      },
      {
        "duration": 72,
        "start_time": "2021-11-03T09:43:12.443Z"
      },
      {
        "duration": 25,
        "start_time": "2021-11-03T09:43:12.518Z"
      },
      {
        "duration": 40,
        "start_time": "2021-11-03T09:43:12.547Z"
      },
      {
        "duration": 12,
        "start_time": "2021-11-03T09:43:12.590Z"
      },
      {
        "duration": 7,
        "start_time": "2021-11-03T09:43:12.604Z"
      },
      {
        "duration": 7,
        "start_time": "2021-11-03T09:43:12.614Z"
      },
      {
        "duration": 11,
        "start_time": "2021-11-03T09:43:12.624Z"
      },
      {
        "duration": 12,
        "start_time": "2021-11-03T09:43:12.683Z"
      },
      {
        "duration": 10,
        "start_time": "2021-11-03T09:43:12.697Z"
      },
      {
        "duration": 9,
        "start_time": "2021-11-03T09:43:12.709Z"
      },
      {
        "duration": 10,
        "start_time": "2021-11-03T09:43:12.720Z"
      },
      {
        "duration": 5,
        "start_time": "2021-11-03T09:43:12.733Z"
      },
      {
        "duration": 1329,
        "start_time": "2021-11-03T09:43:12.781Z"
      },
      {
        "duration": 5,
        "start_time": "2021-11-03T09:43:14.113Z"
      },
      {
        "duration": 20168,
        "start_time": "2021-11-03T09:43:14.122Z"
      },
      {
        "duration": 6,
        "start_time": "2021-11-03T09:43:34.292Z"
      },
      {
        "duration": 20405,
        "start_time": "2021-11-03T09:43:34.301Z"
      },
      {
        "duration": 35,
        "start_time": "2021-11-03T09:43:54.712Z"
      },
      {
        "duration": 36,
        "start_time": "2021-11-03T09:43:54.750Z"
      },
      {
        "duration": 14,
        "start_time": "2021-11-03T09:43:54.789Z"
      },
      {
        "duration": 777,
        "start_time": "2021-11-03T09:43:54.805Z"
      },
      {
        "duration": 12,
        "start_time": "2021-11-03T09:43:55.585Z"
      },
      {
        "duration": 9,
        "start_time": "2021-11-03T09:43:55.599Z"
      },
      {
        "duration": 9,
        "start_time": "2021-11-03T09:43:55.610Z"
      },
      {
        "duration": 675,
        "start_time": "2021-11-03T09:43:55.622Z"
      },
      {
        "duration": 14,
        "start_time": "2021-11-03T09:43:56.300Z"
      },
      {
        "duration": 10,
        "start_time": "2021-11-03T09:43:56.317Z"
      },
      {
        "duration": 408,
        "start_time": "2021-11-03T09:43:56.330Z"
      },
      {
        "duration": 14,
        "start_time": "2021-11-03T09:43:56.742Z"
      },
      {
        "duration": 517,
        "start_time": "2021-11-03T09:43:56.758Z"
      },
      {
        "duration": 14,
        "start_time": "2021-11-03T09:43:57.277Z"
      },
      {
        "duration": 12,
        "start_time": "2021-11-03T09:43:57.294Z"
      },
      {
        "duration": 1280,
        "start_time": "2021-11-03T09:43:57.309Z"
      },
      {
        "duration": 10,
        "start_time": "2021-11-03T09:43:58.592Z"
      },
      {
        "duration": 2446,
        "start_time": "2021-11-03T09:44:10.780Z"
      },
      {
        "duration": 1180,
        "start_time": "2021-11-03T09:44:36.636Z"
      },
      {
        "duration": 1492,
        "start_time": "2021-11-03T09:44:46.627Z"
      },
      {
        "duration": 1478,
        "start_time": "2021-11-03T09:44:55.279Z"
      },
      {
        "duration": 1546,
        "start_time": "2021-11-03T09:45:05.389Z"
      },
      {
        "duration": 1855,
        "start_time": "2021-11-03T09:45:12.409Z"
      },
      {
        "duration": 1948,
        "start_time": "2021-11-03T09:45:21.556Z"
      },
      {
        "duration": 2521,
        "start_time": "2021-11-03T09:45:30.961Z"
      },
      {
        "duration": 730,
        "start_time": "2021-11-03T09:45:40.756Z"
      },
      {
        "duration": 1512,
        "start_time": "2021-11-03T09:45:49.084Z"
      },
      {
        "duration": 2336,
        "start_time": "2021-11-03T09:46:04.416Z"
      },
      {
        "duration": 10,
        "start_time": "2021-11-03T09:48:24.915Z"
      },
      {
        "duration": 2644,
        "start_time": "2021-11-03T09:48:49.862Z"
      },
      {
        "duration": 11,
        "start_time": "2021-11-03T09:49:06.120Z"
      },
      {
        "duration": 11,
        "start_time": "2021-11-03T09:49:16.642Z"
      },
      {
        "duration": 2323,
        "start_time": "2021-11-03T09:49:25.077Z"
      },
      {
        "duration": 2273,
        "start_time": "2021-11-03T09:49:42.088Z"
      },
      {
        "duration": 11,
        "start_time": "2021-11-03T09:50:16.144Z"
      },
      {
        "duration": 2123,
        "start_time": "2021-11-03T09:50:16.971Z"
      },
      {
        "duration": 10,
        "start_time": "2021-11-03T09:50:30.715Z"
      },
      {
        "duration": 281,
        "start_time": "2021-11-03T09:52:05.341Z"
      },
      {
        "duration": 636,
        "start_time": "2021-11-03T09:52:21.571Z"
      },
      {
        "duration": 10,
        "start_time": "2021-11-03T09:52:37.183Z"
      },
      {
        "duration": 2278,
        "start_time": "2021-11-03T09:53:46.070Z"
      },
      {
        "duration": 1969,
        "start_time": "2021-11-03T09:54:04.531Z"
      },
      {
        "duration": 43,
        "start_time": "2021-11-03T09:57:14.004Z"
      },
      {
        "duration": 22,
        "start_time": "2021-11-03T09:59:11.171Z"
      },
      {
        "duration": 31,
        "start_time": "2021-11-03T09:59:44.146Z"
      },
      {
        "duration": 43,
        "start_time": "2021-11-03T10:00:34.492Z"
      },
      {
        "duration": 21,
        "start_time": "2021-11-03T10:03:32.609Z"
      },
      {
        "duration": 8,
        "start_time": "2021-11-03T10:04:29.389Z"
      },
      {
        "duration": 25,
        "start_time": "2021-11-03T10:04:46.928Z"
      },
      {
        "duration": 10,
        "start_time": "2021-11-03T10:04:58.994Z"
      },
      {
        "duration": 8,
        "start_time": "2021-11-03T10:05:27.504Z"
      },
      {
        "duration": 9,
        "start_time": "2021-11-03T10:06:43.279Z"
      },
      {
        "duration": 9,
        "start_time": "2021-11-03T10:06:52.732Z"
      },
      {
        "duration": 95,
        "start_time": "2021-11-03T10:08:00.347Z"
      },
      {
        "duration": 108,
        "start_time": "2021-11-03T10:08:12.414Z"
      },
      {
        "duration": 408,
        "start_time": "2021-11-03T10:08:24.989Z"
      },
      {
        "duration": 36,
        "start_time": "2021-11-03T10:08:38.475Z"
      },
      {
        "duration": 368,
        "start_time": "2021-11-03T10:11:04.668Z"
      },
      {
        "duration": 9,
        "start_time": "2021-11-03T10:12:05.198Z"
      },
      {
        "duration": 8,
        "start_time": "2021-11-03T10:12:20.841Z"
      },
      {
        "duration": 10,
        "start_time": "2021-11-03T10:12:36.855Z"
      },
      {
        "duration": 296,
        "start_time": "2021-11-03T10:14:56.643Z"
      },
      {
        "duration": 280,
        "start_time": "2021-11-03T10:15:21.290Z"
      },
      {
        "duration": 46,
        "start_time": "2021-11-03T10:15:33.572Z"
      },
      {
        "duration": 44,
        "start_time": "2021-11-03T10:16:01.966Z"
      },
      {
        "duration": 317,
        "start_time": "2021-11-03T10:18:21.651Z"
      },
      {
        "duration": 43,
        "start_time": "2021-11-03T10:18:33.288Z"
      },
      {
        "duration": 34,
        "start_time": "2021-11-03T10:18:46.199Z"
      },
      {
        "duration": 41,
        "start_time": "2021-11-03T10:18:59.574Z"
      },
      {
        "duration": 960,
        "start_time": "2021-11-03T10:19:16.260Z"
      },
      {
        "duration": 39,
        "start_time": "2021-11-03T10:19:17.222Z"
      },
      {
        "duration": 5,
        "start_time": "2021-11-03T10:19:17.284Z"
      },
      {
        "duration": 32,
        "start_time": "2021-11-03T10:19:17.291Z"
      },
      {
        "duration": 16,
        "start_time": "2021-11-03T10:19:17.326Z"
      },
      {
        "duration": 69,
        "start_time": "2021-11-03T10:19:17.345Z"
      },
      {
        "duration": 26,
        "start_time": "2021-11-03T10:19:17.418Z"
      },
      {
        "duration": 39,
        "start_time": "2021-11-03T10:19:17.448Z"
      },
      {
        "duration": 12,
        "start_time": "2021-11-03T10:19:17.490Z"
      },
      {
        "duration": 8,
        "start_time": "2021-11-03T10:19:17.505Z"
      },
      {
        "duration": 7,
        "start_time": "2021-11-03T10:19:17.516Z"
      },
      {
        "duration": 63,
        "start_time": "2021-11-03T10:19:17.526Z"
      },
      {
        "duration": 23,
        "start_time": "2021-11-03T10:19:17.592Z"
      },
      {
        "duration": 10,
        "start_time": "2021-11-03T10:19:17.618Z"
      },
      {
        "duration": 19,
        "start_time": "2021-11-03T10:19:17.630Z"
      },
      {
        "duration": 29,
        "start_time": "2021-11-03T10:19:17.652Z"
      },
      {
        "duration": 6,
        "start_time": "2021-11-03T10:19:17.683Z"
      },
      {
        "duration": 1349,
        "start_time": "2021-11-03T10:19:17.692Z"
      },
      {
        "duration": 6,
        "start_time": "2021-11-03T10:19:19.043Z"
      },
      {
        "duration": 19189,
        "start_time": "2021-11-03T10:19:19.052Z"
      },
      {
        "duration": 4,
        "start_time": "2021-11-03T10:19:38.244Z"
      },
      {
        "duration": 20171,
        "start_time": "2021-11-03T10:19:38.255Z"
      },
      {
        "duration": 36,
        "start_time": "2021-11-03T10:19:58.430Z"
      },
      {
        "duration": 14,
        "start_time": "2021-11-03T10:19:58.481Z"
      },
      {
        "duration": 13,
        "start_time": "2021-11-03T10:19:58.498Z"
      },
      {
        "duration": 891,
        "start_time": "2021-11-03T10:19:58.513Z"
      },
      {
        "duration": 16,
        "start_time": "2021-11-03T10:19:59.408Z"
      },
      {
        "duration": 10,
        "start_time": "2021-11-03T10:19:59.427Z"
      },
      {
        "duration": 10,
        "start_time": "2021-11-03T10:19:59.439Z"
      },
      {
        "duration": 647,
        "start_time": "2021-11-03T10:19:59.483Z"
      },
      {
        "duration": 11,
        "start_time": "2021-11-03T10:20:00.132Z"
      },
      {
        "duration": 57,
        "start_time": "2021-11-03T10:20:00.146Z"
      },
      {
        "duration": 8,
        "start_time": "2021-11-03T10:20:00.205Z"
      },
      {
        "duration": 403,
        "start_time": "2021-11-03T10:20:00.215Z"
      },
      {
        "duration": 13,
        "start_time": "2021-11-03T10:20:00.620Z"
      },
      {
        "duration": 512,
        "start_time": "2021-11-03T10:20:00.635Z"
      },
      {
        "duration": 12,
        "start_time": "2021-11-03T10:20:01.149Z"
      },
      {
        "duration": 26,
        "start_time": "2021-11-03T10:20:01.163Z"
      },
      {
        "duration": 2197,
        "start_time": "2021-11-03T10:20:01.191Z"
      },
      {
        "duration": 10,
        "start_time": "2021-11-03T10:20:03.390Z"
      },
      {
        "duration": 46,
        "start_time": "2021-11-03T10:20:03.402Z"
      },
      {
        "duration": 43,
        "start_time": "2021-11-03T10:20:49.951Z"
      },
      {
        "duration": 35,
        "start_time": "2021-11-03T10:21:03.947Z"
      },
      {
        "duration": 44,
        "start_time": "2021-11-03T10:21:41.978Z"
      },
      {
        "duration": 51,
        "start_time": "2021-11-03T10:21:45.228Z"
      },
      {
        "duration": 36,
        "start_time": "2021-11-03T10:22:16.094Z"
      },
      {
        "duration": 19,
        "start_time": "2021-11-03T10:23:38.019Z"
      },
      {
        "duration": 39,
        "start_time": "2021-11-03T10:23:54.025Z"
      },
      {
        "duration": 19,
        "start_time": "2021-11-03T10:24:09.913Z"
      },
      {
        "duration": 19,
        "start_time": "2021-11-03T10:24:15.848Z"
      },
      {
        "duration": 19,
        "start_time": "2021-11-03T10:24:20.682Z"
      },
      {
        "duration": 37,
        "start_time": "2021-11-03T10:24:24.653Z"
      },
      {
        "duration": 10,
        "start_time": "2021-11-03T10:24:51.621Z"
      },
      {
        "duration": 13,
        "start_time": "2021-11-03T10:25:01.960Z"
      },
      {
        "duration": 11,
        "start_time": "2021-11-03T10:25:26.307Z"
      },
      {
        "duration": 12,
        "start_time": "2021-11-03T10:25:37.958Z"
      },
      {
        "duration": 11,
        "start_time": "2021-11-03T10:25:47.493Z"
      },
      {
        "duration": 7,
        "start_time": "2021-11-03T10:26:13.045Z"
      },
      {
        "duration": 9,
        "start_time": "2021-11-03T10:26:26.090Z"
      },
      {
        "duration": 9,
        "start_time": "2021-11-03T10:26:38.320Z"
      },
      {
        "duration": 844,
        "start_time": "2021-11-03T10:27:13.815Z"
      },
      {
        "duration": 41,
        "start_time": "2021-11-03T10:27:14.662Z"
      },
      {
        "duration": 9,
        "start_time": "2021-11-03T10:27:14.706Z"
      },
      {
        "duration": 27,
        "start_time": "2021-11-03T10:27:14.718Z"
      },
      {
        "duration": 39,
        "start_time": "2021-11-03T10:27:14.748Z"
      },
      {
        "duration": 41,
        "start_time": "2021-11-03T10:27:14.790Z"
      },
      {
        "duration": 22,
        "start_time": "2021-11-03T10:27:14.833Z"
      },
      {
        "duration": 12,
        "start_time": "2021-11-03T10:27:14.884Z"
      },
      {
        "duration": 13,
        "start_time": "2021-11-03T10:27:14.899Z"
      },
      {
        "duration": 6,
        "start_time": "2021-11-03T10:27:14.914Z"
      },
      {
        "duration": 10,
        "start_time": "2021-11-03T10:27:14.922Z"
      },
      {
        "duration": 50,
        "start_time": "2021-11-03T10:27:14.934Z"
      },
      {
        "duration": 13,
        "start_time": "2021-11-03T10:27:14.987Z"
      },
      {
        "duration": 8,
        "start_time": "2021-11-03T10:27:15.003Z"
      },
      {
        "duration": 16,
        "start_time": "2021-11-03T10:27:15.013Z"
      },
      {
        "duration": 13,
        "start_time": "2021-11-03T10:27:15.032Z"
      },
      {
        "duration": 6,
        "start_time": "2021-11-03T10:27:15.047Z"
      },
      {
        "duration": 1352,
        "start_time": "2021-11-03T10:27:15.056Z"
      },
      {
        "duration": 4,
        "start_time": "2021-11-03T10:27:16.410Z"
      },
      {
        "duration": 20057,
        "start_time": "2021-11-03T10:27:16.418Z"
      },
      {
        "duration": 5,
        "start_time": "2021-11-03T10:27:36.477Z"
      },
      {
        "duration": 19887,
        "start_time": "2021-11-03T10:27:36.484Z"
      },
      {
        "duration": 38,
        "start_time": "2021-11-03T10:27:56.376Z"
      },
      {
        "duration": 15,
        "start_time": "2021-11-03T10:27:56.417Z"
      },
      {
        "duration": 12,
        "start_time": "2021-11-03T10:27:56.434Z"
      },
      {
        "duration": 817,
        "start_time": "2021-11-03T10:27:56.448Z"
      },
      {
        "duration": 20,
        "start_time": "2021-11-03T10:27:57.267Z"
      },
      {
        "duration": 9,
        "start_time": "2021-11-03T10:27:57.289Z"
      },
      {
        "duration": 13,
        "start_time": "2021-11-03T10:27:57.302Z"
      },
      {
        "duration": 654,
        "start_time": "2021-11-03T10:27:57.318Z"
      },
      {
        "duration": 10,
        "start_time": "2021-11-03T10:27:57.983Z"
      },
      {
        "duration": 36,
        "start_time": "2021-11-03T10:27:57.996Z"
      },
      {
        "duration": 9,
        "start_time": "2021-11-03T10:27:58.035Z"
      },
      {
        "duration": 415,
        "start_time": "2021-11-03T10:27:58.046Z"
      },
      {
        "duration": 19,
        "start_time": "2021-11-03T10:27:58.463Z"
      },
      {
        "duration": 511,
        "start_time": "2021-11-03T10:27:58.484Z"
      },
      {
        "duration": 12,
        "start_time": "2021-11-03T10:27:58.997Z"
      },
      {
        "duration": 11,
        "start_time": "2021-11-03T10:27:59.011Z"
      },
      {
        "duration": 2371,
        "start_time": "2021-11-03T10:27:59.024Z"
      },
      {
        "duration": 12,
        "start_time": "2021-11-03T10:28:01.398Z"
      },
      {
        "duration": 70,
        "start_time": "2021-11-03T10:28:01.413Z"
      },
      {
        "duration": 12,
        "start_time": "2021-11-03T10:28:01.486Z"
      },
      {
        "duration": 50,
        "start_time": "2021-11-03T10:28:01.501Z"
      },
      {
        "duration": 411,
        "start_time": "2021-11-03T10:30:55.013Z"
      },
      {
        "duration": 329,
        "start_time": "2021-11-03T10:31:37.332Z"
      },
      {
        "duration": 308,
        "start_time": "2021-11-03T10:31:58.954Z"
      },
      {
        "duration": 6,
        "start_time": "2021-11-03T10:33:54.899Z"
      },
      {
        "duration": 40,
        "start_time": "2021-11-03T10:37:39.484Z"
      },
      {
        "duration": 790,
        "start_time": "2021-11-03T10:37:53.531Z"
      },
      {
        "duration": 39,
        "start_time": "2021-11-03T10:37:54.323Z"
      },
      {
        "duration": 18,
        "start_time": "2021-11-03T10:37:54.365Z"
      },
      {
        "duration": 6,
        "start_time": "2021-11-03T10:37:54.386Z"
      },
      {
        "duration": 27,
        "start_time": "2021-11-03T10:37:54.394Z"
      },
      {
        "duration": 15,
        "start_time": "2021-11-03T10:37:54.424Z"
      },
      {
        "duration": 68,
        "start_time": "2021-11-03T10:37:54.442Z"
      },
      {
        "duration": 21,
        "start_time": "2021-11-03T10:37:54.514Z"
      },
      {
        "duration": 20,
        "start_time": "2021-11-03T10:37:54.538Z"
      },
      {
        "duration": 33,
        "start_time": "2021-11-03T10:37:54.560Z"
      },
      {
        "duration": 7,
        "start_time": "2021-11-03T10:37:54.596Z"
      },
      {
        "duration": 11,
        "start_time": "2021-11-03T10:37:54.605Z"
      },
      {
        "duration": 10,
        "start_time": "2021-11-03T10:37:54.618Z"
      },
      {
        "duration": 15,
        "start_time": "2021-11-03T10:37:54.630Z"
      },
      {
        "duration": 45,
        "start_time": "2021-11-03T10:37:54.648Z"
      },
      {
        "duration": 17,
        "start_time": "2021-11-03T10:37:54.695Z"
      },
      {
        "duration": 10,
        "start_time": "2021-11-03T10:37:54.714Z"
      },
      {
        "duration": 11,
        "start_time": "2021-11-03T10:37:54.726Z"
      },
      {
        "duration": 1301,
        "start_time": "2021-11-03T10:37:54.739Z"
      },
      {
        "duration": 5,
        "start_time": "2021-11-03T10:37:56.042Z"
      },
      {
        "duration": 18702,
        "start_time": "2021-11-03T10:37:56.049Z"
      },
      {
        "duration": 6,
        "start_time": "2021-11-03T10:38:14.754Z"
      },
      {
        "duration": 18822,
        "start_time": "2021-11-03T10:38:14.767Z"
      },
      {
        "duration": 34,
        "start_time": "2021-11-03T10:38:33.592Z"
      },
      {
        "duration": 14,
        "start_time": "2021-11-03T10:38:33.628Z"
      },
      {
        "duration": 42,
        "start_time": "2021-11-03T10:38:33.645Z"
      },
      {
        "duration": 732,
        "start_time": "2021-11-03T10:38:33.689Z"
      },
      {
        "duration": 11,
        "start_time": "2021-11-03T10:38:34.424Z"
      },
      {
        "duration": 8,
        "start_time": "2021-11-03T10:38:34.437Z"
      },
      {
        "duration": 37,
        "start_time": "2021-11-03T10:38:34.447Z"
      },
      {
        "duration": 744,
        "start_time": "2021-11-03T10:38:34.486Z"
      },
      {
        "duration": 10,
        "start_time": "2021-11-03T10:38:35.233Z"
      },
      {
        "duration": 57,
        "start_time": "2021-11-03T10:38:35.245Z"
      },
      {
        "duration": 8,
        "start_time": "2021-11-03T10:38:35.305Z"
      },
      {
        "duration": 398,
        "start_time": "2021-11-03T10:38:35.316Z"
      },
      {
        "duration": 12,
        "start_time": "2021-11-03T10:38:35.717Z"
      },
      {
        "duration": 500,
        "start_time": "2021-11-03T10:38:35.731Z"
      },
      {
        "duration": 11,
        "start_time": "2021-11-03T10:38:36.233Z"
      },
      {
        "duration": 8,
        "start_time": "2021-11-03T10:38:36.247Z"
      },
      {
        "duration": 2208,
        "start_time": "2021-11-03T10:38:36.258Z"
      },
      {
        "duration": 17,
        "start_time": "2021-11-03T10:38:38.469Z"
      },
      {
        "duration": 40,
        "start_time": "2021-11-03T10:38:38.488Z"
      },
      {
        "duration": 11,
        "start_time": "2021-11-03T10:38:38.530Z"
      },
      {
        "duration": 64,
        "start_time": "2021-11-03T10:38:38.543Z"
      },
      {
        "duration": 43,
        "start_time": "2021-11-03T10:39:19.439Z"
      },
      {
        "duration": 1148,
        "start_time": "2021-11-03T10:49:33.639Z"
      },
      {
        "duration": 723,
        "start_time": "2021-11-03T10:50:01.444Z"
      },
      {
        "duration": 2025,
        "start_time": "2021-11-03T10:50:38.211Z"
      },
      {
        "duration": 134,
        "start_time": "2021-11-03T10:52:54.025Z"
      },
      {
        "duration": 16,
        "start_time": "2021-11-03T10:53:08.771Z"
      },
      {
        "duration": 11,
        "start_time": "2021-11-03T10:53:46.623Z"
      },
      {
        "duration": 15,
        "start_time": "2021-11-03T10:53:55.679Z"
      },
      {
        "duration": 9,
        "start_time": "2021-11-03T11:00:21.339Z"
      },
      {
        "duration": 12,
        "start_time": "2021-11-03T11:01:39.097Z"
      },
      {
        "duration": 10,
        "start_time": "2021-11-03T11:01:44.195Z"
      },
      {
        "duration": 10,
        "start_time": "2021-11-03T11:02:42.799Z"
      },
      {
        "duration": 11,
        "start_time": "2021-11-03T11:02:49.581Z"
      },
      {
        "duration": 11,
        "start_time": "2021-11-03T11:02:55.951Z"
      },
      {
        "duration": 33,
        "start_time": "2021-11-03T11:18:56.641Z"
      },
      {
        "duration": 413,
        "start_time": "2021-11-03T11:19:19.412Z"
      },
      {
        "duration": 313,
        "start_time": "2021-11-03T11:19:35.652Z"
      },
      {
        "duration": 306,
        "start_time": "2021-11-03T11:19:59.097Z"
      },
      {
        "duration": 290,
        "start_time": "2021-11-03T11:20:09.100Z"
      },
      {
        "duration": 304,
        "start_time": "2021-11-03T11:20:40.972Z"
      },
      {
        "duration": 285,
        "start_time": "2021-11-03T11:20:52.765Z"
      },
      {
        "duration": 277,
        "start_time": "2021-11-03T11:21:06.262Z"
      },
      {
        "duration": 7,
        "start_time": "2021-11-03T11:21:21.548Z"
      },
      {
        "duration": 303,
        "start_time": "2021-11-03T11:21:40.098Z"
      },
      {
        "duration": 8,
        "start_time": "2021-11-03T11:21:56.387Z"
      },
      {
        "duration": 7,
        "start_time": "2021-11-03T11:22:33.195Z"
      },
      {
        "duration": 1284,
        "start_time": "2021-11-03T11:23:30.729Z"
      },
      {
        "duration": 8,
        "start_time": "2021-11-03T11:24:43.548Z"
      },
      {
        "duration": 10,
        "start_time": "2021-11-03T11:25:52.350Z"
      },
      {
        "duration": 33,
        "start_time": "2021-11-03T11:27:26.432Z"
      },
      {
        "duration": 479,
        "start_time": "2021-11-03T11:28:44.729Z"
      },
      {
        "duration": 302,
        "start_time": "2021-11-03T11:29:15.101Z"
      },
      {
        "duration": 36,
        "start_time": "2021-11-03T11:29:51.946Z"
      },
      {
        "duration": 7,
        "start_time": "2021-11-03T11:31:03.535Z"
      },
      {
        "duration": 717,
        "start_time": "2021-11-03T11:32:43.782Z"
      },
      {
        "duration": 785,
        "start_time": "2021-11-03T11:33:04.532Z"
      },
      {
        "duration": 11,
        "start_time": "2021-11-03T11:34:41.548Z"
      },
      {
        "duration": 12,
        "start_time": "2021-11-03T11:35:20.813Z"
      },
      {
        "duration": 14,
        "start_time": "2021-11-03T11:35:32.528Z"
      },
      {
        "duration": 12,
        "start_time": "2021-11-03T11:35:51.513Z"
      },
      {
        "duration": 12,
        "start_time": "2021-11-03T11:36:02.414Z"
      },
      {
        "duration": 9,
        "start_time": "2021-11-03T11:36:08.183Z"
      },
      {
        "duration": 12,
        "start_time": "2021-11-03T11:38:02.686Z"
      },
      {
        "duration": 11,
        "start_time": "2021-11-03T11:39:50.528Z"
      },
      {
        "duration": 12,
        "start_time": "2021-11-03T11:40:01.527Z"
      },
      {
        "duration": 17,
        "start_time": "2021-11-03T11:40:13.902Z"
      },
      {
        "duration": 12,
        "start_time": "2021-11-03T11:40:17.371Z"
      },
      {
        "duration": 12,
        "start_time": "2021-11-03T11:40:26.449Z"
      },
      {
        "duration": 11,
        "start_time": "2021-11-03T11:40:37.758Z"
      },
      {
        "duration": 645,
        "start_time": "2021-11-03T11:41:42.131Z"
      },
      {
        "duration": 919,
        "start_time": "2021-11-03T11:41:46.737Z"
      },
      {
        "duration": 779,
        "start_time": "2021-11-03T11:41:58.833Z"
      },
      {
        "duration": 823,
        "start_time": "2021-11-03T11:42:08.362Z"
      },
      {
        "duration": 16,
        "start_time": "2021-11-03T11:43:07.607Z"
      },
      {
        "duration": 15,
        "start_time": "2021-11-03T11:43:16.264Z"
      },
      {
        "duration": 15,
        "start_time": "2021-11-03T11:43:23.529Z"
      },
      {
        "duration": 15,
        "start_time": "2021-11-03T11:43:29.725Z"
      },
      {
        "duration": 16,
        "start_time": "2021-11-03T11:43:39.200Z"
      },
      {
        "duration": 841,
        "start_time": "2021-11-03T11:44:59.681Z"
      },
      {
        "duration": 808,
        "start_time": "2021-11-03T11:45:16.093Z"
      },
      {
        "duration": 837,
        "start_time": "2021-11-03T11:45:52.009Z"
      },
      {
        "duration": 866,
        "start_time": "2021-11-03T11:46:05.889Z"
      },
      {
        "duration": 834,
        "start_time": "2021-11-03T11:46:56.531Z"
      },
      {
        "duration": 17,
        "start_time": "2021-11-03T11:47:27.696Z"
      },
      {
        "duration": 103,
        "start_time": "2021-11-03T11:53:59.239Z"
      },
      {
        "duration": 849,
        "start_time": "2021-11-03T11:54:43.586Z"
      },
      {
        "duration": 18,
        "start_time": "2021-11-03T11:54:50.144Z"
      },
      {
        "duration": 839,
        "start_time": "2021-11-03T11:57:13.068Z"
      },
      {
        "duration": 8,
        "start_time": "2021-11-03T11:58:30.935Z"
      },
      {
        "duration": 823,
        "start_time": "2021-11-03T11:59:16.062Z"
      },
      {
        "duration": 903,
        "start_time": "2021-11-03T11:59:28.927Z"
      },
      {
        "duration": 17,
        "start_time": "2021-11-03T12:00:12.676Z"
      },
      {
        "duration": 16,
        "start_time": "2021-11-03T12:00:25.593Z"
      },
      {
        "duration": 18,
        "start_time": "2021-11-03T12:00:31.007Z"
      },
      {
        "duration": 308,
        "start_time": "2021-11-03T12:09:42.323Z"
      },
      {
        "duration": 327,
        "start_time": "2021-11-03T12:09:55.313Z"
      },
      {
        "duration": 38,
        "start_time": "2021-11-03T12:10:36.839Z"
      },
      {
        "duration": 40,
        "start_time": "2021-11-03T12:11:01.665Z"
      },
      {
        "duration": 7,
        "start_time": "2021-11-03T12:19:20.812Z"
      },
      {
        "duration": 821,
        "start_time": "2021-11-03T12:20:26.377Z"
      },
      {
        "duration": 821,
        "start_time": "2021-11-03T12:21:46.896Z"
      },
      {
        "duration": 731,
        "start_time": "2021-11-03T12:25:53.232Z"
      },
      {
        "duration": 18,
        "start_time": "2021-11-03T12:26:59.907Z"
      },
      {
        "duration": 618,
        "start_time": "2021-11-03T12:31:39.076Z"
      },
      {
        "duration": 24,
        "start_time": "2021-11-03T12:31:52.551Z"
      },
      {
        "duration": 18,
        "start_time": "2021-11-03T12:32:16.988Z"
      },
      {
        "duration": 24,
        "start_time": "2021-11-03T12:34:23.583Z"
      },
      {
        "duration": 23,
        "start_time": "2021-11-03T12:34:31.019Z"
      },
      {
        "duration": 15,
        "start_time": "2021-11-03T12:34:43.416Z"
      },
      {
        "duration": 34,
        "start_time": "2021-11-03T12:41:44.714Z"
      },
      {
        "duration": 806,
        "start_time": "2021-11-03T12:42:02.923Z"
      },
      {
        "duration": 832,
        "start_time": "2021-11-03T12:43:21.646Z"
      },
      {
        "duration": 858,
        "start_time": "2021-11-03T12:43:44.483Z"
      },
      {
        "duration": 19,
        "start_time": "2021-11-03T12:47:24.376Z"
      },
      {
        "duration": 7,
        "start_time": "2021-11-03T12:47:37.503Z"
      },
      {
        "duration": 8,
        "start_time": "2021-11-03T12:50:59.947Z"
      },
      {
        "duration": 45,
        "start_time": "2021-11-03T12:56:00.142Z"
      },
      {
        "duration": 355,
        "start_time": "2021-11-03T12:56:46.304Z"
      },
      {
        "duration": 18,
        "start_time": "2021-11-03T13:05:26.480Z"
      },
      {
        "duration": 20,
        "start_time": "2021-11-03T13:07:23.588Z"
      },
      {
        "duration": 15,
        "start_time": "2021-11-03T13:08:12.961Z"
      },
      {
        "duration": 9,
        "start_time": "2021-11-03T13:08:39.140Z"
      },
      {
        "duration": 9,
        "start_time": "2021-11-03T13:11:25.855Z"
      },
      {
        "duration": 6,
        "start_time": "2021-11-03T13:11:27.423Z"
      },
      {
        "duration": 376,
        "start_time": "2021-11-03T13:12:06.771Z"
      },
      {
        "duration": 283,
        "start_time": "2021-11-03T13:12:17.159Z"
      },
      {
        "duration": 311,
        "start_time": "2021-11-03T13:12:25.780Z"
      },
      {
        "duration": 5,
        "start_time": "2021-11-03T13:12:30.902Z"
      },
      {
        "duration": 7,
        "start_time": "2021-11-03T13:12:41.047Z"
      },
      {
        "duration": 313,
        "start_time": "2021-11-03T13:13:34.942Z"
      },
      {
        "duration": 4,
        "start_time": "2021-11-03T13:13:41.528Z"
      },
      {
        "duration": 10,
        "start_time": "2021-11-03T13:13:49.038Z"
      },
      {
        "duration": 10,
        "start_time": "2021-11-03T13:14:52.397Z"
      },
      {
        "duration": 12,
        "start_time": "2021-11-03T13:15:01.781Z"
      },
      {
        "duration": 20,
        "start_time": "2021-11-03T13:17:37.672Z"
      },
      {
        "duration": 16,
        "start_time": "2021-11-03T13:18:06.993Z"
      },
      {
        "duration": 11,
        "start_time": "2021-11-03T13:18:47.056Z"
      },
      {
        "duration": 1327,
        "start_time": "2021-11-03T13:19:03.136Z"
      },
      {
        "duration": 38,
        "start_time": "2021-11-03T13:19:04.465Z"
      },
      {
        "duration": 5,
        "start_time": "2021-11-03T13:19:04.506Z"
      },
      {
        "duration": 9,
        "start_time": "2021-11-03T13:19:04.514Z"
      },
      {
        "duration": 69,
        "start_time": "2021-11-03T13:19:04.525Z"
      },
      {
        "duration": 15,
        "start_time": "2021-11-03T13:19:04.596Z"
      },
      {
        "duration": 69,
        "start_time": "2021-11-03T13:19:04.613Z"
      },
      {
        "duration": 25,
        "start_time": "2021-11-03T13:19:04.686Z"
      },
      {
        "duration": 20,
        "start_time": "2021-11-03T13:19:04.717Z"
      },
      {
        "duration": 58,
        "start_time": "2021-11-03T13:19:04.741Z"
      },
      {
        "duration": 11,
        "start_time": "2021-11-03T13:19:04.802Z"
      },
      {
        "duration": 10,
        "start_time": "2021-11-03T13:19:04.817Z"
      },
      {
        "duration": 14,
        "start_time": "2021-11-03T13:19:04.831Z"
      },
      {
        "duration": 16,
        "start_time": "2021-11-03T13:19:04.884Z"
      },
      {
        "duration": 12,
        "start_time": "2021-11-03T13:19:04.903Z"
      },
      {
        "duration": 9,
        "start_time": "2021-11-03T13:19:04.918Z"
      },
      {
        "duration": 11,
        "start_time": "2021-11-03T13:19:04.930Z"
      },
      {
        "duration": 43,
        "start_time": "2021-11-03T13:19:04.943Z"
      },
      {
        "duration": 1358,
        "start_time": "2021-11-03T13:19:04.990Z"
      },
      {
        "duration": 6,
        "start_time": "2021-11-03T13:19:06.350Z"
      },
      {
        "duration": 19076,
        "start_time": "2021-11-03T13:19:06.359Z"
      },
      {
        "duration": 5,
        "start_time": "2021-11-03T13:19:25.438Z"
      },
      {
        "duration": 27966,
        "start_time": "2021-11-03T13:19:25.456Z"
      },
      {
        "duration": 34,
        "start_time": "2021-11-03T13:19:53.425Z"
      },
      {
        "duration": 30,
        "start_time": "2021-11-03T13:19:53.462Z"
      },
      {
        "duration": 16,
        "start_time": "2021-11-03T13:19:53.495Z"
      },
      {
        "duration": 763,
        "start_time": "2021-11-03T13:19:53.514Z"
      },
      {
        "duration": 13,
        "start_time": "2021-11-03T13:19:54.283Z"
      },
      {
        "duration": 12,
        "start_time": "2021-11-03T13:19:54.299Z"
      },
      {
        "duration": 31,
        "start_time": "2021-11-03T13:19:54.314Z"
      },
      {
        "duration": 695,
        "start_time": "2021-11-03T13:19:54.347Z"
      },
      {
        "duration": 12,
        "start_time": "2021-11-03T13:19:55.045Z"
      },
      {
        "duration": 52,
        "start_time": "2021-11-03T13:19:55.060Z"
      },
      {
        "duration": 10,
        "start_time": "2021-11-03T13:19:55.114Z"
      },
      {
        "duration": 417,
        "start_time": "2021-11-03T13:19:55.126Z"
      },
      {
        "duration": 27,
        "start_time": "2021-11-03T13:19:55.545Z"
      },
      {
        "duration": 502,
        "start_time": "2021-11-03T13:19:55.574Z"
      },
      {
        "duration": 17,
        "start_time": "2021-11-03T13:19:56.078Z"
      },
      {
        "duration": 11,
        "start_time": "2021-11-03T13:19:56.098Z"
      },
      {
        "duration": 2117,
        "start_time": "2021-11-03T13:19:56.111Z"
      },
      {
        "duration": 9,
        "start_time": "2021-11-03T13:19:58.231Z"
      },
      {
        "duration": 18,
        "start_time": "2021-11-03T13:19:58.242Z"
      },
      {
        "duration": 61,
        "start_time": "2021-11-03T13:19:58.262Z"
      },
      {
        "duration": 842,
        "start_time": "2021-11-03T13:19:58.326Z"
      },
      {
        "duration": 893,
        "start_time": "2021-11-03T13:19:59.183Z"
      },
      {
        "duration": 20,
        "start_time": "2021-11-03T13:20:00.083Z"
      },
      {
        "duration": 872,
        "start_time": "2021-11-03T13:20:00.106Z"
      },
      {
        "duration": 855,
        "start_time": "2021-11-03T13:20:00.980Z"
      },
      {
        "duration": 19,
        "start_time": "2021-11-03T13:20:01.837Z"
      },
      {
        "duration": 60,
        "start_time": "2021-11-03T13:20:01.859Z"
      },
      {
        "duration": 7,
        "start_time": "2021-11-03T13:20:01.922Z"
      },
      {
        "duration": 988,
        "start_time": "2021-11-03T13:20:01.931Z"
      },
      {
        "duration": 779,
        "start_time": "2021-11-03T13:20:02.921Z"
      },
      {
        "duration": 17,
        "start_time": "2021-11-03T13:20:03.703Z"
      },
      {
        "duration": 840,
        "start_time": "2021-11-03T13:20:03.723Z"
      },
      {
        "duration": 853,
        "start_time": "2021-11-03T13:20:04.566Z"
      },
      {
        "duration": 823,
        "start_time": "2021-11-03T13:20:05.422Z"
      },
      {
        "duration": 8,
        "start_time": "2021-11-03T13:20:06.247Z"
      },
      {
        "duration": 36,
        "start_time": "2021-11-03T13:20:06.259Z"
      },
      {
        "duration": 1531,
        "start_time": "2021-11-03T13:20:06.299Z"
      },
      {
        "duration": 14,
        "start_time": "2021-11-03T13:23:17.511Z"
      },
      {
        "duration": 10,
        "start_time": "2021-11-03T13:23:23.736Z"
      },
      {
        "duration": 12,
        "start_time": "2021-11-03T13:23:46.910Z"
      },
      {
        "duration": 9,
        "start_time": "2021-11-03T13:24:08.399Z"
      },
      {
        "duration": 12,
        "start_time": "2021-11-03T13:24:09.280Z"
      },
      {
        "duration": 1179,
        "start_time": "2021-11-03T13:25:07.510Z"
      },
      {
        "duration": 9,
        "start_time": "2021-11-03T13:25:20.997Z"
      },
      {
        "duration": 20,
        "start_time": "2021-11-03T13:25:27.989Z"
      },
      {
        "duration": 1195,
        "start_time": "2021-11-03T13:25:39.413Z"
      },
      {
        "duration": 1288,
        "start_time": "2021-11-03T13:25:57.490Z"
      },
      {
        "duration": 10,
        "start_time": "2021-11-03T13:26:09.908Z"
      },
      {
        "duration": 14,
        "start_time": "2021-11-03T13:26:13.552Z"
      },
      {
        "duration": 10,
        "start_time": "2021-11-03T13:33:33.916Z"
      },
      {
        "duration": 14,
        "start_time": "2021-11-03T13:33:37.093Z"
      },
      {
        "duration": 1237,
        "start_time": "2021-11-03T13:33:47.284Z"
      },
      {
        "duration": 10,
        "start_time": "2021-11-03T13:33:55.330Z"
      },
      {
        "duration": 13,
        "start_time": "2021-11-03T13:33:57.133Z"
      },
      {
        "duration": 9,
        "start_time": "2021-11-03T13:34:38.945Z"
      },
      {
        "duration": 12,
        "start_time": "2021-11-03T13:34:39.739Z"
      },
      {
        "duration": 1135,
        "start_time": "2021-11-03T13:34:47.688Z"
      },
      {
        "duration": 11,
        "start_time": "2021-11-03T13:34:51.244Z"
      },
      {
        "duration": 13,
        "start_time": "2021-11-03T13:34:51.948Z"
      },
      {
        "duration": 338,
        "start_time": "2021-11-03T13:37:19.317Z"
      },
      {
        "duration": 10,
        "start_time": "2021-11-03T13:39:15.858Z"
      },
      {
        "duration": 7,
        "start_time": "2021-11-03T13:39:25.947Z"
      },
      {
        "duration": 309,
        "start_time": "2021-11-03T13:44:03.199Z"
      },
      {
        "duration": 293,
        "start_time": "2021-11-03T13:44:15.496Z"
      },
      {
        "duration": 25,
        "start_time": "2021-11-03T13:45:13.386Z"
      },
      {
        "duration": 9,
        "start_time": "2021-11-03T13:45:18.433Z"
      },
      {
        "duration": 326,
        "start_time": "2021-11-03T13:46:26.289Z"
      },
      {
        "duration": 316,
        "start_time": "2021-11-03T13:49:10.008Z"
      },
      {
        "duration": 397,
        "start_time": "2021-11-03T13:54:13.605Z"
      },
      {
        "duration": 320,
        "start_time": "2021-11-03T13:55:19.190Z"
      },
      {
        "duration": 8468,
        "start_time": "2021-11-03T13:55:26.950Z"
      },
      {
        "duration": 21,
        "start_time": "2021-11-03T13:55:35.400Z"
      },
      {
        "duration": 8,
        "start_time": "2021-11-03T13:56:21.515Z"
      },
      {
        "duration": 6,
        "start_time": "2021-11-03T13:56:22.991Z"
      },
      {
        "duration": 8,
        "start_time": "2021-11-03T13:56:48.487Z"
      },
      {
        "duration": 6,
        "start_time": "2021-11-03T13:56:49.907Z"
      },
      {
        "duration": 8,
        "start_time": "2021-11-03T13:57:47.223Z"
      },
      {
        "duration": 7,
        "start_time": "2021-11-03T13:57:47.729Z"
      },
      {
        "duration": 19,
        "start_time": "2021-11-03T13:59:58.544Z"
      },
      {
        "duration": 634,
        "start_time": "2021-11-03T14:00:18.801Z"
      },
      {
        "duration": 115,
        "start_time": "2021-11-03T14:01:52.626Z"
      },
      {
        "duration": 28,
        "start_time": "2021-11-03T14:02:02.594Z"
      },
      {
        "duration": 28,
        "start_time": "2021-11-03T14:02:56.021Z"
      },
      {
        "duration": 9,
        "start_time": "2021-11-03T14:03:42.499Z"
      },
      {
        "duration": 6,
        "start_time": "2021-11-03T14:03:42.929Z"
      },
      {
        "duration": 29,
        "start_time": "2021-11-03T14:03:43.518Z"
      },
      {
        "duration": 11,
        "start_time": "2021-11-03T14:10:53.136Z"
      },
      {
        "duration": 16,
        "start_time": "2021-11-03T14:11:40.018Z"
      },
      {
        "duration": 18,
        "start_time": "2021-11-03T14:12:23.378Z"
      },
      {
        "duration": 15,
        "start_time": "2021-11-03T14:12:24.441Z"
      },
      {
        "duration": 8,
        "start_time": "2021-11-03T14:13:15.260Z"
      },
      {
        "duration": 15,
        "start_time": "2021-11-03T14:13:32.374Z"
      },
      {
        "duration": 7,
        "start_time": "2021-11-03T14:13:54.254Z"
      },
      {
        "duration": 17,
        "start_time": "2021-11-03T14:13:55.480Z"
      },
      {
        "duration": 12,
        "start_time": "2021-11-03T14:15:15.359Z"
      },
      {
        "duration": 16,
        "start_time": "2021-11-03T14:15:18.989Z"
      },
      {
        "duration": 10,
        "start_time": "2021-11-03T14:15:33.225Z"
      },
      {
        "duration": 12,
        "start_time": "2021-11-03T14:15:34.115Z"
      },
      {
        "duration": 16,
        "start_time": "2021-11-03T14:15:35.145Z"
      },
      {
        "duration": 99,
        "start_time": "2021-11-03T14:17:29.442Z"
      },
      {
        "duration": 37,
        "start_time": "2021-11-03T14:18:15.970Z"
      },
      {
        "duration": 6,
        "start_time": "2021-11-03T14:19:29.440Z"
      },
      {
        "duration": 36,
        "start_time": "2021-11-03T14:19:31.000Z"
      },
      {
        "duration": 316,
        "start_time": "2021-11-03T14:19:49.525Z"
      },
      {
        "duration": 5,
        "start_time": "2021-11-03T14:20:29.589Z"
      },
      {
        "duration": 36,
        "start_time": "2021-11-03T14:20:30.602Z"
      },
      {
        "duration": 7,
        "start_time": "2021-11-03T14:21:31.869Z"
      },
      {
        "duration": 38,
        "start_time": "2021-11-03T14:21:33.375Z"
      },
      {
        "duration": 919,
        "start_time": "2021-11-03T14:21:55.836Z"
      },
      {
        "duration": 41,
        "start_time": "2021-11-03T14:21:56.758Z"
      },
      {
        "duration": 6,
        "start_time": "2021-11-03T14:21:56.802Z"
      },
      {
        "duration": 10,
        "start_time": "2021-11-03T14:21:56.811Z"
      },
      {
        "duration": 40,
        "start_time": "2021-11-03T14:21:56.823Z"
      },
      {
        "duration": 16,
        "start_time": "2021-11-03T14:21:56.882Z"
      },
      {
        "duration": 44,
        "start_time": "2021-11-03T14:21:56.901Z"
      },
      {
        "duration": 33,
        "start_time": "2021-11-03T14:21:56.982Z"
      },
      {
        "duration": 13,
        "start_time": "2021-11-03T14:21:57.019Z"
      },
      {
        "duration": 11,
        "start_time": "2021-11-03T14:21:57.034Z"
      },
      {
        "duration": 38,
        "start_time": "2021-11-03T14:21:57.047Z"
      },
      {
        "duration": 7,
        "start_time": "2021-11-03T14:21:57.087Z"
      },
      {
        "duration": 9,
        "start_time": "2021-11-03T14:21:57.096Z"
      },
      {
        "duration": 10,
        "start_time": "2021-11-03T14:21:57.107Z"
      },
      {
        "duration": 7,
        "start_time": "2021-11-03T14:21:57.119Z"
      },
      {
        "duration": 8,
        "start_time": "2021-11-03T14:21:57.128Z"
      },
      {
        "duration": 49,
        "start_time": "2021-11-03T14:21:57.138Z"
      },
      {
        "duration": 5,
        "start_time": "2021-11-03T14:21:57.189Z"
      },
      {
        "duration": 1345,
        "start_time": "2021-11-03T14:21:57.196Z"
      },
      {
        "duration": 4,
        "start_time": "2021-11-03T14:21:58.544Z"
      },
      {
        "duration": 18502,
        "start_time": "2021-11-03T14:21:58.551Z"
      },
      {
        "duration": 6,
        "start_time": "2021-11-03T14:22:17.056Z"
      },
      {
        "duration": 19118,
        "start_time": "2021-11-03T14:22:17.084Z"
      },
      {
        "duration": 37,
        "start_time": "2021-11-03T14:22:36.206Z"
      },
      {
        "duration": 40,
        "start_time": "2021-11-03T14:22:36.245Z"
      },
      {
        "duration": 12,
        "start_time": "2021-11-03T14:22:36.288Z"
      },
      {
        "duration": 1357,
        "start_time": "2021-11-03T14:22:36.304Z"
      },
      {
        "duration": 28,
        "start_time": "2021-11-03T14:22:37.664Z"
      },
      {
        "duration": 8,
        "start_time": "2021-11-03T14:22:37.695Z"
      },
      {
        "duration": 9,
        "start_time": "2021-11-03T14:22:37.706Z"
      },
      {
        "duration": 682,
        "start_time": "2021-11-03T14:22:37.717Z"
      },
      {
        "duration": 13,
        "start_time": "2021-11-03T14:22:38.402Z"
      },
      {
        "duration": 95,
        "start_time": "2021-11-03T14:22:38.417Z"
      },
      {
        "duration": 13,
        "start_time": "2021-11-03T14:22:38.516Z"
      },
      {
        "duration": 711,
        "start_time": "2021-11-03T14:22:38.533Z"
      },
      {
        "duration": 34,
        "start_time": "2021-11-03T14:22:39.248Z"
      },
      {
        "duration": 926,
        "start_time": "2021-11-03T14:22:39.285Z"
      },
      {
        "duration": 17,
        "start_time": "2021-11-03T14:22:40.214Z"
      },
      {
        "duration": 11,
        "start_time": "2021-11-03T14:22:40.234Z"
      },
      {
        "duration": 2155,
        "start_time": "2021-11-03T14:22:40.249Z"
      },
      {
        "duration": 10,
        "start_time": "2021-11-03T14:22:42.407Z"
      },
      {
        "duration": 10,
        "start_time": "2021-11-03T14:22:42.420Z"
      },
      {
        "duration": 81,
        "start_time": "2021-11-03T14:22:42.433Z"
      },
      {
        "duration": 818,
        "start_time": "2021-11-03T14:22:42.517Z"
      },
      {
        "duration": 880,
        "start_time": "2021-11-03T14:22:43.338Z"
      },
      {
        "duration": 17,
        "start_time": "2021-11-03T14:22:44.221Z"
      },
      {
        "duration": 874,
        "start_time": "2021-11-03T14:22:44.241Z"
      },
      {
        "duration": 811,
        "start_time": "2021-11-03T14:22:45.118Z"
      },
      {
        "duration": 17,
        "start_time": "2021-11-03T14:22:45.932Z"
      },
      {
        "duration": 57,
        "start_time": "2021-11-03T14:22:45.951Z"
      },
      {
        "duration": 9,
        "start_time": "2021-11-03T14:22:46.011Z"
      },
      {
        "duration": 1037,
        "start_time": "2021-11-03T14:22:46.023Z"
      },
      {
        "duration": 800,
        "start_time": "2021-11-03T14:22:47.062Z"
      },
      {
        "duration": 28,
        "start_time": "2021-11-03T14:22:47.865Z"
      },
      {
        "duration": 933,
        "start_time": "2021-11-03T14:22:47.896Z"
      },
      {
        "duration": 813,
        "start_time": "2021-11-03T14:22:48.831Z"
      },
      {
        "duration": 853,
        "start_time": "2021-11-03T14:22:49.647Z"
      },
      {
        "duration": 45,
        "start_time": "2021-11-03T14:22:50.511Z"
      },
      {
        "duration": 10,
        "start_time": "2021-11-03T14:22:50.569Z"
      },
      {
        "duration": 11,
        "start_time": "2021-11-03T14:22:50.582Z"
      },
      {
        "duration": 28,
        "start_time": "2021-11-03T14:22:50.596Z"
      },
      {
        "duration": 10,
        "start_time": "2021-11-03T14:22:50.626Z"
      },
      {
        "duration": 43,
        "start_time": "2021-11-03T14:22:50.639Z"
      },
      {
        "duration": 7,
        "start_time": "2021-11-03T14:22:50.685Z"
      },
      {
        "duration": 44,
        "start_time": "2021-11-03T14:22:50.695Z"
      },
      {
        "duration": 527,
        "start_time": "2021-11-03T14:26:12.574Z"
      },
      {
        "duration": 260,
        "start_time": "2021-11-03T14:26:23.914Z"
      },
      {
        "duration": 288,
        "start_time": "2021-11-03T14:27:32.518Z"
      },
      {
        "duration": 12,
        "start_time": "2021-11-03T14:28:21.105Z"
      },
      {
        "duration": 10,
        "start_time": "2021-11-03T14:28:33.361Z"
      },
      {
        "duration": 266,
        "start_time": "2021-11-03T14:29:12.406Z"
      },
      {
        "duration": 14,
        "start_time": "2021-11-03T14:30:02.933Z"
      },
      {
        "duration": 16,
        "start_time": "2021-11-03T14:30:03.382Z"
      },
      {
        "duration": 8,
        "start_time": "2021-11-03T14:30:03.975Z"
      },
      {
        "duration": 34,
        "start_time": "2021-11-03T14:30:04.546Z"
      },
      {
        "duration": 261,
        "start_time": "2021-11-03T14:30:05.895Z"
      },
      {
        "duration": 537,
        "start_time": "2021-11-03T14:31:47.561Z"
      },
      {
        "duration": 308,
        "start_time": "2021-11-03T14:33:24.168Z"
      },
      {
        "duration": 265,
        "start_time": "2021-11-03T14:33:42.162Z"
      },
      {
        "duration": 380,
        "start_time": "2021-11-03T14:33:54.537Z"
      },
      {
        "duration": 379,
        "start_time": "2021-11-03T14:34:28.065Z"
      },
      {
        "duration": 383,
        "start_time": "2021-11-03T14:35:08.482Z"
      },
      {
        "duration": 267,
        "start_time": "2021-11-03T14:35:42.196Z"
      },
      {
        "duration": 274,
        "start_time": "2021-11-03T14:38:15.625Z"
      },
      {
        "duration": 264,
        "start_time": "2021-11-03T14:38:33.376Z"
      },
      {
        "duration": 407,
        "start_time": "2021-11-03T14:39:14.637Z"
      },
      {
        "duration": 336,
        "start_time": "2021-11-03T14:39:24.887Z"
      },
      {
        "duration": 349,
        "start_time": "2021-11-03T14:40:09.026Z"
      },
      {
        "duration": 9,
        "start_time": "2021-11-03T14:40:29.398Z"
      },
      {
        "duration": 822,
        "start_time": "2021-11-03T14:41:51.519Z"
      },
      {
        "duration": 11,
        "start_time": "2021-11-03T14:43:34.379Z"
      },
      {
        "duration": 12,
        "start_time": "2021-11-03T14:45:58.238Z"
      },
      {
        "duration": 9,
        "start_time": "2021-11-03T14:46:10.111Z"
      },
      {
        "duration": 9,
        "start_time": "2021-11-03T14:46:19.052Z"
      },
      {
        "duration": 8,
        "start_time": "2021-11-03T14:46:32.671Z"
      },
      {
        "duration": 9,
        "start_time": "2021-11-03T14:46:38.863Z"
      },
      {
        "duration": 8,
        "start_time": "2021-11-03T14:46:48.156Z"
      },
      {
        "duration": 1640,
        "start_time": "2021-11-03T14:48:04.198Z"
      },
      {
        "duration": 289,
        "start_time": "2021-11-03T14:48:15.893Z"
      },
      {
        "duration": 14,
        "start_time": "2021-11-03T14:49:54.383Z"
      },
      {
        "duration": 11,
        "start_time": "2021-11-03T14:50:20.085Z"
      },
      {
        "duration": 295,
        "start_time": "2021-11-03T14:50:27.075Z"
      },
      {
        "duration": 10,
        "start_time": "2021-11-03T14:50:34.685Z"
      },
      {
        "duration": 10,
        "start_time": "2021-11-03T14:50:44.277Z"
      },
      {
        "duration": 12,
        "start_time": "2021-11-03T14:51:28.474Z"
      },
      {
        "duration": 17,
        "start_time": "2021-11-03T14:51:42.253Z"
      },
      {
        "duration": 19,
        "start_time": "2021-11-03T14:52:06.263Z"
      },
      {
        "duration": 17,
        "start_time": "2021-11-03T14:52:23.123Z"
      },
      {
        "duration": 13,
        "start_time": "2021-11-03T14:52:53.707Z"
      },
      {
        "duration": 9,
        "start_time": "2021-11-03T14:53:00.034Z"
      },
      {
        "duration": 8,
        "start_time": "2021-11-03T14:53:31.209Z"
      },
      {
        "duration": 8,
        "start_time": "2021-11-03T14:53:55.783Z"
      },
      {
        "duration": 9,
        "start_time": "2021-11-03T14:54:08.828Z"
      },
      {
        "duration": 8,
        "start_time": "2021-11-03T14:54:17.045Z"
      },
      {
        "duration": 9,
        "start_time": "2021-11-03T14:54:23.968Z"
      },
      {
        "duration": 9,
        "start_time": "2021-11-03T14:54:29.879Z"
      },
      {
        "duration": 12,
        "start_time": "2021-11-03T14:54:37.331Z"
      },
      {
        "duration": 349,
        "start_time": "2021-11-03T14:56:01.370Z"
      },
      {
        "duration": 501,
        "start_time": "2021-11-03T14:56:46.034Z"
      },
      {
        "duration": 318,
        "start_time": "2021-11-03T14:57:49.221Z"
      },
      {
        "duration": 2047,
        "start_time": "2021-11-03T14:58:01.545Z"
      },
      {
        "duration": 13,
        "start_time": "2021-11-03T15:04:07.036Z"
      },
      {
        "duration": 416,
        "start_time": "2021-11-03T15:07:32.568Z"
      },
      {
        "duration": 462,
        "start_time": "2021-11-03T15:07:55.613Z"
      },
      {
        "duration": 1021,
        "start_time": "2021-11-03T15:10:19.307Z"
      },
      {
        "duration": 101,
        "start_time": "2021-11-03T15:13:07.901Z"
      },
      {
        "duration": 951,
        "start_time": "2021-11-03T15:13:16.439Z"
      },
      {
        "duration": 33,
        "start_time": "2021-11-03T15:13:17.393Z"
      },
      {
        "duration": 6,
        "start_time": "2021-11-03T15:13:17.429Z"
      },
      {
        "duration": 17,
        "start_time": "2021-11-03T15:13:17.439Z"
      },
      {
        "duration": 67,
        "start_time": "2021-11-03T15:13:17.459Z"
      },
      {
        "duration": 19,
        "start_time": "2021-11-03T15:13:17.530Z"
      },
      {
        "duration": 64,
        "start_time": "2021-11-03T15:13:17.552Z"
      },
      {
        "duration": 26,
        "start_time": "2021-11-03T15:13:17.622Z"
      },
      {
        "duration": 39,
        "start_time": "2021-11-03T15:13:17.652Z"
      },
      {
        "duration": 15,
        "start_time": "2021-11-03T15:13:17.694Z"
      },
      {
        "duration": 8,
        "start_time": "2021-11-03T15:13:17.711Z"
      },
      {
        "duration": 14,
        "start_time": "2021-11-03T15:13:17.722Z"
      },
      {
        "duration": 45,
        "start_time": "2021-11-03T15:13:17.738Z"
      },
      {
        "duration": 7,
        "start_time": "2021-11-03T15:13:17.786Z"
      },
      {
        "duration": 9,
        "start_time": "2021-11-03T15:13:17.795Z"
      },
      {
        "duration": 9,
        "start_time": "2021-11-03T15:13:17.807Z"
      },
      {
        "duration": 11,
        "start_time": "2021-11-03T15:13:17.819Z"
      },
      {
        "duration": 54,
        "start_time": "2021-11-03T15:13:17.833Z"
      },
      {
        "duration": 1313,
        "start_time": "2021-11-03T15:13:17.890Z"
      },
      {
        "duration": 6,
        "start_time": "2021-11-03T15:13:19.205Z"
      },
      {
        "duration": 18578,
        "start_time": "2021-11-03T15:13:19.214Z"
      },
      {
        "duration": 5,
        "start_time": "2021-11-03T15:13:37.794Z"
      },
      {
        "duration": 19007,
        "start_time": "2021-11-03T15:13:37.805Z"
      },
      {
        "duration": 28,
        "start_time": "2021-11-03T15:13:56.816Z"
      },
      {
        "duration": 35,
        "start_time": "2021-11-03T15:13:56.847Z"
      },
      {
        "duration": 12,
        "start_time": "2021-11-03T15:13:56.885Z"
      },
      {
        "duration": 757,
        "start_time": "2021-11-03T15:13:56.900Z"
      },
      {
        "duration": 24,
        "start_time": "2021-11-03T15:13:57.660Z"
      },
      {
        "duration": 8,
        "start_time": "2021-11-03T15:13:57.686Z"
      },
      {
        "duration": 11,
        "start_time": "2021-11-03T15:13:57.697Z"
      },
      {
        "duration": 674,
        "start_time": "2021-11-03T15:13:57.711Z"
      },
      {
        "duration": 12,
        "start_time": "2021-11-03T15:13:58.387Z"
      },
      {
        "duration": 35,
        "start_time": "2021-11-03T15:13:58.401Z"
      },
      {
        "duration": 44,
        "start_time": "2021-11-03T15:13:58.438Z"
      },
      {
        "duration": 392,
        "start_time": "2021-11-03T15:13:58.484Z"
      },
      {
        "duration": 12,
        "start_time": "2021-11-03T15:13:58.882Z"
      },
      {
        "duration": 509,
        "start_time": "2021-11-03T15:13:58.896Z"
      },
      {
        "duration": 16,
        "start_time": "2021-11-03T15:13:59.407Z"
      },
      {
        "duration": 9,
        "start_time": "2021-11-03T15:13:59.425Z"
      },
      {
        "duration": 2067,
        "start_time": "2021-11-03T15:13:59.437Z"
      },
      {
        "duration": 11,
        "start_time": "2021-11-03T15:14:01.507Z"
      },
      {
        "duration": 10,
        "start_time": "2021-11-03T15:14:01.521Z"
      },
      {
        "duration": 81,
        "start_time": "2021-11-03T15:14:01.534Z"
      },
      {
        "duration": 812,
        "start_time": "2021-11-03T15:14:01.617Z"
      },
      {
        "duration": 940,
        "start_time": "2021-11-03T15:14:02.431Z"
      },
      {
        "duration": 24,
        "start_time": "2021-11-03T15:14:03.373Z"
      },
      {
        "duration": 840,
        "start_time": "2021-11-03T15:14:03.399Z"
      },
      {
        "duration": 850,
        "start_time": "2021-11-03T15:14:04.242Z"
      },
      {
        "duration": 18,
        "start_time": "2021-11-03T15:14:05.095Z"
      },
      {
        "duration": 35,
        "start_time": "2021-11-03T15:14:05.115Z"
      },
      {
        "duration": 8,
        "start_time": "2021-11-03T15:14:05.183Z"
      },
      {
        "duration": 916,
        "start_time": "2021-11-03T15:14:05.194Z"
      },
      {
        "duration": 773,
        "start_time": "2021-11-03T15:14:06.113Z"
      },
      {
        "duration": 16,
        "start_time": "2021-11-03T15:14:06.889Z"
      },
      {
        "duration": 829,
        "start_time": "2021-11-03T15:14:06.907Z"
      },
      {
        "duration": 829,
        "start_time": "2021-11-03T15:14:07.738Z"
      },
      {
        "duration": 838,
        "start_time": "2021-11-03T15:14:08.570Z"
      },
      {
        "duration": 7,
        "start_time": "2021-11-03T15:14:09.410Z"
      },
      {
        "duration": 10,
        "start_time": "2021-11-03T15:14:09.420Z"
      },
      {
        "duration": 6,
        "start_time": "2021-11-03T15:14:09.433Z"
      },
      {
        "duration": 59,
        "start_time": "2021-11-03T15:14:09.442Z"
      },
      {
        "duration": 10,
        "start_time": "2021-11-03T15:14:09.503Z"
      },
      {
        "duration": 15,
        "start_time": "2021-11-03T15:14:09.516Z"
      },
      {
        "duration": 7,
        "start_time": "2021-11-03T15:14:09.533Z"
      },
      {
        "duration": 63,
        "start_time": "2021-11-03T15:14:09.542Z"
      },
      {
        "duration": 317,
        "start_time": "2021-11-03T15:14:09.608Z"
      },
      {
        "duration": 10,
        "start_time": "2021-11-03T15:14:09.929Z"
      },
      {
        "duration": 34,
        "start_time": "2021-11-03T15:14:09.949Z"
      },
      {
        "duration": 9,
        "start_time": "2021-11-03T15:14:09.987Z"
      },
      {
        "duration": 730,
        "start_time": "2021-11-03T15:14:09.999Z"
      },
      {
        "duration": 714,
        "start_time": "2021-11-03T15:21:04.442Z"
      },
      {
        "duration": 743,
        "start_time": "2021-11-03T15:21:47.813Z"
      },
      {
        "duration": 773,
        "start_time": "2021-11-03T15:21:52.301Z"
      },
      {
        "duration": 726,
        "start_time": "2021-11-03T15:22:08.810Z"
      },
      {
        "duration": 284,
        "start_time": "2021-11-03T15:22:35.615Z"
      },
      {
        "duration": 348,
        "start_time": "2021-11-03T15:22:56.233Z"
      },
      {
        "duration": 282,
        "start_time": "2021-11-03T15:23:14.959Z"
      },
      {
        "duration": 289,
        "start_time": "2021-11-03T15:23:39.843Z"
      },
      {
        "duration": 11,
        "start_time": "2021-11-03T15:29:18.940Z"
      },
      {
        "duration": 15,
        "start_time": "2021-11-03T15:29:36.582Z"
      },
      {
        "duration": 10,
        "start_time": "2021-11-03T15:29:57.851Z"
      },
      {
        "duration": 13,
        "start_time": "2021-11-03T15:30:09.208Z"
      },
      {
        "duration": 27,
        "start_time": "2021-11-03T15:30:41.937Z"
      },
      {
        "duration": 12,
        "start_time": "2021-11-03T15:35:36.204Z"
      },
      {
        "duration": 9,
        "start_time": "2021-11-03T15:35:58.192Z"
      },
      {
        "duration": 715,
        "start_time": "2021-11-03T15:36:23.357Z"
      },
      {
        "duration": 649,
        "start_time": "2021-11-03T15:36:28.926Z"
      },
      {
        "duration": 642,
        "start_time": "2021-11-03T15:37:00.025Z"
      },
      {
        "duration": 688,
        "start_time": "2021-11-03T15:37:20.706Z"
      },
      {
        "duration": 648,
        "start_time": "2021-11-03T15:37:51.122Z"
      },
      {
        "duration": 917,
        "start_time": "2021-11-03T15:38:27.604Z"
      },
      {
        "duration": 10,
        "start_time": "2021-11-03T15:39:06.536Z"
      },
      {
        "duration": 911,
        "start_time": "2021-11-03T15:39:07.665Z"
      },
      {
        "duration": 9,
        "start_time": "2021-11-03T15:39:34.912Z"
      },
      {
        "duration": 750,
        "start_time": "2021-11-03T15:39:43.582Z"
      },
      {
        "duration": 504,
        "start_time": "2021-11-03T15:40:22.912Z"
      },
      {
        "duration": 642,
        "start_time": "2021-11-03T15:40:34.994Z"
      },
      {
        "duration": 783,
        "start_time": "2021-11-03T15:41:32.927Z"
      },
      {
        "duration": 1144,
        "start_time": "2021-11-03T15:41:39.347Z"
      },
      {
        "duration": 857,
        "start_time": "2021-11-03T15:41:46.140Z"
      },
      {
        "duration": 434,
        "start_time": "2021-11-03T15:41:54.736Z"
      },
      {
        "duration": 742,
        "start_time": "2021-11-03T15:42:08.956Z"
      },
      {
        "duration": 10,
        "start_time": "2021-11-03T15:43:07.513Z"
      },
      {
        "duration": 9,
        "start_time": "2021-11-03T15:43:18.487Z"
      },
      {
        "duration": 8,
        "start_time": "2021-11-03T15:43:26.275Z"
      },
      {
        "duration": 805,
        "start_time": "2021-11-03T15:43:37.115Z"
      },
      {
        "duration": 664,
        "start_time": "2021-11-03T15:44:12.192Z"
      },
      {
        "duration": 8,
        "start_time": "2021-11-03T15:44:38.071Z"
      },
      {
        "duration": 735,
        "start_time": "2021-11-03T15:44:51.494Z"
      },
      {
        "duration": 669,
        "start_time": "2021-11-03T15:45:07.047Z"
      },
      {
        "duration": 10,
        "start_time": "2021-11-03T15:45:18.329Z"
      },
      {
        "duration": 9,
        "start_time": "2021-11-03T15:45:23.866Z"
      },
      {
        "duration": 745,
        "start_time": "2021-11-03T15:45:28.169Z"
      },
      {
        "duration": 10,
        "start_time": "2021-11-03T15:45:57.264Z"
      },
      {
        "duration": 937,
        "start_time": "2021-11-03T15:46:03.333Z"
      },
      {
        "duration": 661,
        "start_time": "2021-11-03T15:46:12.574Z"
      },
      {
        "duration": 674,
        "start_time": "2021-11-03T15:46:34.736Z"
      },
      {
        "duration": 644,
        "start_time": "2021-11-03T15:48:24.022Z"
      },
      {
        "duration": 9,
        "start_time": "2021-11-03T15:48:35.163Z"
      },
      {
        "duration": 638,
        "start_time": "2021-11-03T15:50:11.937Z"
      },
      {
        "duration": 742,
        "start_time": "2021-11-03T15:50:21.966Z"
      },
      {
        "duration": 11,
        "start_time": "2021-11-03T15:55:34.120Z"
      },
      {
        "duration": 33,
        "start_time": "2021-11-03T15:55:56.010Z"
      },
      {
        "duration": 9,
        "start_time": "2021-11-03T15:56:07.934Z"
      },
      {
        "duration": 402,
        "start_time": "2021-11-03T15:56:29.961Z"
      },
      {
        "duration": 9,
        "start_time": "2021-11-03T15:56:38.341Z"
      },
      {
        "duration": 12,
        "start_time": "2021-11-03T16:02:19.542Z"
      },
      {
        "duration": 110,
        "start_time": "2021-11-03T16:03:52.795Z"
      },
      {
        "duration": 487,
        "start_time": "2021-11-03T16:03:58.633Z"
      },
      {
        "duration": 366,
        "start_time": "2021-11-03T16:04:13.934Z"
      },
      {
        "duration": 392,
        "start_time": "2021-11-03T16:04:30.979Z"
      },
      {
        "duration": 428,
        "start_time": "2021-11-03T16:04:40.543Z"
      },
      {
        "duration": 388,
        "start_time": "2021-11-03T16:09:07.254Z"
      },
      {
        "duration": 526,
        "start_time": "2021-11-03T16:11:48.994Z"
      },
      {
        "duration": 529,
        "start_time": "2021-11-03T16:12:06.578Z"
      },
      {
        "duration": 549,
        "start_time": "2021-11-03T16:12:48.033Z"
      },
      {
        "duration": 23,
        "start_time": "2021-11-03T16:13:01.801Z"
      },
      {
        "duration": 17,
        "start_time": "2021-11-03T16:13:09.035Z"
      },
      {
        "duration": 18,
        "start_time": "2021-11-03T16:13:16.151Z"
      },
      {
        "duration": 14,
        "start_time": "2021-11-03T16:13:23.391Z"
      },
      {
        "duration": 13,
        "start_time": "2021-11-03T16:18:46.138Z"
      },
      {
        "duration": 33,
        "start_time": "2021-11-03T16:20:59.102Z"
      },
      {
        "duration": 7,
        "start_time": "2021-11-03T16:23:10.101Z"
      },
      {
        "duration": 794,
        "start_time": "2021-11-03T16:23:12.161Z"
      },
      {
        "duration": 591,
        "start_time": "2021-11-03T16:23:42.224Z"
      },
      {
        "duration": 12,
        "start_time": "2021-11-03T16:23:53.031Z"
      },
      {
        "duration": 519,
        "start_time": "2021-11-03T16:26:20.208Z"
      },
      {
        "duration": 511,
        "start_time": "2021-11-03T16:26:26.099Z"
      },
      {
        "duration": 8,
        "start_time": "2021-11-03T16:26:32.523Z"
      },
      {
        "duration": 646,
        "start_time": "2021-11-04T07:16:49.477Z"
      },
      {
        "duration": 18,
        "start_time": "2021-11-04T07:16:50.125Z"
      },
      {
        "duration": 12,
        "start_time": "2021-11-04T07:16:50.146Z"
      },
      {
        "duration": 5,
        "start_time": "2021-11-04T07:16:50.160Z"
      },
      {
        "duration": 35,
        "start_time": "2021-11-04T07:16:50.167Z"
      },
      {
        "duration": 12,
        "start_time": "2021-11-04T07:16:50.204Z"
      },
      {
        "duration": 23,
        "start_time": "2021-11-04T07:16:50.218Z"
      },
      {
        "duration": 51,
        "start_time": "2021-11-04T07:16:50.244Z"
      },
      {
        "duration": 10,
        "start_time": "2021-11-04T07:16:50.298Z"
      },
      {
        "duration": 9,
        "start_time": "2021-11-04T07:16:50.309Z"
      },
      {
        "duration": 5,
        "start_time": "2021-11-04T07:16:50.320Z"
      },
      {
        "duration": 5,
        "start_time": "2021-11-04T07:16:50.327Z"
      },
      {
        "duration": 7,
        "start_time": "2021-11-04T07:16:50.334Z"
      },
      {
        "duration": 51,
        "start_time": "2021-11-04T07:16:50.343Z"
      },
      {
        "duration": 6,
        "start_time": "2021-11-04T07:16:50.396Z"
      },
      {
        "duration": 7,
        "start_time": "2021-11-04T07:16:50.404Z"
      },
      {
        "duration": 8,
        "start_time": "2021-11-04T07:16:50.412Z"
      },
      {
        "duration": 6,
        "start_time": "2021-11-04T07:16:50.422Z"
      },
      {
        "duration": 761,
        "start_time": "2021-11-04T07:16:50.430Z"
      },
      {
        "duration": 4,
        "start_time": "2021-11-04T07:16:51.192Z"
      },
      {
        "duration": 10023,
        "start_time": "2021-11-04T07:16:51.197Z"
      },
      {
        "duration": 3,
        "start_time": "2021-11-04T07:17:01.221Z"
      },
      {
        "duration": 10278,
        "start_time": "2021-11-04T07:17:01.227Z"
      },
      {
        "duration": 16,
        "start_time": "2021-11-04T07:17:11.508Z"
      },
      {
        "duration": 11,
        "start_time": "2021-11-04T07:17:11.525Z"
      },
      {
        "duration": 8,
        "start_time": "2021-11-04T07:17:11.537Z"
      },
      {
        "duration": 459,
        "start_time": "2021-11-04T07:17:11.546Z"
      },
      {
        "duration": 8,
        "start_time": "2021-11-04T07:17:12.007Z"
      },
      {
        "duration": 8,
        "start_time": "2021-11-04T07:17:12.016Z"
      },
      {
        "duration": 8,
        "start_time": "2021-11-04T07:17:12.025Z"
      },
      {
        "duration": 392,
        "start_time": "2021-11-04T07:17:12.035Z"
      },
      {
        "duration": 8,
        "start_time": "2021-11-04T07:17:12.428Z"
      },
      {
        "duration": 22,
        "start_time": "2021-11-04T07:17:12.437Z"
      },
      {
        "duration": 32,
        "start_time": "2021-11-04T07:17:12.460Z"
      },
      {
        "duration": 234,
        "start_time": "2021-11-04T07:17:12.494Z"
      },
      {
        "duration": 8,
        "start_time": "2021-11-04T07:17:12.730Z"
      },
      {
        "duration": 291,
        "start_time": "2021-11-04T07:17:12.740Z"
      },
      {
        "duration": 10,
        "start_time": "2021-11-04T07:17:13.032Z"
      },
      {
        "duration": 5,
        "start_time": "2021-11-04T07:17:13.044Z"
      },
      {
        "duration": 1223,
        "start_time": "2021-11-04T07:17:13.051Z"
      },
      {
        "duration": 6,
        "start_time": "2021-11-04T07:17:14.275Z"
      },
      {
        "duration": 11,
        "start_time": "2021-11-04T07:17:14.282Z"
      },
      {
        "duration": 23,
        "start_time": "2021-11-04T07:17:14.295Z"
      },
      {
        "duration": 577,
        "start_time": "2021-11-04T07:17:14.320Z"
      },
      {
        "duration": 548,
        "start_time": "2021-11-04T07:17:14.899Z"
      },
      {
        "duration": 14,
        "start_time": "2021-11-04T07:17:15.449Z"
      },
      {
        "duration": 549,
        "start_time": "2021-11-04T07:17:15.465Z"
      },
      {
        "duration": 577,
        "start_time": "2021-11-04T07:17:16.016Z"
      },
      {
        "duration": 13,
        "start_time": "2021-11-04T07:17:16.595Z"
      },
      {
        "duration": 27,
        "start_time": "2021-11-04T07:17:16.610Z"
      },
      {
        "duration": 6,
        "start_time": "2021-11-04T07:17:16.639Z"
      },
      {
        "duration": 648,
        "start_time": "2021-11-04T07:17:16.646Z"
      },
      {
        "duration": 484,
        "start_time": "2021-11-04T07:17:17.295Z"
      },
      {
        "duration": 17,
        "start_time": "2021-11-04T07:17:17.781Z"
      },
      {
        "duration": 527,
        "start_time": "2021-11-04T07:17:17.800Z"
      },
      {
        "duration": 558,
        "start_time": "2021-11-04T07:17:18.328Z"
      },
      {
        "duration": 512,
        "start_time": "2021-11-04T07:17:18.891Z"
      },
      {
        "duration": 5,
        "start_time": "2021-11-04T07:17:19.404Z"
      },
      {
        "duration": 10,
        "start_time": "2021-11-04T07:17:19.410Z"
      },
      {
        "duration": 6,
        "start_time": "2021-11-04T07:17:19.421Z"
      },
      {
        "duration": 19,
        "start_time": "2021-11-04T07:17:19.428Z"
      },
      {
        "duration": 45,
        "start_time": "2021-11-04T07:17:19.448Z"
      },
      {
        "duration": 11,
        "start_time": "2021-11-04T07:17:19.495Z"
      },
      {
        "duration": 6,
        "start_time": "2021-11-04T07:17:19.508Z"
      },
      {
        "duration": 19,
        "start_time": "2021-11-04T07:17:19.515Z"
      },
      {
        "duration": 200,
        "start_time": "2021-11-04T07:17:19.536Z"
      },
      {
        "duration": 7,
        "start_time": "2021-11-04T07:17:19.738Z"
      },
      {
        "duration": 15,
        "start_time": "2021-11-04T07:17:19.749Z"
      },
      {
        "duration": 29,
        "start_time": "2021-11-04T07:17:19.766Z"
      },
      {
        "duration": 6,
        "start_time": "2021-11-04T07:17:19.797Z"
      },
      {
        "duration": 402,
        "start_time": "2021-11-04T07:17:19.804Z"
      },
      {
        "duration": 8,
        "start_time": "2021-11-04T07:17:20.208Z"
      },
      {
        "duration": 7,
        "start_time": "2021-11-04T07:17:20.217Z"
      },
      {
        "duration": 411,
        "start_time": "2021-11-04T07:17:20.226Z"
      },
      {
        "duration": 7,
        "start_time": "2021-11-04T07:17:20.639Z"
      },
      {
        "duration": 8,
        "start_time": "2021-11-04T07:17:20.648Z"
      },
      {
        "duration": 227,
        "start_time": "2021-11-04T07:17:20.658Z"
      },
      {
        "duration": 8,
        "start_time": "2021-11-04T07:17:20.891Z"
      },
      {
        "duration": 249,
        "start_time": "2021-11-04T07:17:20.900Z"
      },
      {
        "duration": 458,
        "start_time": "2021-11-04T07:17:21.150Z"
      },
      {
        "duration": 352,
        "start_time": "2021-11-04T07:17:21.610Z"
      },
      {
        "duration": 14,
        "start_time": "2021-11-04T07:17:21.964Z"
      },
      {
        "duration": 28,
        "start_time": "2021-11-04T07:17:21.979Z"
      },
      {
        "duration": 5,
        "start_time": "2021-11-04T07:17:22.008Z"
      },
      {
        "duration": 371,
        "start_time": "2021-11-04T07:17:22.014Z"
      },
      {
        "duration": 383,
        "start_time": "2021-11-04T07:17:22.387Z"
      },
      {
        "duration": 535,
        "start_time": "2021-11-04T07:17:22.772Z"
      },
      {
        "duration": 368,
        "start_time": "2021-11-04T07:17:23.309Z"
      },
      {
        "duration": 15,
        "start_time": "2021-11-04T07:17:23.679Z"
      },
      {
        "duration": 238,
        "start_time": "2021-11-04T07:39:46.155Z"
      },
      {
        "duration": 13,
        "start_time": "2021-11-04T07:39:59.512Z"
      },
      {
        "duration": 9,
        "start_time": "2021-11-04T07:42:06.991Z"
      },
      {
        "duration": 168,
        "start_time": "2021-11-04T07:43:09.496Z"
      },
      {
        "duration": 177,
        "start_time": "2021-11-04T07:43:24.581Z"
      },
      {
        "duration": 319,
        "start_time": "2021-11-04T07:43:42.619Z"
      },
      {
        "duration": 331,
        "start_time": "2021-11-04T07:44:33.483Z"
      },
      {
        "duration": 314,
        "start_time": "2021-11-04T07:44:47.640Z"
      },
      {
        "duration": 10,
        "start_time": "2021-11-04T07:45:22.704Z"
      },
      {
        "duration": 418,
        "start_time": "2021-11-04T07:46:00.297Z"
      },
      {
        "duration": 153,
        "start_time": "2021-11-04T07:46:37.550Z"
      },
      {
        "duration": 10,
        "start_time": "2021-11-04T07:47:33.942Z"
      },
      {
        "duration": 10,
        "start_time": "2021-11-04T07:47:45.150Z"
      },
      {
        "duration": 182,
        "start_time": "2021-11-04T07:48:53.647Z"
      },
      {
        "duration": 752,
        "start_time": "2021-11-04T07:49:04.272Z"
      },
      {
        "duration": 10,
        "start_time": "2021-11-04T07:49:31.254Z"
      },
      {
        "duration": 10,
        "start_time": "2021-11-04T07:50:02.926Z"
      },
      {
        "duration": 10,
        "start_time": "2021-11-04T07:50:27.036Z"
      },
      {
        "duration": 10,
        "start_time": "2021-11-04T07:50:36.946Z"
      },
      {
        "duration": 181,
        "start_time": "2021-11-04T07:51:52.703Z"
      },
      {
        "duration": 576,
        "start_time": "2021-11-04T08:42:57.850Z"
      },
      {
        "duration": 18,
        "start_time": "2021-11-04T08:42:58.429Z"
      },
      {
        "duration": 5,
        "start_time": "2021-11-04T08:42:58.449Z"
      },
      {
        "duration": 4,
        "start_time": "2021-11-04T08:42:58.456Z"
      },
      {
        "duration": 42,
        "start_time": "2021-11-04T08:42:58.461Z"
      },
      {
        "duration": 9,
        "start_time": "2021-11-04T08:42:58.504Z"
      },
      {
        "duration": 21,
        "start_time": "2021-11-04T08:42:58.515Z"
      },
      {
        "duration": 13,
        "start_time": "2021-11-04T08:42:58.538Z"
      },
      {
        "duration": 11,
        "start_time": "2021-11-04T08:42:58.553Z"
      },
      {
        "duration": 8,
        "start_time": "2021-11-04T08:42:58.591Z"
      },
      {
        "duration": 4,
        "start_time": "2021-11-04T08:42:58.601Z"
      },
      {
        "duration": 5,
        "start_time": "2021-11-04T08:42:58.607Z"
      },
      {
        "duration": 6,
        "start_time": "2021-11-04T08:42:58.613Z"
      },
      {
        "duration": 4,
        "start_time": "2021-11-04T08:42:58.621Z"
      },
      {
        "duration": 7,
        "start_time": "2021-11-04T08:42:58.626Z"
      },
      {
        "duration": 4,
        "start_time": "2021-11-04T08:42:58.635Z"
      },
      {
        "duration": 50,
        "start_time": "2021-11-04T08:42:58.641Z"
      },
      {
        "duration": 3,
        "start_time": "2021-11-04T08:42:58.693Z"
      },
      {
        "duration": 705,
        "start_time": "2021-11-04T08:42:58.697Z"
      },
      {
        "duration": 3,
        "start_time": "2021-11-04T08:42:59.403Z"
      },
      {
        "duration": 9910,
        "start_time": "2021-11-04T08:42:59.407Z"
      },
      {
        "duration": 3,
        "start_time": "2021-11-04T08:43:09.319Z"
      },
      {
        "duration": 10143,
        "start_time": "2021-11-04T08:43:09.325Z"
      },
      {
        "duration": 22,
        "start_time": "2021-11-04T08:43:19.470Z"
      },
      {
        "duration": 10,
        "start_time": "2021-11-04T08:43:19.494Z"
      },
      {
        "duration": 7,
        "start_time": "2021-11-04T08:43:19.506Z"
      },
      {
        "duration": 465,
        "start_time": "2021-11-04T08:43:19.515Z"
      },
      {
        "duration": 16,
        "start_time": "2021-11-04T08:43:19.981Z"
      },
      {
        "duration": 5,
        "start_time": "2021-11-04T08:43:19.999Z"
      },
      {
        "duration": 12,
        "start_time": "2021-11-04T08:43:20.006Z"
      },
      {
        "duration": 425,
        "start_time": "2021-11-04T08:43:20.019Z"
      },
      {
        "duration": 7,
        "start_time": "2021-11-04T08:43:20.446Z"
      },
      {
        "duration": 37,
        "start_time": "2021-11-04T08:43:20.455Z"
      },
      {
        "duration": 5,
        "start_time": "2021-11-04T08:43:20.494Z"
      },
      {
        "duration": 239,
        "start_time": "2021-11-04T08:43:20.500Z"
      },
      {
        "duration": 9,
        "start_time": "2021-11-04T08:43:20.740Z"
      },
      {
        "duration": 295,
        "start_time": "2021-11-04T08:43:20.751Z"
      },
      {
        "duration": 10,
        "start_time": "2021-11-04T08:43:21.048Z"
      },
      {
        "duration": 8,
        "start_time": "2021-11-04T08:43:21.059Z"
      },
      {
        "duration": 1190,
        "start_time": "2021-11-04T08:43:21.069Z"
      },
      {
        "duration": 6,
        "start_time": "2021-11-04T08:43:22.261Z"
      },
      {
        "duration": 42,
        "start_time": "2021-11-04T08:43:22.268Z"
      },
      {
        "duration": 578,
        "start_time": "2021-11-04T08:43:22.311Z"
      },
      {
        "duration": 565,
        "start_time": "2021-11-04T08:43:22.892Z"
      },
      {
        "duration": 11,
        "start_time": "2021-11-04T08:43:23.459Z"
      },
      {
        "duration": 562,
        "start_time": "2021-11-04T08:43:23.472Z"
      },
      {
        "duration": 557,
        "start_time": "2021-11-04T08:43:24.036Z"
      },
      {
        "duration": 11,
        "start_time": "2021-11-04T08:43:24.595Z"
      },
      {
        "duration": 20,
        "start_time": "2021-11-04T08:43:24.608Z"
      },
      {
        "duration": 645,
        "start_time": "2021-11-04T08:43:24.630Z"
      },
      {
        "duration": 514,
        "start_time": "2021-11-04T08:43:25.277Z"
      },
      {
        "duration": 10,
        "start_time": "2021-11-04T08:43:25.793Z"
      },
      {
        "duration": 586,
        "start_time": "2021-11-04T08:43:25.805Z"
      },
      {
        "duration": 528,
        "start_time": "2021-11-04T08:43:26.393Z"
      },
      {
        "duration": 573,
        "start_time": "2021-11-04T08:43:26.922Z"
      },
      {
        "duration": 5,
        "start_time": "2021-11-04T08:43:27.496Z"
      },
      {
        "duration": 8,
        "start_time": "2021-11-04T08:43:27.502Z"
      },
      {
        "duration": 5,
        "start_time": "2021-11-04T08:43:27.511Z"
      },
      {
        "duration": 22,
        "start_time": "2021-11-04T08:43:27.518Z"
      },
      {
        "duration": 6,
        "start_time": "2021-11-04T08:43:27.542Z"
      },
      {
        "duration": 44,
        "start_time": "2021-11-04T08:43:27.550Z"
      },
      {
        "duration": 5,
        "start_time": "2021-11-04T08:43:27.595Z"
      },
      {
        "duration": 18,
        "start_time": "2021-11-04T08:43:27.602Z"
      },
      {
        "duration": 195,
        "start_time": "2021-11-04T08:43:27.621Z"
      },
      {
        "duration": 7,
        "start_time": "2021-11-04T08:43:27.817Z"
      },
      {
        "duration": 20,
        "start_time": "2021-11-04T08:43:27.825Z"
      },
      {
        "duration": 14,
        "start_time": "2021-11-04T08:43:27.847Z"
      },
      {
        "duration": 6,
        "start_time": "2021-11-04T08:43:27.865Z"
      },
      {
        "duration": 377,
        "start_time": "2021-11-04T08:43:27.892Z"
      },
      {
        "duration": 8,
        "start_time": "2021-11-04T08:43:28.270Z"
      },
      {
        "duration": 16,
        "start_time": "2021-11-04T08:43:28.279Z"
      },
      {
        "duration": 381,
        "start_time": "2021-11-04T08:43:28.297Z"
      },
      {
        "duration": 13,
        "start_time": "2021-11-04T08:43:28.679Z"
      },
      {
        "duration": 10,
        "start_time": "2021-11-04T08:43:28.693Z"
      },
      {
        "duration": 221,
        "start_time": "2021-11-04T08:43:28.704Z"
      },
      {
        "duration": 8,
        "start_time": "2021-11-04T08:43:28.926Z"
      },
      {
        "duration": 241,
        "start_time": "2021-11-04T08:43:28.936Z"
      },
      {
        "duration": 493,
        "start_time": "2021-11-04T08:43:29.179Z"
      },
      {
        "duration": 391,
        "start_time": "2021-11-04T08:43:29.674Z"
      },
      {
        "duration": 10,
        "start_time": "2021-11-04T08:43:30.067Z"
      },
      {
        "duration": 32,
        "start_time": "2021-11-04T08:43:30.078Z"
      },
      {
        "duration": 7,
        "start_time": "2021-11-04T08:43:30.111Z"
      },
      {
        "duration": 416,
        "start_time": "2021-11-04T08:43:30.119Z"
      },
      {
        "duration": 348,
        "start_time": "2021-11-04T08:43:30.537Z"
      },
      {
        "duration": 518,
        "start_time": "2021-11-04T08:43:30.886Z"
      },
      {
        "duration": 366,
        "start_time": "2021-11-04T08:43:31.406Z"
      },
      {
        "duration": 5,
        "start_time": "2021-11-04T08:43:31.774Z"
      },
      {
        "duration": 656,
        "start_time": "2021-11-04T09:52:14.707Z"
      },
      {
        "duration": 19,
        "start_time": "2021-11-04T09:52:15.366Z"
      },
      {
        "duration": 4,
        "start_time": "2021-11-04T09:52:15.387Z"
      },
      {
        "duration": 11,
        "start_time": "2021-11-04T09:52:15.392Z"
      },
      {
        "duration": 34,
        "start_time": "2021-11-04T09:52:15.405Z"
      },
      {
        "duration": 10,
        "start_time": "2021-11-04T09:52:15.441Z"
      },
      {
        "duration": 30,
        "start_time": "2021-11-04T09:52:15.453Z"
      },
      {
        "duration": 18,
        "start_time": "2021-11-04T09:52:15.485Z"
      },
      {
        "duration": 9,
        "start_time": "2021-11-04T09:52:15.505Z"
      },
      {
        "duration": 11,
        "start_time": "2021-11-04T09:52:15.516Z"
      },
      {
        "duration": 6,
        "start_time": "2021-11-04T09:52:15.563Z"
      },
      {
        "duration": 9,
        "start_time": "2021-11-04T09:52:15.571Z"
      },
      {
        "duration": 7,
        "start_time": "2021-11-04T09:52:15.581Z"
      },
      {
        "duration": 5,
        "start_time": "2021-11-04T09:52:15.590Z"
      },
      {
        "duration": 15,
        "start_time": "2021-11-04T09:52:15.596Z"
      },
      {
        "duration": 49,
        "start_time": "2021-11-04T09:52:15.614Z"
      },
      {
        "duration": 6,
        "start_time": "2021-11-04T09:52:15.666Z"
      },
      {
        "duration": 15,
        "start_time": "2021-11-04T09:52:15.673Z"
      },
      {
        "duration": 766,
        "start_time": "2021-11-04T09:52:15.690Z"
      },
      {
        "duration": 3,
        "start_time": "2021-11-04T09:52:16.457Z"
      },
      {
        "duration": 10578,
        "start_time": "2021-11-04T09:52:16.462Z"
      },
      {
        "duration": 4,
        "start_time": "2021-11-04T09:52:27.042Z"
      },
      {
        "duration": 10891,
        "start_time": "2021-11-04T09:52:27.049Z"
      },
      {
        "duration": 22,
        "start_time": "2021-11-04T09:52:37.943Z"
      },
      {
        "duration": 11,
        "start_time": "2021-11-04T09:52:37.966Z"
      },
      {
        "duration": 8,
        "start_time": "2021-11-04T09:52:37.979Z"
      },
      {
        "duration": 468,
        "start_time": "2021-11-04T09:52:37.989Z"
      },
      {
        "duration": 8,
        "start_time": "2021-11-04T09:52:38.463Z"
      },
      {
        "duration": 6,
        "start_time": "2021-11-04T09:52:38.473Z"
      },
      {
        "duration": 8,
        "start_time": "2021-11-04T09:52:38.480Z"
      },
      {
        "duration": 431,
        "start_time": "2021-11-04T09:52:38.490Z"
      },
      {
        "duration": 8,
        "start_time": "2021-11-04T09:52:38.923Z"
      },
      {
        "duration": 24,
        "start_time": "2021-11-04T09:52:38.933Z"
      },
      {
        "duration": 6,
        "start_time": "2021-11-04T09:52:38.958Z"
      },
      {
        "duration": 238,
        "start_time": "2021-11-04T09:52:38.966Z"
      },
      {
        "duration": 9,
        "start_time": "2021-11-04T09:52:39.206Z"
      },
      {
        "duration": 318,
        "start_time": "2021-11-04T09:52:39.217Z"
      },
      {
        "duration": 14,
        "start_time": "2021-11-04T09:52:39.537Z"
      },
      {
        "duration": 8,
        "start_time": "2021-11-04T09:52:39.563Z"
      },
      {
        "duration": 1206,
        "start_time": "2021-11-04T09:52:39.573Z"
      },
      {
        "duration": 7,
        "start_time": "2021-11-04T09:52:40.781Z"
      },
      {
        "duration": 27,
        "start_time": "2021-11-04T09:52:40.789Z"
      },
      {
        "duration": 571,
        "start_time": "2021-11-04T09:52:40.818Z"
      },
      {
        "duration": 596,
        "start_time": "2021-11-04T09:52:41.392Z"
      },
      {
        "duration": 14,
        "start_time": "2021-11-04T09:52:41.990Z"
      },
      {
        "duration": 580,
        "start_time": "2021-11-04T09:52:42.005Z"
      },
      {
        "duration": 629,
        "start_time": "2021-11-04T09:52:42.586Z"
      },
      {
        "duration": 12,
        "start_time": "2021-11-04T09:52:43.217Z"
      },
      {
        "duration": 40,
        "start_time": "2021-11-04T09:52:43.230Z"
      },
      {
        "duration": 655,
        "start_time": "2021-11-04T09:52:43.271Z"
      },
      {
        "duration": 540,
        "start_time": "2021-11-04T09:52:43.928Z"
      },
      {
        "duration": 11,
        "start_time": "2021-11-04T09:52:44.470Z"
      },
      {
        "duration": 587,
        "start_time": "2021-11-04T09:52:44.483Z"
      },
      {
        "duration": 573,
        "start_time": "2021-11-04T09:52:45.072Z"
      },
      {
        "duration": 547,
        "start_time": "2021-11-04T09:52:45.647Z"
      },
      {
        "duration": 5,
        "start_time": "2021-11-04T09:52:46.196Z"
      },
      {
        "duration": 15,
        "start_time": "2021-11-04T09:52:46.202Z"
      },
      {
        "duration": 4,
        "start_time": "2021-11-04T09:52:46.219Z"
      },
      {
        "duration": 19,
        "start_time": "2021-11-04T09:52:46.225Z"
      },
      {
        "duration": 8,
        "start_time": "2021-11-04T09:52:46.264Z"
      },
      {
        "duration": 12,
        "start_time": "2021-11-04T09:52:46.274Z"
      },
      {
        "duration": 8,
        "start_time": "2021-11-04T09:52:46.288Z"
      },
      {
        "duration": 20,
        "start_time": "2021-11-04T09:52:46.297Z"
      },
      {
        "duration": 197,
        "start_time": "2021-11-04T09:52:46.319Z"
      },
      {
        "duration": 8,
        "start_time": "2021-11-04T09:52:46.518Z"
      },
      {
        "duration": 17,
        "start_time": "2021-11-04T09:52:46.528Z"
      },
      {
        "duration": 8,
        "start_time": "2021-11-04T09:52:46.563Z"
      },
      {
        "duration": 7,
        "start_time": "2021-11-04T09:52:46.576Z"
      },
      {
        "duration": 475,
        "start_time": "2021-11-04T09:52:46.585Z"
      },
      {
        "duration": 8,
        "start_time": "2021-11-04T09:52:47.063Z"
      },
      {
        "duration": 9,
        "start_time": "2021-11-04T09:52:47.073Z"
      },
      {
        "duration": 391,
        "start_time": "2021-11-04T09:52:47.084Z"
      },
      {
        "duration": 8,
        "start_time": "2021-11-04T09:52:47.477Z"
      },
      {
        "duration": 10,
        "start_time": "2021-11-04T09:52:47.487Z"
      },
      {
        "duration": 239,
        "start_time": "2021-11-04T09:52:47.499Z"
      },
      {
        "duration": 9,
        "start_time": "2021-11-04T09:52:47.740Z"
      },
      {
        "duration": 249,
        "start_time": "2021-11-04T09:52:47.751Z"
      },
      {
        "duration": 509,
        "start_time": "2021-11-04T09:52:48.003Z"
      },
      {
        "duration": 393,
        "start_time": "2021-11-04T09:52:48.514Z"
      },
      {
        "duration": 9,
        "start_time": "2021-11-04T09:52:48.909Z"
      },
      {
        "duration": 19,
        "start_time": "2021-11-04T09:52:48.920Z"
      },
      {
        "duration": 24,
        "start_time": "2021-11-04T09:52:48.941Z"
      },
      {
        "duration": 421,
        "start_time": "2021-11-04T09:52:48.967Z"
      },
      {
        "duration": 393,
        "start_time": "2021-11-04T09:52:49.390Z"
      },
      {
        "duration": 615,
        "start_time": "2021-11-04T09:52:49.785Z"
      },
      {
        "duration": 388,
        "start_time": "2021-11-04T09:52:50.402Z"
      },
      {
        "duration": 5,
        "start_time": "2021-11-04T09:52:50.792Z"
      },
      {
        "duration": 453,
        "start_time": "2021-11-04T11:56:55.180Z"
      },
      {
        "duration": 2438,
        "start_time": "2021-11-04T11:57:01.457Z"
      },
      {
        "duration": 38,
        "start_time": "2021-11-04T11:57:03.898Z"
      },
      {
        "duration": 5,
        "start_time": "2021-11-04T11:57:03.940Z"
      },
      {
        "duration": 6,
        "start_time": "2021-11-04T11:57:03.947Z"
      },
      {
        "duration": 79,
        "start_time": "2021-11-04T11:57:03.955Z"
      },
      {
        "duration": 13,
        "start_time": "2021-11-04T11:57:04.038Z"
      },
      {
        "duration": 97,
        "start_time": "2021-11-04T11:57:04.052Z"
      },
      {
        "duration": 67,
        "start_time": "2021-11-04T11:57:04.151Z"
      },
      {
        "duration": 12,
        "start_time": "2021-11-04T11:57:04.221Z"
      },
      {
        "duration": 12,
        "start_time": "2021-11-04T11:57:04.236Z"
      },
      {
        "duration": 72,
        "start_time": "2021-11-04T11:57:04.250Z"
      },
      {
        "duration": 16,
        "start_time": "2021-11-04T11:57:04.324Z"
      },
      {
        "duration": 12,
        "start_time": "2021-11-04T11:57:04.342Z"
      },
      {
        "duration": 11,
        "start_time": "2021-11-04T11:57:04.356Z"
      },
      {
        "duration": 49,
        "start_time": "2021-11-04T11:57:04.368Z"
      },
      {
        "duration": 9,
        "start_time": "2021-11-04T11:57:04.428Z"
      },
      {
        "duration": 71,
        "start_time": "2021-11-04T11:57:04.439Z"
      },
      {
        "duration": 7,
        "start_time": "2021-11-04T11:57:04.512Z"
      },
      {
        "duration": 1382,
        "start_time": "2021-11-04T11:57:04.523Z"
      },
      {
        "duration": 5,
        "start_time": "2021-11-04T11:57:05.908Z"
      },
      {
        "duration": 13622,
        "start_time": "2021-11-04T11:57:05.915Z"
      },
      {
        "duration": 4,
        "start_time": "2021-11-04T11:57:19.539Z"
      },
      {
        "duration": 14027,
        "start_time": "2021-11-04T11:57:19.548Z"
      },
      {
        "duration": 17,
        "start_time": "2021-11-04T11:57:33.578Z"
      },
      {
        "duration": 39,
        "start_time": "2021-11-04T11:57:33.596Z"
      },
      {
        "duration": 25,
        "start_time": "2021-11-04T11:57:33.638Z"
      },
      {
        "duration": 574,
        "start_time": "2021-11-04T11:57:33.665Z"
      },
      {
        "duration": 9,
        "start_time": "2021-11-04T11:57:34.241Z"
      },
      {
        "duration": 8,
        "start_time": "2021-11-04T11:57:34.252Z"
      },
      {
        "duration": 12,
        "start_time": "2021-11-04T11:57:34.262Z"
      },
      {
        "duration": 484,
        "start_time": "2021-11-04T11:57:34.276Z"
      },
      {
        "duration": 7,
        "start_time": "2021-11-04T11:57:34.762Z"
      },
      {
        "duration": 53,
        "start_time": "2021-11-04T11:57:34.771Z"
      },
      {
        "duration": 10,
        "start_time": "2021-11-04T11:57:34.826Z"
      },
      {
        "duration": 269,
        "start_time": "2021-11-04T11:57:34.838Z"
      },
      {
        "duration": 15,
        "start_time": "2021-11-04T11:57:35.110Z"
      },
      {
        "duration": 362,
        "start_time": "2021-11-04T11:57:35.128Z"
      },
      {
        "duration": 27,
        "start_time": "2021-11-04T11:57:35.492Z"
      },
      {
        "duration": 10,
        "start_time": "2021-11-04T11:57:35.523Z"
      },
      {
        "duration": 1496,
        "start_time": "2021-11-04T11:57:35.536Z"
      },
      {
        "duration": 9,
        "start_time": "2021-11-04T11:57:37.035Z"
      },
      {
        "duration": 28,
        "start_time": "2021-11-04T11:57:37.046Z"
      },
      {
        "duration": 54,
        "start_time": "2021-11-04T11:57:37.075Z"
      },
      {
        "duration": 656,
        "start_time": "2021-11-04T11:57:37.132Z"
      },
      {
        "duration": 738,
        "start_time": "2021-11-04T11:57:37.790Z"
      },
      {
        "duration": 17,
        "start_time": "2021-11-04T11:57:38.530Z"
      },
      {
        "duration": 666,
        "start_time": "2021-11-04T11:57:38.549Z"
      },
      {
        "duration": 678,
        "start_time": "2021-11-04T11:57:39.220Z"
      },
      {
        "duration": 25,
        "start_time": "2021-11-04T11:57:39.900Z"
      },
      {
        "duration": 27,
        "start_time": "2021-11-04T11:57:39.929Z"
      },
      {
        "duration": 1066,
        "start_time": "2021-11-04T11:57:39.958Z"
      },
      {
        "duration": 632,
        "start_time": "2021-11-04T11:57:41.026Z"
      },
      {
        "duration": 11,
        "start_time": "2021-11-04T11:57:41.660Z"
      },
      {
        "duration": 651,
        "start_time": "2021-11-04T11:57:41.673Z"
      },
      {
        "duration": 664,
        "start_time": "2021-11-04T11:57:42.327Z"
      },
      {
        "duration": 694,
        "start_time": "2021-11-04T11:57:42.993Z"
      },
      {
        "duration": 26,
        "start_time": "2021-11-04T11:57:43.689Z"
      },
      {
        "duration": 11,
        "start_time": "2021-11-04T11:57:43.718Z"
      },
      {
        "duration": 10,
        "start_time": "2021-11-04T11:57:43.732Z"
      },
      {
        "duration": 29,
        "start_time": "2021-11-04T11:57:43.745Z"
      },
      {
        "duration": 8,
        "start_time": "2021-11-04T11:57:43.776Z"
      },
      {
        "duration": 38,
        "start_time": "2021-11-04T11:57:43.785Z"
      },
      {
        "duration": 6,
        "start_time": "2021-11-04T11:57:43.826Z"
      },
      {
        "duration": 31,
        "start_time": "2021-11-04T11:57:43.834Z"
      },
      {
        "duration": 260,
        "start_time": "2021-11-04T11:57:43.867Z"
      },
      {
        "duration": 12,
        "start_time": "2021-11-04T11:57:44.130Z"
      },
      {
        "duration": 19,
        "start_time": "2021-11-04T11:57:44.144Z"
      },
      {
        "duration": 7,
        "start_time": "2021-11-04T11:57:44.168Z"
      },
      {
        "duration": 13,
        "start_time": "2021-11-04T11:57:44.177Z"
      },
      {
        "duration": 485,
        "start_time": "2021-11-04T11:57:44.191Z"
      },
      {
        "duration": 8,
        "start_time": "2021-11-04T11:57:44.677Z"
      },
      {
        "duration": 8,
        "start_time": "2021-11-04T11:57:44.686Z"
      },
      {
        "duration": 637,
        "start_time": "2021-11-04T11:57:44.696Z"
      },
      {
        "duration": 9,
        "start_time": "2021-11-04T11:57:45.336Z"
      },
      {
        "duration": 17,
        "start_time": "2021-11-04T11:57:45.347Z"
      },
      {
        "duration": 410,
        "start_time": "2021-11-04T11:57:45.366Z"
      },
      {
        "duration": 8,
        "start_time": "2021-11-04T11:57:45.778Z"
      },
      {
        "duration": 340,
        "start_time": "2021-11-04T11:57:45.788Z"
      },
      {
        "duration": 532,
        "start_time": "2021-11-04T11:57:46.139Z"
      },
      {
        "duration": 446,
        "start_time": "2021-11-04T11:57:46.673Z"
      },
      {
        "duration": 11,
        "start_time": "2021-11-04T11:57:47.122Z"
      },
      {
        "duration": 25,
        "start_time": "2021-11-04T11:57:47.135Z"
      },
      {
        "duration": 5,
        "start_time": "2021-11-04T11:57:47.162Z"
      },
      {
        "duration": 475,
        "start_time": "2021-11-04T11:57:47.169Z"
      },
      {
        "duration": 409,
        "start_time": "2021-11-04T11:57:47.646Z"
      },
      {
        "duration": 695,
        "start_time": "2021-11-04T11:57:48.057Z"
      },
      {
        "duration": 416,
        "start_time": "2021-11-04T11:57:48.754Z"
      },
      {
        "duration": 5,
        "start_time": "2021-11-04T11:57:49.172Z"
      },
      {
        "duration": 1038,
        "start_time": "2021-11-04T12:00:29.084Z"
      },
      {
        "duration": 93,
        "start_time": "2021-11-04T12:00:39.367Z"
      },
      {
        "duration": 408,
        "start_time": "2021-11-04T12:00:43.236Z"
      },
      {
        "duration": 176,
        "start_time": "2021-11-04T12:00:51.435Z"
      },
      {
        "duration": 839,
        "start_time": "2021-11-05T07:11:49.736Z"
      },
      {
        "duration": 32,
        "start_time": "2021-11-05T07:11:50.578Z"
      },
      {
        "duration": 4,
        "start_time": "2021-11-05T07:11:50.613Z"
      },
      {
        "duration": 6,
        "start_time": "2021-11-05T07:11:50.620Z"
      },
      {
        "duration": 53,
        "start_time": "2021-11-05T07:11:50.629Z"
      },
      {
        "duration": 15,
        "start_time": "2021-11-05T07:11:50.684Z"
      },
      {
        "duration": 37,
        "start_time": "2021-11-05T07:11:50.702Z"
      },
      {
        "duration": 47,
        "start_time": "2021-11-05T07:11:50.743Z"
      },
      {
        "duration": 12,
        "start_time": "2021-11-05T07:11:50.793Z"
      },
      {
        "duration": 12,
        "start_time": "2021-11-05T07:11:50.807Z"
      },
      {
        "duration": 7,
        "start_time": "2021-11-05T07:11:50.821Z"
      },
      {
        "duration": 5,
        "start_time": "2021-11-05T07:11:50.831Z"
      },
      {
        "duration": 10,
        "start_time": "2021-11-05T07:11:50.883Z"
      },
      {
        "duration": 19,
        "start_time": "2021-11-05T07:11:50.896Z"
      },
      {
        "duration": 8,
        "start_time": "2021-11-05T07:11:50.917Z"
      },
      {
        "duration": 12,
        "start_time": "2021-11-05T07:11:50.928Z"
      },
      {
        "duration": 8,
        "start_time": "2021-11-05T07:11:50.942Z"
      },
      {
        "duration": 33,
        "start_time": "2021-11-05T07:11:50.952Z"
      },
      {
        "duration": 1420,
        "start_time": "2021-11-05T07:11:50.988Z"
      },
      {
        "duration": 5,
        "start_time": "2021-11-05T07:11:52.410Z"
      },
      {
        "duration": 19053,
        "start_time": "2021-11-05T07:11:52.417Z"
      },
      {
        "duration": 4,
        "start_time": "2021-11-05T07:12:11.473Z"
      },
      {
        "duration": 19261,
        "start_time": "2021-11-05T07:12:11.483Z"
      },
      {
        "duration": 36,
        "start_time": "2021-11-05T07:12:30.748Z"
      },
      {
        "duration": 12,
        "start_time": "2021-11-05T07:12:30.786Z"
      },
      {
        "duration": 11,
        "start_time": "2021-11-05T07:12:30.800Z"
      },
      {
        "duration": 741,
        "start_time": "2021-11-05T07:12:30.814Z"
      },
      {
        "duration": 24,
        "start_time": "2021-11-05T07:12:31.558Z"
      },
      {
        "duration": 8,
        "start_time": "2021-11-05T07:12:31.585Z"
      },
      {
        "duration": 14,
        "start_time": "2021-11-05T07:12:31.595Z"
      },
      {
        "duration": 689,
        "start_time": "2021-11-05T07:12:31.611Z"
      },
      {
        "duration": 11,
        "start_time": "2021-11-05T07:12:32.303Z"
      },
      {
        "duration": 40,
        "start_time": "2021-11-05T07:12:32.316Z"
      },
      {
        "duration": 31,
        "start_time": "2021-11-05T07:12:32.358Z"
      },
      {
        "duration": 423,
        "start_time": "2021-11-05T07:12:32.391Z"
      },
      {
        "duration": 11,
        "start_time": "2021-11-05T07:12:32.817Z"
      },
      {
        "duration": 504,
        "start_time": "2021-11-05T07:12:32.830Z"
      },
      {
        "duration": 19,
        "start_time": "2021-11-05T07:12:33.337Z"
      },
      {
        "duration": 29,
        "start_time": "2021-11-05T07:12:33.359Z"
      },
      {
        "duration": 2076,
        "start_time": "2021-11-05T07:12:33.390Z"
      },
      {
        "duration": 16,
        "start_time": "2021-11-05T07:12:35.468Z"
      },
      {
        "duration": 42,
        "start_time": "2021-11-05T07:12:35.487Z"
      },
      {
        "duration": 62,
        "start_time": "2021-11-05T07:12:35.531Z"
      },
      {
        "duration": 810,
        "start_time": "2021-11-05T07:12:35.596Z"
      },
      {
        "duration": 965,
        "start_time": "2021-11-05T07:12:36.408Z"
      },
      {
        "duration": 22,
        "start_time": "2021-11-05T07:12:37.375Z"
      },
      {
        "duration": 848,
        "start_time": "2021-11-05T07:12:37.400Z"
      },
      {
        "duration": 855,
        "start_time": "2021-11-05T07:12:38.251Z"
      },
      {
        "duration": 350,
        "start_time": "2021-11-05T07:12:39.108Z"
      },
      {
        "duration": 26,
        "start_time": "2021-11-05T07:12:39.460Z"
      },
      {
        "duration": 35,
        "start_time": "2021-11-05T07:12:39.488Z"
      },
      {
        "duration": 841,
        "start_time": "2021-11-05T07:12:39.525Z"
      },
      {
        "duration": 774,
        "start_time": "2021-11-05T07:12:40.368Z"
      },
      {
        "duration": 16,
        "start_time": "2021-11-05T07:12:41.144Z"
      },
      {
        "duration": 845,
        "start_time": "2021-11-05T07:12:41.162Z"
      },
      {
        "duration": 798,
        "start_time": "2021-11-05T07:12:42.010Z"
      },
      {
        "duration": 835,
        "start_time": "2021-11-05T07:12:42.810Z"
      },
      {
        "duration": 7,
        "start_time": "2021-11-05T07:12:43.648Z"
      },
      {
        "duration": 29,
        "start_time": "2021-11-05T07:12:43.658Z"
      },
      {
        "duration": 7,
        "start_time": "2021-11-05T07:12:43.689Z"
      },
      {
        "duration": 30,
        "start_time": "2021-11-05T07:12:43.699Z"
      },
      {
        "duration": 50,
        "start_time": "2021-11-05T07:12:43.732Z"
      },
      {
        "duration": 16,
        "start_time": "2021-11-05T07:12:43.785Z"
      },
      {
        "duration": 8,
        "start_time": "2021-11-05T07:12:43.804Z"
      },
      {
        "duration": 29,
        "start_time": "2021-11-05T07:12:43.814Z"
      },
      {
        "duration": 306,
        "start_time": "2021-11-05T07:12:43.881Z"
      },
      {
        "duration": 10,
        "start_time": "2021-11-05T07:12:44.189Z"
      },
      {
        "duration": 27,
        "start_time": "2021-11-05T07:12:44.207Z"
      },
      {
        "duration": 10,
        "start_time": "2021-11-05T07:12:44.237Z"
      },
      {
        "duration": 9,
        "start_time": "2021-11-05T07:12:44.283Z"
      },
      {
        "duration": 648,
        "start_time": "2021-11-05T07:12:44.294Z"
      },
      {
        "duration": 11,
        "start_time": "2021-11-05T07:12:44.944Z"
      },
      {
        "duration": 28,
        "start_time": "2021-11-05T07:12:44.957Z"
      },
      {
        "duration": 645,
        "start_time": "2021-11-05T07:12:44.987Z"
      },
      {
        "duration": 12,
        "start_time": "2021-11-05T07:12:45.635Z"
      },
      {
        "duration": 34,
        "start_time": "2021-11-05T07:12:45.650Z"
      },
      {
        "duration": 376,
        "start_time": "2021-11-05T07:12:45.687Z"
      },
      {
        "duration": 17,
        "start_time": "2021-11-05T07:12:46.066Z"
      },
      {
        "duration": 513,
        "start_time": "2021-11-05T07:12:46.087Z"
      },
      {
        "duration": 535,
        "start_time": "2021-11-05T07:12:46.604Z"
      },
      {
        "duration": 558,
        "start_time": "2021-11-05T07:12:47.142Z"
      },
      {
        "duration": 13,
        "start_time": "2021-11-05T07:12:47.703Z"
      },
      {
        "duration": 31,
        "start_time": "2021-11-05T07:12:47.719Z"
      },
      {
        "duration": 8,
        "start_time": "2021-11-05T07:12:47.783Z"
      },
      {
        "duration": 556,
        "start_time": "2021-11-05T07:12:47.794Z"
      },
      {
        "duration": 554,
        "start_time": "2021-11-05T07:12:48.352Z"
      },
      {
        "duration": 834,
        "start_time": "2021-11-05T07:12:48.909Z"
      },
      {
        "duration": 566,
        "start_time": "2021-11-05T07:12:49.745Z"
      },
      {
        "duration": 7,
        "start_time": "2021-11-05T07:12:50.313Z"
      },
      {
        "duration": 762,
        "start_time": "2021-11-05T07:12:55.309Z"
      },
      {
        "duration": 615,
        "start_time": "2021-11-05T07:13:25.482Z"
      },
      {
        "duration": 617,
        "start_time": "2021-11-05T07:13:55.043Z"
      },
      {
        "duration": 615,
        "start_time": "2021-11-05T07:14:03.680Z"
      },
      {
        "duration": 1257,
        "start_time": "2021-11-05T07:16:00.143Z"
      },
      {
        "duration": 747,
        "start_time": "2021-11-05T07:16:11.958Z"
      },
      {
        "duration": 616,
        "start_time": "2021-11-05T07:18:36.436Z"
      },
      {
        "duration": 942,
        "start_time": "2021-11-05T07:19:11.194Z"
      },
      {
        "duration": 722,
        "start_time": "2021-11-05T07:20:14.032Z"
      },
      {
        "duration": 776,
        "start_time": "2021-11-05T07:20:37.615Z"
      },
      {
        "duration": 297,
        "start_time": "2021-11-05T07:23:12.934Z"
      },
      {
        "duration": 309,
        "start_time": "2021-11-05T07:24:12.233Z"
      },
      {
        "duration": 913,
        "start_time": "2021-11-05T07:24:28.104Z"
      },
      {
        "duration": 642,
        "start_time": "2021-11-05T07:24:40.251Z"
      },
      {
        "duration": 747,
        "start_time": "2021-11-05T07:28:11.222Z"
      },
      {
        "duration": 636,
        "start_time": "2021-11-05T07:28:26.111Z"
      },
      {
        "duration": 625,
        "start_time": "2021-11-05T07:28:43.600Z"
      },
      {
        "duration": 621,
        "start_time": "2021-11-05T07:28:54.093Z"
      },
      {
        "duration": 642,
        "start_time": "2021-11-05T07:39:50.373Z"
      },
      {
        "duration": 808,
        "start_time": "2021-11-05T07:41:29.191Z"
      },
      {
        "duration": 627,
        "start_time": "2021-11-05T07:41:51.828Z"
      },
      {
        "duration": 653,
        "start_time": "2021-11-05T07:42:02.488Z"
      },
      {
        "duration": 678,
        "start_time": "2021-11-05T07:42:51.753Z"
      },
      {
        "duration": 646,
        "start_time": "2021-11-05T07:42:59.762Z"
      },
      {
        "duration": 401,
        "start_time": "2021-11-05T07:43:30.169Z"
      },
      {
        "duration": 502,
        "start_time": "2021-11-05T07:43:52.580Z"
      },
      {
        "duration": 2140,
        "start_time": "2021-11-05T07:44:52.695Z"
      },
      {
        "duration": 639,
        "start_time": "2021-11-05T07:53:28.497Z"
      },
      {
        "duration": 245,
        "start_time": "2021-11-05T07:53:53.481Z"
      },
      {
        "duration": 529,
        "start_time": "2021-11-05T07:54:50.592Z"
      },
      {
        "duration": 234,
        "start_time": "2021-11-05T07:55:25.395Z"
      },
      {
        "duration": 227,
        "start_time": "2021-11-05T07:55:43.117Z"
      },
      {
        "duration": 221,
        "start_time": "2021-11-05T07:56:28.176Z"
      },
      {
        "duration": 223,
        "start_time": "2021-11-05T07:56:35.087Z"
      },
      {
        "duration": 211,
        "start_time": "2021-11-05T07:56:39.522Z"
      },
      {
        "duration": 219,
        "start_time": "2021-11-05T07:56:58.741Z"
      },
      {
        "duration": 314,
        "start_time": "2021-11-05T07:57:43.968Z"
      },
      {
        "duration": 307,
        "start_time": "2021-11-05T07:57:52.929Z"
      },
      {
        "duration": 330,
        "start_time": "2021-11-05T07:59:35.990Z"
      },
      {
        "duration": 311,
        "start_time": "2021-11-05T08:00:33.012Z"
      },
      {
        "duration": 389,
        "start_time": "2021-11-05T08:00:51.220Z"
      },
      {
        "duration": 2377,
        "start_time": "2021-11-05T08:02:03.210Z"
      },
      {
        "duration": 16,
        "start_time": "2021-11-05T08:02:25.408Z"
      },
      {
        "duration": 9,
        "start_time": "2021-11-05T08:02:33.257Z"
      },
      {
        "duration": 431,
        "start_time": "2021-11-05T08:02:50.510Z"
      },
      {
        "duration": 312,
        "start_time": "2021-11-05T08:03:11.904Z"
      },
      {
        "duration": 213,
        "start_time": "2021-11-05T08:03:35.297Z"
      },
      {
        "duration": 304,
        "start_time": "2021-11-05T08:03:47.580Z"
      },
      {
        "duration": 223,
        "start_time": "2021-11-05T08:03:53.755Z"
      },
      {
        "duration": 248,
        "start_time": "2021-11-05T08:04:02.111Z"
      },
      {
        "duration": 1692,
        "start_time": "2021-11-05T08:20:43.912Z"
      },
      {
        "duration": 797,
        "start_time": "2021-11-05T08:20:52.709Z"
      },
      {
        "duration": 19,
        "start_time": "2021-11-05T08:37:21.097Z"
      },
      {
        "duration": 19,
        "start_time": "2021-11-05T08:37:35.056Z"
      },
      {
        "duration": 17,
        "start_time": "2021-11-05T08:37:45.321Z"
      },
      {
        "duration": 255,
        "start_time": "2021-11-05T08:44:06.272Z"
      },
      {
        "duration": 276,
        "start_time": "2021-11-05T08:46:10.551Z"
      },
      {
        "duration": 280,
        "start_time": "2021-11-05T08:47:18.518Z"
      },
      {
        "duration": 281,
        "start_time": "2021-11-05T08:48:57.962Z"
      },
      {
        "duration": 294,
        "start_time": "2021-11-05T08:50:40.063Z"
      },
      {
        "duration": 279,
        "start_time": "2021-11-05T08:52:13.716Z"
      },
      {
        "duration": 7,
        "start_time": "2021-11-05T08:52:30.010Z"
      },
      {
        "duration": 474,
        "start_time": "2021-11-05T08:54:49.248Z"
      },
      {
        "duration": 100,
        "start_time": "2021-11-05T08:55:07.285Z"
      },
      {
        "duration": 260,
        "start_time": "2021-11-05T08:55:12.226Z"
      },
      {
        "duration": 266,
        "start_time": "2021-11-05T08:55:25.703Z"
      },
      {
        "duration": 34,
        "start_time": "2021-11-05T09:00:25.398Z"
      },
      {
        "duration": 8,
        "start_time": "2021-11-05T09:00:32.748Z"
      },
      {
        "duration": 6,
        "start_time": "2021-11-05T09:04:58.290Z"
      },
      {
        "duration": 8,
        "start_time": "2021-11-05T09:06:01.159Z"
      },
      {
        "duration": 28,
        "start_time": "2021-11-05T09:06:03.640Z"
      },
      {
        "duration": 11,
        "start_time": "2021-11-05T09:06:08.442Z"
      },
      {
        "duration": 9,
        "start_time": "2021-11-05T09:06:21.173Z"
      },
      {
        "duration": 613,
        "start_time": "2021-11-05T09:06:23.281Z"
      },
      {
        "duration": 11,
        "start_time": "2021-11-05T09:06:36.975Z"
      },
      {
        "duration": 8,
        "start_time": "2021-11-05T09:06:40.442Z"
      },
      {
        "duration": 631,
        "start_time": "2021-11-05T09:06:43.678Z"
      },
      {
        "duration": 11,
        "start_time": "2021-11-05T09:07:13.234Z"
      },
      {
        "duration": 9,
        "start_time": "2021-11-05T09:07:15.094Z"
      },
      {
        "duration": 473,
        "start_time": "2021-11-05T09:07:17.785Z"
      },
      {
        "duration": 12,
        "start_time": "2021-11-05T09:09:08.005Z"
      },
      {
        "duration": 395,
        "start_time": "2021-11-05T09:09:11.812Z"
      },
      {
        "duration": 555,
        "start_time": "2021-11-05T09:13:16.346Z"
      },
      {
        "duration": 799,
        "start_time": "2021-11-05T09:13:22.233Z"
      },
      {
        "duration": 13,
        "start_time": "2021-11-05T09:13:24.880Z"
      },
      {
        "duration": 13,
        "start_time": "2021-11-05T09:13:50.173Z"
      },
      {
        "duration": 14,
        "start_time": "2021-11-05T09:13:59.262Z"
      },
      {
        "duration": 13,
        "start_time": "2021-11-05T09:14:07.414Z"
      },
      {
        "duration": 13,
        "start_time": "2021-11-05T09:14:17.201Z"
      },
      {
        "duration": 13,
        "start_time": "2021-11-05T09:14:21.907Z"
      },
      {
        "duration": 13,
        "start_time": "2021-11-05T09:15:54.659Z"
      },
      {
        "duration": 12,
        "start_time": "2021-11-05T09:16:12.306Z"
      },
      {
        "duration": 13,
        "start_time": "2021-11-05T09:16:37.692Z"
      },
      {
        "duration": 12,
        "start_time": "2021-11-05T09:18:02.262Z"
      },
      {
        "duration": 12,
        "start_time": "2021-11-05T09:18:06.434Z"
      },
      {
        "duration": 13,
        "start_time": "2021-11-05T09:18:12.763Z"
      },
      {
        "duration": 12,
        "start_time": "2021-11-05T09:18:20.302Z"
      },
      {
        "duration": 12,
        "start_time": "2021-11-05T09:18:33.083Z"
      },
      {
        "duration": 12,
        "start_time": "2021-11-05T09:28:30.682Z"
      },
      {
        "duration": 317,
        "start_time": "2021-11-05T09:29:13.071Z"
      },
      {
        "duration": 267,
        "start_time": "2021-11-05T09:29:21.420Z"
      },
      {
        "duration": 31,
        "start_time": "2021-11-05T09:29:32.409Z"
      },
      {
        "duration": 9,
        "start_time": "2021-11-05T09:29:43.444Z"
      },
      {
        "duration": 813,
        "start_time": "2021-11-05T09:30:01.760Z"
      },
      {
        "duration": 12,
        "start_time": "2021-11-05T09:30:11.355Z"
      },
      {
        "duration": 10,
        "start_time": "2021-11-05T09:30:25.489Z"
      },
      {
        "duration": 13,
        "start_time": "2021-11-05T09:31:09.349Z"
      },
      {
        "duration": 10,
        "start_time": "2021-11-05T09:31:28.206Z"
      },
      {
        "duration": 10,
        "start_time": "2021-11-05T09:35:45.266Z"
      },
      {
        "duration": 11,
        "start_time": "2021-11-05T09:35:55.435Z"
      },
      {
        "duration": 8,
        "start_time": "2021-11-05T09:36:42.944Z"
      },
      {
        "duration": 9,
        "start_time": "2021-11-05T09:36:49.172Z"
      },
      {
        "duration": 9,
        "start_time": "2021-11-05T09:38:28.685Z"
      },
      {
        "duration": 307,
        "start_time": "2021-11-05T09:39:22.158Z"
      },
      {
        "duration": 11,
        "start_time": "2021-11-05T09:39:35.464Z"
      },
      {
        "duration": 239,
        "start_time": "2021-11-05T09:40:26.251Z"
      },
      {
        "duration": 11,
        "start_time": "2021-11-05T09:40:34.973Z"
      },
      {
        "duration": 11,
        "start_time": "2021-11-05T09:41:59.308Z"
      },
      {
        "duration": 297,
        "start_time": "2021-11-05T09:42:25.752Z"
      },
      {
        "duration": 11,
        "start_time": "2021-11-05T09:42:31.076Z"
      },
      {
        "duration": 10,
        "start_time": "2021-11-05T09:42:44.098Z"
      },
      {
        "duration": 11,
        "start_time": "2021-11-05T09:43:03.919Z"
      },
      {
        "duration": 303,
        "start_time": "2021-11-05T09:43:16.068Z"
      },
      {
        "duration": 804,
        "start_time": "2021-11-05T09:43:48.973Z"
      },
      {
        "duration": 11,
        "start_time": "2021-11-05T09:44:17.082Z"
      },
      {
        "duration": 11,
        "start_time": "2021-11-05T09:44:33.657Z"
      },
      {
        "duration": 12,
        "start_time": "2021-11-05T09:44:39.940Z"
      },
      {
        "duration": 295,
        "start_time": "2021-11-05T09:44:54.647Z"
      },
      {
        "duration": 9,
        "start_time": "2021-11-05T09:45:28.928Z"
      },
      {
        "duration": 11,
        "start_time": "2021-11-05T09:45:46.396Z"
      },
      {
        "duration": 307,
        "start_time": "2021-11-05T09:46:35.853Z"
      },
      {
        "duration": 303,
        "start_time": "2021-11-05T09:46:45.316Z"
      },
      {
        "duration": 343,
        "start_time": "2021-11-05T09:46:52.015Z"
      },
      {
        "duration": 11,
        "start_time": "2021-11-05T09:47:02.951Z"
      },
      {
        "duration": 12,
        "start_time": "2021-11-05T09:47:03.421Z"
      },
      {
        "duration": 304,
        "start_time": "2021-11-05T09:47:04.397Z"
      },
      {
        "duration": 12,
        "start_time": "2021-11-05T09:48:14.764Z"
      },
      {
        "duration": 10,
        "start_time": "2021-11-05T09:48:20.447Z"
      },
      {
        "duration": 14,
        "start_time": "2021-11-05T09:48:20.868Z"
      },
      {
        "duration": 12,
        "start_time": "2021-11-05T09:48:21.237Z"
      },
      {
        "duration": 301,
        "start_time": "2021-11-05T09:49:26.201Z"
      },
      {
        "duration": 12,
        "start_time": "2021-11-05T09:49:34.601Z"
      },
      {
        "duration": 12,
        "start_time": "2021-11-05T09:49:37.177Z"
      },
      {
        "duration": 12,
        "start_time": "2021-11-05T09:49:37.700Z"
      },
      {
        "duration": 12,
        "start_time": "2021-11-05T09:49:38.224Z"
      },
      {
        "duration": 8,
        "start_time": "2021-11-05T09:49:43.744Z"
      },
      {
        "duration": 9,
        "start_time": "2021-11-05T09:49:58.219Z"
      },
      {
        "duration": 11,
        "start_time": "2021-11-05T09:50:11.197Z"
      },
      {
        "duration": 11,
        "start_time": "2021-11-05T09:50:11.991Z"
      },
      {
        "duration": 9,
        "start_time": "2021-11-05T09:50:35.840Z"
      },
      {
        "duration": 9,
        "start_time": "2021-11-05T09:50:36.921Z"
      },
      {
        "duration": 9,
        "start_time": "2021-11-05T09:50:40.824Z"
      },
      {
        "duration": 12,
        "start_time": "2021-11-05T09:50:44.346Z"
      },
      {
        "duration": 14,
        "start_time": "2021-11-05T09:51:06.333Z"
      },
      {
        "duration": 9,
        "start_time": "2021-11-05T09:51:06.350Z"
      },
      {
        "duration": 9,
        "start_time": "2021-11-05T09:51:06.839Z"
      },
      {
        "duration": 14,
        "start_time": "2021-11-05T09:51:07.492Z"
      },
      {
        "duration": 10,
        "start_time": "2021-11-05T09:51:15.093Z"
      },
      {
        "duration": 9,
        "start_time": "2021-11-05T09:51:32.518Z"
      },
      {
        "duration": 10,
        "start_time": "2021-11-05T09:51:33.680Z"
      },
      {
        "duration": 9,
        "start_time": "2021-11-05T09:51:34.528Z"
      },
      {
        "duration": 13,
        "start_time": "2021-11-05T09:51:39.693Z"
      },
      {
        "duration": 327,
        "start_time": "2021-11-05T09:52:07.425Z"
      },
      {
        "duration": 884,
        "start_time": "2021-11-05T10:00:06.693Z"
      },
      {
        "duration": 34,
        "start_time": "2021-11-05T10:00:07.579Z"
      },
      {
        "duration": 17,
        "start_time": "2021-11-05T10:00:07.616Z"
      },
      {
        "duration": 11,
        "start_time": "2021-11-05T10:00:07.635Z"
      },
      {
        "duration": 40,
        "start_time": "2021-11-05T10:00:07.649Z"
      },
      {
        "duration": 16,
        "start_time": "2021-11-05T10:00:07.692Z"
      },
      {
        "duration": 40,
        "start_time": "2021-11-05T10:00:07.710Z"
      },
      {
        "duration": 42,
        "start_time": "2021-11-05T10:00:07.754Z"
      },
      {
        "duration": 11,
        "start_time": "2021-11-05T10:00:07.799Z"
      },
      {
        "duration": 12,
        "start_time": "2021-11-05T10:00:07.813Z"
      },
      {
        "duration": 7,
        "start_time": "2021-11-05T10:00:07.828Z"
      },
      {
        "duration": 50,
        "start_time": "2021-11-05T10:00:07.837Z"
      },
      {
        "duration": 11,
        "start_time": "2021-11-05T10:00:07.889Z"
      },
      {
        "duration": 13,
        "start_time": "2021-11-05T10:00:07.903Z"
      },
      {
        "duration": 9,
        "start_time": "2021-11-05T10:00:07.919Z"
      },
      {
        "duration": 51,
        "start_time": "2021-11-05T10:00:07.931Z"
      },
      {
        "duration": 10,
        "start_time": "2021-11-05T10:00:07.984Z"
      },
      {
        "duration": 7,
        "start_time": "2021-11-05T10:00:07.996Z"
      },
      {
        "duration": 1445,
        "start_time": "2021-11-05T10:00:08.005Z"
      },
      {
        "duration": 4,
        "start_time": "2021-11-05T10:00:09.453Z"
      },
      {
        "duration": 18939,
        "start_time": "2021-11-05T10:00:09.460Z"
      },
      {
        "duration": 4,
        "start_time": "2021-11-05T10:00:28.401Z"
      },
      {
        "duration": 19771,
        "start_time": "2021-11-05T10:00:28.411Z"
      },
      {
        "duration": 26,
        "start_time": "2021-11-05T10:00:48.185Z"
      },
      {
        "duration": 14,
        "start_time": "2021-11-05T10:00:48.213Z"
      },
      {
        "duration": 10,
        "start_time": "2021-11-05T10:00:48.230Z"
      },
      {
        "duration": 387,
        "start_time": "2021-11-05T10:00:48.243Z"
      },
      {
        "duration": 20,
        "start_time": "2021-11-05T10:00:48.615Z"
      },
      {
        "duration": 19,
        "start_time": "2021-11-05T10:00:48.618Z"
      },
      {
        "duration": 17,
        "start_time": "2021-11-05T10:00:48.622Z"
      },
      {
        "duration": 14,
        "start_time": "2021-11-05T10:00:48.627Z"
      },
      {
        "duration": 14,
        "start_time": "2021-11-05T10:00:48.629Z"
      },
      {
        "duration": 13,
        "start_time": "2021-11-05T10:00:48.632Z"
      },
      {
        "duration": 12,
        "start_time": "2021-11-05T10:00:48.635Z"
      },
      {
        "duration": 12,
        "start_time": "2021-11-05T10:00:48.637Z"
      },
      {
        "duration": 7,
        "start_time": "2021-11-05T10:00:48.644Z"
      },
      {
        "duration": 7,
        "start_time": "2021-11-05T10:00:48.646Z"
      },
      {
        "duration": 7,
        "start_time": "2021-11-05T10:00:48.648Z"
      },
      {
        "duration": 7,
        "start_time": "2021-11-05T10:00:48.650Z"
      },
      {
        "duration": 7,
        "start_time": "2021-11-05T10:00:48.652Z"
      },
      {
        "duration": 7,
        "start_time": "2021-11-05T10:00:48.654Z"
      },
      {
        "duration": 7,
        "start_time": "2021-11-05T10:00:48.657Z"
      },
      {
        "duration": 7,
        "start_time": "2021-11-05T10:00:48.659Z"
      },
      {
        "duration": 4,
        "start_time": "2021-11-05T10:00:48.664Z"
      },
      {
        "duration": 4,
        "start_time": "2021-11-05T10:00:48.666Z"
      },
      {
        "duration": 13,
        "start_time": "2021-11-05T10:00:48.668Z"
      },
      {
        "duration": 13,
        "start_time": "2021-11-05T10:00:48.670Z"
      },
      {
        "duration": 10,
        "start_time": "2021-11-05T10:00:48.675Z"
      },
      {
        "duration": 10,
        "start_time": "2021-11-05T10:00:48.677Z"
      },
      {
        "duration": 10,
        "start_time": "2021-11-05T10:00:48.679Z"
      },
      {
        "duration": 11,
        "start_time": "2021-11-05T10:00:48.680Z"
      },
      {
        "duration": -133,
        "start_time": "2021-11-05T10:00:48.826Z"
      },
      {
        "duration": -133,
        "start_time": "2021-11-05T10:00:48.828Z"
      },
      {
        "duration": -221,
        "start_time": "2021-11-05T10:00:48.918Z"
      },
      {
        "duration": -335,
        "start_time": "2021-11-05T10:00:49.034Z"
      },
      {
        "duration": -389,
        "start_time": "2021-11-05T10:00:49.090Z"
      },
      {
        "duration": -387,
        "start_time": "2021-11-05T10:00:49.091Z"
      },
      {
        "duration": -392,
        "start_time": "2021-11-05T10:00:49.098Z"
      },
      {
        "duration": -392,
        "start_time": "2021-11-05T10:00:49.100Z"
      },
      {
        "duration": -391,
        "start_time": "2021-11-05T10:00:49.101Z"
      },
      {
        "duration": -391,
        "start_time": "2021-11-05T10:00:49.103Z"
      },
      {
        "duration": -390,
        "start_time": "2021-11-05T10:00:49.104Z"
      },
      {
        "duration": -390,
        "start_time": "2021-11-05T10:00:49.106Z"
      },
      {
        "duration": -390,
        "start_time": "2021-11-05T10:00:49.108Z"
      },
      {
        "duration": -388,
        "start_time": "2021-11-05T10:00:49.109Z"
      },
      {
        "duration": -330,
        "start_time": "2021-11-05T10:00:49.111Z"
      },
      {
        "duration": -329,
        "start_time": "2021-11-05T10:00:49.112Z"
      },
      {
        "duration": -328,
        "start_time": "2021-11-05T10:00:49.114Z"
      },
      {
        "duration": -327,
        "start_time": "2021-11-05T10:00:49.115Z"
      },
      {
        "duration": -327,
        "start_time": "2021-11-05T10:00:49.117Z"
      },
      {
        "duration": -327,
        "start_time": "2021-11-05T10:00:49.119Z"
      },
      {
        "duration": -326,
        "start_time": "2021-11-05T10:00:49.121Z"
      },
      {
        "duration": -325,
        "start_time": "2021-11-05T10:00:49.122Z"
      },
      {
        "duration": -325,
        "start_time": "2021-11-05T10:00:49.124Z"
      },
      {
        "duration": -324,
        "start_time": "2021-11-05T10:00:49.125Z"
      },
      {
        "duration": -324,
        "start_time": "2021-11-05T10:00:49.127Z"
      },
      {
        "duration": -322,
        "start_time": "2021-11-05T10:00:49.128Z"
      },
      {
        "duration": -322,
        "start_time": "2021-11-05T10:00:49.130Z"
      },
      {
        "duration": -336,
        "start_time": "2021-11-05T10:00:49.146Z"
      },
      {
        "duration": -336,
        "start_time": "2021-11-05T10:00:49.148Z"
      },
      {
        "duration": -335,
        "start_time": "2021-11-05T10:00:49.149Z"
      },
      {
        "duration": -334,
        "start_time": "2021-11-05T10:00:49.151Z"
      },
      {
        "duration": -333,
        "start_time": "2021-11-05T10:00:49.152Z"
      },
      {
        "duration": -273,
        "start_time": "2021-11-05T10:00:49.154Z"
      },
      {
        "duration": -271,
        "start_time": "2021-11-05T10:00:49.155Z"
      },
      {
        "duration": -271,
        "start_time": "2021-11-05T10:00:49.157Z"
      },
      {
        "duration": -270,
        "start_time": "2021-11-05T10:00:49.158Z"
      },
      {
        "duration": -270,
        "start_time": "2021-11-05T10:00:49.160Z"
      },
      {
        "duration": -269,
        "start_time": "2021-11-05T10:00:49.161Z"
      },
      {
        "duration": -269,
        "start_time": "2021-11-05T10:00:49.163Z"
      },
      {
        "duration": -268,
        "start_time": "2021-11-05T10:00:49.164Z"
      },
      {
        "duration": -268,
        "start_time": "2021-11-05T10:00:49.166Z"
      },
      {
        "duration": -270,
        "start_time": "2021-11-05T10:00:49.170Z"
      },
      {
        "duration": -269,
        "start_time": "2021-11-05T10:00:49.172Z"
      },
      {
        "duration": -268,
        "start_time": "2021-11-05T10:00:49.173Z"
      },
      {
        "duration": -268,
        "start_time": "2021-11-05T10:00:49.175Z"
      },
      {
        "duration": -268,
        "start_time": "2021-11-05T10:00:49.177Z"
      },
      {
        "duration": -267,
        "start_time": "2021-11-05T10:00:49.178Z"
      },
      {
        "duration": -267,
        "start_time": "2021-11-05T10:00:49.180Z"
      },
      {
        "duration": -266,
        "start_time": "2021-11-05T10:00:49.181Z"
      },
      {
        "duration": -266,
        "start_time": "2021-11-05T10:00:49.183Z"
      },
      {
        "duration": 293,
        "start_time": "2021-11-05T10:01:06.047Z"
      },
      {
        "duration": 12,
        "start_time": "2021-11-05T10:01:20.600Z"
      },
      {
        "duration": 320,
        "start_time": "2021-11-05T10:01:21.305Z"
      },
      {
        "duration": 1276,
        "start_time": "2021-11-05T10:01:33.317Z"
      },
      {
        "duration": 32,
        "start_time": "2021-11-05T10:01:34.596Z"
      },
      {
        "duration": 5,
        "start_time": "2021-11-05T10:01:34.631Z"
      },
      {
        "duration": 10,
        "start_time": "2021-11-05T10:01:34.639Z"
      },
      {
        "duration": 54,
        "start_time": "2021-11-05T10:01:34.652Z"
      },
      {
        "duration": 16,
        "start_time": "2021-11-05T10:01:34.709Z"
      },
      {
        "duration": 57,
        "start_time": "2021-11-05T10:01:34.727Z"
      },
      {
        "duration": 23,
        "start_time": "2021-11-05T10:01:34.786Z"
      },
      {
        "duration": 12,
        "start_time": "2021-11-05T10:01:34.813Z"
      },
      {
        "duration": 13,
        "start_time": "2021-11-05T10:01:34.828Z"
      },
      {
        "duration": 46,
        "start_time": "2021-11-05T10:01:34.843Z"
      },
      {
        "duration": 6,
        "start_time": "2021-11-05T10:01:34.892Z"
      },
      {
        "duration": 10,
        "start_time": "2021-11-05T10:01:34.900Z"
      },
      {
        "duration": 6,
        "start_time": "2021-11-05T10:01:34.913Z"
      },
      {
        "duration": 8,
        "start_time": "2021-11-05T10:01:34.921Z"
      },
      {
        "duration": 53,
        "start_time": "2021-11-05T10:01:34.931Z"
      },
      {
        "duration": 7,
        "start_time": "2021-11-05T10:01:34.987Z"
      },
      {
        "duration": 10,
        "start_time": "2021-11-05T10:01:34.997Z"
      },
      {
        "duration": 1362,
        "start_time": "2021-11-05T10:01:35.010Z"
      },
      {
        "duration": 7,
        "start_time": "2021-11-05T10:01:36.374Z"
      },
      {
        "duration": 20173,
        "start_time": "2021-11-05T10:01:36.384Z"
      },
      {
        "duration": 5,
        "start_time": "2021-11-05T10:01:56.560Z"
      },
      {
        "duration": 19423,
        "start_time": "2021-11-05T10:01:56.567Z"
      },
      {
        "duration": 27,
        "start_time": "2021-11-05T10:02:15.992Z"
      },
      {
        "duration": 13,
        "start_time": "2021-11-05T10:02:16.021Z"
      },
      {
        "duration": 12,
        "start_time": "2021-11-05T10:02:16.036Z"
      },
      {
        "duration": 446,
        "start_time": "2021-11-05T10:02:16.083Z"
      },
      {
        "duration": 27,
        "start_time": "2021-11-05T10:02:16.507Z"
      },
      {
        "duration": 26,
        "start_time": "2021-11-05T10:02:16.510Z"
      },
      {
        "duration": 24,
        "start_time": "2021-11-05T10:02:16.513Z"
      },
      {
        "duration": 22,
        "start_time": "2021-11-05T10:02:16.516Z"
      },
      {
        "duration": 21,
        "start_time": "2021-11-05T10:02:16.519Z"
      },
      {
        "duration": 20,
        "start_time": "2021-11-05T10:02:16.521Z"
      },
      {
        "duration": 18,
        "start_time": "2021-11-05T10:02:16.524Z"
      },
      {
        "duration": 18,
        "start_time": "2021-11-05T10:02:16.526Z"
      },
      {
        "duration": 17,
        "start_time": "2021-11-05T10:02:16.528Z"
      },
      {
        "duration": 16,
        "start_time": "2021-11-05T10:02:16.530Z"
      },
      {
        "duration": 14,
        "start_time": "2021-11-05T10:02:16.533Z"
      },
      {
        "duration": 14,
        "start_time": "2021-11-05T10:02:16.535Z"
      },
      {
        "duration": 13,
        "start_time": "2021-11-05T10:02:16.537Z"
      },
      {
        "duration": 12,
        "start_time": "2021-11-05T10:02:16.539Z"
      },
      {
        "duration": 12,
        "start_time": "2021-11-05T10:02:16.541Z"
      },
      {
        "duration": 12,
        "start_time": "2021-11-05T10:02:16.542Z"
      },
      {
        "duration": 5,
        "start_time": "2021-11-05T10:02:16.550Z"
      },
      {
        "duration": 5,
        "start_time": "2021-11-05T10:02:16.552Z"
      },
      {
        "duration": 4,
        "start_time": "2021-11-05T10:02:16.554Z"
      },
      {
        "duration": 3,
        "start_time": "2021-11-05T10:02:16.556Z"
      },
      {
        "duration": 3,
        "start_time": "2021-11-05T10:02:16.558Z"
      },
      {
        "duration": 3,
        "start_time": "2021-11-05T10:02:16.559Z"
      },
      {
        "duration": 2,
        "start_time": "2021-11-05T10:02:16.561Z"
      },
      {
        "duration": 2,
        "start_time": "2021-11-05T10:02:16.563Z"
      },
      {
        "duration": 1,
        "start_time": "2021-11-05T10:02:16.565Z"
      },
      {
        "duration": 0,
        "start_time": "2021-11-05T10:02:16.567Z"
      },
      {
        "duration": 0,
        "start_time": "2021-11-05T10:02:16.568Z"
      },
      {
        "duration": 0,
        "start_time": "2021-11-05T10:02:16.570Z"
      },
      {
        "duration": 10,
        "start_time": "2021-11-05T10:02:16.571Z"
      },
      {
        "duration": 10,
        "start_time": "2021-11-05T10:02:16.573Z"
      },
      {
        "duration": 11,
        "start_time": "2021-11-05T10:02:16.574Z"
      },
      {
        "duration": 10,
        "start_time": "2021-11-05T10:02:16.576Z"
      },
      {
        "duration": 11,
        "start_time": "2021-11-05T10:02:16.577Z"
      },
      {
        "duration": 10,
        "start_time": "2021-11-05T10:02:16.579Z"
      },
      {
        "duration": -166,
        "start_time": "2021-11-05T10:02:16.757Z"
      },
      {
        "duration": -264,
        "start_time": "2021-11-05T10:02:16.856Z"
      },
      {
        "duration": -349,
        "start_time": "2021-11-05T10:02:16.942Z"
      },
      {
        "duration": -442,
        "start_time": "2021-11-05T10:02:17.036Z"
      },
      {
        "duration": -442,
        "start_time": "2021-11-05T10:02:17.038Z"
      },
      {
        "duration": -442,
        "start_time": "2021-11-05T10:02:17.039Z"
      },
      {
        "duration": -442,
        "start_time": "2021-11-05T10:02:17.041Z"
      },
      {
        "duration": -442,
        "start_time": "2021-11-05T10:02:17.042Z"
      },
      {
        "duration": -443,
        "start_time": "2021-11-05T10:02:17.044Z"
      },
      {
        "duration": -443,
        "start_time": "2021-11-05T10:02:17.045Z"
      },
      {
        "duration": -443,
        "start_time": "2021-11-05T10:02:17.047Z"
      },
      {
        "duration": -443,
        "start_time": "2021-11-05T10:02:17.048Z"
      },
      {
        "duration": -443,
        "start_time": "2021-11-05T10:02:17.049Z"
      },
      {
        "duration": -444,
        "start_time": "2021-11-05T10:02:17.051Z"
      },
      {
        "duration": -443,
        "start_time": "2021-11-05T10:02:17.052Z"
      },
      {
        "duration": -444,
        "start_time": "2021-11-05T10:02:17.054Z"
      },
      {
        "duration": -444,
        "start_time": "2021-11-05T10:02:17.055Z"
      },
      {
        "duration": -443,
        "start_time": "2021-11-05T10:02:17.056Z"
      },
      {
        "duration": -444,
        "start_time": "2021-11-05T10:02:17.058Z"
      },
      {
        "duration": -443,
        "start_time": "2021-11-05T10:02:17.059Z"
      },
      {
        "duration": -443,
        "start_time": "2021-11-05T10:02:17.060Z"
      },
      {
        "duration": -380,
        "start_time": "2021-11-05T10:02:17.062Z"
      },
      {
        "duration": -380,
        "start_time": "2021-11-05T10:02:17.063Z"
      },
      {
        "duration": -380,
        "start_time": "2021-11-05T10:02:17.064Z"
      },
      {
        "duration": -380,
        "start_time": "2021-11-05T10:02:17.066Z"
      },
      {
        "duration": -380,
        "start_time": "2021-11-05T10:02:17.067Z"
      },
      {
        "duration": -380,
        "start_time": "2021-11-05T10:02:17.068Z"
      },
      {
        "duration": -381,
        "start_time": "2021-11-05T10:02:17.070Z"
      },
      {
        "duration": -381,
        "start_time": "2021-11-05T10:02:17.071Z"
      },
      {
        "duration": -381,
        "start_time": "2021-11-05T10:02:17.072Z"
      },
      {
        "duration": -381,
        "start_time": "2021-11-05T10:02:17.074Z"
      },
      {
        "duration": -381,
        "start_time": "2021-11-05T10:02:17.075Z"
      },
      {
        "duration": -380,
        "start_time": "2021-11-05T10:02:17.076Z"
      },
      {
        "duration": -380,
        "start_time": "2021-11-05T10:02:17.078Z"
      },
      {
        "duration": -380,
        "start_time": "2021-11-05T10:02:17.079Z"
      },
      {
        "duration": -381,
        "start_time": "2021-11-05T10:02:17.081Z"
      },
      {
        "duration": -381,
        "start_time": "2021-11-05T10:02:17.082Z"
      },
      {
        "duration": -380,
        "start_time": "2021-11-05T10:02:17.083Z"
      },
      {
        "duration": -381,
        "start_time": "2021-11-05T10:02:17.085Z"
      },
      {
        "duration": -381,
        "start_time": "2021-11-05T10:02:17.086Z"
      },
      {
        "duration": 998,
        "start_time": "2021-11-05T10:02:56.803Z"
      },
      {
        "duration": 26,
        "start_time": "2021-11-05T10:02:57.804Z"
      },
      {
        "duration": 5,
        "start_time": "2021-11-05T10:02:57.832Z"
      },
      {
        "duration": 6,
        "start_time": "2021-11-05T10:02:57.840Z"
      },
      {
        "duration": 53,
        "start_time": "2021-11-05T10:02:57.848Z"
      },
      {
        "duration": 15,
        "start_time": "2021-11-05T10:02:57.904Z"
      },
      {
        "duration": 62,
        "start_time": "2021-11-05T10:02:57.921Z"
      },
      {
        "duration": 21,
        "start_time": "2021-11-05T10:02:57.987Z"
      },
      {
        "duration": 12,
        "start_time": "2021-11-05T10:02:58.011Z"
      },
      {
        "duration": 12,
        "start_time": "2021-11-05T10:02:58.025Z"
      },
      {
        "duration": 42,
        "start_time": "2021-11-05T10:02:58.040Z"
      },
      {
        "duration": 7,
        "start_time": "2021-11-05T10:02:58.084Z"
      },
      {
        "duration": 12,
        "start_time": "2021-11-05T10:02:58.093Z"
      },
      {
        "duration": 11,
        "start_time": "2021-11-05T10:02:58.108Z"
      },
      {
        "duration": 8,
        "start_time": "2021-11-05T10:02:58.121Z"
      },
      {
        "duration": 7,
        "start_time": "2021-11-05T10:02:58.131Z"
      },
      {
        "duration": 43,
        "start_time": "2021-11-05T10:02:58.141Z"
      },
      {
        "duration": 4,
        "start_time": "2021-11-05T10:02:58.187Z"
      },
      {
        "duration": 1330,
        "start_time": "2021-11-05T10:02:58.193Z"
      },
      {
        "duration": 4,
        "start_time": "2021-11-05T10:02:59.525Z"
      },
      {
        "duration": 18972,
        "start_time": "2021-11-05T10:02:59.531Z"
      },
      {
        "duration": 5,
        "start_time": "2021-11-05T10:03:18.505Z"
      },
      {
        "duration": 19613,
        "start_time": "2021-11-05T10:03:18.516Z"
      },
      {
        "duration": 26,
        "start_time": "2021-11-05T10:03:38.133Z"
      },
      {
        "duration": 26,
        "start_time": "2021-11-05T10:03:38.161Z"
      },
      {
        "duration": 13,
        "start_time": "2021-11-05T10:03:38.189Z"
      },
      {
        "duration": 662,
        "start_time": "2021-11-05T10:03:38.205Z"
      },
      {
        "duration": 15,
        "start_time": "2021-11-05T10:03:38.869Z"
      },
      {
        "duration": 8,
        "start_time": "2021-11-05T10:03:38.886Z"
      },
      {
        "duration": 10,
        "start_time": "2021-11-05T10:03:38.896Z"
      },
      {
        "duration": 676,
        "start_time": "2021-11-05T10:03:38.909Z"
      },
      {
        "duration": 10,
        "start_time": "2021-11-05T10:03:39.587Z"
      },
      {
        "duration": 34,
        "start_time": "2021-11-05T10:03:39.600Z"
      },
      {
        "duration": 16,
        "start_time": "2021-11-05T10:03:39.636Z"
      },
      {
        "duration": 412,
        "start_time": "2021-11-05T10:03:39.683Z"
      },
      {
        "duration": 12,
        "start_time": "2021-11-05T10:03:40.097Z"
      },
      {
        "duration": 515,
        "start_time": "2021-11-05T10:03:40.112Z"
      },
      {
        "duration": 16,
        "start_time": "2021-11-05T10:03:40.629Z"
      },
      {
        "duration": 10,
        "start_time": "2021-11-05T10:03:40.648Z"
      },
      {
        "duration": 2027,
        "start_time": "2021-11-05T10:03:40.683Z"
      },
      {
        "duration": 9,
        "start_time": "2021-11-05T10:03:42.712Z"
      },
      {
        "duration": 65,
        "start_time": "2021-11-05T10:03:42.723Z"
      },
      {
        "duration": 229,
        "start_time": "2021-11-05T10:03:42.790Z"
      },
      {
        "duration": 34,
        "start_time": "2021-11-05T10:03:43.021Z"
      },
      {
        "duration": 853,
        "start_time": "2021-11-05T10:03:43.057Z"
      },
      {
        "duration": 834,
        "start_time": "2021-11-05T10:03:43.913Z"
      },
      {
        "duration": 32,
        "start_time": "2021-11-05T10:03:44.749Z"
      },
      {
        "duration": 853,
        "start_time": "2021-11-05T10:03:44.784Z"
      },
      {
        "duration": 893,
        "start_time": "2021-11-05T10:03:45.639Z"
      },
      {
        "duration": 269,
        "start_time": "2021-11-05T10:03:46.535Z"
      },
      {
        "duration": 19,
        "start_time": "2021-11-05T10:03:46.807Z"
      },
      {
        "duration": 58,
        "start_time": "2021-11-05T10:03:46.829Z"
      },
      {
        "duration": 905,
        "start_time": "2021-11-05T10:03:46.889Z"
      },
      {
        "duration": 794,
        "start_time": "2021-11-05T10:03:47.796Z"
      },
      {
        "duration": 18,
        "start_time": "2021-11-05T10:03:48.594Z"
      },
      {
        "duration": 857,
        "start_time": "2021-11-05T10:03:48.615Z"
      },
      {
        "duration": 312,
        "start_time": "2021-11-05T10:03:49.475Z"
      },
      {
        "duration": 821,
        "start_time": "2021-11-05T10:03:49.790Z"
      },
      {
        "duration": 304,
        "start_time": "2021-11-05T10:03:50.614Z"
      },
      {
        "duration": 821,
        "start_time": "2021-11-05T10:03:50.921Z"
      },
      {
        "duration": 291,
        "start_time": "2021-11-05T10:03:51.745Z"
      },
      {
        "duration": 11,
        "start_time": "2021-11-05T10:03:52.039Z"
      },
      {
        "duration": 30,
        "start_time": "2021-11-05T10:03:52.053Z"
      },
      {
        "duration": 11,
        "start_time": "2021-11-05T10:03:52.086Z"
      },
      {
        "duration": 8,
        "start_time": "2021-11-05T10:03:52.099Z"
      },
      {
        "duration": 29,
        "start_time": "2021-11-05T10:03:52.110Z"
      },
      {
        "duration": 10,
        "start_time": "2021-11-05T10:03:52.182Z"
      },
      {
        "duration": 13,
        "start_time": "2021-11-05T10:03:52.200Z"
      },
      {
        "duration": 6,
        "start_time": "2021-11-05T10:03:52.216Z"
      },
      {
        "duration": 58,
        "start_time": "2021-11-05T10:03:52.224Z"
      },
      {
        "duration": 297,
        "start_time": "2021-11-05T10:03:52.284Z"
      },
      {
        "duration": 9,
        "start_time": "2021-11-05T10:03:52.583Z"
      },
      {
        "duration": 27,
        "start_time": "2021-11-05T10:03:52.594Z"
      },
      {
        "duration": 10,
        "start_time": "2021-11-05T10:03:52.624Z"
      },
      {
        "duration": 8,
        "start_time": "2021-11-05T10:03:52.636Z"
      },
      {
        "duration": 755,
        "start_time": "2021-11-05T10:03:52.646Z"
      },
      {
        "duration": 11,
        "start_time": "2021-11-05T10:03:53.404Z"
      },
      {
        "duration": 8,
        "start_time": "2021-11-05T10:03:53.417Z"
      },
      {
        "duration": 758,
        "start_time": "2021-11-05T10:03:53.427Z"
      },
      {
        "duration": 10,
        "start_time": "2021-11-05T10:03:54.188Z"
      },
      {
        "duration": 13,
        "start_time": "2021-11-05T10:03:54.200Z"
      },
      {
        "duration": 400,
        "start_time": "2021-11-05T10:03:54.215Z"
      },
      {
        "duration": 10,
        "start_time": "2021-11-05T10:03:54.618Z"
      },
      {
        "duration": 422,
        "start_time": "2021-11-05T10:03:54.631Z"
      },
      {
        "duration": 537,
        "start_time": "2021-11-05T10:03:55.056Z"
      },
      {
        "duration": 501,
        "start_time": "2021-11-05T10:03:55.596Z"
      },
      {
        "duration": 14,
        "start_time": "2021-11-05T10:03:56.100Z"
      },
      {
        "duration": 13,
        "start_time": "2021-11-05T10:03:56.117Z"
      },
      {
        "duration": 12,
        "start_time": "2021-11-05T10:03:56.133Z"
      },
      {
        "duration": 13,
        "start_time": "2021-11-05T10:03:56.181Z"
      },
      {
        "duration": 32,
        "start_time": "2021-11-05T10:03:56.197Z"
      },
      {
        "duration": 8,
        "start_time": "2021-11-05T10:03:56.231Z"
      },
      {
        "duration": 574,
        "start_time": "2021-11-05T10:03:56.241Z"
      },
      {
        "duration": 607,
        "start_time": "2021-11-05T10:03:56.818Z"
      },
      {
        "duration": 790,
        "start_time": "2021-11-05T10:03:57.427Z"
      },
      {
        "duration": 498,
        "start_time": "2021-11-05T10:03:58.220Z"
      },
      {
        "duration": 7,
        "start_time": "2021-11-05T10:03:58.721Z"
      },
      {
        "duration": 14,
        "start_time": "2021-11-05T10:03:58.731Z"
      },
      {
        "duration": 40,
        "start_time": "2021-11-05T10:03:58.747Z"
      },
      {
        "duration": 12,
        "start_time": "2021-11-05T10:03:58.789Z"
      },
      {
        "duration": 377,
        "start_time": "2021-11-05T10:03:58.804Z"
      },
      {
        "duration": 11,
        "start_time": "2021-11-05T10:05:00.262Z"
      },
      {
        "duration": 8,
        "start_time": "2021-11-05T10:05:01.206Z"
      },
      {
        "duration": 8,
        "start_time": "2021-11-05T10:05:01.999Z"
      },
      {
        "duration": 302,
        "start_time": "2021-11-05T10:05:06.127Z"
      },
      {
        "duration": 304,
        "start_time": "2021-11-05T10:06:29.419Z"
      },
      {
        "duration": 11,
        "start_time": "2021-11-05T10:07:00.828Z"
      },
      {
        "duration": 7,
        "start_time": "2021-11-05T10:07:01.644Z"
      },
      {
        "duration": 9,
        "start_time": "2021-11-05T10:07:02.406Z"
      },
      {
        "duration": 386,
        "start_time": "2021-11-05T10:07:08.288Z"
      },
      {
        "duration": 332,
        "start_time": "2021-11-05T10:07:41.518Z"
      },
      {
        "duration": 332,
        "start_time": "2021-11-05T10:07:53.919Z"
      },
      {
        "duration": 11,
        "start_time": "2021-11-05T10:08:38.751Z"
      },
      {
        "duration": 5,
        "start_time": "2021-11-05T10:09:26.100Z"
      },
      {
        "duration": 11,
        "start_time": "2021-11-05T10:09:38.222Z"
      },
      {
        "duration": 1231,
        "start_time": "2021-11-05T10:09:56.630Z"
      },
      {
        "duration": 279,
        "start_time": "2021-11-05T10:10:22.912Z"
      },
      {
        "duration": 277,
        "start_time": "2021-11-05T10:10:27.863Z"
      },
      {
        "duration": 305,
        "start_time": "2021-11-05T10:10:44.069Z"
      },
      {
        "duration": 12,
        "start_time": "2021-11-05T10:10:51.166Z"
      },
      {
        "duration": 10,
        "start_time": "2021-11-05T10:10:55.821Z"
      },
      {
        "duration": 8,
        "start_time": "2021-11-05T10:10:56.566Z"
      },
      {
        "duration": 9,
        "start_time": "2021-11-05T10:10:57.271Z"
      },
      {
        "duration": 12,
        "start_time": "2021-11-05T10:10:58.483Z"
      },
      {
        "duration": 10,
        "start_time": "2021-11-05T10:11:07.275Z"
      },
      {
        "duration": 10,
        "start_time": "2021-11-05T10:11:10.381Z"
      },
      {
        "duration": 7,
        "start_time": "2021-11-05T10:11:11.063Z"
      },
      {
        "duration": 8,
        "start_time": "2021-11-05T10:11:11.725Z"
      },
      {
        "duration": 11,
        "start_time": "2021-11-05T10:11:12.561Z"
      },
      {
        "duration": 13,
        "start_time": "2021-11-05T10:11:28.677Z"
      },
      {
        "duration": 9,
        "start_time": "2021-11-05T10:11:29.974Z"
      },
      {
        "duration": 10,
        "start_time": "2021-11-05T10:11:31.231Z"
      },
      {
        "duration": 8,
        "start_time": "2021-11-05T10:11:42.921Z"
      },
      {
        "duration": 10,
        "start_time": "2021-11-05T10:11:57.962Z"
      },
      {
        "duration": 15,
        "start_time": "2021-11-05T10:12:11.046Z"
      },
      {
        "duration": 1805,
        "start_time": "2021-11-05T10:12:44.375Z"
      },
      {
        "duration": 320,
        "start_time": "2021-11-05T10:13:10.744Z"
      },
      {
        "duration": 300,
        "start_time": "2021-11-05T10:13:22.298Z"
      },
      {
        "duration": 10,
        "start_time": "2021-11-05T10:13:54.997Z"
      },
      {
        "duration": 7,
        "start_time": "2021-11-05T10:13:56.017Z"
      },
      {
        "duration": 8,
        "start_time": "2021-11-05T10:13:57.268Z"
      },
      {
        "duration": 13,
        "start_time": "2021-11-05T10:14:15.681Z"
      },
      {
        "duration": 10,
        "start_time": "2021-11-05T10:14:19.354Z"
      },
      {
        "duration": 8,
        "start_time": "2021-11-05T10:14:19.853Z"
      },
      {
        "duration": 9,
        "start_time": "2021-11-05T10:14:20.379Z"
      },
      {
        "duration": 8,
        "start_time": "2021-11-05T10:14:20.956Z"
      },
      {
        "duration": 15,
        "start_time": "2021-11-05T10:14:21.861Z"
      },
      {
        "duration": 292,
        "start_time": "2021-11-05T10:14:27.721Z"
      },
      {
        "duration": 13,
        "start_time": "2021-11-05T10:14:34.889Z"
      },
      {
        "duration": 13,
        "start_time": "2021-11-05T10:15:15.612Z"
      },
      {
        "duration": 92,
        "start_time": "2021-11-05T10:15:43.988Z"
      },
      {
        "duration": 7,
        "start_time": "2021-11-05T10:15:48.565Z"
      },
      {
        "duration": 15,
        "start_time": "2021-11-05T10:15:56.794Z"
      },
      {
        "duration": 20,
        "start_time": "2021-11-05T10:20:19.837Z"
      },
      {
        "duration": 10,
        "start_time": "2021-11-05T10:20:28.885Z"
      },
      {
        "duration": 96,
        "start_time": "2021-11-05T10:25:09.305Z"
      },
      {
        "duration": 284,
        "start_time": "2021-11-05T10:27:54.882Z"
      },
      {
        "duration": 285,
        "start_time": "2021-11-05T10:28:32.191Z"
      },
      {
        "duration": 283,
        "start_time": "2021-11-05T10:28:57.348Z"
      },
      {
        "duration": 285,
        "start_time": "2021-11-05T10:29:49.588Z"
      },
      {
        "duration": 7,
        "start_time": "2021-11-05T10:30:34.093Z"
      },
      {
        "duration": 950,
        "start_time": "2021-11-05T10:32:12.214Z"
      },
      {
        "duration": 26,
        "start_time": "2021-11-05T10:32:13.167Z"
      },
      {
        "duration": 5,
        "start_time": "2021-11-05T10:32:13.196Z"
      },
      {
        "duration": 5,
        "start_time": "2021-11-05T10:32:13.204Z"
      },
      {
        "duration": 30,
        "start_time": "2021-11-05T10:32:13.212Z"
      },
      {
        "duration": 47,
        "start_time": "2021-11-05T10:32:13.244Z"
      },
      {
        "duration": 35,
        "start_time": "2021-11-05T10:32:13.294Z"
      },
      {
        "duration": 48,
        "start_time": "2021-11-05T10:32:13.333Z"
      },
      {
        "duration": 12,
        "start_time": "2021-11-05T10:32:13.385Z"
      },
      {
        "duration": 13,
        "start_time": "2021-11-05T10:32:13.400Z"
      },
      {
        "duration": 7,
        "start_time": "2021-11-05T10:32:13.415Z"
      },
      {
        "duration": 6,
        "start_time": "2021-11-05T10:32:13.425Z"
      },
      {
        "duration": 50,
        "start_time": "2021-11-05T10:32:13.434Z"
      },
      {
        "duration": 8,
        "start_time": "2021-11-05T10:32:13.486Z"
      },
      {
        "duration": 10,
        "start_time": "2021-11-05T10:32:13.496Z"
      },
      {
        "duration": 9,
        "start_time": "2021-11-05T10:32:13.508Z"
      },
      {
        "duration": 8,
        "start_time": "2021-11-05T10:32:13.520Z"
      },
      {
        "duration": 5,
        "start_time": "2021-11-05T10:32:13.531Z"
      },
      {
        "duration": 1336,
        "start_time": "2021-11-05T10:32:13.582Z"
      },
      {
        "duration": 4,
        "start_time": "2021-11-05T10:32:14.921Z"
      },
      {
        "duration": 18562,
        "start_time": "2021-11-05T10:32:14.928Z"
      },
      {
        "duration": 4,
        "start_time": "2021-11-05T10:32:33.492Z"
      },
      {
        "duration": 19867,
        "start_time": "2021-11-05T10:32:33.504Z"
      },
      {
        "duration": 26,
        "start_time": "2021-11-05T10:32:53.375Z"
      },
      {
        "duration": 11,
        "start_time": "2021-11-05T10:32:53.404Z"
      },
      {
        "duration": 10,
        "start_time": "2021-11-05T10:32:53.417Z"
      },
      {
        "duration": 759,
        "start_time": "2021-11-05T10:32:53.430Z"
      },
      {
        "duration": 12,
        "start_time": "2021-11-05T10:32:54.192Z"
      },
      {
        "duration": 8,
        "start_time": "2021-11-05T10:32:54.207Z"
      },
      {
        "duration": 9,
        "start_time": "2021-11-05T10:32:54.217Z"
      },
      {
        "duration": 1068,
        "start_time": "2021-11-05T10:32:54.229Z"
      },
      {
        "duration": 15,
        "start_time": "2021-11-05T10:32:55.300Z"
      },
      {
        "duration": 80,
        "start_time": "2021-11-05T10:32:55.318Z"
      },
      {
        "duration": 11,
        "start_time": "2021-11-05T10:32:55.400Z"
      },
      {
        "duration": 437,
        "start_time": "2021-11-05T10:32:55.413Z"
      },
      {
        "duration": 28,
        "start_time": "2021-11-05T10:32:55.853Z"
      },
      {
        "duration": 538,
        "start_time": "2021-11-05T10:32:55.884Z"
      },
      {
        "duration": 18,
        "start_time": "2021-11-05T10:32:56.425Z"
      },
      {
        "duration": 39,
        "start_time": "2021-11-05T10:32:56.446Z"
      },
      {
        "duration": 2140,
        "start_time": "2021-11-05T10:32:56.488Z"
      },
      {
        "duration": 8,
        "start_time": "2021-11-05T10:32:58.631Z"
      },
      {
        "duration": 62,
        "start_time": "2021-11-05T10:32:58.642Z"
      },
      {
        "duration": 234,
        "start_time": "2021-11-05T10:32:58.707Z"
      },
      {
        "duration": 47,
        "start_time": "2021-11-05T10:32:58.943Z"
      },
      {
        "duration": 827,
        "start_time": "2021-11-05T10:32:58.993Z"
      },
      {
        "duration": 841,
        "start_time": "2021-11-05T10:32:59.823Z"
      },
      {
        "duration": 27,
        "start_time": "2021-11-05T10:33:00.666Z"
      },
      {
        "duration": 834,
        "start_time": "2021-11-05T10:33:00.695Z"
      },
      {
        "duration": 893,
        "start_time": "2021-11-05T10:33:01.532Z"
      },
      {
        "duration": 272,
        "start_time": "2021-11-05T10:33:02.428Z"
      },
      {
        "duration": 17,
        "start_time": "2021-11-05T10:33:02.703Z"
      },
      {
        "duration": 37,
        "start_time": "2021-11-05T10:33:02.722Z"
      },
      {
        "duration": 823,
        "start_time": "2021-11-05T10:33:02.782Z"
      },
      {
        "duration": 762,
        "start_time": "2021-11-05T10:33:03.608Z"
      },
      {
        "duration": 21,
        "start_time": "2021-11-05T10:33:04.372Z"
      },
      {
        "duration": 828,
        "start_time": "2021-11-05T10:33:04.395Z"
      },
      {
        "duration": 292,
        "start_time": "2021-11-05T10:33:05.225Z"
      },
      {
        "duration": 795,
        "start_time": "2021-11-05T10:33:05.519Z"
      },
      {
        "duration": 297,
        "start_time": "2021-11-05T10:33:06.316Z"
      },
      {
        "duration": 805,
        "start_time": "2021-11-05T10:33:06.615Z"
      },
      {
        "duration": 293,
        "start_time": "2021-11-05T10:33:07.423Z"
      },
      {
        "duration": 10,
        "start_time": "2021-11-05T10:33:07.719Z"
      },
      {
        "duration": 10,
        "start_time": "2021-11-05T10:33:07.732Z"
      },
      {
        "duration": 41,
        "start_time": "2021-11-05T10:33:07.745Z"
      },
      {
        "duration": 7,
        "start_time": "2021-11-05T10:33:07.789Z"
      },
      {
        "duration": 29,
        "start_time": "2021-11-05T10:33:07.799Z"
      },
      {
        "duration": 52,
        "start_time": "2021-11-05T10:33:07.830Z"
      },
      {
        "duration": 15,
        "start_time": "2021-11-05T10:33:07.894Z"
      },
      {
        "duration": 7,
        "start_time": "2021-11-05T10:33:07.912Z"
      },
      {
        "duration": 28,
        "start_time": "2021-11-05T10:33:07.922Z"
      },
      {
        "duration": 296,
        "start_time": "2021-11-05T10:33:07.981Z"
      },
      {
        "duration": 10,
        "start_time": "2021-11-05T10:33:08.282Z"
      },
      {
        "duration": 30,
        "start_time": "2021-11-05T10:33:08.294Z"
      },
      {
        "duration": 18,
        "start_time": "2021-11-05T10:33:08.327Z"
      },
      {
        "duration": 36,
        "start_time": "2021-11-05T10:33:08.347Z"
      },
      {
        "duration": 614,
        "start_time": "2021-11-05T10:33:08.386Z"
      },
      {
        "duration": 12,
        "start_time": "2021-11-05T10:33:09.002Z"
      },
      {
        "duration": 20,
        "start_time": "2021-11-05T10:33:09.016Z"
      },
      {
        "duration": 755,
        "start_time": "2021-11-05T10:33:09.038Z"
      },
      {
        "duration": 11,
        "start_time": "2021-11-05T10:33:09.795Z"
      },
      {
        "duration": 10,
        "start_time": "2021-11-05T10:33:09.809Z"
      },
      {
        "duration": 405,
        "start_time": "2021-11-05T10:33:09.822Z"
      },
      {
        "duration": 10,
        "start_time": "2021-11-05T10:33:10.229Z"
      },
      {
        "duration": 409,
        "start_time": "2021-11-05T10:33:10.241Z"
      },
      {
        "duration": 536,
        "start_time": "2021-11-05T10:33:10.652Z"
      },
      {
        "duration": 481,
        "start_time": "2021-11-05T10:33:11.190Z"
      },
      {
        "duration": 17,
        "start_time": "2021-11-05T10:33:11.673Z"
      },
      {
        "duration": 11,
        "start_time": "2021-11-05T10:33:11.693Z"
      },
      {
        "duration": 13,
        "start_time": "2021-11-05T10:33:11.706Z"
      },
      {
        "duration": 15,
        "start_time": "2021-11-05T10:33:11.721Z"
      },
      {
        "duration": 65,
        "start_time": "2021-11-05T10:33:11.739Z"
      },
      {
        "duration": 6,
        "start_time": "2021-11-05T10:33:11.807Z"
      },
      {
        "duration": 694,
        "start_time": "2021-11-05T10:33:11.816Z"
      },
      {
        "duration": 509,
        "start_time": "2021-11-05T10:33:12.513Z"
      },
      {
        "duration": 805,
        "start_time": "2021-11-05T10:33:13.025Z"
      },
      {
        "duration": 535,
        "start_time": "2021-11-05T10:33:13.833Z"
      },
      {
        "duration": 292,
        "start_time": "2021-11-05T10:33:14.370Z"
      },
      {
        "duration": 8,
        "start_time": "2021-11-05T10:33:14.664Z"
      },
      {
        "duration": 7,
        "start_time": "2021-11-05T10:33:14.682Z"
      },
      {
        "duration": 18,
        "start_time": "2021-11-05T10:33:14.691Z"
      },
      {
        "duration": 9,
        "start_time": "2021-11-05T10:33:14.711Z"
      },
      {
        "duration": 967,
        "start_time": "2021-11-15T14:09:46.567Z"
      },
      {
        "duration": 28,
        "start_time": "2021-11-15T14:09:47.536Z"
      },
      {
        "duration": 26,
        "start_time": "2021-11-15T14:09:47.567Z"
      },
      {
        "duration": 14,
        "start_time": "2021-11-15T14:09:47.596Z"
      },
      {
        "duration": 35,
        "start_time": "2021-11-15T14:09:47.613Z"
      },
      {
        "duration": 18,
        "start_time": "2021-11-15T14:09:47.651Z"
      },
      {
        "duration": 57,
        "start_time": "2021-11-15T14:09:47.672Z"
      },
      {
        "duration": 21,
        "start_time": "2021-11-15T14:09:47.733Z"
      },
      {
        "duration": 14,
        "start_time": "2021-11-15T14:09:47.757Z"
      },
      {
        "duration": 15,
        "start_time": "2021-11-15T14:09:47.773Z"
      },
      {
        "duration": 7,
        "start_time": "2021-11-15T14:09:47.791Z"
      },
      {
        "duration": 6,
        "start_time": "2021-11-15T14:09:47.830Z"
      },
      {
        "duration": 14,
        "start_time": "2021-11-15T14:09:47.839Z"
      },
      {
        "duration": 17,
        "start_time": "2021-11-15T14:09:47.855Z"
      },
      {
        "duration": 25,
        "start_time": "2021-11-15T14:09:47.874Z"
      },
      {
        "duration": 21,
        "start_time": "2021-11-15T14:09:47.901Z"
      },
      {
        "duration": 8,
        "start_time": "2021-11-15T14:09:47.925Z"
      },
      {
        "duration": 11,
        "start_time": "2021-11-15T14:09:47.935Z"
      },
      {
        "duration": 1321,
        "start_time": "2021-11-15T14:09:47.949Z"
      },
      {
        "duration": 5,
        "start_time": "2021-11-15T14:09:49.272Z"
      },
      {
        "duration": 18939,
        "start_time": "2021-11-15T14:09:49.279Z"
      },
      {
        "duration": 8,
        "start_time": "2021-11-15T14:10:08.221Z"
      },
      {
        "duration": 19172,
        "start_time": "2021-11-15T14:10:08.235Z"
      },
      {
        "duration": 34,
        "start_time": "2021-11-15T14:10:27.412Z"
      },
      {
        "duration": 11,
        "start_time": "2021-11-15T14:10:27.448Z"
      },
      {
        "duration": 11,
        "start_time": "2021-11-15T14:10:27.461Z"
      },
      {
        "duration": 676,
        "start_time": "2021-11-15T14:10:27.475Z"
      },
      {
        "duration": 11,
        "start_time": "2021-11-15T14:10:28.153Z"
      },
      {
        "duration": 17,
        "start_time": "2021-11-15T14:10:28.166Z"
      },
      {
        "duration": 14,
        "start_time": "2021-11-15T14:10:28.186Z"
      },
      {
        "duration": 689,
        "start_time": "2021-11-15T14:10:28.203Z"
      },
      {
        "duration": 10,
        "start_time": "2021-11-15T14:10:28.894Z"
      },
      {
        "duration": 56,
        "start_time": "2021-11-15T14:10:28.906Z"
      },
      {
        "duration": 8,
        "start_time": "2021-11-15T14:10:28.965Z"
      },
      {
        "duration": 420,
        "start_time": "2021-11-15T14:10:28.976Z"
      },
      {
        "duration": 29,
        "start_time": "2021-11-15T14:10:29.400Z"
      },
      {
        "duration": 530,
        "start_time": "2021-11-15T14:10:29.432Z"
      },
      {
        "duration": 16,
        "start_time": "2021-11-15T14:10:29.966Z"
      },
      {
        "duration": 16,
        "start_time": "2021-11-15T14:10:29.985Z"
      },
      {
        "duration": 2203,
        "start_time": "2021-11-15T14:10:30.028Z"
      },
      {
        "duration": 8,
        "start_time": "2021-11-15T14:10:32.233Z"
      },
      {
        "duration": 52,
        "start_time": "2021-11-15T14:10:32.244Z"
      },
      {
        "duration": 251,
        "start_time": "2021-11-15T14:10:32.298Z"
      },
      {
        "duration": 35,
        "start_time": "2021-11-15T14:10:32.551Z"
      },
      {
        "duration": 852,
        "start_time": "2021-11-15T14:10:32.589Z"
      },
      {
        "duration": 835,
        "start_time": "2021-11-15T14:10:33.443Z"
      },
      {
        "duration": 17,
        "start_time": "2021-11-15T14:10:34.280Z"
      },
      {
        "duration": 848,
        "start_time": "2021-11-15T14:10:34.300Z"
      },
      {
        "duration": 879,
        "start_time": "2021-11-15T14:10:35.151Z"
      },
      {
        "duration": 279,
        "start_time": "2021-11-15T14:10:36.032Z"
      },
      {
        "duration": 24,
        "start_time": "2021-11-15T14:10:36.313Z"
      },
      {
        "duration": 68,
        "start_time": "2021-11-15T14:10:36.339Z"
      },
      {
        "duration": 821,
        "start_time": "2021-11-15T14:10:36.410Z"
      },
      {
        "duration": 775,
        "start_time": "2021-11-15T14:10:37.234Z"
      },
      {
        "duration": 29,
        "start_time": "2021-11-15T14:10:38.012Z"
      },
      {
        "duration": 842,
        "start_time": "2021-11-15T14:10:38.044Z"
      },
      {
        "duration": 315,
        "start_time": "2021-11-15T14:10:38.889Z"
      },
      {
        "duration": 834,
        "start_time": "2021-11-15T14:10:39.207Z"
      },
      {
        "duration": 304,
        "start_time": "2021-11-15T14:10:40.044Z"
      },
      {
        "duration": 824,
        "start_time": "2021-11-15T14:10:40.350Z"
      },
      {
        "duration": 294,
        "start_time": "2021-11-15T14:10:41.177Z"
      },
      {
        "duration": 10,
        "start_time": "2021-11-15T14:10:41.474Z"
      },
      {
        "duration": 9,
        "start_time": "2021-11-15T14:10:41.487Z"
      },
      {
        "duration": 39,
        "start_time": "2021-11-15T14:10:41.499Z"
      },
      {
        "duration": 10,
        "start_time": "2021-11-15T14:10:41.541Z"
      },
      {
        "duration": 29,
        "start_time": "2021-11-15T14:10:41.553Z"
      },
      {
        "duration": 10,
        "start_time": "2021-11-15T14:10:41.584Z"
      },
      {
        "duration": 13,
        "start_time": "2021-11-15T14:10:41.634Z"
      },
      {
        "duration": 28,
        "start_time": "2021-11-15T14:10:41.650Z"
      },
      {
        "duration": 45,
        "start_time": "2021-11-15T14:10:41.680Z"
      },
      {
        "duration": 304,
        "start_time": "2021-11-15T14:10:41.728Z"
      },
      {
        "duration": 9,
        "start_time": "2021-11-15T14:10:42.035Z"
      },
      {
        "duration": 33,
        "start_time": "2021-11-15T14:10:42.047Z"
      },
      {
        "duration": 39,
        "start_time": "2021-11-15T14:10:42.082Z"
      },
      {
        "duration": 18,
        "start_time": "2021-11-15T14:10:42.123Z"
      },
      {
        "duration": 625,
        "start_time": "2021-11-15T14:10:42.144Z"
      },
      {
        "duration": 11,
        "start_time": "2021-11-15T14:10:42.772Z"
      },
      {
        "duration": 11,
        "start_time": "2021-11-15T14:10:42.786Z"
      },
      {
        "duration": 782,
        "start_time": "2021-11-15T14:10:42.800Z"
      },
      {
        "duration": 12,
        "start_time": "2021-11-15T14:10:43.585Z"
      },
      {
        "duration": 31,
        "start_time": "2021-11-15T14:10:43.599Z"
      },
      {
        "duration": 489,
        "start_time": "2021-11-15T14:10:43.633Z"
      },
      {
        "duration": 16,
        "start_time": "2021-11-15T14:10:44.124Z"
      },
      {
        "duration": 428,
        "start_time": "2021-11-15T14:10:44.142Z"
      },
      {
        "duration": 559,
        "start_time": "2021-11-15T14:10:44.573Z"
      },
      {
        "duration": 486,
        "start_time": "2021-11-15T14:10:45.135Z"
      },
      {
        "duration": 15,
        "start_time": "2021-11-15T14:10:45.624Z"
      },
      {
        "duration": 20,
        "start_time": "2021-11-15T14:10:45.642Z"
      },
      {
        "duration": 16,
        "start_time": "2021-11-15T14:10:45.664Z"
      },
      {
        "duration": 50,
        "start_time": "2021-11-15T14:10:45.683Z"
      },
      {
        "duration": 33,
        "start_time": "2021-11-15T14:10:45.735Z"
      },
      {
        "duration": 7,
        "start_time": "2021-11-15T14:10:45.771Z"
      },
      {
        "duration": 564,
        "start_time": "2021-11-15T14:10:45.780Z"
      },
      {
        "duration": 500,
        "start_time": "2021-11-15T14:10:46.347Z"
      },
      {
        "duration": 818,
        "start_time": "2021-11-15T14:10:46.850Z"
      },
      {
        "duration": 522,
        "start_time": "2021-11-15T14:10:47.670Z"
      },
      {
        "duration": 299,
        "start_time": "2021-11-15T14:10:48.195Z"
      },
      {
        "duration": 8,
        "start_time": "2021-11-15T14:10:48.496Z"
      },
      {
        "duration": 25,
        "start_time": "2021-11-15T14:10:48.507Z"
      },
      {
        "duration": 17,
        "start_time": "2021-11-15T14:10:48.535Z"
      },
      {
        "duration": 14,
        "start_time": "2021-11-15T14:10:48.554Z"
      },
      {
        "duration": 5,
        "start_time": "2021-11-15T14:11:45.580Z"
      },
      {
        "duration": 1041,
        "start_time": "2021-11-15T14:11:49.748Z"
      },
      {
        "duration": 50,
        "start_time": "2021-11-15T14:12:03.114Z"
      },
      {
        "duration": 935,
        "start_time": "2021-11-15T14:12:16.474Z"
      },
      {
        "duration": 31,
        "start_time": "2021-11-15T14:12:17.412Z"
      },
      {
        "duration": 13,
        "start_time": "2021-11-15T14:12:17.447Z"
      },
      {
        "duration": 12,
        "start_time": "2021-11-15T14:12:17.462Z"
      },
      {
        "duration": 33,
        "start_time": "2021-11-15T14:12:17.476Z"
      },
      {
        "duration": 29,
        "start_time": "2021-11-15T14:12:17.512Z"
      },
      {
        "duration": 38,
        "start_time": "2021-11-15T14:12:17.543Z"
      },
      {
        "duration": 46,
        "start_time": "2021-11-15T14:12:17.584Z"
      },
      {
        "duration": 12,
        "start_time": "2021-11-15T14:12:17.633Z"
      },
      {
        "duration": 11,
        "start_time": "2021-11-15T14:12:17.647Z"
      },
      {
        "duration": 9,
        "start_time": "2021-11-15T14:12:17.660Z"
      },
      {
        "duration": 14,
        "start_time": "2021-11-15T14:12:17.672Z"
      },
      {
        "duration": 41,
        "start_time": "2021-11-15T14:12:17.688Z"
      },
      {
        "duration": 11,
        "start_time": "2021-11-15T14:12:17.731Z"
      },
      {
        "duration": 7,
        "start_time": "2021-11-15T14:12:17.745Z"
      },
      {
        "duration": 29,
        "start_time": "2021-11-15T14:12:17.754Z"
      },
      {
        "duration": 24,
        "start_time": "2021-11-15T14:12:17.785Z"
      },
      {
        "duration": 26,
        "start_time": "2021-11-15T14:12:17.811Z"
      },
      {
        "duration": 967,
        "start_time": "2021-11-15T14:12:17.839Z"
      },
      {
        "duration": 57,
        "start_time": "2021-11-15T14:12:18.809Z"
      },
      {
        "duration": 4,
        "start_time": "2021-11-15T14:12:18.868Z"
      },
      {
        "duration": 19299,
        "start_time": "2021-11-15T14:12:18.875Z"
      },
      {
        "duration": 5,
        "start_time": "2021-11-15T14:12:38.180Z"
      },
      {
        "duration": 19927,
        "start_time": "2021-11-15T14:12:38.189Z"
      },
      {
        "duration": 30,
        "start_time": "2021-11-15T14:12:58.119Z"
      },
      {
        "duration": 15,
        "start_time": "2021-11-15T14:12:58.152Z"
      },
      {
        "duration": 11,
        "start_time": "2021-11-15T14:12:58.170Z"
      },
      {
        "duration": 679,
        "start_time": "2021-11-15T14:12:58.183Z"
      },
      {
        "duration": 11,
        "start_time": "2021-11-15T14:12:58.864Z"
      },
      {
        "duration": 8,
        "start_time": "2021-11-15T14:12:58.878Z"
      },
      {
        "duration": 41,
        "start_time": "2021-11-15T14:12:58.889Z"
      },
      {
        "duration": 664,
        "start_time": "2021-11-15T14:12:58.933Z"
      },
      {
        "duration": 12,
        "start_time": "2021-11-15T14:12:59.600Z"
      },
      {
        "duration": 35,
        "start_time": "2021-11-15T14:12:59.630Z"
      },
      {
        "duration": 8,
        "start_time": "2021-11-15T14:12:59.668Z"
      },
      {
        "duration": 422,
        "start_time": "2021-11-15T14:12:59.678Z"
      },
      {
        "duration": 27,
        "start_time": "2021-11-15T14:13:00.103Z"
      },
      {
        "duration": 515,
        "start_time": "2021-11-15T14:13:00.133Z"
      },
      {
        "duration": 15,
        "start_time": "2021-11-15T14:13:00.650Z"
      },
      {
        "duration": 33,
        "start_time": "2021-11-15T14:13:00.668Z"
      },
      {
        "duration": 2125,
        "start_time": "2021-11-15T14:13:00.704Z"
      },
      {
        "duration": 11,
        "start_time": "2021-11-15T14:13:02.832Z"
      },
      {
        "duration": 42,
        "start_time": "2021-11-15T14:13:02.846Z"
      },
      {
        "duration": 279,
        "start_time": "2021-11-15T14:13:02.891Z"
      },
      {
        "duration": 35,
        "start_time": "2021-11-15T14:13:03.173Z"
      },
      {
        "duration": 835,
        "start_time": "2021-11-15T14:13:03.229Z"
      },
      {
        "duration": 837,
        "start_time": "2021-11-15T14:13:04.067Z"
      },
      {
        "duration": 31,
        "start_time": "2021-11-15T14:13:04.907Z"
      },
      {
        "duration": 940,
        "start_time": "2021-11-15T14:13:04.941Z"
      },
      {
        "duration": 1088,
        "start_time": "2021-11-15T14:13:05.884Z"
      },
      {
        "duration": 309,
        "start_time": "2021-11-15T14:13:06.975Z"
      },
      {
        "duration": 20,
        "start_time": "2021-11-15T14:13:07.287Z"
      },
      {
        "duration": 51,
        "start_time": "2021-11-15T14:13:07.309Z"
      },
      {
        "duration": 1010,
        "start_time": "2021-11-15T14:13:07.362Z"
      },
      {
        "duration": 855,
        "start_time": "2021-11-15T14:13:08.375Z"
      },
      {
        "duration": 15,
        "start_time": "2021-11-15T14:13:09.232Z"
      },
      {
        "duration": 829,
        "start_time": "2021-11-15T14:13:09.249Z"
      },
      {
        "duration": 298,
        "start_time": "2021-11-15T14:13:10.080Z"
      },
      {
        "duration": 851,
        "start_time": "2021-11-15T14:13:10.381Z"
      },
      {
        "duration": 301,
        "start_time": "2021-11-15T14:13:11.234Z"
      },
      {
        "duration": 835,
        "start_time": "2021-11-15T14:13:11.539Z"
      },
      {
        "duration": 285,
        "start_time": "2021-11-15T14:13:12.376Z"
      },
      {
        "duration": 9,
        "start_time": "2021-11-15T14:13:12.663Z"
      },
      {
        "duration": 7,
        "start_time": "2021-11-15T14:13:12.674Z"
      },
      {
        "duration": 20,
        "start_time": "2021-11-15T14:13:12.683Z"
      },
      {
        "duration": 28,
        "start_time": "2021-11-15T14:13:12.705Z"
      },
      {
        "duration": 37,
        "start_time": "2021-11-15T14:13:12.735Z"
      },
      {
        "duration": 9,
        "start_time": "2021-11-15T14:13:12.780Z"
      },
      {
        "duration": 17,
        "start_time": "2021-11-15T14:13:12.792Z"
      },
      {
        "duration": 23,
        "start_time": "2021-11-15T14:13:12.811Z"
      },
      {
        "duration": 32,
        "start_time": "2021-11-15T14:13:12.836Z"
      },
      {
        "duration": 297,
        "start_time": "2021-11-15T14:13:12.870Z"
      },
      {
        "duration": 9,
        "start_time": "2021-11-15T14:13:13.169Z"
      },
      {
        "duration": 48,
        "start_time": "2021-11-15T14:13:13.181Z"
      },
      {
        "duration": 10,
        "start_time": "2021-11-15T14:13:13.231Z"
      },
      {
        "duration": 12,
        "start_time": "2021-11-15T14:13:13.244Z"
      },
      {
        "duration": 619,
        "start_time": "2021-11-15T14:13:13.258Z"
      },
      {
        "duration": 10,
        "start_time": "2021-11-15T14:13:13.880Z"
      },
      {
        "duration": 19,
        "start_time": "2021-11-15T14:13:13.893Z"
      },
      {
        "duration": 727,
        "start_time": "2021-11-15T14:13:13.929Z"
      },
      {
        "duration": 10,
        "start_time": "2021-11-15T14:13:14.658Z"
      },
      {
        "duration": 24,
        "start_time": "2021-11-15T14:13:14.670Z"
      },
      {
        "duration": 394,
        "start_time": "2021-11-15T14:13:14.696Z"
      },
      {
        "duration": 10,
        "start_time": "2021-11-15T14:13:15.093Z"
      },
      {
        "duration": 420,
        "start_time": "2021-11-15T14:13:15.106Z"
      },
      {
        "duration": 529,
        "start_time": "2021-11-15T14:13:15.528Z"
      },
      {
        "duration": 509,
        "start_time": "2021-11-15T14:13:16.059Z"
      },
      {
        "duration": 12,
        "start_time": "2021-11-15T14:13:16.570Z"
      },
      {
        "duration": 31,
        "start_time": "2021-11-15T14:13:16.585Z"
      },
      {
        "duration": 16,
        "start_time": "2021-11-15T14:13:16.619Z"
      },
      {
        "duration": 13,
        "start_time": "2021-11-15T14:13:16.638Z"
      },
      {
        "duration": 29,
        "start_time": "2021-11-15T14:13:16.653Z"
      },
      {
        "duration": 6,
        "start_time": "2021-11-15T14:13:16.684Z"
      },
      {
        "duration": 584,
        "start_time": "2021-11-15T14:13:16.692Z"
      },
      {
        "duration": 564,
        "start_time": "2021-11-15T14:13:17.278Z"
      },
      {
        "duration": 872,
        "start_time": "2021-11-15T14:13:17.844Z"
      },
      {
        "duration": 599,
        "start_time": "2021-11-15T14:13:18.719Z"
      },
      {
        "duration": 405,
        "start_time": "2021-11-15T14:13:19.320Z"
      },
      {
        "duration": 11,
        "start_time": "2021-11-15T14:13:19.729Z"
      },
      {
        "duration": 9,
        "start_time": "2021-11-15T14:13:19.743Z"
      },
      {
        "duration": 25,
        "start_time": "2021-11-15T14:13:19.755Z"
      },
      {
        "duration": 49,
        "start_time": "2021-11-15T14:13:19.782Z"
      },
      {
        "duration": 4,
        "start_time": "2021-11-15T14:14:01.499Z"
      },
      {
        "duration": 1005,
        "start_time": "2021-11-15T14:14:03.264Z"
      },
      {
        "duration": 26,
        "start_time": "2021-11-15T14:14:14.770Z"
      },
      {
        "duration": 4,
        "start_time": "2021-11-15T14:14:57.955Z"
      },
      {
        "duration": 1064,
        "start_time": "2021-11-15T14:14:58.812Z"
      },
      {
        "duration": 29,
        "start_time": "2021-11-15T14:15:00.630Z"
      },
      {
        "duration": 926,
        "start_time": "2021-11-15T14:15:14.155Z"
      },
      {
        "duration": 25,
        "start_time": "2021-11-15T14:15:15.084Z"
      },
      {
        "duration": 19,
        "start_time": "2021-11-15T14:15:15.112Z"
      },
      {
        "duration": 8,
        "start_time": "2021-11-15T14:15:15.134Z"
      },
      {
        "duration": 32,
        "start_time": "2021-11-15T14:15:15.144Z"
      },
      {
        "duration": 15,
        "start_time": "2021-11-15T14:15:15.178Z"
      },
      {
        "duration": 57,
        "start_time": "2021-11-15T14:15:15.195Z"
      },
      {
        "duration": 21,
        "start_time": "2021-11-15T14:15:15.255Z"
      },
      {
        "duration": 12,
        "start_time": "2021-11-15T14:15:15.280Z"
      },
      {
        "duration": 42,
        "start_time": "2021-11-15T14:15:15.294Z"
      },
      {
        "duration": 8,
        "start_time": "2021-11-15T14:15:15.338Z"
      },
      {
        "duration": 12,
        "start_time": "2021-11-15T14:15:15.348Z"
      },
      {
        "duration": 11,
        "start_time": "2021-11-15T14:15:15.362Z"
      },
      {
        "duration": 11,
        "start_time": "2021-11-15T14:15:15.375Z"
      },
      {
        "duration": 48,
        "start_time": "2021-11-15T14:15:15.388Z"
      },
      {
        "duration": 8,
        "start_time": "2021-11-15T14:15:15.440Z"
      },
      {
        "duration": 10,
        "start_time": "2021-11-15T14:15:15.450Z"
      },
      {
        "duration": 11,
        "start_time": "2021-11-15T14:15:15.463Z"
      },
      {
        "duration": 937,
        "start_time": "2021-11-15T14:15:15.476Z"
      },
      {
        "duration": 53,
        "start_time": "2021-11-15T14:15:16.415Z"
      },
      {
        "duration": 10,
        "start_time": "2021-11-15T14:15:16.470Z"
      },
      {
        "duration": 1009,
        "start_time": "2021-11-15T14:15:16.482Z"
      },
      {
        "duration": 4,
        "start_time": "2021-11-15T14:15:17.498Z"
      },
      {
        "duration": 987,
        "start_time": "2021-11-15T14:15:17.505Z"
      },
      {
        "duration": 36,
        "start_time": "2021-11-15T14:15:18.494Z"
      },
      {
        "duration": 11,
        "start_time": "2021-11-15T14:15:18.532Z"
      },
      {
        "duration": 12,
        "start_time": "2021-11-15T14:15:18.546Z"
      },
      {
        "duration": 695,
        "start_time": "2021-11-15T14:15:18.561Z"
      },
      {
        "duration": 12,
        "start_time": "2021-11-15T14:15:19.259Z"
      },
      {
        "duration": 8,
        "start_time": "2021-11-15T14:15:19.273Z"
      },
      {
        "duration": 16,
        "start_time": "2021-11-15T14:15:19.283Z"
      },
      {
        "duration": 707,
        "start_time": "2021-11-15T14:15:19.301Z"
      },
      {
        "duration": 19,
        "start_time": "2021-11-15T14:15:20.011Z"
      },
      {
        "duration": 54,
        "start_time": "2021-11-15T14:15:20.033Z"
      },
      {
        "duration": 14,
        "start_time": "2021-11-15T14:15:20.089Z"
      },
      {
        "duration": 425,
        "start_time": "2021-11-15T14:15:20.106Z"
      },
      {
        "duration": 12,
        "start_time": "2021-11-15T14:15:20.534Z"
      },
      {
        "duration": 527,
        "start_time": "2021-11-15T14:15:20.549Z"
      },
      {
        "duration": 15,
        "start_time": "2021-11-15T14:15:21.078Z"
      },
      {
        "duration": 9,
        "start_time": "2021-11-15T14:15:21.095Z"
      },
      {
        "duration": 2013,
        "start_time": "2021-11-15T14:15:21.106Z"
      },
      {
        "duration": 12,
        "start_time": "2021-11-15T14:15:23.122Z"
      },
      {
        "duration": 67,
        "start_time": "2021-11-15T14:15:23.136Z"
      },
      {
        "duration": 217,
        "start_time": "2021-11-15T14:15:23.206Z"
      },
      {
        "duration": 44,
        "start_time": "2021-11-15T14:15:23.429Z"
      },
      {
        "duration": 808,
        "start_time": "2021-11-15T14:15:23.476Z"
      },
      {
        "duration": 877,
        "start_time": "2021-11-15T14:15:24.288Z"
      },
      {
        "duration": 16,
        "start_time": "2021-11-15T14:15:25.168Z"
      },
      {
        "duration": 867,
        "start_time": "2021-11-15T14:15:25.186Z"
      },
      {
        "duration": 890,
        "start_time": "2021-11-15T14:15:26.056Z"
      },
      {
        "duration": 263,
        "start_time": "2021-11-15T14:15:26.948Z"
      },
      {
        "duration": 26,
        "start_time": "2021-11-15T14:15:27.214Z"
      },
      {
        "duration": 35,
        "start_time": "2021-11-15T14:15:27.242Z"
      },
      {
        "duration": 817,
        "start_time": "2021-11-15T14:15:27.279Z"
      },
      {
        "duration": 779,
        "start_time": "2021-11-15T14:15:28.098Z"
      },
      {
        "duration": 15,
        "start_time": "2021-11-15T14:15:28.880Z"
      },
      {
        "duration": 861,
        "start_time": "2021-11-15T14:15:28.898Z"
      },
      {
        "duration": 297,
        "start_time": "2021-11-15T14:15:29.762Z"
      },
      {
        "duration": 812,
        "start_time": "2021-11-15T14:15:30.061Z"
      },
      {
        "duration": 296,
        "start_time": "2021-11-15T14:15:30.876Z"
      },
      {
        "duration": 820,
        "start_time": "2021-11-15T14:15:31.174Z"
      },
      {
        "duration": 295,
        "start_time": "2021-11-15T14:15:31.996Z"
      },
      {
        "duration": 8,
        "start_time": "2021-11-15T14:15:32.293Z"
      },
      {
        "duration": 26,
        "start_time": "2021-11-15T14:15:32.304Z"
      },
      {
        "duration": 26,
        "start_time": "2021-11-15T14:15:32.333Z"
      },
      {
        "duration": 12,
        "start_time": "2021-11-15T14:15:32.361Z"
      },
      {
        "duration": 41,
        "start_time": "2021-11-15T14:15:32.375Z"
      },
      {
        "duration": 11,
        "start_time": "2021-11-15T14:15:32.426Z"
      },
      {
        "duration": 23,
        "start_time": "2021-11-15T14:15:32.440Z"
      },
      {
        "duration": 17,
        "start_time": "2021-11-15T14:15:32.466Z"
      },
      {
        "duration": 39,
        "start_time": "2021-11-15T14:15:32.485Z"
      },
      {
        "duration": 302,
        "start_time": "2021-11-15T14:15:32.526Z"
      },
      {
        "duration": 9,
        "start_time": "2021-11-15T14:15:32.831Z"
      },
      {
        "duration": 47,
        "start_time": "2021-11-15T14:15:32.842Z"
      },
      {
        "duration": 16,
        "start_time": "2021-11-15T14:15:32.892Z"
      },
      {
        "duration": 9,
        "start_time": "2021-11-15T14:15:32.929Z"
      },
      {
        "duration": 624,
        "start_time": "2021-11-15T14:15:32.940Z"
      },
      {
        "duration": 11,
        "start_time": "2021-11-15T14:15:33.567Z"
      },
      {
        "duration": 13,
        "start_time": "2021-11-15T14:15:33.580Z"
      },
      {
        "duration": 766,
        "start_time": "2021-11-15T14:15:33.595Z"
      },
      {
        "duration": 11,
        "start_time": "2021-11-15T14:15:34.363Z"
      },
      {
        "duration": 13,
        "start_time": "2021-11-15T14:15:34.377Z"
      },
      {
        "duration": 402,
        "start_time": "2021-11-15T14:15:34.393Z"
      },
      {
        "duration": 11,
        "start_time": "2021-11-15T14:15:34.797Z"
      },
      {
        "duration": 421,
        "start_time": "2021-11-15T14:15:34.810Z"
      },
      {
        "duration": 527,
        "start_time": "2021-11-15T14:15:35.233Z"
      },
      {
        "duration": 570,
        "start_time": "2021-11-15T14:15:35.762Z"
      },
      {
        "duration": 12,
        "start_time": "2021-11-15T14:15:36.334Z"
      },
      {
        "duration": 27,
        "start_time": "2021-11-15T14:15:36.348Z"
      },
      {
        "duration": 17,
        "start_time": "2021-11-15T14:15:36.377Z"
      },
      {
        "duration": 17,
        "start_time": "2021-11-15T14:15:36.396Z"
      },
      {
        "duration": 30,
        "start_time": "2021-11-15T14:15:36.416Z"
      },
      {
        "duration": 8,
        "start_time": "2021-11-15T14:15:36.448Z"
      },
      {
        "duration": 561,
        "start_time": "2021-11-15T14:15:36.458Z"
      },
      {
        "duration": 614,
        "start_time": "2021-11-15T14:15:37.021Z"
      },
      {
        "duration": 1288,
        "start_time": "2021-11-15T14:15:37.637Z"
      },
      {
        "duration": 504,
        "start_time": "2021-11-15T14:15:38.928Z"
      },
      {
        "duration": 397,
        "start_time": "2021-11-15T14:15:39.434Z"
      },
      {
        "duration": 8,
        "start_time": "2021-11-15T14:15:39.833Z"
      },
      {
        "duration": 18,
        "start_time": "2021-11-15T14:15:39.843Z"
      },
      {
        "duration": 18,
        "start_time": "2021-11-15T14:15:39.863Z"
      },
      {
        "duration": 9,
        "start_time": "2021-11-15T14:15:39.883Z"
      },
      {
        "duration": 1087,
        "start_time": "2022-06-21T14:42:25.260Z"
      },
      {
        "duration": 22,
        "start_time": "2022-06-21T14:42:26.350Z"
      },
      {
        "duration": 4,
        "start_time": "2022-06-21T14:42:26.374Z"
      },
      {
        "duration": 5,
        "start_time": "2022-06-21T14:42:26.380Z"
      },
      {
        "duration": 20,
        "start_time": "2022-06-21T14:42:26.387Z"
      },
      {
        "duration": 15,
        "start_time": "2022-06-21T14:42:26.408Z"
      },
      {
        "duration": 65,
        "start_time": "2022-06-21T14:42:26.424Z"
      },
      {
        "duration": 16,
        "start_time": "2022-06-21T14:42:26.491Z"
      },
      {
        "duration": 9,
        "start_time": "2022-06-21T14:42:26.511Z"
      },
      {
        "duration": 8,
        "start_time": "2022-06-21T14:42:26.522Z"
      },
      {
        "duration": 28,
        "start_time": "2022-06-21T14:42:26.532Z"
      },
      {
        "duration": 7,
        "start_time": "2022-06-21T14:42:26.563Z"
      },
      {
        "duration": 9,
        "start_time": "2022-06-21T14:42:26.572Z"
      },
      {
        "duration": 4,
        "start_time": "2022-06-21T14:42:26.584Z"
      },
      {
        "duration": 7,
        "start_time": "2022-06-21T14:42:26.589Z"
      },
      {
        "duration": 7,
        "start_time": "2022-06-21T14:42:26.597Z"
      },
      {
        "duration": 6,
        "start_time": "2022-06-21T14:42:26.605Z"
      },
      {
        "duration": 5,
        "start_time": "2022-06-21T14:42:26.612Z"
      },
      {
        "duration": 362,
        "start_time": "2022-06-21T14:42:26.618Z"
      },
      {
        "duration": 28,
        "start_time": "2022-06-21T14:42:26.982Z"
      },
      {
        "duration": 3,
        "start_time": "2022-06-21T14:42:27.012Z"
      },
      {
        "duration": 430,
        "start_time": "2022-06-21T14:42:27.017Z"
      },
      {
        "duration": 9,
        "start_time": "2022-06-21T14:42:27.449Z"
      },
      {
        "duration": 348,
        "start_time": "2022-06-21T14:42:27.464Z"
      },
      {
        "duration": 18,
        "start_time": "2022-06-21T14:42:27.814Z"
      },
      {
        "duration": 27,
        "start_time": "2022-06-21T14:42:27.833Z"
      },
      {
        "duration": 11,
        "start_time": "2022-06-21T14:42:27.867Z"
      },
      {
        "duration": 316,
        "start_time": "2022-06-21T14:42:27.879Z"
      },
      {
        "duration": 12,
        "start_time": "2022-06-21T14:42:28.197Z"
      },
      {
        "duration": 7,
        "start_time": "2022-06-21T14:42:28.211Z"
      },
      {
        "duration": 13,
        "start_time": "2022-06-21T14:42:28.220Z"
      },
      {
        "duration": 415,
        "start_time": "2022-06-21T14:42:28.235Z"
      },
      {
        "duration": 17,
        "start_time": "2022-06-21T14:42:28.652Z"
      },
      {
        "duration": 25,
        "start_time": "2022-06-21T14:42:28.671Z"
      },
      {
        "duration": 6,
        "start_time": "2022-06-21T14:42:28.698Z"
      },
      {
        "duration": 205,
        "start_time": "2022-06-21T14:42:28.706Z"
      },
      {
        "duration": 11,
        "start_time": "2022-06-21T14:42:28.912Z"
      },
      {
        "duration": 267,
        "start_time": "2022-06-21T14:42:28.925Z"
      },
      {
        "duration": 14,
        "start_time": "2022-06-21T14:42:29.194Z"
      },
      {
        "duration": 9,
        "start_time": "2022-06-21T14:42:29.210Z"
      },
      {
        "duration": 1048,
        "start_time": "2022-06-21T14:42:29.225Z"
      },
      {
        "duration": 6,
        "start_time": "2022-06-21T14:42:30.274Z"
      },
      {
        "duration": 30,
        "start_time": "2022-06-21T14:42:30.282Z"
      },
      {
        "duration": 151,
        "start_time": "2022-06-21T14:42:30.314Z"
      },
      {
        "duration": 26,
        "start_time": "2022-06-21T14:42:30.470Z"
      },
      {
        "duration": 230,
        "start_time": "2022-06-21T14:42:30.498Z"
      },
      {
        "duration": 314,
        "start_time": "2022-06-21T14:42:30.730Z"
      },
      {
        "duration": 16,
        "start_time": "2022-06-21T14:42:31.046Z"
      },
      {
        "duration": 240,
        "start_time": "2022-06-21T14:42:31.077Z"
      },
      {
        "duration": 302,
        "start_time": "2022-06-21T14:42:31.318Z"
      },
      {
        "duration": 162,
        "start_time": "2022-06-21T14:42:31.622Z"
      },
      {
        "duration": 13,
        "start_time": "2022-06-21T14:42:31.786Z"
      },
      {
        "duration": 23,
        "start_time": "2022-06-21T14:42:31.800Z"
      },
      {
        "duration": 253,
        "start_time": "2022-06-21T14:42:31.825Z"
      },
      {
        "duration": 238,
        "start_time": "2022-06-21T14:42:32.080Z"
      },
      {
        "duration": 10,
        "start_time": "2022-06-21T14:42:32.320Z"
      },
      {
        "duration": 240,
        "start_time": "2022-06-21T14:42:32.332Z"
      },
      {
        "duration": 168,
        "start_time": "2022-06-21T14:42:32.574Z"
      },
      {
        "duration": 229,
        "start_time": "2022-06-21T14:42:32.744Z"
      },
      {
        "duration": 157,
        "start_time": "2022-06-21T14:42:32.975Z"
      },
      {
        "duration": 228,
        "start_time": "2022-06-21T14:42:33.133Z"
      },
      {
        "duration": 157,
        "start_time": "2022-06-21T14:42:33.363Z"
      },
      {
        "duration": 6,
        "start_time": "2022-06-21T14:42:33.522Z"
      },
      {
        "duration": 5,
        "start_time": "2022-06-21T14:42:33.530Z"
      },
      {
        "duration": 11,
        "start_time": "2022-06-21T14:42:33.555Z"
      },
      {
        "duration": 11,
        "start_time": "2022-06-21T14:42:33.569Z"
      },
      {
        "duration": 21,
        "start_time": "2022-06-21T14:42:33.582Z"
      },
      {
        "duration": 7,
        "start_time": "2022-06-21T14:42:33.605Z"
      },
      {
        "duration": 11,
        "start_time": "2022-06-21T14:42:33.614Z"
      },
      {
        "duration": 32,
        "start_time": "2022-06-21T14:42:33.626Z"
      },
      {
        "duration": 30,
        "start_time": "2022-06-21T14:42:33.663Z"
      },
      {
        "duration": 172,
        "start_time": "2022-06-21T14:42:33.696Z"
      },
      {
        "duration": 11,
        "start_time": "2022-06-21T14:42:33.871Z"
      },
      {
        "duration": 23,
        "start_time": "2022-06-21T14:42:33.884Z"
      },
      {
        "duration": 12,
        "start_time": "2022-06-21T14:42:33.908Z"
      },
      {
        "duration": 23,
        "start_time": "2022-06-21T14:42:33.921Z"
      },
      {
        "duration": 288,
        "start_time": "2022-06-21T14:42:33.945Z"
      },
      {
        "duration": 9,
        "start_time": "2022-06-21T14:42:34.234Z"
      },
      {
        "duration": 6,
        "start_time": "2022-06-21T14:42:34.255Z"
      },
      {
        "duration": 405,
        "start_time": "2022-06-21T14:42:34.263Z"
      },
      {
        "duration": 10,
        "start_time": "2022-06-21T14:42:34.670Z"
      },
      {
        "duration": 7,
        "start_time": "2022-06-21T14:42:34.682Z"
      },
      {
        "duration": 189,
        "start_time": "2022-06-21T14:42:34.691Z"
      },
      {
        "duration": 10,
        "start_time": "2022-06-21T14:42:34.881Z"
      },
      {
        "duration": 185,
        "start_time": "2022-06-21T14:42:34.893Z"
      },
      {
        "duration": 206,
        "start_time": "2022-06-21T14:42:35.080Z"
      },
      {
        "duration": 182,
        "start_time": "2022-06-21T14:42:35.288Z"
      },
      {
        "duration": 10,
        "start_time": "2022-06-21T14:42:35.472Z"
      },
      {
        "duration": 9,
        "start_time": "2022-06-21T14:42:35.484Z"
      },
      {
        "duration": 10,
        "start_time": "2022-06-21T14:42:35.495Z"
      },
      {
        "duration": 9,
        "start_time": "2022-06-21T14:42:35.507Z"
      },
      {
        "duration": 53,
        "start_time": "2022-06-21T14:42:35.518Z"
      },
      {
        "duration": 4,
        "start_time": "2022-06-21T14:42:35.573Z"
      },
      {
        "duration": 208,
        "start_time": "2022-06-21T14:42:35.579Z"
      },
      {
        "duration": 181,
        "start_time": "2022-06-21T14:42:35.789Z"
      },
      {
        "duration": 231,
        "start_time": "2022-06-21T14:42:35.974Z"
      },
      {
        "duration": 179,
        "start_time": "2022-06-21T14:42:36.207Z"
      },
      {
        "duration": 161,
        "start_time": "2022-06-21T14:42:36.387Z"
      },
      {
        "duration": 7,
        "start_time": "2022-06-21T14:42:36.554Z"
      },
      {
        "duration": 9,
        "start_time": "2022-06-21T14:42:36.569Z"
      },
      {
        "duration": 13,
        "start_time": "2022-06-21T14:42:36.579Z"
      },
      {
        "duration": 7,
        "start_time": "2022-06-21T14:42:36.594Z"
      }
    ],
    "kernelspec": {
      "display_name": "Python 3 (ipykernel)",
      "language": "python",
      "name": "python3"
    },
    "language_info": {
      "codemirror_mode": {
        "name": "ipython",
        "version": 3
      },
      "file_extension": ".py",
      "mimetype": "text/x-python",
      "name": "python",
      "nbconvert_exporter": "python",
      "pygments_lexer": "ipython3",
      "version": "3.9.5"
    },
    "toc": {
      "base_numbering": 1,
      "nav_menu": {},
      "number_sections": true,
      "sideBar": true,
      "skip_h1_title": true,
      "title_cell": "Содержание",
      "title_sidebar": "Contents",
      "toc_cell": true,
      "toc_position": {
        "height": "calc(100% - 180px)",
        "left": "10px",
        "top": "150px",
        "width": "253px"
      },
      "toc_section_display": true,
      "toc_window_display": true
    },
    "colab": {
      "name": "project-3-real-estate.ipynb",
      "provenance": [],
      "collapsed_sections": []
    }
  },
  "nbformat": 4,
  "nbformat_minor": 0
}