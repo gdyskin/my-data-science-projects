{
  "cells": [
    {
      "cell_type": "markdown",
      "metadata": {
        "id": "ncbBRwilTKPu"
      },
      "source": [
        "# Determination of a prospective tariff for a telecom company"
      ]
    },
    {
      "cell_type": "markdown",
      "metadata": {
        "id": "HcDc-K80TKPv"
      },
      "source": [
        "There is a federal cellular operator that offers its customers two tariff plans: Smart and Ultra.\n",
        "To adjust the advertising budget, we need to find out which tariff brings more money.\n",
        "It is necessary to conduct a preliminary analysis of tariffs on a small sample of customers from 500 users. There is data on who they are, where they are from, what tariff they use, how many calls and messages each sent in 2018. It is necessary to analyze the behavior of customers and draw a conclusion - which tariff is better."
      ]
    },
    {
      "cell_type": "markdown",
      "metadata": {
        "id": "wdiUX9_rTKPv"
      },
      "source": [
        "## Loading and preparing data"
      ]
    },
    {
      "cell_type": "code",
      "execution_count": null,
      "metadata": {
        "id": "bTaHGU18TKPv"
      },
      "outputs": [],
      "source": [
        "import pandas as pd\n",
        "import matplotlib.pyplot as plt\n",
        "import numpy as np\n",
        "from math import ceil\n",
        "from scipy import stats as st\n",
        "pd.set_option('display.float_format', lambda x: '%.2f' % x)"
      ]
    },
    {
      "cell_type": "code",
      "execution_count": null,
      "metadata": {
        "id": "OY9FZFG0TKPx"
      },
      "outputs": [],
      "source": [
        "calls = pd.read_csv('/content/calls.csv')\n",
        "internet = pd.read_csv('/content/internet.csv')\n",
        "messages = pd.read_csv('/content/messages.csv')\n",
        "tariffs = pd.read_csv('/content/tariffs.csv')\n",
        "users = pd.read_csv('/content/users.csv')"
      ]
    },
    {
      "cell_type": "code",
      "execution_count": null,
      "metadata": {
        "colab": {
          "base_uri": "https://localhost:8080/",
          "height": 206
        },
        "id": "6eC0-m1qTKPy",
        "outputId": "cdaed806-5187-463b-e1ac-c84cad390f1d"
      },
      "outputs": [
        {
          "output_type": "execute_result",
          "data": {
            "text/plain": [
              "   user_id  age churn_date         city first_name  last_name    reg_date  \\\n",
              "0     1000   52        NaN    Краснодар     Рафаил  Верещагин  2018-05-25   \n",
              "1     1001   41        NaN       Москва       Иван       Ежов  2018-11-01   \n",
              "2     1002   59        NaN  Стерлитамак    Евгений  Абрамович  2018-06-17   \n",
              "3     1003   23        NaN       Москва      Белла   Белякова  2018-08-17   \n",
              "4     1004   68        NaN  Новокузнецк    Татьяна   Авдеенко  2018-05-14   \n",
              "\n",
              "  tariff  \n",
              "0  ultra  \n",
              "1  smart  \n",
              "2  smart  \n",
              "3  ultra  \n",
              "4  ultra  "
            ],
            "text/html": [
              "\n",
              "  <div id=\"df-9496fea3-9e25-4d93-bf3d-5d1c394ad3da\">\n",
              "    <div class=\"colab-df-container\">\n",
              "      <div>\n",
              "<style scoped>\n",
              "    .dataframe tbody tr th:only-of-type {\n",
              "        vertical-align: middle;\n",
              "    }\n",
              "\n",
              "    .dataframe tbody tr th {\n",
              "        vertical-align: top;\n",
              "    }\n",
              "\n",
              "    .dataframe thead th {\n",
              "        text-align: right;\n",
              "    }\n",
              "</style>\n",
              "<table border=\"1\" class=\"dataframe\">\n",
              "  <thead>\n",
              "    <tr style=\"text-align: right;\">\n",
              "      <th></th>\n",
              "      <th>user_id</th>\n",
              "      <th>age</th>\n",
              "      <th>churn_date</th>\n",
              "      <th>city</th>\n",
              "      <th>first_name</th>\n",
              "      <th>last_name</th>\n",
              "      <th>reg_date</th>\n",
              "      <th>tariff</th>\n",
              "    </tr>\n",
              "  </thead>\n",
              "  <tbody>\n",
              "    <tr>\n",
              "      <th>0</th>\n",
              "      <td>1000</td>\n",
              "      <td>52</td>\n",
              "      <td>NaN</td>\n",
              "      <td>Краснодар</td>\n",
              "      <td>Рафаил</td>\n",
              "      <td>Верещагин</td>\n",
              "      <td>2018-05-25</td>\n",
              "      <td>ultra</td>\n",
              "    </tr>\n",
              "    <tr>\n",
              "      <th>1</th>\n",
              "      <td>1001</td>\n",
              "      <td>41</td>\n",
              "      <td>NaN</td>\n",
              "      <td>Москва</td>\n",
              "      <td>Иван</td>\n",
              "      <td>Ежов</td>\n",
              "      <td>2018-11-01</td>\n",
              "      <td>smart</td>\n",
              "    </tr>\n",
              "    <tr>\n",
              "      <th>2</th>\n",
              "      <td>1002</td>\n",
              "      <td>59</td>\n",
              "      <td>NaN</td>\n",
              "      <td>Стерлитамак</td>\n",
              "      <td>Евгений</td>\n",
              "      <td>Абрамович</td>\n",
              "      <td>2018-06-17</td>\n",
              "      <td>smart</td>\n",
              "    </tr>\n",
              "    <tr>\n",
              "      <th>3</th>\n",
              "      <td>1003</td>\n",
              "      <td>23</td>\n",
              "      <td>NaN</td>\n",
              "      <td>Москва</td>\n",
              "      <td>Белла</td>\n",
              "      <td>Белякова</td>\n",
              "      <td>2018-08-17</td>\n",
              "      <td>ultra</td>\n",
              "    </tr>\n",
              "    <tr>\n",
              "      <th>4</th>\n",
              "      <td>1004</td>\n",
              "      <td>68</td>\n",
              "      <td>NaN</td>\n",
              "      <td>Новокузнецк</td>\n",
              "      <td>Татьяна</td>\n",
              "      <td>Авдеенко</td>\n",
              "      <td>2018-05-14</td>\n",
              "      <td>ultra</td>\n",
              "    </tr>\n",
              "  </tbody>\n",
              "</table>\n",
              "</div>\n",
              "      <button class=\"colab-df-convert\" onclick=\"convertToInteractive('df-9496fea3-9e25-4d93-bf3d-5d1c394ad3da')\"\n",
              "              title=\"Convert this dataframe to an interactive table.\"\n",
              "              style=\"display:none;\">\n",
              "        \n",
              "  <svg xmlns=\"http://www.w3.org/2000/svg\" height=\"24px\"viewBox=\"0 0 24 24\"\n",
              "       width=\"24px\">\n",
              "    <path d=\"M0 0h24v24H0V0z\" fill=\"none\"/>\n",
              "    <path d=\"M18.56 5.44l.94 2.06.94-2.06 2.06-.94-2.06-.94-.94-2.06-.94 2.06-2.06.94zm-11 1L8.5 8.5l.94-2.06 2.06-.94-2.06-.94L8.5 2.5l-.94 2.06-2.06.94zm10 10l.94 2.06.94-2.06 2.06-.94-2.06-.94-.94-2.06-.94 2.06-2.06.94z\"/><path d=\"M17.41 7.96l-1.37-1.37c-.4-.4-.92-.59-1.43-.59-.52 0-1.04.2-1.43.59L10.3 9.45l-7.72 7.72c-.78.78-.78 2.05 0 2.83L4 21.41c.39.39.9.59 1.41.59.51 0 1.02-.2 1.41-.59l7.78-7.78 2.81-2.81c.8-.78.8-2.07 0-2.86zM5.41 20L4 18.59l7.72-7.72 1.47 1.35L5.41 20z\"/>\n",
              "  </svg>\n",
              "      </button>\n",
              "      \n",
              "  <style>\n",
              "    .colab-df-container {\n",
              "      display:flex;\n",
              "      flex-wrap:wrap;\n",
              "      gap: 12px;\n",
              "    }\n",
              "\n",
              "    .colab-df-convert {\n",
              "      background-color: #E8F0FE;\n",
              "      border: none;\n",
              "      border-radius: 50%;\n",
              "      cursor: pointer;\n",
              "      display: none;\n",
              "      fill: #1967D2;\n",
              "      height: 32px;\n",
              "      padding: 0 0 0 0;\n",
              "      width: 32px;\n",
              "    }\n",
              "\n",
              "    .colab-df-convert:hover {\n",
              "      background-color: #E2EBFA;\n",
              "      box-shadow: 0px 1px 2px rgba(60, 64, 67, 0.3), 0px 1px 3px 1px rgba(60, 64, 67, 0.15);\n",
              "      fill: #174EA6;\n",
              "    }\n",
              "\n",
              "    [theme=dark] .colab-df-convert {\n",
              "      background-color: #3B4455;\n",
              "      fill: #D2E3FC;\n",
              "    }\n",
              "\n",
              "    [theme=dark] .colab-df-convert:hover {\n",
              "      background-color: #434B5C;\n",
              "      box-shadow: 0px 1px 3px 1px rgba(0, 0, 0, 0.15);\n",
              "      filter: drop-shadow(0px 1px 2px rgba(0, 0, 0, 0.3));\n",
              "      fill: #FFFFFF;\n",
              "    }\n",
              "  </style>\n",
              "\n",
              "      <script>\n",
              "        const buttonEl =\n",
              "          document.querySelector('#df-9496fea3-9e25-4d93-bf3d-5d1c394ad3da button.colab-df-convert');\n",
              "        buttonEl.style.display =\n",
              "          google.colab.kernel.accessAllowed ? 'block' : 'none';\n",
              "\n",
              "        async function convertToInteractive(key) {\n",
              "          const element = document.querySelector('#df-9496fea3-9e25-4d93-bf3d-5d1c394ad3da');\n",
              "          const dataTable =\n",
              "            await google.colab.kernel.invokeFunction('convertToInteractive',\n",
              "                                                     [key], {});\n",
              "          if (!dataTable) return;\n",
              "\n",
              "          const docLinkHtml = 'Like what you see? Visit the ' +\n",
              "            '<a target=\"_blank\" href=https://colab.research.google.com/notebooks/data_table.ipynb>data table notebook</a>'\n",
              "            + ' to learn more about interactive tables.';\n",
              "          element.innerHTML = '';\n",
              "          dataTable['output_type'] = 'display_data';\n",
              "          await google.colab.output.renderOutput(dataTable, element);\n",
              "          const docLink = document.createElement('div');\n",
              "          docLink.innerHTML = docLinkHtml;\n",
              "          element.appendChild(docLink);\n",
              "        }\n",
              "      </script>\n",
              "    </div>\n",
              "  </div>\n",
              "  "
            ]
          },
          "metadata": {},
          "execution_count": 3
        }
      ],
      "source": [
        "users.head()"
      ]
    },
    {
      "cell_type": "code",
      "execution_count": null,
      "metadata": {
        "colab": {
          "base_uri": "https://localhost:8080/"
        },
        "id": "IM_MGdLSTKPz",
        "outputId": "065f3456-30e6-4685-daca-7486b290ffd4"
      },
      "outputs": [
        {
          "output_type": "stream",
          "name": "stdout",
          "text": [
            "<class 'pandas.core.frame.DataFrame'>\n",
            "RangeIndex: 500 entries, 0 to 499\n",
            "Data columns (total 8 columns):\n",
            " #   Column      Non-Null Count  Dtype \n",
            "---  ------      --------------  ----- \n",
            " 0   user_id     500 non-null    int64 \n",
            " 1   age         500 non-null    int64 \n",
            " 2   churn_date  38 non-null     object\n",
            " 3   city        500 non-null    object\n",
            " 4   first_name  500 non-null    object\n",
            " 5   last_name   500 non-null    object\n",
            " 6   reg_date    500 non-null    object\n",
            " 7   tariff      500 non-null    object\n",
            "dtypes: int64(2), object(6)\n",
            "memory usage: 31.4+ KB\n"
          ]
        }
      ],
      "source": [
        "users.info()"
      ]
    },
    {
      "cell_type": "code",
      "execution_count": null,
      "metadata": {
        "colab": {
          "base_uri": "https://localhost:8080/",
          "height": 206
        },
        "id": "ZP2PdB6RTKPz",
        "outputId": "5283b38d-a0e5-4c66-bd90-3a8a7ca20a2e"
      },
      "outputs": [
        {
          "output_type": "execute_result",
          "data": {
            "text/plain": [
              "       id   call_date  duration  user_id\n",
              "0  1000_0  2018-07-25      0.00     1000\n",
              "1  1000_1  2018-08-17      0.00     1000\n",
              "2  1000_2  2018-06-11      2.85     1000\n",
              "3  1000_3  2018-09-21     13.80     1000\n",
              "4  1000_4  2018-12-15      5.18     1000"
            ],
            "text/html": [
              "\n",
              "  <div id=\"df-4080bf69-8a4a-4c56-b779-b000b3c1aecd\">\n",
              "    <div class=\"colab-df-container\">\n",
              "      <div>\n",
              "<style scoped>\n",
              "    .dataframe tbody tr th:only-of-type {\n",
              "        vertical-align: middle;\n",
              "    }\n",
              "\n",
              "    .dataframe tbody tr th {\n",
              "        vertical-align: top;\n",
              "    }\n",
              "\n",
              "    .dataframe thead th {\n",
              "        text-align: right;\n",
              "    }\n",
              "</style>\n",
              "<table border=\"1\" class=\"dataframe\">\n",
              "  <thead>\n",
              "    <tr style=\"text-align: right;\">\n",
              "      <th></th>\n",
              "      <th>id</th>\n",
              "      <th>call_date</th>\n",
              "      <th>duration</th>\n",
              "      <th>user_id</th>\n",
              "    </tr>\n",
              "  </thead>\n",
              "  <tbody>\n",
              "    <tr>\n",
              "      <th>0</th>\n",
              "      <td>1000_0</td>\n",
              "      <td>2018-07-25</td>\n",
              "      <td>0.00</td>\n",
              "      <td>1000</td>\n",
              "    </tr>\n",
              "    <tr>\n",
              "      <th>1</th>\n",
              "      <td>1000_1</td>\n",
              "      <td>2018-08-17</td>\n",
              "      <td>0.00</td>\n",
              "      <td>1000</td>\n",
              "    </tr>\n",
              "    <tr>\n",
              "      <th>2</th>\n",
              "      <td>1000_2</td>\n",
              "      <td>2018-06-11</td>\n",
              "      <td>2.85</td>\n",
              "      <td>1000</td>\n",
              "    </tr>\n",
              "    <tr>\n",
              "      <th>3</th>\n",
              "      <td>1000_3</td>\n",
              "      <td>2018-09-21</td>\n",
              "      <td>13.80</td>\n",
              "      <td>1000</td>\n",
              "    </tr>\n",
              "    <tr>\n",
              "      <th>4</th>\n",
              "      <td>1000_4</td>\n",
              "      <td>2018-12-15</td>\n",
              "      <td>5.18</td>\n",
              "      <td>1000</td>\n",
              "    </tr>\n",
              "  </tbody>\n",
              "</table>\n",
              "</div>\n",
              "      <button class=\"colab-df-convert\" onclick=\"convertToInteractive('df-4080bf69-8a4a-4c56-b779-b000b3c1aecd')\"\n",
              "              title=\"Convert this dataframe to an interactive table.\"\n",
              "              style=\"display:none;\">\n",
              "        \n",
              "  <svg xmlns=\"http://www.w3.org/2000/svg\" height=\"24px\"viewBox=\"0 0 24 24\"\n",
              "       width=\"24px\">\n",
              "    <path d=\"M0 0h24v24H0V0z\" fill=\"none\"/>\n",
              "    <path d=\"M18.56 5.44l.94 2.06.94-2.06 2.06-.94-2.06-.94-.94-2.06-.94 2.06-2.06.94zm-11 1L8.5 8.5l.94-2.06 2.06-.94-2.06-.94L8.5 2.5l-.94 2.06-2.06.94zm10 10l.94 2.06.94-2.06 2.06-.94-2.06-.94-.94-2.06-.94 2.06-2.06.94z\"/><path d=\"M17.41 7.96l-1.37-1.37c-.4-.4-.92-.59-1.43-.59-.52 0-1.04.2-1.43.59L10.3 9.45l-7.72 7.72c-.78.78-.78 2.05 0 2.83L4 21.41c.39.39.9.59 1.41.59.51 0 1.02-.2 1.41-.59l7.78-7.78 2.81-2.81c.8-.78.8-2.07 0-2.86zM5.41 20L4 18.59l7.72-7.72 1.47 1.35L5.41 20z\"/>\n",
              "  </svg>\n",
              "      </button>\n",
              "      \n",
              "  <style>\n",
              "    .colab-df-container {\n",
              "      display:flex;\n",
              "      flex-wrap:wrap;\n",
              "      gap: 12px;\n",
              "    }\n",
              "\n",
              "    .colab-df-convert {\n",
              "      background-color: #E8F0FE;\n",
              "      border: none;\n",
              "      border-radius: 50%;\n",
              "      cursor: pointer;\n",
              "      display: none;\n",
              "      fill: #1967D2;\n",
              "      height: 32px;\n",
              "      padding: 0 0 0 0;\n",
              "      width: 32px;\n",
              "    }\n",
              "\n",
              "    .colab-df-convert:hover {\n",
              "      background-color: #E2EBFA;\n",
              "      box-shadow: 0px 1px 2px rgba(60, 64, 67, 0.3), 0px 1px 3px 1px rgba(60, 64, 67, 0.15);\n",
              "      fill: #174EA6;\n",
              "    }\n",
              "\n",
              "    [theme=dark] .colab-df-convert {\n",
              "      background-color: #3B4455;\n",
              "      fill: #D2E3FC;\n",
              "    }\n",
              "\n",
              "    [theme=dark] .colab-df-convert:hover {\n",
              "      background-color: #434B5C;\n",
              "      box-shadow: 0px 1px 3px 1px rgba(0, 0, 0, 0.15);\n",
              "      filter: drop-shadow(0px 1px 2px rgba(0, 0, 0, 0.3));\n",
              "      fill: #FFFFFF;\n",
              "    }\n",
              "  </style>\n",
              "\n",
              "      <script>\n",
              "        const buttonEl =\n",
              "          document.querySelector('#df-4080bf69-8a4a-4c56-b779-b000b3c1aecd button.colab-df-convert');\n",
              "        buttonEl.style.display =\n",
              "          google.colab.kernel.accessAllowed ? 'block' : 'none';\n",
              "\n",
              "        async function convertToInteractive(key) {\n",
              "          const element = document.querySelector('#df-4080bf69-8a4a-4c56-b779-b000b3c1aecd');\n",
              "          const dataTable =\n",
              "            await google.colab.kernel.invokeFunction('convertToInteractive',\n",
              "                                                     [key], {});\n",
              "          if (!dataTable) return;\n",
              "\n",
              "          const docLinkHtml = 'Like what you see? Visit the ' +\n",
              "            '<a target=\"_blank\" href=https://colab.research.google.com/notebooks/data_table.ipynb>data table notebook</a>'\n",
              "            + ' to learn more about interactive tables.';\n",
              "          element.innerHTML = '';\n",
              "          dataTable['output_type'] = 'display_data';\n",
              "          await google.colab.output.renderOutput(dataTable, element);\n",
              "          const docLink = document.createElement('div');\n",
              "          docLink.innerHTML = docLinkHtml;\n",
              "          element.appendChild(docLink);\n",
              "        }\n",
              "      </script>\n",
              "    </div>\n",
              "  </div>\n",
              "  "
            ]
          },
          "metadata": {},
          "execution_count": 5
        }
      ],
      "source": [
        "calls.head()"
      ]
    },
    {
      "cell_type": "code",
      "execution_count": null,
      "metadata": {
        "colab": {
          "base_uri": "https://localhost:8080/"
        },
        "id": "7zFITlSCTKP0",
        "outputId": "88fa4d36-93f9-418e-819b-fced5a261294"
      },
      "outputs": [
        {
          "output_type": "stream",
          "name": "stdout",
          "text": [
            "<class 'pandas.core.frame.DataFrame'>\n",
            "RangeIndex: 202607 entries, 0 to 202606\n",
            "Data columns (total 4 columns):\n",
            " #   Column     Non-Null Count   Dtype  \n",
            "---  ------     --------------   -----  \n",
            " 0   id         202607 non-null  object \n",
            " 1   call_date  202607 non-null  object \n",
            " 2   duration   202607 non-null  float64\n",
            " 3   user_id    202607 non-null  int64  \n",
            "dtypes: float64(1), int64(1), object(2)\n",
            "memory usage: 6.2+ MB\n"
          ]
        }
      ],
      "source": [
        "calls.info()"
      ]
    },
    {
      "cell_type": "code",
      "execution_count": null,
      "metadata": {
        "colab": {
          "base_uri": "https://localhost:8080/",
          "height": 176
        },
        "id": "wteeDebDTKP0",
        "outputId": "1eefef63-e647-4a11-f048-a0f370fd2633"
      },
      "outputs": [
        {
          "output_type": "execute_result",
          "data": {
            "text/plain": [
              "   messages_included  mb_per_month_included  minutes_included  \\\n",
              "0                 50                  15360               500   \n",
              "1               1000                  30720              3000   \n",
              "\n",
              "   rub_monthly_fee  rub_per_gb  rub_per_message  rub_per_minute tariff_name  \n",
              "0              550         200                3               3       smart  \n",
              "1             1950         150                1               1       ultra  "
            ],
            "text/html": [
              "\n",
              "  <div id=\"df-e21f13a6-248e-4387-ab6c-708d62acbdc3\">\n",
              "    <div class=\"colab-df-container\">\n",
              "      <div>\n",
              "<style scoped>\n",
              "    .dataframe tbody tr th:only-of-type {\n",
              "        vertical-align: middle;\n",
              "    }\n",
              "\n",
              "    .dataframe tbody tr th {\n",
              "        vertical-align: top;\n",
              "    }\n",
              "\n",
              "    .dataframe thead th {\n",
              "        text-align: right;\n",
              "    }\n",
              "</style>\n",
              "<table border=\"1\" class=\"dataframe\">\n",
              "  <thead>\n",
              "    <tr style=\"text-align: right;\">\n",
              "      <th></th>\n",
              "      <th>messages_included</th>\n",
              "      <th>mb_per_month_included</th>\n",
              "      <th>minutes_included</th>\n",
              "      <th>rub_monthly_fee</th>\n",
              "      <th>rub_per_gb</th>\n",
              "      <th>rub_per_message</th>\n",
              "      <th>rub_per_minute</th>\n",
              "      <th>tariff_name</th>\n",
              "    </tr>\n",
              "  </thead>\n",
              "  <tbody>\n",
              "    <tr>\n",
              "      <th>0</th>\n",
              "      <td>50</td>\n",
              "      <td>15360</td>\n",
              "      <td>500</td>\n",
              "      <td>550</td>\n",
              "      <td>200</td>\n",
              "      <td>3</td>\n",
              "      <td>3</td>\n",
              "      <td>smart</td>\n",
              "    </tr>\n",
              "    <tr>\n",
              "      <th>1</th>\n",
              "      <td>1000</td>\n",
              "      <td>30720</td>\n",
              "      <td>3000</td>\n",
              "      <td>1950</td>\n",
              "      <td>150</td>\n",
              "      <td>1</td>\n",
              "      <td>1</td>\n",
              "      <td>ultra</td>\n",
              "    </tr>\n",
              "  </tbody>\n",
              "</table>\n",
              "</div>\n",
              "      <button class=\"colab-df-convert\" onclick=\"convertToInteractive('df-e21f13a6-248e-4387-ab6c-708d62acbdc3')\"\n",
              "              title=\"Convert this dataframe to an interactive table.\"\n",
              "              style=\"display:none;\">\n",
              "        \n",
              "  <svg xmlns=\"http://www.w3.org/2000/svg\" height=\"24px\"viewBox=\"0 0 24 24\"\n",
              "       width=\"24px\">\n",
              "    <path d=\"M0 0h24v24H0V0z\" fill=\"none\"/>\n",
              "    <path d=\"M18.56 5.44l.94 2.06.94-2.06 2.06-.94-2.06-.94-.94-2.06-.94 2.06-2.06.94zm-11 1L8.5 8.5l.94-2.06 2.06-.94-2.06-.94L8.5 2.5l-.94 2.06-2.06.94zm10 10l.94 2.06.94-2.06 2.06-.94-2.06-.94-.94-2.06-.94 2.06-2.06.94z\"/><path d=\"M17.41 7.96l-1.37-1.37c-.4-.4-.92-.59-1.43-.59-.52 0-1.04.2-1.43.59L10.3 9.45l-7.72 7.72c-.78.78-.78 2.05 0 2.83L4 21.41c.39.39.9.59 1.41.59.51 0 1.02-.2 1.41-.59l7.78-7.78 2.81-2.81c.8-.78.8-2.07 0-2.86zM5.41 20L4 18.59l7.72-7.72 1.47 1.35L5.41 20z\"/>\n",
              "  </svg>\n",
              "      </button>\n",
              "      \n",
              "  <style>\n",
              "    .colab-df-container {\n",
              "      display:flex;\n",
              "      flex-wrap:wrap;\n",
              "      gap: 12px;\n",
              "    }\n",
              "\n",
              "    .colab-df-convert {\n",
              "      background-color: #E8F0FE;\n",
              "      border: none;\n",
              "      border-radius: 50%;\n",
              "      cursor: pointer;\n",
              "      display: none;\n",
              "      fill: #1967D2;\n",
              "      height: 32px;\n",
              "      padding: 0 0 0 0;\n",
              "      width: 32px;\n",
              "    }\n",
              "\n",
              "    .colab-df-convert:hover {\n",
              "      background-color: #E2EBFA;\n",
              "      box-shadow: 0px 1px 2px rgba(60, 64, 67, 0.3), 0px 1px 3px 1px rgba(60, 64, 67, 0.15);\n",
              "      fill: #174EA6;\n",
              "    }\n",
              "\n",
              "    [theme=dark] .colab-df-convert {\n",
              "      background-color: #3B4455;\n",
              "      fill: #D2E3FC;\n",
              "    }\n",
              "\n",
              "    [theme=dark] .colab-df-convert:hover {\n",
              "      background-color: #434B5C;\n",
              "      box-shadow: 0px 1px 3px 1px rgba(0, 0, 0, 0.15);\n",
              "      filter: drop-shadow(0px 1px 2px rgba(0, 0, 0, 0.3));\n",
              "      fill: #FFFFFF;\n",
              "    }\n",
              "  </style>\n",
              "\n",
              "      <script>\n",
              "        const buttonEl =\n",
              "          document.querySelector('#df-e21f13a6-248e-4387-ab6c-708d62acbdc3 button.colab-df-convert');\n",
              "        buttonEl.style.display =\n",
              "          google.colab.kernel.accessAllowed ? 'block' : 'none';\n",
              "\n",
              "        async function convertToInteractive(key) {\n",
              "          const element = document.querySelector('#df-e21f13a6-248e-4387-ab6c-708d62acbdc3');\n",
              "          const dataTable =\n",
              "            await google.colab.kernel.invokeFunction('convertToInteractive',\n",
              "                                                     [key], {});\n",
              "          if (!dataTable) return;\n",
              "\n",
              "          const docLinkHtml = 'Like what you see? Visit the ' +\n",
              "            '<a target=\"_blank\" href=https://colab.research.google.com/notebooks/data_table.ipynb>data table notebook</a>'\n",
              "            + ' to learn more about interactive tables.';\n",
              "          element.innerHTML = '';\n",
              "          dataTable['output_type'] = 'display_data';\n",
              "          await google.colab.output.renderOutput(dataTable, element);\n",
              "          const docLink = document.createElement('div');\n",
              "          docLink.innerHTML = docLinkHtml;\n",
              "          element.appendChild(docLink);\n",
              "        }\n",
              "      </script>\n",
              "    </div>\n",
              "  </div>\n",
              "  "
            ]
          },
          "metadata": {},
          "execution_count": 7
        }
      ],
      "source": [
        "tariffs"
      ]
    },
    {
      "cell_type": "code",
      "execution_count": null,
      "metadata": {
        "colab": {
          "base_uri": "https://localhost:8080/",
          "height": 206
        },
        "id": "WC_Rhj9eTKP0",
        "outputId": "8afd73df-43f8-4105-9854-98ad63d175a2"
      },
      "outputs": [
        {
          "output_type": "execute_result",
          "data": {
            "text/plain": [
              "       id message_date  user_id\n",
              "0  1000_0   2018-06-27     1000\n",
              "1  1000_1   2018-10-08     1000\n",
              "2  1000_2   2018-08-04     1000\n",
              "3  1000_3   2018-06-16     1000\n",
              "4  1000_4   2018-12-05     1000"
            ],
            "text/html": [
              "\n",
              "  <div id=\"df-d4b8e141-7792-4ce7-a92a-0796ff556206\">\n",
              "    <div class=\"colab-df-container\">\n",
              "      <div>\n",
              "<style scoped>\n",
              "    .dataframe tbody tr th:only-of-type {\n",
              "        vertical-align: middle;\n",
              "    }\n",
              "\n",
              "    .dataframe tbody tr th {\n",
              "        vertical-align: top;\n",
              "    }\n",
              "\n",
              "    .dataframe thead th {\n",
              "        text-align: right;\n",
              "    }\n",
              "</style>\n",
              "<table border=\"1\" class=\"dataframe\">\n",
              "  <thead>\n",
              "    <tr style=\"text-align: right;\">\n",
              "      <th></th>\n",
              "      <th>id</th>\n",
              "      <th>message_date</th>\n",
              "      <th>user_id</th>\n",
              "    </tr>\n",
              "  </thead>\n",
              "  <tbody>\n",
              "    <tr>\n",
              "      <th>0</th>\n",
              "      <td>1000_0</td>\n",
              "      <td>2018-06-27</td>\n",
              "      <td>1000</td>\n",
              "    </tr>\n",
              "    <tr>\n",
              "      <th>1</th>\n",
              "      <td>1000_1</td>\n",
              "      <td>2018-10-08</td>\n",
              "      <td>1000</td>\n",
              "    </tr>\n",
              "    <tr>\n",
              "      <th>2</th>\n",
              "      <td>1000_2</td>\n",
              "      <td>2018-08-04</td>\n",
              "      <td>1000</td>\n",
              "    </tr>\n",
              "    <tr>\n",
              "      <th>3</th>\n",
              "      <td>1000_3</td>\n",
              "      <td>2018-06-16</td>\n",
              "      <td>1000</td>\n",
              "    </tr>\n",
              "    <tr>\n",
              "      <th>4</th>\n",
              "      <td>1000_4</td>\n",
              "      <td>2018-12-05</td>\n",
              "      <td>1000</td>\n",
              "    </tr>\n",
              "  </tbody>\n",
              "</table>\n",
              "</div>\n",
              "      <button class=\"colab-df-convert\" onclick=\"convertToInteractive('df-d4b8e141-7792-4ce7-a92a-0796ff556206')\"\n",
              "              title=\"Convert this dataframe to an interactive table.\"\n",
              "              style=\"display:none;\">\n",
              "        \n",
              "  <svg xmlns=\"http://www.w3.org/2000/svg\" height=\"24px\"viewBox=\"0 0 24 24\"\n",
              "       width=\"24px\">\n",
              "    <path d=\"M0 0h24v24H0V0z\" fill=\"none\"/>\n",
              "    <path d=\"M18.56 5.44l.94 2.06.94-2.06 2.06-.94-2.06-.94-.94-2.06-.94 2.06-2.06.94zm-11 1L8.5 8.5l.94-2.06 2.06-.94-2.06-.94L8.5 2.5l-.94 2.06-2.06.94zm10 10l.94 2.06.94-2.06 2.06-.94-2.06-.94-.94-2.06-.94 2.06-2.06.94z\"/><path d=\"M17.41 7.96l-1.37-1.37c-.4-.4-.92-.59-1.43-.59-.52 0-1.04.2-1.43.59L10.3 9.45l-7.72 7.72c-.78.78-.78 2.05 0 2.83L4 21.41c.39.39.9.59 1.41.59.51 0 1.02-.2 1.41-.59l7.78-7.78 2.81-2.81c.8-.78.8-2.07 0-2.86zM5.41 20L4 18.59l7.72-7.72 1.47 1.35L5.41 20z\"/>\n",
              "  </svg>\n",
              "      </button>\n",
              "      \n",
              "  <style>\n",
              "    .colab-df-container {\n",
              "      display:flex;\n",
              "      flex-wrap:wrap;\n",
              "      gap: 12px;\n",
              "    }\n",
              "\n",
              "    .colab-df-convert {\n",
              "      background-color: #E8F0FE;\n",
              "      border: none;\n",
              "      border-radius: 50%;\n",
              "      cursor: pointer;\n",
              "      display: none;\n",
              "      fill: #1967D2;\n",
              "      height: 32px;\n",
              "      padding: 0 0 0 0;\n",
              "      width: 32px;\n",
              "    }\n",
              "\n",
              "    .colab-df-convert:hover {\n",
              "      background-color: #E2EBFA;\n",
              "      box-shadow: 0px 1px 2px rgba(60, 64, 67, 0.3), 0px 1px 3px 1px rgba(60, 64, 67, 0.15);\n",
              "      fill: #174EA6;\n",
              "    }\n",
              "\n",
              "    [theme=dark] .colab-df-convert {\n",
              "      background-color: #3B4455;\n",
              "      fill: #D2E3FC;\n",
              "    }\n",
              "\n",
              "    [theme=dark] .colab-df-convert:hover {\n",
              "      background-color: #434B5C;\n",
              "      box-shadow: 0px 1px 3px 1px rgba(0, 0, 0, 0.15);\n",
              "      filter: drop-shadow(0px 1px 2px rgba(0, 0, 0, 0.3));\n",
              "      fill: #FFFFFF;\n",
              "    }\n",
              "  </style>\n",
              "\n",
              "      <script>\n",
              "        const buttonEl =\n",
              "          document.querySelector('#df-d4b8e141-7792-4ce7-a92a-0796ff556206 button.colab-df-convert');\n",
              "        buttonEl.style.display =\n",
              "          google.colab.kernel.accessAllowed ? 'block' : 'none';\n",
              "\n",
              "        async function convertToInteractive(key) {\n",
              "          const element = document.querySelector('#df-d4b8e141-7792-4ce7-a92a-0796ff556206');\n",
              "          const dataTable =\n",
              "            await google.colab.kernel.invokeFunction('convertToInteractive',\n",
              "                                                     [key], {});\n",
              "          if (!dataTable) return;\n",
              "\n",
              "          const docLinkHtml = 'Like what you see? Visit the ' +\n",
              "            '<a target=\"_blank\" href=https://colab.research.google.com/notebooks/data_table.ipynb>data table notebook</a>'\n",
              "            + ' to learn more about interactive tables.';\n",
              "          element.innerHTML = '';\n",
              "          dataTable['output_type'] = 'display_data';\n",
              "          await google.colab.output.renderOutput(dataTable, element);\n",
              "          const docLink = document.createElement('div');\n",
              "          docLink.innerHTML = docLinkHtml;\n",
              "          element.appendChild(docLink);\n",
              "        }\n",
              "      </script>\n",
              "    </div>\n",
              "  </div>\n",
              "  "
            ]
          },
          "metadata": {},
          "execution_count": 8
        }
      ],
      "source": [
        "messages.head()"
      ]
    },
    {
      "cell_type": "code",
      "execution_count": null,
      "metadata": {
        "colab": {
          "base_uri": "https://localhost:8080/"
        },
        "id": "capVxIHzTKP1",
        "outputId": "419589ce-4f63-44b4-bc4a-957e189e225f"
      },
      "outputs": [
        {
          "output_type": "stream",
          "name": "stdout",
          "text": [
            "<class 'pandas.core.frame.DataFrame'>\n",
            "RangeIndex: 123036 entries, 0 to 123035\n",
            "Data columns (total 3 columns):\n",
            " #   Column        Non-Null Count   Dtype \n",
            "---  ------        --------------   ----- \n",
            " 0   id            123036 non-null  object\n",
            " 1   message_date  123036 non-null  object\n",
            " 2   user_id       123036 non-null  int64 \n",
            "dtypes: int64(1), object(2)\n",
            "memory usage: 2.8+ MB\n"
          ]
        }
      ],
      "source": [
        "messages.info()"
      ]
    },
    {
      "cell_type": "code",
      "execution_count": null,
      "metadata": {
        "colab": {
          "base_uri": "https://localhost:8080/",
          "height": 206
        },
        "id": "MLGP1QgOTKP1",
        "outputId": "6b535282-810c-4bcb-ea1f-d172ef4d803f"
      },
      "outputs": [
        {
          "output_type": "execute_result",
          "data": {
            "text/plain": [
              "   Unnamed: 0      id  mb_used session_date  user_id\n",
              "0           0  1000_0   112.95   2018-11-25     1000\n",
              "1           1  1000_1  1052.81   2018-09-07     1000\n",
              "2           2  1000_2  1197.26   2018-06-25     1000\n",
              "3           3  1000_3   550.27   2018-08-22     1000\n",
              "4           4  1000_4   302.56   2018-09-24     1000"
            ],
            "text/html": [
              "\n",
              "  <div id=\"df-a373a6da-5166-4c9d-84d4-9f47cd4b51a4\">\n",
              "    <div class=\"colab-df-container\">\n",
              "      <div>\n",
              "<style scoped>\n",
              "    .dataframe tbody tr th:only-of-type {\n",
              "        vertical-align: middle;\n",
              "    }\n",
              "\n",
              "    .dataframe tbody tr th {\n",
              "        vertical-align: top;\n",
              "    }\n",
              "\n",
              "    .dataframe thead th {\n",
              "        text-align: right;\n",
              "    }\n",
              "</style>\n",
              "<table border=\"1\" class=\"dataframe\">\n",
              "  <thead>\n",
              "    <tr style=\"text-align: right;\">\n",
              "      <th></th>\n",
              "      <th>Unnamed: 0</th>\n",
              "      <th>id</th>\n",
              "      <th>mb_used</th>\n",
              "      <th>session_date</th>\n",
              "      <th>user_id</th>\n",
              "    </tr>\n",
              "  </thead>\n",
              "  <tbody>\n",
              "    <tr>\n",
              "      <th>0</th>\n",
              "      <td>0</td>\n",
              "      <td>1000_0</td>\n",
              "      <td>112.95</td>\n",
              "      <td>2018-11-25</td>\n",
              "      <td>1000</td>\n",
              "    </tr>\n",
              "    <tr>\n",
              "      <th>1</th>\n",
              "      <td>1</td>\n",
              "      <td>1000_1</td>\n",
              "      <td>1052.81</td>\n",
              "      <td>2018-09-07</td>\n",
              "      <td>1000</td>\n",
              "    </tr>\n",
              "    <tr>\n",
              "      <th>2</th>\n",
              "      <td>2</td>\n",
              "      <td>1000_2</td>\n",
              "      <td>1197.26</td>\n",
              "      <td>2018-06-25</td>\n",
              "      <td>1000</td>\n",
              "    </tr>\n",
              "    <tr>\n",
              "      <th>3</th>\n",
              "      <td>3</td>\n",
              "      <td>1000_3</td>\n",
              "      <td>550.27</td>\n",
              "      <td>2018-08-22</td>\n",
              "      <td>1000</td>\n",
              "    </tr>\n",
              "    <tr>\n",
              "      <th>4</th>\n",
              "      <td>4</td>\n",
              "      <td>1000_4</td>\n",
              "      <td>302.56</td>\n",
              "      <td>2018-09-24</td>\n",
              "      <td>1000</td>\n",
              "    </tr>\n",
              "  </tbody>\n",
              "</table>\n",
              "</div>\n",
              "      <button class=\"colab-df-convert\" onclick=\"convertToInteractive('df-a373a6da-5166-4c9d-84d4-9f47cd4b51a4')\"\n",
              "              title=\"Convert this dataframe to an interactive table.\"\n",
              "              style=\"display:none;\">\n",
              "        \n",
              "  <svg xmlns=\"http://www.w3.org/2000/svg\" height=\"24px\"viewBox=\"0 0 24 24\"\n",
              "       width=\"24px\">\n",
              "    <path d=\"M0 0h24v24H0V0z\" fill=\"none\"/>\n",
              "    <path d=\"M18.56 5.44l.94 2.06.94-2.06 2.06-.94-2.06-.94-.94-2.06-.94 2.06-2.06.94zm-11 1L8.5 8.5l.94-2.06 2.06-.94-2.06-.94L8.5 2.5l-.94 2.06-2.06.94zm10 10l.94 2.06.94-2.06 2.06-.94-2.06-.94-.94-2.06-.94 2.06-2.06.94z\"/><path d=\"M17.41 7.96l-1.37-1.37c-.4-.4-.92-.59-1.43-.59-.52 0-1.04.2-1.43.59L10.3 9.45l-7.72 7.72c-.78.78-.78 2.05 0 2.83L4 21.41c.39.39.9.59 1.41.59.51 0 1.02-.2 1.41-.59l7.78-7.78 2.81-2.81c.8-.78.8-2.07 0-2.86zM5.41 20L4 18.59l7.72-7.72 1.47 1.35L5.41 20z\"/>\n",
              "  </svg>\n",
              "      </button>\n",
              "      \n",
              "  <style>\n",
              "    .colab-df-container {\n",
              "      display:flex;\n",
              "      flex-wrap:wrap;\n",
              "      gap: 12px;\n",
              "    }\n",
              "\n",
              "    .colab-df-convert {\n",
              "      background-color: #E8F0FE;\n",
              "      border: none;\n",
              "      border-radius: 50%;\n",
              "      cursor: pointer;\n",
              "      display: none;\n",
              "      fill: #1967D2;\n",
              "      height: 32px;\n",
              "      padding: 0 0 0 0;\n",
              "      width: 32px;\n",
              "    }\n",
              "\n",
              "    .colab-df-convert:hover {\n",
              "      background-color: #E2EBFA;\n",
              "      box-shadow: 0px 1px 2px rgba(60, 64, 67, 0.3), 0px 1px 3px 1px rgba(60, 64, 67, 0.15);\n",
              "      fill: #174EA6;\n",
              "    }\n",
              "\n",
              "    [theme=dark] .colab-df-convert {\n",
              "      background-color: #3B4455;\n",
              "      fill: #D2E3FC;\n",
              "    }\n",
              "\n",
              "    [theme=dark] .colab-df-convert:hover {\n",
              "      background-color: #434B5C;\n",
              "      box-shadow: 0px 1px 3px 1px rgba(0, 0, 0, 0.15);\n",
              "      filter: drop-shadow(0px 1px 2px rgba(0, 0, 0, 0.3));\n",
              "      fill: #FFFFFF;\n",
              "    }\n",
              "  </style>\n",
              "\n",
              "      <script>\n",
              "        const buttonEl =\n",
              "          document.querySelector('#df-a373a6da-5166-4c9d-84d4-9f47cd4b51a4 button.colab-df-convert');\n",
              "        buttonEl.style.display =\n",
              "          google.colab.kernel.accessAllowed ? 'block' : 'none';\n",
              "\n",
              "        async function convertToInteractive(key) {\n",
              "          const element = document.querySelector('#df-a373a6da-5166-4c9d-84d4-9f47cd4b51a4');\n",
              "          const dataTable =\n",
              "            await google.colab.kernel.invokeFunction('convertToInteractive',\n",
              "                                                     [key], {});\n",
              "          if (!dataTable) return;\n",
              "\n",
              "          const docLinkHtml = 'Like what you see? Visit the ' +\n",
              "            '<a target=\"_blank\" href=https://colab.research.google.com/notebooks/data_table.ipynb>data table notebook</a>'\n",
              "            + ' to learn more about interactive tables.';\n",
              "          element.innerHTML = '';\n",
              "          dataTable['output_type'] = 'display_data';\n",
              "          await google.colab.output.renderOutput(dataTable, element);\n",
              "          const docLink = document.createElement('div');\n",
              "          docLink.innerHTML = docLinkHtml;\n",
              "          element.appendChild(docLink);\n",
              "        }\n",
              "      </script>\n",
              "    </div>\n",
              "  </div>\n",
              "  "
            ]
          },
          "metadata": {},
          "execution_count": 10
        }
      ],
      "source": [
        "internet.head()"
      ]
    },
    {
      "cell_type": "code",
      "execution_count": null,
      "metadata": {
        "colab": {
          "base_uri": "https://localhost:8080/"
        },
        "id": "EV2LnQX0TKP1",
        "outputId": "d22d5e24-d90c-43ce-e3ea-fa40c0260367"
      },
      "outputs": [
        {
          "output_type": "stream",
          "name": "stdout",
          "text": [
            "<class 'pandas.core.frame.DataFrame'>\n",
            "RangeIndex: 149396 entries, 0 to 149395\n",
            "Data columns (total 5 columns):\n",
            " #   Column        Non-Null Count   Dtype  \n",
            "---  ------        --------------   -----  \n",
            " 0   Unnamed: 0    149396 non-null  int64  \n",
            " 1   id            149396 non-null  object \n",
            " 2   mb_used       149396 non-null  float64\n",
            " 3   session_date  149396 non-null  object \n",
            " 4   user_id       149396 non-null  int64  \n",
            "dtypes: float64(1), int64(2), object(2)\n",
            "memory usage: 5.7+ MB\n"
          ]
        }
      ],
      "source": [
        "internet.info()"
      ]
    },
    {
      "cell_type": "markdown",
      "metadata": {
        "id": "lQB2_CCnTKP1"
      },
      "source": [
        "Since the analysis is carried out by months, for convenience, we will discard days in the date columns in all tables:"
      ]
    },
    {
      "cell_type": "code",
      "source": [
        "users[~users['churn_date'].isna()]"
      ],
      "metadata": {
        "colab": {
          "base_uri": "https://localhost:8080/",
          "height": 1000
        },
        "id": "XzcignqCiBV_",
        "outputId": "aada306d-3ab7-401c-f76e-7827920bb5a3"
      },
      "execution_count": null,
      "outputs": [
        {
          "output_type": "execute_result",
          "data": {
            "text/plain": [
              "     user_id  age  churn_date              city  first_name   last_name  \\\n",
              "19      1019   63  2018-10-05             Томск     Игнатий     Круглов   \n",
              "20      1020   59  2018-12-18              Чита        Тала     Костина   \n",
              "34      1034   66  2018-11-21           Вологда   Святослав    Бондарев   \n",
              "50      1050   44  2018-10-03            Тюмень      Рузана    Аничкина   \n",
              "51      1051   37  2018-10-14            Москва    Кристина      Сомова   \n",
              "56      1056   73  2018-10-14           Иркутск    Радислав    Артемьев   \n",
              "62      1062   24  2018-12-09            Москва   Александр    Коршунов   \n",
              "63      1063   45  2018-12-11              Тула       Таира     Климова   \n",
              "64      1064   55  2018-12-26            Якутск      Динара     Алфеева   \n",
              "65      1065   53  2018-12-09            Москва        Роза    Игнатова   \n",
              "71      1071   20  2018-08-31              Омск      Гектор     Чумаков   \n",
              "90      1090   54  2018-12-03         Череповец   Екатерина   Астафьева   \n",
              "128     1128   51  2018-12-23          Волжский      Ксения      Агаева   \n",
              "161     1161   65  2018-11-07  Набережные Челны     Татьяна  Голованова   \n",
              "163     1163   21  2018-12-16            Москва         Лев  Вишневский   \n",
              "191     1191   64  2018-10-03  Набережные Челны   Александр   Акиндинов   \n",
              "201     1201   32  2018-12-03            Москва    Геннадий     Веселов   \n",
              "206     1206   35  2018-12-20            Москва       Елена    Шарапова   \n",
              "232     1232   60  2018-11-30             Томск    Виктория      Ларина   \n",
              "242     1242   39  2018-12-21         Хабаровск       Радим    Федосеев   \n",
              "254     1254   75  2018-08-17            Москва  Александра    Сухарева   \n",
              "255     1255   40  2018-09-02           Саранск    Серафима  Пономарева   \n",
              "265     1265   24  2018-10-04              Омск       Радим      Адамов   \n",
              "271     1271   69  2018-11-13         Челябинск     Аурелия      Чижова   \n",
              "293     1293   39  2018-11-22   Санкт-Петербург       Эдита    Дубинина   \n",
              "343     1343   30  2018-10-28          Кострома       Анита  Верещагина   \n",
              "353     1353   57  2018-11-26   Санкт-Петербург    Доминика    Анищенко   \n",
              "355     1355   33  2018-11-27             Киров        Сара  Абрикосова   \n",
              "367     1367   43  2018-11-16            Москва    Всеволод   Антоненко   \n",
              "370     1370   48  2018-10-27      Новороссийск      Гектор      Сысоев   \n",
              "371     1371   50  2018-12-30              Омск      Ириней    Трофимов   \n",
              "392     1392   54  2018-09-27         Челябинск        Алла    Беликова   \n",
              "399     1399   31  2018-12-25               Уфа       Алиса    Абрашина   \n",
              "416     1416   50  2018-12-14   Санкт-Петербург     Валерия      Ёлчина   \n",
              "422     1422   60  2018-12-21            Москва       Клара    Устинова   \n",
              "438     1438   24  2018-12-24      Екатеринбург     Нателла    Бородина   \n",
              "480     1480   29  2018-09-26       Новокузнецк      Гелена  Емельянова   \n",
              "498     1498   68  2018-10-25       Владикавказ    Всеволод     Акимчин   \n",
              "\n",
              "       reg_date tariff  \n",
              "19   2018-05-16  ultra  \n",
              "20   2018-10-22  smart  \n",
              "34   2018-08-26  smart  \n",
              "50   2018-06-16  ultra  \n",
              "51   2018-05-28  smart  \n",
              "56   2018-04-13  smart  \n",
              "62   2018-11-16  smart  \n",
              "63   2018-04-12  ultra  \n",
              "64   2018-03-17  smart  \n",
              "65   2018-03-08  smart  \n",
              "71   2018-01-09  smart  \n",
              "90   2018-10-11  ultra  \n",
              "128  2018-12-15  ultra  \n",
              "161  2018-07-03  smart  \n",
              "163  2018-11-03  smart  \n",
              "191  2018-06-30  smart  \n",
              "201  2018-08-06  ultra  \n",
              "206  2018-11-03  smart  \n",
              "232  2018-10-07  smart  \n",
              "242  2018-11-18  smart  \n",
              "254  2018-01-04  ultra  \n",
              "255  2018-02-19  ultra  \n",
              "265  2018-06-24  ultra  \n",
              "271  2018-07-14  ultra  \n",
              "293  2018-09-05  smart  \n",
              "343  2018-08-15  ultra  \n",
              "353  2018-04-22  smart  \n",
              "355  2018-07-21  smart  \n",
              "367  2018-09-14  ultra  \n",
              "370  2018-02-06  smart  \n",
              "371  2018-12-25  smart  \n",
              "392  2018-02-27  ultra  \n",
              "399  2018-11-06  ultra  \n",
              "416  2018-07-16  ultra  \n",
              "422  2018-10-12  smart  \n",
              "438  2018-10-05  smart  \n",
              "480  2018-02-14  smart  \n",
              "498  2018-07-19  smart  "
            ],
            "text/html": [
              "\n",
              "  <div id=\"df-f121e868-ef74-4d68-bd39-42ac664908cb\">\n",
              "    <div class=\"colab-df-container\">\n",
              "      <div>\n",
              "<style scoped>\n",
              "    .dataframe tbody tr th:only-of-type {\n",
              "        vertical-align: middle;\n",
              "    }\n",
              "\n",
              "    .dataframe tbody tr th {\n",
              "        vertical-align: top;\n",
              "    }\n",
              "\n",
              "    .dataframe thead th {\n",
              "        text-align: right;\n",
              "    }\n",
              "</style>\n",
              "<table border=\"1\" class=\"dataframe\">\n",
              "  <thead>\n",
              "    <tr style=\"text-align: right;\">\n",
              "      <th></th>\n",
              "      <th>user_id</th>\n",
              "      <th>age</th>\n",
              "      <th>churn_date</th>\n",
              "      <th>city</th>\n",
              "      <th>first_name</th>\n",
              "      <th>last_name</th>\n",
              "      <th>reg_date</th>\n",
              "      <th>tariff</th>\n",
              "    </tr>\n",
              "  </thead>\n",
              "  <tbody>\n",
              "    <tr>\n",
              "      <th>19</th>\n",
              "      <td>1019</td>\n",
              "      <td>63</td>\n",
              "      <td>2018-10-05</td>\n",
              "      <td>Томск</td>\n",
              "      <td>Игнатий</td>\n",
              "      <td>Круглов</td>\n",
              "      <td>2018-05-16</td>\n",
              "      <td>ultra</td>\n",
              "    </tr>\n",
              "    <tr>\n",
              "      <th>20</th>\n",
              "      <td>1020</td>\n",
              "      <td>59</td>\n",
              "      <td>2018-12-18</td>\n",
              "      <td>Чита</td>\n",
              "      <td>Тала</td>\n",
              "      <td>Костина</td>\n",
              "      <td>2018-10-22</td>\n",
              "      <td>smart</td>\n",
              "    </tr>\n",
              "    <tr>\n",
              "      <th>34</th>\n",
              "      <td>1034</td>\n",
              "      <td>66</td>\n",
              "      <td>2018-11-21</td>\n",
              "      <td>Вологда</td>\n",
              "      <td>Святослав</td>\n",
              "      <td>Бондарев</td>\n",
              "      <td>2018-08-26</td>\n",
              "      <td>smart</td>\n",
              "    </tr>\n",
              "    <tr>\n",
              "      <th>50</th>\n",
              "      <td>1050</td>\n",
              "      <td>44</td>\n",
              "      <td>2018-10-03</td>\n",
              "      <td>Тюмень</td>\n",
              "      <td>Рузана</td>\n",
              "      <td>Аничкина</td>\n",
              "      <td>2018-06-16</td>\n",
              "      <td>ultra</td>\n",
              "    </tr>\n",
              "    <tr>\n",
              "      <th>51</th>\n",
              "      <td>1051</td>\n",
              "      <td>37</td>\n",
              "      <td>2018-10-14</td>\n",
              "      <td>Москва</td>\n",
              "      <td>Кристина</td>\n",
              "      <td>Сомова</td>\n",
              "      <td>2018-05-28</td>\n",
              "      <td>smart</td>\n",
              "    </tr>\n",
              "    <tr>\n",
              "      <th>56</th>\n",
              "      <td>1056</td>\n",
              "      <td>73</td>\n",
              "      <td>2018-10-14</td>\n",
              "      <td>Иркутск</td>\n",
              "      <td>Радислав</td>\n",
              "      <td>Артемьев</td>\n",
              "      <td>2018-04-13</td>\n",
              "      <td>smart</td>\n",
              "    </tr>\n",
              "    <tr>\n",
              "      <th>62</th>\n",
              "      <td>1062</td>\n",
              "      <td>24</td>\n",
              "      <td>2018-12-09</td>\n",
              "      <td>Москва</td>\n",
              "      <td>Александр</td>\n",
              "      <td>Коршунов</td>\n",
              "      <td>2018-11-16</td>\n",
              "      <td>smart</td>\n",
              "    </tr>\n",
              "    <tr>\n",
              "      <th>63</th>\n",
              "      <td>1063</td>\n",
              "      <td>45</td>\n",
              "      <td>2018-12-11</td>\n",
              "      <td>Тула</td>\n",
              "      <td>Таира</td>\n",
              "      <td>Климова</td>\n",
              "      <td>2018-04-12</td>\n",
              "      <td>ultra</td>\n",
              "    </tr>\n",
              "    <tr>\n",
              "      <th>64</th>\n",
              "      <td>1064</td>\n",
              "      <td>55</td>\n",
              "      <td>2018-12-26</td>\n",
              "      <td>Якутск</td>\n",
              "      <td>Динара</td>\n",
              "      <td>Алфеева</td>\n",
              "      <td>2018-03-17</td>\n",
              "      <td>smart</td>\n",
              "    </tr>\n",
              "    <tr>\n",
              "      <th>65</th>\n",
              "      <td>1065</td>\n",
              "      <td>53</td>\n",
              "      <td>2018-12-09</td>\n",
              "      <td>Москва</td>\n",
              "      <td>Роза</td>\n",
              "      <td>Игнатова</td>\n",
              "      <td>2018-03-08</td>\n",
              "      <td>smart</td>\n",
              "    </tr>\n",
              "    <tr>\n",
              "      <th>71</th>\n",
              "      <td>1071</td>\n",
              "      <td>20</td>\n",
              "      <td>2018-08-31</td>\n",
              "      <td>Омск</td>\n",
              "      <td>Гектор</td>\n",
              "      <td>Чумаков</td>\n",
              "      <td>2018-01-09</td>\n",
              "      <td>smart</td>\n",
              "    </tr>\n",
              "    <tr>\n",
              "      <th>90</th>\n",
              "      <td>1090</td>\n",
              "      <td>54</td>\n",
              "      <td>2018-12-03</td>\n",
              "      <td>Череповец</td>\n",
              "      <td>Екатерина</td>\n",
              "      <td>Астафьева</td>\n",
              "      <td>2018-10-11</td>\n",
              "      <td>ultra</td>\n",
              "    </tr>\n",
              "    <tr>\n",
              "      <th>128</th>\n",
              "      <td>1128</td>\n",
              "      <td>51</td>\n",
              "      <td>2018-12-23</td>\n",
              "      <td>Волжский</td>\n",
              "      <td>Ксения</td>\n",
              "      <td>Агаева</td>\n",
              "      <td>2018-12-15</td>\n",
              "      <td>ultra</td>\n",
              "    </tr>\n",
              "    <tr>\n",
              "      <th>161</th>\n",
              "      <td>1161</td>\n",
              "      <td>65</td>\n",
              "      <td>2018-11-07</td>\n",
              "      <td>Набережные Челны</td>\n",
              "      <td>Татьяна</td>\n",
              "      <td>Голованова</td>\n",
              "      <td>2018-07-03</td>\n",
              "      <td>smart</td>\n",
              "    </tr>\n",
              "    <tr>\n",
              "      <th>163</th>\n",
              "      <td>1163</td>\n",
              "      <td>21</td>\n",
              "      <td>2018-12-16</td>\n",
              "      <td>Москва</td>\n",
              "      <td>Лев</td>\n",
              "      <td>Вишневский</td>\n",
              "      <td>2018-11-03</td>\n",
              "      <td>smart</td>\n",
              "    </tr>\n",
              "    <tr>\n",
              "      <th>191</th>\n",
              "      <td>1191</td>\n",
              "      <td>64</td>\n",
              "      <td>2018-10-03</td>\n",
              "      <td>Набережные Челны</td>\n",
              "      <td>Александр</td>\n",
              "      <td>Акиндинов</td>\n",
              "      <td>2018-06-30</td>\n",
              "      <td>smart</td>\n",
              "    </tr>\n",
              "    <tr>\n",
              "      <th>201</th>\n",
              "      <td>1201</td>\n",
              "      <td>32</td>\n",
              "      <td>2018-12-03</td>\n",
              "      <td>Москва</td>\n",
              "      <td>Геннадий</td>\n",
              "      <td>Веселов</td>\n",
              "      <td>2018-08-06</td>\n",
              "      <td>ultra</td>\n",
              "    </tr>\n",
              "    <tr>\n",
              "      <th>206</th>\n",
              "      <td>1206</td>\n",
              "      <td>35</td>\n",
              "      <td>2018-12-20</td>\n",
              "      <td>Москва</td>\n",
              "      <td>Елена</td>\n",
              "      <td>Шарапова</td>\n",
              "      <td>2018-11-03</td>\n",
              "      <td>smart</td>\n",
              "    </tr>\n",
              "    <tr>\n",
              "      <th>232</th>\n",
              "      <td>1232</td>\n",
              "      <td>60</td>\n",
              "      <td>2018-11-30</td>\n",
              "      <td>Томск</td>\n",
              "      <td>Виктория</td>\n",
              "      <td>Ларина</td>\n",
              "      <td>2018-10-07</td>\n",
              "      <td>smart</td>\n",
              "    </tr>\n",
              "    <tr>\n",
              "      <th>242</th>\n",
              "      <td>1242</td>\n",
              "      <td>39</td>\n",
              "      <td>2018-12-21</td>\n",
              "      <td>Хабаровск</td>\n",
              "      <td>Радим</td>\n",
              "      <td>Федосеев</td>\n",
              "      <td>2018-11-18</td>\n",
              "      <td>smart</td>\n",
              "    </tr>\n",
              "    <tr>\n",
              "      <th>254</th>\n",
              "      <td>1254</td>\n",
              "      <td>75</td>\n",
              "      <td>2018-08-17</td>\n",
              "      <td>Москва</td>\n",
              "      <td>Александра</td>\n",
              "      <td>Сухарева</td>\n",
              "      <td>2018-01-04</td>\n",
              "      <td>ultra</td>\n",
              "    </tr>\n",
              "    <tr>\n",
              "      <th>255</th>\n",
              "      <td>1255</td>\n",
              "      <td>40</td>\n",
              "      <td>2018-09-02</td>\n",
              "      <td>Саранск</td>\n",
              "      <td>Серафима</td>\n",
              "      <td>Пономарева</td>\n",
              "      <td>2018-02-19</td>\n",
              "      <td>ultra</td>\n",
              "    </tr>\n",
              "    <tr>\n",
              "      <th>265</th>\n",
              "      <td>1265</td>\n",
              "      <td>24</td>\n",
              "      <td>2018-10-04</td>\n",
              "      <td>Омск</td>\n",
              "      <td>Радим</td>\n",
              "      <td>Адамов</td>\n",
              "      <td>2018-06-24</td>\n",
              "      <td>ultra</td>\n",
              "    </tr>\n",
              "    <tr>\n",
              "      <th>271</th>\n",
              "      <td>1271</td>\n",
              "      <td>69</td>\n",
              "      <td>2018-11-13</td>\n",
              "      <td>Челябинск</td>\n",
              "      <td>Аурелия</td>\n",
              "      <td>Чижова</td>\n",
              "      <td>2018-07-14</td>\n",
              "      <td>ultra</td>\n",
              "    </tr>\n",
              "    <tr>\n",
              "      <th>293</th>\n",
              "      <td>1293</td>\n",
              "      <td>39</td>\n",
              "      <td>2018-11-22</td>\n",
              "      <td>Санкт-Петербург</td>\n",
              "      <td>Эдита</td>\n",
              "      <td>Дубинина</td>\n",
              "      <td>2018-09-05</td>\n",
              "      <td>smart</td>\n",
              "    </tr>\n",
              "    <tr>\n",
              "      <th>343</th>\n",
              "      <td>1343</td>\n",
              "      <td>30</td>\n",
              "      <td>2018-10-28</td>\n",
              "      <td>Кострома</td>\n",
              "      <td>Анита</td>\n",
              "      <td>Верещагина</td>\n",
              "      <td>2018-08-15</td>\n",
              "      <td>ultra</td>\n",
              "    </tr>\n",
              "    <tr>\n",
              "      <th>353</th>\n",
              "      <td>1353</td>\n",
              "      <td>57</td>\n",
              "      <td>2018-11-26</td>\n",
              "      <td>Санкт-Петербург</td>\n",
              "      <td>Доминика</td>\n",
              "      <td>Анищенко</td>\n",
              "      <td>2018-04-22</td>\n",
              "      <td>smart</td>\n",
              "    </tr>\n",
              "    <tr>\n",
              "      <th>355</th>\n",
              "      <td>1355</td>\n",
              "      <td>33</td>\n",
              "      <td>2018-11-27</td>\n",
              "      <td>Киров</td>\n",
              "      <td>Сара</td>\n",
              "      <td>Абрикосова</td>\n",
              "      <td>2018-07-21</td>\n",
              "      <td>smart</td>\n",
              "    </tr>\n",
              "    <tr>\n",
              "      <th>367</th>\n",
              "      <td>1367</td>\n",
              "      <td>43</td>\n",
              "      <td>2018-11-16</td>\n",
              "      <td>Москва</td>\n",
              "      <td>Всеволод</td>\n",
              "      <td>Антоненко</td>\n",
              "      <td>2018-09-14</td>\n",
              "      <td>ultra</td>\n",
              "    </tr>\n",
              "    <tr>\n",
              "      <th>370</th>\n",
              "      <td>1370</td>\n",
              "      <td>48</td>\n",
              "      <td>2018-10-27</td>\n",
              "      <td>Новороссийск</td>\n",
              "      <td>Гектор</td>\n",
              "      <td>Сысоев</td>\n",
              "      <td>2018-02-06</td>\n",
              "      <td>smart</td>\n",
              "    </tr>\n",
              "    <tr>\n",
              "      <th>371</th>\n",
              "      <td>1371</td>\n",
              "      <td>50</td>\n",
              "      <td>2018-12-30</td>\n",
              "      <td>Омск</td>\n",
              "      <td>Ириней</td>\n",
              "      <td>Трофимов</td>\n",
              "      <td>2018-12-25</td>\n",
              "      <td>smart</td>\n",
              "    </tr>\n",
              "    <tr>\n",
              "      <th>392</th>\n",
              "      <td>1392</td>\n",
              "      <td>54</td>\n",
              "      <td>2018-09-27</td>\n",
              "      <td>Челябинск</td>\n",
              "      <td>Алла</td>\n",
              "      <td>Беликова</td>\n",
              "      <td>2018-02-27</td>\n",
              "      <td>ultra</td>\n",
              "    </tr>\n",
              "    <tr>\n",
              "      <th>399</th>\n",
              "      <td>1399</td>\n",
              "      <td>31</td>\n",
              "      <td>2018-12-25</td>\n",
              "      <td>Уфа</td>\n",
              "      <td>Алиса</td>\n",
              "      <td>Абрашина</td>\n",
              "      <td>2018-11-06</td>\n",
              "      <td>ultra</td>\n",
              "    </tr>\n",
              "    <tr>\n",
              "      <th>416</th>\n",
              "      <td>1416</td>\n",
              "      <td>50</td>\n",
              "      <td>2018-12-14</td>\n",
              "      <td>Санкт-Петербург</td>\n",
              "      <td>Валерия</td>\n",
              "      <td>Ёлчина</td>\n",
              "      <td>2018-07-16</td>\n",
              "      <td>ultra</td>\n",
              "    </tr>\n",
              "    <tr>\n",
              "      <th>422</th>\n",
              "      <td>1422</td>\n",
              "      <td>60</td>\n",
              "      <td>2018-12-21</td>\n",
              "      <td>Москва</td>\n",
              "      <td>Клара</td>\n",
              "      <td>Устинова</td>\n",
              "      <td>2018-10-12</td>\n",
              "      <td>smart</td>\n",
              "    </tr>\n",
              "    <tr>\n",
              "      <th>438</th>\n",
              "      <td>1438</td>\n",
              "      <td>24</td>\n",
              "      <td>2018-12-24</td>\n",
              "      <td>Екатеринбург</td>\n",
              "      <td>Нателла</td>\n",
              "      <td>Бородина</td>\n",
              "      <td>2018-10-05</td>\n",
              "      <td>smart</td>\n",
              "    </tr>\n",
              "    <tr>\n",
              "      <th>480</th>\n",
              "      <td>1480</td>\n",
              "      <td>29</td>\n",
              "      <td>2018-09-26</td>\n",
              "      <td>Новокузнецк</td>\n",
              "      <td>Гелена</td>\n",
              "      <td>Емельянова</td>\n",
              "      <td>2018-02-14</td>\n",
              "      <td>smart</td>\n",
              "    </tr>\n",
              "    <tr>\n",
              "      <th>498</th>\n",
              "      <td>1498</td>\n",
              "      <td>68</td>\n",
              "      <td>2018-10-25</td>\n",
              "      <td>Владикавказ</td>\n",
              "      <td>Всеволод</td>\n",
              "      <td>Акимчин</td>\n",
              "      <td>2018-07-19</td>\n",
              "      <td>smart</td>\n",
              "    </tr>\n",
              "  </tbody>\n",
              "</table>\n",
              "</div>\n",
              "      <button class=\"colab-df-convert\" onclick=\"convertToInteractive('df-f121e868-ef74-4d68-bd39-42ac664908cb')\"\n",
              "              title=\"Convert this dataframe to an interactive table.\"\n",
              "              style=\"display:none;\">\n",
              "        \n",
              "  <svg xmlns=\"http://www.w3.org/2000/svg\" height=\"24px\"viewBox=\"0 0 24 24\"\n",
              "       width=\"24px\">\n",
              "    <path d=\"M0 0h24v24H0V0z\" fill=\"none\"/>\n",
              "    <path d=\"M18.56 5.44l.94 2.06.94-2.06 2.06-.94-2.06-.94-.94-2.06-.94 2.06-2.06.94zm-11 1L8.5 8.5l.94-2.06 2.06-.94-2.06-.94L8.5 2.5l-.94 2.06-2.06.94zm10 10l.94 2.06.94-2.06 2.06-.94-2.06-.94-.94-2.06-.94 2.06-2.06.94z\"/><path d=\"M17.41 7.96l-1.37-1.37c-.4-.4-.92-.59-1.43-.59-.52 0-1.04.2-1.43.59L10.3 9.45l-7.72 7.72c-.78.78-.78 2.05 0 2.83L4 21.41c.39.39.9.59 1.41.59.51 0 1.02-.2 1.41-.59l7.78-7.78 2.81-2.81c.8-.78.8-2.07 0-2.86zM5.41 20L4 18.59l7.72-7.72 1.47 1.35L5.41 20z\"/>\n",
              "  </svg>\n",
              "      </button>\n",
              "      \n",
              "  <style>\n",
              "    .colab-df-container {\n",
              "      display:flex;\n",
              "      flex-wrap:wrap;\n",
              "      gap: 12px;\n",
              "    }\n",
              "\n",
              "    .colab-df-convert {\n",
              "      background-color: #E8F0FE;\n",
              "      border: none;\n",
              "      border-radius: 50%;\n",
              "      cursor: pointer;\n",
              "      display: none;\n",
              "      fill: #1967D2;\n",
              "      height: 32px;\n",
              "      padding: 0 0 0 0;\n",
              "      width: 32px;\n",
              "    }\n",
              "\n",
              "    .colab-df-convert:hover {\n",
              "      background-color: #E2EBFA;\n",
              "      box-shadow: 0px 1px 2px rgba(60, 64, 67, 0.3), 0px 1px 3px 1px rgba(60, 64, 67, 0.15);\n",
              "      fill: #174EA6;\n",
              "    }\n",
              "\n",
              "    [theme=dark] .colab-df-convert {\n",
              "      background-color: #3B4455;\n",
              "      fill: #D2E3FC;\n",
              "    }\n",
              "\n",
              "    [theme=dark] .colab-df-convert:hover {\n",
              "      background-color: #434B5C;\n",
              "      box-shadow: 0px 1px 3px 1px rgba(0, 0, 0, 0.15);\n",
              "      filter: drop-shadow(0px 1px 2px rgba(0, 0, 0, 0.3));\n",
              "      fill: #FFFFFF;\n",
              "    }\n",
              "  </style>\n",
              "\n",
              "      <script>\n",
              "        const buttonEl =\n",
              "          document.querySelector('#df-f121e868-ef74-4d68-bd39-42ac664908cb button.colab-df-convert');\n",
              "        buttonEl.style.display =\n",
              "          google.colab.kernel.accessAllowed ? 'block' : 'none';\n",
              "\n",
              "        async function convertToInteractive(key) {\n",
              "          const element = document.querySelector('#df-f121e868-ef74-4d68-bd39-42ac664908cb');\n",
              "          const dataTable =\n",
              "            await google.colab.kernel.invokeFunction('convertToInteractive',\n",
              "                                                     [key], {});\n",
              "          if (!dataTable) return;\n",
              "\n",
              "          const docLinkHtml = 'Like what you see? Visit the ' +\n",
              "            '<a target=\"_blank\" href=https://colab.research.google.com/notebooks/data_table.ipynb>data table notebook</a>'\n",
              "            + ' to learn more about interactive tables.';\n",
              "          element.innerHTML = '';\n",
              "          dataTable['output_type'] = 'display_data';\n",
              "          await google.colab.output.renderOutput(dataTable, element);\n",
              "          const docLink = document.createElement('div');\n",
              "          docLink.innerHTML = docLinkHtml;\n",
              "          element.appendChild(docLink);\n",
              "        }\n",
              "      </script>\n",
              "    </div>\n",
              "  </div>\n",
              "  "
            ]
          },
          "metadata": {},
          "execution_count": 12
        }
      ]
    },
    {
      "cell_type": "code",
      "execution_count": null,
      "metadata": {
        "id": "irtr28wFTKP2"
      },
      "outputs": [],
      "source": [
        "users['reg_date'] = users['reg_date'].apply(lambda x: x[:7])\n",
        "users['churn_date'] = users[~users['churn_date'].isna()]['churn_date'].apply(lambda x: x[:7])\n",
        "internet['session_date'] = internet['session_date'].apply(lambda x: x[:7])\n",
        "calls['call_date'] = calls['call_date'].apply(lambda x: x[:7])\n",
        "messages['message_date'] = messages['message_date'].apply(lambda x: x[:7])"
      ]
    },
    {
      "cell_type": "markdown",
      "metadata": {
        "id": "tOJDjgcRTKP2"
      },
      "source": [
        "According to the task, each call is rounded up to the whole minute."
      ]
    },
    {
      "cell_type": "code",
      "execution_count": null,
      "metadata": {
        "id": "5L2O7wjMTKP2"
      },
      "outputs": [],
      "source": [
        "calls['duration'] = np.ceil(calls['duration'])"
      ]
    },
    {
      "cell_type": "code",
      "execution_count": null,
      "metadata": {
        "colab": {
          "base_uri": "https://localhost:8080/",
          "height": 206
        },
        "id": "C34X70glTKP2",
        "outputId": "c3313185-05bc-40d5-b703-952ebb506ac4"
      },
      "outputs": [
        {
          "output_type": "execute_result",
          "data": {
            "text/plain": [
              "       id call_date  duration  user_id\n",
              "0  1000_0   2018-07      0.00     1000\n",
              "1  1000_1   2018-08      0.00     1000\n",
              "2  1000_2   2018-06      3.00     1000\n",
              "3  1000_3   2018-09     14.00     1000\n",
              "4  1000_4   2018-12      6.00     1000"
            ],
            "text/html": [
              "\n",
              "  <div id=\"df-f3c1760d-fde2-4e99-ba61-f55ab8611833\">\n",
              "    <div class=\"colab-df-container\">\n",
              "      <div>\n",
              "<style scoped>\n",
              "    .dataframe tbody tr th:only-of-type {\n",
              "        vertical-align: middle;\n",
              "    }\n",
              "\n",
              "    .dataframe tbody tr th {\n",
              "        vertical-align: top;\n",
              "    }\n",
              "\n",
              "    .dataframe thead th {\n",
              "        text-align: right;\n",
              "    }\n",
              "</style>\n",
              "<table border=\"1\" class=\"dataframe\">\n",
              "  <thead>\n",
              "    <tr style=\"text-align: right;\">\n",
              "      <th></th>\n",
              "      <th>id</th>\n",
              "      <th>call_date</th>\n",
              "      <th>duration</th>\n",
              "      <th>user_id</th>\n",
              "    </tr>\n",
              "  </thead>\n",
              "  <tbody>\n",
              "    <tr>\n",
              "      <th>0</th>\n",
              "      <td>1000_0</td>\n",
              "      <td>2018-07</td>\n",
              "      <td>0.00</td>\n",
              "      <td>1000</td>\n",
              "    </tr>\n",
              "    <tr>\n",
              "      <th>1</th>\n",
              "      <td>1000_1</td>\n",
              "      <td>2018-08</td>\n",
              "      <td>0.00</td>\n",
              "      <td>1000</td>\n",
              "    </tr>\n",
              "    <tr>\n",
              "      <th>2</th>\n",
              "      <td>1000_2</td>\n",
              "      <td>2018-06</td>\n",
              "      <td>3.00</td>\n",
              "      <td>1000</td>\n",
              "    </tr>\n",
              "    <tr>\n",
              "      <th>3</th>\n",
              "      <td>1000_3</td>\n",
              "      <td>2018-09</td>\n",
              "      <td>14.00</td>\n",
              "      <td>1000</td>\n",
              "    </tr>\n",
              "    <tr>\n",
              "      <th>4</th>\n",
              "      <td>1000_4</td>\n",
              "      <td>2018-12</td>\n",
              "      <td>6.00</td>\n",
              "      <td>1000</td>\n",
              "    </tr>\n",
              "  </tbody>\n",
              "</table>\n",
              "</div>\n",
              "      <button class=\"colab-df-convert\" onclick=\"convertToInteractive('df-f3c1760d-fde2-4e99-ba61-f55ab8611833')\"\n",
              "              title=\"Convert this dataframe to an interactive table.\"\n",
              "              style=\"display:none;\">\n",
              "        \n",
              "  <svg xmlns=\"http://www.w3.org/2000/svg\" height=\"24px\"viewBox=\"0 0 24 24\"\n",
              "       width=\"24px\">\n",
              "    <path d=\"M0 0h24v24H0V0z\" fill=\"none\"/>\n",
              "    <path d=\"M18.56 5.44l.94 2.06.94-2.06 2.06-.94-2.06-.94-.94-2.06-.94 2.06-2.06.94zm-11 1L8.5 8.5l.94-2.06 2.06-.94-2.06-.94L8.5 2.5l-.94 2.06-2.06.94zm10 10l.94 2.06.94-2.06 2.06-.94-2.06-.94-.94-2.06-.94 2.06-2.06.94z\"/><path d=\"M17.41 7.96l-1.37-1.37c-.4-.4-.92-.59-1.43-.59-.52 0-1.04.2-1.43.59L10.3 9.45l-7.72 7.72c-.78.78-.78 2.05 0 2.83L4 21.41c.39.39.9.59 1.41.59.51 0 1.02-.2 1.41-.59l7.78-7.78 2.81-2.81c.8-.78.8-2.07 0-2.86zM5.41 20L4 18.59l7.72-7.72 1.47 1.35L5.41 20z\"/>\n",
              "  </svg>\n",
              "      </button>\n",
              "      \n",
              "  <style>\n",
              "    .colab-df-container {\n",
              "      display:flex;\n",
              "      flex-wrap:wrap;\n",
              "      gap: 12px;\n",
              "    }\n",
              "\n",
              "    .colab-df-convert {\n",
              "      background-color: #E8F0FE;\n",
              "      border: none;\n",
              "      border-radius: 50%;\n",
              "      cursor: pointer;\n",
              "      display: none;\n",
              "      fill: #1967D2;\n",
              "      height: 32px;\n",
              "      padding: 0 0 0 0;\n",
              "      width: 32px;\n",
              "    }\n",
              "\n",
              "    .colab-df-convert:hover {\n",
              "      background-color: #E2EBFA;\n",
              "      box-shadow: 0px 1px 2px rgba(60, 64, 67, 0.3), 0px 1px 3px 1px rgba(60, 64, 67, 0.15);\n",
              "      fill: #174EA6;\n",
              "    }\n",
              "\n",
              "    [theme=dark] .colab-df-convert {\n",
              "      background-color: #3B4455;\n",
              "      fill: #D2E3FC;\n",
              "    }\n",
              "\n",
              "    [theme=dark] .colab-df-convert:hover {\n",
              "      background-color: #434B5C;\n",
              "      box-shadow: 0px 1px 3px 1px rgba(0, 0, 0, 0.15);\n",
              "      filter: drop-shadow(0px 1px 2px rgba(0, 0, 0, 0.3));\n",
              "      fill: #FFFFFF;\n",
              "    }\n",
              "  </style>\n",
              "\n",
              "      <script>\n",
              "        const buttonEl =\n",
              "          document.querySelector('#df-f3c1760d-fde2-4e99-ba61-f55ab8611833 button.colab-df-convert');\n",
              "        buttonEl.style.display =\n",
              "          google.colab.kernel.accessAllowed ? 'block' : 'none';\n",
              "\n",
              "        async function convertToInteractive(key) {\n",
              "          const element = document.querySelector('#df-f3c1760d-fde2-4e99-ba61-f55ab8611833');\n",
              "          const dataTable =\n",
              "            await google.colab.kernel.invokeFunction('convertToInteractive',\n",
              "                                                     [key], {});\n",
              "          if (!dataTable) return;\n",
              "\n",
              "          const docLinkHtml = 'Like what you see? Visit the ' +\n",
              "            '<a target=\"_blank\" href=https://colab.research.google.com/notebooks/data_table.ipynb>data table notebook</a>'\n",
              "            + ' to learn more about interactive tables.';\n",
              "          element.innerHTML = '';\n",
              "          dataTable['output_type'] = 'display_data';\n",
              "          await google.colab.output.renderOutput(dataTable, element);\n",
              "          const docLink = document.createElement('div');\n",
              "          docLink.innerHTML = docLinkHtml;\n",
              "          element.appendChild(docLink);\n",
              "        }\n",
              "      </script>\n",
              "    </div>\n",
              "  </div>\n",
              "  "
            ]
          },
          "metadata": {},
          "execution_count": 15
        }
      ],
      "source": [
        "calls.head()"
      ]
    },
    {
      "cell_type": "code",
      "execution_count": null,
      "metadata": {
        "colab": {
          "base_uri": "https://localhost:8080/"
        },
        "id": "j_YBAbstTKP3",
        "outputId": "a2ba81b9-d05d-460a-ebf1-cbd2fa77a160"
      },
      "outputs": [
        {
          "output_type": "execute_result",
          "data": {
            "text/plain": [
              "[0, 0, 0, 0]"
            ]
          },
          "metadata": {},
          "execution_count": 16
        }
      ],
      "source": [
        "[users.duplicated().sum(), calls.duplicated().sum(), messages.duplicated().sum(), internet.duplicated().sum()]"
      ]
    },
    {
      "cell_type": "code",
      "execution_count": null,
      "metadata": {
        "colab": {
          "base_uri": "https://localhost:8080/"
        },
        "id": "m4R4ujceTKP3",
        "outputId": "c7f157b2-a871-4b06-e26b-f51c6fab41b7"
      },
      "outputs": [
        {
          "output_type": "execute_result",
          "data": {
            "text/plain": [
              "tariff  churn_date\n",
              "smart   2018-12       10\n",
              "        2018-11        6\n",
              "        2018-10        5\n",
              "        2018-08        1\n",
              "        2018-09        1\n",
              "ultra   2018-12        6\n",
              "        2018-10        4\n",
              "        2018-09        2\n",
              "        2018-11        2\n",
              "        2018-08        1\n",
              "Name: churn_date, dtype: int64"
            ]
          },
          "metadata": {},
          "execution_count": 17
        }
      ],
      "source": [
        "users.groupby('tariff')['churn_date'].value_counts()"
      ]
    },
    {
      "cell_type": "markdown",
      "metadata": {
        "id": "KWzvxnMMTKP2"
      },
      "source": [
        "The data was loaded, checked, converted into the format necessary for further research."
      ]
    },
    {
      "cell_type": "markdown",
      "metadata": {
        "id": "12Ih6v73TKP3"
      },
      "source": [
        "## Calculation of the required parameters"
      ]
    },
    {
      "cell_type": "markdown",
      "metadata": {
        "id": "3zWnfYs-TKP4"
      },
      "source": [
        "For further analysis, it is necessary to collect a table that will contain the following data: subscriber ID, month, total number of minutes, number of calls, messages, traffic volume and monthly revenue, as well as tariff, subscriber location region.\n",
        "\n",
        "Let's calculate for each user:"
      ]
    },
    {
      "cell_type": "markdown",
      "metadata": {
        "id": "M8nEGvCpTKP4"
      },
      "source": [
        "* \tnumber of calls made and spent minutes of calls by month:"
      ]
    },
    {
      "cell_type": "code",
      "execution_count": null,
      "metadata": {
        "colab": {
          "base_uri": "https://localhost:8080/",
          "height": 424
        },
        "id": "mtUl_I8BTKP4",
        "outputId": "594f43dd-3f8d-4d8d-9e6b-1e9a7b8ac205"
      },
      "outputs": [
        {
          "output_type": "execute_result",
          "data": {
            "text/plain": [
              "      user_id    month  calls_sum_length  calls_count\n",
              "0        1000  2018-05            159.00           22\n",
              "1        1000  2018-06            172.00           43\n",
              "2        1000  2018-07            340.00           47\n",
              "3        1000  2018-08            408.00           52\n",
              "4        1000  2018-09            466.00           58\n",
              "...       ...      ...               ...          ...\n",
              "3169     1498  2018-10            247.00           41\n",
              "3170     1499  2018-09             70.00            9\n",
              "3171     1499  2018-10            449.00           68\n",
              "3172     1499  2018-11            612.00           74\n",
              "3173     1499  2018-12            492.00           69\n",
              "\n",
              "[3174 rows x 4 columns]"
            ],
            "text/html": [
              "\n",
              "  <div id=\"df-a7b7cf0e-84ac-4294-babb-3ef4f17d3414\">\n",
              "    <div class=\"colab-df-container\">\n",
              "      <div>\n",
              "<style scoped>\n",
              "    .dataframe tbody tr th:only-of-type {\n",
              "        vertical-align: middle;\n",
              "    }\n",
              "\n",
              "    .dataframe tbody tr th {\n",
              "        vertical-align: top;\n",
              "    }\n",
              "\n",
              "    .dataframe thead th {\n",
              "        text-align: right;\n",
              "    }\n",
              "</style>\n",
              "<table border=\"1\" class=\"dataframe\">\n",
              "  <thead>\n",
              "    <tr style=\"text-align: right;\">\n",
              "      <th></th>\n",
              "      <th>user_id</th>\n",
              "      <th>month</th>\n",
              "      <th>calls_sum_length</th>\n",
              "      <th>calls_count</th>\n",
              "    </tr>\n",
              "  </thead>\n",
              "  <tbody>\n",
              "    <tr>\n",
              "      <th>0</th>\n",
              "      <td>1000</td>\n",
              "      <td>2018-05</td>\n",
              "      <td>159.00</td>\n",
              "      <td>22</td>\n",
              "    </tr>\n",
              "    <tr>\n",
              "      <th>1</th>\n",
              "      <td>1000</td>\n",
              "      <td>2018-06</td>\n",
              "      <td>172.00</td>\n",
              "      <td>43</td>\n",
              "    </tr>\n",
              "    <tr>\n",
              "      <th>2</th>\n",
              "      <td>1000</td>\n",
              "      <td>2018-07</td>\n",
              "      <td>340.00</td>\n",
              "      <td>47</td>\n",
              "    </tr>\n",
              "    <tr>\n",
              "      <th>3</th>\n",
              "      <td>1000</td>\n",
              "      <td>2018-08</td>\n",
              "      <td>408.00</td>\n",
              "      <td>52</td>\n",
              "    </tr>\n",
              "    <tr>\n",
              "      <th>4</th>\n",
              "      <td>1000</td>\n",
              "      <td>2018-09</td>\n",
              "      <td>466.00</td>\n",
              "      <td>58</td>\n",
              "    </tr>\n",
              "    <tr>\n",
              "      <th>...</th>\n",
              "      <td>...</td>\n",
              "      <td>...</td>\n",
              "      <td>...</td>\n",
              "      <td>...</td>\n",
              "    </tr>\n",
              "    <tr>\n",
              "      <th>3169</th>\n",
              "      <td>1498</td>\n",
              "      <td>2018-10</td>\n",
              "      <td>247.00</td>\n",
              "      <td>41</td>\n",
              "    </tr>\n",
              "    <tr>\n",
              "      <th>3170</th>\n",
              "      <td>1499</td>\n",
              "      <td>2018-09</td>\n",
              "      <td>70.00</td>\n",
              "      <td>9</td>\n",
              "    </tr>\n",
              "    <tr>\n",
              "      <th>3171</th>\n",
              "      <td>1499</td>\n",
              "      <td>2018-10</td>\n",
              "      <td>449.00</td>\n",
              "      <td>68</td>\n",
              "    </tr>\n",
              "    <tr>\n",
              "      <th>3172</th>\n",
              "      <td>1499</td>\n",
              "      <td>2018-11</td>\n",
              "      <td>612.00</td>\n",
              "      <td>74</td>\n",
              "    </tr>\n",
              "    <tr>\n",
              "      <th>3173</th>\n",
              "      <td>1499</td>\n",
              "      <td>2018-12</td>\n",
              "      <td>492.00</td>\n",
              "      <td>69</td>\n",
              "    </tr>\n",
              "  </tbody>\n",
              "</table>\n",
              "<p>3174 rows × 4 columns</p>\n",
              "</div>\n",
              "      <button class=\"colab-df-convert\" onclick=\"convertToInteractive('df-a7b7cf0e-84ac-4294-babb-3ef4f17d3414')\"\n",
              "              title=\"Convert this dataframe to an interactive table.\"\n",
              "              style=\"display:none;\">\n",
              "        \n",
              "  <svg xmlns=\"http://www.w3.org/2000/svg\" height=\"24px\"viewBox=\"0 0 24 24\"\n",
              "       width=\"24px\">\n",
              "    <path d=\"M0 0h24v24H0V0z\" fill=\"none\"/>\n",
              "    <path d=\"M18.56 5.44l.94 2.06.94-2.06 2.06-.94-2.06-.94-.94-2.06-.94 2.06-2.06.94zm-11 1L8.5 8.5l.94-2.06 2.06-.94-2.06-.94L8.5 2.5l-.94 2.06-2.06.94zm10 10l.94 2.06.94-2.06 2.06-.94-2.06-.94-.94-2.06-.94 2.06-2.06.94z\"/><path d=\"M17.41 7.96l-1.37-1.37c-.4-.4-.92-.59-1.43-.59-.52 0-1.04.2-1.43.59L10.3 9.45l-7.72 7.72c-.78.78-.78 2.05 0 2.83L4 21.41c.39.39.9.59 1.41.59.51 0 1.02-.2 1.41-.59l7.78-7.78 2.81-2.81c.8-.78.8-2.07 0-2.86zM5.41 20L4 18.59l7.72-7.72 1.47 1.35L5.41 20z\"/>\n",
              "  </svg>\n",
              "      </button>\n",
              "      \n",
              "  <style>\n",
              "    .colab-df-container {\n",
              "      display:flex;\n",
              "      flex-wrap:wrap;\n",
              "      gap: 12px;\n",
              "    }\n",
              "\n",
              "    .colab-df-convert {\n",
              "      background-color: #E8F0FE;\n",
              "      border: none;\n",
              "      border-radius: 50%;\n",
              "      cursor: pointer;\n",
              "      display: none;\n",
              "      fill: #1967D2;\n",
              "      height: 32px;\n",
              "      padding: 0 0 0 0;\n",
              "      width: 32px;\n",
              "    }\n",
              "\n",
              "    .colab-df-convert:hover {\n",
              "      background-color: #E2EBFA;\n",
              "      box-shadow: 0px 1px 2px rgba(60, 64, 67, 0.3), 0px 1px 3px 1px rgba(60, 64, 67, 0.15);\n",
              "      fill: #174EA6;\n",
              "    }\n",
              "\n",
              "    [theme=dark] .colab-df-convert {\n",
              "      background-color: #3B4455;\n",
              "      fill: #D2E3FC;\n",
              "    }\n",
              "\n",
              "    [theme=dark] .colab-df-convert:hover {\n",
              "      background-color: #434B5C;\n",
              "      box-shadow: 0px 1px 3px 1px rgba(0, 0, 0, 0.15);\n",
              "      filter: drop-shadow(0px 1px 2px rgba(0, 0, 0, 0.3));\n",
              "      fill: #FFFFFF;\n",
              "    }\n",
              "  </style>\n",
              "\n",
              "      <script>\n",
              "        const buttonEl =\n",
              "          document.querySelector('#df-a7b7cf0e-84ac-4294-babb-3ef4f17d3414 button.colab-df-convert');\n",
              "        buttonEl.style.display =\n",
              "          google.colab.kernel.accessAllowed ? 'block' : 'none';\n",
              "\n",
              "        async function convertToInteractive(key) {\n",
              "          const element = document.querySelector('#df-a7b7cf0e-84ac-4294-babb-3ef4f17d3414');\n",
              "          const dataTable =\n",
              "            await google.colab.kernel.invokeFunction('convertToInteractive',\n",
              "                                                     [key], {});\n",
              "          if (!dataTable) return;\n",
              "\n",
              "          const docLinkHtml = 'Like what you see? Visit the ' +\n",
              "            '<a target=\"_blank\" href=https://colab.research.google.com/notebooks/data_table.ipynb>data table notebook</a>'\n",
              "            + ' to learn more about interactive tables.';\n",
              "          element.innerHTML = '';\n",
              "          dataTable['output_type'] = 'display_data';\n",
              "          await google.colab.output.renderOutput(dataTable, element);\n",
              "          const docLink = document.createElement('div');\n",
              "          docLink.innerHTML = docLinkHtml;\n",
              "          element.appendChild(docLink);\n",
              "        }\n",
              "      </script>\n",
              "    </div>\n",
              "  </div>\n",
              "  "
            ]
          },
          "metadata": {},
          "execution_count": 18
        }
      ],
      "source": [
        "calls_data = calls.groupby(['user_id', 'call_date'])['duration'].agg(['sum','count']).reset_index()\n",
        "calls_data.columns = ['user_id', 'month', 'calls_sum_length', 'calls_count']\n",
        "calls_data"
      ]
    },
    {
      "cell_type": "markdown",
      "metadata": {
        "id": "0nDhCWl5TKP4"
      },
      "source": [
        "* number of sent messages by month:"
      ]
    },
    {
      "cell_type": "code",
      "execution_count": null,
      "metadata": {
        "colab": {
          "base_uri": "https://localhost:8080/",
          "height": 424
        },
        "id": "CvqYMHsETKP4",
        "outputId": "59010d03-799f-4c22-be12-f48015e7ae8d"
      },
      "outputs": [
        {
          "output_type": "execute_result",
          "data": {
            "text/plain": [
              "      user_id    month  messages_count\n",
              "0        1000  2018-05              22\n",
              "1        1000  2018-06              60\n",
              "2        1000  2018-07              75\n",
              "3        1000  2018-08              81\n",
              "4        1000  2018-09              57\n",
              "...       ...      ...             ...\n",
              "2712     1498  2018-10              42\n",
              "2713     1499  2018-09              11\n",
              "2714     1499  2018-10              48\n",
              "2715     1499  2018-11              59\n",
              "2716     1499  2018-12              66\n",
              "\n",
              "[2717 rows x 3 columns]"
            ],
            "text/html": [
              "\n",
              "  <div id=\"df-490a59ff-6f5b-4d00-8ab8-26ee9e33dcd9\">\n",
              "    <div class=\"colab-df-container\">\n",
              "      <div>\n",
              "<style scoped>\n",
              "    .dataframe tbody tr th:only-of-type {\n",
              "        vertical-align: middle;\n",
              "    }\n",
              "\n",
              "    .dataframe tbody tr th {\n",
              "        vertical-align: top;\n",
              "    }\n",
              "\n",
              "    .dataframe thead th {\n",
              "        text-align: right;\n",
              "    }\n",
              "</style>\n",
              "<table border=\"1\" class=\"dataframe\">\n",
              "  <thead>\n",
              "    <tr style=\"text-align: right;\">\n",
              "      <th></th>\n",
              "      <th>user_id</th>\n",
              "      <th>month</th>\n",
              "      <th>messages_count</th>\n",
              "    </tr>\n",
              "  </thead>\n",
              "  <tbody>\n",
              "    <tr>\n",
              "      <th>0</th>\n",
              "      <td>1000</td>\n",
              "      <td>2018-05</td>\n",
              "      <td>22</td>\n",
              "    </tr>\n",
              "    <tr>\n",
              "      <th>1</th>\n",
              "      <td>1000</td>\n",
              "      <td>2018-06</td>\n",
              "      <td>60</td>\n",
              "    </tr>\n",
              "    <tr>\n",
              "      <th>2</th>\n",
              "      <td>1000</td>\n",
              "      <td>2018-07</td>\n",
              "      <td>75</td>\n",
              "    </tr>\n",
              "    <tr>\n",
              "      <th>3</th>\n",
              "      <td>1000</td>\n",
              "      <td>2018-08</td>\n",
              "      <td>81</td>\n",
              "    </tr>\n",
              "    <tr>\n",
              "      <th>4</th>\n",
              "      <td>1000</td>\n",
              "      <td>2018-09</td>\n",
              "      <td>57</td>\n",
              "    </tr>\n",
              "    <tr>\n",
              "      <th>...</th>\n",
              "      <td>...</td>\n",
              "      <td>...</td>\n",
              "      <td>...</td>\n",
              "    </tr>\n",
              "    <tr>\n",
              "      <th>2712</th>\n",
              "      <td>1498</td>\n",
              "      <td>2018-10</td>\n",
              "      <td>42</td>\n",
              "    </tr>\n",
              "    <tr>\n",
              "      <th>2713</th>\n",
              "      <td>1499</td>\n",
              "      <td>2018-09</td>\n",
              "      <td>11</td>\n",
              "    </tr>\n",
              "    <tr>\n",
              "      <th>2714</th>\n",
              "      <td>1499</td>\n",
              "      <td>2018-10</td>\n",
              "      <td>48</td>\n",
              "    </tr>\n",
              "    <tr>\n",
              "      <th>2715</th>\n",
              "      <td>1499</td>\n",
              "      <td>2018-11</td>\n",
              "      <td>59</td>\n",
              "    </tr>\n",
              "    <tr>\n",
              "      <th>2716</th>\n",
              "      <td>1499</td>\n",
              "      <td>2018-12</td>\n",
              "      <td>66</td>\n",
              "    </tr>\n",
              "  </tbody>\n",
              "</table>\n",
              "<p>2717 rows × 3 columns</p>\n",
              "</div>\n",
              "      <button class=\"colab-df-convert\" onclick=\"convertToInteractive('df-490a59ff-6f5b-4d00-8ab8-26ee9e33dcd9')\"\n",
              "              title=\"Convert this dataframe to an interactive table.\"\n",
              "              style=\"display:none;\">\n",
              "        \n",
              "  <svg xmlns=\"http://www.w3.org/2000/svg\" height=\"24px\"viewBox=\"0 0 24 24\"\n",
              "       width=\"24px\">\n",
              "    <path d=\"M0 0h24v24H0V0z\" fill=\"none\"/>\n",
              "    <path d=\"M18.56 5.44l.94 2.06.94-2.06 2.06-.94-2.06-.94-.94-2.06-.94 2.06-2.06.94zm-11 1L8.5 8.5l.94-2.06 2.06-.94-2.06-.94L8.5 2.5l-.94 2.06-2.06.94zm10 10l.94 2.06.94-2.06 2.06-.94-2.06-.94-.94-2.06-.94 2.06-2.06.94z\"/><path d=\"M17.41 7.96l-1.37-1.37c-.4-.4-.92-.59-1.43-.59-.52 0-1.04.2-1.43.59L10.3 9.45l-7.72 7.72c-.78.78-.78 2.05 0 2.83L4 21.41c.39.39.9.59 1.41.59.51 0 1.02-.2 1.41-.59l7.78-7.78 2.81-2.81c.8-.78.8-2.07 0-2.86zM5.41 20L4 18.59l7.72-7.72 1.47 1.35L5.41 20z\"/>\n",
              "  </svg>\n",
              "      </button>\n",
              "      \n",
              "  <style>\n",
              "    .colab-df-container {\n",
              "      display:flex;\n",
              "      flex-wrap:wrap;\n",
              "      gap: 12px;\n",
              "    }\n",
              "\n",
              "    .colab-df-convert {\n",
              "      background-color: #E8F0FE;\n",
              "      border: none;\n",
              "      border-radius: 50%;\n",
              "      cursor: pointer;\n",
              "      display: none;\n",
              "      fill: #1967D2;\n",
              "      height: 32px;\n",
              "      padding: 0 0 0 0;\n",
              "      width: 32px;\n",
              "    }\n",
              "\n",
              "    .colab-df-convert:hover {\n",
              "      background-color: #E2EBFA;\n",
              "      box-shadow: 0px 1px 2px rgba(60, 64, 67, 0.3), 0px 1px 3px 1px rgba(60, 64, 67, 0.15);\n",
              "      fill: #174EA6;\n",
              "    }\n",
              "\n",
              "    [theme=dark] .colab-df-convert {\n",
              "      background-color: #3B4455;\n",
              "      fill: #D2E3FC;\n",
              "    }\n",
              "\n",
              "    [theme=dark] .colab-df-convert:hover {\n",
              "      background-color: #434B5C;\n",
              "      box-shadow: 0px 1px 3px 1px rgba(0, 0, 0, 0.15);\n",
              "      filter: drop-shadow(0px 1px 2px rgba(0, 0, 0, 0.3));\n",
              "      fill: #FFFFFF;\n",
              "    }\n",
              "  </style>\n",
              "\n",
              "      <script>\n",
              "        const buttonEl =\n",
              "          document.querySelector('#df-490a59ff-6f5b-4d00-8ab8-26ee9e33dcd9 button.colab-df-convert');\n",
              "        buttonEl.style.display =\n",
              "          google.colab.kernel.accessAllowed ? 'block' : 'none';\n",
              "\n",
              "        async function convertToInteractive(key) {\n",
              "          const element = document.querySelector('#df-490a59ff-6f5b-4d00-8ab8-26ee9e33dcd9');\n",
              "          const dataTable =\n",
              "            await google.colab.kernel.invokeFunction('convertToInteractive',\n",
              "                                                     [key], {});\n",
              "          if (!dataTable) return;\n",
              "\n",
              "          const docLinkHtml = 'Like what you see? Visit the ' +\n",
              "            '<a target=\"_blank\" href=https://colab.research.google.com/notebooks/data_table.ipynb>data table notebook</a>'\n",
              "            + ' to learn more about interactive tables.';\n",
              "          element.innerHTML = '';\n",
              "          dataTable['output_type'] = 'display_data';\n",
              "          await google.colab.output.renderOutput(dataTable, element);\n",
              "          const docLink = document.createElement('div');\n",
              "          docLink.innerHTML = docLinkHtml;\n",
              "          element.appendChild(docLink);\n",
              "        }\n",
              "      </script>\n",
              "    </div>\n",
              "  </div>\n",
              "  "
            ]
          },
          "metadata": {},
          "execution_count": 19
        }
      ],
      "source": [
        "messages_data = messages.groupby(['user_id', 'message_date'], as_index=False).count()\n",
        "messages_data.columns = ['user_id', 'month', 'messages_count']\n",
        "messages_data"
      ]
    },
    {
      "cell_type": "markdown",
      "metadata": {
        "id": "Hxtmsyn2TKP4"
      },
      "source": [
        "* the amount of Internet traffic used by months:"
      ]
    },
    {
      "cell_type": "code",
      "execution_count": null,
      "metadata": {
        "colab": {
          "base_uri": "https://localhost:8080/",
          "height": 424
        },
        "id": "IeXLL5omTKP4",
        "outputId": "51cea46f-5156-4e42-ddd3-25afd4bb7b51"
      },
      "outputs": [
        {
          "output_type": "execute_result",
          "data": {
            "text/plain": [
              "      user_id    month  mb_used\n",
              "0        1000  2018-05  2253.49\n",
              "1        1000  2018-06 23233.77\n",
              "2        1000  2018-07 14003.64\n",
              "3        1000  2018-08 14055.93\n",
              "4        1000  2018-09 14568.91\n",
              "...       ...      ...      ...\n",
              "3198     1498  2018-10 20579.36\n",
              "3199     1499  2018-09  1845.75\n",
              "3200     1499  2018-10 17788.51\n",
              "3201     1499  2018-11 17963.31\n",
              "3202     1499  2018-12 13055.58\n",
              "\n",
              "[3203 rows x 3 columns]"
            ],
            "text/html": [
              "\n",
              "  <div id=\"df-8efb24cd-276e-4c8a-b3fb-1e8e6a3447b8\">\n",
              "    <div class=\"colab-df-container\">\n",
              "      <div>\n",
              "<style scoped>\n",
              "    .dataframe tbody tr th:only-of-type {\n",
              "        vertical-align: middle;\n",
              "    }\n",
              "\n",
              "    .dataframe tbody tr th {\n",
              "        vertical-align: top;\n",
              "    }\n",
              "\n",
              "    .dataframe thead th {\n",
              "        text-align: right;\n",
              "    }\n",
              "</style>\n",
              "<table border=\"1\" class=\"dataframe\">\n",
              "  <thead>\n",
              "    <tr style=\"text-align: right;\">\n",
              "      <th></th>\n",
              "      <th>user_id</th>\n",
              "      <th>month</th>\n",
              "      <th>mb_used</th>\n",
              "    </tr>\n",
              "  </thead>\n",
              "  <tbody>\n",
              "    <tr>\n",
              "      <th>0</th>\n",
              "      <td>1000</td>\n",
              "      <td>2018-05</td>\n",
              "      <td>2253.49</td>\n",
              "    </tr>\n",
              "    <tr>\n",
              "      <th>1</th>\n",
              "      <td>1000</td>\n",
              "      <td>2018-06</td>\n",
              "      <td>23233.77</td>\n",
              "    </tr>\n",
              "    <tr>\n",
              "      <th>2</th>\n",
              "      <td>1000</td>\n",
              "      <td>2018-07</td>\n",
              "      <td>14003.64</td>\n",
              "    </tr>\n",
              "    <tr>\n",
              "      <th>3</th>\n",
              "      <td>1000</td>\n",
              "      <td>2018-08</td>\n",
              "      <td>14055.93</td>\n",
              "    </tr>\n",
              "    <tr>\n",
              "      <th>4</th>\n",
              "      <td>1000</td>\n",
              "      <td>2018-09</td>\n",
              "      <td>14568.91</td>\n",
              "    </tr>\n",
              "    <tr>\n",
              "      <th>...</th>\n",
              "      <td>...</td>\n",
              "      <td>...</td>\n",
              "      <td>...</td>\n",
              "    </tr>\n",
              "    <tr>\n",
              "      <th>3198</th>\n",
              "      <td>1498</td>\n",
              "      <td>2018-10</td>\n",
              "      <td>20579.36</td>\n",
              "    </tr>\n",
              "    <tr>\n",
              "      <th>3199</th>\n",
              "      <td>1499</td>\n",
              "      <td>2018-09</td>\n",
              "      <td>1845.75</td>\n",
              "    </tr>\n",
              "    <tr>\n",
              "      <th>3200</th>\n",
              "      <td>1499</td>\n",
              "      <td>2018-10</td>\n",
              "      <td>17788.51</td>\n",
              "    </tr>\n",
              "    <tr>\n",
              "      <th>3201</th>\n",
              "      <td>1499</td>\n",
              "      <td>2018-11</td>\n",
              "      <td>17963.31</td>\n",
              "    </tr>\n",
              "    <tr>\n",
              "      <th>3202</th>\n",
              "      <td>1499</td>\n",
              "      <td>2018-12</td>\n",
              "      <td>13055.58</td>\n",
              "    </tr>\n",
              "  </tbody>\n",
              "</table>\n",
              "<p>3203 rows × 3 columns</p>\n",
              "</div>\n",
              "      <button class=\"colab-df-convert\" onclick=\"convertToInteractive('df-8efb24cd-276e-4c8a-b3fb-1e8e6a3447b8')\"\n",
              "              title=\"Convert this dataframe to an interactive table.\"\n",
              "              style=\"display:none;\">\n",
              "        \n",
              "  <svg xmlns=\"http://www.w3.org/2000/svg\" height=\"24px\"viewBox=\"0 0 24 24\"\n",
              "       width=\"24px\">\n",
              "    <path d=\"M0 0h24v24H0V0z\" fill=\"none\"/>\n",
              "    <path d=\"M18.56 5.44l.94 2.06.94-2.06 2.06-.94-2.06-.94-.94-2.06-.94 2.06-2.06.94zm-11 1L8.5 8.5l.94-2.06 2.06-.94-2.06-.94L8.5 2.5l-.94 2.06-2.06.94zm10 10l.94 2.06.94-2.06 2.06-.94-2.06-.94-.94-2.06-.94 2.06-2.06.94z\"/><path d=\"M17.41 7.96l-1.37-1.37c-.4-.4-.92-.59-1.43-.59-.52 0-1.04.2-1.43.59L10.3 9.45l-7.72 7.72c-.78.78-.78 2.05 0 2.83L4 21.41c.39.39.9.59 1.41.59.51 0 1.02-.2 1.41-.59l7.78-7.78 2.81-2.81c.8-.78.8-2.07 0-2.86zM5.41 20L4 18.59l7.72-7.72 1.47 1.35L5.41 20z\"/>\n",
              "  </svg>\n",
              "      </button>\n",
              "      \n",
              "  <style>\n",
              "    .colab-df-container {\n",
              "      display:flex;\n",
              "      flex-wrap:wrap;\n",
              "      gap: 12px;\n",
              "    }\n",
              "\n",
              "    .colab-df-convert {\n",
              "      background-color: #E8F0FE;\n",
              "      border: none;\n",
              "      border-radius: 50%;\n",
              "      cursor: pointer;\n",
              "      display: none;\n",
              "      fill: #1967D2;\n",
              "      height: 32px;\n",
              "      padding: 0 0 0 0;\n",
              "      width: 32px;\n",
              "    }\n",
              "\n",
              "    .colab-df-convert:hover {\n",
              "      background-color: #E2EBFA;\n",
              "      box-shadow: 0px 1px 2px rgba(60, 64, 67, 0.3), 0px 1px 3px 1px rgba(60, 64, 67, 0.15);\n",
              "      fill: #174EA6;\n",
              "    }\n",
              "\n",
              "    [theme=dark] .colab-df-convert {\n",
              "      background-color: #3B4455;\n",
              "      fill: #D2E3FC;\n",
              "    }\n",
              "\n",
              "    [theme=dark] .colab-df-convert:hover {\n",
              "      background-color: #434B5C;\n",
              "      box-shadow: 0px 1px 3px 1px rgba(0, 0, 0, 0.15);\n",
              "      filter: drop-shadow(0px 1px 2px rgba(0, 0, 0, 0.3));\n",
              "      fill: #FFFFFF;\n",
              "    }\n",
              "  </style>\n",
              "\n",
              "      <script>\n",
              "        const buttonEl =\n",
              "          document.querySelector('#df-8efb24cd-276e-4c8a-b3fb-1e8e6a3447b8 button.colab-df-convert');\n",
              "        buttonEl.style.display =\n",
              "          google.colab.kernel.accessAllowed ? 'block' : 'none';\n",
              "\n",
              "        async function convertToInteractive(key) {\n",
              "          const element = document.querySelector('#df-8efb24cd-276e-4c8a-b3fb-1e8e6a3447b8');\n",
              "          const dataTable =\n",
              "            await google.colab.kernel.invokeFunction('convertToInteractive',\n",
              "                                                     [key], {});\n",
              "          if (!dataTable) return;\n",
              "\n",
              "          const docLinkHtml = 'Like what you see? Visit the ' +\n",
              "            '<a target=\"_blank\" href=https://colab.research.google.com/notebooks/data_table.ipynb>data table notebook</a>'\n",
              "            + ' to learn more about interactive tables.';\n",
              "          element.innerHTML = '';\n",
              "          dataTable['output_type'] = 'display_data';\n",
              "          await google.colab.output.renderOutput(dataTable, element);\n",
              "          const docLink = document.createElement('div');\n",
              "          docLink.innerHTML = docLinkHtml;\n",
              "          element.appendChild(docLink);\n",
              "        }\n",
              "      </script>\n",
              "    </div>\n",
              "  </div>\n",
              "  "
            ]
          },
          "metadata": {},
          "execution_count": 20
        }
      ],
      "source": [
        "internet_data = internet.groupby(['user_id', 'session_date'], as_index=False).mb_used.sum()\n",
        "internet_data.columns = ['user_id', 'month', 'mb_used']\n",
        "internet_data"
      ]
    },
    {
      "cell_type": "markdown",
      "metadata": {
        "id": "0RXsRDlMTKP4"
      },
      "source": [
        "* let's collect the data in one dataframe, add information about the tariff and the region of residence:"
      ]
    },
    {
      "cell_type": "code",
      "execution_count": null,
      "metadata": {
        "id": "oxhCMEYWTKP5"
      },
      "outputs": [],
      "source": [
        "data = calls_data.merge(messages_data, on=['user_id', 'month'], how='outer')"
      ]
    },
    {
      "cell_type": "code",
      "execution_count": null,
      "metadata": {
        "id": "W4fCTPRbTKP5"
      },
      "outputs": [],
      "source": [
        "data = data.merge(internet_data, on=['user_id', 'month'], how='outer')"
      ]
    },
    {
      "cell_type": "code",
      "execution_count": null,
      "metadata": {
        "id": "9jIOmMxqTKP5"
      },
      "outputs": [],
      "source": [
        "data['tariff'] = data['user_id'].map(users.set_index('user_id')['tariff'])"
      ]
    },
    {
      "cell_type": "code",
      "execution_count": null,
      "metadata": {
        "id": "ZECNHVKBTKP5"
      },
      "outputs": [],
      "source": [
        "data['city'] = data['user_id'].map(users.set_index('user_id')['city'])"
      ]
    },
    {
      "cell_type": "markdown",
      "metadata": {
        "id": "KE5Ghi0NTKP5"
      },
      "source": [
        "The lengths of the added dataframes are different, missing values appeared in the combined dataframe - this means that some users did not use this type of communication in some periods of time, for example, they did not send SMS. These gaps can be replaced with null values."
      ]
    },
    {
      "cell_type": "code",
      "execution_count": null,
      "metadata": {
        "id": "3NJKBSBoTKP5"
      },
      "outputs": [],
      "source": [
        "data = data.fillna(0)"
      ]
    },
    {
      "cell_type": "markdown",
      "metadata": {
        "id": "1LWWXhCNTKP5"
      },
      "source": [
        "* calculate the monthly revenue from each user using the function:"
      ]
    },
    {
      "cell_type": "code",
      "execution_count": null,
      "metadata": {
        "id": "cAYoAz96TKP5"
      },
      "outputs": [],
      "source": [
        "def revenue(data):\n",
        "    \"\"\"The function of calculating the revenue from the user, depending on the \n",
        "    connected tariff, the value of consumed minutes and gigabytes, according to \n",
        "    the tariff, are rounded up to the nearest integer\"\"\"\n",
        "    if data['tariff'] == 'smart':\n",
        "        if data['calls_sum_length'] > tariffs['minutes_included'][0]:\n",
        "            calls_over = ceil(data['calls_sum_length'] - tariffs['minutes_included'][0]\n",
        "                             )*tariffs['rub_per_minute'][0]\n",
        "        else: calls_over = 0\n",
        "        if data['messages_count'] > tariffs['messages_included'][0]:\n",
        "            messages_over = ceil(data['messages_count'] - tariffs['messages_included'][0]\n",
        "                                )*tariffs['rub_per_message'][0]\n",
        "        else: messages_over = 0\n",
        "        if data['mb_used'] > tariffs['mb_per_month_included'][0]:\n",
        "            internet_over = ceil((data['mb_used'] - tariffs['mb_per_month_included'][0])/1024\n",
        "                                )*tariffs['rub_per_gb'][0]\n",
        "        else: internet_over = 0\n",
        "        return (calls_over + messages_over + internet_over + tariffs['rub_monthly_fee'][0])\n",
        "    else:\n",
        "        if data['calls_sum_length'] > tariffs['minutes_included'][1]:\n",
        "            calls_over = ceil(data['calls_sum_length'] - tariffs['minutes_included'][1]\n",
        "                             )*tariffs['rub_per_minute'][1]\n",
        "        else: calls_over = 0\n",
        "        if data['messages_count'] > tariffs['messages_included'][1]:\n",
        "            messages_over = ceil(data['messages_count'] - tariffs['messages_included'][1]\n",
        "                                )*tariffs['rub_per_message'][1]\n",
        "        else: messages_over = 0\n",
        "        if data['mb_used'] > tariffs['mb_per_month_included'][1]:\n",
        "            internet_over = ceil((data['mb_used'] - tariffs['mb_per_month_included'][1])/1024\n",
        "                                )*tariffs['rub_per_gb'][1]\n",
        "        else: internet_over = 0\n",
        "        return (calls_over + messages_over + internet_over + tariffs['rub_monthly_fee'][1])"
      ]
    },
    {
      "cell_type": "code",
      "execution_count": null,
      "metadata": {
        "colab": {
          "base_uri": "https://localhost:8080/"
        },
        "id": "Noc1QMr4TKP6",
        "outputId": "9c0dc226-a15b-44dc-9b90-d23b843bf79c"
      },
      "outputs": [
        {
          "output_type": "execute_result",
          "data": {
            "text/plain": [
              "615"
            ]
          },
          "metadata": {},
          "execution_count": 27
        }
      ],
      "source": [
        "ceil(data['calls_sum_length'][150] - tariffs['minutes_included'][0])"
      ]
    },
    {
      "cell_type": "code",
      "execution_count": null,
      "metadata": {
        "colab": {
          "base_uri": "https://localhost:8080/",
          "height": 424
        },
        "id": "9tzhbqj5TKP6",
        "outputId": "8a95ebc9-300a-4d7b-df50-64f1cc69d810"
      },
      "outputs": [
        {
          "output_type": "execute_result",
          "data": {
            "text/plain": [
              "      user_id    month  calls_sum_length  calls_count  messages_count  \\\n",
              "0        1000  2018-05            159.00        22.00           22.00   \n",
              "1        1000  2018-06            172.00        43.00           60.00   \n",
              "2        1000  2018-07            340.00        47.00           75.00   \n",
              "3        1000  2018-08            408.00        52.00           81.00   \n",
              "4        1000  2018-09            466.00        58.00           57.00   \n",
              "...       ...      ...               ...          ...             ...   \n",
              "3209     1489  2018-09              0.00         0.00           32.00   \n",
              "3210     1489  2018-10              0.00         0.00           21.00   \n",
              "3211     1489  2018-11              0.00         0.00           20.00   \n",
              "3212     1489  2018-12              0.00         0.00           35.00   \n",
              "3213     1476  2018-04              0.00         0.00            0.00   \n",
              "\n",
              "      mb_used tariff             city  revenue  \n",
              "0     2253.49  ultra        Краснодар     1950  \n",
              "1    23233.77  ultra        Краснодар     1950  \n",
              "2    14003.64  ultra        Краснодар     1950  \n",
              "3    14055.93  ultra        Краснодар     1950  \n",
              "4    14568.91  ultra        Краснодар     1950  \n",
              "...       ...    ...              ...      ...  \n",
              "3209 17206.30  smart  Санкт-Петербург      950  \n",
              "3210 19559.44  smart  Санкт-Петербург     1550  \n",
              "3211 17491.56  smart  Санкт-Петербург     1150  \n",
              "3212 17322.51  smart  Санкт-Петербург      950  \n",
              "3213   530.78  ultra           Москва     1950  \n",
              "\n",
              "[3214 rows x 9 columns]"
            ],
            "text/html": [
              "\n",
              "  <div id=\"df-4f87d2d7-cb39-41ec-a92d-f17e2c6c00f2\">\n",
              "    <div class=\"colab-df-container\">\n",
              "      <div>\n",
              "<style scoped>\n",
              "    .dataframe tbody tr th:only-of-type {\n",
              "        vertical-align: middle;\n",
              "    }\n",
              "\n",
              "    .dataframe tbody tr th {\n",
              "        vertical-align: top;\n",
              "    }\n",
              "\n",
              "    .dataframe thead th {\n",
              "        text-align: right;\n",
              "    }\n",
              "</style>\n",
              "<table border=\"1\" class=\"dataframe\">\n",
              "  <thead>\n",
              "    <tr style=\"text-align: right;\">\n",
              "      <th></th>\n",
              "      <th>user_id</th>\n",
              "      <th>month</th>\n",
              "      <th>calls_sum_length</th>\n",
              "      <th>calls_count</th>\n",
              "      <th>messages_count</th>\n",
              "      <th>mb_used</th>\n",
              "      <th>tariff</th>\n",
              "      <th>city</th>\n",
              "      <th>revenue</th>\n",
              "    </tr>\n",
              "  </thead>\n",
              "  <tbody>\n",
              "    <tr>\n",
              "      <th>0</th>\n",
              "      <td>1000</td>\n",
              "      <td>2018-05</td>\n",
              "      <td>159.00</td>\n",
              "      <td>22.00</td>\n",
              "      <td>22.00</td>\n",
              "      <td>2253.49</td>\n",
              "      <td>ultra</td>\n",
              "      <td>Краснодар</td>\n",
              "      <td>1950</td>\n",
              "    </tr>\n",
              "    <tr>\n",
              "      <th>1</th>\n",
              "      <td>1000</td>\n",
              "      <td>2018-06</td>\n",
              "      <td>172.00</td>\n",
              "      <td>43.00</td>\n",
              "      <td>60.00</td>\n",
              "      <td>23233.77</td>\n",
              "      <td>ultra</td>\n",
              "      <td>Краснодар</td>\n",
              "      <td>1950</td>\n",
              "    </tr>\n",
              "    <tr>\n",
              "      <th>2</th>\n",
              "      <td>1000</td>\n",
              "      <td>2018-07</td>\n",
              "      <td>340.00</td>\n",
              "      <td>47.00</td>\n",
              "      <td>75.00</td>\n",
              "      <td>14003.64</td>\n",
              "      <td>ultra</td>\n",
              "      <td>Краснодар</td>\n",
              "      <td>1950</td>\n",
              "    </tr>\n",
              "    <tr>\n",
              "      <th>3</th>\n",
              "      <td>1000</td>\n",
              "      <td>2018-08</td>\n",
              "      <td>408.00</td>\n",
              "      <td>52.00</td>\n",
              "      <td>81.00</td>\n",
              "      <td>14055.93</td>\n",
              "      <td>ultra</td>\n",
              "      <td>Краснодар</td>\n",
              "      <td>1950</td>\n",
              "    </tr>\n",
              "    <tr>\n",
              "      <th>4</th>\n",
              "      <td>1000</td>\n",
              "      <td>2018-09</td>\n",
              "      <td>466.00</td>\n",
              "      <td>58.00</td>\n",
              "      <td>57.00</td>\n",
              "      <td>14568.91</td>\n",
              "      <td>ultra</td>\n",
              "      <td>Краснодар</td>\n",
              "      <td>1950</td>\n",
              "    </tr>\n",
              "    <tr>\n",
              "      <th>...</th>\n",
              "      <td>...</td>\n",
              "      <td>...</td>\n",
              "      <td>...</td>\n",
              "      <td>...</td>\n",
              "      <td>...</td>\n",
              "      <td>...</td>\n",
              "      <td>...</td>\n",
              "      <td>...</td>\n",
              "      <td>...</td>\n",
              "    </tr>\n",
              "    <tr>\n",
              "      <th>3209</th>\n",
              "      <td>1489</td>\n",
              "      <td>2018-09</td>\n",
              "      <td>0.00</td>\n",
              "      <td>0.00</td>\n",
              "      <td>32.00</td>\n",
              "      <td>17206.30</td>\n",
              "      <td>smart</td>\n",
              "      <td>Санкт-Петербург</td>\n",
              "      <td>950</td>\n",
              "    </tr>\n",
              "    <tr>\n",
              "      <th>3210</th>\n",
              "      <td>1489</td>\n",
              "      <td>2018-10</td>\n",
              "      <td>0.00</td>\n",
              "      <td>0.00</td>\n",
              "      <td>21.00</td>\n",
              "      <td>19559.44</td>\n",
              "      <td>smart</td>\n",
              "      <td>Санкт-Петербург</td>\n",
              "      <td>1550</td>\n",
              "    </tr>\n",
              "    <tr>\n",
              "      <th>3211</th>\n",
              "      <td>1489</td>\n",
              "      <td>2018-11</td>\n",
              "      <td>0.00</td>\n",
              "      <td>0.00</td>\n",
              "      <td>20.00</td>\n",
              "      <td>17491.56</td>\n",
              "      <td>smart</td>\n",
              "      <td>Санкт-Петербург</td>\n",
              "      <td>1150</td>\n",
              "    </tr>\n",
              "    <tr>\n",
              "      <th>3212</th>\n",
              "      <td>1489</td>\n",
              "      <td>2018-12</td>\n",
              "      <td>0.00</td>\n",
              "      <td>0.00</td>\n",
              "      <td>35.00</td>\n",
              "      <td>17322.51</td>\n",
              "      <td>smart</td>\n",
              "      <td>Санкт-Петербург</td>\n",
              "      <td>950</td>\n",
              "    </tr>\n",
              "    <tr>\n",
              "      <th>3213</th>\n",
              "      <td>1476</td>\n",
              "      <td>2018-04</td>\n",
              "      <td>0.00</td>\n",
              "      <td>0.00</td>\n",
              "      <td>0.00</td>\n",
              "      <td>530.78</td>\n",
              "      <td>ultra</td>\n",
              "      <td>Москва</td>\n",
              "      <td>1950</td>\n",
              "    </tr>\n",
              "  </tbody>\n",
              "</table>\n",
              "<p>3214 rows × 9 columns</p>\n",
              "</div>\n",
              "      <button class=\"colab-df-convert\" onclick=\"convertToInteractive('df-4f87d2d7-cb39-41ec-a92d-f17e2c6c00f2')\"\n",
              "              title=\"Convert this dataframe to an interactive table.\"\n",
              "              style=\"display:none;\">\n",
              "        \n",
              "  <svg xmlns=\"http://www.w3.org/2000/svg\" height=\"24px\"viewBox=\"0 0 24 24\"\n",
              "       width=\"24px\">\n",
              "    <path d=\"M0 0h24v24H0V0z\" fill=\"none\"/>\n",
              "    <path d=\"M18.56 5.44l.94 2.06.94-2.06 2.06-.94-2.06-.94-.94-2.06-.94 2.06-2.06.94zm-11 1L8.5 8.5l.94-2.06 2.06-.94-2.06-.94L8.5 2.5l-.94 2.06-2.06.94zm10 10l.94 2.06.94-2.06 2.06-.94-2.06-.94-.94-2.06-.94 2.06-2.06.94z\"/><path d=\"M17.41 7.96l-1.37-1.37c-.4-.4-.92-.59-1.43-.59-.52 0-1.04.2-1.43.59L10.3 9.45l-7.72 7.72c-.78.78-.78 2.05 0 2.83L4 21.41c.39.39.9.59 1.41.59.51 0 1.02-.2 1.41-.59l7.78-7.78 2.81-2.81c.8-.78.8-2.07 0-2.86zM5.41 20L4 18.59l7.72-7.72 1.47 1.35L5.41 20z\"/>\n",
              "  </svg>\n",
              "      </button>\n",
              "      \n",
              "  <style>\n",
              "    .colab-df-container {\n",
              "      display:flex;\n",
              "      flex-wrap:wrap;\n",
              "      gap: 12px;\n",
              "    }\n",
              "\n",
              "    .colab-df-convert {\n",
              "      background-color: #E8F0FE;\n",
              "      border: none;\n",
              "      border-radius: 50%;\n",
              "      cursor: pointer;\n",
              "      display: none;\n",
              "      fill: #1967D2;\n",
              "      height: 32px;\n",
              "      padding: 0 0 0 0;\n",
              "      width: 32px;\n",
              "    }\n",
              "\n",
              "    .colab-df-convert:hover {\n",
              "      background-color: #E2EBFA;\n",
              "      box-shadow: 0px 1px 2px rgba(60, 64, 67, 0.3), 0px 1px 3px 1px rgba(60, 64, 67, 0.15);\n",
              "      fill: #174EA6;\n",
              "    }\n",
              "\n",
              "    [theme=dark] .colab-df-convert {\n",
              "      background-color: #3B4455;\n",
              "      fill: #D2E3FC;\n",
              "    }\n",
              "\n",
              "    [theme=dark] .colab-df-convert:hover {\n",
              "      background-color: #434B5C;\n",
              "      box-shadow: 0px 1px 3px 1px rgba(0, 0, 0, 0.15);\n",
              "      filter: drop-shadow(0px 1px 2px rgba(0, 0, 0, 0.3));\n",
              "      fill: #FFFFFF;\n",
              "    }\n",
              "  </style>\n",
              "\n",
              "      <script>\n",
              "        const buttonEl =\n",
              "          document.querySelector('#df-4f87d2d7-cb39-41ec-a92d-f17e2c6c00f2 button.colab-df-convert');\n",
              "        buttonEl.style.display =\n",
              "          google.colab.kernel.accessAllowed ? 'block' : 'none';\n",
              "\n",
              "        async function convertToInteractive(key) {\n",
              "          const element = document.querySelector('#df-4f87d2d7-cb39-41ec-a92d-f17e2c6c00f2');\n",
              "          const dataTable =\n",
              "            await google.colab.kernel.invokeFunction('convertToInteractive',\n",
              "                                                     [key], {});\n",
              "          if (!dataTable) return;\n",
              "\n",
              "          const docLinkHtml = 'Like what you see? Visit the ' +\n",
              "            '<a target=\"_blank\" href=https://colab.research.google.com/notebooks/data_table.ipynb>data table notebook</a>'\n",
              "            + ' to learn more about interactive tables.';\n",
              "          element.innerHTML = '';\n",
              "          dataTable['output_type'] = 'display_data';\n",
              "          await google.colab.output.renderOutput(dataTable, element);\n",
              "          const docLink = document.createElement('div');\n",
              "          docLink.innerHTML = docLinkHtml;\n",
              "          element.appendChild(docLink);\n",
              "        }\n",
              "      </script>\n",
              "    </div>\n",
              "  </div>\n",
              "  "
            ]
          },
          "metadata": {},
          "execution_count": 28
        }
      ],
      "source": [
        "data['revenue'] = data.apply(revenue, axis=1)\n",
        "data"
      ]
    },
    {
      "cell_type": "markdown",
      "metadata": {
        "id": "DxbOUkiDTKP6"
      },
      "source": [
        "## Analysis of customer behavior"
      ]
    },
    {
      "cell_type": "markdown",
      "metadata": {
        "id": "xWAnbUiBTKP6"
      },
      "source": [
        "### Calculation of the mean, variance and standard deviation of the studied parameters"
      ]
    },
    {
      "cell_type": "markdown",
      "metadata": {
        "id": "pDLtJkzOTKP6"
      },
      "source": [
        "Let's determine how many minutes of conversation, how many messages and how much Internet traffic is required by users of each tariff per month. Let's create summary tables of average monthly consumption of services by users for each tariff:"
      ]
    },
    {
      "cell_type": "code",
      "execution_count": null,
      "metadata": {
        "colab": {
          "base_uri": "https://localhost:8080/",
          "height": 206
        },
        "id": "IpXyDfZ4TKP7",
        "outputId": "7bd9f9f0-f51b-4676-d2d3-8d75ce247e80"
      },
      "outputs": [
        {
          "output_type": "execute_result",
          "data": {
            "text/plain": [
              "   user_id  calls_sum_length  calls_count  messages_count  mb_used  revenue\n",
              "0     1001            422.00        61.00            0.00 16233.00   850.00\n",
              "1     1002            216.71        31.00           10.00 16576.65  1035.71\n",
              "2     1005            550.42        74.00           46.00  8307.28   827.00\n",
              "3     1006            318.27        46.00            0.00 14926.26   931.82\n",
              "4     1007            486.56        68.00           25.00 14625.07   913.44"
            ],
            "text/html": [
              "\n",
              "  <div id=\"df-5d48dec9-eac0-4feb-857c-e14b0cfbf808\">\n",
              "    <div class=\"colab-df-container\">\n",
              "      <div>\n",
              "<style scoped>\n",
              "    .dataframe tbody tr th:only-of-type {\n",
              "        vertical-align: middle;\n",
              "    }\n",
              "\n",
              "    .dataframe tbody tr th {\n",
              "        vertical-align: top;\n",
              "    }\n",
              "\n",
              "    .dataframe thead th {\n",
              "        text-align: right;\n",
              "    }\n",
              "</style>\n",
              "<table border=\"1\" class=\"dataframe\">\n",
              "  <thead>\n",
              "    <tr style=\"text-align: right;\">\n",
              "      <th></th>\n",
              "      <th>user_id</th>\n",
              "      <th>calls_sum_length</th>\n",
              "      <th>calls_count</th>\n",
              "      <th>messages_count</th>\n",
              "      <th>mb_used</th>\n",
              "      <th>revenue</th>\n",
              "    </tr>\n",
              "  </thead>\n",
              "  <tbody>\n",
              "    <tr>\n",
              "      <th>0</th>\n",
              "      <td>1001</td>\n",
              "      <td>422.00</td>\n",
              "      <td>61.00</td>\n",
              "      <td>0.00</td>\n",
              "      <td>16233.00</td>\n",
              "      <td>850.00</td>\n",
              "    </tr>\n",
              "    <tr>\n",
              "      <th>1</th>\n",
              "      <td>1002</td>\n",
              "      <td>216.71</td>\n",
              "      <td>31.00</td>\n",
              "      <td>10.00</td>\n",
              "      <td>16576.65</td>\n",
              "      <td>1035.71</td>\n",
              "    </tr>\n",
              "    <tr>\n",
              "      <th>2</th>\n",
              "      <td>1005</td>\n",
              "      <td>550.42</td>\n",
              "      <td>74.00</td>\n",
              "      <td>46.00</td>\n",
              "      <td>8307.28</td>\n",
              "      <td>827.00</td>\n",
              "    </tr>\n",
              "    <tr>\n",
              "      <th>3</th>\n",
              "      <td>1006</td>\n",
              "      <td>318.27</td>\n",
              "      <td>46.00</td>\n",
              "      <td>0.00</td>\n",
              "      <td>14926.26</td>\n",
              "      <td>931.82</td>\n",
              "    </tr>\n",
              "    <tr>\n",
              "      <th>4</th>\n",
              "      <td>1007</td>\n",
              "      <td>486.56</td>\n",
              "      <td>68.00</td>\n",
              "      <td>25.00</td>\n",
              "      <td>14625.07</td>\n",
              "      <td>913.44</td>\n",
              "    </tr>\n",
              "  </tbody>\n",
              "</table>\n",
              "</div>\n",
              "      <button class=\"colab-df-convert\" onclick=\"convertToInteractive('df-5d48dec9-eac0-4feb-857c-e14b0cfbf808')\"\n",
              "              title=\"Convert this dataframe to an interactive table.\"\n",
              "              style=\"display:none;\">\n",
              "        \n",
              "  <svg xmlns=\"http://www.w3.org/2000/svg\" height=\"24px\"viewBox=\"0 0 24 24\"\n",
              "       width=\"24px\">\n",
              "    <path d=\"M0 0h24v24H0V0z\" fill=\"none\"/>\n",
              "    <path d=\"M18.56 5.44l.94 2.06.94-2.06 2.06-.94-2.06-.94-.94-2.06-.94 2.06-2.06.94zm-11 1L8.5 8.5l.94-2.06 2.06-.94-2.06-.94L8.5 2.5l-.94 2.06-2.06.94zm10 10l.94 2.06.94-2.06 2.06-.94-2.06-.94-.94-2.06-.94 2.06-2.06.94z\"/><path d=\"M17.41 7.96l-1.37-1.37c-.4-.4-.92-.59-1.43-.59-.52 0-1.04.2-1.43.59L10.3 9.45l-7.72 7.72c-.78.78-.78 2.05 0 2.83L4 21.41c.39.39.9.59 1.41.59.51 0 1.02-.2 1.41-.59l7.78-7.78 2.81-2.81c.8-.78.8-2.07 0-2.86zM5.41 20L4 18.59l7.72-7.72 1.47 1.35L5.41 20z\"/>\n",
              "  </svg>\n",
              "      </button>\n",
              "      \n",
              "  <style>\n",
              "    .colab-df-container {\n",
              "      display:flex;\n",
              "      flex-wrap:wrap;\n",
              "      gap: 12px;\n",
              "    }\n",
              "\n",
              "    .colab-df-convert {\n",
              "      background-color: #E8F0FE;\n",
              "      border: none;\n",
              "      border-radius: 50%;\n",
              "      cursor: pointer;\n",
              "      display: none;\n",
              "      fill: #1967D2;\n",
              "      height: 32px;\n",
              "      padding: 0 0 0 0;\n",
              "      width: 32px;\n",
              "    }\n",
              "\n",
              "    .colab-df-convert:hover {\n",
              "      background-color: #E2EBFA;\n",
              "      box-shadow: 0px 1px 2px rgba(60, 64, 67, 0.3), 0px 1px 3px 1px rgba(60, 64, 67, 0.15);\n",
              "      fill: #174EA6;\n",
              "    }\n",
              "\n",
              "    [theme=dark] .colab-df-convert {\n",
              "      background-color: #3B4455;\n",
              "      fill: #D2E3FC;\n",
              "    }\n",
              "\n",
              "    [theme=dark] .colab-df-convert:hover {\n",
              "      background-color: #434B5C;\n",
              "      box-shadow: 0px 1px 3px 1px rgba(0, 0, 0, 0.15);\n",
              "      filter: drop-shadow(0px 1px 2px rgba(0, 0, 0, 0.3));\n",
              "      fill: #FFFFFF;\n",
              "    }\n",
              "  </style>\n",
              "\n",
              "      <script>\n",
              "        const buttonEl =\n",
              "          document.querySelector('#df-5d48dec9-eac0-4feb-857c-e14b0cfbf808 button.colab-df-convert');\n",
              "        buttonEl.style.display =\n",
              "          google.colab.kernel.accessAllowed ? 'block' : 'none';\n",
              "\n",
              "        async function convertToInteractive(key) {\n",
              "          const element = document.querySelector('#df-5d48dec9-eac0-4feb-857c-e14b0cfbf808');\n",
              "          const dataTable =\n",
              "            await google.colab.kernel.invokeFunction('convertToInteractive',\n",
              "                                                     [key], {});\n",
              "          if (!dataTable) return;\n",
              "\n",
              "          const docLinkHtml = 'Like what you see? Visit the ' +\n",
              "            '<a target=\"_blank\" href=https://colab.research.google.com/notebooks/data_table.ipynb>data table notebook</a>'\n",
              "            + ' to learn more about interactive tables.';\n",
              "          element.innerHTML = '';\n",
              "          dataTable['output_type'] = 'display_data';\n",
              "          await google.colab.output.renderOutput(dataTable, element);\n",
              "          const docLink = document.createElement('div');\n",
              "          docLink.innerHTML = docLinkHtml;\n",
              "          element.appendChild(docLink);\n",
              "        }\n",
              "      </script>\n",
              "    </div>\n",
              "  </div>\n",
              "  "
            ]
          },
          "metadata": {},
          "execution_count": 29
        }
      ],
      "source": [
        "users_smart = data.query('tariff == \"smart\"').groupby('user_id', as_index=False).mean()\n",
        "users_ultra = data.query('tariff == \"ultra\"').groupby('user_id', as_index=False).mean()\n",
        "users_smart.head()"
      ]
    },
    {
      "cell_type": "code",
      "execution_count": null,
      "metadata": {
        "colab": {
          "base_uri": "https://localhost:8080/",
          "height": 206
        },
        "id": "5qOGxCPPTKP7",
        "outputId": "08b0f863-59cc-4a49-bf85-267fce71aa9b"
      },
      "outputs": [
        {
          "output_type": "execute_result",
          "data": {
            "text/plain": [
              "   user_id  calls_sum_length  calls_count  messages_count  mb_used  revenue\n",
              "0     1000            320.75        46.00           62.00 13424.04  1950.00\n",
              "1     1003            764.40       104.00           76.00 11456.13  1950.00\n",
              "2     1004            123.38        22.00          149.00 18629.94  1950.00\n",
              "3     1013            468.00        71.00           21.00 15258.58  1950.00\n",
              "4     1016             61.00        10.00           71.00 13405.22  1950.00"
            ],
            "text/html": [
              "\n",
              "  <div id=\"df-6d19d87a-93e2-49d3-8693-43f66d331bce\">\n",
              "    <div class=\"colab-df-container\">\n",
              "      <div>\n",
              "<style scoped>\n",
              "    .dataframe tbody tr th:only-of-type {\n",
              "        vertical-align: middle;\n",
              "    }\n",
              "\n",
              "    .dataframe tbody tr th {\n",
              "        vertical-align: top;\n",
              "    }\n",
              "\n",
              "    .dataframe thead th {\n",
              "        text-align: right;\n",
              "    }\n",
              "</style>\n",
              "<table border=\"1\" class=\"dataframe\">\n",
              "  <thead>\n",
              "    <tr style=\"text-align: right;\">\n",
              "      <th></th>\n",
              "      <th>user_id</th>\n",
              "      <th>calls_sum_length</th>\n",
              "      <th>calls_count</th>\n",
              "      <th>messages_count</th>\n",
              "      <th>mb_used</th>\n",
              "      <th>revenue</th>\n",
              "    </tr>\n",
              "  </thead>\n",
              "  <tbody>\n",
              "    <tr>\n",
              "      <th>0</th>\n",
              "      <td>1000</td>\n",
              "      <td>320.75</td>\n",
              "      <td>46.00</td>\n",
              "      <td>62.00</td>\n",
              "      <td>13424.04</td>\n",
              "      <td>1950.00</td>\n",
              "    </tr>\n",
              "    <tr>\n",
              "      <th>1</th>\n",
              "      <td>1003</td>\n",
              "      <td>764.40</td>\n",
              "      <td>104.00</td>\n",
              "      <td>76.00</td>\n",
              "      <td>11456.13</td>\n",
              "      <td>1950.00</td>\n",
              "    </tr>\n",
              "    <tr>\n",
              "      <th>2</th>\n",
              "      <td>1004</td>\n",
              "      <td>123.38</td>\n",
              "      <td>22.00</td>\n",
              "      <td>149.00</td>\n",
              "      <td>18629.94</td>\n",
              "      <td>1950.00</td>\n",
              "    </tr>\n",
              "    <tr>\n",
              "      <th>3</th>\n",
              "      <td>1013</td>\n",
              "      <td>468.00</td>\n",
              "      <td>71.00</td>\n",
              "      <td>21.00</td>\n",
              "      <td>15258.58</td>\n",
              "      <td>1950.00</td>\n",
              "    </tr>\n",
              "    <tr>\n",
              "      <th>4</th>\n",
              "      <td>1016</td>\n",
              "      <td>61.00</td>\n",
              "      <td>10.00</td>\n",
              "      <td>71.00</td>\n",
              "      <td>13405.22</td>\n",
              "      <td>1950.00</td>\n",
              "    </tr>\n",
              "  </tbody>\n",
              "</table>\n",
              "</div>\n",
              "      <button class=\"colab-df-convert\" onclick=\"convertToInteractive('df-6d19d87a-93e2-49d3-8693-43f66d331bce')\"\n",
              "              title=\"Convert this dataframe to an interactive table.\"\n",
              "              style=\"display:none;\">\n",
              "        \n",
              "  <svg xmlns=\"http://www.w3.org/2000/svg\" height=\"24px\"viewBox=\"0 0 24 24\"\n",
              "       width=\"24px\">\n",
              "    <path d=\"M0 0h24v24H0V0z\" fill=\"none\"/>\n",
              "    <path d=\"M18.56 5.44l.94 2.06.94-2.06 2.06-.94-2.06-.94-.94-2.06-.94 2.06-2.06.94zm-11 1L8.5 8.5l.94-2.06 2.06-.94-2.06-.94L8.5 2.5l-.94 2.06-2.06.94zm10 10l.94 2.06.94-2.06 2.06-.94-2.06-.94-.94-2.06-.94 2.06-2.06.94z\"/><path d=\"M17.41 7.96l-1.37-1.37c-.4-.4-.92-.59-1.43-.59-.52 0-1.04.2-1.43.59L10.3 9.45l-7.72 7.72c-.78.78-.78 2.05 0 2.83L4 21.41c.39.39.9.59 1.41.59.51 0 1.02-.2 1.41-.59l7.78-7.78 2.81-2.81c.8-.78.8-2.07 0-2.86zM5.41 20L4 18.59l7.72-7.72 1.47 1.35L5.41 20z\"/>\n",
              "  </svg>\n",
              "      </button>\n",
              "      \n",
              "  <style>\n",
              "    .colab-df-container {\n",
              "      display:flex;\n",
              "      flex-wrap:wrap;\n",
              "      gap: 12px;\n",
              "    }\n",
              "\n",
              "    .colab-df-convert {\n",
              "      background-color: #E8F0FE;\n",
              "      border: none;\n",
              "      border-radius: 50%;\n",
              "      cursor: pointer;\n",
              "      display: none;\n",
              "      fill: #1967D2;\n",
              "      height: 32px;\n",
              "      padding: 0 0 0 0;\n",
              "      width: 32px;\n",
              "    }\n",
              "\n",
              "    .colab-df-convert:hover {\n",
              "      background-color: #E2EBFA;\n",
              "      box-shadow: 0px 1px 2px rgba(60, 64, 67, 0.3), 0px 1px 3px 1px rgba(60, 64, 67, 0.15);\n",
              "      fill: #174EA6;\n",
              "    }\n",
              "\n",
              "    [theme=dark] .colab-df-convert {\n",
              "      background-color: #3B4455;\n",
              "      fill: #D2E3FC;\n",
              "    }\n",
              "\n",
              "    [theme=dark] .colab-df-convert:hover {\n",
              "      background-color: #434B5C;\n",
              "      box-shadow: 0px 1px 3px 1px rgba(0, 0, 0, 0.15);\n",
              "      filter: drop-shadow(0px 1px 2px rgba(0, 0, 0, 0.3));\n",
              "      fill: #FFFFFF;\n",
              "    }\n",
              "  </style>\n",
              "\n",
              "      <script>\n",
              "        const buttonEl =\n",
              "          document.querySelector('#df-6d19d87a-93e2-49d3-8693-43f66d331bce button.colab-df-convert');\n",
              "        buttonEl.style.display =\n",
              "          google.colab.kernel.accessAllowed ? 'block' : 'none';\n",
              "\n",
              "        async function convertToInteractive(key) {\n",
              "          const element = document.querySelector('#df-6d19d87a-93e2-49d3-8693-43f66d331bce');\n",
              "          const dataTable =\n",
              "            await google.colab.kernel.invokeFunction('convertToInteractive',\n",
              "                                                     [key], {});\n",
              "          if (!dataTable) return;\n",
              "\n",
              "          const docLinkHtml = 'Like what you see? Visit the ' +\n",
              "            '<a target=\"_blank\" href=https://colab.research.google.com/notebooks/data_table.ipynb>data table notebook</a>'\n",
              "            + ' to learn more about interactive tables.';\n",
              "          element.innerHTML = '';\n",
              "          dataTable['output_type'] = 'display_data';\n",
              "          await google.colab.output.renderOutput(dataTable, element);\n",
              "          const docLink = document.createElement('div');\n",
              "          docLink.innerHTML = docLinkHtml;\n",
              "          element.appendChild(docLink);\n",
              "        }\n",
              "      </script>\n",
              "    </div>\n",
              "  </div>\n",
              "  "
            ]
          },
          "metadata": {},
          "execution_count": 30
        }
      ],
      "source": [
        "users_ultra.head()"
      ]
    },
    {
      "cell_type": "markdown",
      "metadata": {
        "id": "8ALnv8s5TKP7"
      },
      "source": [
        "There are 350 subscribers of the \"Smart\" tariff and 148 subscribers of the \"Ultra\" tariff in the sample.\n",
        "\n",
        "The sum of the rows in both pivot tables is less than the number of entries in the users list. Let's look for the missing users and check if they showed any activity:"
      ]
    },
    {
      "cell_type": "code",
      "execution_count": null,
      "metadata": {
        "colab": {
          "base_uri": "https://localhost:8080/"
        },
        "id": "X29dDoYCTKP7",
        "outputId": "4f525df7-5155-4d96-fce8-7f00a05b3649"
      },
      "outputs": [
        {
          "output_type": "execute_result",
          "data": {
            "text/plain": [
              "128    1128\n",
              "371    1371\n",
              "Name: user_id, dtype: int64"
            ]
          },
          "metadata": {},
          "execution_count": 31
        }
      ],
      "source": [
        "users.query('user_id not in @data.user_id').user_id"
      ]
    },
    {
      "cell_type": "code",
      "execution_count": null,
      "metadata": {
        "colab": {
          "base_uri": "https://localhost:8080/"
        },
        "id": "vEQEnsqaTKP7",
        "outputId": "4ba395da-7daa-48ea-9b77-06db30506ccb"
      },
      "outputs": [
        {
          "output_type": "execute_result",
          "data": {
            "text/plain": [
              "0"
            ]
          },
          "metadata": {},
          "execution_count": 32
        }
      ],
      "source": [
        "calls.query('user_id == [1128,1371]').user_id.count()"
      ]
    },
    {
      "cell_type": "code",
      "execution_count": null,
      "metadata": {
        "colab": {
          "base_uri": "https://localhost:8080/"
        },
        "id": "87oj5sGpTKP7",
        "outputId": "527fde1b-e3d2-4df7-cd98-1830f991f2c6"
      },
      "outputs": [
        {
          "output_type": "execute_result",
          "data": {
            "text/plain": [
              "0"
            ]
          },
          "metadata": {},
          "execution_count": 33
        }
      ],
      "source": [
        "messages.query('user_id == [1128,1371]').user_id.count()"
      ]
    },
    {
      "cell_type": "code",
      "execution_count": null,
      "metadata": {
        "colab": {
          "base_uri": "https://localhost:8080/"
        },
        "id": "GKPt2iQHTKP7",
        "outputId": "51e075fc-7092-426f-af7b-54e1e9cdf78b"
      },
      "outputs": [
        {
          "output_type": "execute_result",
          "data": {
            "text/plain": [
              "0"
            ]
          },
          "metadata": {},
          "execution_count": 34
        }
      ],
      "source": [
        "internet.query('user_id == [1128,1371]').user_id.count()"
      ]
    },
    {
      "cell_type": "markdown",
      "metadata": {
        "id": "6a9qzc_FTKP7"
      },
      "source": [
        "It turns out that the two missing users were not active during the period under consideration."
      ]
    },
    {
      "cell_type": "markdown",
      "metadata": {
        "id": "_Z86LY8OTKP7"
      },
      "source": [
        "Let's calculate the mean, variance and standard deviation for the studied parameters in both samples:\n",
        "\n",
        "Tariff \"Smart\":"
      ]
    },
    {
      "cell_type": "code",
      "execution_count": null,
      "metadata": {
        "colab": {
          "base_uri": "https://localhost:8080/",
          "height": 143
        },
        "id": "O96kWqb0TKP7",
        "outputId": "d73fac09-12eb-4aea-831d-af5c77cdd437"
      },
      "outputs": [
        {
          "output_type": "execute_result",
          "data": {
            "text/plain": [
              "                     mean     std         var\n",
              "calls_sum_length   419.63  144.82    20974.05\n",
              "messages_count      32.35   26.47      700.90\n",
              "mb_used          16180.61 3574.10 12774223.26"
            ],
            "text/html": [
              "\n",
              "  <div id=\"df-b96ab813-19ec-4b79-ada7-37c9e7036abc\">\n",
              "    <div class=\"colab-df-container\">\n",
              "      <div>\n",
              "<style scoped>\n",
              "    .dataframe tbody tr th:only-of-type {\n",
              "        vertical-align: middle;\n",
              "    }\n",
              "\n",
              "    .dataframe tbody tr th {\n",
              "        vertical-align: top;\n",
              "    }\n",
              "\n",
              "    .dataframe thead th {\n",
              "        text-align: right;\n",
              "    }\n",
              "</style>\n",
              "<table border=\"1\" class=\"dataframe\">\n",
              "  <thead>\n",
              "    <tr style=\"text-align: right;\">\n",
              "      <th></th>\n",
              "      <th>mean</th>\n",
              "      <th>std</th>\n",
              "      <th>var</th>\n",
              "    </tr>\n",
              "  </thead>\n",
              "  <tbody>\n",
              "    <tr>\n",
              "      <th>calls_sum_length</th>\n",
              "      <td>419.63</td>\n",
              "      <td>144.82</td>\n",
              "      <td>20974.05</td>\n",
              "    </tr>\n",
              "    <tr>\n",
              "      <th>messages_count</th>\n",
              "      <td>32.35</td>\n",
              "      <td>26.47</td>\n",
              "      <td>700.90</td>\n",
              "    </tr>\n",
              "    <tr>\n",
              "      <th>mb_used</th>\n",
              "      <td>16180.61</td>\n",
              "      <td>3574.10</td>\n",
              "      <td>12774223.26</td>\n",
              "    </tr>\n",
              "  </tbody>\n",
              "</table>\n",
              "</div>\n",
              "      <button class=\"colab-df-convert\" onclick=\"convertToInteractive('df-b96ab813-19ec-4b79-ada7-37c9e7036abc')\"\n",
              "              title=\"Convert this dataframe to an interactive table.\"\n",
              "              style=\"display:none;\">\n",
              "        \n",
              "  <svg xmlns=\"http://www.w3.org/2000/svg\" height=\"24px\"viewBox=\"0 0 24 24\"\n",
              "       width=\"24px\">\n",
              "    <path d=\"M0 0h24v24H0V0z\" fill=\"none\"/>\n",
              "    <path d=\"M18.56 5.44l.94 2.06.94-2.06 2.06-.94-2.06-.94-.94-2.06-.94 2.06-2.06.94zm-11 1L8.5 8.5l.94-2.06 2.06-.94-2.06-.94L8.5 2.5l-.94 2.06-2.06.94zm10 10l.94 2.06.94-2.06 2.06-.94-2.06-.94-.94-2.06-.94 2.06-2.06.94z\"/><path d=\"M17.41 7.96l-1.37-1.37c-.4-.4-.92-.59-1.43-.59-.52 0-1.04.2-1.43.59L10.3 9.45l-7.72 7.72c-.78.78-.78 2.05 0 2.83L4 21.41c.39.39.9.59 1.41.59.51 0 1.02-.2 1.41-.59l7.78-7.78 2.81-2.81c.8-.78.8-2.07 0-2.86zM5.41 20L4 18.59l7.72-7.72 1.47 1.35L5.41 20z\"/>\n",
              "  </svg>\n",
              "      </button>\n",
              "      \n",
              "  <style>\n",
              "    .colab-df-container {\n",
              "      display:flex;\n",
              "      flex-wrap:wrap;\n",
              "      gap: 12px;\n",
              "    }\n",
              "\n",
              "    .colab-df-convert {\n",
              "      background-color: #E8F0FE;\n",
              "      border: none;\n",
              "      border-radius: 50%;\n",
              "      cursor: pointer;\n",
              "      display: none;\n",
              "      fill: #1967D2;\n",
              "      height: 32px;\n",
              "      padding: 0 0 0 0;\n",
              "      width: 32px;\n",
              "    }\n",
              "\n",
              "    .colab-df-convert:hover {\n",
              "      background-color: #E2EBFA;\n",
              "      box-shadow: 0px 1px 2px rgba(60, 64, 67, 0.3), 0px 1px 3px 1px rgba(60, 64, 67, 0.15);\n",
              "      fill: #174EA6;\n",
              "    }\n",
              "\n",
              "    [theme=dark] .colab-df-convert {\n",
              "      background-color: #3B4455;\n",
              "      fill: #D2E3FC;\n",
              "    }\n",
              "\n",
              "    [theme=dark] .colab-df-convert:hover {\n",
              "      background-color: #434B5C;\n",
              "      box-shadow: 0px 1px 3px 1px rgba(0, 0, 0, 0.15);\n",
              "      filter: drop-shadow(0px 1px 2px rgba(0, 0, 0, 0.3));\n",
              "      fill: #FFFFFF;\n",
              "    }\n",
              "  </style>\n",
              "\n",
              "      <script>\n",
              "        const buttonEl =\n",
              "          document.querySelector('#df-b96ab813-19ec-4b79-ada7-37c9e7036abc button.colab-df-convert');\n",
              "        buttonEl.style.display =\n",
              "          google.colab.kernel.accessAllowed ? 'block' : 'none';\n",
              "\n",
              "        async function convertToInteractive(key) {\n",
              "          const element = document.querySelector('#df-b96ab813-19ec-4b79-ada7-37c9e7036abc');\n",
              "          const dataTable =\n",
              "            await google.colab.kernel.invokeFunction('convertToInteractive',\n",
              "                                                     [key], {});\n",
              "          if (!dataTable) return;\n",
              "\n",
              "          const docLinkHtml = 'Like what you see? Visit the ' +\n",
              "            '<a target=\"_blank\" href=https://colab.research.google.com/notebooks/data_table.ipynb>data table notebook</a>'\n",
              "            + ' to learn more about interactive tables.';\n",
              "          element.innerHTML = '';\n",
              "          dataTable['output_type'] = 'display_data';\n",
              "          await google.colab.output.renderOutput(dataTable, element);\n",
              "          const docLink = document.createElement('div');\n",
              "          docLink.innerHTML = docLinkHtml;\n",
              "          element.appendChild(docLink);\n",
              "        }\n",
              "      </script>\n",
              "    </div>\n",
              "  </div>\n",
              "  "
            ]
          },
          "metadata": {},
          "execution_count": 35
        }
      ],
      "source": [
        "smart_stat = users_smart[['calls_sum_length', 'messages_count', 'mb_used']].mean().to_frame(name='mean')\n",
        "smart_stat['std'] = np.std(users_smart[['calls_sum_length', 'messages_count', 'mb_used']])\n",
        "smart_stat['var'] = np.var(users_smart[['calls_sum_length', 'messages_count', 'mb_used']])\n",
        "smart_stat"
      ]
    },
    {
      "cell_type": "markdown",
      "metadata": {
        "id": "WDHHAuSZTKP7"
      },
      "source": [
        "Tariff \"Ultra\":"
      ]
    },
    {
      "cell_type": "code",
      "execution_count": null,
      "metadata": {
        "colab": {
          "base_uri": "https://localhost:8080/",
          "height": 143
        },
        "id": "UODSr-coTKP8",
        "outputId": "7f5ef218-ff4d-404f-e530-d3209aea5460"
      },
      "outputs": [
        {
          "output_type": "execute_result",
          "data": {
            "text/plain": [
              "                     mean     std         var\n",
              "calls_sum_length   527.82  280.83    78867.04\n",
              "messages_count      54.03   46.21     2135.30\n",
              "mb_used          19574.64 8283.06 68609020.18"
            ],
            "text/html": [
              "\n",
              "  <div id=\"df-40e0104d-c23a-4541-9f66-af9397b04904\">\n",
              "    <div class=\"colab-df-container\">\n",
              "      <div>\n",
              "<style scoped>\n",
              "    .dataframe tbody tr th:only-of-type {\n",
              "        vertical-align: middle;\n",
              "    }\n",
              "\n",
              "    .dataframe tbody tr th {\n",
              "        vertical-align: top;\n",
              "    }\n",
              "\n",
              "    .dataframe thead th {\n",
              "        text-align: right;\n",
              "    }\n",
              "</style>\n",
              "<table border=\"1\" class=\"dataframe\">\n",
              "  <thead>\n",
              "    <tr style=\"text-align: right;\">\n",
              "      <th></th>\n",
              "      <th>mean</th>\n",
              "      <th>std</th>\n",
              "      <th>var</th>\n",
              "    </tr>\n",
              "  </thead>\n",
              "  <tbody>\n",
              "    <tr>\n",
              "      <th>calls_sum_length</th>\n",
              "      <td>527.82</td>\n",
              "      <td>280.83</td>\n",
              "      <td>78867.04</td>\n",
              "    </tr>\n",
              "    <tr>\n",
              "      <th>messages_count</th>\n",
              "      <td>54.03</td>\n",
              "      <td>46.21</td>\n",
              "      <td>2135.30</td>\n",
              "    </tr>\n",
              "    <tr>\n",
              "      <th>mb_used</th>\n",
              "      <td>19574.64</td>\n",
              "      <td>8283.06</td>\n",
              "      <td>68609020.18</td>\n",
              "    </tr>\n",
              "  </tbody>\n",
              "</table>\n",
              "</div>\n",
              "      <button class=\"colab-df-convert\" onclick=\"convertToInteractive('df-40e0104d-c23a-4541-9f66-af9397b04904')\"\n",
              "              title=\"Convert this dataframe to an interactive table.\"\n",
              "              style=\"display:none;\">\n",
              "        \n",
              "  <svg xmlns=\"http://www.w3.org/2000/svg\" height=\"24px\"viewBox=\"0 0 24 24\"\n",
              "       width=\"24px\">\n",
              "    <path d=\"M0 0h24v24H0V0z\" fill=\"none\"/>\n",
              "    <path d=\"M18.56 5.44l.94 2.06.94-2.06 2.06-.94-2.06-.94-.94-2.06-.94 2.06-2.06.94zm-11 1L8.5 8.5l.94-2.06 2.06-.94-2.06-.94L8.5 2.5l-.94 2.06-2.06.94zm10 10l.94 2.06.94-2.06 2.06-.94-2.06-.94-.94-2.06-.94 2.06-2.06.94z\"/><path d=\"M17.41 7.96l-1.37-1.37c-.4-.4-.92-.59-1.43-.59-.52 0-1.04.2-1.43.59L10.3 9.45l-7.72 7.72c-.78.78-.78 2.05 0 2.83L4 21.41c.39.39.9.59 1.41.59.51 0 1.02-.2 1.41-.59l7.78-7.78 2.81-2.81c.8-.78.8-2.07 0-2.86zM5.41 20L4 18.59l7.72-7.72 1.47 1.35L5.41 20z\"/>\n",
              "  </svg>\n",
              "      </button>\n",
              "      \n",
              "  <style>\n",
              "    .colab-df-container {\n",
              "      display:flex;\n",
              "      flex-wrap:wrap;\n",
              "      gap: 12px;\n",
              "    }\n",
              "\n",
              "    .colab-df-convert {\n",
              "      background-color: #E8F0FE;\n",
              "      border: none;\n",
              "      border-radius: 50%;\n",
              "      cursor: pointer;\n",
              "      display: none;\n",
              "      fill: #1967D2;\n",
              "      height: 32px;\n",
              "      padding: 0 0 0 0;\n",
              "      width: 32px;\n",
              "    }\n",
              "\n",
              "    .colab-df-convert:hover {\n",
              "      background-color: #E2EBFA;\n",
              "      box-shadow: 0px 1px 2px rgba(60, 64, 67, 0.3), 0px 1px 3px 1px rgba(60, 64, 67, 0.15);\n",
              "      fill: #174EA6;\n",
              "    }\n",
              "\n",
              "    [theme=dark] .colab-df-convert {\n",
              "      background-color: #3B4455;\n",
              "      fill: #D2E3FC;\n",
              "    }\n",
              "\n",
              "    [theme=dark] .colab-df-convert:hover {\n",
              "      background-color: #434B5C;\n",
              "      box-shadow: 0px 1px 3px 1px rgba(0, 0, 0, 0.15);\n",
              "      filter: drop-shadow(0px 1px 2px rgba(0, 0, 0, 0.3));\n",
              "      fill: #FFFFFF;\n",
              "    }\n",
              "  </style>\n",
              "\n",
              "      <script>\n",
              "        const buttonEl =\n",
              "          document.querySelector('#df-40e0104d-c23a-4541-9f66-af9397b04904 button.colab-df-convert');\n",
              "        buttonEl.style.display =\n",
              "          google.colab.kernel.accessAllowed ? 'block' : 'none';\n",
              "\n",
              "        async function convertToInteractive(key) {\n",
              "          const element = document.querySelector('#df-40e0104d-c23a-4541-9f66-af9397b04904');\n",
              "          const dataTable =\n",
              "            await google.colab.kernel.invokeFunction('convertToInteractive',\n",
              "                                                     [key], {});\n",
              "          if (!dataTable) return;\n",
              "\n",
              "          const docLinkHtml = 'Like what you see? Visit the ' +\n",
              "            '<a target=\"_blank\" href=https://colab.research.google.com/notebooks/data_table.ipynb>data table notebook</a>'\n",
              "            + ' to learn more about interactive tables.';\n",
              "          element.innerHTML = '';\n",
              "          dataTable['output_type'] = 'display_data';\n",
              "          await google.colab.output.renderOutput(dataTable, element);\n",
              "          const docLink = document.createElement('div');\n",
              "          docLink.innerHTML = docLinkHtml;\n",
              "          element.appendChild(docLink);\n",
              "        }\n",
              "      </script>\n",
              "    </div>\n",
              "  </div>\n",
              "  "
            ]
          },
          "metadata": {},
          "execution_count": 36
        }
      ],
      "source": [
        "ultra_stat = users_ultra[['calls_sum_length', 'messages_count', 'mb_used']].mean().to_frame(name='mean')\n",
        "ultra_stat['std'] = np.std(users_ultra[['calls_sum_length', 'messages_count', 'mb_used']])\n",
        "ultra_stat['var'] = np.var(users_ultra[['calls_sum_length', 'messages_count', 'mb_used']])\n",
        "ultra_stat"
      ]
    },
    {
      "cell_type": "code",
      "execution_count": null,
      "metadata": {
        "colab": {
          "base_uri": "https://localhost:8080/",
          "height": 176
        },
        "id": "rn603NXyTKP8",
        "outputId": "8731969e-338e-4ad5-e354-e0304dfa68f9"
      },
      "outputs": [
        {
          "output_type": "execute_result",
          "data": {
            "text/plain": [
              "   messages_included  mb_per_month_included  minutes_included  \\\n",
              "0                 50                  15360               500   \n",
              "1               1000                  30720              3000   \n",
              "\n",
              "   rub_monthly_fee  rub_per_gb  rub_per_message  rub_per_minute tariff_name  \n",
              "0              550         200                3               3       smart  \n",
              "1             1950         150                1               1       ultra  "
            ],
            "text/html": [
              "\n",
              "  <div id=\"df-41c74ebd-8e2b-45b5-9015-e1cfb7d981b6\">\n",
              "    <div class=\"colab-df-container\">\n",
              "      <div>\n",
              "<style scoped>\n",
              "    .dataframe tbody tr th:only-of-type {\n",
              "        vertical-align: middle;\n",
              "    }\n",
              "\n",
              "    .dataframe tbody tr th {\n",
              "        vertical-align: top;\n",
              "    }\n",
              "\n",
              "    .dataframe thead th {\n",
              "        text-align: right;\n",
              "    }\n",
              "</style>\n",
              "<table border=\"1\" class=\"dataframe\">\n",
              "  <thead>\n",
              "    <tr style=\"text-align: right;\">\n",
              "      <th></th>\n",
              "      <th>messages_included</th>\n",
              "      <th>mb_per_month_included</th>\n",
              "      <th>minutes_included</th>\n",
              "      <th>rub_monthly_fee</th>\n",
              "      <th>rub_per_gb</th>\n",
              "      <th>rub_per_message</th>\n",
              "      <th>rub_per_minute</th>\n",
              "      <th>tariff_name</th>\n",
              "    </tr>\n",
              "  </thead>\n",
              "  <tbody>\n",
              "    <tr>\n",
              "      <th>0</th>\n",
              "      <td>50</td>\n",
              "      <td>15360</td>\n",
              "      <td>500</td>\n",
              "      <td>550</td>\n",
              "      <td>200</td>\n",
              "      <td>3</td>\n",
              "      <td>3</td>\n",
              "      <td>smart</td>\n",
              "    </tr>\n",
              "    <tr>\n",
              "      <th>1</th>\n",
              "      <td>1000</td>\n",
              "      <td>30720</td>\n",
              "      <td>3000</td>\n",
              "      <td>1950</td>\n",
              "      <td>150</td>\n",
              "      <td>1</td>\n",
              "      <td>1</td>\n",
              "      <td>ultra</td>\n",
              "    </tr>\n",
              "  </tbody>\n",
              "</table>\n",
              "</div>\n",
              "      <button class=\"colab-df-convert\" onclick=\"convertToInteractive('df-41c74ebd-8e2b-45b5-9015-e1cfb7d981b6')\"\n",
              "              title=\"Convert this dataframe to an interactive table.\"\n",
              "              style=\"display:none;\">\n",
              "        \n",
              "  <svg xmlns=\"http://www.w3.org/2000/svg\" height=\"24px\"viewBox=\"0 0 24 24\"\n",
              "       width=\"24px\">\n",
              "    <path d=\"M0 0h24v24H0V0z\" fill=\"none\"/>\n",
              "    <path d=\"M18.56 5.44l.94 2.06.94-2.06 2.06-.94-2.06-.94-.94-2.06-.94 2.06-2.06.94zm-11 1L8.5 8.5l.94-2.06 2.06-.94-2.06-.94L8.5 2.5l-.94 2.06-2.06.94zm10 10l.94 2.06.94-2.06 2.06-.94-2.06-.94-.94-2.06-.94 2.06-2.06.94z\"/><path d=\"M17.41 7.96l-1.37-1.37c-.4-.4-.92-.59-1.43-.59-.52 0-1.04.2-1.43.59L10.3 9.45l-7.72 7.72c-.78.78-.78 2.05 0 2.83L4 21.41c.39.39.9.59 1.41.59.51 0 1.02-.2 1.41-.59l7.78-7.78 2.81-2.81c.8-.78.8-2.07 0-2.86zM5.41 20L4 18.59l7.72-7.72 1.47 1.35L5.41 20z\"/>\n",
              "  </svg>\n",
              "      </button>\n",
              "      \n",
              "  <style>\n",
              "    .colab-df-container {\n",
              "      display:flex;\n",
              "      flex-wrap:wrap;\n",
              "      gap: 12px;\n",
              "    }\n",
              "\n",
              "    .colab-df-convert {\n",
              "      background-color: #E8F0FE;\n",
              "      border: none;\n",
              "      border-radius: 50%;\n",
              "      cursor: pointer;\n",
              "      display: none;\n",
              "      fill: #1967D2;\n",
              "      height: 32px;\n",
              "      padding: 0 0 0 0;\n",
              "      width: 32px;\n",
              "    }\n",
              "\n",
              "    .colab-df-convert:hover {\n",
              "      background-color: #E2EBFA;\n",
              "      box-shadow: 0px 1px 2px rgba(60, 64, 67, 0.3), 0px 1px 3px 1px rgba(60, 64, 67, 0.15);\n",
              "      fill: #174EA6;\n",
              "    }\n",
              "\n",
              "    [theme=dark] .colab-df-convert {\n",
              "      background-color: #3B4455;\n",
              "      fill: #D2E3FC;\n",
              "    }\n",
              "\n",
              "    [theme=dark] .colab-df-convert:hover {\n",
              "      background-color: #434B5C;\n",
              "      box-shadow: 0px 1px 3px 1px rgba(0, 0, 0, 0.15);\n",
              "      filter: drop-shadow(0px 1px 2px rgba(0, 0, 0, 0.3));\n",
              "      fill: #FFFFFF;\n",
              "    }\n",
              "  </style>\n",
              "\n",
              "      <script>\n",
              "        const buttonEl =\n",
              "          document.querySelector('#df-41c74ebd-8e2b-45b5-9015-e1cfb7d981b6 button.colab-df-convert');\n",
              "        buttonEl.style.display =\n",
              "          google.colab.kernel.accessAllowed ? 'block' : 'none';\n",
              "\n",
              "        async function convertToInteractive(key) {\n",
              "          const element = document.querySelector('#df-41c74ebd-8e2b-45b5-9015-e1cfb7d981b6');\n",
              "          const dataTable =\n",
              "            await google.colab.kernel.invokeFunction('convertToInteractive',\n",
              "                                                     [key], {});\n",
              "          if (!dataTable) return;\n",
              "\n",
              "          const docLinkHtml = 'Like what you see? Visit the ' +\n",
              "            '<a target=\"_blank\" href=https://colab.research.google.com/notebooks/data_table.ipynb>data table notebook</a>'\n",
              "            + ' to learn more about interactive tables.';\n",
              "          element.innerHTML = '';\n",
              "          dataTable['output_type'] = 'display_data';\n",
              "          await google.colab.output.renderOutput(dataTable, element);\n",
              "          const docLink = document.createElement('div');\n",
              "          docLink.innerHTML = docLinkHtml;\n",
              "          element.appendChild(docLink);\n",
              "        }\n",
              "      </script>\n",
              "    </div>\n",
              "  </div>\n",
              "  "
            ]
          },
          "metadata": {},
          "execution_count": 37
        }
      ],
      "source": [
        "tariffs"
      ]
    },
    {
      "cell_type": "markdown",
      "metadata": {
        "id": "XVq-wz26TKP8"
      },
      "source": [
        "The average values of calls and messages for both tariffs are less than the number of services included in the package. The average volume of traffic slightly exceeds the available amount for the \"Smart\" tariff, and significantly falls short of it in the \"Ultra\" tariff."
      ]
    },
    {
      "cell_type": "markdown",
      "metadata": {
        "id": "kNu5Pg7mTKP8"
      },
      "source": [
        "### Drawing of parameter distribution histograms"
      ]
    },
    {
      "cell_type": "code",
      "execution_count": null,
      "metadata": {
        "colab": {
          "base_uri": "https://localhost:8080/",
          "height": 295
        },
        "id": "BAbay4PvTKP8",
        "outputId": "0d3447df-334b-4da6-e0d1-00f18e99ecd0"
      },
      "outputs": [
        {
          "output_type": "display_data",
          "data": {
            "text/plain": [
              "<Figure size 432x288 with 1 Axes>"
            ],
            "image/png": "[encoded data removed]"
          },
          "metadata": {
            "needs_background": "light"
          }
        }
      ],
      "source": [
        "plt.title('Distribution of the number of minutes used by \"Smart\" tariff subscribers')\n",
        "plt.xlabel('Average minutes per month')\n",
        "users_smart['calls_sum_length'].hist()\n",
        "plt.show()"
      ]
    },
    {
      "cell_type": "markdown",
      "metadata": {
        "id": "fPo6kzB6TKP8"
      },
      "source": [
        "The distribution of the number of minutes used by \"Smart\" tariff subscribers is a normal distribution with the parameters calculated earlier: mean - 419.63, standard deviation - 144.82. The number of minutes included in the subscription fee is 500."
      ]
    },
    {
      "cell_type": "code",
      "execution_count": null,
      "metadata": {
        "colab": {
          "base_uri": "https://localhost:8080/",
          "height": 295
        },
        "id": "GhWQmGyzTKP8",
        "outputId": "db2ee726-51d1-46a4-e19a-75d0a7e1c9b9"
      },
      "outputs": [
        {
          "output_type": "display_data",
          "data": {
            "text/plain": [
              "<Figure size 432x288 with 1 Axes>"
            ],
            "image/png": "[encoded data removed]"
          },
          "metadata": {
            "needs_background": "light"
          }
        }
      ],
      "source": [
        "plt.title('Distribution of the number of minutes used by \"Ultra\" tariff subscribers')\n",
        "plt.xlabel('Average minutes per month')\n",
        "users_ultra['calls_sum_length'].hist()\n",
        "plt.show()"
      ]
    },
    {
      "cell_type": "markdown",
      "metadata": {
        "id": "juILuVUPTKP8"
      },
      "source": [
        "The distribution of the number of minutes used by subscribers of the \"Ultra\" tariff looks like a normal one with an average value of 527.82, but, in comparison with the previous one, its spread is much higher - 280.83. Affects a smaller number of subscribers of the tariff \"Ultra\". The number of minutes included in the subscription fee is 3000."
      ]
    },
    {
      "cell_type": "code",
      "execution_count": null,
      "metadata": {
        "colab": {
          "base_uri": "https://localhost:8080/",
          "height": 295
        },
        "id": "HeHuDn2HTKP9",
        "outputId": "6a47bc03-5116-4132-cb5f-9f92ac0d362b"
      },
      "outputs": [
        {
          "output_type": "display_data",
          "data": {
            "text/plain": [
              "<Figure size 432x288 with 1 Axes>"
            ],
            "image/png": "[encoded data removed]"
          },
          "metadata": {
            "needs_background": "light"
          }
        }
      ],
      "source": [
        "plt.title('Distribution of the number of sent messages by \"Smart\" tariff subscribers')\n",
        "plt.xlabel('Average messages per month')\n",
        "users_smart['messages_count'].hist(bins=20)\n",
        "plt.show()"
      ]
    },
    {
      "cell_type": "code",
      "execution_count": null,
      "metadata": {
        "colab": {
          "base_uri": "https://localhost:8080/",
          "height": 295
        },
        "id": "kttPnwSjTKP9",
        "outputId": "5d52de0c-76a8-454b-c1b8-3d4b38a495a8"
      },
      "outputs": [
        {
          "output_type": "display_data",
          "data": {
            "text/plain": [
              "<Figure size 432x288 with 1 Axes>"
            ],
            "image/png": "[encoded data removed]"
          },
          "metadata": {
            "needs_background": "light"
          }
        }
      ],
      "source": [
        "plt.title('Distribution of the number of sent messages by \"Ultra\" tariff subscribers')\n",
        "plt.xlabel('Average messages per month')\n",
        "users_ultra['messages_count'].hist(bins=20)\n",
        "plt.show()"
      ]
    },
    {
      "cell_type": "markdown",
      "metadata": {
        "id": "nVJZhXWlTKP9"
      },
      "source": [
        "In terms of messages sent, both samples show similar distributions with a peak of less than 10 messages per month and a heavy tail. This is not surprising, since recently, users are increasingly using instant messengers for communication. The number of messages included in the monthly fee is 50 and 1000 respectively."
      ]
    },
    {
      "cell_type": "code",
      "execution_count": null,
      "metadata": {
        "colab": {
          "base_uri": "https://localhost:8080/",
          "height": 295
        },
        "id": "hsWT-juLTKP9",
        "outputId": "c078b29c-10ec-4d5c-fde1-c985b979cbfd"
      },
      "outputs": [
        {
          "output_type": "display_data",
          "data": {
            "text/plain": [
              "<Figure size 432x288 with 1 Axes>"
            ],
            "image/png": "[encoded data removed]"
          },
          "metadata": {
            "needs_background": "light"
          }
        }
      ],
      "source": [
        "plt.title('Distribution of traffic consumed by \"Smart\" tariff subscribers')\n",
        "plt.xlabel('Average amount of traffic per month')\n",
        "users_smart['mb_used'].hist()\n",
        "plt.show()"
      ]
    },
    {
      "cell_type": "code",
      "execution_count": null,
      "metadata": {
        "colab": {
          "base_uri": "https://localhost:8080/",
          "height": 295
        },
        "id": "Xdzt-KkATKP9",
        "outputId": "7968aae3-9b44-448f-ba17-3035126e9c60"
      },
      "outputs": [
        {
          "output_type": "display_data",
          "data": {
            "text/plain": [
              "<Figure size 432x288 with 1 Axes>"
            ],
            "image/png": "[encoded data removed]"
          },
          "metadata": {
            "needs_background": "light"
          }
        }
      ],
      "source": [
        "plt.title('Distribution of traffic consumed by \"Ultra\" tariff subscribers')\n",
        "plt.xlabel('Average amount of traffic per month')\n",
        "users_ultra['mb_used'].hist()\n",
        "plt.show()"
      ]
    },
    {
      "cell_type": "markdown",
      "metadata": {
        "id": "9_qIxABgTKP9"
      },
      "source": [
        "As in the case of calls, traffic consumption distributions are symmetrical with respect to the average value, which is relatively close for subscribers of both tariffs. At the same time, most of the users of the \"Ultra\" tariff do not use the amount of traffic available to them (30720 Mb), and about half of the users of the \"Smart\" tariff exceed the limit of their package, equal to 15360 Mb."
      ]
    },
    {
      "cell_type": "code",
      "execution_count": null,
      "metadata": {
        "colab": {
          "base_uri": "https://localhost:8080/",
          "height": 295
        },
        "id": "Gqh9PigYTKP9",
        "outputId": "09110bb1-7cbf-4c79-8f20-b1848769468e"
      },
      "outputs": [
        {
          "output_type": "display_data",
          "data": {
            "text/plain": [
              "<Figure size 432x288 with 1 Axes>"
            ],
            "image/png": "[encoded data removed]"
          },
          "metadata": {
            "needs_background": "light"
          }
        }
      ],
      "source": [
        "plt.title('Distribution of revenue from subscribers of different tariffs')\n",
        "plt.xlabel('Average revenue per month')\n",
        "users_smart['revenue'].hist(bins=20)\n",
        "users_ultra['revenue'].hist(alpha=0.8)\n",
        "plt.show()"
      ]
    },
    {
      "cell_type": "markdown",
      "metadata": {
        "id": "ZmvE7ptaTKP9"
      },
      "source": [
        "As a result of the analysis of customer behavior, we can conclude that the majority of Smart tariff users regularly exceed the limits on the number of used minutes and gigabytes included in the subscription fee of their tariff, while Ultra tariff subscribers, on the contrary, do not use prepaid services in full."
      ]
    },
    {
      "cell_type": "code",
      "execution_count": null,
      "metadata": {
        "colab": {
          "base_uri": "https://localhost:8080/",
          "height": 431
        },
        "id": "jWS7SRoBTKP-",
        "outputId": "bb8a3dc8-cddc-436a-d272-bbc4825293d6"
      },
      "outputs": [
        {
          "output_type": "display_data",
          "data": {
            "text/plain": [
              "<Figure size 1080x432 with 1 Axes>"
            ],
            "image/png": "[encoded data removed]"
          },
          "metadata": {
            "needs_background": "light"
          }
        }
      ],
      "source": [
        "plt.title('Dynamics of average revenue from users of the \"Smart\" tariff')\n",
        "plt.ylabel('Revenue')\n",
        "data.query('tariff == \"smart\"'\n",
        ").groupby('month'\n",
        ")['revenue'].agg('mean'\n",
        ").plot(x='month', y='revenue', figsize=(15,6), rot=45)\n",
        "plt.show()"
      ]
    },
    {
      "cell_type": "code",
      "execution_count": null,
      "metadata": {
        "colab": {
          "base_uri": "https://localhost:8080/",
          "height": 431
        },
        "id": "sWU0ZXBQTKP-",
        "outputId": "38a91fe3-dea9-4ae0-c8d7-965db2a2a79e"
      },
      "outputs": [
        {
          "output_type": "display_data",
          "data": {
            "text/plain": [
              "<Figure size 1080x432 with 1 Axes>"
            ],
            "image/png": "[encoded data removed]"
          },
          "metadata": {
            "needs_background": "light"
          }
        }
      ],
      "source": [
        "plt.title('Dynamics of average revenue from users of the \"Ultra\" tariff')\n",
        "plt.ylabel('Revenue')\n",
        "data.query('tariff == \"ultra\"'\n",
        ").groupby('month'\n",
        ")['revenue'].agg('mean'\n",
        ").plot(x='month', y='revenue', figsize=(15,6), rot=45)\n",
        "plt.show()"
      ]
    },
    {
      "cell_type": "markdown",
      "metadata": {
        "id": "g3jgvMpATKP-"
      },
      "source": [
        "Here you can look at the dynamics of the expenses of the random %username%:"
      ]
    },
    {
      "cell_type": "code",
      "execution_count": null,
      "metadata": {
        "colab": {
          "base_uri": "https://localhost:8080/",
          "height": 324
        },
        "id": "UGHbRW1aTKP-",
        "outputId": "30cb6500-8cf8-4b06-cf5f-0aaa4d715da4"
      },
      "outputs": [
        {
          "output_type": "stream",
          "name": "stdout",
          "text": [
            "User ID: 1262\n"
          ]
        },
        {
          "output_type": "display_data",
          "data": {
            "text/plain": [
              "<Figure size 432x288 with 1 Axes>"
            ],
            "image/png": "[encoded data removed]"
          },
          "metadata": {
            "needs_background": "light"
          }
        }
      ],
      "source": [
        "random_user = np.random.randint(1000,1499)\n",
        "print(f'User ID: {random_user}')\n",
        "data.query('user_id == @random_user')[['user_id','revenue','month']].plot(x='month', y='revenue', rot=45)\n",
        "plt.show()"
      ]
    },
    {
      "cell_type": "markdown",
      "metadata": {
        "id": "u1vooDH1TKP-"
      },
      "source": [
        "## Testing statistical hypotheses"
      ]
    },
    {
      "cell_type": "markdown",
      "metadata": {
        "id": "I89RnaCuTKP-"
      },
      "source": [
        "###  Hypothesis: The average revenue of users of the Ultra and Smart tariffs differ"
      ]
    },
    {
      "cell_type": "markdown",
      "metadata": {
        "id": "UjozXAMrTKP-"
      },
      "source": [
        "Let's check the hypothesis about the difference between the average revenue of users of two tariffs:\n",
        "    \n",
        "H0 - the average revenue of users of the \"Ultra\" and \"Smart\" tariffs do not differ\n",
        "\n",
        "H1 - the average revenue of users of the \"Ultra\" and \"Smart\" tariffs differ\n",
        "\n",
        "The critical level of statistical significance will be set by the standard value of 0.05"
      ]
    },
    {
      "cell_type": "code",
      "execution_count": null,
      "metadata": {
        "colab": {
          "base_uri": "https://localhost:8080/"
        },
        "id": "R40buex1TKP-",
        "outputId": "5fe4d85e-6f53-4314-b6bf-150e788710bf"
      },
      "outputs": [
        {
          "output_type": "execute_result",
          "data": {
            "text/plain": [
              "2.983728825353049e-40"
            ]
          },
          "metadata": {},
          "execution_count": 48
        }
      ],
      "source": [
        "st.ttest_ind(users_ultra['revenue'], users_smart['revenue']).pvalue"
      ]
    },
    {
      "cell_type": "markdown",
      "metadata": {
        "id": "leZwuDiQTKP_"
      },
      "source": [
        "The resulting p-value is significantly less than the given level of statistical significance of 0.05, therefore, the null hypothesis must be rejected, the revenue from users of the two tariffs is different."
      ]
    },
    {
      "cell_type": "markdown",
      "metadata": {
        "id": "MpyCjClXTKP_"
      },
      "source": [
        "###  Hypothesis: The average revenue of users from Moscow differs from the revenue of users from other regions"
      ]
    },
    {
      "cell_type": "markdown",
      "metadata": {
        "id": "22TA8P5ZTKP_"
      },
      "source": [
        "Let's test the hypothesis about the difference in the average revenue of users in different regions:\n",
        "    \n",
        "H0 - the average revenue of users in Moscow and other regions does not differ\n",
        "\n",
        "H1 - the average revenue of users in Moscow and other regions differ\n",
        "\n",
        "The critical level of statistical significance will be set by the standard value of 0.05"
      ]
    },
    {
      "cell_type": "code",
      "execution_count": null,
      "metadata": {
        "id": "CPJDokZXTKP_"
      },
      "outputs": [],
      "source": [
        "data_moscow = data.query('city == \"Москва\"').groupby('user_id', as_index=False).mean()\n",
        "data_regions = data.query('city != \"Москва\"').groupby('user_id', as_index=False).mean()"
      ]
    },
    {
      "cell_type": "code",
      "execution_count": null,
      "metadata": {
        "colab": {
          "base_uri": "https://localhost:8080/"
        },
        "id": "MuQKv5u8TKP_",
        "outputId": "54f9c4c3-164b-478e-a548-14ad1b196570"
      },
      "outputs": [
        {
          "output_type": "execute_result",
          "data": {
            "text/plain": [
              "0.36094633224451433"
            ]
          },
          "metadata": {},
          "execution_count": 50
        }
      ],
      "source": [
        "st.ttest_ind(data_moscow['revenue'], data_regions['revenue']).pvalue"
      ]
    },
    {
      "cell_type": "markdown",
      "metadata": {
        "id": "UQg8gdnDTKP_"
      },
      "source": [
        "The resulting p-value is higher than the given level of statistical significance of 0.05, therefore the null hypothesis can be accepted, the revenue from users from Moscow and the regions does not differ."
      ]
    },
    {
      "cell_type": "markdown",
      "metadata": {
        "id": "EmpWDeZGTKP_"
      },
      "source": [
        "## Conclusion"
      ]
    },
    {
      "cell_type": "markdown",
      "metadata": {
        "id": "smIoXQblTKP_"
      },
      "source": [
        "As a result of the study, the following was found:\n",
        "* Users of the \"Smart\" tariff often spend more traffic than their tariff provides, thus bringing additional revenue to the company.\n",
        "* Users of the \"Ultra\" tariff in rare cases consume more services than the tariff, and in general, users do not consume the volume completely, which allows the company to maintain a high level of income by supplying fewer services.\n",
        "* The \"Smart\" tariff is more popular among users, the number of its users in the sample is more than twice the number of users of the second tariff.\n",
        "* The average revenue from users of the two tariffs is different, this difference is statistically significant.\n",
        "* The average revenue from users from different regions does not differ.\n",
        "\n",
        "The \"Ultra\" tariff brings more profit to the operator based on the average revenue per user. At the same time, the dynamics for the year shows that the revenue from users of this tariff fluctuates, while the revenue from users of the second tariff grows more steadily. Therefore, it would be advisable to engage in the promotion of the \"Ultra\" tariff.\n"
      ]
    }
  ],
  "metadata": {
    "ExecuteTimeLog": [
      {
        "duration": 1525,
        "start_time": "2021-11-15T08:40:52.405Z"
      },
      {
        "duration": 490,
        "start_time": "2021-11-15T08:43:09.113Z"
      },
      {
        "duration": 25,
        "start_time": "2021-11-15T08:43:17.819Z"
      },
      {
        "duration": 21,
        "start_time": "2021-11-15T08:43:40.913Z"
      },
      {
        "duration": 32,
        "start_time": "2021-11-15T08:43:55.907Z"
      },
      {
        "duration": 26,
        "start_time": "2021-11-15T08:44:03.610Z"
      },
      {
        "duration": 16,
        "start_time": "2021-11-15T08:44:09.870Z"
      },
      {
        "duration": 11,
        "start_time": "2021-11-15T08:44:18.028Z"
      },
      {
        "duration": 14,
        "start_time": "2021-11-15T08:44:52.154Z"
      },
      {
        "duration": 21,
        "start_time": "2021-11-15T08:49:31.293Z"
      },
      {
        "duration": 14,
        "start_time": "2021-11-15T08:49:39.404Z"
      },
      {
        "duration": 10,
        "start_time": "2021-11-15T08:50:03.466Z"
      },
      {
        "duration": 15,
        "start_time": "2021-11-15T08:50:06.040Z"
      },
      {
        "duration": 15,
        "start_time": "2021-11-15T08:50:08.967Z"
      },
      {
        "duration": 12,
        "start_time": "2021-11-15T08:50:23.782Z"
      },
      {
        "duration": 9,
        "start_time": "2021-11-15T08:51:48.325Z"
      },
      {
        "duration": 6,
        "start_time": "2021-11-15T08:54:36.637Z"
      },
      {
        "duration": 24,
        "start_time": "2021-11-15T08:54:44.618Z"
      },
      {
        "duration": 11,
        "start_time": "2021-11-15T08:54:55.550Z"
      },
      {
        "duration": 5,
        "start_time": "2021-11-15T08:55:18.836Z"
      },
      {
        "duration": 27,
        "start_time": "2021-11-15T08:55:47.242Z"
      },
      {
        "duration": 16,
        "start_time": "2021-11-15T08:56:05.506Z"
      },
      {
        "duration": 26,
        "start_time": "2021-11-15T08:56:20.646Z"
      },
      {
        "duration": 43,
        "start_time": "2021-11-15T08:57:32.142Z"
      },
      {
        "duration": 8,
        "start_time": "2021-11-15T08:58:36.997Z"
      },
      {
        "duration": 8,
        "start_time": "2021-11-15T08:58:40.419Z"
      },
      {
        "duration": 18,
        "start_time": "2021-11-15T08:59:12.852Z"
      },
      {
        "duration": 27,
        "start_time": "2021-11-15T08:59:50.784Z"
      },
      {
        "duration": 51,
        "start_time": "2021-11-15T09:00:24.671Z"
      },
      {
        "duration": 27,
        "start_time": "2021-11-15T09:01:13.622Z"
      },
      {
        "duration": 7,
        "start_time": "2021-11-15T09:01:34.236Z"
      },
      {
        "duration": 9,
        "start_time": "2021-11-15T09:01:45.332Z"
      },
      {
        "duration": 7602,
        "start_time": "2021-11-15T09:02:20.852Z"
      },
      {
        "duration": 1424,
        "start_time": "2021-11-15T09:02:31.186Z"
      },
      {
        "duration": 492,
        "start_time": "2021-11-15T09:02:32.613Z"
      },
      {
        "duration": 19,
        "start_time": "2021-11-15T09:02:33.107Z"
      },
      {
        "duration": 12,
        "start_time": "2021-11-15T09:02:33.129Z"
      },
      {
        "duration": 16,
        "start_time": "2021-11-15T09:02:33.143Z"
      },
      {
        "duration": 28,
        "start_time": "2021-11-15T09:02:33.161Z"
      },
      {
        "duration": 13,
        "start_time": "2021-11-15T09:02:33.192Z"
      },
      {
        "duration": 9,
        "start_time": "2021-11-15T09:02:33.229Z"
      },
      {
        "duration": 17,
        "start_time": "2021-11-15T09:02:33.242Z"
      },
      {
        "duration": 8234,
        "start_time": "2021-11-15T09:02:33.262Z"
      },
      {
        "duration": -18,
        "start_time": "2021-11-15T09:02:41.517Z"
      },
      {
        "duration": 315,
        "start_time": "2021-11-15T09:03:04.458Z"
      },
      {
        "duration": 294,
        "start_time": "2021-11-15T09:03:29.135Z"
      },
      {
        "duration": 1530,
        "start_time": "2021-11-15T09:03:42.199Z"
      },
      {
        "duration": 523,
        "start_time": "2021-11-15T09:03:43.732Z"
      },
      {
        "duration": 19,
        "start_time": "2021-11-15T09:03:44.257Z"
      },
      {
        "duration": 14,
        "start_time": "2021-11-15T09:03:44.279Z"
      },
      {
        "duration": 15,
        "start_time": "2021-11-15T09:03:44.295Z"
      },
      {
        "duration": 35,
        "start_time": "2021-11-15T09:03:44.313Z"
      },
      {
        "duration": 11,
        "start_time": "2021-11-15T09:03:44.350Z"
      },
      {
        "duration": 11,
        "start_time": "2021-11-15T09:03:44.364Z"
      },
      {
        "duration": 17,
        "start_time": "2021-11-15T09:03:44.377Z"
      },
      {
        "duration": 522,
        "start_time": "2021-11-15T09:03:44.397Z"
      },
      {
        "duration": -84,
        "start_time": "2021-11-15T09:03:45.005Z"
      },
      {
        "duration": 114,
        "start_time": "2021-11-15T09:04:30.415Z"
      },
      {
        "duration": 105,
        "start_time": "2021-11-15T09:04:44.043Z"
      },
      {
        "duration": 297,
        "start_time": "2021-11-15T09:05:12.211Z"
      },
      {
        "duration": 270,
        "start_time": "2021-11-15T09:05:49.478Z"
      },
      {
        "duration": 291,
        "start_time": "2021-11-15T09:06:20.461Z"
      },
      {
        "duration": 97,
        "start_time": "2021-11-15T09:06:46.333Z"
      },
      {
        "duration": 27,
        "start_time": "2021-11-15T09:06:50.294Z"
      },
      {
        "duration": 10,
        "start_time": "2021-11-15T09:06:54.348Z"
      },
      {
        "duration": 14,
        "start_time": "2021-11-15T09:08:37.423Z"
      },
      {
        "duration": 12,
        "start_time": "2021-11-15T09:09:01.970Z"
      },
      {
        "duration": 17,
        "start_time": "2021-11-15T09:09:07.025Z"
      },
      {
        "duration": 1354,
        "start_time": "2021-11-15T09:27:27.802Z"
      },
      {
        "duration": 1507,
        "start_time": "2021-11-15T09:28:33.896Z"
      },
      {
        "duration": 574,
        "start_time": "2021-11-15T09:28:35.406Z"
      },
      {
        "duration": 22,
        "start_time": "2021-11-15T09:28:35.982Z"
      },
      {
        "duration": 14,
        "start_time": "2021-11-15T09:28:36.007Z"
      },
      {
        "duration": 14,
        "start_time": "2021-11-15T09:28:36.024Z"
      },
      {
        "duration": 27,
        "start_time": "2021-11-15T09:28:36.042Z"
      },
      {
        "duration": 11,
        "start_time": "2021-11-15T09:28:36.072Z"
      },
      {
        "duration": 44,
        "start_time": "2021-11-15T09:28:36.086Z"
      },
      {
        "duration": 19,
        "start_time": "2021-11-15T09:28:36.133Z"
      },
      {
        "duration": 13,
        "start_time": "2021-11-15T09:28:36.155Z"
      },
      {
        "duration": 25,
        "start_time": "2021-11-15T09:28:36.170Z"
      },
      {
        "duration": 1658,
        "start_time": "2021-11-15T09:28:36.230Z"
      },
      {
        "duration": -43,
        "start_time": "2021-11-15T09:28:37.934Z"
      },
      {
        "duration": -43,
        "start_time": "2021-11-15T09:28:37.935Z"
      },
      {
        "duration": 126,
        "start_time": "2021-11-15T09:31:43.879Z"
      },
      {
        "duration": 99,
        "start_time": "2021-11-15T09:32:02.056Z"
      },
      {
        "duration": 94,
        "start_time": "2021-11-15T09:32:18.226Z"
      },
      {
        "duration": 183,
        "start_time": "2021-11-15T09:32:58.351Z"
      },
      {
        "duration": 181,
        "start_time": "2021-11-15T09:33:36.189Z"
      },
      {
        "duration": 10,
        "start_time": "2021-11-15T09:33:41.835Z"
      },
      {
        "duration": 19,
        "start_time": "2021-11-15T09:33:50.717Z"
      },
      {
        "duration": 15,
        "start_time": "2021-11-15T09:34:14.986Z"
      },
      {
        "duration": 1425,
        "start_time": "2021-11-15T09:35:02.881Z"
      },
      {
        "duration": 505,
        "start_time": "2021-11-15T09:35:04.309Z"
      },
      {
        "duration": 20,
        "start_time": "2021-11-15T09:35:04.817Z"
      },
      {
        "duration": 16,
        "start_time": "2021-11-15T09:35:04.841Z"
      },
      {
        "duration": 17,
        "start_time": "2021-11-15T09:35:04.861Z"
      },
      {
        "duration": 51,
        "start_time": "2021-11-15T09:35:04.880Z"
      },
      {
        "duration": 11,
        "start_time": "2021-11-15T09:35:04.934Z"
      },
      {
        "duration": 14,
        "start_time": "2021-11-15T09:35:04.947Z"
      },
      {
        "duration": 18,
        "start_time": "2021-11-15T09:35:04.965Z"
      },
      {
        "duration": 49,
        "start_time": "2021-11-15T09:35:04.986Z"
      },
      {
        "duration": 29,
        "start_time": "2021-11-15T09:35:05.037Z"
      },
      {
        "duration": 202,
        "start_time": "2021-11-15T09:35:05.068Z"
      },
      {
        "duration": 19,
        "start_time": "2021-11-15T09:35:05.272Z"
      },
      {
        "duration": 38,
        "start_time": "2021-11-15T09:35:05.293Z"
      },
      {
        "duration": 427,
        "start_time": "2021-11-15T09:35:05.334Z"
      },
      {
        "duration": 180,
        "start_time": "2021-11-15T09:36:19.762Z"
      },
      {
        "duration": 18,
        "start_time": "2021-11-15T09:36:23.333Z"
      },
      {
        "duration": 15,
        "start_time": "2021-11-15T09:36:26.049Z"
      },
      {
        "duration": 158,
        "start_time": "2021-11-15T09:37:23.672Z"
      },
      {
        "duration": 14,
        "start_time": "2021-11-15T09:37:34.911Z"
      },
      {
        "duration": 13,
        "start_time": "2021-11-15T09:37:45.845Z"
      },
      {
        "duration": 335,
        "start_time": "2021-11-15T09:39:39.071Z"
      },
      {
        "duration": 56,
        "start_time": "2021-11-15T09:39:59.600Z"
      },
      {
        "duration": 58,
        "start_time": "2021-11-15T09:41:00.071Z"
      },
      {
        "duration": 325,
        "start_time": "2021-11-15T09:42:09.464Z"
      },
      {
        "duration": 55,
        "start_time": "2021-11-15T09:42:16.686Z"
      },
      {
        "duration": 13,
        "start_time": "2021-11-15T09:43:04.561Z"
      },
      {
        "duration": 305,
        "start_time": "2021-11-15T09:43:41.229Z"
      },
      {
        "duration": 46,
        "start_time": "2021-11-15T09:44:04.115Z"
      },
      {
        "duration": 51,
        "start_time": "2021-11-15T09:45:04.047Z"
      },
      {
        "duration": 70,
        "start_time": "2021-11-15T09:46:47.447Z"
      },
      {
        "duration": 58,
        "start_time": "2021-11-15T09:46:57.367Z"
      },
      {
        "duration": 59,
        "start_time": "2021-11-15T09:47:12.155Z"
      },
      {
        "duration": 60,
        "start_time": "2021-11-15T09:47:20.119Z"
      },
      {
        "duration": 46,
        "start_time": "2021-11-15T09:47:43.097Z"
      },
      {
        "duration": 45,
        "start_time": "2021-11-15T09:47:49.315Z"
      },
      {
        "duration": 19,
        "start_time": "2021-11-15T09:48:45.651Z"
      },
      {
        "duration": 48,
        "start_time": "2021-11-15T09:49:44.483Z"
      },
      {
        "duration": 43,
        "start_time": "2021-11-15T09:50:28.941Z"
      },
      {
        "duration": 45,
        "start_time": "2021-11-15T09:50:38.086Z"
      },
      {
        "duration": 4,
        "start_time": "2021-11-15T09:53:10.359Z"
      },
      {
        "duration": 45,
        "start_time": "2021-11-15T09:53:52.058Z"
      },
      {
        "duration": 36,
        "start_time": "2021-11-15T09:54:07.764Z"
      },
      {
        "duration": 39,
        "start_time": "2021-11-15T09:54:16.734Z"
      },
      {
        "duration": 12,
        "start_time": "2021-11-15T09:55:46.047Z"
      },
      {
        "duration": 24,
        "start_time": "2021-11-15T09:55:49.853Z"
      },
      {
        "duration": 58,
        "start_time": "2021-11-15T09:57:12.063Z"
      },
      {
        "duration": 46,
        "start_time": "2021-11-15T09:57:21.695Z"
      },
      {
        "duration": 299,
        "start_time": "2021-11-15T09:57:59.210Z"
      },
      {
        "duration": 13,
        "start_time": "2021-11-15T09:58:50.753Z"
      },
      {
        "duration": 13,
        "start_time": "2021-11-15T09:59:52.354Z"
      },
      {
        "duration": 14,
        "start_time": "2021-11-15T09:59:55.238Z"
      },
      {
        "duration": 20,
        "start_time": "2021-11-15T09:59:55.969Z"
      },
      {
        "duration": 14,
        "start_time": "2021-11-15T10:00:17.401Z"
      },
      {
        "duration": 23,
        "start_time": "2021-11-15T10:00:18.528Z"
      },
      {
        "duration": 13,
        "start_time": "2021-11-15T10:01:49.497Z"
      },
      {
        "duration": 22,
        "start_time": "2021-11-15T10:01:50.002Z"
      },
      {
        "duration": 323,
        "start_time": "2021-11-15T10:06:08.322Z"
      },
      {
        "duration": 391,
        "start_time": "2021-11-15T10:06:18.167Z"
      },
      {
        "duration": 58,
        "start_time": "2021-11-15T10:06:23.989Z"
      },
      {
        "duration": 45,
        "start_time": "2021-11-15T10:06:58.249Z"
      },
      {
        "duration": 58,
        "start_time": "2021-11-15T10:07:05.848Z"
      },
      {
        "duration": 47,
        "start_time": "2021-11-15T10:07:52.821Z"
      },
      {
        "duration": 59,
        "start_time": "2021-11-15T10:07:59.898Z"
      },
      {
        "duration": 391,
        "start_time": "2021-11-15T10:08:23.847Z"
      },
      {
        "duration": 310,
        "start_time": "2021-11-15T10:08:40.739Z"
      },
      {
        "duration": 313,
        "start_time": "2021-11-15T10:10:30.330Z"
      },
      {
        "duration": 10,
        "start_time": "2021-11-15T10:10:39.837Z"
      },
      {
        "duration": 23,
        "start_time": "2021-11-15T10:10:42.879Z"
      },
      {
        "duration": 10,
        "start_time": "2021-11-15T10:11:20.149Z"
      },
      {
        "duration": 22,
        "start_time": "2021-11-15T10:11:21.313Z"
      },
      {
        "duration": 11,
        "start_time": "2021-11-15T10:11:33.411Z"
      },
      {
        "duration": 22,
        "start_time": "2021-11-15T10:11:36.042Z"
      },
      {
        "duration": 17,
        "start_time": "2021-11-15T10:11:44.051Z"
      },
      {
        "duration": 8,
        "start_time": "2021-11-15T10:11:49.617Z"
      },
      {
        "duration": 47,
        "start_time": "2021-11-15T10:12:19.309Z"
      },
      {
        "duration": 13,
        "start_time": "2021-11-15T10:12:50.345Z"
      },
      {
        "duration": 18,
        "start_time": "2021-11-15T10:12:51.794Z"
      },
      {
        "duration": 1208,
        "start_time": "2021-11-15T10:14:13.842Z"
      },
      {
        "duration": 48,
        "start_time": "2021-11-15T10:14:26.875Z"
      },
      {
        "duration": 1233,
        "start_time": "2021-11-15T10:14:45.858Z"
      },
      {
        "duration": 40,
        "start_time": "2021-11-15T10:15:02.019Z"
      },
      {
        "duration": 36,
        "start_time": "2021-11-15T10:15:21.483Z"
      },
      {
        "duration": 34,
        "start_time": "2021-11-15T10:15:33.552Z"
      },
      {
        "duration": 50,
        "start_time": "2021-11-15T10:15:59.661Z"
      },
      {
        "duration": 13,
        "start_time": "2021-11-15T10:17:09.138Z"
      },
      {
        "duration": 19,
        "start_time": "2021-11-15T10:17:19.937Z"
      },
      {
        "duration": 9,
        "start_time": "2021-11-15T10:17:36.963Z"
      },
      {
        "duration": 5,
        "start_time": "2021-11-15T10:23:09.512Z"
      },
      {
        "duration": 97,
        "start_time": "2021-11-15T10:31:46.609Z"
      },
      {
        "duration": 4,
        "start_time": "2021-11-15T10:31:54.021Z"
      },
      {
        "duration": 305,
        "start_time": "2021-11-15T10:32:11.259Z"
      },
      {
        "duration": 650,
        "start_time": "2021-11-15T10:32:37.948Z"
      },
      {
        "duration": 3,
        "start_time": "2021-11-15T10:32:48.391Z"
      },
      {
        "duration": 591,
        "start_time": "2021-11-15T10:32:50.218Z"
      },
      {
        "duration": 4,
        "start_time": "2021-11-15T10:33:10.316Z"
      },
      {
        "duration": 577,
        "start_time": "2021-11-15T10:33:10.870Z"
      },
      {
        "duration": 716,
        "start_time": "2021-11-15T10:33:17.542Z"
      },
      {
        "duration": 4,
        "start_time": "2021-11-15T10:33:37.454Z"
      },
      {
        "duration": 640,
        "start_time": "2021-11-15T10:33:38.792Z"
      },
      {
        "duration": 293,
        "start_time": "2021-11-15T10:36:16.911Z"
      },
      {
        "duration": 43,
        "start_time": "2021-11-15T10:37:37.534Z"
      },
      {
        "duration": 13,
        "start_time": "2021-11-15T10:37:38.843Z"
      },
      {
        "duration": 12,
        "start_time": "2021-11-15T10:37:39.353Z"
      },
      {
        "duration": 302,
        "start_time": "2021-11-15T10:39:00.602Z"
      },
      {
        "duration": 311,
        "start_time": "2021-11-15T10:39:27.220Z"
      },
      {
        "duration": 107,
        "start_time": "2021-11-15T10:44:23.802Z"
      },
      {
        "duration": 105,
        "start_time": "2021-11-15T10:44:36.117Z"
      },
      {
        "duration": 89,
        "start_time": "2021-11-15T10:44:49.399Z"
      },
      {
        "duration": 104,
        "start_time": "2021-11-15T10:44:58.290Z"
      },
      {
        "duration": 95,
        "start_time": "2021-11-15T10:45:27.092Z"
      },
      {
        "duration": 91,
        "start_time": "2021-11-15T10:46:13.490Z"
      },
      {
        "duration": 99,
        "start_time": "2021-11-15T10:48:22.109Z"
      },
      {
        "duration": 1046,
        "start_time": "2021-11-15T10:48:32.453Z"
      },
      {
        "duration": 16135,
        "start_time": "2021-11-15T10:49:12.250Z"
      },
      {
        "duration": 3,
        "start_time": "2021-11-15T10:50:36.819Z"
      },
      {
        "duration": 5,
        "start_time": "2021-11-15T10:56:33.242Z"
      },
      {
        "duration": 309,
        "start_time": "2021-11-15T10:57:00.469Z"
      },
      {
        "duration": 299,
        "start_time": "2021-11-15T10:57:24.397Z"
      },
      {
        "duration": 703,
        "start_time": "2021-11-15T10:57:31.776Z"
      },
      {
        "duration": 724,
        "start_time": "2021-11-15T10:57:43.776Z"
      },
      {
        "duration": 298,
        "start_time": "2021-11-15T10:57:49.927Z"
      },
      {
        "duration": 93,
        "start_time": "2021-11-15T10:57:58.520Z"
      },
      {
        "duration": 4,
        "start_time": "2021-11-15T10:58:02.695Z"
      },
      {
        "duration": 363,
        "start_time": "2021-11-15T10:58:05.042Z"
      },
      {
        "duration": 289,
        "start_time": "2021-11-15T10:59:19.533Z"
      },
      {
        "duration": 281,
        "start_time": "2021-11-15T10:59:26.738Z"
      },
      {
        "duration": 781,
        "start_time": "2021-11-15T10:59:42.570Z"
      },
      {
        "duration": 4,
        "start_time": "2021-11-15T11:01:10.187Z"
      },
      {
        "duration": 625,
        "start_time": "2021-11-15T11:01:11.816Z"
      },
      {
        "duration": 108,
        "start_time": "2021-11-15T11:01:27.972Z"
      },
      {
        "duration": 104,
        "start_time": "2021-11-15T11:01:33.346Z"
      },
      {
        "duration": 4,
        "start_time": "2021-11-15T11:01:37.545Z"
      },
      {
        "duration": 551,
        "start_time": "2021-11-15T11:01:38.685Z"
      },
      {
        "duration": 598,
        "start_time": "2021-11-15T11:01:46.979Z"
      },
      {
        "duration": 6,
        "start_time": "2021-11-15T11:07:15.972Z"
      },
      {
        "duration": 308,
        "start_time": "2021-11-15T11:07:27.009Z"
      },
      {
        "duration": 371,
        "start_time": "2021-11-15T11:07:54.318Z"
      },
      {
        "duration": 4,
        "start_time": "2021-11-15T11:07:58.414Z"
      },
      {
        "duration": 7,
        "start_time": "2021-11-15T11:08:06.887Z"
      },
      {
        "duration": 8,
        "start_time": "2021-11-15T11:08:38.805Z"
      },
      {
        "duration": 291,
        "start_time": "2021-11-15T11:09:13.730Z"
      },
      {
        "duration": 333,
        "start_time": "2021-11-15T11:09:20.112Z"
      },
      {
        "duration": 296,
        "start_time": "2021-11-15T11:10:06.433Z"
      },
      {
        "duration": 323,
        "start_time": "2021-11-15T11:11:46.798Z"
      },
      {
        "duration": 69,
        "start_time": "2021-11-15T11:12:13.131Z"
      },
      {
        "duration": 44,
        "start_time": "2021-11-15T11:12:20.091Z"
      },
      {
        "duration": 67,
        "start_time": "2021-11-15T11:13:08.726Z"
      },
      {
        "duration": 65,
        "start_time": "2021-11-15T11:14:17.374Z"
      },
      {
        "duration": 4,
        "start_time": "2021-11-15T11:19:41.594Z"
      },
      {
        "duration": 651,
        "start_time": "2021-11-15T11:19:47.212Z"
      },
      {
        "duration": 278,
        "start_time": "2021-11-15T11:20:53.951Z"
      },
      {
        "duration": 277,
        "start_time": "2021-11-15T11:21:13.358Z"
      },
      {
        "duration": 272,
        "start_time": "2021-11-15T11:21:28.262Z"
      },
      {
        "duration": 293,
        "start_time": "2021-11-15T11:21:31.346Z"
      },
      {
        "duration": 278,
        "start_time": "2021-11-15T11:21:42.428Z"
      },
      {
        "duration": 4,
        "start_time": "2021-11-15T11:23:07.820Z"
      },
      {
        "duration": 3,
        "start_time": "2021-11-15T11:23:14.298Z"
      },
      {
        "duration": 565,
        "start_time": "2021-11-15T11:23:18.038Z"
      },
      {
        "duration": 556,
        "start_time": "2021-11-15T11:23:28.368Z"
      },
      {
        "duration": 4,
        "start_time": "2021-11-15T11:23:45.919Z"
      },
      {
        "duration": 3,
        "start_time": "2021-11-15T11:23:47.123Z"
      },
      {
        "duration": 565,
        "start_time": "2021-11-15T11:23:48.071Z"
      },
      {
        "duration": 3,
        "start_time": "2021-11-15T11:27:16.189Z"
      },
      {
        "duration": 696,
        "start_time": "2021-11-15T11:27:19.651Z"
      },
      {
        "duration": 3,
        "start_time": "2021-11-15T11:27:34.077Z"
      },
      {
        "duration": 4,
        "start_time": "2021-11-15T11:27:41.946Z"
      },
      {
        "duration": 4,
        "start_time": "2021-11-15T11:27:55.574Z"
      },
      {
        "duration": 3,
        "start_time": "2021-11-15T11:27:55.960Z"
      },
      {
        "duration": 294,
        "start_time": "2021-11-15T11:27:56.987Z"
      },
      {
        "duration": 3,
        "start_time": "2021-11-15T11:28:13.462Z"
      },
      {
        "duration": 562,
        "start_time": "2021-11-15T11:28:15.682Z"
      },
      {
        "duration": 4,
        "start_time": "2021-11-15T11:28:27.733Z"
      },
      {
        "duration": 3,
        "start_time": "2021-11-15T11:28:29.440Z"
      },
      {
        "duration": 600,
        "start_time": "2021-11-15T11:28:30.403Z"
      },
      {
        "duration": 4,
        "start_time": "2021-11-15T11:28:48.314Z"
      },
      {
        "duration": 3,
        "start_time": "2021-11-15T11:28:49.538Z"
      },
      {
        "duration": 607,
        "start_time": "2021-11-15T11:28:50.175Z"
      },
      {
        "duration": 3,
        "start_time": "2021-11-15T11:29:51.455Z"
      },
      {
        "duration": 3,
        "start_time": "2021-11-15T11:29:52.645Z"
      },
      {
        "duration": 764,
        "start_time": "2021-11-15T11:29:53.586Z"
      },
      {
        "duration": 4,
        "start_time": "2021-11-15T11:30:35.372Z"
      },
      {
        "duration": 3,
        "start_time": "2021-11-15T11:30:36.418Z"
      },
      {
        "duration": 580,
        "start_time": "2021-11-15T11:30:37.741Z"
      },
      {
        "duration": 615,
        "start_time": "2021-11-15T11:30:51.142Z"
      },
      {
        "duration": 331,
        "start_time": "2021-11-15T11:40:16.216Z"
      },
      {
        "duration": 318,
        "start_time": "2021-11-15T11:41:20.519Z"
      },
      {
        "duration": 313,
        "start_time": "2021-11-15T11:42:32.225Z"
      },
      {
        "duration": 10,
        "start_time": "2021-11-15T11:43:06.045Z"
      },
      {
        "duration": 23,
        "start_time": "2021-11-15T11:43:12.119Z"
      },
      {
        "duration": 8,
        "start_time": "2021-11-15T11:43:32.359Z"
      },
      {
        "duration": 23,
        "start_time": "2021-11-15T11:43:34.181Z"
      },
      {
        "duration": 11,
        "start_time": "2021-11-15T11:43:50.458Z"
      },
      {
        "duration": 131,
        "start_time": "2021-11-15T11:44:18.865Z"
      },
      {
        "duration": 331,
        "start_time": "2021-11-15T11:44:36.089Z"
      },
      {
        "duration": 9,
        "start_time": "2021-11-15T11:44:45.153Z"
      },
      {
        "duration": 10,
        "start_time": "2021-11-15T11:44:52.154Z"
      },
      {
        "duration": 766,
        "start_time": "2021-11-15T11:45:30.873Z"
      },
      {
        "duration": 33,
        "start_time": "2021-11-15T11:45:38.828Z"
      },
      {
        "duration": 22,
        "start_time": "2021-11-15T11:45:41.855Z"
      },
      {
        "duration": 8794,
        "start_time": "2021-11-15T11:46:13.454Z"
      },
      {
        "duration": 21,
        "start_time": "2021-11-15T11:46:23.951Z"
      },
      {
        "duration": 6,
        "start_time": "2021-11-15T11:47:15.397Z"
      },
      {
        "duration": 648,
        "start_time": "2021-11-15T11:47:59.865Z"
      },
      {
        "duration": 9172,
        "start_time": "2021-11-15T11:48:23.731Z"
      },
      {
        "duration": 29,
        "start_time": "2021-11-15T11:48:32.906Z"
      },
      {
        "duration": 1020,
        "start_time": "2021-11-15T11:52:29.160Z"
      },
      {
        "duration": 489,
        "start_time": "2021-11-15T11:53:06.503Z"
      },
      {
        "duration": 7,
        "start_time": "2021-11-15T11:55:19.136Z"
      },
      {
        "duration": 22,
        "start_time": "2021-11-15T11:55:21.870Z"
      },
      {
        "duration": 6,
        "start_time": "2021-11-15T11:55:29.661Z"
      },
      {
        "duration": 10,
        "start_time": "2021-11-15T11:55:36.562Z"
      },
      {
        "duration": 329,
        "start_time": "2021-11-15T12:06:39.523Z"
      },
      {
        "duration": 283,
        "start_time": "2021-11-15T12:06:45.410Z"
      },
      {
        "duration": 315,
        "start_time": "2021-11-15T12:06:48.806Z"
      },
      {
        "duration": 11,
        "start_time": "2021-11-15T12:07:05.923Z"
      },
      {
        "duration": 97,
        "start_time": "2021-11-15T12:27:11.504Z"
      },
      {
        "duration": 6,
        "start_time": "2021-11-15T12:27:30.536Z"
      },
      {
        "duration": 293,
        "start_time": "2021-11-15T12:27:55.870Z"
      },
      {
        "duration": 597,
        "start_time": "2021-11-15T12:28:18.334Z"
      },
      {
        "duration": 310,
        "start_time": "2021-11-15T12:28:28.260Z"
      },
      {
        "duration": 8,
        "start_time": "2021-11-15T12:28:57.720Z"
      },
      {
        "duration": 307,
        "start_time": "2021-11-15T12:29:05.146Z"
      },
      {
        "duration": 267,
        "start_time": "2021-11-15T12:29:14.561Z"
      },
      {
        "duration": 569,
        "start_time": "2021-11-15T12:29:25.870Z"
      },
      {
        "duration": 6,
        "start_time": "2021-11-15T12:29:30.155Z"
      },
      {
        "duration": 581,
        "start_time": "2021-11-15T12:29:30.614Z"
      },
      {
        "duration": 6,
        "start_time": "2021-11-15T12:30:23.648Z"
      },
      {
        "duration": 567,
        "start_time": "2021-11-15T12:30:24.372Z"
      },
      {
        "duration": 105,
        "start_time": "2021-11-15T12:31:32.654Z"
      },
      {
        "duration": 10,
        "start_time": "2021-11-15T12:31:48.662Z"
      },
      {
        "duration": 597,
        "start_time": "2021-11-15T12:31:55.985Z"
      },
      {
        "duration": 9,
        "start_time": "2021-11-15T12:32:08.799Z"
      },
      {
        "duration": 101,
        "start_time": "2021-11-15T12:32:18.766Z"
      },
      {
        "duration": 609,
        "start_time": "2021-11-15T12:32:23.358Z"
      },
      {
        "duration": 591,
        "start_time": "2021-11-15T12:33:07.171Z"
      },
      {
        "duration": 9,
        "start_time": "2021-11-15T12:33:42.314Z"
      },
      {
        "duration": 609,
        "start_time": "2021-11-15T12:33:47.737Z"
      },
      {
        "duration": 10,
        "start_time": "2021-11-15T12:36:40.002Z"
      },
      {
        "duration": 696,
        "start_time": "2021-11-15T12:36:44.483Z"
      },
      {
        "duration": 749,
        "start_time": "2021-11-15T12:36:52.760Z"
      },
      {
        "duration": 11,
        "start_time": "2021-11-15T12:39:25.438Z"
      },
      {
        "duration": 8,
        "start_time": "2021-11-15T12:43:21.137Z"
      },
      {
        "duration": 575,
        "start_time": "2021-11-15T12:43:23.512Z"
      },
      {
        "duration": 576,
        "start_time": "2021-11-15T12:45:36.394Z"
      },
      {
        "duration": 896,
        "start_time": "2021-11-15T12:46:19.583Z"
      },
      {
        "duration": 8,
        "start_time": "2021-11-15T12:48:38.752Z"
      },
      {
        "duration": 679,
        "start_time": "2021-11-15T12:48:40.021Z"
      },
      {
        "duration": 292,
        "start_time": "2021-11-15T12:48:53.756Z"
      },
      {
        "duration": 8,
        "start_time": "2021-11-15T12:48:57.193Z"
      },
      {
        "duration": 567,
        "start_time": "2021-11-15T12:48:58.028Z"
      },
      {
        "duration": 592,
        "start_time": "2021-11-15T12:49:25.640Z"
      },
      {
        "duration": 8,
        "start_time": "2021-11-15T12:50:47.338Z"
      },
      {
        "duration": 590,
        "start_time": "2021-11-15T12:50:48.096Z"
      },
      {
        "duration": 4,
        "start_time": "2021-11-15T12:59:21.141Z"
      },
      {
        "duration": 541,
        "start_time": "2021-11-15T12:59:36.002Z"
      },
      {
        "duration": 282,
        "start_time": "2021-11-15T13:00:48.371Z"
      },
      {
        "duration": 4,
        "start_time": "2021-11-15T13:00:50.595Z"
      },
      {
        "duration": 581,
        "start_time": "2021-11-15T13:00:51.308Z"
      },
      {
        "duration": 5,
        "start_time": "2021-11-15T13:01:09.607Z"
      },
      {
        "duration": 559,
        "start_time": "2021-11-15T13:01:10.071Z"
      },
      {
        "duration": 3,
        "start_time": "2021-11-15T13:01:19.522Z"
      },
      {
        "duration": 5,
        "start_time": "2021-11-15T13:01:22.355Z"
      },
      {
        "duration": 1481,
        "start_time": "2021-11-15T13:01:57.040Z"
      },
      {
        "duration": 514,
        "start_time": "2021-11-15T13:01:58.524Z"
      },
      {
        "duration": 18,
        "start_time": "2021-11-15T13:01:59.041Z"
      },
      {
        "duration": 40,
        "start_time": "2021-11-15T13:01:59.061Z"
      },
      {
        "duration": 21,
        "start_time": "2021-11-15T13:01:59.103Z"
      },
      {
        "duration": 44,
        "start_time": "2021-11-15T13:01:59.127Z"
      },
      {
        "duration": 11,
        "start_time": "2021-11-15T13:01:59.174Z"
      },
      {
        "duration": 13,
        "start_time": "2021-11-15T13:01:59.188Z"
      },
      {
        "duration": 33,
        "start_time": "2021-11-15T13:01:59.205Z"
      },
      {
        "duration": 14,
        "start_time": "2021-11-15T13:01:59.241Z"
      },
      {
        "duration": 36,
        "start_time": "2021-11-15T13:01:59.258Z"
      },
      {
        "duration": 199,
        "start_time": "2021-11-15T13:01:59.297Z"
      },
      {
        "duration": 30,
        "start_time": "2021-11-15T13:01:59.499Z"
      },
      {
        "duration": 59,
        "start_time": "2021-11-15T13:01:59.531Z"
      },
      {
        "duration": 65,
        "start_time": "2021-11-15T13:01:59.592Z"
      },
      {
        "duration": 49,
        "start_time": "2021-11-15T13:01:59.659Z"
      },
      {
        "duration": 27,
        "start_time": "2021-11-15T13:01:59.711Z"
      },
      {
        "duration": 12,
        "start_time": "2021-11-15T13:01:59.741Z"
      },
      {
        "duration": 6,
        "start_time": "2021-11-15T13:01:59.755Z"
      },
      {
        "duration": 33,
        "start_time": "2021-11-15T13:01:59.763Z"
      },
      {
        "duration": 123,
        "start_time": "2021-11-15T13:01:59.799Z"
      },
      {
        "duration": 21,
        "start_time": "2021-11-15T13:01:59.904Z"
      },
      {
        "duration": 13,
        "start_time": "2021-11-15T13:01:59.914Z"
      },
      {
        "duration": 13,
        "start_time": "2021-11-15T13:01:59.916Z"
      },
      {
        "duration": 13,
        "start_time": "2021-11-15T13:01:59.918Z"
      },
      {
        "duration": 13,
        "start_time": "2021-11-15T13:01:59.920Z"
      },
      {
        "duration": 13,
        "start_time": "2021-11-15T13:01:59.922Z"
      },
      {
        "duration": 14,
        "start_time": "2021-11-15T13:01:59.923Z"
      },
      {
        "duration": 6,
        "start_time": "2021-11-15T13:02:16.514Z"
      },
      {
        "duration": 12,
        "start_time": "2021-11-15T13:02:18.652Z"
      },
      {
        "duration": 8,
        "start_time": "2021-11-15T13:02:23.563Z"
      },
      {
        "duration": 694,
        "start_time": "2021-11-15T13:02:24.713Z"
      },
      {
        "duration": 568,
        "start_time": "2021-11-15T13:03:16.340Z"
      },
      {
        "duration": 4,
        "start_time": "2021-11-15T13:03:45.351Z"
      },
      {
        "duration": 5,
        "start_time": "2021-11-15T13:03:45.976Z"
      },
      {
        "duration": 4,
        "start_time": "2021-11-15T13:05:34.881Z"
      },
      {
        "duration": 611,
        "start_time": "2021-11-15T13:05:35.464Z"
      },
      {
        "duration": 4,
        "start_time": "2021-11-15T13:06:27.584Z"
      },
      {
        "duration": 7499,
        "start_time": "2021-11-15T13:06:28.974Z"
      },
      {
        "duration": 24,
        "start_time": "2021-11-15T13:06:52.785Z"
      },
      {
        "duration": 8,
        "start_time": "2021-11-15T13:10:30.242Z"
      },
      {
        "duration": 26,
        "start_time": "2021-11-15T13:10:31.006Z"
      },
      {
        "duration": 7,
        "start_time": "2021-11-15T13:11:56.504Z"
      },
      {
        "duration": 22,
        "start_time": "2021-11-15T13:11:57.865Z"
      },
      {
        "duration": 12,
        "start_time": "2021-11-15T13:12:12.321Z"
      },
      {
        "duration": 22,
        "start_time": "2021-11-15T13:12:13.632Z"
      },
      {
        "duration": 8,
        "start_time": "2021-11-15T13:12:20.679Z"
      },
      {
        "duration": 573,
        "start_time": "2021-11-15T13:12:24.895Z"
      },
      {
        "duration": 8,
        "start_time": "2021-11-15T13:13:49.794Z"
      },
      {
        "duration": 599,
        "start_time": "2021-11-15T13:13:50.935Z"
      },
      {
        "duration": 7,
        "start_time": "2021-11-15T13:14:21.435Z"
      },
      {
        "duration": 587,
        "start_time": "2021-11-15T13:14:27.221Z"
      },
      {
        "duration": 647,
        "start_time": "2021-11-15T13:15:13.205Z"
      },
      {
        "duration": 9,
        "start_time": "2021-11-15T13:15:35.749Z"
      },
      {
        "duration": 646,
        "start_time": "2021-11-15T13:15:36.999Z"
      },
      {
        "duration": 9,
        "start_time": "2021-11-15T13:16:00.755Z"
      },
      {
        "duration": 760,
        "start_time": "2021-11-15T13:16:01.634Z"
      },
      {
        "duration": 2491,
        "start_time": "2021-11-15T14:02:39.618Z"
      },
      {
        "duration": 520,
        "start_time": "2021-11-15T14:02:42.112Z"
      },
      {
        "duration": 21,
        "start_time": "2021-11-15T14:02:42.635Z"
      },
      {
        "duration": 15,
        "start_time": "2021-11-15T14:02:42.660Z"
      },
      {
        "duration": 18,
        "start_time": "2021-11-15T14:02:42.678Z"
      },
      {
        "duration": 57,
        "start_time": "2021-11-15T14:02:42.699Z"
      },
      {
        "duration": 13,
        "start_time": "2021-11-15T14:02:42.759Z"
      },
      {
        "duration": 51,
        "start_time": "2021-11-15T14:02:42.778Z"
      },
      {
        "duration": 21,
        "start_time": "2021-11-15T14:02:42.832Z"
      },
      {
        "duration": 13,
        "start_time": "2021-11-15T14:02:42.857Z"
      },
      {
        "duration": 57,
        "start_time": "2021-11-15T14:02:42.872Z"
      },
      {
        "duration": 193,
        "start_time": "2021-11-15T14:02:42.931Z"
      },
      {
        "duration": 12,
        "start_time": "2021-11-15T14:02:43.128Z"
      },
      {
        "duration": 61,
        "start_time": "2021-11-15T14:02:43.142Z"
      },
      {
        "duration": 65,
        "start_time": "2021-11-15T14:02:43.205Z"
      },
      {
        "duration": 64,
        "start_time": "2021-11-15T14:02:43.273Z"
      },
      {
        "duration": 13,
        "start_time": "2021-11-15T14:02:43.339Z"
      },
      {
        "duration": 13,
        "start_time": "2021-11-15T14:02:43.354Z"
      },
      {
        "duration": 7,
        "start_time": "2021-11-15T14:02:43.370Z"
      },
      {
        "duration": 11,
        "start_time": "2021-11-15T14:02:43.379Z"
      },
      {
        "duration": 37,
        "start_time": "2021-11-15T14:02:43.392Z"
      },
      {
        "duration": 30,
        "start_time": "2021-11-15T14:02:43.431Z"
      },
      {
        "duration": 6,
        "start_time": "2021-11-15T14:02:43.466Z"
      },
      {
        "duration": 34,
        "start_time": "2021-11-15T14:02:43.474Z"
      },
      {
        "duration": 36,
        "start_time": "2021-11-15T14:02:43.510Z"
      },
      {
        "duration": 18,
        "start_time": "2021-11-15T14:02:43.548Z"
      },
      {
        "duration": 868,
        "start_time": "2021-11-15T14:02:43.569Z"
      },
      {
        "duration": 8,
        "start_time": "2021-11-15T14:02:44.433Z"
      },
      {
        "duration": 8,
        "start_time": "2021-11-15T14:02:44.434Z"
      },
      {
        "duration": 9,
        "start_time": "2021-11-15T14:02:44.436Z"
      },
      {
        "duration": 6,
        "start_time": "2021-11-15T14:06:30.119Z"
      },
      {
        "duration": 1129,
        "start_time": "2021-11-15T14:06:31.834Z"
      },
      {
        "duration": 753,
        "start_time": "2021-11-15T14:06:59.860Z"
      },
      {
        "duration": 1520,
        "start_time": "2021-11-15T14:17:03.900Z"
      },
      {
        "duration": 517,
        "start_time": "2021-11-15T14:17:05.422Z"
      },
      {
        "duration": 19,
        "start_time": "2021-11-15T14:17:05.942Z"
      },
      {
        "duration": 19,
        "start_time": "2021-11-15T14:17:05.964Z"
      },
      {
        "duration": 26,
        "start_time": "2021-11-15T14:17:05.985Z"
      },
      {
        "duration": 48,
        "start_time": "2021-11-15T14:17:06.013Z"
      },
      {
        "duration": 12,
        "start_time": "2021-11-15T14:17:06.064Z"
      },
      {
        "duration": 30,
        "start_time": "2021-11-15T14:17:06.080Z"
      },
      {
        "duration": 40,
        "start_time": "2021-11-15T14:17:06.113Z"
      },
      {
        "duration": 30,
        "start_time": "2021-11-15T14:17:06.155Z"
      },
      {
        "duration": 45,
        "start_time": "2021-11-15T14:17:06.187Z"
      },
      {
        "duration": 190,
        "start_time": "2021-11-15T14:17:06.234Z"
      },
      {
        "duration": 11,
        "start_time": "2021-11-15T14:17:06.426Z"
      },
      {
        "duration": 75,
        "start_time": "2021-11-15T14:17:06.439Z"
      },
      {
        "duration": 53,
        "start_time": "2021-11-15T14:17:06.517Z"
      },
      {
        "duration": 64,
        "start_time": "2021-11-15T14:17:06.573Z"
      },
      {
        "duration": 12,
        "start_time": "2021-11-15T14:17:06.640Z"
      },
      {
        "duration": 48,
        "start_time": "2021-11-15T14:17:06.655Z"
      },
      {
        "duration": 24,
        "start_time": "2021-11-15T14:17:06.705Z"
      },
      {
        "duration": 29,
        "start_time": "2021-11-15T14:17:06.732Z"
      },
      {
        "duration": 27,
        "start_time": "2021-11-15T14:17:06.764Z"
      },
      {
        "duration": 43,
        "start_time": "2021-11-15T14:17:06.793Z"
      },
      {
        "duration": 12,
        "start_time": "2021-11-15T14:17:06.842Z"
      },
      {
        "duration": 28,
        "start_time": "2021-11-15T14:17:06.857Z"
      },
      {
        "duration": 37,
        "start_time": "2021-11-15T14:17:06.888Z"
      },
      {
        "duration": 22,
        "start_time": "2021-11-15T14:17:06.928Z"
      },
      {
        "duration": 29,
        "start_time": "2021-11-15T14:17:06.953Z"
      },
      {
        "duration": 717,
        "start_time": "2021-11-15T14:17:06.985Z"
      },
      {
        "duration": 90,
        "start_time": "2021-11-15T14:17:07.614Z"
      },
      {
        "duration": 91,
        "start_time": "2021-11-15T14:17:07.615Z"
      },
      {
        "duration": 91,
        "start_time": "2021-11-15T14:17:07.616Z"
      },
      {
        "duration": 310,
        "start_time": "2021-11-15T14:17:53.063Z"
      },
      {
        "duration": 7,
        "start_time": "2021-11-15T14:18:50.992Z"
      },
      {
        "duration": 169,
        "start_time": "2021-11-15T14:18:51.753Z"
      },
      {
        "duration": 8,
        "start_time": "2021-11-15T14:19:16.050Z"
      },
      {
        "duration": 334,
        "start_time": "2021-11-15T14:19:27.195Z"
      },
      {
        "duration": 12,
        "start_time": "2021-11-15T14:19:49.315Z"
      },
      {
        "duration": 21,
        "start_time": "2021-11-15T14:19:50.255Z"
      },
      {
        "duration": 104,
        "start_time": "2021-11-15T14:20:28.958Z"
      },
      {
        "duration": 8,
        "start_time": "2021-11-15T14:20:39.401Z"
      },
      {
        "duration": 197,
        "start_time": "2021-11-15T14:20:48.285Z"
      },
      {
        "duration": 197,
        "start_time": "2021-11-15T14:20:57.823Z"
      },
      {
        "duration": 202,
        "start_time": "2021-11-15T14:21:18.000Z"
      },
      {
        "duration": 214,
        "start_time": "2021-11-15T14:21:23.578Z"
      },
      {
        "duration": 10,
        "start_time": "2021-11-15T14:22:11.965Z"
      },
      {
        "duration": 10,
        "start_time": "2021-11-15T14:22:41.249Z"
      },
      {
        "duration": 600,
        "start_time": "2021-11-15T14:22:42.559Z"
      },
      {
        "duration": 10,
        "start_time": "2021-11-15T14:23:02.909Z"
      },
      {
        "duration": 600,
        "start_time": "2021-11-15T14:23:04.651Z"
      },
      {
        "duration": 16,
        "start_time": "2021-11-15T14:23:52.617Z"
      },
      {
        "duration": 655,
        "start_time": "2021-11-15T14:23:53.515Z"
      },
      {
        "duration": 15,
        "start_time": "2021-11-15T14:24:43.207Z"
      },
      {
        "duration": 752,
        "start_time": "2021-11-15T14:24:44.621Z"
      },
      {
        "duration": 11,
        "start_time": "2021-11-15T14:25:44.321Z"
      },
      {
        "duration": 726,
        "start_time": "2021-11-15T14:25:45.335Z"
      },
      {
        "duration": 1826,
        "start_time": "2021-11-15T14:26:24.959Z"
      },
      {
        "duration": 763,
        "start_time": "2021-11-15T14:26:26.789Z"
      },
      {
        "duration": 18,
        "start_time": "2021-11-15T14:26:27.555Z"
      },
      {
        "duration": 14,
        "start_time": "2021-11-15T14:26:27.576Z"
      },
      {
        "duration": 12,
        "start_time": "2021-11-15T14:26:27.593Z"
      },
      {
        "duration": 46,
        "start_time": "2021-11-15T14:26:27.608Z"
      },
      {
        "duration": 14,
        "start_time": "2021-11-15T14:26:27.658Z"
      },
      {
        "duration": 18,
        "start_time": "2021-11-15T14:26:27.674Z"
      },
      {
        "duration": 47,
        "start_time": "2021-11-15T14:26:27.696Z"
      },
      {
        "duration": 25,
        "start_time": "2021-11-15T14:26:27.747Z"
      },
      {
        "duration": 26,
        "start_time": "2021-11-15T14:26:27.774Z"
      },
      {
        "duration": 227,
        "start_time": "2021-11-15T14:26:27.803Z"
      },
      {
        "duration": 17,
        "start_time": "2021-11-15T14:26:28.033Z"
      },
      {
        "duration": 81,
        "start_time": "2021-11-15T14:26:28.054Z"
      },
      {
        "duration": 50,
        "start_time": "2021-11-15T14:26:28.139Z"
      },
      {
        "duration": 81,
        "start_time": "2021-11-15T14:26:28.192Z"
      },
      {
        "duration": 13,
        "start_time": "2021-11-15T14:26:28.276Z"
      },
      {
        "duration": 15,
        "start_time": "2021-11-15T14:26:28.292Z"
      },
      {
        "duration": 30,
        "start_time": "2021-11-15T14:26:28.310Z"
      },
      {
        "duration": 14,
        "start_time": "2021-11-15T14:26:28.344Z"
      },
      {
        "duration": 12,
        "start_time": "2021-11-15T14:26:28.361Z"
      },
      {
        "duration": 24,
        "start_time": "2021-11-15T14:26:28.375Z"
      },
      {
        "duration": 35,
        "start_time": "2021-11-15T14:26:28.402Z"
      },
      {
        "duration": 35,
        "start_time": "2021-11-15T14:26:28.440Z"
      },
      {
        "duration": 10,
        "start_time": "2021-11-15T14:26:28.478Z"
      },
      {
        "duration": 650,
        "start_time": "2021-11-15T14:26:28.491Z"
      },
      {
        "duration": 11,
        "start_time": "2021-11-15T14:26:29.149Z"
      },
      {
        "duration": 12,
        "start_time": "2021-11-15T14:31:00.976Z"
      },
      {
        "duration": 10,
        "start_time": "2021-11-15T14:33:55.799Z"
      },
      {
        "duration": 814,
        "start_time": "2021-11-15T14:34:04.973Z"
      },
      {
        "duration": 11,
        "start_time": "2021-11-15T14:35:25.402Z"
      },
      {
        "duration": 602,
        "start_time": "2021-11-15T14:35:26.601Z"
      },
      {
        "duration": 575,
        "start_time": "2021-11-15T14:35:48.323Z"
      },
      {
        "duration": 10,
        "start_time": "2021-11-15T14:37:11.043Z"
      },
      {
        "duration": 581,
        "start_time": "2021-11-15T14:37:11.962Z"
      },
      {
        "duration": 17,
        "start_time": "2021-11-15T14:37:49.865Z"
      },
      {
        "duration": 11,
        "start_time": "2021-11-15T14:38:28.665Z"
      },
      {
        "duration": 620,
        "start_time": "2021-11-15T14:38:30.480Z"
      },
      {
        "duration": 10,
        "start_time": "2021-11-15T14:39:44.750Z"
      },
      {
        "duration": 600,
        "start_time": "2021-11-15T14:39:46.956Z"
      },
      {
        "duration": 1434,
        "start_time": "2021-11-15T14:41:19.485Z"
      },
      {
        "duration": 520,
        "start_time": "2021-11-15T14:41:20.922Z"
      },
      {
        "duration": 20,
        "start_time": "2021-11-15T14:41:21.445Z"
      },
      {
        "duration": 12,
        "start_time": "2021-11-15T14:41:21.467Z"
      },
      {
        "duration": 19,
        "start_time": "2021-11-15T14:41:21.482Z"
      },
      {
        "duration": 43,
        "start_time": "2021-11-15T14:41:21.503Z"
      },
      {
        "duration": 13,
        "start_time": "2021-11-15T14:41:21.548Z"
      },
      {
        "duration": 21,
        "start_time": "2021-11-15T14:41:21.565Z"
      },
      {
        "duration": 19,
        "start_time": "2021-11-15T14:41:21.589Z"
      },
      {
        "duration": 12,
        "start_time": "2021-11-15T14:41:21.630Z"
      },
      {
        "duration": 23,
        "start_time": "2021-11-15T14:41:21.645Z"
      },
      {
        "duration": 213,
        "start_time": "2021-11-15T14:41:21.670Z"
      },
      {
        "duration": 11,
        "start_time": "2021-11-15T14:41:21.886Z"
      },
      {
        "duration": 78,
        "start_time": "2021-11-15T14:41:21.900Z"
      },
      {
        "duration": 60,
        "start_time": "2021-11-15T14:41:21.980Z"
      },
      {
        "duration": 48,
        "start_time": "2021-11-15T14:41:22.043Z"
      },
      {
        "duration": 12,
        "start_time": "2021-11-15T14:41:22.094Z"
      },
      {
        "duration": 12,
        "start_time": "2021-11-15T14:41:22.130Z"
      },
      {
        "duration": 21,
        "start_time": "2021-11-15T14:41:22.145Z"
      },
      {
        "duration": 34,
        "start_time": "2021-11-15T14:41:22.169Z"
      },
      {
        "duration": 21,
        "start_time": "2021-11-15T14:41:22.206Z"
      },
      {
        "duration": 25,
        "start_time": "2021-11-15T14:41:22.230Z"
      },
      {
        "duration": 13,
        "start_time": "2021-11-15T14:41:22.259Z"
      },
      {
        "duration": 26,
        "start_time": "2021-11-15T14:41:22.274Z"
      },
      {
        "duration": 32,
        "start_time": "2021-11-15T14:41:22.303Z"
      },
      {
        "duration": 17,
        "start_time": "2021-11-15T14:41:22.339Z"
      },
      {
        "duration": 12,
        "start_time": "2021-11-15T14:41:22.359Z"
      },
      {
        "duration": 737,
        "start_time": "2021-11-15T14:41:22.374Z"
      },
      {
        "duration": 569,
        "start_time": "2021-11-15T14:41:34.392Z"
      },
      {
        "duration": 11,
        "start_time": "2021-11-15T14:42:13.430Z"
      },
      {
        "duration": 11,
        "start_time": "2021-11-15T14:42:14.135Z"
      },
      {
        "duration": 10,
        "start_time": "2021-11-15T14:42:15.312Z"
      },
      {
        "duration": 668,
        "start_time": "2021-11-15T14:42:16.240Z"
      },
      {
        "duration": 11,
        "start_time": "2021-11-15T14:43:15.035Z"
      },
      {
        "duration": 12,
        "start_time": "2021-11-15T14:43:15.901Z"
      },
      {
        "duration": 10,
        "start_time": "2021-11-15T14:43:18.581Z"
      },
      {
        "duration": 592,
        "start_time": "2021-11-15T14:43:20.113Z"
      },
      {
        "duration": 10,
        "start_time": "2021-11-15T14:43:59.985Z"
      },
      {
        "duration": 12,
        "start_time": "2021-11-15T14:44:01.554Z"
      },
      {
        "duration": 9,
        "start_time": "2021-11-15T14:44:02.090Z"
      },
      {
        "duration": 587,
        "start_time": "2021-11-15T14:44:02.526Z"
      },
      {
        "duration": 11,
        "start_time": "2021-11-15T14:45:30.535Z"
      },
      {
        "duration": 12,
        "start_time": "2021-11-15T14:45:31.268Z"
      },
      {
        "duration": 10,
        "start_time": "2021-11-15T14:45:31.943Z"
      },
      {
        "duration": 569,
        "start_time": "2021-11-15T14:45:32.462Z"
      },
      {
        "duration": 33,
        "start_time": "2021-11-15T14:52:10.266Z"
      },
      {
        "duration": 31,
        "start_time": "2021-11-15T14:54:18.248Z"
      },
      {
        "duration": 10,
        "start_time": "2021-11-15T14:54:55.741Z"
      },
      {
        "duration": 28,
        "start_time": "2021-11-15T14:55:38.208Z"
      },
      {
        "duration": 26,
        "start_time": "2021-11-15T14:55:53.794Z"
      },
      {
        "duration": 21,
        "start_time": "2021-11-15T14:56:35.426Z"
      },
      {
        "duration": 25,
        "start_time": "2021-11-15T14:57:25.143Z"
      },
      {
        "duration": 22,
        "start_time": "2021-11-15T14:57:32.710Z"
      },
      {
        "duration": 18,
        "start_time": "2021-11-15T15:02:40.924Z"
      },
      {
        "duration": 17,
        "start_time": "2021-11-15T15:03:20.838Z"
      },
      {
        "duration": 38,
        "start_time": "2021-11-15T15:04:43.321Z"
      },
      {
        "duration": 328,
        "start_time": "2021-11-15T15:07:26.010Z"
      },
      {
        "duration": 282,
        "start_time": "2021-11-15T15:07:34.388Z"
      },
      {
        "duration": 283,
        "start_time": "2021-11-15T15:07:49.150Z"
      },
      {
        "duration": 285,
        "start_time": "2021-11-15T15:07:57.833Z"
      },
      {
        "duration": 278,
        "start_time": "2021-11-15T15:08:38.585Z"
      },
      {
        "duration": 302,
        "start_time": "2021-11-15T15:09:06.755Z"
      },
      {
        "duration": 1431,
        "start_time": "2021-11-15T15:09:14.778Z"
      },
      {
        "duration": 535,
        "start_time": "2021-11-15T15:09:16.213Z"
      },
      {
        "duration": 21,
        "start_time": "2021-11-15T15:09:16.752Z"
      },
      {
        "duration": 20,
        "start_time": "2021-11-15T15:09:16.776Z"
      },
      {
        "duration": 34,
        "start_time": "2021-11-15T15:09:16.799Z"
      },
      {
        "duration": 41,
        "start_time": "2021-11-15T15:09:16.836Z"
      },
      {
        "duration": 12,
        "start_time": "2021-11-15T15:09:16.880Z"
      },
      {
        "duration": 46,
        "start_time": "2021-11-15T15:09:16.896Z"
      },
      {
        "duration": 36,
        "start_time": "2021-11-15T15:09:16.946Z"
      },
      {
        "duration": 20,
        "start_time": "2021-11-15T15:09:16.985Z"
      },
      {
        "duration": 37,
        "start_time": "2021-11-15T15:09:17.008Z"
      },
      {
        "duration": 188,
        "start_time": "2021-11-15T15:09:17.048Z"
      },
      {
        "duration": 11,
        "start_time": "2021-11-15T15:09:17.239Z"
      },
      {
        "duration": 77,
        "start_time": "2021-11-15T15:09:17.253Z"
      },
      {
        "duration": 47,
        "start_time": "2021-11-15T15:09:17.332Z"
      },
      {
        "duration": 68,
        "start_time": "2021-11-15T15:09:17.382Z"
      },
      {
        "duration": 12,
        "start_time": "2021-11-15T15:09:17.453Z"
      },
      {
        "duration": 23,
        "start_time": "2021-11-15T15:09:17.467Z"
      },
      {
        "duration": 8,
        "start_time": "2021-11-15T15:09:17.493Z"
      },
      {
        "duration": 28,
        "start_time": "2021-11-15T15:09:17.503Z"
      },
      {
        "duration": 30,
        "start_time": "2021-11-15T15:09:17.533Z"
      },
      {
        "duration": 12,
        "start_time": "2021-11-15T15:09:17.565Z"
      },
      {
        "duration": 610,
        "start_time": "2021-11-15T15:09:17.581Z"
      },
      {
        "duration": 19,
        "start_time": "2021-11-15T15:09:18.194Z"
      },
      {
        "duration": 39,
        "start_time": "2021-11-15T15:09:18.228Z"
      },
      {
        "duration": 3,
        "start_time": "2021-11-15T15:09:18.270Z"
      },
      {
        "duration": 421,
        "start_time": "2021-11-15T15:09:18.275Z"
      },
      {
        "duration": 298,
        "start_time": "2021-11-15T15:11:56.611Z"
      },
      {
        "duration": 304,
        "start_time": "2021-11-15T15:12:06.606Z"
      },
      {
        "duration": 283,
        "start_time": "2021-11-15T15:12:43.034Z"
      },
      {
        "duration": 274,
        "start_time": "2021-11-15T15:12:55.254Z"
      },
      {
        "duration": 296,
        "start_time": "2021-11-15T15:15:24.780Z"
      },
      {
        "duration": 303,
        "start_time": "2021-11-15T15:15:31.749Z"
      },
      {
        "duration": 303,
        "start_time": "2021-11-15T15:15:39.896Z"
      },
      {
        "duration": 1475,
        "start_time": "2021-11-15T15:17:54.427Z"
      },
      {
        "duration": 520,
        "start_time": "2021-11-15T15:17:55.905Z"
      },
      {
        "duration": 19,
        "start_time": "2021-11-15T15:17:56.428Z"
      },
      {
        "duration": 11,
        "start_time": "2021-11-15T15:17:56.449Z"
      },
      {
        "duration": 15,
        "start_time": "2021-11-15T15:17:56.462Z"
      },
      {
        "duration": 56,
        "start_time": "2021-11-15T15:17:56.480Z"
      },
      {
        "duration": 11,
        "start_time": "2021-11-15T15:17:56.538Z"
      },
      {
        "duration": 11,
        "start_time": "2021-11-15T15:17:56.553Z"
      },
      {
        "duration": 20,
        "start_time": "2021-11-15T15:17:56.566Z"
      },
      {
        "duration": 48,
        "start_time": "2021-11-15T15:17:56.588Z"
      },
      {
        "duration": 30,
        "start_time": "2021-11-15T15:17:56.638Z"
      },
      {
        "duration": 200,
        "start_time": "2021-11-15T15:17:56.672Z"
      },
      {
        "duration": 12,
        "start_time": "2021-11-15T15:17:56.875Z"
      },
      {
        "duration": 78,
        "start_time": "2021-11-15T15:17:56.889Z"
      },
      {
        "duration": 46,
        "start_time": "2021-11-15T15:17:56.969Z"
      },
      {
        "duration": 47,
        "start_time": "2021-11-15T15:17:57.030Z"
      },
      {
        "duration": 15,
        "start_time": "2021-11-15T15:17:57.080Z"
      },
      {
        "duration": 45,
        "start_time": "2021-11-15T15:17:57.098Z"
      },
      {
        "duration": 8,
        "start_time": "2021-11-15T15:17:57.146Z"
      },
      {
        "duration": 16,
        "start_time": "2021-11-15T15:17:57.157Z"
      },
      {
        "duration": 13,
        "start_time": "2021-11-15T15:17:57.176Z"
      },
      {
        "duration": 11,
        "start_time": "2021-11-15T15:17:57.192Z"
      },
      {
        "duration": 562,
        "start_time": "2021-11-15T15:17:57.234Z"
      },
      {
        "duration": 31,
        "start_time": "2021-11-15T15:17:57.798Z"
      },
      {
        "duration": 40,
        "start_time": "2021-11-15T15:17:57.831Z"
      },
      {
        "duration": 3,
        "start_time": "2021-11-15T15:17:57.873Z"
      },
      {
        "duration": 430,
        "start_time": "2021-11-15T15:17:57.878Z"
      },
      {
        "duration": 280,
        "start_time": "2021-11-15T15:18:45.433Z"
      },
      {
        "duration": 258,
        "start_time": "2021-11-15T15:19:13.781Z"
      },
      {
        "duration": 306,
        "start_time": "2021-11-15T15:19:33.211Z"
      },
      {
        "duration": 312,
        "start_time": "2021-11-15T15:20:35.219Z"
      },
      {
        "duration": 290,
        "start_time": "2021-11-15T15:21:32.434Z"
      },
      {
        "duration": 300,
        "start_time": "2021-11-15T15:21:58.411Z"
      },
      {
        "duration": 300,
        "start_time": "2021-11-15T15:22:40.494Z"
      },
      {
        "duration": 462,
        "start_time": "2021-11-15T15:24:50.493Z"
      },
      {
        "duration": 288,
        "start_time": "2021-11-15T15:25:02.350Z"
      },
      {
        "duration": 282,
        "start_time": "2021-11-15T15:25:14.011Z"
      },
      {
        "duration": 31,
        "start_time": "2021-11-15T15:26:42.083Z"
      },
      {
        "duration": 308,
        "start_time": "2021-11-15T15:27:12.233Z"
      },
      {
        "duration": 4,
        "start_time": "2021-11-15T15:27:29.548Z"
      },
      {
        "duration": 9,
        "start_time": "2021-11-15T15:27:36.847Z"
      },
      {
        "duration": 9,
        "start_time": "2021-11-15T15:28:54.592Z"
      },
      {
        "duration": 13,
        "start_time": "2021-11-15T15:30:45.109Z"
      },
      {
        "duration": 13,
        "start_time": "2021-11-15T15:30:53.711Z"
      },
      {
        "duration": 8,
        "start_time": "2021-11-15T15:32:50.361Z"
      },
      {
        "duration": 8,
        "start_time": "2021-11-15T15:33:14.001Z"
      },
      {
        "duration": 11,
        "start_time": "2021-11-15T15:33:26.987Z"
      },
      {
        "duration": 8,
        "start_time": "2021-11-15T15:33:35.423Z"
      },
      {
        "duration": 11,
        "start_time": "2021-11-15T15:34:29.119Z"
      },
      {
        "duration": 8,
        "start_time": "2021-11-15T15:34:32.404Z"
      },
      {
        "duration": 12,
        "start_time": "2021-11-15T15:34:51.990Z"
      },
      {
        "duration": 10,
        "start_time": "2021-11-15T15:34:53.831Z"
      },
      {
        "duration": 7,
        "start_time": "2021-11-15T15:35:54.402Z"
      },
      {
        "duration": 7,
        "start_time": "2021-11-15T15:36:02.434Z"
      },
      {
        "duration": 18,
        "start_time": "2021-11-15T15:37:02.516Z"
      },
      {
        "duration": 1505,
        "start_time": "2021-11-15T15:38:24.394Z"
      },
      {
        "duration": 515,
        "start_time": "2021-11-15T15:38:25.901Z"
      },
      {
        "duration": 18,
        "start_time": "2021-11-15T15:38:26.419Z"
      },
      {
        "duration": 17,
        "start_time": "2021-11-15T15:38:26.440Z"
      },
      {
        "duration": 19,
        "start_time": "2021-11-15T15:38:26.459Z"
      },
      {
        "duration": 35,
        "start_time": "2021-11-15T15:38:26.480Z"
      },
      {
        "duration": 15,
        "start_time": "2021-11-15T15:38:26.517Z"
      },
      {
        "duration": 15,
        "start_time": "2021-11-15T15:38:26.536Z"
      },
      {
        "duration": 26,
        "start_time": "2021-11-15T15:38:26.554Z"
      },
      {
        "duration": 11,
        "start_time": "2021-11-15T15:38:26.583Z"
      },
      {
        "duration": 55,
        "start_time": "2021-11-15T15:38:26.596Z"
      },
      {
        "duration": 189,
        "start_time": "2021-11-15T15:38:26.653Z"
      },
      {
        "duration": 11,
        "start_time": "2021-11-15T15:38:26.845Z"
      },
      {
        "duration": 81,
        "start_time": "2021-11-15T15:38:26.858Z"
      },
      {
        "duration": 45,
        "start_time": "2021-11-15T15:38:26.942Z"
      },
      {
        "duration": 71,
        "start_time": "2021-11-15T15:38:26.990Z"
      },
      {
        "duration": 12,
        "start_time": "2021-11-15T15:38:27.063Z"
      },
      {
        "duration": 20,
        "start_time": "2021-11-15T15:38:27.078Z"
      },
      {
        "duration": 29,
        "start_time": "2021-11-15T15:38:27.100Z"
      },
      {
        "duration": 7,
        "start_time": "2021-11-15T15:38:27.131Z"
      },
      {
        "duration": 17,
        "start_time": "2021-11-15T15:38:27.141Z"
      },
      {
        "duration": 12,
        "start_time": "2021-11-15T15:38:27.161Z"
      },
      {
        "duration": 602,
        "start_time": "2021-11-15T15:38:27.180Z"
      },
      {
        "duration": 50,
        "start_time": "2021-11-15T15:38:27.786Z"
      },
      {
        "duration": 18,
        "start_time": "2021-11-15T15:38:27.839Z"
      },
      {
        "duration": 48,
        "start_time": "2021-11-15T15:38:27.860Z"
      },
      {
        "duration": 7,
        "start_time": "2021-11-15T15:38:27.930Z"
      },
      {
        "duration": 9,
        "start_time": "2021-11-15T15:38:27.940Z"
      },
      {
        "duration": 323,
        "start_time": "2021-11-15T15:38:27.951Z"
      },
      {
        "duration": 293,
        "start_time": "2021-11-15T15:38:28.277Z"
      },
      {
        "duration": 306,
        "start_time": "2021-11-15T15:38:28.572Z"
      },
      {
        "duration": 7,
        "start_time": "2021-11-15T15:40:42.868Z"
      },
      {
        "duration": 11,
        "start_time": "2021-11-15T15:40:56.539Z"
      },
      {
        "duration": 1462,
        "start_time": "2021-11-15T15:41:45.749Z"
      },
      {
        "duration": 524,
        "start_time": "2021-11-15T15:41:47.214Z"
      },
      {
        "duration": 18,
        "start_time": "2021-11-15T15:41:47.741Z"
      },
      {
        "duration": 12,
        "start_time": "2021-11-15T15:41:47.762Z"
      },
      {
        "duration": 14,
        "start_time": "2021-11-15T15:41:47.776Z"
      },
      {
        "duration": 58,
        "start_time": "2021-11-15T15:41:47.792Z"
      },
      {
        "duration": 10,
        "start_time": "2021-11-15T15:41:47.852Z"
      },
      {
        "duration": 13,
        "start_time": "2021-11-15T15:41:47.866Z"
      },
      {
        "duration": 22,
        "start_time": "2021-11-15T15:41:47.882Z"
      },
      {
        "duration": 11,
        "start_time": "2021-11-15T15:41:47.930Z"
      },
      {
        "duration": 24,
        "start_time": "2021-11-15T15:41:47.944Z"
      },
      {
        "duration": 249,
        "start_time": "2021-11-15T15:41:47.970Z"
      },
      {
        "duration": 17,
        "start_time": "2021-11-15T15:41:48.222Z"
      },
      {
        "duration": 60,
        "start_time": "2021-11-15T15:41:48.242Z"
      },
      {
        "duration": 66,
        "start_time": "2021-11-15T15:41:48.304Z"
      },
      {
        "duration": 71,
        "start_time": "2021-11-15T15:41:48.373Z"
      },
      {
        "duration": 12,
        "start_time": "2021-11-15T15:41:48.446Z"
      },
      {
        "duration": 12,
        "start_time": "2021-11-15T15:41:48.461Z"
      },
      {
        "duration": 7,
        "start_time": "2021-11-15T15:41:48.475Z"
      },
      {
        "duration": 21,
        "start_time": "2021-11-15T15:41:48.484Z"
      },
      {
        "duration": 30,
        "start_time": "2021-11-15T15:41:48.508Z"
      },
      {
        "duration": 23,
        "start_time": "2021-11-15T15:41:48.540Z"
      },
      {
        "duration": 12,
        "start_time": "2021-11-15T15:41:48.567Z"
      },
      {
        "duration": 607,
        "start_time": "2021-11-15T15:41:48.581Z"
      },
      {
        "duration": 55,
        "start_time": "2021-11-15T15:41:49.190Z"
      },
      {
        "duration": 17,
        "start_time": "2021-11-15T15:41:49.247Z"
      },
      {
        "duration": 62,
        "start_time": "2021-11-15T15:41:49.267Z"
      },
      {
        "duration": 6,
        "start_time": "2021-11-15T15:41:49.331Z"
      },
      {
        "duration": 15,
        "start_time": "2021-11-15T15:41:49.340Z"
      },
      {
        "duration": 310,
        "start_time": "2021-11-15T15:41:49.357Z"
      },
      {
        "duration": 316,
        "start_time": "2021-11-15T15:41:49.670Z"
      },
      {
        "duration": 328,
        "start_time": "2021-11-15T15:41:49.988Z"
      },
      {
        "duration": 1449,
        "start_time": "2021-11-15T15:42:16.061Z"
      },
      {
        "duration": 533,
        "start_time": "2021-11-15T15:42:17.512Z"
      },
      {
        "duration": 25,
        "start_time": "2021-11-15T15:42:18.048Z"
      },
      {
        "duration": 13,
        "start_time": "2021-11-15T15:42:18.077Z"
      },
      {
        "duration": 26,
        "start_time": "2021-11-15T15:42:18.093Z"
      },
      {
        "duration": 35,
        "start_time": "2021-11-15T15:42:18.128Z"
      },
      {
        "duration": 29,
        "start_time": "2021-11-15T15:42:18.166Z"
      },
      {
        "duration": 22,
        "start_time": "2021-11-15T15:42:18.201Z"
      },
      {
        "duration": 42,
        "start_time": "2021-11-15T15:42:18.229Z"
      },
      {
        "duration": 50,
        "start_time": "2021-11-15T15:42:18.274Z"
      },
      {
        "duration": 26,
        "start_time": "2021-11-15T15:42:18.341Z"
      },
      {
        "duration": 194,
        "start_time": "2021-11-15T15:42:18.370Z"
      },
      {
        "duration": 11,
        "start_time": "2021-11-15T15:42:18.566Z"
      },
      {
        "duration": 83,
        "start_time": "2021-11-15T15:42:18.580Z"
      },
      {
        "duration": 83,
        "start_time": "2021-11-15T15:42:18.666Z"
      },
      {
        "duration": 80,
        "start_time": "2021-11-15T15:42:18.752Z"
      },
      {
        "duration": 14,
        "start_time": "2021-11-15T15:42:18.835Z"
      },
      {
        "duration": 488,
        "start_time": "2021-11-15T15:42:18.852Z"
      },
      {
        "duration": 12,
        "start_time": "2021-11-15T15:42:19.331Z"
      },
      {
        "duration": 6,
        "start_time": "2021-11-15T15:42:19.338Z"
      },
      {
        "duration": 6,
        "start_time": "2021-11-15T15:42:19.340Z"
      },
      {
        "duration": 7,
        "start_time": "2021-11-15T15:42:19.341Z"
      },
      {
        "duration": 7,
        "start_time": "2021-11-15T15:42:19.342Z"
      },
      {
        "duration": 7,
        "start_time": "2021-11-15T15:42:19.343Z"
      },
      {
        "duration": 8,
        "start_time": "2021-11-15T15:42:19.344Z"
      },
      {
        "duration": 8,
        "start_time": "2021-11-15T15:42:19.345Z"
      },
      {
        "duration": 3,
        "start_time": "2021-11-15T15:42:19.351Z"
      },
      {
        "duration": 4,
        "start_time": "2021-11-15T15:42:19.352Z"
      },
      {
        "duration": 4,
        "start_time": "2021-11-15T15:42:19.353Z"
      },
      {
        "duration": 4,
        "start_time": "2021-11-15T15:42:19.354Z"
      },
      {
        "duration": 5,
        "start_time": "2021-11-15T15:42:19.355Z"
      },
      {
        "duration": 4,
        "start_time": "2021-11-15T15:42:19.357Z"
      },
      {
        "duration": 0,
        "start_time": "2021-11-15T15:42:19.362Z"
      },
      {
        "duration": 10,
        "start_time": "2021-11-15T15:43:00.942Z"
      },
      {
        "duration": 15,
        "start_time": "2021-11-15T15:44:59.261Z"
      },
      {
        "duration": 9,
        "start_time": "2021-11-15T15:45:13.895Z"
      },
      {
        "duration": 10,
        "start_time": "2021-11-15T15:45:21.789Z"
      },
      {
        "duration": 10,
        "start_time": "2021-11-15T15:45:43.060Z"
      },
      {
        "duration": 9,
        "start_time": "2021-11-15T15:50:36.137Z"
      },
      {
        "duration": 12,
        "start_time": "2021-11-15T15:51:55.120Z"
      },
      {
        "duration": 13,
        "start_time": "2021-11-15T15:52:19.843Z"
      },
      {
        "duration": 13,
        "start_time": "2021-11-15T15:52:30.477Z"
      },
      {
        "duration": 15,
        "start_time": "2021-11-15T15:52:39.680Z"
      },
      {
        "duration": 13,
        "start_time": "2021-11-15T15:52:47.356Z"
      },
      {
        "duration": 11,
        "start_time": "2021-11-15T15:52:55.113Z"
      },
      {
        "duration": 14,
        "start_time": "2021-11-15T15:53:00.264Z"
      },
      {
        "duration": 16,
        "start_time": "2021-11-15T15:54:08.061Z"
      },
      {
        "duration": 14,
        "start_time": "2021-11-15T15:54:23.875Z"
      },
      {
        "duration": 13,
        "start_time": "2021-11-15T15:54:39.547Z"
      },
      {
        "duration": 13,
        "start_time": "2021-11-15T15:54:48.264Z"
      },
      {
        "duration": 1494,
        "start_time": "2021-11-15T15:56:20.104Z"
      },
      {
        "duration": 525,
        "start_time": "2021-11-15T15:56:21.601Z"
      },
      {
        "duration": 20,
        "start_time": "2021-11-15T15:56:22.129Z"
      },
      {
        "duration": 11,
        "start_time": "2021-11-15T15:56:22.152Z"
      },
      {
        "duration": 13,
        "start_time": "2021-11-15T15:56:22.166Z"
      },
      {
        "duration": 60,
        "start_time": "2021-11-15T15:56:22.181Z"
      },
      {
        "duration": 11,
        "start_time": "2021-11-15T15:56:22.243Z"
      },
      {
        "duration": 10,
        "start_time": "2021-11-15T15:56:22.258Z"
      },
      {
        "duration": 19,
        "start_time": "2021-11-15T15:56:22.271Z"
      },
      {
        "duration": 45,
        "start_time": "2021-11-15T15:56:22.292Z"
      },
      {
        "duration": 32,
        "start_time": "2021-11-15T15:56:22.339Z"
      },
      {
        "duration": 204,
        "start_time": "2021-11-15T15:56:22.373Z"
      },
      {
        "duration": 11,
        "start_time": "2021-11-15T15:56:22.580Z"
      },
      {
        "duration": 76,
        "start_time": "2021-11-15T15:56:22.594Z"
      },
      {
        "duration": 58,
        "start_time": "2021-11-15T15:56:22.673Z"
      },
      {
        "duration": 46,
        "start_time": "2021-11-15T15:56:22.734Z"
      },
      {
        "duration": 14,
        "start_time": "2021-11-15T15:56:22.783Z"
      },
      {
        "duration": 33,
        "start_time": "2021-11-15T15:56:22.799Z"
      },
      {
        "duration": 16,
        "start_time": "2021-11-15T15:56:22.834Z"
      },
      {
        "duration": 8,
        "start_time": "2021-11-15T15:56:22.852Z"
      },
      {
        "duration": 11,
        "start_time": "2021-11-15T15:56:22.863Z"
      },
      {
        "duration": 15,
        "start_time": "2021-11-15T15:56:22.877Z"
      },
      {
        "duration": 35,
        "start_time": "2021-11-15T15:56:22.898Z"
      },
      {
        "duration": 593,
        "start_time": "2021-11-15T15:56:22.936Z"
      },
      {
        "duration": 35,
        "start_time": "2021-11-15T15:56:23.531Z"
      },
      {
        "duration": 19,
        "start_time": "2021-11-15T15:56:23.569Z"
      },
      {
        "duration": 40,
        "start_time": "2021-11-15T15:56:23.590Z"
      },
      {
        "duration": 20,
        "start_time": "2021-11-15T15:56:23.632Z"
      },
      {
        "duration": 12,
        "start_time": "2021-11-15T15:56:23.655Z"
      },
      {
        "duration": 13,
        "start_time": "2021-11-15T15:56:23.669Z"
      },
      {
        "duration": 75,
        "start_time": "2021-11-15T15:56:23.684Z"
      },
      {
        "duration": 7,
        "start_time": "2021-11-15T15:56:23.761Z"
      },
      {
        "duration": 8,
        "start_time": "2021-11-15T15:56:23.770Z"
      },
      {
        "duration": 322,
        "start_time": "2021-11-15T15:56:23.780Z"
      },
      {
        "duration": 295,
        "start_time": "2021-11-15T15:56:24.104Z"
      },
      {
        "duration": 308,
        "start_time": "2021-11-15T15:56:24.401Z"
      },
      {
        "duration": 12,
        "start_time": "2021-11-15T15:56:40.283Z"
      },
      {
        "duration": 10,
        "start_time": "2021-11-15T15:56:52.962Z"
      },
      {
        "duration": 11,
        "start_time": "2021-11-15T15:57:10.049Z"
      },
      {
        "duration": 11,
        "start_time": "2021-11-15T15:57:13.110Z"
      },
      {
        "duration": 2218,
        "start_time": "2021-11-15T16:01:47.992Z"
      },
      {
        "duration": 12,
        "start_time": "2021-11-15T16:02:00.683Z"
      },
      {
        "duration": 338,
        "start_time": "2021-11-15T16:02:32.190Z"
      },
      {
        "duration": 374,
        "start_time": "2021-11-15T16:02:45.543Z"
      },
      {
        "duration": 351,
        "start_time": "2021-11-15T16:02:53.818Z"
      },
      {
        "duration": 354,
        "start_time": "2021-11-15T16:03:04.756Z"
      },
      {
        "duration": 293,
        "start_time": "2021-11-15T16:03:09.983Z"
      },
      {
        "duration": 274,
        "start_time": "2021-11-15T16:03:15.262Z"
      },
      {
        "duration": 288,
        "start_time": "2021-11-15T16:03:19.976Z"
      },
      {
        "duration": 11,
        "start_time": "2021-11-15T16:06:35.277Z"
      },
      {
        "duration": 557,
        "start_time": "2021-11-15T16:06:38.204Z"
      },
      {
        "duration": 4,
        "start_time": "2021-11-15T16:07:50.086Z"
      },
      {
        "duration": 13,
        "start_time": "2021-11-15T16:08:07.029Z"
      },
      {
        "duration": 600,
        "start_time": "2021-11-15T16:08:08.165Z"
      },
      {
        "duration": 10,
        "start_time": "2021-11-15T16:09:13.202Z"
      },
      {
        "duration": 558,
        "start_time": "2021-11-15T16:09:14.337Z"
      },
      {
        "duration": 11,
        "start_time": "2021-11-15T16:11:22.557Z"
      },
      {
        "duration": 566,
        "start_time": "2021-11-15T16:11:25.287Z"
      },
      {
        "duration": 1535,
        "start_time": "2021-11-15T16:12:02.372Z"
      },
      {
        "duration": 504,
        "start_time": "2021-11-15T16:12:03.910Z"
      },
      {
        "duration": 20,
        "start_time": "2021-11-15T16:12:04.417Z"
      },
      {
        "duration": 18,
        "start_time": "2021-11-15T16:12:04.439Z"
      },
      {
        "duration": 18,
        "start_time": "2021-11-15T16:12:04.459Z"
      },
      {
        "duration": 33,
        "start_time": "2021-11-15T16:12:04.479Z"
      },
      {
        "duration": 18,
        "start_time": "2021-11-15T16:12:04.515Z"
      },
      {
        "duration": 11,
        "start_time": "2021-11-15T16:12:04.537Z"
      },
      {
        "duration": 27,
        "start_time": "2021-11-15T16:12:04.551Z"
      },
      {
        "duration": 12,
        "start_time": "2021-11-15T16:12:04.581Z"
      },
      {
        "duration": 57,
        "start_time": "2021-11-15T16:12:04.596Z"
      },
      {
        "duration": 197,
        "start_time": "2021-11-15T16:12:04.656Z"
      },
      {
        "duration": 13,
        "start_time": "2021-11-15T16:12:04.856Z"
      },
      {
        "duration": 85,
        "start_time": "2021-11-15T16:12:04.872Z"
      },
      {
        "duration": 47,
        "start_time": "2021-11-15T16:12:04.960Z"
      },
      {
        "duration": 50,
        "start_time": "2021-11-15T16:12:05.030Z"
      },
      {
        "duration": 15,
        "start_time": "2021-11-15T16:12:05.084Z"
      },
      {
        "duration": 13,
        "start_time": "2021-11-15T16:12:05.130Z"
      },
      {
        "duration": 14,
        "start_time": "2021-11-15T16:12:05.146Z"
      },
      {
        "duration": 7,
        "start_time": "2021-11-15T16:12:05.162Z"
      },
      {
        "duration": 10,
        "start_time": "2021-11-15T16:12:05.171Z"
      },
      {
        "duration": 46,
        "start_time": "2021-11-15T16:12:05.183Z"
      },
      {
        "duration": 10,
        "start_time": "2021-11-15T16:12:05.234Z"
      },
      {
        "duration": 583,
        "start_time": "2021-11-15T16:12:05.247Z"
      },
      {
        "duration": 35,
        "start_time": "2021-11-15T16:12:05.833Z"
      },
      {
        "duration": 17,
        "start_time": "2021-11-15T16:12:05.870Z"
      },
      {
        "duration": 44,
        "start_time": "2021-11-15T16:12:05.890Z"
      },
      {
        "duration": 15,
        "start_time": "2021-11-15T16:12:05.937Z"
      },
      {
        "duration": 12,
        "start_time": "2021-11-15T16:12:05.955Z"
      },
      {
        "duration": 24,
        "start_time": "2021-11-15T16:12:05.970Z"
      },
      {
        "duration": 69,
        "start_time": "2021-11-15T16:12:05.996Z"
      },
      {
        "duration": 6,
        "start_time": "2021-11-15T16:12:06.067Z"
      },
      {
        "duration": 13,
        "start_time": "2021-11-15T16:12:06.075Z"
      },
      {
        "duration": 316,
        "start_time": "2021-11-15T16:12:06.091Z"
      },
      {
        "duration": 279,
        "start_time": "2021-11-15T16:12:06.409Z"
      },
      {
        "duration": 314,
        "start_time": "2021-11-15T16:12:06.691Z"
      },
      {
        "duration": 35,
        "start_time": "2021-11-15T16:13:53.651Z"
      },
      {
        "duration": 11,
        "start_time": "2021-11-15T16:16:14.740Z"
      },
      {
        "duration": 575,
        "start_time": "2021-11-15T16:16:16.206Z"
      },
      {
        "duration": 35,
        "start_time": "2021-11-15T16:16:23.042Z"
      },
      {
        "duration": 18,
        "start_time": "2021-11-15T16:16:27.141Z"
      },
      {
        "duration": 10,
        "start_time": "2021-11-15T16:16:30.197Z"
      },
      {
        "duration": 12,
        "start_time": "2021-11-15T16:16:30.762Z"
      },
      {
        "duration": 10,
        "start_time": "2021-11-15T16:16:31.131Z"
      },
      {
        "duration": 12,
        "start_time": "2021-11-15T16:16:31.473Z"
      },
      {
        "duration": 40,
        "start_time": "2021-11-15T16:16:32.478Z"
      },
      {
        "duration": 6,
        "start_time": "2021-11-15T16:16:33.231Z"
      },
      {
        "duration": 7,
        "start_time": "2021-11-15T16:16:33.607Z"
      },
      {
        "duration": 285,
        "start_time": "2021-11-15T16:16:34.746Z"
      },
      {
        "duration": 282,
        "start_time": "2021-11-15T16:16:35.881Z"
      },
      {
        "duration": 351,
        "start_time": "2021-11-15T16:16:37.004Z"
      },
      {
        "duration": 1477,
        "start_time": "2021-11-15T16:16:48.037Z"
      },
      {
        "duration": 509,
        "start_time": "2021-11-15T16:16:49.517Z"
      },
      {
        "duration": 20,
        "start_time": "2021-11-15T16:16:50.029Z"
      },
      {
        "duration": 21,
        "start_time": "2021-11-15T16:16:50.051Z"
      },
      {
        "duration": 21,
        "start_time": "2021-11-15T16:16:50.074Z"
      },
      {
        "duration": 40,
        "start_time": "2021-11-15T16:16:50.097Z"
      },
      {
        "duration": 10,
        "start_time": "2021-11-15T16:16:50.140Z"
      },
      {
        "duration": 27,
        "start_time": "2021-11-15T16:16:50.152Z"
      },
      {
        "duration": 26,
        "start_time": "2021-11-15T16:16:50.183Z"
      },
      {
        "duration": 13,
        "start_time": "2021-11-15T16:16:50.228Z"
      },
      {
        "duration": 29,
        "start_time": "2021-11-15T16:16:50.243Z"
      },
      {
        "duration": 201,
        "start_time": "2021-11-15T16:16:50.275Z"
      },
      {
        "duration": 11,
        "start_time": "2021-11-15T16:16:50.479Z"
      },
      {
        "duration": 76,
        "start_time": "2021-11-15T16:16:50.493Z"
      },
      {
        "duration": 64,
        "start_time": "2021-11-15T16:16:50.571Z"
      },
      {
        "duration": 47,
        "start_time": "2021-11-15T16:16:50.637Z"
      },
      {
        "duration": 13,
        "start_time": "2021-11-15T16:16:50.686Z"
      },
      {
        "duration": 29,
        "start_time": "2021-11-15T16:16:50.701Z"
      },
      {
        "duration": 20,
        "start_time": "2021-11-15T16:16:50.733Z"
      },
      {
        "duration": 18,
        "start_time": "2021-11-15T16:16:50.755Z"
      },
      {
        "duration": 31,
        "start_time": "2021-11-15T16:16:50.775Z"
      },
      {
        "duration": 23,
        "start_time": "2021-11-15T16:16:50.808Z"
      },
      {
        "duration": 17,
        "start_time": "2021-11-15T16:16:50.834Z"
      },
      {
        "duration": 609,
        "start_time": "2021-11-15T16:16:50.855Z"
      },
      {
        "duration": 34,
        "start_time": "2021-11-15T16:16:51.466Z"
      },
      {
        "duration": 29,
        "start_time": "2021-11-15T16:16:51.503Z"
      },
      {
        "duration": 10,
        "start_time": "2021-11-15T16:16:51.537Z"
      },
      {
        "duration": 19,
        "start_time": "2021-11-15T16:16:51.549Z"
      },
      {
        "duration": 11,
        "start_time": "2021-11-15T16:16:51.570Z"
      },
      {
        "duration": 47,
        "start_time": "2021-11-15T16:16:51.583Z"
      },
      {
        "duration": 37,
        "start_time": "2021-11-15T16:16:51.633Z"
      },
      {
        "duration": 5,
        "start_time": "2021-11-15T16:16:51.673Z"
      },
      {
        "duration": 20,
        "start_time": "2021-11-15T16:16:51.680Z"
      },
      {
        "duration": 329,
        "start_time": "2021-11-15T16:16:51.702Z"
      },
      {
        "duration": 295,
        "start_time": "2021-11-15T16:16:52.034Z"
      },
      {
        "duration": 319,
        "start_time": "2021-11-15T16:16:52.331Z"
      },
      {
        "duration": 11,
        "start_time": "2021-11-15T16:20:03.031Z"
      },
      {
        "duration": 578,
        "start_time": "2021-11-15T16:20:04.956Z"
      },
      {
        "duration": 1939,
        "start_time": "2021-11-15T16:20:14.612Z"
      },
      {
        "duration": 742,
        "start_time": "2021-11-15T16:20:16.554Z"
      },
      {
        "duration": 20,
        "start_time": "2021-11-15T16:20:17.304Z"
      },
      {
        "duration": 33,
        "start_time": "2021-11-15T16:20:17.327Z"
      },
      {
        "duration": 27,
        "start_time": "2021-11-15T16:20:17.363Z"
      },
      {
        "duration": 45,
        "start_time": "2021-11-15T16:20:17.392Z"
      },
      {
        "duration": 15,
        "start_time": "2021-11-15T16:20:17.442Z"
      },
      {
        "duration": 15,
        "start_time": "2021-11-15T16:20:17.461Z"
      },
      {
        "duration": 24,
        "start_time": "2021-11-15T16:20:17.479Z"
      },
      {
        "duration": 12,
        "start_time": "2021-11-15T16:20:17.529Z"
      },
      {
        "duration": 39,
        "start_time": "2021-11-15T16:20:17.543Z"
      },
      {
        "duration": 206,
        "start_time": "2021-11-15T16:20:17.585Z"
      },
      {
        "duration": 14,
        "start_time": "2021-11-15T16:20:17.793Z"
      },
      {
        "duration": 77,
        "start_time": "2021-11-15T16:20:17.810Z"
      },
      {
        "duration": 66,
        "start_time": "2021-11-15T16:20:17.889Z"
      },
      {
        "duration": 43,
        "start_time": "2021-11-15T16:20:17.957Z"
      },
      {
        "duration": 29,
        "start_time": "2021-11-15T16:20:18.003Z"
      },
      {
        "duration": 12,
        "start_time": "2021-11-15T16:20:18.035Z"
      },
      {
        "duration": 13,
        "start_time": "2021-11-15T16:20:18.050Z"
      },
      {
        "duration": 9,
        "start_time": "2021-11-15T16:20:18.066Z"
      },
      {
        "duration": 52,
        "start_time": "2021-11-15T16:20:18.077Z"
      },
      {
        "duration": 14,
        "start_time": "2021-11-15T16:20:18.134Z"
      },
      {
        "duration": 11,
        "start_time": "2021-11-15T16:20:18.151Z"
      },
      {
        "duration": 598,
        "start_time": "2021-11-15T16:20:18.164Z"
      },
      {
        "duration": 67,
        "start_time": "2021-11-15T16:20:18.765Z"
      },
      {
        "duration": 27,
        "start_time": "2021-11-15T16:20:18.835Z"
      },
      {
        "duration": 16,
        "start_time": "2021-11-15T16:20:18.865Z"
      },
      {
        "duration": 52,
        "start_time": "2021-11-15T16:20:18.884Z"
      },
      {
        "duration": 14,
        "start_time": "2021-11-15T16:20:18.939Z"
      },
      {
        "duration": 14,
        "start_time": "2021-11-15T16:20:18.956Z"
      },
      {
        "duration": 92,
        "start_time": "2021-11-15T16:20:18.973Z"
      },
      {
        "duration": 8,
        "start_time": "2021-11-15T16:20:19.069Z"
      },
      {
        "duration": 11,
        "start_time": "2021-11-15T16:20:19.079Z"
      },
      {
        "duration": 313,
        "start_time": "2021-11-15T16:20:19.092Z"
      },
      {
        "duration": 290,
        "start_time": "2021-11-15T16:20:19.408Z"
      },
      {
        "duration": 309,
        "start_time": "2021-11-15T16:20:19.701Z"
      },
      {
        "duration": 486,
        "start_time": "2021-11-15T16:23:26.310Z"
      },
      {
        "duration": 326,
        "start_time": "2021-11-15T16:23:46.621Z"
      },
      {
        "duration": 106,
        "start_time": "2021-11-15T16:25:33.912Z"
      },
      {
        "duration": 65,
        "start_time": "2021-11-15T16:25:38.565Z"
      },
      {
        "duration": 50,
        "start_time": "2021-11-15T16:28:45.486Z"
      },
      {
        "duration": 1531,
        "start_time": "2021-11-15T16:29:42.200Z"
      },
      {
        "duration": 531,
        "start_time": "2021-11-15T16:29:43.734Z"
      },
      {
        "duration": 20,
        "start_time": "2021-11-15T16:29:44.268Z"
      },
      {
        "duration": 11,
        "start_time": "2021-11-15T16:29:44.290Z"
      },
      {
        "duration": 14,
        "start_time": "2021-11-15T16:29:44.304Z"
      },
      {
        "duration": 32,
        "start_time": "2021-11-15T16:29:44.321Z"
      },
      {
        "duration": 11,
        "start_time": "2021-11-15T16:29:44.356Z"
      },
      {
        "duration": 11,
        "start_time": "2021-11-15T16:29:44.370Z"
      },
      {
        "duration": 52,
        "start_time": "2021-11-15T16:29:44.384Z"
      },
      {
        "duration": 12,
        "start_time": "2021-11-15T16:29:44.438Z"
      },
      {
        "duration": 36,
        "start_time": "2021-11-15T16:29:44.452Z"
      },
      {
        "duration": 287,
        "start_time": "2021-11-15T16:29:44.490Z"
      },
      {
        "duration": 11,
        "start_time": "2021-11-15T16:29:44.780Z"
      },
      {
        "duration": 72,
        "start_time": "2021-11-15T16:29:44.793Z"
      },
      {
        "duration": 62,
        "start_time": "2021-11-15T16:29:44.868Z"
      },
      {
        "duration": 50,
        "start_time": "2021-11-15T16:29:44.932Z"
      },
      {
        "duration": 13,
        "start_time": "2021-11-15T16:29:44.984Z"
      },
      {
        "duration": 38,
        "start_time": "2021-11-15T16:29:44.999Z"
      },
      {
        "duration": 12,
        "start_time": "2021-11-15T16:29:45.039Z"
      },
      {
        "duration": 14,
        "start_time": "2021-11-15T16:29:45.054Z"
      },
      {
        "duration": 15,
        "start_time": "2021-11-15T16:29:45.070Z"
      },
      {
        "duration": 15,
        "start_time": "2021-11-15T16:29:45.088Z"
      },
      {
        "duration": 29,
        "start_time": "2021-11-15T16:29:45.107Z"
      },
      {
        "duration": 678,
        "start_time": "2021-11-15T16:29:45.138Z"
      },
      {
        "duration": 40,
        "start_time": "2021-11-15T16:29:45.818Z"
      },
      {
        "duration": 18,
        "start_time": "2021-11-15T16:29:45.861Z"
      },
      {
        "duration": 24,
        "start_time": "2021-11-15T16:29:45.881Z"
      },
      {
        "duration": 38,
        "start_time": "2021-11-15T16:29:45.908Z"
      },
      {
        "duration": 12,
        "start_time": "2021-11-15T16:29:45.949Z"
      },
      {
        "duration": 28,
        "start_time": "2021-11-15T16:29:45.964Z"
      },
      {
        "duration": 46,
        "start_time": "2021-11-15T16:29:45.994Z"
      },
      {
        "duration": 6,
        "start_time": "2021-11-15T16:29:46.042Z"
      },
      {
        "duration": 27,
        "start_time": "2021-11-15T16:29:46.050Z"
      },
      {
        "duration": 313,
        "start_time": "2021-11-15T16:29:46.079Z"
      },
      {
        "duration": 312,
        "start_time": "2021-11-15T16:29:46.394Z"
      },
      {
        "duration": 320,
        "start_time": "2021-11-15T16:29:46.708Z"
      },
      {
        "duration": 47,
        "start_time": "2021-11-15T16:31:35.328Z"
      },
      {
        "duration": 1689,
        "start_time": "2021-11-15T16:31:43.951Z"
      },
      {
        "duration": 524,
        "start_time": "2021-11-15T16:31:45.643Z"
      },
      {
        "duration": 22,
        "start_time": "2021-11-15T16:31:46.170Z"
      },
      {
        "duration": 25,
        "start_time": "2021-11-15T16:31:46.195Z"
      },
      {
        "duration": 48,
        "start_time": "2021-11-15T16:31:46.222Z"
      },
      {
        "duration": 45,
        "start_time": "2021-11-15T16:31:46.273Z"
      },
      {
        "duration": 16,
        "start_time": "2021-11-15T16:31:46.320Z"
      },
      {
        "duration": 37,
        "start_time": "2021-11-15T16:31:46.339Z"
      },
      {
        "duration": 36,
        "start_time": "2021-11-15T16:31:46.380Z"
      },
      {
        "duration": 36,
        "start_time": "2021-11-15T16:31:46.419Z"
      },
      {
        "duration": 40,
        "start_time": "2021-11-15T16:31:46.458Z"
      },
      {
        "duration": 199,
        "start_time": "2021-11-15T16:31:46.501Z"
      },
      {
        "duration": 11,
        "start_time": "2021-11-15T16:31:46.702Z"
      },
      {
        "duration": 77,
        "start_time": "2021-11-15T16:31:46.716Z"
      },
      {
        "duration": 60,
        "start_time": "2021-11-15T16:31:46.795Z"
      },
      {
        "duration": 50,
        "start_time": "2021-11-15T16:31:46.858Z"
      },
      {
        "duration": 33,
        "start_time": "2021-11-15T16:31:46.911Z"
      },
      {
        "duration": 10,
        "start_time": "2021-11-15T16:31:46.946Z"
      },
      {
        "duration": 28,
        "start_time": "2021-11-15T16:31:46.959Z"
      },
      {
        "duration": 7,
        "start_time": "2021-11-15T16:31:46.990Z"
      },
      {
        "duration": 33,
        "start_time": "2021-11-15T16:31:46.999Z"
      },
      {
        "duration": 7,
        "start_time": "2021-11-15T16:31:47.035Z"
      },
      {
        "duration": 12,
        "start_time": "2021-11-15T16:31:47.046Z"
      },
      {
        "duration": 597,
        "start_time": "2021-11-15T16:31:47.061Z"
      },
      {
        "duration": 38,
        "start_time": "2021-11-15T16:31:47.660Z"
      },
      {
        "duration": 39,
        "start_time": "2021-11-15T16:31:47.700Z"
      },
      {
        "duration": 12,
        "start_time": "2021-11-15T16:31:47.742Z"
      },
      {
        "duration": 16,
        "start_time": "2021-11-15T16:31:47.757Z"
      },
      {
        "duration": 10,
        "start_time": "2021-11-15T16:31:47.775Z"
      },
      {
        "duration": 44,
        "start_time": "2021-11-15T16:31:47.787Z"
      },
      {
        "duration": 41,
        "start_time": "2021-11-15T16:31:47.833Z"
      },
      {
        "duration": 6,
        "start_time": "2021-11-15T16:31:47.876Z"
      },
      {
        "duration": 45,
        "start_time": "2021-11-15T16:31:47.884Z"
      },
      {
        "duration": 326,
        "start_time": "2021-11-15T16:31:47.932Z"
      },
      {
        "duration": 318,
        "start_time": "2021-11-15T16:31:48.260Z"
      },
      {
        "duration": 335,
        "start_time": "2021-11-15T16:31:48.580Z"
      },
      {
        "duration": 227,
        "start_time": "2021-11-16T07:26:03.028Z"
      },
      {
        "duration": 1121,
        "start_time": "2021-11-16T07:26:10.877Z"
      },
      {
        "duration": 388,
        "start_time": "2021-11-16T07:26:12.000Z"
      },
      {
        "duration": 13,
        "start_time": "2021-11-16T07:26:12.390Z"
      },
      {
        "duration": 8,
        "start_time": "2021-11-16T07:26:12.404Z"
      },
      {
        "duration": 9,
        "start_time": "2021-11-16T07:26:12.413Z"
      },
      {
        "duration": 21,
        "start_time": "2021-11-16T07:26:12.423Z"
      },
      {
        "duration": 6,
        "start_time": "2021-11-16T07:26:12.445Z"
      },
      {
        "duration": 9,
        "start_time": "2021-11-16T07:26:12.452Z"
      },
      {
        "duration": 39,
        "start_time": "2021-11-16T07:26:12.463Z"
      },
      {
        "duration": 8,
        "start_time": "2021-11-16T07:26:12.504Z"
      },
      {
        "duration": 17,
        "start_time": "2021-11-16T07:26:12.513Z"
      },
      {
        "duration": 125,
        "start_time": "2021-11-16T07:26:12.532Z"
      },
      {
        "duration": 7,
        "start_time": "2021-11-16T07:26:12.659Z"
      },
      {
        "duration": 56,
        "start_time": "2021-11-16T07:26:12.668Z"
      },
      {
        "duration": 31,
        "start_time": "2021-11-16T07:26:12.725Z"
      },
      {
        "duration": 43,
        "start_time": "2021-11-16T07:26:12.757Z"
      },
      {
        "duration": 10,
        "start_time": "2021-11-16T07:26:12.802Z"
      },
      {
        "duration": 8,
        "start_time": "2021-11-16T07:26:12.813Z"
      },
      {
        "duration": 7,
        "start_time": "2021-11-16T07:26:12.823Z"
      },
      {
        "duration": 5,
        "start_time": "2021-11-16T07:26:12.831Z"
      },
      {
        "duration": 6,
        "start_time": "2021-11-16T07:26:12.837Z"
      },
      {
        "duration": 6,
        "start_time": "2021-11-16T07:26:12.844Z"
      },
      {
        "duration": 44,
        "start_time": "2021-11-16T07:26:12.852Z"
      },
      {
        "duration": 300,
        "start_time": "2021-11-16T07:26:12.897Z"
      },
      {
        "duration": 20,
        "start_time": "2021-11-16T07:26:13.199Z"
      },
      {
        "duration": 11,
        "start_time": "2021-11-16T07:26:13.221Z"
      },
      {
        "duration": 17,
        "start_time": "2021-11-16T07:26:13.234Z"
      },
      {
        "duration": 27,
        "start_time": "2021-11-16T07:26:13.252Z"
      },
      {
        "duration": 13,
        "start_time": "2021-11-16T07:26:13.281Z"
      },
      {
        "duration": 18,
        "start_time": "2021-11-16T07:26:13.295Z"
      },
      {
        "duration": 34,
        "start_time": "2021-11-16T07:26:13.314Z"
      },
      {
        "duration": 13,
        "start_time": "2021-11-16T07:26:13.350Z"
      },
      {
        "duration": 15,
        "start_time": "2021-11-16T07:26:13.365Z"
      },
      {
        "duration": 207,
        "start_time": "2021-11-16T07:26:13.381Z"
      },
      {
        "duration": 178,
        "start_time": "2021-11-16T07:26:13.591Z"
      },
      {
        "duration": 185,
        "start_time": "2021-11-16T07:26:13.771Z"
      },
      {
        "duration": 202,
        "start_time": "2021-11-16T07:26:35.897Z"
      },
      {
        "duration": 202,
        "start_time": "2021-11-16T07:26:41.841Z"
      },
      {
        "duration": 199,
        "start_time": "2021-11-16T07:26:45.815Z"
      },
      {
        "duration": 228,
        "start_time": "2021-11-16T07:27:04.207Z"
      },
      {
        "duration": 161,
        "start_time": "2021-11-16T07:27:14.658Z"
      },
      {
        "duration": 191,
        "start_time": "2021-11-16T07:31:07.464Z"
      },
      {
        "duration": 258,
        "start_time": "2021-11-16T07:38:29.329Z"
      },
      {
        "duration": 175,
        "start_time": "2021-11-16T07:38:45.843Z"
      },
      {
        "duration": 171,
        "start_time": "2021-11-16T07:39:45.777Z"
      },
      {
        "duration": 177,
        "start_time": "2021-11-16T07:39:54.102Z"
      },
      {
        "duration": 3,
        "start_time": "2021-11-16T07:40:43.040Z"
      },
      {
        "duration": 236,
        "start_time": "2021-11-16T07:40:52.502Z"
      },
      {
        "duration": 2,
        "start_time": "2021-11-16T07:41:13.015Z"
      },
      {
        "duration": 183,
        "start_time": "2021-11-16T07:41:21.936Z"
      },
      {
        "duration": 3,
        "start_time": "2021-11-16T07:42:28.214Z"
      },
      {
        "duration": 1059,
        "start_time": "2021-11-16T07:42:35.732Z"
      },
      {
        "duration": 390,
        "start_time": "2021-11-16T07:42:36.793Z"
      },
      {
        "duration": 12,
        "start_time": "2021-11-16T07:42:37.187Z"
      },
      {
        "duration": 9,
        "start_time": "2021-11-16T07:42:37.200Z"
      },
      {
        "duration": 9,
        "start_time": "2021-11-16T07:42:37.210Z"
      },
      {
        "duration": 21,
        "start_time": "2021-11-16T07:42:37.221Z"
      },
      {
        "duration": 6,
        "start_time": "2021-11-16T07:42:37.244Z"
      },
      {
        "duration": 9,
        "start_time": "2021-11-16T07:42:37.252Z"
      },
      {
        "duration": 37,
        "start_time": "2021-11-16T07:42:37.263Z"
      },
      {
        "duration": 13,
        "start_time": "2021-11-16T07:42:37.301Z"
      },
      {
        "duration": 22,
        "start_time": "2021-11-16T07:42:37.315Z"
      },
      {
        "duration": 116,
        "start_time": "2021-11-16T07:42:37.339Z"
      },
      {
        "duration": 8,
        "start_time": "2021-11-16T07:42:37.456Z"
      },
      {
        "duration": 55,
        "start_time": "2021-11-16T07:42:37.465Z"
      },
      {
        "duration": 35,
        "start_time": "2021-11-16T07:42:37.522Z"
      },
      {
        "duration": 55,
        "start_time": "2021-11-16T07:42:37.560Z"
      },
      {
        "duration": 9,
        "start_time": "2021-11-16T07:42:37.617Z"
      },
      {
        "duration": 9,
        "start_time": "2021-11-16T07:42:37.628Z"
      },
      {
        "duration": 18,
        "start_time": "2021-11-16T07:42:37.639Z"
      },
      {
        "duration": 12,
        "start_time": "2021-11-16T07:42:37.659Z"
      },
      {
        "duration": 9,
        "start_time": "2021-11-16T07:42:37.673Z"
      },
      {
        "duration": 12,
        "start_time": "2021-11-16T07:42:37.683Z"
      },
      {
        "duration": 7,
        "start_time": "2021-11-16T07:42:37.697Z"
      },
      {
        "duration": 326,
        "start_time": "2021-11-16T07:42:37.706Z"
      },
      {
        "duration": 23,
        "start_time": "2021-11-16T07:42:38.033Z"
      },
      {
        "duration": 12,
        "start_time": "2021-11-16T07:42:38.059Z"
      },
      {
        "duration": 7,
        "start_time": "2021-11-16T07:42:38.092Z"
      },
      {
        "duration": 12,
        "start_time": "2021-11-16T07:42:38.101Z"
      },
      {
        "duration": 7,
        "start_time": "2021-11-16T07:42:38.115Z"
      },
      {
        "duration": 7,
        "start_time": "2021-11-16T07:42:38.124Z"
      },
      {
        "duration": 27,
        "start_time": "2021-11-16T07:42:38.132Z"
      },
      {
        "duration": 31,
        "start_time": "2021-11-16T07:42:38.161Z"
      },
      {
        "duration": 4,
        "start_time": "2021-11-16T07:42:38.194Z"
      },
      {
        "duration": 274,
        "start_time": "2021-11-16T07:42:38.200Z"
      },
      {
        "duration": -14514,
        "start_time": "2021-11-16T07:42:52.990Z"
      },
      {
        "duration": -14519,
        "start_time": "2021-11-16T07:42:52.996Z"
      },
      {
        "duration": -14522,
        "start_time": "2021-11-16T07:42:53.000Z"
      },
      {
        "duration": 207,
        "start_time": "2021-11-16T07:43:00.157Z"
      },
      {
        "duration": 208,
        "start_time": "2021-11-16T07:43:06.460Z"
      },
      {
        "duration": 195,
        "start_time": "2021-11-16T07:43:14.774Z"
      },
      {
        "duration": 200,
        "start_time": "2021-11-16T07:43:46.733Z"
      },
      {
        "duration": 217,
        "start_time": "2021-11-16T07:44:11.640Z"
      },
      {
        "duration": 207,
        "start_time": "2021-11-16T07:44:25.340Z"
      },
      {
        "duration": 217,
        "start_time": "2021-11-16T07:44:32.201Z"
      },
      {
        "duration": 178,
        "start_time": "2021-11-16T07:45:46.112Z"
      },
      {
        "duration": 188,
        "start_time": "2021-11-16T07:45:54.577Z"
      },
      {
        "duration": 187,
        "start_time": "2021-11-16T07:46:21.099Z"
      },
      {
        "duration": 188,
        "start_time": "2021-11-16T07:47:36.804Z"
      },
      {
        "duration": 229,
        "start_time": "2021-11-16T07:48:01.038Z"
      },
      {
        "duration": 603,
        "start_time": "2021-11-16T07:48:16.643Z"
      },
      {
        "duration": 405,
        "start_time": "2021-11-16T07:48:17.247Z"
      },
      {
        "duration": 13,
        "start_time": "2021-11-16T07:48:17.653Z"
      },
      {
        "duration": 7,
        "start_time": "2021-11-16T07:48:17.668Z"
      },
      {
        "duration": 13,
        "start_time": "2021-11-16T07:48:17.677Z"
      },
      {
        "duration": 22,
        "start_time": "2021-11-16T07:48:17.691Z"
      },
      {
        "duration": 7,
        "start_time": "2021-11-16T07:48:17.714Z"
      },
      {
        "duration": 9,
        "start_time": "2021-11-16T07:48:17.723Z"
      },
      {
        "duration": 15,
        "start_time": "2021-11-16T07:48:17.734Z"
      },
      {
        "duration": 7,
        "start_time": "2021-11-16T07:48:17.751Z"
      },
      {
        "duration": 40,
        "start_time": "2021-11-16T07:48:17.759Z"
      },
      {
        "duration": 120,
        "start_time": "2021-11-16T07:48:17.801Z"
      },
      {
        "duration": 8,
        "start_time": "2021-11-16T07:48:17.923Z"
      },
      {
        "duration": 60,
        "start_time": "2021-11-16T07:48:17.932Z"
      },
      {
        "duration": 32,
        "start_time": "2021-11-16T07:48:17.994Z"
      },
      {
        "duration": 33,
        "start_time": "2021-11-16T07:48:18.028Z"
      },
      {
        "duration": 8,
        "start_time": "2021-11-16T07:48:18.062Z"
      },
      {
        "duration": 25,
        "start_time": "2021-11-16T07:48:18.071Z"
      },
      {
        "duration": 10,
        "start_time": "2021-11-16T07:48:18.098Z"
      },
      {
        "duration": 4,
        "start_time": "2021-11-16T07:48:18.110Z"
      },
      {
        "duration": 6,
        "start_time": "2021-11-16T07:48:18.116Z"
      },
      {
        "duration": 7,
        "start_time": "2021-11-16T07:48:18.124Z"
      },
      {
        "duration": 8,
        "start_time": "2021-11-16T07:48:18.134Z"
      },
      {
        "duration": 334,
        "start_time": "2021-11-16T07:48:18.144Z"
      },
      {
        "duration": 30,
        "start_time": "2021-11-16T07:48:18.480Z"
      },
      {
        "duration": 11,
        "start_time": "2021-11-16T07:48:18.511Z"
      },
      {
        "duration": 14,
        "start_time": "2021-11-16T07:48:18.523Z"
      },
      {
        "duration": 11,
        "start_time": "2021-11-16T07:48:18.538Z"
      },
      {
        "duration": 6,
        "start_time": "2021-11-16T07:48:18.551Z"
      },
      {
        "duration": 8,
        "start_time": "2021-11-16T07:48:18.558Z"
      },
      {
        "duration": 24,
        "start_time": "2021-11-16T07:48:18.592Z"
      },
      {
        "duration": 4,
        "start_time": "2021-11-16T07:48:18.617Z"
      },
      {
        "duration": 12,
        "start_time": "2021-11-16T07:48:18.622Z"
      },
      {
        "duration": 208,
        "start_time": "2021-11-16T07:48:18.636Z"
      },
      {
        "duration": 219,
        "start_time": "2021-11-16T07:48:18.846Z"
      },
      {
        "duration": 179,
        "start_time": "2021-11-16T07:48:19.067Z"
      },
      {
        "duration": 227,
        "start_time": "2021-11-16T07:48:19.248Z"
      },
      {
        "duration": 194,
        "start_time": "2021-11-16T07:49:16.587Z"
      },
      {
        "duration": 195,
        "start_time": "2021-11-16T07:49:33.507Z"
      },
      {
        "duration": 248,
        "start_time": "2021-11-16T07:49:50.025Z"
      },
      {
        "duration": 245,
        "start_time": "2021-11-16T07:50:38.013Z"
      },
      {
        "duration": 215,
        "start_time": "2021-11-16T07:50:43.209Z"
      },
      {
        "duration": 202,
        "start_time": "2021-11-16T07:56:51.286Z"
      },
      {
        "duration": 200,
        "start_time": "2021-11-16T07:57:25.548Z"
      },
      {
        "duration": 206,
        "start_time": "2021-11-16T07:58:08.227Z"
      },
      {
        "duration": 196,
        "start_time": "2021-11-16T07:58:22.114Z"
      },
      {
        "duration": 182,
        "start_time": "2021-11-16T07:58:33.833Z"
      },
      {
        "duration": 249,
        "start_time": "2021-11-16T07:58:44.116Z"
      },
      {
        "duration": 204,
        "start_time": "2021-11-16T07:59:11.367Z"
      },
      {
        "duration": 5,
        "start_time": "2021-11-16T08:05:16.114Z"
      },
      {
        "duration": 8,
        "start_time": "2021-11-16T08:05:23.872Z"
      },
      {
        "duration": 267,
        "start_time": "2021-11-16T08:05:48.871Z"
      },
      {
        "duration": 7,
        "start_time": "2021-11-16T08:05:58.311Z"
      },
      {
        "duration": 7,
        "start_time": "2021-11-16T08:06:18.782Z"
      },
      {
        "duration": 191,
        "start_time": "2021-11-16T08:07:42.806Z"
      },
      {
        "duration": 190,
        "start_time": "2021-11-16T08:07:58.139Z"
      },
      {
        "duration": 57,
        "start_time": "2021-11-16T08:12:13.446Z"
      },
      {
        "duration": 7,
        "start_time": "2021-11-16T08:15:15.216Z"
      },
      {
        "duration": 12,
        "start_time": "2021-11-16T08:15:23.347Z"
      },
      {
        "duration": 13,
        "start_time": "2021-11-16T08:15:45.378Z"
      },
      {
        "duration": 13,
        "start_time": "2021-11-16T08:16:13.249Z"
      },
      {
        "duration": 11,
        "start_time": "2021-11-16T08:16:17.635Z"
      },
      {
        "duration": 15,
        "start_time": "2021-11-16T08:16:52.707Z"
      },
      {
        "duration": 14,
        "start_time": "2021-11-16T08:17:43.851Z"
      },
      {
        "duration": 179,
        "start_time": "2021-11-16T08:17:57.887Z"
      },
      {
        "duration": 228,
        "start_time": "2021-11-16T08:18:16.030Z"
      },
      {
        "duration": 252,
        "start_time": "2021-11-16T08:18:32.436Z"
      },
      {
        "duration": 192,
        "start_time": "2021-11-16T08:18:39.172Z"
      },
      {
        "duration": 242,
        "start_time": "2021-11-16T08:18:42.709Z"
      },
      {
        "duration": 651,
        "start_time": "2021-11-16T08:18:49.831Z"
      },
      {
        "duration": 400,
        "start_time": "2021-11-16T08:18:50.483Z"
      },
      {
        "duration": 12,
        "start_time": "2021-11-16T08:18:50.886Z"
      },
      {
        "duration": 6,
        "start_time": "2021-11-16T08:18:50.900Z"
      },
      {
        "duration": 10,
        "start_time": "2021-11-16T08:18:50.908Z"
      },
      {
        "duration": 26,
        "start_time": "2021-11-16T08:18:50.919Z"
      },
      {
        "duration": 7,
        "start_time": "2021-11-16T08:18:50.946Z"
      },
      {
        "duration": 12,
        "start_time": "2021-11-16T08:18:50.955Z"
      },
      {
        "duration": 33,
        "start_time": "2021-11-16T08:18:50.968Z"
      },
      {
        "duration": 9,
        "start_time": "2021-11-16T08:18:51.002Z"
      },
      {
        "duration": 29,
        "start_time": "2021-11-16T08:18:51.013Z"
      },
      {
        "duration": 133,
        "start_time": "2021-11-16T08:18:51.044Z"
      },
      {
        "duration": 13,
        "start_time": "2021-11-16T08:18:51.179Z"
      },
      {
        "duration": 48,
        "start_time": "2021-11-16T08:18:51.194Z"
      },
      {
        "duration": 35,
        "start_time": "2021-11-16T08:18:51.243Z"
      },
      {
        "duration": 36,
        "start_time": "2021-11-16T08:18:51.291Z"
      },
      {
        "duration": 7,
        "start_time": "2021-11-16T08:18:51.329Z"
      },
      {
        "duration": 7,
        "start_time": "2021-11-16T08:18:51.338Z"
      },
      {
        "duration": 7,
        "start_time": "2021-11-16T08:18:51.347Z"
      },
      {
        "duration": 10,
        "start_time": "2021-11-16T08:18:51.355Z"
      },
      {
        "duration": 26,
        "start_time": "2021-11-16T08:18:51.366Z"
      },
      {
        "duration": 4,
        "start_time": "2021-11-16T08:18:51.394Z"
      },
      {
        "duration": 7,
        "start_time": "2021-11-16T08:18:51.401Z"
      },
      {
        "duration": 308,
        "start_time": "2021-11-16T08:18:51.410Z"
      },
      {
        "duration": 22,
        "start_time": "2021-11-16T08:18:51.719Z"
      },
      {
        "duration": 12,
        "start_time": "2021-11-16T08:18:51.742Z"
      },
      {
        "duration": 6,
        "start_time": "2021-11-16T08:18:51.755Z"
      },
      {
        "duration": 30,
        "start_time": "2021-11-16T08:18:51.763Z"
      },
      {
        "duration": 7,
        "start_time": "2021-11-16T08:18:51.794Z"
      },
      {
        "duration": 6,
        "start_time": "2021-11-16T08:18:51.803Z"
      },
      {
        "duration": 262,
        "start_time": "2021-11-16T08:18:51.811Z"
      },
      {
        "duration": -14488,
        "start_time": "2021-11-16T08:19:06.563Z"
      },
      {
        "duration": -14495,
        "start_time": "2021-11-16T08:19:06.571Z"
      },
      {
        "duration": -14514,
        "start_time": "2021-11-16T08:19:06.591Z"
      },
      {
        "duration": -14519,
        "start_time": "2021-11-16T08:19:06.597Z"
      },
      {
        "duration": -14521,
        "start_time": "2021-11-16T08:19:06.600Z"
      },
      {
        "duration": -14522,
        "start_time": "2021-11-16T08:19:06.602Z"
      },
      {
        "duration": -14524,
        "start_time": "2021-11-16T08:19:06.605Z"
      },
      {
        "duration": 13,
        "start_time": "2021-11-16T08:19:04.639Z"
      },
      {
        "duration": 13,
        "start_time": "2021-11-16T08:20:29.187Z"
      },
      {
        "duration": 4656,
        "start_time": "2021-11-16T08:21:05.837Z"
      },
      {
        "duration": 14,
        "start_time": "2021-11-16T08:21:21.409Z"
      },
      {
        "duration": 14,
        "start_time": "2021-11-16T08:22:21.941Z"
      },
      {
        "duration": 7,
        "start_time": "2021-11-16T08:22:40.232Z"
      },
      {
        "duration": 14,
        "start_time": "2021-11-16T08:22:53.702Z"
      },
      {
        "duration": 14,
        "start_time": "2021-11-16T08:22:57.979Z"
      },
      {
        "duration": 3,
        "start_time": "2021-11-16T08:26:14.184Z"
      },
      {
        "duration": 573,
        "start_time": "2021-11-16T08:26:21.154Z"
      },
      {
        "duration": 394,
        "start_time": "2021-11-16T08:26:21.729Z"
      },
      {
        "duration": 11,
        "start_time": "2021-11-16T08:26:22.125Z"
      },
      {
        "duration": 11,
        "start_time": "2021-11-16T08:26:22.138Z"
      },
      {
        "duration": 8,
        "start_time": "2021-11-16T08:26:22.151Z"
      },
      {
        "duration": 21,
        "start_time": "2021-11-16T08:26:22.161Z"
      },
      {
        "duration": 8,
        "start_time": "2021-11-16T08:26:22.183Z"
      },
      {
        "duration": 8,
        "start_time": "2021-11-16T08:26:22.193Z"
      },
      {
        "duration": 25,
        "start_time": "2021-11-16T08:26:22.203Z"
      },
      {
        "duration": 13,
        "start_time": "2021-11-16T08:26:22.230Z"
      },
      {
        "duration": 30,
        "start_time": "2021-11-16T08:26:22.244Z"
      },
      {
        "duration": 124,
        "start_time": "2021-11-16T08:26:22.275Z"
      },
      {
        "duration": 7,
        "start_time": "2021-11-16T08:26:22.400Z"
      },
      {
        "duration": 49,
        "start_time": "2021-11-16T08:26:22.409Z"
      },
      {
        "duration": 49,
        "start_time": "2021-11-16T08:26:22.460Z"
      },
      {
        "duration": 34,
        "start_time": "2021-11-16T08:26:22.510Z"
      },
      {
        "duration": 8,
        "start_time": "2021-11-16T08:26:22.546Z"
      },
      {
        "duration": 6,
        "start_time": "2021-11-16T08:26:22.555Z"
      },
      {
        "duration": 32,
        "start_time": "2021-11-16T08:26:22.563Z"
      },
      {
        "duration": 5,
        "start_time": "2021-11-16T08:26:22.596Z"
      },
      {
        "duration": 8,
        "start_time": "2021-11-16T08:26:22.603Z"
      },
      {
        "duration": 13,
        "start_time": "2021-11-16T08:26:22.612Z"
      },
      {
        "duration": 9,
        "start_time": "2021-11-16T08:26:22.628Z"
      },
      {
        "duration": 302,
        "start_time": "2021-11-16T08:26:22.639Z"
      },
      {
        "duration": 20,
        "start_time": "2021-11-16T08:26:22.943Z"
      },
      {
        "duration": 8,
        "start_time": "2021-11-16T08:26:22.964Z"
      },
      {
        "duration": 21,
        "start_time": "2021-11-16T08:26:22.973Z"
      },
      {
        "duration": 10,
        "start_time": "2021-11-16T08:26:22.995Z"
      },
      {
        "duration": 6,
        "start_time": "2021-11-16T08:26:23.006Z"
      },
      {
        "duration": 6,
        "start_time": "2021-11-16T08:26:23.014Z"
      },
      {
        "duration": 11,
        "start_time": "2021-11-16T08:26:23.021Z"
      },
      {
        "duration": 10,
        "start_time": "2021-11-16T08:26:23.034Z"
      },
      {
        "duration": 257,
        "start_time": "2021-11-16T08:26:23.045Z"
      },
      {
        "duration": 206,
        "start_time": "2021-11-16T08:26:23.304Z"
      },
      {
        "duration": 207,
        "start_time": "2021-11-16T08:26:23.512Z"
      },
      {
        "duration": 265,
        "start_time": "2021-11-16T08:26:23.721Z"
      },
      {
        "duration": 207,
        "start_time": "2021-11-16T08:26:23.991Z"
      },
      {
        "duration": 224,
        "start_time": "2021-11-16T08:26:24.200Z"
      },
      {
        "duration": 18,
        "start_time": "2021-11-16T08:27:54.837Z"
      },
      {
        "duration": 8,
        "start_time": "2021-11-16T08:28:00.872Z"
      },
      {
        "duration": 3,
        "start_time": "2021-11-16T08:31:42.593Z"
      },
      {
        "duration": 220,
        "start_time": "2021-11-16T08:47:48.746Z"
      },
      {
        "duration": 224,
        "start_time": "2021-11-16T08:48:04.495Z"
      },
      {
        "duration": 261,
        "start_time": "2021-11-16T08:54:53.579Z"
      },
      {
        "duration": 311,
        "start_time": "2021-11-16T08:55:02.355Z"
      },
      {
        "duration": 226,
        "start_time": "2021-11-16T08:55:33.184Z"
      },
      {
        "duration": 219,
        "start_time": "2021-11-16T08:55:40.830Z"
      },
      {
        "duration": 194,
        "start_time": "2021-11-16T08:56:10.549Z"
      },
      {
        "duration": 227,
        "start_time": "2021-11-16T08:56:14.852Z"
      },
      {
        "duration": 259,
        "start_time": "2021-11-16T08:56:21.914Z"
      },
      {
        "duration": 214,
        "start_time": "2021-11-16T08:56:30.709Z"
      },
      {
        "duration": 243,
        "start_time": "2021-11-16T08:56:36.772Z"
      },
      {
        "duration": 8,
        "start_time": "2021-11-16T08:57:27.459Z"
      },
      {
        "duration": 426,
        "start_time": "2021-11-16T09:18:33.987Z"
      },
      {
        "duration": 447,
        "start_time": "2021-11-16T09:18:45.411Z"
      },
      {
        "duration": 427,
        "start_time": "2021-11-16T09:18:58.840Z"
      },
      {
        "duration": 463,
        "start_time": "2021-11-16T09:19:05.967Z"
      },
      {
        "duration": 301,
        "start_time": "2021-11-16T09:19:25.527Z"
      },
      {
        "duration": 344,
        "start_time": "2021-11-16T09:21:50.875Z"
      },
      {
        "duration": 1011,
        "start_time": "2021-11-16T09:21:56.552Z"
      },
      {
        "duration": 395,
        "start_time": "2021-11-16T09:21:57.565Z"
      },
      {
        "duration": 12,
        "start_time": "2021-11-16T09:21:57.962Z"
      },
      {
        "duration": 9,
        "start_time": "2021-11-16T09:21:57.976Z"
      },
      {
        "duration": 8,
        "start_time": "2021-11-16T09:21:57.987Z"
      },
      {
        "duration": 21,
        "start_time": "2021-11-16T09:21:57.996Z"
      },
      {
        "duration": 6,
        "start_time": "2021-11-16T09:21:58.019Z"
      },
      {
        "duration": 14,
        "start_time": "2021-11-16T09:21:58.028Z"
      },
      {
        "duration": 15,
        "start_time": "2021-11-16T09:21:58.044Z"
      },
      {
        "duration": 8,
        "start_time": "2021-11-16T09:21:58.061Z"
      },
      {
        "duration": 32,
        "start_time": "2021-11-16T09:21:58.070Z"
      },
      {
        "duration": 130,
        "start_time": "2021-11-16T09:21:58.104Z"
      },
      {
        "duration": 8,
        "start_time": "2021-11-16T09:21:58.236Z"
      },
      {
        "duration": 56,
        "start_time": "2021-11-16T09:21:58.245Z"
      },
      {
        "duration": 33,
        "start_time": "2021-11-16T09:21:58.302Z"
      },
      {
        "duration": 32,
        "start_time": "2021-11-16T09:21:58.336Z"
      },
      {
        "duration": 29,
        "start_time": "2021-11-16T09:21:58.370Z"
      },
      {
        "duration": 9,
        "start_time": "2021-11-16T09:21:58.400Z"
      },
      {
        "duration": 9,
        "start_time": "2021-11-16T09:21:58.411Z"
      },
      {
        "duration": 5,
        "start_time": "2021-11-16T09:21:58.421Z"
      },
      {
        "duration": 9,
        "start_time": "2021-11-16T09:21:58.428Z"
      },
      {
        "duration": 8,
        "start_time": "2021-11-16T09:21:58.439Z"
      },
      {
        "duration": 8,
        "start_time": "2021-11-16T09:21:58.450Z"
      },
      {
        "duration": 332,
        "start_time": "2021-11-16T09:21:58.460Z"
      },
      {
        "duration": 20,
        "start_time": "2021-11-16T09:21:58.793Z"
      },
      {
        "duration": 8,
        "start_time": "2021-11-16T09:21:58.815Z"
      },
      {
        "duration": 8,
        "start_time": "2021-11-16T09:21:58.825Z"
      },
      {
        "duration": 12,
        "start_time": "2021-11-16T09:21:58.835Z"
      },
      {
        "duration": 6,
        "start_time": "2021-11-16T09:21:58.849Z"
      },
      {
        "duration": 7,
        "start_time": "2021-11-16T09:21:58.892Z"
      },
      {
        "duration": 11,
        "start_time": "2021-11-16T09:21:58.901Z"
      },
      {
        "duration": 11,
        "start_time": "2021-11-16T09:21:58.914Z"
      },
      {
        "duration": 233,
        "start_time": "2021-11-16T09:21:58.927Z"
      },
      {
        "duration": 201,
        "start_time": "2021-11-16T09:21:59.161Z"
      },
      {
        "duration": 219,
        "start_time": "2021-11-16T09:21:59.364Z"
      },
      {
        "duration": 249,
        "start_time": "2021-11-16T09:21:59.585Z"
      },
      {
        "duration": 210,
        "start_time": "2021-11-16T09:21:59.836Z"
      },
      {
        "duration": 220,
        "start_time": "2021-11-16T09:22:00.047Z"
      },
      {
        "duration": 5,
        "start_time": "2021-11-16T09:24:17.000Z"
      },
      {
        "duration": 6,
        "start_time": "2021-11-16T09:24:48.894Z"
      },
      {
        "duration": 5,
        "start_time": "2021-11-16T09:27:17.830Z"
      },
      {
        "duration": 16,
        "start_time": "2021-11-16T09:35:15.203Z"
      },
      {
        "duration": 23,
        "start_time": "2021-11-16T09:36:01.647Z"
      },
      {
        "duration": 19,
        "start_time": "2021-11-16T09:36:37.429Z"
      },
      {
        "duration": 19,
        "start_time": "2021-11-16T09:37:08.334Z"
      },
      {
        "duration": 14,
        "start_time": "2021-11-16T09:37:19.658Z"
      },
      {
        "duration": 5,
        "start_time": "2021-11-16T09:37:33.953Z"
      },
      {
        "duration": 8,
        "start_time": "2021-11-16T09:43:31.568Z"
      },
      {
        "duration": 189,
        "start_time": "2021-11-16T09:45:15.716Z"
      },
      {
        "duration": 214,
        "start_time": "2021-11-16T09:45:32.209Z"
      },
      {
        "duration": 215,
        "start_time": "2021-11-16T09:45:55.601Z"
      },
      {
        "duration": 282,
        "start_time": "2021-11-16T09:46:18.416Z"
      },
      {
        "duration": 250,
        "start_time": "2021-11-16T09:47:04.490Z"
      },
      {
        "duration": 230,
        "start_time": "2021-11-16T09:47:15.833Z"
      },
      {
        "duration": 227,
        "start_time": "2021-11-16T09:51:53.920Z"
      },
      {
        "duration": 34,
        "start_time": "2021-11-16T10:02:18.575Z"
      },
      {
        "duration": 39,
        "start_time": "2021-11-16T10:12:33.539Z"
      },
      {
        "duration": 962,
        "start_time": "2021-11-16T10:18:37.105Z"
      },
      {
        "duration": 383,
        "start_time": "2021-11-16T10:18:38.069Z"
      },
      {
        "duration": 12,
        "start_time": "2021-11-16T10:18:38.454Z"
      },
      {
        "duration": 6,
        "start_time": "2021-11-16T10:18:38.468Z"
      },
      {
        "duration": 8,
        "start_time": "2021-11-16T10:18:38.475Z"
      },
      {
        "duration": 21,
        "start_time": "2021-11-16T10:18:38.485Z"
      },
      {
        "duration": 7,
        "start_time": "2021-11-16T10:18:38.508Z"
      },
      {
        "duration": 8,
        "start_time": "2021-11-16T10:18:38.517Z"
      },
      {
        "duration": 16,
        "start_time": "2021-11-16T10:18:38.527Z"
      },
      {
        "duration": 6,
        "start_time": "2021-11-16T10:18:38.545Z"
      },
      {
        "duration": 42,
        "start_time": "2021-11-16T10:18:38.553Z"
      },
      {
        "duration": 115,
        "start_time": "2021-11-16T10:18:38.596Z"
      },
      {
        "duration": 7,
        "start_time": "2021-11-16T10:18:38.713Z"
      },
      {
        "duration": 48,
        "start_time": "2021-11-16T10:18:38.722Z"
      },
      {
        "duration": 44,
        "start_time": "2021-11-16T10:18:38.771Z"
      },
      {
        "duration": 30,
        "start_time": "2021-11-16T10:18:38.816Z"
      },
      {
        "duration": 8,
        "start_time": "2021-11-16T10:18:38.848Z"
      },
      {
        "duration": 8,
        "start_time": "2021-11-16T10:18:38.857Z"
      },
      {
        "duration": 27,
        "start_time": "2021-11-16T10:18:38.866Z"
      },
      {
        "duration": 9,
        "start_time": "2021-11-16T10:18:38.895Z"
      },
      {
        "duration": 7,
        "start_time": "2021-11-16T10:18:38.906Z"
      },
      {
        "duration": 7,
        "start_time": "2021-11-16T10:18:38.915Z"
      },
      {
        "duration": 307,
        "start_time": "2021-11-16T10:18:38.924Z"
      },
      {
        "duration": 18,
        "start_time": "2021-11-16T10:18:39.233Z"
      },
      {
        "duration": 7,
        "start_time": "2021-11-16T10:18:39.253Z"
      },
      {
        "duration": 9,
        "start_time": "2021-11-16T10:18:39.261Z"
      },
      {
        "duration": 10,
        "start_time": "2021-11-16T10:18:39.292Z"
      },
      {
        "duration": 6,
        "start_time": "2021-11-16T10:18:39.304Z"
      },
      {
        "duration": 6,
        "start_time": "2021-11-16T10:18:39.312Z"
      },
      {
        "duration": 11,
        "start_time": "2021-11-16T10:18:39.320Z"
      },
      {
        "duration": 11,
        "start_time": "2021-11-16T10:18:39.332Z"
      },
      {
        "duration": 10,
        "start_time": "2021-11-16T10:18:39.345Z"
      },
      {
        "duration": 204,
        "start_time": "2021-11-16T10:18:39.392Z"
      },
      {
        "duration": 199,
        "start_time": "2021-11-16T10:18:39.597Z"
      },
      {
        "duration": 230,
        "start_time": "2021-11-16T10:18:39.798Z"
      },
      {
        "duration": 232,
        "start_time": "2021-11-16T10:18:40.029Z"
      },
      {
        "duration": 218,
        "start_time": "2021-11-16T10:18:40.263Z"
      },
      {
        "duration": 213,
        "start_time": "2021-11-16T10:18:40.483Z"
      },
      {
        "duration": 239,
        "start_time": "2021-11-16T10:18:40.697Z"
      },
      {
        "duration": 5,
        "start_time": "2021-11-16T10:18:40.938Z"
      },
      {
        "duration": 23,
        "start_time": "2021-11-16T10:18:40.944Z"
      },
      {
        "duration": 4,
        "start_time": "2021-11-16T10:18:40.969Z"
      },
      {
        "duration": 7,
        "start_time": "2021-11-16T10:43:53.944Z"
      },
      {
        "duration": 6,
        "start_time": "2021-11-16T10:44:13.175Z"
      },
      {
        "duration": 7,
        "start_time": "2021-11-16T10:44:22.466Z"
      },
      {
        "duration": 955,
        "start_time": "2021-11-16T10:58:06.542Z"
      },
      {
        "duration": 395,
        "start_time": "2021-11-16T10:58:07.499Z"
      },
      {
        "duration": 12,
        "start_time": "2021-11-16T10:58:07.896Z"
      },
      {
        "duration": 16,
        "start_time": "2021-11-16T10:58:07.910Z"
      },
      {
        "duration": 14,
        "start_time": "2021-11-16T10:58:07.928Z"
      },
      {
        "duration": 27,
        "start_time": "2021-11-16T10:58:07.943Z"
      },
      {
        "duration": 7,
        "start_time": "2021-11-16T10:58:07.971Z"
      },
      {
        "duration": 16,
        "start_time": "2021-11-16T10:58:07.980Z"
      },
      {
        "duration": 26,
        "start_time": "2021-11-16T10:58:07.999Z"
      },
      {
        "duration": 21,
        "start_time": "2021-11-16T10:58:08.027Z"
      },
      {
        "duration": 29,
        "start_time": "2021-11-16T10:58:08.050Z"
      },
      {
        "duration": 118,
        "start_time": "2021-11-16T10:58:08.081Z"
      },
      {
        "duration": 7,
        "start_time": "2021-11-16T10:58:08.201Z"
      },
      {
        "duration": 52,
        "start_time": "2021-11-16T10:58:08.210Z"
      },
      {
        "duration": 41,
        "start_time": "2021-11-16T10:58:08.264Z"
      },
      {
        "duration": 29,
        "start_time": "2021-11-16T10:58:08.306Z"
      },
      {
        "duration": 8,
        "start_time": "2021-11-16T10:58:08.336Z"
      },
      {
        "duration": 13,
        "start_time": "2021-11-16T10:58:08.345Z"
      },
      {
        "duration": 9,
        "start_time": "2021-11-16T10:58:08.360Z"
      },
      {
        "duration": 9,
        "start_time": "2021-11-16T10:58:08.370Z"
      },
      {
        "duration": 19,
        "start_time": "2021-11-16T10:58:08.381Z"
      },
      {
        "duration": 8,
        "start_time": "2021-11-16T10:58:08.402Z"
      },
      {
        "duration": 298,
        "start_time": "2021-11-16T10:58:08.413Z"
      },
      {
        "duration": 17,
        "start_time": "2021-11-16T10:58:08.712Z"
      },
      {
        "duration": 6,
        "start_time": "2021-11-16T10:58:08.731Z"
      },
      {
        "duration": 8,
        "start_time": "2021-11-16T10:58:08.738Z"
      },
      {
        "duration": 17,
        "start_time": "2021-11-16T10:58:08.747Z"
      },
      {
        "duration": 30,
        "start_time": "2021-11-16T10:58:08.766Z"
      },
      {
        "duration": 8,
        "start_time": "2021-11-16T10:58:08.798Z"
      },
      {
        "duration": 20,
        "start_time": "2021-11-16T10:58:08.807Z"
      },
      {
        "duration": 15,
        "start_time": "2021-11-16T10:58:08.829Z"
      },
      {
        "duration": 22,
        "start_time": "2021-11-16T10:58:08.846Z"
      },
      {
        "duration": 201,
        "start_time": "2021-11-16T10:58:08.870Z"
      },
      {
        "duration": 200,
        "start_time": "2021-11-16T10:58:09.073Z"
      },
      {
        "duration": 224,
        "start_time": "2021-11-16T10:58:09.274Z"
      },
      {
        "duration": 228,
        "start_time": "2021-11-16T10:58:09.499Z"
      },
      {
        "duration": 205,
        "start_time": "2021-11-16T10:58:09.729Z"
      },
      {
        "duration": 214,
        "start_time": "2021-11-16T10:58:09.936Z"
      },
      {
        "duration": 228,
        "start_time": "2021-11-16T10:58:10.152Z"
      },
      {
        "duration": 10,
        "start_time": "2021-11-16T10:58:10.382Z"
      },
      {
        "duration": 19,
        "start_time": "2021-11-16T10:58:10.393Z"
      },
      {
        "duration": 6,
        "start_time": "2021-11-16T10:58:10.413Z"
      },
      {
        "duration": 84,
        "start_time": "2021-11-16T18:37:50.187Z"
      },
      {
        "duration": 1032,
        "start_time": "2021-11-16T18:38:11.417Z"
      },
      {
        "duration": 376,
        "start_time": "2021-11-16T18:38:12.451Z"
      },
      {
        "duration": 14,
        "start_time": "2021-11-16T18:38:12.829Z"
      },
      {
        "duration": 8,
        "start_time": "2021-11-16T18:38:12.845Z"
      },
      {
        "duration": 9,
        "start_time": "2021-11-16T18:38:12.854Z"
      },
      {
        "duration": 23,
        "start_time": "2021-11-16T18:38:12.864Z"
      },
      {
        "duration": 8,
        "start_time": "2021-11-16T18:38:12.889Z"
      },
      {
        "duration": 10,
        "start_time": "2021-11-16T18:38:12.899Z"
      },
      {
        "duration": 14,
        "start_time": "2021-11-16T18:38:12.911Z"
      },
      {
        "duration": 12,
        "start_time": "2021-11-16T18:38:12.926Z"
      },
      {
        "duration": 39,
        "start_time": "2021-11-16T18:38:12.940Z"
      },
      {
        "duration": 138,
        "start_time": "2021-11-16T18:38:12.980Z"
      },
      {
        "duration": 10,
        "start_time": "2021-11-16T18:38:13.120Z"
      },
      {
        "duration": 61,
        "start_time": "2021-11-16T18:38:13.132Z"
      },
      {
        "duration": 43,
        "start_time": "2021-11-16T18:38:13.195Z"
      },
      {
        "duration": 47,
        "start_time": "2021-11-16T18:38:13.239Z"
      },
      {
        "duration": 8,
        "start_time": "2021-11-16T18:38:13.288Z"
      },
      {
        "duration": 8,
        "start_time": "2021-11-16T18:38:13.298Z"
      },
      {
        "duration": 5,
        "start_time": "2021-11-16T18:38:13.308Z"
      },
      {
        "duration": 6,
        "start_time": "2021-11-16T18:38:13.314Z"
      },
      {
        "duration": 7,
        "start_time": "2021-11-16T18:38:13.322Z"
      },
      {
        "duration": 9,
        "start_time": "2021-11-16T18:38:13.330Z"
      },
      {
        "duration": 346,
        "start_time": "2021-11-16T18:38:13.365Z"
      },
      {
        "duration": 18,
        "start_time": "2021-11-16T18:38:13.713Z"
      },
      {
        "duration": 6,
        "start_time": "2021-11-16T18:38:13.733Z"
      },
      {
        "duration": 28,
        "start_time": "2021-11-16T18:38:13.740Z"
      },
      {
        "duration": 12,
        "start_time": "2021-11-16T18:38:13.771Z"
      },
      {
        "duration": 8,
        "start_time": "2021-11-16T18:38:13.784Z"
      },
      {
        "duration": 8,
        "start_time": "2021-11-16T18:38:13.794Z"
      },
      {
        "duration": 12,
        "start_time": "2021-11-16T18:38:13.804Z"
      },
      {
        "duration": 50,
        "start_time": "2021-11-16T18:38:13.818Z"
      },
      {
        "duration": 8,
        "start_time": "2021-11-16T18:38:13.870Z"
      },
      {
        "duration": 199,
        "start_time": "2021-11-16T18:38:13.880Z"
      },
      {
        "duration": 191,
        "start_time": "2021-11-16T18:38:14.081Z"
      },
      {
        "duration": 259,
        "start_time": "2021-11-16T18:38:14.274Z"
      },
      {
        "duration": 220,
        "start_time": "2021-11-16T18:38:14.534Z"
      },
      {
        "duration": 194,
        "start_time": "2021-11-16T18:38:14.755Z"
      },
      {
        "duration": 215,
        "start_time": "2021-11-16T18:38:14.951Z"
      },
      {
        "duration": 321,
        "start_time": "2021-11-16T18:38:15.168Z"
      },
      {
        "duration": 4,
        "start_time": "2021-11-16T18:38:15.491Z"
      },
      {
        "duration": 66,
        "start_time": "2021-11-16T18:38:15.497Z"
      },
      {
        "duration": 5,
        "start_time": "2021-11-16T18:38:15.565Z"
      },
      {
        "duration": 119,
        "start_time": "2021-11-16T18:43:37.360Z"
      },
      {
        "duration": 369,
        "start_time": "2021-11-17T09:05:27.409Z"
      },
      {
        "duration": 1432,
        "start_time": "2021-11-17T09:05:34.635Z"
      },
      {
        "duration": 687,
        "start_time": "2021-11-17T09:05:36.070Z"
      },
      {
        "duration": 25,
        "start_time": "2021-11-17T09:05:36.762Z"
      },
      {
        "duration": 11,
        "start_time": "2021-11-17T09:05:36.791Z"
      },
      {
        "duration": 16,
        "start_time": "2021-11-17T09:05:36.805Z"
      },
      {
        "duration": 65,
        "start_time": "2021-11-17T09:05:36.824Z"
      },
      {
        "duration": 12,
        "start_time": "2021-11-17T09:05:36.892Z"
      },
      {
        "duration": 13,
        "start_time": "2021-11-17T09:05:36.907Z"
      },
      {
        "duration": 61,
        "start_time": "2021-11-17T09:05:36.926Z"
      },
      {
        "duration": 11,
        "start_time": "2021-11-17T09:05:36.991Z"
      },
      {
        "duration": 28,
        "start_time": "2021-11-17T09:05:37.005Z"
      },
      {
        "duration": 212,
        "start_time": "2021-11-17T09:05:37.036Z"
      },
      {
        "duration": 10,
        "start_time": "2021-11-17T09:05:37.251Z"
      },
      {
        "duration": 34,
        "start_time": "2021-11-17T09:05:37.264Z"
      },
      {
        "duration": 58,
        "start_time": "2021-11-17T09:05:37.301Z"
      },
      {
        "duration": 62,
        "start_time": "2021-11-17T09:05:37.361Z"
      },
      {
        "duration": 65,
        "start_time": "2021-11-17T09:05:37.425Z"
      },
      {
        "duration": 12,
        "start_time": "2021-11-17T09:05:37.493Z"
      },
      {
        "duration": 15,
        "start_time": "2021-11-17T09:05:37.508Z"
      },
      {
        "duration": 7,
        "start_time": "2021-11-17T09:05:37.525Z"
      },
      {
        "duration": 10,
        "start_time": "2021-11-17T09:05:37.534Z"
      },
      {
        "duration": 39,
        "start_time": "2021-11-17T09:05:37.546Z"
      },
      {
        "duration": 13,
        "start_time": "2021-11-17T09:05:37.587Z"
      },
      {
        "duration": 701,
        "start_time": "2021-11-17T09:05:37.603Z"
      },
      {
        "duration": 30,
        "start_time": "2021-11-17T09:05:38.306Z"
      },
      {
        "duration": 12,
        "start_time": "2021-11-17T09:05:38.338Z"
      },
      {
        "duration": 16,
        "start_time": "2021-11-17T09:05:38.391Z"
      },
      {
        "duration": 32,
        "start_time": "2021-11-17T09:05:38.410Z"
      },
      {
        "duration": 10,
        "start_time": "2021-11-17T09:05:38.445Z"
      },
      {
        "duration": 15,
        "start_time": "2021-11-17T09:05:38.457Z"
      },
      {
        "duration": 22,
        "start_time": "2021-11-17T09:05:38.483Z"
      },
      {
        "duration": 20,
        "start_time": "2021-11-17T09:05:38.507Z"
      },
      {
        "duration": 54,
        "start_time": "2021-11-17T09:05:38.530Z"
      },
      {
        "duration": 339,
        "start_time": "2021-11-17T09:05:38.586Z"
      },
      {
        "duration": 315,
        "start_time": "2021-11-17T09:05:38.928Z"
      },
      {
        "duration": 372,
        "start_time": "2021-11-17T09:05:39.244Z"
      },
      {
        "duration": 380,
        "start_time": "2021-11-17T09:05:39.619Z"
      },
      {
        "duration": 344,
        "start_time": "2021-11-17T09:05:40.001Z"
      },
      {
        "duration": 350,
        "start_time": "2021-11-17T09:05:40.348Z"
      },
      {
        "duration": 381,
        "start_time": "2021-11-17T09:05:40.701Z"
      },
      {
        "duration": 6,
        "start_time": "2021-11-17T09:05:41.084Z"
      },
      {
        "duration": 21,
        "start_time": "2021-11-17T09:05:41.092Z"
      },
      {
        "duration": 6,
        "start_time": "2021-11-17T09:05:41.116Z"
      },
      {
        "duration": 9,
        "start_time": "2021-11-17T09:05:59.682Z"
      },
      {
        "duration": 133,
        "start_time": "2021-11-17T09:06:28.344Z"
      },
      {
        "duration": 283,
        "start_time": "2021-11-17T09:06:52.235Z"
      },
      {
        "duration": 8,
        "start_time": "2021-11-17T09:08:04.022Z"
      },
      {
        "duration": 10,
        "start_time": "2021-11-17T09:09:17.733Z"
      },
      {
        "duration": 10,
        "start_time": "2021-11-17T09:10:04.659Z"
      },
      {
        "duration": 7,
        "start_time": "2021-11-17T09:16:42.461Z"
      },
      {
        "duration": 5,
        "start_time": "2021-11-17T09:16:50.354Z"
      },
      {
        "duration": 5,
        "start_time": "2021-11-17T09:16:54.826Z"
      },
      {
        "duration": 6,
        "start_time": "2021-11-17T09:16:59.286Z"
      },
      {
        "duration": 6,
        "start_time": "2021-11-17T09:17:09.005Z"
      },
      {
        "duration": 7,
        "start_time": "2021-11-17T09:17:15.474Z"
      },
      {
        "duration": 6,
        "start_time": "2021-11-17T09:22:14.778Z"
      },
      {
        "duration": 6,
        "start_time": "2021-11-17T09:22:33.032Z"
      },
      {
        "duration": 2786,
        "start_time": "2021-11-17T09:26:40.156Z"
      },
      {
        "duration": 16,
        "start_time": "2021-11-17T09:26:47.116Z"
      },
      {
        "duration": 863,
        "start_time": "2021-11-17T09:31:48.625Z"
      },
      {
        "duration": 6,
        "start_time": "2021-11-17T09:32:10.284Z"
      },
      {
        "duration": 919,
        "start_time": "2021-11-17T09:32:36.350Z"
      },
      {
        "duration": 14,
        "start_time": "2021-11-17T09:33:26.725Z"
      },
      {
        "duration": 14,
        "start_time": "2021-11-17T09:33:49.444Z"
      },
      {
        "duration": 859,
        "start_time": "2021-11-17T09:34:23.150Z"
      },
      {
        "duration": 59,
        "start_time": "2021-11-17T09:34:37.384Z"
      },
      {
        "duration": 6,
        "start_time": "2021-11-17T09:36:17.152Z"
      },
      {
        "duration": 10118,
        "start_time": "2021-11-17T09:36:24.090Z"
      },
      {
        "duration": 6300,
        "start_time": "2021-11-17T09:37:00.599Z"
      },
      {
        "duration": 385,
        "start_time": "2021-11-17T09:38:32.516Z"
      },
      {
        "duration": 328,
        "start_time": "2021-11-17T09:39:10.746Z"
      },
      {
        "duration": 7021,
        "start_time": "2021-11-17T09:39:22.956Z"
      },
      {
        "duration": 24,
        "start_time": "2021-11-17T09:44:07.668Z"
      },
      {
        "duration": 9,
        "start_time": "2021-11-17T09:44:58.421Z"
      },
      {
        "duration": 309,
        "start_time": "2021-11-17T09:45:09.652Z"
      },
      {
        "duration": 20,
        "start_time": "2021-11-17T09:45:22.195Z"
      },
      {
        "duration": 26,
        "start_time": "2021-11-17T09:45:44.479Z"
      },
      {
        "duration": 371,
        "start_time": "2021-11-17T09:49:18.612Z"
      },
      {
        "duration": 365,
        "start_time": "2021-11-17T09:50:08.110Z"
      },
      {
        "duration": 371,
        "start_time": "2021-11-17T09:50:18.265Z"
      },
      {
        "duration": 5,
        "start_time": "2021-11-17T09:50:31.589Z"
      },
      {
        "duration": 6,
        "start_time": "2021-11-17T09:50:40.023Z"
      },
      {
        "duration": 399,
        "start_time": "2021-11-17T09:50:42.750Z"
      },
      {
        "duration": 417,
        "start_time": "2021-11-17T09:51:01.883Z"
      },
      {
        "duration": 5,
        "start_time": "2021-11-17T09:51:06.348Z"
      },
      {
        "duration": 354,
        "start_time": "2021-11-17T09:51:08.934Z"
      },
      {
        "duration": 301,
        "start_time": "2021-11-17T09:51:28.220Z"
      },
      {
        "duration": 393,
        "start_time": "2021-11-17T09:52:20.567Z"
      },
      {
        "duration": 435,
        "start_time": "2021-11-17T09:52:33.036Z"
      },
      {
        "duration": 420,
        "start_time": "2021-11-17T09:52:43.490Z"
      },
      {
        "duration": 352,
        "start_time": "2021-11-17T09:54:07.135Z"
      },
      {
        "duration": 422,
        "start_time": "2021-11-17T09:54:47.512Z"
      },
      {
        "duration": 19,
        "start_time": "2021-11-17T09:55:10.255Z"
      },
      {
        "duration": 16,
        "start_time": "2021-11-17T09:55:20.273Z"
      },
      {
        "duration": 14,
        "start_time": "2021-11-17T09:55:26.090Z"
      },
      {
        "duration": 12,
        "start_time": "2021-11-17T09:55:30.533Z"
      },
      {
        "duration": 15,
        "start_time": "2021-11-17T09:55:35.790Z"
      },
      {
        "duration": 15,
        "start_time": "2021-11-17T09:55:44.674Z"
      },
      {
        "duration": 14,
        "start_time": "2021-11-17T09:55:48.554Z"
      },
      {
        "duration": 15,
        "start_time": "2021-11-17T09:56:05.572Z"
      },
      {
        "duration": 20,
        "start_time": "2021-11-17T09:56:09.874Z"
      },
      {
        "duration": 20,
        "start_time": "2021-11-17T09:56:12.552Z"
      },
      {
        "duration": 14,
        "start_time": "2021-11-17T09:56:22.450Z"
      },
      {
        "duration": 16,
        "start_time": "2021-11-17T09:56:30.346Z"
      },
      {
        "duration": 20,
        "start_time": "2021-11-17T09:56:45.568Z"
      },
      {
        "duration": 15,
        "start_time": "2021-11-17T09:56:50.265Z"
      },
      {
        "duration": 15,
        "start_time": "2021-11-17T09:56:53.277Z"
      },
      {
        "duration": 13,
        "start_time": "2021-11-17T09:56:57.889Z"
      },
      {
        "duration": 14,
        "start_time": "2021-11-17T09:57:03.108Z"
      },
      {
        "duration": 14,
        "start_time": "2021-11-17T09:57:06.386Z"
      },
      {
        "duration": 14,
        "start_time": "2021-11-17T09:57:11.430Z"
      },
      {
        "duration": 14,
        "start_time": "2021-11-17T09:57:15.969Z"
      },
      {
        "duration": 15,
        "start_time": "2021-11-17T09:57:21.517Z"
      },
      {
        "duration": 14,
        "start_time": "2021-11-17T09:57:27.735Z"
      },
      {
        "duration": 15,
        "start_time": "2021-11-17T09:57:30.534Z"
      },
      {
        "duration": 14,
        "start_time": "2021-11-17T09:57:33.768Z"
      },
      {
        "duration": 14,
        "start_time": "2021-11-17T09:57:44.436Z"
      },
      {
        "duration": 18,
        "start_time": "2021-11-17T09:57:48.982Z"
      },
      {
        "duration": 20,
        "start_time": "2021-11-17T09:58:17.065Z"
      },
      {
        "duration": 21,
        "start_time": "2021-11-17T09:58:21.063Z"
      },
      {
        "duration": 19,
        "start_time": "2021-11-17T09:58:25.183Z"
      },
      {
        "duration": 371,
        "start_time": "2021-11-17T10:01:34.999Z"
      },
      {
        "duration": 386,
        "start_time": "2021-11-17T10:01:40.575Z"
      },
      {
        "duration": 366,
        "start_time": "2021-11-17T10:01:50.060Z"
      },
      {
        "duration": 373,
        "start_time": "2021-11-17T10:01:57.770Z"
      },
      {
        "duration": 319,
        "start_time": "2021-11-17T10:02:55.131Z"
      },
      {
        "duration": 485,
        "start_time": "2021-11-17T10:03:16.661Z"
      },
      {
        "duration": 687,
        "start_time": "2021-11-17T10:03:27.574Z"
      },
      {
        "duration": 717,
        "start_time": "2021-11-17T10:03:51.442Z"
      },
      {
        "duration": 707,
        "start_time": "2021-11-17T10:04:10.646Z"
      },
      {
        "duration": 489,
        "start_time": "2021-11-17T10:04:33.051Z"
      },
      {
        "duration": 248,
        "start_time": "2021-11-17T10:04:41.939Z"
      },
      {
        "duration": 235,
        "start_time": "2021-11-17T10:04:55.497Z"
      },
      {
        "duration": 387,
        "start_time": "2021-11-17T10:05:01.656Z"
      },
      {
        "duration": 279,
        "start_time": "2021-11-17T10:05:12.268Z"
      },
      {
        "duration": 267,
        "start_time": "2021-11-17T10:05:15.195Z"
      },
      {
        "duration": 227,
        "start_time": "2021-11-17T10:05:18.568Z"
      },
      {
        "duration": 283,
        "start_time": "2021-11-17T10:05:21.945Z"
      },
      {
        "duration": 288,
        "start_time": "2021-11-17T10:05:27.494Z"
      },
      {
        "duration": 262,
        "start_time": "2021-11-17T10:05:30.483Z"
      },
      {
        "duration": 103,
        "start_time": "2021-11-17T10:07:03.700Z"
      },
      {
        "duration": 104,
        "start_time": "2021-11-17T10:08:05.459Z"
      },
      {
        "duration": 103,
        "start_time": "2021-11-17T10:08:36.109Z"
      },
      {
        "duration": 122,
        "start_time": "2021-11-17T10:09:01.169Z"
      },
      {
        "duration": 283,
        "start_time": "2021-11-17T10:09:24.947Z"
      },
      {
        "duration": 19,
        "start_time": "2021-11-17T10:09:49.350Z"
      },
      {
        "duration": 9,
        "start_time": "2021-11-17T10:10:02.374Z"
      },
      {
        "duration": 19,
        "start_time": "2021-11-17T10:10:05.766Z"
      },
      {
        "duration": 245,
        "start_time": "2021-11-17T10:10:13.466Z"
      },
      {
        "duration": 244,
        "start_time": "2021-11-17T10:10:18.723Z"
      },
      {
        "duration": 279,
        "start_time": "2021-11-17T10:10:22.307Z"
      },
      {
        "duration": 118,
        "start_time": "2021-11-17T10:13:36.463Z"
      },
      {
        "duration": 351,
        "start_time": "2021-11-17T10:14:20.252Z"
      },
      {
        "duration": 375,
        "start_time": "2021-11-17T10:14:36.724Z"
      },
      {
        "duration": 1433,
        "start_time": "2021-11-17T10:37:31.929Z"
      },
      {
        "duration": 504,
        "start_time": "2021-11-17T10:37:33.365Z"
      },
      {
        "duration": 19,
        "start_time": "2021-11-17T10:37:33.872Z"
      },
      {
        "duration": 11,
        "start_time": "2021-11-17T10:37:33.893Z"
      },
      {
        "duration": 12,
        "start_time": "2021-11-17T10:37:33.906Z"
      },
      {
        "duration": 28,
        "start_time": "2021-11-17T10:37:33.920Z"
      },
      {
        "duration": 40,
        "start_time": "2021-11-17T10:37:33.951Z"
      },
      {
        "duration": 15,
        "start_time": "2021-11-17T10:37:33.994Z"
      },
      {
        "duration": 27,
        "start_time": "2021-11-17T10:37:34.013Z"
      },
      {
        "duration": 13,
        "start_time": "2021-11-17T10:37:34.043Z"
      },
      {
        "duration": 44,
        "start_time": "2021-11-17T10:37:34.058Z"
      },
      {
        "duration": 199,
        "start_time": "2021-11-17T10:37:34.104Z"
      },
      {
        "duration": 10,
        "start_time": "2021-11-17T10:37:34.306Z"
      },
      {
        "duration": 292,
        "start_time": "2021-11-17T10:37:34.319Z"
      },
      {
        "duration": 11,
        "start_time": "2021-11-17T10:37:34.614Z"
      },
      {
        "duration": 76,
        "start_time": "2021-11-17T10:37:34.628Z"
      },
      {
        "duration": 45,
        "start_time": "2021-11-17T10:37:34.707Z"
      },
      {
        "duration": 73,
        "start_time": "2021-11-17T10:37:34.755Z"
      },
      {
        "duration": 17,
        "start_time": "2021-11-17T10:37:34.831Z"
      },
      {
        "duration": 43,
        "start_time": "2021-11-17T10:37:34.851Z"
      },
      {
        "duration": 9,
        "start_time": "2021-11-17T10:37:34.897Z"
      },
      {
        "duration": 12,
        "start_time": "2021-11-17T10:37:34.909Z"
      },
      {
        "duration": 13,
        "start_time": "2021-11-17T10:37:34.925Z"
      },
      {
        "duration": 42,
        "start_time": "2021-11-17T10:37:34.941Z"
      },
      {
        "duration": 13,
        "start_time": "2021-11-17T10:37:34.986Z"
      },
      {
        "duration": 581,
        "start_time": "2021-11-17T10:37:35.001Z"
      },
      {
        "duration": 29,
        "start_time": "2021-11-17T10:37:35.587Z"
      },
      {
        "duration": 12,
        "start_time": "2021-11-17T10:37:35.618Z"
      },
      {
        "duration": 15,
        "start_time": "2021-11-17T10:37:35.632Z"
      },
      {
        "duration": 38,
        "start_time": "2021-11-17T10:37:35.650Z"
      },
      {
        "duration": 10,
        "start_time": "2021-11-17T10:37:35.691Z"
      },
      {
        "duration": 10,
        "start_time": "2021-11-17T10:37:35.703Z"
      },
      {
        "duration": 24,
        "start_time": "2021-11-17T10:37:35.715Z"
      },
      {
        "duration": 25,
        "start_time": "2021-11-17T10:37:35.783Z"
      },
      {
        "duration": 12,
        "start_time": "2021-11-17T10:37:35.811Z"
      },
      {
        "duration": 357,
        "start_time": "2021-11-17T10:37:35.825Z"
      },
      {
        "duration": 343,
        "start_time": "2021-11-17T10:37:36.184Z"
      },
      {
        "duration": 373,
        "start_time": "2021-11-17T10:37:36.530Z"
      },
      {
        "duration": 383,
        "start_time": "2021-11-17T10:37:36.905Z"
      },
      {
        "duration": 338,
        "start_time": "2021-11-17T10:37:37.291Z"
      },
      {
        "duration": 356,
        "start_time": "2021-11-17T10:37:37.632Z"
      },
      {
        "duration": 382,
        "start_time": "2021-11-17T10:37:37.990Z"
      },
      {
        "duration": 32,
        "start_time": "2021-11-17T10:37:38.375Z"
      },
      {
        "duration": 286,
        "start_time": "2021-11-17T10:37:38.409Z"
      },
      {
        "duration": 7,
        "start_time": "2021-11-17T10:37:38.698Z"
      },
      {
        "duration": 25,
        "start_time": "2021-11-17T10:37:38.707Z"
      },
      {
        "duration": 6,
        "start_time": "2021-11-17T10:37:38.734Z"
      },
      {
        "duration": 738,
        "start_time": "2021-11-17T10:38:57.076Z"
      },
      {
        "duration": 299,
        "start_time": "2021-11-17T10:39:16.514Z"
      },
      {
        "duration": 288,
        "start_time": "2021-11-17T10:39:22.576Z"
      },
      {
        "duration": 299,
        "start_time": "2021-11-17T10:39:34.853Z"
      },
      {
        "duration": 1370,
        "start_time": "2021-11-17T10:39:42.481Z"
      },
      {
        "duration": 519,
        "start_time": "2021-11-17T10:39:43.854Z"
      },
      {
        "duration": 20,
        "start_time": "2021-11-17T10:39:44.375Z"
      },
      {
        "duration": 14,
        "start_time": "2021-11-17T10:39:44.398Z"
      },
      {
        "duration": 19,
        "start_time": "2021-11-17T10:39:44.414Z"
      },
      {
        "duration": 30,
        "start_time": "2021-11-17T10:39:44.436Z"
      },
      {
        "duration": 11,
        "start_time": "2021-11-17T10:39:44.483Z"
      },
      {
        "duration": 12,
        "start_time": "2021-11-17T10:39:44.498Z"
      },
      {
        "duration": 21,
        "start_time": "2021-11-17T10:39:44.513Z"
      },
      {
        "duration": 46,
        "start_time": "2021-11-17T10:39:44.537Z"
      },
      {
        "duration": 22,
        "start_time": "2021-11-17T10:39:44.586Z"
      },
      {
        "duration": 200,
        "start_time": "2021-11-17T10:39:44.611Z"
      },
      {
        "duration": 10,
        "start_time": "2021-11-17T10:39:44.813Z"
      },
      {
        "duration": 313,
        "start_time": "2021-11-17T10:39:44.825Z"
      },
      {
        "duration": 12,
        "start_time": "2021-11-17T10:39:45.141Z"
      },
      {
        "duration": 78,
        "start_time": "2021-11-17T10:39:45.156Z"
      },
      {
        "duration": 63,
        "start_time": "2021-11-17T10:39:45.236Z"
      },
      {
        "duration": 38,
        "start_time": "2021-11-17T10:39:45.301Z"
      },
      {
        "duration": 12,
        "start_time": "2021-11-17T10:39:45.342Z"
      },
      {
        "duration": 36,
        "start_time": "2021-11-17T10:39:45.357Z"
      },
      {
        "duration": 9,
        "start_time": "2021-11-17T10:39:45.396Z"
      },
      {
        "duration": 8,
        "start_time": "2021-11-17T10:39:45.409Z"
      },
      {
        "duration": 9,
        "start_time": "2021-11-17T10:39:45.427Z"
      },
      {
        "duration": 49,
        "start_time": "2021-11-17T10:39:45.441Z"
      },
      {
        "duration": 11,
        "start_time": "2021-11-17T10:39:45.493Z"
      },
      {
        "duration": 1198,
        "start_time": "2021-11-17T10:39:45.507Z"
      },
      {
        "duration": 28,
        "start_time": "2021-11-17T10:39:46.708Z"
      },
      {
        "duration": 10,
        "start_time": "2021-11-17T10:39:46.739Z"
      },
      {
        "duration": 37,
        "start_time": "2021-11-17T10:39:46.752Z"
      },
      {
        "duration": 15,
        "start_time": "2021-11-17T10:39:46.791Z"
      },
      {
        "duration": 10,
        "start_time": "2021-11-17T10:39:46.809Z"
      },
      {
        "duration": 10,
        "start_time": "2021-11-17T10:39:46.821Z"
      },
      {
        "duration": 63,
        "start_time": "2021-11-17T10:39:46.834Z"
      },
      {
        "duration": 18,
        "start_time": "2021-11-17T10:39:46.900Z"
      },
      {
        "duration": 10,
        "start_time": "2021-11-17T10:39:46.921Z"
      },
      {
        "duration": 369,
        "start_time": "2021-11-17T10:39:46.934Z"
      },
      {
        "duration": 345,
        "start_time": "2021-11-17T10:39:47.305Z"
      },
      {
        "duration": 466,
        "start_time": "2021-11-17T10:39:47.653Z"
      },
      {
        "duration": 385,
        "start_time": "2021-11-17T10:39:48.122Z"
      },
      {
        "duration": 331,
        "start_time": "2021-11-17T10:39:48.509Z"
      },
      {
        "duration": 351,
        "start_time": "2021-11-17T10:39:48.842Z"
      },
      {
        "duration": 383,
        "start_time": "2021-11-17T10:39:49.195Z"
      },
      {
        "duration": 19,
        "start_time": "2021-11-17T10:39:49.582Z"
      },
      {
        "duration": 445,
        "start_time": "2021-11-17T10:39:49.603Z"
      },
      {
        "duration": 9,
        "start_time": "2021-11-17T10:39:50.052Z"
      },
      {
        "duration": 35,
        "start_time": "2021-11-17T10:39:50.082Z"
      },
      {
        "duration": 15,
        "start_time": "2021-11-17T10:39:50.120Z"
      },
      {
        "duration": 1424,
        "start_time": "2021-11-17T17:27:34.272Z"
      },
      {
        "duration": 560,
        "start_time": "2021-11-17T17:27:35.698Z"
      },
      {
        "duration": 18,
        "start_time": "2021-11-17T17:27:36.261Z"
      },
      {
        "duration": 11,
        "start_time": "2021-11-17T17:27:36.282Z"
      },
      {
        "duration": 15,
        "start_time": "2021-11-17T17:27:36.295Z"
      },
      {
        "duration": 29,
        "start_time": "2021-11-17T17:27:36.313Z"
      },
      {
        "duration": 11,
        "start_time": "2021-11-17T17:27:36.344Z"
      },
      {
        "duration": 18,
        "start_time": "2021-11-17T17:27:36.359Z"
      },
      {
        "duration": 26,
        "start_time": "2021-11-17T17:27:36.400Z"
      },
      {
        "duration": 15,
        "start_time": "2021-11-17T17:27:36.428Z"
      },
      {
        "duration": 41,
        "start_time": "2021-11-17T17:27:36.445Z"
      },
      {
        "duration": 214,
        "start_time": "2021-11-17T17:27:36.488Z"
      },
      {
        "duration": 10,
        "start_time": "2021-11-17T17:27:36.705Z"
      },
      {
        "duration": 11,
        "start_time": "2021-11-17T17:27:36.718Z"
      },
      {
        "duration": 342,
        "start_time": "2021-11-17T17:27:36.732Z"
      },
      {
        "duration": 9,
        "start_time": "2021-11-17T17:27:37.076Z"
      },
      {
        "duration": 72,
        "start_time": "2021-11-17T17:27:37.087Z"
      },
      {
        "duration": 68,
        "start_time": "2021-11-17T17:27:37.161Z"
      },
      {
        "duration": 40,
        "start_time": "2021-11-17T17:27:37.231Z"
      },
      {
        "duration": 35,
        "start_time": "2021-11-17T17:27:37.273Z"
      },
      {
        "duration": 15,
        "start_time": "2021-11-17T17:27:37.311Z"
      },
      {
        "duration": 6,
        "start_time": "2021-11-17T17:27:37.329Z"
      },
      {
        "duration": 10,
        "start_time": "2021-11-17T17:27:37.340Z"
      },
      {
        "duration": 7,
        "start_time": "2021-11-17T17:27:37.353Z"
      },
      {
        "duration": 51,
        "start_time": "2021-11-17T17:27:37.363Z"
      },
      {
        "duration": 13,
        "start_time": "2021-11-17T17:27:37.417Z"
      },
      {
        "duration": 663,
        "start_time": "2021-11-17T17:27:37.432Z"
      },
      {
        "duration": 33,
        "start_time": "2021-11-17T17:27:38.101Z"
      },
      {
        "duration": 11,
        "start_time": "2021-11-17T17:27:38.136Z"
      },
      {
        "duration": 13,
        "start_time": "2021-11-17T17:27:38.149Z"
      },
      {
        "duration": 47,
        "start_time": "2021-11-17T17:27:38.164Z"
      },
      {
        "duration": 13,
        "start_time": "2021-11-17T17:27:38.214Z"
      },
      {
        "duration": 13,
        "start_time": "2021-11-17T17:27:38.230Z"
      },
      {
        "duration": 61,
        "start_time": "2021-11-17T17:27:38.245Z"
      },
      {
        "duration": 22,
        "start_time": "2021-11-17T17:27:38.308Z"
      },
      {
        "duration": 11,
        "start_time": "2021-11-17T17:27:38.333Z"
      },
      {
        "duration": 382,
        "start_time": "2021-11-17T17:27:38.347Z"
      },
      {
        "duration": 365,
        "start_time": "2021-11-17T17:27:38.732Z"
      },
      {
        "duration": 396,
        "start_time": "2021-11-17T17:27:39.101Z"
      },
      {
        "duration": 399,
        "start_time": "2021-11-17T17:27:39.501Z"
      },
      {
        "duration": 456,
        "start_time": "2021-11-17T17:27:39.903Z"
      },
      {
        "duration": 367,
        "start_time": "2021-11-17T17:27:40.361Z"
      },
      {
        "duration": 411,
        "start_time": "2021-11-17T17:27:40.731Z"
      },
      {
        "duration": 20,
        "start_time": "2021-11-17T17:27:41.145Z"
      },
      {
        "duration": 394,
        "start_time": "2021-11-17T17:27:41.167Z"
      },
      {
        "duration": 7,
        "start_time": "2021-11-17T17:27:41.564Z"
      },
      {
        "duration": 49,
        "start_time": "2021-11-17T17:27:41.573Z"
      },
      {
        "duration": 7,
        "start_time": "2021-11-17T17:27:41.625Z"
      },
      {
        "duration": 3444,
        "start_time": "2021-11-17T17:34:54.059Z"
      },
      {
        "duration": 231,
        "start_time": "2021-11-17T17:35:26.272Z"
      },
      {
        "duration": 367,
        "start_time": "2021-11-17T17:36:09.659Z"
      },
      {
        "duration": 319,
        "start_time": "2021-11-17T17:36:19.523Z"
      },
      {
        "duration": 354,
        "start_time": "2021-11-17T17:36:30.235Z"
      },
      {
        "duration": 341,
        "start_time": "2021-11-17T17:37:52.372Z"
      },
      {
        "duration": 468,
        "start_time": "2021-11-17T17:38:35.063Z"
      },
      {
        "duration": 373,
        "start_time": "2021-11-17T17:38:53.094Z"
      },
      {
        "duration": 664,
        "start_time": "2021-11-17T17:39:23.867Z"
      },
      {
        "duration": 354,
        "start_time": "2021-11-17T17:39:35.433Z"
      },
      {
        "duration": 386,
        "start_time": "2021-11-17T17:40:01.448Z"
      },
      {
        "duration": 367,
        "start_time": "2021-11-17T17:40:42.145Z"
      },
      {
        "duration": 389,
        "start_time": "2021-11-17T17:40:49.682Z"
      },
      {
        "duration": 6,
        "start_time": "2021-11-17T17:52:36.926Z"
      },
      {
        "duration": 6,
        "start_time": "2021-11-17T17:52:50.093Z"
      },
      {
        "duration": 6,
        "start_time": "2021-11-17T17:53:06.107Z"
      },
      {
        "duration": 8,
        "start_time": "2021-11-17T17:53:10.805Z"
      },
      {
        "duration": 352,
        "start_time": "2021-11-17T17:53:41.594Z"
      },
      {
        "duration": 8,
        "start_time": "2021-11-17T17:53:50.441Z"
      },
      {
        "duration": 9,
        "start_time": "2021-11-17T17:54:02.355Z"
      },
      {
        "duration": 1491,
        "start_time": "2021-11-17T18:01:03.882Z"
      },
      {
        "duration": 729,
        "start_time": "2021-11-17T18:01:05.375Z"
      },
      {
        "duration": 25,
        "start_time": "2021-11-17T18:01:06.108Z"
      },
      {
        "duration": 17,
        "start_time": "2021-11-17T18:01:06.136Z"
      },
      {
        "duration": 40,
        "start_time": "2021-11-17T18:01:06.161Z"
      },
      {
        "duration": 34,
        "start_time": "2021-11-17T18:01:06.205Z"
      },
      {
        "duration": 25,
        "start_time": "2021-11-17T18:01:06.242Z"
      },
      {
        "duration": 34,
        "start_time": "2021-11-17T18:01:06.271Z"
      },
      {
        "duration": 28,
        "start_time": "2021-11-17T18:01:06.310Z"
      },
      {
        "duration": 14,
        "start_time": "2021-11-17T18:01:06.340Z"
      },
      {
        "duration": 70,
        "start_time": "2021-11-17T18:01:06.357Z"
      },
      {
        "duration": 202,
        "start_time": "2021-11-17T18:01:06.430Z"
      },
      {
        "duration": 7,
        "start_time": "2021-11-17T18:01:06.634Z"
      },
      {
        "duration": 14,
        "start_time": "2021-11-17T18:01:06.643Z"
      },
      {
        "duration": 452,
        "start_time": "2021-11-17T18:01:06.659Z"
      },
      {
        "duration": 15,
        "start_time": "2021-11-17T18:01:07.115Z"
      },
      {
        "duration": 95,
        "start_time": "2021-11-17T18:01:07.132Z"
      },
      {
        "duration": 46,
        "start_time": "2021-11-17T18:01:07.229Z"
      },
      {
        "duration": 84,
        "start_time": "2021-11-17T18:01:07.278Z"
      },
      {
        "duration": 13,
        "start_time": "2021-11-17T18:01:07.365Z"
      },
      {
        "duration": 24,
        "start_time": "2021-11-17T18:01:07.380Z"
      },
      {
        "duration": 11,
        "start_time": "2021-11-17T18:01:07.407Z"
      },
      {
        "duration": 8,
        "start_time": "2021-11-17T18:01:07.427Z"
      },
      {
        "duration": 9,
        "start_time": "2021-11-17T18:01:07.439Z"
      },
      {
        "duration": 51,
        "start_time": "2021-11-17T18:01:07.450Z"
      },
      {
        "duration": 9,
        "start_time": "2021-11-17T18:01:07.504Z"
      },
      {
        "duration": 1312,
        "start_time": "2021-11-17T18:01:07.516Z"
      },
      {
        "duration": 33,
        "start_time": "2021-11-17T18:01:08.830Z"
      },
      {
        "duration": 57,
        "start_time": "2021-11-17T18:01:08.865Z"
      },
      {
        "duration": 19,
        "start_time": "2021-11-17T18:01:08.925Z"
      },
      {
        "duration": 12,
        "start_time": "2021-11-17T18:01:08.947Z"
      },
      {
        "duration": 11,
        "start_time": "2021-11-17T18:01:08.962Z"
      },
      {
        "duration": 36,
        "start_time": "2021-11-17T18:01:08.976Z"
      },
      {
        "duration": 21,
        "start_time": "2021-11-17T18:01:09.020Z"
      },
      {
        "duration": 19,
        "start_time": "2021-11-17T18:01:09.044Z"
      },
      {
        "duration": 16,
        "start_time": "2021-11-17T18:01:09.102Z"
      },
      {
        "duration": 369,
        "start_time": "2021-11-17T18:01:09.121Z"
      },
      {
        "duration": 356,
        "start_time": "2021-11-17T18:01:09.492Z"
      },
      {
        "duration": 395,
        "start_time": "2021-11-17T18:01:09.851Z"
      },
      {
        "duration": 414,
        "start_time": "2021-11-17T18:01:10.249Z"
      },
      {
        "duration": 378,
        "start_time": "2021-11-17T18:01:10.666Z"
      },
      {
        "duration": 480,
        "start_time": "2021-11-17T18:01:11.047Z"
      },
      {
        "duration": 424,
        "start_time": "2021-11-17T18:01:11.529Z"
      },
      {
        "duration": 397,
        "start_time": "2021-11-17T18:01:11.955Z"
      },
      {
        "duration": 435,
        "start_time": "2021-11-17T18:01:12.354Z"
      },
      {
        "duration": 31,
        "start_time": "2021-11-17T18:01:12.792Z"
      },
      {
        "duration": 629,
        "start_time": "2021-11-17T18:01:12.826Z"
      },
      {
        "duration": 9,
        "start_time": "2021-11-17T18:01:13.458Z"
      },
      {
        "duration": 53,
        "start_time": "2021-11-17T18:01:13.470Z"
      },
      {
        "duration": 10,
        "start_time": "2021-11-17T18:01:13.526Z"
      }
    ],
    "kernelspec": {
      "display_name": "Python 3 (ipykernel)",
      "language": "python",
      "name": "python3"
    },
    "language_info": {
      "codemirror_mode": {
        "name": "ipython",
        "version": 3
      },
      "file_extension": ".py",
      "mimetype": "text/x-python",
      "name": "python",
      "nbconvert_exporter": "python",
      "pygments_lexer": "ipython3",
      "version": "3.9.5"
    },
    "toc": {
      "base_numbering": 1,
      "nav_menu": {},
      "number_sections": true,
      "sideBar": true,
      "skip_h1_title": true,
      "title_cell": "Table of Contents",
      "title_sidebar": "Contents",
      "toc_cell": false,
      "toc_position": {},
      "toc_section_display": true,
      "toc_window_display": true
    },
    "colab": {
      "provenance": [],
      "collapsed_sections": [
        "xWAnbUiBTKP6",
        "I89RnaCuTKP-",
        "MpyCjClXTKP_"
      ]
    }
  },
  "nbformat": 4,
  "nbformat_minor": 0
}